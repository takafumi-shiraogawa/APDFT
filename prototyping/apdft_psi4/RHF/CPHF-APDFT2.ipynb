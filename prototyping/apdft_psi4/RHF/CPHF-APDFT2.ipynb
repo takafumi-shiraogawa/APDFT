{
 "cells": [
  {
   "cell_type": "code",
   "execution_count": 1,
   "metadata": {},
   "outputs": [],
   "source": [
    "import psi4\n",
    "import numpy as np\n",
    "np.set_printoptions(3, linewidth=100, suppress=True)    # when we inspect the vectors/matrices, use a prettier format for printing"
   ]
  },
  {
   "cell_type": "code",
   "execution_count": 2,
   "metadata": {},
   "outputs": [],
   "source": [
    "def deltaV(mol2,dl):\n",
    "    bs=psi4.core.BasisSet.build(mol2)\n",
    "    mints2= psi4.core.MintsHelper(bs)\n",
    "    V0=np.asarray(mints2.ao_potential())\n",
    "    for i in range(mol2.natom()):\n",
    "        mol2.set_nuclear_charge(i,mol2.charge(i)+dl[i])\n",
    "    V1f=np.asarray(mints2.ao_potential())\n",
    "    for i in range(mol2.natom()):\n",
    "        mol2.set_nuclear_charge(i,mol2.charge(i))\n",
    "    return (V1f-V0)"
   ]
  },
  {
   "cell_type": "markdown",
   "metadata": {
    "collapsed": true
   },
   "source": [
    "The geometry of the water molecule is set to a previously optimized one for the aug-cc-pVDZ basis. We use the keyword `symmetry c1` to tell Psi4 not to use the actual point group $C_{2v}$ in the computation: If Psi4 used symmetry, we would not be able to create correct matrices for use in `numpy`."
   ]
  },
  {
   "cell_type": "code",
   "execution_count": 7,
   "metadata": {},
   "outputs": [],
   "source": [
    "mol = psi4.geometry('''\n",
    "    C  0  0  0\n",
    "    O  0  0  1.1\n",
    "    symmetry c1\n",
    "''')\n",
    "psi4.set_options({'basis': 'sto-3G'})"
   ]
  },
  {
   "cell_type": "markdown",
   "metadata": {},
   "source": [
    "We are now ready to run the SCF cycle to converge the wavefunction. By telling Psi4 to `return_wfn=True`, we get back the converged wavefunction from which we can extract the pertinent matrices. We print out the energy such that we can compare it against a pre-computed reference. It needs not exactly match the reference, slight variations are OK."
   ]
  },
  {
   "cell_type": "code",
   "execution_count": 8,
   "metadata": {},
   "outputs": [
    {
     "name": "stdout",
     "output_type": "stream",
     "text": [
      "SCF Energy: -111.21922150738187\n"
     ]
    }
   ],
   "source": [
    "scf_energy, wfn = psi4.energy('SCF', return_wfn=True)\n",
    "print('SCF Energy: {}'.format(scf_energy))  "
   ]
  },
  {
   "cell_type": "code",
   "execution_count": 9,
   "metadata": {},
   "outputs": [],
   "source": [
    "C = np.asarray(wfn.Ca())  #mo coefficients"
   ]
  },
  {
   "cell_type": "code",
   "execution_count": 10,
   "metadata": {},
   "outputs": [],
   "source": [
    "F = np.asarray(wfn.Fa())    # Fa=Fb for RHF\n",
    "F = np.dot(C.T, F).dot(C)  # To MO"
   ]
  },
  {
   "cell_type": "code",
   "execution_count": 11,
   "metadata": {},
   "outputs": [],
   "source": [
    "mints = psi4.core.MintsHelper(wfn.basisset())  #integral helper"
   ]
  },
  {
   "cell_type": "code",
   "execution_count": 12,
   "metadata": {},
   "outputs": [],
   "source": [
    "I = np.asarray(mints.ao_eri())   # 2e repulsion integrals "
   ]
  },
  {
   "cell_type": "code",
   "execution_count": 13,
   "metadata": {},
   "outputs": [],
   "source": [
    "# transform to mo(so in psi4 terms)\n",
    "g_pqrs = np.einsum('pqrs,pt->tqrs', I, C, optimize=True)\n",
    "g_pqrs = np.einsum('pqrs,qt->ptrs', g_pqrs, C, optimize=True)\n",
    "g_pqrs = np.einsum('pqrs,rt->pqts', g_pqrs, C, optimize=True)\n",
    "g_pqrs = np.einsum('pqrs,st->pqrt', g_pqrs, C, optimize=True)"
   ]
  },
  {
   "cell_type": "markdown",
   "metadata": {},
   "source": [
    "We are now ready to build the orbital rotation matrices $\\mathbf{A}$ and $\\mathbf{B}$. Recall from above that\n",
    "\n",
    "\\begin{align}\n",
    "    A_{iajb} &= \\delta_{ij} F_{ab} - \\delta_{ab} F_{ij} + 2 g_{aijb} - g_{jiab}\n",
    "\\end{align}\n",
    "\n",
    "The Kronecker deltas are represented by a unit matrix `numpy.eye(...)` which has the same shape as the molecular Fock matrix."
   ]
  },
  {
   "cell_type": "code",
   "execution_count": 14,
   "metadata": {},
   "outputs": [],
   "source": [
    "A = np.einsum('ij,ab->iajb', np.eye(F.shape[0]), F, optimize=True)\n",
    "A -= np.einsum('ab,ij->iajb', np.eye(F.shape[0]), F, optimize=True)\n",
    "A += 2 * np.einsum('aijb->iajb', g_pqrs, optimize=True)\n",
    "A -= np.einsum('jiab->iajb', g_pqrs, optimize=True)"
   ]
  },
  {
   "cell_type": "markdown",
   "metadata": {},
   "source": [
    "The $\\mathbf{B}$ matrix is computed from\n",
    "\n",
    "\\begin{align}\n",
    "    B_{iajb} &= 2 g_{aijb} - g_{ajbi}\n",
    "\\end{align}\n",
    "\n",
    "and thus only contains contributions from the electron repulsion integrals."
   ]
  },
  {
   "cell_type": "code",
   "execution_count": 15,
   "metadata": {},
   "outputs": [],
   "source": [
    "B = 2 * np.einsum('aijb->iajb', g_pqrs, optimize=True)\n",
    "B -= np.einsum('ajbi->iajb', g_pqrs, optimize=True)"
   ]
  },
  {
   "cell_type": "markdown",
   "metadata": {},
   "source": [
    "The electronic Hessian is then simply the sum of these two matrices. When searching the literature, keep in mind that some authors defined their $\\mathbf{B}$ with the opposite sign. For them, the Hessian will be the difference of both orbital rotation matrices."
   ]
  },
  {
   "cell_type": "code",
   "execution_count": 16,
   "metadata": {},
   "outputs": [],
   "source": [
    "H = A + B"
   ]
  },
  {
   "cell_type": "markdown",
   "metadata": {},
   "source": [
    "Actually, we do not need the full Hessian, only the parts where the inactive and active orbitals contribute are of importance (see also Helgaker, sections 10.1.2 and 10.2.2). Therefore, we will now aim to extract the relevant parts of the Hessian. We already hinted at this by using the indices $i,j$ for inactive and $a,b$ for virtual orbitals in the definition of the Hessian.\n",
    "\n",
    "For this, we need to know the number of number of basis functions = number of MOs, the number of doubly occupied orbitals (for RHF, identical to the number of electrons with $\\alpha$ spin as all are paired) and the number of virtual orbitals. The number of rotable orbitals, i.e. the possible combinations of inactive and active orbitals, can then be computed by simple multiplication."
   ]
  },
  {
   "cell_type": "code",
   "execution_count": 17,
   "metadata": {},
   "outputs": [],
   "source": [
    "nbf = wfn.nmo()\n",
    "ndocc = wfn.nalpha()\n",
    "nvirt = nbf - ndocc\n",
    "nrot = ndocc * nvirt"
   ]
  },
  {
   "cell_type": "markdown",
   "metadata": {},
   "source": [
    "The elements in the Hessian are sorted, the inactive orbitals come first and the virtual ones second. Therefore, the number of doubly occupied orbitals is the boundary between both, so that we can use `ndocc` for slicing. Remember that we need to slice such that we get\n",
    "\n",
    "\\begin{align}\n",
    "    H_{iajb}\n",
    "\\end{align}\n",
    "\n",
    "Finally, to bring the Hessian into matrix form for `numpy.linalg.solve`, we reshape it to be of 'number of rotable' $\\times$ 'number of rotable' orbitals."
   ]
  },
  {
   "cell_type": "code",
   "execution_count": 18,
   "metadata": {},
   "outputs": [],
   "source": [
    "H = H[:ndocc, ndocc:, :ndocc, ndocc:]\n",
    "H = H.reshape(nrot, nrot)"
   ]
  },
  {
   "cell_type": "markdown",
   "metadata": {},
   "source": [
    "We now have everything in place except for the perturbations themselves! These dipole tensors are computed by the `MintsHelper` instance and subsequently scaled by $-2$ to account for the doubly occupied orbitals."
   ]
  },
  {
   "cell_type": "markdown",
   "metadata": {},
   "source": [
    "# ADD HERE THE ALCHEMICAL PERTURBATION !!!!!!!!!!!!!!!!!!!!!!!!!"
   ]
  },
  {
   "cell_type": "code",
   "execution_count": 19,
   "metadata": {},
   "outputs": [],
   "source": [
    "V=np.asarray(mints.ao_potential())\n",
    "mol.set_nuclear_charge(0,7.0)  #C->N\n",
    "mol.set_nuclear_charge(1,7.0)  # O->N\n",
    "V1=np.asarray(mints.ao_potential())\n",
    "mol.set_nuclear_charge(0,6.0)\n",
    "mol.set_nuclear_charge(1,8.0)\n",
    "dV=V1-V"
   ]
  },
  {
   "cell_type": "code",
   "execution_count": 20,
   "metadata": {},
   "outputs": [],
   "source": [
    "P = np.asarray(wfn.Da())  # 1e DM"
   ]
  },
  {
   "cell_type": "code",
   "execution_count": 21,
   "metadata": {},
   "outputs": [
    {
     "data": {
      "text/plain": [
       "6.340160873184406"
      ]
     },
     "execution_count": 21,
     "metadata": {},
     "output_type": "execute_result"
    }
   ],
   "source": [
    "np.einsum('ij,ij',P,2*dV) # *2 is for RHF, is the EPN  APDFT1 deriv"
   ]
  },
  {
   "cell_type": "code",
   "execution_count": 16,
   "metadata": {},
   "outputs": [],
   "source": [
    "#tmp_tensors = mints.so_dipole()     # get the tensors in the spin-orbital basis\n",
    "dipole_tensors = []\n",
    "for tensor in tmp_tensors:\n",
    "    tensor.scale(-2)    # use the correct prefactor\n",
    "    dipole_tensors.append(np.asarray(tensor))   # convert psi4's internal tensors to a numpy vector\n",
    "for i in range(len(dipole_tensors)):\n",
    "    dipole_tensors[i] = np.dot(C.T, dipole_tensors[i]).dot(C)    #to mo\n",
    "    dipole_tensors[i] = dipole_tensors[i][:ndocc, ndocc:].ravel()  #ravelled for the solver"
   ]
  },
  {
   "cell_type": "code",
   "execution_count": 52,
   "metadata": {},
   "outputs": [],
   "source": [
    "# Overwrite with the alchemical pertubation\n",
    "dV_mo=np.dot(C.T, dV).dot(C)* 2  # important -2 for RHF\n",
    "dipole_tensors=[dV_mo[:ndocc, ndocc:].ravel() ]   # overlap dipole tensor with apdft perturbation"
   ]
  },
  {
   "cell_type": "markdown",
   "metadata": {},
   "source": [
    "We are finally ready to solve the linear response equations! For each perturbation, solve\n",
    "\n",
    "\\begin{align}\n",
    "    H_{ia,jb} x_{jb} &= -f_{ia}\n",
    "\\end{align}\n",
    "\n",
    "and store the resultant responses in `responses`."
   ]
  },
  {
   "cell_type": "code",
   "execution_count": 53,
   "metadata": {},
   "outputs": [],
   "source": [
    "responses = []\n",
    "for perturbation in dipole_tensors:\n",
    "    responses.append(np.linalg.solve(H, -perturbation))"
   ]
  },
  {
   "cell_type": "markdown",
   "metadata": {},
   "source": [
    "The static polarizability tensor can be computed by dotting the perturbation vectors with the reponse vectors.\n",
    "\n",
    "\\begin{align}\n",
    "    \\alpha_{ij} &= - \\mathbf{f}_i \\mathbf{x}_j\n",
    "\\end{align}\n",
    "\n",
    "This is exactly how the polarizability tensor is usually defined: It tells us how the system responds in $i$-direction to a perturbation along $j$."
   ]
  },
  {
   "cell_type": "code",
   "execution_count": 54,
   "metadata": {},
   "outputs": [],
   "source": [
    "#from pyscf\n",
    "U=np.array([[ 0.00000000e+00,  0.00000000e+00,  0.00000000e+00,\n",
    "         0.00000000e+00,  0.00000000e+00,  0.00000000e+00,\n",
    "         0.00000000e+00,  3.93433594e-17, -1.57981413e-17,\n",
    "         2.48052311e-02],\n",
    "       [ 0.00000000e+00,  0.00000000e+00,  0.00000000e+00,\n",
    "         0.00000000e+00,  0.00000000e+00,  0.00000000e+00,\n",
    "         0.00000000e+00,  7.48935576e-17, -6.63967033e-18,\n",
    "         2.97452931e-02],\n",
    "       [ 0.00000000e+00,  0.00000000e+00,  0.00000000e+00,\n",
    "         0.00000000e+00,  0.00000000e+00,  0.00000000e+00,\n",
    "         0.00000000e+00, -3.94562190e-16,  5.46338024e-17,\n",
    "        -1.42529802e-01],\n",
    "       [ 0.00000000e+00,  0.00000000e+00,  0.00000000e+00,\n",
    "         0.00000000e+00,  0.00000000e+00,  0.00000000e+00,\n",
    "         0.00000000e+00, -1.13585752e-15,  9.76951215e-17,\n",
    "         6.97260553e-02],\n",
    "       [ 0.00000000e+00,  0.00000000e+00,  0.00000000e+00,\n",
    "         0.00000000e+00,  0.00000000e+00,  0.00000000e+00,\n",
    "         0.00000000e+00, -3.47947427e-01, -4.16764621e-03,\n",
    "        -3.16709712e-16],\n",
    "       [ 0.00000000e+00,  0.00000000e+00,  0.00000000e+00,\n",
    "         0.00000000e+00,  0.00000000e+00,  0.00000000e+00,\n",
    "         0.00000000e+00,  4.16764621e-03, -3.47947427e-01,\n",
    "        -4.61062817e-17],\n",
    "       [ 0.00000000e+00,  0.00000000e+00,  0.00000000e+00,\n",
    "         0.00000000e+00,  0.00000000e+00,  0.00000000e+00,\n",
    "         0.00000000e+00, -3.82058304e-15,  1.06302473e-15,\n",
    "         6.11298241e-02],\n",
    "       [-3.93433594e-17, -7.48935576e-17,  3.94562190e-16,\n",
    "         1.13585752e-15,  3.47947427e-01, -4.16764621e-03,\n",
    "         3.82058304e-15,  0.00000000e+00,  0.00000000e+00,\n",
    "         0.00000000e+00],\n",
    "       [ 1.57981413e-17,  6.63967033e-18, -5.46338024e-17,\n",
    "        -9.76951215e-17,  4.16764621e-03,  3.47947427e-01,\n",
    "        -1.06302473e-15,  0.00000000e+00,  0.00000000e+00,\n",
    "         0.00000000e+00],\n",
    "       [-2.48052311e-02, -2.97452931e-02,  1.42529802e-01,\n",
    "        -6.97260553e-02,  3.16709712e-16,  4.61062817e-17,\n",
    "        -6.11298241e-02,  0.00000000e+00,  0.00000000e+00,\n",
    "         0.00000000e+00]])"
   ]
  },
  {
   "cell_type": "code",
   "execution_count": 55,
   "metadata": {},
   "outputs": [
    {
     "data": {
      "text/plain": [
       "(array([ 0.   , -0.   , -0.05 , -0.   , -0.   ,  0.059, -0.   ,  0.   ,  0.285, -0.   ,  0.   ,\n",
       "         0.139,  0.   ,  0.696, -0.   ,  0.696, -0.   ,  0.   , -0.   , -0.   , -0.122]),\n",
       " 21)"
      ]
     },
     "execution_count": 55,
     "metadata": {},
     "output_type": "execute_result"
    }
   ],
   "source": [
    "responses[0],len(responses[0]) #len = 21 (7occ*3vir)"
   ]
  },
  {
   "cell_type": "code",
   "execution_count": 56,
   "metadata": {
    "scrolled": false
   },
   "outputs": [
    {
     "data": {
      "text/plain": [
       "array([ 0.   , -0.   ,  0.025,  0.   , -0.   ,  0.03 , -0.   ,  0.   , -0.143, -0.   ,  0.   ,\n",
       "        0.07 , -0.348, -0.004, -0.   ,  0.004, -0.348, -0.   , -0.   ,  0.   ,  0.061])"
      ]
     },
     "execution_count": 56,
     "metadata": {},
     "output_type": "execute_result"
    }
   ],
   "source": [
    "U[:ndocc, ndocc:].ravel()"
   ]
  },
  {
   "cell_type": "code",
   "execution_count": 57,
   "metadata": {},
   "outputs": [
    {
     "data": {
      "text/plain": [
       "-1.9958869778638308"
      ]
     },
     "execution_count": 57,
     "metadata": {},
     "output_type": "execute_result"
    }
   ],
   "source": [
    "np.dot(dV_mo[:ndocc, ndocc:].ravel(), responses[0])"
   ]
  },
  {
   "cell_type": "code",
   "execution_count": 59,
   "metadata": {},
   "outputs": [],
   "source": [
    "polarizabilities = np.zeros((3, 3))\n",
    "for i in range(1):\n",
    "    for j in range(1):\n",
    "        polarizabilities[i, j] = np.dot(dipole_tensors[i], responses[j])"
   ]
  },
  {
   "cell_type": "code",
   "execution_count": 60,
   "metadata": {},
   "outputs": [
    {
     "name": "stdout",
     "output_type": "stream",
     "text": [
      "[[-1.996  0.     0.   ]\n",
      " [ 0.     0.     0.   ]\n",
      " [ 0.     0.     0.   ]]\n"
     ]
    }
   ],
   "source": [
    "print(polarizabilities)"
   ]
  },
  {
   "cell_type": "markdown",
   "metadata": {},
   "source": [
    "## References\n",
    "\n",
    "Trygve Helgaker, Poul Jørgensen, Jeppe Olsen, _Molecular Electronic-Structure Theory_ (John Wiley & Sons, Chichester, 2000). Available in digital form at [doi:10.1002/9781119019572](https://doi.org/10.1002/9781119019572).\n",
    "\n",
    "Julien Toulouse, _Introduction to the calculation of molecular properties by response theory_, lecture notes for a class given at the Université Pierre et Marie Curie, 2017. Last accessed on March 11, 2017 at [http://www.lct.jussieu.fr/pagesperso/toulouse/enseignement/molecular_properties.pdf](http://www.lct.jussieu.fr/pagesperso/toulouse/enseignement/molecular_properties.pdf).\n",
    "\n",
    "Trygve Helgaker, _Time-independent molecular properties_, lecture at the 13th Sostrup Summer School Quantum Chemistry and Molecular Properties, 2014. Last accessed on March 11, 2017 at [http://folk.uio.no/helgaker/talks/SostrupTI_14.pdf](http://folk.uio.no/helgaker/talks/SostrupTI_14.pdf).\n",
    "\n",
    "Poul Jørgensen, _Molecular and Atomic Applications of Time-Dependent Hartree-Fock Theory_, Annual Review of Physical Chemistry __26__, 359-380 (1975). Available in digital form at [doi:10.1146/annurev.pc.26.100175.002043](https://doi.org/10.1146/annurev.pc.26.100175.002043)."
   ]
  }
 ],
 "metadata": {
  "anaconda-cloud": {},
  "kernelspec": {
   "display_name": "Python 3",
   "language": "python",
   "name": "python3"
  },
  "language_info": {
   "codemirror_mode": {
    "name": "ipython",
    "version": 3
   },
   "file_extension": ".py",
   "mimetype": "text/x-python",
   "name": "python",
   "nbconvert_exporter": "python",
   "pygments_lexer": "ipython3",
   "version": "3.5.6"
  }
 },
 "nbformat": 4,
 "nbformat_minor": 2
}
