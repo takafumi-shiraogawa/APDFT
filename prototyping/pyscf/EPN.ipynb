{
 "cells": [
  {
   "cell_type": "code",
   "execution_count": 4,
   "metadata": {},
   "outputs": [
    {
     "name": "stdout",
     "output_type": "stream",
     "text": [
      "TOTAL_ENERGY -110.87228414355512\n",
      "ELECTRONIC_EPN 0 22.05821306726308\n",
      "ELECTRONIC_EPN 1 22.058213067243333\n",
      "ELECTRONIC_DIPOLE -1.0216068762760736e-16 5.107565601205023e-16 -2.8524668738150183e-11\n",
      "IONIC_FORCE 0 -3.4775784682472555e-16 2.345129299086146e-16 1.6506560952444391\n",
      "IONIC_FORCE 1 4.0549161250957866e-16 -4.731458280726741e-16 -1.6506560953390026\n",
      "ELECTRONIC_QUADRUPOLE 0 0 -14.394307823742592\n",
      "ELECTRONIC_QUADRUPOLE 0 1 5.759281940243e-16\n",
      "ELECTRONIC_QUADRUPOLE 0 2 2.8796409701215e-16\n",
      "ELECTRONIC_QUADRUPOLE 1 1 -14.394307823742594\n",
      "ELECTRONIC_QUADRUPOLE 1 2 8.049116928532385e-16\n",
      "ELECTRONIC_QUADRUPOLE 2 2 28.788615647485184\n"
     ]
    }
   ],
   "source": [
    "import numpy as np\n",
    "import numpy\n",
    "import pyscf\n",
    "import pyscf.gto\n",
    "import pyscf.qmmm\n",
    "import pyscf.scf\n",
    "import pyscf.dft\n",
    "import pyscf.lib\n",
    "from pyscf.data import nist\n",
    "import matplotlib.pyplot as plt\n",
    "import basis_set_exchange as bse\n",
    "angstrom = 1 / 0.52917721067\n",
    "\n",
    "mol = pyscf.gto.Mole()\n",
    "mol.atom = 'N 0 0 0.; N 0 0 1.'\n",
    "mol.basis = {'N': bse.get_basis('6-31G', 'N', fmt='nwchem')}\n",
    "mol.verbose = 0\n",
    "mol.build()\n",
    "\n",
    "deltaZ = np.array((0.05,0.05))\n",
    "includeonly = [0, 1]\n",
    "\n",
    "calc = pyscf.scf.RHF(mol)\n",
    "\n",
    "mf = pyscf.qmmm.mm_charge(calc, mol.atom_coords()/angstrom, deltaZ)\n",
    "class NoSelfQMMM(mf.__class__):\n",
    "    def energy_nuc(self):\n",
    "        q = mol.atom_charges().astype(np.float)\n",
    "        q[includeonly] += deltaZ\n",
    "        return mol.energy_nuc(q)\n",
    "mf = NoSelfQMMM()\n",
    "\n",
    "hfe=mf.kernel(verbose=0)\n",
    "mycc = pyscf.cc.CCSD(mf).run()\n",
    "dm1 = mycc.make_rdm1()\n",
    "dm1_ao = np.einsum('pi,ij,qj->pq', mf.mo_coeff, dm1, mf.mo_coeff.conj())\n",
    "\n",
    "# GRIDLESS, as things should be ############################\n",
    "# Total energy of SCF run\n",
    "print ('TOTAL_ENERGY', mycc.e_tot)\n",
    "\n",
    "# Electronic EPN from electron density\n",
    "for site in includeonly:\n",
    "    mol.set_rinv_orig_(mol.atom_coords()[site])\n",
    "    print ('ELECTRONIC_EPN', site, np.matmul(dm1_ao, mol.intor('int1e_rinv')).trace())\n",
    "\n",
    "# Electronic Dipole w.r.t to center of geometry\n",
    "with mol.with_common_orig(mol.atom_coords().mean(axis=0)):\n",
    "    ao_dip = mol.intor_symmetric('int1e_r', comp=3)\n",
    "dipole = numpy.einsum('xij,ji->x', ao_dip, dm1_ao).real\n",
    "print ('ELECTRONIC_DIPOLE', *dipole)\n",
    "\n",
    "# GRID, as things were #####################################\n",
    "grid = pyscf.dft.gen_grid.Grids(mol)\n",
    "grid.level = 3\n",
    "grid.build()\n",
    "ao_value = pyscf.dft.numint.eval_ao(mol, grid.coords, deriv=0)\n",
    "rho = pyscf.dft.numint.eval_rho(mol, ao_value, dm1_ao, xctype='LDA')\n",
    "\n",
    "# Ionic Forces\n",
    "for site in includeonly:\n",
    "    rvec = grid.coords - mol.atom_coords()[site]\n",
    "    force = [(rho*grid.weights * rvec[:, _] / np.linalg.norm(rvec, axis=1)**3).sum() for _ in range(3)]\n",
    "    print ('IONIC_FORCE', site, *force)\n",
    "\n",
    "# Quadrupole moments\n",
    "rs = grid.coords - mol.atom_coords().mean(axis=0)\n",
    "ds = np.linalg.norm(rs, axis=1)**2\n",
    "#Q = np.zeros((3,3))\n",
    "for i in range(3):\n",
    "    for j in range(i, 3):\n",
    "        q = 3*rs[:, i]*rs[:, j]\n",
    "        if i == j:\n",
    "            q -= ds\n",
    "        print ('ELECTRONIC_QUADRUPOLE', i, j, (rho * q * grid.weights).sum())"
   ]
  },
  {
   "cell_type": "code",
   "execution_count": 23,
   "metadata": {},
   "outputs": [],
   "source": [
    "# grid comparison\n",
    "def get_grid(mol):\n",
    "    grid = pyscf.dft.gen_grid.Grids(mol)\n",
    "    grid.level = 3\n",
    "    grid.build()\n",
    "    return grid.coords, grid.weights\n",
    "gridcoords, gridweights = get_grid(mol)"
   ]
  },
  {
   "cell_type": "code",
   "execution_count": 24,
   "metadata": {},
   "outputs": [],
   "source": [
    "ao_value = pyscf.dft.numint.eval_ao(mol, gridcoords, deriv=0)"
   ]
  },
  {
   "cell_type": "code",
   "execution_count": 25,
   "metadata": {},
   "outputs": [],
   "source": [
    "rho = pyscf.dft.numint.eval_rho(mol, ao_value, dm1_ao, xctype='LDA')"
   ]
  },
  {
   "cell_type": "code",
   "execution_count": 30,
   "metadata": {},
   "outputs": [
    {
     "name": "stdout",
     "output_type": "stream",
     "text": [
      "22.058212704965612\n",
      "22.058212704945873\n"
     ]
    }
   ],
   "source": [
    "def epn_grid(gridcoords, gridweights, rho, mol):\n",
    "    for site in range(2):\n",
    "        ds = np.linalg.norm(gridcoords - mol.atom_coords()[site], axis=1)\n",
    "        print ((rho * gridweights/ds).sum())\n",
    "epn_grid(gridcoords, gridweights, rho,mol)"
   ]
  },
  {
   "cell_type": "code",
   "execution_count": 37,
   "metadata": {},
   "outputs": [
    {
     "name": "stdout",
     "output_type": "stream",
     "text": [
      "[1.1779856604055006e-16, 1.5157146371347352e-16, 1.6506560950760947]\n",
      "[-1.9125326322644298e-16, -5.314759049523943e-16, -1.6506560951706524]\n"
     ]
    }
   ],
   "source": [
    "def force_grid(gridcoords, gridweights, rho, mol):\n",
    "    for site in range(2):\n",
    "        rvec = gridcoords - mol.atom_coords()[site]\n",
    "        print ([(rho*gridweights * rvec[:, _] / np.linalg.norm(rvec, axis=1)**3).sum() for _ in range(3)])\n",
    "force_grid(gridcoords, gridweights, rho,mol)"
   ]
  },
  {
   "cell_type": "code",
   "execution_count": 79,
   "metadata": {},
   "outputs": [
    {
     "name": "stdout",
     "output_type": "stream",
     "text": [
      "[-4.7704895589362195e-17, 1.7867651802561113e-16, -2.850253366659672e-11]\n"
     ]
    }
   ],
   "source": [
    "def dipole_grid(gridcoords, gridweights, rho, mol):\n",
    "    rvec = gridcoords - mol.atom_coords().mean(axis=0)\n",
    "    print ([(rho*gridweights*rvec[:, _]).sum() for _ in range(3)])\n",
    "dipole_grid(gridcoords, gridweights, rho, mol)"
   ]
  },
  {
   "cell_type": "code",
   "execution_count": 78,
   "metadata": {},
   "outputs": [
    {
     "data": {
      "text/plain": [
       "array([-6.56183119e-17,  2.01711059e-16, -2.85000079e-11])"
      ]
     },
     "execution_count": 78,
     "metadata": {},
     "output_type": "execute_result"
    }
   ],
   "source": [
    "def dipole_dm(mol, dm):\n",
    "    with mol.with_common_orig(mol.atom_coords().mean(axis=0)):\n",
    "        ao_dip = mol.intor_symmetric('int1e_r', comp=3)\n",
    "    return numpy.einsum('xij,ji->x', ao_dip, dm).real\n",
    "dipole_dm(mol, dm1_ao)"
   ]
  },
  {
   "cell_type": "code",
   "execution_count": 95,
   "metadata": {},
   "outputs": [],
   "source": [
    "def quadrupole_grid(gridcoords, gridweights, rho, mol):\n",
    "    rs = gridcoords - mol.atom_coords().mean(axis=0)\n",
    "    ds = np.linalg.norm(rs, axis=1)**2\n",
    "    Q = np.zeros((3,3))\n",
    "    for i in range(3):\n",
    "        for j in range(3):\n",
    "            q = 3*rs[:, i]*rs[:, j]\n",
    "            if i == j:\n",
    "                q -= ds\n",
    "            Q[i, j] = (rho * q * gridweights).sum()\n",
    "            # nuclei\n",
    "            #for site in (0, 1):\n",
    "            #    r = mol.atom_coords()[site]- mol.atom_coords().mean(axis=0)\n",
    "            #    Q[i, j] += 7*((3*r[i] * r[j]) - int(i==j) * np.linalg.norm(r)**2)\n",
    "    return Q\n",
    "q = quadrupole_grid(gridcoords, gridweights, rho, mol)"
   ]
  },
  {
   "cell_type": "code",
   "execution_count": 96,
   "metadata": {},
   "outputs": [
    {
     "data": {
      "text/plain": [
       "array([[-1.43943078e+01, -9.43689571e-16,  8.46545056e-16],\n",
       "       [ 0.00000000e+00, -1.43943078e+01,  2.94902991e-16],\n",
       "       [ 0.00000000e+00,  0.00000000e+00,  2.87886156e+01]])"
      ]
     },
     "execution_count": 96,
     "metadata": {},
     "output_type": "execute_result"
    }
   ],
   "source": [
    "np.triu(q)"
   ]
  },
  {
   "cell_type": "code",
   "execution_count": 65,
   "metadata": {},
   "outputs": [],
   "source": [
    "# MWE\n",
    "import pyscf.gto\n",
    "import pyscf.scf\n",
    "import pyscf.dft\n",
    "import numpy as np\n",
    "class ElectronicEPN(object):\n",
    "    def __init__(self):\n",
    "        mol = pyscf.gto.Mole(atom='H 0 0 0.; H 1. 0 0', basis='6-31G', verbose=0)\n",
    "        mol.build()\n",
    "        calc = pyscf.scf.RHF(mol)\n",
    "        calc.kernel()\n",
    "        self._dm = calc.make_rdm1()\n",
    "        self._mol = mol\n",
    "    \n",
    "    def query(self, pos):\n",
    "        pos = np.array([pos,0,0])\n",
    "        self._mol.set_rinv_orig_(pos)\n",
    "        return np.matmul(self._dm, self._mol.intor(\"int1e_rinv\")).trace()\n",
    "    \n",
    "    def density(self, pos):\n",
    "        pos = np.array([[pos,0,0]])\n",
    "        ao_value = pyscf.dft.numint.eval_ao(self._mol, pos, deriv=0)\n",
    "        rho = pyscf.dft.numint.eval_rho(self._mol, ao_value, self._dm, xctype=\"LDA\")\n",
    "        return rho[0]"
   ]
  },
  {
   "cell_type": "code",
   "execution_count": 66,
   "metadata": {},
   "outputs": [],
   "source": [
    "e = ElectronicEPN()"
   ]
  },
  {
   "cell_type": "code",
   "execution_count": 75,
   "metadata": {},
   "outputs": [],
   "source": [
    "xs = np.linspace(-10, 10, 1000)\n",
    "ys = [e.density(_) for _ in xs]"
   ]
  },
  {
   "cell_type": "code",
   "execution_count": 76,
   "metadata": {},
   "outputs": [],
   "source": [
    "import matplotlib.pyplot as plt"
   ]
  },
  {
   "cell_type": "code",
   "execution_count": 77,
   "metadata": {},
   "outputs": [
    {
     "data": {
      "text/plain": [
       "[<matplotlib.lines.Line2D at 0x7f6b536bdcf8>]"
      ]
     },
     "execution_count": 77,
     "metadata": {},
     "output_type": "execute_result"
    },
    {
     "data": {
      "image/png": "[encoded data removed]",
      "text/plain": [
       "<Figure size 432x288 with 1 Axes>"
      ]
     },
     "metadata": {
      "needs_background": "light"
     },
     "output_type": "display_data"
    }
   ],
   "source": [
    "plt.plot(xs, ys)"
   ]
  },
  {
   "cell_type": "code",
   "execution_count": 61,
   "metadata": {},
   "outputs": [],
   "source": [
    "import scipy.ndimage.filters as scf"
   ]
  },
  {
   "cell_type": "code",
   "execution_count": 73,
   "metadata": {},
   "outputs": [],
   "source": [
    "p = scf.laplace(ys)"
   ]
  },
  {
   "cell_type": "code",
   "execution_count": 74,
   "metadata": {},
   "outputs": [
    {
     "data": {
      "text/plain": [
       "[<matplotlib.lines.Line2D at 0x7f6b5373eba8>]"
      ]
     },
     "execution_count": 74,
     "metadata": {},
     "output_type": "execute_result"
    },
    {
     "data": {
      "image/png": "[encoded data removed]",
      "text/plain": [
       "<Figure size 432x288 with 1 Axes>"
      ]
     },
     "metadata": {
      "needs_background": "light"
     },
     "output_type": "display_data"
    }
   ],
   "source": [
    "plt.plot(xs[1:-1], -p[1:-1])"
   ]
  },
  {
   "cell_type": "code",
   "execution_count": 81,
   "metadata": {},
   "outputs": [],
   "source": [
    "def do_1d_epn(xs, den):\n",
    "    epn = []\n",
    "    for x in xs:\n",
    "        d = 1. / np.abs(xs-x)\n",
    "        d[~np.isfinite(d)] = 0\n",
    "        epn.append((den * d).sum())\n",
    "    return epn"
   ]
  },
  {
   "cell_type": "code",
   "execution_count": 82,
   "metadata": {},
   "outputs": [
    {
     "name": "stderr",
     "output_type": "stream",
     "text": [
      "/home/guido/miniconda3/envs/analysis/lib/python3.6/site-packages/ipykernel_launcher.py:4: RuntimeWarning: divide by zero encountered in true_divide\n",
      "  after removing the cwd from sys.path.\n"
     ]
    }
   ],
   "source": [
    "epn = do_1d_epn(xs, ys)"
   ]
  },
  {
   "cell_type": "code",
   "execution_count": 84,
   "metadata": {},
   "outputs": [
    {
     "data": {
      "text/plain": [
       "[<matplotlib.lines.Line2D at 0x7f6b53565320>]"
      ]
     },
     "execution_count": 84,
     "metadata": {},
     "output_type": "execute_result"
    },
    {
     "data": {
      "image/png": "[encoded data removed]",
      "text/plain": [
       "<Figure size 432x288 with 1 Axes>"
      ]
     },
     "metadata": {
      "needs_background": "light"
     },
     "output_type": "display_data"
    }
   ],
   "source": [
    "#p = scf.laplace(ys)\n",
    "plt.plot(xs, scf.laplace(epn))"
   ]
  },
  {
   "cell_type": "code",
   "execution_count": null,
   "metadata": {},
   "outputs": [],
   "source": []
  }
 ],
 "metadata": {
  "kernelspec": {
   "display_name": "Python [conda env:analysis]",
   "language": "python",
   "name": "conda-env-analysis-py"
  },
  "language_info": {
   "codemirror_mode": {
    "name": "ipython",
    "version": 3
   },
   "file_extension": ".py",
   "mimetype": "text/x-python",
   "name": "python",
   "nbconvert_exporter": "python",
   "pygments_lexer": "ipython3",
   "version": "3.6.8"
  }
 },
 "nbformat": 4,
 "nbformat_minor": 4
}
