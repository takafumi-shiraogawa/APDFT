{
 "cells": [
  {
   "cell_type": "code",
   "execution_count": 1,
   "metadata": {},
   "outputs": [],
   "source": [
    "import pyscf\n",
    "import pyscf.tools\n",
    "import pyscf.cc\n",
    "import pyscf.qmmm\n",
    "from pyscf import lib\n",
    "from pyscf import gto\n",
    "from pyscf import df\n",
    "from pyscf import scf\n",
    "from pyscf import mcscf\n",
    "from pyscf import grad\n",
    "from pyscf.lib import logger\n",
    "import pyscf.lib\n",
    "import numpy as np\n",
    "import numpy\n",
    "import matplotlib.pyplot as plt"
   ]
  },
  {
   "cell_type": "code",
   "execution_count": 2,
   "metadata": {},
   "outputs": [],
   "source": [
    "def N2(lval):\n",
    "    mol = pyscf.gto.M(atom='N 0 0 1.1; N 0 0 0', basis='6-31G', verbose=3) #NN\n",
    "    deltaZ = np.array((-lval, lval))\n",
    "    mf = pyscf.qmmm.mm_charge(pyscf.scf.RHF(mol), mol.atom_coords()/1.889725989, deltaZ)\n",
    "    class NoSelfQMMM(mf.__class__):\n",
    "        def energy_nuc(self):\n",
    "            return self.mol.energy_nuc()\n",
    "    mf = NoSelfQMMM()\n",
    "    return mf.kernel()\n",
    "def N2_only():\n",
    "    mol = pyscf.gto.M(atom='N 0 0 0; N 0 0 1.1', basis='6-31G')\n",
    "    mf = pyscf.scf.RHF(mol)\n",
    "    return mf.kernel()\n",
    "def CO_only():\n",
    "    mol = pyscf.gto.M(atom='C 0 0 0; O 0 0 1.1', basis='6-31G')\n",
    "    mf = pyscf.scf.RHF(mol)\n",
    "    return mf.kernel()"
   ]
  },
  {
   "cell_type": "code",
   "execution_count": 3,
   "metadata": {},
   "outputs": [
    {
     "name": "stdout",
     "output_type": "stream",
     "text": [
      "converged SCF energy = -110.32128618578\n",
      "converged SCF energy = -109.740135696464\n",
      "converged SCF energy = -109.310317650035\n",
      "converged SCF energy = -109.026428386537\n",
      "converged SCF energy = -108.885233714204\n",
      "converged SCF energy = -108.885233759947\n",
      "converged SCF energy = -109.026428523951\n",
      "converged SCF energy = -109.310317879668\n",
      "converged SCF energy = -109.740136019191\n",
      "converged SCF energy = -110.321286602758\n"
     ]
    }
   ],
   "source": [
    "lvals = np.linspace(-1, 1, 10)\n",
    "Es = [N2(_) for _ in lvals]"
   ]
  },
  {
   "cell_type": "code",
   "execution_count": 4,
   "metadata": {},
   "outputs": [
    {
     "name": "stdout",
     "output_type": "stream",
     "text": [
      "converged SCF energy = -108.867618373058\n",
      "converged SCF energy = -112.664778326694\n"
     ]
    },
    {
     "data": {
      "text/plain": [
       "<matplotlib.lines.Line2D at 0x7fd820614ef0>"
      ]
     },
     "execution_count": 4,
     "metadata": {},
     "output_type": "execute_result"
    },
    {
     "data": {
      "image/png": "[encoded data removed]",
      "text/plain": [
       "<Figure size 432x288 with 1 Axes>"
      ]
     },
     "metadata": {
      "needs_background": "light"
     },
     "output_type": "display_data"
    }
   ],
   "source": [
    "plt.plot(lvals, Es, 'o-')\n",
    "plt.axhline(N2_only())\n",
    "plt.axhline(CO_only(), color='red')"
   ]
  },
  {
   "cell_type": "code",
   "execution_count": null,
   "metadata": {},
   "outputs": [],
   "source": []
  },
  {
   "cell_type": "code",
   "execution_count": null,
   "metadata": {},
   "outputs": [],
   "source": []
  }
 ],
 "metadata": {
  "kernelspec": {
   "display_name": "Python 3",
   "language": "python",
   "name": "python3"
  },
  "language_info": {
   "codemirror_mode": {
    "name": "ipython",
    "version": 3
   },
   "file_extension": ".py",
   "mimetype": "text/x-python",
   "name": "python",
   "nbconvert_exporter": "python",
   "pygments_lexer": "ipython3",
   "version": "3.6.8"
  }
 },
 "nbformat": 4,
 "nbformat_minor": 2
}
