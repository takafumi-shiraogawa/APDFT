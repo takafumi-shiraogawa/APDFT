{
 "cells": [
  {
   "cell_type": "code",
   "execution_count": 2,
   "metadata": {},
   "outputs": [],
   "source": [
    "import pyscf\n",
    "from pyscf.scf import RHF\n",
    "import numpy as np\n",
    "import matplotlib.pyplot as plt\n",
    "import scipy"
   ]
  },
  {
   "cell_type": "code",
   "execution_count": 3,
   "metadata": {},
   "outputs": [],
   "source": [
    "bf=pyscf.gto.M(atom='B 0 0 0;F 0 0 1.1',basis='sto-3G')"
   ]
  },
  {
   "cell_type": "code",
   "execution_count": 4,
   "metadata": {},
   "outputs": [
    {
     "name": "stdout",
     "output_type": "stream",
     "text": [
      "converged SCF energy = -122.32048686918\n"
     ]
    },
    {
     "data": {
      "text/plain": [
       "-122.32048686918029"
      ]
     },
     "execution_count": 4,
     "metadata": {},
     "output_type": "execute_result"
    }
   ],
   "source": [
    "mf=RHF(bf)\n",
    "mf.kernel()"
   ]
  },
  {
   "cell_type": "code",
   "execution_count": 5,
   "metadata": {},
   "outputs": [],
   "source": [
    "S=mf.get_ovlp()\n",
    "C=mf.mo_coeff\n",
    "O1=mf.mo_occ\n",
    "O=np.diag(O1)\n",
    "P=mf.make_rdm1()"
   ]
  },
  {
   "cell_type": "code",
   "execution_count": 6,
   "metadata": {},
   "outputs": [
    {
     "data": {
      "text/plain": [
       "array([[ True,  True,  True,  True,  True,  True,  True,  True,  True,\n",
       "         True],\n",
       "       [ True,  True,  True,  True,  True,  True,  True,  True,  True,\n",
       "         True],\n",
       "       [ True,  True,  True,  True,  True,  True,  True,  True,  True,\n",
       "         True],\n",
       "       [ True,  True,  True,  True,  True,  True,  True,  True,  True,\n",
       "         True],\n",
       "       [ True,  True,  True,  True,  True,  True,  True,  True,  True,\n",
       "         True],\n",
       "       [ True,  True,  True,  True,  True,  True,  True,  True,  True,\n",
       "         True],\n",
       "       [ True,  True,  True,  True,  True,  True,  True,  True,  True,\n",
       "         True],\n",
       "       [ True,  True,  True,  True,  True,  True,  True,  True,  True,\n",
       "         True],\n",
       "       [ True,  True,  True,  True,  True,  True,  True,  True,  True,\n",
       "         True],\n",
       "       [ True,  True,  True,  True,  True,  True,  True,  True,  True,\n",
       "         True]])"
      ]
     },
     "execution_count": 6,
     "metadata": {},
     "output_type": "execute_result"
    }
   ],
   "source": [
    "# P = COC+\n",
    "P==np.dot(C,np.dot(O,C.T))"
   ]
  },
  {
   "cell_type": "code",
   "execution_count": 7,
   "metadata": {},
   "outputs": [
    {
     "data": {
      "text/plain": [
       "<matplotlib.image.AxesImage at 0x7f718d9844a8>"
      ]
     },
     "execution_count": 7,
     "metadata": {},
     "output_type": "execute_result"
    },
    {
     "data": {
      "image/png": "[encoded data removed]",
      "text/plain": [
       "<Figure size 288x288 with 1 Axes>"
      ]
     },
     "metadata": {
      "needs_background": "light"
     },
     "output_type": "display_data"
    }
   ],
   "source": [
    "# C+SC= Id.\n",
    "plt.matshow(np.dot(C.T,np.dot(S,C)))"
   ]
  },
  {
   "cell_type": "code",
   "execution_count": 8,
   "metadata": {},
   "outputs": [
    {
     "data": {
      "text/plain": [
       "3.852330602011621e-15"
      ]
     },
     "execution_count": 8,
     "metadata": {},
     "output_type": "execute_result"
    }
   ],
   "source": [
    "#PSC=CO\n",
    "PSC=np.dot(P,np.dot(S,C))\n",
    "CO=np.dot(C,O)\n",
    "np.linalg.norm(abs(PSC-CO))"
   ]
  },
  {
   "cell_type": "code",
   "execution_count": 9,
   "metadata": {},
   "outputs": [
    {
     "data": {
      "text/plain": [
       "<matplotlib.image.AxesImage at 0x7f718d906fd0>"
      ]
     },
     "execution_count": 9,
     "metadata": {},
     "output_type": "execute_result"
    },
    {
     "data": {
      "image/png": "[encoded data removed]",
      "text/plain": [
       "<Figure size 288x288 with 1 Axes>"
      ]
     },
     "metadata": {
      "needs_background": "light"
     },
     "output_type": "display_data"
    }
   ],
   "source": [
    "#print(C)\n",
    "plt.matshow(C)"
   ]
  },
  {
   "cell_type": "code",
   "execution_count": 14,
   "metadata": {
    "scrolled": true
   },
   "outputs": [
    {
     "data": {
      "image/png": "[encoded data removed]",
      "text/plain": [
       "<Figure size 288x288 with 1 Axes>"
      ]
     },
     "metadata": {
      "needs_background": "light"
     },
     "output_type": "display_data"
    },
    {
     "name": "stdout",
     "output_type": "stream",
     "text": [
      "[ 0.00000000e+00  2.00000000e+00  2.00000000e+00  2.00000000e+00\n",
      "  2.00000000e+00 -7.47891133e-17  4.28722472e-16  2.00000000e+00\n",
      "  2.00000000e+00  2.00000000e+00]\n"
     ]
    },
    {
     "data": {
      "image/png": "[encoded data removed]",
      "text/plain": [
       "<Figure size 288x288 with 1 Axes>"
      ]
     },
     "metadata": {
      "needs_background": "light"
     },
     "output_type": "display_data"
    }
   ],
   "source": [
    "PS=np.dot(P,S)\n",
    "plt.matshow(PS)\n",
    "plt.title('-PS-',size=25)\n",
    "plt.show()\n",
    "print(np.linalg.eig(PS)[0])\n",
    "plt.matshow(np.linalg.eig(PS)[1])\n",
    "plt.title('eigenvalues of PS',size=25)\n",
    "plt.show()"
   ]
  },
  {
   "cell_type": "markdown",
   "metadata": {},
   "source": [
    "Unfortunatly the orbitals are random rotated due to the degenercy in orbital occupation, the other possible way to get the Coefficient matrix is to build the Fock matrix from the density matrix and than diagonalize (S-1 F)"
   ]
  },
  {
   "cell_type": "code",
   "execution_count": 10,
   "metadata": {},
   "outputs": [
    {
     "name": "stdout",
     "output_type": "stream",
     "text": [
      "['DIIS', '__class__', '__delattr__', '__dict__', '__dir__', '__doc__', '__eq__', '__format__', '__ge__', '__getattribute__', '__gt__', '__hash__', '__init__', '__init_subclass__', '__le__', '__lt__', '__module__', '__ne__', '__new__', '__reduce__', '__reduce_ex__', '__repr__', '__setattr__', '__sizeof__', '__str__', '__subclasshook__', '__weakref__', '_chkfile', '_eigh', '_eri', '_finalize', '_is_mem_enough', '_keys', '_t0', '_w0', 'analyze', 'apply', 'as_scanner', 'build', 'callback', 'canonicalize', 'check_convergence', 'check_sanity', 'chkfile', 'conv_check', 'conv_tol', 'conv_tol_grad', 'converged', 'convert_from_', 'damp', 'damp_factor', 'density_fit', 'diis', 'diis_file', 'diis_space', 'diis_space_rollback', 'diis_start_cycle', 'dip_moment', 'direct_scf', 'direct_scf_tol', 'dump_chk', 'dump_flags', 'e_tot', 'eig', 'energy_elec', 'energy_nuc', 'energy_tot', 'from_chk', 'get_fock', 'get_grad', 'get_hcore', 'get_init_guess', 'get_j', 'get_jk', 'get_k', 'get_occ', 'get_ovlp', 'get_veff', 'hf_energy', 'init_direct_scf', 'init_guess', 'init_guess_by_1e', 'init_guess_by_atom', 'init_guess_by_chkfile', 'init_guess_by_minao', 'kernel', 'level_shift', 'level_shift_factor', 'make_rdm1', 'max_cycle', 'max_memory', 'mo_coeff', 'mo_energy', 'mo_occ', 'mol', 'mulliken_meta', 'mulliken_pop', 'mulliken_pop_meta_lowdin_ao', 'newton', 'nuc_grad_method', 'opt', 'pop', 'post_kernel', 'pre_kernel', 'run', 'scf', 'set', 'sfx2c1e', 'spin_square', 'stability', 'stdout', 'to_ghf', 'to_rhf', 'to_uhf', 'update', 'update_', 'update_from_chk', 'update_from_chk_', 'verbose', 'view', 'x2c', 'x2c1e']\n"
     ]
    }
   ],
   "source": [
    "print (dir(mf))"
   ]
  },
  {
   "cell_type": "code",
   "execution_count": 11,
   "metadata": {},
   "outputs": [
    {
     "name": "stdout",
     "output_type": "stream",
     "text": [
      "Help on method get_fock in module pyscf.scf.hf:\n",
      "\n",
      "get_fock(h1e=None, s1e=None, vhf=None, dm=None, cycle=-1, diis=None, diis_start_cycle=None, level_shift_factor=None, damp_factor=None) method of pyscf.scf.hf.RHF instance\n",
      "    F = h^{core} + V^{HF}\n",
      "    \n",
      "    Special treatment (damping, DIIS, or level shift) will be applied to the\n",
      "    Fock matrix if diis and cycle is specified (The two parameters are passed\n",
      "    to get_fock function during the SCF iteration)\n",
      "    \n",
      "    Kwargs:\n",
      "        h1e : 2D ndarray\n",
      "            Core hamiltonian\n",
      "        s1e : 2D ndarray\n",
      "            Overlap matrix, for DIIS\n",
      "        vhf : 2D ndarray\n",
      "            HF potential matrix\n",
      "        dm : 2D ndarray\n",
      "            Density matrix, for DIIS\n",
      "        cycle : int\n",
      "            Then present SCF iteration step, for DIIS\n",
      "        diis : an object of :attr:`SCF.DIIS` class\n",
      "            DIIS object to hold intermediate Fock and error vectors\n",
      "        diis_start_cycle : int\n",
      "            The step to start DIIS.  Default is 0.\n",
      "        level_shift_factor : float or int\n",
      "            Level shift (in AU) for virtual space.  Default is 0.\n",
      "\n"
     ]
    }
   ],
   "source": [
    "help(mf.get_fock)"
   ]
  },
  {
   "cell_type": "code",
   "execution_count": 12,
   "metadata": {},
   "outputs": [
    {
     "name": "stdout",
     "output_type": "stream",
     "text": [
      "Help on method get_veff in module pyscf.scf.hf:\n",
      "\n",
      "get_veff(mol=None, dm=None, dm_last=0, vhf_last=0, hermi=1) method of pyscf.scf.hf.RHF instance\n",
      "    Hartree-Fock potential matrix for the given density matrix\n",
      "    \n",
      "    Args:\n",
      "        mol : an instance of :class:`Mole`\n",
      "    \n",
      "        dm : ndarray or list of ndarrays\n",
      "            A density matrix or a list of density matrices\n",
      "    \n",
      "    Kwargs:\n",
      "        dm_last : ndarray or a list of ndarrays or 0\n",
      "            The density matrix baseline.  If not 0, this function computes the\n",
      "            increment of HF potential w.r.t. the reference HF potential matrix.\n",
      "        vhf_last : ndarray or a list of ndarrays or 0\n",
      "            The reference HF potential matrix.\n",
      "        hermi : int\n",
      "            Whether J, K matrix is hermitian\n",
      "    \n",
      "            | 0 : no hermitian or symmetric\n",
      "            | 1 : hermitian\n",
      "            | 2 : anti-hermitian\n",
      "    \n",
      "        vhfopt :\n",
      "            A class which holds precomputed quantities to optimize the\n",
      "            computation of J, K matrices\n",
      "    \n",
      "    Returns:\n",
      "        matrix Vhf = 2*J - K.  Vhf can be a list matrices, corresponding to the\n",
      "        input density matrices.\n",
      "    \n",
      "    Examples:\n",
      "    \n",
      "    >>> import numpy\n",
      "    >>> from pyscf import gto, scf\n",
      "    >>> from pyscf.scf import _vhf\n",
      "    >>> mol = gto.M(atom='H 0 0 0; H 0 0 1.1')\n",
      "    >>> dm0 = numpy.random.random((mol.nao_nr(),mol.nao_nr()))\n",
      "    >>> vhf0 = scf.hf.get_veff(mol, dm0, hermi=0)\n",
      "    >>> dm1 = numpy.random.random((mol.nao_nr(),mol.nao_nr()))\n",
      "    >>> vhf1 = scf.hf.get_veff(mol, dm1, hermi=0)\n",
      "    >>> vhf2 = scf.hf.get_veff(mol, dm1, dm_last=dm0, vhf_last=vhf0, hermi=0)\n",
      "    >>> numpy.allclose(vhf1, vhf2)\n",
      "    True\n",
      "\n"
     ]
    }
   ],
   "source": [
    "help(mf.get_veff)"
   ]
  },
  {
   "cell_type": "code",
   "execution_count": 50,
   "metadata": {},
   "outputs": [
    {
     "data": {
      "text/plain": [
       "True"
      ]
     },
     "execution_count": 50,
     "metadata": {},
     "output_type": "execute_result"
    }
   ],
   "source": [
    "F=mf.get_fock(dm=P,cycle=0)\n",
    "F1=mf.get_fock()\n",
    "np.allclose(F1,F)"
   ]
  },
  {
   "cell_type": "code",
   "execution_count": 86,
   "metadata": {},
   "outputs": [],
   "source": [
    "def eig(h, s):\n",
    "    '''Solver for generalized eigenvalue problem\n",
    "    .. math:: HC = SCE\n",
    "    '''\n",
    "    e, c = scipy.linalg.eigh(h, s)\n",
    "    idx = np.argmax(abs(c.real), axis=0)\n",
    "    c[:,c[idx,np.arange(len(e))].real<0] *= -1\n",
    "    return e, c"
   ]
  },
  {
   "cell_type": "markdown",
   "metadata": {},
   "source": []
  },
  {
   "cell_type": "code",
   "execution_count": 110,
   "metadata": {},
   "outputs": [
    {
     "name": "stdout",
     "output_type": "stream",
     "text": [
      "[-26.13753306  -7.34319943  -1.69205608  -0.75462838  -0.66617451\n",
      "  -0.66617451  -0.26963446   0.37829511   0.37829511   0.95979697]\n",
      "[-26.13753332  -7.34319938  -1.69205618  -0.75462856  -0.66617458\n",
      "  -0.66617458  -0.26963444   0.37829511   0.37829511   0.95979694]\n"
     ]
    },
    {
     "data": {
      "text/plain": [
       "2.9161056457924097"
      ]
     },
     "execution_count": 110,
     "metadata": {},
     "output_type": "execute_result"
    },
    {
     "data": {
      "image/png": "[encoded data removed]",
      "text/plain": [
       "<Figure size 288x288 with 1 Axes>"
      ]
     },
     "metadata": {
      "needs_background": "light"
     },
     "output_type": "display_data"
    }
   ],
   "source": [
    "e,C1=eig(F1,S)\n",
    "C=mf.mo_coeff\n",
    "print(e)\n",
    "print(mf.mo_energy)\n",
    "plt.matshow(C1-C)\n",
    "np.linalg.norm(C1-C)\n",
    "#column 4,5 and 7,8 are degenerate, so may be  random rottion of those coefficients"
   ]
  },
  {
   "cell_type": "code",
   "execution_count": 120,
   "metadata": {},
   "outputs": [
    {
     "name": "stdout",
     "output_type": "stream",
     "text": [
      "8.812631460377715e-07\n",
      "[[ 2.99492253e-09 -2.57763706e-08  2.21952232e-16 -2.72149623e-16\n",
      "  -2.06314313e-09 -1.54992483e-09  1.11161476e-08 -1.24404379e-16\n",
      "   1.04421326e-16 -3.67013745e-08]\n",
      " [-2.57763706e-08  2.17573549e-07 -1.06724207e-15  1.12101851e-15\n",
      "   5.44708487e-08  1.53496038e-08 -1.15214257e-07  4.03260251e-16\n",
      "  -4.47159809e-16  2.94356433e-07]\n",
      " [ 2.21952232e-16 -1.06724207e-15  5.54906143e-08  5.56846236e-16\n",
      "   5.68408570e-16  1.03401468e-16  4.99894794e-16  8.01889499e-08\n",
      "   7.23379689e-16 -5.10861499e-16]\n",
      " [-2.72149623e-16  1.12101851e-15  5.56846236e-16  5.54906151e-08\n",
      "  -3.98633670e-16  6.78855056e-16 -1.29636437e-15  1.13450915e-15\n",
      "   8.01889509e-08 -2.74744886e-16]\n",
      " [-2.06314313e-09  5.44708487e-08  5.68408570e-16 -3.98633670e-16\n",
      "  -3.13817909e-07 -1.61896905e-08  1.60127620e-07 -2.77054308e-16\n",
      "   4.00334872e-16  2.10071120e-07]\n",
      " [-1.54992483e-09  1.53496038e-08  1.03401468e-16  6.78855056e-16\n",
      "  -1.61896905e-08 -1.42623247e-10  3.43240547e-09  8.65976315e-17\n",
      "   3.61455575e-17  2.91096459e-08]\n",
      " [ 1.11161476e-08 -1.15214257e-07  4.99894794e-16 -1.29636437e-15\n",
      "   1.60127620e-07  3.43240547e-09 -4.80439057e-08 -1.67373535e-16\n",
      "   2.58513679e-16 -2.34576417e-07]\n",
      " [-1.24404379e-16  4.03260251e-16  8.01889499e-08  1.13450915e-15\n",
      "  -2.77054308e-16  8.65976315e-17 -1.67373535e-16 -9.39758960e-08\n",
      "  -9.02056208e-17 -1.91368042e-16]\n",
      " [ 1.04421326e-16 -4.47159809e-16  7.23379689e-16  8.01889509e-08\n",
      "   4.00334872e-16  3.61455575e-17  2.58513679e-16 -9.02056208e-17\n",
      "  -9.39758980e-08 -7.50281676e-17]\n",
      " [-3.67013745e-08  2.94356433e-07 -5.10861499e-16 -2.74744886e-16\n",
      "   2.10071120e-07  2.91096459e-08 -2.34576417e-07 -1.91368042e-16\n",
      "  -7.50281676e-17  3.41438553e-07]]\n",
      "[1.0, 0.9999999999999994, 0.9999999999999996, 1.0000000000000002, 1.0, 1.0000000000000004, 1.0000000000000007, 1.0000000000000002, 0.9999999999999997, 1.0000000000000002]\n"
     ]
    },
    {
     "data": {
      "text/plain": [
       "<matplotlib.image.AxesImage at 0x7fe643b6f9e8>"
      ]
     },
     "execution_count": 120,
     "metadata": {},
     "output_type": "execute_result"
    },
    {
     "data": {
      "image/png": "[encoded data removed]",
      "text/plain": [
       "<Figure size 288x288 with 1 Axes>"
      ]
     },
     "metadata": {
      "needs_background": "light"
     },
     "output_type": "display_data"
    }
   ],
   "source": [
    "#still C1 leads to ortonormal orbitals and  C1 gives P\n",
    "print(np.linalg.norm(P-np.dot(C1,np.dot(O,C1.T))))\n",
    "print(P-np.dot(C1,np.dot(O,C1.T)))\n",
    "print([np.dot(C1.T,np.dot(S,C1))[i][i] for i in range(10)])\n",
    "plt.matshow(np.dot(C1.T,np.dot(S,C1)))\n"
   ]
  },
  {
   "cell_type": "code",
   "execution_count": 109,
   "metadata": {},
   "outputs": [
    {
     "data": {
      "text/plain": [
       "0.45264978723340105"
      ]
     },
     "execution_count": 109,
     "metadata": {},
     "output_type": "execute_result"
    },
    {
     "data": {
      "image/png": "[encoded data removed]",
      "text/plain": [
       "<Figure size 288x288 with 1 Axes>"
      ]
     },
     "metadata": {
      "needs_background": "light"
     },
     "output_type": "display_data"
    }
   ],
   "source": [
    "#projection is not suitable\n",
    "e,C1=eig(F1,S)\n",
    "C=mf.mo_coeff\n",
    "C=C.T;C1=C1.T\n",
    "#for i in range(10):\n",
    "#    print(i,np.linalg.norm(C[i]-C1[i]))\n",
    "#print(np.linalg.norm(C[4]),np.linalg.norm(C[5]),np.linalg.norm(C1[4]),np.linalg.norm(C1[5]))\n",
    "c4=np.linalg.norm(np.dot(C[4],C1[4])/np.linalg.norm(C[4]))*C1[4]+np.linalg.norm(np.dot(C[4],C1[5])/np.linalg.norm(C[4]))*C1[5]\n",
    "c5=np.linalg.norm(np.dot(C[5],C1[4])/np.linalg.norm(C[5]))*C1[4]+np.linalg.norm(np.dot(C[5],C1[5])/np.linalg.norm(C[5]))*C1[5]\n",
    "C1[4],C1[5]=c4,c5\n",
    "\n",
    "c7=np.linalg.norm(np.dot(C[7],C1[7])/np.linalg.norm(C[7]))*C1[7]+np.linalg.norm(np.dot(C[7],C1[8])/np.linalg.norm(C[7]))*C1[8]\n",
    "c8=np.linalg.norm(np.dot(C[8],C1[7])/np.linalg.norm(C[8]))*C1[7]+np.linalg.norm(np.dot(C[8],C1[8])/np.linalg.norm(C[8]))*C1[8]\n",
    "C1[7],C1[8]=c7,c8\n",
    "plt.matshow(C1-C)\n",
    "np.linalg.norm(C1-C)"
   ]
  },
  {
   "cell_type": "code",
   "execution_count": 130,
   "metadata": {},
   "outputs": [
    {
     "name": "stdout",
     "output_type": "stream",
     "text": [
      "monoelettronic enegy =  -212.8418110223995\n",
      "Bielettronic enegy =  68.87694125335658\n",
      "the sum of those two equals =  -143.96486976904293 -143.96486976904293\n",
      "Total number of electrons=  13.995409751535782\n"
     ]
    }
   ],
   "source": [
    "#some function\n",
    "dm=mf.make_rdm1()\n",
    "h1=mf.get_hcore()\n",
    "h2=mf.get_veff()\n",
    "S=mf.get_ovlp()\n",
    "\n",
    "print ('monoelettronic enegy = ',np.einsum('ij,ji',h1,dm))\n",
    "print ('Bielettronic enegy = ',np.einsum('ij,ji',h2,dm)/2)\n",
    "print ('the sum of those two equals = ',mf.energy_elec()[0],mf.energy_tot()-mf.energy_nuc())\n",
    "print('Total number of electrons= ',np.einsum('ij,ji',S,dm))"
   ]
  },
  {
   "cell_type": "code",
   "execution_count": 133,
   "metadata": {},
   "outputs": [
    {
     "name": "stdout",
     "output_type": "stream",
     "text": [
      "converged SCF energy = -124.128936903062\n"
     ]
    }
   ],
   "source": [
    "#use dm to make prediction \n",
    "BF=pyscf.gto.M(atom='B 0 0 0;F 0 0 1.1',basis='def2-TZVP')\n",
    "bfhf=RHF(BF)\n",
    "bfhf.kernel()\n",
    "CO=pyscf.gto.M(atom='C 0 0 0;O 0 0 1.1',basis='def2-TZVP')\n",
    "cohf=RHF(CO)"
   ]
  },
  {
   "cell_type": "code",
   "execution_count": 134,
   "metadata": {},
   "outputs": [
    {
     "name": "stdout",
     "output_type": "stream",
     "text": [
      "difference in num_electrons= 14.062779696481613\n",
      "monoelettronic enegy =  -200.9528035751584\n",
      "Bielettronic enegy =  65.94689045357934\n",
      "converged SCF energy = -112.787127600436\n",
      "Total energy =  -112.78712760043595 -111.91454391779723\n"
     ]
    }
   ],
   "source": [
    "dm=bfhf.make_rdm1()\n",
    "h1=cohf.get_hcore()\n",
    "h2=cohf.get_veff(dm=dm)\n",
    "S=cohf.get_ovlp()\n",
    "\n",
    "num_e=np.einsum('ij,ji',S,dm)\n",
    "print ('difference in num_electrons=',num_e)\n",
    "dm*=14/num_e\n",
    "\n",
    "mee=np.einsum('ij,ji',h1,dm)\n",
    "bee=np.einsum('ij,ji',h2,dm)/2\n",
    "print ('monoelettronic enegy = ',mee)\n",
    "print ('Bielettronic enegy = ',bee)\n",
    "\n",
    "print('Total energy = ', cohf.kernel(),mee+bee+cohf.energy_nuc())"
   ]
  },
  {
   "cell_type": "code",
   "execution_count": 135,
   "metadata": {},
   "outputs": [],
   "source": [
    "#use dm to make prediction \n",
    "NN=pyscf.gto.M(atom='N 0 0 0;N 0 0 1.1',basis='def2-TZVP')\n",
    "nnhf=RHF(NN)"
   ]
  },
  {
   "cell_type": "code",
   "execution_count": 136,
   "metadata": {},
   "outputs": [
    {
     "name": "stdout",
     "output_type": "stream",
     "text": [
      "difference in num_electrons= 14.028817180782516\n",
      "monoelettronic enegy =  -194.245704683455\n",
      "Bielettronic enegy =  63.23297671826145\n",
      "converged SCF energy = -108.9876382454\n",
      "Total energy =  -108.98763824539971 -107.44028856966627\n"
     ]
    }
   ],
   "source": [
    "dm=bfhf.make_rdm1()\n",
    "h1=nnhf.get_hcore()\n",
    "h2=nnhf.get_veff(dm=dm)\n",
    "S=nnhf.get_ovlp()\n",
    "\n",
    "num_e=np.einsum('ij,ji',S,dm)\n",
    "print ('difference in num_electrons=',num_e)\n",
    "dm*=14/num_e\n",
    "\n",
    "mee=np.einsum('ij,ji',h1,dm)\n",
    "bee=np.einsum('ij,ji',h2,dm)/2\n",
    "print ('monoelettronic enegy = ',mee)\n",
    "print ('Bielettronic enegy = ',bee)\n",
    "\n",
    "print('Total energy = ', nnhf.kernel(),mee+bee+nnhf.energy_nuc())"
   ]
  },
  {
   "cell_type": "code",
   "execution_count": null,
   "metadata": {},
   "outputs": [],
   "source": []
  }
 ],
 "metadata": {
  "kernelspec": {
   "display_name": "Python 3",
   "language": "python",
   "name": "python3"
  },
  "language_info": {
   "codemirror_mode": {
    "name": "ipython",
    "version": 3
   },
   "file_extension": ".py",
   "mimetype": "text/x-python",
   "name": "python",
   "nbconvert_exporter": "python",
   "pygments_lexer": "ipython3",
   "version": "3.6.8"
  }
 },
 "nbformat": 4,
 "nbformat_minor": 2
}
