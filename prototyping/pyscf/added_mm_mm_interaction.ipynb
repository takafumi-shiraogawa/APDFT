{
 "cells": [
  {
   "cell_type": "code",
   "execution_count": 1,
   "metadata": {},
   "outputs": [],
   "source": [
    "import pyscf\n",
    "import pyscf.tools\n",
    "import pyscf.cc\n",
    "import pyscf.qmmm\n",
    "from pyscf import lib\n",
    "from pyscf import gto\n",
    "from pyscf import df\n",
    "from pyscf import scf\n",
    "from pyscf import mcscf\n",
    "from pyscf import grad\n",
    "from pyscf.lib import logger\n",
    "from pyscf.scf import RHF\n",
    "import pyscf.lib\n",
    "import numpy as np\n",
    "import numpy\n",
    "import matplotlib.pyplot as plt"
   ]
  },
  {
   "cell_type": "code",
   "execution_count": 2,
   "metadata": {},
   "outputs": [],
   "source": [
    "angstrom=1.889725989"
   ]
  },
  {
   "cell_type": "code",
   "execution_count": 6,
   "metadata": {},
   "outputs": [],
   "source": [
    "def N2(lval):\n",
    "    mol = pyscf.gto.M(atom='N 0 0 1.1; N 0 0 0', basis='def2-TZVP', verbose=3) #NN angstrom by default\n",
    "    deltaZ = np.array((-lval, lval))    # specified in the function call\n",
    "    #print(mol.atom_coords()) #pyscf convert angstrom input to au \n",
    "    mf = pyscf.qmmm.mm_charge(pyscf.scf.RHF(mol), mol.atom_coords(), deltaZ, unit='au') #add qm_mm to RHF(mol)\n",
    "    class NoSelfQMMM(mf.__class__):   #override class RHF where NN interaction are only due to nuclear charges\n",
    "        def energy_nuc(self):\n",
    "            e_nuc=self.mol.energy_nuc()\n",
    "            e_nuc-=lval**2/np.linalg.norm(self.mol.atom_coords()[0]-self.mol.atom_coords()[1])\n",
    "            return e_nuc\n",
    "    \n",
    "    mf = NoSelfQMMM()\n",
    "    return mf.kernel()\n",
    "def N2_only():\n",
    "    mol = pyscf.gto.M(atom='N 0 0 0; N 0 0 1.1', basis='def2-TZVP')\n",
    "    mf = pyscf.scf.RHF(mol)\n",
    "    return mf.kernel()\n",
    "def CO_only():\n",
    "    mol = pyscf.gto.M(atom='C 0 0 0; O 0 0 1.1', basis='def2-TZVP')\n",
    "    mf = pyscf.scf.RHF(mol)\n",
    "    return mf.kernel()\n"
   ]
  },
  {
   "cell_type": "code",
   "execution_count": 7,
   "metadata": {},
   "outputs": [
    {
     "name": "stdout",
     "output_type": "stream",
     "text": [
      "converged SCF energy = -112.693567315542\n",
      "converged SCF energy = -111.362669607347\n",
      "converged SCF energy = -110.325031500169\n",
      "converged SCF energy = -109.582497055293\n",
      "converged SCF energy = -109.136422746174\n",
      "converged SCF energy = -108.9876382454\n",
      "converged SCF energy = -109.136422746174\n",
      "converged SCF energy = -109.582497055292\n",
      "converged SCF energy = -110.325031500169\n",
      "converged SCF energy = -111.362669607347\n",
      "converged SCF energy = -112.693567315542\n"
     ]
    }
   ],
   "source": [
    "lvals = np.linspace(-1, 1, 11)\n",
    "Es = [N2(_) for _ in lvals]"
   ]
  },
  {
   "cell_type": "code",
   "execution_count": 8,
   "metadata": {},
   "outputs": [
    {
     "name": "stdout",
     "output_type": "stream",
     "text": [
      "converged SCF energy = -108.9876382454\n",
      "converged SCF energy = -112.787127600436\n"
     ]
    },
    {
     "data": {
      "text/plain": [
       "<matplotlib.lines.Line2D at 0x7f5351a8bc18>"
      ]
     },
     "execution_count": 8,
     "metadata": {},
     "output_type": "execute_result"
    },
    {
     "data": {
      "image/png": "[encoded data removed]",
      "text/plain": [
       "<Figure size 432x288 with 1 Axes>"
      ]
     },
     "metadata": {
      "needs_background": "light"
     },
     "output_type": "display_data"
    }
   ],
   "source": [
    "plt.plot(lvals, Es, 'o-')\n",
    "plt.axhline(N2_only())\n",
    "plt.axhline(CO_only(), color='red')"
   ]
  },
  {
   "cell_type": "code",
   "execution_count": 8,
   "metadata": {},
   "outputs": [
    {
     "name": "stdout",
     "output_type": "stream",
     "text": [
      "Help on function mm_charge in module pyscf.qmmm.itrf:\n",
      "\n",
      "mm_charge(scf_method, coords, charges, unit=None)\n",
      "    Modify the QM method using the (non-relativistic) potential generated\n",
      "    by MM charges. Note the static Coulomb interactions of the background\n",
      "    charges are not included in the total energy.\n",
      "    \n",
      "    Args:\n",
      "        scf_method : a HF or DFT object\n",
      "    \n",
      "        coords : 2D array, shape (N,3)\n",
      "            MM particle coordinates\n",
      "        charges : 1D array\n",
      "            MM particle charges\n",
      "    Kwargs:\n",
      "        unit : str\n",
      "            Bohr, AU, Ang (case insensitive). Default is the same to mol.unit\n",
      "    \n",
      "    Returns:\n",
      "        Same method object as the input scf_method with modified 1e Hamiltonian\n",
      "    \n",
      "    Note:\n",
      "        1. if MM charge and X2C correction are used together, function mm_charge\n",
      "        needs to be applied after X2C decoration (.x2c method), eg\n",
      "        mf = mm_charge(scf.RHF(mol).x2c()), [(0.5,0.6,0.8)], [-0.5]).\n",
      "        2. Once mm_charge function is applied on the SCF object, it\n",
      "        affects all the post-HF calculations eg MP2, CCSD, MCSCF etc\n",
      "    \n",
      "    Examples:\n",
      "    \n",
      "    >>> mol = gto.M(atom='H 0 0 0; F 0 0 1', basis='ccpvdz', verbose=0)\n",
      "    >>> mf = mm_charge(dft.RKS(mol), [(0.5,0.6,0.8)], [-0.3])\n",
      "    >>> mf.kernel()\n",
      "    -101.940495711284\n",
      "\n"
     ]
    }
   ],
   "source": [
    "help(pyscf.qmmm.mm_charge)\n",
    "#mol = pyscf.gto.M(atom='N 0 0 1.1; N 0 0 0', basis='def2-TZVP', verbose=3)\n",
    "#print(pyscf.scf.RHF(mol).energy_nuc())\n",
    "#print (7*7/1.1/angstrom)"
   ]
  }
 ],
 "metadata": {
  "kernelspec": {
   "display_name": "Python 3",
   "language": "python",
   "name": "python3"
  },
  "language_info": {
   "codemirror_mode": {
    "name": "ipython",
    "version": 3
   },
   "file_extension": ".py",
   "mimetype": "text/x-python",
   "name": "python",
   "nbconvert_exporter": "python",
   "pygments_lexer": "ipython3",
   "version": "3.6.8"
  }
 },
 "nbformat": 4,
 "nbformat_minor": 2
}
