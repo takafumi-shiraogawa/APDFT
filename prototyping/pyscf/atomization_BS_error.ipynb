{
 "cells": [
  {
   "cell_type": "code",
   "execution_count": 1,
   "metadata": {},
   "outputs": [],
   "source": [
    "import pyscf\n",
    "import pyscf.tools\n",
    "import pyscf.cc\n",
    "import pyscf.qmmm\n",
    "from pyscf import lib\n",
    "from pyscf import gto\n",
    "from pyscf import df\n",
    "from pyscf import scf\n",
    "from pyscf import mcscf\n",
    "from pyscf import grad\n",
    "from pyscf.lib import logger\n",
    "from pyscf.gto import M\n",
    "from pyscf.scf import RHF\n",
    "import pyscf.lib\n",
    "import numpy as np\n",
    "import numpy\n",
    "import matplotlib.pyplot as plt\n",
    "angstrom=1.889725989\n",
    "from numpy.linalg import inv,norm"
   ]
  },
  {
   "cell_type": "code",
   "execution_count": 2,
   "metadata": {},
   "outputs": [],
   "source": [
    "def qmmmcalc(mol,dh):\n",
    "    deltaZ = np.array((dh,-dh))\n",
    "    mf = pyscf.qmmm.mm_charge(pyscf.scf.RHF(mol), mol.atom_coords(), deltaZ,unit='bohr')\n",
    "    class NoSelfQMMM(mf.__class__):\n",
    "        def energy_nuc(self):\n",
    "            e_nuc=(mol.atom_charge(0)+dh)*(mol.atom_charge(1)-dh)/np.linalg.norm(self.mol.atom_coords()[0]-self.mol.atom_coords()[1])\n",
    "            return e_nuc\n",
    "    mf = NoSelfQMMM()\n",
    "    return mf"
   ]
  },
  {
   "cell_type": "code",
   "execution_count": 3,
   "metadata": {},
   "outputs": [],
   "source": [
    "CO=M(atom='C 0 0 0;O 0 0 2.',basis= 'def2-TZVP',unit='bohr')\n",
    "NN=M(atom='N 0 0 0;N 0 0 2.',basis= 'def2-TZVP',unit='bohr')\n",
    "nnhf=RHF(NN)\n",
    "nn_co=qmmmcalc(CO,1)"
   ]
  },
  {
   "cell_type": "code",
   "execution_count": 4,
   "metadata": {},
   "outputs": [
    {
     "name": "stdout",
     "output_type": "stream",
     "text": [
      "24.5\n"
     ]
    },
    {
     "data": {
      "text/plain": [
       "24.0"
      ]
     },
     "execution_count": 4,
     "metadata": {},
     "output_type": "execute_result"
    }
   ],
   "source": [
    "print(nn_co.energy_nuc())\n",
    "CO.energy_nuc()"
   ]
  },
  {
   "cell_type": "code",
   "execution_count": 5,
   "metadata": {},
   "outputs": [
    {
     "name": "stdout",
     "output_type": "stream",
     "text": [
      "converged SCF energy = -108.898047903918\n",
      "converged SCF energy = -108.991204984885\n"
     ]
    },
    {
     "data": {
      "text/plain": [
       "-108.99120498488548"
      ]
     },
     "execution_count": 5,
     "metadata": {},
     "output_type": "execute_result"
    }
   ],
   "source": [
    "nn_co.kernel()\n",
    "nnhf.kernel()"
   ]
  },
  {
   "cell_type": "code",
   "execution_count": 6,
   "metadata": {},
   "outputs": [],
   "source": [
    "#single atom qmmmm\n",
    "def saqmmm(mol,dh):\n",
    "    mf = pyscf.qmmm.mm_charge(pyscf.scf.RHF(mol), mol.atom_coords(), np.asarray([dh]),unit='bohr')\n",
    "    class NoSelfQMMM(mf.__class__):\n",
    "        def energy_nuc(self):\n",
    "            e_nuc=0\n",
    "            return e_nuc\n",
    "    mf = NoSelfQMMM()\n",
    "    return mf"
   ]
  },
  {
   "cell_type": "code",
   "execution_count": 7,
   "metadata": {},
   "outputs": [],
   "source": [
    "C=M(atom='C 0 0 0',basis='def2-TZVP',charge=-1,spin=1)\n",
    "O=M(atom='O 0 0 0',basis='def2-TZVP',charge=1,spin=1)\n",
    "N=M(atom='N 0 0 0',basis='def2-TZVP',spin=1)\n",
    "nhf=pyscf.scf.UHF(N)\n",
    "nchf=saqmmm(C,1)\n",
    "nohf=saqmmm(O,-1)"
   ]
  },
  {
   "cell_type": "code",
   "execution_count": 8,
   "metadata": {},
   "outputs": [
    {
     "name": "stdout",
     "output_type": "stream",
     "text": [
      "converged SCF energy = -54.266103072602  <S^2> = 0.7556305  2S+1 = 2.0056226\n",
      "converged SCF energy = -54.2024596995637\n",
      "converged SCF energy = -54.2168031515304\n"
     ]
    },
    {
     "data": {
      "text/plain": [
       "-54.216803151530435"
      ]
     },
     "execution_count": 8,
     "metadata": {},
     "output_type": "execute_result"
    }
   ],
   "source": [
    "nhf.kernel()\n",
    "nchf.kernel()\n",
    "nohf.kernel()"
   ]
  },
  {
   "cell_type": "code",
   "execution_count": 9,
   "metadata": {},
   "outputs": [
    {
     "name": "stdout",
     "output_type": "stream",
     "text": [
      "converged SCF energy = -108.898047903918\n",
      "converged SCF energy = -108.991204984885\n",
      "molecolar error due to basis set 0.0931570809671598\n",
      "converged SCF energy = -54.2024596995637\n",
      "converged SCF energy = -54.2168031515304\n",
      "converged SCF energy = -54.2661030726042  <S^2> = 0.75563049  2S+1 = 2.0056226\n",
      "atomic error due to basis set 0.11294329411416015\n"
     ]
    }
   ],
   "source": [
    "print('molecolar error due to basis set', nn_co.kernel()-nnhf.kernel())\n",
    "print('atomic error due to basis set',nchf.kernel()+nohf.kernel()-2*nhf.kernel())"
   ]
  },
  {
   "cell_type": "code",
   "execution_count": 10,
   "metadata": {},
   "outputs": [
    {
     "name": "stdout",
     "output_type": "stream",
     "text": [
      "converged SCF energy = -105.426870589041\n",
      "converged SCF energy = -107.478024957254\n"
     ]
    },
    {
     "data": {
      "text/plain": [
       "-107.47802495725438"
      ]
     },
     "execution_count": 10,
     "metadata": {},
     "output_type": "execute_result"
    }
   ],
   "source": [
    "CO=M(atom='C 0 0 0;O 0 0 2.',basis= 'sto-3G',unit='bohr')\n",
    "NN=M(atom='N 0 0 0;N 0 0 2.',basis= 'sto-3G',unit='bohr')\n",
    "nnhf=RHF(NN)\n",
    "nn_co=qmmmcalc(CO,1)\n",
    "nn_co.kernel()\n",
    "nnhf.kernel()"
   ]
  },
  {
   "cell_type": "code",
   "execution_count": 11,
   "metadata": {},
   "outputs": [
    {
     "name": "stdout",
     "output_type": "stream",
     "text": [
      "converged SCF energy = -53.5545360887047  <S^2> = 0.75  2S+1 = 2\n",
      "converged SCF energy = -52.4503266150752\n",
      "converged SCF energy = -52.3356987471301\n"
     ]
    },
    {
     "data": {
      "text/plain": [
       "-52.335698747130074"
      ]
     },
     "execution_count": 11,
     "metadata": {},
     "output_type": "execute_result"
    }
   ],
   "source": [
    "C=M(atom='C 0 0 0',basis='sto-3G',charge=-1,spin=1)\n",
    "O=M(atom='O 0 0 0',basis='sto-3G',charge=1,spin=1)\n",
    "N=M(atom='N 0 0 0',basis='sto-3G',spin=1)\n",
    "nhf=pyscf.scf.UHF(N)\n",
    "nchf=saqmmm(C,1)\n",
    "nohf=saqmmm(O,-1)\n",
    "nhf.kernel()\n",
    "nchf.kernel()\n",
    "nohf.kernel()"
   ]
  },
  {
   "cell_type": "code",
   "execution_count": 12,
   "metadata": {},
   "outputs": [
    {
     "name": "stdout",
     "output_type": "stream",
     "text": [
      "converged SCF energy = -105.426870589041\n",
      "converged SCF energy = -107.478024957254\n",
      "molecolar error due to basis set 2.0511543682132185\n",
      "converged SCF energy = -52.4503266150752\n",
      "converged SCF energy = -52.3356987471301\n",
      "converged SCF energy = -53.5545360887047  <S^2> = 0.75  2S+1 = 2\n",
      "atomic error due to basis set 2.3230468152041226\n"
     ]
    }
   ],
   "source": [
    "print('molecolar error due to basis set', nn_co.kernel()-nnhf.kernel())\n",
    "print('atomic error due to basis set',nchf.kernel()+nohf.kernel()-2*nhf.kernel())"
   ]
  },
  {
   "cell_type": "code",
   "execution_count": 13,
   "metadata": {},
   "outputs": [
    {
     "name": "stdout",
     "output_type": "stream",
     "text": [
      "converged SCF energy = -105.426870589041\n",
      "converged SCF energy = -107.478024957254\n",
      "converged SCF energy = -52.4503266150752\n",
      "converged SCF energy = -52.3356987471301\n",
      "converged SCF energy = -53.5545360887047\n",
      "molecolar error due to basis set 2.051154368213247\n",
      "atomic error due to basis set 2.323046815204094\n",
      "converged SCF energy = -106.460477445989\n",
      "converged SCF energy = -108.523478472693\n",
      "converged SCF energy = -53.0294531802803\n",
      "converged SCF energy = -52.7760259243052\n",
      "converged SCF energy = -54.0845800998906\n",
      "molecolar error due to basis set 2.0630010267038585\n",
      "atomic error due to basis set 2.3636810951958296\n",
      "converged SCF energy = -106.480338237707\n",
      "converged SCF energy = -108.29889701394\n",
      "converged SCF energy = -52.9123697614082\n",
      "converged SCF energy = -53.1309572497241\n",
      "converged SCF energy = -53.9598946415259\n",
      "molecolar error due to basis set 1.8185587762333455\n",
      "atomic error due to basis set 1.87646227191955\n",
      "converged SCF energy = -107.094345834234\n",
      "converged SCF energy = -108.94172152653\n",
      "converged SCF energy = -53.2046694342557\n",
      "converged SCF energy = -53.3738988713407\n",
      "converged SCF energy = -54.2420437167094\n",
      "molecolar error due to basis set 1.84737569229614\n",
      "atomic error due to basis set 1.9055191278224015\n",
      "converged SCF energy = -108.500673249698\n",
      "converged SCF energy = -108.986281035916\n",
      "converged SCF energy = -53.7932985837937\n",
      "converged SCF energy = -54.0097344541334\n",
      "converged SCF energy = -54.2596093799114\n",
      "molecolar error due to basis set 0.4856077862171162\n",
      "atomic error due to basis set 0.716185721895684\n",
      "converged SCF energy = -108.972281217818\n",
      "converged SCF energy = -108.994744585332\n",
      "converged SCF energy = -54.2411787996416\n",
      "converged SCF energy = -54.2575916032819\n",
      "converged SCF energy = -54.2634359473715\n",
      "molecolar error due to basis set 0.02246336751409217\n",
      "atomic error due to basis set 0.02810149181945576\n",
      "converged SCF energy = -108.898047903918\n",
      "converged SCF energy = -108.991204984885\n",
      "converged SCF energy = -54.2024596995637\n",
      "converged SCF energy = -54.2168031515304\n",
      "converged SCF energy = -54.2617703401479\n",
      "molecolar error due to basis set 0.09315708096693243\n",
      "atomic error due to basis set 0.10427782920166351\n",
      "converged SCF energy = -108.987883687278\n",
      "converged SCF energy = -108.995553453532\n",
      "converged SCF energy = -54.2568302349999\n",
      "converged SCF energy = -54.2614560787476\n",
      "converged SCF energy = -54.2638653102402\n",
      "molecolar error due to basis set 0.007669766253599164\n",
      "atomic error due to basis set 0.009444306732774521\n"
     ]
    }
   ],
   "source": [
    "basis=['sto-3G','sto-6G','3-21G','6-31G*','cc-pVTZ','aug-ccpvqz','def2-TZVP','def2-QZVPP']\n",
    "atoms_error={}\n",
    "molecule_error={}\n",
    "for base in basis:\n",
    "    CO=M(atom='C 0 0 0;O 0 0 2.',basis=base ,unit='bohr')\n",
    "    NN=M(atom='N 0 0 0;N 0 0 2.',basis=base,unit='bohr')\n",
    "    nnhf=RHF(NN)\n",
    "    nn_co=qmmmcalc(CO,1)\n",
    "    C=M(atom='C 0 0 0',basis=base,charge=-1,spin=1)\n",
    "    O=M(atom='O 0 0 0',basis=base,charge=1,spin=1)\n",
    "    N=M(atom='N 0 0 0',basis=base,spin=1)\n",
    "    nhf=pyscf.scf.RHF(N)\n",
    "    nchf=saqmmm(C,1)\n",
    "    nohf=saqmmm(O,-1)\n",
    "    me=nn_co.kernel()-nnhf.kernel()\n",
    "    ae=nchf.kernel()+nohf.kernel()-2*nhf.kernel()\n",
    "    print('molecolar error due to basis set', me)\n",
    "    print('atomic error due to basis set',ae)\n",
    "    atoms_error.update({base:ae})\n",
    "    molecule_error.update({base:me})"
   ]
  },
  {
   "cell_type": "code",
   "execution_count": 94,
   "metadata": {},
   "outputs": [
    {
     "data": {
      "text/plain": [
       "<matplotlib.legend.Legend at 0x7f05e099cac8>"
      ]
     },
     "execution_count": 94,
     "metadata": {},
     "output_type": "execute_result"
    },
    {
     "data": {
      "image/png": "[encoded data removed]",
      "text/plain": [
       "<Figure size 864x576 with 1 Axes>"
      ]
     },
     "metadata": {
      "needs_background": "light"
     },
     "output_type": "display_data"
    }
   ],
   "source": [
    "fig=plt.figure(figsize=(12,8))\n",
    "plt.plot([atoms_error[x]for x in atoms_error.keys()])\n",
    "plt.plot([molecule_error[x]for x in molecule_error.keys()])\n",
    "plt.plot([atoms_error[x]-molecule_error[x] for x in molecule_error.keys()])\n",
    "for i in range(8):\n",
    "    plt.axvline(i,color=np.random.rand(3,) ,label=basis[i])\n",
    "plt.legend()"
   ]
  },
  {
   "cell_type": "code",
   "execution_count": 30,
   "metadata": {},
   "outputs": [
    {
     "data": {
      "text/plain": [
       "<matplotlib.legend.Legend at 0x7f05e063ae48>"
      ]
     },
     "execution_count": 30,
     "metadata": {},
     "output_type": "execute_result"
    },
    {
     "data": {
      "image/png": "[encoded data removed]",
      "text/plain": [
       "<Figure size 864x576 with 1 Axes>"
      ]
     },
     "metadata": {
      "needs_background": "light"
     },
     "output_type": "display_data"
    }
   ],
   "source": [
    "fig=plt.figure(figsize=(12,8))\n",
    "plt.plot([atoms_error[x]-molecule_error[x] for x in molecule_error.keys()])\n",
    "for i in range(8):\n",
    "    plt.axvline(i,color=np.random.rand(3,) ,label=basis[i])\n",
    "plt.legend()"
   ]
  },
  {
   "cell_type": "code",
   "execution_count": 31,
   "metadata": {},
   "outputs": [],
   "source": [
    "import pandas as pd"
   ]
  },
  {
   "cell_type": "code",
   "execution_count": 98,
   "metadata": {},
   "outputs": [],
   "source": [
    "co_to_nn=pd.DataFrame({'basis':basis,'atom_err':list(atoms_error.values()),'mol_err':list(molecule_error.values())\\\n",
    "                      ,'correction':[atoms_error[x]-molecule_error[x] for x in basis]})"
   ]
  },
  {
   "cell_type": "code",
   "execution_count": 99,
   "metadata": {},
   "outputs": [
    {
     "data": {
      "text/html": [
       "<div>\n",
       "<style scoped>\n",
       "    .dataframe tbody tr th:only-of-type {\n",
       "        vertical-align: middle;\n",
       "    }\n",
       "\n",
       "    .dataframe tbody tr th {\n",
       "        vertical-align: top;\n",
       "    }\n",
       "\n",
       "    .dataframe thead th {\n",
       "        text-align: right;\n",
       "    }\n",
       "</style>\n",
       "<table border=\"1\" class=\"dataframe\">\n",
       "  <thead>\n",
       "    <tr style=\"text-align: right;\">\n",
       "      <th></th>\n",
       "      <th>basis</th>\n",
       "      <th>atom_err</th>\n",
       "      <th>mol_err</th>\n",
       "      <th>correction</th>\n",
       "    </tr>\n",
       "  </thead>\n",
       "  <tbody>\n",
       "    <tr>\n",
       "      <th>0</th>\n",
       "      <td>sto-3G</td>\n",
       "      <td>2.323047</td>\n",
       "      <td>2.051154</td>\n",
       "      <td>0.271892</td>\n",
       "    </tr>\n",
       "    <tr>\n",
       "      <th>1</th>\n",
       "      <td>sto-6G</td>\n",
       "      <td>2.363681</td>\n",
       "      <td>2.063001</td>\n",
       "      <td>0.300680</td>\n",
       "    </tr>\n",
       "    <tr>\n",
       "      <th>2</th>\n",
       "      <td>3-21G</td>\n",
       "      <td>1.876462</td>\n",
       "      <td>1.818559</td>\n",
       "      <td>0.057903</td>\n",
       "    </tr>\n",
       "    <tr>\n",
       "      <th>3</th>\n",
       "      <td>6-31G*</td>\n",
       "      <td>1.905519</td>\n",
       "      <td>1.847376</td>\n",
       "      <td>0.058143</td>\n",
       "    </tr>\n",
       "    <tr>\n",
       "      <th>4</th>\n",
       "      <td>cc-pVTZ</td>\n",
       "      <td>0.716186</td>\n",
       "      <td>0.485608</td>\n",
       "      <td>0.230578</td>\n",
       "    </tr>\n",
       "    <tr>\n",
       "      <th>5</th>\n",
       "      <td>aug-ccpvqz</td>\n",
       "      <td>0.028101</td>\n",
       "      <td>0.022463</td>\n",
       "      <td>0.005638</td>\n",
       "    </tr>\n",
       "    <tr>\n",
       "      <th>6</th>\n",
       "      <td>def2-TZVP</td>\n",
       "      <td>0.104278</td>\n",
       "      <td>0.093157</td>\n",
       "      <td>0.011121</td>\n",
       "    </tr>\n",
       "    <tr>\n",
       "      <th>7</th>\n",
       "      <td>def2-QZVPP</td>\n",
       "      <td>0.009444</td>\n",
       "      <td>0.007670</td>\n",
       "      <td>0.001775</td>\n",
       "    </tr>\n",
       "  </tbody>\n",
       "</table>\n",
       "</div>"
      ],
      "text/plain": [
       "        basis  atom_err   mol_err  correction\n",
       "0      sto-3G  2.323047  2.051154    0.271892\n",
       "1      sto-6G  2.363681  2.063001    0.300680\n",
       "2       3-21G  1.876462  1.818559    0.057903\n",
       "3      6-31G*  1.905519  1.847376    0.058143\n",
       "4     cc-pVTZ  0.716186  0.485608    0.230578\n",
       "5  aug-ccpvqz  0.028101  0.022463    0.005638\n",
       "6   def2-TZVP  0.104278  0.093157    0.011121\n",
       "7  def2-QZVPP  0.009444  0.007670    0.001775"
      ]
     },
     "execution_count": 99,
     "metadata": {},
     "output_type": "execute_result"
    }
   ],
   "source": [
    "co_to_nn"
   ]
  },
  {
   "cell_type": "code",
   "execution_count": 101,
   "metadata": {},
   "outputs": [
    {
     "name": "stdout",
     "output_type": "stream",
     "text": [
      "converged SCF energy = -119.859874016411\n",
      "converged SCF energy = -122.290018654184\n",
      "converged SCF energy = -22.9534307219899\n",
      "converged SCF energy = -96.5898618625372\n",
      "converged SCF energy = -24.1489885988536\n",
      "converged SCF energy = -97.9865049587358\n",
      "molecolar error due to basis set 2.4301446377726847\n",
      "atomic error due to basis set 2.592200973062319\n",
      "converged SCF energy = -121.067585885474\n",
      "converged SCF energy = -123.462818070545\n",
      "converged SCF energy = -23.1257648297767\n",
      "converged SCF energy = -97.5794683813268\n",
      "converged SCF energy = -24.3942945593718\n",
      "converged SCF energy = -98.913253015237\n",
      "molecolar error due to basis set 2.3952321850708245\n",
      "atomic error due to basis set 2.6023143635053145\n",
      "converged SCF energy = -121.515338528952\n",
      "converged SCF energy = -123.328617658845\n",
      "converged SCF energy = -23.5566360959325\n",
      "converged SCF energy = -97.8066576468171\n",
      "converged SCF energy = -24.3896343503324\n",
      "converged SCF energy = -98.8446451100664\n",
      "molecolar error due to basis set 1.8132791298923507\n",
      "atomic error due to basis set 1.8709857176491198\n",
      "converged SCF energy = -122.191726607217\n",
      "converged SCF energy = -124.032921013612\n",
      "converged SCF energy = -23.670598194918\n",
      "converged SCF energy = -98.3049937859133\n",
      "converged SCF energy = -24.5193637480943\n",
      "converged SCF energy = -99.3602611137535\n",
      "molecolar error due to basis set 1.8411944063943793\n",
      "atomic error due to basis set 1.9040328810164624\n",
      "converged SCF energy = -123.637416398774\n",
      "converged SCF energy = -124.095285417924\n",
      "converged SCF energy = -24.3146036251919\n",
      "converged SCF energy = -98.9559203593881\n",
      "converged SCF energy = -24.528146568456\n",
      "converged SCF energy = -99.400935272237\n",
      "molecolar error due to basis set 0.45786901915062117\n",
      "atomic error due to basis set 0.6585578561129495\n",
      "converged SCF energy = -124.093527705021\n",
      "converged SCF energy = -124.108304066031\n",
      "converged SCF energy = -24.5251005123475\n",
      "converged SCF energy = -99.3952156449653\n",
      "converged SCF energy = -24.5289751168254\n",
      "converged SCF energy = -99.409209020632\n",
      "molecolar error due to basis set 0.014776361010007122\n",
      "atomic error due to basis set 0.01786798014454405\n",
      "converged SCF energy = -124.009259675947\n",
      "converged SCF energy = -124.101461288612\n",
      "converged SCF energy = -24.4908444051498\n",
      "converged SCF energy = -99.3400321514568\n",
      "converged SCF energy = -24.5283903909115\n",
      "converged SCF energy = -99.4071674662221\n",
      "molecolar error due to basis set 0.09220161266455307\n",
      "atomic error due to basis set 0.1046813005269911\n",
      "converged SCF energy = -124.096636242487\n",
      "converged SCF energy = -124.110183856075\n",
      "converged SCF energy = -24.5280275927951\n",
      "converged SCF energy = -99.3979235038236\n",
      "converged SCF energy = -24.5290852743884\n",
      "converged SCF energy = -99.4110540350995\n",
      "molecolar error due to basis set 0.013547613588400509\n",
      "atomic error due to basis set 0.014188212869242989\n"
     ]
    }
   ],
   "source": [
    "# co to bf\n",
    "atoms_error={}\n",
    "molecule_error={}\n",
    "for base in basis:\n",
    "    CO=M(atom='C 0 0 0;O 0 0 2.',basis=base,unit='bohr')\n",
    "    BF=M(atom='B 0 0 0;F 0 0 2.',basis=base,unit='bohr')\n",
    "    bfhf=RHF(BF)\n",
    "    bf_co=qmmmcalc(CO,-1)\n",
    "    C=M(atom='C 0 0 0',basis=base,charge=1,spin=1)\n",
    "    O=M(atom='O 0 0 0',basis=base,charge=-1,spin=1)\n",
    "    B=M(atom='B 0 0 0',basis=base,spin=1)\n",
    "    F=M(atom='F 0 0 0',basis=base,spin=1)\n",
    "    bhf=pyscf.scf.RHF(B)\n",
    "    fhf=pyscf.scf.RHF(F)\n",
    "    bchf=saqmmm(C,-1)\n",
    "    fohf=saqmmm(O,1)\n",
    "    me=bf_co.kernel()-bfhf.kernel()\n",
    "    ae=bchf.kernel()+fohf.kernel()-bhf.kernel()-fhf.kernel()\n",
    "    print('molecolar error due to basis set', me)\n",
    "    print('atomic error due to basis set',ae)\n",
    "    atoms_error.update({base:ae})\n",
    "    molecule_error.update({base:me})"
   ]
  },
  {
   "cell_type": "code",
   "execution_count": 102,
   "metadata": {},
   "outputs": [],
   "source": [
    "co_to_bf=pd.DataFrame({'basis':basis,'atom_err':list(atoms_error.values()),'mol_err':list(molecule_error.values())\\\n",
    "                      ,'correction':[atoms_error[x]-molecule_error[x] for x in basis]})"
   ]
  },
  {
   "cell_type": "code",
   "execution_count": 103,
   "metadata": {},
   "outputs": [
    {
     "data": {
      "text/html": [
       "<div>\n",
       "<style scoped>\n",
       "    .dataframe tbody tr th:only-of-type {\n",
       "        vertical-align: middle;\n",
       "    }\n",
       "\n",
       "    .dataframe tbody tr th {\n",
       "        vertical-align: top;\n",
       "    }\n",
       "\n",
       "    .dataframe thead th {\n",
       "        text-align: right;\n",
       "    }\n",
       "</style>\n",
       "<table border=\"1\" class=\"dataframe\">\n",
       "  <thead>\n",
       "    <tr style=\"text-align: right;\">\n",
       "      <th></th>\n",
       "      <th>basis</th>\n",
       "      <th>atom_err</th>\n",
       "      <th>mol_err</th>\n",
       "      <th>correction</th>\n",
       "    </tr>\n",
       "  </thead>\n",
       "  <tbody>\n",
       "    <tr>\n",
       "      <th>0</th>\n",
       "      <td>sto-3G</td>\n",
       "      <td>2.592201</td>\n",
       "      <td>2.430145</td>\n",
       "      <td>0.162056</td>\n",
       "    </tr>\n",
       "    <tr>\n",
       "      <th>1</th>\n",
       "      <td>sto-6G</td>\n",
       "      <td>2.602314</td>\n",
       "      <td>2.395232</td>\n",
       "      <td>0.207082</td>\n",
       "    </tr>\n",
       "    <tr>\n",
       "      <th>2</th>\n",
       "      <td>3-21G</td>\n",
       "      <td>1.870986</td>\n",
       "      <td>1.813279</td>\n",
       "      <td>0.057707</td>\n",
       "    </tr>\n",
       "    <tr>\n",
       "      <th>3</th>\n",
       "      <td>6-31G*</td>\n",
       "      <td>1.904033</td>\n",
       "      <td>1.841194</td>\n",
       "      <td>0.062838</td>\n",
       "    </tr>\n",
       "    <tr>\n",
       "      <th>4</th>\n",
       "      <td>cc-pVTZ</td>\n",
       "      <td>0.658558</td>\n",
       "      <td>0.457869</td>\n",
       "      <td>0.200689</td>\n",
       "    </tr>\n",
       "    <tr>\n",
       "      <th>5</th>\n",
       "      <td>aug-ccpvqz</td>\n",
       "      <td>0.017868</td>\n",
       "      <td>0.014776</td>\n",
       "      <td>0.003092</td>\n",
       "    </tr>\n",
       "    <tr>\n",
       "      <th>6</th>\n",
       "      <td>def2-TZVP</td>\n",
       "      <td>0.104681</td>\n",
       "      <td>0.092202</td>\n",
       "      <td>0.012480</td>\n",
       "    </tr>\n",
       "    <tr>\n",
       "      <th>7</th>\n",
       "      <td>def2-QZVPP</td>\n",
       "      <td>0.014188</td>\n",
       "      <td>0.013548</td>\n",
       "      <td>0.000641</td>\n",
       "    </tr>\n",
       "  </tbody>\n",
       "</table>\n",
       "</div>"
      ],
      "text/plain": [
       "        basis  atom_err   mol_err  correction\n",
       "0      sto-3G  2.592201  2.430145    0.162056\n",
       "1      sto-6G  2.602314  2.395232    0.207082\n",
       "2       3-21G  1.870986  1.813279    0.057707\n",
       "3      6-31G*  1.904033  1.841194    0.062838\n",
       "4     cc-pVTZ  0.658558  0.457869    0.200689\n",
       "5  aug-ccpvqz  0.017868  0.014776    0.003092\n",
       "6   def2-TZVP  0.104681  0.092202    0.012480\n",
       "7  def2-QZVPP  0.014188  0.013548    0.000641"
      ]
     },
     "execution_count": 103,
     "metadata": {},
     "output_type": "execute_result"
    }
   ],
   "source": [
    "co_to_bf"
   ]
  },
  {
   "cell_type": "code",
   "execution_count": 105,
   "metadata": {},
   "outputs": [],
   "source": [
    "co_to_bf.to_pickle('CO_to_BF')"
   ]
  },
  {
   "cell_type": "code",
   "execution_count": 106,
   "metadata": {},
   "outputs": [],
   "source": [
    "co_to_nn.to_pickle('CO_to_NN')"
   ]
  },
  {
   "cell_type": "code",
   "execution_count": 107,
   "metadata": {},
   "outputs": [
    {
     "data": {
      "text/plain": [
       "<matplotlib.legend.Legend at 0x7f05e05f1ba8>"
      ]
     },
     "execution_count": 107,
     "metadata": {},
     "output_type": "execute_result"
    },
    {
     "data": {
      "image/png": "[encoded data removed]",
      "text/plain": [
       "<Figure size 864x576 with 1 Axes>"
      ]
     },
     "metadata": {
      "needs_background": "light"
     },
     "output_type": "display_data"
    }
   ],
   "source": [
    "fig=plt.figure(figsize=(12,8))\n",
    "plt.plot(co_to_bf.mol_err,label='molecule error')\n",
    "plt.plot(co_to_bf.atom_err,label='atom error')\n",
    "plt.plot(co_to_bf.correction,label='corrected')\n",
    "for i in range(8):\n",
    "    plt.axvline(i,color=np.random.rand(3,) ,label=basis[i])\n",
    "plt.legend()"
   ]
  },
  {
   "cell_type": "markdown",
   "metadata": {},
   "source": [
    "## Full CI implementation"
   ]
  },
  {
   "cell_type": "code",
   "execution_count": 47,
   "metadata": {
    "scrolled": true
   },
   "outputs": [
    {
     "name": "stdout",
     "output_type": "stream",
     "text": [
      "converged SCF energy = -53.5545360887047\n",
      "-53.719010162593925\n"
     ]
    }
   ],
   "source": [
    "from pyscf import gto, scf, ao2mo, fci\n",
    "mol = N\n",
    "mf = scf.RHF(mol).run()\n",
    "h1 = mf.mo_coeff.T.dot(mf.get_hcore()).dot(mf.mo_coeff)\n",
    "eri = ao2mo.kernel(mol, mf.mo_coeff)\n",
    "cisolver = fci.direct_spin1.FCI(mol)\n",
    "e, ci = cisolver.kernel(h1, eri, h1.shape[1], mol.nelec, ecore=mol.energy_nuc(),verbose=5)\n",
    "print(e)"
   ]
  },
  {
   "cell_type": "code",
   "execution_count": 50,
   "metadata": {},
   "outputs": [
    {
     "name": "stdout",
     "output_type": "stream",
     "text": [
      "converged SCF energy = -52.4503266150752\n",
      "-52.59540118080676\n"
     ]
    }
   ],
   "source": [
    "mol = C\n",
    "mf = saqmmm(mol,1).run()\n",
    "h1 = mf.mo_coeff.T.dot(mf.get_hcore()).dot(mf.mo_coeff)\n",
    "eri = ao2mo.kernel(mol, mf.mo_coeff)\n",
    "cisolver = fci.direct_spin1.FCI(mol)\n",
    "e, ci = cisolver.kernel(h1, eri, h1.shape[1], mol.nelec, ecore=mol.energy_nuc(),verbose=5)\n",
    "print(e)"
   ]
  },
  {
   "cell_type": "code",
   "execution_count": 51,
   "metadata": {},
   "outputs": [
    {
     "name": "stdout",
     "output_type": "stream",
     "text": [
      "converged SCF energy = -52.3356987471301\n",
      "-52.52547652760362\n"
     ]
    }
   ],
   "source": [
    "mol = O\n",
    "mf = saqmmm(mol,-1).run()\n",
    "h1 = mf.mo_coeff.T.dot(mf.get_hcore()).dot(mf.mo_coeff)\n",
    "eri = ao2mo.kernel(mol, mf.mo_coeff)\n",
    "cisolver = fci.direct_spin1.FCI(mol)\n",
    "e, ci = cisolver.kernel(h1, eri, h1.shape[1], mol.nelec, ecore=mol.energy_nuc(),verbose=5)\n",
    "print(e)"
   ]
  }
 ],
 "metadata": {
  "kernelspec": {
   "display_name": "Python 3",
   "language": "python",
   "name": "python3"
  },
  "language_info": {
   "codemirror_mode": {
    "name": "ipython",
    "version": 3
   },
   "file_extension": ".py",
   "mimetype": "text/x-python",
   "name": "python",
   "nbconvert_exporter": "python",
   "pygments_lexer": "ipython3",
   "version": "3.6.8"
  }
 },
 "nbformat": 4,
 "nbformat_minor": 2
}
