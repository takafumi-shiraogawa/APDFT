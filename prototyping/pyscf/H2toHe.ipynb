{
 "cells": [
  {
   "cell_type": "code",
   "execution_count": 191,
   "metadata": {},
   "outputs": [
    {
     "data": {
      "text/plain": [
       "[1.5848731221192567, 1.584873122119257]"
      ]
     },
     "execution_count": 191,
     "metadata": {},
     "output_type": "execute_result"
    }
   ],
   "source": [
    "import numpy as np\n",
    "import numpy\n",
    "import pyscf\n",
    "import pyscf.gto\n",
    "import pyscf.qmmm\n",
    "import pyscf.scf\n",
    "import matplotlib.pyplot as plt\n",
    "import functools\n",
    "\n",
    "@functools.lru_cache(100)\n",
    "def spc(lval):\n",
    "    mol = pyscf.gto.M(atom='H 0 0 0.; H 0 0 1.', basis='def2-TZVP', verbose=0)\n",
    "    deltaZ = np.array((1, -1))*lval\n",
    "\n",
    "    calc = pyscf.scf.RHF(mol)\n",
    "    calc.conv_tol = 1e-14\n",
    "    calc.conv_tol_grad = 1e-12\n",
    "\n",
    "    mf = pyscf.qmmm.mm_charge(calc, mol.atom_coords()/(1 / 0.52917721067), deltaZ)  \n",
    "    class NoSelfQMMM(mf.__class__):\n",
    "            def energy_nuc(self):\n",
    "                    return (1+deltaZ[0])*(1+deltaZ[1])/(1/0.52917721067)\n",
    "    mf = NoSelfQMMM()\n",
    "    hfe=mf.kernel(direct=False)\n",
    "    mycc = pyscf.cc.CCSD(mf)\n",
    "    mycc.conv_tol = 1e-12\n",
    "    mycc.run()\n",
    "\n",
    "    dm1 = mycc.make_rdm1()\n",
    "    dm1_ao = np.einsum('pi,ij,qj->pq', mf.mo_coeff, dm1, mf.mo_coeff.conj())\n",
    "    epns = []\n",
    "    for site in (0, 1):\n",
    "        mol.set_rinv_orig_(mol.atom_coords()[site])\n",
    "        epns.append(np.matmul( dm1_ao,mol.intor('int1e_rinv')).trace())\n",
    "    return epns\n",
    "spc(0)"
   ]
  },
  {
   "cell_type": "code",
   "execution_count": 142,
   "metadata": {},
   "outputs": [
    {
     "data": {
      "text/plain": [
       "-2.8895484850650557"
      ]
     },
     "execution_count": 142,
     "metadata": {},
     "output_type": "execute_result"
    }
   ],
   "source": [
    "@functools.lru_cache(1)\n",
    "def refval():\n",
    "    mol = pyscf.gto.M(atom='He 0 0 0.', basis='aug-cc-pvdz', verbose=0)\n",
    "    calc = pyscf.scf.RHF(mol)\n",
    "    calc.conv_tol = 1e-12\n",
    "    calc.conv_tol_grad = 1e-10\n",
    "    calc.run()\n",
    "    mycc = pyscf.cc.CCSD(calc)\n",
    "    mycc.conv_tol = 1e-10\n",
    "    mycc.run()\n",
    "    return mycc.e_tot\n",
    "refval()"
   ]
  },
  {
   "cell_type": "code",
   "execution_count": 192,
   "metadata": {},
   "outputs": [],
   "source": [
    "def dE(lval):\n",
    "    es = spc(lval)\n",
    "    return es[0]-es[1]"
   ]
  },
  {
   "cell_type": "code",
   "execution_count": 193,
   "metadata": {},
   "outputs": [],
   "source": [
    "import findiff"
   ]
  },
  {
   "cell_type": "code",
   "execution_count": 194,
   "metadata": {},
   "outputs": [],
   "source": [
    "def get_fd_coefficients(order):\n",
    "    if order == 0:\n",
    "        return [0], [1]\n",
    "    delta = 0.01\n",
    "    cs = findiff.coefficients(deriv=order, acc=order)['center']\n",
    "    return cs['offsets']*delta, cs['coefficients']/(delta**order)"
   ]
  },
  {
   "cell_type": "code",
   "execution_count": 195,
   "metadata": {},
   "outputs": [],
   "source": [
    "def get_order(order):\n",
    "    E = 0.\n",
    "    for lval, weight in zip(*get_fd_coefficients(order)):\n",
    "        E += dE(lval) * weight\n",
    "    return -E"
   ]
  },
  {
   "cell_type": "code",
   "execution_count": 196,
   "metadata": {},
   "outputs": [],
   "source": [
    "def get_orders(upto):\n",
    "    factorial = [1, 1, 2, 6, 6*4,6*4*5, 6*4*5*6, 6*4*5*6*7]\n",
    "    evals = [get_order(0)]\n",
    "    for order in range(1, upto):\n",
    "        evals.append(evals[-1]+get_order(order) / factorial[order])\n",
    "    return evals"
   ]
  },
  {
   "cell_type": "code",
   "execution_count": 197,
   "metadata": {},
   "outputs": [],
   "source": [
    "es = get_orders(8)"
   ]
  },
  {
   "cell_type": "code",
   "execution_count": 198,
   "metadata": {},
   "outputs": [
    {
     "data": {
      "text/plain": [
       "<matplotlib.lines.Line2D at 0x7f5e319058d0>"
      ]
     },
     "execution_count": 198,
     "metadata": {},
     "output_type": "execute_result"
    },
    {
     "data": {
      "image/png": "[encoded data removed]",
      "text/plain": [
       "<Figure size 432x288 with 1 Axes>"
      ]
     },
     "metadata": {
      "needs_background": "light"
     },
     "output_type": "display_data"
    }
   ],
   "source": [
    "plt.plot(np.array(es[:7]) - 1/(1/0.52917721067))\n",
    "plt.axhline(refval())"
   ]
  },
  {
   "cell_type": "markdown",
   "metadata": {},
   "source": [
    "### Interpolate?"
   ]
  },
  {
   "cell_type": "code",
   "execution_count": 187,
   "metadata": {},
   "outputs": [],
   "source": [
    "xs = np.linspace(-0.2, 0.2, 10)\n",
    "ys = [dE(_) for _ in xs]"
   ]
  },
  {
   "cell_type": "code",
   "execution_count": 188,
   "metadata": {},
   "outputs": [
    {
     "data": {
      "text/plain": [
       "[<matplotlib.lines.Line2D at 0x7f5e3f07f0b8>]"
      ]
     },
     "execution_count": 188,
     "metadata": {},
     "output_type": "execute_result"
    },
    {
     "data": {
      "image/png": "[encoded data removed]",
      "text/plain": [
       "<Figure size 432x288 with 1 Axes>"
      ]
     },
     "metadata": {
      "needs_background": "light"
     },
     "output_type": "display_data"
    }
   ],
   "source": [
    "plt.plot(xs, ys)\n",
    "coeff = np.polyfit(xs, ys, 3)\n",
    "poly = np.poly1d(coeff)\n",
    "xss = np.linspace(-0.2, 0.2, 100)\n",
    "yss = poly(xss)\n",
    "plt.plot(xss, yss)"
   ]
  },
  {
   "cell_type": "code",
   "execution_count": 180,
   "metadata": {},
   "outputs": [],
   "source": [
    "def dE(lval):\n",
    "    return poly(lval)"
   ]
  },
  {
   "cell_type": "code",
   "execution_count": null,
   "metadata": {},
   "outputs": [],
   "source": []
  }
 ],
 "metadata": {
  "kernelspec": {
   "display_name": "Python [conda env:analysis]",
   "language": "python",
   "name": "conda-env-analysis-py"
  },
  "language_info": {
   "codemirror_mode": {
    "name": "ipython",
    "version": 3
   },
   "file_extension": ".py",
   "mimetype": "text/x-python",
   "name": "python",
   "nbconvert_exporter": "python",
   "pygments_lexer": "ipython3",
   "version": "3.6.8"
  }
 },
 "nbformat": 4,
 "nbformat_minor": 2
}
