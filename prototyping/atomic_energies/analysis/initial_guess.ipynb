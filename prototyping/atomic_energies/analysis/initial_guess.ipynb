{
 "cells": [
  {
   "cell_type": "code",
   "execution_count": 1,
   "metadata": {},
   "outputs": [],
   "source": [
    "import matplotlib\n",
    "matplotlib.use('Qt5Agg')\n",
    "from matplotlib import pyplot as plt\n",
    "plt.rcParams.update({'font.size': 22})\n",
    "import numpy as np\n",
    "import glob, os\n",
    "import pandas as pd"
   ]
  },
  {
   "cell_type": "markdown",
   "metadata": {},
   "source": [
    "# lambda = 0.7894736842105263; 30 valence electrons"
   ]
  },
  {
   "cell_type": "code",
   "execution_count": 2,
   "metadata": {},
   "outputs": [],
   "source": [
    "directory='/home/misa/APDFT/prototyping/atomic_energies/results/test_calculations/converge_lambda_test/initial_conditions/val_el_30/log_files-second_run/'\n",
    "os.chdir(directory)\n",
    "\n",
    "data = []\n",
    "for file in glob.glob(\"*.scf_info\"):\n",
    "    path_file = os.path.join(directory, file)\n",
    "    df = pd.read_csv(file, sep='\\t')\n",
    "    label = file[0:len(file)-9].replace('_', ' ')\n",
    "    data.append([label, df])\n",
    "    \n",
    "data.sort()\n",
    "\n"
   ]
  },
  {
   "cell_type": "code",
   "execution_count": 3,
   "metadata": {},
   "outputs": [],
   "source": [
    "#data[0][1]"
   ]
  },
  {
   "cell_type": "code",
   "execution_count": 4,
   "metadata": {},
   "outputs": [],
   "source": [
    "def smooth(array, smoothness):\n",
    "    cp_array = array.copy()\n",
    "    for i in range(1, len(cp_array)-1):\n",
    "        if (array[i]/array[i-1]) > smoothness or (array[i]/array[i-1]) < 1/smoothness and (array[i]/array[i+1]) > smoothness or (array[i]/array[i+1]) < 1/smoothness:\n",
    "            cp_array[i] = (cp_array[i-1] + cp_array[i-1])/2\n",
    "    return(cp_array)\n",
    "\n",
    "fig, ax = plt.subplots(1)\n",
    "ax.set_title(r'$\\lambda \\approx 0.79$')\n",
    "for i in range(0, len(data)):\n",
    "    steps = data[i][1]['NFI']\n",
    "    max_orbital = data[i][1]['GEMAX']\n",
    "    #max_orbital_s = smooth(max_orbital, 5, 3)\n",
    "    ax.plot(steps, np.log10(max_orbital), label=data[i][0])\n",
    "    #plt.plot(steps, np.log10(max_orbital_s), label=data[i][0]+' smoothed')\n",
    "\n",
    "ax.set_xlabel('# of iterations')\n",
    "ax.set_ylabel(r'$\\log_{10} g_{i, max}$')\n",
    "ax.legend()\n",
    "fig.show()\n"
   ]
  },
  {
   "cell_type": "code",
   "execution_count": 5,
   "metadata": {},
   "outputs": [],
   "source": [
    "fig, ax = plt.subplots(1)\n",
    "ax.set_title(r'$\\lambda \\approx 0.79$')\n",
    "for i in range(0, len(data)):\n",
    "    steps = data[i][1]['NFI']\n",
    "    max_dE = data[i][1]['DETOT']\n",
    "    #max_orbital_s = smooth(max_orbital, 5, 3)\n",
    "    ax.plot(steps[1:], max_dE[1:], '-o', label=data[i][0], markersize=2)\n",
    "    #plt.plot(steps, np.log10(max_orbital_s), label=data[i][0]+' smoothed')\n",
    "\n",
    "ax.set_xlabel('# of iterations')\n",
    "ax.set_ylabel(r'DETOT')\n",
    "ax.legend()\n",
    "fig.show()"
   ]
  },
  {
   "cell_type": "code",
   "execution_count": 6,
   "metadata": {},
   "outputs": [],
   "source": [
    "fig, ax = plt.subplots(1)\n",
    "ax.set_title(r'$\\lambda \\approx 0.79$')\n",
    "for i in range(0, len(data)):\n",
    "    steps = data[i][1]['NFI']\n",
    "    max_dE = data[i][1]['ETOT']\n",
    "    #max_orbital_s = smooth(max_orbital, 5, 3)\n",
    "    ax.plot(steps, max_dE, '-o', label=data[i][0], markersize=2)\n",
    "    #plt.plot(steps, np.log10(max_orbital_s), label=data[i][0]+' smoothed')\n",
    "\n",
    "ax.set_xlabel('# of iterations')\n",
    "ax.set_ylabel(r'ETOT')\n",
    "ax.legend()\n",
    "fig.show()"
   ]
  },
  {
   "cell_type": "markdown",
   "metadata": {},
   "source": [
    "# lambda = 0.21052631578947367; 8 valence electrons"
   ]
  },
  {
   "cell_type": "code",
   "execution_count": 7,
   "metadata": {},
   "outputs": [],
   "source": [
    "directory='/home/misa/APDFT/prototyping/atomic_energies/results/test_calculations/converge_lambda_test/initial_conditions/val_el_8/log_files-second_run/'\n",
    "os.chdir(directory)\n",
    "\n",
    "data = []\n",
    "for file in glob.glob(\"*.scf_info\"):\n",
    "    path_file = os.path.join(directory, file)\n",
    "    df = pd.read_csv(file, sep='\\t')\n",
    "    label = file[0:len(file)-9].replace('_', ' ')\n",
    "    data.append([label, df])\n",
    "    \n",
    "data.sort()"
   ]
  },
  {
   "cell_type": "code",
   "execution_count": 8,
   "metadata": {},
   "outputs": [],
   "source": [
    "fig, ax = plt.subplots(1)\n",
    "ax.set_title(r'$\\lambda \\approx 0.21$')\n",
    "for i in range(0, len(data)):\n",
    "    steps = data[i][1]['NFI']\n",
    "    max_orbital = data[i][1]['GEMAX']\n",
    "    #max_orbital_s = smooth(max_orbital, 5, 3)\n",
    "    ax.plot(steps, np.log10(max_orbital), label=data[i][0])\n",
    "    #plt.plot(steps, np.log10(max_orbital_s), label=data[i][0]+' smoothed')\n",
    "\n",
    "ax.set_xlabel('# of iterations')\n",
    "ax.set_ylabel(r'$\\log_{10} g_{i, max}$')\n",
    "ax.legend()\n",
    "fig.show()"
   ]
  },
  {
   "cell_type": "code",
   "execution_count": 9,
   "metadata": {},
   "outputs": [],
   "source": [
    "fig, ax = plt.subplots(1)\n",
    "ax.set_title(r'$\\lambda \\approx 0.21$')\n",
    "for i in range(0, len(data)):\n",
    "    steps = data[i][1]['NFI']\n",
    "    max_dE = data[i][1]['DETOT']\n",
    "    #max_orbital_s = smooth(max_orbital, 5, 3)\n",
    "    ax.plot(steps[1:], max_dE[1:], '-o', label=data[i][0], markersize=2)\n",
    "    #plt.plot(steps, np.log10(max_orbital_s), label=data[i][0]+' smoothed')\n",
    "\n",
    "ax.set_xlabel('# of iterations')\n",
    "ax.set_ylabel(r'DETOT')\n",
    "ax.legend()\n",
    "fig.show()"
   ]
  },
  {
   "cell_type": "code",
   "execution_count": 10,
   "metadata": {},
   "outputs": [],
   "source": [
    "fig, ax = plt.subplots(1)\n",
    "ax.set_title(r'$\\lambda \\approx 0.21$')\n",
    "for i in range(0, len(data)):\n",
    "    steps = data[i][1]['NFI']\n",
    "    max_dE = data[i][1]['ETOT']\n",
    "    #max_orbital_s = smooth(max_orbital, 5, 3)\n",
    "    ax.plot(steps, max_dE, '-o', label=data[i][0], markersize=2)\n",
    "    #plt.plot(steps, np.log10(max_orbital_s), label=data[i][0]+' smoothed')\n",
    "\n",
    "ax.set_xlabel('# of iterations')\n",
    "ax.set_ylabel(r'ETOT')\n",
    "ax.legend()\n",
    "fig.show()"
   ]
  }
 ],
 "metadata": {
  "kernelspec": {
   "display_name": "Python 3",
   "language": "python",
   "name": "python3"
  },
  "language_info": {
   "codemirror_mode": {
    "name": "ipython",
    "version": 3
   },
   "file_extension": ".py",
   "mimetype": "text/x-python",
   "name": "python",
   "nbconvert_exporter": "python",
   "pygments_lexer": "ipython3",
   "version": "3.7.3"
  }
 },
 "nbformat": 4,
 "nbformat_minor": 2
}
