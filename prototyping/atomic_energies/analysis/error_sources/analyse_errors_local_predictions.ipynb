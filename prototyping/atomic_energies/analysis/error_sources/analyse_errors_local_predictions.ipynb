{
 "cells": [
  {
   "cell_type": "code",
   "execution_count": null,
   "metadata": {},
   "outputs": [],
   "source": [
    "import qml\n",
    "import numpy as np\n",
    "import itertools\n",
    "import sys\n",
    "sys.path.insert(0, '/home/misa/APDFT/prototyping/atomic_energies/')\n",
    "from parse_density_files import CUBE\n",
    "import alchemy_tools as alch\n",
    "import qml_interface as qi\n",
    "import matplotlib\n",
    "matplotlib.use('Qt5Agg')\n",
    "from matplotlib import pyplot as plt\n",
    "plt.rcParams.update({'font.size': 22})"
   ]
  },
  {
   "cell_type": "code",
   "execution_count": null,
   "metadata": {},
   "outputs": [],
   "source": [
    "# Import data\n",
    "paths=qi.wrapper_alch_data(path='/home/misa/APDFT/prototyping/atomic_energies/results/slice_ve38/finished_abs')\n",
    "alchemy_data, molecule_size = qi.load_alchemy_data(paths)\n"
   ]
  },
  {
   "cell_type": "code",
   "execution_count": null,
   "metadata": {},
   "outputs": [],
   "source": [
    "# np.savetxt('/home/misa/APDFT/prototyping/atomic_energies/analysis/global_idc_test_analyse_errors.txt', global_idc[1])\n",
    "g_tr = np.loadtxt('/home/misa/APDFT/prototyping/atomic_energies/analysis/global_idc_tr_analyse_errors.txt').astype(int)\n",
    "g_test = np.loadtxt('/home/misa/APDFT/prototyping/atomic_energies/analysis/global_idc_test_analyse_errors.txt').astype(int)"
   ]
  },
  {
   "cell_type": "code",
   "execution_count": null,
   "metadata": {},
   "outputs": [],
   "source": [
    "# select training and validation set\n",
    "training_set_size = 100\n",
    "global_idc = g_tr, g_test#qi.get_indices(len(alchemy_data), training_set_size)\n",
    "local_idc = qi.get_local_idx(global_idc[0], molecule_size), qi.get_local_idx(global_idc[1], molecule_size)\n",
    "\n",
    "# build representations and labels\n",
    "local_reps = qi.generate_atomic_representations(alchemy_data, molecule_size)\n",
    "local_labels = qi.generate_label_vector(alchemy_data, molecule_size.sum())\n",
    "\n",
    "# optimize model\n",
    "rep = local_reps[local_idc[0]], local_reps[local_idc[1]] # select the representations\n",
    "labels = local_labels[local_idc[0]], local_labels[local_idc[1]] # select the labels\n",
    "sigmas = np.logspace(-1, 4, 12) # list of hyperparameters for optimization\n",
    "lams = np.logspace(-15, 0, 16)\n",
    "opt_data, coeffs, errors = qi.optimize_hypar(rep, labels, sigmas, lams)\n",
    "\n",
    "best_sigma = opt_data[np.where(opt_data[:,2]==np.amin(opt_data[:,2]))][0][0]\n",
    "best_lambda = opt_data[np.where(opt_data[:,2]==np.amin(opt_data[:,2]))][0][1]"
   ]
  },
  {
   "cell_type": "code",
   "execution_count": null,
   "metadata": {},
   "outputs": [],
   "source": [
    "errors.mean()\n",
    "opt_data"
   ]
  },
  {
   "cell_type": "markdown",
   "metadata": {},
   "source": [
    "# The error in atomisation energy per molecule"
   ]
  },
  {
   "cell_type": "code",
   "execution_count": null,
   "metadata": {},
   "outputs": [],
   "source": [
    "# predicted atomic energergies\n",
    "atomic_energies = qi.predict_labels(rep[1], rep[0], best_sigma, coeffs)\n",
    "# true atomisation energies\n",
    "ref_atomisation_en = np.empty(len(global_idc[1]))\n",
    "for j,i in enumerate(global_idc[1]):\n",
    "    ref_atomisation_en[j] = alchemy_data[i][:,6].sum()\n",
    "\n",
    "# molecule size of molecules in test set\n",
    "molecule_size_test = molecule_size[global_idc[1]]\n",
    "\n",
    "# error per molecule\n",
    "error_molecules = qi.calculate_error_atomisation_energy(atomic_energies, molecule_size_test, labels[1])\n",
    "# error_molecules_cspline = qi.calculate_error_atomisation_energy(atomic_energies, molecule_size_test, ref_atomisation_en)\n",
    "\n",
    "error_molecules.mean()"
   ]
  },
  {
   "cell_type": "code",
   "execution_count": null,
   "metadata": {},
   "outputs": [],
   "source": [
    "0.4509086224586748"
   ]
  },
  {
   "cell_type": "code",
   "execution_count": null,
   "metadata": {},
   "outputs": [],
   "source": [
    "paths[np.where(error_molecules==np.max(error_molecules))[0][0]]\n",
    "# np.max(error_molecules_cspline)"
   ]
  },
  {
   "cell_type": "code",
   "execution_count": null,
   "metadata": {},
   "outputs": [],
   "source": [
    "# test calculate_error_atomisation_energy\n",
    "\n",
    "# predict the energies for one molecule ('/home/misa/APDFT/prototyping/atomic_energies/results/slice_ve38/dsgdb9nsd_000275/atomic_energies.txt')\n",
    "# ae = qi.predict_labels(local_reps[qi.get_local_idx([global_idc[1][2]], molecule_size)], rep[0], best_sigma, coeffs)\n",
    "# # subtract the sum of the predicted energies from the sum of the correct atomic energies\n",
    "# np.abs(ae.sum()-alchemy_data[4][:,6].sum())\n",
    "# error_molecules\n",
    "# compare value to the value in error molecules the third element for this random subset both values are the same\n",
    "# indicating that the scheme works correctly"
   ]
  },
  {
   "cell_type": "markdown",
   "metadata": {},
   "source": [
    "# Error Integration"
   ]
  },
  {
   "cell_type": "code",
   "execution_count": null,
   "metadata": {},
   "outputs": [],
   "source": [
    "trapz= error_molecules"
   ]
  },
  {
   "cell_type": "code",
   "execution_count": null,
   "metadata": {},
   "outputs": [],
   "source": [
    "cspline = error_molecules_cspline.copy()"
   ]
  },
  {
   "cell_type": "code",
   "execution_count": null,
   "metadata": {},
   "outputs": [],
   "source": [
    "print(cspline.mean())\n",
    "print(trapz.mean())"
   ]
  },
  {
   "cell_type": "code",
   "execution_count": null,
   "metadata": {},
   "outputs": [],
   "source": [
    "plt.plot(np.arange(len(trapz)),trapz - cspline, 'o')\n",
    "plt.plot(np.arange(len(trapz)), np.zeros(len(trapz)), color='black')\n",
    "plt.xlabel('Molecule ID')\n",
    "plt.ylabel(r'Error(trapz) - Error(cspline)')\n"
   ]
  },
  {
   "cell_type": "markdown",
   "metadata": {},
   "source": [
    "# Error distribution per molecule"
   ]
  },
  {
   "cell_type": "code",
   "execution_count": null,
   "metadata": {},
   "outputs": [],
   "source": [
    "# histogram\n",
    "import pandas as pd\n",
    "import matplotlib\n",
    "matplotlib.use('Qt5Agg')\n",
    "from matplotlib import pyplot as plt\n",
    "plt.rcParams.update({'font.size': 22})\n",
    "\n",
    "binwidth = error_molecules.std()/5\n",
    "total_width = np.amax(error_molecules)-np.amin(error_molecules)\n",
    "\n",
    "fhist, axhist = plt.subplots(1,1)\n",
    "axhist.hist(error_molecules, bins = 2*int(total_width/binwidth), edgecolor='black', density=True)\n",
    "s = pd.Series(error_molecules)\n",
    "axhist = s.plot.kde(bw_method=0.07)\n",
    "axhist.set_xlabel('Error per molecule [Ha]')\n",
    "axhist.set_ylabel('Frequency')"
   ]
  },
  {
   "cell_type": "markdown",
   "metadata": {},
   "source": [
    "# Mean distance of validation molecules to training molecules"
   ]
  },
  {
   "cell_type": "code",
   "execution_count": null,
   "metadata": {},
   "outputs": [],
   "source": [
    "# average distance of validation to training representations\n",
    "mean_d = np.zeros(len(local_idc[1]))\n",
    "\n",
    "for j,i in enumerate(local_idc[1]):\n",
    "    mean_d[j] = qml.distance.l2_distance(rep[0], np.array([local_reps[i]])).mean()"
   ]
  },
  {
   "cell_type": "code",
   "execution_count": null,
   "metadata": {},
   "outputs": [],
   "source": [
    "mean_d"
   ]
  },
  {
   "cell_type": "code",
   "execution_count": null,
   "metadata": {},
   "outputs": [],
   "source": [
    "# average distance of validation molecules to training molecules\n",
    "\n",
    "# molecule size of molecules in test set\n",
    "molecule_size_test = molecule_size[global_idc[1]]\n",
    "\n",
    "# sum up atomic energies\n",
    "mean_d_molecule = np.zeros(len(molecule_size_test))\n",
    "start = 0\n",
    "for idx, size in enumerate(molecule_size_test):\n",
    "    mean_d_molecule[idx] = mean_d[start:start+size].sum()/size\n",
    "    start += size"
   ]
  },
  {
   "cell_type": "code",
   "execution_count": null,
   "metadata": {},
   "outputs": [],
   "source": [
    "plt.plot(molecule_size_test, error_molecules/molecule_size_test, 'o')"
   ]
  },
  {
   "cell_type": "code",
   "execution_count": null,
   "metadata": {},
   "outputs": [],
   "source": [
    "\n",
    "local_reps_89 =  qml.representations.generate_atomic_coulomb_matrix(alchemy_data[285][:,0], alchemy_data[285][:,[1,2,3]], size=np.amax(molecule_size), sorting='distance')\n",
    "\n",
    "# average distance of validation to training representations\n",
    "qml.distance.l2_distance(rep[0], np.array(local_reps_89)).mean()"
   ]
  },
  {
   "cell_type": "code",
   "execution_count": null,
   "metadata": {},
   "outputs": [],
   "source": [
    "local_reps_89 =  qml.representations.generate_atomic_coulomb_matrix(alchemy_data[285][:,0], alchemy_data[285][:,[1,2,3]], size=np.amax(molecule_size), sorting='distance')\n",
    "\n",
    "local_reps_89.shape"
   ]
  },
  {
   "cell_type": "markdown",
   "metadata": {},
   "source": [
    "# select similiar molecules with different error"
   ]
  },
  {
   "cell_type": "code",
   "execution_count": null,
   "metadata": {},
   "outputs": [],
   "source": [
    "# select four molecules around distance = 143\n",
    "sel_y=mean_d_molecule[np.where( (mean_d_molecule<143.5) & (mean_d_molecule>142.3) )]\n",
    "sel_x=trapz[np.where( (mean_d_molecule<143.5) & (mean_d_molecule>142.3) )]"
   ]
  },
  {
   "cell_type": "code",
   "execution_count": null,
   "metadata": {},
   "outputs": [],
   "source": [
    "np.where( (mean_d_molecule<143.5) & (mean_d_molecule>142.3) )"
   ]
  },
  {
   "cell_type": "code",
   "execution_count": null,
   "metadata": {},
   "outputs": [],
   "source": [
    "sel_x"
   ]
  },
  {
   "cell_type": "code",
   "execution_count": null,
   "metadata": {},
   "outputs": [],
   "source": [
    "idx=[0, 72, 229, 424]\n",
    "trapz[idx]"
   ]
  },
  {
   "cell_type": "code",
   "execution_count": null,
   "metadata": {},
   "outputs": [],
   "source": [
    "# select 3 molecules around distance = 128 (normalized error)\n",
    "large_error = np.where( (mean_d_molecule<129.5) & (mean_d_molecule>128) & (error_molecules>2) )\n",
    "small_error = np.where( (mean_d_molecule<129.5) & (mean_d_molecule>128) & (error_molecules<0.01) )\n",
    "np.array([large_error[0],small_error[0]])\n",
    "idx_128= np.array([small_error[0][0], large_error[0][0], large_error[0][1]])"
   ]
  },
  {
   "cell_type": "code",
   "execution_count": null,
   "metadata": {},
   "outputs": [],
   "source": [
    "fig, ax = plt.subplots(1,1)\n",
    "ax.plot(trapz,mean_d_molecule, 'o')\n",
    "# ax.plot(trapz[idx]/molecule_size_test[idx],mean_d_molecule[idx], 'o')\n",
    "# ax.plot(trapz[idx_128]/molecule_size_test[idx_128],mean_d_molecule[idx_128], 'o')\n",
    "\n",
    "# ax.plot(cspline[idx], mean_d_molecule[idx], 'o', label='cspline integration')\n",
    "h_high = np.zeros(len(np.linspace(-10,10, 20)))\n",
    "h_high.fill(143)\n",
    "h_low = np.zeros(len(np.linspace(-10,10, 20)))\n",
    "h_low.fill(1300)\n",
    "ax.plot(np.linspace(-0,0.5, 20), h_high, color='darkorange')\n",
    "# ax.plot(np.linspace(-0,5, 20), h_low)\n",
    "ax.set_xlabel('Error per molecule [Ha]')\n",
    "ax.set_ylabel('Mean distance of test molecule to the training molecules')"
   ]
  },
  {
   "cell_type": "code",
   "execution_count": null,
   "metadata": {},
   "outputs": [],
   "source": [
    "# global index of molecules\n",
    "global_idc[1][idx]"
   ]
  },
  {
   "cell_type": "code",
   "execution_count": null,
   "metadata": {},
   "outputs": [],
   "source": [
    "idx=[0, 72, 229, 424]\n",
    "trapz[idx]"
   ]
  },
  {
   "cell_type": "code",
   "execution_count": null,
   "metadata": {},
   "outputs": [],
   "source": [
    "# test if selected molecules have indeed same distance but different errors\n",
    "max_size = np.amax(molecule_size)\n",
    "idx_selected = [285, 89, 515, 0]\n",
    "for i in idx_selected:\n",
    "    molecule = alchemy_data[i]\n",
    "    # make rep\n",
    "    rep_selected = qml.representations.generate_atomic_coulomb_matrix(molecule[:,0], molecule[:,[1,2,3]], size=max_size, sorting='distance')\n",
    "    # error per molecule\n",
    "    en_selected = qi.predict_labels(rep_selected, rep[0], best_sigma, coeffs).sum()\n",
    "    error = np.abs(molecule[:,6].sum()-en_selected)\n",
    "    # error normalized by molecule size\n",
    "    error_norml = error/molecule_size[i]\n",
    "    # mean distance to training data\n",
    "    mean_dist = qml.distance.l2_distance(rep_selected, rep[0]).mean()\n",
    "    \n",
    "    print('Comopund {}'.format(paths[i].split('/')[-2]))\n",
    "    print('Error = {}'.format(error))\n",
    "    print('Error per atom = {}'.format(error_norml))\n",
    "    print('Mean distance = {}'.format(mean_dist))\n",
    "    print('\\n')"
   ]
  },
  {
   "cell_type": "code",
   "execution_count": null,
   "metadata": {},
   "outputs": [],
   "source": [
    "# molecule 128\n",
    "\n",
    "idx_selected = global_idc[1][idx_128]\n",
    "for i in idx_selected:\n",
    "    molecule = alchemy_data[i]\n",
    "    # make rep\n",
    "    rep_selected = qml.representations.generate_atomic_coulomb_matrix(molecule[:,0], molecule[:,[1,2,3]], size=max_size, sorting='distance')\n",
    "    # error per molecule\n",
    "    en_selected = qi.predict_labels(rep_selected, rep[0], best_sigma, coeffs).sum()\n",
    "    error = np.abs(molecule[:,6].sum()-en_selected)\n",
    "    # error normalized by molecule size\n",
    "    error_norml = error/molecule_size[i]\n",
    "    # mean distance to training data\n",
    "    mean_dist = qml.distance.l2_distance(rep_selected, rep[0]).mean()\n",
    "    \n",
    "    print('Comopund {}'.format(paths[i].split('/')[-2]))\n",
    "    print('Error = {}'.format(error))\n",
    "    print('Error per atom = {}'.format(error_norml))\n",
    "    print('Mean distance = {}'.format(mean_dist))\n",
    "    print('\\n')"
   ]
  },
  {
   "cell_type": "markdown",
   "metadata": {},
   "source": [
    "# Error vs mean distance from training data"
   ]
  },
  {
   "cell_type": "code",
   "execution_count": null,
   "metadata": {},
   "outputs": [],
   "source": [
    "fig, ax = plt.subplots(1,1)\n",
    "ax.plot(mean_d_molecule, trapz, 'o')\n",
    "ax.set_ylabel('Error per molecule [Ha]')\n",
    "ax.set_xlabel('Mean distance of test molecule to the training molecules')"
   ]
  },
  {
   "cell_type": "code",
   "execution_count": null,
   "metadata": {},
   "outputs": [],
   "source": [
    "err = trapz-cspline\n",
    "x=np.arange(len(err))\n",
    "plt.plot(mean_d_molecule, err, 'o')"
   ]
  },
  {
   "cell_type": "markdown",
   "metadata": {},
   "source": [
    "# Molecules with biggest Error"
   ]
  },
  {
   "cell_type": "code",
   "execution_count": null,
   "metadata": {},
   "outputs": [],
   "source": [
    "# molecules with biggest error\n",
    "error_molecules[np.where(error_molecules>3.0)]\n",
    "idx_largest_error = global_idc[1][np.where(error_molecules>3.0)]\n",
    "\n",
    "#\n",
    "for i in idx_largest_error:\n",
    "    print(i, paths[i])"
   ]
  },
  {
   "cell_type": "markdown",
   "metadata": {},
   "source": [
    "# Error distribution atomic energies"
   ]
  },
  {
   "cell_type": "code",
   "execution_count": null,
   "metadata": {},
   "outputs": [],
   "source": [
    "import qml\n",
    "import numpy as np\n",
    "import itertools\n",
    "import sys\n",
    "sys.path.insert(0, '/home/misa/APDFT/prototyping/atomic_energies/')\n",
    "from parse_density_files import CUBE\n",
    "import alchemy_tools as alch\n",
    "import qml_interface as qi\n",
    "import matplotlib\n",
    "matplotlib.use('Qt5Agg')\n",
    "from matplotlib import pyplot as plt\n",
    "plt.rcParams.update({'font.size': 22})"
   ]
  },
  {
   "cell_type": "code",
   "execution_count": null,
   "metadata": {},
   "outputs": [],
   "source": [
    "# Import data\n",
    "paths=qi.wrapper_alch_data(path='/home/misa/APDFT/prototyping/atomic_energies/results/slice_ve38/finished_abs')\n",
    "alchemy_data, molecule_size = qi.load_alchemy_data(paths)\n",
    "# local data\n",
    "local_reps = qi.generate_atomic_representations(alchemy_data, molecule_size)\n",
    "local_labels = qi.generate_label_vector(alchemy_data, molecule_size.sum(), value='atomisation')\n",
    "\n",
    "# optimized hyperparameters\n",
    "# hypar = '/home/misa/APDFT/prototyping/atomic_energies/results/analyse_learning/optimized_hyperparameters.txt'\n",
    "# with open(hypar, 'r') as f:\n",
    "#     lines = f.readlines()\n",
    "sigma = 432.8761281083057 #float(lines[3].split('\\t')[0])\n",
    "lam = 1e-7 # float(lines[3].split('\\t')[1])\n",
    "# sigma_h = float(lines[4].split('\\t')[0])\n",
    "# lam_h = float(lines[4].split('\\t')[1])"
   ]
  },
  {
   "cell_type": "code",
   "execution_count": null,
   "metadata": {},
   "outputs": [],
   "source": [
    "errors = []\n",
    "nuc_charges = []\n",
    "num_cross = 30\n",
    "tr_set_size = 512\n",
    "\n",
    "for i in range(0, num_cross):\n",
    "    # select random data points\n",
    "    # split data into training and validation set\n",
    "    global_idc_tr, global_idc_val = qi.get_indices(len(molecule_size), tr_set_size)\n",
    "    local_idc_tr, local_idc_val = qi.get_local_idx(global_idc_tr, molecule_size), qi.get_local_idx(global_idc_val, molecule_size)\n",
    "    for idx in global_idc_val:\n",
    "        nuc_charges.extend(alchemy_data[idx][:,0])\n",
    "    \n",
    "    \n",
    "    rep_tr, rep_test = local_reps[local_idc_tr], local_reps[local_idc_val] # select the representations\n",
    "    labels_tr, labels_test = local_labels[local_idc_tr], local_labels[local_idc_val] # select the labels\n",
    "    \n",
    "    # train and predict\n",
    "    coeffs = qi.train_kernel(rep_tr, labels_tr, sigma, lam)\n",
    "    labels_pred = qi.predict_labels(rep_test, rep_tr, sigma, coeffs)\n",
    "    # calculate errors\n",
    "    errors.extend(labels_test - labels_pred)"
   ]
  },
  {
   "cell_type": "code",
   "execution_count": null,
   "metadata": {},
   "outputs": [],
   "source": [
    "np.array(errors).shape"
   ]
  },
  {
   "cell_type": "markdown",
   "metadata": {},
   "source": [
    "# Crossvalidation only Hydrogen"
   ]
  },
  {
   "cell_type": "code",
   "execution_count": null,
   "metadata": {
    "scrolled": true
   },
   "outputs": [],
   "source": [
    "# # learn only hydrogen energies from hydrogen\n",
    "# h_errors = []\n",
    "\n",
    "# num_cv = 10\n",
    "# tr_set_size = 500\n",
    "\n",
    "# sigmas = np.logspace(-1, 4, 12).tolist()\n",
    "# lams = np.logspace(-15, 0, 16).tolist()\n",
    "# opt_data = np.zeros((num_cv, len(sigmas)*len(lams), 3))\n",
    "\n",
    "# for i in range(0, num_cv):\n",
    "#     # select random data points\n",
    "#     # split data into training and validation set\n",
    "#     global_idc_tr, global_idc_val = qi.get_indices(len(molecule_size), tr_set_size)\n",
    "#     local_idc_tr, local_idc_val = qi.get_local_idx(global_idc_tr, molecule_size), qi.get_local_idx(global_idc_val, molecule_size)\n",
    "    \n",
    "#     # get indices of hydrogen in training and test set\n",
    "#     nuc_charges_test = []\n",
    "#     for idx in global_idc_val:\n",
    "#         nuc_charges_test.extend(alchemy_data[idx][:,0])\n",
    "#     nuc_charges_test = np.array(nuc_charges_test).astype(int)\n",
    "    \n",
    "#     nuc_charges_tr = []\n",
    "#     for idx in global_idc_tr:\n",
    "#         nuc_charges_tr.extend(alchemy_data[idx][:,0])\n",
    "#     nuc_charges_tr = np.array(nuc_charges_tr).astype(int)\n",
    "    \n",
    "    \n",
    "#     rep_tr, rep_test = local_reps[local_idc_tr], local_reps[local_idc_val] # select the representations\n",
    "#     labels_tr, labels_test = local_labels[local_idc_tr], local_labels[local_idc_val] # select the labels\n",
    "    \n",
    "#     rep_tr_h, rep_test_h = rep_tr[np.where(nuc_charges_tr==1)], rep_test[np.where(nuc_charges_test==1)]\n",
    "#     labels_tr_h, labels_test_h = labels_tr[np.where(nuc_charges_tr==1)], labels_test[np.where(nuc_charges_test==1)]\n",
    "    \n",
    "#     # optimize hyperparamters\n",
    "#     results = qi.optimize_hypar((rep_tr_h, rep_test_h), (labels_tr_h, labels_test_h), sigmas, lams)\n",
    "#     opt_data[i] = results[0]"
   ]
  },
  {
   "cell_type": "code",
   "execution_count": null,
   "metadata": {},
   "outputs": [],
   "source": [
    "# # find set of hyperparameters with minimum mean error\n",
    "# mean_errors = opt_data.mean(axis=0)[:,2] # mean error for every set of hyper-paramters\n",
    "# std = opt_data.std(axis=0)[:,2]\n",
    "# min_error = np.amin(mean_errors) # minimum mean error\n",
    "# idx_opt = np.where(mean_errors==min_error) # idx of set of hyperparameters with lowest mean error\n",
    "# opt_sigma = opt_data[0][idx_opt][0,0] # sigma value for minimum error\n",
    "# opt_lambda = opt_data[0][idx_opt][0,1] # lambda value for minimum error"
   ]
  },
  {
   "cell_type": "code",
   "execution_count": null,
   "metadata": {},
   "outputs": [],
   "source": [
    "# learn only hydrogen energies from hydrogen\n",
    "h_errors = []\n",
    "\n",
    "num_cv = 10\n",
    "tr_set_size = 500\n",
    "\n",
    "for i in range(0, num_cv):\n",
    "    # select random data points\n",
    "    # split data into training and validation set\n",
    "    global_idc_tr, global_idc_val = qi.get_indices(len(molecule_size), tr_set_size)\n",
    "    local_idc_tr, local_idc_val = qi.get_local_idx(global_idc_tr, molecule_size), qi.get_local_idx(global_idc_val, molecule_size)\n",
    "    \n",
    "    # get indices of hydrogen in training and test set\n",
    "    nuc_charges_test = []\n",
    "    for idx in global_idc_val:\n",
    "        nuc_charges_test.extend(alchemy_data[idx][:,0])\n",
    "    nuc_charges_test = np.array(nuc_charges_test).astype(int)\n",
    "    \n",
    "    nuc_charges_tr = []\n",
    "    for idx in global_idc_tr:\n",
    "        nuc_charges_tr.extend(alchemy_data[idx][:,0])\n",
    "    nuc_charges_tr = np.array(nuc_charges_tr).astype(int)\n",
    "    \n",
    "    \n",
    "    rep_tr, rep_test = local_reps[local_idc_tr], local_reps[local_idc_val] # select the representations\n",
    "    labels_tr, labels_test = local_labels[local_idc_tr], local_labels[local_idc_val] # select the labels\n",
    "    \n",
    "    rep_tr_h, rep_test_h = rep_tr[np.where(nuc_charges_tr==1)], rep_test[np.where(nuc_charges_test==1)]\n",
    "    labels_tr_h, labels_test_h = labels_tr[np.where(nuc_charges_tr==1)], labels_test[np.where(nuc_charges_test==1)]\n",
    "   \n",
    "    # train and predict\n",
    "    coeffs = qi.train_kernel(rep_tr_h, labels_tr_h, sigma_h, lam_h)\n",
    "    labels_pred = qi.predict_labels(rep_test_h, rep_tr_h, sigma_h, coeffs)\n",
    "    # calculate errors\n",
    "    h_errors.extend(labels_test_h - labels_pred)"
   ]
  },
  {
   "cell_type": "code",
   "execution_count": null,
   "metadata": {},
   "outputs": [],
   "source": [
    "h_errors = np.array(h_errors)"
   ]
  },
  {
   "cell_type": "code",
   "execution_count": null,
   "metadata": {},
   "outputs": [],
   "source": [
    "atomic_errors = np.array(errors)\n",
    "nuc_charges = np.array(nuc_charges).astype(int)"
   ]
  },
  {
   "cell_type": "code",
   "execution_count": null,
   "metadata": {},
   "outputs": [],
   "source": [
    "# histogram\n",
    "import pandas as pd\n",
    "import scipy as sp\n",
    "import matplotlib\n",
    "matplotlib.use('Qt5Agg')\n",
    "from matplotlib import pyplot as plt\n",
    "plt.rcParams.update({'font.size': 22})\n",
    "\n",
    "binwidth = atomic_errors.std()/20\n",
    "total_width = np.amax(atomic_errors)-np.amin(atomic_errors)\n",
    "\n",
    "# complete graph\n",
    "fhist, axhist = plt.subplots(1,1)\n",
    "axhist.hist(atomic_errors, bins = int(total_width/binwidth), density=False, label = 'combined error')\n",
    "axhist.set_xlabel('Error per atom [Ha]')\n",
    "axhist.set_ylabel('Frequency')\n",
    "axhist.set_xlim(-0.75,0.75)\n",
    "# axhist.set_ylim(0,20)\n",
    "\n",
    "# split up by element\n",
    "elements = list(set(nuc_charges))\n",
    "elements.sort()\n",
    "\n",
    "for el in elements:\n",
    "    errors_element = atomic_errors[np.where(nuc_charges==el)]\n",
    "\n",
    "    binwidth = atomic_errors.std()/10\n",
    "    total_width = np.amax(atomic_errors)-np.amin(atomic_errors)\n",
    "    axhist.hist(errors_element, bins = int(total_width/binwidth), density=False, label = 'Z = {}'.format(el))\n",
    "    \n",
    "axhist.legend()\n",
    "\n"
   ]
  },
  {
   "cell_type": "code",
   "execution_count": null,
   "metadata": {},
   "outputs": [],
   "source": [
    "for el in elements:\n",
    "    errors_element = atomic_errors[np.where(nuc_charges==el)]\n",
    "    print('Number training points Z = {}: {}'.format(el, len(errors_element)))"
   ]
  },
  {
   "cell_type": "code",
   "execution_count": null,
   "metadata": {},
   "outputs": [],
   "source": [
    "# Mean errors\n",
    "for el in elements:\n",
    "    errors_element = atomic_errors[np.where(nuc_charges==el)]\n",
    "    print('Mean error Z = {} : {} '.format(el, np.abs(errors_element).mean()))\n",
    "    \n",
    "print('Mean error only hydrogen: {}'.format(np.abs(h_errors).mean()))"
   ]
  },
  {
   "cell_type": "code",
   "execution_count": null,
   "metadata": {},
   "outputs": [],
   "source": [
    "# only kde distribution function\n",
    "fhist, axhist = plt.subplots(1,1)\n",
    "s = pd.Series(atomic_errors)\n",
    "axhist = s.plot.kde(bw_method=0.1)\n",
    "axhist.set_xlabel('Error per atom [Ha]')\n",
    "axhist.set_xlim(-0.15,0.15)\n",
    "axhist.set_ylabel('Frequency')\n",
    "axhist.set_ylim(0,18)\n",
    "\n",
    "# split up by element\n",
    "for el in set(nuc_charges):\n",
    "    errors_element = atomic_errors[np.where(nuc_charges==el)]\n",
    "\n",
    "    s = pd.Series(errors_element)\n",
    "    axhist = s.plot.kde()"
   ]
  },
  {
   "cell_type": "code",
   "execution_count": null,
   "metadata": {},
   "outputs": [],
   "source": [
    "# export kdes\n",
    "import scipy as sc\n",
    "total_error_kde=sc.stats.gaussian_kde(pd.Series(atomic_errors))\n",
    "\n",
    "kde_elements = []\n",
    "# split up by element\n",
    "list_c = list(set(nuc_charges))\n",
    "list_c.sort()\n",
    "for el in list_c:\n",
    "    errors_element = atomic_errors[np.where(nuc_charges==el)]\n",
    "\n",
    "    s = pd.Series(errors_element)\n",
    "    kde_elements.append(sc.stats.gaussian_kde(s))\n"
   ]
  },
  {
   "cell_type": "code",
   "execution_count": null,
   "metadata": {},
   "outputs": [],
   "source": [
    "base_path = '/home/misa/APDFT/prototyping/atomic_energies/results/analyse_learning/error_distributions_atomic_atomisation_energies/kde_error_distribution_atomic_energy_'\n",
    "paths = [base_path+'H.txt', base_path+'C.txt', base_path+'N.txt', base_path+'O.txt']\n",
    "for e in zip(kde_elements, paths):\n",
    "   np.savetxt(e[1], np.array([np.linspace(-1, 1, 1000), e[0].evaluate(np.linspace(-1, 1, 1000))]).T, delimiter='\\t')"
   ]
  },
  {
   "cell_type": "code",
   "execution_count": null,
   "metadata": {},
   "outputs": [],
   "source": [
    "np.savetxt(base_path+'total.txt',  np.array([np.linspace(-1, 1, 1000), total_error_kde.evaluate(np.linspace(-1, 1, 1000))]).T, delimiter='\\t')"
   ]
  },
  {
   "cell_type": "code",
   "execution_count": null,
   "metadata": {},
   "outputs": [],
   "source": [
    "atomic_errors.mean()"
   ]
  },
  {
   "cell_type": "code",
   "execution_count": null,
   "metadata": {},
   "outputs": [],
   "source": [
    "# cumulated error distribution function\n",
    "atomic_errors_sorted = atomic_errors.copy()\n",
    "atomic_errors_sorted.sort()\n",
    "\n",
    "fig_cum, ax_cum = plt.subplots(1,1)\n",
    "out = sp.stats.cumfreq(atomic_errors_sorted,20*int(total_width/binwidth))\n",
    "x = np.arange(len(out.cumcount))*out.binsize+(out.lowerlimit+out.binsize/2)\n",
    "ax_cum.plot(x,out.cumcount/np.amax(out.cumcount), label='combined error')\n",
    "\n",
    "# show center for ideal function\n",
    "horizontal_x = np.linspace(np.amin(x), 0.0, 50)\n",
    "horizontal_y = np.array([0.5]*len(horizontal_x))\n",
    "ax_cum.plot(horizontal_x, horizontal_y, '--', color='grey')\n",
    "\n",
    "vertical_y = np.linspace(0.0, 0.5, 50)\n",
    "vertical_x = np.zeros(len(vertical_y))\n",
    "ax_cum.plot(vertical_x, vertical_y, '--', color='grey')\n",
    "ax_cum.scatter(0.0, 0.5, color='grey', marker='x')\n",
    "\n",
    "# plt.xlim(-0.2,0.2)\n",
    "# plt.ylim(0,1)\n",
    "\n",
    "plt.xlabel('Error (Ha)')\n",
    "plt.ylabel('CDF(Error)')\n",
    "\n",
    "# show center of our function\n",
    "x0=np.where(out.cumcount/np.amax(out.cumcount)<0.5)[0][-1]\n",
    "normalized=out.cumcount/np.amax(out.cumcount)\n",
    "m=(normalized[x0+1]-normalized[x0])/(x[x0+1]-x[x0])\n",
    "b = normalized[x0]-m*x[x0]\n",
    "ax_cum.scatter((0.5-b)/m, 0.5, color='red', marker='x')\n",
    "\n",
    "# split up by element\n",
    "elements = list(set(nuc_charges))\n",
    "elements.sort()\n",
    "\n",
    "# split up by element\n",
    "for el in elements:\n",
    "    errors_element = atomic_errors[np.where(nuc_charges==el)]\n",
    "\n",
    "    errors_element_sorted = errors_element.copy()\n",
    "    errors_element_sorted.sort()\n",
    "    \n",
    "    # cumulated error distribution function\n",
    "    out = sp.stats.cumfreq(errors_element_sorted,20*int(total_width/binwidth))\n",
    "    x = np.arange(len(out.cumcount))*out.binsize+(out.lowerlimit+out.binsize/2)\n",
    "    ax_cum.plot(x,out.cumcount/np.amax(out.cumcount), label = 'Z = {}'.format(el) )\n",
    "    \n",
    "    x0=np.where(out.cumcount/np.amax(out.cumcount)<0.5)[0][-1]\n",
    "    normalized=out.cumcount/np.amax(out.cumcount)\n",
    "    m=(normalized[x0+1]-normalized[x0])/(x[x0+1]-x[x0])\n",
    "    b = normalized[x0]-m*x[x0]\n",
    "    ax_cum.scatter((0.5-b)/m, 0.5, color='red', marker='x')\n",
    "    \n",
    "ax_cum.set_xlim(-0.2, 0.2)\n",
    "ax_cum.set_ylim(0, 1.0)\n",
    "ax_cum.legend()"
   ]
  },
  {
   "cell_type": "code",
   "execution_count": null,
   "metadata": {},
   "outputs": [],
   "source": [
    "for el in set(nuc_charges):\n",
    "    print(el, np.amin(atomic_errors[np.where(nuc_charges==el)]))\n",
    "    print(el, np.amax(atomic_errors[np.where(nuc_charges==el)]))"
   ]
  },
  {
   "cell_type": "code",
   "execution_count": null,
   "metadata": {},
   "outputs": [],
   "source": [
    "# zoom in main peak\n",
    "fhist, axhist = plt.subplots(1,1)\n",
    "axhist.hist(atomic_errors, bins = 20*int(total_width/binwidth), density=True)\n",
    "s = pd.Series(atomic_errors)\n",
    "axhist = s.plot.kde(bw_method=0.07)\n",
    "axhist.set_xlabel('Error per atom [Ha]')\n",
    "axhist.set_xlim(-0.1,0.1)\n",
    "axhist.set_ylabel('Frequency')\n",
    "axhist.set_ylim(0,20)\n",
    "# only kde distribution function\n",
    "fhist, axhist = plt.subplots(1,1)\n",
    "s = pd.Series(atomic_errors)\n",
    "axhist = s.plot.kde(bw_method=0.1)\n",
    "axhist.set_xlabel('Error per atom [Ha]')\n",
    "axhist.set_xlim(-0.3,0.3)\n",
    "axhist.set_ylabel('Frequency')\n",
    "axhist.set_ylim(0,20)"
   ]
  },
  {
   "cell_type": "code",
   "execution_count": null,
   "metadata": {},
   "outputs": [],
   "source": []
  }
 ],
 "metadata": {
  "kernelspec": {
   "display_name": "Python (atmoic-energies)",
   "language": "python",
   "name": "atomic-energies"
  },
  "language_info": {
   "codemirror_mode": {
    "name": "ipython",
    "version": 3
   },
   "file_extension": ".py",
   "mimetype": "text/x-python",
   "name": "python",
   "nbconvert_exporter": "python",
   "pygments_lexer": "ipython3",
   "version": "3.7.3"
  }
 },
 "nbformat": 4,
 "nbformat_minor": 2
}
