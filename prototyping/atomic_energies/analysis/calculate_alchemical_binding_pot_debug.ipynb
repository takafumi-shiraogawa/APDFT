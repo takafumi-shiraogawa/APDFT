{
 "cells": [
  {
   "cell_type": "code",
   "execution_count": 1,
   "metadata": {},
   "outputs": [],
   "source": [
    "import sys\n",
    "sys.path.insert(0, '/home/misa/git_repositories/APDFT/prototyping/atomic_energies/')\n",
    "\n",
    "from ase.units import Bohr\n",
    "import numpy as np\n",
    "import qml_interface as qmi\n",
    "import geometry_euston as ge\n",
    "import glob\n",
    "import scipy as sc\n",
    "from matplotlib import pyplot as plt\n",
    "\n",
    "\n",
    "\n",
    "import alchemy_tools2 as at\n",
    "import utils_qm as uq\n",
    "\n",
    "def get_alchpot_free_fit(molecule, poly_obs):\n",
    "    \"\"\"\n",
    "    calculates the alchemical binding potential for every atom in molecule\n",
    "    \"\"\"\n",
    "    # construct h matrix\n",
    "    h_mat = ge.abc_to_hmatrix(20,20,20,90,90,90)/Bohr\n",
    "    # get alchpot of free atoms\n",
    "    alch_pot_free = []\n",
    "    for atom_I in molecule:\n",
    "        alch_pot_free_I = 0\n",
    "        for atom_J in molecule:\n",
    "            dist = ge.distance_pbc(atom_I[1:4], atom_J[1:4], h_mat)\n",
    "                    \n",
    "            nuc_charge = atom_J[0]\n",
    "            poly_obj = poly_obs[nuc_charge] # dictionary\n",
    "            elec_pot = poly_obj.__call__([dist])[0]\n",
    "            alch_pot_free_I += elec_pot\n",
    "        alch_pot_free.append(alch_pot_free_I)\n",
    "    alch_pot_free = np.array(alch_pot_free)\n",
    "    return(alch_pot_free)\n",
    "\n",
    "def get_alch_bind_pot(molecule, poly_obs):\n",
    "    \"\"\"\n",
    "    calculates the alchemical binding potential for every atom in molecule\n",
    "    \"\"\"\n",
    "    alch_pot_free = get_alchpot_free_fit(molecule, poly_obs)\n",
    "    alch_pot_bind = molecule[:, 4] - alch_pot_free\n",
    "    return(alch_pot_bind)\n",
    "\n",
    "def get_element_charge(el):\n",
    "    if el == 'H':\n",
    "        return(1)\n",
    "    elif el == 'C':\n",
    "        return(6)\n",
    "    elif el == 'N':\n",
    "        return(7)\n",
    "    elif el == 'O':\n",
    "        return(8)\n",
    "    else:\n",
    "        raise ValueError('Symbol for given charge not available')\n",
    "\n",
    "def load_poly_objs(paths_poly):\n",
    "    poly_objs = dict()\n",
    "    for p in paths_poly:\n",
    "        el = p.split('/')[-1].split('_')[-1]\n",
    "        charge = get_element_charge(el)\n",
    "        poly_objs[charge] = uq.load_obj(p)\n",
    "    return(poly_objs)\n",
    "\n",
    "def get_alchpot_free(nuclei, densities_free_atoms, meshgrid, h_matrix, pos_free_atom = np.array([10.0, 10, 10])/Bohr):\n",
    "    \"\"\"\n",
    "    calculate alchemical potential of free atoms at position of every nucleus\n",
    "    length units should be given in Bohr\n",
    "    \"\"\"\n",
    "    alch_pot_free = []\n",
    "    for atom_I in nuclei:\n",
    "        alch_pot_free_I = 0\n",
    "        for atom_J in nuclei:\n",
    "            # get density of free atom J\n",
    "            nuc_charge = atom_J[0]\n",
    "            density_fa = densities_free_atoms[nuc_charge]\n",
    "            \n",
    "            # calculate distance of R_I to all gridpoints (shift because free J is in center of box)\n",
    "            s = (pos_free_atom - atom_J[1:4])\n",
    "            RI_prime = atom_I[1:4] + s\n",
    "            dist = at.distance_MIC2(RI_prime, meshgrid, h_matrix)\n",
    "            # integrate\n",
    "            elec_pot = -(density_fa/dist).sum()\n",
    "\n",
    "            alch_pot_free_I += elec_pot\n",
    "            \n",
    "        alch_pot_free.append(alch_pot_free_I)\n",
    "        \n",
    "    return(np.array(alch_pot_free))\n",
    "\n",
    "def get_meshgrid(lx, ly, lz, nx, ny, nz):\n",
    "    \"\"\"\n",
    "    returns the coordinates of the grid points where the density values are given as a meshgrid\n",
    "    works so far only for orthogonal coordinate axes\n",
    "    \"\"\"\n",
    "    # length along the axes\n",
    "    l_x = lx[0]*nx\n",
    "    l_y = ly[1]*ny\n",
    "    l_z = lz[2]*nz\n",
    "    # gpts along every axis\n",
    "    x_coords = np.linspace(0, l_x-lx[0], nx)\n",
    "    y_coords = np.linspace(0, l_y-ly[1], ny)\n",
    "    z_coords = np.linspace(0, l_z-lz[2], nz)\n",
    "    # create gridpoints\n",
    "    meshgrid = np.meshgrid(x_coords, y_coords, z_coords, indexing='ij')\n",
    "    return(meshgrid)"
   ]
  },
  {
   "cell_type": "code",
   "execution_count": 19,
   "metadata": {},
   "outputs": [],
   "source": [
    "# explicit\n",
    "\n",
    "# load average density of free atoms\n",
    "base_path = '/home/misa/APDFT/prototyping/atomic_energies/results/slice_ve38/free_atoms/'\n",
    "densities_free_atoms = {1.0:None, 6.0:None, 7.0:None, 8.0:None}\n",
    "elements = ['H', 'C', 'N', 'O']\n",
    "for el, k in zip(elements, densities_free_atoms):\n",
    "    densities_free_atoms[k] = uq.load_obj(base_path + f'av_dens_{el}')\n",
    "\n",
    "# get meshgrid and h_matrix\n",
    "#  cell_parameters\n",
    "nx, ny, nz = densities_free_atoms[1.0].shape\n",
    "lx, ly, lz = np.array([[20/(Bohr*nx), 0 , 0], [0, 20/(Bohr*ny), 0], [0, 0, 20/(Bohr*nz)]])\n",
    "\n",
    "h_matrix = [lx*nx, ly*ny, lz*nz]\n",
    "meshgrid = get_meshgrid(lx, ly, lz, nx, ny, nz)\n",
    "\n",
    "compound_path = '/home/misa/APDFT/prototyping/atomic_energies/results/slice_ve38/dsgdb9nsd_000274/'\n",
    "molecule = np.loadtxt(compound_path + 'atomic_energies_with_mic.txt')\n",
    "\n",
    "\n",
    "alchpot_free_explicit= get_alchpot_free(molecule, densities_free_atoms, meshgrid, h_matrix)"
   ]
  },
  {
   "cell_type": "code",
   "execution_count": 20,
   "metadata": {},
   "outputs": [
    {
     "data": {
      "text/plain": [
       "array([-6.30634156, -7.0606324 , -7.39112216, -7.41569327, -6.56818392,\n",
       "       -6.70726212, -5.24422945, -5.58060647, -5.46210059, -6.156898  ,\n",
       "       -6.15757575, -6.30547768, -6.49797604, -6.4215648 , -5.81078825,\n",
       "       -5.57179625, -5.63291808, -5.90932731, -5.66250377, -5.92040317])"
      ]
     },
     "execution_count": 20,
     "metadata": {},
     "output_type": "execute_result"
    }
   ],
   "source": [
    "alchpot_free_explicit"
   ]
  },
  {
   "cell_type": "code",
   "execution_count": 2,
   "metadata": {},
   "outputs": [],
   "source": [
    "# from fit\n",
    "compound_path = '/home/misa/APDFT/prototyping/atomic_energies/results/slice_ve38/dsgdb9nsd_000274/'\n",
    "molecule = np.loadtxt(compound_path + 'atomic_energies_with_mic.txt')\n",
    "\n",
    "# debug get_alchpot_free\n",
    "paths_poly = ['/home/misa/APDFT/prototyping/atomic_energies/results/slice_ve38/free_atoms/H/poly_H',\n",
    "              '/home/misa/APDFT/prototyping/atomic_energies/results/slice_ve38/free_atoms/C/poly_C',\n",
    "              '/home/misa/APDFT/prototyping/atomic_energies/results/slice_ve38/free_atoms/N/poly_N',\n",
    "              '/home/misa/APDFT/prototyping/atomic_energies/results/slice_ve38/free_atoms/O/poly_O']\n",
    "\n",
    "poly_objs = dict()\n",
    "for k,p in zip([1.0, 6.0, 7.0, 8.0], paths_poly):\n",
    "    poly_objs[k] = uq.load_obj(p)\n",
    "molecule_binding = np.loadtxt(compound_path + 'atomic_binding_energies.txt')\n",
    "alchpot_free_fit = get_alchpot_free_fit(molecule, poly_objs)"
   ]
  },
  {
   "cell_type": "code",
   "execution_count": 28,
   "metadata": {},
   "outputs": [
    {
     "data": {
      "text/plain": [
       "array([0.2773147 , 0.34482303, 0.31873281, 0.38353339, 0.3069185 ,\n",
       "       0.20597896, 0.22556191, 0.19699205, 0.21242343, 0.21377284,\n",
       "       0.26464182, 0.26387176])"
      ]
     },
     "execution_count": 28,
     "metadata": {},
     "output_type": "execute_result"
    }
   ],
   "source": [
    "molecule_binding[:,4] - alchpot_free_fit"
   ]
  },
  {
   "cell_type": "code",
   "execution_count": 3,
   "metadata": {},
   "outputs": [
    {
     "data": {
      "text/plain": [
       "array([-6.32045064, -7.07731643, -7.40489704, -7.43887553, -6.60928149,\n",
       "       -6.75351384, -5.28561609, -5.53941911, -5.51534051, -6.2181486 ,\n",
       "       -6.11637367, -6.36399776, -6.44287539, -6.36874533, -5.79694313,\n",
       "       -5.58703834, -5.69732752, -5.9586382 , -5.67481015, -5.92336924])"
      ]
     },
     "execution_count": 3,
     "metadata": {},
     "output_type": "execute_result"
    }
   ],
   "source": [
    "alchpot_free_fit"
   ]
  },
  {
   "cell_type": "code",
   "execution_count": 14,
   "metadata": {},
   "outputs": [
    {
     "data": {
      "text/plain": [
       "array([-0.01907362, -0.04020156, -0.05180529, -0.03152655, -0.01131269,\n",
       "        0.00189264, -0.00966   ,  0.01726984, -0.05133137,  0.02689874,\n",
       "        0.02828913, -0.04854256])"
      ]
     },
     "execution_count": 14,
     "metadata": {},
     "output_type": "execute_result"
    }
   ],
   "source": [
    "alchpot_free_explicit - alchpot_free_fit"
   ]
  },
  {
   "cell_type": "code",
   "execution_count": null,
   "metadata": {},
   "outputs": [],
   "source": []
  }
 ],
 "metadata": {
  "kernelspec": {
   "display_name": "Python [conda env:atomic-energies]",
   "language": "python",
   "name": "conda-env-atomic-energies-py"
  },
  "language_info": {
   "codemirror_mode": {
    "name": "ipython",
    "version": 3
   },
   "file_extension": ".py",
   "mimetype": "text/x-python",
   "name": "python",
   "nbconvert_exporter": "python",
   "pygments_lexer": "ipython3",
   "version": "3.7.3"
  }
 },
 "nbformat": 4,
 "nbformat_minor": 2
}
