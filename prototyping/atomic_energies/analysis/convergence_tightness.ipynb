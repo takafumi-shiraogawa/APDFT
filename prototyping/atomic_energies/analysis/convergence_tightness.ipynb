{
 "cells": [
  {
   "cell_type": "code",
   "execution_count": 5,
   "metadata": {},
   "outputs": [],
   "source": [
    "import matplotlib\n",
    "matplotlib.use('Qt5Agg')\n",
    "from matplotlib import pyplot as plt\n",
    "\n",
    "import numpy as np\n",
    "\n",
    "import sys\n",
    "sys.path.insert(0, '/home/misa/APDFT/prototyping/atomic_energies/')\n",
    "\n",
    "from parse_cube_files import CUBE"
   ]
  },
  {
   "cell_type": "code",
   "execution_count": 3,
   "metadata": {},
   "outputs": [],
   "source": [
    "# density with loose convergence \n",
    "ve_22_l = CUBE('/home/misa/APDFT/prototyping/atomic_energies/results/slice_ve38/dsgdb9nsd_001212/cube-files/ve_22.cube')\n",
    "ve_36_l = CUBE('/home/misa/APDFT/prototyping/atomic_energies/results/slice_ve38/dsgdb9nsd_001212/cube-files/ve_36.cube')"
   ]
  },
  {
   "cell_type": "code",
   "execution_count": 4,
   "metadata": {},
   "outputs": [],
   "source": [
    "# density with tight convergence\n",
    "\n",
    "ve_22_t = CUBE('/home/misa/APDFT/prototyping/atomic_energies/results/slice_ve38/dsgdb9nsd_001212/cube-files-tight/ve_22_8e10.cube')\n",
    "ve_36_t = CUBE('/home/misa/APDFT/prototyping/atomic_energies/results/slice_ve38/dsgdb9nsd_001212/cube-files-tight/ve_36_3e9.cube')"
   ]
  },
  {
   "cell_type": "code",
   "execution_count": 17,
   "metadata": {},
   "outputs": [
    {
     "data": {
      "text/plain": [
       "<matplotlib.legend.Legend at 0x7f4a1006fe80>"
      ]
     },
     "execution_count": 17,
     "metadata": {},
     "output_type": "execute_result"
    }
   ],
   "source": [
    "# comparison of 22 VE\n",
    "x = np.linspace(0, 20-20/175, 175)\n",
    "\n",
    "fig, ax = plt.subplots(1,1)\n",
    "ax.plot(x, ve_22_l.project((0,1)), label = r'$\\lambda \\approx 0.58$, conv < 1e-6', color = 'darkorange')\n",
    "ax.plot(x, ve_22_t.project((0,1)), '--', label =  r'$\\lambda \\approx 0.58$, conv < 8e-10', color = 'darkgreen' )\n",
    "\n",
    "ax.plot(x, ve_36_l.project((0,1)), label =  r'$\\lambda \\approx 0.95$, conv < 1e-6', color = 'red')\n",
    "ax.plot(x, ve_36_t.project((0,1)), '--', label =  r'$\\lambda \\approx 0.95$, conv < 3e-9', color = 'black' )\n",
    "\n",
    "ax.legend()"
   ]
  },
  {
   "cell_type": "code",
   "execution_count": null,
   "metadata": {},
   "outputs": [],
   "source": []
  }
 ],
 "metadata": {
  "kernelspec": {
   "display_name": "Python [conda env:atomic-energies]",
   "language": "python",
   "name": "conda-env-atomic-energies-py"
  },
  "language_info": {
   "codemirror_mode": {
    "name": "ipython",
    "version": 3
   },
   "file_extension": ".py",
   "mimetype": "text/x-python",
   "name": "python",
   "nbconvert_exporter": "python",
   "pygments_lexer": "ipython3",
   "version": "3.7.3"
  }
 },
 "nbformat": 4,
 "nbformat_minor": 2
}
