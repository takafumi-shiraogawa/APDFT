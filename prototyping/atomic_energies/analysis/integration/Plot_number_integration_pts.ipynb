{
 "cells": [
  {
   "cell_type": "code",
   "execution_count": 1,
   "metadata": {},
   "outputs": [],
   "source": [
    "import matplotlib\n",
    "matplotlib.use('Qt5Agg')\n",
    "from matplotlib import pyplot as plt\n",
    "plt.rcParams.update({'font.size': 22})\n",
    "\n",
    "import numpy as np"
   ]
  },
  {
   "cell_type": "code",
   "execution_count": 3,
   "metadata": {},
   "outputs": [],
   "source": [
    "parent_path = '/home/misa/APDFT/prototyping/atomic_energies/results/test_calculations/integration/'\n",
    "filenames = ['MIC/ae_small_MIC_trapz.txt',\n",
    "'ae_small_trapz.txt',\n",
    "'ae_small_cs.txt',\n",
    "'MIC/ae_small_MIC_cs.txt',\n",
    "'ae_trapz.txt',\n",
    "'MIC/ae_MIC_trapz.txt',\n",
    "'ae_cs.txt',\n",
    "'MIC/ae_MIC_cs.txt']\n",
    "\n",
    "integration_results = {}\n",
    "\n",
    "for i in range(len(filenames)):\n",
    "    \n",
    "    integration_results.update({filenames[i][:-4]:np.loadtxt(parent_path + filenames[i], delimiter='\\t')})\n",
    "    \n",
    "lam_vals_large = np.loadtxt(parent_path+'lam_vals_large.txt', delimiter='\\t')\n",
    "lam_vals_small = np.loadtxt(parent_path+'lam_vals_small.txt', delimiter='\\t')"
   ]
  },
  {
   "cell_type": "markdown",
   "metadata": {},
   "source": [
    "## Large grid compare trapezoidal and cubic splines"
   ]
  },
  {
   "cell_type": "code",
   "execution_count": 6,
   "metadata": {},
   "outputs": [],
   "source": [
    "title = [r'All $\\lambda$-values without minimum image convention', r'All $\\lambda$-values with minimum image convention']\n",
    "\n",
    "for i, l in enumerate([('ae_trapz', 'ae_cs'), ('MIC/ae_MIC_trapz', 'MIC/ae_MIC_cs')]):\n",
    "\n",
    "    ae_large_trapz = integration_results[l[0]]\n",
    "    ae_large_cs = integration_results[l[1]]\n",
    "    lam_vals = lam_vals_large\n",
    "\n",
    "    diff_trapz_cs = ae_large_trapz.sum(axis=1)-ae_large_cs.sum(axis=1)\n",
    "    lam_width = np.zeros(len(diff_trapz_cs))\n",
    "    for idx in range(1, len(lam_vals)):\n",
    "        lam_width[idx-1] = lam_vals[idx]-lam_vals[idx-1]\n",
    "\n",
    "    diff_trapz_cs_norm = diff_trapz_cs/lam_width\n",
    "\n",
    "    intervals = lam_vals[0:len(lam_vals)-1]+lam_width/2\n",
    "\n",
    "    fig, ax = plt.subplots(1,2)\n",
    "    fig.suptitle(title[i])\n",
    "    ax[0].bar(intervals, diff_trapz_cs, width = 0.02)\n",
    "    ax[0].set_xlabel('Midpoint of integration interval')\n",
    "    ax[0].set_ylabel(r'$\\int_{trapz} - \\int_{cubic splines}$')\n",
    "\n",
    "    ax[1].bar(intervals, diff_trapz_cs_norm, width = 0.02)\n",
    "    ax[1].set_xlabel(r'Midpoint of integration interval')\n",
    "    ax[1].set_ylabel(r'$\\frac{\\int_{trapz} - \\int_{cubic splines}}{interval\\ width}$')"
   ]
  },
  {
   "cell_type": "code",
   "execution_count": 7,
   "metadata": {},
   "outputs": [
    {
     "data": {
      "text/plain": [
       "[(0, ('ae_trapz', 'ae_cs')), (1, ('MIC/ae_MIC_trapz', 'MIC/ae_MIC_cs'))]"
      ]
     },
     "execution_count": 7,
     "metadata": {},
     "output_type": "execute_result"
    }
   ],
   "source": [
    "list(enumerate([('ae_trapz', 'ae_cs'), ('MIC/ae_MIC_trapz', 'MIC/ae_MIC_cs')]))"
   ]
  },
  {
   "cell_type": "code",
   "execution_count": null,
   "metadata": {},
   "outputs": [],
   "source": []
  }
 ],
 "metadata": {
  "kernelspec": {
   "display_name": "Python [conda env:atomic-energies]",
   "language": "python",
   "name": "conda-env-atomic-energies-py"
  },
  "language_info": {
   "codemirror_mode": {
    "name": "ipython",
    "version": 3
   },
   "file_extension": ".py",
   "mimetype": "text/x-python",
   "name": "python",
   "nbconvert_exporter": "python",
   "pygments_lexer": "ipython3",
   "version": "3.7.3"
  }
 },
 "nbformat": 4,
 "nbformat_minor": 2
}
