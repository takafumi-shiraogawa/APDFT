{
 "cells": [
  {
   "cell_type": "code",
   "execution_count": 1,
   "metadata": {},
   "outputs": [],
   "source": [
    "import numpy as np\n",
    "from matplotlib import pyplot as plt\n",
    "\n",
    "import sys\n",
    "sys.path.insert(0, '/home/misa/git_repositories/APDFT/prototyping/atomic_energies/')\n",
    "\n",
    "import qml_interface as qmi"
   ]
  },
  {
   "cell_type": "code",
   "execution_count": 2,
   "metadata": {},
   "outputs": [],
   "source": [
    "# load dE at 20 and 30 Ang for both molecules\n",
    "dsdg_003664_lamc = np.loadtxt('/home/misa/APDFT/prototyping/atomic_energies/results/slice_ve38/dsgdb9nsd_003664/atomic_energies_with_mic.txt')\n",
    "dsdg_003664_lamf = np.loadtxt('/home/misa/projects/Atomic-Energies/data/ueg_reference/number_lambda_points/dsgdb9nsd_003664_atomic_energies_fine_grid.txt')\n",
    "\n",
    "dsdg_003700_lamc = np.loadtxt('/home/misa/APDFT/prototyping/atomic_energies/results/slice_ve38/dsgdb9nsd_003700/atomic_energies_with_mic.txt')\n",
    "dsdg_003700_lamf = np.loadtxt('/home/misa/projects/Atomic-Energies/data/ueg_reference/number_lambda_points/dsgdb9nsd_003700_atomic_energies_fine_grid.txt')"
   ]
  },
  {
   "cell_type": "code",
   "execution_count": 3,
   "metadata": {},
   "outputs": [],
   "source": [
    "# find the most similar atoms\n",
    "\n",
    "# make coulomb representations\n",
    "reps_dsdg_003664 = qmi.generate_atomic_representations([dsdg_003664_lamc], [len(dsdg_003664_lamc)])\n",
    "reps_dsdg_003700 = qmi.generate_atomic_representations([dsdg_003700_lamc], [len(dsdg_003700_lamc)])\n",
    "\n",
    "# calculate distance matrix\n",
    "\n",
    "dmatrix = np.zeros((len(reps_dsdg_003664), len(reps_dsdg_003700)))\n",
    "              \n",
    "for i, r in enumerate(reps_dsdg_003664):\n",
    "    for j, r2 in enumerate(reps_dsdg_003700):\n",
    "        dmatrix[i,j] = np.linalg.norm(r-r2)\n",
    "\n",
    "# find closest pairs\n",
    "pairs = []\n",
    "\n",
    "for i in range(dmatrix.shape[0]):\n",
    "    dmatrix_row = dmatrix[i]\n",
    "    ind = np.where( dmatrix_row == np.amin(dmatrix_row[np.where(dmatrix_row > 0)]))\n",
    "    tmp = [i, ind[0][0]]\n",
    "    #tmp.sort()\n",
    "    pairs.append(tmp)\n",
    "# pairs = []\n",
    "# import itertools\n",
    "# pairs.sort()\n",
    "# pairs = list(pairs for pairs,_ in itertools.groupby(pairs))"
   ]
  },
  {
   "cell_type": "code",
   "execution_count": 4,
   "metadata": {},
   "outputs": [],
   "source": [
    "# calculate the energy difference between these atoms for few and many lambda points\n",
    "def delta_E(comp1, comp2, pairs):\n",
    "    mu = []\n",
    "    e = []\n",
    "    e_at = []\n",
    "    for p in pairs:\n",
    "        mu.append(comp1[p[0],4] - comp2[p[1],4])\n",
    "        e.append(comp1[p[0],5] - comp2[p[1],5])\n",
    "        e_at.append(comp1[p[0],6] - comp2[p[1],6])\n",
    "    return(np.array(mu), np.array(e), np.array(e_at))"
   ]
  },
  {
   "cell_type": "code",
   "execution_count": 5,
   "metadata": {},
   "outputs": [],
   "source": [
    "# coarse grid (6 points)\n",
    "muc, ec, e_atc = delta_E(dsdg_003664_lamc, dsdg_003700_lamc, pairs)\n",
    "# fine grid\n",
    "muf, ef, e_atf = delta_E(dsdg_003664_lamf, dsdg_003700_lamf, pairs)"
   ]
  },
  {
   "cell_type": "code",
   "execution_count": 16,
   "metadata": {},
   "outputs": [],
   "source": [
    "ddmu = muc-muf"
   ]
  },
  {
   "cell_type": "code",
   "execution_count": 24,
   "metadata": {},
   "outputs": [
    {
     "name": "stdout",
     "output_type": "stream",
     "text": [
      "dd mu =  0.003112474702578907 +/- 0.0033464975919379907\n"
     ]
    }
   ],
   "source": [
    "print('dd mu = ', (np.abs(ddmu)).mean(), '+/-', (np.abs(ddmu)).std())"
   ]
  },
  {
   "cell_type": "code",
   "execution_count": 25,
   "metadata": {},
   "outputs": [],
   "source": [
    "ddE_I = ec-ef"
   ]
  },
  {
   "cell_type": "code",
   "execution_count": 15,
   "metadata": {},
   "outputs": [
    {
     "name": "stdout",
     "output_type": "stream",
     "text": [
      "dd E_I =  0.010318384789749498 +/- 0.01100503828826174\n"
     ]
    }
   ],
   "source": [
    "print('dd E_I = ', (np.abs(ddE_I)).mean(), '+/-', (np.abs(ddE_I)).std())"
   ]
  },
  {
   "cell_type": "code",
   "execution_count": 18,
   "metadata": {},
   "outputs": [],
   "source": [
    "ddE_at = e_atc - e_atf"
   ]
  },
  {
   "cell_type": "code",
   "execution_count": 19,
   "metadata": {},
   "outputs": [
    {
     "name": "stdout",
     "output_type": "stream",
     "text": [
      "dd E_I^at =  0.011422717639385942 +/- 0.008590362612555136\n"
     ]
    }
   ],
   "source": [
    "print('dd E_I^at = ', (np.abs(ddE_at)).mean(), '+/-', (np.abs(ddE_at)).std())"
   ]
  },
  {
   "cell_type": "code",
   "execution_count": 20,
   "metadata": {},
   "outputs": [
    {
     "data": {
      "text/plain": [
       "6.469627263172935"
      ]
     },
     "execution_count": 20,
     "metadata": {},
     "output_type": "execute_result"
    }
   ],
   "source": [
    "0.010318384789749498*627"
   ]
  },
  {
   "cell_type": "code",
   "execution_count": 22,
   "metadata": {},
   "outputs": [
    {
     "data": {
      "text/plain": [
       "array([6., 6., 7., 7., 6., 6., 8., 1., 1., 1., 1., 1., 1.])"
      ]
     },
     "execution_count": 22,
     "metadata": {},
     "output_type": "execute_result"
    }
   ],
   "source": [
    "dsdg_003700_lamc[:,0]"
   ]
  },
  {
   "cell_type": "code",
   "execution_count": 23,
   "metadata": {},
   "outputs": [
    {
     "data": {
      "text/plain": [
       "array([-1.58613302e-02, -2.86662668e-02, -5.91853650e-03, -3.79018657e-02,\n",
       "        1.24372568e-02,  5.47859976e-03,  3.98291917e-03,  1.10360110e-04,\n",
       "       -6.34543698e-05,  7.83135111e-04, -1.00383917e-02,  1.02229805e-02,\n",
       "        2.67390550e-03])"
      ]
     },
     "execution_count": 23,
     "metadata": {},
     "output_type": "execute_result"
    }
   ],
   "source": [
    "ddE_I"
   ]
  }
 ],
 "metadata": {
  "kernelspec": {
   "display_name": "Python [conda env:atomic-energies]",
   "language": "python",
   "name": "conda-env-atomic-energies-py"
  },
  "language_info": {
   "codemirror_mode": {
    "name": "ipython",
    "version": 3
   },
   "file_extension": ".py",
   "mimetype": "text/x-python",
   "name": "python",
   "nbconvert_exporter": "python",
   "pygments_lexer": "ipython3",
   "version": "3.7.3"
  }
 },
 "nbformat": 4,
 "nbformat_minor": 4
}
