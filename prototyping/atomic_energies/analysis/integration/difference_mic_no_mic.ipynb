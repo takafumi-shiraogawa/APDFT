{
 "cells": [
  {
   "cell_type": "code",
   "execution_count": 10,
   "metadata": {},
   "outputs": [],
   "source": [
    "import matplotlib\n",
    "matplotlib.use('Qt5Agg')\n",
    "from matplotlib import pyplot as plt\n",
    "plt.rcParams.update({'font.size': 22})\n",
    "\n",
    "import numpy as np\n",
    "\n",
    "import sys\n",
    "sys.path.insert(0, '/home/misa/APDFT/prototyping/atomic_energies/')\n",
    "sys.path.insert(0, '/home/misa/APDFT/prototyping/atomic_energies/hitp')\n",
    "\n",
    "from find_converged import concatenate_files"
   ]
  },
  {
   "cell_type": "markdown",
   "metadata": {},
   "source": [
    "## Atomic energies with and without MIC for 557 Molecules with 38 valence electrons of QM9"
   ]
  },
  {
   "cell_type": "code",
   "execution_count": 11,
   "metadata": {},
   "outputs": [],
   "source": [
    "# paths to the compounds\n",
    "dirs = concatenate_files(['/home/misa/APDFT/prototyping/atomic_energies/results/slice_ve38/paths_atomic_energies'])"
   ]
  },
  {
   "cell_type": "code",
   "execution_count": 12,
   "metadata": {},
   "outputs": [],
   "source": [
    "# calculate differences\n",
    "nuc_charge = []\n",
    "dist_center = []\n",
    "diff_alch_pot = []\n",
    "diff_atomic_en = []\n",
    "diff_atomic_atomisation_en = []\n",
    "\n",
    "for compound_path in dirs:\n",
    "    # compare atomic energies and atomic atomisation energies\n",
    "    mic_path = compound_path + 'atomic_energies_with_mic.txt'\n",
    "    no_mic_path = compound_path + 'atomic_energies.txt'\n",
    "    \n",
    "    ae_mic = np.loadtxt(mic_path)\n",
    "    ae_no_mic = np.loadtxt(no_mic_path)\n",
    "    \n",
    "    # compare alchemical potential, atomic energy and atomic atomisation energy\n",
    "    nuc_charge.extend(ae_mic[:, 0])\n",
    "    dist_center.extend(np.linalg.norm(ae_mic[:, 1:4] - np.array([10,10,10]), axis=1))\n",
    "    diff_alch_pot.extend(ae_mic[:, 4] - ae_no_mic[:, 4])\n",
    "    diff_atomic_en.extend(ae_mic[:, 5] - ae_no_mic[:, 5])\n",
    "    diff_atomic_atomisation_en.extend(ae_mic[:, 6] - ae_no_mic[:, 6])\n",
    "\n",
    "nuc_charge = np.array(nuc_charge)\n",
    "dist_center = np.array(dist_center)\n",
    "diff_alch_pot = np.array(diff_alch_pot)\n",
    "diff_atomic_en = np.array(diff_atomic_en)\n",
    "diff_atomic_atomisation_en = np.array(diff_atomic_atomisation_en)"
   ]
  },
  {
   "cell_type": "code",
   "execution_count": 7,
   "metadata": {},
   "outputs": [],
   "source": [
    "# sort results by element\n",
    "idx_H = np.where(nuc_charge==1.0)\n",
    "idx_C = np.where(nuc_charge==6.0)\n",
    "idx_N = np.where(nuc_charge==7.0)\n",
    "idx_O = np.where(nuc_charge==8.0)\n",
    "idc = [idx_H, idx_C, idx_N, idx_O]\n",
    "labels = ['Z = 1', 'Z = 6', 'Z = 7', 'Z = 8']"
   ]
  },
  {
   "cell_type": "code",
   "execution_count": 8,
   "metadata": {},
   "outputs": [
    {
     "data": {
      "text/plain": [
       "Text(0.5, 0, '$\\\\Delta E_{aae}$ (MIC - No MIC) [Ha]')"
      ]
     },
     "execution_count": 8,
     "metadata": {},
     "output_type": "execute_result"
    }
   ],
   "source": [
    "# Histograms\n",
    "\n",
    "fig, ax = plt.subplots(1,3)\n",
    "for i, idx in enumerate(idc):\n",
    "    ax[0].hist(diff_alch_pot[idx], bins=200, alpha =0.85, label = labels[i])\n",
    "    ax[1].hist(diff_atomic_en[idx], bins=200, alpha =0.85, label = labels[i])\n",
    "    ax[2].hist(diff_atomic_atomisation_en[idx], bins=200, alpha =0.85, label = labels[i])\n",
    "#     ax[1,1].hist(diff_atomic_atomisation_en[idx], bins=200, alpha =0.5, label = labels[i])\n",
    "    \n",
    "ax[0].legend()\n",
    "ax[1].legend()\n",
    "ax[2].legend()\n",
    "ax[0].set_xlabel(r'$\\Delta \\mu$ (MIC - No MIC) [Ha]')\n",
    "ax[0].set_ylabel('# Atoms')\n",
    "\n",
    "ax[1].set_xlabel(r'$\\Delta E_{ae}$ (MIC - No MIC) [Ha]')\n",
    "\n",
    "ax[2].set_xlabel(r'$\\Delta E_{aae}$ (MIC - No MIC) [Ha]')"
   ]
  },
  {
   "cell_type": "code",
   "execution_count": 144,
   "metadata": {},
   "outputs": [
    {
     "data": {
      "text/plain": [
       "Text(0.5, 0, '$\\\\Delta E_{aae}$ (MIC - No MIC) [Ha]')"
      ]
     },
     "execution_count": 144,
     "metadata": {},
     "output_type": "execute_result"
    }
   ],
   "source": [
    "# KDEs\n",
    "\n",
    "from scipy.stats import gaussian_kde as kde\n",
    "\n",
    "fig, ax = plt.subplots(1,3)\n",
    "for i, idx in enumerate(idc):\n",
    "    kde_alch = kde(diff_alch_pot[idx])\n",
    "    pos_alch = np.linspace(-0.2, 0.0, 500)\n",
    "    ax[0].plot(pos_alch, kde_alch.evaluate(pos_alch), label = labels[i])\n",
    "    \n",
    "    kde_ae = kde(diff_atomic_en[idx])\n",
    "    pos_ae = np.linspace(-0.4, 0.0, 500)\n",
    "    ax[1].plot(pos_ae, kde_ae.evaluate(pos_ae), label = labels[i])\n",
    "    \n",
    "    kde_aae = kde(diff_atomic_atomisation_en[idx])\n",
    "    pos_aae = np.linspace(-0.4, 0.15, 500)\n",
    "    ax[2].plot(pos_aae, kde_aae.evaluate(pos_aae), label = labels[i])\n",
    "\n",
    "ax[0].legend()\n",
    "ax[1].legend()\n",
    "ax[2].legend()\n",
    "ax[0].set_xlabel(r'$\\Delta \\mu$ (MIC - No MIC) [Ha]')\n",
    "ax[0].set_ylabel('KDE')\n",
    "\n",
    "ax[1].set_xlabel(r'$\\Delta E_{ae}$ (MIC - No MIC) [Ha]')\n",
    "\n",
    "ax[2].set_xlabel(r'$\\Delta E_{aae}$ (MIC - No MIC) [Ha]')"
   ]
  },
  {
   "cell_type": "code",
   "execution_count": 18,
   "metadata": {},
   "outputs": [
    {
     "data": {
      "text/plain": [
       "Text(0, 0.5, '# Atoms')"
      ]
     },
     "execution_count": 18,
     "metadata": {},
     "output_type": "execute_result"
    }
   ],
   "source": [
    "# Distance from Box center histogram\n",
    "\n",
    "fig, ax = plt.subplots(1,1)\n",
    "for i, idx in enumerate(idc):\n",
    "    ax.hist(dist_center[idx], bins=100, label = labels[i])\n",
    "ax.legend()\n",
    "ax.set_xlabel('Distance from Box Center')\n",
    "ax.set_ylabel('# Atoms')"
   ]
  },
  {
   "cell_type": "markdown",
   "metadata": {},
   "source": [
    "## Comparison of atomic energies with different integration schemes with and without MIC"
   ]
  },
  {
   "cell_type": "code",
   "execution_count": 2,
   "metadata": {},
   "outputs": [],
   "source": [
    "parent_path = '/home/misa/APDFT/prototyping/atomic_energies/results/test_calculations/integration/'\n",
    "filenames = ['ae_small_MIC_trapz.txt',\n",
    "'ae_small_trapz.txt',\n",
    "'ae_small_cs.txt',\n",
    "'ae_small_MIC_cs.txt',\n",
    "'ae_trapz.txt',\n",
    "'ae_MIC_trapz.txt',\n",
    "'ae_cs.txt',\n",
    "'ae_MIC_cs.txt']\n",
    "\n",
    "integration_results = {}\n",
    "\n",
    "for i in range(len(filenames)):\n",
    "    \n",
    "    integration_results.update({filenames[i][:-4]:np.loadtxt(parent_path + filenames[i], delimiter='\\t')})\n",
    "    \n",
    "lam_vals_large = np.loadtxt(parent_path+'lam_vals_large.txt', delimiter='\\t')\n",
    "lam_vals_small = np.loadtxt(parent_path+'lam_vals_small.txt', delimiter='\\t')"
   ]
  },
  {
   "cell_type": "code",
   "execution_count": 3,
   "metadata": {},
   "outputs": [],
   "source": [
    "trapz = integration_results['ae_small_trapz']\n",
    "mic_trapz = integration_results['ae_small_MIC_trapz']"
   ]
  },
  {
   "cell_type": "code",
   "execution_count": 4,
   "metadata": {},
   "outputs": [
    {
     "data": {
      "text/plain": [
       "array([0.07883857, 0.01724942, 0.07498714, 0.00290845, 0.03503685,\n",
       "       0.10616818, 0.24685949, 0.02508083, 0.01752502, 0.01803871,\n",
       "       0.01064804, 0.01118809])"
      ]
     },
     "execution_count": 4,
     "metadata": {},
     "output_type": "execute_result"
    }
   ],
   "source": [
    "trapz.sum(axis=0)-mic_trapz.sum(axis=0)"
   ]
  },
  {
   "cell_type": "code",
   "execution_count": 5,
   "metadata": {},
   "outputs": [
    {
     "data": {
      "text/plain": [
       "array([0.07827645, 0.01719286, 0.0748203 , 0.00290157, 0.03498515,\n",
       "       0.10599883, 0.24639321, 0.02492006, 0.017407  , 0.01792565,\n",
       "       0.01065053, 0.0111938 ])"
      ]
     },
     "execution_count": 5,
     "metadata": {},
     "output_type": "execute_result"
    }
   ],
   "source": [
    "trapz = integration_results['ae_trapz']\n",
    "mic_trapz = integration_results['ae_MIC_trapz']\n",
    "trapz.sum(axis=0)-mic_trapz.sum(axis=0)"
   ]
  },
  {
   "cell_type": "code",
   "execution_count": 6,
   "metadata": {},
   "outputs": [],
   "source": [
    "nuclei = np.array([[ 6.      , 19.979529, 22.784627, 18.908058],\n",
    "       [ 6.      , 20.35982 , 19.964565, 18.890009],\n",
    "       [ 8.      , 22.344159, 18.857926, 18.863323],\n",
    "       [ 8.      , 18.092893, 18.74945 , 18.905025],\n",
    "       [ 6.      , 18.285827, 16.053484, 18.887816],\n",
    "       [ 6.      , 15.726597, 15.015175, 18.906865],\n",
    "       [ 7.      , 13.735016, 14.125508, 18.920052],\n",
    "       [ 1.      , 21.813395, 23.718436, 18.8968  ],\n",
    "       [ 1.      , 18.878631, 23.358359, 17.25609 ],\n",
    "       [ 1.      , 18.90752 , 23.341078, 20.584704],\n",
    "       [ 1.      , 19.30598 , 15.408752, 17.207074],\n",
    "       [ 1.      , 19.337767, 15.389776, 20.541321]])"
   ]
  },
  {
   "cell_type": "code",
   "execution_count": 7,
   "metadata": {},
   "outputs": [
    {
     "data": {
      "text/plain": [
       "Text(0, 0.5, '$\\\\Delta$Atomic energy (no MIC - MIC) [Ha]')"
      ]
     },
     "execution_count": 7,
     "metadata": {},
     "output_type": "execute_result"
    }
   ],
   "source": [
    "import matplotlib.cm as cm\n",
    "from matplotlib.colors import Normalize\n",
    "\n",
    "# Get a color map\n",
    "my_cmap = cm.get_cmap('inferno')\n",
    " \n",
    "# Get normalize function (takes data in range [vmin, vmax] -> [0, 1])\n",
    "my_norm = Normalize(vmin=0, vmax=len(nuclei))\n",
    "data = [2, 3, 5, 6, 8, 12, 7, 5]\n",
    "\n",
    "\n",
    "fig, ax = plt.subplots(1,1)\n",
    "ax.bar(nuclei[:,0], trapz.sum(axis=0)-mic_trapz.sum(axis=0), width = 0.5, color=my_cmap((50,200)), alpha=0.5)\n",
    "\n",
    "ax.set_xlabel('Nuclear charge')\n",
    "ax.set_ylabel(r'$\\Delta$Atomic energy (no MIC - MIC) [Ha]')"
   ]
  },
  {
   "cell_type": "code",
   "execution_count": 8,
   "metadata": {},
   "outputs": [
    {
     "data": {
      "text/plain": [
       "array([0.07827645, 0.01719286, 0.0748203 , 0.00290157, 0.03498515,\n",
       "       0.10599883, 0.24639321, 0.02492006, 0.017407  , 0.01792565,\n",
       "       0.01065053, 0.0111938 ])"
      ]
     },
     "execution_count": 8,
     "metadata": {},
     "output_type": "execute_result"
    }
   ],
   "source": [
    "trapz.sum(axis=0)-mic_trapz.sum(axis=0)"
   ]
  },
  {
   "cell_type": "code",
   "execution_count": null,
   "metadata": {},
   "outputs": [],
   "source": []
  }
 ],
 "metadata": {
  "kernelspec": {
   "display_name": "Python [conda env:atomic-energies]",
   "language": "python",
   "name": "conda-env-atomic-energies-py"
  },
  "language_info": {
   "codemirror_mode": {
    "name": "ipython",
    "version": 3
   },
   "file_extension": ".py",
   "mimetype": "text/x-python",
   "name": "python",
   "nbconvert_exporter": "python",
   "pygments_lexer": "ipython3",
   "version": "3.7.3"
  }
 },
 "nbformat": 4,
 "nbformat_minor": 2
}
