{
 "cells": [
  {
   "cell_type": "code",
   "execution_count": 1,
   "metadata": {},
   "outputs": [],
   "source": [
    "import matplotlib\n",
    "matplotlib.use('Qt5Agg')\n",
    "from matplotlib import pyplot as plt\n",
    "plt.rcParams.update({'font.size': 22})\n",
    "import numpy as np\n",
    "import glob, os\n",
    "import pandas as pd"
   ]
  },
  {
   "cell_type": "markdown",
   "metadata": {},
   "source": [
    "# load data FFT slow"
   ]
  },
  {
   "cell_type": "code",
   "execution_count": 54,
   "metadata": {},
   "outputs": [
    {
     "data": {
      "text/plain": [
       "array([[  1.   ,  92.89 ,  92.89 ],\n",
       "       [  2.   ,  50.966, 101.932],\n",
       "       [  4.   ,  30.428, 121.712],\n",
       "       [  8.   ,  21.43 , 171.44 ],\n",
       "       [ 16.   ,  13.356, 213.696]])"
      ]
     },
     "execution_count": 54,
     "metadata": {},
     "output_type": "execute_result"
    }
   ],
   "source": [
    "directory='/home/misa/APDFT/prototyping/atomic_energies/results/test_calculations/scale_up/log_files_slow_cpmd/'\n",
    "\n",
    "os.chdir(directory)\n",
    "list_data = []\n",
    "for file in glob.glob(\"*.scf_info\"):\n",
    "    path_file = os.path.join(directory, file)\n",
    "    df = pd.read_csv(file, sep='\\t')\n",
    "    num_cpu = float(file[0:len(file)-9].split('u')[1])\n",
    "    data = [num_cpu, df['TCPU'].mean(), df['TCPU'].mean()*num_cpu]\n",
    "    list_data.append(data)\n",
    "\n",
    "data_slow = np.array(list_data)\n",
    "data_slow = data_slow[data_slow[:,0].argsort()]\n",
    "data_slow"
   ]
  },
  {
   "cell_type": "markdown",
   "metadata": {},
   "source": [
    "# load data FFTW fast"
   ]
  },
  {
   "cell_type": "code",
   "execution_count": 55,
   "metadata": {},
   "outputs": [
    {
     "data": {
      "text/plain": [
       "array([[  1.   ,  74.268,  74.268],\n",
       "       [  2.   ,  40.702,  81.404],\n",
       "       [  4.   ,  26.664, 106.656],\n",
       "       [  8.   ,  16.124, 128.992],\n",
       "       [ 16.   ,  12.418, 198.688]])"
      ]
     },
     "execution_count": 55,
     "metadata": {},
     "output_type": "execute_result"
    }
   ],
   "source": [
    "directory='/home/misa/APDFT/prototyping/atomic_energies/results/test_calculations/scale_up/log_files_fast_cpmd/'\n",
    "os.chdir(directory)\n",
    "list_data = []\n",
    "for file in glob.glob(\"*.scf_info\"):\n",
    "    path_file = os.path.join(directory, file)\n",
    "    df = pd.read_csv(file, sep='\\t')\n",
    "    num_cpu = float(file[0:len(file)-9].split('u')[1])\n",
    "    data = [num_cpu, df['TCPU'].mean(), df['TCPU'].mean()*num_cpu]\n",
    "    list_data.append(data)\n",
    "\n",
    "data_fast = np.array(list_data)\n",
    "data_fast = data_fast[data_fast[:,0].argsort()]\n",
    "data_fast"
   ]
  },
  {
   "cell_type": "markdown",
   "metadata": {},
   "source": [
    "# Plot cpu hours"
   ]
  },
  {
   "cell_type": "code",
   "execution_count": 58,
   "metadata": {},
   "outputs": [
    {
     "data": {
      "text/plain": [
       "<matplotlib.legend.Legend at 0x7f4edc14fc88>"
      ]
     },
     "execution_count": 58,
     "metadata": {},
     "output_type": "execute_result"
    }
   ],
   "source": [
    "fig_cpuh, ax_cpuh = plt.subplots(1,1)\n",
    "ax_cpuh.plot(data_slow[:,0], data_slow[:,2], '-o', label='Default FFT (slow)')\n",
    "ax_cpuh.plot(data_fast[:,0], data_fast[:,2], '-o', label='FFTW (fast)')\n",
    "ax_cpuh.set_xlabel(r'# CPU')\n",
    "ax_cpuh.set_ylabel(r'# CPU $\\cdot$ TCPU (sec)')\n",
    "ax_cpuh.legend()"
   ]
  },
  {
   "cell_type": "markdown",
   "metadata": {},
   "source": [
    "# Plot TCPU"
   ]
  },
  {
   "cell_type": "code",
   "execution_count": 59,
   "metadata": {},
   "outputs": [
    {
     "data": {
      "text/plain": [
       "<matplotlib.legend.Legend at 0x7f4edc07fb00>"
      ]
     },
     "execution_count": 59,
     "metadata": {},
     "output_type": "execute_result"
    }
   ],
   "source": [
    "fig_cpu, ax_cpu = plt.subplots(1,1)\n",
    "ax_cpu.plot(data_slow[:,0], data_slow[:,1], '-o', label='Default FFT (slow)')\n",
    "ax_cpu.plot(data_fast[:,0], data_fast[:,1], '-o', label='FFTW (fast)')\n",
    "ax_cpu.set_xlabel('# CPU')\n",
    "ax_cpu.set_ylabel('mean TCPU (sec)')\n",
    "ax_cpu.legend()"
   ]
  }
 ],
 "metadata": {
  "kernelspec": {
   "display_name": "Python (atmoic-energies)",
   "language": "python",
   "name": "atomic-energies"
  },
  "language_info": {
   "codemirror_mode": {
    "name": "ipython",
    "version": 3
   },
   "file_extension": ".py",
   "mimetype": "text/x-python",
   "name": "python",
   "nbconvert_exporter": "python",
   "pygments_lexer": "ipython3",
   "version": "3.7.3"
  }
 },
 "nbformat": 4,
 "nbformat_minor": 2
}
