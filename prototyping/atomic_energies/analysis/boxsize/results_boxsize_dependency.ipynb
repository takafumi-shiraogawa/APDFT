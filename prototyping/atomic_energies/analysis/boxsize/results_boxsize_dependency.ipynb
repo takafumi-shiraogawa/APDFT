{
 "cells": [
  {
   "cell_type": "code",
   "execution_count": 1,
   "metadata": {},
   "outputs": [],
   "source": [
    "import matplotlib\n",
    "matplotlib.use('Qt5Agg')\n",
    "import pandas as pd\n",
    "from matplotlib import pyplot as plt\n",
    "import numpy as np"
   ]
  },
  {
   "cell_type": "code",
   "execution_count": 14,
   "metadata": {},
   "outputs": [
    {
     "data": {
      "text/plain": [
       "Text(0, 0.5, '$E - E(B=32)$ [kcal/mol]')"
      ]
     },
     "execution_count": 14,
     "metadata": {},
     "output_type": "execute_result"
    }
   ],
   "source": [
    "path_en = r'/home/misa/APDFT/prototyping/atomic_energies/results/calculations/boxsize/en_vs_boxsize.txt'\n",
    "df_energy = pd.read_csv(path_en, sep='\\t', header = 0, names = ['bs', 'en_h'])\n",
    "Hartree = 27.211386024367243\n",
    "df_energy['en_eV'] = df_energy['en_h']*Hartree\n",
    "df_energy['diff_kcal_mol'] = (df_energy['en_eV'] - df_energy['en_eV'][len(df_energy['en_eV'])-1])*0.04336\n",
    "\n",
    "f, ax = plt.subplots(1, 2)\n",
    "\n",
    "ax[0].plot(df_energy['bs'], df_energy['en_eV'], '-o')\n",
    "ax[0].set_xlabel(r'Boxsize $B$ [Ang]')\n",
    "ax[0].set_ylabel(r'energy [eV]')\n",
    "\n",
    "ax[1].plot(df_energy['bs'], df_energy['diff_kcal_mol'], '-o')\n",
    "ax[1].set_xlabel(r'Boxsize $B$ [Ang]')\n",
    "ax[1].set_ylabel(r'$E - E(B=32)$ [kcal/mol]')"
   ]
  },
  {
   "cell_type": "code",
   "execution_count": 3,
   "metadata": {},
   "outputs": [
    {
     "data": {
      "text/html": [
       "<div>\n",
       "<style scoped>\n",
       "    .dataframe tbody tr th:only-of-type {\n",
       "        vertical-align: middle;\n",
       "    }\n",
       "\n",
       "    .dataframe tbody tr th {\n",
       "        vertical-align: top;\n",
       "    }\n",
       "\n",
       "    .dataframe thead th {\n",
       "        text-align: right;\n",
       "    }\n",
       "</style>\n",
       "<table border=\"1\" class=\"dataframe\">\n",
       "  <thead>\n",
       "    <tr style=\"text-align: right;\">\n",
       "      <th></th>\n",
       "      <th>bs</th>\n",
       "      <th>en_h</th>\n",
       "      <th>en_eV</th>\n",
       "      <th>diff_kcal_mol</th>\n",
       "    </tr>\n",
       "  </thead>\n",
       "  <tbody>\n",
       "    <tr>\n",
       "      <th>0</th>\n",
       "      <td>15</td>\n",
       "      <td>-48.873684</td>\n",
       "      <td>-1329.920680</td>\n",
       "      <td>-0.000124</td>\n",
       "    </tr>\n",
       "    <tr>\n",
       "      <th>1</th>\n",
       "      <td>20</td>\n",
       "      <td>-48.873607</td>\n",
       "      <td>-1329.918599</td>\n",
       "      <td>-0.000034</td>\n",
       "    </tr>\n",
       "    <tr>\n",
       "      <th>2</th>\n",
       "      <td>25</td>\n",
       "      <td>-48.873588</td>\n",
       "      <td>-1329.918072</td>\n",
       "      <td>-0.000011</td>\n",
       "    </tr>\n",
       "    <tr>\n",
       "      <th>3</th>\n",
       "      <td>30</td>\n",
       "      <td>-48.873581</td>\n",
       "      <td>-1329.917872</td>\n",
       "      <td>-0.000002</td>\n",
       "    </tr>\n",
       "    <tr>\n",
       "      <th>4</th>\n",
       "      <td>32</td>\n",
       "      <td>-48.873579</td>\n",
       "      <td>-1329.917817</td>\n",
       "      <td>0.000000</td>\n",
       "    </tr>\n",
       "  </tbody>\n",
       "</table>\n",
       "</div>"
      ],
      "text/plain": [
       "   bs       en_h        en_eV  diff_kcal_mol\n",
       "0  15 -48.873684 -1329.920680      -0.000124\n",
       "1  20 -48.873607 -1329.918599      -0.000034\n",
       "2  25 -48.873588 -1329.918072      -0.000011\n",
       "3  30 -48.873581 -1329.917872      -0.000002\n",
       "4  32 -48.873579 -1329.917817       0.000000"
      ]
     },
     "execution_count": 3,
     "metadata": {},
     "output_type": "execute_result"
    }
   ],
   "source": [
    "df_energy"
   ]
  },
  {
   "cell_type": "code",
   "execution_count": 4,
   "metadata": {},
   "outputs": [
    {
     "data": {
      "text/plain": [
       "-0.0001999999999497959"
      ]
     },
     "execution_count": 4,
     "metadata": {},
     "output_type": "execute_result"
    }
   ],
   "source": [
    "-1329.918072- -1329.917872"
   ]
  },
  {
   "cell_type": "code",
   "execution_count": 12,
   "metadata": {},
   "outputs": [
    {
     "data": {
      "text/plain": [
       "Text(0, 0.5, '$ \\\\frac{dE}{dB} $ [$ \\\\frac{ eV }{ Ang } $] ')"
      ]
     },
     "execution_count": 12,
     "metadata": {},
     "output_type": "execute_result"
    }
   ],
   "source": [
    "en = df_energy['en_eV'].values\n",
    "bs = df_energy['bs'].values\n",
    "dE_dB = np.gradient(en, bs)\n",
    "\n",
    "plt.plot(bs, dE_dB , '-o')\n",
    "plt.xlabel(r'Boxsize $B$ [Ang]')\n",
    "plt.ylabel(r'$ \\frac{dE}{dB} $ [$ \\frac{ eV }{ Ang } $] ')\n"
   ]
  },
  {
   "cell_type": "code",
   "execution_count": null,
   "metadata": {},
   "outputs": [],
   "source": []
  },
  {
   "cell_type": "code",
   "execution_count": 13,
   "metadata": {},
   "outputs": [
    {
     "data": {
      "text/plain": [
       "Text(0, 0.5, 'RAM [GB]')"
      ]
     },
     "execution_count": 13,
     "metadata": {},
     "output_type": "execute_result"
    }
   ],
   "source": [
    "path_ram = r'/home/misa/APDFT/prototyping/atomic_energies/results/calculations/boxsize/RAM_vs_boxvol.txt'\n",
    "df_RAM = pd.read_csv(path_ram, sep='\\t', header = 0, names = ['bv', 'RAM'])\n",
    "fig_ram, ax_ram = plt.subplots(1,1)\n",
    "ax_ram.plot(df_RAM['bv'], df_RAM['RAM'], '-o')\n",
    "ax_ram.set_xlabel(r'Boxvolume [Ang$^3$]')\n",
    "ax_ram.set_ylabel('RAM [GB]')\n"
   ]
  }
 ],
 "metadata": {
  "kernelspec": {
   "display_name": "Python (atmoic-energies)",
   "language": "python",
   "name": "atomic-energies"
  },
  "language_info": {
   "codemirror_mode": {
    "name": "ipython",
    "version": 3
   },
   "file_extension": ".py",
   "mimetype": "text/x-python",
   "name": "python",
   "nbconvert_exporter": "python",
   "pygments_lexer": "ipython3",
   "version": "3.7.3"
  }
 },
 "nbformat": 4,
 "nbformat_minor": 2
}
