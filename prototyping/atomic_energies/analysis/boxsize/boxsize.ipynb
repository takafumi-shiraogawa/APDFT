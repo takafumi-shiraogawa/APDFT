{
 "cells": [
  {
   "cell_type": "code",
   "execution_count": 1,
   "metadata": {},
   "outputs": [],
   "source": [
    "import matplotlib\n",
    "matplotlib.use('Qt5Agg')\n",
    "from matplotlib import pyplot as plt\n",
    "plt.rcParams.update({'font.size': 22})\n",
    "\n",
    "import numpy as np\n",
    "\n",
    "import sys\n",
    "sys.path.insert(0, '/home/misa/APDFT/prototyping/atomic_energies/')\n",
    "\n",
    "from parse_cube_files import CUBE"
   ]
  },
  {
   "cell_type": "markdown",
   "metadata": {},
   "source": [
    "# Boxsize = 20 Ang"
   ]
  },
  {
   "cell_type": "code",
   "execution_count": 4,
   "metadata": {},
   "outputs": [],
   "source": [
    "Dens_38val = CUBE(r'/home/misa/APDFT/prototyping/atomic_energies/results/test_calculations/converge_lambda_test/initial_conditions/val_el_30/approach_a2/initial_run/DENSITY.cube')\n",
    "Dens_30val = CUBE(r'/home/misa/APDFT/prototyping/atomic_energies/results/test_calculations/converge_lambda_test/optimizer/val_el_30/cg_step_5/DENSITY.cube')\n",
    "Dens_8val = CUBE(r'/home/misa/APDFT/prototyping/atomic_energies/results/test_calculations/converge_lambda_test/optimizer/val_el_8/cg_step_5/DENSITY.cube')\n",
    "coordinate_b20 = np.linspace(0, 20-20/180, 180)"
   ]
  },
  {
   "cell_type": "code",
   "execution_count": 24,
   "metadata": {},
   "outputs": [],
   "source": [
    "# projection on plane\n",
    "projected_densities_2D_b20 = [Dens_38val.project(0), Dens_30val.project(0), Dens_8val.project(0)]\n",
    "label = [r'$\\lambda = 1.0$',r'$\\lambda \\approx 0.79$', r'$\\lambda \\approx 0.21$']\n",
    "for idx, pd in enumerate(projected_densities_2D_b20):\n",
    "    fig_2D, ax_2D = plt.subplots(1,1)\n",
    "    ax_2D.contour(coordinate_b20, coordinate_b20, pd)\n",
    "    ax_2D.set_title(r'Boxsize = 20, ' + label[idx])\n",
    "    ax_2D.set_xlabel(r'Cell coordinate $x_0$')\n",
    "    ax_2D.set_ylabel(r'Cell coordinate $x_1$')\n",
    "\n"
   ]
  },
  {
   "cell_type": "code",
   "execution_count": 16,
   "metadata": {},
   "outputs": [
    {
     "data": {
      "text/plain": [
       "<matplotlib.legend.Legend at 0x7f5c97796358>"
      ]
     },
     "execution_count": 16,
     "metadata": {},
     "output_type": "execute_result"
    }
   ],
   "source": [
    "# projection on line\n",
    "projected_densities_1D_b20 = [Dens_38val.project((0,1)), Dens_30val.project((0,1)), Dens_8val.project((0,1))]\n",
    "label = [r'$\\lambda = 1.0$',r'$\\lambda \\approx 0.79$', r'$\\lambda \\approx 0.21$']\n",
    "fig_1D_b20, ax_1D_b20 = plt.subplots(1,1)\n",
    "for idx, pd in enumerate(projected_densities_1D_b20):\n",
    "    ax_1D_b20.plot(coordinate_b20, pd, label=label[idx])\n",
    "\n",
    "ax_1D_b20.set_title('Boxsize = 20 Ang')\n",
    "ax_1D_b20.set_xlabel('Cell coordinate (Ang)')\n",
    "ax_1D_b20.set_xlim(0, 20-20/180)\n",
    "ax_1D_b20.set_ylabel(r'Projected Density $\\rho(x_0)$ (Bohr$^{-3}$) ')\n",
    "\n",
    "ax_1D_b20.legend()"
   ]
  },
  {
   "cell_type": "markdown",
   "metadata": {},
   "source": [
    "# comparison of cube files generated with default fft library and 360 gpts and cube files generated using FFTW2 and 350 gpts"
   ]
  },
  {
   "cell_type": "code",
   "execution_count": 26,
   "metadata": {},
   "outputs": [],
   "source": [
    "gd_350_ve38 = CUBE(r'/home/misa/APDFT/prototyping/atomic_energies/results/test_calculations/cpmd2cube_fftw2/dsgdb9nsd_014656_ve38.cube')\n",
    "gd_350_ve30 = CUBE(r'/home/misa/APDFT/prototyping/atomic_energies/results/test_calculations/cpmd2cube_fftw2/dsgdb9nsd_014656_ve30.cube')\n",
    "gd_350_ve8 = CUBE(r'/home/misa/APDFT/prototyping/atomic_energies/results/test_calculations/cpmd2cube_fftw2/dsgdb9nsd_014656_ve8.cube')"
   ]
  },
  {
   "cell_type": "code",
   "execution_count": 27,
   "metadata": {},
   "outputs": [],
   "source": [
    "dens_ve38 = gd_350_ve38.project((0,1))\n",
    "dens_ve30 = gd_350_ve30.project((0,1))\n",
    "dens_ve8 = gd_350_ve8.project((0,1))\n",
    "x_b20_gd350 = np.linspace(0.5, 20-0.5, 175)"
   ]
  },
  {
   "cell_type": "code",
   "execution_count": 36,
   "metadata": {},
   "outputs": [
    {
     "data": {
      "text/plain": [
       "<matplotlib.legend.Legend at 0x7f6d0a5d8cf8>"
      ]
     },
     "execution_count": 36,
     "metadata": {},
     "output_type": "execute_result"
    }
   ],
   "source": [
    "fig, ax = plt.subplots(3,1)\n",
    "\n",
    "# 38 ve\n",
    "ax[0].plot(coordinate_b20, Dens_38val.project((0,1)), label='360 gpts, ve 38')\n",
    "ax[0].plot(x_b20_gd350, dens_ve38, label='350 gpts, ve 38')\n",
    "ax[0].legend()\n",
    "\n",
    "# 30 ve\n",
    "ax[1].plot(coordinate_b20, Dens_30val.project((0,1)), label='360 gpts, ve 30')\n",
    "ax[1].plot(x_b20_gd350, dens_ve30, label='350 gpts, ve 30')\n",
    "ax[1].legend()\n",
    "\n",
    "# 8 ve\n",
    "ax[2].plot(coordinate_b20, Dens_8val.project((0,1)), label='360 gpts, ve 8')\n",
    "ax[2].plot(x_b20_gd350, dens_ve8, label='350 gpts, ve 8')\n",
    "ax[2].legend()\n",
    "\n",
    "# ax.set_title('Boxsize = 20 Ang')\n",
    "# ax.set_xlabel('Cell coordinate (Ang)')\n",
    "# ax.set_xlim(0.5, 19.5)\n",
    "# ax.set_ylabel(r'Projected Density $\\rho(x_0)$ (Bohr$^{-3}$) ')\n",
    "\n"
   ]
  },
  {
   "cell_type": "code",
   "execution_count": 34,
   "metadata": {},
   "outputs": [
    {
     "data": {
      "text/plain": [
       "0.01007335761469821"
      ]
     },
     "execution_count": 34,
     "metadata": {},
     "output_type": "execute_result"
    }
   ],
   "source": [
    "gd_350_ve38.dv"
   ]
  },
  {
   "cell_type": "code",
   "execution_count": 35,
   "metadata": {},
   "outputs": [
    {
     "data": {
      "text/plain": [
       "0.009257031566972997"
      ]
     },
     "execution_count": 35,
     "metadata": {},
     "output_type": "execute_result"
    }
   ],
   "source": [
    "Dens_38val.dv"
   ]
  },
  {
   "cell_type": "code",
   "execution_count": 37,
   "metadata": {},
   "outputs": [
    {
     "name": "stdout",
     "output_type": "stream",
     "text": [
      "Electrons 350 gpts, 38 VE = 38.000149\n",
      "Electrons 360 gpts, 38 VE = 38.000228\n",
      "\n",
      "Electrons 350 gpts, 30 VE = 38.000159\n",
      "Electrons 360 gpts, 30 VE = 38.000233\n",
      "\n",
      "Electrons 350 gpts, 8 VE = 38.000158\n",
      "Electrons 360 gpts, 8 VE = 38.000233\n"
     ]
    }
   ],
   "source": [
    "print('Electrons 350 gpts, 38 VE = %f' %gd_350_ve38.project((0,1,2)) )\n",
    "print('Electrons 360 gpts, 38 VE = %f\\n' %Dens_38val.project((0,1,2)) )\n",
    "\n",
    "print('Electrons 350 gpts, 30 VE = %f' %gd_350_ve30.project((0,1,2)) )\n",
    "print('Electrons 360 gpts, 30 VE = %f\\n' %Dens_30val.project((0,1,2)) )\n",
    "\n",
    "print('Electrons 350 gpts, 8 VE = %f' %gd_350_ve8.project((0,1,2)) )\n",
    "print('Electrons 360 gpts, 8 VE = %f' %Dens_8val.project((0,1,2)) )"
   ]
  },
  {
   "cell_type": "code",
   "execution_count": 38,
   "metadata": {},
   "outputs": [
    {
     "data": {
      "text/plain": [
       "(180,)"
      ]
     },
     "execution_count": 38,
     "metadata": {},
     "output_type": "execute_result"
    }
   ],
   "source": [
    "Dens_30val.project((0,1)).shape\n"
   ]
  },
  {
   "cell_type": "code",
   "execution_count": 39,
   "metadata": {},
   "outputs": [
    {
     "data": {
      "text/plain": [
       "(175,)"
      ]
     },
     "execution_count": 39,
     "metadata": {},
     "output_type": "execute_result"
    }
   ],
   "source": [
    "gd_350_ve8.project((0,1)).shape"
   ]
  },
  {
   "cell_type": "markdown",
   "metadata": {},
   "source": [
    "# Boxsize = 30 Ang"
   ]
  },
  {
   "cell_type": "code",
   "execution_count": 6,
   "metadata": {},
   "outputs": [],
   "source": [
    "Dens_8ve_stepsize = CUBE(r'/home/misa/APDFT/prototyping/atomic_energies/results/test_calculations/converge_lambda_test/boxsize/box30/ve8_stepsize/DENSITY.cube')"
   ]
  },
  {
   "cell_type": "code",
   "execution_count": 7,
   "metadata": {},
   "outputs": [],
   "source": [
    "projected_densities_1D_b30 = [Dens_8ve_stepsize.project((0,1))]\n"
   ]
  },
  {
   "cell_type": "code",
   "execution_count": 15,
   "metadata": {},
   "outputs": [
    {
     "data": {
      "text/plain": [
       "<matplotlib.legend.Legend at 0x7f5c97c35128>"
      ]
     },
     "execution_count": 15,
     "metadata": {},
     "output_type": "execute_result"
    }
   ],
   "source": [
    "coordinate_b30 = np.linspace(0.0, 30-30/256, 256)\n",
    "# projection on line\n",
    "projected_densities_1D_b30 = [Dens_8ve_stepsize.project((0,1))]\n",
    "label = [r'$\\lambda \\approx 0.21$']\n",
    "fig_1D_b30, ax_1D_b30 = plt.subplots(1,1)\n",
    "for idx, pd in enumerate(projected_densities_1D_b30):\n",
    "    ax_1D_b30.plot(coordinate_b30, pd, label=label[idx])\n",
    "\n",
    "ax_1D_b30.set_title('Boxsize = 30 Ang')\n",
    "ax_1D_b30.set_xlabel('Cell coordinate (Ang)')\n",
    "ax_1D_b30.set_ylim(0.0, 1)\n",
    "ax_1D_b30.set_xlim(0.0, 30-30/256)\n",
    "ax_1D_b30.set_ylabel(r'Projected Density $\\rho(x_0)$ (Bohr$^{-3}$) ')\n",
    "\n",
    "ax_1D_b30.legend()"
   ]
  },
  {
   "cell_type": "code",
   "execution_count": null,
   "metadata": {},
   "outputs": [],
   "source": []
  },
  {
   "cell_type": "code",
   "execution_count": 9,
   "metadata": {},
   "outputs": [
    {
     "data": {
      "text/plain": [
       "[<matplotlib.lines.Line2D at 0x7f5cac25d7f0>]"
      ]
     },
     "execution_count": 9,
     "metadata": {},
     "output_type": "execute_result"
    }
   ],
   "source": [
    "projected_densities_1D_b20 = [Dens_38val.project((0,1)), Dens_30val.project((0,1)), Dens_8val.project((0,1))]\n",
    "label = [r'$\\lambda = 1.0$',r'$\\lambda \\approx 0.79$', r'$\\lambda \\approx 0.21$']\n",
    "fig_1D_b20, ax_1D_b20 = plt.subplots(1,1)\n",
    "for idx, pd in enumerate(projected_densities_1D_b20):\n",
    "    ax_1D_b20.plot(coordinate_b20, pd, label=label[idx])\n",
    "\n",
    "coordinate_b30 = np.linspace(0.5, 30-0.5, 256)\n",
    "ax_1D_b20.plot(coordinate_b30, projected_densities_1D_b30[0], label=r'$\\lambda \\approx 0.21$')"
   ]
  }
 ],
 "metadata": {
  "kernelspec": {
   "display_name": "Python (atmoic-energies)",
   "language": "python",
   "name": "atomic-energies"
  },
  "language_info": {
   "codemirror_mode": {
    "name": "ipython",
    "version": 3
   },
   "file_extension": ".py",
   "mimetype": "text/x-python",
   "name": "python",
   "nbconvert_exporter": "python",
   "pygments_lexer": "ipython3",
   "version": "3.7.3"
  }
 },
 "nbformat": 4,
 "nbformat_minor": 2
}
