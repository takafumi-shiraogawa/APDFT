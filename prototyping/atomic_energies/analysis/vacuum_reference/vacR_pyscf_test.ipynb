{
 "cells": [
  {
   "cell_type": "code",
   "execution_count": null,
   "metadata": {},
   "outputs": [],
   "source": [
    "import numpy as np\n",
    "import scipy as sc\n",
    "import numpy\n",
    "import pyscf\n",
    "import pyscf.gto\n",
    "import pyscf.qmmm\n",
    "import pyscf.scf\n",
    "import pyscf.dft\n",
    "import pyscf.lib\n",
    "from pyscf.data import nist\n",
    "import qml\n",
    "from ase import units\n",
    "\n",
    "\n",
    "def add_qmmm(calc, deltaZ, includeonly, mol):\n",
    "    \"\"\"\n",
    "    modify hamiltonian such that Z = Z(lambda)\n",
    "    \"\"\"\n",
    "    mf = pyscf.qmmm.mm_charge(calc, mol.atom_coords()[includeonly]*units.Bohr, deltaZ) # add charge dZ at position of nuclei\n",
    "\n",
    "    def energy_nuc(self):\n",
    "        \"\"\"\n",
    "        calculate correct nuclear charge for modified system\n",
    "        \"\"\"\n",
    "        q = mol.atom_charges().astype(np.float)\n",
    "        q[includeonly] += deltaZ\n",
    "        return mol.energy_nuc(q)\n",
    "\n",
    "    mf.energy_nuc = energy_nuc.__get__(mf, mf.__class__)\n",
    "\n",
    "    return mf\n",
    "\n",
    "def calculate_alchpot(dm1_ao, includeonly, mol):\n",
    "    # Electronic EPN from electron density\n",
    "    alch_pots = []\n",
    "    for site in includeonly:\n",
    "        mol.set_rinv_orig_(mol.atom_coords()[site])\n",
    "        alch_pots.append(np.matmul(dm1_ao, mol.intor(\"int1e_rinv\")).trace())\n",
    "    return(-np.array(alch_pots))\n",
    "\n",
    "def calculate_average_alchpots(alchpots, lam_vals, intg_meth):\n",
    "    num_alchpots = len(alchpots[0])\n",
    "    av_alchpots = []\n",
    "    for i in range(num_alchpots):\n",
    "        if intg_meth == 'trapz':\n",
    "            av_alchpot_i = np.trapz(alchpots[:,i], lam_vals)\n",
    "        av_alchpots.append(av_alchpot_i)\n",
    "    return(np.array(av_alchpots))\n",
    "\n",
    "def get_num_elec(lam_val, total_num_elecs):\n",
    "    \"\"\"\n",
    "    calculate number of electrons for a given lambda value and total number of electrons\n",
    "    \"\"\"\n",
    "    if int(lam_val*total_num_elecs)%2 == 0:\n",
    "        num_elec = int(lam_val*total_num_elecs)\n",
    "    else:\n",
    "        num_elec = int(lam_val*total_num_elecs) + 1\n",
    "    return(num_elec)\n",
    "\n",
    "def make_apdft_calc(deltaZ, includeonly, mol, method = \"HF\"):\n",
    "    \"\"\"\n",
    "    SCF calculation for fractional charges defined in deltaZ\n",
    "    returns the density matrix and the total energy\n",
    "    \"\"\"\n",
    "    \n",
    "    if method not in [\"CCSD\", \"HF\"]:\n",
    "        raise NotImplementedError(\"Method %s not supported.\" % method)\n",
    "\n",
    "    if method == \"HF\":\n",
    "        calc = add_qmmm(pyscf.scf.RHF(mol), deltaZ, includeonly, mol)\n",
    "        hfe = calc.kernel(verbose=0)\n",
    "        dm1_ao = calc.make_rdm1()\n",
    "        total_energy = calc.e_tot\n",
    "    if method == \"CCSD\":\n",
    "        calc = add_qmmm(pyscf.scf.RHF(mol), mol, deltaZ)\n",
    "        hfe = calc.kernel(verbose=0)\n",
    "        mycc = pyscf.cc.CCSD(calc).run()\n",
    "        dm1 = mycc.make_rdm1()\n",
    "        dm1_ao = np.einsum(\"pi,ij,qj->pq\", calc.mo_coeff, dm1, calc.mo_coeff.conj())\n",
    "        total_energy = mycc.e_tot\n",
    "    return(dm1_ao, total_energy)\n",
    "\n",
    "def prepare_input(coords, nuc_charges, lam_val_desired, basis = 'def2-qzvp', num_elec = None):\n",
    "    num_elec = get_num_elec(lam_val_desired, nuc_charges.sum())\n",
    "    lam_val = num_elec/nuc_charges.sum()\n",
    "    \n",
    "    mol = pyscf.gto.Mole()\n",
    "    for ch, coords_atom in zip(nuc_charges, coords):\n",
    "        mol.atom.append([ch, coords_atom])\n",
    "    mol.basis = basis\n",
    "    mol.charge = nuc_charges.sum() - num_elec\n",
    "    mol.build()\n",
    "    # dZ vector to generate systems for lambda != 1\n",
    "    deltaZ = -nuc_charges*(1-lam_val)\n",
    "    includeonly = np.arange(len(mol.atom_coords()))\n",
    "    \n",
    "    return(deltaZ, includeonly, mol)\n",
    "    \n"
   ]
  },
  {
   "cell_type": "markdown",
   "metadata": {},
   "source": [
    "#### Test vac $\\rightarrow$ N$_2$"
   ]
  },
  {
   "cell_type": "code",
   "execution_count": 1,
   "metadata": {},
   "outputs": [
    {
     "name": "stdout",
     "output_type": "stream",
     "text": [
      "preparing input\n",
      "Doing SCF calculation\n"
     ]
    },
    {
     "name": "stderr",
     "output_type": "stream",
     "text": [
      "Overwritten attributes  energy_nuc  of <class 'pyscf.qmmm.itrf.qmmm_for_scf.<locals>.QMMM'>\n",
      "/home/misa/anaconda3/envs/atomic-energies/lib/python3.7/site-packages/pyscf/gto/mole.py:1047: UserWarning: Function mol.dumps drops attribute charge because it is not JSON-serializable\n",
      "  warnings.warn(msg)\n"
     ]
    },
    {
     "name": "stdout",
     "output_type": "stream",
     "text": [
      "converged SCF energy = -1.00230083587087\n",
      "Calculating alchemical potentials\n",
      "preparing input\n",
      "Doing SCF calculation\n",
      "converged SCF energy = -5.70322059301431\n",
      "Calculating alchemical potentials\n",
      "preparing input\n",
      "Doing SCF calculation\n",
      "converged SCF energy = -14.6541461549333\n",
      "Calculating alchemical potentials\n",
      "preparing input\n",
      "Doing SCF calculation\n",
      "converged SCF energy = -28.9681025684945\n",
      "Calculating alchemical potentials\n",
      "preparing input\n",
      "Doing SCF calculation\n",
      "converged SCF energy = -48.8916211505035\n",
      "Calculating alchemical potentials\n",
      "preparing input\n",
      "Doing SCF calculation\n",
      "converged SCF energy = -75.3453051237298\n",
      "Calculating alchemical potentials\n",
      "preparing input\n",
      "Doing SCF calculation\n",
      "converged SCF energy = -108.711062429174\n",
      "Calculating alchemical potentials\n"
     ]
    }
   ],
   "source": [
    "# # import everything from alchemy_tools_pyscf\n",
    "\n",
    "# import sys\n",
    "# sys.path.insert(0, '/home/misa/git_repositories/APDFT/prototyping/atomic_energies/')\n",
    "# import alchemy_tools_pyscf as atp\n",
    "# import numpy as np\n",
    "\n",
    "# lam_vals_desired = np.arange(2, 16, 2)/14\n",
    "# coords = np.array([[0, 0, 0], [0, 0, 1.5]])\n",
    "# nuclear_charges = np.array([7, 7])\n",
    "# basis = 'def2-qzvp'\n",
    "# lam_vals = []\n",
    "# alchemical_potentials = []\n",
    "# for lam_val_desired in lam_vals_desired:\n",
    "#     num_elec = atp.get_num_elec(lam_val_desired, nuclear_charges.sum())\n",
    "#     lam_vals.append(num_elec/nuclear_charges.sum())\n",
    "#     print('preparing input')\n",
    "#     deltaZ, includeonly, mol = atp.prepare_input(coords, nuclear_charges, num_elec, basis)\n",
    "#     print('Doing SCF calculation')\n",
    "#     dm, e_tot = atp.make_apdft_calc(deltaZ, includeonly, mol, method = \"HF\")\n",
    "#     print('Calculating alchemical potentials')\n",
    "#     alchpots_lambda = atp.calculate_alchpot(dm, includeonly, mol)\n",
    "\n",
    "#     alchemical_potentials.append(alchpots_lambda)"
   ]
  },
  {
   "cell_type": "code",
   "execution_count": null,
   "metadata": {
    "scrolled": true
   },
   "outputs": [],
   "source": [
    "lam_vals = np.arange(2, 16, 2)/14\n",
    "coords = np.array([[0, 0, 0], [0, 0, 1.5]])\n",
    "nuclear_charges = np.array([7, 7])\n",
    "basis = 'def2-qzvp'\n",
    "alchemical_potentials = []\n",
    "for lam in lam_vals:\n",
    "    print('preparing input')\n",
    "    deltaZ, includeonly, mol = prepare_input(coords, nuclear_charges, lam, basis)\n",
    "    print('Doing SCF calculation')\n",
    "    dm, e_tot = make_apdft_calc(deltaZ, includeonly, mol, method = \"HF\")\n",
    "    print('Calculating alchemical potentials')\n",
    "    alchpots_lambda = calculate_alchpot(dm, includeonly, mol)\n",
    "\n",
    "    alchemical_potentials.append(alchpots_lambda)"
   ]
  },
  {
   "cell_type": "code",
   "execution_count": 2,
   "metadata": {},
   "outputs": [],
   "source": [
    "# alchemical potentials from explore_subpaths_N2.ipynb\n",
    "reference_vals = np.array([[ -1.29426202,  -1.29426202],\n",
    "       [ -4.09848617,  -4.09848618],\n",
    "       [ -6.898463  ,  -6.898463  ],\n",
    "       [ -9.87442425,  -9.87442425],\n",
    "       [-13.07290408, -13.07290409],\n",
    "       [-16.71126325, -16.71126261],\n",
    "       [-20.63771543, -20.63771543]])"
   ]
  },
  {
   "cell_type": "code",
   "execution_count": 4,
   "metadata": {},
   "outputs": [
    {
     "data": {
      "text/plain": [
       "[array([-1.29426202, -1.29426202]),\n",
       " array([-4.09848617, -4.09848618]),\n",
       " array([-6.898463, -6.898463]),\n",
       " array([-9.87442425, -9.87442425]),\n",
       " array([-13.07290407, -13.07290409]),\n",
       " array([-16.71126339, -16.71126248]),\n",
       " array([-20.63771543, -20.63771543])]"
      ]
     },
     "execution_count": 4,
     "metadata": {},
     "output_type": "execute_result"
    }
   ],
   "source": [
    "alchemical_potentials"
   ]
  },
  {
   "cell_type": "code",
   "execution_count": 3,
   "metadata": {},
   "outputs": [
    {
     "data": {
      "text/plain": [
       "array([[ 2.70037570e-09,  1.55493840e-10],\n",
       "       [-3.92197474e-09,  4.98233899e-09],\n",
       "       [ 4.87577978e-09,  4.03791667e-09],\n",
       "       [ 3.90756938e-09,  3.23041682e-09],\n",
       "       [ 5.63658631e-09, -1.48362389e-09],\n",
       "       [-1.38886431e-07,  1.33181377e-07],\n",
       "       [-4.30016911e-10, -4.16626733e-10]])"
      ]
     },
     "execution_count": 3,
     "metadata": {},
     "output_type": "execute_result"
    }
   ],
   "source": [
    "alchemical_potentials - reference_vals"
   ]
  },
  {
   "cell_type": "markdown",
   "metadata": {},
   "source": [
    "#### Test dsgdb9nsd_001212"
   ]
  },
  {
   "cell_type": "code",
   "execution_count": null,
   "metadata": {},
   "outputs": [],
   "source": [
    "lam_vals = np.array([22, 30, 38, 44, 52])/52\n",
    "basis = 'def2-tzvp'\n",
    "com = qml.Compound(xyz='/home/misa/datasets/qm9/dsgdb9nsd_001212.xyz')\n",
    "alchemical_potentials = []\n",
    "\n",
    "\n",
    "for lam in lam_vals:\n",
    "    print('preparing input')\n",
    "    deltaZ, includeonly, mol = prepare_input(com.coordinates, com.nuclear_charges, lam, basis)\n",
    "    print('Doing SCF calculation')\n",
    "    dm, e_tot = make_apdft_calc(deltaZ, includeonly, mol, method = \"HF\")\n",
    "    print('Calculating alchemical potentials')\n",
    "    alchpots_lambda = calculate_alchpot(dm, includeonly, mol)\n",
    "\n",
    "    alchemical_potentials.append(alchpots_lambda)"
   ]
  },
  {
   "cell_type": "code",
   "execution_count": null,
   "metadata": {},
   "outputs": [],
   "source": [
    "# get also all eigenvalues and occupation numbers\n",
    "# make restart file\n",
    "\n",
    "# save data in adequate way\n",
    "# calculate average alchemical potential and store it"
   ]
  },
  {
   "cell_type": "code",
   "execution_count": null,
   "metadata": {},
   "outputs": [],
   "source": [
    "alchemical_potentials"
   ]
  },
  {
   "cell_type": "code",
   "execution_count": null,
   "metadata": {},
   "outputs": [],
   "source": [
    "# load reference data from different_resevoir_pyscf.ipynb\n",
    "import utils_qm as ut\n",
    "com = qml.Compound(xyz='/home/misa/datasets/qm9/dsgdb9nsd_001212.xyz')\n",
    "\n",
    "base = '/home/misa/APDFT/prototyping/atomic_energies/results/different_resevoir/pyscf/com_001212/'\n",
    "alchs = ut.load_obj(base+'alch_pots')\n",
    "alch_pots_reference = np.array(alchs)\n",
    "# alch_pots = np.concatenate((np.array([np.zeros(12)]), alch_pots))\n",
    "# homos = ut.load_obj(base+'e_homo')\n",
    "# homos.insert(0,0.0)\n",
    "# homos = np.array(homos)\n",
    "# lumos = ut.load_obj(base+'e_lumo')\n",
    "# lumos.insert(0,0.0)\n",
    "# lumos = np.array(lumos)\n",
    "lam_vals = np.array([0, 22, 30, 38, 44, 52])/52"
   ]
  },
  {
   "cell_type": "code",
   "execution_count": null,
   "metadata": {},
   "outputs": [],
   "source": [
    "# reference alchpots are still positive\n",
    "alch_pots_reference + alchemical_potentials"
   ]
  },
  {
   "cell_type": "markdown",
   "metadata": {},
   "source": [
    "results can reproduced for N2 and dsgdb9nsd_001212"
   ]
  },
  {
   "cell_type": "code",
   "execution_count": null,
   "metadata": {},
   "outputs": [],
   "source": [
    "fig, ax = plt.subplots(1,1)\n",
    "color_dict = {1.0:'tab:blue', 6.0:'tab:green', 7.0:'tab:orange', 8.0:'tab:red'}\n",
    "for i in range(len(com.nuclear_charges)):\n",
    "    \n",
    "    ax.plot(lam_vals, alch_pots[:,i], '-o', label = com.nuclear_charges[i], color=color_dict[com.nuclear_charges[i]])\n",
    "ax.legend(bbox_to_anchor=(1.05, 1), loc='upper left', borderaxespad=0.)"
   ]
  },
  {
   "cell_type": "code",
   "execution_count": null,
   "metadata": {},
   "outputs": [],
   "source": [
    "fig, ax = plt.subplots(1,1)\n",
    "# color_dict = {1.0:'tab:blue', 6.0:'tab:green', 7.0:'tab:orange', 8.0:'tab:red'}\n",
    "for i in [0,1,4,5]:\n",
    "    ax.plot(lam_vals, alch_pots[:,i], '-o', label = com.nuclear_charges[i])\n",
    "ax.legend(bbox_to_anchor=(1.05, 1), loc='upper left', borderaxespad=0.)"
   ]
  }
 ],
 "metadata": {
  "kernelspec": {
   "display_name": "Python [conda env:atomic-energies]",
   "language": "python",
   "name": "conda-env-atomic-energies-py"
  },
  "language_info": {
   "codemirror_mode": {
    "name": "ipython",
    "version": 3
   },
   "file_extension": ".py",
   "mimetype": "text/x-python",
   "name": "python",
   "nbconvert_exporter": "python",
   "pygments_lexer": "ipython3",
   "version": "3.7.3"
  }
 },
 "nbformat": 4,
 "nbformat_minor": 2
}
