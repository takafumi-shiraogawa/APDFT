{
 "cells": [
  {
   "cell_type": "code",
   "execution_count": 1,
   "metadata": {},
   "outputs": [],
   "source": [
    "import sys\n",
    "sys.path.insert(0, '/home/misa/git_repositories/APDFT/prototyping/atomic_energies/')\n",
    "import utils_qm as uqm\n",
    "\n",
    "import write_input as wi\n",
    "\n",
    "import os\n",
    "import shutil"
   ]
  },
  {
   "cell_type": "code",
   "execution_count": 2,
   "metadata": {},
   "outputs": [
    {
     "data": {
      "text/plain": [
       "0.037037037037037035"
      ]
     },
     "execution_count": 2,
     "metadata": {},
     "output_type": "execute_result"
    }
   ],
   "source": [
    "2/54"
   ]
  },
  {
   "cell_type": "code",
   "execution_count": 2,
   "metadata": {},
   "outputs": [],
   "source": [
    "dirs = uqm.read_list('/home/misa/projects/Atomic-Energies/data/vacuum_reference/test_run.txt')"
   ]
  },
  {
   "cell_type": "code",
   "execution_count": 3,
   "metadata": {},
   "outputs": [
    {
     "name": "stdout",
     "output_type": "stream",
     "text": [
      "Creation of the directory /home/misa/projects/Atomic-Energies/data/vacuum_reference/qm9_data/dsgdb9nsd_000272 failed\n",
      "Creation of the directory /home/misa/projects/Atomic-Energies/data/vacuum_reference/qm9_data/dsgdb9nsd_009029 failed\n",
      "Creation of the directory /home/misa/projects/Atomic-Energies/data/vacuum_reference/qm9_data/dsgdb9nsd_000393 failed\n",
      "Creation of the directory /home/misa/projects/Atomic-Energies/data/vacuum_reference/qm9_data/dsgdb9nsd_003945 failed\n",
      "Creation of the directory /home/misa/projects/Atomic-Energies/data/vacuum_reference/qm9_data/dsgdb9nsd_001212 failed\n",
      "Creation of the directory /home/misa/projects/Atomic-Energies/data/vacuum_reference/qm9_data/dsgdb9nsd_002126 failed\n",
      "Creation of the directory /home/misa/projects/Atomic-Energies/data/vacuum_reference/qm9_data/dsgdb9nsd_000987 failed\n",
      "Creation of the directory /home/misa/projects/Atomic-Energies/data/vacuum_reference/qm9_data/dsgdb9nsd_001770 failed\n",
      "Creation of the directory /home/misa/projects/Atomic-Energies/data/vacuum_reference/qm9_data/dsgdb9nsd_001735 failed\n",
      "Creation of the directory /home/misa/projects/Atomic-Energies/data/vacuum_reference/qm9_data/dsgdb9nsd_001711 failed\n",
      "Creation of the directory /home/misa/projects/Atomic-Energies/data/vacuum_reference/qm9_data/dsgdb9nsd_001909 failed\n",
      "Creation of the directory /home/misa/projects/Atomic-Energies/data/vacuum_reference/qm9_data/dsgdb9nsd_001953 failed\n",
      "Creation of the directory /home/misa/projects/Atomic-Energies/data/vacuum_reference/qm9_data/dsgdb9nsd_002255 failed\n",
      "Creation of the directory /home/misa/projects/Atomic-Energies/data/vacuum_reference/qm9_data/dsgdb9nsd_003766 failed\n",
      "Creation of the directory /home/misa/projects/Atomic-Energies/data/vacuum_reference/qm9_data/dsgdb9nsd_003945 failed\n",
      "Creation of the directory /home/misa/projects/Atomic-Energies/data/vacuum_reference/qm9_data/dsgdb9nsd_002635 failed\n",
      "Creation of the directory /home/misa/projects/Atomic-Energies/data/vacuum_reference/qm9_data/dsgdb9nsd_005352 failed\n",
      "Creation of the directory /home/misa/projects/Atomic-Energies/data/vacuum_reference/qm9_data/dsgdb9nsd_002020 failed\n",
      "Creation of the directory /home/misa/projects/Atomic-Energies/data/vacuum_reference/qm9_data/dsgdb9nsd_002407 failed\n",
      "Creation of the directory /home/misa/projects/Atomic-Energies/data/vacuum_reference/qm9_data/dsgdb9nsd_002422 failed\n"
     ]
    }
   ],
   "source": [
    "# make directory\n",
    "for d in dirs:\n",
    "    try:\n",
    "        os.mkdir(d)\n",
    "    except OSError:\n",
    "        print (\"Creation of the directory %s failed\" % d)\n",
    "    else:\n",
    "        print (\"Successfully created the directory %s \" % d)"
   ]
  },
  {
   "cell_type": "code",
   "execution_count": 4,
   "metadata": {},
   "outputs": [],
   "source": [
    "# make input file and copy xyz-file\n",
    "for d in dirs:\n",
    "    c = d.split('/')[-1]\n",
    "    \n",
    "    wi.write_input_file(d,c)\n",
    "    \n",
    "    source = f'/home/misa/datasets/qm9/{c}.xyz'\n",
    "    dest = os.path.join(d, c+'.xyz')\n",
    "    shutil.copyfile(source, dest)"
   ]
  },
  {
   "cell_type": "code",
   "execution_count": null,
   "metadata": {},
   "outputs": [],
   "source": []
  }
 ],
 "metadata": {
  "kernelspec": {
   "display_name": "Python (atmoic-energies)",
   "language": "python",
   "name": "atomic-energies"
  },
  "language_info": {
   "codemirror_mode": {
    "name": "ipython",
    "version": 3
   },
   "file_extension": ".py",
   "mimetype": "text/x-python",
   "name": "python",
   "nbconvert_exporter": "python",
   "pygments_lexer": "ipython3",
   "version": "3.7.3"
  }
 },
 "nbformat": 4,
 "nbformat_minor": 4
}
