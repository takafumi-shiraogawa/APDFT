{
 "cells": [
  {
   "cell_type": "markdown",
   "metadata": {},
   "source": [
    "### Test N2 from alchemy"
   ]
  },
  {
   "cell_type": "markdown",
   "metadata": {},
   "source": [
    "#### difference between two different alchemical energies\n",
    "- Error drastically reduced (-0.5 Ha instead of -3.14 Ha)\n",
    "\n",
    "- error for vac->H2 not the largest (vac not problem)\n",
    "- H2->He2 problematic again, Be2->B2 as well\n",
    "- but integration with simpson rule higher error for vac->N2 because of kink, alchemical potential wrong?\n",
    "- try difference before integration"
   ]
  },
  {
   "cell_type": "code",
   "execution_count": 1,
   "metadata": {},
   "outputs": [],
   "source": [
    "import numpy as np\n",
    "import scipy as sc\n",
    "import numpy\n",
    "import pyscf\n",
    "import pyscf.gto\n",
    "import pyscf.qmmm\n",
    "import pyscf.scf\n",
    "import pyscf.dft\n",
    "import pyscf.lib\n",
    "from pyscf.data import nist\n",
    "import qml\n",
    "from matplotlib import pyplot as plt\n",
    "from IPython.display import display, Markdown\n",
    "\n",
    "\n",
    "angstrom = 1 / 0.52917721067"
   ]
  },
  {
   "cell_type": "code",
   "execution_count": 2,
   "metadata": {},
   "outputs": [],
   "source": [
    "def generate_mol(el, d, basis, total_elec, num_elec):\n",
    "    mol = pyscf.gto.Mole()\n",
    "    mol.atom = f'{el} 0 0 0; {el} 0 0 {d}'\n",
    "    mol.basis = basis\n",
    "    mol.charge = total_elec - num_elec\n",
    "    mol.verbose = 0\n",
    "    mol.build()\n",
    "    return(mol)\n",
    "\n",
    "def pyscf_APDFT(mol, total_elec):\n",
    "    method = \"HF\"\n",
    "    if method not in [\"CCSD\", \"HF\"]:\n",
    "        raise NotImplementedError(\"Method %s not supported.\" % method)\n",
    "\n",
    "    deltaZ = [-mol.charge/2, -mol.charge/2]\n",
    "    includeonly = np.arange(len(mol.atom_coords()))\n",
    "\n",
    "    def add_qmmm(calc, mol, deltaZ):\n",
    "        mf = pyscf.qmmm.mm_charge(calc, mol.atom_coords()[includeonly]/ angstrom, deltaZ)\n",
    "\n",
    "        def energy_nuc(self):\n",
    "            q = mol.atom_charges().astype(np.float)\n",
    "            q[includeonly] += deltaZ\n",
    "            return mol.energy_nuc(q)\n",
    "\n",
    "        mf.energy_nuc = energy_nuc.__get__(mf, mf.__class__)\n",
    "\n",
    "        return mf\n",
    "\n",
    "    if method == \"HF\":\n",
    "        calc = add_qmmm(pyscf.scf.RHF(mol), mol, deltaZ)\n",
    "        hfe = calc.kernel(verbose=0)\n",
    "        dm1_ao = calc.make_rdm1()\n",
    "        total_energy = calc.e_tot\n",
    "    if method == \"CCSD\":\n",
    "        calc = add_qmmm(pyscf.scf.RHF(mol), mol, deltaZ)\n",
    "        hfe = calc.kernel(verbose=0)\n",
    "        mycc = pyscf.cc.CCSD(calc).run()\n",
    "        dm1 = mycc.make_rdm1()\n",
    "        dm1_ao = np.einsum(\"pi,ij,qj->pq\", calc.mo_coeff, dm1, calc.mo_coeff.conj())\n",
    "        total_energy = mycc.e_tot\n",
    "\n",
    "    # GRIDLESS, as things should be ############################\n",
    "    # Total energy of SCF run\n",
    "\n",
    "#     print(\"TOTAL_ENERGY\", total_energy)\n",
    "\n",
    "    # Electronic EPN from electron density\n",
    "    alchemical_potentials = []\n",
    "    for site in includeonly:\n",
    "        mol.set_rinv_orig_(mol.atom_coords()[site])\n",
    "#         print(\"ELECTRONIC_EPN\", site, np.matmul(dm1_ao, mol.intor(\"int1e_rinv\")).trace())\n",
    "        alchemical_potentials.append(np.matmul(dm1_ao, mol.intor(\"int1e_rinv\")).trace())\n",
    "\n",
    "    # energy of HOMO and LUMO\n",
    "    nocc = int((total_elec - mol.charge)/2)\n",
    "    e_homo = calc.mo_energy[nocc-1]\n",
    "    e_lumo = calc.mo_energy[nocc]\n",
    "\n",
    "    return(alchemical_potentials, e_homo, e_lumo, calc.energy_nuc())\n",
    "\n",
    "def sample_path(num_elecs, element, distance, basis, total_nelec):\n",
    "    alchemical_potentials = []\n",
    "    e_homos = []\n",
    "    e_lumos = []\n",
    "    e_nucs = []\n",
    "\n",
    "    for num_elec in num_elecs:\n",
    "        mol = generate_mol(element, distance, basis, total_nelec, num_elec)\n",
    "        alchpot, ehomo, elumo, enuc = pyscf_APDFT(mol, total_nelec)\n",
    "        alchemical_potentials.append(alchpot)\n",
    "        e_homos.append(ehomo)\n",
    "        e_lumos.append(elumo)\n",
    "        e_nucs.append(enuc)\n",
    "    alchemical_potentials = -1*np.array(alchemical_potentials)\n",
    "    e_homos = np.array(e_homos)\n",
    "    e_lumos = np.array(e_lumos)\n",
    "    e_nucs = np.array(e_nucs)\n",
    "    return(alchemical_potentials, e_homos, e_lumos, e_nucs)\n",
    "\n",
    "def get_energy(lam_vals, alchemical_potentials, nuc_rep, e_homos, dZ, dN, int_rule = 'simp'):\n",
    "    if int_rule == 'simp':\n",
    "        mu_I = sc.integrate.simps(alchemical_potentials, lam_vals)\n",
    "    elif int_rule == 'trapz':\n",
    "        mu_I = np.trapz(alchemical_potentials, lam_vals)\n",
    "    e_homo = np.trapz(e_homos, lam_vals)\n",
    "    \n",
    "    return(2*mu_I * dZ + e_homo*dN + nuc_rep)\n",
    "\n",
    "def get_lam_vals(num_elecs):\n",
    "    return(1/(num_elecs[-1]-num_elecs[0])*num_elecs - num_elecs[0]/(num_elecs[-1]-num_elecs[0]))\n"
   ]
  },
  {
   "cell_type": "markdown",
   "metadata": {},
   "source": [
    "### Referenz calculations:  H$_2$, N$_2$"
   ]
  },
  {
   "cell_type": "code",
   "execution_count": 3,
   "metadata": {},
   "outputs": [],
   "source": [
    "def ref_hf(el, d, basis = 'def2-qzvp'):\n",
    "    mol = pyscf.gto.Mole()\n",
    "    mol.atom = f'{el} 0 0 0; {el} 0 0 {d}'\n",
    "    mol.basis = basis\n",
    "    mol.build()\n",
    "    m = pyscf.scf.RHF(mol)\n",
    "    m.kernel()\n",
    "    e_ref_qzvp = m.e_tot\n",
    "    return(e_ref_qzvp)\n",
    "\n",
    "def get_ref_dict(d, basis = 'def2-qzvp'):\n",
    "    eref_dict = {'vac':0, 'H2':0, 'He2':0, 'Li2':0, 'Be2':0, 'B2':0, 'C2':0, 'N2':0}\n",
    "\n",
    "    for k in eref_dict.keys():\n",
    "        if k != 'vac':\n",
    "            eref_dict[k] = ref_hf(k.strip('2'), d, basis = basis)\n",
    "    return(eref_dict)"
   ]
  },
  {
   "cell_type": "code",
   "execution_count": 4,
   "metadata": {},
   "outputs": [
    {
     "name": "stdout",
     "output_type": "stream",
     "text": [
      "converged SCF energy = -1.00484447618229\n",
      "converged SCF energy = -5.70366878184579\n",
      "converged SCF energy = -14.7683554342198\n",
      "converged SCF energy = -28.9802573563847\n",
      "converged SCF energy = -49.0345264861146\n",
      "converged SCF energy = -75.3468412931265\n",
      "converged SCF energy = -108.711062429174\n"
     ]
    }
   ],
   "source": [
    "eref_d1p5 = get_ref_dict(1.5)"
   ]
  },
  {
   "cell_type": "code",
   "execution_count": 5,
   "metadata": {},
   "outputs": [
    {
     "name": "stdout",
     "output_type": "stream",
     "text": [
      "converged SCF energy = -0.770571790838804\n",
      "converged SCF energy = -5.72324969844536\n",
      "converged SCF energy = -14.8311018525141\n",
      "converged SCF energy = -29.1458870618473\n",
      "converged SCF energy = -48.9305101404032\n",
      "converged SCF energy = -74.9288689161556\n",
      "converged SCF energy = -107.866422116249\n"
     ]
    }
   ],
   "source": [
    "eref_d5 = get_ref_dict(5.0)"
   ]
  },
  {
   "cell_type": "markdown",
   "metadata": {},
   "source": [
    "#### $\\Delta$ H$_2$ $\\rightarrow$ N$_2$, d = 1.5 and d = 5.0"
   ]
  },
  {
   "cell_type": "code",
   "execution_count": 6,
   "metadata": {},
   "outputs": [
    {
     "name": "stderr",
     "output_type": "stream",
     "text": [
      "/home/misa/anaconda3/envs/atomic-energies/lib/python3.7/site-packages/pyscf/gto/mole.py:1047: UserWarning: Function mol.dumps drops attribute charge because it is not JSON-serializable\n",
      "  warnings.warn(msg)\n"
     ]
    }
   ],
   "source": [
    "e_H2N_dist = {1.5:0, 5.0:0}\n",
    "alch_1 = []\n",
    "for d in e_H2N_dist.keys():\n",
    "    element = 'N'\n",
    "    distance = d\n",
    "    basis = 'def2-qzvp'\n",
    "    total_nelec = 14\n",
    "    num_elecs = np.array([2, 4, 6, 8, 10, 12, 14])\n",
    "    lam_vals = 1/(num_elecs[-1]-num_elecs[0])*num_elecs - num_elecs[0]/(num_elecs[-1]-num_elecs[0])\n",
    "    alchemical_potentials, e_homos, e_lumos, e_nucs = sample_path(num_elecs, element, distance, basis, total_nelec)\n",
    "    e_H2N_simp = get_energy(lam_vals, alchemical_potentials[:,0], e_nucs[-1], e_homos, 6, 12) - e_nucs[0]\n",
    "    e_H2N_trapz = get_energy(lam_vals, alchemical_potentials[:,0], e_nucs[-1], e_homos, 6, 12, 'trapz') - e_nucs[0]\n",
    "    e_H2N_dist[d] = e_H2N_simp\n",
    "    \n",
    "    alch_1.append(alchemical_potentials[:,0])"
   ]
  },
  {
   "cell_type": "code",
   "execution_count": 7,
   "metadata": {},
   "outputs": [
    {
     "name": "stdout",
     "output_type": "stream",
     "text": [
      "integration by simpsons rule\n"
     ]
    },
    {
     "data": {
      "text/markdown": [
       "$\\Delta \\Delta E$ (H$_2$ $\\rightarrow$ N$_2$) = -1.052824442228939"
      ],
      "text/plain": [
       "<IPython.core.display.Markdown object>"
      ]
     },
     "metadata": {},
     "output_type": "display_data"
    },
    {
     "data": {
      "text/markdown": [
       "$\\Delta \\Delta E_{\\rm{ref}}$ = -0.6103676275809278"
      ],
      "text/plain": [
       "<IPython.core.display.Markdown object>"
      ]
     },
     "metadata": {},
     "output_type": "display_data"
    },
    {
     "data": {
      "text/markdown": [
       "$\\Delta \\Delta E (\\rm{H}_2 \\rightarrow \\rm{N}_2)- \\Delta \\Delta E_{\\rm{ref}}$ = -0.44245681464801123"
      ],
      "text/plain": [
       "<IPython.core.display.Markdown object>"
      ]
     },
     "metadata": {},
     "output_type": "display_data"
    }
   ],
   "source": [
    "d_e_H2N = e_H2N_dist[1.5] - e_H2N_dist[5.0]\n",
    "d_eref_H2N = (eref_d1p5['N2'] - eref_d1p5['H2']) - (eref_d5['N2'] - eref_d5['H2'])\n",
    "\n",
    "print('integration by simpsons rule')\n",
    "display(Markdown(r'$\\Delta \\Delta E$ (H$_2$ $\\rightarrow$ N$_2$) = ' + str(d_e_H2N)))\n",
    "display(Markdown(r'$\\Delta \\Delta E_{\\rm{ref}}$ = ' + str(d_eref_H2N)))\n",
    "display(Markdown(r'$\\Delta \\Delta E (\\rm{H}_2 \\rightarrow \\rm{N}_2)- \\Delta \\Delta E_{\\rm{ref}}$ = ' + str(d_e_H2N-d_eref_H2N)))"
   ]
  },
  {
   "cell_type": "markdown",
   "metadata": {},
   "source": [
    "### vac $\\rightarrow$ N$_2$, d = 1.5 and d = 5.0\n",
    "\n",
    "10 ang unstable"
   ]
  },
  {
   "cell_type": "code",
   "execution_count": 8,
   "metadata": {},
   "outputs": [],
   "source": [
    "e_vac2N_dist = {1.5:0, 5.0:0}\n",
    "alch2 = []\n",
    "for d in e_vac2N_dist.keys():\n",
    "    element = 'N'\n",
    "    distance = d\n",
    "    basis = 'def2-qzvp'\n",
    "    total_nelec = 14\n",
    "    num_elecs = np.array([2, 4, 6, 8, 10, 12, 14])\n",
    "    alchemical_potentials, e_homos, e_lumos, e_nucs = sample_path(num_elecs, element, distance, basis, total_nelec)\n",
    "    \n",
    "    lam_vals = 1/num_elecs[-1]*num_elecs\n",
    "    lam_vals = np.concatenate((np.array([0.0]), lam_vals))\n",
    "    alchemical_potentials = np.concatenate((np.array([[0.0, 0.0]]), alchemical_potentials))\n",
    "    e_homos = np.concatenate((np.array([0.0]), e_homos))\n",
    "    e_lumos = np.concatenate((np.array([0.0]), e_lumos))\n",
    "    \n",
    "    e_vac2N_simp = get_energy(lam_vals, alchemical_potentials[:,0], e_nucs[-1], e_homos, 7, 14)\n",
    "    e_vac2N_dist[d] = e_vac2N_simp\n",
    "    \n",
    "    alch2.append(alchemical_potentials[:,0])"
   ]
  },
  {
   "cell_type": "code",
   "execution_count": 9,
   "metadata": {},
   "outputs": [
    {
     "name": "stdout",
     "output_type": "stream",
     "text": [
      "integration by simpsons rule\n"
     ]
    },
    {
     "data": {
      "text/markdown": [
       "$\\Delta \\Delta E$ (vac $\\rightarrow$ N$_2$) = -1.3750937126920206"
      ],
      "text/plain": [
       "<IPython.core.display.Markdown object>"
      ]
     },
     "metadata": {},
     "output_type": "display_data"
    },
    {
     "data": {
      "text/markdown": [
       "$\\Delta \\Delta E_{\\rm{ref}}$ = -0.8446403129244118"
      ],
      "text/plain": [
       "<IPython.core.display.Markdown object>"
      ]
     },
     "metadata": {},
     "output_type": "display_data"
    },
    {
     "data": {
      "text/markdown": [
       "$\\Delta \\Delta E (vac \\rightarrow \\rm{N}_2)- \\Delta \\Delta E_{\\rm{ref}}$ = -0.5304533997676089"
      ],
      "text/plain": [
       "<IPython.core.display.Markdown object>"
      ]
     },
     "metadata": {},
     "output_type": "display_data"
    }
   ],
   "source": [
    "d_e_vac2N = e_vac2N_dist[1.5] - e_vac2N_dist[5.0]\n",
    "d_eref_N = eref_d1p5['N2'] - eref_d5['N2']\n",
    "\n",
    "print('integration by simpsons rule')\n",
    "display(Markdown(r'$\\Delta \\Delta E$ (vac $\\rightarrow$ N$_2$) = ' + str(d_e_vac2N)))\n",
    "display(Markdown(r'$\\Delta \\Delta E_{\\rm{ref}}$ = ' + str(d_eref_N)))\n",
    "display(Markdown(r'$\\Delta \\Delta E (vac \\rightarrow \\rm{N}_2)- \\Delta \\Delta E_{\\rm{ref}}$ = ' + str(d_e_vac2N-d_eref_N)))"
   ]
  },
  {
   "cell_type": "markdown",
   "metadata": {},
   "source": [
    "#### Why error higher for vac->N2 if simpsons rules is used\n",
    "because of kink at potential for H2 when starting at vacuum (alchemical potential would need to be higher to avoid kink)"
   ]
  },
  {
   "cell_type": "code",
   "execution_count": 10,
   "metadata": {},
   "outputs": [
    {
     "data": {
      "text/plain": [
       "[array([  0.        ,  -1.29426202,  -4.09848617,  -6.898463  ,\n",
       "         -9.87442425, -13.07290408, -16.71126325, -20.63771543]),\n",
       " array([  0.        ,  -0.98746611,  -3.58556127,  -6.02613942,\n",
       "         -8.92879064, -11.88496887, -15.20801578, -18.88826915])]"
      ]
     },
     "execution_count": 10,
     "metadata": {},
     "output_type": "execute_result"
    }
   ],
   "source": [
    "alch2"
   ]
  },
  {
   "cell_type": "code",
   "execution_count": 11,
   "metadata": {},
   "outputs": [
    {
     "data": {
      "text/plain": [
       "<matplotlib.legend.Legend at 0x7f5cb82b1278>"
      ]
     },
     "execution_count": 11,
     "metadata": {},
     "output_type": "execute_result"
    },
    {
     "data": {
      "image/png": "[encoded data removed]",
      "text/plain": [
       "<Figure size 432x324 with 1 Axes>"
      ]
     },
     "metadata": {
      "needs_background": "light"
     },
     "output_type": "display_data"
    }
   ],
   "source": [
    "plt.rcParams['figure.figsize'] = [6, 4.5]\n",
    "plt.rcParams['font.size'] = 18\n",
    "fig, ax = plt.subplots(1,1)\n",
    "\n",
    "# ax.plot(np.arange(2, 16, 2), alch_1[0], '-o', label = r'H$_2$ $\\rightarrow$ N$_2$, d = 1.5')\n",
    "# ax.plot(np.arange(2, 16, 2),alch_1[1], '-o', label = r'H$_2$ $\\rightarrow$ N$_2$, d = 5.0')\n",
    "ax.plot(np.arange(0, 16, 2),alch2[0], '-o', label = r'vac $\\rightarrow$ N$_2$, d = 1.5')\n",
    "ax.plot(np.arange(0, 16, 2),alch2[1], '-o', label = r'vac $\\rightarrow$ N$_2$, d = 5.0')\n",
    "ax.set_xlabel(r'$\\sum_I Z_I$')\n",
    "ax.set_ylabel(r'$\\mu_I$ (Ha)')\n",
    "ax.set_xticks(np.arange(0, 16, 2))\n",
    "ax.legend()\n",
    "# plt.savefig('/home/misa/projects/Atomic-Energies/figures/vacuum_reference/kink_mu_vactoN2.png', bbox_inches='tight')"
   ]
  },
  {
   "cell_type": "markdown",
   "metadata": {},
   "source": [
    "#### difference for adjacent pairs"
   ]
  },
  {
   "cell_type": "code",
   "execution_count": 12,
   "metadata": {},
   "outputs": [
    {
     "name": "stderr",
     "output_type": "stream",
     "text": [
      "/home/misa/anaconda3/envs/atomic-energies/lib/python3.7/site-packages/pyscf/gto/mole.py:1047: UserWarning: Function mol.dumps drops attribute charge because it is not JSON-serializable\n",
      "  warnings.warn(msg)\n"
     ]
    }
   ],
   "source": [
    "element = 'N'\n",
    "distance = 1.5\n",
    "basis = 'def2-qzvp'\n",
    "total_nelec = 14\n",
    "num_elecs = np.array([0,2])\n",
    "pairs = {'vactoH2':[], 'H2toHe2':[], 'He2toLi2':[], 'Li2toBe2':[], 'Be2toB2':[], 'B2toC2':[], 'C2toN2':[]}\n",
    "alchs = []\n",
    "ehs = []\n",
    "for k in pairs.keys():\n",
    "    if k == 'vactoH2':\n",
    "        alchemical_potentials, e_homos, e_lumos, e_nucs = sample_path([num_elecs[-1]], element, distance, basis, total_nelec)\n",
    "        alchemical_potentials = np.concatenate((np.array([[0.0, 0.0]]), alchemical_potentials))\n",
    "        e_homos = np.concatenate((np.array([0]), e_homos))\n",
    "        e_lumos = np.concatenate((np.array([0]), e_lumos))\n",
    "        e_nucs = np.concatenate((np.array([0.0]), e_nucs))     \n",
    "    else:\n",
    "        alchemical_potentials, e_homos, e_lumos, e_nucs = sample_path(num_elecs, element, distance, basis, total_nelec)\n",
    "    alchs.append(alchemical_potentials)\n",
    "    ehs.append(e_homos)\n",
    "    dN = num_elecs[-1] - num_elecs[0]\n",
    "    dZ = dN/2\n",
    "    lam_vals = get_lam_vals(num_elecs)\n",
    "    e_X2toY2_simp = get_energy(lam_vals, alchemical_potentials[:,0], e_nucs[-1], e_homos, dZ, dN) - e_nucs[0]\n",
    "    pairs[k].append(e_X2toY2_simp)\n",
    "    num_elecs = num_elecs + 2 #raise to get correct number for next pair of diatomics"
   ]
  },
  {
   "cell_type": "code",
   "execution_count": 13,
   "metadata": {},
   "outputs": [],
   "source": [
    "element = 'N'\n",
    "distance = 5.0\n",
    "basis = 'def2-qzvp'\n",
    "total_nelec = 14\n",
    "num_elecs = np.array([0,2])\n",
    "pairs5 = {'vactoH2':[], 'H2toHe2':[], 'He2toLi2':[], 'Li2toBe2':[], 'Be2toB2':[], 'B2toC2':[], 'C2toN2':[]}\n",
    "alchs = []\n",
    "ehs = []\n",
    "for k in pairs5.keys():\n",
    "    if k == 'vactoH2':\n",
    "        alchemical_potentials, e_homos, e_lumos, e_nucs = sample_path([num_elecs[-1]], element, distance, basis, total_nelec)\n",
    "        alchemical_potentials = np.concatenate((np.array([[0.0, 0.0]]), alchemical_potentials))\n",
    "        e_homos = np.concatenate((np.array([0]), e_homos))\n",
    "        e_lumos = np.concatenate((np.array([0]), e_lumos))\n",
    "        e_nucs = np.concatenate((np.array([0.0]), e_nucs))     \n",
    "    else:\n",
    "        alchemical_potentials, e_homos, e_lumos, e_nucs = sample_path(num_elecs, element, distance, basis, total_nelec)\n",
    "    alchs.append(alchemical_potentials)\n",
    "    ehs.append(e_homos)\n",
    "    dN = num_elecs[-1] - num_elecs[0]\n",
    "    dZ = dN/2\n",
    "    lam_vals = get_lam_vals(num_elecs)\n",
    "    e_X2toY2_simp = get_energy(lam_vals, alchemical_potentials[:,0], e_nucs[-1], e_homos, dZ, dN) - e_nucs[0]\n",
    "    pairs5[k].append(e_X2toY2_simp)\n",
    "    num_elecs = num_elecs + 2 #raise to get correct number for next pair of diatomics"
   ]
  },
  {
   "cell_type": "code",
   "execution_count": 14,
   "metadata": {},
   "outputs": [],
   "source": [
    "dE_vactoN2_dict = dict.fromkeys(pairs.keys())\n",
    "for k in pairs.keys():\n",
    "    dE_vactoN2_dict[k] = []\n",
    "    dE_vactoN2_dict[k].append(pairs[k][0] - pairs5[k][0])"
   ]
  },
  {
   "cell_type": "code",
   "execution_count": 15,
   "metadata": {},
   "outputs": [],
   "source": [
    "# add reference delta\n",
    "for k in dE_vactoN2_dict.keys():\n",
    "    diatomics = k.split('to')\n",
    "    dE_ref1p5 = eref_d1p5[diatomics[1]]-eref_d1p5[diatomics[0]]\n",
    "    dE_ref5 = eref_d5[diatomics[1]]-eref_d5[diatomics[0]]\n",
    "    \n",
    "    dE_vactoN2_dict[k].append(dE_ref1p5-dE_ref5)\n",
    "    \n",
    "    dE_vactoN2_dict[k].append(dE_vactoN2_dict[k][0] - dE_vactoN2_dict[k][1])"
   ]
  },
  {
   "cell_type": "code",
   "execution_count": 16,
   "metadata": {},
   "outputs": [],
   "source": [
    "stepwise_i = []\n",
    "for k in dE_vactoN2_dict.keys():\n",
    "    stepwise_i.append(dE_vactoN2_dict[k][0])\n",
    "stepwise_i = np.array(stepwise_i)"
   ]
  },
  {
   "cell_type": "code",
   "execution_count": 17,
   "metadata": {},
   "outputs": [
    {
     "data": {
      "text/plain": [
       "-1.1372070602093434"
      ]
     },
     "execution_count": 17,
     "metadata": {},
     "output_type": "execute_result"
    }
   ],
   "source": [
    "stepwise_i[1:].sum()"
   ]
  },
  {
   "cell_type": "code",
   "execution_count": 18,
   "metadata": {},
   "outputs": [
    {
     "data": {
      "text/plain": [
       "Text(0, 0.5, 'Error $\\\\Delta E$ (Ha)')"
      ]
     },
     "execution_count": 18,
     "metadata": {},
     "output_type": "execute_result"
    },
    {
     "data": {
      "image/png": "[encoded data removed]",
      "text/plain": [
       "<Figure size 720x360 with 1 Axes>"
      ]
     },
     "metadata": {
      "needs_background": "light"
     },
     "output_type": "display_data"
    }
   ],
   "source": [
    "plt.rcParams['figure.figsize'] = [10, 5]\n",
    "plt.rcParams['font.size'] = 16\n",
    "fig, ax = plt.subplots(1,1)\n",
    "x = np.arange(1, 15, 2)\n",
    "dE = []\n",
    "for k in dE_vactoN2_dict.keys():\n",
    "    dE.append(dE_vactoN2_dict[k][2])\n",
    "ax.plot(x, dE, '-o')\n",
    "ax.set_xticks(x)\n",
    "xstring = [r'vac$\\rightarrow$H2', r'H2$\\rightarrow$He2', r'He2$\\rightarrow$Li2', r'Li2$\\rightarrow$Be2', r'Be2$\\rightarrow$B2', r'B2$\\rightarrow$C2', r'C2$\\rightarrow$N2']\n",
    "ax.set_xticklabels(xstring, fontsize=16)\n",
    "ax.set_ylabel(r'Error $\\Delta E$ (Ha)')\n",
    "# plt.savefig('/home/misa/projects/Atomic-Energies/figures/vacuum_reference/error_stepwise_intg_N2_diff.png', bbox_inches='tight')"
   ]
  },
  {
   "cell_type": "markdown",
   "metadata": {},
   "source": [
    "- error for vac->H2 not the largest\n",
    "- H2->He2 problematic again, Be2->B2 as well"
   ]
  },
  {
   "cell_type": "code",
   "execution_count": null,
   "metadata": {},
   "outputs": [],
   "source": []
  }
 ],
 "metadata": {
  "kernelspec": {
   "display_name": "Python [conda env:atomic-energies]",
   "language": "python",
   "name": "conda-env-atomic-energies-py"
  },
  "language_info": {
   "codemirror_mode": {
    "name": "ipython",
    "version": 3
   },
   "file_extension": ".py",
   "mimetype": "text/x-python",
   "name": "python",
   "nbconvert_exporter": "python",
   "pygments_lexer": "ipython3",
   "version": "3.7.3"
  }
 },
 "nbformat": 4,
 "nbformat_minor": 4
}
