{
 "cells": [
  {
   "cell_type": "markdown",
   "metadata": {},
   "source": [
    "- mu_I only zero for # e- = 0\n",
    "- no frozen core approximation/pseudopotentials (pp only for pbc)\n",
    "- h_core in code = e_kin + e_nuc_e\n",
    "\n",
    "\n",
    "- N2 as reference system: E(\\lambda) = diatomics from H2 to N2 (no basis set, core potential etc. problem)\n",
    "- N2 from diatomics 3.56 Ha to low, N2 from APDFT implementation differs 230mH from N2 from diatomics\n",
    "\n",
    "- N2 mean of lumo homo very close to N2 reference (coincidence, for qm9 molecule both are bad)\n",
    "\n",
    "- deviation from true energy might be systematic -> could be corrected by using atomisation energies where energies of atoms are calculated from alchemy"
   ]
  },
  {
   "cell_type": "markdown",
   "metadata": {},
   "source": [
    "### Test N2 from alchemy"
   ]
  },
  {
   "cell_type": "markdown",
   "metadata": {},
   "source": [
    "- why is mean of lumo, homo better?\n",
    "- how good are atomisation energies? (error canceling)\n",
    "- how to calcs for unpaired electrons?"
   ]
  },
  {
   "cell_type": "code",
   "execution_count": 1,
   "metadata": {},
   "outputs": [],
   "source": [
    "import numpy as np\n",
    "import scipy as sc\n",
    "import numpy\n",
    "import pyscf\n",
    "import pyscf.gto\n",
    "import pyscf.qmmm\n",
    "import pyscf.scf\n",
    "import pyscf.dft\n",
    "import pyscf.lib\n",
    "from pyscf.data import nist\n",
    "import qml\n",
    "from matplotlib import pyplot as plt\n",
    "\n",
    "angstrom = 1 / 0.52917721067"
   ]
  },
  {
   "cell_type": "code",
   "execution_count": 2,
   "metadata": {},
   "outputs": [],
   "source": [
    "def N2_diatomics(basis = 'def2-tzvp'):\n",
    "    el = ['H', 'He', 'Li', 'Be', 'B', 'C', 'N']\n",
    "    energies = []\n",
    "    alchemical_potentials = []\n",
    "    e_homos = []\n",
    "    e_lumos = []\n",
    "    for e in el:\n",
    "        mol = pyscf.gto.Mole()\n",
    "        mol.atom = f'{e} 0 0 0; {e} 0 0 3.5'\n",
    "        mol.basis = basis\n",
    "        mol.verbose = 0\n",
    "        mol.build()\n",
    "        calc = pyscf.scf.RHF(mol)\n",
    "        calc.kernel()\n",
    "        energies.append(calc.e_tot)\n",
    "        dm1_ao = calc.make_rdm1()\n",
    "        # get alchemical potential\n",
    "        # Electronic EPN from electron density\n",
    "        alch_pot_tmp = []\n",
    "        for site in [0,1]:\n",
    "            mol.set_rinv_orig_(mol.atom_coords()[site])\n",
    "    #         print(\"ELECTRONIC_EPN\", site, np.matmul(dm1_ao, mol.intor(\"int1e_rinv\")).trace())\n",
    "            alch_pot_tmp.append(np.matmul(dm1_ao, mol.intor(\"int1e_rinv\")).trace())\n",
    "        alchemical_potentials.append(alch_pot_tmp)\n",
    "\n",
    "        # get ehomo\n",
    "        idx_homo = np.where(calc.get_occ()>0)[0][-1]\n",
    "        idx_lumo = idx_homo + 1\n",
    "        calc.mo_energy.sort()\n",
    "        e_homos.append(calc.mo_energy[idx_homo])\n",
    "        e_lumos.append(calc.mo_energy[idx_lumo])\n",
    "        \n",
    "    alchemical_potentials.insert(0, [0.0, 0.0])\n",
    "    alchemical_potentials = np.array(alchemical_potentials)*(-1)\n",
    "    e_homos.insert(0, 0)\n",
    "    e_homos = np.array(e_homos)\n",
    "    e_lumos.insert(0, 0)\n",
    "    e_lumos = np.array(e_lumos)\n",
    "    \n",
    "    return(alchemical_potentials, e_homos, e_lumos, calc.energy_nuc())\n",
    "\n",
    "def N_atoms():\n",
    "    el = ['H', 'He', 'Li', 'Be', 'B', 'C', 'N', 'O']\n",
    "    energies = []\n",
    "    alchemical_potentials = []\n",
    "    e_homos = []\n",
    "    e_lumos = []\n",
    "    for e, Z in zip(el, np.arange(1,8)):\n",
    "        mol = pyscf.gto.Mole()\n",
    "        mol.atom = f'{e} 0 0 0'\n",
    "        mol.basis = 'def2-tzvp'\n",
    "        mol.verbose = 0\n",
    "        mol.spin = Z%2\n",
    "        mol.build()\n",
    "        calc = pyscf.scf.RHF(mol)\n",
    "        calc.kernel()\n",
    "        energies.append(calc.e_tot)\n",
    "        dm1_ao = calc.make_rdm1()\n",
    "        # get alchemical potential\n",
    "        # Electronic EPN from electron density\n",
    "        alch_pot_tmp = []\n",
    "        for site in [0]:\n",
    "            mol.set_rinv_orig_(mol.atom_coords()[site])\n",
    "    #         print(\"ELECTRONIC_EPN\", site, np.matmul(dm1_ao, mol.intor(\"int1e_rinv\")).trace())\n",
    "            alch_pot_tmp.append(np.matmul(dm1_ao, mol.intor(\"int1e_rinv\")).trace())\n",
    "        alchemical_potentials.append(alch_pot_tmp)\n",
    "\n",
    "        # get ehomo\n",
    "        idx_homo = np.where(calc.get_occ()>0)[0][-1]\n",
    "        idx_lumo = idx_homo + 1\n",
    "        calc.mo_energy.sort()\n",
    "        e_homos.append(calc.mo_energy[idx_homo])\n",
    "        e_lumos.append(calc.mo_energy[idx_lumo])\n",
    "        \n",
    "    alchemical_potentials.insert(0, [0.0, 0.0])\n",
    "    alchemical_potentials = np.array(alchemical_potentials)*(-1)\n",
    "    e_homos.insert(0, 0)\n",
    "    e_homos = np.array(e_homos)\n",
    "    e_lumos.insert(0, 0)\n",
    "    e_lumos = np.array(e_lumos)\n",
    "    \n",
    "    return(alchemical_potentials, e_homos, e_lumos, calc.energy_nuc())\n",
    "\n",
    "def N2_APDFT(basis = 'def2-tzvp'):\n",
    "    total_elec = 14\n",
    "    # num_elecs = np.arange(15)\n",
    "    num_elecs = [2, 4, 6, 8, 10, 12, 14]\n",
    "\n",
    "    alchemical_potentials = []\n",
    "    e_homos = []\n",
    "    e_lumos = []\n",
    "\n",
    "    for num_elec in num_elecs:\n",
    "        lam_val = num_elec/total_elec\n",
    "\n",
    "        mol = pyscf.gto.Mole()\n",
    "        mol.atom = 'N 0 0 0; N 0 0 1.5'\n",
    "        mol.basis = basis\n",
    "        print(total_elec - num_elec)\n",
    "        mol.charge = total_elec - num_elec\n",
    "#         mol.spin = num_elec%2\n",
    "        mol.verbose = 0\n",
    "        mol.build()\n",
    "\n",
    "        method = \"HF\"\n",
    "        if method not in [\"CCSD\", \"HF\"]:\n",
    "            raise NotImplementedError(\"Method %s not supported.\" % method)\n",
    "\n",
    "        deltaZ = [-mol.charge/2, -mol.charge/2]\n",
    "        includeonly = np.arange(len(mol.atom_coords()))\n",
    "\n",
    "\n",
    "        def add_qmmm(calc, mol, deltaZ):\n",
    "            mf = pyscf.qmmm.mm_charge(calc, mol.atom_coords()[includeonly]/ angstrom, deltaZ)\n",
    "\n",
    "            def energy_nuc(self):\n",
    "                q = mol.atom_charges().astype(np.float)\n",
    "                q[includeonly] += deltaZ\n",
    "                return mol.energy_nuc(q)\n",
    "\n",
    "            mf.energy_nuc = energy_nuc.__get__(mf, mf.__class__)\n",
    "\n",
    "            return mf\n",
    "\n",
    "        if method == \"HF\":\n",
    "            calc = add_qmmm(pyscf.scf.RHF(mol), mol, deltaZ)\n",
    "            hfe = calc.kernel(verbose=0)\n",
    "            dm1_ao = calc.make_rdm1()\n",
    "            total_energy = calc.e_tot\n",
    "        if method == \"CCSD\":\n",
    "            calc = add_qmmm(pyscf.scf.RHF(mol), mol, deltaZ)\n",
    "            hfe = calc.kernel(verbose=0)\n",
    "            mycc = pyscf.cc.CCSD(calc).run()\n",
    "            dm1 = mycc.make_rdm1()\n",
    "            dm1_ao = np.einsum(\"pi,ij,qj->pq\", calc.mo_coeff, dm1, calc.mo_coeff.conj())\n",
    "            total_energy = mycc.e_tot\n",
    "\n",
    "        # GRIDLESS, as things should be ############################\n",
    "        # Total energy of SCF run\n",
    "\n",
    "        print(\"TOTAL_ENERGY\", total_energy)\n",
    "\n",
    "        # Electronic EPN from electron density\n",
    "        alch_pot_tmp = []\n",
    "        for site in includeonly:\n",
    "            mol.set_rinv_orig_(mol.atom_coords()[site])\n",
    "    #         print(\"ELECTRONIC_EPN\", site, np.matmul(dm1_ao, mol.intor(\"int1e_rinv\")).trace())\n",
    "            alch_pot_tmp.append(np.matmul(dm1_ao, mol.intor(\"int1e_rinv\")).trace())\n",
    "        alchemical_potentials.append(alch_pot_tmp)\n",
    "\n",
    "        # energy of HOMO and LUMO\n",
    "        nocc = int((total_elec - mol.charge)/2)\n",
    "        e_homos.append(calc.mo_energy[nocc-1])\n",
    "        e_lumos.append(calc.mo_energy[nocc])\n",
    "        \n",
    "    alchemical_potentials.insert(0, [0.0, 0.0])\n",
    "    alchemical_potentials = np.array(alchemical_potentials)*(-1)\n",
    "    e_homos.insert(0, 0)\n",
    "    e_homos = np.array(e_homos)\n",
    "    e_lumos.insert(0, 0)\n",
    "    e_lumos = np.array(e_lumos)\n",
    "        \n",
    "    return(alchemical_potentials, e_homos, e_lumos, calc.energy_nuc())\n",
    "    \n",
    "def get_energy(lam_vals, alchemical_potentials, nuc_rep, e_homos, dZ, dN):\n",
    "    mu_I = sc.integrate.simps(alchemical_potentials, lam_vals)\n",
    "#     mu_I = np.trapz(alchemical_potentials, lam_vals)\n",
    "    e_homo = np.trapz(e_homos, lam_vals)\n",
    "    \n",
    "    return(2*mu_I * dZ + e_homo*dN + nuc_rep)"
   ]
  },
  {
   "cell_type": "markdown",
   "metadata": {},
   "source": [
    "### Referenz calculation"
   ]
  },
  {
   "cell_type": "code",
   "execution_count": 3,
   "metadata": {},
   "outputs": [
    {
     "name": "stdout",
     "output_type": "stream",
     "text": [
      "converged SCF energy = -108.706811596033\n"
     ]
    }
   ],
   "source": [
    "mol = pyscf.gto.Mole()\n",
    "mol.atom = 'N 0 0 0; N 0 0 1.5'\n",
    "mol.basis = 'def2-tzvp'\n",
    "mol.build()\n",
    "m = pyscf.scf.RHF(mol)\n",
    "m.kernel()\n",
    "e_ref_tzvp = m.e_tot"
   ]
  },
  {
   "cell_type": "code",
   "execution_count": 4,
   "metadata": {},
   "outputs": [
    {
     "name": "stdout",
     "output_type": "stream",
     "text": [
      "converged SCF energy = -108.711062429174\n"
     ]
    }
   ],
   "source": [
    "mol = pyscf.gto.Mole()\n",
    "mol.atom = 'N 0 0 0; N 0 0 1.5'\n",
    "mol.basis = 'def2-qzvp'\n",
    "mol.build()\n",
    "m = pyscf.scf.RHF(mol)\n",
    "m.kernel()\n",
    "e_ref_qzvp = m.e_tot"
   ]
  },
  {
   "cell_type": "code",
   "execution_count": 5,
   "metadata": {},
   "outputs": [
    {
     "data": {
      "text/plain": [
       "array([0.        , 0.14285714, 0.28571429, 0.42857143, 0.57142857,\n",
       "       0.71428571, 0.85714286, 1.        ])"
      ]
     },
     "execution_count": 5,
     "metadata": {},
     "output_type": "execute_result"
    }
   ],
   "source": [
    "lam_vals = np.arange(0, 16, 2)/14\n",
    "lam_vals"
   ]
  },
  {
   "cell_type": "markdown",
   "metadata": {},
   "source": [
    "#### influence of basis set size on energy\n",
    "- difference between APDFT and diatomics shrinks for larger basis\n",
    "- deviation from true energy becomes even larger (around 30 mHa) for diatomics but smaller for APDFT, however remains in the same order of magnitude (3.5 Ha)\n",
    "- energy decreases for APDFT with larger basis set!? because alchemical potential decreases\n",
    "- kink in plot of $E(\\lambda)$ vs $\\lambda$ does not disappear for diatomics but for APDFT it seems to be less strong (-> influence of basis set?)\n",
    "\n"
   ]
  },
  {
   "cell_type": "code",
   "execution_count": 6,
   "metadata": {},
   "outputs": [
    {
     "ename": "NameError",
     "evalue": "name 'ehomos_tzvp' is not defined",
     "output_type": "error",
     "traceback": [
      "\u001b[0;31m---------------------------------------------------------------------------\u001b[0m",
      "\u001b[0;31mNameError\u001b[0m                                 Traceback (most recent call last)",
      "\u001b[0;32m<ipython-input-6-311fa79fb452>\u001b[0m in \u001b[0;36m<module>\u001b[0;34m\u001b[0m\n\u001b[0;32m----> 1\u001b[0;31m \u001b[0mehomos_tzvp\u001b[0m\u001b[0;34m-\u001b[0m\u001b[0mehomos_qzvp\u001b[0m\u001b[0;34m\u001b[0m\u001b[0;34m\u001b[0m\u001b[0m\n\u001b[0m",
      "\u001b[0;31mNameError\u001b[0m: name 'ehomos_tzvp' is not defined"
     ]
    }
   ],
   "source": [
    "ehomos_tzvp-ehomos_qzvp"
   ]
  },
  {
   "cell_type": "code",
   "execution_count": 7,
   "metadata": {},
   "outputs": [],
   "source": [
    "# N2 from diatomics\n",
    "alchemical_pots_tzvp, ehomos_tzvp, elumos_tzvp, e_nuc_tzvp = N2_diatomics('def2-tzvp')\n",
    "\n",
    "alchemical_pots_qzvp, ehomos_qzvp, elumos_qzvp, e_nuc_qzvp = N2_diatomics('def2-qzvp')\n",
    "\n",
    "energy_tzvp = get_energy(lam_vals, alchemical_pots_tzvp[:,0], e_nuc_tzvp, ehomos_tzvp , 7, 14)\n",
    "energy_qzvp = get_energy(lam_vals, alchemical_pots_qzvp[:,0], e_nuc_qzvp, ehomos_qzvp , 7, 14)"
   ]
  },
  {
   "cell_type": "code",
   "execution_count": 8,
   "metadata": {},
   "outputs": [],
   "source": [
    "energy_tzvp_simps = get_energy(lam_vals, alchemical_pots_tzvp[:,0], e_nuc_tzvp, ehomos_tzvp , 7, 14)\n",
    "energy_qzvp_simps = get_energy(lam_vals, alchemical_pots_qzvp[:,0], e_nuc_qzvp, ehomos_qzvp , 7, 14)"
   ]
  },
  {
   "cell_type": "code",
   "execution_count": 9,
   "metadata": {},
   "outputs": [
    {
     "name": "stdout",
     "output_type": "stream",
     "text": [
      "12\n",
      "TOTAL_ENERGY -1.001101419864852\n",
      "10\n",
      "TOTAL_ENERGY -5.6285244596173225\n",
      "8\n",
      "TOTAL_ENERGY -14.393211474040497\n",
      "6\n",
      "TOTAL_ENERGY -28.563023109075935\n",
      "4\n",
      "TOTAL_ENERGY -48.75621281463031\n",
      "2\n",
      "TOTAL_ENERGY -75.26768502575814\n",
      "0\n",
      "TOTAL_ENERGY -108.70681159603282\n",
      "12\n",
      "TOTAL_ENERGY -1.0023008366364254\n",
      "10\n",
      "TOTAL_ENERGY -5.703220593661493\n",
      "8\n",
      "TOTAL_ENERGY -14.654146155695019\n",
      "6\n",
      "TOTAL_ENERGY -28.968102569276297\n",
      "4\n",
      "TOTAL_ENERGY -48.891621151237985\n",
      "2\n",
      "TOTAL_ENERGY -75.34530512417336\n",
      "0\n",
      "TOTAL_ENERGY -108.71106242917378\n"
     ]
    }
   ],
   "source": [
    "# N2 from APDFT\n",
    "alchemical_pots2_tzvp, ehomos2_tzvp, elumos2_tzvp, e_nuc2_tzvp = N2_APDFT('def2-tzvp')\n",
    "alchemical_pots2_qzvp, ehomos2_qzvp, elumos2_qvzp, e_nuc2_qzvp = N2_APDFT('def2-qzvp')"
   ]
  },
  {
   "cell_type": "code",
   "execution_count": 10,
   "metadata": {},
   "outputs": [],
   "source": [
    "energy2_tzvp = get_energy(lam_vals, alchemical_pots2_tzvp[:,0], e_nuc2_tzvp, ehomos2_tzvp , 7, 14)\n",
    "energy2_qzvp = get_energy(lam_vals, alchemical_pots2_qzvp[:,0], e_nuc2_qzvp, ehomos2_qzvp , 7, 14)"
   ]
  },
  {
   "cell_type": "code",
   "execution_count": 11,
   "metadata": {},
   "outputs": [],
   "source": [
    "energy2_tzvp_simps = get_energy(lam_vals, alchemical_pots2_tzvp[:,0], e_nuc2_tzvp, ehomos2_tzvp , 7, 14)\n",
    "energy2_qzvp_simps = get_energy(lam_vals, alchemical_pots2_qzvp[:,0], e_nuc2_qzvp, ehomos2_qzvp , 7, 14)"
   ]
  },
  {
   "cell_type": "code",
   "execution_count": 12,
   "metadata": {},
   "outputs": [
    {
     "data": {
      "text/plain": [
       "<matplotlib.legend.Legend at 0x7f72b6f7ab38>"
      ]
     },
     "execution_count": 12,
     "metadata": {},
     "output_type": "execute_result"
    },
    {
     "data": {
      "image/png": "[encoded data removed]",
      "text/plain": [
       "<Figure size 432x288 with 2 Axes>"
      ]
     },
     "metadata": {
      "needs_background": "light"
     },
     "output_type": "display_data"
    }
   ],
   "source": [
    "fig, ax = plt.subplots(1,2)\n",
    "ax[0].plot(np.arange(0, 16, 2), alchemical_pots_tzvp[:,0], '-o', label = 'diatomics-tzvp')\n",
    "ax[0].plot(np.arange(0, 16, 2), alchemical_pots_qzvp[:,0], '-o', label = 'diatomics-qzvp')\n",
    "# ax[0].plot(np.arange(0, 16, 2), alchemical_pots_qzvp[:,0]-alchemical_pots_tzvp[:,0], '-o', label = 'diatomics-qzvp')\n",
    "\n",
    "\n",
    "ax[1].plot(np.arange(0, 16, 2), alchemical_pots2_tzvp[:,0], '-o', label = 'apdft-tzvp')\n",
    "ax[1].plot(np.arange(0, 16, 2), alchemical_pots2_qzvp[:,0], '-o', label = 'apdft-qzvp')\n",
    "ax[0].legend()\n",
    "ax[1].legend()"
   ]
  },
  {
   "cell_type": "code",
   "execution_count": 18,
   "metadata": {},
   "outputs": [
    {
     "data": {
      "text/plain": [
       "<matplotlib.legend.Legend at 0x7f72b6eb6ba8>"
      ]
     },
     "execution_count": 18,
     "metadata": {},
     "output_type": "execute_result"
    },
    {
     "data": {
      "image/png": "[encoded data removed]",
      "text/plain": [
       "<Figure size 432x288 with 1 Axes>"
      ]
     },
     "metadata": {
      "needs_background": "light"
     },
     "output_type": "display_data"
    }
   ],
   "source": [
    "plt.rcParams['font.size'] = 20\n",
    "fig, ax = plt.subplots(1,1)\n",
    "\n",
    "ax.plot(np.arange(0, 16, 2), alchemical_pots2_tzvp[:,0], '-o', label = 'tzvp')\n",
    "ax.plot(np.arange(0, 16, 2), alchemical_pots2_qzvp[:,0], '-o', label = 'qzvp')\n",
    "ax.set_xlabel('$\\sum_I \\Delta Z_I$')\n",
    "ax.set_ylabel('$E(\\lambda)$')\n",
    "ax.legend()"
   ]
  },
  {
   "cell_type": "code",
   "execution_count": 14,
   "metadata": {},
   "outputs": [
    {
     "name": "stdout",
     "output_type": "stream",
     "text": [
      "energy-diatomics with tzvp -110.76681549366738 and diff to ref = -2.0600038976346156\n",
      "energy-diatomics with qzvp -110.75793472063539 and diff to ref = -2.046872291461682\n",
      "energy-apdft with tzvp -112.07214691410269 and diff to ref = -3.365335318069924\n",
      "energy-apdft with qzvp -111.85194899107012 and diff to ref = -3.1408865618964086\n"
     ]
    }
   ],
   "source": [
    "print(f'energy-diatomics with tzvp {energy_tzvp} and diff to ref = {energy_tzvp-e_ref_tzvp}')\n",
    "# -107.960473562694\n",
    "print(f'energy-diatomics with qzvp {energy_qzvp} and diff to ref = {energy_qzvp-e_ref_qzvp}')\n",
    "\n",
    "print(f'energy-apdft with tzvp {energy2_tzvp} and diff to ref = {energy2_tzvp-e_ref_tzvp}')\n",
    "print(f'energy-apdft with qzvp {energy2_qzvp} and diff to ref = {energy2_qzvp-e_ref_qzvp}')"
   ]
  },
  {
   "cell_type": "code",
   "execution_count": 20,
   "metadata": {},
   "outputs": [
    {
     "data": {
      "text/plain": [
       "-108.71106242917371"
      ]
     },
     "execution_count": 20,
     "metadata": {},
     "output_type": "execute_result"
    }
   ],
   "source": [
    "e_ref_qzvp"
   ]
  },
  {
   "cell_type": "code",
   "execution_count": null,
   "metadata": {},
   "outputs": [],
   "source": [
    "energy2_qzvp_simps - -112.29064735100559"
   ]
  },
  {
   "cell_type": "code",
   "execution_count": null,
   "metadata": {},
   "outputs": [],
   "source": [
    "energy_qzvp_simps--112.30068728263183"
   ]
  },
  {
   "cell_type": "code",
   "execution_count": null,
   "metadata": {},
   "outputs": [],
   "source": [
    "np.trapz(ehomos2_qzvp, lam_vals)*14"
   ]
  },
  {
   "cell_type": "markdown",
   "metadata": {},
   "source": [
    "#### Integration of e_homo"
   ]
  },
  {
   "cell_type": "code",
   "execution_count": null,
   "metadata": {},
   "outputs": [],
   "source": [
    "plt.plot(np.arange(0, 16, 2), ehomos_tzvp, '-o')\n",
    "plt.plot(np.arange(0, 16, 2), ehomos_qzvp, '-o')"
   ]
  },
  {
   "cell_type": "code",
   "execution_count": null,
   "metadata": {},
   "outputs": [],
   "source": []
  },
  {
   "cell_type": "code",
   "execution_count": null,
   "metadata": {},
   "outputs": [],
   "source": [
    "lam_vals[1:]"
   ]
  },
  {
   "cell_type": "code",
   "execution_count": null,
   "metadata": {},
   "outputs": [],
   "source": [
    "from ase.units import Bohr\n",
    "d = 1.5/Bohr\n",
    "1/d"
   ]
  },
  {
   "cell_type": "code",
   "execution_count": null,
   "metadata": {},
   "outputs": [],
   "source": [
    "lam_vals = np.arange(8)*2/14\n",
    "\n",
    "e_from_homo = get_atomic_energy(lam_vals, alchemical_pots[:,0], e_nuc/2, ehomos, 7, 7)*2\n",
    "e_from_lumo = get_atomic_energy(lam_vals, alchemical_pots[:,0], e_nuc/2, elumos, 7, 7)*2\n",
    "\n",
    "mean = (e_from_homo + e_from_lumo)/2\n",
    "\n",
    "print(f'energy using homo = {e_from_homo}, delta E_ref = {e_from_homo - e_ref}')\n",
    "print(f'energy using lumo = {e_from_lumo}, delta E_ref = {e_from_lumo - e_ref}')\n",
    "print(f'energy using mean of homo and lumo = {mean}, delta E_ref = {mean - e_ref}')"
   ]
  },
  {
   "cell_type": "markdown",
   "metadata": {},
   "source": [
    "### Atomisation energy"
   ]
  },
  {
   "cell_type": "code",
   "execution_count": null,
   "metadata": {},
   "outputs": [],
   "source": [
    "N_atoms()"
   ]
  },
  {
   "cell_type": "code",
   "execution_count": null,
   "metadata": {},
   "outputs": [],
   "source": [
    "el = ['H', 'He', 'Li', 'Be', 'B', 'C', 'N']\n",
    "energies = []\n",
    "alchemical_potentials = []\n",
    "e_homos = []\n",
    "e_lumos = []\n",
    "\n",
    "mol = pyscf.gto.Mole()\n",
    "mol.atom = f'li 0 0 0'\n",
    "mol.basis = 'def2-tzvp'\n",
    "mol.verbose = 0\n",
    "mol.spin = 1\n",
    "mol.build()\n",
    "calc = pyscf.scf.RHF(mol)\n",
    "calc.kernel()\n",
    "energies.append(calc.e_tot)\n",
    "dm1_ao = calc.make_rdm1()\n",
    "# get alchemical potential\n",
    "# Electronic EPN from electron density\n",
    "alch_pot_tmp = []\n",
    "mol.set_rinv_orig_(mol.atom_coords()[0])\n",
    "#         print(\"ELECTRONIC_EPN\", site, np.matmul(dm1_ao, mol.intor(\"int1e_rinv\")).trace())\n",
    "alch_pot_tmp.append(np.matmul(dm1_ao, mol.intor(\"int1e_rinv\")).trace())\n",
    "\n",
    "# get ehomo\n",
    "idx_homo = np.where(calc.get_occ()>0)[0][-1]\n",
    "idx_lumo = idx_homo + 1\n",
    "calc.mo_energy.sort()\n",
    "e_homos.append(calc.mo_energy[idx_homo])\n",
    "e_lumos.append(calc.mo_energy[idx_lumo])"
   ]
  },
  {
   "cell_type": "code",
   "execution_count": null,
   "metadata": {},
   "outputs": [],
   "source": [
    "el = ['H', 'He', 'Li', 'Be', 'B', 'C', 'N']\n",
    "energies = []\n",
    "alchemical_potentials = []\n",
    "e_homos = []\n",
    "e_lumos = []\n",
    "for e in el:\n",
    "    mol = pyscf.gto.Mole()\n",
    "    mol.atom = f'{e} 0 0 0; {e} 0 0 1.5'\n",
    "    mol.basis = 'def2-tzvp'\n",
    "    mol.verbose = 0\n",
    "    mol.build()\n",
    "    calc = pyscf.scf.RHF(mol)\n",
    "    calc.kernel()\n",
    "    energies.append(calc.e_tot)\n",
    "    dm1_ao = calc.make_rdm1()\n",
    "    # get alchemical potential\n",
    "    # Electronic EPN from electron density\n",
    "    alch_pot_tmp = []\n",
    "    for site in [0,1]:\n",
    "        mol.set_rinv_orig_(mol.atom_coords()[site])\n",
    "#         print(\"ELECTRONIC_EPN\", site, np.matmul(dm1_ao, mol.intor(\"int1e_rinv\")).trace())\n",
    "        alch_pot_tmp.append(np.matmul(dm1_ao, mol.intor(\"int1e_rinv\")).trace())\n",
    "    alchemical_potentials.append(alch_pot_tmp)\n",
    "\n",
    "    # get ehomo\n",
    "    idx_homo = np.where(calc.get_occ()>0)[0][-1]\n",
    "    idx_lumo = idx_homo + 1\n",
    "    calc.mo_energy.sort()\n",
    "    e_homos.append(calc.mo_energy[idx_homo])\n",
    "    e_lumos.append(calc.mo_energy[idx_lumo])"
   ]
  },
  {
   "cell_type": "code",
   "execution_count": null,
   "metadata": {},
   "outputs": [],
   "source": [
    "calc.get_occ()"
   ]
  }
 ],
 "metadata": {
  "kernelspec": {
   "display_name": "Python [conda env:atomic-energies]",
   "language": "python",
   "name": "conda-env-atomic-energies-py"
  },
  "language_info": {
   "codemirror_mode": {
    "name": "ipython",
    "version": 3
   },
   "file_extension": ".py",
   "mimetype": "text/x-python",
   "name": "python",
   "nbconvert_exporter": "python",
   "pygments_lexer": "ipython3",
   "version": "3.7.3"
  }
 },
 "nbformat": 4,
 "nbformat_minor": 4
}
