{
 "cells": [
  {
   "cell_type": "code",
   "execution_count": 1,
   "metadata": {},
   "outputs": [],
   "source": [
    "import qml\n",
    "import numpy as np\n",
    "\n",
    "import sys\n",
    "sys.path.insert(0, '/home/misa/APDFT/prototyping/atomic_energies/')\n",
    "import alchemy_tools as alch\n",
    "import qml_interface as qi"
   ]
  },
  {
   "cell_type": "code",
   "execution_count": 32,
   "metadata": {},
   "outputs": [],
   "source": [
    "def optimize_hypar_cv(reps, labels, tr_set_size, molecule_size, num_cv=10):\n",
    "    \"\"\"\n",
    "    returns the sigma, lambda values that yield the minimum mean error for a num_cv-fold cross-validation, as well as the mean error\n",
    "    for these sigma, lambda-values\n",
    "    \n",
    "    reps: all representations\n",
    "    labels: all labels\n",
    "    tr_set_size: size of the training set\n",
    "    molecule_size: number of atoms in each molecule\n",
    "    num_cv: number of sets for cross-validation\n",
    "    \"\"\"\n",
    "    \n",
    "    sigmas = np.logspace(-1, 4, 12).tolist()\n",
    "    lams = np.logspace(-15, 0, 16).tolist()\n",
    "    \n",
    "    # storage of output of optimization\n",
    "    opt_data = np.zeros((num_cv, len(sigmas)*len(lams), 3))\n",
    "    \n",
    "    for idx in range(0, num_cv):\n",
    "        global_idc_tr, global_idc_val = qi.get_indices(len(molecule_size), tr_set_size)\n",
    "        local_idc_tr, local_idc_val = qi.get_local_idx(global_idc_tr, molecule_size), qi.get_local_idx(global_idc_val, molecule_size)\n",
    "        reps_splitted = reps[local_idc_tr], reps[local_idc_val] # select the representations\n",
    "        labels_splitted = labels[global_idc_tr], labels[global_idc_val]\n",
    "        # optimize hyperparameters via grid search\n",
    "        m_tr = molecule_size[global_idc_tr]\n",
    "        m_val = molecule_size[global_idc_val]\n",
    "        \n",
    "        results = optimize_hypar(reps_splitted, labels_splitted, sigmas, lams, m_tr, m_val)\n",
    "        opt_data[idx] = results[0]\n",
    "        \n",
    "    # find set of hyperparameters with minimum mean error\n",
    "    mean_errors = opt_data.mean(axis=0)[:,2] # mean error for every set of hyper-paramters\n",
    "    std = opt_data.std(axis=0)[:,2]\n",
    "    min_error = np.amin(mean_errors) # minimum mean error\n",
    "    idx_opt = np.where(mean_errors==min_error) # idx of set of hyperparameters with lowest mean error\n",
    "    opt_sigma = opt_data[0][idx_opt][0,0] # sigma value for minimum error\n",
    "    opt_lambda = opt_data[0][idx_opt][0,1] # lambda value for minimum error\n",
    "    \n",
    "    \n",
    "    return(opt_sigma, opt_lambda, min_error, std)\n",
    "        \n",
    "\n",
    "def optimize_hypar(rep, labels, sigmas, lams, m_tr, m_val):\n",
    "    \"\"\"\n",
    "    finds the combination of sigma and lambda that yields the minimimum prediction error\n",
    "    for a given training and validation set\n",
    "    \n",
    "    @in:\n",
    "    rep: tuple containing representations (training set, validation set)\n",
    "    lables: tuple containing labels (training set, validation set)\n",
    "    sigmas: list of sigmas that will be tried duirng optimizations\n",
    "    lams: list of lambdas that will be tried during optimizations\n",
    "    \n",
    "    @out:\n",
    "    mean_errors: tuple (sigma, lambda, corresponding mean error) for all sigma, lambda combinations\n",
    "    opt_coeffs: coefficients for the sigma, lambda values which yield the lowest mean error\n",
    "    opt_errors: errors for the sigma, lambda values which yield the lowest mean error\n",
    "    \"\"\"\n",
    "    \n",
    "    # representations for training and validation\n",
    "    rep_tr, rep_val = rep\n",
    "    labels_tr, labels_val = labels\n",
    "    \n",
    "    # store validation results\n",
    "    mean_errors = np.empty( (len(sigmas)*len(lams), 3) )\n",
    "    \n",
    "    # optimum coefficients, errors\n",
    "    opt_coeffs = np.zeros( len(rep_tr) )\n",
    "    opt_errors = np.zeros( len(rep_val) )\n",
    "    \n",
    "    start_idx = 0\n",
    "\n",
    "    # build kernel for different sigmas\n",
    "    tr_kernels = qml.kernels.get_local_kernels_gaussian(rep_tr, rep_tr, m_tr, m_tr, sigmas)\n",
    "    val_kernels = qml.kernels.get_local_kernels_gaussian(rep_val, rep_tr, m_val, m_tr, sigmas)\n",
    "    \n",
    "    for idx_s,s in enumerate(sigmas):\n",
    "        tr_kernel = tr_kernels[idx_s]\n",
    "    \n",
    "        for idx_l, l in enumerate(lams):\n",
    "            reg_kernel = tr_kernel + np.identity(len(tr_kernel))*l\n",
    "            coeffs = qml.math.cho_solve(reg_kernel, labels_tr)\n",
    "\n",
    "            # validation\n",
    "            val_errors = np.abs( np.dot(val_kernels[idx_s], coeffs) - labels_val ) \n",
    "            val_err_mean = val_errors.mean()\n",
    "\n",
    "            # evaluate validation and store data\n",
    "            mean_errors[start_idx+idx_l] = s, l, val_err_mean\n",
    "\n",
    "            tmp = mean_errors[:, 2]\n",
    "            if np.amin(tmp[0:start_idx+idx_l+1]) == mean_errors[start_idx+idx_l][2]:\n",
    "                opt_coeffs = coeffs\n",
    "                opt_errors = val_errors\n",
    "                \n",
    "            \n",
    "#            if (start_idx+idx_l == 0) or (mean_errors[start_idx+idx_l,2] < mean_errors[start_idx+idx_l-1,2]):\n",
    "#                opt_coeffs = coeffs\n",
    "#                opt_errors = val_errors\n",
    "            \n",
    "        start_idx += len(lams)\n",
    "        \n",
    "    return( mean_errors, opt_coeffs, opt_errors )"
   ]
  },
  {
   "cell_type": "code",
   "execution_count": 44,
   "metadata": {},
   "outputs": [],
   "source": [
    "paths=qi.wrapper_alch_data()\n",
    "alchemy_data, molecule_size = qi.load_alchemy_data(paths)\n",
    "local_reps = qi.generate_atomic_representations(alchemy_data, molecule_size)\n",
    "global_reps = qi.wrapper_global_representations(alchemy_data, molecule_size, rep_par='coulomb')\n",
    "global_labels = qi.generate_label_vector(alchemy_data, len(global_reps), value='atomisation_global')\n",
    "\n",
    "opt_sigma, opt_lambda, min_error, std=optimize_hypar_cv(local_reps, global_labels, 512, molecule_size, num_cv=10)"
   ]
  },
  {
   "cell_type": "code",
   "execution_count": 45,
   "metadata": {},
   "outputs": [
    {
     "data": {
      "text/plain": [
       "151.99110829529332"
      ]
     },
     "execution_count": 45,
     "metadata": {},
     "output_type": "execute_result"
    }
   ],
   "source": [
    "opt_sigma"
   ]
  },
  {
   "cell_type": "code",
   "execution_count": 46,
   "metadata": {},
   "outputs": [
    {
     "data": {
      "text/plain": [
       "0.1"
      ]
     },
     "execution_count": 46,
     "metadata": {},
     "output_type": "execute_result"
    }
   ],
   "source": [
    "opt_lambda"
   ]
  },
  {
   "cell_type": "code",
   "execution_count": 47,
   "metadata": {},
   "outputs": [
    {
     "data": {
      "text/plain": [
       "0.02500539758767072"
      ]
     },
     "execution_count": 47,
     "metadata": {},
     "output_type": "execute_result"
    }
   ],
   "source": [
    "min_error"
   ]
  },
  {
   "cell_type": "code",
   "execution_count": 78,
   "metadata": {},
   "outputs": [
    {
     "data": {
      "text/plain": [
       "0.00989119535496144"
      ]
     },
     "execution_count": 78,
     "metadata": {},
     "output_type": "execute_result"
    }
   ],
   "source": [
    "std.mean()"
   ]
  },
  {
   "cell_type": "code",
   "execution_count": 55,
   "metadata": {},
   "outputs": [],
   "source": [
    "def crossvalidate_loc_glob(reps, labels, molecule_size, tr_set_size, sigma, lam_val, num_cross=10):\n",
    "    \"\"\"\n",
    "    calculates the mean error for num_cross randomly selected training sets, returns the mean and std of these mean errors\n",
    "    for local representation but global labels\n",
    "    \n",
    "    reps: representations of training and validation data\n",
    "    labels: labels of training and validation data\n",
    "    molecule_size: the number of atoms for every representation\n",
    "    tr_set_size: the size of the training set\n",
    "    sigma: the kernel width\n",
    "    lam_val: the regularizer\n",
    "    num_cross: the number of cross-validations\n",
    "    \n",
    "    error_crossval: the mean error for every cross-validation run\n",
    "    \"\"\"\n",
    "    \n",
    "    error_crossval = np.zeros(num_cross)\n",
    "    \n",
    "    for idx in range(0, num_cross):\n",
    "        \n",
    "        # split data into training and validation set\n",
    "        idc_tr, idc_val = qi.get_indices(len(molecule_size), tr_set_size)\n",
    "        \n",
    "\n",
    "        local_idc_tr, local_idc_val = qi.get_local_idx(idc_tr, molecule_size), qi.get_local_idx(idc_val, molecule_size)\n",
    "        rep_splitted_loc = reps[local_idc_tr], reps[local_idc_val] # select the representations\n",
    "        labels_splitted_loc = labels[idc_tr], labels[idc_val] # select the labels\n",
    "        \n",
    "        # calculate error\n",
    "        kernel = qml.kernels.get_local_kernels_gaussian(rep_splitted_loc[0], rep_splitted_loc[0], molecule_size[idc_tr], molecule_size[idc_tr], np.array([sigma]))\n",
    "        reg_kernel = kernel[0] + np.identity(len(kernel[0]))*lam_val\n",
    "        coeffs = qml.math.cho_solve(reg_kernel, labels_splitted_loc[0])\n",
    "        \n",
    "        kernel_val = qml.kernels.get_local_kernels_gaussian(rep_splitted_loc[1], rep_splitted_loc[0], molecule_size[idc_val], molecule_size[idc_tr], np.array([sigma]))\n",
    "        labels_predicted = np.dot(kernel_val[0], coeffs)\n",
    "        \n",
    "        error_crossval[idx] = np.abs(labels_predicted - labels_splitted_loc[1]).mean()\n",
    "    \n",
    "    return(error_crossval.mean(), error_crossval.std())"
   ]
  },
  {
   "cell_type": "code",
   "execution_count": 49,
   "metadata": {},
   "outputs": [],
   "source": [
    "paths=qi.wrapper_alch_data()\n",
    "alchemy_data, molecule_size = qi.load_alchemy_data(paths)\n",
    "local_reps = qi.generate_atomic_representations(alchemy_data, molecule_size)\n",
    "global_reps = qi.wrapper_global_representations(alchemy_data, molecule_size, rep_par='coulomb')\n",
    "global_labels = qi.generate_label_vector(alchemy_data, len(global_reps), value='atomisation_global')\n",
    "set_sizes = np.logspace(9, 0, 10, base=2).astype(int)"
   ]
  },
  {
   "cell_type": "code",
   "execution_count": 79,
   "metadata": {},
   "outputs": [],
   "source": [
    "set_sizes = np.logspace(9, 0, 10, base=2).astype(int)\n",
    "error = []\n",
    "std = []\n",
    "\n",
    "for tr_size in set_sizes:\n",
    "    e,s_ = crossvalidate_loc_glob(local_reps, global_labels, molecule_size, tr_size, opt_sigma, 1e-1, num_cross=50)\n",
    "    error.append(e)\n",
    "    std.append(s_)\n",
    "error = np.array(error)\n",
    "std = np.array(std)"
   ]
  },
  {
   "cell_type": "code",
   "execution_count": 80,
   "metadata": {},
   "outputs": [
    {
     "data": {
      "text/plain": [
       "array([0.02385669, 0.02669428, 0.03098223, 0.03720507, 0.04843995,\n",
       "       0.05626024, 0.0662674 , 0.06920137, 0.07642515, 0.09640895])"
      ]
     },
     "execution_count": 80,
     "metadata": {},
     "output_type": "execute_result"
    }
   ],
   "source": [
    "error\n"
   ]
  },
  {
   "cell_type": "code",
   "execution_count": 81,
   "metadata": {},
   "outputs": [
    {
     "data": {
      "text/plain": [
       "array([0.00239671, 0.00092529, 0.00160509, 0.00285816, 0.00815748,\n",
       "       0.00991736, 0.00952142, 0.01244045, 0.01435878, 0.03822651])"
      ]
     },
     "execution_count": 81,
     "metadata": {},
     "output_type": "execute_result"
    }
   ],
   "source": [
    "std"
   ]
  },
  {
   "cell_type": "code",
   "execution_count": 82,
   "metadata": {},
   "outputs": [
    {
     "data": {
      "text/plain": [
       "array([512, 256, 128,  64,  32,  16,   8,   4,   2,   1])"
      ]
     },
     "execution_count": 82,
     "metadata": {},
     "output_type": "execute_result"
    }
   ],
   "source": [
    "set_sizes"
   ]
  },
  {
   "cell_type": "code",
   "execution_count": 83,
   "metadata": {},
   "outputs": [],
   "source": [
    "big_array = np.array([set_sizes, error, std])\n",
    "big_array = np.flip(big_array.T, axis=0)\n",
    "fname = '/home/misa/APDFT/prototyping/atomic_energies/results/analyse_learning/l_curve_local_rep_global_label.tab'\n",
    "np.savetxt(fname, big_array, delimiter='\\t')"
   ]
  },
  {
   "cell_type": "code",
   "execution_count": null,
   "metadata": {},
   "outputs": [],
   "source": []
  }
 ],
 "metadata": {
  "kernelspec": {
   "display_name": "Python [conda env:atomic-energies]",
   "language": "python",
   "name": "conda-env-atomic-energies-py"
  },
  "language_info": {
   "codemirror_mode": {
    "name": "ipython",
    "version": 3
   },
   "file_extension": ".py",
   "mimetype": "text/x-python",
   "name": "python",
   "nbconvert_exporter": "python",
   "pygments_lexer": "ipython3",
   "version": "3.7.3"
  }
 },
 "nbformat": 4,
 "nbformat_minor": 2
}
