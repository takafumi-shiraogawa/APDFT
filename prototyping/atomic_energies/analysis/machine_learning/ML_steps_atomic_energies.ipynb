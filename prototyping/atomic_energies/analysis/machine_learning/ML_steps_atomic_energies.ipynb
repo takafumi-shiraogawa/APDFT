{
 "cells": [
  {
   "cell_type": "code",
   "execution_count": 2,
   "metadata": {},
   "outputs": [],
   "source": [
    "import qml\n",
    "import numpy as np\n",
    "\n",
    "import sys\n",
    "sys.path.insert(0, '/home/misa/APDFT/prototyping/atomic_energies/')\n",
    "import qml_interface as qi"
   ]
  },
  {
   "cell_type": "code",
   "execution_count": null,
   "metadata": {},
   "outputs": [],
   "source": []
  },
  {
   "cell_type": "markdown",
   "metadata": {},
   "source": [
    "# Import data"
   ]
  },
  {
   "cell_type": "code",
   "execution_count": 3,
   "metadata": {},
   "outputs": [],
   "source": [
    "paths=qi.wrapper_alch_data()"
   ]
  },
  {
   "cell_type": "code",
   "execution_count": 4,
   "metadata": {},
   "outputs": [
    {
     "data": {
      "text/plain": [
       "['/home/misa/APDFT/prototyping/atomic_energies/results/slice_ve38/dsgdb9nsd_000227/atomic_energies.txt',\n",
       " '/home/misa/APDFT/prototyping/atomic_energies/results/slice_ve38/dsgdb9nsd_000228/atomic_energies.txt',\n",
       " '/home/misa/APDFT/prototyping/atomic_energies/results/slice_ve38/dsgdb9nsd_000272/atomic_energies.txt',\n",
       " '/home/misa/APDFT/prototyping/atomic_energies/results/slice_ve38/dsgdb9nsd_000274/atomic_energies.txt',\n",
       " '/home/misa/APDFT/prototyping/atomic_energies/results/slice_ve38/dsgdb9nsd_000275/atomic_energies.txt',\n",
       " '/home/misa/APDFT/prototyping/atomic_energies/results/slice_ve38/dsgdb9nsd_000293/atomic_energies.txt',\n",
       " '/home/misa/APDFT/prototyping/atomic_energies/results/slice_ve38/dsgdb9nsd_000391/atomic_energies.txt',\n",
       " '/home/misa/APDFT/prototyping/atomic_energies/results/slice_ve38/dsgdb9nsd_000392/atomic_energies.txt',\n",
       " '/home/misa/APDFT/prototyping/atomic_energies/results/slice_ve38/dsgdb9nsd_000393/atomic_energies.txt',\n",
       " '/home/misa/APDFT/prototyping/atomic_energies/results/slice_ve38/dsgdb9nsd_000394/atomic_energies.txt',\n",
       " '/home/misa/APDFT/prototyping/atomic_energies/results/slice_ve38/dsgdb9nsd_000395/atomic_energies.txt',\n",
       " '/home/misa/APDFT/prototyping/atomic_energies/results/slice_ve38/dsgdb9nsd_000396/atomic_energies.txt',\n",
       " '/home/misa/APDFT/prototyping/atomic_energies/results/slice_ve38/dsgdb9nsd_000397/atomic_energies.txt',\n",
       " '/home/misa/APDFT/prototyping/atomic_energies/results/slice_ve38/dsgdb9nsd_000547/atomic_energies.txt',\n",
       " '/home/misa/APDFT/prototyping/atomic_energies/results/slice_ve38/dsgdb9nsd_000548/atomic_energies.txt',\n",
       " '/home/misa/APDFT/prototyping/atomic_energies/results/slice_ve38/dsgdb9nsd_000550/atomic_energies.txt',\n",
       " '/home/misa/APDFT/prototyping/atomic_energies/results/slice_ve38/dsgdb9nsd_000791/atomic_energies.txt',\n",
       " '/home/misa/APDFT/prototyping/atomic_energies/results/slice_ve38/dsgdb9nsd_000792/atomic_energies.txt',\n",
       " '/home/misa/APDFT/prototyping/atomic_energies/results/slice_ve38/dsgdb9nsd_000793/atomic_energies.txt',\n",
       " '/home/misa/APDFT/prototyping/atomic_energies/results/slice_ve38/dsgdb9nsd_000816/atomic_energies.txt',\n",
       " '/home/misa/APDFT/prototyping/atomic_energies/results/slice_ve38/dsgdb9nsd_000825/atomic_energies.txt',\n",
       " '/home/misa/APDFT/prototyping/atomic_energies/results/slice_ve38/dsgdb9nsd_000832/atomic_energies.txt',\n",
       " '/home/misa/APDFT/prototyping/atomic_energies/results/slice_ve38/dsgdb9nsd_000839/atomic_energies.txt',\n",
       " '/home/misa/APDFT/prototyping/atomic_energies/results/slice_ve38/dsgdb9nsd_000840/atomic_energies.txt',\n",
       " '/home/misa/APDFT/prototyping/atomic_energies/results/slice_ve38/dsgdb9nsd_000841/atomic_energies.txt',\n",
       " '/home/misa/APDFT/prototyping/atomic_energies/results/slice_ve38/dsgdb9nsd_000845/atomic_energies.txt',\n",
       " '/home/misa/APDFT/prototyping/atomic_energies/results/slice_ve38/dsgdb9nsd_000848/atomic_energies.txt',\n",
       " '/home/misa/APDFT/prototyping/atomic_energies/results/slice_ve38/dsgdb9nsd_000851/atomic_energies.txt',\n",
       " '/home/misa/APDFT/prototyping/atomic_energies/results/slice_ve38/dsgdb9nsd_000852/atomic_energies.txt',\n",
       " '/home/misa/APDFT/prototyping/atomic_energies/results/slice_ve38/dsgdb9nsd_000854/atomic_energies.txt',\n",
       " '/home/misa/APDFT/prototyping/atomic_energies/results/slice_ve38/dsgdb9nsd_000855/atomic_energies.txt',\n",
       " '/home/misa/APDFT/prototyping/atomic_energies/results/slice_ve38/dsgdb9nsd_000859/atomic_energies.txt',\n",
       " '/home/misa/APDFT/prototyping/atomic_energies/results/slice_ve38/dsgdb9nsd_000865/atomic_energies.txt',\n",
       " '/home/misa/APDFT/prototyping/atomic_energies/results/slice_ve38/dsgdb9nsd_000872/atomic_energies.txt',\n",
       " '/home/misa/APDFT/prototyping/atomic_energies/results/slice_ve38/dsgdb9nsd_000878/atomic_energies.txt',\n",
       " '/home/misa/APDFT/prototyping/atomic_energies/results/slice_ve38/dsgdb9nsd_000881/atomic_energies.txt',\n",
       " '/home/misa/APDFT/prototyping/atomic_energies/results/slice_ve38/dsgdb9nsd_000883/atomic_energies.txt',\n",
       " '/home/misa/APDFT/prototyping/atomic_energies/results/slice_ve38/dsgdb9nsd_000884/atomic_energies.txt',\n",
       " '/home/misa/APDFT/prototyping/atomic_energies/results/slice_ve38/dsgdb9nsd_000886/atomic_energies.txt',\n",
       " '/home/misa/APDFT/prototyping/atomic_energies/results/slice_ve38/dsgdb9nsd_000890/atomic_energies.txt',\n",
       " '/home/misa/APDFT/prototyping/atomic_energies/results/slice_ve38/dsgdb9nsd_000891/atomic_energies.txt',\n",
       " '/home/misa/APDFT/prototyping/atomic_energies/results/slice_ve38/dsgdb9nsd_000896/atomic_energies.txt',\n",
       " '/home/misa/APDFT/prototyping/atomic_energies/results/slice_ve38/dsgdb9nsd_000898/atomic_energies.txt',\n",
       " '/home/misa/APDFT/prototyping/atomic_energies/results/slice_ve38/dsgdb9nsd_000903/atomic_energies.txt',\n",
       " '/home/misa/APDFT/prototyping/atomic_energies/results/slice_ve38/dsgdb9nsd_000904/atomic_energies.txt',\n",
       " '/home/misa/APDFT/prototyping/atomic_energies/results/slice_ve38/dsgdb9nsd_000959/atomic_energies.txt',\n",
       " '/home/misa/APDFT/prototyping/atomic_energies/results/slice_ve38/dsgdb9nsd_000960/atomic_energies.txt',\n",
       " '/home/misa/APDFT/prototyping/atomic_energies/results/slice_ve38/dsgdb9nsd_000961/atomic_energies.txt',\n",
       " '/home/misa/APDFT/prototyping/atomic_energies/results/slice_ve38/dsgdb9nsd_000962/atomic_energies.txt',\n",
       " '/home/misa/APDFT/prototyping/atomic_energies/results/slice_ve38/dsgdb9nsd_000970/atomic_energies.txt',\n",
       " '/home/misa/APDFT/prototyping/atomic_energies/results/slice_ve38/dsgdb9nsd_000973/atomic_energies.txt',\n",
       " '/home/misa/APDFT/prototyping/atomic_energies/results/slice_ve38/dsgdb9nsd_000977/atomic_energies.txt',\n",
       " '/home/misa/APDFT/prototyping/atomic_energies/results/slice_ve38/dsgdb9nsd_000979/atomic_energies.txt',\n",
       " '/home/misa/APDFT/prototyping/atomic_energies/results/slice_ve38/dsgdb9nsd_000981/atomic_energies.txt',\n",
       " '/home/misa/APDFT/prototyping/atomic_energies/results/slice_ve38/dsgdb9nsd_000984/atomic_energies.txt',\n",
       " '/home/misa/APDFT/prototyping/atomic_energies/results/slice_ve38/dsgdb9nsd_000987/atomic_energies.txt',\n",
       " '/home/misa/APDFT/prototyping/atomic_energies/results/slice_ve38/dsgdb9nsd_000990/atomic_energies.txt',\n",
       " '/home/misa/APDFT/prototyping/atomic_energies/results/slice_ve38/dsgdb9nsd_000993/atomic_energies.txt',\n",
       " '/home/misa/APDFT/prototyping/atomic_energies/results/slice_ve38/dsgdb9nsd_001001/atomic_energies.txt',\n",
       " '/home/misa/APDFT/prototyping/atomic_energies/results/slice_ve38/dsgdb9nsd_001004/atomic_energies.txt',\n",
       " '/home/misa/APDFT/prototyping/atomic_energies/results/slice_ve38/dsgdb9nsd_001037/atomic_energies.txt',\n",
       " '/home/misa/APDFT/prototyping/atomic_energies/results/slice_ve38/dsgdb9nsd_001041/atomic_energies.txt',\n",
       " '/home/misa/APDFT/prototyping/atomic_energies/results/slice_ve38/dsgdb9nsd_001045/atomic_energies.txt',\n",
       " '/home/misa/APDFT/prototyping/atomic_energies/results/slice_ve38/dsgdb9nsd_001046/atomic_energies.txt',\n",
       " '/home/misa/APDFT/prototyping/atomic_energies/results/slice_ve38/dsgdb9nsd_001047/atomic_energies.txt',\n",
       " '/home/misa/APDFT/prototyping/atomic_energies/results/slice_ve38/dsgdb9nsd_001048/atomic_energies.txt',\n",
       " '/home/misa/APDFT/prototyping/atomic_energies/results/slice_ve38/dsgdb9nsd_001052/atomic_energies.txt',\n",
       " '/home/misa/APDFT/prototyping/atomic_energies/results/slice_ve38/dsgdb9nsd_001054/atomic_energies.txt',\n",
       " '/home/misa/APDFT/prototyping/atomic_energies/results/slice_ve38/dsgdb9nsd_001055/atomic_energies.txt',\n",
       " '/home/misa/APDFT/prototyping/atomic_energies/results/slice_ve38/dsgdb9nsd_001056/atomic_energies.txt',\n",
       " '/home/misa/APDFT/prototyping/atomic_energies/results/slice_ve38/dsgdb9nsd_001057/atomic_energies.txt',\n",
       " '/home/misa/APDFT/prototyping/atomic_energies/results/slice_ve38/dsgdb9nsd_001058/atomic_energies.txt',\n",
       " '/home/misa/APDFT/prototyping/atomic_energies/results/slice_ve38/dsgdb9nsd_001060/atomic_energies.txt',\n",
       " '/home/misa/APDFT/prototyping/atomic_energies/results/slice_ve38/dsgdb9nsd_001061/atomic_energies.txt',\n",
       " '/home/misa/APDFT/prototyping/atomic_energies/results/slice_ve38/dsgdb9nsd_001062/atomic_energies.txt',\n",
       " '/home/misa/APDFT/prototyping/atomic_energies/results/slice_ve38/dsgdb9nsd_001063/atomic_energies.txt',\n",
       " '/home/misa/APDFT/prototyping/atomic_energies/results/slice_ve38/dsgdb9nsd_001064/atomic_energies.txt',\n",
       " '/home/misa/APDFT/prototyping/atomic_energies/results/slice_ve38/dsgdb9nsd_001067/atomic_energies.txt',\n",
       " '/home/misa/APDFT/prototyping/atomic_energies/results/slice_ve38/dsgdb9nsd_001070/atomic_energies.txt',\n",
       " '/home/misa/APDFT/prototyping/atomic_energies/results/slice_ve38/dsgdb9nsd_001071/atomic_energies.txt',\n",
       " '/home/misa/APDFT/prototyping/atomic_energies/results/slice_ve38/dsgdb9nsd_001073/atomic_energies.txt',\n",
       " '/home/misa/APDFT/prototyping/atomic_energies/results/slice_ve38/dsgdb9nsd_001075/atomic_energies.txt',\n",
       " '/home/misa/APDFT/prototyping/atomic_energies/results/slice_ve38/dsgdb9nsd_001078/atomic_energies.txt',\n",
       " '/home/misa/APDFT/prototyping/atomic_energies/results/slice_ve38/dsgdb9nsd_001161/atomic_energies.txt',\n",
       " '/home/misa/APDFT/prototyping/atomic_energies/results/slice_ve38/dsgdb9nsd_001162/atomic_energies.txt',\n",
       " '/home/misa/APDFT/prototyping/atomic_energies/results/slice_ve38/dsgdb9nsd_001195/atomic_energies.txt',\n",
       " '/home/misa/APDFT/prototyping/atomic_energies/results/slice_ve38/dsgdb9nsd_001207/atomic_energies.txt',\n",
       " '/home/misa/APDFT/prototyping/atomic_energies/results/slice_ve38/dsgdb9nsd_001208/atomic_energies.txt',\n",
       " '/home/misa/APDFT/prototyping/atomic_energies/results/slice_ve38/dsgdb9nsd_001209/atomic_energies.txt',\n",
       " '/home/misa/APDFT/prototyping/atomic_energies/results/slice_ve38/dsgdb9nsd_001212/atomic_energies.txt',\n",
       " '/home/misa/APDFT/prototyping/atomic_energies/results/slice_ve38/dsgdb9nsd_001213/atomic_energies.txt',\n",
       " '/home/misa/APDFT/prototyping/atomic_energies/results/slice_ve38/dsgdb9nsd_001216/atomic_energies.txt',\n",
       " '/home/misa/APDFT/prototyping/atomic_energies/results/slice_ve38/dsgdb9nsd_001238/atomic_energies.txt',\n",
       " '/home/misa/APDFT/prototyping/atomic_energies/results/slice_ve38/dsgdb9nsd_001264/atomic_energies.txt',\n",
       " '/home/misa/APDFT/prototyping/atomic_energies/results/slice_ve38/dsgdb9nsd_001323/atomic_energies.txt',\n",
       " '/home/misa/APDFT/prototyping/atomic_energies/results/slice_ve38/dsgdb9nsd_001324/atomic_energies.txt',\n",
       " '/home/misa/APDFT/prototyping/atomic_energies/results/slice_ve38/dsgdb9nsd_001325/atomic_energies.txt',\n",
       " '/home/misa/APDFT/prototyping/atomic_energies/results/slice_ve38/dsgdb9nsd_001326/atomic_energies.txt',\n",
       " '/home/misa/APDFT/prototyping/atomic_energies/results/slice_ve38/dsgdb9nsd_001378/atomic_energies.txt',\n",
       " '/home/misa/APDFT/prototyping/atomic_energies/results/slice_ve38/dsgdb9nsd_001381/atomic_energies.txt',\n",
       " '/home/misa/APDFT/prototyping/atomic_energies/results/slice_ve38/dsgdb9nsd_001383/atomic_energies.txt',\n",
       " '/home/misa/APDFT/prototyping/atomic_energies/results/slice_ve38/dsgdb9nsd_001392/atomic_energies.txt',\n",
       " '/home/misa/APDFT/prototyping/atomic_energies/results/slice_ve38/dsgdb9nsd_001393/atomic_energies.txt',\n",
       " '/home/misa/APDFT/prototyping/atomic_energies/results/slice_ve38/dsgdb9nsd_001405/atomic_energies.txt',\n",
       " '/home/misa/APDFT/prototyping/atomic_energies/results/slice_ve38/dsgdb9nsd_001410/atomic_energies.txt',\n",
       " '/home/misa/APDFT/prototyping/atomic_energies/results/slice_ve38/dsgdb9nsd_001412/atomic_energies.txt',\n",
       " '/home/misa/APDFT/prototyping/atomic_energies/results/slice_ve38/dsgdb9nsd_001413/atomic_energies.txt',\n",
       " '/home/misa/APDFT/prototyping/atomic_energies/results/slice_ve38/dsgdb9nsd_001414/atomic_energies.txt',\n",
       " '/home/misa/APDFT/prototyping/atomic_energies/results/slice_ve38/dsgdb9nsd_001415/atomic_energies.txt',\n",
       " '/home/misa/APDFT/prototyping/atomic_energies/results/slice_ve38/dsgdb9nsd_001416/atomic_energies.txt',\n",
       " '/home/misa/APDFT/prototyping/atomic_energies/results/slice_ve38/dsgdb9nsd_001417/atomic_energies.txt',\n",
       " '/home/misa/APDFT/prototyping/atomic_energies/results/slice_ve38/dsgdb9nsd_001431/atomic_energies.txt',\n",
       " '/home/misa/APDFT/prototyping/atomic_energies/results/slice_ve38/dsgdb9nsd_001433/atomic_energies.txt',\n",
       " '/home/misa/APDFT/prototyping/atomic_energies/results/slice_ve38/dsgdb9nsd_001437/atomic_energies.txt',\n",
       " '/home/misa/APDFT/prototyping/atomic_energies/results/slice_ve38/dsgdb9nsd_001438/atomic_energies.txt',\n",
       " '/home/misa/APDFT/prototyping/atomic_energies/results/slice_ve38/dsgdb9nsd_001439/atomic_energies.txt',\n",
       " '/home/misa/APDFT/prototyping/atomic_energies/results/slice_ve38/dsgdb9nsd_001440/atomic_energies.txt',\n",
       " '/home/misa/APDFT/prototyping/atomic_energies/results/slice_ve38/dsgdb9nsd_001442/atomic_energies.txt',\n",
       " '/home/misa/APDFT/prototyping/atomic_energies/results/slice_ve38/dsgdb9nsd_001489/atomic_energies.txt',\n",
       " '/home/misa/APDFT/prototyping/atomic_energies/results/slice_ve38/dsgdb9nsd_001492/atomic_energies.txt',\n",
       " '/home/misa/APDFT/prototyping/atomic_energies/results/slice_ve38/dsgdb9nsd_001495/atomic_energies.txt',\n",
       " '/home/misa/APDFT/prototyping/atomic_energies/results/slice_ve38/dsgdb9nsd_001497/atomic_energies.txt',\n",
       " '/home/misa/APDFT/prototyping/atomic_energies/results/slice_ve38/dsgdb9nsd_001498/atomic_energies.txt',\n",
       " '/home/misa/APDFT/prototyping/atomic_energies/results/slice_ve38/dsgdb9nsd_001499/atomic_energies.txt',\n",
       " '/home/misa/APDFT/prototyping/atomic_energies/results/slice_ve38/dsgdb9nsd_001501/atomic_energies.txt',\n",
       " '/home/misa/APDFT/prototyping/atomic_energies/results/slice_ve38/dsgdb9nsd_001503/atomic_energies.txt',\n",
       " '/home/misa/APDFT/prototyping/atomic_energies/results/slice_ve38/dsgdb9nsd_001587/atomic_energies.txt',\n",
       " '/home/misa/APDFT/prototyping/atomic_energies/results/slice_ve38/dsgdb9nsd_001589/atomic_energies.txt',\n",
       " '/home/misa/APDFT/prototyping/atomic_energies/results/slice_ve38/dsgdb9nsd_001590/atomic_energies.txt',\n",
       " '/home/misa/APDFT/prototyping/atomic_energies/results/slice_ve38/dsgdb9nsd_001591/atomic_energies.txt',\n",
       " '/home/misa/APDFT/prototyping/atomic_energies/results/slice_ve38/dsgdb9nsd_001592/atomic_energies.txt',\n",
       " '/home/misa/APDFT/prototyping/atomic_energies/results/slice_ve38/dsgdb9nsd_001593/atomic_energies.txt',\n",
       " '/home/misa/APDFT/prototyping/atomic_energies/results/slice_ve38/dsgdb9nsd_001594/atomic_energies.txt',\n",
       " '/home/misa/APDFT/prototyping/atomic_energies/results/slice_ve38/dsgdb9nsd_001597/atomic_energies.txt',\n",
       " '/home/misa/APDFT/prototyping/atomic_energies/results/slice_ve38/dsgdb9nsd_001598/atomic_energies.txt',\n",
       " '/home/misa/APDFT/prototyping/atomic_energies/results/slice_ve38/dsgdb9nsd_001601/atomic_energies.txt',\n",
       " '/home/misa/APDFT/prototyping/atomic_energies/results/slice_ve38/dsgdb9nsd_001606/atomic_energies.txt',\n",
       " '/home/misa/APDFT/prototyping/atomic_energies/results/slice_ve38/dsgdb9nsd_001607/atomic_energies.txt',\n",
       " '/home/misa/APDFT/prototyping/atomic_energies/results/slice_ve38/dsgdb9nsd_001608/atomic_energies.txt',\n",
       " '/home/misa/APDFT/prototyping/atomic_energies/results/slice_ve38/dsgdb9nsd_001706/atomic_energies.txt',\n",
       " '/home/misa/APDFT/prototyping/atomic_energies/results/slice_ve38/dsgdb9nsd_001707/atomic_energies.txt',\n",
       " '/home/misa/APDFT/prototyping/atomic_energies/results/slice_ve38/dsgdb9nsd_001709/atomic_energies.txt',\n",
       " '/home/misa/APDFT/prototyping/atomic_energies/results/slice_ve38/dsgdb9nsd_001711/atomic_energies.txt',\n",
       " '/home/misa/APDFT/prototyping/atomic_energies/results/slice_ve38/dsgdb9nsd_001734/atomic_energies.txt',\n",
       " '/home/misa/APDFT/prototyping/atomic_energies/results/slice_ve38/dsgdb9nsd_001735/atomic_energies.txt',\n",
       " '/home/misa/APDFT/prototyping/atomic_energies/results/slice_ve38/dsgdb9nsd_001736/atomic_energies.txt',\n",
       " '/home/misa/APDFT/prototyping/atomic_energies/results/slice_ve38/dsgdb9nsd_001737/atomic_energies.txt',\n",
       " '/home/misa/APDFT/prototyping/atomic_energies/results/slice_ve38/dsgdb9nsd_001738/atomic_energies.txt',\n",
       " '/home/misa/APDFT/prototyping/atomic_energies/results/slice_ve38/dsgdb9nsd_001759/atomic_energies.txt',\n",
       " '/home/misa/APDFT/prototyping/atomic_energies/results/slice_ve38/dsgdb9nsd_001761/atomic_energies.txt',\n",
       " '/home/misa/APDFT/prototyping/atomic_energies/results/slice_ve38/dsgdb9nsd_001763/atomic_energies.txt',\n",
       " '/home/misa/APDFT/prototyping/atomic_energies/results/slice_ve38/dsgdb9nsd_001764/atomic_energies.txt',\n",
       " '/home/misa/APDFT/prototyping/atomic_energies/results/slice_ve38/dsgdb9nsd_001767/atomic_energies.txt',\n",
       " '/home/misa/APDFT/prototyping/atomic_energies/results/slice_ve38/dsgdb9nsd_001770/atomic_energies.txt',\n",
       " '/home/misa/APDFT/prototyping/atomic_energies/results/slice_ve38/dsgdb9nsd_001773/atomic_energies.txt',\n",
       " '/home/misa/APDFT/prototyping/atomic_energies/results/slice_ve38/dsgdb9nsd_001775/atomic_energies.txt',\n",
       " '/home/misa/APDFT/prototyping/atomic_energies/results/slice_ve38/dsgdb9nsd_001825/atomic_energies.txt',\n",
       " '/home/misa/APDFT/prototyping/atomic_energies/results/slice_ve38/dsgdb9nsd_001827/atomic_energies.txt',\n",
       " '/home/misa/APDFT/prototyping/atomic_energies/results/slice_ve38/dsgdb9nsd_001832/atomic_energies.txt',\n",
       " '/home/misa/APDFT/prototyping/atomic_energies/results/slice_ve38/dsgdb9nsd_001834/atomic_energies.txt',\n",
       " '/home/misa/APDFT/prototyping/atomic_energies/results/slice_ve38/dsgdb9nsd_001838/atomic_energies.txt',\n",
       " '/home/misa/APDFT/prototyping/atomic_energies/results/slice_ve38/dsgdb9nsd_001844/atomic_energies.txt',\n",
       " '/home/misa/APDFT/prototyping/atomic_energies/results/slice_ve38/dsgdb9nsd_001850/atomic_energies.txt',\n",
       " '/home/misa/APDFT/prototyping/atomic_energies/results/slice_ve38/dsgdb9nsd_001851/atomic_energies.txt',\n",
       " '/home/misa/APDFT/prototyping/atomic_energies/results/slice_ve38/dsgdb9nsd_001854/atomic_energies.txt',\n",
       " '/home/misa/APDFT/prototyping/atomic_energies/results/slice_ve38/dsgdb9nsd_001906/atomic_energies.txt',\n",
       " '/home/misa/APDFT/prototyping/atomic_energies/results/slice_ve38/dsgdb9nsd_001907/atomic_energies.txt',\n",
       " '/home/misa/APDFT/prototyping/atomic_energies/results/slice_ve38/dsgdb9nsd_001908/atomic_energies.txt',\n",
       " '/home/misa/APDFT/prototyping/atomic_energies/results/slice_ve38/dsgdb9nsd_001909/atomic_energies.txt',\n",
       " '/home/misa/APDFT/prototyping/atomic_energies/results/slice_ve38/dsgdb9nsd_001910/atomic_energies.txt',\n",
       " '/home/misa/APDFT/prototyping/atomic_energies/results/slice_ve38/dsgdb9nsd_001943/atomic_energies.txt',\n",
       " '/home/misa/APDFT/prototyping/atomic_energies/results/slice_ve38/dsgdb9nsd_001948/atomic_energies.txt',\n",
       " '/home/misa/APDFT/prototyping/atomic_energies/results/slice_ve38/dsgdb9nsd_001949/atomic_energies.txt',\n",
       " '/home/misa/APDFT/prototyping/atomic_energies/results/slice_ve38/dsgdb9nsd_001951/atomic_energies.txt',\n",
       " '/home/misa/APDFT/prototyping/atomic_energies/results/slice_ve38/dsgdb9nsd_001953/atomic_energies.txt',\n",
       " '/home/misa/APDFT/prototyping/atomic_energies/results/slice_ve38/dsgdb9nsd_001954/atomic_energies.txt',\n",
       " '/home/misa/APDFT/prototyping/atomic_energies/results/slice_ve38/dsgdb9nsd_002020/atomic_energies.txt',\n",
       " '/home/misa/APDFT/prototyping/atomic_energies/results/slice_ve38/dsgdb9nsd_002021/atomic_energies.txt',\n",
       " '/home/misa/APDFT/prototyping/atomic_energies/results/slice_ve38/dsgdb9nsd_002025/atomic_energies.txt',\n",
       " '/home/misa/APDFT/prototyping/atomic_energies/results/slice_ve38/dsgdb9nsd_002052/atomic_energies.txt',\n",
       " '/home/misa/APDFT/prototyping/atomic_energies/results/slice_ve38/dsgdb9nsd_002054/atomic_energies.txt',\n",
       " '/home/misa/APDFT/prototyping/atomic_energies/results/slice_ve38/dsgdb9nsd_002055/atomic_energies.txt',\n",
       " '/home/misa/APDFT/prototyping/atomic_energies/results/slice_ve38/dsgdb9nsd_002059/atomic_energies.txt',\n",
       " '/home/misa/APDFT/prototyping/atomic_energies/results/slice_ve38/dsgdb9nsd_002065/atomic_energies.txt',\n",
       " '/home/misa/APDFT/prototyping/atomic_energies/results/slice_ve38/dsgdb9nsd_002123/atomic_energies.txt',\n",
       " '/home/misa/APDFT/prototyping/atomic_energies/results/slice_ve38/dsgdb9nsd_002124/atomic_energies.txt',\n",
       " '/home/misa/APDFT/prototyping/atomic_energies/results/slice_ve38/dsgdb9nsd_002126/atomic_energies.txt',\n",
       " '/home/misa/APDFT/prototyping/atomic_energies/results/slice_ve38/dsgdb9nsd_002130/atomic_energies.txt',\n",
       " '/home/misa/APDFT/prototyping/atomic_energies/results/slice_ve38/dsgdb9nsd_002136/atomic_energies.txt',\n",
       " '/home/misa/APDFT/prototyping/atomic_energies/results/slice_ve38/dsgdb9nsd_002138/atomic_energies.txt',\n",
       " '/home/misa/APDFT/prototyping/atomic_energies/results/slice_ve38/dsgdb9nsd_002140/atomic_energies.txt',\n",
       " '/home/misa/APDFT/prototyping/atomic_energies/results/slice_ve38/dsgdb9nsd_002142/atomic_energies.txt',\n",
       " '/home/misa/APDFT/prototyping/atomic_energies/results/slice_ve38/dsgdb9nsd_002143/atomic_energies.txt',\n",
       " '/home/misa/APDFT/prototyping/atomic_energies/results/slice_ve38/dsgdb9nsd_002146/atomic_energies.txt',\n",
       " '/home/misa/APDFT/prototyping/atomic_energies/results/slice_ve38/dsgdb9nsd_002227/atomic_energies.txt',\n",
       " '/home/misa/APDFT/prototyping/atomic_energies/results/slice_ve38/dsgdb9nsd_002228/atomic_energies.txt',\n",
       " '/home/misa/APDFT/prototyping/atomic_energies/results/slice_ve38/dsgdb9nsd_002232/atomic_energies.txt',\n",
       " '/home/misa/APDFT/prototyping/atomic_energies/results/slice_ve38/dsgdb9nsd_002234/atomic_energies.txt',\n",
       " '/home/misa/APDFT/prototyping/atomic_energies/results/slice_ve38/dsgdb9nsd_002235/atomic_energies.txt',\n",
       " '/home/misa/APDFT/prototyping/atomic_energies/results/slice_ve38/dsgdb9nsd_002236/atomic_energies.txt',\n",
       " '/home/misa/APDFT/prototyping/atomic_energies/results/slice_ve38/dsgdb9nsd_002248/atomic_energies.txt',\n",
       " '/home/misa/APDFT/prototyping/atomic_energies/results/slice_ve38/dsgdb9nsd_002249/atomic_energies.txt',\n",
       " '/home/misa/APDFT/prototyping/atomic_energies/results/slice_ve38/dsgdb9nsd_002253/atomic_energies.txt',\n",
       " '/home/misa/APDFT/prototyping/atomic_energies/results/slice_ve38/dsgdb9nsd_002255/atomic_energies.txt',\n",
       " '/home/misa/APDFT/prototyping/atomic_energies/results/slice_ve38/dsgdb9nsd_002258/atomic_energies.txt',\n",
       " '/home/misa/APDFT/prototyping/atomic_energies/results/slice_ve38/dsgdb9nsd_002275/atomic_energies.txt',\n",
       " '/home/misa/APDFT/prototyping/atomic_energies/results/slice_ve38/dsgdb9nsd_002302/atomic_energies.txt',\n",
       " '/home/misa/APDFT/prototyping/atomic_energies/results/slice_ve38/dsgdb9nsd_002306/atomic_energies.txt',\n",
       " '/home/misa/APDFT/prototyping/atomic_energies/results/slice_ve38/dsgdb9nsd_002307/atomic_energies.txt',\n",
       " '/home/misa/APDFT/prototyping/atomic_energies/results/slice_ve38/dsgdb9nsd_002308/atomic_energies.txt',\n",
       " '/home/misa/APDFT/prototyping/atomic_energies/results/slice_ve38/dsgdb9nsd_002310/atomic_energies.txt',\n",
       " '/home/misa/APDFT/prototyping/atomic_energies/results/slice_ve38/dsgdb9nsd_002313/atomic_energies.txt',\n",
       " '/home/misa/APDFT/prototyping/atomic_energies/results/slice_ve38/dsgdb9nsd_002314/atomic_energies.txt',\n",
       " '/home/misa/APDFT/prototyping/atomic_energies/results/slice_ve38/dsgdb9nsd_002404/atomic_energies.txt',\n",
       " '/home/misa/APDFT/prototyping/atomic_energies/results/slice_ve38/dsgdb9nsd_002406/atomic_energies.txt',\n",
       " '/home/misa/APDFT/prototyping/atomic_energies/results/slice_ve38/dsgdb9nsd_002407/atomic_energies.txt',\n",
       " '/home/misa/APDFT/prototyping/atomic_energies/results/slice_ve38/dsgdb9nsd_002417/atomic_energies.txt',\n",
       " '/home/misa/APDFT/prototyping/atomic_energies/results/slice_ve38/dsgdb9nsd_002422/atomic_energies.txt',\n",
       " '/home/misa/APDFT/prototyping/atomic_energies/results/slice_ve38/dsgdb9nsd_002427/atomic_energies.txt',\n",
       " '/home/misa/APDFT/prototyping/atomic_energies/results/slice_ve38/dsgdb9nsd_002428/atomic_energies.txt',\n",
       " '/home/misa/APDFT/prototyping/atomic_energies/results/slice_ve38/dsgdb9nsd_002430/atomic_energies.txt',\n",
       " '/home/misa/APDFT/prototyping/atomic_energies/results/slice_ve38/dsgdb9nsd_002432/atomic_energies.txt',\n",
       " '/home/misa/APDFT/prototyping/atomic_energies/results/slice_ve38/dsgdb9nsd_002433/atomic_energies.txt',\n",
       " '/home/misa/APDFT/prototyping/atomic_energies/results/slice_ve38/dsgdb9nsd_002437/atomic_energies.txt',\n",
       " '/home/misa/APDFT/prototyping/atomic_energies/results/slice_ve38/dsgdb9nsd_002440/atomic_energies.txt',\n",
       " '/home/misa/APDFT/prototyping/atomic_energies/results/slice_ve38/dsgdb9nsd_002448/atomic_energies.txt',\n",
       " '/home/misa/APDFT/prototyping/atomic_energies/results/slice_ve38/dsgdb9nsd_002449/atomic_energies.txt',\n",
       " '/home/misa/APDFT/prototyping/atomic_energies/results/slice_ve38/dsgdb9nsd_002454/atomic_energies.txt',\n",
       " '/home/misa/APDFT/prototyping/atomic_energies/results/slice_ve38/dsgdb9nsd_002460/atomic_energies.txt',\n",
       " '/home/misa/APDFT/prototyping/atomic_energies/results/slice_ve38/dsgdb9nsd_002462/atomic_energies.txt',\n",
       " '/home/misa/APDFT/prototyping/atomic_energies/results/slice_ve38/dsgdb9nsd_002463/atomic_energies.txt',\n",
       " '/home/misa/APDFT/prototyping/atomic_energies/results/slice_ve38/dsgdb9nsd_002475/atomic_energies.txt',\n",
       " '/home/misa/APDFT/prototyping/atomic_energies/results/slice_ve38/dsgdb9nsd_002480/atomic_energies.txt',\n",
       " '/home/misa/APDFT/prototyping/atomic_energies/results/slice_ve38/dsgdb9nsd_002488/atomic_energies.txt',\n",
       " '/home/misa/APDFT/prototyping/atomic_energies/results/slice_ve38/dsgdb9nsd_002489/atomic_energies.txt',\n",
       " '/home/misa/APDFT/prototyping/atomic_energies/results/slice_ve38/dsgdb9nsd_002500/atomic_energies.txt',\n",
       " '/home/misa/APDFT/prototyping/atomic_energies/results/slice_ve38/dsgdb9nsd_002515/atomic_energies.txt',\n",
       " '/home/misa/APDFT/prototyping/atomic_energies/results/slice_ve38/dsgdb9nsd_002516/atomic_energies.txt',\n",
       " '/home/misa/APDFT/prototyping/atomic_energies/results/slice_ve38/dsgdb9nsd_002571/atomic_energies.txt',\n",
       " '/home/misa/APDFT/prototyping/atomic_energies/results/slice_ve38/dsgdb9nsd_002584/atomic_energies.txt',\n",
       " '/home/misa/APDFT/prototyping/atomic_energies/results/slice_ve38/dsgdb9nsd_002591/atomic_energies.txt',\n",
       " '/home/misa/APDFT/prototyping/atomic_energies/results/slice_ve38/dsgdb9nsd_002593/atomic_energies.txt',\n",
       " '/home/misa/APDFT/prototyping/atomic_energies/results/slice_ve38/dsgdb9nsd_002598/atomic_energies.txt',\n",
       " '/home/misa/APDFT/prototyping/atomic_energies/results/slice_ve38/dsgdb9nsd_002599/atomic_energies.txt',\n",
       " '/home/misa/APDFT/prototyping/atomic_energies/results/slice_ve38/dsgdb9nsd_002626/atomic_energies.txt',\n",
       " '/home/misa/APDFT/prototyping/atomic_energies/results/slice_ve38/dsgdb9nsd_002627/atomic_energies.txt',\n",
       " '/home/misa/APDFT/prototyping/atomic_energies/results/slice_ve38/dsgdb9nsd_002628/atomic_energies.txt',\n",
       " '/home/misa/APDFT/prototyping/atomic_energies/results/slice_ve38/dsgdb9nsd_002630/atomic_energies.txt',\n",
       " '/home/misa/APDFT/prototyping/atomic_energies/results/slice_ve38/dsgdb9nsd_002635/atomic_energies.txt',\n",
       " '/home/misa/APDFT/prototyping/atomic_energies/results/slice_ve38/dsgdb9nsd_002648/atomic_energies.txt',\n",
       " '/home/misa/APDFT/prototyping/atomic_energies/results/slice_ve38/dsgdb9nsd_002650/atomic_energies.txt',\n",
       " '/home/misa/APDFT/prototyping/atomic_energies/results/slice_ve38/dsgdb9nsd_002661/atomic_energies.txt',\n",
       " '/home/misa/APDFT/prototyping/atomic_energies/results/slice_ve38/dsgdb9nsd_002662/atomic_energies.txt',\n",
       " '/home/misa/APDFT/prototyping/atomic_energies/results/slice_ve38/dsgdb9nsd_002664/atomic_energies.txt',\n",
       " '/home/misa/APDFT/prototyping/atomic_energies/results/slice_ve38/dsgdb9nsd_002748/atomic_energies.txt',\n",
       " '/home/misa/APDFT/prototyping/atomic_energies/results/slice_ve38/dsgdb9nsd_002749/atomic_energies.txt',\n",
       " '/home/misa/APDFT/prototyping/atomic_energies/results/slice_ve38/dsgdb9nsd_002755/atomic_energies.txt',\n",
       " '/home/misa/APDFT/prototyping/atomic_energies/results/slice_ve38/dsgdb9nsd_002756/atomic_energies.txt',\n",
       " '/home/misa/APDFT/prototyping/atomic_energies/results/slice_ve38/dsgdb9nsd_002757/atomic_energies.txt',\n",
       " '/home/misa/APDFT/prototyping/atomic_energies/results/slice_ve38/dsgdb9nsd_002760/atomic_energies.txt',\n",
       " '/home/misa/APDFT/prototyping/atomic_energies/results/slice_ve38/dsgdb9nsd_002763/atomic_energies.txt',\n",
       " '/home/misa/APDFT/prototyping/atomic_energies/results/slice_ve38/dsgdb9nsd_002826/atomic_energies.txt',\n",
       " '/home/misa/APDFT/prototyping/atomic_energies/results/slice_ve38/dsgdb9nsd_002827/atomic_energies.txt',\n",
       " '/home/misa/APDFT/prototyping/atomic_energies/results/slice_ve38/dsgdb9nsd_002828/atomic_energies.txt',\n",
       " '/home/misa/APDFT/prototyping/atomic_energies/results/slice_ve38/dsgdb9nsd_002829/atomic_energies.txt',\n",
       " '/home/misa/APDFT/prototyping/atomic_energies/results/slice_ve38/dsgdb9nsd_002831/atomic_energies.txt',\n",
       " '/home/misa/APDFT/prototyping/atomic_energies/results/slice_ve38/dsgdb9nsd_002833/atomic_energies.txt',\n",
       " '/home/misa/APDFT/prototyping/atomic_energies/results/slice_ve38/dsgdb9nsd_002838/atomic_energies.txt',\n",
       " '/home/misa/APDFT/prototyping/atomic_energies/results/slice_ve38/dsgdb9nsd_002841/atomic_energies.txt',\n",
       " '/home/misa/APDFT/prototyping/atomic_energies/results/slice_ve38/dsgdb9nsd_002842/atomic_energies.txt',\n",
       " '/home/misa/APDFT/prototyping/atomic_energies/results/slice_ve38/dsgdb9nsd_002844/atomic_energies.txt',\n",
       " '/home/misa/APDFT/prototyping/atomic_energies/results/slice_ve38/dsgdb9nsd_002887/atomic_energies.txt',\n",
       " '/home/misa/APDFT/prototyping/atomic_energies/results/slice_ve38/dsgdb9nsd_002890/atomic_energies.txt',\n",
       " '/home/misa/APDFT/prototyping/atomic_energies/results/slice_ve38/dsgdb9nsd_002892/atomic_energies.txt',\n",
       " '/home/misa/APDFT/prototyping/atomic_energies/results/slice_ve38/dsgdb9nsd_002893/atomic_energies.txt',\n",
       " '/home/misa/APDFT/prototyping/atomic_energies/results/slice_ve38/dsgdb9nsd_002895/atomic_energies.txt',\n",
       " '/home/misa/APDFT/prototyping/atomic_energies/results/slice_ve38/dsgdb9nsd_002898/atomic_energies.txt',\n",
       " '/home/misa/APDFT/prototyping/atomic_energies/results/slice_ve38/dsgdb9nsd_002900/atomic_energies.txt',\n",
       " '/home/misa/APDFT/prototyping/atomic_energies/results/slice_ve38/dsgdb9nsd_002902/atomic_energies.txt',\n",
       " '/home/misa/APDFT/prototyping/atomic_energies/results/slice_ve38/dsgdb9nsd_002905/atomic_energies.txt',\n",
       " '/home/misa/APDFT/prototyping/atomic_energies/results/slice_ve38/dsgdb9nsd_002907/atomic_energies.txt',\n",
       " '/home/misa/APDFT/prototyping/atomic_energies/results/slice_ve38/dsgdb9nsd_002909/atomic_energies.txt',\n",
       " '/home/misa/APDFT/prototyping/atomic_energies/results/slice_ve38/dsgdb9nsd_002917/atomic_energies.txt',\n",
       " '/home/misa/APDFT/prototyping/atomic_energies/results/slice_ve38/dsgdb9nsd_002964/atomic_energies.txt',\n",
       " '/home/misa/APDFT/prototyping/atomic_energies/results/slice_ve38/dsgdb9nsd_002965/atomic_energies.txt',\n",
       " '/home/misa/APDFT/prototyping/atomic_energies/results/slice_ve38/dsgdb9nsd_002967/atomic_energies.txt',\n",
       " '/home/misa/APDFT/prototyping/atomic_energies/results/slice_ve38/dsgdb9nsd_002969/atomic_energies.txt',\n",
       " '/home/misa/APDFT/prototyping/atomic_energies/results/slice_ve38/dsgdb9nsd_002974/atomic_energies.txt',\n",
       " '/home/misa/APDFT/prototyping/atomic_energies/results/slice_ve38/dsgdb9nsd_002976/atomic_energies.txt',\n",
       " '/home/misa/APDFT/prototyping/atomic_energies/results/slice_ve38/dsgdb9nsd_002979/atomic_energies.txt',\n",
       " '/home/misa/APDFT/prototyping/atomic_energies/results/slice_ve38/dsgdb9nsd_002981/atomic_energies.txt',\n",
       " '/home/misa/APDFT/prototyping/atomic_energies/results/slice_ve38/dsgdb9nsd_002982/atomic_energies.txt',\n",
       " '/home/misa/APDFT/prototyping/atomic_energies/results/slice_ve38/dsgdb9nsd_003032/atomic_energies.txt',\n",
       " '/home/misa/APDFT/prototyping/atomic_energies/results/slice_ve38/dsgdb9nsd_003035/atomic_energies.txt',\n",
       " '/home/misa/APDFT/prototyping/atomic_energies/results/slice_ve38/dsgdb9nsd_003036/atomic_energies.txt',\n",
       " '/home/misa/APDFT/prototyping/atomic_energies/results/slice_ve38/dsgdb9nsd_003057/atomic_energies.txt',\n",
       " '/home/misa/APDFT/prototyping/atomic_energies/results/slice_ve38/dsgdb9nsd_003058/atomic_energies.txt',\n",
       " '/home/misa/APDFT/prototyping/atomic_energies/results/slice_ve38/dsgdb9nsd_003060/atomic_energies.txt',\n",
       " '/home/misa/APDFT/prototyping/atomic_energies/results/slice_ve38/dsgdb9nsd_003062/atomic_energies.txt',\n",
       " '/home/misa/APDFT/prototyping/atomic_energies/results/slice_ve38/dsgdb9nsd_003063/atomic_energies.txt',\n",
       " '/home/misa/APDFT/prototyping/atomic_energies/results/slice_ve38/dsgdb9nsd_003065/atomic_energies.txt',\n",
       " '/home/misa/APDFT/prototyping/atomic_energies/results/slice_ve38/dsgdb9nsd_003081/atomic_energies.txt',\n",
       " '/home/misa/APDFT/prototyping/atomic_energies/results/slice_ve38/dsgdb9nsd_003083/atomic_energies.txt',\n",
       " '/home/misa/APDFT/prototyping/atomic_energies/results/slice_ve38/dsgdb9nsd_003084/atomic_energies.txt',\n",
       " '/home/misa/APDFT/prototyping/atomic_energies/results/slice_ve38/dsgdb9nsd_003089/atomic_energies.txt',\n",
       " '/home/misa/APDFT/prototyping/atomic_energies/results/slice_ve38/dsgdb9nsd_003090/atomic_energies.txt',\n",
       " '/home/misa/APDFT/prototyping/atomic_energies/results/slice_ve38/dsgdb9nsd_003122/atomic_energies.txt',\n",
       " '/home/misa/APDFT/prototyping/atomic_energies/results/slice_ve38/dsgdb9nsd_003123/atomic_energies.txt',\n",
       " '/home/misa/APDFT/prototyping/atomic_energies/results/slice_ve38/dsgdb9nsd_003124/atomic_energies.txt',\n",
       " '/home/misa/APDFT/prototyping/atomic_energies/results/slice_ve38/dsgdb9nsd_003125/atomic_energies.txt',\n",
       " '/home/misa/APDFT/prototyping/atomic_energies/results/slice_ve38/dsgdb9nsd_003140/atomic_energies.txt',\n",
       " '/home/misa/APDFT/prototyping/atomic_energies/results/slice_ve38/dsgdb9nsd_003144/atomic_energies.txt',\n",
       " '/home/misa/APDFT/prototyping/atomic_energies/results/slice_ve38/dsgdb9nsd_003148/atomic_energies.txt',\n",
       " '/home/misa/APDFT/prototyping/atomic_energies/results/slice_ve38/dsgdb9nsd_003152/atomic_energies.txt',\n",
       " '/home/misa/APDFT/prototyping/atomic_energies/results/slice_ve38/dsgdb9nsd_003167/atomic_energies.txt',\n",
       " '/home/misa/APDFT/prototyping/atomic_energies/results/slice_ve38/dsgdb9nsd_003170/atomic_energies.txt',\n",
       " '/home/misa/APDFT/prototyping/atomic_energies/results/slice_ve38/dsgdb9nsd_003193/atomic_energies.txt',\n",
       " '/home/misa/APDFT/prototyping/atomic_energies/results/slice_ve38/dsgdb9nsd_003195/atomic_energies.txt',\n",
       " '/home/misa/APDFT/prototyping/atomic_energies/results/slice_ve38/dsgdb9nsd_003203/atomic_energies.txt',\n",
       " '/home/misa/APDFT/prototyping/atomic_energies/results/slice_ve38/dsgdb9nsd_003204/atomic_energies.txt',\n",
       " '/home/misa/APDFT/prototyping/atomic_energies/results/slice_ve38/dsgdb9nsd_003206/atomic_energies.txt',\n",
       " '/home/misa/APDFT/prototyping/atomic_energies/results/slice_ve38/dsgdb9nsd_003209/atomic_energies.txt',\n",
       " '/home/misa/APDFT/prototyping/atomic_energies/results/slice_ve38/dsgdb9nsd_003211/atomic_energies.txt',\n",
       " '/home/misa/APDFT/prototyping/atomic_energies/results/slice_ve38/dsgdb9nsd_003212/atomic_energies.txt',\n",
       " '/home/misa/APDFT/prototyping/atomic_energies/results/slice_ve38/dsgdb9nsd_003224/atomic_energies.txt',\n",
       " '/home/misa/APDFT/prototyping/atomic_energies/results/slice_ve38/dsgdb9nsd_003225/atomic_energies.txt',\n",
       " '/home/misa/APDFT/prototyping/atomic_energies/results/slice_ve38/dsgdb9nsd_003227/atomic_energies.txt',\n",
       " '/home/misa/APDFT/prototyping/atomic_energies/results/slice_ve38/dsgdb9nsd_003228/atomic_energies.txt',\n",
       " '/home/misa/APDFT/prototyping/atomic_energies/results/slice_ve38/dsgdb9nsd_003232/atomic_energies.txt',\n",
       " '/home/misa/APDFT/prototyping/atomic_energies/results/slice_ve38/dsgdb9nsd_003233/atomic_energies.txt',\n",
       " '/home/misa/APDFT/prototyping/atomic_energies/results/slice_ve38/dsgdb9nsd_003234/atomic_energies.txt',\n",
       " '/home/misa/APDFT/prototyping/atomic_energies/results/slice_ve38/dsgdb9nsd_003236/atomic_energies.txt',\n",
       " '/home/misa/APDFT/prototyping/atomic_energies/results/slice_ve38/dsgdb9nsd_003237/atomic_energies.txt',\n",
       " '/home/misa/APDFT/prototyping/atomic_energies/results/slice_ve38/dsgdb9nsd_003238/atomic_energies.txt',\n",
       " '/home/misa/APDFT/prototyping/atomic_energies/results/slice_ve38/dsgdb9nsd_003248/atomic_energies.txt',\n",
       " '/home/misa/APDFT/prototyping/atomic_energies/results/slice_ve38/dsgdb9nsd_003252/atomic_energies.txt',\n",
       " '/home/misa/APDFT/prototyping/atomic_energies/results/slice_ve38/dsgdb9nsd_003254/atomic_energies.txt',\n",
       " '/home/misa/APDFT/prototyping/atomic_energies/results/slice_ve38/dsgdb9nsd_003255/atomic_energies.txt',\n",
       " '/home/misa/APDFT/prototyping/atomic_energies/results/slice_ve38/dsgdb9nsd_003256/atomic_energies.txt',\n",
       " '/home/misa/APDFT/prototyping/atomic_energies/results/slice_ve38/dsgdb9nsd_003259/atomic_energies.txt',\n",
       " '/home/misa/APDFT/prototyping/atomic_energies/results/slice_ve38/dsgdb9nsd_003260/atomic_energies.txt',\n",
       " '/home/misa/APDFT/prototyping/atomic_energies/results/slice_ve38/dsgdb9nsd_003262/atomic_energies.txt',\n",
       " '/home/misa/APDFT/prototyping/atomic_energies/results/slice_ve38/dsgdb9nsd_003273/atomic_energies.txt',\n",
       " '/home/misa/APDFT/prototyping/atomic_energies/results/slice_ve38/dsgdb9nsd_003275/atomic_energies.txt',\n",
       " '/home/misa/APDFT/prototyping/atomic_energies/results/slice_ve38/dsgdb9nsd_003276/atomic_energies.txt',\n",
       " '/home/misa/APDFT/prototyping/atomic_energies/results/slice_ve38/dsgdb9nsd_003279/atomic_energies.txt',\n",
       " '/home/misa/APDFT/prototyping/atomic_energies/results/slice_ve38/dsgdb9nsd_003280/atomic_energies.txt',\n",
       " '/home/misa/APDFT/prototyping/atomic_energies/results/slice_ve38/dsgdb9nsd_003281/atomic_energies.txt',\n",
       " '/home/misa/APDFT/prototyping/atomic_energies/results/slice_ve38/dsgdb9nsd_003284/atomic_energies.txt',\n",
       " '/home/misa/APDFT/prototyping/atomic_energies/results/slice_ve38/dsgdb9nsd_003285/atomic_energies.txt',\n",
       " '/home/misa/APDFT/prototyping/atomic_energies/results/slice_ve38/dsgdb9nsd_003309/atomic_energies.txt',\n",
       " '/home/misa/APDFT/prototyping/atomic_energies/results/slice_ve38/dsgdb9nsd_003310/atomic_energies.txt',\n",
       " '/home/misa/APDFT/prototyping/atomic_energies/results/slice_ve38/dsgdb9nsd_003313/atomic_energies.txt',\n",
       " '/home/misa/APDFT/prototyping/atomic_energies/results/slice_ve38/dsgdb9nsd_003314/atomic_energies.txt',\n",
       " '/home/misa/APDFT/prototyping/atomic_energies/results/slice_ve38/dsgdb9nsd_003315/atomic_energies.txt',\n",
       " '/home/misa/APDFT/prototyping/atomic_energies/results/slice_ve38/dsgdb9nsd_003331/atomic_energies.txt',\n",
       " '/home/misa/APDFT/prototyping/atomic_energies/results/slice_ve38/dsgdb9nsd_003333/atomic_energies.txt',\n",
       " '/home/misa/APDFT/prototyping/atomic_energies/results/slice_ve38/dsgdb9nsd_003335/atomic_energies.txt',\n",
       " '/home/misa/APDFT/prototyping/atomic_energies/results/slice_ve38/dsgdb9nsd_003336/atomic_energies.txt',\n",
       " '/home/misa/APDFT/prototyping/atomic_energies/results/slice_ve38/dsgdb9nsd_003349/atomic_energies.txt',\n",
       " '/home/misa/APDFT/prototyping/atomic_energies/results/slice_ve38/dsgdb9nsd_003350/atomic_energies.txt',\n",
       " '/home/misa/APDFT/prototyping/atomic_energies/results/slice_ve38/dsgdb9nsd_003352/atomic_energies.txt',\n",
       " '/home/misa/APDFT/prototyping/atomic_energies/results/slice_ve38/dsgdb9nsd_003353/atomic_energies.txt',\n",
       " '/home/misa/APDFT/prototyping/atomic_energies/results/slice_ve38/dsgdb9nsd_003362/atomic_energies.txt',\n",
       " '/home/misa/APDFT/prototyping/atomic_energies/results/slice_ve38/dsgdb9nsd_003364/atomic_energies.txt',\n",
       " '/home/misa/APDFT/prototyping/atomic_energies/results/slice_ve38/dsgdb9nsd_003383/atomic_energies.txt',\n",
       " '/home/misa/APDFT/prototyping/atomic_energies/results/slice_ve38/dsgdb9nsd_003392/atomic_energies.txt',\n",
       " '/home/misa/APDFT/prototyping/atomic_energies/results/slice_ve38/dsgdb9nsd_003393/atomic_energies.txt',\n",
       " '/home/misa/APDFT/prototyping/atomic_energies/results/slice_ve38/dsgdb9nsd_003394/atomic_energies.txt',\n",
       " '/home/misa/APDFT/prototyping/atomic_energies/results/slice_ve38/dsgdb9nsd_003397/atomic_energies.txt',\n",
       " '/home/misa/APDFT/prototyping/atomic_energies/results/slice_ve38/dsgdb9nsd_003416/atomic_energies.txt',\n",
       " '/home/misa/APDFT/prototyping/atomic_energies/results/slice_ve38/dsgdb9nsd_003417/atomic_energies.txt',\n",
       " '/home/misa/APDFT/prototyping/atomic_energies/results/slice_ve38/dsgdb9nsd_003419/atomic_energies.txt',\n",
       " '/home/misa/APDFT/prototyping/atomic_energies/results/slice_ve38/dsgdb9nsd_003422/atomic_energies.txt',\n",
       " '/home/misa/APDFT/prototyping/atomic_energies/results/slice_ve38/dsgdb9nsd_003427/atomic_energies.txt',\n",
       " '/home/misa/APDFT/prototyping/atomic_energies/results/slice_ve38/dsgdb9nsd_003430/atomic_energies.txt',\n",
       " '/home/misa/APDFT/prototyping/atomic_energies/results/slice_ve38/dsgdb9nsd_003432/atomic_energies.txt',\n",
       " '/home/misa/APDFT/prototyping/atomic_energies/results/slice_ve38/dsgdb9nsd_003435/atomic_energies.txt',\n",
       " '/home/misa/APDFT/prototyping/atomic_energies/results/slice_ve38/dsgdb9nsd_003439/atomic_energies.txt',\n",
       " '/home/misa/APDFT/prototyping/atomic_energies/results/slice_ve38/dsgdb9nsd_003440/atomic_energies.txt',\n",
       " '/home/misa/APDFT/prototyping/atomic_energies/results/slice_ve38/dsgdb9nsd_003442/atomic_energies.txt',\n",
       " '/home/misa/APDFT/prototyping/atomic_energies/results/slice_ve38/dsgdb9nsd_003461/atomic_energies.txt',\n",
       " '/home/misa/APDFT/prototyping/atomic_energies/results/slice_ve38/dsgdb9nsd_003462/atomic_energies.txt',\n",
       " '/home/misa/APDFT/prototyping/atomic_energies/results/slice_ve38/dsgdb9nsd_003463/atomic_energies.txt',\n",
       " '/home/misa/APDFT/prototyping/atomic_energies/results/slice_ve38/dsgdb9nsd_003465/atomic_energies.txt',\n",
       " '/home/misa/APDFT/prototyping/atomic_energies/results/slice_ve38/dsgdb9nsd_003474/atomic_energies.txt',\n",
       " '/home/misa/APDFT/prototyping/atomic_energies/results/slice_ve38/dsgdb9nsd_003476/atomic_energies.txt',\n",
       " '/home/misa/APDFT/prototyping/atomic_energies/results/slice_ve38/dsgdb9nsd_003487/atomic_energies.txt',\n",
       " '/home/misa/APDFT/prototyping/atomic_energies/results/slice_ve38/dsgdb9nsd_003488/atomic_energies.txt',\n",
       " '/home/misa/APDFT/prototyping/atomic_energies/results/slice_ve38/dsgdb9nsd_003490/atomic_energies.txt',\n",
       " '/home/misa/APDFT/prototyping/atomic_energies/results/slice_ve38/dsgdb9nsd_003491/atomic_energies.txt',\n",
       " '/home/misa/APDFT/prototyping/atomic_energies/results/slice_ve38/dsgdb9nsd_003492/atomic_energies.txt',\n",
       " '/home/misa/APDFT/prototyping/atomic_energies/results/slice_ve38/dsgdb9nsd_003501/atomic_energies.txt',\n",
       " '/home/misa/APDFT/prototyping/atomic_energies/results/slice_ve38/dsgdb9nsd_003503/atomic_energies.txt',\n",
       " '/home/misa/APDFT/prototyping/atomic_energies/results/slice_ve38/dsgdb9nsd_003523/atomic_energies.txt',\n",
       " '/home/misa/APDFT/prototyping/atomic_energies/results/slice_ve38/dsgdb9nsd_003524/atomic_energies.txt',\n",
       " '/home/misa/APDFT/prototyping/atomic_energies/results/slice_ve38/dsgdb9nsd_003525/atomic_energies.txt',\n",
       " '/home/misa/APDFT/prototyping/atomic_energies/results/slice_ve38/dsgdb9nsd_003527/atomic_energies.txt',\n",
       " '/home/misa/APDFT/prototyping/atomic_energies/results/slice_ve38/dsgdb9nsd_003529/atomic_energies.txt',\n",
       " '/home/misa/APDFT/prototyping/atomic_energies/results/slice_ve38/dsgdb9nsd_003531/atomic_energies.txt',\n",
       " '/home/misa/APDFT/prototyping/atomic_energies/results/slice_ve38/dsgdb9nsd_003534/atomic_energies.txt',\n",
       " '/home/misa/APDFT/prototyping/atomic_energies/results/slice_ve38/dsgdb9nsd_003535/atomic_energies.txt',\n",
       " '/home/misa/APDFT/prototyping/atomic_energies/results/slice_ve38/dsgdb9nsd_003541/atomic_energies.txt',\n",
       " '/home/misa/APDFT/prototyping/atomic_energies/results/slice_ve38/dsgdb9nsd_003549/atomic_energies.txt',\n",
       " '/home/misa/APDFT/prototyping/atomic_energies/results/slice_ve38/dsgdb9nsd_003550/atomic_energies.txt',\n",
       " '/home/misa/APDFT/prototyping/atomic_energies/results/slice_ve38/dsgdb9nsd_003551/atomic_energies.txt',\n",
       " '/home/misa/APDFT/prototyping/atomic_energies/results/slice_ve38/dsgdb9nsd_003552/atomic_energies.txt',\n",
       " '/home/misa/APDFT/prototyping/atomic_energies/results/slice_ve38/dsgdb9nsd_003553/atomic_energies.txt',\n",
       " '/home/misa/APDFT/prototyping/atomic_energies/results/slice_ve38/dsgdb9nsd_003554/atomic_energies.txt',\n",
       " '/home/misa/APDFT/prototyping/atomic_energies/results/slice_ve38/dsgdb9nsd_003556/atomic_energies.txt',\n",
       " '/home/misa/APDFT/prototyping/atomic_energies/results/slice_ve38/dsgdb9nsd_003559/atomic_energies.txt',\n",
       " '/home/misa/APDFT/prototyping/atomic_energies/results/slice_ve38/dsgdb9nsd_003562/atomic_energies.txt',\n",
       " '/home/misa/APDFT/prototyping/atomic_energies/results/slice_ve38/dsgdb9nsd_003563/atomic_energies.txt',\n",
       " '/home/misa/APDFT/prototyping/atomic_energies/results/slice_ve38/dsgdb9nsd_003564/atomic_energies.txt',\n",
       " '/home/misa/APDFT/prototyping/atomic_energies/results/slice_ve38/dsgdb9nsd_003565/atomic_energies.txt',\n",
       " '/home/misa/APDFT/prototyping/atomic_energies/results/slice_ve38/dsgdb9nsd_003573/atomic_energies.txt',\n",
       " '/home/misa/APDFT/prototyping/atomic_energies/results/slice_ve38/dsgdb9nsd_003576/atomic_energies.txt',\n",
       " '/home/misa/APDFT/prototyping/atomic_energies/results/slice_ve38/dsgdb9nsd_003578/atomic_energies.txt',\n",
       " '/home/misa/APDFT/prototyping/atomic_energies/results/slice_ve38/dsgdb9nsd_003580/atomic_energies.txt',\n",
       " '/home/misa/APDFT/prototyping/atomic_energies/results/slice_ve38/dsgdb9nsd_003581/atomic_energies.txt',\n",
       " '/home/misa/APDFT/prototyping/atomic_energies/results/slice_ve38/dsgdb9nsd_003583/atomic_energies.txt',\n",
       " '/home/misa/APDFT/prototyping/atomic_energies/results/slice_ve38/dsgdb9nsd_003585/atomic_energies.txt',\n",
       " '/home/misa/APDFT/prototyping/atomic_energies/results/slice_ve38/dsgdb9nsd_003586/atomic_energies.txt',\n",
       " '/home/misa/APDFT/prototyping/atomic_energies/results/slice_ve38/dsgdb9nsd_003588/atomic_energies.txt',\n",
       " '/home/misa/APDFT/prototyping/atomic_energies/results/slice_ve38/dsgdb9nsd_003590/atomic_energies.txt',\n",
       " '/home/misa/APDFT/prototyping/atomic_energies/results/slice_ve38/dsgdb9nsd_003591/atomic_energies.txt',\n",
       " '/home/misa/APDFT/prototyping/atomic_energies/results/slice_ve38/dsgdb9nsd_003608/atomic_energies.txt',\n",
       " '/home/misa/APDFT/prototyping/atomic_energies/results/slice_ve38/dsgdb9nsd_003609/atomic_energies.txt',\n",
       " '/home/misa/APDFT/prototyping/atomic_energies/results/slice_ve38/dsgdb9nsd_003615/atomic_energies.txt',\n",
       " '/home/misa/APDFT/prototyping/atomic_energies/results/slice_ve38/dsgdb9nsd_003616/atomic_energies.txt',\n",
       " '/home/misa/APDFT/prototyping/atomic_energies/results/slice_ve38/dsgdb9nsd_003617/atomic_energies.txt',\n",
       " '/home/misa/APDFT/prototyping/atomic_energies/results/slice_ve38/dsgdb9nsd_003618/atomic_energies.txt',\n",
       " '/home/misa/APDFT/prototyping/atomic_energies/results/slice_ve38/dsgdb9nsd_003653/atomic_energies.txt',\n",
       " '/home/misa/APDFT/prototyping/atomic_energies/results/slice_ve38/dsgdb9nsd_003658/atomic_energies.txt',\n",
       " '/home/misa/APDFT/prototyping/atomic_energies/results/slice_ve38/dsgdb9nsd_003659/atomic_energies.txt',\n",
       " '/home/misa/APDFT/prototyping/atomic_energies/results/slice_ve38/dsgdb9nsd_003660/atomic_energies.txt',\n",
       " '/home/misa/APDFT/prototyping/atomic_energies/results/slice_ve38/dsgdb9nsd_003661/atomic_energies.txt',\n",
       " '/home/misa/APDFT/prototyping/atomic_energies/results/slice_ve38/dsgdb9nsd_003662/atomic_energies.txt',\n",
       " '/home/misa/APDFT/prototyping/atomic_energies/results/slice_ve38/dsgdb9nsd_003663/atomic_energies.txt',\n",
       " '/home/misa/APDFT/prototyping/atomic_energies/results/slice_ve38/dsgdb9nsd_003664/atomic_energies.txt',\n",
       " '/home/misa/APDFT/prototyping/atomic_energies/results/slice_ve38/dsgdb9nsd_003665/atomic_energies.txt',\n",
       " '/home/misa/APDFT/prototyping/atomic_energies/results/slice_ve38/dsgdb9nsd_003666/atomic_energies.txt',\n",
       " '/home/misa/APDFT/prototyping/atomic_energies/results/slice_ve38/dsgdb9nsd_003670/atomic_energies.txt',\n",
       " '/home/misa/APDFT/prototyping/atomic_energies/results/slice_ve38/dsgdb9nsd_003673/atomic_energies.txt',\n",
       " '/home/misa/APDFT/prototyping/atomic_energies/results/slice_ve38/dsgdb9nsd_003680/atomic_energies.txt',\n",
       " '/home/misa/APDFT/prototyping/atomic_energies/results/slice_ve38/dsgdb9nsd_003681/atomic_energies.txt',\n",
       " '/home/misa/APDFT/prototyping/atomic_energies/results/slice_ve38/dsgdb9nsd_003684/atomic_energies.txt',\n",
       " '/home/misa/APDFT/prototyping/atomic_energies/results/slice_ve38/dsgdb9nsd_003685/atomic_energies.txt',\n",
       " '/home/misa/APDFT/prototyping/atomic_energies/results/slice_ve38/dsgdb9nsd_003693/atomic_energies.txt',\n",
       " '/home/misa/APDFT/prototyping/atomic_energies/results/slice_ve38/dsgdb9nsd_003695/atomic_energies.txt',\n",
       " '/home/misa/APDFT/prototyping/atomic_energies/results/slice_ve38/dsgdb9nsd_003696/atomic_energies.txt',\n",
       " '/home/misa/APDFT/prototyping/atomic_energies/results/slice_ve38/dsgdb9nsd_003699/atomic_energies.txt',\n",
       " '/home/misa/APDFT/prototyping/atomic_energies/results/slice_ve38/dsgdb9nsd_003700/atomic_energies.txt',\n",
       " '/home/misa/APDFT/prototyping/atomic_energies/results/slice_ve38/dsgdb9nsd_003701/atomic_energies.txt',\n",
       " '/home/misa/APDFT/prototyping/atomic_energies/results/slice_ve38/dsgdb9nsd_003702/atomic_energies.txt',\n",
       " '/home/misa/APDFT/prototyping/atomic_energies/results/slice_ve38/dsgdb9nsd_003707/atomic_energies.txt',\n",
       " '/home/misa/APDFT/prototyping/atomic_energies/results/slice_ve38/dsgdb9nsd_003712/atomic_energies.txt',\n",
       " '/home/misa/APDFT/prototyping/atomic_energies/results/slice_ve38/dsgdb9nsd_003716/atomic_energies.txt',\n",
       " '/home/misa/APDFT/prototyping/atomic_energies/results/slice_ve38/dsgdb9nsd_003718/atomic_energies.txt',\n",
       " '/home/misa/APDFT/prototyping/atomic_energies/results/slice_ve38/dsgdb9nsd_003719/atomic_energies.txt',\n",
       " '/home/misa/APDFT/prototyping/atomic_energies/results/slice_ve38/dsgdb9nsd_003720/atomic_energies.txt',\n",
       " '/home/misa/APDFT/prototyping/atomic_energies/results/slice_ve38/dsgdb9nsd_003722/atomic_energies.txt',\n",
       " '/home/misa/APDFT/prototyping/atomic_energies/results/slice_ve38/dsgdb9nsd_003723/atomic_energies.txt',\n",
       " '/home/misa/APDFT/prototyping/atomic_energies/results/slice_ve38/dsgdb9nsd_003725/atomic_energies.txt',\n",
       " '/home/misa/APDFT/prototyping/atomic_energies/results/slice_ve38/dsgdb9nsd_003727/atomic_energies.txt',\n",
       " '/home/misa/APDFT/prototyping/atomic_energies/results/slice_ve38/dsgdb9nsd_003729/atomic_energies.txt',\n",
       " '/home/misa/APDFT/prototyping/atomic_energies/results/slice_ve38/dsgdb9nsd_003730/atomic_energies.txt',\n",
       " '/home/misa/APDFT/prototyping/atomic_energies/results/slice_ve38/dsgdb9nsd_003732/atomic_energies.txt',\n",
       " '/home/misa/APDFT/prototyping/atomic_energies/results/slice_ve38/dsgdb9nsd_003736/atomic_energies.txt',\n",
       " '/home/misa/APDFT/prototyping/atomic_energies/results/slice_ve38/dsgdb9nsd_003738/atomic_energies.txt',\n",
       " '/home/misa/APDFT/prototyping/atomic_energies/results/slice_ve38/dsgdb9nsd_003741/atomic_energies.txt',\n",
       " '/home/misa/APDFT/prototyping/atomic_energies/results/slice_ve38/dsgdb9nsd_003742/atomic_energies.txt',\n",
       " '/home/misa/APDFT/prototyping/atomic_energies/results/slice_ve38/dsgdb9nsd_003743/atomic_energies.txt',\n",
       " '/home/misa/APDFT/prototyping/atomic_energies/results/slice_ve38/dsgdb9nsd_003750/atomic_energies.txt',\n",
       " '/home/misa/APDFT/prototyping/atomic_energies/results/slice_ve38/dsgdb9nsd_003751/atomic_energies.txt',\n",
       " '/home/misa/APDFT/prototyping/atomic_energies/results/slice_ve38/dsgdb9nsd_003752/atomic_energies.txt',\n",
       " '/home/misa/APDFT/prototyping/atomic_energies/results/slice_ve38/dsgdb9nsd_003753/atomic_energies.txt',\n",
       " '/home/misa/APDFT/prototyping/atomic_energies/results/slice_ve38/dsgdb9nsd_003754/atomic_energies.txt',\n",
       " '/home/misa/APDFT/prototyping/atomic_energies/results/slice_ve38/dsgdb9nsd_003755/atomic_energies.txt',\n",
       " '/home/misa/APDFT/prototyping/atomic_energies/results/slice_ve38/dsgdb9nsd_003761/atomic_energies.txt',\n",
       " '/home/misa/APDFT/prototyping/atomic_energies/results/slice_ve38/dsgdb9nsd_003764/atomic_energies.txt',\n",
       " '/home/misa/APDFT/prototyping/atomic_energies/results/slice_ve38/dsgdb9nsd_003766/atomic_energies.txt',\n",
       " '/home/misa/APDFT/prototyping/atomic_energies/results/slice_ve38/dsgdb9nsd_003768/atomic_energies.txt',\n",
       " '/home/misa/APDFT/prototyping/atomic_energies/results/slice_ve38/dsgdb9nsd_003769/atomic_energies.txt',\n",
       " '/home/misa/APDFT/prototyping/atomic_energies/results/slice_ve38/dsgdb9nsd_003770/atomic_energies.txt',\n",
       " '/home/misa/APDFT/prototyping/atomic_energies/results/slice_ve38/dsgdb9nsd_003771/atomic_energies.txt',\n",
       " '/home/misa/APDFT/prototyping/atomic_energies/results/slice_ve38/dsgdb9nsd_003772/atomic_energies.txt',\n",
       " '/home/misa/APDFT/prototyping/atomic_energies/results/slice_ve38/dsgdb9nsd_003779/atomic_energies.txt',\n",
       " '/home/misa/APDFT/prototyping/atomic_energies/results/slice_ve38/dsgdb9nsd_003780/atomic_energies.txt',\n",
       " '/home/misa/APDFT/prototyping/atomic_energies/results/slice_ve38/dsgdb9nsd_003782/atomic_energies.txt',\n",
       " '/home/misa/APDFT/prototyping/atomic_energies/results/slice_ve38/dsgdb9nsd_003783/atomic_energies.txt',\n",
       " '/home/misa/APDFT/prototyping/atomic_energies/results/slice_ve38/dsgdb9nsd_003785/atomic_energies.txt',\n",
       " '/home/misa/APDFT/prototyping/atomic_energies/results/slice_ve38/dsgdb9nsd_003791/atomic_energies.txt',\n",
       " '/home/misa/APDFT/prototyping/atomic_energies/results/slice_ve38/dsgdb9nsd_003792/atomic_energies.txt',\n",
       " '/home/misa/APDFT/prototyping/atomic_energies/results/slice_ve38/dsgdb9nsd_003795/atomic_energies.txt',\n",
       " '/home/misa/APDFT/prototyping/atomic_energies/results/slice_ve38/dsgdb9nsd_003799/atomic_energies.txt',\n",
       " '/home/misa/APDFT/prototyping/atomic_energies/results/slice_ve38/dsgdb9nsd_003800/atomic_energies.txt',\n",
       " '/home/misa/APDFT/prototyping/atomic_energies/results/slice_ve38/dsgdb9nsd_003803/atomic_energies.txt',\n",
       " '/home/misa/APDFT/prototyping/atomic_energies/results/slice_ve38/dsgdb9nsd_003805/atomic_energies.txt',\n",
       " '/home/misa/APDFT/prototyping/atomic_energies/results/slice_ve38/dsgdb9nsd_003808/atomic_energies.txt',\n",
       " '/home/misa/APDFT/prototyping/atomic_energies/results/slice_ve38/dsgdb9nsd_003810/atomic_energies.txt',\n",
       " '/home/misa/APDFT/prototyping/atomic_energies/results/slice_ve38/dsgdb9nsd_003812/atomic_energies.txt',\n",
       " '/home/misa/APDFT/prototyping/atomic_energies/results/slice_ve38/dsgdb9nsd_003852/atomic_energies.txt',\n",
       " '/home/misa/APDFT/prototyping/atomic_energies/results/slice_ve38/dsgdb9nsd_003853/atomic_energies.txt',\n",
       " '/home/misa/APDFT/prototyping/atomic_energies/results/slice_ve38/dsgdb9nsd_003854/atomic_energies.txt',\n",
       " '/home/misa/APDFT/prototyping/atomic_energies/results/slice_ve38/dsgdb9nsd_003855/atomic_energies.txt',\n",
       " '/home/misa/APDFT/prototyping/atomic_energies/results/slice_ve38/dsgdb9nsd_003856/atomic_energies.txt',\n",
       " '/home/misa/APDFT/prototyping/atomic_energies/results/slice_ve38/dsgdb9nsd_003867/atomic_energies.txt',\n",
       " '/home/misa/APDFT/prototyping/atomic_energies/results/slice_ve38/dsgdb9nsd_003868/atomic_energies.txt',\n",
       " '/home/misa/APDFT/prototyping/atomic_energies/results/slice_ve38/dsgdb9nsd_003870/atomic_energies.txt',\n",
       " '/home/misa/APDFT/prototyping/atomic_energies/results/slice_ve38/dsgdb9nsd_003871/atomic_energies.txt',\n",
       " '/home/misa/APDFT/prototyping/atomic_energies/results/slice_ve38/dsgdb9nsd_003880/atomic_energies.txt',\n",
       " '/home/misa/APDFT/prototyping/atomic_energies/results/slice_ve38/dsgdb9nsd_003881/atomic_energies.txt',\n",
       " '/home/misa/APDFT/prototyping/atomic_energies/results/slice_ve38/dsgdb9nsd_003882/atomic_energies.txt',\n",
       " '/home/misa/APDFT/prototyping/atomic_energies/results/slice_ve38/dsgdb9nsd_003884/atomic_energies.txt',\n",
       " '/home/misa/APDFT/prototyping/atomic_energies/results/slice_ve38/dsgdb9nsd_003886/atomic_energies.txt',\n",
       " '/home/misa/APDFT/prototyping/atomic_energies/results/slice_ve38/dsgdb9nsd_003890/atomic_energies.txt',\n",
       " '/home/misa/APDFT/prototyping/atomic_energies/results/slice_ve38/dsgdb9nsd_003892/atomic_energies.txt',\n",
       " '/home/misa/APDFT/prototyping/atomic_energies/results/slice_ve38/dsgdb9nsd_003933/atomic_energies.txt',\n",
       " '/home/misa/APDFT/prototyping/atomic_energies/results/slice_ve38/dsgdb9nsd_003940/atomic_energies.txt',\n",
       " '/home/misa/APDFT/prototyping/atomic_energies/results/slice_ve38/dsgdb9nsd_003942/atomic_energies.txt',\n",
       " '/home/misa/APDFT/prototyping/atomic_energies/results/slice_ve38/dsgdb9nsd_003943/atomic_energies.txt',\n",
       " '/home/misa/APDFT/prototyping/atomic_energies/results/slice_ve38/dsgdb9nsd_003944/atomic_energies.txt',\n",
       " '/home/misa/APDFT/prototyping/atomic_energies/results/slice_ve38/dsgdb9nsd_003945/atomic_energies.txt',\n",
       " '/home/misa/APDFT/prototyping/atomic_energies/results/slice_ve38/dsgdb9nsd_003947/atomic_energies.txt',\n",
       " '/home/misa/APDFT/prototyping/atomic_energies/results/slice_ve38/dsgdb9nsd_003948/atomic_energies.txt',\n",
       " '/home/misa/APDFT/prototyping/atomic_energies/results/slice_ve38/dsgdb9nsd_003950/atomic_energies.txt',\n",
       " '/home/misa/APDFT/prototyping/atomic_energies/results/slice_ve38/dsgdb9nsd_003951/atomic_energies.txt',\n",
       " '/home/misa/APDFT/prototyping/atomic_energies/results/slice_ve38/dsgdb9nsd_003956/atomic_energies.txt',\n",
       " '/home/misa/APDFT/prototyping/atomic_energies/results/slice_ve38/dsgdb9nsd_003957/atomic_energies.txt',\n",
       " '/home/misa/APDFT/prototyping/atomic_energies/results/slice_ve38/dsgdb9nsd_003958/atomic_energies.txt',\n",
       " '/home/misa/APDFT/prototyping/atomic_energies/results/slice_ve38/dsgdb9nsd_003961/atomic_energies.txt',\n",
       " '/home/misa/APDFT/prototyping/atomic_energies/results/slice_ve38/dsgdb9nsd_005342/atomic_energies.txt',\n",
       " '/home/misa/APDFT/prototyping/atomic_energies/results/slice_ve38/dsgdb9nsd_005344/atomic_energies.txt',\n",
       " '/home/misa/APDFT/prototyping/atomic_energies/results/slice_ve38/dsgdb9nsd_005347/atomic_energies.txt',\n",
       " '/home/misa/APDFT/prototyping/atomic_energies/results/slice_ve38/dsgdb9nsd_005351/atomic_energies.txt',\n",
       " '/home/misa/APDFT/prototyping/atomic_energies/results/slice_ve38/dsgdb9nsd_005352/atomic_energies.txt',\n",
       " '/home/misa/APDFT/prototyping/atomic_energies/results/slice_ve38/dsgdb9nsd_008607/atomic_energies.txt',\n",
       " '/home/misa/APDFT/prototyping/atomic_energies/results/slice_ve38/dsgdb9nsd_008611/atomic_energies.txt',\n",
       " '/home/misa/APDFT/prototyping/atomic_energies/results/slice_ve38/dsgdb9nsd_008614/atomic_energies.txt',\n",
       " '/home/misa/APDFT/prototyping/atomic_energies/results/slice_ve38/dsgdb9nsd_008720/atomic_energies.txt',\n",
       " '/home/misa/APDFT/prototyping/atomic_energies/results/slice_ve38/dsgdb9nsd_008975/atomic_energies.txt',\n",
       " '/home/misa/APDFT/prototyping/atomic_energies/results/slice_ve38/dsgdb9nsd_008977/atomic_energies.txt',\n",
       " '/home/misa/APDFT/prototyping/atomic_energies/results/slice_ve38/dsgdb9nsd_008978/atomic_energies.txt',\n",
       " '/home/misa/APDFT/prototyping/atomic_energies/results/slice_ve38/dsgdb9nsd_009025/atomic_energies.txt',\n",
       " '/home/misa/APDFT/prototyping/atomic_energies/results/slice_ve38/dsgdb9nsd_009026/atomic_energies.txt',\n",
       " '/home/misa/APDFT/prototyping/atomic_energies/results/slice_ve38/dsgdb9nsd_009029/atomic_energies.txt',\n",
       " '/home/misa/APDFT/prototyping/atomic_energies/results/slice_ve38/dsgdb9nsd_009030/atomic_energies.txt',\n",
       " '/home/misa/APDFT/prototyping/atomic_energies/results/slice_ve38/dsgdb9nsd_014567/atomic_energies.txt',\n",
       " '/home/misa/APDFT/prototyping/atomic_energies/results/slice_ve38/dsgdb9nsd_014568/atomic_energies.txt',\n",
       " '/home/misa/APDFT/prototyping/atomic_energies/results/slice_ve38/dsgdb9nsd_014569/atomic_energies.txt',\n",
       " '/home/misa/APDFT/prototyping/atomic_energies/results/slice_ve38/dsgdb9nsd_014638/atomic_energies.txt',\n",
       " '/home/misa/APDFT/prototyping/atomic_energies/results/slice_ve38/dsgdb9nsd_014656/atomic_energies.txt',\n",
       " '/home/misa/APDFT/prototyping/atomic_energies/results/slice_ve38/dsgdb9nsd_014657/atomic_energies.txt',\n",
       " '/home/misa/APDFT/prototyping/atomic_energies/results/slice_ve38/dsgdb9nsd_019631/atomic_energies.txt',\n",
       " '/home/misa/APDFT/prototyping/atomic_energies/results/slice_ve38/dsgdb9nsd_019637/atomic_energies.txt',\n",
       " '/home/misa/APDFT/prototyping/atomic_energies/results/slice_ve38/dsgdb9nsd_021325/atomic_energies.txt']"
      ]
     },
     "execution_count": 4,
     "metadata": {},
     "output_type": "execute_result"
    }
   ],
   "source": [
    "paths"
   ]
  },
  {
   "cell_type": "code",
   "execution_count": 5,
   "metadata": {},
   "outputs": [],
   "source": [
    "# load data into list, count number of atoms per molecule\n",
    "alchemy_data, molecule_size = qi.load_alchemy_data(paths)\n",
    "max_size = np.amax(molecule_size)"
   ]
  },
  {
   "cell_type": "code",
   "execution_count": 6,
   "metadata": {
    "scrolled": true
   },
   "outputs": [
    {
     "data": {
      "text/plain": [
       "array([[  6.        ,  18.096977  ,  21.64438   ,  19.081327  ,\n",
       "         -6.61849788, -39.71098726,   0.2635706 ],\n",
       "       [  6.        ,  18.203213  ,  18.749054  ,  19.081635  ,\n",
       "         -7.57298056, -45.43788334,  -5.46332548],\n",
       "       [  6.        ,  19.554795  ,  17.743611  ,  21.438864  ,\n",
       "         -6.61902749, -39.71416497,   0.2603929 ],\n",
       "       [  8.        ,  15.710188  ,  17.711578  ,  18.906942  ,\n",
       "         -7.40431151, -59.23449211,  17.95787275],\n",
       "       [  6.        ,  19.49281   ,  17.776523  ,  16.674988  ,\n",
       "         -7.10548338, -42.63290029,  -2.65834243],\n",
       "       [  8.        ,  22.015057  ,  18.688861  ,  16.629396  ,\n",
       "         -7.24688103, -57.97504821,  19.21731665],\n",
       "       [  1.        ,  19.996976  ,  22.446056  ,  18.974885  ,\n",
       "         -5.81697921,  -5.81697921,  -3.18892035],\n",
       "       [  1.        ,  17.003736  ,  22.314421  ,  17.45944   ,\n",
       "         -5.71357123,  -5.71357123,  -3.08551237],\n",
       "       [  1.        ,  17.191433  ,  22.343892  ,  20.80822   ,\n",
       "         -5.63130247,  -5.63130247,  -3.00324361],\n",
       "       [  1.        ,  18.644964  ,  18.449302  ,  23.16098   ,\n",
       "         -5.63299738,  -5.63299738,  -3.00493852],\n",
       "       [  1.        ,  19.485748  ,  15.677481  ,  21.469757  ,\n",
       "         -5.71137702,  -5.71137702,  -3.08331816],\n",
       "       [  1.        ,  21.531776  ,  18.339575  ,  21.458918  ,\n",
       "         -5.81627696,  -5.81627696,  -3.1882181 ],\n",
       "       [  1.        ,  14.784662  ,  18.255459  ,  20.375448  ,\n",
       "         -6.07458151,  -6.07458151,  -3.44652265],\n",
       "       [  1.        ,  19.426217  ,  15.698905  ,  16.686512  ,\n",
       "         -5.98155974,  -5.98155974,  -3.35350088],\n",
       "       [  1.        ,  18.405111  ,  18.438804  ,  15.032051  ,\n",
       "         -5.97825042,  -5.97825042,  -3.35019156],\n",
       "       [  1.        ,  22.812515  ,  18.078279  ,  15.116815  ,\n",
       "         -5.75175867,  -5.75175867,  -3.12369981]])"
      ]
     },
     "execution_count": 6,
     "metadata": {},
     "output_type": "execute_result"
    }
   ],
   "source": [
    "alchemy_data[0]"
   ]
  },
  {
   "cell_type": "markdown",
   "metadata": {},
   "source": [
    "# Generate Representation"
   ]
  },
  {
   "cell_type": "code",
   "execution_count": 7,
   "metadata": {},
   "outputs": [],
   "source": [
    "full_matrix = qi.generate_atomic_representations(alchemy_data, molecule_size)"
   ]
  },
  {
   "cell_type": "code",
   "execution_count": 8,
   "metadata": {
    "scrolled": true
   },
   "outputs": [
    {
     "data": {
      "text/plain": [
       "array([36.8581052 ,  2.90564209,  0.5       ,  2.90202439,  0.29783298,\n",
       "        0.5       ,  2.89632558,  0.29824015,  0.29813675,  0.5       ,\n",
       "       12.42547142,  1.45965075,  1.46463043,  1.45832007, 36.8581052 ,\n",
       "       10.42638392,  1.25250308,  1.60145182,  1.53203644, 17.73882949,\n",
       "       73.51669472,  7.55610262,  1.1473251 ,  1.14617054,  0.91244013,\n",
       "       12.42056885, 10.92771502, 36.8581052 ,  7.52302013,  1.12628243,\n",
       "        0.91249058,  1.1515959 , 12.42545717, 10.42673945,  7.55605187,\n",
       "       36.8581052 ,  1.22141684,  0.14634702,  0.1828714 ,  0.20991029,\n",
       "        1.6267345 ,  4.39791868,  0.99876007,  1.22101096,  0.5       ,\n",
       "        1.15970883,  0.17115149,  0.2090766 ,  0.14129868,  1.47548252,\n",
       "        1.67518612,  2.88643492,  0.91656672,  0.15487011,  0.5       ,\n",
       "        1.15145583,  0.16825061,  0.14122331,  0.20935322,  1.45838917,\n",
       "        1.53240998,  0.91245317,  2.89632917,  0.20989377,  0.12296382,\n",
       "        0.5       ,  1.12642505,  0.19846108,  0.1382789 ,  0.16831931,\n",
       "        1.45957844,  1.2524816 ,  1.14707037,  2.90563574,  0.14632566,\n",
       "        0.13990393,  0.29823866,  0.5       ,  8.74922262,  1.64362607,\n",
       "        1.28189662,  1.08776437, 10.58922906,  9.44721013, 17.89330459,\n",
       "        8.75228225,  0.9810277 ,  2.02251522,  1.08789174,  1.64399529,\n",
       "       73.51669472,  0.91658414,  0.13990946,  0.14109596,  0.12296246,\n",
       "        1.47549977,  1.67578194,  2.88639592,  1.1593861 ,  0.15487923,\n",
       "        0.29765405,  0.14128892,  0.17104047,  2.02255129,  0.5       ,\n",
       "        0.9124785 ,  0.13827761,  0.1228201 ,  0.14122019,  1.46460949,\n",
       "        1.60126792,  1.14632817,  2.90203567,  0.18274577,  0.14108774,\n",
       "        0.29814048,  0.29783687,  1.28275469,  0.20904481,  0.5       ,\n",
       "        0.84289343,  0.15450684,  0.13225072,  0.11030776,  0.98090296,\n",
       "        0.99271644,  1.63061534,  0.84270788,  0.10418304,  0.2260941 ,\n",
       "        0.11028722,  0.15443055,  4.40609144,  0.22592088,  0.13223178,\n",
       "        0.5       ,  0.        ,  0.        ,  0.        ,  0.        ,\n",
       "        0.        ,  0.        ,  0.        ,  0.        ,  0.        ,\n",
       "        0.        ,  0.        ,  0.        ,  0.        ,  0.        ,\n",
       "        0.        ,  0.        ,  0.        ,  0.        ,  0.        ,\n",
       "        0.        ,  0.        ,  0.        ,  0.        ,  0.        ,\n",
       "        0.        ,  0.        ,  0.        ,  0.        ,  0.        ,\n",
       "        0.        ,  0.        ,  0.        ,  0.        ,  0.        ,\n",
       "        0.        ,  0.        ,  0.        ,  0.        ,  0.        ,\n",
       "        0.        ,  0.        ,  0.        ,  0.        ,  0.        ,\n",
       "        0.        ,  0.        ,  0.        ,  0.        ,  0.        ,\n",
       "        0.        ,  0.        ,  0.        ,  0.        ,  0.        ,\n",
       "        0.        ,  0.        ,  0.        ,  0.        ,  0.        ,\n",
       "        0.        ,  0.        ,  0.        ,  0.        ,  0.        ,\n",
       "        0.        ,  0.        ,  0.        ,  0.        ,  0.        ,\n",
       "        0.        ,  0.        ,  0.        ,  0.        ,  0.        ])"
      ]
     },
     "execution_count": 8,
     "metadata": {},
     "output_type": "execute_result"
    }
   ],
   "source": [
    "full_matrix[0]"
   ]
  },
  {
   "cell_type": "markdown",
   "metadata": {},
   "source": [
    "# Calculate distance between representations"
   ]
  },
  {
   "cell_type": "code",
   "execution_count": 9,
   "metadata": {},
   "outputs": [],
   "source": [
    "dist = qi.calculate_distances(full_matrix)"
   ]
  },
  {
   "cell_type": "markdown",
   "metadata": {},
   "source": [
    "# Generate Label vector"
   ]
  },
  {
   "cell_type": "code",
   "execution_count": 10,
   "metadata": {},
   "outputs": [],
   "source": [
    "energies = qi.generate_label_vector(alchemy_data, molecule_size.sum())"
   ]
  },
  {
   "cell_type": "code",
   "execution_count": 11,
   "metadata": {},
   "outputs": [
    {
     "data": {
      "text/plain": [
       "array([ 0.2635706 , -5.46332548,  0.2603929 , ...,  3.10684318,\n",
       "       -5.36082098, -5.31307228])"
      ]
     },
     "execution_count": 11,
     "metadata": {},
     "output_type": "execute_result"
    }
   ],
   "source": [
    "energies"
   ]
  },
  {
   "cell_type": "markdown",
   "metadata": {},
   "source": [
    "# Difference between labels"
   ]
  },
  {
   "cell_type": "code",
   "execution_count": 12,
   "metadata": {},
   "outputs": [],
   "source": [
    "diff_shape = int(len(full_matrix)*(len(full_matrix)+1)/2)\n",
    "start=0\n",
    "width = len(full_matrix)\n",
    "en_diff = np.empty(diff_shape)\n",
    "for idx in range(0, len(full_matrix)):\n",
    "    en_diff[start:start+width] = np.abs(energies[idx]-energies[idx:])\n",
    "    start = start+width\n",
    "    width -= 1"
   ]
  },
  {
   "cell_type": "markdown",
   "metadata": {},
   "source": [
    "# Plots"
   ]
  },
  {
   "cell_type": "code",
   "execution_count": 13,
   "metadata": {},
   "outputs": [],
   "source": [
    "import matplotlib\n",
    "matplotlib.use('Qt5Agg')\n",
    "from matplotlib import pyplot as plt\n",
    "plt.rcParams.update({'font.size': 22})\n",
    "# import bokeh bokeh.figures, hovertool"
   ]
  },
  {
   "cell_type": "code",
   "execution_count": 14,
   "metadata": {},
   "outputs": [
    {
     "data": {
      "text/plain": [
       "Text(0, 0.5, '$|e_i - e_j|$')"
      ]
     },
     "execution_count": 14,
     "metadata": {},
     "output_type": "execute_result"
    }
   ],
   "source": [
    "# select random indices\n",
    "indices = np.random.choice(len(dist), 100000)\n",
    "indices = np.sort(indices)\n",
    "\n",
    "fig, ax = plt.subplots(1,1)\n",
    "\n",
    "ax.plot(np.take(dist, indices), np.take(en_diff, indices), 'o')\n",
    "ax.set_xlabel(r'$d_{ij} $')\n",
    "ax.set_ylabel('$|e_i - e_j|$')"
   ]
  },
  {
   "cell_type": "markdown",
   "metadata": {},
   "source": [
    "# Generate Kernel"
   ]
  },
  {
   "cell_type": "code",
   "execution_count": 15,
   "metadata": {},
   "outputs": [],
   "source": [
    "import qml.kernels"
   ]
  },
  {
   "cell_type": "code",
   "execution_count": 16,
   "metadata": {},
   "outputs": [
    {
     "data": {
      "text/plain": [
       "array([[36.8581052 ,  2.90564209,  0.5       , ...,  0.        ,\n",
       "         0.        ,  0.        ],\n",
       "       [36.8581052 , 17.73882949, 73.51669472, ...,  0.        ,\n",
       "         0.        ,  0.        ],\n",
       "       [36.8581052 ,  2.90563574,  0.5       , ...,  0.        ,\n",
       "         0.        ,  0.        ],\n",
       "       ...,\n",
       "       [53.3587074 , 19.54993299, 53.3587074 , ...,  0.        ,\n",
       "         0.        ,  0.        ],\n",
       "       [ 0.5       ,  2.92143402, 36.8581052 , ...,  0.        ,\n",
       "         0.        ,  0.        ],\n",
       "       [ 0.5       ,  2.92677017, 36.8581052 , ...,  0.        ,\n",
       "         0.        ,  0.        ]])"
      ]
     },
     "execution_count": 16,
     "metadata": {},
     "output_type": "execute_result"
    }
   ],
   "source": [
    "full_matrix"
   ]
  },
  {
   "cell_type": "code",
   "execution_count": 17,
   "metadata": {},
   "outputs": [],
   "source": [
    "gaussian_kernel = qml.kernels.gaussian_kernel(full_matrix, full_matrix, 50)"
   ]
  },
  {
   "cell_type": "code",
   "execution_count": 18,
   "metadata": {},
   "outputs": [
    {
     "data": {
      "text/plain": [
       "(7584, 7584)"
      ]
     },
     "execution_count": 18,
     "metadata": {},
     "output_type": "execute_result"
    }
   ],
   "source": [
    "gaussian_kernel.shape"
   ]
  },
  {
   "cell_type": "code",
   "execution_count": 19,
   "metadata": {},
   "outputs": [],
   "source": [
    "# test if kernels.gaussian_kernel does what we want by comparing the kernel elements\n",
    "# to manually computed elements"
   ]
  },
  {
   "cell_type": "code",
   "execution_count": 20,
   "metadata": {},
   "outputs": [],
   "source": [
    "def kernel_element(rep_matrix, i, j, sigma):\n",
    "    d = np.linalg.norm(rep_matrix[i]-rep_matrix[j])\n",
    "    element = np.exp(-np.power(d,2)/(2*sigma**2))\n",
    "    return(element)"
   ]
  },
  {
   "cell_type": "code",
   "execution_count": 21,
   "metadata": {},
   "outputs": [
    {
     "data": {
      "text/plain": [
       "True"
      ]
     },
     "execution_count": 21,
     "metadata": {},
     "output_type": "execute_result"
    }
   ],
   "source": [
    "import math\n",
    "math.isclose(kernel_element(full_matrix, 0, 5, 50), gaussian_kernel[0,5])"
   ]
  },
  {
   "cell_type": "markdown",
   "metadata": {},
   "source": [
    "# Calculate Regression Coefficients"
   ]
  },
  {
   "cell_type": "code",
   "execution_count": 22,
   "metadata": {},
   "outputs": [],
   "source": [
    "import qml.math"
   ]
  },
  {
   "cell_type": "code",
   "execution_count": 23,
   "metadata": {},
   "outputs": [],
   "source": [
    "coefficients = qml.math.cho_solve(gaussian_kernel, energies)"
   ]
  },
  {
   "cell_type": "code",
   "execution_count": 24,
   "metadata": {},
   "outputs": [
    {
     "data": {
      "text/plain": [
       "(7584,)"
      ]
     },
     "execution_count": 24,
     "metadata": {},
     "output_type": "execute_result"
    }
   ],
   "source": [
    "coefficients.shape"
   ]
  },
  {
   "cell_type": "markdown",
   "metadata": {},
   "source": [
    "# Prediction"
   ]
  },
  {
   "cell_type": "code",
   "execution_count": 25,
   "metadata": {},
   "outputs": [],
   "source": [
    "# build training kernel by selecting elements from full kernel and their labels\n",
    "# solve for training kernel, labels to get coefficients\n",
    "# pick test data by selecting elements from full kernel that contain test element and training elements -> test kernel\n",
    "# predict label and compare\n"
   ]
  },
  {
   "cell_type": "code",
   "execution_count": 26,
   "metadata": {},
   "outputs": [],
   "source": [
    "import qml.kernels\n",
    "import qml.math"
   ]
  },
  {
   "cell_type": "code",
   "execution_count": 27,
   "metadata": {},
   "outputs": [],
   "source": [
    "# training\n",
    "tr_ind, test_ind = qi.get_indices(len(full_matrix), tr_size=5000)"
   ]
  },
  {
   "cell_type": "code",
   "execution_count": 28,
   "metadata": {},
   "outputs": [],
   "source": [
    "test_error, tr_error = qi.test(full_matrix, tr_ind, test_ind, energies, sigma=1000, lam_val=1e-8)"
   ]
  },
  {
   "cell_type": "code",
   "execution_count": 29,
   "metadata": {},
   "outputs": [
    {
     "data": {
      "text/plain": [
       "0.05685145103188737"
      ]
     },
     "execution_count": 29,
     "metadata": {},
     "output_type": "execute_result"
    }
   ],
   "source": [
    "test_error[1]"
   ]
  },
  {
   "cell_type": "code",
   "execution_count": 30,
   "metadata": {},
   "outputs": [
    {
     "name": "stdout",
     "output_type": "stream",
     "text": [
      "Max error 0.5719232900501989\n",
      "Min error 9.038185754484118e-06\n"
     ]
    }
   ],
   "source": [
    "print('Max error', str(np.amax(test_error[0])) )\n",
    "print('Min error', str(np.amin(test_error[0])))"
   ]
  },
  {
   "cell_type": "code",
   "execution_count": 31,
   "metadata": {},
   "outputs": [
    {
     "data": {
      "text/plain": [
       "5.282609418344464e-08"
      ]
     },
     "execution_count": 31,
     "metadata": {},
     "output_type": "execute_result"
    }
   ],
   "source": [
    "tr_error[1]"
   ]
  },
  {
   "cell_type": "code",
   "execution_count": 32,
   "metadata": {},
   "outputs": [
    {
     "name": "stdout",
     "output_type": "stream",
     "text": [
      "Max error 2.504269502878742e-07\n"
     ]
    }
   ],
   "source": [
    "print('Max error', str(np.amax(tr_error[0])) )"
   ]
  }
 ],
 "metadata": {
  "kernelspec": {
   "display_name": "Python (atmoic-energies)",
   "language": "python",
   "name": "atomic-energies"
  },
  "language_info": {
   "codemirror_mode": {
    "name": "ipython",
    "version": 3
   },
   "file_extension": ".py",
   "mimetype": "text/x-python",
   "name": "python",
   "nbconvert_exporter": "python",
   "pygments_lexer": "ipython3",
   "version": "3.7.3"
  }
 },
 "nbformat": 4,
 "nbformat_minor": 2
}
