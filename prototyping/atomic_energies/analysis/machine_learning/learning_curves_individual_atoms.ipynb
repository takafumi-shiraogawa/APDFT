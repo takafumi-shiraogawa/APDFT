{
 "cells": [
  {
   "cell_type": "code",
   "execution_count": 1,
   "metadata": {},
   "outputs": [],
   "source": [
    "import qml\n",
    "import numpy as np\n",
    "\n",
    "import sys\n",
    "sys.path.insert(0, '/home/misa/APDFT/prototyping/atomic_energies/')\n",
    "import alchemy_tools as alch\n",
    "import qml_interface as qi"
   ]
  },
  {
   "cell_type": "code",
   "execution_count": 2,
   "metadata": {},
   "outputs": [],
   "source": [
    "def save(set_sizes, error, std, fname):\n",
    "    big_array = np.array([set_sizes, error, std]).T\n",
    "#    big_array = np.flip(big_array, axis=0)\n",
    "    np.savetxt(fname, big_array, delimiter='\\t', header='set_size\\t error \\t error_std')"
   ]
  },
  {
   "cell_type": "code",
   "execution_count": 8,
   "metadata": {},
   "outputs": [],
   "source": [
    "# load data (with mic)\n",
    "paths=qi.wrapper_alch_data()\n",
    "alchemy_data, molecule_size = qi.load_alchemy_data(paths)\n",
    "\n",
    "# prepare representations and labels\n",
    "LABEL_VALUE = 'atomisation'\n",
    "local_reps = qi.generate_atomic_representations(alchemy_data, molecule_size)\n",
    "local_labels = qi.generate_label_vector(alchemy_data, molecule_size.sum(), value=LABEL_VALUE)\n",
    "\n",
    "# # read optimized hyperparameters\n",
    "# HYPAR_PATH = '/home/misa/APDFT/prototyping/atomic_energies/results/analyse_learning/mic/optimized_hyperpar_atomic_mic.txt'\n",
    "# with open(HYPAR_PATH, 'r') as f:\n",
    "#     lines = f.readlines()\n",
    "sigma = 432.8761281083057 #float(lines[2].split('\\t')[0])\n",
    "lam = 1e-7 #float(lines[2].split('\\t')[1])\n"
   ]
  },
  {
   "cell_type": "code",
   "execution_count": 9,
   "metadata": {},
   "outputs": [],
   "source": [
    "# define number of training points for which MAE is calculated\n",
    "set_sizes = np.logspace(0,12, 13, base=2).astype(int)\n",
    "\n",
    "# calculate error for every training point size\n",
    "error_cv = np.zeros(len(set_sizes))\n",
    "error_std = np.zeros(len(set_sizes))"
   ]
  },
  {
   "cell_type": "code",
   "execution_count": 10,
   "metadata": {},
   "outputs": [],
   "source": [
    "for idx, tr_size in enumerate(set_sizes):\n",
    "        error_cv[idx], error_std[idx] = qi.crossvalidate_per_atom(local_reps, local_labels, molecule_size, tr_size, sigma, lam, num_cross=10)"
   ]
  },
  {
   "cell_type": "code",
   "execution_count": 11,
   "metadata": {},
   "outputs": [],
   "source": [
    "name = '/home/misa/APDFT/prototyping/atomic_energies/results/analyse_learning/mic/lcurve_atomisation_atomic_per_atom.txt'\n",
    "save(set_sizes, error_cv, error_std, name)"
   ]
  },
  {
   "cell_type": "code",
   "execution_count": null,
   "metadata": {},
   "outputs": [],
   "source": []
  }
 ],
 "metadata": {
  "kernelspec": {
   "display_name": "Python [conda env:atomic-energies]",
   "language": "python",
   "name": "conda-env-atomic-energies-py"
  },
  "language_info": {
   "codemirror_mode": {
    "name": "ipython",
    "version": 3
   },
   "file_extension": ".py",
   "mimetype": "text/x-python",
   "name": "python",
   "nbconvert_exporter": "python",
   "pygments_lexer": "ipython3",
   "version": "3.7.3"
  }
 },
 "nbformat": 4,
 "nbformat_minor": 2
}
