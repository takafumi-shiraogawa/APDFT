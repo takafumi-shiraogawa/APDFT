{
 "cells": [
  {
   "cell_type": "code",
   "execution_count": 1,
   "metadata": {},
   "outputs": [],
   "source": [
    "import numpy as np\n",
    "import qml\n",
    "import sys\n",
    "sys.path.insert(0, '/home/misa/APDFT/prototyping/atomic_energies/')\n",
    "import qml_interface as qmi\n",
    "import glob\n",
    "import re\n",
    "\n",
    "import matplotlib\n",
    "matplotlib.use(\"Qt5Agg\")\n",
    "from matplotlib import pyplot as plt"
   ]
  },
  {
   "cell_type": "markdown",
   "metadata": {},
   "source": [
    "# data selection"
   ]
  },
  {
   "cell_type": "code",
   "execution_count": 2,
   "metadata": {},
   "outputs": [],
   "source": [
    "# kernel\n",
    "kernel_name = 'full_kernel_sig18.73817422860383'\n",
    "kernel_full = np.loadtxt('/home/misa/APDFT/prototyping/atomic_energies/results/analyse_learning/FCHL/kernels/'+kernel_name)"
   ]
  },
  {
   "cell_type": "code",
   "execution_count": 108,
   "metadata": {},
   "outputs": [],
   "source": [
    "# labels\n",
    "data, molecule_size = qmi.load_alchemy_data(qmi.wrapper_alch_data())\n",
    "prop = 'alch_pot'\n",
    "labels = qmi.generate_label_vector(data, molecule_size.sum(), value=prop)"
   ]
  },
  {
   "cell_type": "code",
   "execution_count": 109,
   "metadata": {},
   "outputs": [],
   "source": [
    "# test setup\n",
    "lam = 5e-11\n",
    "# tr_size = 500\n",
    "delta = False\n",
    "num_cross = 3\n",
    "tr_sl = dict.fromkeys(np.logspace(0, 9, 10, base=2), 0)"
   ]
  },
  {
   "cell_type": "code",
   "execution_count": 110,
   "metadata": {},
   "outputs": [],
   "source": [
    "for tr_size in tr_sl:\n",
    "    # cross validation\n",
    "    test_error_cv = []\n",
    "    for n in range(num_cross):\n",
    "        # select training and test data\n",
    "        global_tr, global_test = qmi.get_indices(len(molecule_size), int(tr_size))\n",
    "        tr_ind = qmi.get_local_idx(global_tr, molecule_size)\n",
    "        test_ind = qmi.get_local_idx(global_test, molecule_size)\n",
    "        tr_kernel, test_kernel = qmi.split_kernel(kernel_full, tr_ind, test_ind)\n",
    "\n",
    "        # train kernel\n",
    "        tr_kernel += np.identity(len(tr_kernel))*lam # add regularizer\n",
    "\n",
    "        if delta: # get labels\n",
    "            prop_mean = qmi.get_average_property(tr_ind, data, molecule_size, prop) # baseline for property\n",
    "            tr_label = labels[tr_ind] - qmi.get_label_delta(prop_mean, tr_ind, data, molecule_size)\n",
    "            test_label = labels[test_ind] - qmi.get_label_delta(prop_mean, test_ind, data, molecule_size)\n",
    "        else:\n",
    "            tr_label = labels[tr_ind]\n",
    "            test_label = labels[test_ind]\n",
    "\n",
    "        coeffs = qml.math.cho_solve(tr_kernel, tr_label) # get coefficients\n",
    "\n",
    "        # error calculation\n",
    "        pred_tr_label = np.dot(tr_kernel, coeffs) # training error\n",
    "        tr_error = np.abs(tr_label-pred_tr_label)\n",
    "        mean_tr_error = tr_error.mean()\n",
    "\n",
    "        pred_test_label = np.dot(test_kernel, coeffs) # test error\n",
    "        test_error = np.abs(test_label-pred_test_label)\n",
    "        test_error_cv.append(test_error.mean())\n",
    "    tr_sl[tr_size] = np.array(test_error_cv).mean()"
   ]
  },
  {
   "cell_type": "code",
   "execution_count": 112,
   "metadata": {},
   "outputs": [],
   "source": [
    "lcurve = np.array(list(tr_sl.items()))\n",
    "basepath = '/home/misa/APDFT/prototyping/atomic_energies/results/analyse_learning/FCHL/delta_learning/alch_pot/'\n",
    "if delta:\n",
    "    np.savetxt(basepath+'delta_lcurve', lcurve, delimiter='\\t', header='{}-fold cv, sigma = 18, lambda = {}'.format(num_cross, lam))\n",
    "else:\n",
    "    np.savetxt(basepath+'lcurve', lcurve, delimiter='\\t', header='{}-fold cv, sigma = 18, lambda = {}'.format(num_cross, lam))\n",
    "    "
   ]
  },
  {
   "cell_type": "code",
   "execution_count": 114,
   "metadata": {},
   "outputs": [
    {
     "data": {
      "text/plain": [
       "<matplotlib.legend.Legend at 0x7f1552f346a0>"
      ]
     },
     "execution_count": 114,
     "metadata": {},
     "output_type": "execute_result"
    }
   ],
   "source": [
    "basepath = '/home/misa/APDFT/prototyping/atomic_energies/results/analyse_learning/FCHL/delta_learning/atomisation/'\n",
    "\n",
    "lcurve = np.loadtxt(basepath+'lcurve')\n",
    "delta_lcurve = np.loadtxt(basepath+'delta_lcurve')\n",
    "\n",
    "fig, ax = plt.subplots(1,1)\n",
    "\n",
    "ax.plot(lcurve[:,0], lcurve[:,1],'-o', label='direct')\n",
    "ax.plot(delta_lcurve[:,0], delta_lcurve[:,1],'-o', label='delta')\n",
    "ax.set_xscale('log')\n",
    "ax.set_yscale('log')\n",
    "\n",
    "ax.set_xlabel('training points')\n",
    "ax.set_ylabel('MAE (Ha)')\n",
    "\n",
    "ax.legend()"
   ]
  },
  {
   "cell_type": "code",
   "execution_count": null,
   "metadata": {},
   "outputs": [],
   "source": []
  }
 ],
 "metadata": {
  "kernelspec": {
   "display_name": "Python [conda env:atomic-energies]",
   "language": "python",
   "name": "conda-env-atomic-energies-py"
  },
  "language_info": {
   "codemirror_mode": {
    "name": "ipython",
    "version": 3
   },
   "file_extension": ".py",
   "mimetype": "text/x-python",
   "name": "python",
   "nbconvert_exporter": "python",
   "pygments_lexer": "ipython3",
   "version": "3.7.3"
  }
 },
 "nbformat": 4,
 "nbformat_minor": 2
}
