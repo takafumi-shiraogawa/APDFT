{
 "cells": [
  {
   "cell_type": "code",
   "execution_count": 1,
   "metadata": {},
   "outputs": [],
   "source": [
    "import qml\n",
    "import numpy as np\n",
    "\n",
    "import sys\n",
    "sys.path.insert(0, '/home/misa/APDFT/prototyping/atomic_energies/')\n",
    "import alchemy_tools as alch\n",
    "import qml_interface as qi"
   ]
  },
  {
   "cell_type": "code",
   "execution_count": 2,
   "metadata": {},
   "outputs": [],
   "source": [
    "# load data into list, count number of atoms per molecule\n",
    "paths=qi.wrapper_alch_data()\n",
    "alchemy_data, molecule_size = qi.load_alchemy_data(paths)"
   ]
  },
  {
   "cell_type": "code",
   "execution_count": 3,
   "metadata": {},
   "outputs": [],
   "source": [
    "# local data\n",
    "local_reps = qi.generate_atomic_representations(alchemy_data, molecule_size)\n",
    "local_labels = qi.generate_label_vector(alchemy_data, molecule_size.sum(), value='atomisation')"
   ]
  },
  {
   "cell_type": "code",
   "execution_count": 4,
   "metadata": {},
   "outputs": [],
   "source": [
    "opt_sigma, opt_lambda, min_error, std = qi.optimize_hypar_cv(local_reps, local_labels, 500, molecule_size, 10)"
   ]
  },
  {
   "cell_type": "code",
   "execution_count": 5,
   "metadata": {},
   "outputs": [
    {
     "data": {
      "text/plain": [
       "151.99110829529332"
      ]
     },
     "execution_count": 5,
     "metadata": {},
     "output_type": "execute_result"
    }
   ],
   "source": [
    "opt_sigma"
   ]
  },
  {
   "cell_type": "code",
   "execution_count": 6,
   "metadata": {},
   "outputs": [
    {
     "data": {
      "text/plain": [
       "1e-05"
      ]
     },
     "execution_count": 6,
     "metadata": {},
     "output_type": "execute_result"
    }
   ],
   "source": [
    "opt_lambda"
   ]
  },
  {
   "cell_type": "code",
   "execution_count": 7,
   "metadata": {},
   "outputs": [
    {
     "data": {
      "text/plain": [
       "0.02215420743235437"
      ]
     },
     "execution_count": 7,
     "metadata": {},
     "output_type": "execute_result"
    }
   ],
   "source": [
    "min_error"
   ]
  },
  {
   "cell_type": "code",
   "execution_count": 12,
   "metadata": {},
   "outputs": [
    {
     "data": {
      "text/plain": [
       "array([1.73050677e-01, 1.73050677e-01, 1.73050677e-01, 1.73050677e-01,\n",
       "       1.73050677e-01, 1.73050677e-01, 1.73050677e-01, 1.73050677e-01,\n",
       "       1.73050677e-01, 1.73050677e-01, 1.73050677e-01, 1.73050677e-01,\n",
       "       1.73050677e-01, 1.73050677e-01, 1.73050677e-01, 1.73050677e-01,\n",
       "       1.73050677e-01, 1.73050677e-01, 1.73050677e-01, 1.73050677e-01,\n",
       "       1.73050677e-01, 1.73050677e-01, 1.73050677e-01, 1.73050677e-01,\n",
       "       1.73050677e-01, 1.73050677e-01, 1.73050677e-01, 1.73050677e-01,\n",
       "       1.73050677e-01, 1.73050677e-01, 1.73050677e-01, 1.73050677e-01,\n",
       "       1.73052046e-01, 1.73052046e-01, 1.73052046e-01, 1.73052046e-01,\n",
       "       1.73052046e-01, 1.73052046e-01, 1.73052046e-01, 1.73052046e-01,\n",
       "       1.73052046e-01, 1.73052046e-01, 1.73052046e-01, 1.73052046e-01,\n",
       "       1.73052045e-01, 1.73052035e-01, 1.73051940e-01, 1.73051432e-01,\n",
       "       1.67959625e-01, 1.67959625e-01, 1.67959625e-01, 1.67959625e-01,\n",
       "       1.67959629e-01, 1.67959670e-01, 1.67960062e-01, 1.67963154e-01,\n",
       "       1.67972636e-01, 1.67979092e-01, 1.67980647e-01, 1.67980975e-01,\n",
       "       1.67983995e-01, 1.68014546e-01, 1.68299093e-01, 1.70015486e-01,\n",
       "       2.14598926e-01, 2.14598408e-01, 2.14592535e-01, 2.14535545e-01,\n",
       "       2.14069125e-01, 2.12688078e-01, 2.10790135e-01, 2.06225994e-01,\n",
       "       2.05170085e-01, 2.05425507e-01, 2.05440125e-01, 2.05429772e-01,\n",
       "       2.05410582e-01, 2.05480560e-01, 2.06114026e-01, 2.03877846e-01,\n",
       "       1.60950787e+00, 1.60528901e+00, 1.56344190e+00, 1.23514805e+00,\n",
       "       3.71057865e-01, 9.93228628e-02, 6.43695208e-02, 5.99514011e-02,\n",
       "       5.82404406e-02, 5.80236483e-02, 5.76777671e-02, 5.72161162e-02,\n",
       "       5.69074195e-02, 5.71185045e-02, 5.70011872e-02, 7.01458694e-02,\n",
       "       6.06913867e+00, 4.58152637e+00, 1.06972113e+00, 1.92612828e-01,\n",
       "       4.77106737e-02, 1.33474558e-02, 1.12795684e-02, 1.19757759e-02,\n",
       "       1.05719743e-02, 7.07585806e-03, 5.96439847e-03, 5.87108313e-03,\n",
       "       6.81972525e-03, 8.13239449e-03, 1.22916005e-02, 3.23637762e-02,\n",
       "       6.23394686e+19, 3.04252222e-01, 4.55765780e-02, 2.16484916e-02,\n",
       "       1.42579603e-02, 1.38955980e-02, 9.83886731e-03, 4.91599318e-03,\n",
       "       4.12545717e-03, 4.11781155e-03, 3.97991376e-03, 4.22912792e-03,\n",
       "       4.43520412e-03, 8.46706836e-03, 2.34963280e-02, 6.28601747e-02,\n",
       "       1.77448842e+17, 3.13002062e-02, 1.71738504e-02, 1.37155324e-02,\n",
       "       1.00641252e-02, 6.18270885e-03, 4.33436216e-03, 3.74328951e-03,\n",
       "       3.63153299e-03, 3.88264634e-03, 4.77641087e-03, 5.29734696e-03,\n",
       "       8.99468541e-03, 2.56714811e-02, 6.67997587e-02, 9.88416282e-02,\n",
       "       2.47484340e+18, 1.24328800e+14, 1.35677207e-02, 8.93569964e-03,\n",
       "       5.53369746e-03, 4.12196142e-03, 3.88588250e-03, 4.02847080e-03,\n",
       "       4.72375500e-03, 5.95412945e-03, 6.17957324e-03, 1.03490303e-02,\n",
       "       2.55846809e-02, 6.48903380e-02, 1.03189597e-01, 6.34131222e-02,\n",
       "       6.11287164e+15, 1.25615545e+41, 7.37982818e-03, 5.19164211e-03,\n",
       "       4.36703735e-03, 4.27015922e-03, 4.71251074e-03, 6.03748929e-03,\n",
       "       6.18490460e-03, 7.14631042e-03, 1.08520351e-02, 2.40672586e-02,\n",
       "       6.03894215e-02, 1.04734658e-01, 5.84311150e-02, 1.48430343e-01,\n",
       "       1.39776358e+15, 9.68697454e+13, 5.43737185e-03, 4.61238528e-03,\n",
       "       4.78431332e-03, 6.03708558e-03, 6.51241979e-03, 6.80660034e-03,\n",
       "       8.00590815e-03, 1.05136131e-02, 2.25795044e-02, 5.56902896e-02,\n",
       "       1.04356653e-01, 5.66618867e-02, 1.42933939e-01, 1.71986489e-01])"
      ]
     },
     "execution_count": 12,
     "metadata": {},
     "output_type": "execute_result"
    }
   ],
   "source": [
    "std"
   ]
  }
 ],
 "metadata": {
  "kernelspec": {
   "display_name": "Python (atmoic-energies)",
   "language": "python",
   "name": "atomic-energies"
  },
  "language_info": {
   "codemirror_mode": {
    "name": "ipython",
    "version": 3
   },
   "file_extension": ".py",
   "mimetype": "text/x-python",
   "name": "python",
   "nbconvert_exporter": "python",
   "pygments_lexer": "ipython3",
   "version": "3.7.3"
  }
 },
 "nbformat": 4,
 "nbformat_minor": 2
}
