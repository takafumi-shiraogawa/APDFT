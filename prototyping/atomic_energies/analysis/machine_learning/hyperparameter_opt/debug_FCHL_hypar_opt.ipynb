{
 "cells": [
  {
   "cell_type": "code",
   "execution_count": null,
   "metadata": {},
   "outputs": [],
   "source": [
    "import numpy as np\n",
    "import qml\n",
    "import sys\n",
    "sys.path.insert(0, '/home/misa/APDFT/prototyping/atomic_energies/')\n",
    "import qml_interface as qmi\n",
    "\n",
    "import matplotlib\n",
    "matplotlib.use(\"Qt5Agg\")\n",
    "from matplotlib import pyplot as plt"
   ]
  },
  {
   "cell_type": "markdown",
   "metadata": {},
   "source": [
    "# Indices correct?\n",
    "\n",
    "compare indices for manually created small atomic kernel with full kernel"
   ]
  },
  {
   "cell_type": "code",
   "execution_count": null,
   "metadata": {},
   "outputs": [],
   "source": [
    "data, molecule_size = qmi.load_alchemy_data(qmi.wrapper_alch_data())"
   ]
  },
  {
   "cell_type": "code",
   "execution_count": null,
   "metadata": {},
   "outputs": [],
   "source": [
    "# choose random molecules\n",
    "global_tr, global_test = qmi.get_indices(len(molecule_size), 3)\n",
    "global_tr = np.array([ 14, 519, 549])\n",
    "tr_ind = qmi.get_local_idx(global_tr, molecule_size)\n",
    "test_ind = qmi.get_local_idx(global_test, molecule_size)"
   ]
  },
  {
   "cell_type": "code",
   "execution_count": null,
   "metadata": {},
   "outputs": [],
   "source": [
    "# calculate representation and atomic kernels\n",
    "reps = []\n",
    "for i in global_tr:\n",
    "    rep_fchl = qml.fchl.generate_representation(data[i][:, 1:4], data[i][:,0], max_size=molecule_size[i])\n",
    "    reps.append(rep_fchl)"
   ]
  },
  {
   "cell_type": "code",
   "execution_count": null,
   "metadata": {},
   "outputs": [],
   "source": [
    "sigma = 432.8761281083057\n",
    "kernel00 = qml.fchl.fchl_scalar_kernels.get_atomic_kernels(reps[0], reps[0], kernel_args={\"sigma\":[sigma],})[0]\n",
    "kernel01 = qml.fchl.fchl_scalar_kernels.get_atomic_kernels(reps[0], reps[1], kernel_args={\"sigma\":[sigma],})[0]\n",
    "kernel02 = qml.fchl.fchl_scalar_kernels.get_atomic_kernels(reps[0], reps[2], kernel_args={\"sigma\":[sigma],})[0]\n",
    "kernel11 = qml.fchl.fchl_scalar_kernels.get_atomic_kernels(reps[1], reps[1], kernel_args={\"sigma\":[sigma],})[0]\n",
    "kernel12 = qml.fchl.fchl_scalar_kernels.get_atomic_kernels(reps[1], reps[2], kernel_args={\"sigma\":[sigma],})[0]\n",
    "kernel22 = qml.fchl.fchl_scalar_kernels.get_atomic_kernels(reps[2], reps[2], kernel_args={\"sigma\":[sigma],})[0]"
   ]
  },
  {
   "cell_type": "code",
   "execution_count": null,
   "metadata": {},
   "outputs": [],
   "source": [
    "kernel3x3 = np.block([[kernel00, kernel01, kernel02], [kernel01.T, kernel11, kernel12], [kernel02.T, kernel12.T, kernel22]])"
   ]
  },
  {
   "cell_type": "code",
   "execution_count": null,
   "metadata": {},
   "outputs": [],
   "source": [
    "# kernel between molecule at index 0 and molecule at index 2\n",
    "\n",
    "# select correct indices\n",
    "start_idx = molecule_size[14] + molecule_size[519]\n",
    "print(start_idx)\n",
    "end_idx = start_idx + molecule_size[549] - 1\n",
    "print(end_idx)\n",
    "\n",
    "# pick slice\n",
    "kernel3x3_02 = kernel3x3[0:16, 26:39]"
   ]
  },
  {
   "cell_type": "code",
   "execution_count": null,
   "metadata": {},
   "outputs": [],
   "source": [
    "# load kernel"
   ]
  },
  {
   "cell_type": "code",
   "execution_count": null,
   "metadata": {},
   "outputs": [],
   "source": [
    "kernel_full = np.loadtxt('/home/misa/APDFT/prototyping/atomic_energies/results/analyse_learning/FCHL/full_kernel_sig432.8761281083057')"
   ]
  },
  {
   "cell_type": "code",
   "execution_count": null,
   "metadata": {},
   "outputs": [],
   "source": [
    "# indices in full kernel\n",
    "start_idx_full_row = molecule_size[0:14].sum()\n",
    "end_idx_full_row = start_idx_full_row + molecule_size[14]-1"
   ]
  },
  {
   "cell_type": "code",
   "execution_count": null,
   "metadata": {},
   "outputs": [],
   "source": [
    "start_idx_full_column = molecule_size[0:549].sum()\n",
    "end_idx_full_column= start_idx_full_column + molecule_size[549]-1"
   ]
  },
  {
   "cell_type": "code",
   "execution_count": null,
   "metadata": {},
   "outputs": [],
   "source": [
    "# select correct indices\n",
    "kernel_full_slice = kernel_full[start_idx_full_row:end_idx_full_row+1, start_idx_full_column:end_idx_full_column+1]"
   ]
  },
  {
   "cell_type": "code",
   "execution_count": null,
   "metadata": {},
   "outputs": [],
   "source": [
    "kernel02 - kernel_full_slice"
   ]
  },
  {
   "cell_type": "code",
   "execution_count": null,
   "metadata": {},
   "outputs": [],
   "source": [
    "kernel3x3_02 - kernel_full_slice"
   ]
  },
  {
   "cell_type": "markdown",
   "metadata": {},
   "source": [
    "## indices are correctly assigned in full matrix\n",
    "## what about kernel splitting during hyperparameter splitting?"
   ]
  },
  {
   "cell_type": "code",
   "execution_count": null,
   "metadata": {},
   "outputs": [],
   "source": [
    "print(start_idx_full_row)\n",
    "print(end_idx_full_row)"
   ]
  },
  {
   "cell_type": "code",
   "execution_count": null,
   "metadata": {},
   "outputs": [],
   "source": [
    "# split kernel\n",
    "tr_kernel, test_kernel = qmi.split_kernel(kernel_full, tr_ind, test_ind)"
   ]
  },
  {
   "cell_type": "code",
   "execution_count": null,
   "metadata": {},
   "outputs": [],
   "source": [
    "# correct kernel selected? yes identical to manually computed kernel\n",
    "print(np.amax(tr_kernel-kernel3x3))\n",
    "print(np.amin(tr_kernel-kernel3x3))"
   ]
  },
  {
   "cell_type": "markdown",
   "metadata": {},
   "source": [
    "## Difference between kernels with different sigma"
   ]
  },
  {
   "cell_type": "code",
   "execution_count": null,
   "metadata": {},
   "outputs": [],
   "source": [
    "import numpy as np\n",
    "import qml\n",
    "import sys\n",
    "sys.path.insert(0, '/home/misa/APDFT/prototyping/atomic_energies/')\n",
    "import qml_interface as qmi"
   ]
  },
  {
   "cell_type": "code",
   "execution_count": null,
   "metadata": {},
   "outputs": [],
   "source": [
    "kernel_full1 = np.loadtxt('/home/misa/APDFT/prototyping/atomic_energies/results/analyse_learning/FCHL/full_kernel_sig432.8761281083057')"
   ]
  },
  {
   "cell_type": "code",
   "execution_count": null,
   "metadata": {},
   "outputs": [],
   "source": [
    "kernel_full2 = np.loadtxt('/home/misa/APDFT/prototyping/atomic_energies/results/analyse_learning/FCHL/full_kernel_sig10000.0')"
   ]
  },
  {
   "cell_type": "code",
   "execution_count": null,
   "metadata": {},
   "outputs": [],
   "source": [
    "kernel_full2-kernel_full1"
   ]
  },
  {
   "cell_type": "markdown",
   "metadata": {},
   "source": [
    "## Training error as function of sigma"
   ]
  },
  {
   "cell_type": "code",
   "execution_count": null,
   "metadata": {},
   "outputs": [],
   "source": [
    "import numpy as np\n",
    "import qml\n",
    "import sys\n",
    "sys.path.insert(0, '/home/misa/APDFT/prototyping/atomic_energies/')\n",
    "import qml_interface as qmi\n",
    "import glob\n",
    "import re\n",
    "\n",
    "# paths to kernels\n",
    "paths = glob.glob('/home/misa/APDFT/prototyping/atomic_energies/results/analyse_learning/FCHL/kernels/full_kernel_sig*')\n",
    "\n",
    "# indices for training kernel selection\n",
    "global_tr = np.array([ 14, 519, 549])\n",
    "data, molecule_size = qmi.load_alchemy_data(qmi.wrapper_alch_data())\n",
    "tr_ind = qmi.get_local_idx(global_tr, molecule_size)\n",
    "\n",
    "global_tr, global_test = qmi.get_indices(len(molecule_size), 3)\n",
    "global_tr = np.array([ 14, 519, 549])\n",
    "tr_ind = qmi.get_local_idx(global_tr, molecule_size)\n",
    "test_ind = qmi.get_local_idx(global_test, molecule_size)\n",
    "\n",
    "error = []\n",
    "kernel_diff= []\n",
    "\n",
    "for p in paths:\n",
    "    if re.search('lam',p):\n",
    "        pass\n",
    "    else:\n",
    "        kernel_full1 = np.loadtxt(p)\n",
    "        \n",
    "        # calculate training error\n",
    "        tr_kernel, test_kernel = qmi.split_kernel(kernel_full1, tr_ind, test_ind)\n",
    "        labels = qmi.generate_label_vector(data, molecule_size.sum(), value='atomisation')\n",
    "        tr_label = labels[tr_ind]\n",
    "\n",
    "        coeffs = qml.math.cho_solve(tr_kernel, tr_label)\n",
    "        pred_label = np.dot(tr_kernel, coeffs)\n",
    "        tr_error = np.abs(tr_label-pred_label)\n",
    "        \n",
    "        error.append([float(p.split('sig')[1]), tr_error.mean()])\n",
    "        \n",
    "        # maximum difference between to elements in training kernel\n",
    "        max_diff = np.amax(tr_kernel) - np.amin(tr_kernel)\n",
    "        kernel_diff.append([float(p.split('sig')[1]), max_diff])"
   ]
  },
  {
   "cell_type": "code",
   "execution_count": null,
   "metadata": {},
   "outputs": [],
   "source": [
    "error.sort()\n",
    "error\n",
    "tr_errors = np.array(error)"
   ]
  },
  {
   "cell_type": "code",
   "execution_count": null,
   "metadata": {},
   "outputs": [],
   "source": [
    "kernel_diff.sort()\n",
    "kernel_diff_np = np.array(kernel_diff)\n",
    "kernel_diff_np"
   ]
  },
  {
   "cell_type": "code",
   "execution_count": null,
   "metadata": {},
   "outputs": [],
   "source": [
    "# tr_errors = np.array([[0.1, 9.533845087234126e-07],\n",
    "#  [0.2848035868435802, 1.1146930695175114e-05],\n",
    "#  [0.8111308307896871, 0.0002756277498121068],\n",
    "#  [2.3101297000831593, 0.0035897837548015087],\n",
    "#  [6.579332246575679, 3273337966246805.5],\n",
    "#  [18.73817422860383, 150713133386679.62],\n",
    "#  [53.36699231206307, 4.2190757635430615e+18],\n",
    "#  [151.99110829529332, 1.9391011745425462e+21],\n",
    "#  [432.8761281083057, 1.3728786113167146e+22],\n",
    "#  [1232.8467394420659, 5.937093237082583e+22],\n",
    "#  [3511.1917342151273, 1.8727704323267042e+27],\n",
    "#  [10000.0, 3.2333931384220235e+23]])"
   ]
  },
  {
   "cell_type": "code",
   "execution_count": null,
   "metadata": {},
   "outputs": [],
   "source": [
    "plt.plot(tr_errors[:,0], tr_errors[:,1], '-o')\n",
    "plt.xscale('log')\n",
    "plt.yscale('log')\n",
    "plt.xlabel(r'$\\sigma$')\n",
    "plt.ylabel('training error')"
   ]
  },
  {
   "cell_type": "code",
   "execution_count": null,
   "metadata": {},
   "outputs": [],
   "source": [
    "plt.plot(kernel_diff_np[:,0], kernel_diff_np[:,1], '-o')\n",
    "plt.xscale('log')\n",
    "plt.yscale('log')\n",
    "plt.xlabel(r'$\\sigma$')\n",
    "plt.ylabel('Max Kerneldiff')"
   ]
  },
  {
   "cell_type": "markdown",
   "metadata": {},
   "source": [
    "## Training error (for normal and delta learning)\n",
    "according to Anders changes in the Hartree range can be problematic for FCHL -> subtract average atomic energy for every element\n"
   ]
  },
  {
   "cell_type": "code",
   "execution_count": 1,
   "metadata": {},
   "outputs": [],
   "source": [
    "import numpy as np\n",
    "import qml\n",
    "import sys\n",
    "sys.path.insert(0, '/home/misa/APDFT/prototyping/atomic_energies/')\n",
    "import qml_interface as qmi\n",
    "import glob\n",
    "import re\n",
    "\n",
    "import matplotlib\n",
    "matplotlib.use(\"Qt5Agg\")\n",
    "from matplotlib import pyplot as plt"
   ]
  },
  {
   "cell_type": "code",
   "execution_count": 2,
   "metadata": {},
   "outputs": [],
   "source": [
    "# data selection\n",
    "data, molecule_size = qmi.load_alchemy_data(qmi.wrapper_alch_data())\n",
    "\n",
    "# indices for training kernel selection\n",
    "global_tr, global_test = qmi.get_indices(len(molecule_size), 10)\n",
    "tr_ind = qmi.get_local_idx(global_tr, molecule_size)\n",
    "test_ind = qmi.get_local_idx(global_test, molecule_size)"
   ]
  },
  {
   "cell_type": "code",
   "execution_count": 3,
   "metadata": {},
   "outputs": [],
   "source": [
    "# paths to kernels\n",
    "paths = glob.glob('/home/misa/APDFT/prototyping/atomic_energies/results/analyse_learning/FCHL/kernels/full_kernel_sig*')\n",
    "paths_tmp = []\n",
    "for p in paths:\n",
    "    if re.search('lam',p):\n",
    "        pass\n",
    "    else:\n",
    "        paths_tmp.append(p)\n",
    "paths = paths_tmp\n",
    "paths_tmp = []\n",
    "for p in paths:\n",
    "    paths_tmp.append([float(p.split('sig')[1]), p])\n",
    "paths = paths_tmp\n",
    "paths.sort()\n",
    "\n",
    "paths_tmp = []\n",
    "for p in paths:\n",
    "    paths_tmp.append(p[1])\n",
    "paths = paths_tmp\n",
    "paths = np.array(paths)"
   ]
  },
  {
   "cell_type": "code",
   "execution_count": 9,
   "metadata": {},
   "outputs": [
    {
     "name": "stdout",
     "output_type": "stream",
     "text": [
      "Working on kernel /home/misa/APDFT/prototyping/atomic_energies/results/analyse_learning/FCHL/kernels/full_kernel_sig18.73817422860383\n"
     ]
    }
   ],
   "source": [
    "# get training data\n",
    "delta = True\n",
    "prop = 'alch_pot'\n",
    "\n",
    "error = []\n",
    "kernel_diff= []\n",
    "\n",
    "samples = paths\n",
    "# samples = np.take(paths, np.arange(0, len(paths), 2))\n",
    "\n",
    "for p in samples:\n",
    "    print(\"Working on kernel {}\".format(p))\n",
    "    kernel_full1 = np.loadtxt(p)\n",
    "\n",
    "    # calculate training error\n",
    "    tr_kernel, test_kernel = qmi.split_kernel(kernel_full1, tr_ind, test_ind)\n",
    "    tr_kernel += np.identity(len(tr_kernel))*1e-8\n",
    "\n",
    "    labels = qmi.generate_label_vector(data, molecule_size.sum(), value=prop)\n",
    "    if delta:\n",
    "        prop_mean = qmi.get_average_property(tr_ind, data, molecule_size, prop) # baseline for property\n",
    "        tr_label = labels[tr_ind] - qmi.get_label_delta(prop_mean, tr_ind, data, molecule_size)\n",
    "    else:\n",
    "        tr_label = labels[tr_ind]\n",
    "\n",
    "    coeffs = qml.math.cho_solve(tr_kernel, tr_label)\n",
    "    pred_label = np.dot(tr_kernel, coeffs)\n",
    "    tr_error = np.abs(tr_label-pred_label)\n",
    "\n",
    "    error.append([float(p.split('sig')[1]), tr_error.mean()])\n",
    "\n",
    "    # maximum difference between to elements in training kernel\n",
    "    max_diff = np.amax(tr_kernel) - np.amin(tr_kernel)\n",
    "    kernel_diff.append([float(p.split('sig')[1]), max_diff])"
   ]
  },
  {
   "cell_type": "code",
   "execution_count": 10,
   "metadata": {},
   "outputs": [
    {
     "data": {
      "text/plain": [
       "array([3.19043700e-08, 1.04884009e-08, 7.95712057e-09, 2.33164241e-08,\n",
       "       3.41927729e-08, 1.06784559e-09, 4.71781473e-08, 1.33545457e-08,\n",
       "       2.63972364e-08, 2.72042883e-09, 5.72628995e-08, 1.32178142e-08,\n",
       "       5.28770230e-08, 2.44887377e-09, 2.61346730e-08, 1.44005073e-08,\n",
       "       2.06747131e-08, 1.42547827e-08, 2.44090830e-08, 5.33631750e-10,\n",
       "       2.49971661e-08, 2.50920547e-08, 5.51984369e-09, 2.52090993e-08,\n",
       "       5.98801680e-08, 2.08160665e-08, 4.33423536e-09, 1.45221562e-08,\n",
       "       8.56524757e-09, 5.00602059e-08, 6.14440680e-08, 1.04411740e-09,\n",
       "       1.45546224e-08, 2.84899828e-08, 5.87905510e-09, 2.23570066e-08,\n",
       "       3.18000728e-08, 1.21745019e-08, 2.64666749e-08, 5.40811599e-08,\n",
       "       4.82688850e-08, 1.13962014e-08, 4.96401411e-08, 8.31782532e-10,\n",
       "       7.53050107e-08, 2.77782937e-08, 1.65644632e-08, 1.52828682e-08,\n",
       "       5.70095962e-08, 1.46523180e-08, 1.22881824e-08, 1.56261635e-08,\n",
       "       6.16767823e-09, 1.26315892e-08, 4.26771649e-09, 1.59189713e-08,\n",
       "       2.27112183e-11, 1.69446636e-08, 7.33615635e-08, 1.39802455e-08,\n",
       "       5.42624865e-08, 2.85755035e-08, 3.26561767e-09, 3.21958357e-09,\n",
       "       4.15738295e-08, 5.97512545e-09, 2.56703589e-08, 3.53656385e-08,\n",
       "       6.45568880e-08, 4.40169234e-09, 1.14918219e-08, 5.73122376e-08,\n",
       "       2.00683893e-08, 4.55784633e-08, 3.95209132e-08, 6.61314233e-08,\n",
       "       7.17469741e-08, 6.30879966e-08, 2.90166558e-08, 4.94221711e-08,\n",
       "       2.85588310e-08, 3.99421313e-08, 3.35592670e-08, 6.29226463e-08,\n",
       "       1.18467803e-08, 1.78393071e-08, 3.97925446e-08, 3.17194693e-08,\n",
       "       2.00802143e-08, 2.14805518e-08, 8.36900788e-08, 1.10767291e-08,\n",
       "       1.40432883e-09, 2.00697163e-08, 6.82813852e-08, 2.18911700e-08,\n",
       "       5.01347550e-08, 7.39059878e-08, 2.12219573e-08, 1.80420723e-08,\n",
       "       7.61047082e-08, 6.16739063e-08, 3.18439849e-08, 3.36245772e-08,\n",
       "       5.08655552e-08, 5.82590243e-09, 5.33384871e-08, 5.46557563e-10,\n",
       "       1.99864544e-09, 2.34249156e-09, 2.11162396e-08, 1.80709699e-08,\n",
       "       5.22220899e-08, 3.44730286e-08, 3.88194279e-08, 1.06764700e-07,\n",
       "       7.95226446e-09, 2.41103085e-08, 1.66001729e-09, 3.86773139e-08,\n",
       "       4.66226511e-08, 9.82636401e-08, 2.90721253e-08, 6.13366938e-09,\n",
       "       9.46028858e-08, 2.45880885e-08, 3.75400280e-08, 3.19480417e-08,\n",
       "       7.71608177e-09, 1.50893893e-08, 1.45619860e-08, 3.89555865e-08,\n",
       "       8.78564448e-08, 2.20195038e-08, 4.65853004e-08])"
      ]
     },
     "execution_count": 10,
     "metadata": {},
     "output_type": "execute_result"
    }
   ],
   "source": [
    "tr_error"
   ]
  },
  {
   "cell_type": "code",
   "execution_count": null,
   "metadata": {},
   "outputs": [],
   "source": [
    "bae = '/home/misa/APDFT/prototyping/atomic_energies/results/analyse_learning/FCHL/delta_learning/atomisation/'"
   ]
  },
  {
   "cell_type": "code",
   "execution_count": null,
   "metadata": {},
   "outputs": [],
   "source": [
    "# training error\n",
    "error.sort()\n",
    "if delta:\n",
    "    np.savetxt(bae+'delta_tr_error_alch_pot_3mol', error, delimiter='\\t', header='sigma \\t MAE (Ha)')\n",
    "else:\n",
    "    np.savetxt(bae+'tr_error_alch_pot_3mol', error, delimiter='\\t', header='sigma \\t MAE (Ha)')"
   ]
  },
  {
   "cell_type": "code",
   "execution_count": null,
   "metadata": {},
   "outputs": [],
   "source": [
    "# maximum difference between kernel elements\n",
    "kernel_diff.sort()\n",
    "if delta:\n",
    "    np.savetxt(bae+'delta_max_kernel_diff_alch_pot_3mol', kernel_diff, delimiter='\\t', header='sigma \\t Max Kernel diff (Ha)')\n",
    "else:\n",
    "    np.savetxt(bae+'max_kernel_diff_alch_pot_3mol', kernel_diff, delimiter='\\t', header='sigma \\t Max Kernel diff (Ha)')\n"
   ]
  },
  {
   "cell_type": "code",
   "execution_count": null,
   "metadata": {},
   "outputs": [],
   "source": [
    "# training labels\n",
    "\n",
    "if delta:\n",
    "    labels = qmi.generate_label_vector(data, molecule_size.sum(), value=prop)\n",
    "    tr_label = labels[tr_ind] - qmi.get_label_delta('alch_pot', tr_ind, data, molecule_size)\n",
    "    np.savetxt(bae+'delta_tr_label_alch_pot_3mol', tr_label, delimiter='\\t', header='sigma \\t tr _labels (Ha)')\n",
    "else:\n",
    "    labels = qmi.generate_label_vector(data, molecule_size.sum(), value=prop)\n",
    "    tr_label = labels[tr_ind]\n",
    "    np.savetxt(bae+'tr_label_alch_pot_3mol', tr_label, delimiter='\\t', header='sigma \\t tr _labels (Ha)')"
   ]
  }
 ],
 "metadata": {
  "kernelspec": {
   "display_name": "Python [conda env:atomic-energies]",
   "language": "python",
   "name": "conda-env-atomic-energies-py"
  },
  "language_info": {
   "codemirror_mode": {
    "name": "ipython",
    "version": 3
   },
   "file_extension": ".py",
   "mimetype": "text/x-python",
   "name": "python",
   "nbconvert_exporter": "python",
   "pygments_lexer": "ipython3",
   "version": "3.7.3"
  }
 },
 "nbformat": 4,
 "nbformat_minor": 2
}
