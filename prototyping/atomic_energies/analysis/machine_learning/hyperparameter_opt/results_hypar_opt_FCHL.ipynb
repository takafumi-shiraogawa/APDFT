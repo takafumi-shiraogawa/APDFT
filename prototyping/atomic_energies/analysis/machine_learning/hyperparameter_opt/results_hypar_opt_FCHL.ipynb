{
 "cells": [
  {
   "cell_type": "code",
   "execution_count": 6,
   "metadata": {},
   "outputs": [],
   "source": [
    "def get_sigma(path):\n",
    "    return(float(path.split('sig')[1].split('_')[0]))\n",
    "    \n",
    "import glob\n",
    "\n",
    "path = '/home/misa/APDFT/prototyping/atomic_energies/results/analyse_learning/FCHL/hyperopt_results/*lam'\n",
    "paths = glob.glob(path)"
   ]
  },
  {
   "cell_type": "code",
   "execution_count": 7,
   "metadata": {},
   "outputs": [],
   "source": [
    "paths_sorted = []\n",
    "for p in paths:\n",
    "    sigma = get_sigma(p)\n",
    "    paths_sorted.append([sigma, p])\n",
    "paths_sorted.sort()\n",
    "paths = []\n",
    "for p in paths_sorted:\n",
    "    paths.append(p[1])"
   ]
  },
  {
   "cell_type": "code",
   "execution_count": null,
   "metadata": {},
   "outputs": [],
   "source": []
  },
  {
   "cell_type": "code",
   "execution_count": 8,
   "metadata": {},
   "outputs": [],
   "source": [
    "results = {}\n",
    "import numpy as np\n",
    "for p in paths:\n",
    "    result = np.loadtxt(p)\n",
    "    sigma = get_sigma(p)\n",
    "    results.update({sigma:result})"
   ]
  },
  {
   "cell_type": "code",
   "execution_count": 9,
   "metadata": {},
   "outputs": [],
   "source": [
    "import matplotlib\n",
    "matplotlib.use('Qt5Agg')\n",
    "from matplotlib import pyplot as plt"
   ]
  },
  {
   "cell_type": "code",
   "execution_count": 10,
   "metadata": {},
   "outputs": [
    {
     "data": {
      "text/plain": [
       "<matplotlib.legend.Legend at 0x7f3789fd20f0>"
      ]
     },
     "execution_count": 10,
     "metadata": {},
     "output_type": "execute_result"
    }
   ],
   "source": [
    "cm = plt.get_cmap('nipy_spectral_r')\n",
    "f,a = plt.subplots(1,1)\n",
    "a.set_prop_cycle(color=[cm(1.*i/len(results)) for i in range(len(results))])\n",
    "\n",
    "for k in results.keys():\n",
    "    a.plot(results[k][:,0], results[k][:,1], '-o', label=k)\n",
    "a.set_xscale('log')\n",
    "a.set_yscale('log')\n",
    "a.set_ylim(0.05, 0.5)\n",
    "a.set_xlabel(r'$\\lambda$')\n",
    "a.set_ylabel(r'MAE(Ha)')\n",
    "a.legend()"
   ]
  },
  {
   "cell_type": "code",
   "execution_count": null,
   "metadata": {},
   "outputs": [],
   "source": []
  }
 ],
 "metadata": {
  "kernelspec": {
   "display_name": "Python [conda env:atomic-energies]",
   "language": "python",
   "name": "conda-env-atomic-energies-py"
  },
  "language_info": {
   "codemirror_mode": {
    "name": "ipython",
    "version": 3
   },
   "file_extension": ".py",
   "mimetype": "text/x-python",
   "name": "python",
   "nbconvert_exporter": "python",
   "pygments_lexer": "ipython3",
   "version": "3.7.3"
  }
 },
 "nbformat": 4,
 "nbformat_minor": 2
}
