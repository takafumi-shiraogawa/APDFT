{
 "cells": [
  {
   "cell_type": "code",
   "execution_count": null,
   "metadata": {},
   "outputs": [],
   "source": [
    "import numpy as np\n",
    "\n",
    "import qml\n",
    "import qml.fchl\n",
    "\n",
    "import sys\n",
    "sys.path.insert(0,'/home/misa/APDFT/prototyping/atomic_energies/')\n",
    "import qml_interface as qmi\n",
    "import qml_interface2 as qmi2"
   ]
  },
  {
   "cell_type": "markdown",
   "metadata": {},
   "source": [
    "# find kernel elements in full kernel (check if indices are correct)"
   ]
  },
  {
   "cell_type": "code",
   "execution_count": null,
   "metadata": {},
   "outputs": [],
   "source": [
    "data, molecule_size = qmi.load_alchemy_data(qmi.wrapper_alch_data())"
   ]
  },
  {
   "cell_type": "code",
   "execution_count": null,
   "metadata": {},
   "outputs": [],
   "source": [
    "out = np.loadtxt('/home/misa/APDFT/prototyping/atomic_energies/results/analyse_learning/FCHL/full_sig10.txt')"
   ]
  },
  {
   "cell_type": "code",
   "execution_count": null,
   "metadata": {},
   "outputs": [],
   "source": [
    "# representation for molecule at index 20 (molecule 21) and at index 31 (molecule 32)\n",
    "i = 20\n",
    "j = 31\n",
    "rep20 = qml.fchl.generate_representation(data[i][:, 1:4], data[i][:,0], max_size=molecule_size[i])\n",
    "rep31 = qml.fchl.generate_representation(data[j][:, 1:4], data[j][:,0], max_size=molecule_size[j])\n",
    "kernel_elements = qml.fchl.get_atomic_kernels(rep20, rep31, [10])"
   ]
  },
  {
   "cell_type": "code",
   "execution_count": null,
   "metadata": {},
   "outputs": [],
   "source": [
    "kernel_elements[0][0]"
   ]
  },
  {
   "cell_type": "code",
   "execution_count": null,
   "metadata": {},
   "outputs": [],
   "source": [
    "out[molecule_size[0:i].sum()][molecule_size[0:j].sum():molecule_size[0:j].sum()+molecule_size[j]]"
   ]
  },
  {
   "cell_type": "code",
   "execution_count": null,
   "metadata": {},
   "outputs": [],
   "source": [
    "out[molecule_size[0:i].sum()][molecule_size[0:j].sum():molecule_size[0:j].sum()+molecule_size[j]]-kernel_elements[0][0]"
   ]
  },
  {
   "cell_type": "markdown",
   "metadata": {},
   "source": [
    "# Calculate kernel"
   ]
  },
  {
   "cell_type": "code",
   "execution_count": null,
   "metadata": {},
   "outputs": [],
   "source": [
    "# calculates full atomic kernel\n",
    "data, molecule_size = qmi.load_alchemy_data(qmi.wrapper_alch_data())\n",
    "reps =[]\n",
    "for i in zip(data, molecule_size):\n",
    "    rep_fchl = qml.fchl.generate_representation(i[0][:, 1:4], i[0][:,0], max_size=i[1])\n",
    "    reps.append(rep_fchl)\n",
    "\n",
    "out = qmi2.generate_fchl_atomic_kernel(reps, molecule_size, [10])\n",
    "\n",
    "#write kernel to \n",
    "# out.shape\n",
    "# path = '/home/misa/APDFT/prototyping/atomic_energies/results/analyse_learning/FCHL/full_sig10.txt'\n",
    "# np.savetxt(path,out, delimiter='\\t')"
   ]
  },
  {
   "cell_type": "code",
   "execution_count": null,
   "metadata": {},
   "outputs": [],
   "source": [
    "out2 = np.loadtxt('/home/misa/APDFT/prototyping/atomic_energies/results/analyse_learning/FCHL/full_sig10.txt')"
   ]
  },
  {
   "cell_type": "code",
   "execution_count": null,
   "metadata": {},
   "outputs": [],
   "source": [
    "# compare saved kernel with calculated\n",
    "np.array_equal(out, out2)"
   ]
  },
  {
   "cell_type": "code",
   "execution_count": null,
   "metadata": {},
   "outputs": [],
   "source": [
    "# test indices of small atomic kernel"
   ]
  },
  {
   "cell_type": "code",
   "execution_count": null,
   "metadata": {},
   "outputs": [],
   "source": [
    "rep_fchl1 = qml.fchl.generate_representation(data[0][:, 1:4], data[0][:,0], max_size=molecule_size[0])\n",
    "rep_fchl2 = qml.fchl.generate_representation(data[1][:, 1:4], data[1][:,0], max_size=molecule_size[1])\n"
   ]
  },
  {
   "cell_type": "code",
   "execution_count": null,
   "metadata": {},
   "outputs": [],
   "source": [
    "out = qmi2.generate_fchl_atomic_kernel([rep_fchl1, rep_fchl2], molecule_size[0:2], [10])"
   ]
  },
  {
   "cell_type": "code",
   "execution_count": null,
   "metadata": {},
   "outputs": [],
   "source": [
    "out[25]-out[:,25]"
   ]
  },
  {
   "cell_type": "markdown",
   "metadata": {},
   "source": [
    "# used to check indicices in big atomic kernel (indices as strings)"
   ]
  },
  {
   "cell_type": "code",
   "execution_count": null,
   "metadata": {},
   "outputs": [],
   "source": [
    "\n",
    "import numpy as np\n",
    "\n",
    "import qml\n",
    "import qml.fchl\n",
    "\n",
    "import sys\n",
    "sys.path.insert(0,'/home/misa/APDFT/prototyping/atomic_energies/')\n",
    "import qml_interface as qmi\n",
    "import qml_interface2 as qmi2"
   ]
  },
  {
   "cell_type": "code",
   "execution_count": null,
   "metadata": {},
   "outputs": [],
   "source": [
    "a = np.array(['11', '12', '13'])\n",
    "b = np.array(['21', '22'])\n",
    "c = np.array(['31', '32', '33', '43'])"
   ]
  },
  {
   "cell_type": "code",
   "execution_count": null,
   "metadata": {},
   "outputs": [],
   "source": [
    "r = [a,b,c]\n",
    "out=qmi2.generate_fchl_atomic_kernel(r, np.array([3,2,4]), 100)"
   ]
  },
  {
   "cell_type": "code",
   "execution_count": null,
   "metadata": {},
   "outputs": [],
   "source": [
    "out"
   ]
  },
  {
   "cell_type": "code",
   "execution_count": null,
   "metadata": {},
   "outputs": [],
   "source": []
  }
 ],
 "metadata": {
  "kernelspec": {
   "display_name": "Python [conda env:atomic-energies]",
   "language": "python",
   "name": "conda-env-atomic-energies-py"
  },
  "language_info": {
   "codemirror_mode": {
    "name": "ipython",
    "version": 3
   },
   "file_extension": ".py",
   "mimetype": "text/x-python",
   "name": "python",
   "nbconvert_exporter": "python",
   "pygments_lexer": "ipython3",
   "version": "3.7.3"
  }
 },
 "nbformat": 4,
 "nbformat_minor": 2
}
