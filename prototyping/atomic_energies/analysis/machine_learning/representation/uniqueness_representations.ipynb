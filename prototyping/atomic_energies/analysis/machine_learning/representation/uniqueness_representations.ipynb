{
 "cells": [
  {
   "cell_type": "code",
   "execution_count": 7,
   "metadata": {},
   "outputs": [],
   "source": [
    "import matplotlib\n",
    "matplotlib.use('Qt5Agg')\n",
    "from matplotlib import pyplot as plt\n",
    "plt.rcParams.update({'font.size': 22})\n",
    "import numpy as np\n",
    "import itertools\n",
    "import qml.representations\n",
    "import qml.kernels.distance\n",
    "import sys\n",
    "sys.path.insert(0, '/home/misa/APDFT/prototyping/atomic_energies/')"
   ]
  },
  {
   "cell_type": "code",
   "execution_count": 2,
   "metadata": {},
   "outputs": [],
   "source": [
    "c_atom = np.array([0.0, 0.0, 0.0])\n",
    "n_atom = np.array([1.5, 1.5, 0.0])\n",
    "b_atom = np.array([-1.5, 1.5, 0.0])\n",
    "delta = np.array([-0.1, 0.0, 0.0])\n",
    "atoms = np.array([c_atom,b_atom,n_atom])\n",
    "conf0 = qml.representations.generate_atomic_coulomb_matrix(np.array([6,5,7]), atoms, size=3, sorting='distance')\n",
    "\n",
    "atoms_d1p = atoms.copy()\n",
    "atoms_d1p[1:3] = atoms_d1p[1:3] + delta\n",
    "conf_d1p = qml.representations.generate_atomic_coulomb_matrix(np.array([6,5,7]), atoms_d1p, size=3, sorting='distance')\n",
    "\n",
    "atoms_d1m = atoms.copy()\n",
    "atoms_d1m[1:3] = atoms_d1m[1:3] - delta\n",
    "conf_d1m = qml.representations.generate_atomic_coulomb_matrix(np.array([6,5,7]), atoms_d1m, size=3, sorting='distance')"
   ]
  },
  {
   "cell_type": "code",
   "execution_count": 12,
   "metadata": {},
   "outputs": [
    {
     "data": {
      "text/plain": [
       "array([36.8581052 , 14.14213562, 23.79567423, 19.79898987, 11.66666667,\n",
       "       53.3587074 ])"
      ]
     },
     "execution_count": 12,
     "metadata": {},
     "output_type": "execute_result"
    }
   ],
   "source": [
    "conf0[0]"
   ]
  },
  {
   "cell_type": "code",
   "execution_count": 13,
   "metadata": {},
   "outputs": [
    {
     "data": {
      "text/plain": [
       "array([36.8581052 , 14.62110536, 23.79567423, 19.15035161, 11.66666667,\n",
       "       53.3587074 ])"
      ]
     },
     "execution_count": 13,
     "metadata": {},
     "output_type": "execute_result"
    }
   ],
   "source": [
    "conf_d1m[0]"
   ]
  },
  {
   "cell_type": "code",
   "execution_count": 14,
   "metadata": {},
   "outputs": [
    {
     "data": {
      "text/plain": [
       "array([[ 0. ,  0. ,  0. ],\n",
       "       [-1.4,  1.5,  0. ],\n",
       "       [ 1.6,  1.5,  0. ]])"
      ]
     },
     "execution_count": 14,
     "metadata": {},
     "output_type": "execute_result"
    }
   ],
   "source": [
    "atoms_d1m"
   ]
  },
  {
   "cell_type": "code",
   "execution_count": 8,
   "metadata": {},
   "outputs": [
    {
     "data": {
      "text/plain": [
       "array([[ 0.        , 21.76059666, 37.69791152],\n",
       "       [21.76059666,  0.        , 42.56695737],\n",
       "       [37.69791152, 42.56695737,  0.        ]])"
      ]
     },
     "execution_count": 8,
     "metadata": {},
     "output_type": "execute_result"
    }
   ],
   "source": [
    "qml.kernels.distance.l2_distance(conf0, conf0)"
   ]
  },
  {
   "cell_type": "code",
   "execution_count": 9,
   "metadata": {},
   "outputs": [
    {
     "data": {
      "text/plain": [
       "array([[42.72515007, 37.77683813, 23.56196323],\n",
       "       [22.02485542,  0.81505001, 42.72515007],\n",
       "       [37.77683813, 42.72515007,  0.81505001]])"
      ]
     },
     "execution_count": 9,
     "metadata": {},
     "output_type": "execute_result"
    }
   ],
   "source": [
    "qml.kernels.distance.l2_distance(conf_d1p, conf0)"
   ]
  },
  {
   "cell_type": "code",
   "execution_count": 10,
   "metadata": {},
   "outputs": [
    {
     "data": {
      "text/plain": [
       "array([[ 0.80631483, 21.53192603, 37.49418462],\n",
       "       [21.53192603,  0.80631483, 42.42450442],\n",
       "       [37.64061001, 42.42450442,  0.80631483]])"
      ]
     },
     "execution_count": 10,
     "metadata": {},
     "output_type": "execute_result"
    }
   ],
   "source": [
    "qml.kernels.distance.l2_distance(conf_d1m, conf0)"
   ]
  },
  {
   "cell_type": "code",
   "execution_count": 11,
   "metadata": {},
   "outputs": [
    {
     "data": {
      "text/plain": [
       "array([[36.8581052 , 14.62110536, 23.79567423, 19.15035161, 11.66666667,\n",
       "        53.3587074 ],\n",
       "       [23.79567423, 14.62110536, 36.8581052 , 11.66666667, 19.15035161,\n",
       "        53.3587074 ],\n",
       "       [53.3587074 , 19.15035161, 36.8581052 , 11.66666667, 14.62110536,\n",
       "        23.79567423]])"
      ]
     },
     "execution_count": 11,
     "metadata": {},
     "output_type": "execute_result"
    }
   ],
   "source": [
    "conf_d1m"
   ]
  },
  {
   "cell_type": "code",
   "execution_count": null,
   "metadata": {},
   "outputs": [],
   "source": []
  },
  {
   "cell_type": "code",
   "execution_count": 18,
   "metadata": {},
   "outputs": [],
   "source": [
    "c_atom = np.array([0.0, 0.0, 0.0])\n",
    "n_atom = np.array([1.5, 1.5, 0.0])\n",
    "b_atom = np.array([-1.5, 1.5, 0.0])\n",
    "delta = np.array([-0.1, 0.0, 0.0])\n",
    "atoms = np.array([c_atom,b_atom,n_atom])\n",
    "\n",
    "conf0 = qml.representations.generate_atomic_coulomb_matrix(np.array([6,5,7]), atoms, size=3, sorting='row-norm')\n",
    "\n",
    "atoms_d1p = atoms.copy()\n",
    "atoms_d1p[1:3] = atoms_d1p[1:3] + delta\n",
    "conf_d1p = qml.representations.generate_atomic_coulomb_matrix(np.array([6,5,7]), atoms_d1p, size=3, sorting='row-norm')\n",
    "\n",
    "atoms_d1m = atoms.copy()\n",
    "atoms_d1m[1:3] = atoms_d1m[1:3] - delta\n",
    "conf_d1m = qml.representations.generate_atomic_coulomb_matrix(np.array([6,5,7]), atoms_d1m, size=3, sorting='row-norm')"
   ]
  },
  {
   "cell_type": "code",
   "execution_count": 19,
   "metadata": {},
   "outputs": [
    {
     "data": {
      "text/plain": [
       "array([[36.8581052 , 19.79898987, 53.3587074 , 14.14213562, 11.66666667,\n",
       "        23.79567423],\n",
       "       [23.79567423, 11.66666667, 53.3587074 , 14.14213562, 19.79898987,\n",
       "        36.8581052 ],\n",
       "       [53.3587074 , 19.79898987, 36.8581052 , 11.66666667, 14.14213562,\n",
       "        23.79567423]])"
      ]
     },
     "execution_count": 19,
     "metadata": {},
     "output_type": "execute_result"
    }
   ],
   "source": [
    "conf0"
   ]
  },
  {
   "cell_type": "code",
   "execution_count": 20,
   "metadata": {},
   "outputs": [
    {
     "data": {
      "text/plain": [
       "array([[ 0.        , 21.76059666, 23.59651752],\n",
       "       [21.76059666,  0.        , 37.69791152],\n",
       "       [23.59651752, 37.69791152,  0.        ]])"
      ]
     },
     "execution_count": 20,
     "metadata": {},
     "output_type": "execute_result"
    }
   ],
   "source": [
    "qml.kernels.distance.l2_distance(conf0, conf0)"
   ]
  },
  {
   "cell_type": "code",
   "execution_count": 21,
   "metadata": {},
   "outputs": [
    {
     "data": {
      "text/plain": [
       "array([[ 0.81505001, 22.02485542, 23.56196323],\n",
       "       [22.02485542,  0.81505001, 37.77683813],\n",
       "       [23.56196323, 37.9202454 ,  0.81505001]])"
      ]
     },
     "execution_count": 21,
     "metadata": {},
     "output_type": "execute_result"
    }
   ],
   "source": [
    "qml.kernels.distance.l2_distance(conf_d1p, conf0)"
   ]
  },
  {
   "cell_type": "code",
   "execution_count": 22,
   "metadata": {},
   "outputs": [
    {
     "data": {
      "text/plain": [
       "array([[ 0.80631483, 21.53192603, 23.66045503],\n",
       "       [21.53192603,  0.80631483, 37.64061001],\n",
       "       [23.66045503, 37.49418462,  0.80631483]])"
      ]
     },
     "execution_count": 22,
     "metadata": {},
     "output_type": "execute_result"
    }
   ],
   "source": [
    "qml.kernels.distance.l2_distance(conf_d1m, conf0)"
   ]
  },
  {
   "cell_type": "code",
   "execution_count": 92,
   "metadata": {},
   "outputs": [],
   "source": [
    "# Coloumb Matrix carbon\n",
    "\n",
    "# carbon row\n",
    "cc = 0.5*6**2.4\n",
    "cb = 5*6/(np.linalg.norm(c_atom-b_atom))\n",
    "cn = 7*6/(np.linalg.norm(c_atom-b_atom))\n",
    "norm_c= cc**2+cb**2+cn**2\n",
    "\n",
    "# bor row\n",
    "bb = 0.5*5**2.4\n",
    "bc = 5*6/(np.linalg.norm(c_atom-b_atom))\n",
    "bn = 7*5/(np.linalg.norm(n_atom-b_atom))\n",
    "norm_b= bb**2+bc**2+bn**2\n",
    "\n",
    "# nitrogen row\n",
    "# bor row\n",
    "nn = 0.5*7**2.4\n",
    "nc = 7*6/(np.linalg.norm(c_atom-n_atom))\n",
    "nb = 7*5/(np.linalg.norm(n_atom-b_atom))\n",
    "norm_n= nn**2+nc**2+nb**2"
   ]
  },
  {
   "cell_type": "code",
   "execution_count": 93,
   "metadata": {},
   "outputs": [
    {
     "name": "stdout",
     "output_type": "stream",
     "text": [
      "36.85810519942594 14.142135623730951 19.79898987322333 1950.5199188919496\n",
      "23.79567423394848 14.142135623730951 11.666666666666666 902.3452233593106\n",
      "53.3587073998281 19.79898987322333 11.666666666666666 3375.262766491581\n"
     ]
    }
   ],
   "source": [
    "print(cc, cb, cn, norm_c)\n",
    "print(bb, bc, bn, norm_b)\n",
    "print(nn, nc, nb, norm_n)"
   ]
  },
  {
   "cell_type": "code",
   "execution_count": 94,
   "metadata": {},
   "outputs": [
    {
     "data": {
      "text/plain": [
       "array([[36.8581052 , 14.14213562, 23.79567423, 19.79898987, 11.66666667,\n",
       "        53.3587074 ],\n",
       "       [23.79567423, 14.14213562, 36.8581052 , 11.66666667, 19.79898987,\n",
       "        53.3587074 ],\n",
       "       [53.3587074 , 19.79898987, 36.8581052 , 11.66666667, 14.14213562,\n",
       "        23.79567423]])"
      ]
     },
     "execution_count": 94,
     "metadata": {},
     "output_type": "execute_result"
    }
   ],
   "source": [
    "conf0"
   ]
  }
 ],
 "metadata": {
  "kernelspec": {
   "display_name": "Python [conda env:atomic-energies]",
   "language": "python",
   "name": "conda-env-atomic-energies-py"
  },
  "language_info": {
   "codemirror_mode": {
    "name": "ipython",
    "version": 3
   },
   "file_extension": ".py",
   "mimetype": "text/x-python",
   "name": "python",
   "nbconvert_exporter": "python",
   "pygments_lexer": "ipython3",
   "version": "3.7.3"
  }
 },
 "nbformat": 4,
 "nbformat_minor": 2
}
