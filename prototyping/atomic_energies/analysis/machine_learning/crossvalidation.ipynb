{
 "cells": [
  {
   "cell_type": "code",
   "execution_count": 1,
   "metadata": {},
   "outputs": [],
   "source": [
    "import qml\n",
    "import numpy as np\n",
    "\n",
    "import sys\n",
    "sys.path.insert(0, '/home/misa/APDFT/prototyping/atomic_energies/')\n",
    "import alchemy_tools as alch\n",
    "import qml_interface as qi"
   ]
  },
  {
   "cell_type": "code",
   "execution_count": 2,
   "metadata": {},
   "outputs": [],
   "source": [
    "paths=qi.wrapper_alch_data()\n",
    "# load data into list, count number of atoms per molecule\n",
    "alchemy_data, molecule_size = qi.load_alchemy_data(paths)"
   ]
  },
  {
   "cell_type": "markdown",
   "metadata": {},
   "source": [
    "# Generation of representations and labels"
   ]
  },
  {
   "cell_type": "code",
   "execution_count": 3,
   "metadata": {},
   "outputs": [],
   "source": [
    "# local\n",
    "local_reps = qi.generate_atomic_representations(alchemy_data, molecule_size)\n",
    "local_labels = qi.generate_label_vector(alchemy_data, molecule_size.sum(), value='atomisation')\n",
    "local_labels_shifted = qi.shift_by_mean_energy(local_reps, local_labels)\n",
    "\n",
    "\n",
    "# global\n",
    "global_reps = qi.wrapper_global_representations(alchemy_data, molecule_size) # all global representations\n",
    "global_labels = np.zeros(len(global_reps)) # all global labels\n",
    "for idx, mol in enumerate(alchemy_data):\n",
    "    global_labels[idx] = alchemy_data[idx][:,6].sum()"
   ]
  },
  {
   "cell_type": "code",
   "execution_count": 5,
   "metadata": {},
   "outputs": [],
   "source": [
    "\n",
    "import matplotlib\n",
    "matplotlib.use('Qt5Agg')\n",
    "from matplotlib import pyplot as plt\n",
    "plt.rcParams.update({'font.size': 22})\n",
    "\n",
    "nuc_charges = np.power(local_reps*2, 1/2.4)[:,0].astype(int)\n",
    "# idc_c = np.where(nuc_charges==6)\n",
    "# plt.plot(local_labels[idc_c])\n",
    "\n",
    "# idc_h = np.where(nuc_charges==1)\n",
    "# plt.plot(local_labels[idc_h])\n",
    "\n",
    "# idc_n = np.where(nuc_charges==7)\n",
    "# plt.plot(local_labels[idc_n])\n",
    "\n",
    "# idc_o = np.where(nuc_charges==8)\n",
    "# plt.plot(local_labels[idc_o])\n",
    "\n",
    "shifted = qi.shift_by_mean_energy(local_reps, local_labels)\n",
    "\n",
    "for pl in set(nuc_charges):\n",
    "    i = np.where(nuc_charges==pl)\n",
    "    plt.plot(shifted[i])"
   ]
  },
  {
   "cell_type": "code",
   "execution_count": 4,
   "metadata": {},
   "outputs": [],
   "source": [
    "ref=local_labels[qi.get_local_idx([10], molecule_size)].sum()"
   ]
  },
  {
   "cell_type": "code",
   "execution_count": 5,
   "metadata": {},
   "outputs": [
    {
     "data": {
      "text/plain": [
       "(array([   6,    7,    8, ..., 7573, 7582, 7583]),)"
      ]
     },
     "execution_count": 5,
     "metadata": {},
     "output_type": "execute_result"
    }
   ],
   "source": [
    "nuc_charges = np.power(local_reps*2, 1/2.4)[:,0].astype(int)\n",
    "set(nuc_charges)\n",
    "np.where(nuc_charges==1)"
   ]
  },
  {
   "cell_type": "markdown",
   "metadata": {},
   "source": [
    "# Cross-validation"
   ]
  },
  {
   "cell_type": "code",
   "execution_count": 44,
   "metadata": {
    "scrolled": true
   },
   "outputs": [],
   "source": [
    "sizes = [10, 50, 100, 200, 300, 400, 500]\n",
    "errors = []\n",
    "for i in sizes:\n",
    "    errors.append(qi.crossvalidate_local(len(alchemy_data), i, local_reps, local_labels, molecule_size))"
   ]
  },
  {
   "cell_type": "code",
   "execution_count": 49,
   "metadata": {},
   "outputs": [],
   "source": [
    "errors_atomic = errors"
   ]
  },
  {
   "cell_type": "code",
   "execution_count": 80,
   "metadata": {},
   "outputs": [
    {
     "data": {
      "text/plain": [
       "array([[0.38235913, 0.04973001],\n",
       "       [0.10633949, 0.01609039],\n",
       "       [0.05686432, 0.0054599 ],\n",
       "       [0.03660741, 0.00296098],\n",
       "       [0.03101996, 0.00582005],\n",
       "       [0.02781766, 0.00586551],\n",
       "       [0.02546925, 0.0055068 ]])"
      ]
     },
     "execution_count": 80,
     "metadata": {},
     "output_type": "execute_result"
    }
   ],
   "source": [
    "errors_atomic_local = np.zeros((len(errors_atomic),2))\n",
    "for i in range(0, len(errors_atomic)):\n",
    "    errors_atomic_local[i] = errors_atomic[i][0]\n",
    "errors_atomic_local"
   ]
  },
  {
   "cell_type": "code",
   "execution_count": 78,
   "metadata": {},
   "outputs": [
    {
     "data": {
      "text/plain": [
       "array([[0., 0., 0., 0., 0., 0., 0.],\n",
       "       [0., 0., 0., 0., 0., 0., 0.],\n",
       "       [0., 0., 0., 0., 0., 0., 0.],\n",
       "       [0., 0., 0., 0., 0., 0., 0.],\n",
       "       [0., 0., 0., 0., 0., 0., 0.],\n",
       "       [0., 0., 0., 0., 0., 0., 0.],\n",
       "       [0., 0., 0., 0., 0., 0., 0.]])"
      ]
     },
     "execution_count": 78,
     "metadata": {},
     "output_type": "execute_result"
    }
   ],
   "source": [
    "errors_atomic_local"
   ]
  },
  {
   "cell_type": "code",
   "execution_count": 81,
   "metadata": {},
   "outputs": [],
   "source": [
    "errors_atomic_global = np.zeros((len(errors_atomic),2))\n",
    "for i in range(0, len(errors_atomic)):\n",
    "    errors_atomic_global[i] = errors_atomic[i][1]"
   ]
  },
  {
   "cell_type": "code",
   "execution_count": 46,
   "metadata": {},
   "outputs": [],
   "source": [
    "sizes = [10, 50, 100, 200, 300, 400, 500]\n",
    "errors_shifted = []\n",
    "for i in sizes:\n",
    "    errors_shifted.append(qi.crossvalidate_local(len(alchemy_data), i, local_reps, local_labels_shifted, molecule_size))"
   ]
  },
  {
   "cell_type": "code",
   "execution_count": 83,
   "metadata": {},
   "outputs": [
    {
     "data": {
      "text/plain": [
       "array([[0.77517398, 0.04575044],\n",
       "       [0.29714426, 0.04303408],\n",
       "       [0.15203697, 0.02420382],\n",
       "       [0.06685523, 0.00679266],\n",
       "       [0.04851345, 0.01105046],\n",
       "       [0.03949337, 0.00738924],\n",
       "       [0.03339172, 0.0084296 ]])"
      ]
     },
     "execution_count": 83,
     "metadata": {},
     "output_type": "execute_result"
    }
   ],
   "source": [
    "errors_shifted_local = np.zeros((len(errors_atomic),2))\n",
    "for i in range(0, len(errors_atomic)):\n",
    "    errors_shifted_local[i] = errors_shifted[i][0]\n",
    "errors_shifted_local"
   ]
  },
  {
   "cell_type": "code",
   "execution_count": 84,
   "metadata": {},
   "outputs": [
    {
     "data": {
      "text/plain": [
       "array([[5.50027039, 0.65339766],\n",
       "       [2.45648134, 0.2191541 ],\n",
       "       [1.35086413, 0.22157257],\n",
       "       [0.61285078, 0.090267  ],\n",
       "       [0.41503038, 0.12397733],\n",
       "       [0.30988661, 0.07485668],\n",
       "       [0.25529421, 0.07161679]])"
      ]
     },
     "execution_count": 84,
     "metadata": {},
     "output_type": "execute_result"
    }
   ],
   "source": [
    "errors_shifted_global = np.zeros((len(errors_atomic),2))\n",
    "for i in range(0, len(errors_atomic)):\n",
    "    errors_shifted_global[i] = errors_shifted[i][1]\n",
    "errors_shifted_global"
   ]
  },
  {
   "cell_type": "code",
   "execution_count": 52,
   "metadata": {},
   "outputs": [],
   "source": [
    "sizes = [10, 50, 100, 200, 300, 400, 500]\n",
    "errors_global = []\n",
    "for i in sizes:\n",
    "    \n",
    "    errors_global.append(qi.crossvalidate(len(alchemy_data), i, global_reps, global_labels, molecule_size, mode='global')[0])\n"
   ]
  },
  {
   "cell_type": "code",
   "execution_count": 129,
   "metadata": {},
   "outputs": [],
   "source": [
    "fig, ax = plt.subplots(1,1)\n",
    "ax.plot(sizes, errors_global, '-o', label='global rep')\n",
    "ax.plot(sizes, errors_atomic_global[:,0], '-o', label='local rep', color='red')\n",
    "ax.plot(sizes, errors_atomic_local[:,0], '--o', label='local rep atomic', color='red')\n",
    "ax.plot(sizes, errors_shifted_global[:,0], '-o', label='local rep shifted', color='green')\n",
    "ax.plot(sizes, errors_shifted_local[:,0], '--o', label='local rep shifted atomic', color='green')\n",
    "ax.legend()\n",
    "ax.set_xlabel('Training set size')\n",
    "ax.set_xscale('log')\n",
    "ax.set_ylabel('Mean error per molecule')\n",
    "ax.set_yscale('log')"
   ]
  },
  {
   "cell_type": "code",
   "execution_count": 131,
   "metadata": {},
   "outputs": [],
   "source": [
    "fig, ax = plt.subplots(1,1)\n",
    "ax.errorbar(sizes, errors_global, yerr=None, ls='-', marker='o', label='global rep')\n",
    "ax.errorbar(sizes, errors_atomic_global[:,0], yerr=errors_atomic_global[:,1], ls='solid', marker='o',label='local rep', color='red')\n",
    "ax.errorbar(sizes, errors_atomic_local[:,0], ls='--', marker='o', label='local rep atomic', color='red', yerr=errors_atomic_local[:,1])\n",
    "ax.errorbar(sizes, errors_shifted_global[:,0], ls='-', marker='o', label='local rep shifted', color='green', yerr=errors_shifted_global[:,1])\n",
    "ax.errorbar(sizes, errors_shifted_local[:,0], ls='--', marker='o', label='local rep shifted atomic', color='green', yerr=errors_shifted_local[:,1])\n",
    "ax.legend()\n",
    "ax.set_xlabel('Training set size')\n",
    "ax.set_xscale('log')\n",
    "ax.set_ylabel('Mean error per molecule')\n",
    "ax.set_yscale('log')"
   ]
  },
  {
   "cell_type": "code",
   "execution_count": 116,
   "metadata": {},
   "outputs": [],
   "source": [
    "fig, ax = plt.subplots(1,1)\n",
    "ax.errorbar(sizes, errors_atomic_global[:,0], yerr=errors_atomic_global[:,1])\n",
    "ax.errorbar(sizes, errors_atomic_global[:,0])\n",
    "ax.set_yscale('log')\n",
    "ax.set_xscale('log')"
   ]
  },
  {
   "cell_type": "markdown",
   "metadata": {},
   "source": [
    "# Select data"
   ]
  },
  {
   "cell_type": "code",
   "execution_count": 7,
   "metadata": {},
   "outputs": [],
   "source": [
    "training_set_size = 100\n",
    "total_set_size = len(alchemy_data)\n",
    "global_rep_bool = False\n",
    "\n",
    "# split molecule indices in training and validation\n",
    "global_idc = qi.get_indices(total_set_size, training_set_size)\n",
    "# get the indices of the corresponding atomic representations, labels\n",
    "local_idc = qi.get_local_idx(global_idc[0], molecule_size), qi.get_local_idx(global_idc[1], molecule_size)\n",
    "\n",
    "# select the data\n",
    "if global_rep_bool:\n",
    "    rep = global_reps[global_idc[0]], global_reps[global_idc[1]]\n",
    "    labels = global_labels[global_idc[0]], global_labels[global_idc[1]]\n",
    "else:\n",
    "    rep = local_reps[local_idc[0]], local_reps[local_idc[1]] # select the representations\n",
    "    labels = local_labels[local_idc[0]], local_labels[local_idc[1]] # select the labels"
   ]
  },
  {
   "cell_type": "markdown",
   "metadata": {},
   "source": [
    "# optimize hyperparameters"
   ]
  },
  {
   "cell_type": "code",
   "execution_count": 8,
   "metadata": {},
   "outputs": [],
   "source": [
    "rep = local_reps[local_idc[0]], local_reps[local_idc[1]] # select the representations\n",
    "labels = local_labels[local_idc[0]], local_labels[local_idc[1]] # select the labels\n",
    "sigmas = np.logspace(-1, 4, 12).tolist() #14)\n",
    "lams = np.logspace(-15, 0, 16).tolist()#16)\n",
    "out = qi.optimize_hypar(rep, labels, sigmas, lams)"
   ]
  },
  {
   "cell_type": "code",
   "execution_count": 14,
   "metadata": {},
   "outputs": [
    {
     "data": {
      "text/plain": [
       "array([[1.00000000e-01, 1.00000000e-15, 4.44204377e+00],\n",
       "       [1.00000000e-01, 1.00000000e-14, 4.44204377e+00],\n",
       "       [1.00000000e-01, 1.00000000e-13, 4.44204377e+00],\n",
       "       [1.00000000e-01, 1.00000000e-12, 4.44204377e+00],\n",
       "       [1.00000000e-01, 1.00000000e-11, 4.44204377e+00],\n",
       "       [1.00000000e-01, 1.00000000e-10, 4.44204377e+00],\n",
       "       [1.00000000e-01, 1.00000000e-09, 4.44204377e+00],\n",
       "       [1.00000000e-01, 1.00000000e-08, 4.44204377e+00],\n",
       "       [1.00000000e-01, 1.00000000e-07, 4.44204377e+00],\n",
       "       [1.00000000e-01, 1.00000000e-06, 4.44204377e+00],\n",
       "       [1.00000000e-01, 1.00000000e-05, 4.44204377e+00],\n",
       "       [1.00000000e-01, 1.00000000e-04, 4.44204377e+00],\n",
       "       [1.00000000e-01, 1.00000000e-03, 4.44204377e+00],\n",
       "       [1.00000000e-01, 1.00000000e-02, 4.44204377e+00],\n",
       "       [1.00000000e-01, 1.00000000e-01, 4.44204377e+00],\n",
       "       [1.00000000e-01, 1.00000000e+00, 4.44204377e+00],\n",
       "       [2.84803587e-01, 1.00000000e-15, 4.44204377e+00],\n",
       "       [2.84803587e-01, 1.00000000e-14, 4.44204377e+00],\n",
       "       [2.84803587e-01, 1.00000000e-13, 4.44204377e+00],\n",
       "       [2.84803587e-01, 1.00000000e-12, 4.44204377e+00],\n",
       "       [2.84803587e-01, 1.00000000e-11, 4.44204377e+00],\n",
       "       [2.84803587e-01, 1.00000000e-10, 4.44204377e+00],\n",
       "       [2.84803587e-01, 1.00000000e-09, 4.44204377e+00],\n",
       "       [2.84803587e-01, 1.00000000e-08, 4.44204377e+00],\n",
       "       [2.84803587e-01, 1.00000000e-07, 4.44204377e+00],\n",
       "       [2.84803587e-01, 1.00000000e-06, 4.44204377e+00],\n",
       "       [2.84803587e-01, 1.00000000e-05, 4.44204377e+00],\n",
       "       [2.84803587e-01, 1.00000000e-04, 4.44204377e+00],\n",
       "       [2.84803587e-01, 1.00000000e-03, 4.44204377e+00],\n",
       "       [2.84803587e-01, 1.00000000e-02, 4.44204377e+00],\n",
       "       [2.84803587e-01, 1.00000000e-01, 4.44204377e+00],\n",
       "       [2.84803587e-01, 1.00000000e+00, 4.44204377e+00],\n",
       "       [8.11130831e-01, 1.00000000e-15, 4.44204257e+00],\n",
       "       [8.11130831e-01, 1.00000000e-14, 4.44204257e+00],\n",
       "       [8.11130831e-01, 1.00000000e-13, 4.44204257e+00],\n",
       "       [8.11130831e-01, 1.00000000e-12, 4.44204257e+00],\n",
       "       [8.11130831e-01, 1.00000000e-11, 4.44204257e+00],\n",
       "       [8.11130831e-01, 1.00000000e-10, 4.44204257e+00],\n",
       "       [8.11130831e-01, 1.00000000e-09, 4.44204257e+00],\n",
       "       [8.11130831e-01, 1.00000000e-08, 4.44204257e+00],\n",
       "       [8.11130831e-01, 1.00000000e-07, 4.44204257e+00],\n",
       "       [8.11130831e-01, 1.00000000e-06, 4.44204257e+00],\n",
       "       [8.11130831e-01, 1.00000000e-05, 4.44204257e+00],\n",
       "       [8.11130831e-01, 1.00000000e-04, 4.44204257e+00],\n",
       "       [8.11130831e-01, 1.00000000e-03, 4.44204257e+00],\n",
       "       [8.11130831e-01, 1.00000000e-02, 4.44204258e+00],\n",
       "       [8.11130831e-01, 1.00000000e-01, 4.44204268e+00],\n",
       "       [8.11130831e-01, 1.00000000e+00, 4.44204317e+00],\n",
       "       [2.31012970e+00, 1.00000000e-15, 4.43963539e+00],\n",
       "       [2.31012970e+00, 1.00000000e-14, 4.43963539e+00],\n",
       "       [2.31012970e+00, 1.00000000e-13, 4.43963539e+00],\n",
       "       [2.31012970e+00, 1.00000000e-12, 4.43963539e+00],\n",
       "       [2.31012970e+00, 1.00000000e-11, 4.43963539e+00],\n",
       "       [2.31012970e+00, 1.00000000e-10, 4.43963539e+00],\n",
       "       [2.31012970e+00, 1.00000000e-09, 4.43963539e+00],\n",
       "       [2.31012970e+00, 1.00000000e-08, 4.43963539e+00],\n",
       "       [2.31012970e+00, 1.00000000e-07, 4.43963539e+00],\n",
       "       [2.31012970e+00, 1.00000000e-06, 4.43963538e+00],\n",
       "       [2.31012970e+00, 1.00000000e-05, 4.43963527e+00],\n",
       "       [2.31012970e+00, 1.00000000e-04, 4.43963492e+00],\n",
       "       [2.31012970e+00, 1.00000000e-03, 4.43963638e+00],\n",
       "       [2.31012970e+00, 1.00000000e-02, 4.43965482e+00],\n",
       "       [2.31012970e+00, 1.00000000e-01, 4.43982170e+00],\n",
       "       [2.31012970e+00, 1.00000000e+00, 4.44071123e+00],\n",
       "       [6.57933225e+00, 1.00000000e-15, 3.87712232e+00],\n",
       "       [6.57933225e+00, 1.00000000e-14, 3.87711845e+00],\n",
       "       [6.57933225e+00, 1.00000000e-13, 3.87707844e+00],\n",
       "       [6.57933225e+00, 1.00000000e-12, 3.87668272e+00],\n",
       "       [6.57933225e+00, 1.00000000e-11, 3.87312577e+00],\n",
       "       [6.57933225e+00, 1.00000000e-10, 3.85650023e+00],\n",
       "       [6.57933225e+00, 1.00000000e-09, 3.84691912e+00],\n",
       "       [6.57933225e+00, 1.00000000e-08, 3.84676505e+00],\n",
       "       [6.57933225e+00, 1.00000000e-07, 3.84671316e+00],\n",
       "       [6.57933225e+00, 1.00000000e-06, 3.84664431e+00],\n",
       "       [6.57933225e+00, 1.00000000e-05, 3.84657797e+00],\n",
       "       [6.57933225e+00, 1.00000000e-04, 3.84642959e+00],\n",
       "       [6.57933225e+00, 1.00000000e-03, 3.84603171e+00],\n",
       "       [6.57933225e+00, 1.00000000e-02, 3.84778587e+00],\n",
       "       [6.57933225e+00, 1.00000000e-01, 3.87603694e+00],\n",
       "       [6.57933225e+00, 1.00000000e+00, 4.04253919e+00],\n",
       "       [1.87381742e+01, 1.00000000e-15, 5.95953057e+00],\n",
       "       [1.87381742e+01, 1.00000000e-14, 5.95410421e+00],\n",
       "       [1.87381742e+01, 1.00000000e-13, 5.90067279e+00],\n",
       "       [1.87381742e+01, 1.00000000e-12, 5.41925897e+00],\n",
       "       [1.87381742e+01, 1.00000000e-11, 3.10861421e+00],\n",
       "       [1.87381742e+01, 1.00000000e-10, 1.02817850e+00],\n",
       "       [1.87381742e+01, 1.00000000e-09, 7.03942730e-01],\n",
       "       [1.87381742e+01, 1.00000000e-08, 6.87647671e-01],\n",
       "       [1.87381742e+01, 1.00000000e-07, 6.88691320e-01],\n",
       "       [1.87381742e+01, 1.00000000e-06, 6.90273916e-01],\n",
       "       [1.87381742e+01, 1.00000000e-05, 6.90893034e-01],\n",
       "       [1.87381742e+01, 1.00000000e-04, 6.91819058e-01],\n",
       "       [1.87381742e+01, 1.00000000e-03, 6.94659769e-01],\n",
       "       [1.87381742e+01, 1.00000000e-02, 7.04378718e-01],\n",
       "       [1.87381742e+01, 1.00000000e-01, 7.42511475e-01],\n",
       "       [1.87381742e+01, 1.00000000e+00, 9.63024737e-01],\n",
       "       [5.33669923e+01, 1.00000000e-15, 2.87693209e+01],\n",
       "       [5.33669923e+01, 1.00000000e-14, 2.75907008e+01],\n",
       "       [5.33669923e+01, 1.00000000e-13, 1.95549891e+01],\n",
       "       [5.33669923e+01, 1.00000000e-12, 5.03743759e+00],\n",
       "       [5.33669923e+01, 1.00000000e-11, 6.85484776e-01],\n",
       "       [5.33669923e+01, 1.00000000e-10, 2.01294496e-01],\n",
       "       [5.33669923e+01, 1.00000000e-09, 1.56034156e-01],\n",
       "       [5.33669923e+01, 1.00000000e-08, 1.27115323e-01],\n",
       "       [5.33669923e+01, 1.00000000e-07, 1.23467456e-01],\n",
       "       [5.33669923e+01, 1.00000000e-06, 1.23609723e-01],\n",
       "       [5.33669923e+01, 1.00000000e-05, 1.25553596e-01],\n",
       "       [5.33669923e+01, 1.00000000e-04, 1.29511822e-01],\n",
       "       [5.33669923e+01, 1.00000000e-03, 1.38965537e-01],\n",
       "       [5.33669923e+01, 1.00000000e-02, 1.88216712e-01],\n",
       "       [5.33669923e+01, 1.00000000e-01, 3.23404929e-01],\n",
       "       [5.33669923e+01, 1.00000000e+00, 6.27116930e-01],\n",
       "       [1.51991108e+02, 1.00000000e-15, 3.55751938e+01],\n",
       "       [1.51991108e+02, 1.00000000e-14, 9.67327191e+00],\n",
       "       [1.51991108e+02, 1.00000000e-13, 1.37225417e+00],\n",
       "       [1.51991108e+02, 1.00000000e-12, 2.64572829e-01],\n",
       "       [1.51991108e+02, 1.00000000e-11, 1.64576195e-01],\n",
       "       [1.51991108e+02, 1.00000000e-10, 9.08200612e-02],\n",
       "       [1.51991108e+02, 1.00000000e-09, 6.91819749e-02],\n",
       "       [1.51991108e+02, 1.00000000e-08, 6.26994292e-02],\n",
       "       [1.51991108e+02, 1.00000000e-07, 5.88283864e-02],\n",
       "       [1.51991108e+02, 1.00000000e-06, 5.56527273e-02],\n",
       "       [1.51991108e+02, 1.00000000e-05, 5.39361511e-02],\n",
       "       [1.51991108e+02, 1.00000000e-04, 6.30766542e-02],\n",
       "       [1.51991108e+02, 1.00000000e-03, 1.05447335e-01],\n",
       "       [1.51991108e+02, 1.00000000e-02, 2.37552583e-01],\n",
       "       [1.51991108e+02, 1.00000000e-01, 5.00826354e-01],\n",
       "       [1.51991108e+02, 1.00000000e+00, 1.37837085e+00],\n",
       "       [4.32876128e+02, 1.00000000e-15, 2.08728463e+16],\n",
       "       [4.32876128e+02, 1.00000000e-14, 4.04196563e-01],\n",
       "       [4.32876128e+02, 1.00000000e-13, 1.90501532e-01],\n",
       "       [4.32876128e+02, 1.00000000e-12, 1.05771465e-01],\n",
       "       [4.32876128e+02, 1.00000000e-11, 6.94003456e-02],\n",
       "       [4.32876128e+02, 1.00000000e-10, 6.07937833e-02],\n",
       "       [4.32876128e+02, 1.00000000e-09, 5.53928187e-02],\n",
       "       [4.32876128e+02, 1.00000000e-08, 5.12090676e-02],\n",
       "       [4.32876128e+02, 1.00000000e-07, 4.81068501e-02],\n",
       "       [4.32876128e+02, 1.00000000e-06, 5.27528319e-02],\n",
       "       [4.32876128e+02, 1.00000000e-05, 6.67090510e-02],\n",
       "       [4.32876128e+02, 1.00000000e-04, 1.03889363e-01],\n",
       "       [4.32876128e+02, 1.00000000e-03, 2.16181900e-01],\n",
       "       [4.32876128e+02, 1.00000000e-02, 5.05571305e-01],\n",
       "       [4.32876128e+02, 1.00000000e-01, 1.35515552e+00],\n",
       "       [4.32876128e+02, 1.00000000e+00, 2.43380228e+00],\n",
       "       [1.23284674e+03, 1.00000000e-15, 1.15099942e+15],\n",
       "       [1.23284674e+03, 1.00000000e-14, 1.26248105e-01],\n",
       "       [1.23284674e+03, 1.00000000e-13, 7.15880670e-02],\n",
       "       [1.23284674e+03, 1.00000000e-12, 6.21228802e-02],\n",
       "       [1.23284674e+03, 1.00000000e-11, 5.77771419e-02],\n",
       "       [1.23284674e+03, 1.00000000e-10, 5.38191290e-02],\n",
       "       [1.23284674e+03, 1.00000000e-09, 5.03709747e-02],\n",
       "       [1.23284674e+03, 1.00000000e-08, 5.35392848e-02],\n",
       "       [1.23284674e+03, 1.00000000e-07, 6.58709406e-02],\n",
       "       [1.23284674e+03, 1.00000000e-06, 8.96806886e-02],\n",
       "       [1.23284674e+03, 1.00000000e-05, 1.21664996e-01],\n",
       "       [1.23284674e+03, 1.00000000e-04, 2.04922821e-01],\n",
       "       [1.23284674e+03, 1.00000000e-03, 4.89425379e-01],\n",
       "       [1.23284674e+03, 1.00000000e-02, 1.26763260e+00],\n",
       "       [1.23284674e+03, 1.00000000e-01, 2.37049624e+00],\n",
       "       [1.23284674e+03, 1.00000000e+00, 3.23905173e+00],\n",
       "       [3.51119173e+03, 1.00000000e-15, 4.79904989e+10],\n",
       "       [3.51119173e+03, 1.00000000e-14, 6.50173221e-02],\n",
       "       [3.51119173e+03, 1.00000000e-13, 5.85894720e-02],\n",
       "       [3.51119173e+03, 1.00000000e-12, 5.44652505e-02],\n",
       "       [3.51119173e+03, 1.00000000e-11, 4.96635338e-02],\n",
       "       [3.51119173e+03, 1.00000000e-10, 5.13030193e-02],\n",
       "       [3.51119173e+03, 1.00000000e-09, 6.30320928e-02],\n",
       "       [3.51119173e+03, 1.00000000e-08, 8.80624389e-02],\n",
       "       [3.51119173e+03, 1.00000000e-07, 1.14219622e-01],\n",
       "       [3.51119173e+03, 1.00000000e-06, 1.39937437e-01],\n",
       "       [3.51119173e+03, 1.00000000e-05, 1.94822871e-01],\n",
       "       [3.51119173e+03, 1.00000000e-04, 4.53942059e-01],\n",
       "       [3.51119173e+03, 1.00000000e-03, 1.16815260e+00],\n",
       "       [3.51119173e+03, 1.00000000e-02, 2.29819207e+00],\n",
       "       [3.51119173e+03, 1.00000000e-01, 3.12802903e+00],\n",
       "       [3.51119173e+03, 1.00000000e+00, 4.11783539e+00],\n",
       "       [1.00000000e+04, 1.00000000e-15, 1.54579785e+14],\n",
       "       [1.00000000e+04, 1.00000000e-14, 6.69054283e-02],\n",
       "       [1.00000000e+04, 1.00000000e-13, 5.43988343e-02],\n",
       "       [1.00000000e+04, 1.00000000e-12, 4.97169624e-02],\n",
       "       [1.00000000e+04, 1.00000000e-11, 5.89658742e-02],\n",
       "       [1.00000000e+04, 1.00000000e-10, 8.38484140e-02],\n",
       "       [1.00000000e+04, 1.00000000e-09, 1.14274780e-01],\n",
       "       [1.00000000e+04, 1.00000000e-08, 1.37172551e-01],\n",
       "       [1.00000000e+04, 1.00000000e-07, 1.47511355e-01],\n",
       "       [1.00000000e+04, 1.00000000e-06, 1.85186559e-01],\n",
       "       [1.00000000e+04, 1.00000000e-05, 4.17640093e-01],\n",
       "       [1.00000000e+04, 1.00000000e-04, 1.07227183e+00],\n",
       "       [1.00000000e+04, 1.00000000e-03, 2.21778410e+00],\n",
       "       [1.00000000e+04, 1.00000000e-02, 3.02277191e+00],\n",
       "       [1.00000000e+04, 1.00000000e-01, 4.06640734e+00],\n",
       "       [1.00000000e+04, 1.00000000e+00, 4.33656825e+00]])"
      ]
     },
     "execution_count": 14,
     "metadata": {},
     "output_type": "execute_result"
    }
   ],
   "source": [
    "# store output\n",
    "out[0]"
   ]
  },
  {
   "cell_type": "code",
   "execution_count": 16,
   "metadata": {},
   "outputs": [
    {
     "data": {
      "text/plain": [
       "(array([136]), array([2]))"
      ]
     },
     "execution_count": 16,
     "metadata": {},
     "output_type": "execute_result"
    }
   ],
   "source": [
    "# optimum sigma, lambda and mean error for the optimum hyperparameters\n",
    "out[0][np.where(out[0]==np.amin(out[0][:,2]))[0]][0]\n",
    "\n",
    "# coefficient for optimum hyperparameters\n",
    "coeffs = out[1]"
   ]
  },
  {
   "cell_type": "code",
   "execution_count": 26,
   "metadata": {},
   "outputs": [
    {
     "data": {
      "text/plain": [
       "0.04810685008524246"
      ]
     },
     "execution_count": 26,
     "metadata": {},
     "output_type": "execute_result"
    }
   ],
   "source": [
    "out[0][np.where(out[0]==np.amin(out[0][:,2]))[0]][0,2]\n"
   ]
  },
  {
   "cell_type": "code",
   "execution_count": 21,
   "metadata": {},
   "outputs": [
    {
     "data": {
      "text/plain": [
       "array([4.32876128e+02, 1.00000000e-07, 4.81068501e-02])"
      ]
     },
     "execution_count": 21,
     "metadata": {},
     "output_type": "execute_result"
    }
   ],
   "source": []
  }
 ],
 "metadata": {
  "kernelspec": {
   "display_name": "Python [conda env:atomic-energies]",
   "language": "python",
   "name": "conda-env-atomic-energies-py"
  },
  "language_info": {
   "codemirror_mode": {
    "name": "ipython",
    "version": 3
   },
   "file_extension": ".py",
   "mimetype": "text/x-python",
   "name": "python",
   "nbconvert_exporter": "python",
   "pygments_lexer": "ipython3",
   "version": "3.7.3"
  }
 },
 "nbformat": 4,
 "nbformat_minor": 2
}
