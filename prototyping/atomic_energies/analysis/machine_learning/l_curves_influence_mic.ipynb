{
 "cells": [
  {
   "cell_type": "code",
   "execution_count": 1,
   "metadata": {},
   "outputs": [],
   "source": [
    "import numpy as np\n",
    "\n",
    "import matplotlib\n",
    "matplotlib.use('Qt5Agg')\n",
    "from matplotlib import pyplot as plt\n",
    "plt.rcParams.update({'font.size': 22})\n",
    "\n",
    "\n",
    "import sys\n",
    "sys.path.insert(0, '/home/misa/APDFT/prototyping/atomic_energies/')\n",
    "import qml_interface as qi"
   ]
  },
  {
   "cell_type": "markdown",
   "metadata": {},
   "source": [
    "# Learning curves for different labels"
   ]
  },
  {
   "cell_type": "code",
   "execution_count": 2,
   "metadata": {},
   "outputs": [],
   "source": [
    "# load learning curves\n",
    "\n",
    "main_path = '/home/misa/APDFT/prototyping/atomic_energies/results/analyse_learning/mic/old_stuff/'\n",
    "\n",
    "alch_pot = np.loadtxt(main_path + 'lcurve_alchpot.txt')\n",
    "atomic = np.loadtxt(main_path + 'lcurve_atomic.txt')\n",
    "atomisation_atomic = np.loadtxt(main_path + 'lcurve_atomisation_atomic.txt')\n",
    "atomisation_molecule = np.loadtxt(main_path + 'lcurve_atomisation_molecule.txt')\n",
    "\n",
    "curves = [alch_pot, atomic, atomisation_atomic, atomisation_molecule]"
   ]
  },
  {
   "cell_type": "code",
   "execution_count": 3,
   "metadata": {},
   "outputs": [
    {
     "data": {
      "text/plain": [
       "<matplotlib.legend.Legend at 0x7f913002c358>"
      ]
     },
     "execution_count": 3,
     "metadata": {},
     "output_type": "execute_result"
    }
   ],
   "source": [
    "# plot curves\n",
    "fig, ax = plt.subplots(1,1)\n",
    "labels = ['alch_pot', 'atomic', 'atomisation_atomic', 'atomisation_molecule']\n",
    "for c in zip(curves, labels):\n",
    "    ax.errorbar(c[0][:,0], c[0][:,1], yerr=c[0][:,2], marker='o', label=c[1])\n",
    "\n",
    "ax.set_xscale('log')\n",
    "ax.set_yscale('log')\n",
    "ax.set_xlabel('# Training points (Molecules)')\n",
    "ax.set_ylabel('MAE (Ha)')\n",
    "ax.legend()"
   ]
  },
  {
   "cell_type": "markdown",
   "metadata": {},
   "source": [
    "# Comparison of learning curves per atom and per molecule for atomic energy"
   ]
  },
  {
   "cell_type": "code",
   "execution_count": 7,
   "metadata": {},
   "outputs": [],
   "source": [
    "# load learning curves\n",
    "\n",
    "main_path = '/home/misa/APDFT/prototyping/atomic_energies/results/analyse_learning/mic/old_stuff/'\n",
    "\n",
    "atomic = np.loadtxt(main_path + 'lcurve_atomic.txt')\n",
    "atomic_per_atom = np.loadtxt(main_path + 'lcurve_atomic_per_atom.txt')\n"
   ]
  },
  {
   "cell_type": "code",
   "execution_count": 8,
   "metadata": {},
   "outputs": [
    {
     "data": {
      "text/plain": [
       "<matplotlib.legend.Legend at 0x7fe6b025a8d0>"
      ]
     },
     "execution_count": 8,
     "metadata": {},
     "output_type": "execute_result"
    }
   ],
   "source": [
    "# lcurve per atom\n",
    "fig, ax = plt.subplots(1,1)\n",
    "\n",
    "ax.errorbar(atomic_per_atom[:, 0], atomic_per_atom[:,1], yerr=atomic_per_atom[:, 2],marker='o', label = 'atomic energy per atom')\n",
    "\n",
    "ax.set_xscale('log')\n",
    "ax.set_yscale('log')\n",
    "ax.set_xlabel('# Training points (Atoms)')\n",
    "ax.set_ylabel('MAE (Ha)')\n",
    "ax.legend()"
   ]
  },
  {
   "cell_type": "code",
   "execution_count": 9,
   "metadata": {},
   "outputs": [
    {
     "data": {
      "text/plain": [
       "<matplotlib.legend.Legend at 0x7fe6b0166ef0>"
      ]
     },
     "execution_count": 9,
     "metadata": {},
     "output_type": "execute_result"
    }
   ],
   "source": [
    "# compare curves per atom and per molecule\n",
    "fig, ax = plt.subplots(1,1)\n",
    "\n",
    "ax.errorbar(atomic[:, 0], atomic[:,1], yerr=atomic[:, 2], marker='o', label = 'atomic energy per molecule')\n",
    "ax.errorbar(atomic_per_atom[:, 0]/13, atomic_per_atom[:,1], yerr=atomic_per_atom[:, 2],marker='o', label = 'atomic energy per atom')\n",
    "\n",
    "ax.set_xscale('log')\n",
    "ax.set_yscale('log')\n",
    "ax.set_xlabel('# Training points (Molecules)')\n",
    "ax.set_ylabel('MAE (Ha)')\n",
    "ax.legend()"
   ]
  },
  {
   "cell_type": "markdown",
   "metadata": {},
   "source": [
    "# Comparison of learning curves per atom for atomic and atomic atomisation"
   ]
  },
  {
   "cell_type": "code",
   "execution_count": 11,
   "metadata": {},
   "outputs": [],
   "source": [
    "# load learning curves\n",
    "\n",
    "main_path = '/home/misa/APDFT/prototyping/atomic_energies/results/analyse_learning/mic/old_stuff/'\n",
    "\n",
    "atomic_per_atom = np.loadtxt(main_path + 'lcurve_atomic_per_atom.txt')\n",
    "atomic_atomisation_per_atom = np.loadtxt(main_path + 'lcurve_atomisation_atomic_per_atom.txt')"
   ]
  },
  {
   "cell_type": "code",
   "execution_count": 12,
   "metadata": {},
   "outputs": [
    {
     "data": {
      "text/plain": [
       "<matplotlib.legend.Legend at 0x7fe6abdcc278>"
      ]
     },
     "execution_count": 12,
     "metadata": {},
     "output_type": "execute_result"
    }
   ],
   "source": [
    "# compare curves atomic and atomisation\n",
    "fig, ax = plt.subplots(1,1)\n",
    "\n",
    "ax.errorbar(atomic_per_atom[:, 0], atomic_per_atom[:,1], yerr=atomic_per_atom[:, 2],marker='o', label = 'atomic energy')\n",
    "ax.errorbar(atomic_atomisation_per_atom[:, 0], atomic_atomisation_per_atom[:,1], yerr=atomic_atomisation_per_atom[:, 2],marker='o', label = 'atomic atomisation energy')\n",
    "\n",
    "ax.set_xscale('log')\n",
    "ax.set_yscale('log')\n",
    "ax.set_xlabel('# Training points (Atoms)')\n",
    "ax.set_ylabel('MAE (Ha)')\n",
    "ax.legend()"
   ]
  },
  {
   "cell_type": "markdown",
   "metadata": {},
   "source": [
    "# Compare learning curves atomic with and without MIC"
   ]
  },
  {
   "cell_type": "code",
   "execution_count": 2,
   "metadata": {},
   "outputs": [],
   "source": [
    "# load learning curves\n",
    "\n",
    "atomic_mic = np.loadtxt('/home/misa/APDFT/prototyping/atomic_energies/results/analyse_learning/mic/lcurve_atomic.txt')\n",
    "atomic_no_mic = np.loadtxt('/home/misa/APDFT/prototyping/atomic_energies/results/analyse_learning/no_mic/lcurve_atomic.txt')\n"
   ]
  },
  {
   "cell_type": "code",
   "execution_count": 3,
   "metadata": {},
   "outputs": [
    {
     "data": {
      "text/plain": [
       "Text(0, 0.5, 'MAE atomic energy (Ha)')"
      ]
     },
     "execution_count": 3,
     "metadata": {},
     "output_type": "execute_result"
    }
   ],
   "source": [
    "fig, ax = plt.subplots(1,1)\n",
    "ax.errorbar(atomic_mic[:,0], atomic_mic[:,1], yerr=atomic_mic[:,2], marker='o', label='atomic MIC')\n",
    "ax.errorbar(atomic_no_mic[:,0], atomic_no_mic[:,1], yerr=atomic_no_mic[:,2], marker= 'o', label='atomic no MIC')\n",
    "ax.set_xscale('log')\n",
    "ax.set_yscale('log')\n",
    "ax.legend()\n",
    "ax.set_xlabel('# Training points (Molecules)')\n",
    "ax.set_ylabel('MAE atomic energy (Ha)')"
   ]
  },
  {
   "cell_type": "code",
   "execution_count": null,
   "metadata": {},
   "outputs": [],
   "source": []
  }
 ],
 "metadata": {
  "kernelspec": {
   "display_name": "Python [conda env:atomic-energies]",
   "language": "python",
   "name": "conda-env-atomic-energies-py"
  },
  "language_info": {
   "codemirror_mode": {
    "name": "ipython",
    "version": 3
   },
   "file_extension": ".py",
   "mimetype": "text/x-python",
   "name": "python",
   "nbconvert_exporter": "python",
   "pygments_lexer": "ipython3",
   "version": "3.7.3"
  }
 },
 "nbformat": 4,
 "nbformat_minor": 2
}
