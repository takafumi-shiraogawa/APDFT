{
 "cells": [
  {
   "cell_type": "code",
   "execution_count": 3,
   "metadata": {},
   "outputs": [],
   "source": [
    "import matplotlib\n",
    "matplotlib.use('Qt5Agg')\n",
    "from matplotlib import pyplot as plt\n",
    "plt.rcParams.update({'font.size': 22})\n",
    "import numpy as np\n",
    "import itertools\n",
    "import sys\n",
    "sys.path.insert(0, '/home/misa/APDFT/prototyping/atomic_energies/')\n",
    "from parse_density_files import CUBE\n",
    "import alchemy_tools as at"
   ]
  },
  {
   "cell_type": "markdown",
   "metadata": {},
   "source": [
    "# Load cube-files"
   ]
  },
  {
   "cell_type": "code",
   "execution_count": 7,
   "metadata": {},
   "outputs": [],
   "source": [
    "'/home/misa/APDFT/prototyping/atomic_energies/results/slice_ve38/dsgdb9nsd_000227/cube-files/ve_38.cube'\n",
    "base_path = '/home/misa/APDFT/prototyping/atomic_energies/results/slice_ve38/'\n",
    "compounds = ['dsgdb9nsd_003585/cube-files/']#,'dsgdb9nsd_002967/cube-files/', 'dsgdb9nsd_001212/cube-files/', 'dsgdb9nsd_003886/cube-files/', 'dsgdb9nsd_000227/cube-files/', 'dsgdb9nsd_003712/cube-files/']\n",
    "# compounds = ['dsgdb9nsd_003335/cube-files/', 'dsgdb9nsd_009030/cube-files/', 'dsgdb9nsd_021325/cube-files/']\n",
    "lam_vals = ['ve_38.cube', 've_30.cube', 've_23.cube', 've_15.cube', 've_8.cube']"
   ]
  },
  {
   "cell_type": "code",
   "execution_count": 8,
   "metadata": {},
   "outputs": [],
   "source": [
    "paths = []\n",
    "# build paths to cube-files\n",
    "for com in compounds:\n",
    "    paths_compound = []\n",
    "    for lam in lam_vals:\n",
    "        paths_compound.append(base_path + com + lam)\n",
    "    paths.append(paths_compound)"
   ]
  },
  {
   "cell_type": "code",
   "execution_count": 9,
   "metadata": {},
   "outputs": [],
   "source": [
    "cubes = []\n",
    "for p in paths:\n",
    "    cubes_compound = []\n",
    "    for cube in p:\n",
    "        cubes_compound.append(CUBE(cube))\n",
    "    cubes.append(cubes_compound)\n",
    "        "
   ]
  },
  {
   "cell_type": "code",
   "execution_count": 8,
   "metadata": {},
   "outputs": [],
   "source": [
    "new_cubes = []\n",
    "for lam in lam_vals:\n",
    "    new_cubes.append(CUBE('/home/misa/APDFT/prototyping/atomic_energies/results/slice_ve38/dsgdb9nsd_001212/cube-files/' + lam))\n",
    "cubes.append(new_cubes)"
   ]
  },
  {
   "cell_type": "code",
   "execution_count": 10,
   "metadata": {},
   "outputs": [
    {
     "data": {
      "text/plain": [
       "[11.38, 11.38, 11.38, 11.38, 11.38]"
      ]
     },
     "execution_count": 10,
     "metadata": {},
     "output_type": "execute_result"
    }
   ],
   "source": [
    "a=[11.38]*5\n",
    "a"
   ]
  },
  {
   "cell_type": "code",
   "execution_count": 16,
   "metadata": {},
   "outputs": [
    {
     "data": {
      "text/plain": [
       "[[<parse_density_files.CUBE at 0x7f927c0fe860>,\n",
       "  <parse_density_files.CUBE at 0x7f927d9377b8>,\n",
       "  <parse_density_files.CUBE at 0x7f92af311278>,\n",
       "  <parse_density_files.CUBE at 0x7f927c0fe780>,\n",
       "  <parse_density_files.CUBE at 0x7f927c0fe7b8>]]"
      ]
     },
     "execution_count": 16,
     "metadata": {},
     "output_type": "execute_result"
    }
   ],
   "source": [
    "cubes"
   ]
  },
  {
   "cell_type": "code",
   "execution_count": 20,
   "metadata": {},
   "outputs": [],
   "source": [
    "f,a = plt.subplots(1,1)\n",
    "for c in cubes[0]:\n",
    "    x = np.linspace(0, 20, 175)\n",
    "    a.plot(x, c.project((0,1)))\n",
    "    \n",
    "    a.set_xlabel('Cell coordinate (Ang)')\n",
    "    a.set_ylabel(r'Projected Density $\\rho(x_0)$ (Bohr$^{-3}$) ')\n",
    "    a.set_xlim(0, 20)\n",
    "    a.set_ylim(0, 1.7)\n",
    "    \n",
    "# a.plot([11.38]*2, [0, 1.8], '--', color='grey')"
   ]
  },
  {
   "cell_type": "code",
   "execution_count": 11,
   "metadata": {},
   "outputs": [
    {
     "data": {
      "text/plain": [
       "Text(0, 0.5, '$\\\\rho_x(x=11.38)$')"
      ]
     },
     "execution_count": 11,
     "metadata": {},
     "output_type": "execute_result"
    }
   ],
   "source": [
    "x = np.linspace(0, 20, 175)\n",
    "d =[]\n",
    "\n",
    "for c in new_cubes:\n",
    "    d.extend(c.project((0,2))[np.where((x>11.3) & (x<11.4))])\n",
    "    \n",
    "    \n",
    "#     plt.plot(x, c.project((0,2)))\n",
    "#     plt.xlabel('Cell coordinate (Ang)')\n",
    "#     plt.ylabel(r'Projected Density $\\rho(x_0)$ (Bohr$^{-3}$) ')\n",
    "#     plt.xlim(0, 20)\n",
    "#     plt.ylim(0)\n",
    "l = np.array([38,30,23,15,8])\n",
    "l = l/38\n",
    "f,a = plt.subplots(1,1)\n",
    "a.plot(l,d, '-o')\n",
    "a.set_xlabel(r'$\\lambda$')\n",
    "a.set_ylabel(r'$\\rho_x(x=11.38)$')"
   ]
  },
  {
   "cell_type": "code",
   "execution_count": 17,
   "metadata": {},
   "outputs": [
    {
     "data": {
      "text/plain": [
       "['ve_38.cube', 've_30.cube', 've_23.cube', 've_15.cube', 've_8.cube']"
      ]
     },
     "execution_count": 17,
     "metadata": {},
     "output_type": "execute_result"
    }
   ],
   "source": []
  },
  {
   "cell_type": "markdown",
   "metadata": {},
   "source": [
    "# Plot densities"
   ]
  },
  {
   "cell_type": "code",
   "execution_count": 21,
   "metadata": {},
   "outputs": [],
   "source": [
    "# plot density 1D projections\n",
    "errors = ['Error = 0.005 Ha', 'Error = 0.05 Ha', 'Error = 1.16 Ha', 'Error = 2.34 Ha', 'Error = 3.70 Ha', 'Error = 4.08 Ha']\n",
    "\n",
    "sa = (1,0)\n",
    "fig, ax = plt.subplots(3,2)\n",
    "idc = list(itertools.product([0,1,2],[0,1]))\n",
    "for idx, com in enumerate(cubes):\n",
    "    for cube_file in com:\n",
    "        x = np.linspace(0, 20, 175)\n",
    "        ax[idc[idx]].plot(x, cube_file.project(sa))#, label=label[idx])\n",
    "        ax[idc[idx]].set_title(errors[idx])\n",
    "        if idx == 2:\n",
    "            ax[idc[idx]].set_xlabel('Cell coordinate (Ang)')\n",
    "        ax[idc[idx]].set_xlim(0.5, 19.5)\n",
    "        if idx ==0:\n",
    "            ax[idc[idx]].set_ylabel(r'Projected Density $\\rho(x_0)$ (Bohr$^{-3}$) ')\n",
    "\n"
   ]
  },
  {
   "cell_type": "code",
   "execution_count": null,
   "metadata": {},
   "outputs": [],
   "source": [
    "plt.plot(np.linspace(0,20,175),cubes[0][1].project((0,1)))\n",
    "plt.xlabel('Cell coordinate (Ang)')\n",
    "plt.ylabel(r'Projected Density $\\rho(x_0)$ (Bohr$^{-3}$) ')\n",
    "plt.xlim(0, 20)"
   ]
  },
  {
   "cell_type": "code",
   "execution_count": null,
   "metadata": {},
   "outputs": [],
   "source": [
    "change_dens = []\n",
    "for com in cubes:\n",
    "    ve30 = com[[0][1]]\n",
    "    delta = []\n",
    "    for perm in itertools.combinations([0,1,2], 2):\n",
    "        # project\n",
    "        pr = ve30.project(perm)\n",
    "        # divide in middle\n",
    "        div_idx = int(len(pr)/2)\n",
    "        # calculate increase towards border\n",
    "        delta1 = pr[0] - np.amin(pr[0:div_idx])\n",
    "        delta2 = pr[len(pr)-1] - np.amin(pr[div_idx:len(pr)-1])\n",
    "        delta.extend([delta1, delta2])\n",
    "    mean = np.array(delta).mean()\n",
    "    std = np.array(delta).std()\n",
    "    change_dens.append([mean, std])"
   ]
  },
  {
   "cell_type": "code",
   "execution_count": null,
   "metadata": {},
   "outputs": [],
   "source": [
    "error128 = [0.0004919845368407394, 0.24519761105562007, 0.4078284198416049]\n",
    "mean128 = np.array(change_dens)[:,0]\n",
    "std128 = np.array(change_dens)[:,1]"
   ]
  },
  {
   "cell_type": "code",
   "execution_count": null,
   "metadata": {
    "scrolled": true
   },
   "outputs": [],
   "source": [
    "error143 = np.array([0.004940390267178882, 0.09632850314161116, 0.23383183313433378, 0.2315427443636624])\n",
    "mean143 = np.array(change_dens)[1:5,0]\n",
    "std143 = np.array(change_dens)[1:5,1]\n"
   ]
  },
  {
   "cell_type": "code",
   "execution_count": null,
   "metadata": {},
   "outputs": [],
   "source": [
    "plt.errorbar(error128, mean128, yerr=std128, marker='.', linestyle='', label = 'd = 128')\n",
    "plt.errorbar(error143, mean143, yerr=std143, marker='.', linestyle='', label = 'd = 143')\n",
    "plt.legend(loc='lower right')\n",
    "plt.xlabel('Mean error per molecule (Ha)')\n",
    "plt.ylabel(r'$\\Delta \\rho(\\lambda = 0.8)$')\n",
    "plt.show()"
   ]
  },
  {
   "cell_type": "markdown",
   "metadata": {},
   "source": [
    "# FFT"
   ]
  },
  {
   "cell_type": "code",
   "execution_count": 22,
   "metadata": {},
   "outputs": [
    {
     "data": {
      "text/plain": [
       "<matplotlib.legend.Legend at 0x7f9246dcca20>"
      ]
     },
     "execution_count": 22,
     "metadata": {},
     "output_type": "execute_result"
    }
   ],
   "source": [
    "ve30 = cubes[0][1]\n",
    "fig, ax = plt.subplots(1, 2)\n",
    "x = np.linspace(0, 20, 175)\n",
    "for perm in itertools.combinations([0,1,2], 2):\n",
    "        # project\n",
    "        pr = ve30.project(perm)\n",
    "        fft = np.fft.fft(pr)\n",
    "        ax[0].plot(np.arange(len(fft))[0:25],np.abs(fft)[0:25], '-o', label=str(perm))\n",
    "        ax[1].plot(x, pr, label=str(perm))\n",
    "        \n",
    "ax[0].legend()"
   ]
  },
  {
   "cell_type": "code",
   "execution_count": 23,
   "metadata": {},
   "outputs": [
    {
     "data": {
      "text/plain": [
       "<matplotlib.legend.Legend at 0x7f9246b3b9b0>"
      ]
     },
     "execution_count": 23,
     "metadata": {},
     "output_type": "execute_result"
    }
   ],
   "source": [
    "fig_i, ax_i = plt.subplots()\n",
    "x = np.linspace(0, 20, 175)\n",
    "pr = ve30.project((0,1))\n",
    "ax_i.plot(x, pr, label='full')\n",
    "for idx in range(0,3):\n",
    "    pr = ve30.project((0,1))\n",
    "    fft = np.fft.fft(pr)\n",
    "    fft[idx] = 0.0\n",
    "    ifft= np.fft.ifft(fft)\n",
    "    ax_i.plot(x, ifft.real, label=\"without freq {}\".format(idx))\n",
    "ax_i.set_title('projection (0,1)')\n",
    "ax_i.legend()"
   ]
  },
  {
   "cell_type": "code",
   "execution_count": 24,
   "metadata": {},
   "outputs": [
    {
     "data": {
      "text/plain": [
       "<matplotlib.legend.Legend at 0x7f92470105c0>"
      ]
     },
     "execution_count": 24,
     "metadata": {},
     "output_type": "execute_result"
    }
   ],
   "source": [
    "# rescale frequencies\n",
    "ve30 = cubes[0][1]\n",
    "fig, ax = plt.subplots(1, 2)\n",
    "x = np.linspace(0, 20, 175)\n",
    "\n",
    "# linear fit\n",
    "import scipy.stats\n",
    "# linear regression\n",
    "pr = ve30.project((0,1))\n",
    "fft = np.fft.fft(pr)\n",
    "lin_fit = scipy.stats.linregress(np.arange(6), np.abs(fft[0:6]))\n",
    "x_fit = np.linspace(-0.5, 7, 10)\n",
    "y_fit = lin_fit[1] + lin_fit[0]*x_fit\n",
    "y_scale = lin_fit[1] + lin_fit[0]*np.arange(6)\n",
    "\n",
    "\n",
    "for idx in range(0,1):\n",
    "        # project\n",
    "        pr = ve30.project((0,1))\n",
    "        fft = np.fft.fft(pr)\n",
    "        ax[0].plot(np.arange(len(fft))[0:25],np.abs(fft)[0:25], '-o', label='original')\n",
    "        ax[0].plot(np.arange(6), y_scale, '--o', label='fit', color='red')\n",
    "        \n",
    "        fft[0:6] = y_scale/np.abs(fft[0:6])*fft[0:6]\n",
    "        ifft = np.fft.ifft(fft)\n",
    "        \n",
    "        ax[1].plot(x, pr, label='original')\n",
    "        ax[1].plot(x, ifft.real, label='rescaled', color='red')\n",
    "        \n",
    "ax[0].set_ylim(-0.5, 40)     \n",
    "ax[0].legend()\n",
    "ax[1].legend()"
   ]
  },
  {
   "cell_type": "code",
   "execution_count": 10,
   "metadata": {},
   "outputs": [
    {
     "data": {
      "text/plain": [
       "<matplotlib.legend.Legend at 0x7f9e993dca90>"
      ]
     },
     "execution_count": 10,
     "metadata": {},
     "output_type": "execute_result"
    }
   ],
   "source": [
    "fig_m, ax_m = plt.subplots(1,2)\n",
    "x = np.linspace(0, 20, 175)\n",
    "pr = ve30.project((0,1))\n",
    "# ax_m.plot(x, pr, label='full')\n",
    "\n",
    "fft = np.fft.fft(pr)\n",
    "fft_scaled = fft.copy()\n",
    "fft_scaled[1] = fft_scaled[1]*1.08\n",
    "fft_scaled[2] = fft_scaled[2]*0.92\n",
    "ifft= np.fft.ifft(fft_scaled)\n",
    "\n",
    "ax_m[0].plot(np.arange(len(fft))[0:25],np.abs(fft)[0:25], '-o', label='original')\n",
    "ax_m[0].plot(np.arange(len(fft))[0:25],np.abs(fft_scaled)[0:25], '-o', label='rescaled')\n",
    "\n",
    "ax_m[1].plot(x, pr.real, label=\"original\")\n",
    "ax_m[1].plot(x, ifft.real, label=\"rescaled\")\n",
    "\n",
    "ax_m[0].set_xlabel('Frequency')\n",
    "ax_m[0].set_ylabel('Intensity')\n",
    "ax_m[1].set_xlabel('Cell coordinate (Ang)')\n",
    "ax_m[1].set_ylabel('Projected Density')\n",
    "\n",
    "ax_m[0].legend()\n",
    "ax_m[1].legend()"
   ]
  },
  {
   "cell_type": "markdown",
   "metadata": {},
   "source": [
    "# FFT for worst prediction"
   ]
  },
  {
   "cell_type": "code",
   "execution_count": 25,
   "metadata": {},
   "outputs": [
    {
     "data": {
      "text/plain": [
       "<matplotlib.legend.Legend at 0x7f9246e130f0>"
      ]
     },
     "execution_count": 25,
     "metadata": {},
     "output_type": "execute_result"
    }
   ],
   "source": [
    "ve30 = cubes[len(cubes)-1][1]\n",
    "fig, ax = plt.subplots(1, 2)\n",
    "x = np.linspace(0, 20, 175)\n",
    "for perm in itertools.combinations([0,1,2], 2):\n",
    "        # project\n",
    "        pr = ve30.project(perm)\n",
    "        fft = np.fft.fft(pr)\n",
    "        ax[0].plot(np.arange(len(fft))[0:25],np.abs(fft)[0:25], '-o', label=str(perm))\n",
    "        ax[1].plot(x, pr, label=str(perm))\n",
    "        \n",
    "ax[0].legend()"
   ]
  },
  {
   "cell_type": "code",
   "execution_count": 26,
   "metadata": {},
   "outputs": [
    {
     "data": {
      "text/plain": [
       "<matplotlib.legend.Legend at 0x7f92457a27b8>"
      ]
     },
     "execution_count": 26,
     "metadata": {},
     "output_type": "execute_result"
    }
   ],
   "source": [
    "fig_i, ax_i = plt.subplots()\n",
    "x = np.linspace(0, 20, 175)\n",
    "pr = ve30.project((0,2))\n",
    "ax_i.plot(x, pr, label='full')\n",
    "for idx in range(0,4):\n",
    "    pr = ve30.project((0,1))\n",
    "    fft = np.fft.fft(pr)\n",
    "    fft[idx] = 0.0\n",
    "    ifft= np.fft.ifft(fft)\n",
    "    ax_i.plot(x, ifft.real, label=\"without freq {}\".format(idx))\n",
    "ax_i.set_title('projection (0,2)')\n",
    "ax_i.legend()"
   ]
  },
  {
   "cell_type": "code",
   "execution_count": 27,
   "metadata": {},
   "outputs": [
    {
     "data": {
      "text/plain": [
       "<matplotlib.legend.Legend at 0x7f92455be320>"
      ]
     },
     "execution_count": 27,
     "metadata": {},
     "output_type": "execute_result"
    }
   ],
   "source": [
    "# rescale frequencies\n",
    "ve30 = cubes[0][1]\n",
    "fig, ax = plt.subplots(1, 2)\n",
    "x = np.linspace(0, 20, 175)\n",
    "\n",
    "# linear fit\n",
    "import scipy.stats\n",
    "# linear regression\n",
    "pr = ve30.project((0,2))\n",
    "fft = np.fft.fft(pr)\n",
    "lin_fit = scipy.stats.linregress(np.arange(6), np.abs(fft[0:6]))\n",
    "x_fit = np.linspace(-0.5, 7, 10)\n",
    "y_fit = lin_fit[1] + lin_fit[0]*x_fit\n",
    "y_scale = lin_fit[1] + lin_fit[0]*np.arange(6)\n",
    "\n",
    "\n",
    "for idx in range(0,1):\n",
    "        # project\n",
    "        pr = ve30.project((0,1))\n",
    "        fft = np.fft.fft(pr)\n",
    "        ax[0].plot(np.arange(len(fft))[0:25],np.abs(fft)[0:25], '-o', label='original')\n",
    "        ax[0].plot(np.arange(6), y_scale, '--o', label='fit', color='red')\n",
    "        \n",
    "        fft[0:6] = y_scale/np.abs(fft[0:6])*fft[0:6]\n",
    "        ifft = np.fft.ifft(fft)\n",
    "        \n",
    "        ax[1].plot(x, pr, label='original')\n",
    "        ax[1].plot(x, ifft.real, label='rescaled', color='red')\n",
    "        \n",
    "ax[0].set_ylim(-0.5, 40)     \n",
    "ax[0].legend()\n",
    "ax[1].legend()"
   ]
  },
  {
   "cell_type": "code",
   "execution_count": 28,
   "metadata": {},
   "outputs": [
    {
     "ename": "SyntaxError",
     "evalue": "invalid syntax (<ipython-input-28-5dbd2548516c>, line 1)",
     "output_type": "error",
     "traceback": [
      "\u001b[0;36m  File \u001b[0;32m\"<ipython-input-28-5dbd2548516c>\"\u001b[0;36m, line \u001b[0;32m1\u001b[0m\n\u001b[0;31m    (fft[3]-fft[0])/\u001b[0m\n\u001b[0m                    ^\u001b[0m\n\u001b[0;31mSyntaxError\u001b[0m\u001b[0;31m:\u001b[0m invalid syntax\n"
     ]
    }
   ],
   "source": [
    "(fft[3]-fft[0])/"
   ]
  },
  {
   "cell_type": "code",
   "execution_count": 29,
   "metadata": {},
   "outputs": [
    {
     "data": {
      "text/plain": [
       "<matplotlib.legend.Legend at 0x7f92451adfd0>"
      ]
     },
     "execution_count": 29,
     "metadata": {},
     "output_type": "execute_result"
    }
   ],
   "source": [
    "fig_m, ax_m = plt.subplots(1,2)\n",
    "x = np.linspace(0, 20, 175)\n",
    "pr = ve30.project((0,2))\n",
    "# ax_m.plot(x, pr, label='full')\n",
    "\n",
    "fft = np.fft.fft(pr)\n",
    "fft_scaled = fft.copy()\n",
    "fft_scaled[1] = fft_scaled[1]*1.08\n",
    "fft_scaled[2] = fft_scaled[2]*0.92\n",
    "ifft= np.fft.ifft(fft_scaled)\n",
    "\n",
    "ax_m[0].plot(np.arange(len(fft))[0:25],np.abs(fft)[0:25], '-o', label='original')\n",
    "ax_m[0].plot(np.arange(len(fft))[0:25],np.abs(fft_scaled)[0:25], '-o', label='rescaled')\n",
    "\n",
    "ax_m[1].plot(x, pr.real, label=\"original\")\n",
    "ax_m[1].plot(x, ifft.real, label=\"rescaled\")\n",
    "\n",
    "\n",
    "\n",
    "\n",
    "ax_m[0].legend()\n",
    "ax_m[1].legend()"
   ]
  },
  {
   "cell_type": "code",
   "execution_count": 41,
   "metadata": {},
   "outputs": [
    {
     "data": {
      "text/plain": [
       "Text(0, 0.5, 'Intensity')"
      ]
     },
     "execution_count": 41,
     "metadata": {},
     "output_type": "execute_result"
    }
   ],
   "source": [
    "plt.rcParams.update({'lines.linewidth':2.5})\n",
    "plt.rcParams.update({'font.size': 18})\n",
    "\n",
    "fig_m, ax_m = plt.subplots(1,2)\n",
    "fig_m.subplots_adjust(bottom=0.15)\n",
    "fig_m.subplots_adjust(top=1)\n",
    "fig_m.subplots_adjust(left=0.2)\n",
    "fig_m.subplots_adjust(right=0.99)\n",
    "\n",
    "\n",
    "\n",
    "\n",
    "x = np.linspace(0, 20, 175)\n",
    "pr = ve30.project((0,2))\n",
    "# ax_m.plot(x, pr, label='full')\n",
    "\n",
    "fft = np.fft.fft(pr)\n",
    "fft_scaled = fft.copy()\n",
    "fft_scaled[1] = fft_scaled[1]*1.08\n",
    "fft_scaled[2] = fft_scaled[2]*0.92\n",
    "ifft= np.fft.ifft(fft_scaled)\n",
    "\n",
    "ax_m[1].plot(np.arange(len(fft))[0:25],np.abs(fft)[0:25], '--', label='original')\n",
    "ax_m[1].plot(np.arange(len(fft))[0:25],np.abs(fft_scaled)[0:25], '-o', label='rescaled')\n",
    "\n",
    "ax_m[0].plot(x, pr.real, '--', label=\"original\")\n",
    "ax_m[0].plot(x, ifft.real, label=\"rescaled\")\n",
    "ax_m[0].set_xlabel('Cell coordinate (Ang)')\n",
    "ax_m[0].set_ylabel('1D-Projected Density')\n",
    "\n",
    "ax_m[1].set_xlabel('Frequency')\n",
    "ax_m[1].set_ylabel('Intensity')\n",
    "\n",
    "# ax_m[0].legend()\n",
    "# ax_m[1].legend()"
   ]
  },
  {
   "cell_type": "code",
   "execution_count": null,
   "metadata": {},
   "outputs": [],
   "source": []
  }
 ],
 "metadata": {
  "kernelspec": {
   "display_name": "Python [conda env:atomic-energies]",
   "language": "python",
   "name": "conda-env-atomic-energies-py"
  },
  "language_info": {
   "codemirror_mode": {
    "name": "ipython",
    "version": 3
   },
   "file_extension": ".py",
   "mimetype": "text/x-python",
   "name": "python",
   "nbconvert_exporter": "python",
   "pygments_lexer": "ipython3",
   "version": "3.7.3"
  }
 },
 "nbformat": 4,
 "nbformat_minor": 2
}
