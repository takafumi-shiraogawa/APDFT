{
 "cells": [
  {
   "cell_type": "code",
   "execution_count": 4,
   "metadata": {},
   "outputs": [],
   "source": [
    "import sys\n",
    "sys.path.insert(0, '/home/misa/APDFT/prototyping/atomic_energies')\n",
    "\n",
    "from parse_cube_files import CUBE\n",
    "\n",
    "import matplotlib\n",
    "matplotlib.use('Qt5Agg')\n",
    "from matplotlib import pyplot as plt\n",
    "plt.rcParams.update({'font.size': 22})\n",
    "import numpy as np"
   ]
  },
  {
   "cell_type": "markdown",
   "metadata": {},
   "source": [
    "# 1D-projected densities and FFT spectra for different cutoffs"
   ]
  },
  {
   "cell_type": "code",
   "execution_count": 2,
   "metadata": {},
   "outputs": [],
   "source": [
    "# cutoff box 10\n",
    "p0025 = '/home/misa/APDFT/prototyping/atomic_energies/results/test_calculations/decay_density/H2O_cpmd/ve_6/box10/cutoff_0025/box10_0025.cube'\n",
    "p0050 = '/home/misa/APDFT/prototyping/atomic_energies/results/test_calculations/decay_density/H2O_cpmd/ve_6/box10/cutoff_0050/box10_0050.cube'\n",
    "p0100 = '/home/misa/APDFT/prototyping/atomic_energies/results/test_calculations/decay_density/H2O_cpmd/ve_6/box10/cutoff_0100/box10_0100.cube'\n",
    "p0200 = '/home/misa/APDFT/prototyping/atomic_energies/results/test_calculations/decay_density/H2O_cpmd/ve_6/box10/cutoff_0200/box10_0200.cube'\n",
    "p0400 = '/home/misa/APDFT/prototyping/atomic_energies/results/test_calculations/decay_density/H2O_cpmd/ve_6/box10/cutoff_0400/box10_0400.cube'\n",
    "p0800 = '/home/misa/APDFT/prototyping/atomic_energies/results/test_calculations/decay_density/H2O_cpmd/ve_6/box10/cutoff_0800/box10_0800.cube'\n",
    "p1200 = '/home/misa/APDFT/prototyping/atomic_energies/results/test_calculations/decay_density/H2O_cpmd/ve_6/box10/cutoff_1200/box10_1200.cube'\n",
    "\n",
    "paths_10 = [p0025, p0050, p0100, p0200, p0400, p0800, p1200]\n",
    "cubes_10 = []\n",
    "for p in paths_10:\n",
    "    cubes_10.append(CUBE(p))"
   ]
  },
  {
   "cell_type": "code",
   "execution_count": 5,
   "metadata": {},
   "outputs": [
    {
     "data": {
      "text/plain": [
       "Text(0, 0.5, '$|c_{\\\\nu}|^2$')"
      ]
     },
     "execution_count": 5,
     "metadata": {},
     "output_type": "execute_result"
    }
   ],
   "source": [
    "# FFT spectra for different cutoffs\n",
    "\n",
    "fig, ax = plt.subplots(1,1)\n",
    "fig_fft, ax_fft = plt.subplots(1,1)\n",
    "labels = ['25 Ryd', '50 Ryd', '100 Ryd', '200 Ryd', '400 Ryd', '800 Ryd', '1200 Ryd']\n",
    "\n",
    "colors_fft = ['#1f77b4',\n",
    "  '#ff7f0e',\n",
    "  '#2ca02c',\n",
    "  '#e377c2',\n",
    "  '#9467bd',\n",
    "  '#8c564b',\n",
    "  '#d62728',\n",
    "  '#7f7f7f',\n",
    "  '#bcbd22',\n",
    "  '#17becf']\n",
    "\n",
    "\n",
    "\n",
    "for idx, c in enumerate(cubes_10):\n",
    "    x = np.linspace(10/c.NX, 10-10/c.NX, c.NX)\n",
    "    pr = c.project((0,2))\n",
    "    ax.plot(x, pr, label=labels[idx])\n",
    "    \n",
    "    fft = np.fft.fft(c.project((0,2)))\n",
    "    \n",
    "    if len(fft.real)/2 < 40:\n",
    "        l = int(len(fft.real)/2)\n",
    "    else:\n",
    "        l = 40\n",
    "        # original values\n",
    "    ax_fft.plot(np.arange(l), np.abs(fft)[0:l], '-o', label=labels[idx], color=colors_fft[idx])\n",
    "ax.legend()\n",
    "ax.set_xlabel('Cell coordinate (Ang)')\n",
    "ax.set_ylabel('1D-projected density')\n",
    "\n",
    "ax_fft.legend()\n",
    "ax_fft.set_xlabel(r'Frequency $\\nu$')\n",
    "ax_fft.set_ylabel(r'$|c_{\\nu}|^2$')\n"
   ]
  },
  {
   "cell_type": "markdown",
   "metadata": {},
   "source": [
    "# 1D-projected densities for two different cutoffs scaled"
   ]
  },
  {
   "cell_type": "code",
   "execution_count": null,
   "metadata": {},
   "outputs": [],
   "source": [
    "# cutoff box 10\n",
    "p0025 = '/home/misa/APDFT/prototyping/atomic_energies/results/test_calculations/decay_density/H2O_cpmd/ve_6/box10/cutoff_0025/box10_0025.cube'\n",
    "p1200 = '/home/misa/APDFT/prototyping/atomic_energies/results/test_calculations/decay_density/H2O_cpmd/ve_6/box10/cutoff_1200/box10_1200.cube'\n",
    "\n",
    "paths_10 = [p0025,p1200]\n",
    "cubes_10 = []\n",
    "for p in paths_10:\n",
    "    cubes_10.append(CUBE(p))"
   ]
  },
  {
   "cell_type": "code",
   "execution_count": null,
   "metadata": {},
   "outputs": [],
   "source": [
    "# FFT spectra for different cutoffs\n",
    "\n",
    "fig, ax = plt.subplots(1,1)\n",
    "labels = ['25 Ryd', '1200 Ryd']\n",
    "\n",
    "colors_fft = ['#1f77b4',\n",
    "  '#ff7f0e',\n",
    "  '#2ca02c',\n",
    "  '#e377c2',\n",
    "  '#9467bd',\n",
    "  '#8c564b',\n",
    "  '#d62728',\n",
    "  '#7f7f7f',\n",
    "  '#bcbd22',\n",
    "  '#17becf']\n",
    "\n",
    "\n",
    "\n",
    "for idx, c in enumerate(cubes_10):\n",
    "    x = np.linspace(10/c.NX, 10-10/c.NX, c.NX)\n",
    "    pr = c.project((0,2))\n",
    "    if idx ==1:\n",
    "        pr = c.project((0,2))*6\n",
    "    ax.plot(x, pr, label=labels[idx])\n",
    "\n",
    "ax.legend()\n",
    "ax.set_xlabel('Cell coordinate (Ang)')\n",
    "ax.set_ylabel('1D-projected density')\n",
    "\n"
   ]
  },
  {
   "cell_type": "markdown",
   "metadata": {},
   "source": [
    "# Other stuff"
   ]
  },
  {
   "cell_type": "code",
   "execution_count": null,
   "metadata": {},
   "outputs": [],
   "source": [
    "help(mpl.rcParams['axes.prop_cycle'])"
   ]
  },
  {
   "cell_type": "code",
   "execution_count": null,
   "metadata": {},
   "outputs": [],
   "source": [
    "mpl.rcParams['axes.prop_cycle'].by_key()"
   ]
  },
  {
   "cell_type": "code",
   "execution_count": null,
   "metadata": {},
   "outputs": [],
   "source": [
    "path = '/home/misa/APDFT/prototyping/atomic_energies/results/test_calculations/decay_density/H2O_cpmd/ve_10/cutoff_0025/DENSITY.cube'\n",
    "cube_25 = CUBE(path)"
   ]
  },
  {
   "cell_type": "code",
   "execution_count": null,
   "metadata": {},
   "outputs": [],
   "source": [
    "cube_25.plot_projection((0,2))"
   ]
  },
  {
   "cell_type": "code",
   "execution_count": null,
   "metadata": {},
   "outputs": [],
   "source": [
    "path = '/home/misa/APDFT/prototyping/atomic_energies/results/test_calculations/decay_density/H2O_cpmd/ve_10/cutoff_0200/DENSITY.cube'\n",
    "cube_200 = CUBE(path)"
   ]
  },
  {
   "cell_type": "code",
   "execution_count": null,
   "metadata": {},
   "outputs": [],
   "source": [
    "path = '/home/misa/APDFT/prototyping/atomic_energies/results/test_calculations/decay_density/H2O_cpmd/ve_18/box10_cutoff_0025/DENSITY.cube'\n",
    "cube_neg1 = CUBE(path)"
   ]
  },
  {
   "cell_type": "code",
   "execution_count": null,
   "metadata": {},
   "outputs": [],
   "source": [
    "path = '/home/misa/APDFT/prototyping/atomic_energies/results/test_calculations/decay_density/H2O_cpmd/ve_18/box10_cutoff_0200/DENSITY.cube'\n",
    "cube_neg2 = CUBE(path)"
   ]
  },
  {
   "cell_type": "code",
   "execution_count": null,
   "metadata": {},
   "outputs": [],
   "source": [
    "cube_neg1.plot_projection((0,1))"
   ]
  },
  {
   "cell_type": "code",
   "execution_count": null,
   "metadata": {},
   "outputs": [],
   "source": [
    "fig, ax = plt.subplots(1,1)\n",
    "# fig_fft, ax_fft = plt.subplots(1,1)\n",
    "\n",
    "\n",
    "colors_fft = ['#1f77b4',\n",
    "  '#ff7f0e',\n",
    "  '#2ca02c',\n",
    "  '#e377c2',\n",
    "  '#9467bd',\n",
    "  '#8c564b',\n",
    "  '#d62728',\n",
    "  '#7f7f7f',\n",
    "  '#bcbd22',\n",
    "  '#17becf']\n",
    "\n",
    "\n",
    "\n",
    "for idx, c in enumerate([cube_neg2]):\n",
    "    x = np.linspace(10/c.NX, 10-10/c.NX, c.NX)\n",
    "    pr = c.project((0,2))\n",
    "    if idx ==1:\n",
    "        pr = c.project((0,2))\n",
    "    ax.plot(x, pr)"
   ]
  },
  {
   "cell_type": "code",
   "execution_count": null,
   "metadata": {},
   "outputs": [],
   "source": []
  }
 ],
 "metadata": {
  "kernelspec": {
   "display_name": "Python [conda env:atomic-energies]",
   "language": "python",
   "name": "conda-env-atomic-energies-py"
  },
  "language_info": {
   "codemirror_mode": {
    "name": "ipython",
    "version": 3
   },
   "file_extension": ".py",
   "mimetype": "text/x-python",
   "name": "python",
   "nbconvert_exporter": "python",
   "pygments_lexer": "ipython3",
   "version": "3.7.3"
  }
 },
 "nbformat": 4,
 "nbformat_minor": 2
}
