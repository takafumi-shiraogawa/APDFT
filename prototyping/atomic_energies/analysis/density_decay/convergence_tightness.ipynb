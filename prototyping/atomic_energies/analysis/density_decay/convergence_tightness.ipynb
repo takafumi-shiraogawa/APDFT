{
 "cells": [
  {
   "cell_type": "code",
   "execution_count": null,
   "metadata": {},
   "outputs": [],
   "source": [
    "import matplotlib\n",
    "matplotlib.use('Qt5Agg')\n",
    "from matplotlib import pyplot as plt\n",
    "\n",
    "import numpy as np\n",
    "\n",
    "import sys\n",
    "sys.path.insert(0, '/home/misa/APDFT/prototyping/atomic_energies/')\n",
    "\n",
    "from parse_density_files import CUBE"
   ]
  },
  {
   "cell_type": "code",
   "execution_count": null,
   "metadata": {},
   "outputs": [],
   "source": [
    "# density with loose convergence \n",
    "ve_04_l = CUBE('/home/misa/APDFT/prototyping/atomic_energies/results/slice_ve38/dsgdb9nsd_001212/cube-files/ve_04.cube')\n",
    "ve_22_l = CUBE('/home/misa/APDFT/prototyping/atomic_energies/results/slice_ve38/dsgdb9nsd_001212/cube-files/ve_22.cube')\n",
    "ve_36_l = CUBE('/home/misa/APDFT/prototyping/atomic_energies/results/slice_ve38/dsgdb9nsd_001212/cube-files/ve_36.cube')"
   ]
  },
  {
   "cell_type": "code",
   "execution_count": null,
   "metadata": {},
   "outputs": [],
   "source": [
    "# density with tight convergence\n",
    "ve_04_t = CUBE('/home/misa/APDFT/prototyping/atomic_energies/results/slice_ve38/dsgdb9nsd_001212/cube-files-tight/ve_04_7e10.cube')\n",
    "ve_22_t = CUBE('/home/misa/APDFT/prototyping/atomic_energies/results/slice_ve38/dsgdb9nsd_001212/cube-files-tight/ve_22_8e10.cube')\n",
    "ve_36_t = CUBE('/home/misa/APDFT/prototyping/atomic_energies/results/slice_ve38/dsgdb9nsd_001212/cube-files-tight/ve_36_3e9.cube')"
   ]
  },
  {
   "cell_type": "code",
   "execution_count": null,
   "metadata": {},
   "outputs": [],
   "source": [
    "# comparison of 22 VE\n",
    "x = np.linspace(0, 20-20/175, 175)\n",
    "\n",
    "fig, ax = plt.subplots(1,1)\n",
    "plt.rcParams.update({'font.size': 20})\n",
    "\n",
    "ax.plot(x, ve_04_l.project((0,1)), label = r'$\\lambda \\approx 0.11$, conv < 1e-6', color = 'blue')\n",
    "ax.plot(x, ve_04_t.project((0,1)), '--', label =  r'$\\lambda \\approx 0.11$, conv < 7e-10', color = 'orange' )\n",
    "\n",
    "ax.plot(x, ve_22_l.project((1,2)), label = r'$\\lambda \\approx 0.58$, conv < 1e-6', color = 'darkorange')\n",
    "ax.plot(x, ve_22_t.project((1,2)), '--', label =  r'$\\lambda \\approx 0.58$, conv < 8e-10', color = 'darkgreen' )\n",
    "\n",
    "ax.plot(x, ve_36_l.project((1,2)), label =  r'$\\lambda \\approx 0.95$, conv < 1e-6', color = 'red')\n",
    "ax.plot(x, ve_36_t.project((1,2)), '--', label =  r'$\\lambda \\approx 0.95$, conv < 3e-9', color = 'black' )\n",
    "# ax.set_yscale('log')\n",
    "\n",
    "ax.set_ylabel(r'$\\rho(x_2)$')\n",
    "ax.set_xlabel(r'Cell coordinate $x_2$ (Ang)')\n",
    "\n",
    "\n",
    "ax.legend(loc=\"upper right\")"
   ]
  },
  {
   "cell_type": "code",
   "execution_count": null,
   "metadata": {},
   "outputs": [],
   "source": [
    "# comparison of 22 VE\n",
    "x = np.linspace(0, 20-20/175, 175)\n",
    "\n",
    "# plot direct vs atomic approach\n",
    "plt.rcParams.update({'lines.linewidth':2.5})\n",
    "plt.rcParams.update({'font.size': 18})\n",
    "fig, ax = plt.subplots(1,1)\n",
    "fig.subplots_adjust(bottom=0.15)\n",
    "fig.subplots_adjust(top=1)\n",
    "fig.subplots_adjust(left=0.15)\n",
    "fig.subplots_adjust(right=0.95)\n",
    "\n",
    "\n",
    "ax.plot(x, ve_22_l.project((0,2)), color = 'black')\n",
    "ax.plot(x, ve_22_t.project((0,2)), '--', color = 'red' )\n",
    "\n",
    "ax.set_ylabel(r'1D-Projected Density')\n",
    "ax.set_xlabel(r'Cell coordinate $x_2$ (Ang)')\n",
    "\n"
   ]
  },
  {
   "cell_type": "code",
   "execution_count": null,
   "metadata": {},
   "outputs": [],
   "source": [
    "# density with higher cutoff (400 Rydberg instead of 200)\n",
    "\n",
    "ve_04_cutoff = CUBE('/home/misa/APDFT/prototyping/atomic_energies/results/slice_ve38/dsgdb9nsd_001212/cube-files-tight/ve_04_cutoff_400_Ryd.cube')\n"
   ]
  },
  {
   "cell_type": "code",
   "execution_count": null,
   "metadata": {},
   "outputs": [],
   "source": [
    "# plot high cutoff\n",
    "x = np.linspace(0, 20-20/243, 243)\n",
    "\n",
    "fig, ax = plt.subplots(1,1)\n",
    "plt.rcParams.update({'font.size': 22})\n",
    "ax.plot(x, ve_04_cutoff.project((0,1)), label = r'cutoff = 400 Rydberg', color = 'blue')\n",
    "\n",
    "ax.set_ylabel(r'$\\rho(x_2)$')\n",
    "ax.set_xlabel(r'Cell coordinate $x_2$ (Ang)')\n",
    "ax.legend(loc=\"upper right\")"
   ]
  },
  {
   "cell_type": "code",
   "execution_count": null,
   "metadata": {},
   "outputs": [],
   "source": []
  }
 ],
 "metadata": {
  "kernelspec": {
   "display_name": "Python [conda env:atomic-energies]",
   "language": "python",
   "name": "conda-env-atomic-energies-py"
  },
  "language_info": {
   "codemirror_mode": {
    "name": "ipython",
    "version": 3
   },
   "file_extension": ".py",
   "mimetype": "text/x-python",
   "name": "python",
   "nbconvert_exporter": "python",
   "pygments_lexer": "ipython3",
   "version": "3.7.3"
  }
 },
 "nbformat": 4,
 "nbformat_minor": 2
}
