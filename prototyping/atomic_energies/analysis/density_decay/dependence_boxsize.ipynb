{
 "cells": [
  {
   "cell_type": "code",
   "execution_count": 3,
   "metadata": {},
   "outputs": [],
   "source": [
    "import sys\n",
    "sys.path.insert(0, '/home/misa/APDFT/prototyping/atomic_energies')\n",
    "\n",
    "from parse_density_files import CUBE\n",
    "\n",
    "import matplotlib\n",
    "matplotlib.use('Qt5Agg')\n",
    "from matplotlib import pyplot as plt\n",
    "plt.rcParams.update({'font.size': 22})\n",
    "import numpy as np\n",
    "\n",
    "from ase.units import Bohr"
   ]
  },
  {
   "cell_type": "code",
   "execution_count": 4,
   "metadata": {},
   "outputs": [],
   "source": [
    "p_box10 = '/home/misa/APDFT/prototyping/atomic_energies/results/test_calculations/decay_density/H2O_cpmd/ve_6/box10/cutoff_0200/box10_0200.cube'\n",
    "p_box20 = '/home/misa/APDFT/prototyping/atomic_energies/results/test_calculations/decay_density/H2O_cpmd/ve_6/box20/cutoff_0200/box20_0200.cube'\n",
    "p_box30 = '/home/misa/APDFT/prototyping/atomic_energies/results/test_calculations/decay_density/H2O_cpmd/ve_6/box30/box30.cube'\n",
    "\n",
    "paths_box = [p_box10, p_box20, p_box30]\n",
    "cubes_box = []\n",
    "for p in paths_box:\n",
    "    cubes_box.append(CUBE(p))"
   ]
  },
  {
   "cell_type": "code",
   "execution_count": 5,
   "metadata": {},
   "outputs": [
    {
     "data": {
      "text/plain": [
       "(0, 30)"
      ]
     },
     "execution_count": 5,
     "metadata": {},
     "output_type": "execute_result"
    },
    {
     "data": {
      "image/png": "[encoded data removed]",
      "text/plain": [
       "<Figure size 432x288 with 1 Axes>"
      ]
     },
     "metadata": {
      "needs_background": "light"
     },
     "output_type": "display_data"
    }
   ],
   "source": [
    "# densities with different boxes\n",
    "from ase.units import Bohr\n",
    "fig, ax = plt.subplots(1,1)\n",
    "labels = ['10 Ang', '20 Ang', '30 Ang']\n",
    "\n",
    "colors_fft = ['#1f77b4',\n",
    "  '#ff7f0e',\n",
    "  '#2ca02c',\n",
    "  '#e377c2',\n",
    "  '#9467bd',\n",
    "  '#8c564b',\n",
    "  '#d62728',\n",
    "  '#7f7f7f',\n",
    "  '#bcbd22',\n",
    "  '#17becf']\n",
    "\n",
    "\n",
    "\n",
    "for idx, c in enumerate(cubes_box):\n",
    "    x = np.linspace(15-c.NX*c.X[0]*Bohr/2, 15+c.NX*c.X[0]*Bohr/2, c.NX)\n",
    "    pr = c.project((1,0))\n",
    "    ax.plot(x, pr, label = labels[idx])\n",
    "\n",
    "ax.legend()\n",
    "ax.set_xlabel('Cell coordinate (Ang)')\n",
    "ax.set_ylabel('1D-projected density')\n",
    "\n",
    "ax.set_xlim(0, 30)"
   ]
  },
  {
   "cell_type": "code",
   "execution_count": 13,
   "metadata": {},
   "outputs": [
    {
     "data": {
      "text/plain": [
       "(14.7, 22)"
      ]
     },
     "execution_count": 13,
     "metadata": {},
     "output_type": "execute_result"
    }
   ],
   "source": [
    "# densities with different boxes zoom\n",
    "from ase.units import Bohr\n",
    "fig, ax = plt.subplots(1,1)\n",
    "labels = ['10 Ang', '20 Ang', '30 Ang']\n",
    "\n",
    "colors_fft = ['#1f77b4',\n",
    "  '#ff7f0e',\n",
    "  '#2ca02c',\n",
    "  '#e377c2',\n",
    "  '#9467bd',\n",
    "  '#8c564b',\n",
    "  '#d62728',\n",
    "  '#7f7f7f',\n",
    "  '#bcbd22',\n",
    "  '#17becf']\n",
    "\n",
    "\n",
    "\n",
    "for idx, c in enumerate(cubes_box):\n",
    "    x = np.linspace(15-c.NX*c.X[0]*Bohr/2, 15+c.NX*c.X[0]*Bohr/2, c.NX)\n",
    "    pr = c.project((0,2))\n",
    "    ax.plot(x, pr, label = labels[idx])\n",
    "\n",
    "ax.legend()\n",
    "ax.set_xlabel('Cell coordinate (Ang)')\n",
    "ax.set_ylabel('1D-projected density')\n",
    "\n",
    "ax.set_xlim(14.7, 22)"
   ]
  },
  {
   "cell_type": "code",
   "execution_count": 7,
   "metadata": {},
   "outputs": [
    {
     "data": {
      "text/plain": [
       "14.99998100912432"
      ]
     },
     "execution_count": 7,
     "metadata": {},
     "output_type": "execute_result"
    }
   ],
   "source": [
    "c.NX*c.X[0]*Bohr/2"
   ]
  },
  {
   "cell_type": "code",
   "execution_count": 9,
   "metadata": {},
   "outputs": [
    {
     "data": {
      "text/plain": [
       "0.221452"
      ]
     },
     "execution_count": 9,
     "metadata": {},
     "output_type": "execute_result"
    }
   ],
   "source": [
    "c.X[0]"
   ]
  }
 ],
 "metadata": {
  "kernelspec": {
   "display_name": "Python [conda env:atomic-energies]",
   "language": "python",
   "name": "conda-env-atomic-energies-py"
  },
  "language_info": {
   "codemirror_mode": {
    "name": "ipython",
    "version": 3
   },
   "file_extension": ".py",
   "mimetype": "text/x-python",
   "name": "python",
   "nbconvert_exporter": "python",
   "pygments_lexer": "ipython3",
   "version": "3.7.3"
  }
 },
 "nbformat": 4,
 "nbformat_minor": 2
}
