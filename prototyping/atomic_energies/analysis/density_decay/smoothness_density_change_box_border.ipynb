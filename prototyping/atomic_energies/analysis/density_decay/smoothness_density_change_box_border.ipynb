{
 "cells": [
  {
   "cell_type": "code",
   "execution_count": 8,
   "metadata": {},
   "outputs": [],
   "source": [
    "import matplotlib\n",
    "matplotlib.use('Qt5Agg')\n",
    "from matplotlib import pyplot as plt\n",
    "plt.rcParams.update({'font.size': 22})\n",
    "\n",
    "import numpy as np\n",
    "import itertools\n",
    "import glob\n",
    "\n",
    "import sys\n",
    "sys.path.insert(0, '/home/misa/APDFT/prototyping/atomic_energies/')\n",
    "from parse_cube_files import CUBE\n",
    "import alchemy_tools as at"
   ]
  },
  {
   "cell_type": "code",
   "execution_count": 9,
   "metadata": {},
   "outputs": [],
   "source": [
    "paths = glob.glob('/home/misa/APDFT/prototyping/atomic_energies/results/slice_ve38/dsgdb9nsd_001212/cube-files/*.cube')\n",
    "paths.sort()\n",
    "\n",
    "cube_obj = []\n",
    "for p in paths:\n",
    "    cube_obj.append(CUBE(p))\n",
    "# uniform electron gas\n",
    "path_ueg = '/home/misa/APDFT/prototyping/atomic_energies/results/slice_ve38/ueg/ve_00.cube'\n",
    "cube_obj.insert(0, CUBE(path_ueg))"
   ]
  },
  {
   "cell_type": "code",
   "execution_count": 14,
   "metadata": {},
   "outputs": [
    {
     "data": {
      "text/plain": [
       "Text(0, 0.5, '$\\\\rho_{x=0}(\\\\lambda) - \\\\rho_{x=0, l}(\\\\lambda)$')"
      ]
     },
     "execution_count": 14,
     "metadata": {},
     "output_type": "execute_result"
    }
   ],
   "source": [
    "# plot density at box border and compare to linear change of density\n",
    "\n",
    "\n",
    "x = np.linspace(0, 20-20/cube_obj[0].data_scaled.shape[0], cube_obj[0].data_scaled.shape[0])\n",
    "\n",
    "fig, ax = plt.subplots(1,2)\n",
    "\n",
    "dens_border = []\n",
    "\n",
    "for i in range(len(cube_obj)):\n",
    "\n",
    "    ve_ex = cube_obj[i]\n",
    "    pr = ve_ex.project((1,2))\n",
    "    \n",
    "    dens_border.append(pr[0])\n",
    "calculation = np.array(dens_border)\n",
    "x = np.array([0, 4, 6, 8, 10, 12, 14, 15, 16, 18, 20, 22, 23, 24, 26, 28, 29, 30, 32, 34, 36, 38])/38\n",
    "linear = -(calculation[len(calculation)-1]-calculation[0])*(1-x)\n",
    "linear[-1:] = calculation[-1]\n",
    "\n",
    "ax[0].plot(x, linear, label='density for linear change')\n",
    "ax[0].plot(x, calculation, '-o', label='calculated density')\n",
    "ax[0].set_xlabel(r'$\\lambda$')\n",
    "ax[0].set_ylabel(r'$\\rho_{x=0}(\\lambda)$')\n",
    "ax[0].legend()\n",
    "\n",
    "plt.ticklabel_format(style='sci', axis='y', scilimits=(0,0))\n",
    "ax[1].plot(x, calculation-linear)\n",
    "ax[1].plot(x, np.full(len(x), 0), '--', color = 'grey')\n",
    "ax[1].set_xlim(0,1)\n",
    "ax[1].set_xlabel(r'$\\lambda$')\n",
    "ax[1].set_ylabel(r'$\\rho_{x=0}(\\lambda) - \\rho_{x=0, l}(\\lambda)$')"
   ]
  },
  {
   "cell_type": "code",
   "execution_count": null,
   "metadata": {},
   "outputs": [],
   "source": []
  }
 ],
 "metadata": {
  "kernelspec": {
   "display_name": "Python [conda env:atomic-energies]",
   "language": "python",
   "name": "conda-env-atomic-energies-py"
  },
  "language_info": {
   "codemirror_mode": {
    "name": "ipython",
    "version": 3
   },
   "file_extension": ".py",
   "mimetype": "text/x-python",
   "name": "python",
   "nbconvert_exporter": "python",
   "pygments_lexer": "ipython3",
   "version": "3.7.3"
  }
 },
 "nbformat": 4,
 "nbformat_minor": 2
}
