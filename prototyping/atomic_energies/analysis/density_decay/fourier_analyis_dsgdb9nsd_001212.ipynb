{
 "cells": [
  {
   "cell_type": "code",
   "execution_count": 1,
   "metadata": {},
   "outputs": [],
   "source": [
    "import matplotlib\n",
    "matplotlib.use('Qt5Agg')\n",
    "from matplotlib import pyplot as plt\n",
    "plt.rcParams.update({'font.size': 22})\n",
    "\n",
    "import numpy as np\n",
    "import itertools\n",
    "import glob\n",
    "\n",
    "import sys\n",
    "sys.path.insert(0, '/home/misa/APDFT/prototyping/atomic_energies/')\n",
    "from parse_density_files import CUBE\n",
    "import alchemy_tools as at\n"
   ]
  },
  {
   "cell_type": "code",
   "execution_count": 2,
   "metadata": {},
   "outputs": [],
   "source": [
    "# linear fit through origin\n",
    "def linear_m(x, y):\n",
    "    xy_av = np.dot(x,y)\n",
    "    x2_av = np.dot(x,x)\n",
    "    return(xy_av/x2_av)\n"
   ]
  },
  {
   "cell_type": "markdown",
   "metadata": {},
   "source": [
    "# Import data into cube objects"
   ]
  },
  {
   "cell_type": "code",
   "execution_count": 3,
   "metadata": {},
   "outputs": [],
   "source": [
    "paths = glob.glob('/home/misa/APDFT/prototyping/atomic_energies/results/slice_ve38/dsgdb9nsd_001212/cube-files/*.cube')\n",
    "paths.sort()\n",
    "\n",
    "cube_obj = []\n",
    "for p in paths:\n",
    "    cube_obj.append(CUBE(p))"
   ]
  },
  {
   "cell_type": "code",
   "execution_count": 4,
   "metadata": {},
   "outputs": [],
   "source": [
    "# uniform electron gas\n",
    "path_ueg = '/home/misa/APDFT/prototyping/atomic_energies/results/slice_ve38/ueg/ve_00.cube'\n",
    "cube_obj.insert(0, CUBE(path_ueg))"
   ]
  },
  {
   "cell_type": "markdown",
   "metadata": {},
   "source": [
    "# FFT 1D-projected density"
   ]
  },
  {
   "cell_type": "code",
   "execution_count": 52,
   "metadata": {},
   "outputs": [],
   "source": [
    "# fft of all densities\n",
    "# store coefficients for all lambda-values\n",
    "\n",
    "# fourier coefficients for every lambda value\n",
    "fft_freqs = np.empty((len(cube_obj), cube_obj[0].data_scaled.shape[0]), dtype='complex128')\n",
    "\n",
    "# density before scaling\n",
    "dens_unscaled = np.zeros((len(cube_obj), len(cube_obj[0].data_scaled)))\n",
    "\n",
    "lam_val = np.array([0, 4, 6, 8, 10, 12, 14, 15, 16, 18, 20, 22, 23, 24, 26, 28, 29, 30, 32, 34, 36, 38])/38\n",
    "for i in range(len(cube_obj)):\n",
    "    ve_ex = cube_obj[i]\n",
    "    pr = ve_ex.project((1,2))\n",
    "    dens_unscaled[i] = pr\n",
    "\n",
    "    # fft for one specific lambda value\n",
    "    fft = np.fft.fft(pr)\n",
    "    fft_freqs[i] = fft"
   ]
  },
  {
   "cell_type": "code",
   "execution_count": 53,
   "metadata": {},
   "outputs": [],
   "source": [
    "# rescaling of frequencies\n",
    "\n",
    "fft_freqs_scaled = fft_freqs.copy()\n",
    "\n",
    "# do not rescale the coefficients at lambda = 1\n",
    "end_idx = len(lam_val)-1\n",
    "\n",
    "scaled_freqs = range(1,5)\n",
    "\n",
    "for f in scaled_freqs:\n",
    "    # scale imaginary part\n",
    "    m_imag = linear_m(lam_val[:end_idx], fft_freqs.imag[:end_idx,f])\n",
    "    fft_freqs_scaled.imag[:end_idx,f] = lam_val[:end_idx]*m_imag\n",
    "    # scale real part\n",
    "    m_real = linear_m(lam_val[:end_idx], fft_freqs.real[:end_idx,f])\n",
    "    fft_freqs_scaled.real[:end_idx,f] = lam_val[:end_idx]*m_real\n",
    "    "
   ]
  },
  {
   "cell_type": "code",
   "execution_count": 54,
   "metadata": {},
   "outputs": [
    {
     "data": {
      "text/plain": [
       "Text(0, 0.5, '$|c_{\\\\nu}(\\\\lambda)|$')"
      ]
     },
     "execution_count": 54,
     "metadata": {},
     "output_type": "execute_result"
    }
   ],
   "source": [
    "# plot frequencies before and after rescaling\n",
    "\n",
    "fig_coeff, ax_coeff = plt.subplots(1,3)\n",
    "plt.rcParams.update({'font.size': 18})\n",
    "fig_coeff.suptitle(r'Fourier coefficients of the 5 lowest frequencies as a function of $\\lambda$' + '\\n' + 'for the 1D-projected densities of dsgdb9nsd_001212')\n",
    "plt.rcParams.update({'font.size': 22})\n",
    "\n",
    "# same colors for fit and original data\n",
    "prop_cycle = plt.rcParams['axes.prop_cycle']\n",
    "colors = prop_cycle.by_key()['color']\n",
    "\n",
    "for i in range(0,5):\n",
    "    # original values\n",
    "    ax_coeff[0].plot(lam_val, fft_freqs.real[:,i], '-o', label = r'$\\nu = ${}'.format(i), color=colors[i])\n",
    "    ax_coeff[1].plot(lam_val, fft_freqs.imag[:,i], '-o', label = r'$\\nu = ${}'.format(i), color=colors[i])\n",
    "    ax_coeff[2].plot(lam_val, np.abs(fft_freqs[:,i]), '-o', label = r'$\\nu = ${}'.format(i), color=colors[i])\n",
    "    # after rescaling\n",
    "    ax_coeff[0].plot(lam_val, fft_freqs_scaled.real[:,i], '--', color=colors[i])\n",
    "    ax_coeff[1].plot(lam_val, fft_freqs_scaled.imag[:,i], '--', color=colors[i])\n",
    "    ax_coeff[2].plot(lam_val, np.abs(fft_freqs_scaled[:,i]), '--', color=colors[i])\n",
    "\n",
    "ax_coeff[0].set_xlabel(r'$\\lambda$')\n",
    "ax_coeff[0].set_ylabel(r'$c_{\\nu, real}(\\lambda)$')\n",
    "ax_coeff[0].legend()\n",
    "\n",
    "ax_coeff[1].set_xlabel(r'$\\lambda$')\n",
    "ax_coeff[1].set_ylabel(r'$c_{\\nu, im}(\\lambda)$')\n",
    "ax_coeff[1].legend()\n",
    "\n",
    "ax_coeff[2].set_xlabel(r'$\\lambda$')\n",
    "ax_coeff[2].set_ylabel(r'$|c_{\\nu}(\\lambda)|$')"
   ]
  },
  {
   "cell_type": "code",
   "execution_count": 55,
   "metadata": {},
   "outputs": [
    {
     "name": "stdout",
     "output_type": "stream",
     "text": [
      "4.360595673352785e-06\n",
      "3.7755281011520037e-05\n",
      "6.416373028950151e-05\n",
      "1.7859890254379174e-05\n",
      "2.0778774865143346e-05\n",
      "1.685419595831572e-05\n",
      "4.1873553230625804e-05\n",
      "3.563925757449349e-05\n",
      "3.144131658147642e-05\n",
      "6.229712086479322e-05\n",
      "5.480544719273228e-05\n",
      "5.5948641548980715e-05\n",
      "4.309352345907569e-05\n",
      "3.087351369801539e-05\n",
      "1.8205497506279533e-05\n",
      "5.4883729209892484e-05\n",
      "0.00015518850438134973\n",
      "0.00010866984782700179\n",
      "5.597431262313948e-05\n",
      "0.00020802540353079095\n",
      "0.0016909305290532563\n"
     ]
    }
   ],
   "source": [
    "# inverse Fourier transformation of rescaled frequencies\n",
    "rescaled_dens = np.zeros((len(cube_obj), len(cube_obj[0].data_scaled)))\n",
    "\n",
    "for i in range(len(cube_obj)):\n",
    "\n",
    "    ve_ex = cube_obj[i]\n",
    "    pr = ve_ex.project((1,2))\n",
    "    \n",
    "    ifft = np.fft.ifft(fft_freqs_scaled[i])\n",
    "    if not np.allclose(np.abs(ifft), np.abs(ifft.real)):\n",
    "        print(max(np.abs(ifft) - np.abs(ifft.real)))\n",
    "    rescaled_dens[i] = ifft.real"
   ]
  },
  {
   "cell_type": "code",
   "execution_count": 56,
   "metadata": {},
   "outputs": [
    {
     "data": {
      "text/plain": [
       "Text(0, 0.5, '1D-Projected Density')"
      ]
     },
     "execution_count": 56,
     "metadata": {},
     "output_type": "execute_result"
    }
   ],
   "source": [
    "# plot density after and before rescaling\n",
    "\n",
    "# same colors for fit and original data\n",
    "from matplotlib import cm\n",
    "colors = cm.jet(np.linspace(0, 1, len(cube_obj)))\n",
    "\n",
    "x = np.linspace(0, 20, cube_obj[0].data_scaled.shape[0])\n",
    "\n",
    "fig, ax = plt.subplots(1,1)\n",
    "\n",
    "for i in range(len(cube_obj)):\n",
    "\n",
    "    ve_ex = cube_obj[i]\n",
    "    pr = ve_ex.project((1,2))\n",
    "    \n",
    "    ifft = np.fft.ifft(fft_freqs_scaled[i])\n",
    "    \n",
    "    ax.plot(x, rescaled_dens[i], '--', color = colors[i])\n",
    "    ax.plot(x, pr, color = colors[i])\n",
    "ax.set_xlabel('Cell coordinate (Ang)')\n",
    "ax.set_ylabel('1D-Projected Density')"
   ]
  },
  {
   "cell_type": "code",
   "execution_count": 57,
   "metadata": {},
   "outputs": [
    {
     "name": "stdout",
     "output_type": "stream",
     "text": [
      "0.0013757511876194212\n",
      "0.004444465792400307\n",
      "0.006117986104832541\n",
      "0.0033757515628082212\n",
      "0.0013847371993376734\n",
      "0.0025806585663260355\n",
      "0.003598395289623391\n",
      "0.0032604055687315485\n",
      "0.0026063601494505286\n",
      "0.0034061004629144863\n",
      "0.0034185816944035975\n",
      "0.0021835124955959205\n",
      "0.0016574568420829818\n",
      "0.0013572515923114237\n",
      "0.0023394075257563473\n",
      "0.0023815929659731683\n",
      "0.003914841739815279\n",
      "0.0017744985659323542\n",
      "0.0016853447514110277\n",
      "0.0023108850749538772\n",
      "0.0035316723525419215\n",
      "1.4862737907957555e-16\n"
     ]
    }
   ],
   "source": [
    "for i in range(len(cube_obj)):\n",
    "\n",
    "    ve_ex = cube_obj[i]\n",
    "    pr = ve_ex.project((1,2))\n",
    "    \n",
    "    ifft = np.fft.ifft(fft_freqs_scaled[i])\n",
    "    print(max(ifft.imag))\n",
    "    \n",
    "#     print(ifft.sum())"
   ]
  },
  {
   "cell_type": "code",
   "execution_count": 58,
   "metadata": {},
   "outputs": [
    {
     "data": {
      "text/plain": [
       "array([0.18441552-8.02565711e-04j, 0.18455996-6.68786176e-04j,\n",
       "       0.18467556-5.13650101e-04j, 0.18475917-3.42231248e-04j,\n",
       "       0.18480835-1.59961959e-04j, 0.18482135+2.75011087e-05j,\n",
       "       0.18479719+2.14415535e-04j, 0.18473565+3.95092849e-04j,\n",
       "       0.18463727+5.64036270e-04j, 0.18450335+7.16073399e-04j,\n",
       "       0.18433583+8.46480895e-04j, 0.18413735+9.51098351e-04j,\n",
       "       0.18391109+1.02642885e-03j, 0.18366074+1.06972391e-03j,\n",
       "       0.18339033+1.07905102e-03j, 0.18310426+1.05334216e-03j,\n",
       "       0.18280709+9.92422217e-04j, 0.18250346+8.97016751e-04j,\n",
       "       0.18219798+7.68738795e-04j, 0.18189518+6.10055016e-04j,\n",
       "       0.18159933+4.24231960e-04j, 0.18131444+2.15263505e-04j,\n",
       "       0.1810441 -1.22188585e-05j, 0.18079153-2.53050996e-04j,\n",
       "       0.18055938-5.01654037e-04j, 0.18034993-7.52162637e-04j,\n",
       "       0.18016483-9.98560767e-04j, 0.18000536-1.23482204e-03j,\n",
       "       0.1798723 -1.45505148e-03j, 0.17976607-1.65362550e-03j,\n",
       "       0.17968684-1.82532711e-03j, 0.17963461-1.96547316e-03j,\n",
       "       0.17960932-2.07003084e-03j, 0.17961115-2.13572070e-03j,\n",
       "       0.17964051-2.16010388e-03j, 0.17969848-2.14165144e-03j,\n",
       "       0.17978684-2.07979412e-03j, 0.17990844-1.97495128e-03j,\n",
       "       0.18006753-1.82853811e-03j, 0.18026996-1.64295097e-03j,\n",
       "       0.18052346-1.42153061e-03j, 0.18083813-1.16850422e-03j,\n",
       "       0.18122661-8.88907101e-04j, 0.18170449-5.88485516e-04j,\n",
       "       0.18229059-2.73582670e-04j, 0.18300717+4.89899713e-05j,\n",
       "       0.1838802 +3.72093404e-04j, 0.18493925+6.88410945e-04j,\n",
       "       0.18621747+9.90604149e-04j, 0.18775095+1.27147153e-03j,\n",
       "       0.18957781+1.52410670e-03j, 0.19173614+1.74205268e-03j,\n",
       "       0.19426178+1.91944890e-03j, 0.19718323+2.05116789e-03j,\n",
       "       0.20051636+2.13293854e-03j, 0.20425463+2.16145323e-03j,\n",
       "       0.20835901+2.13445645e-03j, 0.21274292+2.05081273e-03j,\n",
       "       0.21726039+1.91055233e-03j, 0.22169778+1.71489352e-03j,\n",
       "       0.22579733+1.46624052e-03j, 0.2293678 +1.16815708e-03j,\n",
       "       0.23259002+8.25315894e-04j, 0.23611776+4.43424519e-04j,\n",
       "       0.24033882+2.91291828e-05j, 0.24530448-4.10101887e-04j,\n",
       "       0.25056759-8.66113439e-04j, 0.25501286-1.33021394e-03j,\n",
       "       0.25799977-1.79333923e-03j, 0.25957492-2.24622588e-03j,\n",
       "       0.26023409-2.67959088e-03j, 0.26091348-3.08431421e-03j,\n",
       "       0.26278529-3.45162043e-03j, 0.2665295 -3.77325596e-03j,\n",
       "       0.27228622-4.04165822e-03j, 0.2800092 -4.25011334e-03j,\n",
       "       0.28915032-4.39289909e-03j, 0.29892552-4.46541021e-03j,\n",
       "       0.30873724-4.46426338e-03j, 0.31805303-4.38737964e-03j,\n",
       "       0.32626022-4.23404245e-03j, 0.33270949-4.00493007e-03j,\n",
       "       0.33728807-3.70212136e-03j, 0.34137484-3.32907474e-03j,\n",
       "       0.34679286-2.89058057e-03j, 0.35388231-2.39268758e-03j,\n",
       "       0.36155912-1.84260460e-03j, 0.36730292-1.24857958e-03j,\n",
       "       0.36917703-6.19757707e-04j, 0.36654617+3.39783666e-05j,\n",
       "       0.35993708+7.02183487e-04j, 0.35081985+1.37403668e-03j,\n",
       "       0.34120788+2.03853612e-03j, 0.33292497+2.68469856e-03j,\n",
       "       0.32723531+3.30175959e-03j, 0.32434531+3.87937068e-03j,\n",
       "       0.32362665+4.40778931e-03j, 0.32389157+4.87805867e-03j,\n",
       "       0.32363997+5.28217312e-03j, 0.32170417+5.61322658e-03j,\n",
       "       0.31738975+5.86554075e-03j, 0.31036939+6.03477074e-03j,\n",
       "       0.30115295+6.11798610e-03j, 0.29149162+6.11372567e-03j,\n",
       "       0.2825636 +6.02202508e-03j, 0.27445768+5.84441659e-03j,\n",
       "       0.26652626+5.58390102e-03j, 0.25791265+5.24489256e-03j,\n",
       "       0.24867949+4.83313732e-03j, 0.2393031 +4.35560736e-03j,\n",
       "       0.23021819+3.82037217e-03j, 0.22173059+3.23645014e-03j,\n",
       "       0.21401385+2.61364281e-03j, 0.20714741+1.96235525e-03j,\n",
       "       0.20114127+1.29340588e-03j, 0.19596591+6.17829514e-04j,\n",
       "       0.19156628-5.33226996e-05j, 0.18787712-7.09182499e-04j,\n",
       "       0.18482809-1.33925917e-03j, 0.18235036-1.93362590e-03j,\n",
       "       0.18037766-2.48309436e-03j, 0.17884863-2.97937412e-03j,\n",
       "       0.17770644-3.41521408e-03j, 0.1768994 -3.78452321e-03j,\n",
       "       0.17638028-4.08246841e-03j, 0.17610628-4.30554783e-03j,\n",
       "       0.17603837-4.45163840e-03j, 0.17614117-4.52001671e-03j,\n",
       "       0.17638261-4.51135330e-03j, 0.17673349-4.42768045e-03j,\n",
       "       0.17716753-4.27233444e-03j, 0.17766097-4.04987360e-03j,\n",
       "       0.17819262-3.76597395e-03j, 0.17874357-3.42730472e-03j,\n",
       "       0.17929732-3.04138631e-03j, 0.17983949-2.61643372e-03j,\n",
       "       0.18035795-2.16118860e-03j, 0.18084255-1.68474342e-03j,\n",
       "       0.18128528-1.19636125e-03j, 0.1816799 -7.05294857e-04j,\n",
       "       0.18202222-2.20608553e-04j, 0.18230962+2.48993489e-04j,\n",
       "       0.18254122+6.95329247e-04j, 0.18271759+1.11088800e-03j,\n",
       "       0.18284072+1.48896379e-03j, 0.18291373+1.82377067e-03j,\n",
       "       0.18294091+2.11053764e-03j, 0.1829273 +2.34558165e-03j,\n",
       "       0.18287878+2.52635738e-03j, 0.18280159+2.65148303e-03j,\n",
       "       0.18270252+2.72074207e-03j, 0.18258835+2.73506102e-03j,\n",
       "       0.18246596+2.69646406e-03j, 0.18234199+2.60800585e-03j,\n",
       "       0.18222283+2.47368393e-03j, 0.18211432+2.29833308e-03j,\n",
       "       0.18202177+2.08750383e-03j, 0.18194978+1.84732801e-03j,\n",
       "       0.18190213+1.58437423e-03j, 0.18188174+1.30549649e-03j,\n",
       "       0.18189069+1.01767915e-03j, 0.18193005+7.27881758e-04j,\n",
       "       0.18200001+4.42886724e-04j, 0.18209983+1.69153401e-04j,\n",
       "       0.18222791-8.73186280e-05j, 0.18238182-3.21114113e-04j,\n",
       "       0.18255837-5.27512029e-04j, 0.18275379-7.02578573e-04j,\n",
       "       0.18296369-8.43241442e-04j, 0.18318332-9.47343952e-04j,\n",
       "       0.18340759-1.01367803e-03j, 0.18363123-1.04199553e-03j,\n",
       "       0.18384895-1.03299790e-03j, 0.18405553-9.88304488e-04j,\n",
       "       0.18424594-9.10400472e-04j])"
      ]
     },
     "execution_count": 58,
     "metadata": {},
     "output_type": "execute_result"
    }
   ],
   "source": [
    "np.fft.ifft(fft_freqs_scaled[2])"
   ]
  },
  {
   "cell_type": "code",
   "execution_count": 59,
   "metadata": {},
   "outputs": [
    {
     "data": {
      "text/plain": [
       "<matplotlib.legend.Legend at 0x7f62a87c2cc0>"
      ]
     },
     "execution_count": 59,
     "metadata": {},
     "output_type": "execute_result"
    }
   ],
   "source": [
    "# plot density at box edges as a function of lambda after and before rescaling\n",
    "\n",
    "x = np.linspace(0, 20, cube_obj[0].data_scaled.shape[0])\n",
    "\n",
    "fig, ax = plt.subplots(1,1)\n",
    "\n",
    "ax.plot(lam_val, dens_unscaled[:,0], '-o', label = 'unscaled, left')\n",
    "ax.plot(lam_val, rescaled_dens[:,0], '-o', label = 'scaled, left')\n",
    "ax.legend()\n",
    "fig, ax = plt.subplots(1,1)\n",
    "ax.plot(lam_val, dens_unscaled[:,dens_unscaled.shape[1]-1], '-o', label = 'unscaled, right')\n",
    "ax.plot(lam_val, rescaled_dens[:,rescaled_dens.shape[1]-1], '-o', label = 'scaled, right')\n",
    "\n",
    "ax.legend()\n",
    "# for i in range(len(cube_obj)):\n",
    "\n",
    "#     rescaled_dens[i][0]\n",
    "    \n",
    "#     ax.plot(x, ifft.real, '--', color = colors[i])\n",
    "#     ax.plot(x, pr, color = colors[i])\n",
    "# ax.set_xlabel('Cell coordinate (Ang)')\n",
    "# ax.set_ylabel('1D-Projected Density')"
   ]
  },
  {
   "cell_type": "markdown",
   "metadata": {},
   "source": [
    "# Non-linear Rescaling\n",
    "The linear rescaling does not improve the behaviour of the density at the box orders sufficiently. Therefore, I use no a non-linear approach for the $\\lambda = [1.0,0.8]$ and compare the trapezoidal integral over all points and only 1.0 and 0.8."
   ]
  },
  {
   "cell_type": "code",
   "execution_count": 60,
   "metadata": {},
   "outputs": [],
   "source": [
    "# cube files from 0.8 to 1.0 (5 objects)\n",
    "cubes_30_38 = []\n",
    "density_unscaled = np.zeros((5, cube_obj[0].data_scaled.shape[0]))\n",
    "\n",
    "for i in range(len(cube_obj)-5, len(cube_obj)):\n",
    "    cubes_30_38.append(cube_obj[i])\n",
    "    \n",
    "    density_unscaled[i-(len(cube_obj)-5)] = cube_obj[i].project((1,2))"
   ]
  },
  {
   "cell_type": "code",
   "execution_count": 61,
   "metadata": {},
   "outputs": [],
   "source": [
    "def fft_cubes(cube_objs):\n",
    "    # fourier coefficients for every lambda value\n",
    "    fft_freqs = np.empty((len(cube_objs), cube_objs[0].data_scaled.shape[0]), dtype='complex128')\n",
    "    # fft for all cubes\n",
    "    for i in range(len(cube_objs)):\n",
    "        ve_ex = cube_objs[i]\n",
    "        pr = ve_ex.project((1,2))\n",
    "        # fft for one specific lambda value\n",
    "        fft = np.fft.fft(pr)\n",
    "        fft_freqs[i] = fft\n",
    "    return(fft_freqs)"
   ]
  },
  {
   "cell_type": "code",
   "execution_count": 62,
   "metadata": {},
   "outputs": [],
   "source": [
    "# Fourier spectrum of densities\n",
    "fft_freqs_30_38 = fft_cubes(cubes_30_38)"
   ]
  },
  {
   "cell_type": "code",
   "execution_count": 63,
   "metadata": {},
   "outputs": [
    {
     "data": {
      "text/plain": [
       "<matplotlib.legend.Legend at 0x7f62a8425e10>"
      ]
     },
     "execution_count": 63,
     "metadata": {},
     "output_type": "execute_result"
    }
   ],
   "source": [
    "# optimize densities\n",
    "\n",
    "fig_m, ax_m = plt.subplots(1,2)\n",
    "x = np.linspace(0, 20, 175)\n",
    "pr = cubes_30_38[1].project((1,2))\n",
    "# ax_m.plot(x, pr, label='full')\n",
    "\n",
    "fft = np.fft.fft(pr)\n",
    "fft_scaled = fft.copy()\n",
    "fft_scaled[1] = fft_scaled[1]*1.08\n",
    "fft_scaled[2] = fft_scaled[2]*0.92\n",
    "ifft= np.fft.ifft(fft_scaled)\n",
    "\n",
    "ax_m[0].plot(np.arange(len(fft))[0:25],np.abs(fft)[0:25], '-o', label='original')\n",
    "ax_m[0].plot(np.arange(len(fft))[0:25],np.abs(fft_scaled)[0:25], '-o', label='rescaled')\n",
    "\n",
    "ax_m[1].plot(x, pr.real, label=\"original\")\n",
    "ax_m[1].plot(x, ifft, label=\"rescaled\")\n",
    "\n",
    "ax_m[0].set_xlabel('Frequency')\n",
    "ax_m[0].set_ylabel('Intensity')\n",
    "ax_m[1].set_xlabel('Cell coordinate (Ang)')\n",
    "ax_m[1].set_ylabel('Projected Density')\n",
    "\n",
    "ax_m[0].legend()\n",
    "ax_m[1].legend()\n"
   ]
  },
  {
   "cell_type": "code",
   "execution_count": 49,
   "metadata": {},
   "outputs": [],
   "source": [
    "# rescale first 5 densities\n",
    "rescaled_densities = np.zeros((len(cubes_30_38), cubes_30_38[0].data_scaled.shape[0]))\n",
    "for i in range(len(cubes_30_38)):\n",
    "    pr = cubes_30_38[i].project((1,2))\n",
    "    # ax_m.plot(x, pr, label='full')\n",
    "\n",
    "    fft = np.fft.fft(pr)\n",
    "    fft_scaled = fft.copy()\n",
    "    fft_scaled[1] = fft_scaled[1]*1.08\n",
    "    fft_scaled[2] = fft_scaled[2]*0.92\n",
    "    ifft = np.fft.ifft(fft_scaled)\n",
    "    rescaled_densities[i] = ifft.real"
   ]
  },
  {
   "cell_type": "code",
   "execution_count": 50,
   "metadata": {},
   "outputs": [],
   "source": [
    "# integrate over lambda\n",
    "integral_rescaled = np.trapz(rescaled_densities, axis=0)\n",
    "integral_unscaled = np.trapz(density_unscaled, axis=0)"
   ]
  },
  {
   "cell_type": "code",
   "execution_count": 51,
   "metadata": {},
   "outputs": [],
   "source": [
    "fig_m, ax_m = plt.subplots(1,1)\n",
    "x = np.linspace(0, 20, 175)\n",
    "for dens in zip(density_unscaled,rescaled_densities):\n",
    "#     ax_m.plot(x,dens[0])\n",
    "    ax_m.plot(x,dens[1])\n"
   ]
  },
  {
   "cell_type": "code",
   "execution_count": null,
   "metadata": {},
   "outputs": [],
   "source": []
  }
 ],
 "metadata": {
  "kernelspec": {
   "display_name": "Python [conda env:atomic-energies]",
   "language": "python",
   "name": "conda-env-atomic-energies-py"
  },
  "language_info": {
   "codemirror_mode": {
    "name": "ipython",
    "version": 3
   },
   "file_extension": ".py",
   "mimetype": "text/x-python",
   "name": "python",
   "nbconvert_exporter": "python",
   "pygments_lexer": "ipython3",
   "version": "3.7.3"
  }
 },
 "nbformat": 4,
 "nbformat_minor": 2
}
