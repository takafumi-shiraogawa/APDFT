{
 "cells": [
  {
   "cell_type": "code",
   "execution_count": 1,
   "metadata": {},
   "outputs": [],
   "source": [
    "import sys\n",
    "sys.path.insert(0, '/home/misa/APDFT/prototyping/atomic_energies')\n",
    "\n",
    "import alchemy_tools as at\n",
    "from geometry_euston import abc_to_hmatrix, distance_pbc\n",
    "from parse_cube_files import CUBE\n",
    "\n",
    "import numpy as np\n",
    "import itertools as it"
   ]
  },
  {
   "cell_type": "markdown",
   "metadata": {},
   "source": [
    "Calculation of the distance between a nucleus and a group of vectors represented on a grid using the minimal image convention"
   ]
  },
  {
   "cell_type": "code",
   "execution_count": 2,
   "metadata": {},
   "outputs": [],
   "source": [
    "def distance_MIC(pos_nuc, meshgrid, h_matrix):\n",
    "    \"\"\"\n",
    "    calculates the distance between the position of the nucleus and the nearest image of a gridpoint\n",
    "    \n",
    "    pos_nuc: position of nucleus\n",
    "    meshgrid: meshgrid containing x,y,z components of every gridpoint\n",
    "    h_matrix: needed for calculation of MIC distance\n",
    "    \"\"\"\n",
    "    \n",
    "    distance = np.zeros((meshgrid[0].shape))\n",
    "    \n",
    "    for idx0 in range(meshgrid[0].shape[0]):\n",
    "        for idx1 in range(meshgrid[0].shape[1]):\n",
    "            for idx2 in range(meshgrid[0].shape[2]):\n",
    "                distance[idx0][idx1][idx2] = distance_pbc(pos_nuc, np.array([meshgrid[0][idx0][idx1][idx2], meshgrid[1][idx0][idx1][idx2], meshgrid[2][idx0][idx1][idx2]]), h_matrix)\n",
    "    \n",
    "    return(distance)"
   ]
  },
  {
   "cell_type": "code",
   "execution_count": 3,
   "metadata": {},
   "outputs": [],
   "source": [
    "def distance_MIC2(pos_nuc, meshgrid, h_matrix):\n",
    "    \"\"\"\n",
    "    calculates the distance between the position of the nucleus and the nearest image of a gridpoint\n",
    "    works so far only for cubic symmetry\n",
    "    \n",
    "    pos_nuc: position of nucleus\n",
    "    meshgrid: meshgrid containing x,y,z components of every gridpoint\n",
    "    h_matrix: needed for calculation of MIC distance\n",
    "    :return: distance between pos_nuc and every gridpoint\n",
    "    :rtype: numpy array of shape meshgrid.shape\n",
    "    \"\"\"\n",
    "    \n",
    "    hinv = np.linalg.inv(h_matrix)\n",
    "    a_t = np.dot(hinv, pos_nuc)\n",
    "    \n",
    "    # calculate product of h_matrix and grid componentwise\n",
    "    b_t_x = hinv[0][0]*meshgrid[0]\n",
    "    b_t_y = hinv[1][1]*meshgrid[1]\n",
    "    b_t_z = +hinv[2][2]*meshgrid[2]\n",
    "    \n",
    "    t_12_x = b_t_x - a_t[0]\n",
    "    t_12_y = b_t_y - a_t[1]\n",
    "    t_12_z = b_t_z - a_t[2]\n",
    "    \n",
    "    t_12_x -= np.round(t_12_x)\n",
    "    t_12_y -= np.round(t_12_y)\n",
    "    t_12_z -= np.round(t_12_z)\n",
    "    \n",
    "    x = np.power(h_matrix[0][0]*t_12_x, 2)\n",
    "    y = np.power(h_matrix[1][1]*t_12_y, 2)\n",
    "    z = np.power(h_matrix[2][2]*t_12_z, 2)\n",
    "    \n",
    "    return(np.sqrt(x+y+z))"
   ]
  },
  {
   "cell_type": "markdown",
   "metadata": {},
   "source": [
    "## Test function to calculate distance to closest image\n",
    "Create a 2D grid and calculate the distances for one point manually (selected point shown in plot)\n",
    "2D version of MIC returns same values as manual calculation "
   ]
  },
  {
   "cell_type": "code",
   "execution_count": 4,
   "metadata": {},
   "outputs": [],
   "source": [
    "def distance_MIC2_2D(pos_nuc, meshgrid, h_matrix):\n",
    "    \"\"\"\n",
    "    calculates the distance between the position of the nucleus and the nearest image of a gridpoint\n",
    "    works so far only for cubic symmetry\n",
    "    \n",
    "    pos_nuc: position of nucleus\n",
    "    meshgrid: meshgrid containing x,y,z components of every gridpoint\n",
    "    h_matrix: needed for calculation of MIC distance\n",
    "    :return: distance between pos_nuc and every gridpoint\n",
    "    :rtype: numpy array of shape meshgrid.shape\n",
    "    \"\"\"\n",
    "    \n",
    "    hinv = np.linalg.inv(h_matrix)\n",
    "    a_t = np.dot(hinv, pos_nuc)\n",
    "    \n",
    "    # calculate product of h_matrix and grid componentwise\n",
    "    b_t_x = hinv[0][0]*meshgrid[0]\n",
    "    b_t_y = hinv[1][1]*meshgrid[1]\n",
    "    \n",
    "    t_12_x = b_t_x - a_t[0]\n",
    "    t_12_y = b_t_y - a_t[1]\n",
    "    \n",
    "    t_12_x -= np.round(t_12_x)\n",
    "    t_12_y -= np.round(t_12_y)\n",
    "    \n",
    "    x = np.power(h_matrix[0][0]*t_12_x, 2)\n",
    "    y = np.power(h_matrix[1][1]*t_12_y, 2)\n",
    "    \n",
    "    return(np.sqrt(x+y))"
   ]
  },
  {
   "cell_type": "code",
   "execution_count": 14,
   "metadata": {},
   "outputs": [
    {
     "data": {
      "text/plain": [
       "[<matplotlib.lines.Line2D at 0x7fa546a29978>]"
      ]
     },
     "execution_count": 14,
     "metadata": {},
     "output_type": "execute_result"
    }
   ],
   "source": [
    "import matplotlib\n",
    "matplotlib.use('Qt5Agg')\n",
    "from matplotlib import pyplot as plt\n",
    "\n",
    "L = 3\n",
    "p0 = (0, L), (L, 2*L)\n",
    "p1 = (L, 2*L), (L, 2*L)\n",
    "p2 = (L, 2*L), (0, L)\n",
    "p3 = (L, 2*L), (-L, 0)\n",
    "p4 = (0, L), (-L, 0)\n",
    "p5 = (-L, 0), (-L, 0)\n",
    "p6 = (-L, 0), (0, L)\n",
    "p7 = (-L, 0), (L, 2*L)\n",
    "\n",
    "p = [p0, p1, p2, p3, p4, p5, p6, p7]\n",
    "\n",
    "fig, ax = plt.subplots(1,1)\n",
    "\n",
    "# create boxes around cell of interest\n",
    "for el in p:\n",
    "    xx, yy = np.meshgrid(np.linspace(el[0][0], el[0][1]-1, L), np.linspace(el[1][0], el[1][1]-1, L))\n",
    "    ax.scatter(xx, yy, color='#1f77b4')\n",
    "\n",
    "# add cell of interest\n",
    "x_test = np.linspace(0, L-1, L)\n",
    "xx, yy = np.meshgrid(x_test, x_test)\n",
    "ax.scatter(xx, yy, color='#ff7f0e')\n",
    "\n",
    "# add boxes around every cell\n",
    "verticals = [-3, 0, 3, 6]\n",
    "\n",
    "for l in verticals:\n",
    "    ax.plot(np.full(2, l), np.array([-3, 6]), '--', color = 'grey')\n",
    "    ax.plot(np.array([-3, 6]), np.full(2, l), '--', color = 'grey')\n",
    "\n",
    "# point for which distance to grid points shall be calculated\n",
    "nuc_pos = np.array([0.2, 0.4])\n",
    "ax.scatter([0.2], [0.4], marker='x', color='black')\n",
    "\n",
    "# box around point nuc_pos used for calcualtion of distance with mic\n",
    "ax.plot(np.array([-1, 2]), np.array([-1, -1]), '--', color = 'red')\n",
    "ax.plot(np.array([-1, 2]), np.array([2, 2]), '--', color = 'red')\n",
    "ax.plot(np.array([-1, -1]), np.array([-1, 2]), '--', color = 'red')\n",
    "ax.plot(np.array([2, 2]), np.array([-1, 2]), '--', color = 'red')"
   ]
  },
  {
   "cell_type": "code",
   "execution_count": 15,
   "metadata": {},
   "outputs": [
    {
     "data": {
      "text/plain": [
       "array([[0.4472136 , 0.89442719, 1.26491106],\n",
       "       [0.63245553, 1.        , 1.34164079],\n",
       "       [1.41421356, 1.61245155, 1.84390889]])"
      ]
     },
     "execution_count": 15,
     "metadata": {},
     "output_type": "execute_result"
    }
   ],
   "source": [
    "distances = np.zeros(len(list(it.product((-1, 0, 1), repeat=2))))\n",
    "for idx,i in enumerate(it.product((-1, 0, 1), repeat=2)):\n",
    "    grid_vector = np.array([i[0], i[1]])\n",
    "    distances[idx] = np.linalg.norm(grid_vector-nuc_pos)\n",
    "d_grid = distances.reshape((3,3)).T\n",
    "d_grid = np.roll(d_grid, -1, axis=0)\n",
    "d_grid = np.roll(d_grid, -1, axis=1)\n",
    "d_grid"
   ]
  },
  {
   "cell_type": "code",
   "execution_count": 7,
   "metadata": {},
   "outputs": [],
   "source": [
    "# compare to MIC function\n",
    "h_matrix = np.array([[3.0, 0.0], [0.0, 3.0]])\n",
    "d_MIC2_2D = distance_MIC2_2D(nuc_pos, (xx, yy), h_matrix)"
   ]
  },
  {
   "cell_type": "code",
   "execution_count": 8,
   "metadata": {},
   "outputs": [
    {
     "data": {
      "text/plain": [
       "True"
      ]
     },
     "execution_count": 8,
     "metadata": {},
     "output_type": "execute_result"
    }
   ],
   "source": [
    "np.allclose(d_grid, d_MIC2_2D)"
   ]
  },
  {
   "cell_type": "code",
   "execution_count": 9,
   "metadata": {},
   "outputs": [
    {
     "data": {
      "text/plain": [
       "array([[ 0.00000000e+00,  0.00000000e+00, -2.22044605e-16],\n",
       "       [ 0.00000000e+00,  0.00000000e+00,  0.00000000e+00],\n",
       "       [ 0.00000000e+00,  0.00000000e+00, -2.22044605e-16]])"
      ]
     },
     "execution_count": 9,
     "metadata": {},
     "output_type": "execute_result"
    }
   ],
   "source": [
    "d_grid-d_MIC2_2D"
   ]
  },
  {
   "cell_type": "markdown",
   "metadata": {},
   "source": [
    "## Construction of H-matrix\n",
    "compare output of abc_to_hmatrix to manually constructed h-matrix"
   ]
  },
  {
   "cell_type": "code",
   "execution_count": 10,
   "metadata": {},
   "outputs": [],
   "source": [
    "cube = CUBE('/home/misa/APDFT/prototyping/atomic_energies/results/slice_ve38/dsgdb9nsd_001212/cube-files/ve_04.cube')"
   ]
  },
  {
   "cell_type": "code",
   "execution_count": 11,
   "metadata": {},
   "outputs": [
    {
     "data": {
      "text/plain": [
       "array([[37.794575,  0.      ,  0.      ],\n",
       "       [ 0.      , 37.794575,  0.      ],\n",
       "       [ 0.      ,  0.      , 37.794575]])"
      ]
     },
     "execution_count": 11,
     "metadata": {},
     "output_type": "execute_result"
    }
   ],
   "source": [
    "h_matrix = np.array([cube.X*cube.NX, cube.Y*cube.NY, cube.Z*cube.NZ])\n",
    "h_matrix\n"
   ]
  },
  {
   "cell_type": "code",
   "execution_count": 12,
   "metadata": {},
   "outputs": [
    {
     "data": {
      "text/plain": [
       "array([[3.77945750e+01, 2.31425026e-15, 2.31425026e-15],\n",
       "       [0.00000000e+00, 3.77945750e+01, 2.31425026e-15],\n",
       "       [0.00000000e+00, 0.00000000e+00, 3.77945750e+01]])"
      ]
     },
     "execution_count": 12,
     "metadata": {},
     "output_type": "execute_result"
    }
   ],
   "source": [
    "abc_to_hmatrix((cube.X*cube.NX)[0], (cube.X*cube.NX)[0], (cube.X*cube.NX)[0], 90, 90, 90)"
   ]
  },
  {
   "cell_type": "markdown",
   "metadata": {},
   "source": [
    "## Faster version to calculate MIC distance\n",
    "compare fast and slow version"
   ]
  },
  {
   "cell_type": "code",
   "execution_count": 13,
   "metadata": {},
   "outputs": [],
   "source": [
    "h_matrix = np.array([cube.X*cube.NX, cube.Y*cube.NY, cube.Z*cube.NZ])\n",
    "h_matrix\n",
    "meshgrid = cube.get_grid()\n",
    "# hinv = np.linalg.inv(h_matrix)\n",
    "# a = cube.atoms[0][1:4]\n",
    "# a_t = np.dot(hinv, a)"
   ]
  },
  {
   "cell_type": "markdown",
   "metadata": {},
   "source": [
    "### time versions"
   ]
  },
  {
   "cell_type": "code",
   "execution_count": 21,
   "metadata": {},
   "outputs": [
    {
     "name": "stdout",
     "output_type": "stream",
     "text": [
      "1min 44s ± 1.75 s per loop (mean ± std. dev. of 7 runs, 1 loop each)\n"
     ]
    }
   ],
   "source": [
    "%timeit distances_mic = distance_MIC(cube.atoms[0][1:4], meshgrid, h_matrix)"
   ]
  },
  {
   "cell_type": "code",
   "execution_count": 10,
   "metadata": {},
   "outputs": [
    {
     "name": "stdout",
     "output_type": "stream",
     "text": [
      "250 ms ± 13.5 ms per loop (mean ± std. dev. of 7 runs, 1 loop each)\n"
     ]
    }
   ],
   "source": [
    "%timeit distance2 = distance_MIC2(cube.atoms[0][1:4], meshgrid, h_matrix)"
   ]
  },
  {
   "cell_type": "markdown",
   "metadata": {},
   "source": [
    "### compare output of versions"
   ]
  },
  {
   "cell_type": "code",
   "execution_count": 48,
   "metadata": {},
   "outputs": [],
   "source": [
    "distances_mic = distance_MIC(cube.atoms[0][1:4], meshgrid, h_matrix)\n",
    "distance_mic2 = distance_MIC2(cube.atoms[0][1:4], meshgrid, h_matrix)"
   ]
  },
  {
   "cell_type": "code",
   "execution_count": 49,
   "metadata": {},
   "outputs": [
    {
     "data": {
      "text/plain": [
       "True"
      ]
     },
     "execution_count": 49,
     "metadata": {},
     "output_type": "execute_result"
    }
   ],
   "source": [
    "np.allclose(distances_mic,distance_mic2)"
   ]
  }
 ],
 "metadata": {
  "kernelspec": {
   "display_name": "Python [conda env:atomic-energies]",
   "language": "python",
   "name": "conda-env-atomic-energies-py"
  },
  "language_info": {
   "codemirror_mode": {
    "name": "ipython",
    "version": 3
   },
   "file_extension": ".py",
   "mimetype": "text/x-python",
   "name": "python",
   "nbconvert_exporter": "python",
   "pygments_lexer": "ipython3",
   "version": "3.7.3"
  }
 },
 "nbformat": 4,
 "nbformat_minor": 2
}
