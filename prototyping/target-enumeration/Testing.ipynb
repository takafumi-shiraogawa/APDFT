{
 "cells": [
  {
   "cell_type": "code",
   "execution_count": 32,
   "metadata": {},
   "outputs": [],
   "source": [
    "import numpy as np\n",
    "import itertools as it\n",
    "import functools"
   ]
  },
  {
   "cell_type": "code",
   "execution_count": 46,
   "metadata": {},
   "outputs": [],
   "source": [
    "#@functools.lru_cache(maxsize=32)\n",
    "def partition(total, maxelements, around=None, maxdz=None):\n",
    "    \"\"\" Builds all integer partitions of *total* split into *maxelements* parts.\n",
    "\n",
    "    Note that ordering matters, i.e. (2, 1) and (1, 2) are district partitions. Moreover, elements of zero value are allowed. In all cases, the sum of all elements is equal to *total*.\n",
    "    There is no guarantee as for the ordering of elements.\n",
    "\n",
    "    If a center *around* is given, then a radius *maxdz* is required.\n",
    "    Only those partitions are listed where the L1 norm of the distance between partition and *around* is less or equal to *maxdz*.\n",
    "\n",
    "    Args:\n",
    "        total:\t\t\tThe sum of all entries. [Integer]\n",
    "        maxelements:\tThe number of elements to split into. [Integer]\n",
    "        around:\t\t\tN array center around which partitions are listed. [Integer]\n",
    "        maxdz:\t\t\tMaximum absolute difference in Z space from center *around*. [Integer]\n",
    "    Returns:\n",
    "        A list of all partitions as lists.\n",
    "    \"\"\"\n",
    "    #print (total, maxelements)\n",
    "    if (around is None) != (maxdz is None):\n",
    "        raise ValueError('Cannot define center or radius alone.')\n",
    "\n",
    "    if maxelements == 1:\n",
    "        if around is not None and maxdz < abs(total - around[-maxelements]):\n",
    "            return []\n",
    "        else:\n",
    "            return [[total]]\n",
    "    res = []\n",
    "\n",
    "    # get range to cover\n",
    "    if around is None:\n",
    "        first = 0\n",
    "        last = total\n",
    "        limit = None\n",
    "    else:\n",
    "        first = max(0, around[-maxelements] - maxdz)\n",
    "        last = min(total, around[-maxelements] + maxdz)\n",
    "    for x in range(first, last + 1):\n",
    "        if around is not None:\n",
    "            limit = maxdz - abs(x - around[-maxelements])\n",
    "        for p in partition(total - x, maxelements - 1, around, limit):\n",
    "            res.append([x] + p)\n",
    "    return res\n"
   ]
  },
  {
   "cell_type": "code",
   "execution_count": 47,
   "metadata": {},
   "outputs": [
    {
     "name": "stdout",
     "output_type": "stream",
     "text": [
      "CPU times: user 719 ms, sys: 266 ms, total: 984 ms\n",
      "Wall time: 1.39 s\n"
     ]
    },
    {
     "data": {
      "text/plain": [
       "56695"
      ]
     },
     "execution_count": 47,
     "metadata": {},
     "output_type": "execute_result"
    }
   ],
   "source": [
    "%time len(partition(42, 12, around=(6, 6, 6,6, 6, 6, 1, 1, 1, 1, 1, 1), maxdz=6))"
   ]
  },
  {
   "cell_type": "code",
   "execution_count": 31,
   "metadata": {},
   "outputs": [
    {
     "name": "stdout",
     "output_type": "stream",
     "text": [
      "CPU times: user 0 ns, sys: 0 ns, total: 0 ns\n",
      "Wall time: 43.4 µs\n"
     ]
    },
    {
     "data": {
      "text/plain": [
       "[[0, 0, 3],\n",
       " [0, 1, 2],\n",
       " [0, 2, 1],\n",
       " [0, 3, 0],\n",
       " [1, 0, 2],\n",
       " [1, 1, 1],\n",
       " [1, 2, 0],\n",
       " [2, 0, 1],\n",
       " [2, 1, 0],\n",
       " [3, 0, 0]]"
      ]
     },
     "execution_count": 31,
     "metadata": {},
     "output_type": "execute_result"
    }
   ],
   "source": [
    "%time partition(3, 3)"
   ]
  },
  {
   "cell_type": "code",
   "execution_count": 9,
   "metadata": {},
   "outputs": [],
   "source": [
    "def accel_asc(n):\n",
    "    a = [0 for i in range(n + 1)]\n",
    "    k = 1\n",
    "    y = n - 1\n",
    "    while k != 0:\n",
    "        x = a[k - 1] + 1\n",
    "        k -= 1\n",
    "        while 2 * x <= y:\n",
    "            a[k] = x\n",
    "            y -= x\n",
    "            k += 1\n",
    "        l = k + 1\n",
    "        while x <= y:\n",
    "            a[k] = x\n",
    "            a[l] = y\n",
    "            yield a[:k + 2]\n",
    "            x += 1\n",
    "            y -= 1\n",
    "        a[k] = x + y\n",
    "        y = x + y - 1\n",
    "        yield a[:k + 1]"
   ]
  },
  {
   "cell_type": "code",
   "execution_count": 57,
   "metadata": {},
   "outputs": [
    {
     "name": "stdout",
     "output_type": "stream",
     "text": [
      "CPU times: user 2.17 s, sys: 516 ms, total: 2.69 s\n",
      "Wall time: 2.8 s\n"
     ]
    },
    {
     "data": {
      "text/plain": [
       "966467"
      ]
     },
     "execution_count": 57,
     "metadata": {},
     "output_type": "execute_result"
    }
   ],
   "source": [
    "%time len(list(accel_asc(60)))"
   ]
  },
  {
   "cell_type": "code",
   "execution_count": 10,
   "metadata": {},
   "outputs": [],
   "source": [
    "def compositions(n, size):\n",
    "    if n == 0 and size == 0:\n",
    "        yield []\n",
    "    elif 0 < size:\n",
    "        for i in range(1, n-size+2):\n",
    "            for c in compositions(n-i, size-1):\n",
    "                yield c + [i]"
   ]
  },
  {
   "cell_type": "code",
   "execution_count": 11,
   "metadata": {},
   "outputs": [
    {
     "name": "stdout",
     "output_type": "stream",
     "text": [
      "CPU times: user 0 ns, sys: 0 ns, total: 0 ns\n",
      "Wall time: 2.61 ms\n"
     ]
    },
    {
     "data": {
      "text/plain": [
       "(1, 10)"
      ]
     },
     "execution_count": 11,
     "metadata": {},
     "output_type": "execute_result"
    }
   ],
   "source": [
    "%time (np.array(list(compositions(10, 10))) - 1).shape"
   ]
  },
  {
   "cell_type": "code",
   "execution_count": 14,
   "metadata": {},
   "outputs": [],
   "source": [
    "def pad(n):\n",
    "    comb = list(accel_asc(n))\n",
    "    res = []\n",
    "    for c in comb:\n",
    "        cmod = c + [0] * (n-len(c))\n",
    "        res += list(set(it.permutations(cmod)))\n",
    "    return res\n",
    "#pad(10)"
   ]
  },
  {
   "cell_type": "code",
   "execution_count": 16,
   "metadata": {},
   "outputs": [
    {
     "ename": "KeyboardInterrupt",
     "evalue": "",
     "output_type": "error",
     "traceback": [
      "\u001b[0;31m---------------------------------------------------------------------------\u001b[0m",
      "\u001b[0;31mKeyboardInterrupt\u001b[0m                         Traceback (most recent call last)",
      "\u001b[0;32m<timed eval>\u001b[0m in \u001b[0;36m<module>\u001b[0;34m\u001b[0m\n",
      "\u001b[0;32m<ipython-input-14-89857336f40f>\u001b[0m in \u001b[0;36mpad\u001b[0;34m(n)\u001b[0m\n\u001b[1;32m      4\u001b[0m     \u001b[0;32mfor\u001b[0m \u001b[0mc\u001b[0m \u001b[0;32min\u001b[0m \u001b[0mcomb\u001b[0m\u001b[0;34m:\u001b[0m\u001b[0;34m\u001b[0m\u001b[0;34m\u001b[0m\u001b[0m\n\u001b[1;32m      5\u001b[0m         \u001b[0mcmod\u001b[0m \u001b[0;34m=\u001b[0m \u001b[0mc\u001b[0m \u001b[0;34m+\u001b[0m \u001b[0;34m[\u001b[0m\u001b[0;36m0\u001b[0m\u001b[0;34m]\u001b[0m \u001b[0;34m*\u001b[0m \u001b[0;34m(\u001b[0m\u001b[0mn\u001b[0m\u001b[0;34m-\u001b[0m\u001b[0mlen\u001b[0m\u001b[0;34m(\u001b[0m\u001b[0mc\u001b[0m\u001b[0;34m)\u001b[0m\u001b[0;34m)\u001b[0m\u001b[0;34m\u001b[0m\u001b[0;34m\u001b[0m\u001b[0m\n\u001b[0;32m----> 6\u001b[0;31m         \u001b[0mres\u001b[0m \u001b[0;34m+=\u001b[0m \u001b[0mlist\u001b[0m\u001b[0;34m(\u001b[0m\u001b[0mset\u001b[0m\u001b[0;34m(\u001b[0m\u001b[0mit\u001b[0m\u001b[0;34m.\u001b[0m\u001b[0mpermutations\u001b[0m\u001b[0;34m(\u001b[0m\u001b[0mcmod\u001b[0m\u001b[0;34m)\u001b[0m\u001b[0;34m)\u001b[0m\u001b[0;34m)\u001b[0m\u001b[0;34m\u001b[0m\u001b[0;34m\u001b[0m\u001b[0m\n\u001b[0m\u001b[1;32m      7\u001b[0m     \u001b[0;32mreturn\u001b[0m \u001b[0mres\u001b[0m\u001b[0;34m\u001b[0m\u001b[0;34m\u001b[0m\u001b[0m\n\u001b[1;32m      8\u001b[0m \u001b[0;31m#pad(10)\u001b[0m\u001b[0;34m\u001b[0m\u001b[0;34m\u001b[0m\u001b[0;34m\u001b[0m\u001b[0m\n",
      "\u001b[0;31mKeyboardInterrupt\u001b[0m: "
     ]
    }
   ],
   "source": [
    "%time len(list(pad(10)))"
   ]
  },
  {
   "cell_type": "code",
   "execution_count": 18,
   "metadata": {},
   "outputs": [
    {
     "ename": "IndentationError",
     "evalue": "expected an indented block (<ipython-input-18-ae25c498b764>, line 7)",
     "output_type": "error",
     "traceback": [
      "\u001b[0;36m  File \u001b[0;32m\"<ipython-input-18-ae25c498b764>\"\u001b[0;36m, line \u001b[0;32m7\u001b[0m\n\u001b[0;31m    return res\u001b[0m\n\u001b[0m    ^\u001b[0m\n\u001b[0;31mIndentationError\u001b[0m\u001b[0;31m:\u001b[0m expected an indented block\n"
     ]
    }
   ],
   "source": [
    "def p2(total, maxelements, around=None, maxdz=None):\n",
    "    res = [0 for _ in range(maxelements)]\n",
    "    pos = 1\n",
    "    free = total\n",
    "    i = 0\n",
    "    while True:\n",
    "        while pos < maxelements:\n",
    "            while free > 0:\n",
    "            res[pos] = i\n",
    "            free -= i\n",
    "            pos += 1\n",
    "    return res\n",
    "p2(3, 3)"
   ]
  },
  {
   "cell_type": "code",
   "execution_count": null,
   "metadata": {},
   "outputs": [],
   "source": []
  }
 ],
 "metadata": {
  "kernelspec": {
   "display_name": "Python [conda env:analysis]",
   "language": "python",
   "name": "conda-env-analysis-py"
  },
  "language_info": {
   "codemirror_mode": {
    "name": "ipython",
    "version": 3
   },
   "file_extension": ".py",
   "mimetype": "text/x-python",
   "name": "python",
   "nbconvert_exporter": "python",
   "pygments_lexer": "ipython3",
   "version": "3.6.8"
  }
 },
 "nbformat": 4,
 "nbformat_minor": 2
}
