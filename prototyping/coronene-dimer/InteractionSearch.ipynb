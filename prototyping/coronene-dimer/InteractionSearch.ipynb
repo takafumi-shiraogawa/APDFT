{
 "cells": [
  {
   "cell_type": "code",
   "execution_count": 1,
   "metadata": {},
   "outputs": [],
   "source": [
    "import numpy as np\n",
    "import matplotlib.pyplot as plt\n",
    "import pandas as pd\n",
    "import sys\n",
    "import configparser\n",
    "from deap import creator, base, tools, algorithms"
   ]
  },
  {
   "cell_type": "code",
   "execution_count": 2,
   "metadata": {},
   "outputs": [],
   "source": [
    "sys.path.append('../../src/')\n",
    "import apdft\n",
    "from apdft.calculator.mrcc import MrccCalculator\n",
    "import apdft.physics as ap"
   ]
  },
  {
   "cell_type": "code",
   "execution_count": 8,
   "metadata": {},
   "outputs": [],
   "source": [
    "def get_modepn(coordinates, fn):\n",
    "    #return np.zeros(len(coordinates))\n",
    "    density = MrccCalculator._parse_densityfile(fn)\n",
    "    modepns = []\n",
    "    for site in coordinates:\n",
    "        ds = np.linalg.norm(density[:, :3] - site* ( 1 / 0.52917721067), axis=1)\n",
    "        \n",
    "        modepns.append(np.sum(density[:, 3] * density[:, 4] / ds))\n",
    "    return modepns\n",
    "def read_meta(basepath):\n",
    "    nuclear_charges, coordinates = apdft.read_xyz('%s/inp.xyz' % basepath)\n",
    "    config = configparser.ConfigParser()\n",
    "    config.read('%s/apdft.conf' % basepath)\n",
    "    includeonly = [int(_) for _ in config['apdft']['apdft_includeonly'].strip('[]').split(', ')]\n",
    "    return nuclear_charges, coordinates, includeonly\n",
    "def read_coefficients(basepath, nuclear_charges, coordinates, includeonly):\n",
    "    N = len(includeonly)\n",
    "    \n",
    "    coefficients = np.zeros((1 + N*2 + N * (N - 1), N))\n",
    "    \n",
    "    # order 0\n",
    "    pos = 0\n",
    "    coefficients[pos, :] = get_modepn(coordinates[includeonly], '%s/QM/order-0/site-all-cc/DENSITY' % basepath)\n",
    "    pos += 1\n",
    "    \n",
    "    # order 1\n",
    "    for site in includeonly:\n",
    "        coefficients[pos, :] = get_modepn(coordinates[includeonly], '%s/QM/order-1/site-%d-up/DENSITY' % (basepath,site))\n",
    "        coefficients[pos+1, :] = get_modepn(coordinates[includeonly], '%s/QM/order-1/site-%d-dn/DENSITY' % (basepath,site))\n",
    "        pos += 2\n",
    "    \n",
    "    # order 2\n",
    "    for site_i in includeonly:\n",
    "        for site_j in includeonly:\n",
    "            if site_j <= site_i:\n",
    "                continue\n",
    "            \n",
    "            coefficients[pos, :] = get_modepn(coordinates[includeonly], '%s/QM/order-2/site-%d-%d-up/DENSITY' % (basepath,site_i, site_j))\n",
    "            coefficients[pos+1, :] = get_modepn(coordinates[includeonly], '%s/QM/order-2/site-%d-%d-dn/DENSITY' % (basepath,site_i, site_j))\n",
    "            pos += 2\n",
    "    \n",
    "    return coefficients\n",
    "\n",
    "basepath = 'data/coronene-dimer/mrcc-monomer-fast'\n",
    "nuclear_charges_part, coordinates_part, includeonly_part = read_meta(basepath)\n",
    "coefficients_part = read_coefficients(basepath, nuclear_charges_part, coordinates_part, includeonly_part)\n",
    "#coefficients_part = np.load('%s/coefficients.npy' % basepath)\n",
    "basepath = 'data/coronene-dimer/mrcc-fast'\n",
    "nuclear_charges_whole, coordinates_whole, includeonly_whole = read_meta(basepath)\n",
    "coefficients_whole = read_coefficients(basepath, nuclear_charges_whole, coordinates_whole, includeonly_whole)\n",
    "#coefficients_whole = np.load('%s/coefficients.npy' % basepath)"
   ]
  },
  {
   "cell_type": "code",
   "execution_count": 4,
   "metadata": {},
   "outputs": [
    {
     "data": {
      "text/plain": [
       "10.0"
      ]
     },
     "execution_count": 4,
     "metadata": {},
     "output_type": "execute_result"
    }
   ],
   "source": [
    "delta = 0.05\n",
    "(1/(2*delta**2))/2/3, (1/(delta**2))/2/3, 2 * (200/6.), (400/6.)\n",
    "1 / (2 * 0.05) / np.math.factorial(1)"
   ]
  },
  {
   "cell_type": "code",
   "execution_count": 14,
   "metadata": {},
   "outputs": [],
   "source": [
    "def predict_part(includeonly, coefficients, deltaZ):\n",
    "    N = len(includeonly)\n",
    "    delta = 0.05\n",
    "    \n",
    "    # build alphas\n",
    "    alphas = np.zeros((1 + N*2 + N * (N - 1)))\n",
    "    \n",
    "    # order 0\n",
    "    alphas[0] = 1\n",
    "    # order 1\n",
    "    for siteidx in range(N):\n",
    "        alphas[1 + siteidx*2] += 0.5*1/(2*delta) * deltaZ[siteidx]\n",
    "        alphas[1 + siteidx*2+1] -= 0.5*1/(2*delta) * deltaZ[siteidx]\n",
    "    \n",
    "    # order 2\n",
    "    pos = 1 + N*2 - 2\n",
    "    for siteidx_i in range(N):\n",
    "        for siteidx_j in range(siteidx_i, N):\n",
    "            if siteidx_i != siteidx_j:\n",
    "                pos += 2\n",
    "            if deltaZ[siteidx_j] == 0 or deltaZ[siteidx_i] == 0:\n",
    "                continue\n",
    "            if includeonly[siteidx_j] > includeonly[siteidx_i]:\n",
    "                prefactor = ((1/(2*delta**2))/2/3) * deltaZ[siteidx_i]*deltaZ[siteidx_j]\n",
    "                alphas[pos] += prefactor\n",
    "                alphas[pos+1] += prefactor\n",
    "                alphas[0] += 2*prefactor\n",
    "                alphas[1 + siteidx_i*2] -= prefactor\n",
    "                alphas[1 + siteidx_i*2+1] -= prefactor\n",
    "                alphas[1 + siteidx_j*2] -= prefactor\n",
    "                alphas[1 + siteidx_j*2+1] -= prefactor\n",
    "            if includeonly[siteidx_j] == includeonly[siteidx_i]:\n",
    "                prefactor = ((1/(delta**2))/2/3) * deltaZ[siteidx_i]*deltaZ[siteidx_j]\n",
    "                alphas[0] -= 2*prefactor\n",
    "                alphas[1 + siteidx_i*2] += prefactor\n",
    "                alphas[1 + siteidx_j*2+1] += prefactor\n",
    "    \n",
    "    # calculate energy\n",
    "    return np.sum(np.multiply(np.outer(alphas, deltaZ), coefficients))"
   ]
  },
  {
   "cell_type": "markdown",
   "metadata": {},
   "source": [
    "## Production"
   ]
  },
  {
   "cell_type": "code",
   "execution_count": 13,
   "metadata": {},
   "outputs": [],
   "source": [
    "def get_dnn(includeonly, coordinates, nuclear_charges):\n",
    "    dnn = []\n",
    "    for site in includeonly:\n",
    "        q = nuclear_charges.copy()\n",
    "        q[site] += 1\n",
    "        dnn.append(ap.Coulomb.nuclei_nuclei(coordinates, q) - ap.Coulomb.nuclei_nuclei(coordinates, nuclear_charges))\n",
    "    return np.array(dnn)\n",
    "dnn_part = get_dnn(includeonly_part, coordinates_part, nuclear_charges_part)\n",
    "dnn_whole = get_dnn(includeonly_whole, coordinates_whole, nuclear_charges_whole)"
   ]
  },
  {
   "cell_type": "code",
   "execution_count": 12,
   "metadata": {},
   "outputs": [],
   "source": [
    "# E_I = E_AB - E_A - E_B; E_I' = E_AB' - E_A' - E_B'\n",
    "# Delta E_I = E_AB' - E_A' - E_B' - (E_AB - E_A - E_B) = E_AB' - E_A' - E_B' - E_AB + E_A + E_B = E_AB' - E_A' - E_AB + E_A = Delta E_AB - Delta E_A\n",
    "def predict(deltaZ_A):\n",
    "    if abs(sum(deltaZ_A)) > 1e-4:\n",
    "        return 1e6\n",
    "    q = nuclear_charges_part.copy()\n",
    "    q[includeonly_part] += np.array(deltaZ_A)\n",
    "    Delta_E_A_NN = ap.Coulomb.nuclei_nuclei(coordinates_part, q) - ap.Coulomb.nuclei_nuclei(coordinates_part, nuclear_charges_part)\n",
    "    Delta_E_A = -predict_part(includeonly_part, coefficients_part, deltaZ_A)\n",
    "    Delta_E_A += Delta_E_A_NN\n",
    "    Delta_E_B = 0\n",
    "    \n",
    "    q = nuclear_charges_whole.copy()\n",
    "    q[includeonly_whole] += np.array(deltaZ_A)\n",
    "    Delta_E_AB_NN = ap.Coulomb.nuclei_nuclei(coordinates_whole, q) - ap.Coulomb.nuclei_nuclei(coordinates_whole, nuclear_charges_whole)\n",
    "    Delta_E_AB = -predict_part(includeonly_whole, coefficients_whole, deltaZ_A)\n",
    "    Delta_E_AB += Delta_E_AB_NN\n",
    "    \n",
    "    E_int = Delta_E_AB - Delta_E_A - Delta_E_B\n",
    "    \n",
    "    return (E_int,)"
   ]
  },
  {
   "cell_type": "code",
   "execution_count": 8,
   "metadata": {},
   "outputs": [
    {
     "data": {
      "text/plain": [
       "(-0.30723763197465814,)"
      ]
     },
     "execution_count": 8,
     "metadata": {},
     "output_type": "execute_result"
    }
   ],
   "source": [
    "predict([0, 0, 0, 0, 0, 0, 0, 0, 1, 0, 0, 0, 0, 0, 0, 0, 0, 0, 0, -1, 0, 0, 0, 0])"
   ]
  },
  {
   "cell_type": "code",
   "execution_count": 101,
   "metadata": {},
   "outputs": [],
   "source": [
    "def optimize(bnpairs, minimize=True, pop=100, generations=200):\n",
    "    if minimize:\n",
    "        creator.create(\"FitnessMin\", base.Fitness, weights=(-1.0,))\n",
    "    else:\n",
    "        creator.create(\"FitnessMin\", base.Fitness, weights=(1.0,))\n",
    "    creator.create(\"Individual\", list, fitness=creator.FitnessMin)\n",
    "    def random_individual(nbnpairs):\n",
    "        a = ([1, -1] * nbnpairs + [0, 0] * (12 - nbnpairs))\n",
    "        np.random.shuffle(a)\n",
    "        return creator.Individual(a)\n",
    "    def twoPointExchange(a, b):\n",
    "        def _do(a, b):\n",
    "            vals = [_ for _ in a if _ != 0.]\n",
    "            offspring = []\n",
    "            for idx in range(len(a)):\n",
    "                if b[idx] != 0:\n",
    "                    try:\n",
    "                        offspring.append(vals.pop(0))\n",
    "                    except:\n",
    "                        print (sum(a), sum(b))\n",
    "                        raise\n",
    "                else:\n",
    "                    offspring.append(0)\n",
    "            return offspring\n",
    "        return creator.Individual(_do(a, b)), creator.Individual(_do(b, a))\n",
    "    toolbox = base.Toolbox()\n",
    "    toolbox.register(\"individual\", random_individual, bnpairs)\n",
    "    toolbox.register(\"population\", tools.initRepeat, list, toolbox.individual)\n",
    "\n",
    "    toolbox.register(\"evaluate\", predict)\n",
    "    toolbox.register(\"mate\", twoPointExchange)\n",
    "    toolbox.register(\"mutate\", tools.mutShuffleIndexes, indpb=0.05)\n",
    "    toolbox.register(\"select\", tools.selTournament, tournsize=3)\n",
    "\n",
    "    population = toolbox.population(n=pop)\n",
    "    NGEN=generations\n",
    "    progress = []\n",
    "    best = []\n",
    "    seen = {}\n",
    "    for gen in range(NGEN):\n",
    "        offspring = algorithms.varAnd(population, toolbox, cxpb=0.5, mutpb=0.2)\n",
    "        fits = toolbox.map(toolbox.evaluate, offspring)\n",
    "        for fit, ind in zip(fits, offspring):\n",
    "            ind.fitness.values = fit\n",
    "        population = toolbox.select(offspring, k=len(population))\n",
    "        top = tools.selBest(population, k=1)[0].fitness\n",
    "        progress.append(top.values[0])\n",
    "        best.append(list(tools.selBest(population, k=10)))\n",
    "        for s in best[-1]:\n",
    "            seen['.'.join([str(_) for _ in s])] = s\n",
    "        #print (progress[-1], best[-1])\n",
    "    \n",
    "    # return best\n",
    "    seen_values = []\n",
    "    seen_fitness = []\n",
    "    for skey, s in seen.items():\n",
    "        seen_values.append(s)\n",
    "        seen_fitness.append(predict(s))\n",
    "    seen_fitness = np.array(seen_fitness)\n",
    "    sel = np.unique(seen_fitness, return_index=True)[1]\n",
    "    seen_values = [seen_values[_] for _ in sel]\n",
    "    seen_fitness = seen_fitness[sel].copy().flatten()\n",
    "    sel = np.argsort(seen_fitness)\n",
    "    if minimize:\n",
    "        sel = sel[:10]\n",
    "    else:\n",
    "        sel = sel[-10:]\n",
    "    seen_fitness = seen_fitness[sel]\n",
    "    seen_values = [seen_values[_] for _ in sel]\n",
    "    for s in seen_values:\n",
    "        print (s)\n",
    "    return progress, best"
   ]
  },
  {
   "cell_type": "code",
   "execution_count": 102,
   "metadata": {},
   "outputs": [
    {
     "name": "stdout",
     "output_type": "stream",
     "text": [
      "[1, 1, 0, 0, 0, 0, 0, -1, 1, -1, 1, 1, 1, 1, -1, 1, 0, -1, -1, -1, 0, 0, -1, -1]\n",
      "[1, 1, 0, 0, 0, 0, -1, -1, 1, -1, 1, 1, 0, 1, 0, 1, -1, -1, 0, -1, 1, 0, -1, -1]\n",
      "[1, 1, 0, 0, 0, 0, -1, -1, 1, -1, 1, 1, 0, 1, -1, 1, 0, -1, 0, -1, 1, 0, -1, -1]\n",
      "[1, 1, 0, 0, 0, 1, -1, -1, 1, -1, 1, 1, 0, -1, 1, 0, 0, -1, 0, -1, 1, 0, -1, -1]\n",
      "[1, 1, -1, -1, 0, 0, 1, -1, 1, 0, 1, 1, -1, 1, 0, 0, -1, -1, 1, -1, -1, 0, 0, 0]\n",
      "[0, 0, -1, 0, -1, 1, -1, 1, 1, 1, 0, 0, 1, 1, 0, 0, -1, 1, 0, -1, -1, -1, -1, 1]\n",
      "[1, 1, 0, 0, 0, 0, -1, -1, 1, -1, 1, 1, 1, -1, 1, 0, 0, -1, 0, -1, 1, 0, -1, -1]\n",
      "[1, -1, 0, 0, 0, 0, 1, 1, 1, -1, 1, 1, 0, 1, -1, -1, 0, -1, 0, -1, -1, 0, 1, -1]\n",
      "[1, -1, 0, 0, 0, 1, 1, 1, 1, -1, 1, 0, 0, 1, -1, -1, 0, -1, 0, -1, -1, 0, 1, -1]\n",
      "[0, 1, 1, 1, -1, 1, 1, -1, 1, 1, -1, 0, 0, 1, -1, 0, -1, 0, -1, -1, 0, 0, 0, -1]\n"
     ]
    }
   ],
   "source": [
    "p, r = optimize(8, True, pop=50, generations=10)"
   ]
  },
  {
   "cell_type": "code",
   "execution_count": 54,
   "metadata": {},
   "outputs": [
    {
     "data": {
      "text/plain": [
       "[<matplotlib.lines.Line2D at 0x7fb138c4a2e8>]"
      ]
     },
     "execution_count": 54,
     "metadata": {},
     "output_type": "execute_result"
    },
    {
     "data": {
      "image/png": "[encoded data removed]",
      "text/plain": [
       "<Figure size 432x288 with 1 Axes>"
      ]
     },
     "metadata": {
      "needs_background": "light"
     },
     "output_type": "display_data"
    }
   ],
   "source": [
    "plt.plot(p)"
   ]
  },
  {
   "cell_type": "code",
   "execution_count": 225,
   "metadata": {},
   "outputs": [
    {
     "data": {
      "text/plain": [
       "0.6666666666666666"
      ]
     },
     "execution_count": 225,
     "metadata": {},
     "output_type": "execute_result"
    }
   ],
   "source": [
    "2/3"
   ]
  },
  {
   "cell_type": "markdown",
   "metadata": {},
   "source": [
    "## Test results"
   ]
  },
  {
   "cell_type": "code",
   "execution_count": 15,
   "metadata": {},
   "outputs": [
    {
     "data": {
      "text/html": [
       "<div>\n",
       "<style scoped>\n",
       "    .dataframe tbody tr th:only-of-type {\n",
       "        vertical-align: middle;\n",
       "    }\n",
       "\n",
       "    .dataframe tbody tr th {\n",
       "        vertical-align: top;\n",
       "    }\n",
       "\n",
       "    .dataframe thead th {\n",
       "        text-align: right;\n",
       "    }\n",
       "</style>\n",
       "<table border=\"1\" class=\"dataframe\">\n",
       "  <thead>\n",
       "    <tr style=\"text-align: right;\">\n",
       "      <th></th>\n",
       "      <th>pairs</th>\n",
       "      <th>mode</th>\n",
       "      <th>interaction_ref</th>\n",
       "      <th>interaction_pred</th>\n",
       "      <th>rank</th>\n",
       "    </tr>\n",
       "  </thead>\n",
       "  <tbody>\n",
       "    <tr>\n",
       "      <th>0</th>\n",
       "      <td>1</td>\n",
       "      <td>MIN</td>\n",
       "      <td>-1.064887</td>\n",
       "      <td>-0.273872</td>\n",
       "      <td>0</td>\n",
       "    </tr>\n",
       "    <tr>\n",
       "      <th>1</th>\n",
       "      <td>1</td>\n",
       "      <td>MIN</td>\n",
       "      <td>1.109524</td>\n",
       "      <td>-0.149221</td>\n",
       "      <td>1</td>\n",
       "    </tr>\n",
       "    <tr>\n",
       "      <th>2</th>\n",
       "      <td>1</td>\n",
       "      <td>MIN</td>\n",
       "      <td>-1.202103</td>\n",
       "      <td>-0.127648</td>\n",
       "      <td>2</td>\n",
       "    </tr>\n",
       "    <tr>\n",
       "      <th>3</th>\n",
       "      <td>1</td>\n",
       "      <td>MAX</td>\n",
       "      <td>-0.041646</td>\n",
       "      <td>0.116760</td>\n",
       "      <td>0</td>\n",
       "    </tr>\n",
       "    <tr>\n",
       "      <th>4</th>\n",
       "      <td>1</td>\n",
       "      <td>MAX</td>\n",
       "      <td>1.969729</td>\n",
       "      <td>0.118028</td>\n",
       "      <td>1</td>\n",
       "    </tr>\n",
       "    <tr>\n",
       "      <th>...</th>\n",
       "      <td>...</td>\n",
       "      <td>...</td>\n",
       "      <td>...</td>\n",
       "      <td>...</td>\n",
       "      <td>...</td>\n",
       "    </tr>\n",
       "    <tr>\n",
       "      <th>137</th>\n",
       "      <td>12</td>\n",
       "      <td>MAX</td>\n",
       "      <td>-0.324046</td>\n",
       "      <td>1.248658</td>\n",
       "      <td>0</td>\n",
       "    </tr>\n",
       "    <tr>\n",
       "      <th>138</th>\n",
       "      <td>12</td>\n",
       "      <td>MAX</td>\n",
       "      <td>12.614564</td>\n",
       "      <td>1.704051</td>\n",
       "      <td>4</td>\n",
       "    </tr>\n",
       "    <tr>\n",
       "      <th>139</th>\n",
       "      <td>12</td>\n",
       "      <td>MAX</td>\n",
       "      <td>7.977569</td>\n",
       "      <td>1.844518</td>\n",
       "      <td>6</td>\n",
       "    </tr>\n",
       "    <tr>\n",
       "      <th>140</th>\n",
       "      <td>12</td>\n",
       "      <td>MAX</td>\n",
       "      <td>12.846470</td>\n",
       "      <td>2.065026</td>\n",
       "      <td>7</td>\n",
       "    </tr>\n",
       "    <tr>\n",
       "      <th>141</th>\n",
       "      <td>12</td>\n",
       "      <td>MAX</td>\n",
       "      <td>4.111704</td>\n",
       "      <td>2.184086</td>\n",
       "      <td>8</td>\n",
       "    </tr>\n",
       "  </tbody>\n",
       "</table>\n",
       "<p>142 rows × 5 columns</p>\n",
       "</div>"
      ],
      "text/plain": [
       "     pairs mode  interaction_ref  interaction_pred  rank\n",
       "0        1  MIN        -1.064887         -0.273872     0\n",
       "1        1  MIN         1.109524         -0.149221     1\n",
       "2        1  MIN        -1.202103         -0.127648     2\n",
       "3        1  MAX        -0.041646          0.116760     0\n",
       "4        1  MAX         1.969729          0.118028     1\n",
       "..     ...  ...              ...               ...   ...\n",
       "137     12  MAX        -0.324046          1.248658     0\n",
       "138     12  MAX        12.614564          1.704051     4\n",
       "139     12  MAX         7.977569          1.844518     6\n",
       "140     12  MAX        12.846470          2.065026     7\n",
       "141     12  MAX         4.111704          2.184086     8\n",
       "\n",
       "[142 rows x 5 columns]"
      ]
     },
     "execution_count": 15,
     "metadata": {},
     "output_type": "execute_result"
    }
   ],
   "source": [
    "def get_reference_data():\n",
    "    unsubstituted = MrccCalculator.get_total_energy('data/coronene-dimer/mrcc-fast/QM/order-0/site-all-cc') - 2* MrccCalculator.get_total_energy('data/coronene-dimer/mrcc-monomer-fast/QM/order-0/site-all-cc')\n",
    "    def _get_nn_energy(folder):\n",
    "        base = MrccCalculator.get_total_energy(folder)\n",
    "        lines = open('%s/run.log' % folder).readlines()\n",
    "        if len([_ for _ in lines if 'NOT CONVERGED'  in _]) > 0:\n",
    "            raise ValueError()\n",
    "        try:\n",
    "            included = [float(_.strip().split()[-1]) for _ in lines if _.startswith(' Nuclear repulsion energy')][0]\n",
    "            should = [float(_.strip().split()[-1]) for _ in lines if _.startswith(' Nuclear repulsion with point charges')][0]\n",
    "        except:\n",
    "            raise\n",
    "        return base - included + should\n",
    "        \n",
    "    def _ref_energy(Afolder):\n",
    "        A = _get_nn_energy(Afolder)\n",
    "        AB = _get_nn_energy(Afolder + 'B')\n",
    "        B = _get_nn_energy('data/coronene-dimer/mrcc-monomer-fast/QM/order-0/site-all-cc')\n",
    "        \n",
    "        return AB-A-B\n",
    "    def _pred_energy(Afolder):\n",
    "        dZ = read_dZ_from_input('%s/run.inp' % Afolder)\n",
    "        return predict(dZ)[0]\n",
    "    \n",
    "    res = []\n",
    "    for case in range(1, 13):\n",
    "        for mode in 'MIN MAX'.split():\n",
    "            for rank in range(10):\n",
    "                try:\n",
    "                    Afolder = 'data/validation-new/%d-%s-%d-A' % (case, mode, rank)\n",
    "                    interaction_ref = _ref_energy(Afolder) \n",
    "                    interaction_pred = _pred_energy(Afolder) + unsubstituted\n",
    "                except:\n",
    "                    continue\n",
    "                res.append({'pairs': case, 'mode': mode, 'interaction_ref': interaction_ref, 'interaction_pred': interaction_pred, 'rank': rank})\n",
    "        #for mode in 'MIN MAX'.split():\n",
    "        #    for rank in range(10):\n",
    "        #        try:\n",
    "        #            Afolder = 'data/ga-search-2/random/%d-%s-%d-A' % (case, mode, rank)\n",
    "        #            interaction_ref = _ref_energy(Afolder) - unsubstituted\n",
    "        #            interaction_pred = _pred_energy(Afolder)\n",
    "        #        except FileNotFoundError:\n",
    "        #            continue\n",
    "        #        res.append({'pairs': case, 'mode': 'RAND', 'interaction_ref': interaction_ref, 'interaction_pred': interaction_pred, 'rank': rank})\n",
    "    res = pd.DataFrame(res)\n",
    "    #res = res[abs(res.interaction_ref.values) < 20]\n",
    "    return res\n",
    "def read_dZ_from_input(infile):\n",
    "    dZ = []\n",
    "    with open(infile) as fh:\n",
    "        lines = [_.strip() for _ in fh.readlines()]\n",
    "    started = lines.index('qmmm=Amber')\n",
    "\n",
    "    for line in lines[started+3:]:\n",
    "        dZ.append(int(float(line.split()[-1])))\n",
    "    return dZ[:24]\n",
    "res = get_reference_data()\n",
    "res"
   ]
  },
  {
   "cell_type": "code",
   "execution_count": 23,
   "metadata": {},
   "outputs": [
    {
     "data": {
      "image/png": "[encoded data removed]",
      "text/plain": [
       "<Figure size 288x360 with 2 Axes>"
      ]
     },
     "metadata": {
      "needs_background": "light"
     },
     "output_type": "display_data"
    }
   ],
   "source": [
    "plt.rc('font', size=16)\n",
    "f, axmain = plt.subplots(figsize=(4, 5))\n",
    "#unsubstituted = MrccCalculator.get_total_energy('data/coronene-dimer/mrcc-fast/QM/order-0/site-all-cc') - 2* MrccCalculator.get_total_energy('data/coronene-dimer/mrcc-monomer-fast/QM/order-0/site-all-cc')\n",
    "\n",
    "s = res.query('mode == \"MAX\" and abs(interaction_ref) <20 ').groupby('pairs').max().reset_index()\n",
    "axmain.plot(s.pairs, s.interaction_ref, 'o-', label='Maximum')\n",
    "s = res.query('mode == \"MIN\" and abs(interaction_ref) <20 ').groupby('pairs').min().reset_index()\n",
    "axmain.plot(s.pairs, s.interaction_ref, 's-',  label='Minimum')\n",
    "\n",
    "axmain.set_xticks((2, 4, 6, 8, 10, 12))\n",
    "axmain.set_xticklabels((2, 4, 6, 8, 10, 12))\n",
    "\n",
    "left, bottom, width, height = [0.55, 0.38, 0.3, 0.3]\n",
    "inset = f.add_axes([left, bottom, width, height])\n",
    "\n",
    "group = res.query('abs(interaction_ref) <20 ')\n",
    "p = group.interaction_pred.rank(method='first')\n",
    "r = group.interaction_ref.rank(method='first')\n",
    "inset.scatter(r, p, s=5)\n",
    "inset.plot((0, 100), (0, 100), color='lightgrey')\n",
    "inset.set_xlabel('Rank QM')\n",
    "inset.set_ylabel('Rank APDFT')\n",
    "inset.set_xticks([])\n",
    "inset.set_yticks([])\n",
    "\n",
    "axmain.set_ylim(-20, 17)\n",
    "axmain.legend(frameon=False, loc='upper left')\n",
    "axmain.set_ylabel('Interaction Energy [Ha]')\n",
    "axmain.set_xlabel('Number of BN pairs')\n",
    "plt.savefig('coronene-dimer-energies.pdf', bbox_inches='tight')"
   ]
  },
  {
   "cell_type": "code",
   "execution_count": 171,
   "metadata": {},
   "outputs": [
    {
     "data": {
      "text/plain": [
       "[<matplotlib.lines.Line2D at 0x7fddb950db70>]"
      ]
     },
     "execution_count": 171,
     "metadata": {},
     "output_type": "execute_result"
    },
    {
     "data": {
      "image/png": "[encoded data removed]",
      "text/plain": [
       "<Figure size 432x288 with 1 Axes>"
      ]
     },
     "metadata": {
      "needs_background": "light"
     },
     "output_type": "display_data"
    }
   ],
   "source": [
    "#res.query('mode == \"MIN\"').groupby('pairs').min()\n",
    "for name, group in res.query('abs(interaction_ref) <20 ').groupby('mode'):\n",
    "    plt.scatter(group.interaction_ref, group.interaction_pred*4, label=name, s=group.pairs)\n",
    "plt.legend()\n",
    "#plt.xlim(-2, 2)\n",
    "#plt.ylim(-2, 2)\n",
    "plt.plot((-2, 2), (-2, 2), color='lightgrey')"
   ]
  },
  {
   "cell_type": "code",
   "execution_count": 21,
   "metadata": {},
   "outputs": [
    {
     "name": "stdout",
     "output_type": "stream",
     "text": [
      "MAX 0.7755716239984366\n"
     ]
    },
    {
     "data": {
      "image/png": "[encoded data removed]",
      "text/plain": [
       "<Figure size 432x288 with 1 Axes>"
      ]
     },
     "metadata": {
      "needs_background": "light"
     },
     "output_type": "display_data"
    },
    {
     "name": "stdout",
     "output_type": "stream",
     "text": [
      "MIN 0.8741836734693876\n"
     ]
    },
    {
     "data": {
      "image/png": "[encoded data removed]",
      "text/plain": [
       "<Figure size 432x288 with 1 Axes>"
      ]
     },
     "metadata": {
      "needs_background": "light"
     },
     "output_type": "display_data"
    }
   ],
   "source": [
    "from scipy.stats import spearmanr\n",
    "for name, group in res.query('abs(interaction_ref) <20 ').groupby('mode'.split()):\n",
    "    print (name, spearmanr(group.interaction_pred.values, group.interaction_ref.values).correlation)\n",
    "    p = group.interaction_pred.rank(method='first')\n",
    "    r = group.interaction_ref.rank(method='first')\n",
    "    plt.scatter(r, p, label=name)\n",
    "    plt.legend()\n",
    "    plt.show()"
   ]
  },
  {
   "cell_type": "code",
   "execution_count": 22,
   "metadata": {},
   "outputs": [
    {
     "name": "stdout",
     "output_type": "stream",
     "text": [
      "MIN 0.9229716081247896\n"
     ]
    },
    {
     "data": {
      "image/png": "[encoded data removed]",
      "text/plain": [
       "<Figure size 432x288 with 1 Axes>"
      ]
     },
     "metadata": {
      "needs_background": "light"
     },
     "output_type": "display_data"
    }
   ],
   "source": [
    "from scipy.stats import spearmanr\n",
    "group = res.query('abs(interaction_ref) <20 ')\n",
    "print (name, spearmanr(group.interaction_pred.values, group.interaction_ref.values).correlation)\n",
    "p = group.interaction_pred.rank(method='first')\n",
    "r = group.interaction_ref.rank(method='first')\n",
    "plt.scatter(r, p, label=name)\n",
    "plt.legend()\n",
    "plt.show()"
   ]
  },
  {
   "cell_type": "code",
   "execution_count": 174,
   "metadata": {},
   "outputs": [
    {
     "data": {
      "text/plain": [
       "[<matplotlib.lines.Line2D at 0x7fddb93468d0>]"
      ]
     },
     "execution_count": 174,
     "metadata": {},
     "output_type": "execute_result"
    },
    {
     "data": {
      "image/png": "[encoded data removed]",
      "text/plain": [
       "<Figure size 432x288 with 1 Axes>"
      ]
     },
     "metadata": {
      "needs_background": "light"
     },
     "output_type": "display_data"
    }
   ],
   "source": [
    "res['error'] = abs(res.interaction_pred.values - res.interaction_ref.values)\n",
    "s = res.query('abs(interaction_ref) <20 ').groupby('pairs').mean()['error'].reset_index()\n",
    "plt.plot(s.pairs, s.error)"
   ]
  },
  {
   "cell_type": "code",
   "execution_count": 212,
   "metadata": {},
   "outputs": [
    {
     "data": {
      "text/plain": [
       "0.43294046724440705"
      ]
     },
     "execution_count": 212,
     "metadata": {},
     "output_type": "execute_result"
    }
   ],
   "source": [
    "unsubstituted = MrccCalculator.get_total_energy('data/coronene-dimer/mrcc-fast/QM/order-0/site-all-cc') - 2* MrccCalculator.get_total_energy('data/coronene-dimer/mrcc-monomer-fast/QM/order-0/site-all-cc')\n",
    "-1849.9094727335977950-(-928.5695159066144697+-921.8062627933904878)-unsubstituted"
   ]
  },
  {
   "cell_type": "code",
   "execution_count": 218,
   "metadata": {},
   "outputs": [
    {
     "name": "stdout",
     "output_type": "stream",
     "text": [
      "1836.7959175114895\n"
     ]
    }
   ],
   "source": [
    "q = nuclear_charges_part.copy()\n",
    "q[includeonly_part] += np.array(read_dZ_from_input('data/ga-search-2/validation/2-MIN-0-A/run.inp'))\n",
    "print (ap.Coulomb.nuclei_nuclei(coordinates_whole, list(q) + list(q*0)))\n"
   ]
  },
  {
   "cell_type": "code",
   "execution_count": 224,
   "metadata": {},
   "outputs": [
    {
     "data": {
      "text/plain": [
       "array([[0., 0., 0.],\n",
       "       [0., 0., 0.],\n",
       "       [0., 0., 0.],\n",
       "       [0., 0., 0.],\n",
       "       [0., 0., 0.],\n",
       "       [0., 0., 0.],\n",
       "       [0., 0., 0.],\n",
       "       [0., 0., 0.],\n",
       "       [0., 0., 0.],\n",
       "       [0., 0., 0.],\n",
       "       [0., 0., 0.],\n",
       "       [0., 0., 0.],\n",
       "       [0., 0., 0.],\n",
       "       [0., 0., 0.],\n",
       "       [0., 0., 0.],\n",
       "       [0., 0., 0.],\n",
       "       [0., 0., 0.],\n",
       "       [0., 0., 0.],\n",
       "       [0., 0., 0.],\n",
       "       [0., 0., 0.],\n",
       "       [0., 0., 0.],\n",
       "       [0., 0., 0.],\n",
       "       [0., 0., 0.],\n",
       "       [0., 0., 0.],\n",
       "       [0., 0., 0.],\n",
       "       [0., 0., 0.],\n",
       "       [0., 0., 0.],\n",
       "       [0., 0., 0.],\n",
       "       [0., 0., 0.],\n",
       "       [0., 0., 0.],\n",
       "       [0., 0., 0.],\n",
       "       [0., 0., 0.],\n",
       "       [0., 0., 0.],\n",
       "       [0., 0., 0.],\n",
       "       [0., 0., 0.],\n",
       "       [0., 0., 0.]])"
      ]
     },
     "execution_count": 224,
     "metadata": {},
     "output_type": "execute_result"
    }
   ],
   "source": [
    "coordinates_part - coordinates_whole[:36,:]"
   ]
  },
  {
   "cell_type": "code",
   "execution_count": 230,
   "metadata": {},
   "outputs": [
    {
     "data": {
      "text/plain": [
       "-13.161167341826513"
      ]
     },
     "execution_count": 230,
     "metadata": {},
     "output_type": "execute_result"
    }
   ],
   "source": [
    "-1863.0706400754243077--1849.9094727335977950"
   ]
  },
  {
   "cell_type": "code",
   "execution_count": 231,
   "metadata": {},
   "outputs": [
    {
     "data": {
      "text/plain": [
       "-17.32701987278233"
      ]
     },
     "execution_count": 231,
     "metadata": {},
     "output_type": "execute_result"
    }
   ],
   "source": [
    "-945.8965357793967996--928.5695159066144697"
   ]
  },
  {
   "cell_type": "code",
   "execution_count": 5,
   "metadata": {},
   "outputs": [
    {
     "ename": "KeyError",
     "evalue": "'interaction_ref'",
     "output_type": "error",
     "traceback": [
      "\u001b[0;31m---------------------------------------------------------------------------\u001b[0m",
      "\u001b[0;31mKeyError\u001b[0m                                  Traceback (most recent call last)",
      "\u001b[0;32m<ipython-input-5-122631d6b711>\u001b[0m in \u001b[0;36m<module>\u001b[0;34m\u001b[0m\n\u001b[0;32m----> 1\u001b[0;31m \u001b[0mres\u001b[0m\u001b[0;34m.\u001b[0m\u001b[0msort_values\u001b[0m\u001b[0;34m(\u001b[0m\u001b[0;34m'interaction_ref'\u001b[0m\u001b[0;34m)\u001b[0m\u001b[0;34m\u001b[0m\u001b[0;34m\u001b[0m\u001b[0m\n\u001b[0m",
      "\u001b[0;32m~/miniconda3/envs/analysis/lib/python3.6/site-packages/pandas/core/frame.py\u001b[0m in \u001b[0;36msort_values\u001b[0;34m(self, by, axis, ascending, inplace, kind, na_position, ignore_index)\u001b[0m\n\u001b[1;32m   4925\u001b[0m \u001b[0;34m\u001b[0m\u001b[0m\n\u001b[1;32m   4926\u001b[0m             \u001b[0mby\u001b[0m \u001b[0;34m=\u001b[0m \u001b[0mby\u001b[0m\u001b[0;34m[\u001b[0m\u001b[0;36m0\u001b[0m\u001b[0;34m]\u001b[0m\u001b[0;34m\u001b[0m\u001b[0;34m\u001b[0m\u001b[0m\n\u001b[0;32m-> 4927\u001b[0;31m             \u001b[0mk\u001b[0m \u001b[0;34m=\u001b[0m \u001b[0mself\u001b[0m\u001b[0;34m.\u001b[0m\u001b[0m_get_label_or_level_values\u001b[0m\u001b[0;34m(\u001b[0m\u001b[0mby\u001b[0m\u001b[0;34m,\u001b[0m \u001b[0maxis\u001b[0m\u001b[0;34m=\u001b[0m\u001b[0maxis\u001b[0m\u001b[0;34m)\u001b[0m\u001b[0;34m\u001b[0m\u001b[0;34m\u001b[0m\u001b[0m\n\u001b[0m\u001b[1;32m   4928\u001b[0m \u001b[0;34m\u001b[0m\u001b[0m\n\u001b[1;32m   4929\u001b[0m             \u001b[0;32mif\u001b[0m \u001b[0misinstance\u001b[0m\u001b[0;34m(\u001b[0m\u001b[0mascending\u001b[0m\u001b[0;34m,\u001b[0m \u001b[0;34m(\u001b[0m\u001b[0mtuple\u001b[0m\u001b[0;34m,\u001b[0m \u001b[0mlist\u001b[0m\u001b[0;34m)\u001b[0m\u001b[0;34m)\u001b[0m\u001b[0;34m:\u001b[0m\u001b[0;34m\u001b[0m\u001b[0;34m\u001b[0m\u001b[0m\n",
      "\u001b[0;32m~/miniconda3/envs/analysis/lib/python3.6/site-packages/pandas/core/generic.py\u001b[0m in \u001b[0;36m_get_label_or_level_values\u001b[0;34m(self, key, axis)\u001b[0m\n\u001b[1;32m   1690\u001b[0m             \u001b[0mvalues\u001b[0m \u001b[0;34m=\u001b[0m \u001b[0mself\u001b[0m\u001b[0;34m.\u001b[0m\u001b[0maxes\u001b[0m\u001b[0;34m[\u001b[0m\u001b[0maxis\u001b[0m\u001b[0;34m]\u001b[0m\u001b[0;34m.\u001b[0m\u001b[0mget_level_values\u001b[0m\u001b[0;34m(\u001b[0m\u001b[0mkey\u001b[0m\u001b[0;34m)\u001b[0m\u001b[0;34m.\u001b[0m\u001b[0m_values\u001b[0m\u001b[0;34m\u001b[0m\u001b[0;34m\u001b[0m\u001b[0m\n\u001b[1;32m   1691\u001b[0m         \u001b[0;32melse\u001b[0m\u001b[0;34m:\u001b[0m\u001b[0;34m\u001b[0m\u001b[0;34m\u001b[0m\u001b[0m\n\u001b[0;32m-> 1692\u001b[0;31m             \u001b[0;32mraise\u001b[0m \u001b[0mKeyError\u001b[0m\u001b[0;34m(\u001b[0m\u001b[0mkey\u001b[0m\u001b[0;34m)\u001b[0m\u001b[0;34m\u001b[0m\u001b[0;34m\u001b[0m\u001b[0m\n\u001b[0m\u001b[1;32m   1693\u001b[0m \u001b[0;34m\u001b[0m\u001b[0m\n\u001b[1;32m   1694\u001b[0m         \u001b[0;31m# Check for duplicates\u001b[0m\u001b[0;34m\u001b[0m\u001b[0;34m\u001b[0m\u001b[0;34m\u001b[0m\u001b[0m\n",
      "\u001b[0;31mKeyError\u001b[0m: 'interaction_ref'"
     ]
    }
   ],
   "source": [
    "res.sort_values('interaction_ref')"
   ]
  },
  {
   "cell_type": "code",
   "execution_count": 134,
   "metadata": {},
   "outputs": [
    {
     "data": {
      "text/plain": [
       "(-948.5213854161586, -1858.9862158041797)"
      ]
     },
     "execution_count": 134,
     "metadata": {},
     "output_type": "execute_result"
    }
   ],
   "source": [
    "-951.0645915491968481 - 1837.330606493059 + 1839.873812626097, -1872.9327992023227125 - 6088.170020716419+6102.116604114562"
   ]
  },
  {
   "cell_type": "code",
   "execution_count": 135,
   "metadata": {},
   "outputs": [
    {
     "data": {
      "text/plain": [
       "-11.34143240536946"
      ]
     },
     "execution_count": 135,
     "metadata": {},
     "output_type": "execute_result"
    }
   ],
   "source": [
    "1858.9862158041797 - 948.5213854161586 - 921.8062627933904878"
   ]
  },
  {
   "cell_type": "code",
   "execution_count": 20,
   "metadata": {},
   "outputs": [
    {
     "data": {
      "text/plain": [
       "Text(0.5, 0, 'Number of BN pairs')"
      ]
     },
     "execution_count": 20,
     "metadata": {},
     "output_type": "execute_result"
    },
    {
     "data": {
      "image/png": "[encoded data removed]",
      "text/plain": [
       "<Figure size 216x216 with 1 Axes>"
      ]
     },
     "metadata": {
      "needs_background": "light"
     },
     "output_type": "display_data"
    }
   ],
   "source": [
    "plt.rc('font', size=14)\n",
    "f, axmain = plt.subplots(figsize=(3, 3))\n",
    "#unsubstituted = MrccCalculator.get_total_energy('data/coronene-dimer/mrcc-fast/QM/order-0/site-all-cc') - 2* MrccCalculator.get_total_energy('data/coronene-dimer/mrcc-monomer-fast/QM/order-0/site-all-cc')\n",
    "\n",
    "s = res.query('mode == \"MAX\" and abs(interaction_ref) <200 ').groupby('pairs').max().reset_index()\n",
    "axmain.plot(s.pairs, s.interaction_pred, 'o-', label='Maximum')\n",
    "s = res.query('mode == \"MIN\" and abs(interaction_ref) <200 ').groupby('pairs').min().reset_index()\n",
    "axmain.plot(s.pairs, s.interaction_pred, 's-',  label='Minimum')\n",
    "\n",
    "axmain.set_xticks((2, 4, 6, 8, 10, 12))\n",
    "axmain.set_xticklabels((2, 4, 6, 8, 10, 12))\n",
    "\n",
    "#left, bottom, width, height = [0.55, 0.38, 0.3, 0.3]\n",
    "#inset = f.add_axes([left, bottom, width, height])\n",
    "\n",
    "#group = res.query('abs(interaction_ref) <20 ')\n",
    "#p = group.interaction_pred.rank(method='first')\n",
    "#r = group.interaction_ref.rank(method='first')\n",
    "#inset.scatter(r, p, s=5)\n",
    "#inset.plot((0, 100), (0, 100), color='lightgrey')\n",
    "#inset.set_xlabel('Rank QM')\n",
    "#inset.set_ylabel('Rank APDFT')\n",
    "#inset.set_xticks([])\n",
    "#inset.set_yticks([])\n",
    "\n",
    "axmain.set_ylim(-4, 3)\n",
    "axmain.legend(frameon=False, loc='best')\n",
    "axmain.set_ylabel('Interaction Energy [Ha]')\n",
    "axmain.set_xlabel('Number of BN pairs')\n",
    "#plt.savefig('coronene-pairs.pdf', bbox_inches='tight')"
   ]
  },
  {
   "cell_type": "code",
   "execution_count": 21,
   "metadata": {},
   "outputs": [
    {
     "data": {
      "text/plain": [
       "[]"
      ]
     },
     "execution_count": 21,
     "metadata": {},
     "output_type": "execute_result"
    },
    {
     "data": {
      "image/png": "[encoded data removed]",
      "text/plain": [
       "<Figure size 216x216 with 1 Axes>"
      ]
     },
     "metadata": {},
     "output_type": "display_data"
    }
   ],
   "source": [
    "plt.rc('font', size=14)\n",
    "f, axmain = plt.subplots(figsize=(3, 3))\n",
    "#unsubstituted = MrccCalculator.get_total_energy('data/coronene-dimer/mrcc-fast/QM/order-0/site-all-cc') - 2* MrccCalculator.get_total_energy('data/coronene-dimer/mrcc-monomer-fast/QM/order-0/site-all-cc')\n",
    "\n",
    "\n",
    "#left, bottom, width, height = [0.55, 0.38, 0.3, 0.3]\n",
    "inset = axmain\n",
    "\n",
    "group = res.query('abs(interaction_ref) <20 ')\n",
    "p = group.interaction_pred.rank(method='first')\n",
    "r = group.interaction_ref.rank(method='first')\n",
    "inset.scatter(r, p, s=5)\n",
    "inset.plot((0, len(group)), (0, len(group)), color='C1')\n",
    "inset.set_xlabel('Rank QM')\n",
    "inset.set_ylabel('Rank APDFT')\n",
    "inset.set_xticks([])\n",
    "inset.set_yticks([])\n",
    "\n",
    "#plt.savefig('coronene-ranks.pdf', bbox_inches='tight')"
   ]
  },
  {
   "cell_type": "code",
   "execution_count": 26,
   "metadata": {},
   "outputs": [
    {
     "data": {
      "text/plain": [
       "(array([ 46.,  48.,  49.,  50.,  51.,  52.,  54.,  53.,  56.,  36.,  41.,\n",
       "         39.,  40.,  44.,  42.,  43.,  45.,  47.,  55.,  57.,  61.,  58.,\n",
       "         60.,  62.,  64.,  66.,  67.,  71.,  30.,  32.,  31.,  35.,  33.,\n",
       "         34.,  38.,  37.,  59.,  68.,  63.,  65.,  69.,  70.,  72.,  73.,\n",
       "         74.,  75.,  23.,  24.,  25.,  26.,  28.,  27.,  29.,  77.,  78.,\n",
       "         82.,  79.,  84.,  88.,  85.,  86.,  89.,  90.,  18.,  20.,  19.,\n",
       "         21.,  22.,  80.,  83.,  81.,  76.,  87.,  91.,  92.,  93.,  14.,\n",
       "         15.,  16.,  17.,  96.,  94.,  95.,  98., 100.,  97.,  99., 102.,\n",
       "        101., 103.,  10.,  12.,  11.,  13., 105., 109., 108., 106., 110.,\n",
       "        107., 115., 112., 114., 111., 113., 117., 116., 118.,   7.,   8.,\n",
       "        121., 119., 122., 123., 126.,   9., 125., 124., 128., 129.,   2.,\n",
       "        130., 132., 131.,   1.,   3.,   5.,   6.,   4., 104., 120., 127.,\n",
       "        133., 134.]),\n",
       " array([ 50.,  64.,  49.,  57.,  69.,  55.,  58.,  65.,  67.,  47.,  48.,\n",
       "         70.,  61.,  41.,  59.,  66.,  40.,  43.,  72.,  32.,  42.,  45.,\n",
       "         44.,  63.,  39.,  46.,  53.,  52.,  29.,  20.,  35.,  23.,  28.,\n",
       "         34.,  33.,  36.,  96.,  78.,  82.,  90.,  81.,  87.,  80.,  85.,\n",
       "         51.,  60.,  16.,  14.,  38.,  25.,  19.,  30.,  31.,  76.,  74.,\n",
       "         54.,  83.,  73.,  84.,  79.,  89.,  75.,  68.,   9.,  24.,  27.,\n",
       "         26.,  37.,  77., 112.,  62.,  93., 105., 108.,  97.,  88.,  15.,\n",
       "         21.,  12.,  10.,  86., 104., 128., 122., 100., 119., 115.,  92.,\n",
       "        106.,  99.,   7.,   5.,  18.,   6., 111., 126.,  94., 125., 101.,\n",
       "        118.,  71., 109., 121., 129., 127., 103., 120.,  98.,   4.,   2.,\n",
       "         95., 130., 114., 132., 123.,  17., 110., 124., 116., 107.,   3.,\n",
       "        131., 113., 102.,  22.,   8.,  13.,   1.,  11.,  56., 133., 117.,\n",
       "        134.,  91.]))"
      ]
     },
     "execution_count": 26,
     "metadata": {},
     "output_type": "execute_result"
    }
   ],
   "source": [
    "p.values, r.values"
   ]
  },
  {
   "cell_type": "code",
   "execution_count": null,
   "metadata": {},
   "outputs": [],
   "source": []
  }
 ],
 "metadata": {
  "kernelspec": {
   "display_name": "Python [conda env:analysis]",
   "language": "python",
   "name": "conda-env-analysis-py"
  },
  "language_info": {
   "codemirror_mode": {
    "name": "ipython",
    "version": 3
   },
   "file_extension": ".py",
   "mimetype": "text/x-python",
   "name": "python",
   "nbconvert_exporter": "python",
   "pygments_lexer": "ipython3",
   "version": "3.6.10"
  }
 },
 "nbformat": 4,
 "nbformat_minor": 4
}
