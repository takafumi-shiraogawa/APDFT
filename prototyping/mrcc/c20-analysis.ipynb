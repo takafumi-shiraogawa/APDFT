{
 "cells": [
  {
   "cell_type": "code",
   "execution_count": 8,
   "metadata": {},
   "outputs": [],
   "source": [
    "# read list of nuclear charges, give energy predictions up to nth order"
   ]
  },
  {
   "cell_type": "code",
   "execution_count": 12,
   "metadata": {},
   "outputs": [
    {
     "name": "stdout",
     "output_type": "stream",
     "text": [
      "The line_profiler extension is already loaded. To reload it, use:\n",
      "  %reload_ext line_profiler\n"
     ]
    }
   ],
   "source": [
    "import numpy as np\n",
    "import pandas as pd\n",
    "import qml\n",
    "import scipy.spatial as scs\n",
    "import glob\n",
    "import scipy.interpolate as sci\n",
    "import functools\n",
    "import matplotlib.pyplot as plt\n",
    "%load_ext line_profiler"
   ]
  },
  {
   "cell_type": "markdown",
   "metadata": {},
   "source": [
    "## Code section"
   ]
  },
  {
   "cell_type": "code",
   "execution_count": 479,
   "metadata": {},
   "outputs": [],
   "source": [
    "c = qml.Compound('../../test/c20.xyz')\n",
    "def _get_nn(refsite):\n",
    "    distances = np.linalg.norm(c.coordinates - c.coordinates[refsite], axis=1)\n",
    "    return np.argsort(distances)[1:4]\n",
    "def build_reindexing_1_merged(refsite, ontosite):\n",
    "    cog = np.mean(c.coordinates, axis=0)\n",
    "    valid = False\n",
    "    for Ann in _get_nn(refsite):\n",
    "        for Bnn in _get_nn(ontosite):\n",
    "            A = c.coordinates[[refsite, Ann]]\n",
    "            B = c.coordinates[[ontosite, Bnn]]\n",
    "            rot = scs.transform.Rotation.match_vectors(A, B)[0]\n",
    "            transformed = rot.apply(c.coordinates)\n",
    "            found = []\n",
    "            for site in range(len(c.coordinates)):\n",
    "                ds = np.linalg.norm(transformed - c.coordinates[site], axis=1)\n",
    "                if min(ds) < 1e-5:\n",
    "                    found.append(np.argmin(ds))\n",
    "            if set(found) == set([_ for _ in range(len(c.coordinates))]) and found[refsite] == ontosite:\n",
    "                valid = True\n",
    "                break\n",
    "        if valid:\n",
    "            break\n",
    "    if not valid:\n",
    "        raise ValueError('no solution')\n",
    "    return found\n",
    "\n",
    "def read_DENSITY(fn):\n",
    "    with open(fn, 'r') as fh:\n",
    "        _ = np.fromfile(fh, 'i4')\n",
    "        q = _[3:-1].view(np.float64)\n",
    "        ccdensity = q.reshape((-1, 10))\n",
    "    ccdensity = ccdensity[:, 1:6]\n",
    "    return ccdensity[:, :3]/1.8897259885789, ccdensity[:, 3], ccdensity[:, 4]\n",
    "\n",
    "def read_grid_first_order():\n",
    "    changed_site = 0\n",
    "    delta = 0.1\n",
    "    \n",
    "    upgrid, upweight, updens = read_DENSITY_cached('c20-data/derivatives/order-1/site-0-up/DENSITY')\n",
    "    dngrid, dnweight, dndens = read_DENSITY_cached('c20-data/derivatives/order-1/site-0-dn/DENSITY')\n",
    "    \n",
    "    if not np.allclose(upgrid, dngrid):\n",
    "        raise ValueError('Grid?')\n",
    "        \n",
    "    if not np.allclose(upweight, dnweight):\n",
    "        raise ValueError('Grid?')\n",
    "    \n",
    "    return changed_site, upgrid, ((updens - dndens) / delta)*upweight\n",
    "def get_nucnuc(zs):\n",
    "    ds = scs.distance.squareform(scs.distance.pdist(c.coordinates))*1.8897259885789\n",
    "    q = np.outer(zs, zs)/ds\n",
    "    np.fill_diagonal(q, 0)\n",
    "    return q.sum()/2    \n",
    "def get_deriv(i, j):\n",
    "    \"\"\" Returns \n",
    "    t_i : atom index of i after rotation\n",
    "    t_j : atom index of j after rotation\n",
    "    deriv_pair : the density to be integrated after pairwise rotation\n",
    "    deriv_single : density to be integrated after single rotation \"\"\"\n",
    "    \n",
    "    d = np.linalg.norm(c.coordinates[i] - c.coordinates[j])\n",
    "    geo = np.argmin(np.abs(np.array(sorted(set(np.round(scs.distance.pdist(c.coordinates), 2)))) - d))\n",
    "    sites = (0, (1, 2, 8, 10, 16)[geo])\n",
    "    i, j = sites\n",
    "    delta = 0.1\n",
    "    \n",
    "    assert i == 0\n",
    "    midgrid, midweight, middens = read_DENSITY_cached('c20-data/derivatives/order-0/site-all-cc/DENSITY')\n",
    "    # prefill output\n",
    "    deriv_single = np.zeros(middens.shape)\n",
    "    deriv_pair = np.zeros(middens.shape)\n",
    "    \n",
    "    iupgrid, iupweight, iupdens = read_DENSITY_cached('c20-data/derivatives/order-1/site-0-up/DENSITY')\n",
    "    idngrid, idnweight, idndens = read_DENSITY_cached('c20-data/derivatives/order-1/site-0-dn/DENSITY')\n",
    "    if i == j:\n",
    "        deriv_single = (iupdens + idndens - 2 * middens)/(delta**2)\n",
    "    else:\n",
    "        rhojup = iupdens\n",
    "        rhojdn = idndens\n",
    "        upgrid, upweight, updens = read_DENSITY_cached('c20-data/derivatives/order-2/site-0-%d-up/DENSITY' % j)\n",
    "        dngrid, dnweight, dndens = read_DENSITY_cached('c20-data/derivatives/order-2/site-0-%d-dn/DENSITY' % j)\n",
    "        \n",
    "        deriv_pair = (updens + dndens + 2 * middens - iupdens - idndens) / (2 * delta**2)\n",
    "        deriv_single = (- rhojup - rhojdn) / (2 * delta**2)\n",
    "    \n",
    "    return i, j, deriv_pair * midweight, deriv_single * midweight\n",
    "def build_reindexing_2_merged(refsite1, refsite2, ontosite1, ontosite2):\n",
    "    if refsite1 == ontosite1 and refsite2 == ontosite2:\n",
    "        return list(range(20))\n",
    "    for inverse in (True, False):\n",
    "        for asc in (True, False):\n",
    "            for mirror in (True, False):\n",
    "                for mirrorafter in (True, False):\n",
    "                    for noflip in (True, False):\n",
    "                        for rotate60 in (True, False):\n",
    "                            for rotate90 in (True, False):\n",
    "                                for reflectrotate in (True, False):\n",
    "                                    for rotate120 in (True, False):\n",
    "                                        try:\n",
    "                                            #print (refsite1, refsite2, ontosite1, ontosite2, inverse, asc, mirror, mirrorafter, noflip, rotate60, rotate90, reflectrotate, rotate120)\n",
    "                                            return do_it(refsite1, refsite2, ontosite1, ontosite2, inverse, asc, mirror, mirrorafter, noflip, rotate60, rotate90, reflectrotate, rotate120)\n",
    "                                        except ValueError:\n",
    "                                            continue\n",
    "    raise ValueError('No luck.')\n",
    "def do_it(refsite1, refsite2, ontosite1, ontosite2, inverse, asc, mirror, mirrorafter, noflip, rotate60, rotate90, reflectrotate,rotate120):\n",
    "    #print (inverse, asc, mirror, mirrorafter, noflip,rotate60, rotate90)\n",
    "    valid = False\n",
    "    if inverse:\n",
    "        coordinates = np.copy(c.coordinates)*(-1)\n",
    "    else:\n",
    "        coordinates = np.copy(c.coordinates)\n",
    "    \n",
    "    A = c.coordinates[[refsite1, refsite2]]\n",
    "    B = coordinates[[ontosite1, ontosite2]]\n",
    "    \n",
    "    if rotate60:\n",
    "        a = B[0] -B[1]\n",
    "        a = a/np.linalg.norm(a)*(np.pi/3)\n",
    "        rot = scs.transform.Rotation.from_rotvec(a)\n",
    "        coordinates = rot.apply(coordinates)\n",
    "    if rotate90:\n",
    "        a = B[0] -B[1]\n",
    "        a = a/np.linalg.norm(a)*(np.pi/4)\n",
    "        rot = scs.transform.Rotation.from_rotvec(a)\n",
    "        coordinates = rot.apply(coordinates)\n",
    "    if rotate120:\n",
    "        a = B[0] -B[1]\n",
    "        a = a/np.linalg.norm(a)*(2*np.pi/3)\n",
    "        rot = scs.transform.Rotation.from_rotvec(a)\n",
    "        coordinates = rot.apply(coordinates)\n",
    "    if mirror:\n",
    "        ax1 = A.sum(axis=0)\n",
    "        ax2 = B.sum(axis=0)\n",
    "        a = ax1 - ax2\n",
    "        for site in range(20):\n",
    "            v = coordinates[site].copy()\n",
    "            coordinates[site] = v- 2*a*np.dot(v, a) / np.dot(a, a)\n",
    "        transformed = coordinates\n",
    "    else:\n",
    "        A = c.coordinates[[refsite1, refsite2]]\n",
    "        B = coordinates[[ontosite1, ontosite2]]\n",
    "        #print (np.linalg.norm(c.coordinates[[refsite1, refsite2]] - coordinates[[ontosite1, ontosite2]] , axis=1))\n",
    "        if asc:\n",
    "            index = 0\n",
    "        else:\n",
    "            index = 1\n",
    "\n",
    "        # rotate first\n",
    "        a = np.cross(A[index], (0,0,1))\n",
    "        b = np.cross(B[index], (0, 0, 1))\n",
    "        rot = scs.transform.Rotation.match_vectors([A[index], a], [B[index], b])[0]\n",
    "        transformed = rot.apply(c.coordinates)\n",
    "        #print (np.linalg.norm(c.coordinates[[refsite1, refsite2]] - transformed[[ontosite1, ontosite2]] , axis=1))\n",
    "\n",
    "        # rotate second\n",
    "        A = c.coordinates[[refsite1, refsite2]]\n",
    "        B = transformed[[ontosite1, ontosite2]]\n",
    "        rot = scs.transform.Rotation.match_vectors(A, B)[0]\n",
    "        transformed2 = rot.apply(transformed)\n",
    "        transformed = transformed2\n",
    "        #print (np.linalg.norm(c.coordinates[[refsite1, refsite2]] - transformed[[ontosite1, ontosite2]] , axis=1))\n",
    "        if max(np.linalg.norm(c.coordinates[[refsite1, refsite2]] - transformed[[ontosite1, ontosite2]] , axis=1)) > 1e-5:\n",
    "            raise ValueError('no rotation')\n",
    "    \n",
    "    if mirrorafter:\n",
    "        a = transformed[ontosite1] - transformed[ontosite2]\n",
    "        for site in range(20):\n",
    "            v = transformed[site].copy()\n",
    "            transformed[site] = v- 2*a*np.dot(v, a) / np.dot(a, a)\n",
    "    if noflip:      \n",
    "        a = transformed[ontosite1] + transformed[ontosite2]\n",
    "        a = a/np.linalg.norm(a)*np.pi\n",
    "        rot = scs.transform.Rotation.from_rotvec(a)\n",
    "        transformed = rot.apply(transformed)\n",
    "        #print (np.linalg.norm(c.coordinates[[refsite1, refsite2]] - transformed[[ontosite1, ontosite2]] , axis=1))\n",
    "    \n",
    "    if reflectrotate:\n",
    "        a = transformed[ontosite1] - transformed[ontosite2]\n",
    "        for site in range(20):\n",
    "            v = transformed[site].copy()\n",
    "            transformed[site] = v- 2*a*np.dot(v, a) / np.dot(a, a)\n",
    "        a = a/np.linalg.norm(a)*(np.pi)\n",
    "        rot = scs.transform.Rotation.from_rotvec(a)\n",
    "        transformed = rot.apply(transformed)\n",
    "    found = []\n",
    "    for site in range(len(c.coordinates)):\n",
    "        ds = np.linalg.norm(transformed - c.coordinates[site], axis=1)\n",
    "        if min(ds) < 1e-5:\n",
    "            #print (site, np.argmin(ds))\n",
    "            found.append(np.argmin(ds))\n",
    "    #try:\n",
    "    #    print (set(found))#, found[refsite1], ontosite1, found[refsite2], ontosite2)\n",
    "    #except:\n",
    "    #    pass\n",
    "    if set(found) == set([_ for _ in range(len(c.coordinates))]) and found[refsite1] == ontosite1 and found[refsite2] == ontosite2:\n",
    "        pass\n",
    "    else:\n",
    "        raise ValueError('no solution')\n",
    "    return found"
   ]
  },
  {
   "cell_type": "markdown",
   "metadata": {},
   "source": [
    "## Caches"
   ]
  },
  {
   "cell_type": "code",
   "execution_count": 580,
   "metadata": {},
   "outputs": [],
   "source": [
    "@functools.lru_cache(maxsize=20*20*20*20)\n",
    "def build_reindexing_2_cached(a, b, c, d):\n",
    "    return build_reindexing_2_merged(a, b, c,d)\n",
    "@functools.lru_cache(maxsize=20*20*20*20)\n",
    "def build_reindexing_1_cached(a, b):\n",
    "    return build_reindexing_1_merged(a, b)\n",
    "@functools.lru_cache(200)\n",
    "def read_DENSITY_cached(fn):\n",
    "    return read_DENSITY(fn)\n",
    "@functools.lru_cache(30)\n",
    "def get_grid_ds(j):\n",
    "    return 1/(np.linalg.norm(grid_points*1.8897259885789 - c.coordinates[j]*1.8897259885789, axis=1))\n",
    "@functools.lru_cache(maxsize=20*20)\n",
    "def get_deriv_cached(i, j):\n",
    "    return get_deriv(i, j)\n",
    "changed_site, grid_points, grid_densweight = read_grid_first_order()"
   ]
  },
  {
   "cell_type": "code",
   "execution_count": 92,
   "metadata": {},
   "outputs": [
    {
     "name": "stdout",
     "output_type": "stream",
     "text": [
      "0\n",
      "1\n",
      "2\n",
      "3\n",
      "4\n",
      "5\n"
     ]
    }
   ],
   "source": [
    "# warm caches\n",
    "def test_all_pairs(n):\n",
    "    ds = scs.distance.squareform(scs.distance.pdist(c.coordinates))\n",
    "    dvals = np.unique(np.round(ds, 2))\n",
    "    xs, ys = np.where(abs(ds - dvals[n])< 0.1)\n",
    "    tosites = (0,1, 2, 8, 10, 16)[n]\n",
    "    for i, j in zip(xs, ys):\n",
    "        if i == j:\n",
    "            continue\n",
    "        try:\n",
    "            build_reindexing_2_merged(i, j, 0, tosites)\n",
    "        except:\n",
    "            print (i, j, 0, tosites)\n",
    "for i in range(6):\n",
    "    print (i)\n",
    "    test_all_pairs(i)"
   ]
  },
  {
   "cell_type": "markdown",
   "metadata": {},
   "source": [
    "## Analysis"
   ]
  },
  {
   "cell_type": "code",
   "execution_count": 105,
   "metadata": {},
   "outputs": [
    {
     "name": "stderr",
     "output_type": "stream",
     "text": [
      "/home/guido/miniconda3/envs/analysis/lib/python3.6/site-packages/ipykernel_launcher.py:52: RuntimeWarning: divide by zero encountered in true_divide\n"
     ]
    },
    {
     "name": "stdout",
     "output_type": "stream",
     "text": [
      "nn -2.697991128308331\n",
      "f -0.7008623282268658\n",
      "s -75.45115126636252\n",
      "-78.85000472289771\n"
     ]
    },
    {
     "data": {
      "text/plain": [
       "Timer unit: 1e-06 s\n",
       "\n",
       "Total time: 96.8719 s\n",
       "File: <ipython-input-105-c997143d7c7a>\n",
       "Function: get_predictions at line 1\n",
       "\n",
       "Line #      Hits         Time  Per Hit   % Time  Line Contents\n",
       "==============================================================\n",
       "     1                                           def get_predictions(comb):\n",
       "     2                                               #rho, dsingle, dneigh1, dneigh2, dneigh3, dneigh4, dneigh5 = read_densities()\n",
       "     3                                                   \n",
       "     4         1          5.0      5.0      0.0      E =0#-758.072029908548 # base energy\n",
       "     5         1         39.0     39.0      0.0      deltaZ = np.array(comb) - 6\n",
       "     6                                                   \n",
       "     7         1         25.0     25.0      0.0      zs = np.array([int(_) for _ in comb])\n",
       "     8         1         20.0     20.0      0.0      zsref = np.zeros(20) + 6\n",
       "     9                                               \n",
       "    10         1        672.0    672.0      0.0      E -= get_nucnuc(zsref)\n",
       "    11         1        267.0    267.0      0.0      E += get_nucnuc(zs)\n",
       "    12         1        155.0    155.0      0.0      print ('nn', E)\n",
       "    13                                               \n",
       "    14                                               # 0-th order, no rotation necessary, should be hard zero\n",
       "    15                                               #ds = np.linalg.norm(grid_points - c.coordinates[0], axis=1)\n",
       "    16                                               #es = (rho * grid_weights / ds).sum()\n",
       "    17                                               #for idx, Z in enumerate(comb):\n",
       "    18                                               #    if deltaZ[idx] == 0:\n",
       "    19                                               #        continue\n",
       "    20                                               #    E += np.sum(deltaZ[idx] * rho * grid_weights / ds)\n",
       "    21                                               \n",
       "    22                                               # 1st order\n",
       "    23         1     123420.0 123420.0      0.1      changed_site, grid_points, grid_densweight = read_grid_first_order()\n",
       "    24         1        260.0    260.0      0.0      dV = np.zeros(grid_densweight.shape)\n",
       "    25        21        108.0      5.1      0.0      for idx, Z in enumerate(comb):\n",
       "    26        20        177.0      8.8      0.0          if deltaZ[idx] == 0:\n",
       "    27         4         15.0      3.8      0.0              continue\n",
       "    28        16      64503.0   4031.4      0.1          mapping = build_reindexing_1_cached(idx, changed_site)\n",
       "    29                                                   \n",
       "    30       336       1810.0      5.4      0.0          for j in range(20): \n",
       "    31       320       2781.0      8.7      0.0              if deltaZ[mapping[j]] == 0:\n",
       "    32        64        330.0      5.2      0.0                  continue\n",
       "    33       256     573553.0   2240.4      0.6              ds = get_grid_ds(j)\n",
       "    34       256     367764.0   1436.6      0.4              dV += deltaZ[idx] * deltaZ[mapping[j]]* ds\n",
       "    35                                                       #E += np.sum(deltaZ[idx] * deltaZ[mapping[j]] * grid_densweight / ds)/2\n",
       "    36         1       1402.0   1402.0      0.0      f = -np.sum(dV * grid_densweight)/2\n",
       "    37         1        336.0    336.0      0.0      print ('f', f)\n",
       "    38         1         11.0     11.0      0.0      E += f\n",
       "    39                                               \n",
       "    40                                               # 2nd order\n",
       "    41         1          7.0      7.0      0.0      del dV, idx\n",
       "    42         1        489.0    489.0      0.0      dE = np.zeros(grid_densweight.shape)\n",
       "    43        21         97.0      4.6      0.0      for idx_i, Z_i in enumerate(comb):\n",
       "    44        20        177.0      8.8      0.0          if deltaZ[idx_i] == 0:\n",
       "    45         4         16.0      4.0      0.0              continue\n",
       "    46       336       1962.0      5.8      0.0          for idx_j, Z_j in enumerate(comb):\n",
       "    47       320       3169.0      9.9      0.0              if deltaZ[idx_j] == 0:\n",
       "    48        64        238.0      3.7      0.0                  continue\n",
       "    49                                                       \n",
       "    50                                                       # t_i: target for idx_i after rotation\n",
       "    51                                                       # deriv_pair: part of derivative after pair-mapping\n",
       "    52                                                       # deriv_single: part of derivative after single-mapping\n",
       "    53       256   18890316.0  73790.3     19.5              t_i, t_j, deriv_pair, deriv_single = get_deriv_cached(idx_i, idx_j)\n",
       "    54                                                       \n",
       "    55                                                       # pairwise mapping\n",
       "    56       256       1971.0      7.7      0.0              if idx_i != idx_j:\n",
       "    57       240       1091.0      4.5      0.0                  q = 0\n",
       "    58       240        915.0      3.8      0.0                  try:\n",
       "    59       240   64293836.0 267891.0     66.4                      mapping = build_reindexing_2_cached(idx_i, idx_j, t_i, t_j)\n",
       "    60                                                           except:\n",
       "    61                                                               print (idx_i, idx_j, t_i, t_j)\n",
       "    62      5040      26666.0      5.3      0.0                  for j in range(20): \n",
       "    63      4800      41715.0      8.7      0.0                      if deltaZ[mapping[j]] == 0:\n",
       "    64       960       3639.0      3.8      0.0                          continue\n",
       "    65      3840      26516.0      6.9      0.0                      ds = get_grid_ds(j)\n",
       "    66      3840    5531487.0   1440.5      5.7                      q += (deltaZ[idx_i] *deltaZ[idx_j] * deltaZ[mapping[j]]) * ds\n",
       "    67       240     410256.0   1709.4      0.4                  dE += q * deriv_pair\n",
       "    68       240       1847.0      7.7      0.0                  del q\n",
       "    69                                                       \n",
       "    70                                                       # single mapping\n",
       "    71       256       2389.0      9.3      0.0              mapping = build_reindexing_1_cached(idx_j, 0)\n",
       "    72       256       1072.0      4.2      0.0              q = 0\n",
       "    73      5376      30632.0      5.7      0.0              for j in range(20): \n",
       "    74      5120      48886.0      9.5      0.1                  if deltaZ[mapping[j]] == 0:\n",
       "    75      1024       4227.0      4.1      0.0                      continue\n",
       "    76      4096      31231.0      7.6      0.0                  ds = get_grid_ds(j)\n",
       "    77      4096    5922144.0   1445.8      6.1                  q += (deltaZ[idx_i] * deltaZ[idx_j] * deltaZ[mapping[j]]) * ds\n",
       "    78       256     454496.0   1775.4      0.5              dE += q*deriv_single\n",
       "    79       256       2019.0      7.9      0.0              del q\n",
       "    80         1        426.0    426.0      0.0      s = -np.sum(dE)/6\n",
       "    81         1        291.0    291.0      0.0      print ('s', s)\n",
       "    82         1          4.0      4.0      0.0      E += s\n",
       "    83                                                       \n",
       "    84         1          2.0      2.0      0.0      return E"
      ]
     },
     "metadata": {},
     "output_type": "display_data"
    }
   ],
   "source": [
    "def get_predictions(comb):\n",
    "    #rho, dsingle, dneigh1, dneigh2, dneigh3, dneigh4, dneigh5 = read_densities()\n",
    "        \n",
    "    E =0#-758.072029908548 # base energy\n",
    "    deltaZ = np.array(comb) - 6\n",
    "        \n",
    "    zs = np.array([int(_) for _ in comb])\n",
    "    zsref = np.zeros(20) + 6\n",
    "    \n",
    "    E -= get_nucnuc(zsref)\n",
    "    E += get_nucnuc(zs)\n",
    "    print ('nn', E)\n",
    "    \n",
    "    # 0-th order, no rotation necessary, should be hard zero\n",
    "    #ds = np.linalg.norm(grid_points - c.coordinates[0], axis=1)\n",
    "    #es = (rho * grid_weights / ds).sum()\n",
    "    #for idx, Z in enumerate(comb):\n",
    "    #    if deltaZ[idx] == 0:\n",
    "    #        continue\n",
    "    #    E += np.sum(deltaZ[idx] * rho * grid_weights / ds)\n",
    "    \n",
    "    # 1st order\n",
    "    changed_site, grid_points, grid_densweight = read_grid_first_order()\n",
    "    dV = np.zeros(grid_densweight.shape)\n",
    "    for idx, Z in enumerate(comb):\n",
    "        if deltaZ[idx] == 0:\n",
    "            continue\n",
    "        mapping = build_reindexing_1_cached(idx, changed_site)\n",
    "        \n",
    "        for j in range(20): \n",
    "            if deltaZ[mapping[j]] == 0:\n",
    "                continue\n",
    "            ds = get_grid_ds(j)\n",
    "            dV += deltaZ[idx] * deltaZ[mapping[j]]* ds\n",
    "            #E += np.sum(deltaZ[idx] * deltaZ[mapping[j]] * grid_densweight / ds)/2\n",
    "    f = -np.sum(dV * grid_densweight)/2\n",
    "    print ('f', f)\n",
    "    E += f\n",
    "    \n",
    "    # 2nd order\n",
    "    del dV, idx\n",
    "    dE = np.zeros(grid_densweight.shape)\n",
    "    for idx_i, Z_i in enumerate(comb):\n",
    "        if deltaZ[idx_i] == 0:\n",
    "            continue\n",
    "        for idx_j, Z_j in enumerate(comb):\n",
    "            if deltaZ[idx_j] == 0:\n",
    "                continue\n",
    "            \n",
    "            # t_i: target for idx_i after rotation\n",
    "            # deriv_pair: part of derivative after pair-mapping\n",
    "            # deriv_single: part of derivative after single-mapping\n",
    "            t_i, t_j, deriv_pair, deriv_single = get_deriv_cached(idx_i, idx_j)\n",
    "            \n",
    "            # pairwise mapping\n",
    "            if idx_i != idx_j:\n",
    "                q = 0\n",
    "                try:\n",
    "                    mapping = build_reindexing_2_cached(idx_i, idx_j, t_i, t_j)\n",
    "                except:\n",
    "                    print (idx_i, idx_j, t_i, t_j)\n",
    "                for j in range(20): \n",
    "                    if deltaZ[mapping[j]] == 0:\n",
    "                        continue\n",
    "                    ds = get_grid_ds(j)\n",
    "                    q += (deltaZ[idx_i] *deltaZ[idx_j] * deltaZ[mapping[j]]) * ds\n",
    "                dE += q * deriv_pair\n",
    "                del q\n",
    "            \n",
    "            # single mapping\n",
    "            mapping = build_reindexing_1_cached(idx_j, 0)\n",
    "            q = 0\n",
    "            for j in range(20): \n",
    "                if deltaZ[mapping[j]] == 0:\n",
    "                    continue\n",
    "                ds = get_grid_ds(j)\n",
    "                q += (deltaZ[idx_i] * deltaZ[idx_j] * deltaZ[mapping[j]]) * ds\n",
    "            dE += q*deriv_single\n",
    "            del q\n",
    "    s = -np.sum(dE)/6\n",
    "    print ('s', s)\n",
    "    E += s\n",
    "            \n",
    "    return E\n",
    "%lprun -f get_predictions print (get_predictions([int(_) for _ in '67575755777557656765']))"
   ]
  },
  {
   "cell_type": "markdown",
   "metadata": {},
   "source": [
    "## Symbolic solution"
   ]
  },
  {
   "cell_type": "markdown",
   "metadata": {},
   "source": [
    "Idea: only limited amount of input densities. Skip intermediate evaluations, merge at the end, have products pre-computed. Use cached atom mappings."
   ]
  },
  {
   "cell_type": "code",
   "execution_count": 769,
   "metadata": {},
   "outputs": [
    {
     "name": "stderr",
     "output_type": "stream",
     "text": [
      "/home/guido/miniconda3/envs/analysis/lib/python3.6/site-packages/ipykernel_launcher.py:85: RuntimeWarning: divide by zero encountered in true_divide\n"
     ]
    }
   ],
   "source": [
    "FNS = '''c20-data/derivatives/order-0/site-all-cc/DENSITY\n",
    "c20-data/derivatives/order-1/site-0-dn/DENSITY\n",
    "c20-data/derivatives/order-1/site-0-up/DENSITY\n",
    "c20-data/derivatives/order-2/site-0-1-dn/DENSITY\n",
    "c20-data/derivatives/order-2/site-0-1-up/DENSITY\n",
    "c20-data/derivatives/order-2/site-0-10-dn/DENSITY\n",
    "c20-data/derivatives/order-2/site-0-10-up/DENSITY\n",
    "c20-data/derivatives/order-2/site-0-16-dn/DENSITY\n",
    "c20-data/derivatives/order-2/site-0-16-up/DENSITY\n",
    "c20-data/derivatives/order-2/site-0-2-dn/DENSITY\n",
    "c20-data/derivatives/order-2/site-0-2-up/DENSITY\n",
    "c20-data/derivatives/order-2/site-0-8-dn/DENSITY\n",
    "c20-data/derivatives/order-2/site-0-8-up/DENSITY'''.split('\\n')\n",
    "def symbolic_read_density(fn):\n",
    "    return FNS.index(fn)\n",
    "@functools.lru_cache(maxsize=20*20)\n",
    "def symbolic_get_deriv(i, j):\n",
    "    \"\"\" Returns \n",
    "    t_i : atom index of i after rotation\n",
    "    t_j : atom index of j after rotation\n",
    "    deriv_pair : the density to be integrated after pairwise rotation\n",
    "    deriv_single : density to be integrated after single rotation \"\"\"\n",
    "    \n",
    "    if i != j:\n",
    "        d = np.linalg.norm(c.coordinates[i] - c.coordinates[j])\n",
    "        geo = np.argmin(np.abs(np.array(sorted(set(np.round(scs.distance.pdist(c.coordinates), 2)))) - d))\n",
    "        sites = (0, (1, 2, 8, 10, 16)[geo])\n",
    "        i, j = sites\n",
    "    delta = 0.05\n",
    "    deriv_single = np.zeros(13)\n",
    "    deriv_pair = np.zeros(13)\n",
    "    \n",
    "    mid = symbolic_read_density('c20-data/derivatives/order-0/site-all-cc/DENSITY')\n",
    "    iup = symbolic_read_density('c20-data/derivatives/order-1/site-0-up/DENSITY')\n",
    "    idn = symbolic_read_density('c20-data/derivatives/order-1/site-0-dn/DENSITY')\n",
    "    if i == j:\n",
    "        deriv_single[iup] = 1/(delta**2)\n",
    "        deriv_single[idn] = 1/(delta**2)\n",
    "        deriv_single[mid] = -2/(delta**2)\n",
    "    else:\n",
    "        jup = iup\n",
    "        jdn = idn\n",
    "        up = symbolic_read_density('c20-data/derivatives/order-2/site-0-%d-up/DENSITY' % j)\n",
    "        dn = symbolic_read_density('c20-data/derivatives/order-2/site-0-%d-dn/DENSITY' % j)\n",
    "        \n",
    "        deriv_pair[up] = 1/ (2 * delta**2)\n",
    "        deriv_pair[dn] = 1/ (2 * delta**2)\n",
    "        deriv_pair[mid] = 2/ (2 * delta**2)\n",
    "        deriv_pair[iup] = -1/ (2 * delta**2)\n",
    "        deriv_pair[idn] = -1/ (2 * delta**2)\n",
    "        \n",
    "        deriv_single[jup] = -1/ (2 * delta**2)\n",
    "        deriv_single[jdn] = -1/ (2 * delta**2)\n",
    "    \n",
    "    return i, j, deriv_pair/6, deriv_single/6\n",
    "def symbolic_read_grid_first_order():\n",
    "    changed_site = 0\n",
    "    delta = 0.05\n",
    "    \n",
    "    up = symbolic_read_density('c20-data/derivatives/order-1/site-0-up/DENSITY')\n",
    "    dn = symbolic_read_density('c20-data/derivatives/order-1/site-0-dn/DENSITY')\n",
    "    deriv_single = np.zeros(13)\n",
    "    deriv_single[up] = 1/(2*delta)\n",
    "    deriv_single[dn] = -1/(2*delta)\n",
    "    \n",
    "    return changed_site, deriv_single/2\n",
    "def coefficient_matrix():\n",
    "    result = np.zeros((20, 13))\n",
    "    lastgrid = None\n",
    "    lastweights = None\n",
    "    for fidx, fn in enumerate(FNS):\n",
    "        _, a, b = read_DENSITY_cached(fn)\n",
    "        if lastgrid is not None:\n",
    "            assert np.allclose(_, lastgrid)\n",
    "            assert np.allclose(a, lastweights)\n",
    "        lastgrid = _\n",
    "        lastweights=a\n",
    "        for j in range(20):\n",
    "            ds = get_grid_ds(j)/1.8897259885789\n",
    "            result[j, fidx] = (a*b*ds).sum()\n",
    "    return result\n",
    "def symmetrize_coefficients(mat):\n",
    "    def get_partial_nn(zs):\n",
    "        ds = scs.distance.squareform(scs.distance.pdist(c.coordinates))\n",
    "        q = np.outer(zs, zs)/ds\n",
    "        np.fill_diagonal(q, 0)\n",
    "        return q.sum(axis=0)\n",
    "    def partial_update(mat, zs, fidx):\n",
    "        vals = np.round(get_partial_nn(zs), 2)\n",
    "        unique = set(vals)\n",
    "        for u in unique:\n",
    "            selection = np.where(vals==u)[0]\n",
    "            mat[selection, fidx] = mat[selection, fidx].mean()\n",
    "        return mat\n",
    "    mat = mat.copy()\n",
    "    FNS = '''c20-data/derivatives/order-0/site-all-cc/DENSITY\n",
    "c20-data/derivatives/order-1/site-0-dn/DENSITY\n",
    "c20-data/derivatives/order-1/site-0-up/DENSITY\n",
    "c20-data/derivatives/order-2/site-0-1-dn/DENSITY\n",
    "c20-data/derivatives/order-2/site-0-1-up/DENSITY\n",
    "c20-data/derivatives/order-2/site-0-10-dn/DENSITY\n",
    "c20-data/derivatives/order-2/site-0-10-up/DENSITY\n",
    "c20-data/derivatives/order-2/site-0-16-dn/DENSITY\n",
    "c20-data/derivatives/order-2/site-0-16-up/DENSITY\n",
    "c20-data/derivatives/order-2/site-0-2-dn/DENSITY\n",
    "c20-data/derivatives/order-2/site-0-2-up/DENSITY\n",
    "c20-data/derivatives/order-2/site-0-8-dn/DENSITY\n",
    "c20-data/derivatives/order-2/site-0-8-up/DENSITY'''.split('\\n')\n",
    "    mat = partial_update(mat, [6, 6, 6, 6, 6, 6, 6, 6, 6, 6, 6, 6, 6, 6, 6, 6, 6, 6, 6, 6], 0)\n",
    "    mat = partial_update(mat, [5, 6, 6, 6, 6, 6, 6, 6, 6, 6, 6, 6, 6, 6, 6, 6, 6, 6, 6, 6], 1)\n",
    "    mat = partial_update(mat, [7, 6, 6, 6, 6, 6, 6, 6, 6, 6, 6, 6, 6, 6, 6, 6, 6, 6, 6, 6], 2)\n",
    "    mat = partial_update(mat, [5, 5, 6, 6, 6, 6, 6, 6, 6, 6, 6, 6, 6, 6, 6, 6, 6, 6, 6, 6], 3)\n",
    "    mat = partial_update(mat, [7, 7, 6, 6, 6, 6, 6, 6, 6, 6, 6, 6, 6, 6, 6, 6, 6, 6, 6, 6], 4)\n",
    "    mat = partial_update(mat, [5, 6, 6, 6, 6, 6, 6, 6, 6, 6, 5, 6, 6, 6, 6, 6, 6, 6, 6, 6], 5)\n",
    "    mat = partial_update(mat, [7, 6, 6, 6, 6, 6, 6, 6, 6, 6, 7, 6, 6, 6, 6, 6, 6, 6, 6, 6], 6)\n",
    "    mat = partial_update(mat, [5, 6, 6, 6, 6, 6, 6, 6, 6, 6, 6, 6, 6, 6, 6, 6, 5, 6, 6, 6], 7)\n",
    "    mat = partial_update(mat, [7, 6, 6, 6, 6, 6, 6, 6, 6, 6, 6, 6, 6, 6, 6, 6, 7, 6, 6, 6], 8)\n",
    "    mat = partial_update(mat, [5, 6, 5, 6, 6, 6, 6, 6, 6, 6, 6, 6, 6, 6, 6, 6, 6, 6, 6, 6], 9)\n",
    "    mat = partial_update(mat, [7, 6, 7, 6, 6, 6, 6, 6, 6, 6, 6, 6, 6, 6, 6, 6, 6, 6, 6, 6], 10)\n",
    "    mat = partial_update(mat, [5, 6, 6, 6, 6, 6, 6, 6, 5, 6, 6, 6, 6, 6, 6, 6, 6, 6, 6, 6], 11)\n",
    "    mat = partial_update(mat, [7, 6, 6, 6, 6, 6, 6, 6, 7, 6, 6, 6, 6, 6, 6, 6, 6, 6, 6, 6], 12)\n",
    "    return mat\n",
    "COEFFMAT = symmetrize_coefficients(coefficient_matrix())\n",
    "#COEFFMAT = coefficient_matrix()"
   ]
  },
  {
   "cell_type": "code",
   "execution_count": 773,
   "metadata": {},
   "outputs": [
    {
     "name": "stdout",
     "output_type": "stream",
     "text": [
      "{'ref': -758.072029908548, 'deltaNN': -0.35417018326938887, 'order0': 0.0, 'order1': -0.8927595400697328, 'order2': -4.547473508864641e-13, 'prediction': -759.3189596318875, 'target': '75666666666666666666'}\n",
      "{'ref': -758.072029908548, 'deltaNN': -0.3541726430391918, 'order0': 0.0, 'order1': -0.8927595400697328, 'order2': 0.0, 'prediction': -759.3189620916569, 'target': '66756666666666666666'}\n"
     ]
    },
    {
     "name": "stderr",
     "output_type": "stream",
     "text": [
      "/home/guido/miniconda3/envs/analysis/lib/python3.6/site-packages/ipykernel_launcher.py:52: RuntimeWarning: divide by zero encountered in true_divide\n"
     ]
    }
   ],
   "source": [
    "def symbolic_get_predictions(comb):\n",
    "    #rho, dsingle, dneigh1, dneigh2, dneigh3, dneigh4, dneigh5 = read_densities()\n",
    "        \n",
    "    result = {}\n",
    "    result['ref'] = -758.072029908548\n",
    "    \n",
    "    deltaZ = np.array(comb) - 6\n",
    "        \n",
    "    zs = np.array([int(_) for _ in comb])\n",
    "    zsref = np.zeros(20) + 6\n",
    "    result['deltaNN'] = get_nucnuc(zs) - get_nucnuc(zsref)\n",
    "    \n",
    "    # collect terms to evaluate, shape (density x atoms)\n",
    "    coefficients = np.zeros((20, 13))\n",
    "    \n",
    "    # 0-th order, no rotation necessary, should be hard zero, might not be due to asymmetry\n",
    "    zero_coefficients = np.zeros(13)\n",
    "    zero_coefficients[0] = 1\n",
    "    result['order0'] = np.multiply(np.outer(deltaZ, zero_coefficients), COEFFMAT).sum()\n",
    "    \n",
    "    # 1st order\n",
    "    changed_site, this_coefficients = symbolic_read_grid_first_order()\n",
    "    for idx in range(20):\n",
    "        if deltaZ[idx] != 0:\n",
    "            mapping = np.argsort(build_reindexing_1_cached(idx, changed_site))\n",
    "            \n",
    "            assert (deltaZ[mapping][0] == deltaZ[idx])\n",
    "            assert (mapping[0] == idx)\n",
    "            assert abs(get_nucnuc(zs) - get_nucnuc(zs[mapping])) < 1e-3\n",
    "            \n",
    "            #print (idx, deltaZ[mapping])\n",
    "            \n",
    "            coefficients -= deltaZ[idx] * np.outer(deltaZ[mapping], this_coefficients)\n",
    "            \n",
    "            #print (idx, np.multiply(deltaZ[idx] * np.outer(deltaZ[mapping], this_coefficients),COEFFMAT).sum())\n",
    "    \n",
    "    result['order1'] = np.multiply(coefficients,COEFFMAT).sum()\n",
    "    \n",
    "    # 2nd order\n",
    "    coefficients = np.zeros((20, 13))\n",
    "    outercache = np.zeros(coefficients.shape)\n",
    "    components = {'P': 0., 'S': 0.}\n",
    "    del idx\n",
    "    for idx_i in range(20):\n",
    "        if deltaZ[idx_i] != 0:\n",
    "            for idx_j in range(20):\n",
    "                if deltaZ[idx_j] != 0:\n",
    "                    #print (idx_i, idx_j, (deltaZ[idx_i] * deltaZ[idx_j]))\n",
    "                    # t_i: target for idx_i after rotation\n",
    "                    # deriv_pair: part of derivative after pair-mapping\n",
    "                    # deriv_single: part of derivative after single-mapping\n",
    "                    t_i, t_j, deriv_pair, deriv_single = symbolic_get_deriv(idx_i, idx_j)\n",
    "\n",
    "                    # pairwise mapping\n",
    "                    if idx_i != idx_j:\n",
    "                        #print ('DP', deriv_pair)\n",
    "                        mapping = np.argsort(build_reindexing_2_cached(idx_i, idx_j, t_i, t_j))\n",
    "\n",
    "                        assert (mapping[t_i] == idx_i)\n",
    "                        assert (mapping[t_j] == idx_j)\n",
    "                        assert abs(get_nucnuc(zs) - get_nucnuc(zs[mapping])) < 1e-3\n",
    "                        \n",
    "                        np.outer(deltaZ[mapping], deriv_pair, out=outercache)\n",
    "                        change = -(deltaZ[idx_i] * deltaZ[idx_j]) * outercache\n",
    "                        #print ('P', np.multiply(change,COEFFMAT).sum())\n",
    "                        components['P'] += np.multiply(change,COEFFMAT).sum()\n",
    "                        coefficients += change\n",
    "\n",
    "                    # single mapping\n",
    "                    mapping = np.argsort(build_reindexing_1_cached(idx_i, 0))\n",
    "                    #print (deltaZ[mapping])\n",
    "                    assert (deltaZ[mapping][0] != 0)\n",
    "                    assert abs(get_nucnuc(zs) - get_nucnuc(zs[mapping])) < 1e-3\n",
    "                    np.outer(deltaZ[mapping], deriv_single, out=outercache)\n",
    "                    coefficients -= (deltaZ[idx_i] * deltaZ[idx_j]) * outercache\n",
    "                    #print (deltaZ[mapping])\n",
    "                    #print ('S', idx_i, idx_j, np.multiply((deltaZ[idx_i] * deltaZ[idx_j]) * outercache,COEFFMAT).sum())\n",
    "                    components['S'] += np.multiply((deltaZ[idx_i] * deltaZ[idx_j]) * outercache,COEFFMAT).sum()\n",
    "                    #print (idx_i, idx_j, ((deltaZ[idx_i] * deltaZ[idx_j]) * outercache).sum())\n",
    "                    #print (np.round(((deltaZ[idx_i] * deltaZ[idx_j]) * outercache)[:3, :5], 1))\n",
    "    #print (np.round(np.multiply(coefficients,COEFFMAT), 2), np.multiply(coefficients,COEFFMAT).sum())\n",
    "    result['order2'] = np.multiply(coefficients,COEFFMAT).sum()\n",
    "    \n",
    "    result['prediction'] = result['ref'] + result['order0'] + result['order1'] + result['order2']  + result['deltaNN']\n",
    "    result['target'] = ''.join([str(_) for _ in comb])\n",
    "    \n",
    "    #print ('S, P: ', components)\n",
    "    return result\n",
    "#print (symbolic_get_predictions([int(_) for _ in '67575755777557656765']))\n",
    "print (symbolic_get_predictions([int(_) for _ in '75666666666666666666']))\n",
    "print (symbolic_get_predictions([int(_) for _ in '66756666666666666666']))\n",
    "#print (symbolic_get_predictions([int(_) for _ in '65766666666666666666']))\n",
    "#print (symbolic_get_predictions([int(_) for _ in '55555557775575777777']))"
   ]
  },
  {
   "cell_type": "code",
   "execution_count": 765,
   "metadata": {},
   "outputs": [
    {
     "data": {
      "text/plain": [
       "array([ 0,  1,  2,  3,  4,  5,  6,  7,  8,  9, 10, 11, 12, 13, 14, 15, 16,\n",
       "       17, 18, 19])"
      ]
     },
     "execution_count": 765,
     "metadata": {},
     "output_type": "execute_result"
    }
   ],
   "source": [
    "#(get_grid_ds(4)*grid_densweight).sum(), (get_grid_ds(0)*grid_densweight).sum()\n",
    "np.argsort(build_reindexing_1_cached(0, 0))"
   ]
  },
  {
   "cell_type": "code",
   "execution_count": 328,
   "metadata": {},
   "outputs": [
    {
     "data": {
      "image/png": "[encoded data removed]",
      "text/plain": [
       "<Figure size 432x288 with 1 Axes>"
      ]
     },
     "metadata": {
      "needs_background": "light"
     },
     "output_type": "display_data"
    },
    {
     "data": {
      "image/png": "[encoded data removed]",
      "text/plain": [
       "<Figure size 432x288 with 1 Axes>"
      ]
     },
     "metadata": {
      "needs_background": "light"
     },
     "output_type": "display_data"
    }
   ],
   "source": [
    "#COEFFMAT[:, 0] = COEFFMAT[:, 0].mean()\n",
    "#plt.plot(COEFFMAT[:, 3])\n",
    "#plt.plot(COEFFMAT[:, 0])\n",
    "#plt.plot(COEFFMAT[:, 4])\n",
    "def test():\n",
    "    grid, weight, dens = read_DENSITY_cached('c20-data/derivatives/order-1/site-0-dn/DENSITY')\n",
    "    print ((weight*dens).sum())\n",
    "    for atom in range(2):\n",
    "        ds = 1/np.linalg.norm(grid - c.coordinates[atom], axis=1)\n",
    "        print ((weight*dens*ds).sum())\n",
    "#test()\n",
    "xs = COEFFMAT[:, 1]\n",
    "for gidx, group in enumerate(((0, ), (1, 4, 5),(6, 7, 2, 3, 13, 14), (8, 9, 18, 19, 11, 12), (10,15,17), (16,))):\n",
    "    plt.plot(group, xs[list(group)], 'o', color='C%d' % gidx)\n",
    "    plt.axhline(xs[list(group)].mean(), color='C%d' % gidx)\n",
    "plt.show()\n",
    "xs = COEFFMAT[:, 2]\n",
    "for gidx, group in enumerate(((0, ), (1, 4, 5),(6, 7, 2, 3, 13, 14), (8, 9, 18, 19, 11, 12), (10,15,17), (16,))):\n",
    "    plt.plot(group, xs[list(group)], 'o', color='C%d' % gidx)\n",
    "    plt.axhline(xs[list(group)].mean(), color='C%d' % gidx)"
   ]
  },
  {
   "cell_type": "markdown",
   "metadata": {},
   "source": [
    "## Results"
   ]
  },
  {
   "cell_type": "code",
   "execution_count": 48,
   "metadata": {},
   "outputs": [],
   "source": [
    "def read_predictions():\n",
    "    dfs = []\n",
    "    def atomisation(row):\n",
    "        atomE = {'5': -23.624308208720, '6': -37.714812342283, '7': -52.831420359950}\n",
    "        a = row['prediction'] - sum([atomE[_] for _ in row['target']])\n",
    "        return a\n",
    "    for bnpairs in range(1, 11):\n",
    "        df = pd.read_pickle('c20-data/predictions/bnpairs-%d.pkl' % bnpairs)\n",
    "        df['pairs'] = bnpairs\n",
    "        df['predictionatom'] = df.apply(atomisation, axis=1)\n",
    "        dfs.append(df)\n",
    "        \n",
    "    return pd.concat(dfs).sort_values('prediction').reset_index()\n",
    "predictions = read_predictions()"
   ]
  },
  {
   "cell_type": "code",
   "execution_count": 49,
   "metadata": {},
   "outputs": [
    {
     "data": {
      "text/plain": [
       "[<matplotlib.lines.Line2D at 0x7fbcd41115f8>]"
      ]
     },
     "execution_count": 49,
     "metadata": {},
     "output_type": "execute_result"
    },
    {
     "data": {
      "image/png": "[encoded data removed]",
      "text/plain": [
       "<Figure size 432x288 with 1 Axes>"
      ]
     },
     "metadata": {
      "needs_background": "light"
     },
     "output_type": "display_data"
    }
   ],
   "source": [
    "plt.plot(predictions.predictionatom)"
   ]
  },
  {
   "cell_type": "code",
   "execution_count": 51,
   "metadata": {},
   "outputs": [],
   "source": [
    "def read_CCSD():\n",
    "    res = []\n",
    "    atomE = {'5': -24.561351362788, '6': -37.714812342283, '7': -54.418867578066}\n",
    "    for fn in glob.glob('validation/CCSD/*/run.log'):\n",
    "        with open(fn) as fh:\n",
    "            lines = fh.readlines()[::-1]\n",
    "            for line in lines:\n",
    "                if line.startswith(' Total CCSD energy [au]:'):\n",
    "                    energy = float(line.strip().split()[-1])\n",
    "                    target = fn.split('/')[-2]\n",
    "                    atomisation = energy - sum([atomE[_] for _ in target])\n",
    "                    res.append({'target': target, 'CCSD': energy, 'CCSDatom': atomisation})\n",
    "                    break\n",
    "    return pd.DataFrame(res)\n",
    "df_ccsd = read_CCSD()"
   ]
  },
  {
   "cell_type": "code",
   "execution_count": 111,
   "metadata": {},
   "outputs": [],
   "source": [
    "def read_PBE():\n",
    "    res = []\n",
    "    atomE = {'5': -2.606628102620043, '6': -5.303933090334334, '7': -9.70772035021036}\n",
    "    for fn in glob.glob('validation/PBE/*/run.log'):\n",
    "        with open(fn) as fh:\n",
    "            lines = fh.readlines()[::-1]\n",
    "            for line in lines:\n",
    "                if 'ENERGY| Total FORCE_EVAL ( QS ) energy (a.u.):' in line:\n",
    "                    energy = float(line.strip().split()[-1])\n",
    "                    target = fn.split('/')[-2]\n",
    "                    try:\n",
    "                        atomisation = energy - sum([atomE[_] for _ in target])\n",
    "                    except:\n",
    "                        break\n",
    "                    res.append({'target': target, 'PBE': energy, 'PBEatom': atomisation})\n",
    "                    break\n",
    "    return pd.DataFrame(res)\n",
    "df_pbe = read_PBE()"
   ]
  },
  {
   "cell_type": "code",
   "execution_count": 143,
   "metadata": {},
   "outputs": [
    {
     "data": {
      "text/plain": [
       "<matplotlib.collections.PathCollection at 0x7fbccddef2b0>"
      ]
     },
     "execution_count": 143,
     "metadata": {},
     "output_type": "execute_result"
    },
    {
     "data": {
      "image/png": "[encoded data removed]",
      "text/plain": [
       "<Figure size 432x288 with 1 Axes>"
      ]
     },
     "metadata": {
      "needs_background": "light"
     },
     "output_type": "display_data"
    }
   ],
   "source": [
    "#compare = pd.merge(df_ccsd, predictions, how='inner')\n",
    "q = 1/10\n",
    "plt.scatter(compare.CCSDatom, compare.predictionatom-compare.order3 *(1.8)-compare.order2*(2))"
   ]
  },
  {
   "cell_type": "code",
   "execution_count": 166,
   "metadata": {},
   "outputs": [],
   "source": [
    "comparepbe = pd.merge(df_ccsd, df_pbe, how='inner')\n",
    "bnpairslookup = predictions['target pairs'.split()]\n",
    "comparepbe = pd.merge(comparepbe, bnpairslookup, how='inner')\n",
    "#plt.scatter(compare.CCSDatom, compare.PBEatom)"
   ]
  },
  {
   "cell_type": "code",
   "execution_count": 74,
   "metadata": {},
   "outputs": [
    {
     "data": {
      "image/png": "[encoded data removed]",
      "text/plain": [
       "<Figure size 432x288 with 1 Axes>"
      ]
     },
     "metadata": {
      "needs_background": "light"
     },
     "output_type": "display_data"
    }
   ],
   "source": [
    "_ = plt.hist(predictions.order2.values, bins=50)"
   ]
  },
  {
   "cell_type": "code",
   "execution_count": 77,
   "metadata": {},
   "outputs": [
    {
     "data": {
      "image/png": "[encoded data removed]",
      "text/plain": [
       "<Figure size 432x288 with 1 Axes>"
      ]
     },
     "metadata": {
      "needs_background": "light"
     },
     "output_type": "display_data"
    }
   ],
   "source": [
    "_ = plt.hist(predictions.order3.values/100, bins=50)"
   ]
  },
  {
   "cell_type": "code",
   "execution_count": 774,
   "metadata": {},
   "outputs": [
    {
     "name": "stderr",
     "output_type": "stream",
     "text": [
      "/home/guido/miniconda3/envs/analysis/lib/python3.6/site-packages/ipykernel_launcher.py:52: RuntimeWarning: divide by zero encountered in true_divide\n"
     ]
    }
   ],
   "source": [
    "def debugcompare():\n",
    "    ret = []\n",
    "    for target in compare.target.values[::10]:\n",
    "        try:\n",
    "            q = symbolic_get_predictions([int(_) for _ in target])\n",
    "            q['pairs'] = len([_ for _ in target if _ =='5'])\n",
    "            ret.append(q)\n",
    "        except:\n",
    "            print (target)\n",
    "            raise\n",
    "    def atomisation(row):\n",
    "        atomE = {'5': -23.624308208720, '6': -37.714812342283, '7': -52.831420359950}\n",
    "        a = sum([atomE[_] for _ in row['target']])\n",
    "        return a\n",
    "    df = pd.DataFrame(ret)\n",
    "    df['predictionatom'] = df.apply(atomisation, axis=1)\n",
    "    q = pd.merge(df, df_ccsd, how='inner')\n",
    "    return q\n",
    "debugdf = debugcompare()\n",
    "#debugdf"
   ]
  },
  {
   "cell_type": "code",
   "execution_count": 175,
   "metadata": {},
   "outputs": [],
   "source": [
    "compare['erroratom'] = abs(compare.predictionatom - compare.order3 - compare.order2- compare.CCSDatom)\n",
    "comparepbe['erroratom'] = abs(comparepbe.PBEatom - comparepbe.CCSDatom)"
   ]
  },
  {
   "cell_type": "code",
   "execution_count": 783,
   "metadata": {},
   "outputs": [
    {
     "data": {
      "text/html": [
       "<div>\n",
       "<style scoped>\n",
       "    .dataframe tbody tr th:only-of-type {\n",
       "        vertical-align: middle;\n",
       "    }\n",
       "\n",
       "    .dataframe tbody tr th {\n",
       "        vertical-align: top;\n",
       "    }\n",
       "\n",
       "    .dataframe thead th {\n",
       "        text-align: right;\n",
       "    }\n",
       "</style>\n",
       "<table border=\"1\" class=\"dataframe\">\n",
       "  <thead>\n",
       "    <tr style=\"text-align: right;\">\n",
       "      <th></th>\n",
       "      <th>deltaNN</th>\n",
       "      <th>order0</th>\n",
       "      <th>order1</th>\n",
       "      <th>order2</th>\n",
       "      <th>pairs</th>\n",
       "      <th>prediction</th>\n",
       "      <th>ref</th>\n",
       "      <th>target</th>\n",
       "      <th>predictionatom</th>\n",
       "      <th>CCSD</th>\n",
       "      <th>CCSDatom</th>\n",
       "      <th>erroratom</th>\n",
       "    </tr>\n",
       "  </thead>\n",
       "  <tbody>\n",
       "    <tr>\n",
       "      <th>0</th>\n",
       "      <td>-0.177663</td>\n",
       "      <td>0.0</td>\n",
       "      <td>-9.605145</td>\n",
       "      <td>-122.107931</td>\n",
       "      <td>10</td>\n",
       "      <td>-889.962768</td>\n",
       "      <td>-758.07203</td>\n",
       "      <td>55555555775777777577</td>\n",
       "      <td>-764.557286</td>\n",
       "      <td>-791.867477</td>\n",
       "      <td>-2.065288</td>\n",
       "      <td>1.232264</td>\n",
       "    </tr>\n",
       "    <tr>\n",
       "      <th>1</th>\n",
       "      <td>-0.819727</td>\n",
       "      <td>0.0</td>\n",
       "      <td>-8.499879</td>\n",
       "      <td>-26.338954</td>\n",
       "      <td>9</td>\n",
       "      <td>-793.730591</td>\n",
       "      <td>-758.07203</td>\n",
       "      <td>55555557775767775677</td>\n",
       "      <td>-763.531182</td>\n",
       "      <td>-788.567523</td>\n",
       "      <td>-2.315928</td>\n",
       "      <td>1.544527</td>\n",
       "    </tr>\n",
       "    <tr>\n",
       "      <th>2</th>\n",
       "      <td>0.874518</td>\n",
       "      <td>0.0</td>\n",
       "      <td>-9.127715</td>\n",
       "      <td>11.185643</td>\n",
       "      <td>9</td>\n",
       "      <td>-755.139584</td>\n",
       "      <td>-758.07203</td>\n",
       "      <td>55555565777677757775</td>\n",
       "      <td>-763.531182</td>\n",
       "      <td>-788.357181</td>\n",
       "      <td>-2.105586</td>\n",
       "      <td>0.688460</td>\n",
       "    </tr>\n",
       "    <tr>\n",
       "      <th>3</th>\n",
       "      <td>-1.959021</td>\n",
       "      <td>0.0</td>\n",
       "      <td>-8.264822</td>\n",
       "      <td>-104.587770</td>\n",
       "      <td>9</td>\n",
       "      <td>-872.883643</td>\n",
       "      <td>-758.07203</td>\n",
       "      <td>55555577577767765757</td>\n",
       "      <td>-763.531182</td>\n",
       "      <td>-788.680067</td>\n",
       "      <td>-2.428472</td>\n",
       "      <td>2.336220</td>\n",
       "    </tr>\n",
       "    <tr>\n",
       "      <th>4</th>\n",
       "      <td>-0.802402</td>\n",
       "      <td>0.0</td>\n",
       "      <td>-8.458100</td>\n",
       "      <td>-4.897215</td>\n",
       "      <td>9</td>\n",
       "      <td>-772.229746</td>\n",
       "      <td>-758.07203</td>\n",
       "      <td>55556575775776577577</td>\n",
       "      <td>-763.531182</td>\n",
       "      <td>-788.708944</td>\n",
       "      <td>-2.457349</td>\n",
       "      <td>1.344001</td>\n",
       "    </tr>\n",
       "  </tbody>\n",
       "</table>\n",
       "</div>"
      ],
      "text/plain": [
       "    deltaNN  order0    order1      order2  pairs  prediction        ref  \\\n",
       "0 -0.177663     0.0 -9.605145 -122.107931     10 -889.962768 -758.07203   \n",
       "1 -0.819727     0.0 -8.499879  -26.338954      9 -793.730591 -758.07203   \n",
       "2  0.874518     0.0 -9.127715   11.185643      9 -755.139584 -758.07203   \n",
       "3 -1.959021     0.0 -8.264822 -104.587770      9 -872.883643 -758.07203   \n",
       "4 -0.802402     0.0 -8.458100   -4.897215      9 -772.229746 -758.07203   \n",
       "\n",
       "                 target  predictionatom        CCSD  CCSDatom  erroratom  \n",
       "0  55555555775777777577     -764.557286 -791.867477 -2.065288   1.232264  \n",
       "1  55555557775767775677     -763.531182 -788.567523 -2.315928   1.544527  \n",
       "2  55555565777677757775     -763.531182 -788.357181 -2.105586   0.688460  \n",
       "3  55555577577767765757     -763.531182 -788.680067 -2.428472   2.336220  \n",
       "4  55556575775776577577     -763.531182 -788.708944 -2.457349   1.344001  "
      ]
     },
     "execution_count": 783,
     "metadata": {},
     "output_type": "execute_result"
    },
    {
     "data": {
      "image/png": "[encoded data removed]",
      "text/plain": [
       "<Figure size 432x288 with 1 Axes>"
      ]
     },
     "metadata": {
      "needs_background": "light"
     },
     "output_type": "display_data"
    }
   ],
   "source": [
    "comparepbe['erroratom'] = abs(comparepbe.PBEatom - comparepbe.CCSDatom)\n",
    "q = comparepbe.groupby('pairs').mean().reset_index()\n",
    "plt.plot(q.pairs, q.erroratom, 'o-', label='PBE')\n",
    "\n",
    "compare['erroratom'] = abs(compare.predictionatom - compare.order3 - compare.order2- compare.CCSDatom)\n",
    "q = compare.groupby('pairs').mean().reset_index()\n",
    "plt.plot(q.pairs, q.erroratom, 'o-', label='order 0')\n",
    "compare['erroratom'] = abs(compare.predictionatom - compare.order3 - compare.CCSDatom)\n",
    "q = compare.groupby('pairs').mean().reset_index()\n",
    "plt.plot(q.pairs, q.erroratom, 'o-', label='order 1')\n",
    "compare['erroratom'] = abs(compare.predictionatom- compare.CCSDatom)\n",
    "q = compare.groupby('pairs').mean().reset_index()\n",
    "plt.plot(q.pairs, q.erroratom, 'o-', label='order 2')\n",
    "\n",
    "debugdf['erroratom'] = abs(debugdf.ref -debugdf.predictionatom + debugdf.deltaNN  +debugdf.order0+debugdf.order1+debugdf.order2*0  - debugdf.CCSDatom)\n",
    "q = debugdf.groupby('pairs').mean().reset_index()\n",
    "plt.plot(q.pairs, q.erroratom, 'o-', label='debug')\n",
    "\n",
    "\n",
    "\n",
    "plt.legend()\n",
    "plt.ylim(0, 10)\n",
    "debugdf.head()"
   ]
  },
  {
   "cell_type": "code",
   "execution_count": 657,
   "metadata": {},
   "outputs": [
    {
     "data": {
      "text/plain": [
       "[<matplotlib.lines.Line2D at 0x7fbbecc69fd0>]"
      ]
     },
     "execution_count": 657,
     "metadata": {},
     "output_type": "execute_result"
    },
    {
     "data": {
      "image/png": "[encoded data removed]",
      "text/plain": [
       "<Figure size 432x288 with 1 Axes>"
      ]
     },
     "metadata": {
      "needs_background": "light"
     },
     "output_type": "display_data"
    }
   ],
   "source": [
    "#plt.scatter(debugdf.CCSDatom,debugdf.CCSDatom)\n",
    "#xs = np.linspace(0.61574,0.61576, 20)\n",
    "xs = np.linspace(0.,1.0, 20)\n",
    "ys = [(abs(debugdf.ref -debugdf.predictionatom + debugdf.deltaNN  +debugdf.order0 + debugdf.order1*0.346 - debugdf.order2*_)).mean() for _ in xs]\n",
    "plt.plot(xs, ys)"
   ]
  },
  {
   "cell_type": "code",
   "execution_count": 643,
   "metadata": {},
   "outputs": [
    {
     "data": {
      "text/plain": [
       "1.61245154965971"
      ]
     },
     "execution_count": 643,
     "metadata": {},
     "output_type": "execute_result"
    }
   ],
   "source": [
    "#0.38424\n",
    "#1/(1-0.6040)\n",
    "np.sqrt(2.6)"
   ]
  },
  {
   "cell_type": "code",
   "execution_count": 784,
   "metadata": {},
   "outputs": [
    {
     "data": {
      "text/plain": [
       "<matplotlib.collections.PathCollection at 0x7fbbecb5c198>"
      ]
     },
     "execution_count": 784,
     "metadata": {},
     "output_type": "execute_result"
    },
    {
     "data": {
      "image/png": "[encoded data removed]",
      "text/plain": [
       "<Figure size 432x288 with 1 Axes>"
      ]
     },
     "metadata": {
      "needs_background": "light"
     },
     "output_type": "display_data"
    }
   ],
   "source": [
    "#plt.scatter(comparepbe.CCSDatom, comparepbe.CCSDatom)\n",
    "#plt.scatter(comparepbe.CCSDatom, comparepbe.PBEatom)\n",
    "plt.scatter(debugdf.CCSDatom, debugdf.CCSDatom)\n",
    "plt.scatter(debugdf.CCSDatom, debugdf.ref -debugdf.predictionatom + debugdf.deltaNN  +debugdf.order0 + debugdf.order1, color=['C%d' % min(_, 9) for _ in debugdf.pairs.values])"
   ]
  },
  {
   "cell_type": "code",
   "execution_count": 410,
   "metadata": {},
   "outputs": [
    {
     "data": {
      "text/plain": [
       "array([6., 7., 5., 6., 6., 6., 6., 6., 6., 6., 6., 6., 6., 6., 6., 6., 6.,\n",
       "       6., 6., 6.])"
      ]
     },
     "execution_count": 410,
     "metadata": {},
     "output_type": "execute_result"
    }
   ],
   "source": [
    "zs = np.zeros(20)+6\n",
    "zs[0] = 7\n",
    "zs[1] = 5\n",
    "zs[build_reindexing_1_cached(1, 0)]"
   ]
  },
  {
   "cell_type": "code",
   "execution_count": 411,
   "metadata": {},
   "outputs": [
    {
     "data": {
      "text/plain": [
       "array([ 1,  2,  3,  4,  0,  7,  8,  9, 10, 11, 12, 13, 14,  5,  6, 16, 17,\n",
       "       18, 19, 15])"
      ]
     },
     "execution_count": 411,
     "metadata": {},
     "output_type": "execute_result"
    }
   ],
   "source": [
    "np.argsort([4, 0, 1, 2, 3, 13, 14, 5, 6, 7, 8, 9, 10, 11, 12, 19, 15, 16, 17, 18])"
   ]
  },
  {
   "cell_type": "code",
   "execution_count": 578,
   "metadata": {},
   "outputs": [
    {
     "data": {
      "text/plain": [
       "0.5293245818335803"
      ]
     },
     "execution_count": 578,
     "metadata": {},
     "output_type": "execute_result"
    }
   ],
   "source": [
    "1/1.8892"
   ]
  },
  {
   "cell_type": "code",
   "execution_count": null,
   "metadata": {},
   "outputs": [],
   "source": []
  }
 ],
 "metadata": {
  "kernelspec": {
   "display_name": "Python [conda env:analysis]",
   "language": "python",
   "name": "conda-env-analysis-py"
  },
  "language_info": {
   "codemirror_mode": {
    "name": "ipython",
    "version": 3
   },
   "file_extension": ".py",
   "mimetype": "text/x-python",
   "name": "python",
   "nbconvert_exporter": "python",
   "pygments_lexer": "ipython3",
   "version": "3.6.8"
  }
 },
 "nbformat": 4,
 "nbformat_minor": 2
}
