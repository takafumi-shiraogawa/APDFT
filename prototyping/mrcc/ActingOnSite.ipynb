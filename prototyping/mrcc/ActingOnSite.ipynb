{
 "cells": [
  {
   "cell_type": "code",
   "execution_count": 1,
   "metadata": {},
   "outputs": [
    {
     "name": "stdout",
     "output_type": "stream",
     "text": [
      "The history saving thread hit an unexpected error (DatabaseError('database disk image is malformed',)).History will not be written to the database.\n"
     ]
    }
   ],
   "source": [
    "import numpy as np\n",
    "import pandas as pd\n",
    "import qml\n",
    "import scipy.spatial as scs\n",
    "import glob\n",
    "import scipy.interpolate as sci\n",
    "import functools\n",
    "import matplotlib.pyplot as plt\n",
    "%load_ext line_profiler\n",
    "#c = qml.Compound('../../test/c20.xyz')\n",
    "from pymatgen.symmetry import analyzer as psa\n",
    "from pymatgen.core import Molecule"
   ]
  },
  {
   "cell_type": "code",
   "execution_count": 2,
   "metadata": {},
   "outputs": [],
   "source": [
    "@functools.lru_cache(10)\n",
    "def read_DENSITY(fn):\n",
    "    with open(fn, 'r') as fh:\n",
    "        _ = np.fromfile(fh, 'i4')\n",
    "        q = _[3:-1].view(np.float64)\n",
    "        ccdensity = q.reshape((-1, 10))\n",
    "    ccdensity = ccdensity[:, 1:6]\n",
    "    return ccdensity[:, :3]/1.8897259885789, ccdensity[:, 3], ccdensity[:, 4]"
   ]
  },
  {
   "cell_type": "code",
   "execution_count": 3,
   "metadata": {},
   "outputs": [],
   "source": [
    "def get_interaction(fn):\n",
    "    grid, weights, dens = read_DENSITY(fn)\n",
    "    \n",
    "    acton = []\n",
    "    for aidx in range(20):\n",
    "        ds = np.linalg.norm(grid*1.8897259885789 - c.coordinates[aidx]*1.8897259885789, axis=1)\n",
    "        acton.append((weights*dens/ds).sum())\n",
    "    return np.array(acton)\n",
    "    \n",
    "\n",
    "#q = get_interaction('c20-data/derivatives/order-0/site-all-cc/DENSITY')\n",
    "#min(q)-max(q)"
   ]
  },
  {
   "cell_type": "code",
   "execution_count": 10,
   "metadata": {},
   "outputs": [
    {
     "data": {
      "text/plain": [
       "-0.03926261377993967"
      ]
     },
     "execution_count": 10,
     "metadata": {},
     "output_type": "execute_result"
    }
   ],
   "source": [
    "q = get_interaction('c20-data/derivatives/order-0/site-all-cc/DENSITY.SCF')\n",
    "min(q)-max(q)"
   ]
  },
  {
   "cell_type": "code",
   "execution_count": 12,
   "metadata": {},
   "outputs": [
    {
     "name": "stdout",
     "output_type": "stream",
     "text": [
      "-0.038210408054567324\n",
      "-0.062159439671226835\n"
     ]
    }
   ],
   "source": [
    "c = qml.Compound('c20-symmetric.xyz')\n",
    "q = get_interaction('symmetrytest/DENSITY')\n",
    "print (min(q)-max(q))\n",
    "c = qml.Compound('c20-symmetric.xyz')\n",
    "q = get_interaction('symmetrytest/DENSITY-unconv')\n",
    "print (min(q)-max(q))"
   ]
  },
  {
   "cell_type": "code",
   "execution_count": 10,
   "metadata": {},
   "outputs": [],
   "source": [
    "mol = Molecule(c.nuclear_charges, c.coordinates)\n",
    "a = psa.PointGroupAnalyzer(mol)\n",
    "mol2 = a.symmetrize_molecule()['sym_mol']"
   ]
  },
  {
   "cell_type": "code",
   "execution_count": 29,
   "metadata": {},
   "outputs": [],
   "source": [
    "q = mol2.cart_coords.copy()"
   ]
  },
  {
   "cell_type": "code",
   "execution_count": 38,
   "metadata": {},
   "outputs": [],
   "source": [
    "q = q- q.sum(axis=0)/20"
   ]
  },
  {
   "cell_type": "code",
   "execution_count": 45,
   "metadata": {},
   "outputs": [
    {
     "name": "stdout",
     "output_type": "stream",
     "text": [
      "-0.7470633342766211 -1.028244038050714 1.6637333313839093 0.0\n",
      "-1.2087742096462073 0.3927536638655645 1.6637329955496833 0.0\n",
      "-5.724240224767516e-07 1.2709791682915 1.663733787631747 0.0\n",
      "1.2087737189638086 0.39275408162998493 1.6637333313839093 0.0\n",
      "0.7470629754254333 -1.0282443767242935 1.6637333313839093 0.0\n",
      "-1.2087734803182608 -1.663733658186504 0.3927527424684561 0.0\n",
      "-1.9558356394234448 -0.6354893093132393 -0.39275669399701896 0.0\n",
      "-1.9558362594898482 0.6354899802769969 0.3927527424684561 0.0\n",
      "-1.2087729399563858 1.663733656751988 -0.39275433487564015 0.0\n",
      "2.327117416779309e-07 2.056487578360569 0.39275538293000695 0.0\n",
      "1.2087733417045277 1.6637337593967074 -0.392752993824324 0.0\n",
      "1.9558357467164487 0.6354893341124536 0.39275687578371987 0.0\n",
      "1.9558358985994728 -0.6354901632867145 -0.3927545559004698 0.0\n",
      "1.208773067674104 -1.6637336253163797 0.3927544819137797 0.0\n",
      "-5.046833732860398e-07 -2.056487676791948 -0.3927545559004698 0.0\n",
      "-0.7470628681324295 1.0282444015235073 -1.6637331495972085 0.0\n",
      "0.7470634415696249 1.0282440628499279 -1.6637331495972085 0.0\n",
      "1.2087743169392111 -0.39275363906635025 -1.6637328137629825 0.0\n",
      "6.797170262256777e-07 -1.2709791434922861 -1.6637336058450463 0.0\n",
      "-1.2087736116708048 -0.3927540568307707 -1.6637331495972085 0.0\n"
     ]
    }
   ],
   "source": [
    "for i in q:\n",
    "    print ( i[0], i[1], i[2], 0.)"
   ]
  },
  {
   "cell_type": "code",
   "execution_count": 46,
   "metadata": {},
   "outputs": [],
   "source": [
    "a2 = psa.PointGroupAnalyzer(mol2)"
   ]
  },
  {
   "cell_type": "code",
   "execution_count": 63,
   "metadata": {},
   "outputs": [],
   "source": [
    "def test_geo(coords):\n",
    "    mol = Molecule(c.nuclear_charges, coords)\n",
    "    a = psa.PointGroupAnalyzer(mol)\n",
    "    deviations = []\n",
    "    for symop in a.get_symmetry_operations():\n",
    "        newcoord = symop.operate_multi(coords)\n",
    "        ds = scs.distance.cdist(coords, newcoord)\n",
    "        deviations.append(max(ds[np.where(ds < 1e-1)]))\n",
    "    return np.array(deviations)"
   ]
  },
  {
   "cell_type": "code",
   "execution_count": 90,
   "metadata": {},
   "outputs": [
    {
     "data": {
      "image/png": "[encoded data removed]",
      "text/plain": [
       "<Figure size 432x288 with 1 Axes>"
      ]
     },
     "metadata": {
      "needs_background": "light"
     },
     "output_type": "display_data"
    },
    {
     "data": {
      "text/plain": [
       "[<matplotlib.lines.Line2D at 0x7f284c4276a0>]"
      ]
     },
     "execution_count": 90,
     "metadata": {},
     "output_type": "execute_result"
    },
    {
     "data": {
      "image/png": "[encoded data removed]",
      "text/plain": [
       "<Figure size 432x288 with 1 Axes>"
      ]
     },
     "metadata": {
      "needs_background": "light"
     },
     "output_type": "display_data"
    }
   ],
   "source": [
    "plt.plot(np.log(test_geo(c.coordinates))/np.log(10))\n",
    "mol = Molecule(c.nuclear_charges, c.coordinates)\n",
    "initgeo = c.coordinates.copy()\n",
    "progress = []\n",
    "for it in range(1000):\n",
    "    mol = Molecule(c.nuclear_charges, initgeo)\n",
    "    a = psa.PointGroupAnalyzer(mol)\n",
    "    mol = a.symmetrize_molecule()['sym_mol']\n",
    "    initgeo = mol.cart_coords\n",
    "    initgeo -= initgeo.mean(axis=0)\n",
    "    progress.append(np.mean(np.log(test_geo(initgeo))/np.log(10)))\n",
    "\n",
    "plt.plot(np.log(test_geo(initgeo))/np.log(10))\n",
    "plt.show()\n",
    "plt.plot(progress)\n",
    "#plt.ylim(-6, -5)"
   ]
  },
  {
   "cell_type": "code",
   "execution_count": 1,
   "metadata": {},
   "outputs": [
    {
     "name": "stdout",
     "output_type": "stream",
     "text": [
      "The history saving thread hit an unexpected error (DatabaseError('database disk image is malformed',)).History will not be written to the database.\n"
     ]
    },
    {
     "ename": "NameError",
     "evalue": "name 'initgeo' is not defined",
     "output_type": "error",
     "traceback": [
      "\u001b[0;31m---------------------------------------------------------------------------\u001b[0m",
      "\u001b[0;31mNameError\u001b[0m                                 Traceback (most recent call last)",
      "\u001b[0;32m<ipython-input-1-2d65aadab144>\u001b[0m in \u001b[0;36m<module>\u001b[0;34m\u001b[0m\n\u001b[0;32m----> 1\u001b[0;31m \u001b[0;32mfor\u001b[0m \u001b[0mi\u001b[0m \u001b[0;32min\u001b[0m \u001b[0minitgeo\u001b[0m\u001b[0;34m:\u001b[0m\u001b[0;34m\u001b[0m\u001b[0;34m\u001b[0m\u001b[0m\n\u001b[0m\u001b[1;32m      2\u001b[0m     \u001b[0mprint\u001b[0m \u001b[0;34m(\u001b[0m\u001b[0;34m'%s'\u001b[0m\u001b[0;34m,\u001b[0m \u001b[0mi\u001b[0m\u001b[0;34m[\u001b[0m\u001b[0;36m0\u001b[0m\u001b[0;34m]\u001b[0m\u001b[0;34m,\u001b[0m \u001b[0mi\u001b[0m\u001b[0;34m[\u001b[0m\u001b[0;36m1\u001b[0m\u001b[0;34m]\u001b[0m\u001b[0;34m,\u001b[0m \u001b[0mi\u001b[0m\u001b[0;34m[\u001b[0m\u001b[0;36m2\u001b[0m\u001b[0;34m]\u001b[0m\u001b[0;34m,\u001b[0m\u001b[0;34m)\u001b[0m\u001b[0;34m\u001b[0m\u001b[0;34m\u001b[0m\u001b[0m\n",
      "\u001b[0;31mNameError\u001b[0m: name 'initgeo' is not defined"
     ]
    }
   ],
   "source": [
    "for i in initgeo:\n",
    "    print ('%s', i[0], i[1], i[2],)"
   ]
  },
  {
   "cell_type": "code",
   "execution_count": 95,
   "metadata": {},
   "outputs": [
    {
     "data": {
      "text/plain": [
       "-13.919970096732648"
      ]
     },
     "execution_count": 95,
     "metadata": {},
     "output_type": "execute_result"
    }
   ],
   "source": [
    "progress[-1]"
   ]
  },
  {
   "cell_type": "code",
   "execution_count": 18,
   "metadata": {},
   "outputs": [],
   "source": [
    "c1 = qml.Compound('c20-symmetric.xyz')\n",
    "c2 = qml.Compound('../../test/c20.xyz')\n"
   ]
  },
  {
   "cell_type": "code",
   "execution_count": 25,
   "metadata": {},
   "outputs": [
    {
     "data": {
      "text/plain": [
       "array([-1.02503047e-05, -9.74638320e-05,  1.97339457e-04])"
      ]
     },
     "execution_count": 25,
     "metadata": {},
     "output_type": "execute_result"
    }
   ],
   "source": [
    "a.mean(axis=0)"
   ]
  },
  {
   "cell_type": "code",
   "execution_count": 7,
   "metadata": {},
   "outputs": [],
   "source": [
    "coord, weight, dens = read_DENSITY('symmetrytest/DENSITY')\n",
    "coord2, weight2, dens2 = read_DENSITY('symmetrytest/DENSITY-unconv')"
   ]
  },
  {
   "cell_type": "code",
   "execution_count": 11,
   "metadata": {},
   "outputs": [
    {
     "data": {
      "text/plain": [
       "0.2085269355847288"
      ]
     },
     "execution_count": 11,
     "metadata": {},
     "output_type": "execute_result"
    }
   ],
   "source": [
    "np.abs(dens - dens2).max()"
   ]
  },
  {
   "cell_type": "code",
   "execution_count": null,
   "metadata": {},
   "outputs": [],
   "source": []
  }
 ],
 "metadata": {
  "kernelspec": {
   "display_name": "Python [conda env:analysis]",
   "language": "python",
   "name": "conda-env-analysis-py"
  },
  "language_info": {
   "codemirror_mode": {
    "name": "ipython",
    "version": 3
   },
   "file_extension": ".py",
   "mimetype": "text/x-python",
   "name": "python",
   "nbconvert_exporter": "python",
   "pygments_lexer": "ipython3",
   "version": "3.6.8"
  }
 },
 "nbformat": 4,
 "nbformat_minor": 2
}
