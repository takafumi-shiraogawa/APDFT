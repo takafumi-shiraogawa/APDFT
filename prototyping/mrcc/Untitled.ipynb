{
 "cells": [
  {
   "cell_type": "code",
   "execution_count": 34,
   "metadata": {},
   "outputs": [],
   "source": [
    "import horton\n",
    "import numpy as np"
   ]
  },
  {
   "cell_type": "code",
   "execution_count": 47,
   "metadata": {},
   "outputs": [
    {
     "name": "stdout",
     "output_type": "stream",
     "text": [
      "Initialized: <horton.gbasis.cext.GOBasis object at 0x7f0a612debb0>\n",
      "  Number of basis functions         : 180\n",
      "  Number of normalization constants : 440\n",
      "  Maximum shell type                : 1\n",
      "  Center     0 :  S6 S3 P3 S1 P1\n",
      "  Center     1 :  S6 S3 P3 S1 P1\n",
      "  Center     2 :  S6 S3 P3 S1 P1\n",
      "  Center     3 :  S6 S3 P3 S1 P1\n",
      "  Center     4 :  S6 S3 P3 S1 P1\n",
      "  Center     5 :  S6 S3 P3 S1 P1\n",
      "  Center     6 :  S6 S3 P3 S1 P1\n",
      "  Center     7 :  S6 S3 P3 S1 P1\n",
      "  Center     8 :  S6 S3 P3 S1 P1\n",
      "  Center     9 :  S6 S3 P3 S1 P1\n",
      "  Center    10 :  S6 S3 P3 S1 P1\n",
      "  Center    11 :  S6 S3 P3 S1 P1\n",
      "  Center    12 :  S6 S3 P3 S1 P1\n",
      "  Center    13 :  S6 S3 P3 S1 P1\n",
      "  Center    14 :  S6 S3 P3 S1 P1\n",
      "  Center    15 :  S6 S3 P3 S1 P1\n",
      "  Center    16 :  S6 S3 P3 S1 P1\n",
      "  Center    17 :  S6 S3 P3 S1 P1\n",
      "  Center    18 :  S6 S3 P3 S1 P1\n",
      "  Center    19 :  S6 S3 P3 S1 P1\n",
      "\n"
     ]
    }
   ],
   "source": [
    "mol = horton.IOData.from_file('test.fchk')"
   ]
  },
  {
   "cell_type": "code",
   "execution_count": 53,
   "metadata": {},
   "outputs": [
    {
     "name": "stdout",
     "output_type": "stream",
     "text": [
      "Preparing Becke-Lebedev molecular integration grid.\n",
      ">>>>>>>>>>>>>>>>>>>>>>>>>>>>>>>>>>>>>>>>>>>>>>>>>>>>>>>>>>>>>>>>>>>>>>>>>>>>>>>>>>>>>>>>>>>>>>>>>>>>\n",
      "Initialized: <horton.grid.molgrid.BeckeMolGrid object at 0x7f0a6138f450>\n",
      "  Size               : 635280\n",
      "  Switching function : k=3\n",
      "\n"
     ]
    }
   ],
   "source": [
    "grid = horton.BeckeMolGrid(mol.coordinates, mol.numbers, mol.numbers, 'insane', mode='keep', random_rotate=False)"
   ]
  },
  {
   "cell_type": "code",
   "execution_count": 48,
   "metadata": {},
   "outputs": [],
   "source": [
    "dm_alpha = mol.get_dm_full()"
   ]
  },
  {
   "cell_type": "code",
   "execution_count": 54,
   "metadata": {},
   "outputs": [],
   "source": [
    "density = mol.obasis.compute_grid_density_dm(dm_alpha, grid.points)"
   ]
  },
  {
   "cell_type": "code",
   "execution_count": 55,
   "metadata": {},
   "outputs": [
    {
     "data": {
      "text/plain": [
       "120.00002837929088"
      ]
     },
     "execution_count": 55,
     "metadata": {},
     "output_type": "execute_result"
    }
   ],
   "source": [
    "(density*grid.weights).sum()"
   ]
  },
  {
   "cell_type": "code",
   "execution_count": 56,
   "metadata": {},
   "outputs": [],
   "source": [
    "vs = [(density*grid.weights/np.linalg.norm(mol.coordinates[_]-grid.points, axis=1)).sum() for _ in range(20)]"
   ]
  },
  {
   "cell_type": "code",
   "execution_count": 46,
   "metadata": {},
   "outputs": [
    {
     "data": {
      "text/plain": [
       "(37.66615909106405, 37.62796648480852)"
      ]
     },
     "execution_count": 46,
     "metadata": {},
     "output_type": "execute_result"
    }
   ],
   "source": [
    "max(vs), min(vs)"
   ]
  },
  {
   "cell_type": "code",
   "execution_count": 57,
   "metadata": {},
   "outputs": [
    {
     "data": {
      "text/plain": [
       "(37.66410763317683, 37.62727992511783)"
      ]
     },
     "execution_count": 57,
     "metadata": {},
     "output_type": "execute_result"
    }
   ],
   "source": [
    "max(vs), min(vs)"
   ]
  },
  {
   "cell_type": "code",
   "execution_count": 78,
   "metadata": {},
   "outputs": [
    {
     "data": {
      "text/plain": [
       "array([[ 2.06327413, -0.08718052, -0.2503384 ],\n",
       "       [-0.08718052,  0.27083045,  0.32729615],\n",
       "       [-0.2503384 ,  0.32729615,  0.69804514]])"
      ]
     },
     "execution_count": 78,
     "metadata": {},
     "output_type": "execute_result"
    }
   ],
   "source": [
    "dm_alpha[[0,1,5],:][:, [0,1,5]]"
   ]
  },
  {
   "cell_type": "code",
   "execution_count": null,
   "metadata": {},
   "outputs": [],
   "source": []
  }
 ],
 "metadata": {
  "kernelspec": {
   "display_name": "Python [conda env:py27]",
   "language": "python",
   "name": "conda-env-py27-py"
  },
  "language_info": {
   "codemirror_mode": {
    "name": "ipython",
    "version": 2
   },
   "file_extension": ".py",
   "mimetype": "text/x-python",
   "name": "python",
   "nbconvert_exporter": "python",
   "pygments_lexer": "ipython2",
   "version": "2.7.15"
  }
 },
 "nbformat": 4,
 "nbformat_minor": 2
}
