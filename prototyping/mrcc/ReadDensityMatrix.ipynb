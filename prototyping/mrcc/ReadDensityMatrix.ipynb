{
 "cells": [
  {
   "cell_type": "code",
   "execution_count": 1,
   "metadata": {},
   "outputs": [],
   "source": [
    "import pyscf\n",
    "import pyscf.tools\n",
    "import pyscf.cc\n",
    "import pandas as pd\n",
    "import numpy as np\n",
    "import matplotlib.pyplot as plt"
   ]
  },
  {
   "cell_type": "code",
   "execution_count": 41,
   "metadata": {},
   "outputs": [],
   "source": [
    "def read_1rdm(fn, dimensions):\n",
    "    df = pd.read_csv(fn, sep='\\s+', names='coeff i j k l'.split())\n",
    "    df = df.query('k==0 & l == 0')['coeff i j'.split()]\n",
    "    \n",
    "    dens = np.zeros(dimensions)\n",
    "    dens[df.i.values-1, df.j.values -1] = df.coeff.values\n",
    "    \n",
    "    if not (dens_mo == dens_mo.conj().T).all():\n",
    "        raise ValueError('Density matrix not hermitian.')\n",
    "    return dens\n",
    "dens_mo = read_1rdm('test-DM/CCDENSITIES', (18, 18))"
   ]
  },
  {
   "cell_type": "code",
   "execution_count": 51,
   "metadata": {},
   "outputs": [],
   "source": [
    "def read_mocoeff(fn):\n",
    "    mocoef = []\n",
    "    \n",
    "    # parse MOLDEN file\n",
    "    with open(fn) as fh:\n",
    "        lines = fh.readlines()\n",
    "        \n",
    "        is_MO = False\n",
    "        seen_MO = 0\n",
    "        for line in lines:\n",
    "            line = line.strip()\n",
    "            if line == '[MO]':\n",
    "                is_MO = True\n",
    "                continue\n",
    "            if line.startswith('[]'):\n",
    "                is_MO = False\n",
    "                continue\n",
    "            if not is_MO:\n",
    "                continue\n",
    "            \n",
    "            if line.startswith('Ene='):\n",
    "                seen_MO += 1\n",
    "                continue\n",
    "            if line.startswith('Occup='):\n",
    "                continue\n",
    "            if line.startswith('Spin='):\n",
    "                spin = line.split()[-1]\n",
    "                if spin != 'Alpha':\n",
    "                    raise NotImplementedError('Only alpha spin supported')\n",
    "                continue\n",
    "            \n",
    "            mocoef.append(float(line.split()[-1]))\n",
    "    mocoef = np.array(mocoef).reshape(seen_MO, -1)\n",
    "\n",
    "    # permute to MRCC order\n",
    "    permutation = np.loadtxt('%s.perm' % fn).astype(int) - 1\n",
    "        \n",
    "    return mocoef[np.ix_(permutation, permutation)]\n",
    "mo = read_mocoeff('test-DM/MOLDEN')"
   ]
  },
  {
   "cell_type": "code",
   "execution_count": 3,
   "metadata": {},
   "outputs": [
    {
     "name": "stdout",
     "output_type": "stream",
     "text": [
      "converged SCF energy = -112.664778326693\n",
      "E(CCSD) = -112.8696356055405  E_corr = -0.2048572788470442\n",
      "Total E_NE -311.7347018582735\n",
      "Per-site E_NE 0 -200.6590969591802\n",
      "Per-site E_NE 1 -111.0756048990933\n",
      "Per-site E_NE 0 -111.07560357210798\n",
      "Per-site E_NE 1 -200.6590947397702\n",
      "Total E_NE -311.7346983118782\n"
     ]
    }
   ],
   "source": [
    "def test_case_pyscf():\n",
    "    mol = pyscf.gto.M(atom='C 0 0 0; O 0 0 1.1', basis='6-31G')\n",
    "    mf = pyscf.scf.RHF(mol).run()\n",
    "    mycc = pyscf.cc.CCSD(mf).run()\n",
    "    dm1 = mycc.make_rdm1()\n",
    "    \n",
    "    dm1_ao = np.einsum('pi,ij,qj->pq', mf.mo_coeff, dm1, mf.mo_coeff.conj())\n",
    "    \n",
    "    # Analytical evaluation\n",
    "    print ('Total E_NE', np.matmul(mol.intor('int1e_nuc_sph'), dm1_ao).trace())\n",
    "    for site in (0, 1):\n",
    "        q = mol._atm.copy()\n",
    "        q[site, 0] = 0\n",
    "        a = pyscf.gto.getints('int1e_nuc_sph', q, mol._bas, mol._env)\n",
    "        print ('Per-site E_NE', site, np.matmul(a, dm1_ao).trace())\n",
    "    \n",
    "    #Numerical evaluation\n",
    "    grids = pyscf.dft.gen_grid.Grids(mol)\n",
    "    grids.build()\n",
    "    ao_value = pyscf.dft.numint.eval_ao(mol, grids.coords, deriv=0)\n",
    "    rho = pyscf.dft.numint.eval_rho(mol, ao_value, dm1_ao, xctype='LDA')\n",
    "    q = 0.\n",
    "    for znuc, site in zip((6, 8), (0, 1)):\n",
    "        thisq = -(grids.weights*rho*znuc/np.linalg.norm(grids.coords - mol.atom_coords()[site], axis=1)).sum()\n",
    "        q += thisq\n",
    "        print ('Per-site E_NE', site, thisq)\n",
    "    print  ('Total E_NE', q)\n",
    "    return mol\n",
    "m = test_case_pyscf()"
   ]
  },
  {
   "cell_type": "code",
   "execution_count": 6,
   "metadata": {},
   "outputs": [
    {
     "data": {
      "text/plain": [
       "array([6, 8], dtype=int32)"
      ]
     },
     "execution_count": 6,
     "metadata": {},
     "output_type": "execute_result"
    }
   ],
   "source": [
    "m.atom_charges()"
   ]
  },
  {
   "cell_type": "code",
   "execution_count": 7,
   "metadata": {},
   "outputs": [
    {
     "data": {
      "text/plain": [
       "0.18521202373450002"
      ]
     },
     "execution_count": 7,
     "metadata": {},
     "output_type": "execute_result"
    }
   ],
   "source": [
    "0.05*7/(1/0.52917721067)"
   ]
  },
  {
   "cell_type": "code",
   "execution_count": 8,
   "metadata": {},
   "outputs": [
    {
     "data": {
      "text/plain": [
       "-109.9577309209275"
      ]
     },
     "execution_count": 8,
     "metadata": {},
     "output_type": "execute_result"
    }
   ],
   "source": [
    "-110.142942944662+0.18521202373450002"
   ]
  },
  {
   "cell_type": "code",
   "execution_count": 19,
   "metadata": {},
   "outputs": [
    {
     "name": "stdout",
     "output_type": "stream",
     "text": [
      "converged SCF energy = -108.835236570774\n",
      "E(CCSD) = -109.0418571090569  E_corr = -0.2066205382824786\n",
      "converged SCF energy = -108.835236570774\n",
      "-109.04185710905692\n"
     ]
    }
   ],
   "source": [
    "import pyscf\n",
    "import pyscf.gto\n",
    "import pyscf.qmmm\n",
    "import pyscf.scf\n",
    "method=\"HF\"\n",
    "\n",
    "mol = pyscf.gto.M(atom='N 0 0 0.; N 0 0 1.', basis='631G')\n",
    "deltaZ = np.array((0.00, 0.0))\n",
    "includeonly = [0, 1]\n",
    "\n",
    "if method == 'HF':\n",
    "        calc = pyscf.scf.RHF(mol)\n",
    "\n",
    "\n",
    "mf = pyscf.qmmm.mm_charge(calc, mol.atom_coords()*(1 / 0.52917721067), deltaZ)\n",
    "class NoSelfQMMM(mf.__class__):\n",
    "        def energy_nuc(self):\n",
    "                return self.mol.energy_nuc()\n",
    "mf = NoSelfQMMM()\n",
    "mf.kernel()\n",
    "mycc = pyscf.cc.CCSD(mf).run()\n",
    "print (mycc.energy() + mf.kernel() +deltaZ[0]*7/(1/0.52917721067) + deltaZ[1]*7/(1/0.52917721067))\n",
    "dm1 = mycc.make_rdm1()\n",
    "dm1_ao = np.einsum('pi,ij,qj->pq', mf.mo_coeff, dm1, mf.mo_coeff.conj())"
   ]
  },
  {
   "cell_type": "code",
   "execution_count": 22,
   "metadata": {},
   "outputs": [
    {
     "data": {
      "text/plain": [
       "(36, 36)"
      ]
     },
     "execution_count": 22,
     "metadata": {},
     "output_type": "execute_result"
    }
   ],
   "source": [
    "pyscf.gto.getints('int1e_rinv', mol._atm, mol._bas, mol._env).shape"
   ]
  },
  {
   "cell_type": "code",
   "execution_count": 23,
   "metadata": {},
   "outputs": [
    {
     "data": {
      "text/plain": [
       "(18, 18)"
      ]
     },
     "execution_count": 23,
     "metadata": {},
     "output_type": "execute_result"
    }
   ],
   "source": [
    "dm1_ao.shape"
   ]
  },
  {
   "cell_type": "code",
   "execution_count": 29,
   "metadata": {},
   "outputs": [
    {
     "data": {
      "text/plain": [
       "21.97177729114415"
      ]
     },
     "execution_count": 29,
     "metadata": {},
     "output_type": "execute_result"
    }
   ],
   "source": [
    "mol.set_rinv_orig_(mol.atom_coords()[1])\n",
    "np.matmul(mol.intor('int1e_rinv'), dm1_ao).trace()"
   ]
  },
  {
   "cell_type": "code",
   "execution_count": null,
   "metadata": {},
   "outputs": [],
   "source": []
  }
 ],
 "metadata": {
  "kernelspec": {
   "display_name": "Python [conda env:analysis]",
   "language": "python",
   "name": "conda-env-analysis-py"
  },
  "language_info": {
   "codemirror_mode": {
    "name": "ipython",
    "version": 3
   },
   "file_extension": ".py",
   "mimetype": "text/x-python",
   "name": "python",
   "nbconvert_exporter": "python",
   "pygments_lexer": "ipython3",
   "version": "3.6.8"
  }
 },
 "nbformat": 4,
 "nbformat_minor": 2
}
