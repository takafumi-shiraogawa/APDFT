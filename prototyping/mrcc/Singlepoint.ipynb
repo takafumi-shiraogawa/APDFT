{
 "cells": [
  {
   "cell_type": "code",
   "execution_count": 12,
   "metadata": {},
   "outputs": [],
   "source": [
    "import sys\n",
    "sys.path.append('../../src/')\n",
    "import apdft\n",
    "import numpy as np\n",
    "import tempfile\n",
    "import shutil\n",
    "import subprocess\n",
    "coordinates = np.array([[0.,0.,0.], [1., 0., 0.]])"
   ]
  },
  {
   "cell_type": "code",
   "execution_count": 21,
   "metadata": {},
   "outputs": [
    {
     "name": "stdout",
     "output_type": "stream",
     "text": [
      "/tmp/tmphjainwrz\n",
      "[' **********************************************************************\\n', '                          MRCC program system\\n', ' **********************************************************************\\n', '\\n', '                              Written by\\n', ' Mihaly Kallay, Peter R. Nagy, Zoltan Rolik, David Mester, Gyula Samu,\\n', '   Jozsef Csontos, Jozsef Csoka, Bernat P. Szabo, Laszlo Gyevi-Nagy,\\n', '    Istvan Ladjanszki, Lorant Szegedy, Bence Ladoczki, Klara Petrov,\\n', '              Mate Farkas, Pal D. Mezei, and Bence Hegely\\n', '\\n', '        Department of Physical Chemistry and Materials Science\\n', '            Budapest University of Technology and Economics\\n', '                  Budapest P.O.Box 91, H-1521 Hungary\\n', '\\n', '                              www.mrcc.hu\\n', '\\n', '                     Release date: January 5, 2019\\n', '\\n', ' ************************ 2019-05-22 17:13:37 *************************\\n', ' Executing minp...\\n', '\\n', ' Reading input from MINP...\\n', '\\n', ' Input file:\\n', '\\n', 'calc=ccsd\\n', 'mem=5GB\\n', 'core=frozen\\n', 'basis=STO-3G\\n', 'grdens=on\\n', 'rgrid=Log3\\n', 'grtol=10\\n', 'agrid=LD0770\\n', 'unit=angs\\n', 'geom=xyz\\n', '2\\n', '\\n', '7 0.000000 0.000000 0.000000\\n', '7 1.000000 0.000000 0.000000\\n', 'qmmm=Amber\\n', 'pointcharges\\n', '2\\n', '0.000000 0.000000 0.000000 0.000000\\n', '1.000000 0.000000 0.000000 0.000000\\n', '\\n', ' Checking keyword combinations...\\n', '\\n', ' Keywords:\\n', '\\n', ' active=none\\n', ' agrid=ld0770\\n', ' basis=sto-3g\\n', ' basis_sm=none\\n', ' basopt=off\\n', ' bfbasis=none\\n', ' bpcompo=0.985\\n', ' bpcompv=0.98\\n', ' bpdfo=0.985\\n', ' bpocc=0.985\\n', ' bppdo=0.985\\n', ' bppdv=0.98\\n', ' bpedo=0.985\\n', ' bpedv=0.98\\n', ' calc=ccsd\\n', ' ccmaxit=50\\n', ' ccsdalg=disk\\n', ' ccprog=mrcc\\n', ' cctol=8\\n', ' charge=0\\n', ' cialg=disk\\n', ' ciguess=off\\n', ' cmpgrp=auto\\n', ' core=frozen\\n', ' corembed=off\\n', ' dboc=off\\n', ' dendec=cholesky\\n', ' dens=1\\n', ' dfalg=invsqrt\\n', ' dfbasis_cor=none\\n', ' dfbasis_scf=none\\n', ' dfintran=ovirt\\n', ' dft=off\\n', ' diag=david\\n', ' docc=\\n', ' domrad=10.d0\\n', ' drpaalg=fit\\n', ' dual=off\\n', ' ecp=auto\\n', ' edisp=off\\n', ' embed=off\\n', ' epert=none\\n', ' eps=0.975\\n', ' excrad=0.d0\\n', ' excrad_fin=0.000000000D+00\\n', ' freq=off\\n', ' gauss=spher\\n', ' geom=xyz\\n', ' gopt=off\\n', ' ghost=none\\n', ' gtol=7\\n', ' grdens=on\\n', ' grtol=10\\n', ' hamilton=dc\\n', ' iface=none\\n', ' intalg=auto\\n', ' itol=12\\n', ' laptol=1.d-2\\n', ' lccoporder=trffirst\\n', ' lcorthr=normal\\n', ' lccrest=off\\n', ' lmp2dens=on\\n', ' lnoepso=0.d0\\n', ' lnoepsv=1e-6\\n', ' localcc=off\\n', ' localcorrsymm=off\\n', ' locintrf=disk\\n', ' mact=\\n', ' maxact=off\\n', ' maxdim=100\\n', ' maxex=0\\n', ' mcscfiguess=hf\\n', ' mem=5gb\\n', ' molden=on\\n', ' mulmet=0\\n', ' mult=\\n', ' nacto=0\\n', ' nactv=0\\n', ' naf_cor=off\\n', ' naf_scf=off\\n', ' nafalg=albe\\n', ' naftyp=\\n', ' nchol=auto\\n', ' ndeps=1e-3\\n', ' nstate=1\\n', ' nsing=0\\n', ' ntrip=0\\n', ' occ=\\n', ' optalg=\\n', ' optmaxit=50\\n', ' optetol=1e-6\\n', ' optgtol=1e-4\\n', ' optstol=1e-3\\n', ' orblocc=off\\n', ' orbloco=off\\n', ' orblocv=off\\n', ' orblocguess=cholesky\\n', ' osveps=1e-3\\n', ' ovirt=off\\n', ' ovltol=1e-7\\n', ' ovosnorb=80.0\\n', ' ptfreq=0.0\\n', ' popul=mulli\\n', ' pressure=100000\\n', ' qscf=off\\n', ' qmmm=amber\\n', ' redcost_exc=off\\n', ' redcost_tddft=off\\n', ' refdet=none\\n', ' rest=0\\n', ' rgrid=log3\\n', ' rohftype=standard\\n', ' scfalg=auto\\n', ' scfdamp=off\\n', ' scfdiis=on\\n', ' scfdiis_end=50\\n', ' scfdiis_start=1\\n', ' scfdiis_step=1\\n', ' scfdtol=9\\n', ' scfext=10\\n', ' scfiguess=sad\\n', ' scflshift=off\\n', ' scfmaxit=50\\n', ' scftype=\\n', ' scftol=8\\n', ' scspe=1.d0\\n', ' scsps=1.2d0\\n', ' scspt=0.33333333333333\\n', ' scspv=1.d0\\n', ' spairtol=1e-4\\n', ' symm=\\n', ' talg=occ\\n', ' temp=298.15\\n', ' test=off\\n', ' tprint=off\\n', ' uncontract=off\\n', ' unit=angs\\n', ' usedisk=2\\n', ' verbosity=2\\n', ' wpairtol=0.100000000E-05\\n', '\\n', ' ************************ 2019-05-22 17:13:37 *************************\\n', ' Executing integ...\\n', '\\n', ' Allocation of 5120.0 Mbytes of memory...\\n', '\\n', '\\n', ' Number of atoms:              2\\n', ' Charge:                       0\\n', ' Number of electrons:         14\\n', ' Number of core electrons:     4\\n', ' Spin multiplicity:            1\\n', ' Number of point charges:      2\\n', '\\n', '                 Cartesian coordinates [bohr]      Atomic mass [AMU]  Z\\n', '   1  N     0.00000000    0.00000000    0.00000000    14.003074       7\\n', '   2  N     1.88972613    0.00000000    0.00000000    14.003074       7\\n', '\\n', ' Nuclear repulsion energy [au]:                     25.929683322830\\n', ' Nuclear repulsion with point charges [au]:         25.929683322830\\n', ' Self energy of the point charges [au]:              0.000000000000\\n', '\\n', '\\n', ' Basis set information:\\n', '\\n', ' Maximum angular momentum: p\\n', ' Maximum number of contracted Gaussians:    2\\n', ' Maximum number of primitive Gaussians:     6\\n', ' Spherical harmonic GTOs are used.\\n', '\\n', '    1  N  sto-3g [ 6s 3p | 2s 1p ]\\n', '    2  N  sto-3g [ 6s 3p | 2s 1p ]\\n', '\\n', ' Total number of basis functions:     10\\n', '\\n', '\\n', ' Generating initial guess for the SCF calculation...\\n', ' CPU time [min]:     0.003                   Wall time [min]:     0.019\\n', '\\n', ' Character table for point group C1:\\n', '\\n', '          E  \\n', '    A     1\\n', '\\n', ' Number of basis functions per irrep:\\n', '    A      10\\n', '\\n', '\\n', ' Constructing integration grid for DFT...\\n', ' Angular integration grid: 770-point Lebedev quadrature\\n', ' Radial integration grid: Log3 quadrature\\n', ' Total number of grid points: 57982       \\n', ' CPU time [min]:     0.004                   Wall time [min]:     0.021\\n', '\\n', ' Calculation of overlap integrals...\\n', ' CPU time [min]:     0.004                   Wall time [min]:     0.021\\n', '\\n', ' Calculation of the square root of the overlap matrix...\\n', ' Minimum eigenvalue of the overlap matrix: 0.108993E+00\\n', ' CPU time [min]:     0.004                   Wall time [min]:     0.021\\n', '\\n', ' Calculation of kinetic energy integrals...\\n', ' CPU time [min]:     0.004                   Wall time [min]:     0.021\\n', ' Calculation of dipole moment integrals...\\n', ' CPU time [min]:     0.004                   Wall time [min]:     0.021\\n', ' Calculation of second moment integrals...\\n', ' CPU time [min]:     0.004                   Wall time [min]:     0.021\\n', ' Calculation of third moment integrals...\\n', ' CPU time [min]:     0.004                   Wall time [min]:     0.021\\n', ' Calculation of nuclear attraction integrals...\\n', ' CPU time [min]:     0.004                   Wall time [min]:     0.021\\n', '\\n', ' Calculation of prescreening integrals...\\n', ' CPU time [min]:     0.004                   Wall time [min]:     0.021\\n', '\\n', ' Calculation of two-electron integrals...\\n', '   8% done.\\n', '  26% done.\\n', ' 100% done.\\n', ' CPU time [min]:     0.004                   Wall time [min]:     0.022\\n', '\\n', ' ************************ 2019-05-22 17:13:39 *************************\\n', ' Executing scf...\\n', '\\n', ' Allocation of 5120.0 Mbytes of memory...\\n', ' ======================================================================\\n', ' ITERATION STEP   1\\n', ' CPU time [min]:     0.001                   Wall time [min]:     0.001\\n', '\\n', ' Calculating the exchange-correlation matrix...\\n', ' CPU time [min]:     0.003                   Wall time [min]:     0.003\\n', '\\n', ' ALPHA OCC:   7\\n', ' BETA  OCC:   7\\n', ' ***HARTREE-FOCK ENERGY IN STEP   1 IS    -107.3487560096809261 [AU]\\n', ' ======================================================================\\n', ' ITERATION STEP   2\\n', ' CPU time [min]:     0.003                   Wall time [min]:     0.004\\n', '\\n', ' Calculating the exchange-correlation matrix...\\n', ' CPU time [min]:     0.005                   Wall time [min]:     0.006\\n', '\\n', ' ALPHA OCC:   7\\n', ' BETA  OCC:   7\\n', ' ***HARTREE-FOCK ENERGY IN STEP   2 IS    -107.4191589634484245 [AU]\\n', ' ======================================================================\\n', ' ITERATION STEP   3\\n', ' CPU time [min]:     0.005                   Wall time [min]:     0.007\\n', '\\n', ' Calculating the exchange-correlation matrix...\\n', ' CPU time [min]:     0.007                   Wall time [min]:     0.008\\n', '\\n', ' ALPHA OCC:   7\\n', ' BETA  OCC:   7\\n', ' ***HARTREE-FOCK ENERGY IN STEP   3 IS    -107.4195223115580688 [AU]\\n', ' ======================================================================\\n', ' ITERATION STEP   4\\n', ' CPU time [min]:     0.007                   Wall time [min]:     0.009\\n', '\\n', ' Calculating the exchange-correlation matrix...\\n', ' CPU time [min]:     0.009                   Wall time [min]:     0.011\\n', '\\n', ' ALPHA OCC:   7\\n', ' BETA  OCC:   7\\n', ' ***HARTREE-FOCK ENERGY IN STEP   4 IS    -107.4195321968642247 [AU]\\n', ' ======================================================================\\n', ' ITERATION STEP   5\\n', ' CPU time [min]:     0.009                   Wall time [min]:     0.012\\n', '\\n', ' Calculating the exchange-correlation matrix...\\n', ' CPU time [min]:     0.011                   Wall time [min]:     0.014\\n', '\\n', ' ALPHA OCC:   7\\n', ' BETA  OCC:   7\\n', ' ***HARTREE-FOCK ENERGY IN STEP   5 IS    -107.4195324462049541 [AU]\\n', ' ======================================================================\\n', ' ITERATION STEP   6\\n', ' CPU time [min]:     0.011                   Wall time [min]:     0.015\\n', '\\n', ' Calculating the exchange-correlation matrix...\\n', ' CPU time [min]:     0.014                   Wall time [min]:     0.017\\n', '\\n', ' ALPHA OCC:   7\\n', ' BETA  OCC:   7\\n', ' ***HARTREE-FOCK ENERGY IN STEP   6 IS    -107.4195324462050110 [AU]\\n', ' ======================================================================\\n', '\\n', ' SUCCESS...\\n', ' THE SCF ITERATION HAS CONVERGED!\\n', '\\n', '                   A   \\n', ' FINAL ALPHA OCC:   7\\n', ' FINAL BETA  OCC:   7\\n', '\\n', ' ***FINAL HARTREE-FOCK ENERGY:   -107.4195324462050110 [AU]\\n', '\\n', ' RETURNING FROM SCF ALGORITHM\\n', ' ======================================================================\\n', '\\n', ' ************************ 2019-05-22 17:13:40 *************************\\n', ' Executing ovirt...\\n', '\\n', ' ovirt, the routine of orbital optimization and        integral transformation \\n', 'Wed May 22 17:13:40 DST 2019\\n', '  Virtual orbitals will be optimized for a molecular domain\\n', ' Allocated memory:                   5120  Mb\\n', '\\n', ' Fatal error in ovirt.\\n', ' Program will stop.\\n', '\\n', ' ************************ 2019-05-22 17:13:40 *************************\\n', '                   Error at the termination of mrcc.\\n', ' **********************************************************************\\n']\n"
     ]
    }
   ],
   "source": [
    "def density(dZ1, dZ2):\n",
    "    nuclear_numbers = [7, 7]\n",
    "    nuclear_charges = [7+dZ1, 7+dZ2]\n",
    "    c = apdft.Calculator.MrccCalculator('CCSD', 'STO-3G')\n",
    "    minp = c.get_input(coordinates, nuclear_numbers, nuclear_charges, None, False)\n",
    "    tmpdir = tempfile.mkdtemp()\n",
    "    print (tmpdir)\n",
    "    with open('%s/MINP' % tmpdir, 'w') as fh:\n",
    "        fh.write(minp)\n",
    "    subprocess.call('dmrcc > run.log', cwd=tmpdir, env={'PATH': '/mnt/c/Users/guido/opt/mrccmod:/usr/bin:/bin'}, shell=True)\n",
    "    with open('%s/run.log' % tmpdir, 'r') as fh:\n",
    "        print (fh.readlines())\n",
    "    #shutil.rmtree(tmpdir)\n",
    "density(0., 0.)"
   ]
  },
  {
   "cell_type": "code",
   "execution_count": 8,
   "metadata": {},
   "outputs": [],
   "source": [
    "import tempfile"
   ]
  },
  {
   "cell_type": "code",
   "execution_count": 15,
   "metadata": {},
   "outputs": [
    {
     "name": "stdout",
     "output_type": "stream",
     "text": [
      "Help on class Popen in module subprocess:\n",
      "\n",
      "class Popen(builtins.object)\n",
      " |  Execute a child program in a new process.\n",
      " |  \n",
      " |  For a complete description of the arguments see the Python documentation.\n",
      " |  \n",
      " |  Arguments:\n",
      " |    args: A string, or a sequence of program arguments.\n",
      " |  \n",
      " |    bufsize: supplied as the buffering argument to the open() function when\n",
      " |        creating the stdin/stdout/stderr pipe file objects\n",
      " |  \n",
      " |    executable: A replacement program to execute.\n",
      " |  \n",
      " |    stdin, stdout and stderr: These specify the executed programs' standard\n",
      " |        input, standard output and standard error file handles, respectively.\n",
      " |  \n",
      " |    preexec_fn: (POSIX only) An object to be called in the child process\n",
      " |        just before the child is executed.\n",
      " |  \n",
      " |    close_fds: Controls closing or inheriting of file descriptors.\n",
      " |  \n",
      " |    shell: If true, the command will be executed through the shell.\n",
      " |  \n",
      " |    cwd: Sets the current directory before the child is executed.\n",
      " |  \n",
      " |    env: Defines the environment variables for the new process.\n",
      " |  \n",
      " |    universal_newlines: If true, use universal line endings for file\n",
      " |        objects stdin, stdout and stderr.\n",
      " |  \n",
      " |    startupinfo and creationflags (Windows only)\n",
      " |  \n",
      " |    restore_signals (POSIX only)\n",
      " |  \n",
      " |    start_new_session (POSIX only)\n",
      " |  \n",
      " |    pass_fds (POSIX only)\n",
      " |  \n",
      " |    encoding and errors: Text mode encoding and error handling to use for\n",
      " |        file objects stdin, stdout and stderr.\n",
      " |  \n",
      " |  Attributes:\n",
      " |      stdin, stdout, stderr, pid, returncode\n",
      " |  \n",
      " |  Methods defined here:\n",
      " |  \n",
      " |  __del__(self, _maxsize=9223372036854775807, _warn=<built-in function warn>)\n",
      " |  \n",
      " |  __enter__(self)\n",
      " |  \n",
      " |  __exit__(self, type, value, traceback)\n",
      " |  \n",
      " |  __init__(self, args, bufsize=-1, executable=None, stdin=None, stdout=None, stderr=None, preexec_fn=None, close_fds=<object object at 0x7fcda267b150>, shell=False, cwd=None, env=None, universal_newlines=False, startupinfo=None, creationflags=0, restore_signals=True, start_new_session=False, pass_fds=(), *, encoding=None, errors=None)\n",
      " |      Create new Popen instance.\n",
      " |  \n",
      " |  communicate(self, input=None, timeout=None)\n",
      " |      Interact with process: Send data to stdin.  Read data from\n",
      " |      stdout and stderr, until end-of-file is reached.  Wait for\n",
      " |      process to terminate.\n",
      " |      \n",
      " |      The optional \"input\" argument should be data to be sent to the\n",
      " |      child process (if self.universal_newlines is True, this should\n",
      " |      be a string; if it is False, \"input\" should be bytes), or\n",
      " |      None, if no data should be sent to the child.\n",
      " |      \n",
      " |      communicate() returns a tuple (stdout, stderr).  These will be\n",
      " |      bytes or, if self.universal_newlines was True, a string.\n",
      " |  \n",
      " |  kill(self)\n",
      " |      Kill the process with SIGKILL\n",
      " |  \n",
      " |  poll(self)\n",
      " |      Check if child process has terminated. Set and return returncode\n",
      " |      attribute.\n",
      " |  \n",
      " |  send_signal(self, sig)\n",
      " |      Send a signal to the process.\n",
      " |  \n",
      " |  terminate(self)\n",
      " |      Terminate the process with SIGTERM\n",
      " |  \n",
      " |  wait(self, timeout=None, endtime=None)\n",
      " |      Wait for child process to terminate.  Returns returncode\n",
      " |      attribute.\n",
      " |  \n",
      " |  ----------------------------------------------------------------------\n",
      " |  Data descriptors defined here:\n",
      " |  \n",
      " |  __dict__\n",
      " |      dictionary for instance variables (if defined)\n",
      " |  \n",
      " |  __weakref__\n",
      " |      list of weak references to the object (if defined)\n",
      "\n"
     ]
    }
   ],
   "source": [
    "help(subprocess.Popen)"
   ]
  },
  {
   "cell_type": "code",
   "execution_count": null,
   "metadata": {},
   "outputs": [],
   "source": []
  }
 ],
 "metadata": {
  "kernelspec": {
   "display_name": "Python [conda env:analysis]",
   "language": "python",
   "name": "conda-env-analysis-py"
  },
  "language_info": {
   "codemirror_mode": {
    "name": "ipython",
    "version": 3
   },
   "file_extension": ".py",
   "mimetype": "text/x-python",
   "name": "python",
   "nbconvert_exporter": "python",
   "pygments_lexer": "ipython3",
   "version": "3.6.8"
  }
 },
 "nbformat": 4,
 "nbformat_minor": 2
}
