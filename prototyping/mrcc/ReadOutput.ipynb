{
 "cells": [
  {
   "cell_type": "code",
   "execution_count": 3,
   "metadata": {},
   "outputs": [],
   "source": [
    "import numpy as np\n",
    "import sys\n",
    "sys.path.append('../../dep/orbkit/orbkit')\n",
    "import orbkit\n",
    "import matplotlib.pyplot as plt\n",
    "import scipy.io"
   ]
  },
  {
   "cell_type": "code",
   "execution_count": 8,
   "metadata": {},
   "outputs": [
    {
     "name": "stdout",
     "output_type": "stream",
     "text": [
      "Opened \n",
      "\t/mnt/c/Users/guido/workcopies/apdft/apdft-run/order-0/site-all-cc/MOLDEN\n",
      "\n",
      "Loading molden file...\n"
     ]
    }
   ],
   "source": [
    "qc = orbkit.read.main_read('/mnt/c/Users/guido/workcopies/apdft/apdft-run/order-0/site-all-cc/MOLDEN', itype='molden')"
   ]
  },
  {
   "cell_type": "code",
   "execution_count": 32,
   "metadata": {},
   "outputs": [],
   "source": [
    "zs = np.linspace(-1, 2, 100)\n",
    "xs = zs * 0.\n",
    "ys = zs * 0.\n",
    "grid = np.vstack((xs, ys, zs)).T"
   ]
  },
  {
   "cell_type": "code",
   "execution_count": 35,
   "metadata": {},
   "outputs": [
    {
     "name": "stdout",
     "output_type": "stream",
     "text": [
      "Opened \n",
      "\t/mnt/c/Users/guido/workcopies/apdft/apdft-run/order-0/site-all-cc/MOLDEN.wfn\n",
      "\n",
      "Loading wfn file...\n",
      "\n",
      "Starting the calculation of the density...\n",
      "The grid has been separated into 1 slices each having 1.00e+04 grid points.\n",
      "The calculation will be carried out using only one process.\n",
      "\n",
      "\tThe number of subprocesses can be changed with -p\n",
      "\n",
      "\n",
      "There are 102 contracted Cartesian AOs and 7 MOs to be calculated.\n"
     ]
    }
   ],
   "source": [
    "orbkit.grid.x = grid[:, 0]*1.88973\n",
    "orbkit.grid.y = grid[:, 1]*1.88973\n",
    "orbkit.grid.z = grid[:, 2]*1.88973\n",
    "orbkit.grid.is_initialized = True\n",
    "qc = orbkit.read.main_read('/mnt/c/Users/guido/workcopies/apdft/apdft-run/order-0/site-all-cc/MOLDEN.wfn', itype='wfn')\n",
    "rho = orbkit.core.rho_compute(qc, numproc=1)"
   ]
  },
  {
   "cell_type": "code",
   "execution_count": 36,
   "metadata": {},
   "outputs": [
    {
     "data": {
      "text/plain": [
       "[<matplotlib.lines.Line2D at 0x7f9f6dbeb4a8>]"
      ]
     },
     "execution_count": 36,
     "metadata": {},
     "output_type": "execute_result"
    },
    {
     "data": {
      "image/png": "[encoded data removed]",
      "text/plain": [
       "<Figure size 432x288 with 1 Axes>"
      ]
     },
     "metadata": {
      "needs_background": "light"
     },
     "output_type": "display_data"
    }
   ],
   "source": [
    "plt.plot(zs, rho)"
   ]
  },
  {
   "cell_type": "code",
   "execution_count": 31,
   "metadata": {},
   "outputs": [
    {
     "data": {
      "text/plain": [
       "[<matplotlib.lines.Line2D at 0x7f9f6dc97240>]"
      ]
     },
     "execution_count": 31,
     "metadata": {},
     "output_type": "execute_result"
    },
    {
     "data": {
      "image/png": "[encoded data removed]",
      "text/plain": [
       "<Figure size 432x288 with 1 Axes>"
      ]
     },
     "metadata": {
      "needs_background": "light"
     },
     "output_type": "display_data"
    }
   ],
   "source": [
    "plt.plot(zs, rho)"
   ]
  },
  {
   "cell_type": "code",
   "execution_count": 110,
   "metadata": {},
   "outputs": [
    {
     "data": {
      "text/plain": [
       "array([-1.23317021e+01, -4.28288152e+00, -1.93735506e+00,  1.13595254e+01,\n",
       "        8.26287569e-33,  8.53194883e-32,  2.96320212e-32,  1.44506130e-32,\n",
       "        9.92400040e-31])"
      ]
     },
     "execution_count": 110,
     "metadata": {},
     "output_type": "execute_result"
    }
   ],
   "source": [
    "fh = scipy.io.FortranFile('/mnt/c/Users/guido/workcopies/apdft/apdft-run/order-0/site-all-cc/DENSITY', 'r')\n",
    "ngrid = fh.read_ints()[0]\n",
    "fh.read_reals()\n",
    "#for i in range(ngrid):\n",
    "#    _ = fh.read_reals()"
   ]
  },
  {
   "cell_type": "code",
   "execution_count": 111,
   "metadata": {},
   "outputs": [
    {
     "data": {
      "text/plain": [
       "array([-1.20796760e+01, -3.75823928e+00, -1.86851315e+00,  2.14167224e+00,\n",
       "        7.13787215e-31,  7.21387545e-30,  2.24438719e-30,  1.21042959e-30,\n",
       "        8.02827270e-29])"
      ]
     },
     "execution_count": 111,
     "metadata": {},
     "output_type": "execute_result"
    }
   ],
   "source": [
    "fh.read_reals()"
   ]
  },
  {
   "cell_type": "code",
   "execution_count": 5,
   "metadata": {},
   "outputs": [],
   "source": [
    "with open('/mnt/c/Users/guido/workcopies/apdft/apdft-run/order-0/site-all-cc/DENSITY', 'r') as fh:\n",
    "    _ = np.fromfile(fh, 'i4')\n",
    "    q = _[3:-1].view(np.float64)\n",
    "    ccdensity = q.reshape((-1, 10))[:, 1:]"
   ]
  },
  {
   "cell_type": "code",
   "execution_count": 128,
   "metadata": {},
   "outputs": [
    {
     "name": "stdout",
     "output_type": "stream",
     "text": [
      "0 [1.2303756e-309]\n",
      "1 [2.8647e-319]\n",
      "2 [1.69759663e-313]\n",
      "3 [1.52783697e-312]\n",
      "4 [-7.03817925e+140]\n",
      "5 [-12.33170215]\n",
      "6 [-7.90289394e-71]\n",
      "7 [-4.28288152]\n",
      "8 [5.9050552e-285]\n",
      "9 [-1.93735506]\n"
     ]
    }
   ],
   "source": [
    "#_[:1].view(np.int32)\n",
    "for start in range(10):\n",
    "    print (start, _[start:start+2].view(np.float64))"
   ]
  },
  {
   "cell_type": "code",
   "execution_count": 141,
   "metadata": {},
   "outputs": [
    {
     "data": {
      "text/plain": [
       "array([-1.23317021e+001, -4.28288152e+000, -1.93735506e+000,\n",
       "        1.13595254e+001,  8.26287569e-033,  8.53194883e-032,\n",
       "        2.96320212e-032,  1.44506130e-032,  9.92400040e-031,\n",
       "        1.52783697e-312, -1.20796760e+001, -3.75823928e+000])"
      ]
     },
     "execution_count": 141,
     "metadata": {},
     "output_type": "execute_result"
    }
   ],
   "source": [
    "_[5:5+2*12].view(np.float64)"
   ]
  },
  {
   "cell_type": "code",
   "execution_count": 155,
   "metadata": {},
   "outputs": [
    {
     "data": {
      "text/plain": [
       "579819"
      ]
     },
     "execution_count": 155,
     "metadata": {},
     "output_type": "execute_result"
    }
   ],
   "source": [
    "len(_[5:-1].view(np.float64))"
   ]
  },
  {
   "cell_type": "code",
   "execution_count": 153,
   "metadata": {},
   "outputs": [
    {
     "data": {
      "text/plain": [
       "579819.5"
      ]
     },
     "execution_count": 153,
     "metadata": {},
     "output_type": "execute_result"
    }
   ],
   "source": [
    "(len(_)-5)/2"
   ]
  },
  {
   "cell_type": "code",
   "execution_count": 157,
   "metadata": {},
   "outputs": [
    {
     "data": {
      "text/plain": [
       "579820"
      ]
     },
     "execution_count": 157,
     "metadata": {},
     "output_type": "execute_result"
    }
   ],
   "source": [
    "ngrid*10"
   ]
  },
  {
   "cell_type": "code",
   "execution_count": 162,
   "metadata": {},
   "outputs": [],
   "source": []
  },
  {
   "cell_type": "code",
   "execution_count": 176,
   "metadata": {},
   "outputs": [
    {
     "data": {
      "text/plain": [
       "0.9448630627289141"
      ]
     },
     "execution_count": 176,
     "metadata": {},
     "output_type": "execute_result"
    }
   ],
   "source": [
    "np.average(ccdensity[:, 2])"
   ]
  },
  {
   "cell_type": "code",
   "execution_count": 178,
   "metadata": {},
   "outputs": [
    {
     "data": {
      "text/plain": [
       "13.999998681580916"
      ]
     },
     "execution_count": 178,
     "metadata": {},
     "output_type": "execute_result"
    }
   ],
   "source": [
    "np.sum(ccdensity[:, 3] * ccdensity[:, 4])"
   ]
  },
  {
   "cell_type": "code",
   "execution_count": 4,
   "metadata": {},
   "outputs": [],
   "source": [
    "with open('/mnt/c/Users/guido/workcopies/apdft/apdft-run/order-1/site-0-dn/DENSITY', 'r') as fh:\n",
    "    _ = np.fromfile(fh, 'i4')\n",
    "    q = _[3:-1].view(np.float64)\n",
    "    ccdensity2 = q.reshape((-1, 10))[:, 1:]"
   ]
  },
  {
   "cell_type": "code",
   "execution_count": 8,
   "metadata": {},
   "outputs": [
    {
     "data": {
      "text/plain": [
       "0.0"
      ]
     },
     "execution_count": 8,
     "metadata": {},
     "output_type": "execute_result"
    }
   ],
   "source": [
    "np.linalg.norm(ccdensity[:, :3] - ccdensity2[:, :3])"
   ]
  },
  {
   "cell_type": "code",
   "execution_count": null,
   "metadata": {},
   "outputs": [],
   "source": []
  }
 ],
 "metadata": {
  "kernelspec": {
   "display_name": "Python 2",
   "language": "python",
   "name": "python2"
  },
  "language_info": {
   "codemirror_mode": {
    "name": "ipython",
    "version": 2
   },
   "file_extension": ".py",
   "mimetype": "text/x-python",
   "name": "python",
   "nbconvert_exporter": "python",
   "pygments_lexer": "ipython2",
   "version": "2.7.15rc1"
  }
 },
 "nbformat": 4,
 "nbformat_minor": 2
}
