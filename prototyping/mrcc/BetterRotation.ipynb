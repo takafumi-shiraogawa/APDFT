{
 "cells": [
  {
   "cell_type": "code",
   "execution_count": 1,
   "metadata": {},
   "outputs": [
    {
     "name": "stdout",
     "output_type": "stream",
     "text": [
      "The history saving thread hit an unexpected error (DatabaseError('database disk image is malformed',)).History will not be written to the database.\n"
     ]
    }
   ],
   "source": [
    "import numpy as np\n",
    "import pandas as pd\n",
    "import qml\n",
    "import scipy.spatial as scs\n",
    "import glob\n",
    "import scipy.interpolate as sci\n",
    "import functools\n",
    "import matplotlib.pyplot as plt\n",
    "%load_ext line_profiler\n",
    "c = qml.Compound('../../test/c20.xyz')\n",
    "from pymatgen.symmetry import analyzer as psa\n",
    "from pymatgen.core import Molecule"
   ]
  },
  {
   "cell_type": "code",
   "execution_count": 2,
   "metadata": {},
   "outputs": [],
   "source": [
    "def build_cache():\n",
    "    mol = Molecule(c.nuclear_charges, c.coordinates)\n",
    "    a = psa.PointGroupAnalyzer(mol)\n",
    "    cache = []\n",
    "    for symop in a.get_symmetry_operations():\n",
    "        newcoord = symop.operate_multi(c.coordinates)\n",
    "        ds = scs.distance.cdist(c.coordinates, newcoord)\n",
    "        f, t = np.where(np.round(ds, 2) == 0.)\n",
    "        cache.append(t)\n",
    "    return cache\n",
    "def get_rotation_single(origin, target):\n",
    "    return ROTCACHE[ROTCACHE[:, target] == origin][0]\n",
    "def get_rotation_pair(origin1, origin2, target1, target2):\n",
    "    return ROTCACHE[(ROTCACHE[:, target1] == origin1) & (ROTCACHE[:, target2] == origin2)][0]"
   ]
  },
  {
   "cell_type": "code",
   "execution_count": 3,
   "metadata": {},
   "outputs": [],
   "source": [
    "def get_nucnuc(zs):\n",
    "    ds = scs.distance.squareform(scs.distance.pdist(c.coordinates))*1.8897259885789\n",
    "    q = np.outer(zs, zs)/ds\n",
    "    np.fill_diagonal(q, 0)\n",
    "    return q.sum()/2\n",
    "def coefficient_matrix(coords=None):\n",
    "    if coords is None:\n",
    "        coords = c.coordinates\n",
    "    result = np.zeros((20, 13))\n",
    "    lastgrid = None\n",
    "    lastweights = None\n",
    "    for fidx, fn in enumerate(FNS):\n",
    "        _, a, b = read_DENSITY_cached(fn)\n",
    "        if lastgrid is not None:\n",
    "            assert np.allclose(_, lastgrid)\n",
    "            assert np.allclose(a, lastweights)\n",
    "        lastgrid = _\n",
    "        lastweights=a\n",
    "        for j in range(20):\n",
    "            ds = 1/(np.linalg.norm(_*1.8897259885789 - coords[j]*1.8897259885789, axis=1))/1.8897259885789\n",
    "            #ds = get_grid_ds(j)/1.8897259885789\n",
    "            result[j, fidx] = (a*b*ds).sum()\n",
    "    return result\n",
    "FNS = '''c20-data/derivatives/order-0/site-all-cc/DENSITY\n",
    "c20-data/derivatives/order-1/site-0-dn/DENSITY\n",
    "c20-data/derivatives/order-1/site-0-up/DENSITY\n",
    "c20-data/derivatives/order-2/site-0-1-dn/DENSITY\n",
    "c20-data/derivatives/order-2/site-0-1-up/DENSITY\n",
    "c20-data/derivatives/order-2/site-0-10-dn/DENSITY\n",
    "c20-data/derivatives/order-2/site-0-10-up/DENSITY\n",
    "c20-data/derivatives/order-2/site-0-16-dn/DENSITY\n",
    "c20-data/derivatives/order-2/site-0-16-up/DENSITY\n",
    "c20-data/derivatives/order-2/site-0-2-dn/DENSITY\n",
    "c20-data/derivatives/order-2/site-0-2-up/DENSITY\n",
    "c20-data/derivatives/order-2/site-0-8-dn/DENSITY\n",
    "c20-data/derivatives/order-2/site-0-8-up/DENSITY'''.split('\\n')\n",
    "def symbolic_read_density(fn):\n",
    "    return FNS.index(fn)\n",
    "@functools.lru_cache(maxsize=20*20)\n",
    "def symbolic_get_deriv(i, j):\n",
    "    \"\"\" Returns \n",
    "    t_i : atom index of i after rotation\n",
    "    t_j : atom index of j after rotation\n",
    "    deriv_pair : the density to be integrated after pairwise rotation\n",
    "    deriv_single : density to be integrated after single rotation \"\"\"\n",
    "    \n",
    "    if i != j:\n",
    "        d = np.linalg.norm(c.coordinates[i] - c.coordinates[j])\n",
    "        geo = np.argmin(np.abs(np.array(sorted(set(np.round(scs.distance.pdist(c.coordinates), 2)))) - d))\n",
    "        sites = (0, (1, 2, 8, 10, 16)[geo])\n",
    "        i, j = sites\n",
    "    delta = 0.05\n",
    "    deriv_single = np.zeros(13)\n",
    "    deriv_pair = np.zeros(13)\n",
    "    \n",
    "    mid = symbolic_read_density('c20-data/derivatives/order-0/site-all-cc/DENSITY')\n",
    "    iup = symbolic_read_density('c20-data/derivatives/order-1/site-0-up/DENSITY')\n",
    "    idn = symbolic_read_density('c20-data/derivatives/order-1/site-0-dn/DENSITY')\n",
    "    if i == j:\n",
    "        deriv_single[iup] = 1/(delta**2)\n",
    "        deriv_single[idn] = 1/(delta**2)\n",
    "        deriv_single[mid] = -2/(delta**2)\n",
    "    else:\n",
    "        jup = iup\n",
    "        jdn = idn\n",
    "        up = symbolic_read_density('c20-data/derivatives/order-2/site-0-%d-up/DENSITY' % j)\n",
    "        dn = symbolic_read_density('c20-data/derivatives/order-2/site-0-%d-dn/DENSITY' % j)\n",
    "        \n",
    "        deriv_pair[up] = 1/ (2 * delta**2)\n",
    "        deriv_pair[dn] = 1/ (2 * delta**2)\n",
    "        deriv_pair[mid] = 2/ (2 * delta**2)\n",
    "        deriv_pair[iup] = -1/ (2 * delta**2)\n",
    "        deriv_pair[idn] = -1/ (2 * delta**2)\n",
    "        \n",
    "        deriv_single[jup] = -1/ (2 * delta**2)\n",
    "        deriv_single[jdn] = -1/ (2 * delta**2)\n",
    "    \n",
    "    return i, j, deriv_pair/6, deriv_single/6\n",
    "def symbolic_read_grid_first_order():\n",
    "    changed_site = 0\n",
    "    delta = 0.05\n",
    "    \n",
    "    up = symbolic_read_density('c20-data/derivatives/order-1/site-0-up/DENSITY')\n",
    "    dn = symbolic_read_density('c20-data/derivatives/order-1/site-0-dn/DENSITY')\n",
    "    deriv_single = np.zeros(13)\n",
    "    deriv_single[up] = 1/(2*delta)\n",
    "    deriv_single[dn] = -1/(2*delta)\n",
    "    \n",
    "    return changed_site, deriv_single/2\n",
    "def read_grid_first_order():\n",
    "    changed_site = 0\n",
    "    delta = 0.1\n",
    "    \n",
    "    upgrid, upweight, updens = read_DENSITY_cached('c20-data/derivatives/order-1/site-0-up/DENSITY')\n",
    "    dngrid, dnweight, dndens = read_DENSITY_cached('c20-data/derivatives/order-1/site-0-dn/DENSITY')\n",
    "    \n",
    "    if not np.allclose(upgrid, dngrid):\n",
    "        raise ValueError('Grid?')\n",
    "        \n",
    "    if not np.allclose(upweight, dnweight):\n",
    "        raise ValueError('Grid?')\n",
    "    \n",
    "    return changed_site, upgrid, ((updens - dndens) / delta)*upweight\n",
    "def read_DENSITY(fn):\n",
    "    with open(fn, 'r') as fh:\n",
    "        _ = np.fromfile(fh, 'i4')\n",
    "        q = _[3:-1].view(np.float64)\n",
    "        ccdensity = q.reshape((-1, 10))\n",
    "    ccdensity = ccdensity[:, 1:6]\n",
    "    return ccdensity[:, :3]/1.8897259885789, ccdensity[:, 3], ccdensity[:, 4]\n",
    "def read_CCSD():\n",
    "    res = []\n",
    "    atomE = {'5': -24.561351362788, '6': -37.714812342283, '7': -54.418867578066}\n",
    "    for fn in glob.glob('validation/CCSD/*/run.log'):\n",
    "        with open(fn) as fh:\n",
    "            lines = fh.readlines()[::-1]\n",
    "            for line in lines:\n",
    "                if line.startswith(' Total CCSD energy [au]:'):\n",
    "                    energy = float(line.strip().split()[-1])\n",
    "                    target = fn.split('/')[-2]\n",
    "                    atomisation = energy - sum([atomE[_] for _ in target])\n",
    "                    res.append({'target': target, 'CCSD': energy, 'CCSDatom': atomisation})\n",
    "                    break\n",
    "    return pd.DataFrame(res)\n",
    "df_ccsd = read_CCSD()"
   ]
  },
  {
   "cell_type": "code",
   "execution_count": 4,
   "metadata": {},
   "outputs": [],
   "source": [
    "@functools.lru_cache(maxsize=20*20*20*20)\n",
    "def build_reindexing_2_cached(a, b, c, d):\n",
    "    return build_reindexing_2_merged(a, b, c,d)\n",
    "@functools.lru_cache(maxsize=20*20*20*20)\n",
    "def build_reindexing_1_cached(a, b):\n",
    "    return build_reindexing_1_merged(a, b)\n",
    "@functools.lru_cache(200)\n",
    "def read_DENSITY_cached(fn):\n",
    "    return read_DENSITY(fn)\n",
    "@functools.lru_cache(30)\n",
    "def get_grid_ds(j):\n",
    "    return 1/(np.linalg.norm(grid_points*1.8897259885789 - c.coordinates[j]*1.8897259885789, axis=1))\n",
    "@functools.lru_cache(maxsize=20*20)\n",
    "def get_deriv_cached(i, j):\n",
    "    return get_deriv(i, j)\n",
    "changed_site, grid_points, grid_densweight = read_grid_first_order()\n",
    "ROTCACHE = np.array(build_cache())\n",
    "def symmetrize_coefficients(mat):\n",
    "    def get_partial_nn(zs):\n",
    "        ds = scs.distance.squareform(scs.distance.pdist(c.coordinates))\n",
    "        q = np.outer(zs, zs)/ds\n",
    "        np.fill_diagonal(q, 0)\n",
    "        return q.sum(axis=0)\n",
    "    def partial_update(mat, zs, fidx):\n",
    "        vals = np.round(get_partial_nn(zs), 2)\n",
    "        unique = set(vals)\n",
    "        for u in unique:\n",
    "            selection = np.where(vals==u)[0]\n",
    "            #print (mat[selection, fidx].std() / mat[selection, fidx].mean())\n",
    "            mat[selection, fidx] = mat[selection, fidx].mean()\n",
    "        return mat\n",
    "    mat = mat.copy()\n",
    "    FNS = '''c20-data/derivatives/order-0/site-all-cc/DENSITY\n",
    "c20-data/derivatives/order-1/site-0-dn/DENSITY\n",
    "c20-data/derivatives/order-1/site-0-up/DENSITY\n",
    "c20-data/derivatives/order-2/site-0-1-dn/DENSITY\n",
    "c20-data/derivatives/order-2/site-0-1-up/DENSITY\n",
    "c20-data/derivatives/order-2/site-0-10-dn/DENSITY\n",
    "c20-data/derivatives/order-2/site-0-10-up/DENSITY\n",
    "c20-data/derivatives/order-2/site-0-16-dn/DENSITY\n",
    "c20-data/derivatives/order-2/site-0-16-up/DENSITY\n",
    "c20-data/derivatives/order-2/site-0-2-dn/DENSITY\n",
    "c20-data/derivatives/order-2/site-0-2-up/DENSITY\n",
    "c20-data/derivatives/order-2/site-0-8-dn/DENSITY\n",
    "c20-data/derivatives/order-2/site-0-8-up/DENSITY'''.split('\\n')\n",
    "    #mat = partial_update(mat, [6, 6, 6, 6, 6, 6, 6, 6, 6, 6, 6, 6, 6, 6, 6, 6, 6, 6, 6, 6], 0)\n",
    "    mat = partial_update(mat, [5, 6, 6, 6, 6, 6, 6, 6, 6, 6, 6, 6, 6, 6, 6, 6, 6, 6, 6, 6], 1)\n",
    "    mat = partial_update(mat, [7, 6, 6, 6, 6, 6, 6, 6, 6, 6, 6, 6, 6, 6, 6, 6, 6, 6, 6, 6], 2)\n",
    "    mat = partial_update(mat, [5, 5, 6, 6, 6, 6, 6, 6, 6, 6, 6, 6, 6, 6, 6, 6, 6, 6, 6, 6], 3)\n",
    "    mat = partial_update(mat, [7, 7, 6, 6, 6, 6, 6, 6, 6, 6, 6, 6, 6, 6, 6, 6, 6, 6, 6, 6], 4)\n",
    "    mat = partial_update(mat, [5, 6, 6, 6, 6, 6, 6, 6, 6, 6, 5, 6, 6, 6, 6, 6, 6, 6, 6, 6], 5)\n",
    "    mat = partial_update(mat, [7, 6, 6, 6, 6, 6, 6, 6, 6, 6, 7, 6, 6, 6, 6, 6, 6, 6, 6, 6], 6)\n",
    "    mat = partial_update(mat, [5, 6, 6, 6, 6, 6, 6, 6, 6, 6, 6, 6, 6, 6, 6, 6, 5, 6, 6, 6], 7)\n",
    "    mat = partial_update(mat, [7, 6, 6, 6, 6, 6, 6, 6, 6, 6, 6, 6, 6, 6, 6, 6, 7, 6, 6, 6], 8)\n",
    "    mat = partial_update(mat, [5, 6, 5, 6, 6, 6, 6, 6, 6, 6, 6, 6, 6, 6, 6, 6, 6, 6, 6, 6], 9)\n",
    "    mat = partial_update(mat, [7, 6, 7, 6, 6, 6, 6, 6, 6, 6, 6, 6, 6, 6, 6, 6, 6, 6, 6, 6], 10)\n",
    "    mat = partial_update(mat, [5, 6, 6, 6, 6, 6, 6, 6, 5, 6, 6, 6, 6, 6, 6, 6, 6, 6, 6, 6], 11)\n",
    "    mat = partial_update(mat, [7, 6, 6, 6, 6, 6, 6, 6, 7, 6, 6, 6, 6, 6, 6, 6, 6, 6, 6, 6], 12)\n",
    "    return mat\n",
    "#COEFFMAT = symmetrize_coefficients(coefficient_matrix())\n",
    "COEFFMAT = coefficient_matrix()"
   ]
  },
  {
   "cell_type": "code",
   "execution_count": 5,
   "metadata": {},
   "outputs": [
    {
     "name": "stdout",
     "output_type": "stream",
     "text": [
      "{'ref': -758.072029908548, 'deltaNN': -0.35417018326938887, 'order0': 0.011611533543252506, 'order1': -0.8534594398587103, 'prediction': -759.2680479981328, 'target': '75666666666666666666'}\n",
      "{'ref': -758.072029908548, 'deltaNN': -0.35417327457912506, 'order0': -0.011611533543252506, 'order1': -0.8534594398587103, 'prediction': -759.2912741565291, 'target': '57666666666666666666'}\n"
     ]
    },
    {
     "name": "stderr",
     "output_type": "stream",
     "text": [
      "/home/guido/miniconda3/envs/analysis/lib/python3.6/site-packages/ipykernel_launcher.py:3: RuntimeWarning: divide by zero encountered in true_divide\n",
      "  This is separate from the ipykernel package so we can avoid doing imports until\n"
     ]
    }
   ],
   "source": [
    "def symbolic_get_predictions(comb):\n",
    "    result = {}\n",
    "    result['ref'] = -758.072029908548\n",
    "    \n",
    "    deltaZ = np.array(comb) - 6\n",
    "        \n",
    "    zs = np.array([int(_) for _ in comb])\n",
    "    zsref = np.zeros(20) + 6\n",
    "    result['deltaNN'] = get_nucnuc(zs) - get_nucnuc(zsref)\n",
    "    \n",
    "    # collect terms to evaluate, shape (density x atoms)\n",
    "    coefficients = np.zeros((20, 13))\n",
    "    \n",
    "    # 0-th order, no rotation necessary, should be hard zero, might not be due to asymmetry\n",
    "    zero_coefficients = np.zeros(13)\n",
    "    zero_coefficients[0] = 1\n",
    "    result['order0'] = np.multiply(np.outer(deltaZ, zero_coefficients), COEFFMAT).sum()\n",
    "    \n",
    "    # 1st order\n",
    "    changed_site, this_coefficients = symbolic_read_grid_first_order()\n",
    "    for idx in range(20):\n",
    "        if deltaZ[idx] != 0:\n",
    "            mapping = get_rotation_single(idx, changed_site)\n",
    "            \n",
    "            #assert (deltaZ[mapping][0] == deltaZ[idx])\n",
    "            assert (mapping[0] == idx)\n",
    "            assert abs(get_nucnuc(zs) - get_nucnuc(zs[mapping])) < 1e-3\n",
    "            \n",
    "            coefficients -= deltaZ[idx] * np.outer(deltaZ[mapping], this_coefficients)\n",
    "    \n",
    "    result['order1'] = np.multiply(coefficients,COEFFMAT).sum()\n",
    "    \n",
    "    result['prediction'] = result['ref'] + result['order0'] + result['order1']  + result['deltaNN']\n",
    "    result['target'] = ''.join([str(_) for _ in comb])\n",
    "    return result\n",
    "\n",
    "    # debug\n",
    "    debugp = []\n",
    "    debugs = []\n",
    "    \n",
    "    # 2nd order\n",
    "    coefficients = np.zeros((20, 13))\n",
    "    outercache = np.zeros(coefficients.shape)\n",
    "    del idx\n",
    "    for idx_i in range(20):\n",
    "        if deltaZ[idx_i] != 0:\n",
    "            for idx_j in range(idx_i, 20):\n",
    "                if deltaZ[idx_j] != 0:\n",
    "                    # t_i: target for idx_i after rotation\n",
    "                    # deriv_pair: part of derivative after pair-mapping\n",
    "                    # deriv_single: part of derivative after single-mapping\n",
    "                    t_i, t_j, deriv_pair, deriv_single = symbolic_get_deriv(idx_i, idx_j)\n",
    "                    if idx_i != idx_j:\n",
    "                        assert (t_j != 0)\n",
    "\n",
    "                    # pairwise mapping\n",
    "                    if idx_i != idx_j:\n",
    "                        mapping = get_rotation_pair(idx_i, idx_j, t_i, t_j)\n",
    "\n",
    "                        assert (mapping[t_i] == idx_i)\n",
    "                        assert (mapping[t_j] == idx_j)\n",
    "                        assert abs(get_nucnuc(zs) - get_nucnuc(zs[mapping])) < 1e-3\n",
    "                        \n",
    "                        np.outer(deltaZ[mapping], deriv_pair, out=outercache)\n",
    "                        change = -(deltaZ[idx_i] * deltaZ[idx_j]) * outercache\n",
    "                        debugp.append(np.multiply(change, COEFFMAT).sum())\n",
    "                        #print (idx_i, idx_j, np.multiply(change, COEFFMAT).sum())\n",
    "                        coefficients += change*2\n",
    "\n",
    "                    # single mapping\n",
    "                    mapping = get_rotation_single(idx_j, 0)\n",
    "                    assert (deltaZ[mapping][0] != 0)\n",
    "                    assert abs(get_nucnuc(zs) - get_nucnuc(zs[mapping])) < 1e-3\n",
    "                    np.outer(deltaZ[mapping], deriv_single, out=outercache)\n",
    "                    change = -(deltaZ[idx_i] * deltaZ[idx_j]) * outercache\n",
    "                    if idx_i != idx_j:\n",
    "                        debugs.append ( np.multiply(change, COEFFMAT).sum())\n",
    "                        #print (debugs[-1], debugp[-1])\n",
    "                    coefficients += change \n",
    "    \n",
    "    #result['order2'] = np.multiply(coefficients,COEFFMAT).sum()\n",
    "    \n",
    "    result['prediction'] = result['ref'] + result['order0'] + result['order1'] + result['order2']  + result['deltaNN']\n",
    "    result['target'] = ''.join([str(_) for _ in comb])\n",
    "    return result\n",
    "print (symbolic_get_predictions([int(_) for _ in '75666666666666666666']))\n",
    "print (symbolic_get_predictions([int(_) for _ in '57666666666666666666']))\n",
    "#print(symbolic_get_predictions([int(_) for _ in '55555555775777777577']))"
   ]
  },
  {
   "cell_type": "code",
   "execution_count": 7,
   "metadata": {},
   "outputs": [],
   "source": [
    "def get_predictions_old():\n",
    "    ret = []\n",
    "    for val in df_ccsd.target.values[::1]:\n",
    "        try:\n",
    "            q = symbolic_get_predictions([int(_) for _ in val])\n",
    "        except:\n",
    "            print (val)\n",
    "            raise\n",
    "        q['bnpairs'] = len([_ for _ in val if _ =='5'])\n",
    "        ret.append(q)\n",
    "    def atomisation(row):\n",
    "        atomE = {'5': -23.624308208720, '6': -37.714812342283, '7': -52.831420359950}\n",
    "        a = sum([atomE[_] for _ in row['target']])\n",
    "        return a\n",
    "    df = pd.DataFrame(ret)\n",
    "    df['atomisation'] = df.apply(atomisation, axis=1)\n",
    "    q = pd.merge(df, df_ccsd, how='inner')\n",
    "    return q"
   ]
  },
  {
   "cell_type": "code",
   "execution_count": 8,
   "metadata": {},
   "outputs": [
    {
     "name": "stderr",
     "output_type": "stream",
     "text": [
      "/home/guido/miniconda3/envs/analysis/lib/python3.6/site-packages/ipykernel_launcher.py:3: RuntimeWarning: divide by zero encountered in true_divide\n",
      "  This is separate from the ipykernel package so we can avoid doing imports until\n"
     ]
    },
    {
     "name": "stdout",
     "output_type": "stream",
     "text": [
      "CPU times: user 2.09 s, sys: 0 ns, total: 2.09 s\n",
      "Wall time: 2.15 s\n"
     ]
    }
   ],
   "source": [
    "%time predictions = get_predictions_old()"
   ]
  },
  {
   "cell_type": "code",
   "execution_count": 24,
   "metadata": {},
   "outputs": [
    {
     "data": {
      "text/plain": [
       "<matplotlib.legend.Legend at 0x7fa29f102438>"
      ]
     },
     "execution_count": 24,
     "metadata": {},
     "output_type": "execute_result"
    },
    {
     "data": {
      "image/png": "[encoded data removed]",
      "text/plain": [
       "<Figure size 432x288 with 1 Axes>"
      ]
     },
     "metadata": {
      "needs_background": "light"
     },
     "output_type": "display_data"
    }
   ],
   "source": [
    "predictions['error'] = abs(predictions.ref + predictions.deltaNN + predictions.order0 - predictions.atomisation - predictions.CCSDatom)\n",
    "q = predictions.groupby('bnpairs').mean().reset_index()\n",
    "plt.plot(q.bnpairs, q.error, 'o-', label='order 0')\n",
    "\n",
    "predictions['error'] = abs(predictions.ref + predictions.deltaNN + predictions.order0+ predictions.order1 - predictions.atomisation - predictions.CCSDatom)\n",
    "q = predictions.groupby('bnpairs').mean().reset_index()\n",
    "plt.plot(q.bnpairs, q.error, 'o-', label='order 1')\n",
    "\n",
    "#predictions['error'] = abs(predictions.ref + predictions.deltaNN + predictions.order0 + predictions.order1 + predictions.order2 - predictions.atomisation - predictions.CCSDatom)\n",
    "#q = predictions.groupby('bnpairs').mean().reset_index()\n",
    "#plt.plot(q.bnpairs, q.error, 'o-', label='order 2')\n",
    "\n",
    "plt.ylim(0, 10)\n",
    "plt.legend()"
   ]
  },
  {
   "cell_type": "code",
   "execution_count": 272,
   "metadata": {},
   "outputs": [
    {
     "data": {
      "image/png": "[encoded data removed]",
      "text/plain": [
       "<Figure size 432x288 with 1 Axes>"
      ]
     },
     "metadata": {
      "needs_background": "light"
     },
     "output_type": "display_data"
    }
   ],
   "source": [
    "#predictions_old = get_predictions_old()\n",
    "#predictions_new = predictions\n",
    "\n",
    "for predictions in (predictions_old,):\n",
    "\n",
    "    predictions['error'] = abs(predictions.ref + predictions.deltaNN + predictions.order0 - predictions.atomisation - predictions.CCSDatom)\n",
    "    q = predictions.groupby('bnpairs').mean().reset_index()\n",
    "    plt.plot(q.bnpairs, q.error, 'o-', label='order 0')\n",
    "\n",
    "    predictions['error'] = abs(predictions.ref + predictions.deltaNN + predictions.order0+ predictions.order1 - predictions.atomisation - predictions.CCSDatom)\n",
    "    q = predictions.groupby('bnpairs').mean().reset_index()\n",
    "    plt.plot(q.bnpairs, q.error, 'o-', label='order 1')\n",
    "\n",
    "    predictions['error'] = abs(predictions.ref + predictions.deltaNN + predictions.order0 + predictions.order1*0.4 + predictions.order2*0.001 - predictions.atomisation - predictions.CCSDatom)\n",
    "    q = predictions.groupby('bnpairs').mean().reset_index()\n",
    "    plt.plot(q.bnpairs, q.error, 'o-', label='order 2')\n",
    "\n",
    "    plt.ylim(0, 4)\n",
    "    plt.legend()\n",
    "    #plt.show()\n",
    "\n",
    "\n",
    "#symbolic_get_deriv(19, 10)\n",
    "#1/(0.05**2)/6\n",
    "#list(enumerate(FNS))"
   ]
  },
  {
   "cell_type": "markdown",
   "metadata": {},
   "source": [
    "0-up\n",
    "-2mid\n",
    "0-dn\n",
    "\n",
    "08\n",
    "pair:\n",
    "0  1  2 3 4 5 6 7 8 9 0 1 2\n",
    "2 -1 -1                 1 1\n",
    "single\n",
    "0 -1 -1 0 0 0 0 0 0 0 0 0 0"
   ]
  },
  {
   "cell_type": "code",
   "execution_count": 79,
   "metadata": {},
   "outputs": [
    {
     "name": "stdout",
     "output_type": "stream",
     "text": [
      "######## Mapping 0 and 1\n",
      "After pair rotation: 0 -> 0\n",
      "After pair rotation: 1 -> 1\n",
      "NN 1381.052475014788 1381.052475014788\n",
      "Pair mapping:\n",
      " 0 -> 0\n",
      " 1 -> 1\n",
      " 2 -> 2\n",
      " 3 -> 3\n",
      " 4 -> 4\n",
      " 5 -> 5\n",
      " 6 -> 6\n",
      " 7 -> 7\n",
      " 8 -> 8\n",
      " 9 -> 9\n",
      " 10 -> 10\n",
      " 11 -> 11\n",
      " 12 -> 12\n",
      " 13 -> 13\n",
      " 14 -> 14\n",
      " 15 -> 15\n",
      " 16 -> 16\n",
      " 17 -> 17\n",
      " 18 -> 18\n",
      " 19 -> 19\n",
      "Pair mapping: [0, 1, 2, 3, 4, 5, 6, 7, 8, 9, 10, 11, 12, 13, 14, 15, 16, 17, 18, 19]\n",
      "Pair derivative combination:  [ 66.67 -33.33 -33.33  33.33  33.33   0.     0.     0.     0.     0.\n",
      "   0.     0.     0.  ]\n",
      "Change in Z [-1 -1 -1 -1 -1 -1 -1 -1  1  1 -1  1  1  1  1  1  1 -1  1  1]\n",
      "1outer5 [33.33333333333333, -33.33333333333333]\n",
      "1up5 [-664.0187775722002, 664.0187775722002]\n",
      "(array([ 0.        ,  2.43367093, -2.46172179,  0.        ,  0.        ,\n",
      "        0.        ,  0.        ,  0.        ,  0.        ,  0.        ,\n",
      "        0.        ,  0.        ,  0.        ]), array([ 0.        ,  1.34645788, -1.79975337, -7.25719581,  8.73099224,\n",
      "        0.        ,  0.        ,  0.        ,  0.        ,  0.        ,\n",
      "        0.        ,  0.        ,  0.        ]), 0.992450079303012)\n",
      "######## Mapping 1 and 0\n",
      "After pair rotation: 1 -> 0\n",
      "After pair rotation: 0 -> 1\n",
      "NN 1381.0524979962238 1381.052475014788\n",
      "Pair mapping:\n",
      " 1 -> 0\n",
      " 0 -> 1\n",
      " 5 -> 2\n",
      " 6 -> 3\n",
      " 7 -> 4\n",
      " 2 -> 5\n",
      " 3 -> 6\n",
      " 4 -> 7\n",
      " 13 -> 8\n",
      " 14 -> 9\n",
      " 18 -> 10\n",
      " 19 -> 11\n",
      " 15 -> 12\n",
      " 8 -> 13\n",
      " 9 -> 14\n",
      " 12 -> 15\n",
      " 17 -> 16\n",
      " 16 -> 17\n",
      " 10 -> 18\n",
      " 11 -> 19\n",
      "Pair mapping: [1, 0, 5, 6, 7, 2, 3, 4, 13, 14, 18, 19, 15, 8, 9, 12, 17, 16, 10, 11]\n",
      "Pair derivative combination:  [ 66.67 -33.33 -33.33  33.33  33.33   0.     0.     0.     0.     0.\n",
      "   0.     0.     0.  ]\n",
      "Change in Z [-1 -1 -1 -1 -1 -1 -1 -1  1  1  1  1  1  1  1  1 -1  1 -1  1]\n",
      "1outer5 [-33.33333333333333, 33.33333333333333]\n",
      "1up5 [664.0187775722002, -664.0187775722002]\n",
      "(array([ 0.        ,  1.34645788, -1.79975337,  0.        ,  0.        ,\n",
      "        0.        ,  0.        ,  0.        ,  0.        ,  0.        ,\n",
      "        0.        ,  0.        ,  0.        ]), array([ 0.        ,  2.43367093, -2.46172179, -7.25719581,  8.73099224,\n",
      "        0.        ,  0.        ,  0.        ,  0.        ,  0.        ,\n",
      "        0.        ,  0.        ,  0.        ]), 0.9924500793026709)\n"
     ]
    },
    {
     "name": "stderr",
     "output_type": "stream",
     "text": [
      "/home/guido/miniconda3/envs/analysis/lib/python3.6/site-packages/ipykernel_launcher.py:3: RuntimeWarning: divide by zero encountered in true_divide\n",
      "  This is separate from the ipykernel package so we can avoid doing imports until\n"
     ]
    }
   ],
   "source": [
    "# test symmetry\n",
    "def test_symmetry():\n",
    "    def do_loop(idx_i, idx_j):\n",
    "        print ('######## Mapping %d and %d' % (idx_i, idx_j))\n",
    "        t_i, t_j, deriv_pair, deriv_single = symbolic_get_deriv(idx_i, idx_j)\n",
    "        print ('After pair rotation: %d -> %d' % (idx_i, t_i))\n",
    "        print ('After pair rotation: %d -> %d' % (idx_j, t_j))\n",
    "        \n",
    "        # pairwise mapping\n",
    "        cp = 0.\n",
    "        if idx_i != idx_j:\n",
    "            mapping = get_rotation_pair(idx_i, idx_j, t_i, t_j)\n",
    "            print ('NN', get_nucnuc(np.array(comb)[mapping]), get_nucnuc(np.array(comb)))\n",
    "            print ('Pair mapping:')\n",
    "            for f, t in zip(mapping, range(20)):\n",
    "                print (' %d -> %d' % (f, t))\n",
    "            print ('Pair mapping:', list(mapping))\n",
    "\n",
    "            print ('Pair derivative combination: ', np.round(deriv_pair, 2))\n",
    "            print ('Change in Z', deltaZ[mapping])\n",
    "            outercache = np.outer(deltaZ[mapping], deriv_pair)\n",
    "            print ('1outer5', list(outercache[[18, 10], 4]))\n",
    "            change = -(deltaZ[idx_i] * deltaZ[idx_j]) * outercache\n",
    "            print ('1up5', list(np.multiply(change, COEFFMAT)[[18,10], 4]))\n",
    "            cp = np.multiply(change, COEFFMAT).sum(axis=0)\n",
    "\n",
    "        # single mapping\n",
    "        mapping = get_rotation_single(idx_j, 0)\n",
    "        outercache = np.outer(deltaZ[mapping], deriv_single)\n",
    "        change = -(deltaZ[idx_i] * deltaZ[idx_j]) * outercache\n",
    "        cs = np.multiply(change, COEFFMAT).sum(axis=0)\n",
    "        \n",
    "        return cs, cp, cs.sum() + cp.sum()\n",
    "    \n",
    "    comb = [int(_) for _ in '55555555775777777577']\n",
    "    deltaZ = np.array(comb) - 6\n",
    "    \n",
    "    print (do_loop(0, 1))\n",
    "    print (do_loop(1, 0))\n",
    "test_symmetry()"
   ]
  },
  {
   "cell_type": "code",
   "execution_count": 374,
   "metadata": {},
   "outputs": [],
   "source": [
    "mol = Molecule(c.nuclear_charges, c.coordinates)\n",
    "a = psa.PointGroupAnalyzer(mol)\n",
    "mol2 = a.symmetrize_molecule()['sym_mol']"
   ]
  },
  {
   "cell_type": "code",
   "execution_count": 401,
   "metadata": {},
   "outputs": [],
   "source": [
    "fwd = np.array([667.08267279153, 667.3409121393335, 665.0338120609457, 665.1726486145393, 663.8493364307346, 662.7079814892338, 664.3397718415877, 665.6376567869784, -662.1457555460362, -665.3019547998745, 662.3313687611204, -664.3399583981189, -665.3136088268443, -662.1081187250829, -665.3014439165112, -663.6217352784826, -665.8011725831825, 666.0756341557446, -664.8083974223536, -665.1990133871308])"
   ]
  },
  {
   "cell_type": "code",
   "execution_count": 402,
   "metadata": {},
   "outputs": [],
   "source": [
    "bwd = np.array([667.08267279153, 667.3409121393335, 665.0338120609457, 665.1726486145393, 663.8493364307346, 662.7079814892338, 664.3397718415877, 665.6376567869784, -662.1457555460362, -665.3019547998745, -662.3313687611204, -664.3399583981189, -665.3136088268443, -662.1081187250829, -665.3014439165112, -663.6217352784826, 665.8011725831825, -666.0756341557446, 664.8083974223536, -665.1990133871308])"
   ]
  },
  {
   "cell_type": "code",
   "execution_count": 409,
   "metadata": {},
   "outputs": [
    {
     "data": {
      "text/plain": [
       "array([ 0.26, -0.26, -2.33, -0.83,  1.79,  2.33,  0.83, -1.79,  0.04,\n",
       "        0.  , -2.48, -0.86,  1.69, -0.04, -0.  , -1.69,  0.27,  0.27,\n",
       "       -2.48,  0.86])"
      ]
     },
     "execution_count": 409,
     "metadata": {},
     "output_type": "execute_result"
    }
   ],
   "source": [
    "np.round(fwd[[1, 0, 5, 6, 7, 2, 3, 4, 13, 14, 18, 19, 15, 8, 9, 12, 17, 16, 10, 11]] - bwd, 2)"
   ]
  },
  {
   "cell_type": "code",
   "execution_count": 411,
   "metadata": {},
   "outputs": [
    {
     "data": {
      "text/plain": [
       "-4.419999999999999"
      ]
     },
     "execution_count": 411,
     "metadata": {},
     "output_type": "execute_result"
    }
   ],
   "source": [
    "0.26, -0.26, \n",
    "-2.33, 2.33, \n",
    " -1.79,  1.79, \n",
    "-0.83, 0.83, \n",
    "0.04, -0.04,\n",
    " 1.69,-1.69, \n",
    "0.  ,  -0.86,   -0.  ,   0.86\n",
    "\n",
    " 0.27,  0.27,\n",
    "-2.48,-2.48,"
   ]
  },
  {
   "cell_type": "code",
   "execution_count": 443,
   "metadata": {},
   "outputs": [
    {
     "data": {
      "text/plain": [
       "2.4770286612331347"
      ]
     },
     "execution_count": 443,
     "metadata": {},
     "output_type": "execute_result"
    }
   ],
   "source": [
    "bwd[10]+bwd[18]"
   ]
  },
  {
   "cell_type": "code",
   "execution_count": 461,
   "metadata": {},
   "outputs": [
    {
     "name": "stdout",
     "output_type": "stream",
     "text": [
      "0 1 -0.26 0.26 0.0\n",
      "2 5 2.33 -2.33 0.0\n",
      "3 6 0.83 -0.83 0.0\n",
      "4 7 -1.79 1.79 0.0\n",
      "8 13 -0.04 0.04 0.0\n",
      "9 14 -0.0 0.0 0.0\n",
      "12 15 -1.69 1.69 0.0\n",
      "16 17 0.27 0.27 0.54\n",
      "10 18 -2.48 -2.48 -4.96\n",
      "11 19 0.86 -0.86 0.0\n"
     ]
    }
   ],
   "source": [
    "mapping = [1, 0, 5, 6, 7, 2, 3, 4, 13, 14, 18, 19, 15, 8, 9, 12, 17, 16, 10, 11]\n",
    "comb = [int(_) for _ in '55555555775777777577']\n",
    "deltaZ = np.array(comb) - 6\n",
    "for f, t in zip(mapping, range(20)):\n",
    "    if f > t:\n",
    "        continue\n",
    "    #if f == 10 or t == 10:\n",
    "    print (f, t, np.round(fwd[f]- bwd[t], 2), np.round(fwd[t]- bwd[f], 2), np.round(fwd[f]- bwd[t], 2)+ np.round(fwd[t]- bwd[f], 2))\n",
    "    #    print(deltaZ[[f, t]],deltaZ[[t, f]])"
   ]
  },
  {
   "cell_type": "code",
   "execution_count": 168,
   "metadata": {},
   "outputs": [
    {
     "data": {
      "text/plain": [
       "<matplotlib.legend.Legend at 0x7f3344398ef0>"
      ]
     },
     "execution_count": 168,
     "metadata": {},
     "output_type": "execute_result"
    },
    {
     "data": {
      "image/png": "[encoded data removed]",
      "text/plain": [
       "<Figure size 432x288 with 1 Axes>"
      ]
     },
     "metadata": {
      "needs_background": "light"
     },
     "output_type": "display_data"
    }
   ],
   "source": [
    "for diff in (0,):\n",
    "    copy = c.coordinates.copy()\n",
    "    copy[0, 0] += diff\n",
    "    ds = scs.distance.squareform(scs.distance.pdist(c.coordinates))\n",
    "    nval = 0\n",
    "    comat = coefficient_matrix(copy\n",
    "    plt.scatter(ds[:, 0], comat[:, nval], label=diff)\n",
    "plt.legend()"
   ]
  },
  {
   "cell_type": "code",
   "execution_count": 97,
   "metadata": {},
   "outputs": [],
   "source": [
    "def symmetrize_coefficients(mat):\n",
    "    def get_partial_nn(zs):\n",
    "        ds = scs.distance.squareform(scs.distance.pdist(c.coordinates))\n",
    "        q = np.outer(zs, zs)/ds\n",
    "        np.fill_diagonal(q, 0)\n",
    "        return q.sum(axis=0)\n",
    "    def partial_update(mat, zs, fidx):\n",
    "        vals = np.round(get_partial_nn(zs), 2)\n",
    "        unique = set(vals)\n",
    "        for u in unique:\n",
    "            selection = np.where(vals==u)[0]\n",
    "            #print (mat[selection, fidx].std() / mat[selection, fidx].mean())\n",
    "            mat[selection, fidx] = mat[selection, fidx].min()\n",
    "        return mat\n",
    "    mat = mat.copy()\n",
    "    FNS = '''c20-data/derivatives/order-0/site-all-cc/DENSITY\n",
    "c20-data/derivatives/order-1/site-0-dn/DENSITY\n",
    "c20-data/derivatives/order-1/site-0-up/DENSITY\n",
    "c20-data/derivatives/order-2/site-0-1-dn/DENSITY\n",
    "c20-data/derivatives/order-2/site-0-1-up/DENSITY\n",
    "c20-data/derivatives/order-2/site-0-10-dn/DENSITY\n",
    "c20-data/derivatives/order-2/site-0-10-up/DENSITY\n",
    "c20-data/derivatives/order-2/site-0-16-dn/DENSITY\n",
    "c20-data/derivatives/order-2/site-0-16-up/DENSITY\n",
    "c20-data/derivatives/order-2/site-0-2-dn/DENSITY\n",
    "c20-data/derivatives/order-2/site-0-2-up/DENSITY\n",
    "c20-data/derivatives/order-2/site-0-8-dn/DENSITY\n",
    "c20-data/derivatives/order-2/site-0-8-up/DENSITY'''.split('\\n')\n",
    "    #mat = partial_update(mat, [6, 6, 6, 6, 6, 6, 6, 6, 6, 6, 6, 6, 6, 6, 6, 6, 6, 6, 6, 6], 0)\n",
    "    mat[:, 0] = mat[0, 0]\n",
    "    mat = partial_update(mat, [5, 6, 6, 6, 6, 6, 6, 6, 6, 6, 6, 6, 6, 6, 6, 6, 6, 6, 6, 6], 1)\n",
    "    mat = partial_update(mat, [7, 6, 6, 6, 6, 6, 6, 6, 6, 6, 6, 6, 6, 6, 6, 6, 6, 6, 6, 6], 2)\n",
    "    mat = partial_update(mat, [5, 5, 6, 6, 6, 6, 6, 6, 6, 6, 6, 6, 6, 6, 6, 6, 6, 6, 6, 6], 3)\n",
    "    mat = partial_update(mat, [7, 7, 6, 6, 6, 6, 6, 6, 6, 6, 6, 6, 6, 6, 6, 6, 6, 6, 6, 6], 4)\n",
    "    mat = partial_update(mat, [5, 6, 6, 6, 6, 6, 6, 6, 6, 6, 5, 6, 6, 6, 6, 6, 6, 6, 6, 6], 5)\n",
    "    mat = partial_update(mat, [7, 6, 6, 6, 6, 6, 6, 6, 6, 6, 7, 6, 6, 6, 6, 6, 6, 6, 6, 6], 6)\n",
    "    mat = partial_update(mat, [5, 6, 6, 6, 6, 6, 6, 6, 6, 6, 6, 6, 6, 6, 6, 6, 5, 6, 6, 6], 7)\n",
    "    mat = partial_update(mat, [7, 6, 6, 6, 6, 6, 6, 6, 6, 6, 6, 6, 6, 6, 6, 6, 7, 6, 6, 6], 8)\n",
    "    mat = partial_update(mat, [5, 6, 5, 6, 6, 6, 6, 6, 6, 6, 6, 6, 6, 6, 6, 6, 6, 6, 6, 6], 9)\n",
    "    mat = partial_update(mat, [7, 6, 7, 6, 6, 6, 6, 6, 6, 6, 6, 6, 6, 6, 6, 6, 6, 6, 6, 6], 10)\n",
    "    mat = partial_update(mat, [5, 6, 6, 6, 6, 6, 6, 6, 5, 6, 6, 6, 6, 6, 6, 6, 6, 6, 6, 6], 11)\n",
    "    mat = partial_update(mat, [7, 6, 6, 6, 6, 6, 6, 6, 7, 6, 6, 6, 6, 6, 6, 6, 6, 6, 6, 6], 12)\n",
    "    return mat"
   ]
  },
  {
   "cell_type": "code",
   "execution_count": 44,
   "metadata": {},
   "outputs": [],
   "source": [
    "# try rectangular grid remapping\n",
    "grid_x, grid_y, grid_z = np.mgrid[-5:5:20j, -5:5:20j, -5:5:20j]\n",
    "from scipy.interpolate import griddata\n",
    "points, weights, dens = read_DENSITY_cached('c20-data/derivatives/order-2/site-0-1-up/DENSITY')\n",
    "newrho = griddata(points, dens, (grid_x, grid_y, grid_z), method='nearest')\n",
    "newrho *= 120/newrho.sum()"
   ]
  },
  {
   "cell_type": "code",
   "execution_count": 45,
   "metadata": {},
   "outputs": [],
   "source": [
    "coeffs = np.zeros(20)\n",
    "for aidx in range(20):\n",
    "    ds = 1/(np.linalg.norm(np.vstack((grid_x.ravel(), grid_y.ravel(),grid_z.ravel())).T*1.8897259885789 - c.coordinates[aidx]*1.8897259885789, axis=1))\n",
    "    coeffs[aidx] = (newrho.ravel() * ds).sum()"
   ]
  },
  {
   "cell_type": "code",
   "execution_count": 47,
   "metadata": {},
   "outputs": [
    {
     "name": "stdout",
     "output_type": "stream",
     "text": [
      "[1.49412617 1.49412617 3.91167308 4.83509384 3.91167308 3.91167103\n",
      " 4.8350915  3.911672   5.83647242 5.8364726  7.33059843 6.83785346\n",
      " 7.33059878 5.83646985 5.83647033 7.33059914 8.09898463 8.09898498\n",
      " 7.33059892 6.83785368]\n"
     ]
    },
    {
     "data": {
      "image/png": "[encoded data removed]",
      "text/plain": [
       "<Figure size 432x288 with 1 Axes>"
      ]
     },
     "metadata": {
      "needs_background": "light"
     },
     "output_type": "display_data"
    }
   ],
   "source": [
    "ds = scs.distance.squareform(scs.distance.pdist(c.coordinates))\n",
    "plt.scatter(ds[:, 0]+ds[:, 1], coeffs)\n",
    "print (ds[:, 0]+ds[:, 1])"
   ]
  },
  {
   "cell_type": "code",
   "execution_count": 39,
   "metadata": {},
   "outputs": [
    {
     "data": {
      "text/plain": [
       "<matplotlib.collections.PathCollection at 0x7f334326e2e8>"
      ]
     },
     "execution_count": 39,
     "metadata": {},
     "output_type": "execute_result"
    },
    {
     "data": {
      "image/png": "[encoded data removed]",
      "text/plain": [
       "<Figure size 432x288 with 1 Axes>"
      ]
     },
     "metadata": {
      "needs_background": "light"
     },
     "output_type": "display_data"
    }
   ],
   "source": [
    "ds = scs.distance.squareform(scs.distance.pdist(c.coordinates))\n",
    "plt.scatter(ds[:, 0]+ds[:, 1], coeffs)"
   ]
  },
  {
   "cell_type": "code",
   "execution_count": 140,
   "metadata": {},
   "outputs": [
    {
     "data": {
      "image/png": "[encoded data removed]",
      "text/plain": [
       "<Figure size 432x288 with 1 Axes>"
      ]
     },
     "metadata": {
      "needs_background": "light"
     },
     "output_type": "display_data"
    },
    {
     "data": {
      "image/png": "[encoded data removed]",
      "text/plain": [
       "<Figure size 432x288 with 1 Axes>"
      ]
     },
     "metadata": {
      "needs_background": "light"
     },
     "output_type": "display_data"
    },
    {
     "data": {
      "image/png": "[encoded data removed]",
      "text/plain": [
       "<Figure size 432x288 with 1 Axes>"
      ]
     },
     "metadata": {
      "needs_background": "light"
     },
     "output_type": "display_data"
    },
    {
     "data": {
      "image/png": "[encoded data removed]",
      "text/plain": [
       "<Figure size 432x288 with 1 Axes>"
      ]
     },
     "metadata": {
      "needs_background": "light"
     },
     "output_type": "display_data"
    },
    {
     "data": {
      "image/png": "[encoded data removed]",
      "text/plain": [
       "<Figure size 432x288 with 1 Axes>"
      ]
     },
     "metadata": {
      "needs_background": "light"
     },
     "output_type": "display_data"
    }
   ],
   "source": [
    "for pairsite in (1, 2,8,10,16):\n",
    "    points1, weights1, dens1 = read_DENSITY_cached('c20-data/derivatives/order-2/site-0-%d-up/DENSITY' % pairsite)\n",
    "    points2, weights2, dens2 = read_DENSITY_cached('c20-data/derivatives/order-2/site-0-%d-dn/DENSITY' % pairsite)\n",
    "    axis = c.coordinates[pairsite] - c.coordinates[0]\n",
    "    pxs = np.dot(points1, axis)\n",
    "    _ = plt.hist(pxs, weights=(dens1*weights1-dens2*weights2), bins=100, range=(-5, 5))\n",
    "    plt.show()"
   ]
  },
  {
   "cell_type": "code",
   "execution_count": 165,
   "metadata": {},
   "outputs": [
    {
     "data": {
      "text/plain": [
       "2.093887942406835"
      ]
     },
     "execution_count": 165,
     "metadata": {},
     "output_type": "execute_result"
    }
   ],
   "source": [
    "(dens*np.linalg.norm(points - points.mean(axis=0), axis=1)).sum() / np.sum(dens)"
   ]
  },
  {
   "cell_type": "code",
   "execution_count": 163,
   "metadata": {},
   "outputs": [
    {
     "data": {
      "text/plain": [
       "2.0936565688710975"
      ]
     },
     "execution_count": 163,
     "metadata": {},
     "output_type": "execute_result"
    }
   ],
   "source": [
    "np.linalg.norm(c.coordinates - c.coordinates.mean(axis=0), axis=1).mean()"
   ]
  },
  {
   "cell_type": "code",
   "execution_count": 2,
   "metadata": {},
   "outputs": [
    {
     "ename": "NameError",
     "evalue": "name 'np' is not defined",
     "output_type": "error",
     "traceback": [
      "\u001b[0;31m---------------------------------------------------------------------------\u001b[0m",
      "\u001b[0;31mNameError\u001b[0m                                 Traceback (most recent call last)",
      "\u001b[0;32m<ipython-input-2-97b99763e2cf>\u001b[0m in \u001b[0;36m<module>\u001b[0;34m\u001b[0m\n\u001b[1;32m     12\u001b[0m     \u001b[0mq\u001b[0m\u001b[0;34m[\u001b[0m\u001b[0;34m'prediction'\u001b[0m\u001b[0;34m]\u001b[0m \u001b[0;34m=\u001b[0m \u001b[0mq\u001b[0m\u001b[0;34m[\u001b[0m\u001b[0;34m'ref'\u001b[0m\u001b[0;34m]\u001b[0m \u001b[0;34m+\u001b[0m \u001b[0mq\u001b[0m\u001b[0;34m[\u001b[0m\u001b[0;34m'deltaNN'\u001b[0m\u001b[0;34m]\u001b[0m \u001b[0;34m+\u001b[0m \u001b[0mq\u001b[0m\u001b[0;34m[\u001b[0m\u001b[0;34m'order0'\u001b[0m\u001b[0;34m]\u001b[0m \u001b[0;34m+\u001b[0m \u001b[0mq\u001b[0m\u001b[0;34m[\u001b[0m\u001b[0;34m'order1'\u001b[0m\u001b[0;34m]\u001b[0m \u001b[0;34m+\u001b[0m \u001b[0mq\u001b[0m\u001b[0;34m[\u001b[0m\u001b[0;34m'order2'\u001b[0m\u001b[0;34m]\u001b[0m\u001b[0;34m\u001b[0m\u001b[0;34m\u001b[0m\u001b[0m\n\u001b[1;32m     13\u001b[0m     \u001b[0;32mreturn\u001b[0m \u001b[0mq\u001b[0m\u001b[0;34m\u001b[0m\u001b[0;34m\u001b[0m\u001b[0m\n\u001b[0;32m---> 14\u001b[0;31m \u001b[0mrotational_averaged_predictions\u001b[0m\u001b[0;34m(\u001b[0m\u001b[0;34m[\u001b[0m\u001b[0mint\u001b[0m\u001b[0;34m(\u001b[0m\u001b[0m_\u001b[0m\u001b[0;34m)\u001b[0m \u001b[0;32mfor\u001b[0m \u001b[0m_\u001b[0m \u001b[0;32min\u001b[0m \u001b[0;34m'55555555775777777577'\u001b[0m\u001b[0;34m]\u001b[0m\u001b[0;34m)\u001b[0m\u001b[0;34m\u001b[0m\u001b[0;34m\u001b[0m\u001b[0m\n\u001b[0m",
      "\u001b[0;32m<ipython-input-2-97b99763e2cf>\u001b[0m in \u001b[0;36mrotational_averaged_predictions\u001b[0;34m(base)\u001b[0m\n\u001b[1;32m      1\u001b[0m \u001b[0;31m# predict all rotations, then average\u001b[0m\u001b[0;34m\u001b[0m\u001b[0;34m\u001b[0m\u001b[0;34m\u001b[0m\u001b[0m\n\u001b[1;32m      2\u001b[0m \u001b[0;32mdef\u001b[0m \u001b[0mrotational_averaged_predictions\u001b[0m\u001b[0;34m(\u001b[0m\u001b[0mbase\u001b[0m\u001b[0;34m)\u001b[0m\u001b[0;34m:\u001b[0m\u001b[0;34m\u001b[0m\u001b[0;34m\u001b[0m\u001b[0m\n\u001b[0;32m----> 3\u001b[0;31m     \u001b[0mbase\u001b[0m \u001b[0;34m=\u001b[0m \u001b[0mnp\u001b[0m\u001b[0;34m.\u001b[0m\u001b[0marray\u001b[0m\u001b[0;34m(\u001b[0m\u001b[0mbase\u001b[0m\u001b[0;34m)\u001b[0m\u001b[0;34m\u001b[0m\u001b[0;34m\u001b[0m\u001b[0m\n\u001b[0m\u001b[1;32m      4\u001b[0m     \u001b[0mps\u001b[0m \u001b[0;34m=\u001b[0m \u001b[0;34m[\u001b[0m\u001b[0;34m]\u001b[0m\u001b[0;34m\u001b[0m\u001b[0;34m\u001b[0m\u001b[0m\n\u001b[1;32m      5\u001b[0m     \u001b[0;32mfor\u001b[0m \u001b[0mrotation\u001b[0m \u001b[0;32min\u001b[0m \u001b[0mrange\u001b[0m\u001b[0;34m(\u001b[0m\u001b[0;36m120\u001b[0m\u001b[0;34m)\u001b[0m\u001b[0;34m:\u001b[0m\u001b[0;34m\u001b[0m\u001b[0;34m\u001b[0m\u001b[0m\n",
      "\u001b[0;31mNameError\u001b[0m: name 'np' is not defined"
     ]
    }
   ],
   "source": [
    "# predict all rotations, then average\n",
    "def rotational_averaged_predictions(base):\n",
    "    base = np.array(base)\n",
    "    ps = []\n",
    "    for rotation in range(120):\n",
    "        comb = base[ROTCACHE[ rotation, :]]\n",
    "        ps.append(symbolic_get_predictions(comb))\n",
    "    pdf = pd.DataFrame(ps)\n",
    "    return pdf\n",
    "    q = pdf.mean().to_dict()\n",
    "    q['target'] = ''.join([str(int(_)) for _ in base])\n",
    "    q['prediction'] = q['ref'] + q['deltaNN'] + q['order0'] + q['order1'] + q['order2']\n",
    "    return q\n",
    "rotational_averaged_predictions([int(_) for _ in '55555555775777777577'])"
   ]
  },
  {
   "cell_type": "code",
   "execution_count": 1,
   "metadata": {},
   "outputs": [
    {
     "ename": "NameError",
     "evalue": "name 'pdf' is not defined",
     "output_type": "error",
     "traceback": [
      "\u001b[0;31m---------------------------------------------------------------------------\u001b[0m",
      "\u001b[0;31mNameError\u001b[0m                                 Traceback (most recent call last)",
      "\u001b[0;32m<ipython-input-1-044d52b80dc3>\u001b[0m in \u001b[0;36m<module>\u001b[0;34m\u001b[0m\n\u001b[0;32m----> 1\u001b[0;31m \u001b[0mpdf\u001b[0m\u001b[0;34m\u001b[0m\u001b[0;34m\u001b[0m\u001b[0m\n\u001b[0m",
      "\u001b[0;31mNameError\u001b[0m: name 'pdf' is not defined"
     ]
    }
   ],
   "source": [
    "pdf"
   ]
  },
  {
   "cell_type": "code",
   "execution_count": 9,
   "metadata": {},
   "outputs": [],
   "source": [
    "predictions['APDFT0_T'] = predictions.ref + predictions.order0 + predictions.deltaNN\n",
    "predictions['APDFT1_T'] = predictions.ref + predictions.order0 + predictions.deltaNN + predictions.order1\n",
    "predictions['target APDFT0_T APDFT1_T'.split()].to_csv('validation/APDFT.csv')"
   ]
  },
  {
   "cell_type": "code",
   "execution_count": null,
   "metadata": {},
   "outputs": [],
   "source": []
  }
 ],
 "metadata": {
  "kernelspec": {
   "display_name": "Python [conda env:analysis]",
   "language": "python",
   "name": "conda-env-analysis-py"
  },
  "language_info": {
   "codemirror_mode": {
    "name": "ipython",
    "version": 3
   },
   "file_extension": ".py",
   "mimetype": "text/x-python",
   "name": "python",
   "nbconvert_exporter": "python",
   "pygments_lexer": "ipython3",
   "version": "3.6.8"
  }
 },
 "nbformat": 4,
 "nbformat_minor": 4
}
