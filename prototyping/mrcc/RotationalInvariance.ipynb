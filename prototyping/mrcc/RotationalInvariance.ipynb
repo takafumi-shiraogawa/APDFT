{
 "cells": [
  {
   "cell_type": "code",
   "execution_count": 5,
   "metadata": {},
   "outputs": [],
   "source": [
    "import pandas as pd\n",
    "import pyscf\n",
    "import pyscf.cc\n",
    "import scipy.spatial.transform as sst\n",
    "import numpy as np\n",
    "import matplotlib.pyplot as plt"
   ]
  },
  {
   "cell_type": "code",
   "execution_count": 28,
   "metadata": {},
   "outputs": [],
   "source": [
    "def test_case_pyscf(coords):\n",
    "    #mol = pyscf.gto.M(atom='C 0 0 0; O 0 0 1.1', basis='6-31G')\n",
    "    mol = pyscf.gto.Mole()\n",
    "    mol.atom = (('N', coords[0, :]), ('N', coords[1, :]))\n",
    "    mol.basis = '6-31G'\n",
    "    mol.build()\n",
    "    mf = pyscf.scf.RHF(mol).run()\n",
    "    mycc = pyscf.cc.CCSD(mf).run()\n",
    "    dm1 = mycc.make_rdm1()\n",
    "    \n",
    "    dm1_ao = np.einsum('pi,ij,qj->pq', mf.mo_coeff, dm1, mf.mo_coeff.conj())\n",
    "    \n",
    "    # Analytical evaluation\n",
    "    res = []\n",
    "    for site in (0, 1):\n",
    "        q = mol._atm.copy()\n",
    "        q[site, 0] = 0\n",
    "        a = pyscf.gto.getints('int1e_nuc_sph', q, mol._bas, mol._env)\n",
    "        res.append(np.matmul(a, dm1_ao).trace())\n",
    "    \n",
    "    return res\n",
    "    \n",
    "#test_case_pyscf()"
   ]
  },
  {
   "cell_type": "code",
   "execution_count": 26,
   "metadata": {},
   "outputs": [
    {
     "name": "stdout",
     "output_type": "stream",
     "text": [
      "converged SCF energy = -112.610824522466\n",
      "E(CCSD) = -112.8015135991042  E_corr = -0.1906890766377091\n",
      "converged SCF energy = -112.610824522466\n",
      "E(CCSD) = -112.8015135995251  E_corr = -0.1906890770586138\n",
      "converged SCF energy = -112.610824522467\n",
      "E(CCSD) = -112.8015135988801  E_corr = -0.1906890764134838\n",
      "converged SCF energy = -112.610824522467\n",
      "E(CCSD) = -112.8015135989253  E_corr = -0.1906890764587289\n",
      "converged SCF energy = -112.610824522467\n",
      "E(CCSD) = -112.8015135988935  E_corr = -0.1906890764268366\n",
      "converged SCF energy = -112.610824522467\n",
      "E(CCSD) = -112.8015136007814  E_corr = -0.1906890783148892\n",
      "converged SCF energy = -112.610824522467\n",
      "E(CCSD) = -112.8015135990321  E_corr = -0.1906890765655261\n",
      "converged SCF energy = -112.610824522466\n",
      "E(CCSD) = -112.8015135988785  E_corr = -0.1906890764120482\n",
      "converged SCF energy = -112.610824522467\n",
      "E(CCSD) = -112.8015135988897  E_corr = -0.1906890764232326\n",
      "converged SCF energy = -112.610824522467\n",
      "E(CCSD) = -112.8015135996276  E_corr = -0.1906890771609568\n",
      "converged SCF energy = -112.610824522467\n",
      "E(CCSD) = -112.80151359893  E_corr = -0.1906890764634469\n",
      "converged SCF energy = -112.610824522467\n",
      "E(CCSD) = -112.801513598877  E_corr = -0.1906890764104236\n",
      "converged SCF energy = -112.610824522467\n",
      "E(CCSD) = -112.8015135988788  E_corr = -0.1906890764121459\n",
      "converged SCF energy = -112.610824522467\n",
      "E(CCSD) = -112.8015135988815  E_corr = -0.1906890764149629\n",
      "converged SCF energy = -112.610824522467\n",
      "E(CCSD) = -112.8015135990106  E_corr = -0.1906890765440006\n",
      "converged SCF energy = -112.610824522467\n",
      "E(CCSD) = -112.801513598883  E_corr = -0.1906890764164416\n",
      "converged SCF energy = -112.610824522467\n",
      "E(CCSD) = -112.8015135989631  E_corr = -0.1906890764966233\n",
      "converged SCF energy = -112.610824522467\n",
      "E(CCSD) = -112.8015135995659  E_corr = -0.1906890770992366\n",
      "converged SCF energy = -112.610824522467\n",
      "E(CCSD) = -112.8015135988752  E_corr = -0.1906890764087089\n",
      "converged SCF energy = -112.610824522466\n",
      "E(CCSD) = -112.8015135988456  E_corr = -0.1906890763790824\n"
     ]
    }
   ],
   "source": [
    "def scan():\n",
    "    results = []\n",
    "    for fraction in np.linspace(0, 1, 20):\n",
    "        coords = np.array(((0,0,0), (0,0,1.)))\n",
    "        normal = np.array((0,1., 0))\n",
    "        coords = coords - coords.mean(axis=0)\n",
    "        R = sst.Rotation.from_rotvec(normal*(2*np.pi)*fraction)\n",
    "        q = R.apply(coords)\n",
    "        res = test_case_pyscf(q)\n",
    "        results.append({'fraction': fraction, 'site1': res[0], 'site2': res[1]})\n",
    "    return pd.DataFrame(results)\n",
    "df = scan()"
   ]
  },
  {
   "cell_type": "code",
   "execution_count": 27,
   "metadata": {},
   "outputs": [
    {
     "data": {
      "text/plain": [
       "[<matplotlib.lines.Line2D at 0x7f1dcbb55630>]"
      ]
     },
     "execution_count": 27,
     "metadata": {},
     "output_type": "execute_result"
    },
    {
     "data": {
      "image/png": "[encoded data removed]",
      "text/plain": [
       "<Figure size 432x288 with 1 Axes>"
      ]
     },
     "metadata": {
      "needs_background": "light"
     },
     "output_type": "display_data"
    }
   ],
   "source": [
    "plt.plot(df.fraction, df.site1-min(df.site1))\n",
    "plt.plot(df.fraction, df.site2-min(df.site2))"
   ]
  },
  {
   "cell_type": "code",
   "execution_count": 29,
   "metadata": {},
   "outputs": [
    {
     "name": "stdout",
     "output_type": "stream",
     "text": [
      "converged SCF energy = -108.835236570774\n",
      "E(CCSD) = -109.0418571114283  E_corr = -0.2066205406538965\n",
      "converged SCF energy = -108.835236570774\n",
      "E(CCSD) = -109.0418571112849  E_corr = -0.2066205405105967\n",
      "converged SCF energy = -108.835236570774\n",
      "E(CCSD) = -109.041857111413  E_corr = -0.2066205406385127\n",
      "converged SCF energy = -108.835236570774\n",
      "E(CCSD) = -109.0418571113825  E_corr = -0.2066205406081102\n",
      "converged SCF energy = -108.835236570774\n",
      "E(CCSD) = -109.0418571114725  E_corr = -0.2066205406980332\n",
      "converged SCF energy = -108.835236570774\n",
      "E(CCSD) = -109.0418571114635  E_corr = -0.2066205406892015\n",
      "converged SCF energy = -108.835236570774\n",
      "E(CCSD) = -109.0418571113754  E_corr = -0.2066205406008962\n",
      "converged SCF energy = -108.835236570774\n",
      "E(CCSD) = -109.0418571114406  E_corr = -0.2066205406661543\n",
      "converged SCF energy = -108.835236570774\n",
      "E(CCSD) = -109.0418571114655  E_corr = -0.2066205406910331\n",
      "converged SCF energy = -108.835236570774\n",
      "E(CCSD) = -109.0418571112299  E_corr = -0.2066205404554946\n",
      "converged SCF energy = -108.835236570774\n",
      "E(CCSD) = -109.041857109326  E_corr = -0.2066205385516426\n",
      "converged SCF energy = -108.835236570774\n",
      "E(CCSD) = -109.0418571114684  E_corr = -0.206620540694077\n",
      "converged SCF energy = -108.835236570774\n",
      "E(CCSD) = -109.0418571114741  E_corr = -0.2066205406997152\n",
      "converged SCF energy = -108.835236570774\n",
      "E(CCSD) = -109.0418571107376  E_corr = -0.2066205399633174\n",
      "converged SCF energy = -108.835236570774\n",
      "E(CCSD) = -109.0418571111338  E_corr = -0.2066205403594447\n",
      "converged SCF energy = -108.835236570774\n",
      "E(CCSD) = -109.0418571091679  E_corr = -0.2066205383936351\n",
      "converged SCF energy = -108.835236570774\n",
      "E(CCSD) = -109.041857111478  E_corr = -0.2066205407035963\n",
      "converged SCF energy = -108.835236570774\n",
      "E(CCSD) = -109.041857111462  E_corr = -0.2066205406876728\n",
      "converged SCF energy = -108.835236570774\n",
      "E(CCSD) = -109.041857111468  E_corr = -0.2066205406936008\n",
      "converged SCF energy = -108.835236570775\n",
      "E(CCSD) = -109.0418571114694  E_corr = -0.2066205406948854\n"
     ]
    }
   ],
   "source": [
    "df_N2 = scan()"
   ]
  },
  {
   "cell_type": "code",
   "execution_count": 30,
   "metadata": {},
   "outputs": [
    {
     "data": {
      "text/plain": [
       "[<matplotlib.lines.Line2D at 0x7f1dcbb2b0f0>]"
      ]
     },
     "execution_count": 30,
     "metadata": {},
     "output_type": "execute_result"
    },
    {
     "data": {
      "image/png": "[encoded data removed]",
      "text/plain": [
       "<Figure size 432x288 with 1 Axes>"
      ]
     },
     "metadata": {
      "needs_background": "light"
     },
     "output_type": "display_data"
    }
   ],
   "source": [
    "plt.plot(df_N2.fraction, df_N2.site1-min(df_N2.site1))\n",
    "plt.plot(df_N2.fraction, df_N2.site2-min(df_N2.site2))"
   ]
  },
  {
   "cell_type": "code",
   "execution_count": 32,
   "metadata": {},
   "outputs": [
    {
     "data": {
      "text/plain": [
       "0     2.842171e-13\n",
       "1     1.136868e-13\n",
       "2     8.526513e-14\n",
       "3    -5.684342e-14\n",
       "4     8.526513e-14\n",
       "5    -8.526513e-14\n",
       "6     0.000000e+00\n",
       "7     0.000000e+00\n",
       "8    -8.526513e-14\n",
       "9     1.136868e-13\n",
       "10   -2.842171e-14\n",
       "11    5.684342e-14\n",
       "12   -2.842171e-14\n",
       "13   -5.684342e-14\n",
       "14    1.989520e-13\n",
       "15    5.684342e-14\n",
       "16    2.842171e-14\n",
       "17   -8.526513e-14\n",
       "18   -2.842171e-14\n",
       "19    1.136868e-13\n",
       "dtype: float64"
      ]
     },
     "execution_count": 32,
     "metadata": {},
     "output_type": "execute_result"
    }
   ],
   "source": [
    "df_N2.site2 - df_N2.site1"
   ]
  },
  {
   "cell_type": "code",
   "execution_count": null,
   "metadata": {},
   "outputs": [],
   "source": []
  }
 ],
 "metadata": {
  "kernelspec": {
   "display_name": "Python [conda env:analysis]",
   "language": "python",
   "name": "conda-env-analysis-py"
  },
  "language_info": {
   "codemirror_mode": {
    "name": "ipython",
    "version": 3
   },
   "file_extension": ".py",
   "mimetype": "text/x-python",
   "name": "python",
   "nbconvert_exporter": "python",
   "pygments_lexer": "ipython3",
   "version": "3.6.8"
  }
 },
 "nbformat": 4,
 "nbformat_minor": 2
}
