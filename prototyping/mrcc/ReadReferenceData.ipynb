{
 "cells": [
  {
   "cell_type": "code",
   "execution_count": 1,
   "metadata": {},
   "outputs": [],
   "source": [
    "import numpy as np\n",
    "import pandas as pd\n",
    "import datetime\n",
    "import functools"
   ]
  },
  {
   "cell_type": "code",
   "execution_count": 2,
   "metadata": {},
   "outputs": [],
   "source": [
    "targets = [_.strip() for _ in open('validation/targets').readlines()]"
   ]
  },
  {
   "cell_type": "code",
   "execution_count": 3,
   "metadata": {},
   "outputs": [],
   "source": [
    "def read_ccsd_result(target):\n",
    "    lines = open('validation/CCSD/%s/run.log' % target).readlines()\n",
    "    for line in lines:\n",
    "        if ' ***FINAL HARTREE-FOCK ENERGY' in line:\n",
    "            E_HF = float(line.strip().split()[-2])\n",
    "        if 'MP2 energy' in line:\n",
    "            E_MP2 = float(line.strip().split()[-1])\n",
    "        if 'Total CCSD energy' in line:\n",
    "            E_CCSD = float(line.strip().split()[-1])\n",
    "\n",
    "    times = [datetime.datetime.strptime(_[26:45], '%Y-%m-%d %H:%M:%S') for _ in lines if '************************ ' in _]\n",
    "    ccsd_time = (times[-1]-times[0]).seconds/60\n",
    "    mp2_time = (times[-2]-times[0]).seconds/60\n",
    "    hf_time = (times[-3]-times[0]).seconds/60\n",
    "    return {'target': target, 'hf_time': hf_time, 'mp2_time': mp2_time, 'ccsd_time': ccsd_time, 'HF_T': E_HF, 'MP2_T': E_MP2, 'CCSD_T': E_CCSD}"
   ]
  },
  {
   "cell_type": "code",
   "execution_count": 4,
   "metadata": {},
   "outputs": [],
   "source": [
    "def read_results(fn):\n",
    "    ccsd_result = []\n",
    "    for target in targets:\n",
    "        try:\n",
    "            r = fn(target)\n",
    "        except:\n",
    "            continue\n",
    "        ccsd_result.append(r)\n",
    "    return pd.DataFrame(ccsd_result)\n",
    "ccsd_df = read_results(read_ccsd_result)"
   ]
  },
  {
   "cell_type": "code",
   "execution_count": 5,
   "metadata": {},
   "outputs": [
    {
     "data": {
      "text/plain": [
       "target                inf\n",
       "hf_time      2.472250e+03\n",
       "mp2_time     7.302483e+03\n",
       "ccsd_time    1.489837e+04\n",
       "HF_T        -7.028403e+05\n",
       "MP2_T       -7.044728e+05\n",
       "CCSD_T      -7.044815e+05\n",
       "dtype: float64"
      ]
     },
     "execution_count": 5,
     "metadata": {},
     "output_type": "execute_result"
    }
   ],
   "source": [
    "ccsd_df.sum()"
   ]
  },
  {
   "cell_type": "code",
   "execution_count": 6,
   "metadata": {},
   "outputs": [
    {
     "data": {
      "text/plain": [
       "-9.772560266932857"
      ]
     },
     "execution_count": 6,
     "metadata": {},
     "output_type": "execute_result"
    }
   ],
   "source": [
    "def read_pbe_result(target):\n",
    "    lines = open('validation/PBE/%s/run.log' % target).readlines()\n",
    "    for line in lines:\n",
    "        if 'ENERGY| Total FORCE_EVAL' in line:\n",
    "            epbe = float(line.strip().split()[-1])\n",
    "        if 'CP2K                                 1' in line:\n",
    "            pbetime = float(line.strip().split()[-1])/60\n",
    "    return {'target': target, 'PBE_T': epbe, 'pbe_time': pbetime}\n",
    "            \n",
    "pbe_df = read_results(read_pbe_result)\n",
    "-9.772560266932857"
   ]
  },
  {
   "cell_type": "code",
   "execution_count": 7,
   "metadata": {},
   "outputs": [],
   "source": [
    "#pm6_df = pd.read_csv('validation/PM6.results', sep='\\s+', names='target a b c PM6_T'.split())['target PM6_T'.split()]\n",
    "#pm6_df['PM6_T'] *= 0.0367493\n",
    "lines = open('validation/PM6.results').readlines()\n",
    "pm6targets = [_.strip() for _ in lines[1::6]]\n",
    "pm6energies = [float(_.strip().split()[-2])*0.0367493 for _ in lines[3::6]]\n",
    "pm6_df = pd.DataFrame({'target': pm6targets, 'PM6_T': pm6energies})"
   ]
  },
  {
   "cell_type": "code",
   "execution_count": 8,
   "metadata": {},
   "outputs": [],
   "source": [
    "#uff_df = pd.read_csv('validation/UFF.results', sep=' ', names='target a b c UFF_T d'.split())['target UFF_T'.split()]\n",
    "#uff_df['UFF_T'] /= 2625.50"
   ]
  },
  {
   "cell_type": "code",
   "execution_count": 9,
   "metadata": {},
   "outputs": [],
   "source": [
    "apdft_df = pd.read_csv('validation/APDFT.csv')['target APDFT0_T APDFT1_T'.split()]\n",
    "combined = pd.merge(pd.merge(pd.merge(pbe_df, ccsd_df), pm6_df), apdft_df)"
   ]
  },
  {
   "cell_type": "code",
   "execution_count": 10,
   "metadata": {},
   "outputs": [
    {
     "data": {
      "text/plain": [
       "-107.84998346283342"
      ]
     },
     "execution_count": 10,
     "metadata": {},
     "output_type": "execute_result"
    }
   ],
   "source": [
    "@functools.lru_cache(200)\n",
    "def get_atomisation_offset(method, bnpairs):\n",
    "    atom = pd.read_csv('validation/atom', sep=' ')\n",
    "    try:\n",
    "        q = atom.query('method == @method').iloc[0]\n",
    "    except:\n",
    "        raise ValueError('Cannot find atomic data for method %s' % method)\n",
    "    return (q.B + q.N)*bnpairs + 2*q.C * (10-bnpairs)\n",
    "get_atomisation_offset('PBE', 1)"
   ]
  },
  {
   "cell_type": "code",
   "execution_count": 11,
   "metadata": {},
   "outputs": [],
   "source": [
    "def decorate(row):\n",
    "    row['bnpairs'] = len([_ for _ in row['target'] if _ == '5'])\n",
    "    for method in 'PBE CCSD HF MP2 PM6 APDFT0 APDFT1'.split():\n",
    "        row['%s_A' % method] = row['%s_T' % method] - get_atomisation_offset(method, row['bnpairs'])\n",
    "    return row\n",
    "combined = combined.apply(decorate, axis=1)"
   ]
  },
  {
   "cell_type": "code",
   "execution_count": 12,
   "metadata": {},
   "outputs": [],
   "source": [
    "import matplotlib.pyplot as plt"
   ]
  },
  {
   "cell_type": "code",
   "execution_count": 14,
   "metadata": {},
   "outputs": [
    {
     "data": {
      "text/plain": [
       "<matplotlib.legend.Legend at 0x7f3f9f2b2160>"
      ]
     },
     "execution_count": 14,
     "metadata": {},
     "output_type": "execute_result"
    },
    {
     "data": {
      "image/png": "[encoded data removed]",
      "text/plain": [
       "<Figure size 432x288 with 1 Axes>"
      ]
     },
     "metadata": {
      "needs_background": "light"
     },
     "output_type": "display_data"
    }
   ],
   "source": [
    "for method in 'PBE HF MP2 UFF PM6 APDFT0 APDFT1'.split():\n",
    "    combined['deltaE'] = np.abs(combined.CCSD_A - combined['%s_A' % method])\n",
    "    q = combined.groupby('bnpairs').mean().reset_index()\n",
    "    plt.plot(q.bnpairs, q.deltaE, label=method)\n",
    "plt.legend()"
   ]
  },
  {
   "cell_type": "code",
   "execution_count": 14,
   "metadata": {},
   "outputs": [
    {
     "data": {
      "text/plain": [
       "{'PM6': 8.795861469204011,\n",
       " 'APDFT': 0.8832095355023531,\n",
       " 'PBE': 19702.133817363425,\n",
       " 'CCSD': 720512.1240024556,\n",
       " 'HF': 117517.87906691222,\n",
       " 'MP2': 356473.8336402701}"
      ]
     },
     "execution_count": 14,
     "metadata": {},
     "output_type": "execute_result"
    }
   ],
   "source": [
    "total = 3100000\n",
    "timings = {}\n",
    "timings['PM6'] = 221.86/len(pm6_df)*total/60/60/24\n",
    "#timings['UFF'] = 140/len(uff_df)*total/60/60/24\n",
    "timings['APDFT'] = 4.69/len(apdft_df)*total/60/60/24 + 302894/len(ccsd_df)*3/60/24\n",
    "timings['PBE'] = 8245.915/len(pbe_df)*total/60/24\n",
    "timings['CCSD'] = 302894/len(ccsd_df)*total/60/24\n",
    "timings['HF'] = 49403/len(ccsd_df)*total/60/24\n",
    "timings['MP2'] = 149857/len(ccsd_df)*total/60/24\n",
    "timings"
   ]
  },
  {
   "cell_type": "code",
   "execution_count": 16,
   "metadata": {},
   "outputs": [
    {
     "data": {
      "image/png": "[encoded data removed]",
      "text/plain": [
       "<Figure size 432x432 with 2 Axes>"
      ]
     },
     "metadata": {
      "needs_background": "light"
     },
     "output_type": "display_data"
    }
   ],
   "source": [
    "plt.rcParams.update({'font.size': 14})\n",
    "methods = 'APDFT PM6 PBE HF MP2 CCSD'.split()\n",
    "f, ax = plt.subplots(2, 1, figsize=(6, 6))\n",
    "\n",
    "for idx, omethod in enumerate(methods):\n",
    "    if omethod == 'CCSD':\n",
    "        continue\n",
    "    if omethod == 'APDFT':\n",
    "        method = 'APDFT1'\n",
    "    else:\n",
    "        method = omethod\n",
    "    combined['deltaE'] = np.abs(combined.CCSD_A - combined['%s_A' % method])\n",
    "    q = combined.groupby('bnpairs').mean().reset_index()\n",
    "    markers = 'o v > ^ s <'.split()\n",
    "    if method in 'PM6 UFF'.split():\n",
    "        kind = markers[idx] + '--'\n",
    "    else:\n",
    "        kind = markers[idx] + '-'\n",
    "    ax[0].plot(q.bnpairs, q.deltaE, kind, lw=(method == 'APDFT1')+1, label=method)\n",
    "\n",
    "ax[0].semilogy()\n",
    "ax[0].legend( ncol=3, frameon=False,columnspacing=0.2)\n",
    "ticks = (0.25, 0.5, 1, 2, 4, 8,)\n",
    "ax[0].set_yticks(ticks)\n",
    "ax[0].tick_params(which='minor', length=0)\n",
    "ax[0].set_yticklabels(ticks)\n",
    "ax[0].set_ylim(0.15, 12)\n",
    "\n",
    "ax[0].set_xlabel('Number of BN pairs')\n",
    "ax[0].set_ylabel('MAE in atomisation energy [Ha]')\n",
    "xs = range(len(methods))\n",
    "ys = [timings[_] for _ in methods]\n",
    "ax[1].bar(xs, ys, color=['C%d' % _ for _ in xs], alpha=0.2)\n",
    "ax[1].bar(xs, ys, edgecolor=['C%d' % _ for _ in xs], facecolor='none')\n",
    "ax[1].semilogy()\n",
    "ax[1].set_xticks(xs)\n",
    "ax[1].set_xticklabels(methods)\n",
    "ax[1].axhline(4, color='darkgrey')\n",
    "ax[1].text(-.5, 8, 'Desktop')\n",
    "ax[1].axhline(2000, color='darkgrey')\n",
    "ax[1].text(-.5, 4000, 'Cluster')\n",
    "ax[1].axhline(5320*12, color='darkgrey')\n",
    "ax[1].text(-.5, 5320*12*2, 'Supercomputer')\n",
    "ax[1].set_ylabel('Computational cost [core days]')\n",
    "plt.subplots_adjust(top=1.5)\n",
    "f.align_ylabels(ax)\n",
    "#plt.savefig('apdft-c20.pdf', bbox_inches='tight')"
   ]
  },
  {
   "cell_type": "code",
   "execution_count": 17,
   "metadata": {},
   "outputs": [],
   "source": [
    "# higher order data"
   ]
  },
  {
   "cell_type": "code",
   "execution_count": 18,
   "metadata": {},
   "outputs": [],
   "source": [
    "trimers = '''NNO&-243.416&21.0&20.8&-1.0&-0.4&-0.5&9.8&62.0&-262.3&120.1&210.2\\\\\n",
    "NON&-241.690&-306.9&212.5&-47.8&-12.3&17.0&-47.3&104.3&-288.4&164.0&275.4\\\\\n",
    "COO&-244.689&324.9&323.1&-25.6&2.9&41.3&-38.8&35.0&-209.6&151.6&244.9\\\\\n",
    "BOF&-253.747&2280.1&714.6&47.2&20.0&-275.0&-&12.4&-145.7&114.8&179.7\\\\\n",
    "OBF&-253.264&21.3&21.5&-0.3&-1.0&-0.5&-9.4&38.9&-169.6&17.5&62.0\\\\\n",
    "NCF&-248.728&6.6&6.6&2.5&2.5&-0.6&0.8&38.8&-198.3&79.6&142.9\\\\\n",
    "CCNe&-255.981&156.5&156.5&88.3&88.5&-110.8&-121.8&20.7&-127.9&121.9&182.1'''\n",
    "benzenes = '''BNCCCC&-436.447&30.7&30.7&-2.3&-2.2&-2.6&-4.4&70.9&-361.1&209.2&254.6\\\\\n",
    "BCNCCC&-436.542&31.6&31.6&-1.5&-1.3&3.4&-6.2&76.7&-371.0&214.3&263.7\\\\\n",
    "BCCNCC&-436.581&35.4&35.4&-3.1&-3.1&0.9&-0.3&71.6&-362.6&212.1&258.7\\\\\n",
    "BNCBNC&-438.247&59.1&59.1&-2.1&-2.0&3.0&2.9&77.1&-362.9&215.9&267.3\\\\\n",
    "BNBNCC&-438.258&58.2&58.2&-9.9&-10.0&7.2&8.6&65.1&-334.9&208.1&249.4\\\\\n",
    "BNBCNC&-438.281&57.2&59.8&-3.4&-2.3&1.5&-16.7&75.3&-358.0&214.8&264.5\\\\\n",
    "BNCBCN&-438.286&62.7&60.1&-2.9&-3.9&-2.7&13.5&69.6&-351.5&214.8&263.3\\\\\n",
    "BNCNBC&-438.362&33.1&33.1&-17.1&-17.1&34.8&33.4&68.1&-348.6&214.6&262.1\\\\\n",
    "BNCCNB&-438.401&83.7&88.5&-27.1&-21.4&-4.3&-6.4&64.6&-351.1&212.9&260.6\\\\\n",
    "BNNBCC&-438.413&96.6&91.8&-23.8&-29.2&-9.9&-13.6&64.8&-347.3&212.7&259.7\\\\\n",
    "BNCNCB&-438.542&62.0&64.2&-29.8&-24.3&23.9&25.6&71.5&-361.9&220.2&272.7\\\\\n",
    "BNNCBC&-438.553&72.6&70.4&-23.5&-29.0&17.0&14.5&70.3&-358.0&220.1&272.0\\\\\n",
    "BNNCCB&-438.673&99.3&99.3&-41.3&-41.4&24.5&29.5&64.5&-351.8&220.7&271.1\\\\\n",
    "BCNNCB&-438.785&82.5&82.5&-28.3&-28.3&20.2&20.1&76.6&-370.7&227.6&284.4\\\\\n",
    "NBNBNB&-439.998&72.2&72.2&-25.4&-25.4&46.1&46.0&62.1&-304.8&204.4&238.9\\\\\n",
    "BNBNNB&-440.300&141.5&141.5&-61.5&-61.5&-1.4&-0.8&58.6&-326.2&214.2&259.2\\\\\n",
    "BNNNBB&-440.806&133.6&133.6&-2.0&-2.0&162.2&163.6&57.2&-347.4&228.8&285.1'''"
   ]
  },
  {
   "cell_type": "code",
   "execution_count": 19,
   "metadata": {},
   "outputs": [],
   "source": [
    "def parse_latex_table(string, columns):\n",
    "    rows = []\n",
    "    for line in string.split(\"\\n\"):\n",
    "        row = {}\n",
    "        parts = line.strip().strip('\\\\').split('&')\n",
    "        for colname, val in zip(columns, parts):\n",
    "            try:\n",
    "                val = abs(float(val))\n",
    "            except:\n",
    "                pass\n",
    "            if val == '-':\n",
    "                val = np.nan\n",
    "            row[colname] = val\n",
    "        rows.append(row)\n",
    "    return pd.DataFrame(rows)"
   ]
  },
  {
   "cell_type": "code",
   "execution_count": 336,
   "metadata": {},
   "outputs": [
    {
     "data": {
      "image/png": "[encoded data removed]",
      "text/plain": [
       "<Figure size 288x360 with 1 Axes>"
      ]
     },
     "metadata": {
      "needs_background": "light"
     },
     "output_type": "display_data"
    }
   ],
   "source": [
    "q = parse_latex_table(trimers, 'mol ccsd o1 o2 o3 o4 o5 o6 mp2 hf pbe0 pbe'.split()).mean()\n",
    "f, ax = plt.subplots(1, 1, figsize=(4, 5))\n",
    "labels = {'mp2': 'MP2', 'hf': 'HF', 'pbe': 'PBE', 'pbe0': 'PBE0', 'o1': 'APDFT1', 'o2': 'APDFT2', 'o3': 'APDFT3'}\n",
    "methods = 'mp2 hf pbe0 pbe o1 o2 o3'.split()[::-1]\n",
    "xs = range(len(methods))\n",
    "ys = [q.loc[_] for _ in methods]\n",
    "plt.barh(xs, np.array(ys)/1000, color=['C%d' % _ for _ in xs], alpha=0.2)\n",
    "plt.barh(xs, np.array(ys)/1000, edgecolor=['C%d' % _ for _ in xs], facecolor='none')\n",
    "ax.set_yticks(xs)\n",
    "ax.set_yticklabels([labels[_] for _ in methods])\n",
    "plt.xlabel('Atomisation Energy Error [Ha]')\n",
    "plt.savefig('trimer.pdf', bbox_inches='tight')"
   ]
  },
  {
   "cell_type": "code",
   "execution_count": 338,
   "metadata": {},
   "outputs": [
    {
     "data": {
      "image/png": "[encoded data removed]",
      "text/plain": [
       "<Figure size 288x360 with 1 Axes>"
      ]
     },
     "metadata": {
      "needs_background": "light"
     },
     "output_type": "display_data"
    }
   ],
   "source": [
    "q = parse_latex_table(benzenes, 'mol ccsd o1 o2 o3 o4 o5 o6 mp2 hf pbe0 pbe'.split()).mean()\n",
    "f, ax = plt.subplots(1, 1, figsize=(4, 5))\n",
    "labels = {'mp2': 'MP2', 'hf': 'HF', 'pbe': 'PBE', 'pbe0': 'PBE0', 'o1': 'APDFT1', 'o2': 'APDFT2', 'o3': 'APDFT3'}\n",
    "methods = 'mp2 hf pbe0 pbe o1 o2 o3'.split()[::-1]\n",
    "xs = range(len(methods))\n",
    "ys = [q.loc[_] for _ in methods]\n",
    "plt.barh(xs, np.array(ys)/1000, color=['C%d' % _ for _ in xs], alpha=0.2)\n",
    "plt.barh(xs, np.array(ys)/1000, edgecolor=['C%d' % _ for _ in xs], facecolor='none')\n",
    "ax.set_yticks(xs)\n",
    "ax.set_yticklabels([labels[_] for _ in methods])\n",
    "plt.xlabel('Atomisation Energy Error [Ha]')\n",
    "plt.savefig('benzenederiv.pdf', bbox_inches='tight')"
   ]
  },
  {
   "cell_type": "code",
   "execution_count": 342,
   "metadata": {},
   "outputs": [
    {
     "data": {
      "text/plain": [
       "'BNCCCC, BCNCCC, BCCNCC, BNCBNC, BNBNCC, BNBCNC, BNCBCN, BNCNBC, BNCCNB, BNNBCC, BNCNCB, BNNCBC, BNNCCB, BCNNCB, NBNBNB, BNBNNB, BNNNBB'"
      ]
     },
     "execution_count": 342,
     "metadata": {},
     "output_type": "execute_result"
    }
   ],
   "source": [
    "', '.join(parse_latex_table(benzenes, 'mol ccsd o1 o2 o3 o4 o5 o6 mp2 hf pbe0 pbe'.split()).mol.values)"
   ]
  },
  {
   "cell_type": "code",
   "execution_count": 367,
   "metadata": {},
   "outputs": [
    {
     "name": "stdout",
     "output_type": "stream",
     "text": [
      "[0, 1, 2, 3, 4, 5, 6] (-0.12, -0.41, -0.45, 0.01, 0.49, 0.47, -0.92)\n"
     ]
    },
    {
     "data": {
      "image/png": "[encoded data removed]",
      "text/plain": [
       "<Figure size 216x288 with 1 Axes>"
      ]
     },
     "metadata": {
      "needs_background": "light"
     },
     "output_type": "display_data"
    }
   ],
   "source": [
    "methods = 'HF LDA PBE PBE0 APDFT1 APDFT2 APDFT3'.split()[::-1]\n",
    "f, ax = plt.subplots(1, 1, figsize=(3, 4))\n",
    "ys = (-0.92, 0.47, 0.49, 0.01, -0.45, -0.41, -0.12,)[::-1]\n",
    "xs = list(range(len(methods)))\n",
    "print (xs, ys)\n",
    "plt.barh(xs, np.array(ys), color=['C%d' % _ for _ in xs], alpha=0.2)\n",
    "plt.barh(xs, np.array(ys), edgecolor=['C%d' % _ for _ in xs], facecolor='none')\n",
    "ax.set_yticks(xs)\n",
    "ax.set_yticklabels(methods)\n",
    "plt.xlabel('Relative Error to CCSD [%]')\n",
    "plt.savefig('dipoleerror.pdf', bbox_inches='tight')"
   ]
  },
  {
   "cell_type": "code",
   "execution_count": 368,
   "metadata": {},
   "outputs": [
    {
     "name": "stdout",
     "output_type": "stream",
     "text": [
      "[0, 1, 2, 3, 4, 5, 6] (-0.08, -0.4, -1.77, 0.05, 0.46, 0.37, -0.5)\n"
     ]
    },
    {
     "data": {
      "image/png": "[encoded data removed]",
      "text/plain": [
       "<Figure size 216x288 with 1 Axes>"
      ]
     },
     "metadata": {
      "needs_background": "light"
     },
     "output_type": "display_data"
    }
   ],
   "source": [
    "methods = 'HF LDA PBE PBE0 APDFT1 APDFT2 APDFT3'.split()[::-1]\n",
    "f, ax = plt.subplots(1, 1, figsize=(3, 4))\n",
    "ys = (-0.5, 0.37, 0.46, 0.05, -1.77, -0.4, -0.08)[::-1]\n",
    "xs = list(range(len(methods)))\n",
    "print (xs, ys)\n",
    "plt.barh(xs, np.array(ys), color=['C%d' % _ for _ in xs], alpha=0.2)\n",
    "plt.barh(xs, np.array(ys), edgecolor=['C%d' % _ for _ in xs], facecolor='none')\n",
    "ax.set_yticks(xs)\n",
    "ax.set_yticklabels(methods)\n",
    "plt.xlabel('Relative Error to CCSD [%]')\n",
    "plt.savefig('quadrupoleerror.pdf', bbox_inches='tight')"
   ]
  },
  {
   "cell_type": "code",
   "execution_count": 369,
   "metadata": {},
   "outputs": [
    {
     "name": "stdout",
     "output_type": "stream",
     "text": [
      "[0, 1, 2, 3, 4, 5, 6] (-0.04, -0.09, 0.99, -1.03, -1.02, -0.53, -1.33)\n"
     ]
    },
    {
     "data": {
      "image/png": "[encoded data removed]",
      "text/plain": [
       "<Figure size 216x288 with 1 Axes>"
      ]
     },
     "metadata": {
      "needs_background": "light"
     },
     "output_type": "display_data"
    }
   ],
   "source": [
    "methods = 'HF LDA PBE PBE0 APDFT1 APDFT2 APDFT3'.split()[::-1]\n",
    "f, ax = plt.subplots(1, 1, figsize=(3, 4))\n",
    "ys = (-1.33, -0.53, -1.02, -1.03, 0.99, -0.09, -0.04)[::-1]\n",
    "xs = list(range(len(methods)))\n",
    "print (xs, ys)\n",
    "plt.barh(xs, np.array(ys), color=['C%d' % _ for _ in xs], alpha=0.2)\n",
    "plt.barh(xs, np.array(ys), edgecolor=['C%d' % _ for _ in xs], facecolor='none')\n",
    "ax.set_yticks(xs)\n",
    "ax.set_yticklabels(methods)\n",
    "plt.xlabel('Relative Error to CCSD [%]')\n",
    "\n",
    "plt.savefig('forceerror.pdf', bbox_inches='tight')"
   ]
  },
  {
   "cell_type": "code",
   "execution_count": 64,
   "metadata": {},
   "outputs": [
    {
     "data": {
      "image/png": "[encoded data removed]",
      "text/plain": [
       "<Figure size 432x288 with 1 Axes>"
      ]
     },
     "metadata": {
      "needs_background": "light"
     },
     "output_type": "display_data"
    }
   ],
   "source": [
    "for method in 'PBE HF MP2 PM6 APDFT1'.split():\n",
    "    combined['deltaE'] = np.abs(combined.CCSD_A - combined['%s_A' % method])\n",
    "    q = combined.groupby('bnpairs').mean().reset_index()\n",
    "    plt.plot(q.bnpairs, q.deltaE, 'o-',label=method)\n",
    "plt.legend()\n",
    "plt.yscale('log')"
   ]
  },
  {
   "cell_type": "code",
   "execution_count": 66,
   "metadata": {},
   "outputs": [],
   "source": [
    "combined.to_csv('c20-combined.csv')"
   ]
  },
  {
   "cell_type": "code",
   "execution_count": 45,
   "metadata": {},
   "outputs": [
    {
     "data": {
      "text/plain": [
       "-107.84998346283342"
      ]
     },
     "execution_count": 45,
     "metadata": {},
     "output_type": "execute_result"
    }
   ],
   "source": [
    "-5.303933103555642*18 + -2.606628146260777 + -9.772559452571093"
   ]
  },
  {
   "cell_type": "code",
   "execution_count": 7,
   "metadata": {},
   "outputs": [
    {
     "data": {
      "text/html": [
       "<div>\n",
       "<style scoped>\n",
       "    .dataframe tbody tr th:only-of-type {\n",
       "        vertical-align: middle;\n",
       "    }\n",
       "\n",
       "    .dataframe tbody tr th {\n",
       "        vertical-align: top;\n",
       "    }\n",
       "\n",
       "    .dataframe thead th {\n",
       "        text-align: right;\n",
       "    }\n",
       "</style>\n",
       "<table border=\"1\" class=\"dataframe\">\n",
       "  <thead>\n",
       "    <tr style=\"text-align: right;\">\n",
       "      <th></th>\n",
       "      <th>target</th>\n",
       "      <th>APDFT0_T</th>\n",
       "      <th>APDFT1_T</th>\n",
       "    </tr>\n",
       "  </thead>\n",
       "  <tbody>\n",
       "    <tr>\n",
       "      <th>217</th>\n",
       "      <td>55577756577556775757</td>\n",
       "      <td>-761.382445</td>\n",
       "      <td>-772.154719</td>\n",
       "    </tr>\n",
       "    <tr>\n",
       "      <th>147</th>\n",
       "      <td>55557757577775777555</td>\n",
       "      <td>-760.815508</td>\n",
       "      <td>-772.065833</td>\n",
       "    </tr>\n",
       "    <tr>\n",
       "      <th>117</th>\n",
       "      <td>55557577775757757575</td>\n",
       "      <td>-761.321945</td>\n",
       "      <td>-771.999305</td>\n",
       "    </tr>\n",
       "    <tr>\n",
       "      <th>161</th>\n",
       "      <td>55557775777755575775</td>\n",
       "      <td>-760.910151</td>\n",
       "      <td>-771.937949</td>\n",
       "    </tr>\n",
       "    <tr>\n",
       "      <th>139</th>\n",
       "      <td>55557755775757775757</td>\n",
       "      <td>-760.904450</td>\n",
       "      <td>-771.699711</td>\n",
       "    </tr>\n",
       "    <tr>\n",
       "      <th>83</th>\n",
       "      <td>55557575775757757757</td>\n",
       "      <td>-761.289395</td>\n",
       "      <td>-771.621599</td>\n",
       "    </tr>\n",
       "    <tr>\n",
       "      <th>103</th>\n",
       "      <td>55557577577757775575</td>\n",
       "      <td>-761.322129</td>\n",
       "      <td>-771.570585</td>\n",
       "    </tr>\n",
       "    <tr>\n",
       "      <th>30</th>\n",
       "      <td>55555577775777757755</td>\n",
       "      <td>-759.832853</td>\n",
       "      <td>-771.449167</td>\n",
       "    </tr>\n",
       "    <tr>\n",
       "      <th>81</th>\n",
       "      <td>55557575775757575777</td>\n",
       "      <td>-760.213287</td>\n",
       "      <td>-771.362401</td>\n",
       "    </tr>\n",
       "    <tr>\n",
       "      <th>146</th>\n",
       "      <td>55557757577775755775</td>\n",
       "      <td>-760.214963</td>\n",
       "      <td>-771.303138</td>\n",
       "    </tr>\n",
       "    <tr>\n",
       "      <th>157</th>\n",
       "      <td>55557757777755775755</td>\n",
       "      <td>-761.059455</td>\n",
       "      <td>-771.298508</td>\n",
       "    </tr>\n",
       "    <tr>\n",
       "      <th>86</th>\n",
       "      <td>55557575775777757557</td>\n",
       "      <td>-760.879871</td>\n",
       "      <td>-771.273036</td>\n",
       "    </tr>\n",
       "    <tr>\n",
       "      <th>116</th>\n",
       "      <td>55557577775757755775</td>\n",
       "      <td>-760.804048</td>\n",
       "      <td>-771.184047</td>\n",
       "    </tr>\n",
       "    <tr>\n",
       "      <th>82</th>\n",
       "      <td>55557575775757755777</td>\n",
       "      <td>-760.237460</td>\n",
       "      <td>-771.133794</td>\n",
       "    </tr>\n",
       "    <tr>\n",
       "      <th>114</th>\n",
       "      <td>55557577775755777755</td>\n",
       "      <td>-760.646608</td>\n",
       "      <td>-770.961988</td>\n",
       "    </tr>\n",
       "    <tr>\n",
       "      <th>125</th>\n",
       "      <td>55557577777757575575</td>\n",
       "      <td>-760.499773</td>\n",
       "      <td>-770.936260</td>\n",
       "    </tr>\n",
       "    <tr>\n",
       "      <th>144</th>\n",
       "      <td>55557757575775775757</td>\n",
       "      <td>-761.830953</td>\n",
       "      <td>-770.922087</td>\n",
       "    </tr>\n",
       "    <tr>\n",
       "      <th>163</th>\n",
       "      <td>55557775777775575575</td>\n",
       "      <td>-761.041753</td>\n",
       "      <td>-770.839248</td>\n",
       "    </tr>\n",
       "    <tr>\n",
       "      <th>98</th>\n",
       "      <td>55557577575775757775</td>\n",
       "      <td>-760.677681</td>\n",
       "      <td>-770.729850</td>\n",
       "    </tr>\n",
       "    <tr>\n",
       "      <th>189</th>\n",
       "      <td>55567577775757757556</td>\n",
       "      <td>-760.828583</td>\n",
       "      <td>-770.587249</td>\n",
       "    </tr>\n",
       "    <tr>\n",
       "      <th>218</th>\n",
       "      <td>55577757575577775755</td>\n",
       "      <td>-760.748692</td>\n",
       "      <td>-770.581542</td>\n",
       "    </tr>\n",
       "    <tr>\n",
       "      <th>192</th>\n",
       "      <td>55567756577557775775</td>\n",
       "      <td>-760.293173</td>\n",
       "      <td>-770.555674</td>\n",
       "    </tr>\n",
       "    <tr>\n",
       "      <th>87</th>\n",
       "      <td>55557575775777775557</td>\n",
       "      <td>-760.167030</td>\n",
       "      <td>-770.548560</td>\n",
       "    </tr>\n",
       "    <tr>\n",
       "      <th>160</th>\n",
       "      <td>55557775757757777555</td>\n",
       "      <td>-760.120675</td>\n",
       "      <td>-770.543072</td>\n",
       "    </tr>\n",
       "    <tr>\n",
       "      <th>162</th>\n",
       "      <td>55557775777755755577</td>\n",
       "      <td>-760.163942</td>\n",
       "      <td>-770.485747</td>\n",
       "    </tr>\n",
       "    <tr>\n",
       "      <th>188</th>\n",
       "      <td>55567577775757557657</td>\n",
       "      <td>-760.653807</td>\n",
       "      <td>-770.449923</td>\n",
       "    </tr>\n",
       "    <tr>\n",
       "      <th>100</th>\n",
       "      <td>55557577575777757755</td>\n",
       "      <td>-760.182961</td>\n",
       "      <td>-770.322216</td>\n",
       "    </tr>\n",
       "    <tr>\n",
       "      <th>78</th>\n",
       "      <td>55557575757757777557</td>\n",
       "      <td>-759.774178</td>\n",
       "      <td>-770.307139</td>\n",
       "    </tr>\n",
       "    <tr>\n",
       "      <th>135</th>\n",
       "      <td>55557676575775777755</td>\n",
       "      <td>-760.716568</td>\n",
       "      <td>-770.257623</td>\n",
       "    </tr>\n",
       "    <tr>\n",
       "      <th>234</th>\n",
       "      <td>55657776575775775755</td>\n",
       "      <td>-761.425726</td>\n",
       "      <td>-770.171073</td>\n",
       "    </tr>\n",
       "    <tr>\n",
       "      <th>...</th>\n",
       "      <td>...</td>\n",
       "      <td>...</td>\n",
       "      <td>...</td>\n",
       "    </tr>\n",
       "    <tr>\n",
       "      <th>250</th>\n",
       "      <td>55666666666667676666</td>\n",
       "      <td>-758.233754</td>\n",
       "      <td>-760.143681</td>\n",
       "    </tr>\n",
       "    <tr>\n",
       "      <th>294</th>\n",
       "      <td>55667667666666666666</td>\n",
       "      <td>-758.696696</td>\n",
       "      <td>-760.142560</td>\n",
       "    </tr>\n",
       "    <tr>\n",
       "      <th>395</th>\n",
       "      <td>56666666566666676667</td>\n",
       "      <td>-758.438087</td>\n",
       "      <td>-760.141955</td>\n",
       "    </tr>\n",
       "    <tr>\n",
       "      <th>340</th>\n",
       "      <td>56566666676666666676</td>\n",
       "      <td>-758.519747</td>\n",
       "      <td>-760.132366</td>\n",
       "    </tr>\n",
       "    <tr>\n",
       "      <th>353</th>\n",
       "      <td>56566667666676666666</td>\n",
       "      <td>-758.457824</td>\n",
       "      <td>-760.132291</td>\n",
       "    </tr>\n",
       "    <tr>\n",
       "      <th>400</th>\n",
       "      <td>56666666566667666766</td>\n",
       "      <td>-758.345306</td>\n",
       "      <td>-760.130862</td>\n",
       "    </tr>\n",
       "    <tr>\n",
       "      <th>341</th>\n",
       "      <td>56566666676666666766</td>\n",
       "      <td>-758.486114</td>\n",
       "      <td>-760.120733</td>\n",
       "    </tr>\n",
       "    <tr>\n",
       "      <th>356</th>\n",
       "      <td>56566667676666666666</td>\n",
       "      <td>-758.577032</td>\n",
       "      <td>-760.112205</td>\n",
       "    </tr>\n",
       "    <tr>\n",
       "      <th>447</th>\n",
       "      <td>56666766665666667666</td>\n",
       "      <td>-758.762578</td>\n",
       "      <td>-760.096305</td>\n",
       "    </tr>\n",
       "    <tr>\n",
       "      <th>344</th>\n",
       "      <td>56566666676766666666</td>\n",
       "      <td>-758.512845</td>\n",
       "      <td>-760.093116</td>\n",
       "    </tr>\n",
       "    <tr>\n",
       "      <th>391</th>\n",
       "      <td>56666666566666666677</td>\n",
       "      <td>-758.273672</td>\n",
       "      <td>-760.091727</td>\n",
       "    </tr>\n",
       "    <tr>\n",
       "      <th>403</th>\n",
       "      <td>56666666566676666766</td>\n",
       "      <td>-758.154876</td>\n",
       "      <td>-760.091383</td>\n",
       "    </tr>\n",
       "    <tr>\n",
       "      <th>342</th>\n",
       "      <td>56566666676666667666</td>\n",
       "      <td>-758.420980</td>\n",
       "      <td>-760.083756</td>\n",
       "    </tr>\n",
       "    <tr>\n",
       "      <th>248</th>\n",
       "      <td>55666666666666676676</td>\n",
       "      <td>-758.082326</td>\n",
       "      <td>-760.080281</td>\n",
       "    </tr>\n",
       "    <tr>\n",
       "      <th>335</th>\n",
       "      <td>56566666666676666667</td>\n",
       "      <td>-758.293847</td>\n",
       "      <td>-760.069921</td>\n",
       "    </tr>\n",
       "    <tr>\n",
       "      <th>333</th>\n",
       "      <td>56566666666667667666</td>\n",
       "      <td>-758.337422</td>\n",
       "      <td>-760.046723</td>\n",
       "    </tr>\n",
       "    <tr>\n",
       "      <th>365</th>\n",
       "      <td>56567666666676666666</td>\n",
       "      <td>-758.500828</td>\n",
       "      <td>-760.027430</td>\n",
       "    </tr>\n",
       "    <tr>\n",
       "      <th>276</th>\n",
       "      <td>55666676666676666666</td>\n",
       "      <td>-758.297614</td>\n",
       "      <td>-759.939175</td>\n",
       "    </tr>\n",
       "    <tr>\n",
       "      <th>393</th>\n",
       "      <td>56666666566666667667</td>\n",
       "      <td>-758.429504</td>\n",
       "      <td>-759.937567</td>\n",
       "    </tr>\n",
       "    <tr>\n",
       "      <th>246</th>\n",
       "      <td>55666666666666667676</td>\n",
       "      <td>-758.054247</td>\n",
       "      <td>-759.929309</td>\n",
       "    </tr>\n",
       "    <tr>\n",
       "      <th>415</th>\n",
       "      <td>56666666665676676666</td>\n",
       "      <td>-758.509136</td>\n",
       "      <td>-759.898362</td>\n",
       "    </tr>\n",
       "    <tr>\n",
       "      <th>245</th>\n",
       "      <td>55666666666666666776</td>\n",
       "      <td>-757.930580</td>\n",
       "      <td>-759.881660</td>\n",
       "    </tr>\n",
       "    <tr>\n",
       "      <th>329</th>\n",
       "      <td>56566666666666666776</td>\n",
       "      <td>-758.062328</td>\n",
       "      <td>-759.878441</td>\n",
       "    </tr>\n",
       "    <tr>\n",
       "      <th>252</th>\n",
       "      <td>55666666666676676666</td>\n",
       "      <td>-758.130706</td>\n",
       "      <td>-759.717150</td>\n",
       "    </tr>\n",
       "    <tr>\n",
       "      <th>247</th>\n",
       "      <td>55666666666666667766</td>\n",
       "      <td>-757.887019</td>\n",
       "      <td>-759.562471</td>\n",
       "    </tr>\n",
       "    <tr>\n",
       "      <th>451</th>\n",
       "      <td>56666766666666666666</td>\n",
       "      <td>-758.426003</td>\n",
       "      <td>-759.353318</td>\n",
       "    </tr>\n",
       "    <tr>\n",
       "      <th>428</th>\n",
       "      <td>56666666666666766666</td>\n",
       "      <td>-758.302691</td>\n",
       "      <td>-759.337617</td>\n",
       "    </tr>\n",
       "    <tr>\n",
       "      <th>834</th>\n",
       "      <td>76666666666666666665</td>\n",
       "      <td>-758.215229</td>\n",
       "      <td>-759.170945</td>\n",
       "    </tr>\n",
       "    <tr>\n",
       "      <th>424</th>\n",
       "      <td>56666666666666666766</td>\n",
       "      <td>-758.218933</td>\n",
       "      <td>-759.155159</td>\n",
       "    </tr>\n",
       "    <tr>\n",
       "      <th>425</th>\n",
       "      <td>56666666666666667666</td>\n",
       "      <td>-758.198414</td>\n",
       "      <td>-758.953373</td>\n",
       "    </tr>\n",
       "  </tbody>\n",
       "</table>\n",
       "<p>905 rows × 3 columns</p>\n",
       "</div>"
      ],
      "text/plain": [
       "                   target    APDFT0_T    APDFT1_T\n",
       "217  55577756577556775757 -761.382445 -772.154719\n",
       "147  55557757577775777555 -760.815508 -772.065833\n",
       "117  55557577775757757575 -761.321945 -771.999305\n",
       "161  55557775777755575775 -760.910151 -771.937949\n",
       "139  55557755775757775757 -760.904450 -771.699711\n",
       "83   55557575775757757757 -761.289395 -771.621599\n",
       "103  55557577577757775575 -761.322129 -771.570585\n",
       "30   55555577775777757755 -759.832853 -771.449167\n",
       "81   55557575775757575777 -760.213287 -771.362401\n",
       "146  55557757577775755775 -760.214963 -771.303138\n",
       "157  55557757777755775755 -761.059455 -771.298508\n",
       "86   55557575775777757557 -760.879871 -771.273036\n",
       "116  55557577775757755775 -760.804048 -771.184047\n",
       "82   55557575775757755777 -760.237460 -771.133794\n",
       "114  55557577775755777755 -760.646608 -770.961988\n",
       "125  55557577777757575575 -760.499773 -770.936260\n",
       "144  55557757575775775757 -761.830953 -770.922087\n",
       "163  55557775777775575575 -761.041753 -770.839248\n",
       "98   55557577575775757775 -760.677681 -770.729850\n",
       "189  55567577775757757556 -760.828583 -770.587249\n",
       "218  55577757575577775755 -760.748692 -770.581542\n",
       "192  55567756577557775775 -760.293173 -770.555674\n",
       "87   55557575775777775557 -760.167030 -770.548560\n",
       "160  55557775757757777555 -760.120675 -770.543072\n",
       "162  55557775777755755577 -760.163942 -770.485747\n",
       "188  55567577775757557657 -760.653807 -770.449923\n",
       "100  55557577575777757755 -760.182961 -770.322216\n",
       "78   55557575757757777557 -759.774178 -770.307139\n",
       "135  55557676575775777755 -760.716568 -770.257623\n",
       "234  55657776575775775755 -761.425726 -770.171073\n",
       "..                    ...         ...         ...\n",
       "250  55666666666667676666 -758.233754 -760.143681\n",
       "294  55667667666666666666 -758.696696 -760.142560\n",
       "395  56666666566666676667 -758.438087 -760.141955\n",
       "340  56566666676666666676 -758.519747 -760.132366\n",
       "353  56566667666676666666 -758.457824 -760.132291\n",
       "400  56666666566667666766 -758.345306 -760.130862\n",
       "341  56566666676666666766 -758.486114 -760.120733\n",
       "356  56566667676666666666 -758.577032 -760.112205\n",
       "447  56666766665666667666 -758.762578 -760.096305\n",
       "344  56566666676766666666 -758.512845 -760.093116\n",
       "391  56666666566666666677 -758.273672 -760.091727\n",
       "403  56666666566676666766 -758.154876 -760.091383\n",
       "342  56566666676666667666 -758.420980 -760.083756\n",
       "248  55666666666666676676 -758.082326 -760.080281\n",
       "335  56566666666676666667 -758.293847 -760.069921\n",
       "333  56566666666667667666 -758.337422 -760.046723\n",
       "365  56567666666676666666 -758.500828 -760.027430\n",
       "276  55666676666676666666 -758.297614 -759.939175\n",
       "393  56666666566666667667 -758.429504 -759.937567\n",
       "246  55666666666666667676 -758.054247 -759.929309\n",
       "415  56666666665676676666 -758.509136 -759.898362\n",
       "245  55666666666666666776 -757.930580 -759.881660\n",
       "329  56566666666666666776 -758.062328 -759.878441\n",
       "252  55666666666676676666 -758.130706 -759.717150\n",
       "247  55666666666666667766 -757.887019 -759.562471\n",
       "451  56666766666666666666 -758.426003 -759.353318\n",
       "428  56666666666666766666 -758.302691 -759.337617\n",
       "834  76666666666666666665 -758.215229 -759.170945\n",
       "424  56666666666666666766 -758.218933 -759.155159\n",
       "425  56666666666666667666 -758.198414 -758.953373\n",
       "\n",
       "[905 rows x 3 columns]"
      ]
     },
     "execution_count": 7,
     "metadata": {},
     "output_type": "execute_result"
    }
   ],
   "source": [
    "apdft_df.sort_values('APDFT1_T')"
   ]
  },
  {
   "cell_type": "code",
   "execution_count": null,
   "metadata": {},
   "outputs": [],
   "source": []
  }
 ],
 "metadata": {
  "kernelspec": {
   "display_name": "Python [conda env:analysis]",
   "language": "python",
   "name": "conda-env-analysis-py"
  },
  "language_info": {
   "codemirror_mode": {
    "name": "ipython",
    "version": 3
   },
   "file_extension": ".py",
   "mimetype": "text/x-python",
   "name": "python",
   "nbconvert_exporter": "python",
   "pygments_lexer": "ipython3",
   "version": "3.6.10"
  }
 },
 "nbformat": 4,
 "nbformat_minor": 4
}
