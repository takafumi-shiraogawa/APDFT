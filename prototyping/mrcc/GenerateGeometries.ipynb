{
 "cells": [
  {
   "cell_type": "code",
   "execution_count": 6,
   "metadata": {},
   "outputs": [
    {
     "name": "stdout",
     "output_type": "stream",
     "text": [
      "The line_profiler extension is already loaded. To reload it, use:\n",
      "  %reload_ext line_profiler\n"
     ]
    }
   ],
   "source": [
    "import numpy as np\n",
    "import pandas as pd\n",
    "import qml\n",
    "import scipy.spatial as scs\n",
    "import glob\n",
    "import scipy.interpolate as sci\n",
    "import functools\n",
    "import matplotlib.pyplot as plt\n",
    "%load_ext line_profiler\n",
    "c = qml.Compound('c20-symmetric.xyz')\n",
    "from pymatgen.symmetry import analyzer as psa\n",
    "from pymatgen.core import Molecule"
   ]
  },
  {
   "cell_type": "code",
   "execution_count": 14,
   "metadata": {},
   "outputs": [
    {
     "data": {
      "text/plain": [
       "'20\\n55555555775777777577\\nB -0.7470630490758438 -1.028244768037681 1.6637329491061152\\nB -1.2087733424133342 0.3927533262334774 1.6637336504489317\\nB -1.7233272739865616e-07 1.2709784694567263 1.6637342210852362\\nB 1.2087730248035458 0.3927533634722774 1.6637338724150532\\nB 0.7470627752430234 -1.0282447450228378 1.6637330862887239\\nB -1.2087731940415345 -1.6637337800513985 0.3927532338698196\\nB -1.9558360499184653 -0.6354894946818079 -0.3927547278150616\\nB -1.9558361416172811 0.6354894344281636 0.3927543686663316\\nN -1.2087731731753453 1.6637337428125987 -0.3927534558359433\\nN -6.773789598606984e-08 2.056487565938124 0.39275529197526404\\nB 1.2087731940415312 1.6637337800513998 -0.39275323386982036\\nN 1.9558360499184648 0.6354894946818068 0.39275472781506304\\nN 1.9558361416172825 -0.6354894344281595 -0.39275436866633023\\nN 1.2087731731753484 -1.6637337428125984 0.3927534558359393\\nN 6.773789888870181e-08 -2.0564875659381237 -0.39275529197526854\\nN -0.7470627752430239 1.028244745022837 -1.6637330862887225\\nN 0.7470630490758433 1.02824476803768 -1.663732949106114\\nB 1.2087733424133338 -0.39275332623347853 -1.6637336504489304\\nN 1.7233272693236251e-07 -1.2709784694567272 -1.6637342210852348\\nN -1.2087730248035462 -0.3927533634722785 -1.6637338724150519'"
      ]
     },
     "execution_count": 14,
     "metadata": {},
     "output_type": "execute_result"
    }
   ],
   "source": [
    "def xyz_for_target(target):\n",
    "    lines = ['20', target]\n",
    "    elements = {'5': 'B', '6': 'C', '7': 'N'}\n",
    "    inlines = open('c20-symmetric.xyz').readlines()[2:]\n",
    "    for number, coords in zip(target, inlines):\n",
    "        lines.append('%s %s' % (elements[number], coords.strip().split(maxsplit=1)[1]))\n",
    "    return '\\n'.join(lines)\n",
    "xyz_for_target('55555555775777777577')"
   ]
  },
  {
   "cell_type": "code",
   "execution_count": 15,
   "metadata": {},
   "outputs": [],
   "source": [
    "targets = [_.strip() for _ in open('selection').readlines()]"
   ]
  },
  {
   "cell_type": "code",
   "execution_count": 16,
   "metadata": {},
   "outputs": [],
   "source": [
    "for target in targets:\n",
    "    with open('xyz/%s.xyz' % target, 'w') as fh:\n",
    "        fh.write(xyz_for_target(target))"
   ]
  }
 ],
 "metadata": {
  "kernelspec": {
   "display_name": "Python [conda env:analysis]",
   "language": "python",
   "name": "conda-env-analysis-py"
  },
  "language_info": {
   "codemirror_mode": {
    "name": "ipython",
    "version": 3
   },
   "file_extension": ".py",
   "mimetype": "text/x-python",
   "name": "python",
   "nbconvert_exporter": "python",
   "pygments_lexer": "ipython3",
   "version": "3.6.8"
  }
 },
 "nbformat": 4,
 "nbformat_minor": 2
}
