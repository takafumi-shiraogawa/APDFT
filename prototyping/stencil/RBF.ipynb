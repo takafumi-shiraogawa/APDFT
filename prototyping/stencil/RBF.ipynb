{
 "cells": [
  {
   "cell_type": "code",
   "execution_count": 2,
   "metadata": {},
   "outputs": [],
   "source": [
    "# try polyharmonic basis functions for thin-plate RBF"
   ]
  },
  {
   "cell_type": "code",
   "execution_count": 41,
   "metadata": {},
   "outputs": [],
   "source": [
    "import numpy as np\n",
    "import scipy.spatial.distance as sd\n",
    "import matplotlib.pyplot as plt"
   ]
  },
  {
   "cell_type": "code",
   "execution_count": 40,
   "metadata": {},
   "outputs": [
    {
     "data": {
      "text/plain": [
       "array([[ 0.00000000e+00,  0.00000000e+00,  0.00000000e+00,\n",
       "         1.00000000e+00, -2.00000000e+01,  2.00000000e+01],\n",
       "       [ 0.00000000e+00,  0.00000000e+00,  0.00000000e+00,\n",
       "         0.00000000e+00,  2.00000000e+01,  0.00000000e+00],\n",
       "       [-0.00000000e+00, -0.00000000e+00, -0.00000000e+00,\n",
       "        -0.00000000e+00, -0.00000000e+00, -2.00000000e+01],\n",
       "       [ 1.00000000e+00,  0.00000000e+00,  0.00000000e+00,\n",
       "         0.00000000e+00, -2.50000000e-03,  2.50000000e-03],\n",
       "       [-2.00000000e+01,  2.00000000e+01,  0.00000000e+00,\n",
       "        -2.50000000e-03,  1.00000000e-01,  4.14213562e-02],\n",
       "       [ 2.00000000e+01, -0.00000000e+00, -2.00000000e+01,\n",
       "         2.50000000e-03,  4.14213562e-02,  1.00000000e-01]])"
      ]
     },
     "execution_count": 40,
     "metadata": {},
     "output_type": "execute_result"
    }
   ],
   "source": [
    "def build_stencil_matrix(stencil, kernel=lambda _:_):\n",
    "    Npoints, Ndim = stencil.shape\n",
    "    \n",
    "    ds = sd.squareform(sd.pdist(stencil))\n",
    "    \n",
    "    mat = np.zeros(((Npoints + 1 + Ndim), (Npoints + 1 + Ndim)))\n",
    "    mat[:Npoints, :Npoints] = kernel(ds)\n",
    "    mat[Npoints, :Npoints] = 1\n",
    "    mat[:Npoints, Npoints] = 1\n",
    "    mat[Npoints+1:, :Npoints] = stencil.T\n",
    "    mat[:Npoints, Npoints+1:] = stencil\n",
    "    \n",
    "    return np.linalg.inv(mat)\n",
    "build_stencil_matrix(stencil, lambda _: _**3)"
   ]
  },
  {
   "cell_type": "code",
   "execution_count": 38,
   "metadata": {},
   "outputs": [
    {
     "data": {
      "text/plain": [
       "array([[ 0.  ,  0.  ],\n",
       "       [ 0.05,  0.  ],\n",
       "       [ 0.  , -0.05]])"
      ]
     },
     "execution_count": 38,
     "metadata": {},
     "output_type": "execute_result"
    }
   ],
   "source": [
    "h = 0.05\n",
    "stencil = np.array(([0, 0], [0, h],[0, -h], [-h, 0], [h, 0]))\n",
    "stencil = np.array(([0, 0], [h, 0],[0, -h]))\n",
    "stencil"
   ]
  },
  {
   "cell_type": "code",
   "execution_count": 44,
   "metadata": {},
   "outputs": [
    {
     "data": {
      "text/plain": [
       "array([ 1.11637992e-17,  2.87364728e-17, -3.99002720e-17, -1.00000000e-02,\n",
       "       -1.00000000e-01, -1.00000000e-01])"
      ]
     },
     "execution_count": 44,
     "metadata": {},
     "output_type": "execute_result"
    },
    {
     "data": {
      "image/png": "[encoded data removed]",
      "text/plain": [
       "<Figure size 432x288 with 1 Axes>"
      ]
     },
     "metadata": {
      "needs_background": "light"
     },
     "output_type": "display_data"
    }
   ],
   "source": [
    "def test_with_sample_function(stencil):\n",
    "    function = lambda x, y: -((x+0.1)*(y+0.1))\n",
    "    xss = np.linspace(-1, 1, 20)\n",
    "    xs, ys = stencil[:, 0], stencil[:, 1]\n",
    "    fval = function(xs, ys)\n",
    "    plt.plot(xss, function(xss, xss), label='true')\n",
    "    Ainv = build_stencil_matrix(stencil)\n",
    "    b = np.zeros(Ainv.shape[0])\n",
    "    b[:len(fval)] = fval\n",
    "    res = Ainv.dot(b)\n",
    "    w1, w2, w3, v1, v2, v3 = res\n",
    "    plt.legend()\n",
    "    return res\n",
    "test_with_sample_function(stencil)"
   ]
  },
  {
   "cell_type": "code",
   "execution_count": null,
   "metadata": {},
   "outputs": [],
   "source": []
  }
 ],
 "metadata": {
  "kernelspec": {
   "display_name": "Python [conda env:analysis]",
   "language": "python",
   "name": "conda-env-analysis-py"
  },
  "language_info": {
   "codemirror_mode": {
    "name": "ipython",
    "version": 3
   },
   "file_extension": ".py",
   "mimetype": "text/x-python",
   "name": "python",
   "nbconvert_exporter": "python",
   "pygments_lexer": "ipython3",
   "version": "3.6.8"
  }
 },
 "nbformat": 4,
 "nbformat_minor": 2
}
