{
 "cells": [
  {
   "cell_type": "code",
   "execution_count": 15,
   "metadata": {},
   "outputs": [],
   "source": [
    "import sys\n",
    "import pyscf\n",
    "import os\n",
    "from pyscf import dft\n",
    "import numpy as np\n",
    "sys.path.append('../../src/')\n",
    "from apdft.calculator.gaussian import GaussianCalculator\n",
    "# load local orbkit\n",
    "sys.path.append(\"/mnt/c/Users/guido/workcopies/apdft/dep/orbkit/orbkit\")\n",
    "import orbkit"
   ]
  },
  {
   "cell_type": "code",
   "execution_count": 16,
   "metadata": {},
   "outputs": [],
   "source": [
    "def _get_grid(nuclear_numbers, coordinates):\n",
    "    \"\"\" Returns the default integration grid in Angstrom.\"\"\"\n",
    "    mol = pyscf.gto.Mole()\n",
    "    for nuclear, coord in zip(nuclear_numbers, coordinates):\n",
    "        # pyscf molecule init is in Angstrom\n",
    "        mol.atom.extend([[nuclear, *coord]])\n",
    "    mol.build()\n",
    "    grid = dft.gen_grid.Grids(mol)\n",
    "    grid.level = 3\n",
    "    grid.build()\n",
    "    # pyscf grid is in a.u.\n",
    "    return grid.coords / (1 / 0.52917721067), grid.weights\n",
    "def density_on_grid(inputfile, grid):\n",
    "        orbkit.options.quiet = True\n",
    "        orbkit.grid.x = grid[:, 0] * 1.88973\n",
    "        orbkit.grid.y = grid[:, 1] * 1.88973\n",
    "        orbkit.grid.z = grid[:, 2] * 1.88973\n",
    "        orbkit.grid.is_initialized = True\n",
    "\n",
    "        try:\n",
    "            qc = orbkit.read.main_read(inputfile, itype=\"gaussian.fchk\")\n",
    "            rho = orbkit.core.rho_compute(qc, numproc=1)\n",
    "        except:\n",
    "            log.log(\n",
    "                \"Unable to read fchk file with orbkit.\",\n",
    "                level=\"error\",\n",
    "                filename=inputfile,\n",
    "            )\n",
    "            return grid[:, 0] * 0\n",
    "        return rho"
   ]
  },
  {
   "cell_type": "code",
   "execution_count": 3,
   "metadata": {},
   "outputs": [],
   "source": [
    "gridcoords, gridweights = _get_grid([7, 7], [[0., 0.,0.], [0.,0.,1.0]])"
   ]
  },
  {
   "cell_type": "code",
   "execution_count": 17,
   "metadata": {},
   "outputs": [],
   "source": [
    "rho = density_on_grid('../../test/data/apdft-run/order-1/site-0-up/run.fchk', gridcoords)"
   ]
  },
  {
   "cell_type": "code",
   "execution_count": 18,
   "metadata": {},
   "outputs": [
    {
     "data": {
      "text/plain": [
       "13.999914750656654"
      ]
     },
     "execution_count": 18,
     "metadata": {},
     "output_type": "execute_result"
    }
   ],
   "source": [
    "(rho*gridweights).sum()"
   ]
  },
  {
   "cell_type": "code",
   "execution_count": 19,
   "metadata": {},
   "outputs": [],
   "source": [
    "def get_modepn(coordinates, gridcoords, densweight):\n",
    "    modepns = []\n",
    "    for site in coordinates:\n",
    "        ds = np.linalg.norm(gridcoords - site, axis=1)* ( 1 / 0.52917721067)\n",
    "        \n",
    "        modepns.append((densweight / ds).sum())\n",
    "    return modepns"
   ]
  },
  {
   "cell_type": "code",
   "execution_count": 94,
   "metadata": {},
   "outputs": [
    {
     "data": {
      "text/plain": [
       "[21.601980474332226, 21.648818350378143]"
      ]
     },
     "execution_count": 94,
     "metadata": {},
     "output_type": "execute_result"
    }
   ],
   "source": [
    "get_modepn(np.array([[0., 0.,0.], [0.,0.,1.0]]), gridcoords, density_on_grid('../../test/data/apdft-run/order-1/site-0-dn/run.fchk', gridcoords)*gridweights)"
   ]
  },
  {
   "cell_type": "code",
   "execution_count": 96,
   "metadata": {},
   "outputs": [
    {
     "data": {
      "text/plain": [
       "array([21.60206747, 21.67536947])"
      ]
     },
     "execution_count": 96,
     "metadata": {},
     "output_type": "execute_result"
    }
   ],
   "source": [
    "GaussianCalculator.get_epn('../../test/data/apdft-run/order-1/site-0-dn/', np.array([[0., 0.,0.], [0.,0.,1.0]]), [0,1], [7, 7])"
   ]
  },
  {
   "cell_type": "markdown",
   "metadata": {},
   "source": [
    "## prediction"
   ]
  },
  {
   "cell_type": "code",
   "execution_count": 33,
   "metadata": {},
   "outputs": [],
   "source": [
    "get_dens = lambda _: density_on_grid('../../test/data/apdft-run/%s/run.fchk' % _, gridcoords)\n",
    "rho_r = get_dens('order-0/site-all-cc')\n",
    "d_rho_d_Z1 = get_dens('order-1/site-0-up') - get_dens('order-1/site-0-dn')\n",
    "d_rho_d_Z2 = get_dens('order-1/site-1-up') - get_dens('order-1/site-1-dn')\n",
    "d2_rho_dZ1 = get_dens('order-1/site-0-up') + get_dens('order-1/site-0-dn') - rho_r\n",
    "d2_rho_dZ2 = get_dens('order-1/site-1-up') + get_dens('order-1/site-1-dn') - rho_r\n",
    "d2_mixed = get_dens('order-2/site-0-1-up') + get_dens('order-2/site-0-1-dn') -d2_rho_dZ1-d2_rho_dZ2"
   ]
  },
  {
   "cell_type": "code",
   "execution_count": 39,
   "metadata": {},
   "outputs": [
    {
     "name": "stdout",
     "output_type": "stream",
     "text": [
      "0 5.8262637168127185e-06\n",
      "1 -0.9356666974103722\n",
      "2 3.884918479002408e-05\n"
     ]
    }
   ],
   "source": [
    "signs = (-1, 1)\n",
    "def eval_dV(rhotilde):\n",
    "    E = 0.\n",
    "    for site in (0, 1):\n",
    "        ds = np.linalg.norm(gridcoords - np.array([0., 0., site]), axis=1)* ( 1 / 0.52917721067)\n",
    "        E+= -signs[site]*(gridweights * rhotilde / ds).sum()\n",
    "    return E\n",
    "# order 0\n",
    "print (0, eval_dV(rho_r))\n",
    "\n",
    "# order 1\n",
    "print (1, eval_dV(signs[0]*d_rho_d_Z1 / (2*2*0.05) + signs[1]*d_rho_d_Z2 / (2*2*0.05)))\n",
    "\n",
    "# order 2\n",
    "print (2, eval_dV((d2_rho_dZ1 / (3*0.05*2))+ (d2_rho_dZ2 / (3*0.05*2)) + (d2_mixed / (3*2*0.05*2))))"
   ]
  },
  {
   "cell_type": "code",
   "execution_count": 104,
   "metadata": {},
   "outputs": [],
   "source": [
    "def get_epn_coefficients(include_atoms, orders, deltaZ):\n",
    "        \"\"\" EPN coefficients are the weighting of the electronic EPN from each of the finite difference calculations.\n",
    "        \n",
    "        The weights depend on the change in nuclear charge, i.e. implicitly on reference and target molecule as well as the finite difference stencil employed.\n",
    "        TODO: Fix hard-coded weights from stencil.\"\"\"\n",
    "        # build alphas\n",
    "        N = len(include_atoms)\n",
    "        nvals = {0: 1, 1: N * 2, 2: N * (N - 1)}\n",
    "        alphas = np.zeros(sum([nvals[_] for _ in orders]))\n",
    "\n",
    "        # order 0\n",
    "        if 0 in orders:\n",
    "            alphas[0] = 1\n",
    "\n",
    "        # order 1\n",
    "        if 1 in orders:\n",
    "            for siteidx in range(N):\n",
    "                alphas[1 + siteidx * 2] += 5 * deltaZ[siteidx]\n",
    "                alphas[1 + siteidx * 2 + 1] -= 5 * deltaZ[siteidx]\n",
    "        #return alphas\n",
    "\n",
    "        # order 2\n",
    "        if 2 in orders:\n",
    "            pos = 1 + N * 2 - 2\n",
    "            for siteidx_i in range(N):\n",
    "                for siteidx_j in range(siteidx_i, N):\n",
    "                    if siteidx_i != siteidx_j:\n",
    "                        pos += 2\n",
    "                    if deltaZ[siteidx_j] == 0 or deltaZ[siteidx_i] == 0:\n",
    "                        continue\n",
    "                    if include_atoms[siteidx_j] > include_atoms[siteidx_i]:\n",
    "                        prefactor = (\n",
    "                            2 * (200 / 6.0) * deltaZ[siteidx_i] * deltaZ[siteidx_j]\n",
    "                        )\n",
    "                        alphas[pos] += prefactor\n",
    "                        alphas[pos + 1] += prefactor\n",
    "                        alphas[0] += 2 * prefactor\n",
    "                        alphas[1 + siteidx_i * 2] -= prefactor\n",
    "                        alphas[1 + siteidx_i * 2 + 1] -= prefactor\n",
    "                        alphas[1 + siteidx_j * 2] -= prefactor\n",
    "                        alphas[1 + siteidx_j * 2 + 1] -= prefactor\n",
    "                    if include_atoms[siteidx_j] == include_atoms[siteidx_i]:\n",
    "                        prefactor = (400 / 6.0) * deltaZ[siteidx_i] * deltaZ[siteidx_j]\n",
    "                        alphas[0] -= 2 * prefactor\n",
    "                        alphas[1 + siteidx_i * 2] += prefactor\n",
    "                        alphas[1 + siteidx_j * 2 + 1] += prefactor\n",
    "\n",
    "        return alphas\n",
    "def _calculate_delta_Z_vector(numatoms, order, sites, direction):\n",
    "        baseline = np.zeros(numatoms)\n",
    "\n",
    "        if order > 0:\n",
    "            sign = {\"up\": 1, \"dn\": -1}[direction] * 0.05\n",
    "            baseline[list(sites)] += sign\n",
    "\n",
    "        return baseline\n",
    "def get_epn_matrix(include_atoms, coordinates, basepath, nuclear_numbers):\n",
    "        \"\"\" Collects :math:`\\int_Omega rho_i(\\mathbf{r}) /|\\mathbf{r}-\\mathbf{R}_I|`. \"\"\"\n",
    "        N = len(include_atoms)\n",
    "\n",
    "        coefficients = np.zeros((1 + N * 2 + N * (N - 1), N))\n",
    "\n",
    "        # order 0\n",
    "        pos = 0\n",
    "\n",
    "        def get_epn(folder, order, direction, combination):\n",
    "            res = 0.0\n",
    "            charges = nuclear_numbers + _calculate_delta_Z_vector(\n",
    "                        len(nuclear_numbers), order, combination, direction\n",
    "                    )\n",
    "            print (folder, len(nuclear_numbers), order, combination, direction)\n",
    "            try:\n",
    "                res = GaussianCalculator.get_epn(\n",
    "                    folder,\n",
    "                    coordinates,\n",
    "                    include_atoms,\n",
    "                    charges,\n",
    "                )\n",
    "            except ValueError:\n",
    "                apdft.log.log(\n",
    "                    \"Calculation with incomplete results.\",\n",
    "                    level=\"error\",\n",
    "                    calulation=folder,\n",
    "                )\n",
    "            return res\n",
    "        \n",
    "\n",
    "        coefficients[pos, :] = get_epn(\"%s/order-0/site-all-cc/\" % basepath, 0, 'up', 0)\n",
    "        pos += 1\n",
    "\n",
    "        # order 1\n",
    "        for site in include_atoms:\n",
    "            coefficients[pos, :] = get_epn(\n",
    "                \"%s/order-1/site-%d-up/\" % (basepath, site), 1, 'up', [site]\n",
    "            )\n",
    "            coefficients[pos + 1, :] = get_epn(\n",
    "                \"%s/order-1/site-%d-dn/\" % (basepath, site), 1, 'dn', [site]\n",
    "            )\n",
    "            pos += 2\n",
    "\n",
    "        # order 2\n",
    "        for site_i in include_atoms:\n",
    "            for site_j in include_atoms:\n",
    "                if site_j <= site_i:\n",
    "                    continue\n",
    "\n",
    "                coefficients[pos, :] = get_epn(\n",
    "                    \"%s/order-2/site-%d-%d-up/\" % (basepath, site_i, site_j), 2, 'up', [site_i, site_j]\n",
    "                )\n",
    "                coefficients[pos + 1, :] = get_epn(\n",
    "                    \"%s/order-2/site-%d-%d-dn/\" % (basepath, site_i, site_j), 2, 'dn', [site_i, site_j]\n",
    "                )\n",
    "                pos += 2\n",
    "\n",
    "        return coefficients"
   ]
  },
  {
   "cell_type": "code",
   "execution_count": 105,
   "metadata": {},
   "outputs": [],
   "source": [
    "alphas = get_epn_coefficients([0, 1], [0, 1, 2], signs)"
   ]
  },
  {
   "cell_type": "code",
   "execution_count": 106,
   "metadata": {},
   "outputs": [
    {
     "name": "stdout",
     "output_type": "stream",
     "text": [
      "../../test/data/apdft-run//order-0/site-all-cc/ 2 0 0 up\n",
      "../../test/data/apdft-run//order-1/site-0-up/ 2 1 [0] up\n",
      "../../test/data/apdft-run//order-1/site-0-dn/ 2 1 [0] dn\n",
      "../../test/data/apdft-run//order-1/site-1-up/ 2 1 [1] up\n",
      "../../test/data/apdft-run//order-1/site-1-dn/ 2 1 [1] dn\n",
      "../../test/data/apdft-run//order-2/site-0-1-up/ 2 2 [0, 1] up\n",
      "../../test/data/apdft-run//order-2/site-0-1-dn/ 2 2 [0, 1] dn\n"
     ]
    }
   ],
   "source": [
    "mat = get_epn_matrix([0, 1], np.array([[0., 0.,0.], [0.,0.,1.0]]), '../../test/data/apdft-run/', [7, 7])"
   ]
  },
  {
   "cell_type": "code",
   "execution_count": 107,
   "metadata": {},
   "outputs": [
    {
     "data": {
      "text/plain": [
       "-0.9356627893298537"
      ]
     },
     "execution_count": 107,
     "metadata": {},
     "output_type": "execute_result"
    }
   ],
   "source": [
    "# TODO: get_epn needs fractional nuclear charges for that calc\n",
    "-np.sum(np.multiply(np.outer(alphas, signs), mat))"
   ]
  },
  {
   "cell_type": "code",
   "execution_count": 81,
   "metadata": {},
   "outputs": [
    {
     "data": {
      "text/plain": [
       "1.2827766532531655"
      ]
     },
     "execution_count": 81,
     "metadata": {},
     "output_type": "execute_result"
    }
   ],
   "source": [
    "-1.2002513946645195/-0.9356666974103722"
   ]
  },
  {
   "cell_type": "code",
   "execution_count": 82,
   "metadata": {},
   "outputs": [
    {
     "data": {
      "text/plain": [
       "array([[21.62733747, 21.62733747],\n",
       "       [21.65248147, 21.60575834],\n",
       "       [21.60206747, 21.67536947],\n",
       "       [21.60575834, 21.65248147],\n",
       "       [21.67536947, 21.60206747],\n",
       "       [21.63089634, 21.63089634],\n",
       "       [21.62363561, 21.62363561]])"
      ]
     },
     "execution_count": 82,
     "metadata": {},
     "output_type": "execute_result"
    }
   ],
   "source": [
    "mat"
   ]
  },
  {
   "cell_type": "code",
   "execution_count": 86,
   "metadata": {},
   "outputs": [],
   "source": [
    "FNS='''%s/order-0/site-all-cc/\n",
    "%s/order-1/site-0-up/\n",
    "%s/order-1/site-0-dn/\n",
    "%s/order-1/site-1-up/\n",
    "%s/order-1/site-1-dn/\n",
    "%s/order-2/site-0-1-up/\n",
    "%s/order-2/site-0-1-dn/'''.split()\n",
    "\n",
    "res = []\n",
    "for fn in FNS:\n",
    "    res.append((get_modepn(np.array([[0., 0.,0.], [0.,0.,1.0]]), gridcoords, density_on_grid((fn % '../../test/data/apdft-run')+'run.fchk', gridcoords)*gridweights)))"
   ]
  },
  {
   "cell_type": "code",
   "execution_count": 88,
   "metadata": {},
   "outputs": [
    {
     "data": {
      "text/plain": [
       "array([[-8.65190016e-05, -9.23452654e-05],\n",
       "       [-8.67201438e-05, -9.23457747e-05],\n",
       "       [-8.70003578e-05, -2.65511243e-02],\n",
       "       [-8.64847071e-05, -9.24844793e-05],\n",
       "       [-2.65453227e-02, -9.28812946e-05],\n",
       "       [-8.71009919e-05, -9.29017143e-05],\n",
       "       [-8.73277341e-05, -9.31810483e-05]])"
      ]
     },
     "execution_count": 88,
     "metadata": {},
     "output_type": "execute_result"
    }
   ],
   "source": [
    "np.array(res) - mat"
   ]
  },
  {
   "cell_type": "code",
   "execution_count": 89,
   "metadata": {},
   "outputs": [
    {
     "data": {
      "text/plain": [
       "array([[21.62725096, 21.62724513],\n",
       "       [21.65239475, 21.60566599],\n",
       "       [21.60198047, 21.64881835],\n",
       "       [21.60567185, 21.65238899],\n",
       "       [21.64882415, 21.60197459],\n",
       "       [21.63080923, 21.63080343],\n",
       "       [21.62354829, 21.62354243]])"
      ]
     },
     "execution_count": 89,
     "metadata": {},
     "output_type": "execute_result"
    }
   ],
   "source": [
    "np.array(res)"
   ]
  },
  {
   "cell_type": "code",
   "execution_count": 92,
   "metadata": {},
   "outputs": [
    {
     "data": {
      "text/plain": [
       "[21.601980474332226, 21.648818350378143]"
      ]
     },
     "execution_count": 92,
     "metadata": {},
     "output_type": "execute_result"
    }
   ],
   "source": [
    "get_modepn(np.array([[0., 0.,0.], [0.,0.,1.0]]), gridcoords, density_on_grid(('../../test/data/apdft-run/order-1/site-0-dn/')+'run.fchk', gridcoords)*gridweights)"
   ]
  },
  {
   "cell_type": "code",
   "execution_count": 97,
   "metadata": {},
   "outputs": [
    {
     "data": {
      "text/plain": [
       "array([[21.62733747, 21.62733747],\n",
       "       [21.65248147, 21.60575834],\n",
       "       [21.60206747, 21.67536947],\n",
       "       [21.60575834, 21.65248147],\n",
       "       [21.67536947, 21.60206747],\n",
       "       [21.63089634, 21.63089634],\n",
       "       [21.62363561, 21.62363561]])"
      ]
     },
     "execution_count": 97,
     "metadata": {},
     "output_type": "execute_result"
    }
   ],
   "source": [
    "mat"
   ]
  },
  {
   "cell_type": "code",
   "execution_count": null,
   "metadata": {},
   "outputs": [],
   "source": []
  }
 ],
 "metadata": {
  "kernelspec": {
   "display_name": "Python [conda env:analysis]",
   "language": "python",
   "name": "conda-env-analysis-py"
  },
  "language_info": {
   "codemirror_mode": {
    "name": "ipython",
    "version": 3
   },
   "file_extension": ".py",
   "mimetype": "text/x-python",
   "name": "python",
   "nbconvert_exporter": "python",
   "pygments_lexer": "ipython3",
   "version": "3.6.8"
  }
 },
 "nbformat": 4,
 "nbformat_minor": 2
}
