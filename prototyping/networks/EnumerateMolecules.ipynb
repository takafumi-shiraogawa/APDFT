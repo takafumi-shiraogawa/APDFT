{
 "cells": [
  {
   "cell_type": "code",
   "execution_count": 7,
   "metadata": {},
   "outputs": [],
   "source": [
    "import networkx as nx\n",
    "import numpy as np\n",
    "import pandas as pd\n",
    "import pymatgen\n",
    "import pymatgen.io.xyz\n",
    "import itertools as it\n",
    "#targets = ((6,7,7,6,5,5), (7,7,5,5,6,6), (7,7,5,6,5,6), (7,6,7,5,5,6), (5,6,5,7,6,7), (6,6,7,5,5,7), (6,6,5,7,7,5), (7,6,5,7,5,6), (5, 6, 7, 5, 7, 6), (6,6,7,5,7,5), (6,7,5,6,7,5))"
   ]
  },
  {
   "cell_type": "code",
   "execution_count": 2,
   "metadata": {},
   "outputs": [],
   "source": [
    "def detect_automorphisms(filename):\n",
    "    xyz = pymatgen.io.xyz.XYZ.from_file(filename)\n",
    "    psa = pymatgen.symmetry.analyzer.PointGroupAnalyzer(xyz.molecule)\n",
    "    \n",
    "    m = xyz.molecule.get_centered_molecule()\n",
    "    carbons = np.where(np.array(m.atomic_numbers, dtype=np.int) == 6)[0]\n",
    "    \n",
    "    operations = psa.get_symmetry_operations()\n",
    "    mapping = np.zeros((len(carbons), len(operations)), dtype=np.int)\n",
    "    for opidx, op in enumerate(operations):\n",
    "        for bidx, base in enumerate(carbons):\n",
    "            ds = np.linalg.norm(op.operate(m.cart_coords[base]) - m.cart_coords[carbons], axis=1)\n",
    "            onto = np.argmin(ds)\n",
    "            if ds[onto] > 1e-3:\n",
    "                raise ValueError('Irregular geometry')\n",
    "            mapping[bidx, opidx] = onto\n",
    "    \n",
    "    return mapping\n",
    "def two_at_once(based_on, mappings):\n",
    "    modifiable = sorted(np.where(np.array(based_on) == 6)[0])\n",
    "    for i in modifiable:\n",
    "        for j in modifiable:\n",
    "            if i == j:\n",
    "                continue\n",
    "            zsnew = np.array(based_on).copy()\n",
    "            zsnew[i] = 5\n",
    "            zsnew[j] = 7\n",
    "            \n",
    "            if is_canonical(zsnew, mappings):\n",
    "                yield zsnew\n",
    "def make_canonical(zs, mappings):\n",
    "    zs = np.array(zs)\n",
    "    #if len(np.where(zs == 7)[0]) > len(np.where(zs == 5)[0]):\n",
    "    #    return False\n",
    "    permutations = zs[mappings].T\n",
    "    o = np.lexsort(permutations.T)\n",
    "    canonical = permutations[o[0]]\n",
    "    return canonical\n",
    "def is_canonical(zs, mappings):\n",
    "    return (zs == make_canonical(zs, mappings)).all()"
   ]
  },
  {
   "cell_type": "code",
   "execution_count": 3,
   "metadata": {},
   "outputs": [],
   "source": [
    "def enumerate_next_bn(based_on):\n",
    "    mappings = detect_automorphisms(\"naphtalene.xyz\")\n",
    "    \n",
    "    res = []\n",
    "    for k in two_at_once(based_on, mappings):\n",
    "        res.append(tuple(k))\n",
    "    return set(res)"
   ]
  },
  {
   "cell_type": "code",
   "execution_count": 4,
   "metadata": {},
   "outputs": [],
   "source": [
    "bn1 = enumerate_next_bn((6,6,6,6,6,6,6,6,6,6))\n",
    "bn2 = set.union(*[enumerate_next_bn(_) for _ in bn1])\n",
    "bn3 = set.union(*[enumerate_next_bn(_) for _ in bn2])\n",
    "bn4 = set.union(*[enumerate_next_bn(_) for _ in bn3])\n",
    "bn5 = set.union(*[enumerate_next_bn(_) for _ in bn4])"
   ]
  },
  {
   "cell_type": "code",
   "execution_count": 5,
   "metadata": {},
   "outputs": [
    {
     "data": {
      "text/plain": [
       "(23, 320, 1026, 801, 66)"
      ]
     },
     "execution_count": 5,
     "metadata": {},
     "output_type": "execute_result"
    }
   ],
   "source": [
    "len(bn1), len(bn2), len(bn3), len(bn4), len(bn5)"
   ]
  },
  {
   "cell_type": "code",
   "execution_count": 9,
   "metadata": {},
   "outputs": [],
   "source": [
    "found = []\n",
    "mappings = detect_automorphisms(\"naphtalene.xyz\")\n",
    "for combo in it.permutations((5,7,5,7,6,6,6,6,6,6)):\n",
    "    if is_canonical(combo, mappings):\n",
    "        found.append(tuple(combo))"
   ]
  },
  {
   "cell_type": "code",
   "execution_count": 21,
   "metadata": {},
   "outputs": [
    {
     "data": {
      "text/plain": [
       "2236"
      ]
     },
     "execution_count": 21,
     "metadata": {},
     "output_type": "execute_result"
    }
   ],
   "source": [
    "# ref: 23, 330, 1056, 810, 66"
   ]
  },
  {
   "cell_type": "code",
   "execution_count": 15,
   "metadata": {},
   "outputs": [
    {
     "data": {
      "text/plain": [
       "{(5, 5, 6, 6, 6, 6, 6, 7, 7, 6),\n",
       " (5, 5, 6, 7, 7, 6, 6, 6, 6, 6),\n",
       " (5, 6, 6, 6, 5, 6, 6, 7, 7, 6),\n",
       " (5, 6, 6, 6, 6, 5, 6, 7, 7, 6),\n",
       " (6, 5, 6, 6, 5, 6, 6, 7, 7, 6),\n",
       " (6, 5, 6, 6, 6, 5, 6, 7, 7, 6),\n",
       " (6, 6, 5, 6, 6, 5, 6, 7, 7, 6),\n",
       " (6, 6, 6, 5, 5, 6, 6, 7, 7, 6),\n",
       " (6, 6, 6, 5, 6, 5, 6, 7, 7, 6),\n",
       " (6, 6, 6, 6, 5, 5, 6, 7, 7, 6)}"
      ]
     },
     "execution_count": 15,
     "metadata": {},
     "output_type": "execute_result"
    }
   ],
   "source": [
    "set(found) - bn2"
   ]
  },
  {
   "cell_type": "code",
   "execution_count": 16,
   "metadata": {},
   "outputs": [
    {
     "data": {
      "text/plain": [
       "{(5, 6, 6, 6, 6, 6, 7, 6, 6, 6),\n",
       " (5, 6, 7, 6, 6, 6, 6, 6, 6, 6),\n",
       " (6, 5, 6, 6, 6, 6, 7, 6, 6, 6),\n",
       " (6, 5, 7, 6, 6, 6, 6, 6, 6, 6),\n",
       " (6, 6, 5, 6, 6, 6, 7, 6, 6, 6),\n",
       " (6, 6, 6, 5, 6, 6, 7, 6, 6, 6),\n",
       " (6, 6, 6, 6, 5, 6, 7, 6, 6, 6),\n",
       " (6, 6, 6, 6, 6, 5, 7, 6, 6, 6),\n",
       " (6, 6, 6, 6, 6, 6, 6, 6, 7, 5),\n",
       " (6, 6, 6, 6, 6, 6, 6, 7, 6, 5),\n",
       " (6, 6, 6, 6, 6, 6, 7, 6, 6, 5),\n",
       " (6, 6, 6, 6, 6, 7, 6, 6, 6, 5),\n",
       " (6, 6, 6, 6, 7, 5, 6, 6, 6, 6),\n",
       " (6, 6, 6, 6, 7, 6, 6, 6, 6, 5),\n",
       " (6, 6, 6, 7, 6, 5, 6, 6, 6, 6),\n",
       " (6, 6, 6, 7, 6, 6, 6, 6, 6, 5),\n",
       " (6, 6, 7, 6, 6, 5, 6, 6, 6, 6),\n",
       " (6, 6, 7, 6, 6, 6, 6, 6, 6, 5),\n",
       " (6, 7, 6, 6, 6, 5, 6, 6, 6, 6),\n",
       " (6, 7, 6, 6, 6, 6, 6, 6, 6, 5),\n",
       " (7, 5, 6, 6, 6, 6, 6, 6, 6, 6),\n",
       " (7, 6, 6, 6, 6, 5, 6, 6, 6, 6),\n",
       " (7, 6, 6, 6, 6, 6, 6, 6, 6, 5)}"
      ]
     },
     "execution_count": 16,
     "metadata": {},
     "output_type": "execute_result"
    }
   ],
   "source": [
    "bn1"
   ]
  },
  {
   "cell_type": "code",
   "execution_count": 17,
   "metadata": {},
   "outputs": [
    {
     "data": {
      "text/plain": [
       "300129.2"
      ]
     },
     "execution_count": 17,
     "metadata": {},
     "output_type": "execute_result"
    }
   ],
   "source": [
    "12005168*90/60/60"
   ]
  },
  {
   "cell_type": "code",
   "execution_count": 29,
   "metadata": {},
   "outputs": [
    {
     "name": "stdout",
     "output_type": "stream",
     "text": [
      "0 1\n",
      "1 2\n",
      "2 3\n",
      "3 4\n",
      "4 5\n",
      "5 6\n",
      "6 7\n",
      "7 8\n",
      "8 9\n"
     ]
    }
   ],
   "source": [
    "graph = nx.Graph()\n",
    "for i in range(10):\n",
    "    graph.add_node(i)\n",
    "for i in range(5):\n",
    "    print (i, i+1)\n",
    "    graph.add_edge(i, i+1)\n",
    "graph.add_edge(5, 0)\n",
    "for i in range(5, 9):\n",
    "    print (i, i+1)\n",
    "    graph.add_edge(i, i+1)\n",
    "graph.add_edge(4, 9)"
   ]
  },
  {
   "cell_type": "code",
   "execution_count": 23,
   "metadata": {},
   "outputs": [
    {
     "ename": "AttributeError",
     "evalue": "module 'networkx' has no attribute 'generate_graph6'",
     "output_type": "error",
     "traceback": [
      "\u001b[0;31m---------------------------------------------------------------------------\u001b[0m",
      "\u001b[0;31mAttributeError\u001b[0m                            Traceback (most recent call last)",
      "\u001b[0;32m<ipython-input-23-66452a2d8eb1>\u001b[0m in \u001b[0;36m<module>\u001b[0;34m\u001b[0m\n\u001b[0;32m----> 1\u001b[0;31m \u001b[0mnx\u001b[0m\u001b[0;34m.\u001b[0m\u001b[0mgenerate_graph6\u001b[0m\u001b[0;34m(\u001b[0m\u001b[0mgraph\u001b[0m\u001b[0;34m,\u001b[0m \u001b[0mheader\u001b[0m\u001b[0;34m=\u001b[0m\u001b[0;32mFalse\u001b[0m\u001b[0;34m)\u001b[0m\u001b[0;34m\u001b[0m\u001b[0;34m\u001b[0m\u001b[0m\n\u001b[0m",
      "\u001b[0;31mAttributeError\u001b[0m: module 'networkx' has no attribute 'generate_graph6'"
     ]
    }
   ],
   "source": [
    "nx.generate_graph6(graph, header=False)"
   ]
  },
  {
   "cell_type": "code",
   "execution_count": 30,
   "metadata": {},
   "outputs": [],
   "source": [
    "nx.write_graph6(graph, \"naphtalene.g6\")"
   ]
  },
  {
   "cell_type": "code",
   "execution_count": 61,
   "metadata": {},
   "outputs": [
    {
     "data": {
      "text/plain": [
       "2286"
      ]
     },
     "execution_count": 61,
     "metadata": {},
     "output_type": "execute_result"
    }
   ],
   "source": [
    "#/vcolg -m3 -T /mnt/c/Users/guido/workcopies/apdft/prototyping/networks/benzene.g6 -q > list\n",
    "with open(\"/mnt/c/Users/guido/opt/nauty/nauty27rc3/list\") as fh:\n",
    "    count = 0\n",
    "    for line in fh:\n",
    "        parts = line.strip().split()\n",
    "        parts = parts[2:2+int(parts[1])]\n",
    "        bs = len([_ for _ in parts if _ == \"1\"])\n",
    "        ns = len([_ for _ in parts if _ == \"2\"])\n",
    "        if ns == bs:\n",
    "            count += 1\n",
    "count"
   ]
  },
  {
   "cell_type": "code",
   "execution_count": 32,
   "metadata": {},
   "outputs": [],
   "source": [
    "import MDAnalysis as mda"
   ]
  },
  {
   "cell_type": "code",
   "execution_count": 58,
   "metadata": {},
   "outputs": [
    {
     "name": "stdout",
     "output_type": "stream",
     "text": [
      "[0 1 2 3 4 5 6 7 8 9]\n",
      "(0, 1)\n",
      "(0, 2)\n",
      "(0, 4)\n",
      "(1, 3)\n",
      "(1, 5)\n",
      "(2, 6)\n",
      "(3, 7)\n",
      "(4, 8)\n",
      "(5, 9)\n",
      "(6, 7)\n",
      "(8, 9)\n"
     ]
    }
   ],
   "source": [
    "def mol2_to_graph6(number):\n",
    "    parsed = mda.topology.MOL2Parser.MOL2Parser(\"db/%d.mol2\" % number).parse()\n",
    "    carbons = np.where(parsed.names.values == 'C')[0]\n",
    "    print (carbons)\n",
    "    \n",
    "    graph = nx.Graph()\n",
    "    for carbon in carbons:\n",
    "        graph.add_node(carbon)\n",
    "        \n",
    "    bonds = parsed.bonds.values\n",
    "    for bond in bonds:\n",
    "        if bond[0] in carbons and bond[1] in carbons:\n",
    "            graph.add_edge(*bond)\n",
    "            print (bond)\n",
    "    \n",
    "    nx.write_graph6(graph, \"db/%d.g6\" % number)\n",
    "mol2_to_graph6(1)"
   ]
  },
  {
   "cell_type": "code",
   "execution_count": 43,
   "metadata": {},
   "outputs": [
    {
     "data": {
      "text/plain": [
       "array(['C', 'C', 'C', 'C', 'C', 'C', 'C', 'C', 'C', 'C', 'C', 'C', 'C',\n",
       "       'C', 'H', 'H', 'H', 'H', 'H', 'H', 'H', 'H', 'H', 'H'],\n",
       "      dtype=object)"
      ]
     },
     "execution_count": 43,
     "metadata": {},
     "output_type": "execute_result"
    }
   ],
   "source": []
  },
  {
   "cell_type": "code",
   "execution_count": null,
   "metadata": {},
   "outputs": [],
   "source": []
  }
 ],
 "metadata": {
  "kernelspec": {
   "display_name": "Python [conda env:analysis]",
   "language": "python",
   "name": "conda-env-analysis-py"
  },
  "language_info": {
   "codemirror_mode": {
    "name": "ipython",
    "version": 3
   },
   "file_extension": ".py",
   "mimetype": "text/x-python",
   "name": "python",
   "nbconvert_exporter": "python",
   "pygments_lexer": "ipython3",
   "version": "3.6.8"
  }
 },
 "nbformat": 4,
 "nbformat_minor": 4
}
