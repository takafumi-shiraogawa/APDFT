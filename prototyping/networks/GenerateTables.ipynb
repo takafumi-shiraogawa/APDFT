{
 "cells": [
  {
   "cell_type": "code",
   "execution_count": 1,
   "metadata": {},
   "outputs": [],
   "source": [
    "import pandas as pd"
   ]
  },
  {
   "cell_type": "code",
   "execution_count": 2,
   "metadata": {},
   "outputs": [],
   "source": [
    "df = pd.read_csv('ranking-naphtalene-reference.csv')"
   ]
  },
  {
   "cell_type": "code",
   "execution_count": 19,
   "metadata": {},
   "outputs": [],
   "source": [
    "q = df['code energy label nbn nn'.split()].copy()\n",
    "q.columns = 'Code Energy[Ha] Molecule #BN NN-Energy[Ha]'.split()\n",
    "#q.code.replace('Molpro', 'A', inplace=True)\n",
    "#q.code.replace('MRCC', 'B', inplace=True)\n",
    "q.to_csv('ranking-naphtalene-reference-latex.csv', index=False, float_format='%.6f')"
   ]
  },
  {
   "cell_type": "code",
   "execution_count": 20,
   "metadata": {},
   "outputs": [],
   "source": [
    "!python /mnt/c/Users/guido/opt/tably/tably.py ranking-naphtalene-reference-latex.csv | tail -n +4| head -n -2 | sed -r 's/(top|mid|bottom)rule/hline/' > ranking-naphtalene-reference-latex.tex"
   ]
  },
  {
   "cell_type": "code",
   "execution_count": null,
   "metadata": {},
   "outputs": [],
   "source": []
  }
 ],
 "metadata": {
  "kernelspec": {
   "display_name": "Python [conda env:analysis]",
   "language": "python",
   "name": "conda-env-analysis-py"
  },
  "language_info": {
   "codemirror_mode": {
    "name": "ipython",
    "version": 3
   },
   "file_extension": ".py",
   "mimetype": "text/x-python",
   "name": "python",
   "nbconvert_exporter": "python",
   "pygments_lexer": "ipython3",
   "version": "3.6.10"
  }
 },
 "nbformat": 4,
 "nbformat_minor": 4
}
