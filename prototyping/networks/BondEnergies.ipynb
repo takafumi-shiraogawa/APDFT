{
 "cells": [
  {
   "cell_type": "code",
   "execution_count": 1,
   "metadata": {},
   "outputs": [],
   "source": [
    "import numpy as np\n",
    "import matplotlib.pyplot as plt\n",
    "import pandas as pd\n",
    "import glob"
   ]
  },
  {
   "cell_type": "code",
   "execution_count": 9,
   "metadata": {},
   "outputs": [],
   "source": [
    "def parse_file(fn):\n",
    "    with open(fn) as fh:\n",
    "        lines = fh.readlines()\n",
    "    \n",
    "    result = {}\n",
    "    for line in lines:\n",
    "        if 'CCSD(T) total energy' in line:\n",
    "            result['ccsdpt'] = float(line.strip().split()[-1])\n",
    "        \n",
    "        if 'Nuclear repulsion energy [au]' in line:\n",
    "            result['nn'] = float(line.strip().split()[-1])\n",
    "            \n",
    "    return result\n",
    "def bond_count(label):\n",
    "    bonds = {'BH': 0, 'CH': 0, 'HN': 0, 'BB': 0, 'BC': 0, 'BN': 0, 'CC': 0, 'CN': 0, 'NN': 0, }\n",
    "    infile = [(0, 1), (0, 2), (0, 4), (1, 3), (1, 5), (2, 6), (2, 10), (3, 7), (3, 11), (4, 8), (4, 12), (5, 9), (5, 13), (6, 7), (6, 14), (7, 15), (8, 9), (8, 16), (9, 17)]\n",
    "    raise ValueError(\"label remove center atoms no H\")\n",
    "    for letter in label:\n",
    "        k = ''.join(sorted([letter, \"H\"]))\n",
    "        bonds[k] += 1\n",
    "    \n",
    "    for a,b in infile:\n",
    "        if a > 9 or b > 9:\n",
    "            continue\n",
    "        k = ''.join(sorted([label[_] for _ in (a, b)]))\n",
    "        bonds[k] += 1\n",
    "    return bonds\n",
    "def build_df():\n",
    "    \n",
    "    ret = []\n",
    "    for folder in glob.glob(\"naphtalene/validation/validation/*/\"):\n",
    "        label = folder.split('/')[-2]\n",
    "        res = parse_file(folder + \"run.log\")\n",
    "        res['label'] = label\n",
    "        res['nBN'] = len([_ for _ in label if _ == \"N\"])\n",
    "        ret.append(res)\n",
    "    return pd.DataFrame(ret)\n",
    "#explicit = build_df()"
   ]
  },
  {
   "cell_type": "code",
   "execution_count": 38,
   "metadata": {},
   "outputs": [],
   "source": [
    "A = np.zeros((len(explicit), 9))\n",
    "b = np.zeros(len(explicit))\n",
    "bondorder = sorted(bond_count(explicit.label.values[0]).keys())\n",
    "for idx, row in explicit.reset_index().iterrows():\n",
    "    counts = bond_count(row.label)\n",
    "    A[idx] = [counts[_] for _ in bondorder]\n",
    "    b[idx] = row.ccsdpt"
   ]
  },
  {
   "cell_type": "code",
   "execution_count": 65,
   "metadata": {},
   "outputs": [
    {
     "name": "stderr",
     "output_type": "stream",
     "text": [
      "/home/guido/miniconda3/envs/analysis/lib/python3.6/site-packages/ipykernel_launcher.py:1: FutureWarning: `rcond` parameter will change to the default of machine precision times ``max(M, N)`` where M and N are the input matrix dimensions.\n",
      "To use the future default and silence this warning we advise to pass `rcond=None`, to keep using the old, explicitly pass `rcond=-1`.\n",
      "  \"\"\"Entry point for launching an IPython kernel.\n"
     ]
    }
   ],
   "source": [
    "energies = np.linalg.lstsq(A, b)[0]"
   ]
  },
  {
   "cell_type": "code",
   "execution_count": 66,
   "metadata": {},
   "outputs": [
    {
     "data": {
      "text/plain": [
       "[<matplotlib.lines.Line2D at 0x7f4b58a8acf8>]"
      ]
     },
     "execution_count": 66,
     "metadata": {},
     "output_type": "execute_result"
    },
    {
     "data": {
      "image/png": "[encoded data removed]",
      "text/plain": [
       "<Figure size 432x288 with 1 Axes>"
      ]
     },
     "metadata": {
      "needs_background": "light"
     },
     "output_type": "display_data"
    }
   ],
   "source": [
    "plt.plot(np.dot(A, energies)-b)"
   ]
  },
  {
   "cell_type": "code",
   "execution_count": 67,
   "metadata": {},
   "outputs": [
    {
     "data": {
      "text/plain": [
       "[('BB', -13.52059),\n",
       " ('BC', -13.57194),\n",
       " ('BH', -25.21689),\n",
       " ('BN', -13.6299),\n",
       " ('CC', -13.57588),\n",
       " ('CH', -23.54689),\n",
       " ('CN', -13.56846),\n",
       " ('HN', -25.21689),\n",
       " ('NN', -13.51198)]"
      ]
     },
     "execution_count": 67,
     "metadata": {},
     "output_type": "execute_result"
    }
   ],
   "source": [
    "[_ for _ in zip(bondorder, list(np.round(energies, 5)))]"
   ]
  },
  {
   "cell_type": "code",
   "execution_count": 57,
   "metadata": {},
   "outputs": [
    {
     "data": {
      "text/plain": [
       "['BB', 'BC', 'BH', 'BN', 'CC', 'CH', 'CN', 'HN', 'NN']"
      ]
     },
     "execution_count": 57,
     "metadata": {},
     "output_type": "execute_result"
    }
   ],
   "source": [
    "bondorder"
   ]
  },
  {
   "cell_type": "code",
   "execution_count": 74,
   "metadata": {},
   "outputs": [],
   "source": [
    "def parse_ranked(fn):\n",
    "    with open(fn) as fh:\n",
    "        lines = fh.readlines()\n",
    "    \n",
    "    order = []\n",
    "    groups = []\n",
    "    count = 0\n",
    "    for line in lines:\n",
    "        if \"Found:\" in line:\n",
    "            label = ''.join(line.split('[')[1].split(']')[0].replace(' ', '').split(','))\n",
    "            label = label.replace('5', 'B').replace('6', 'C').replace('7', 'N')\n",
    "            order.append(label)\n",
    "            count += 1\n",
    "        \n",
    "        if \"Group energy\" in line:\n",
    "            groups.append(count)\n",
    "            count = 0\n",
    "    return order, groups[1:]\n",
    "def bond_count(label):\n",
    "    bonds = {'BH': 0, 'CH': 0, 'HN': 0, 'BB': 0, 'BC': 0, 'BN': 0, 'CC': 0, 'CN': 0, 'NN': 0, }\n",
    "    infile = [(4, 14), (3, 13), (3, 9), (2, 3), (4, 9), (4, 5), (5, 15), (2, 12), (8, 9), (1, 2), (5, 6), (1, 11), (0, 1), (6, 16), (6, 7), (7, 8), (0, 8), (7, 17), (0, 10)]\n",
    "    for letter in label[:-2]:\n",
    "        k = ''.join(sorted([letter, \"H\"]))\n",
    "        bonds[k] += 1\n",
    "    \n",
    "    for a,b in infile:\n",
    "        if a > 9 or b > 9:\n",
    "            continue\n",
    "        k = ''.join(sorted([label[_] for _ in (a, b)]))\n",
    "        bonds[k] += 1\n",
    "    return bonds"
   ]
  },
  {
   "cell_type": "code",
   "execution_count": 70,
   "metadata": {},
   "outputs": [],
   "source": [
    "ranked, groups = parse_ranked('napthalene-molpro.report')"
   ]
  },
  {
   "cell_type": "code",
   "execution_count": 101,
   "metadata": {},
   "outputs": [],
   "source": [
    "def ac_bond(start, stop):\n",
    "    A = np.zeros((stop-start, 9))\n",
    "    b = np.zeros(stop-start)\n",
    "    bondorder = sorted(bond_count(ranked[0]).keys())\n",
    "    for idx, row in enumerate(ranked[start:stop]):\n",
    "        counts = bond_count(row)\n",
    "        A[idx] = [counts[_] for _ in bondorder]\n",
    "        b[idx] = 100\n",
    "    return np.linalg.lstsq(A, b)"
   ]
  },
  {
   "cell_type": "code",
   "execution_count": 102,
   "metadata": {},
   "outputs": [
    {
     "name": "stderr",
     "output_type": "stream",
     "text": [
      "/home/guido/miniconda3/envs/analysis/lib/python3.6/site-packages/ipykernel_launcher.py:9: FutureWarning: `rcond` parameter will change to the default of machine precision times ``max(M, N)`` where M and N are the input matrix dimensions.\n",
      "To use the future default and silence this warning we advise to pass `rcond=None`, to keep using the old, explicitly pass `rcond=-1`.\n",
      "  if __name__ == '__main__':\n"
     ]
    },
    {
     "data": {
      "text/plain": [
       "(array([3.72526193, 4.88940629, 5.23864959, 3.37601863, 6.05355064,\n",
       "        6.40279395, 4.54016298, 6.98486612, 3.02677532]),\n",
       " array([], dtype=float64),\n",
       " 5,\n",
       " array([1.52228713e+02, 3.14868370e+01, 2.87067146e+01, 2.26015170e+01,\n",
       "        2.15892095e+01, 1.23367432e-14, 8.15322544e-15, 4.46695453e-15,\n",
       "        2.20638416e-15]))"
      ]
     },
     "execution_count": 102,
     "metadata": {},
     "output_type": "execute_result"
    }
   ],
   "source": [
    "ac_bond(1407, 1897)"
   ]
  },
  {
   "cell_type": "code",
   "execution_count": 97,
   "metadata": {},
   "outputs": [
    {
     "data": {
      "text/plain": [
       "array([   1,   39,   53,   65,   66,   68,   69,  741,  762,  873,  876,\n",
       "       1372, 1407, 1897, 1932, 1940, 2002, 2016, 2210, 2252, 2258, 2262,\n",
       "       2263, 2265, 2267, 2270, 2274, 2276, 2283, 2285])"
      ]
     },
     "execution_count": 97,
     "metadata": {},
     "output_type": "execute_result"
    }
   ],
   "source": [
    "np.cumsum(groups)"
   ]
  },
  {
   "cell_type": "code",
   "execution_count": 104,
   "metadata": {},
   "outputs": [
    {
     "name": "stderr",
     "output_type": "stream",
     "text": [
      "/home/guido/miniconda3/envs/analysis/lib/python3.6/site-packages/ipykernel_launcher.py:9: FutureWarning: `rcond` parameter will change to the default of machine precision times ``max(M, N)`` where M and N are the input matrix dimensions.\n",
      "To use the future default and silence this warning we advise to pass `rcond=None`, to keep using the old, explicitly pass `rcond=-1`.\n",
      "  if __name__ == '__main__':\n"
     ]
    },
    {
     "data": {
      "text/plain": [
       "(array([ -2.57130968,  -1.20556002,  20.89330239,  -0.49849818,\n",
       "          0.16018964,  22.25905205,   0.86725148, -13.98704215,\n",
       "          1.57431333]),\n",
       " array([], dtype=float64),\n",
       " 6,\n",
       " array([1.54987309e+02, 3.33705552e+01, 2.98592153e+01, 2.33922588e+01,\n",
       "        1.56387224e+01, 2.75454374e-14, 1.04884049e-14, 4.71460436e-15,\n",
       "        2.62126021e-15]))"
      ]
     },
     "execution_count": 104,
     "metadata": {},
     "output_type": "execute_result"
    }
   ],
   "source": [
    "ac_bond(876, 1372)"
   ]
  },
  {
   "cell_type": "code",
   "execution_count": 106,
   "metadata": {},
   "outputs": [
    {
     "data": {
      "text/plain": [
       "['BB', 'BC', 'BH', 'BN', 'CC', 'CH', 'CN', 'HN', 'NN']"
      ]
     },
     "execution_count": 106,
     "metadata": {},
     "output_type": "execute_result"
    }
   ],
   "source": [
    "bondorder"
   ]
  },
  {
   "cell_type": "code",
   "execution_count": null,
   "metadata": {},
   "outputs": [],
   "source": []
  }
 ],
 "metadata": {
  "kernelspec": {
   "display_name": "Python [conda env:analysis]",
   "language": "python",
   "name": "conda-env-analysis-py"
  },
  "language_info": {
   "codemirror_mode": {
    "name": "ipython",
    "version": 3
   },
   "file_extension": ".py",
   "mimetype": "text/x-python",
   "name": "python",
   "nbconvert_exporter": "python",
   "pygments_lexer": "ipython3",
   "version": "3.6.8"
  }
 },
 "nbformat": 4,
 "nbformat_minor": 4
}
