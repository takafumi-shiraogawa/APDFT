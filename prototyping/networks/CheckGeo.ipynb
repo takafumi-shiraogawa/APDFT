{
 "cells": [
  {
   "cell_type": "code",
   "execution_count": 7,
   "metadata": {},
   "outputs": [],
   "source": [
    "import pymatgen\n",
    "import pymatgen.io.xyz\n",
    "import numpy as np"
   ]
  },
  {
   "cell_type": "code",
   "execution_count": 16,
   "metadata": {},
   "outputs": [],
   "source": [
    "def detect_automorphisms(filename):\n",
    "        xyz = pymatgen.io.xyz.XYZ.from_file(filename)\n",
    "        psa = pymatgen.symmetry.analyzer.PointGroupAnalyzer(xyz.molecule)\n",
    "\n",
    "        m = xyz.molecule.get_centered_molecule()\n",
    "        carbons = np.where(np.array(m.atomic_numbers, dtype=np.int) == 6)[0]\n",
    "\n",
    "        operations = psa.get_symmetry_operations()\n",
    "        print (carbons)\n",
    "        mapping = np.zeros((len(carbons), len(operations)), dtype=np.int)\n",
    "        for opidx, op in enumerate(operations):\n",
    "                for bidx, base in enumerate(carbons):\n",
    "                        ds = np.linalg.norm(op.operate(m.cart_coords[base]) - m.cart_coords[carbons], axis=1)\n",
    "                        onto = np.argmin(ds)\n",
    "                        if ds[onto] > 1e-3:\n",
    "                                print (ds[onto])\n",
    "                                raise ValueError('Irregular geometry')\n",
    "                        mapping[bidx, opidx] = onto\n",
    "\n",
    "        return mapping"
   ]
  },
  {
   "cell_type": "code",
   "execution_count": 17,
   "metadata": {},
   "outputs": [
    {
     "name": "stdout",
     "output_type": "stream",
     "text": [
      "[ 0  1  2  3  4  5  6  7  8  9 10 11 12 13 14 15 16 17 18 19 20 21]\n",
      "0.19437313943526424\n"
     ]
    },
    {
     "ename": "ValueError",
     "evalue": "Irregular geometry",
     "output_type": "error",
     "traceback": [
      "\u001b[0;31m---------------------------------------------------------------------------\u001b[0m",
      "\u001b[0;31mValueError\u001b[0m                                Traceback (most recent call last)",
      "\u001b[0;32m<ipython-input-17-7196735ad613>\u001b[0m in \u001b[0;36m<module>\u001b[0;34m\u001b[0m\n\u001b[0;32m----> 1\u001b[0;31m \u001b[0mdetect_automorphisms\u001b[0m\u001b[0;34m(\u001b[0m\u001b[0;34m\"build_colored_graphs/db-12/inp.xyz\"\u001b[0m\u001b[0;34m)\u001b[0m\u001b[0;34m\u001b[0m\u001b[0;34m\u001b[0m\u001b[0m\n\u001b[0m",
      "\u001b[0;32m<ipython-input-16-8dc666bfa4f5>\u001b[0m in \u001b[0;36mdetect_automorphisms\u001b[0;34m(filename)\u001b[0m\n\u001b[1;32m     15\u001b[0m                         \u001b[0;32mif\u001b[0m \u001b[0mds\u001b[0m\u001b[0;34m[\u001b[0m\u001b[0monto\u001b[0m\u001b[0;34m]\u001b[0m \u001b[0;34m>\u001b[0m \u001b[0;36m1e-3\u001b[0m\u001b[0;34m:\u001b[0m\u001b[0;34m\u001b[0m\u001b[0;34m\u001b[0m\u001b[0m\n\u001b[1;32m     16\u001b[0m                                 \u001b[0mprint\u001b[0m \u001b[0;34m(\u001b[0m\u001b[0mds\u001b[0m\u001b[0;34m[\u001b[0m\u001b[0monto\u001b[0m\u001b[0;34m]\u001b[0m\u001b[0;34m)\u001b[0m\u001b[0;34m\u001b[0m\u001b[0;34m\u001b[0m\u001b[0m\n\u001b[0;32m---> 17\u001b[0;31m                                 \u001b[0;32mraise\u001b[0m \u001b[0mValueError\u001b[0m\u001b[0;34m(\u001b[0m\u001b[0;34m'Irregular geometry'\u001b[0m\u001b[0;34m)\u001b[0m\u001b[0;34m\u001b[0m\u001b[0;34m\u001b[0m\u001b[0m\n\u001b[0m\u001b[1;32m     18\u001b[0m                         \u001b[0mmapping\u001b[0m\u001b[0;34m[\u001b[0m\u001b[0mbidx\u001b[0m\u001b[0;34m,\u001b[0m \u001b[0mopidx\u001b[0m\u001b[0;34m]\u001b[0m \u001b[0;34m=\u001b[0m \u001b[0monto\u001b[0m\u001b[0;34m\u001b[0m\u001b[0;34m\u001b[0m\u001b[0m\n\u001b[1;32m     19\u001b[0m \u001b[0;34m\u001b[0m\u001b[0m\n",
      "\u001b[0;31mValueError\u001b[0m: Irregular geometry"
     ]
    }
   ],
   "source": [
    "detect_automorphisms(\"build_colored_graphs/db-12/inp.xyz\")"
   ]
  },
  {
   "cell_type": "code",
   "execution_count": 18,
   "metadata": {},
   "outputs": [],
   "source": [
    "a, b = [[0,1,2,  3,  4,  5,  6,  7,  8,  9, 10, 11, 12, 13, 14, 15, 16, 17, 18, 19, 20, 21], [13,14,15,10,11,12,9,8,7,6,3,4,5,0,1,2,21,20,19,18,17,16]]"
   ]
  },
  {
   "cell_type": "code",
   "execution_count": 21,
   "metadata": {},
   "outputs": [
    {
     "name": "stdout",
     "output_type": "stream",
     "text": [
      "if (a[8] - b[8] + a[7] - b[7]) { return false; }\n",
      "if (a[9] - b[9] + a[6] - b[6]) { return false; }\n",
      "if (a[10] - b[10] + a[3] - b[3]) { return false; }\n",
      "if (a[11] - b[11] + a[4] - b[4]) { return false; }\n",
      "if (a[12] - b[12] + a[5] - b[5]) { return false; }\n",
      "if (a[13] - b[13] + a[0] - b[0]) { return false; }\n",
      "if (a[14] - b[14] + a[1] - b[1]) { return false; }\n",
      "if (a[15] - b[15] + a[2] - b[2]) { return false; }\n",
      "if (a[19] - b[19] + a[18] - b[18]) { return false; }\n",
      "if (a[20] - b[20] + a[17] - b[17]) { return false; }\n",
      "if (a[21] - b[21] + a[16] - b[16]) { return false; }\n"
     ]
    }
   ],
   "source": [
    "for A, B in zip(a, b):\n",
    "    if A > B:\n",
    "        print (\"if (a[%d] - b[%d] + a[%d] - b[%d]) { return false; }\" % (A, A, B, B))"
   ]
  },
  {
   "cell_type": "code",
   "execution_count": 25,
   "metadata": {},
   "outputs": [
    {
     "data": {
      "text/plain": [
       "'a[0] - b[0] +a[1] - b[1] +a[2] - b[2] +a[3] - b[3] +a[4] - b[4] +a[5] - b[5] +a[6] - b[6] +a[7] - b[7] +a[8] - b[8] +a[9] - b[9] +a[10] - b[10] +a[11] - b[11] +a[12] - b[12] +a[13] - b[13] +a[14] - b[14] +a[15] - b[15] +a[16] - b[16] +a[17] - b[17] +a[18] - b[18] +a[19] - b[19] +a[20] - b[20] +a[21] - b[21] '"
      ]
     },
     "execution_count": 25,
     "metadata": {},
     "output_type": "execute_result"
    }
   ],
   "source": [
    "'+'.join([\"a[%d] - b[%d] \" % (i,i) for i in range(22)])"
   ]
  },
  {
   "cell_type": "code",
   "execution_count": 26,
   "metadata": {},
   "outputs": [],
   "source": [
    "import networkx as nx"
   ]
  },
  {
   "cell_type": "code",
   "execution_count": 27,
   "metadata": {},
   "outputs": [],
   "source": [
    "g = nx.read_graph6(\"build_colored_graphs/db-12/out.g6\")"
   ]
  },
  {
   "cell_type": "code",
   "execution_count": 28,
   "metadata": {},
   "outputs": [
    {
     "data": {
      "text/plain": [
       "<networkx.classes.graph.Graph at 0x7f76ea011940>"
      ]
     },
     "execution_count": 28,
     "metadata": {},
     "output_type": "execute_result"
    }
   ],
   "source": [
    "g"
   ]
  },
  {
   "cell_type": "code",
   "execution_count": 32,
   "metadata": {},
   "outputs": [
    {
     "data": {
      "image/png": "[encoded data removed]",
      "text/plain": [
       "<Figure size 432x288 with 1 Axes>"
      ]
     },
     "metadata": {},
     "output_type": "display_data"
    }
   ],
   "source": [
    "import matplotlib.pyplot as plt\n",
    "nx.draw_spring(g)"
   ]
  },
  {
   "cell_type": "code",
   "execution_count": 33,
   "metadata": {},
   "outputs": [],
   "source": [
    "A, B = [[0,1,2,  3,  4,  5,  6,  7,  8,  9, 10, 11, 12, 13, 14, 15, 16, 17, 18, 19, 20, 21], [13,14,15,10,11,12,9,8,7,6,3,4,5,0,1,2,21,20,19,18,17,16]]"
   ]
  },
  {
   "cell_type": "code",
   "execution_count": 39,
   "metadata": {},
   "outputs": [],
   "source": [
    "lookup = dict(zip(A, B))"
   ]
  },
  {
   "cell_type": "code",
   "execution_count": 50,
   "metadata": {},
   "outputs": [
    {
     "data": {
      "text/plain": [
       "19"
      ]
     },
     "execution_count": 50,
     "metadata": {},
     "output_type": "execute_result"
    }
   ],
   "source": [
    "lookup[18]"
   ]
  },
  {
   "cell_type": "code",
   "execution_count": 55,
   "metadata": {},
   "outputs": [],
   "source": [
    "q = np.fromfile(\"/mnt/c/Users/guido/workcopies/apdft/prototyping/networks/build_colored_graphs/db-12/done/result-03\", dtype=np.int8).reshape(-1,22)"
   ]
  },
  {
   "cell_type": "code",
   "execution_count": 59,
   "metadata": {},
   "outputs": [
    {
     "data": {
      "text/plain": [
       "array([0, 0, 0, 0, 0, 0, 0, 0, 0, 0, 0, 0, 0, 0, 0, 0, 0, 0, 2, 1, 0, 0],\n",
       "      dtype=int8)"
      ]
     },
     "execution_count": 59,
     "metadata": {},
     "output_type": "execute_result"
    }
   ],
   "source": [
    "q[0]"
   ]
  },
  {
   "cell_type": "code",
   "execution_count": 62,
   "metadata": {},
   "outputs": [],
   "source": [
    "q = np.loadtxt(\"/mnt/c/Users/guido/workcopies/apdft/prototyping/networks/build_colored_graphs/db-12/done/result-03.prescan\", dtype=np.int)"
   ]
  },
  {
   "cell_type": "code",
   "execution_count": 63,
   "metadata": {},
   "outputs": [
    {
     "name": "stdout",
     "output_type": "stream",
     "text": [
      "0 31\n",
      "0 38\n",
      "0 42\n",
      "1 2\n",
      "1 17\n",
      "1 18\n",
      "1 37\n",
      "1 40\n",
      "1 43\n",
      "1 44\n",
      "2 17\n",
      "2 18\n",
      "2 37\n",
      "2 40\n",
      "2 43\n",
      "2 44\n",
      "3 19\n",
      "3 22\n",
      "3 27\n",
      "4 5\n",
      "4 23\n",
      "4 24\n",
      "4 29\n",
      "4 32\n",
      "4 34\n",
      "4 35\n",
      "5 23\n",
      "5 24\n",
      "5 29\n",
      "5 32\n",
      "5 34\n",
      "5 35\n",
      "6 9\n",
      "6 21\n",
      "6 26\n",
      "7 8\n",
      "7 36\n",
      "7 41\n",
      "8 36\n",
      "8 41\n",
      "9 21\n",
      "9 26\n",
      "11 14\n",
      "11 15\n",
      "11 20\n",
      "12 13\n",
      "12 28\n",
      "12 33\n",
      "13 28\n",
      "13 33\n",
      "14 15\n",
      "14 20\n",
      "15 20\n",
      "16 19\n",
      "16 22\n",
      "17 18\n",
      "17 37\n",
      "17 40\n",
      "17 43\n",
      "17 44\n",
      "18 37\n",
      "18 40\n",
      "18 43\n",
      "18 44\n",
      "19 25\n",
      "21 26\n",
      "22 25\n",
      "22 27\n",
      "23 24\n",
      "23 29\n",
      "23 32\n",
      "23 34\n",
      "23 35\n",
      "24 29\n",
      "24 32\n",
      "24 34\n",
      "24 35\n",
      "25 27\n",
      "28 33\n",
      "29 32\n",
      "29 34\n",
      "29 35\n",
      "30 31\n",
      "30 38\n",
      "31 39\n",
      "32 34\n",
      "32 35\n",
      "34 35\n",
      "36 41\n",
      "37 40\n",
      "37 43\n",
      "37 44\n",
      "38 39\n",
      "38 42\n",
      "39 42\n",
      "40 43\n",
      "40 44\n",
      "43 44\n",
      "45 50\n",
      "45 190\n",
      "45 195\n",
      "46 49\n",
      "46 52\n",
      "46 53\n",
      "46 191\n",
      "46 194\n",
      "46 202\n",
      "46 203\n",
      "47 48\n",
      "47 51\n",
      "47 54\n",
      "47 192\n",
      "47 193\n",
      "47 201\n",
      "47 204\n",
      "48 51\n",
      "48 54\n",
      "48 192\n",
      "48 193\n",
      "48 201\n",
      "48 204\n",
      "49 52\n",
      "49 53\n",
      "49 191\n",
      "49 194\n",
      "49 202\n",
      "49 203\n",
      "50 190\n",
      "50 195\n",
      "51 54\n",
      "51 192\n",
      "51 193\n",
      "51 201\n",
      "51 204\n",
      "52 53\n",
      "52 191\n",
      "52 194\n",
      "52 202\n",
      "52 203\n",
      "53 191\n",
      "53 194\n",
      "53 202\n",
      "53 203\n",
      "54 192\n",
      "54 193\n",
      "54 201\n",
      "54 204\n",
      "55 60\n",
      "55 210\n",
      "55 215\n",
      "56 59\n",
      "56 63\n",
      "56 64\n",
      "56 211\n",
      "56 214\n",
      "56 223\n",
      "56 224\n",
      "57 58\n",
      "57 62\n",
      "57 65\n",
      "57 212\n",
      "57 213\n",
      "57 222\n",
      "57 225\n",
      "58 62\n",
      "58 65\n",
      "58 212\n",
      "58 213\n",
      "58 222\n",
      "58 225\n",
      "59 63\n",
      "59 64\n",
      "59 211\n",
      "59 214\n",
      "59 223\n",
      "59 224\n",
      "60 210\n",
      "60 215\n",
      "61 205\n",
      "61 218\n",
      "61 219\n",
      "62 65\n",
      "62 212\n",
      "62 213\n",
      "62 222\n",
      "62 225\n",
      "63 64\n",
      "63 211\n",
      "63 214\n",
      "63 223\n",
      "63 224\n",
      "64 211\n",
      "64 214\n",
      "64 223\n",
      "64 224\n",
      "65 212\n",
      "65 213\n",
      "65 222\n",
      "65 225\n",
      "66 71\n",
      "67 70\n",
      "67 74\n",
      "67 75\n",
      "68 69\n",
      "68 73\n",
      "68 76\n",
      "69 73\n",
      "69 76\n",
      "70 74\n",
      "70 75\n",
      "72 77\n",
      "72 220\n",
      "72 227\n",
      "73 76\n",
      "74 75\n",
      "77 220\n",
      "77 227\n",
      "78 83\n",
      "79 82\n",
      "79 87\n",
      "79 88\n",
      "80 81\n",
      "80 86\n",
      "80 89\n",
      "81 86\n",
      "81 89\n",
      "82 87\n",
      "82 88\n",
      "84 90\n",
      "84 199\n",
      "84 206\n",
      "86 89\n",
      "87 88\n",
      "90 199\n",
      "90 206\n",
      "91 96\n",
      "92 95\n",
      "92 100\n",
      "92 101\n",
      "93 94\n",
      "93 99\n",
      "93 102\n",
      "94 99\n",
      "94 102\n",
      "95 100\n",
      "95 101\n",
      "97 103\n",
      "97 221\n",
      "97 228\n",
      "98 104\n",
      "99 102\n",
      "100 101\n",
      "103 221\n",
      "103 228\n",
      "105 110\n",
      "106 109\n",
      "106 115\n",
      "106 116\n",
      "107 108\n",
      "107 114\n",
      "107 117\n",
      "108 114\n",
      "108 117\n",
      "109 115\n",
      "109 116\n",
      "111 118\n",
      "111 200\n",
      "111 207\n",
      "112 119\n",
      "114 117\n",
      "115 116\n",
      "118 200\n",
      "118 207\n",
      "120 125\n",
      "121 124\n",
      "121 130\n",
      "121 131\n",
      "122 123\n",
      "122 129\n",
      "122 132\n",
      "123 129\n",
      "123 132\n",
      "124 130\n",
      "124 131\n",
      "126 133\n",
      "126 216\n",
      "126 229\n",
      "127 134\n",
      "128 135\n",
      "129 132\n",
      "130 131\n",
      "133 216\n",
      "133 229\n",
      "136 141\n",
      "137 140\n",
      "137 147\n",
      "137 148\n",
      "138 139\n",
      "138 146\n",
      "138 149\n",
      "139 146\n",
      "139 149\n",
      "140 147\n",
      "140 148\n",
      "143 150\n",
      "143 196\n",
      "143 208\n",
      "144 151\n",
      "145 152\n",
      "146 149\n",
      "147 148\n",
      "150 196\n",
      "150 208\n",
      "153 158\n",
      "154 157\n",
      "154 164\n",
      "154 165\n",
      "155 156\n",
      "155 163\n",
      "155 166\n",
      "156 163\n",
      "156 166\n",
      "157 164\n",
      "157 165\n",
      "159 170\n",
      "160 167\n",
      "160 217\n",
      "160 230\n",
      "161 168\n",
      "162 169\n",
      "163 166\n",
      "164 165\n",
      "167 217\n",
      "167 230\n",
      "171 176\n",
      "172 175\n",
      "172 183\n",
      "172 184\n",
      "173 174\n",
      "173 182\n",
      "173 185\n",
      "174 182\n",
      "174 185\n",
      "175 183\n",
      "175 184\n",
      "177 189\n",
      "179 186\n",
      "179 197\n",
      "179 209\n",
      "180 187\n",
      "181 188\n",
      "182 185\n",
      "183 184\n",
      "186 197\n",
      "186 209\n",
      "190 195\n",
      "191 194\n",
      "191 202\n",
      "191 203\n",
      "192 193\n",
      "192 201\n",
      "192 204\n",
      "193 201\n",
      "193 204\n",
      "194 202\n",
      "194 203\n",
      "196 208\n",
      "197 209\n",
      "198 205\n",
      "198 219\n",
      "199 206\n",
      "200 207\n",
      "201 204\n",
      "202 203\n",
      "205 226\n",
      "210 215\n",
      "211 214\n",
      "211 223\n",
      "211 224\n",
      "212 213\n",
      "212 222\n",
      "212 225\n",
      "213 222\n",
      "213 225\n",
      "214 223\n",
      "214 224\n",
      "216 229\n",
      "217 230\n",
      "218 219\n",
      "218 226\n",
      "219 226\n",
      "220 227\n",
      "221 228\n",
      "222 225\n",
      "223 224\n"
     ]
    }
   ],
   "source": [
    "for a, b in q:\n",
    "    print (a, b)"
   ]
  },
  {
   "cell_type": "code",
   "execution_count": null,
   "metadata": {},
   "outputs": [],
   "source": []
  }
 ],
 "metadata": {
  "kernelspec": {
   "display_name": "Python [conda env:analysis]",
   "language": "python",
   "name": "conda-env-analysis-py"
  },
  "language_info": {
   "codemirror_mode": {
    "name": "ipython",
    "version": 3
   },
   "file_extension": ".py",
   "mimetype": "text/x-python",
   "name": "python",
   "nbconvert_exporter": "python",
   "pygments_lexer": "ipython3",
   "version": "3.6.8"
  }
 },
 "nbformat": 4,
 "nbformat_minor": 4
}
