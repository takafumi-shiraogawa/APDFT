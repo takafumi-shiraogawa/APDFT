{
 "cells": [
  {
   "cell_type": "code",
   "execution_count": 12,
   "metadata": {},
   "outputs": [],
   "source": [
    "import networkx as nx\n",
    "import qml\n",
    "import igraph as ig\n",
    "import graph_tool as gt\n",
    "import graph_tool.topology as gtt\n",
    "import MDAnalysis as mda\n",
    "import numpy as np"
   ]
  },
  {
   "cell_type": "code",
   "execution_count": 108,
   "metadata": {},
   "outputs": [],
   "source": [
    "class CompareNX(object):\n",
    "    def __init__(self, mol2file):\n",
    "        bonds = mda.topology.MOL2Parser.MOL2Parser(mol2file).parse().bonds.values\n",
    "        self._g1 = nx.Graph()\n",
    "        self._g2 = nx.Graph()\n",
    "        for b1, b2 in bonds:\n",
    "            self._g1.add_edge(b1, b2)\n",
    "            self._g2.add_edge(b1, b2)\n",
    "        self._length = len(self._g1.nodes)\n",
    "        self._match = nx.algorithms.isomorphism.categorical_node_match('element', 1)\n",
    "        \n",
    "    def compare(self, n1, n2):\n",
    "        for pos in range(self._length):\n",
    "            self._g1.nodes[pos]['element'] = n1[pos]\n",
    "            self._g2.nodes[pos]['element'] = n2[pos]\n",
    "        return nx.algorithms.isomorphism.is_isomorphic(self._g1, self._g2, node_match=self._match)\n",
    "\n",
    "class CompareQML(object):\n",
    "    def __init__(self, fn):\n",
    "        self._c = qml.Compound(fn)\n",
    "        \n",
    "    def compare(self, n1, n2):\n",
    "        r1 = qml.fchl.generate_representation(self._c.coordinates, n1, self._c.natoms)\n",
    "        r2 = qml.fchl.generate_representation(self._c.coordinates, n2, self._c.natoms)\n",
    "        return qml.fchl.get_global_kernels(np.array([r1]), np.array([r2]), np.array([2])).flatten()[0] > 0.9999\n",
    "\n",
    "class CompareIG(object):\n",
    "    def __init__(self, mol2file):\n",
    "        bonds = mda.topology.MOL2Parser.MOL2Parser(mol2file).parse().bonds.values\n",
    "        self._g1 = ig.Graph(bonds)\n",
    "        #self._g2 = ig.Graph(bonds)\n",
    "        \n",
    "    def compare(self, n1, n2):\n",
    "        return self._g1.isomorphic_vf2(self._g1, color1=n1, color2=n2)\n",
    "\n",
    "class CompareGT(object):\n",
    "    def __init__(self, mol2file):\n",
    "        bonds = mda.topology.MOL2Parser.MOL2Parser(mol2file).parse().bonds.values\n",
    "        self._g1 = gt.Graph()\n",
    "        self._g2 = gt.Graph()\n",
    "        natoms = max([max(bond) for bond in bonds])+1\n",
    "        self._g1.add_vertex(natoms)\n",
    "        self._g2.add_vertex(natoms)\n",
    "        for a, b in bonds:\n",
    "            self._g1.add_edge(self._g1.vertex(a), self._g1.vertex(b))\n",
    "            self._g2.add_edge(self._g1.vertex(a), self._g1.vertex(b))\n",
    "            \n",
    "    def compare(self, n1, n2):\n",
    "        prop1 = self._g1.new_vertex_property(\"int\")\n",
    "        for z, v in zip(self._g1.vertices(), n1): \n",
    "            prop1[v] = z\n",
    "        prop2 = self._g2.new_vertex_property(\"int\")\n",
    "        for z, v in zip(self._g2.vertices(), n2): \n",
    "            prop2[v] = z\n",
    "        return gtt.isomorphism(self._g1, self._g2, prop1, prop2)"
   ]
  },
  {
   "cell_type": "code",
   "execution_count": 109,
   "metadata": {},
   "outputs": [
    {
     "name": "stdout",
     "output_type": "stream",
     "text": [
      "QML\n",
      "103 ms ± 1.79 ms per loop (mean ± std. dev. of 7 runs, 10 loops each)\n",
      "NX\n",
      "1.63 ms ± 34.9 µs per loop (mean ± std. dev. of 7 runs, 1000 loops each)\n",
      "IG\n",
      "38.6 µs ± 637 ns per loop (mean ± std. dev. of 7 runs, 10000 loops each)\n",
      "GT\n",
      "2.73 ms ± 111 µs per loop (mean ± std. dev. of 7 runs, 100 loops each)\n"
     ]
    }
   ],
   "source": [
    "cmps = {'QML': CompareQML(\"../../test/benzene.xyz\"), 'NX': CompareNX(\"benzene.mol2\"), 'IG': CompareIG(\"benzene.mol2\"), 'GT': CompareGT(\"benzene.mol2\")}\n",
    "\n",
    "for k, cmp in cmps.items():\n",
    "    print (k)\n",
    "    %timeit (cmp.compare((6,5,7,7,5,6,1,1,1,1,1,1), (6,7,5,5,7,6,1,1,1,1,1,1)), cmp.compare((6,6,6,6,6,6,1,1,1,1,1,1), (6,6,6,6,6,6,1,1,1,1,1,1)))"
   ]
  },
  {
   "cell_type": "code",
   "execution_count": 106,
   "metadata": {},
   "outputs": [],
   "source": [
    "# check benzene unique\n",
    "base = [6, 6, 7, 5, 7, 5,]\n",
    "rest = [1, 1, 1, 1, 1, 1]\n",
    "import itertools as it\n",
    "candidates = list(it.permutations(tuple(base)))\n",
    "found = [candidates[0]]\n",
    "cmp = CompareIG(\"benzene.mol2\")\n",
    "for candidate in candidates[1:]:\n",
    "    cfull = list(candidate) + rest\n",
    "    for f in found:\n",
    "        cf = list(f) + rest\n",
    "        if cmp.compare(cfull, cf):\n",
    "            break\n",
    "    else:\n",
    "        found.append(candidate)\n",
    "            \n",
    "    \n"
   ]
  },
  {
   "cell_type": "code",
   "execution_count": 110,
   "metadata": {},
   "outputs": [
    {
     "data": {
      "text/plain": [
       "(False, True)"
      ]
     },
     "execution_count": 110,
     "metadata": {},
     "output_type": "execute_result"
    }
   ],
   "source": [
    "cmp = CompareIG(\"benzene.mol2\")\n",
    "cmp.compare((6,5,7,7,5,6,1,1,1,1,1,1), (6,7,5,5,7,6,1,1,1,1,1,1)), cmp.compare((6,6,6,6,6,6,1,1,1,1,1,1), (6,6,6,6,6,6,1,1,1,1,1,1))"
   ]
  },
  {
   "cell_type": "code",
   "execution_count": 114,
   "metadata": {},
   "outputs": [],
   "source": [
    "a = np.zeros(3)"
   ]
  },
  {
   "cell_type": "code",
   "execution_count": 117,
   "metadata": {},
   "outputs": [
    {
     "data": {
      "text/plain": [
       "array([0., 0., 0., 1., 2.])"
      ]
     },
     "execution_count": 117,
     "metadata": {},
     "output_type": "execute_result"
    }
   ],
   "source": [
    "np.append(a, (1,2))"
   ]
  },
  {
   "cell_type": "code",
   "execution_count": 116,
   "metadata": {},
   "outputs": [
    {
     "data": {
      "text/plain": [
       "array([0., 0., 0.])"
      ]
     },
     "execution_count": 116,
     "metadata": {},
     "output_type": "execute_result"
    }
   ],
   "source": [
    "a"
   ]
  },
  {
   "cell_type": "code",
   "execution_count": 122,
   "metadata": {},
   "outputs": [
    {
     "data": {
      "text/plain": [
       "array([-3, -2, -1])"
      ]
     },
     "execution_count": 122,
     "metadata": {},
     "output_type": "execute_result"
    }
   ],
   "source": [
    "np.arange(-3, 0)"
   ]
  },
  {
   "cell_type": "code",
   "execution_count": null,
   "metadata": {},
   "outputs": [],
   "source": []
  }
 ],
 "metadata": {
  "kernelspec": {
   "display_name": "Python [conda env:analysis]",
   "language": "python",
   "name": "conda-env-analysis-py"
  },
  "language_info": {
   "codemirror_mode": {
    "name": "ipython",
    "version": 3
   },
   "file_extension": ".py",
   "mimetype": "text/x-python",
   "name": "python",
   "nbconvert_exporter": "python",
   "pygments_lexer": "ipython3",
   "version": "3.6.10"
  }
 },
 "nbformat": 4,
 "nbformat_minor": 4
}
