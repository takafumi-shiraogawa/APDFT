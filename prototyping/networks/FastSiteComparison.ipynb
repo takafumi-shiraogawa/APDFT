{
 "cells": [
  {
   "cell_type": "code",
   "execution_count": 1,
   "metadata": {},
   "outputs": [],
   "source": [
    "%load_ext line_profiler"
   ]
  },
  {
   "cell_type": "code",
   "execution_count": 2,
   "metadata": {},
   "outputs": [],
   "source": [
    "import rankBN\n",
    "import numpy as np"
   ]
  },
  {
   "cell_type": "code",
   "execution_count": 3,
   "metadata": {},
   "outputs": [
    {
     "name": "stderr",
     "output_type": "stream",
     "text": [
      "/home/guido/miniconda3/envs/analysis/lib/python3.6/site-packages/MDAnalysis/topology/guessers.py:72: UserWarning: Failed to guess the mass for the following atom types: C.ar\n",
      "  warnings.warn(\"Failed to guess the mass for the following atom types: {}\".format(atom_type))\n"
     ]
    },
    {
     "name": "stdout",
     "output_type": "stream",
     "text": [
      "Working on stoichiometry: [5 5 5 7 7 7]\n"
     ]
    },
    {
     "name": "stderr",
     "output_type": "stream",
     "text": [
      "100%|██████████| 20/20 [00:00<00:00, 147.86it/s]\n",
      "100%|██████████| 6/6 [00:00<00:00, 2081.37it/s]\n",
      "100%|██████████| 12/12 [00:00<00:00, 1940.01it/s]\n",
      "100%|██████████| 2/2 [00:00<00:00, 480.47it/s]\n",
      "  0%|          | 0/90 [00:00<?, ?it/s]"
     ]
    },
    {
     "name": "stdout",
     "output_type": "stream",
     "text": [
      "Found 20 permutations.\n",
      "Found 3 molecules in 3 connected components.\n",
      "Found: (5, 7, 5, 7, 5, 7)\n",
      "Found: (5, 7, 5, 7, 7, 5)\n",
      "Found: (5, 5, 7, 7, 7, 5)\n",
      "Working on stoichiometry: [5 5 7 7 6 6]\n",
      "Found 90 permutations.\n"
     ]
    },
    {
     "name": "stderr",
     "output_type": "stream",
     "text": [
      "100%|██████████| 90/90 [00:01<00:00, 47.78it/s]\n",
      "100%|██████████| 36/36 [00:00<00:00, 3562.04it/s]\n",
      "100%|██████████| 6/6 [00:00<00:00, 3481.71it/s]\n",
      "100%|██████████| 24/24 [00:00<00:00, 2879.14it/s]\n",
      "100%|██████████| 6/6 [00:00<00:00, 1336.33it/s]\n",
      "100%|██████████| 12/12 [00:00<00:00, 6234.57it/s]\n",
      "100%|██████████| 6/6 [00:00<00:00, 2079.30it/s]\n",
      " 37%|███▋      | 11/30 [00:00<00:00, 109.33it/s]"
     ]
    },
    {
     "name": "stdout",
     "output_type": "stream",
     "text": [
      "Found 11 molecules in 6 connected components.\n",
      "Found: (6, 7, 5, 7, 5, 6)\n",
      "Found: (6, 7, 5, 6, 7, 5)\n",
      "Found: (6, 7, 5, 6, 5, 7)\n",
      "Found: (7, 6, 5, 7, 5, 6)\n",
      "Found: (7, 5, 7, 6, 5, 6)\n",
      "Found: (6, 6, 5, 7, 7, 5)\n",
      "Found: (7, 6, 6, 7, 5, 5)\n",
      "Found: (6, 5, 5, 7, 6, 7)\n",
      "Found: (7, 7, 5, 6, 5, 6)\n",
      "Found: (5, 5, 7, 7, 6, 6)\n",
      "Found: (7, 7, 6, 5, 5, 6)\n",
      "Working on stoichiometry: [5 7 6 6 6 6]\n",
      "Found 30 permutations.\n"
     ]
    },
    {
     "name": "stderr",
     "output_type": "stream",
     "text": [
      "100%|██████████| 30/30 [00:00<00:00, 109.00it/s]\n",
      "100%|██████████| 24/24 [00:00<00:00, 4801.49it/s]\n",
      "100%|██████████| 6/6 [00:00<00:00, 4074.12it/s]\n",
      "100%|██████████| 1/1 [00:00<00:00, 512.56it/s]\n",
      "100%|██████████| 1/1 [00:00<00:00, 337.84it/s]"
     ]
    },
    {
     "name": "stdout",
     "output_type": "stream",
     "text": [
      "Found 3 molecules in 2 connected components.\n",
      "Found: (6, 6, 7, 5, 6, 6)\n",
      "Found: (6, 5, 6, 6, 6, 7)\n",
      "Found: (6, 6, 5, 6, 6, 7)\n",
      "Working on stoichiometry: [6 6 6 6 6 6]\n",
      "Found 1 permutations.\n",
      "Found 1 molecules in 1 connected components.\n",
      "Found: (6, 6, 6, 6, 6, 6)\n"
     ]
    },
    {
     "name": "stderr",
     "output_type": "stream",
     "text": [
      "\n"
     ]
    },
    {
     "data": {
      "text/plain": [
       "Timer unit: 1e-06 s\n",
       "\n",
       "Total time: 0.847659 s\n",
       "File: /mnt/c/Users/guido/workcopies/apdft/prototyping/networks/rankBN.py\n",
       "Function: _check_common_ground at line 220\n",
       "\n",
       "Line #      Hits         Time  Per Hit   % Time  Line Contents\n",
       "==============================================================\n",
       "   220                                           \tdef _check_common_ground(self, target, opposite, reference, common_ground):\n",
       "   221      9401      89436.0      9.5     10.6  \t\tdeltaZ = opposite - target\n",
       "   222                                           \n",
       "   223                                           \t\t# matching deltaZ\n",
       "   224      9401     150528.0     16.0     17.8  \t\tchanges = np.bincount([_ + 2 for _ in deltaZ], minlength=5)\n",
       "   225                                           \n",
       "   226                                           \t\t# ensure matching counts\n",
       "   227      9401     114217.0     12.1     13.5  \t\tif max(changes - changes[::-1]) != 0:\n",
       "   228      4020      12722.0      3.2      1.5  \t\t\treturn False\n",
       "   229                                           \n",
       "   230                                           \t\t# ignore identity operation\n",
       "   231      5381      22412.0      4.2      2.6  \t\tif changes[2] == self._nmodifiedatoms:\n",
       "   232       141        421.0      3.0      0.0  \t\t\treturn False\n",
       "   233                                           \n",
       "   234                                           \t\t# all changing atoms need to be in the same group\n",
       "   235      5240      17464.0      3.3      2.1  \t\tassigned = []\n",
       "   236      8040      27170.0      3.4      3.2  \t\tfor changepos in (3, 4):\n",
       "   237      7048      27087.0      3.8      3.2  \t\t\tif changes[changepos] == 0:\n",
       "   238      1232       3566.0      2.9      0.4  \t\t\t\tcontinue\n",
       "   239                                           \n",
       "   240      5816      19313.0      3.3      2.3  \t\t\tvalue = changepos - 2\n",
       "   241                                           \t\t\t    \n",
       "   242      5816      46633.0      8.0      5.5  \t\t\tchanged_pos = np.where(deltaZ == value)[0]\n",
       "   243      5816      40837.0      7.0      4.8  \t\t\tchanged_neg = np.where(deltaZ == -value)[0]\n",
       "   244      8546      31564.0      3.7      3.7  \t\t\tfor changed in changed_pos:\n",
       "   245     17907      52434.0      2.9      6.2  \t\t\t\tfor group in common_ground:\n",
       "   246     17907      55324.0      3.1      6.5  \t\t\t\t\tif changed in group:\n",
       "   247      6978      21872.0      3.1      2.6  \t\t\t\t\t\tbreak\n",
       "   248                                           \t\t\t\telse:\n",
       "   249                                           \t\t\t\t\traise ValueError(\"should not happen\")\n",
       "   250      6978      54303.0      7.8      6.4  \t\t\t\tpartners = set(changed_neg).intersection(set(group)) - set(assigned)\n",
       "   251      6978      25042.0      3.6      3.0  \t\t\t\tif len(partners) == 0:\n",
       "   252      4248      12768.0      3.0      1.5  \t\t\t\t\treturn False\n",
       "   253      2730      11089.0      4.1      1.3  \t\t\t\tassigned.append(next(iter(partners)))\n",
       "   254      2730       8685.0      3.2      1.0  \t\t\t\tassigned.append(changed)\n",
       "   255       992       2772.0      2.8      0.3  \t\treturn True"
      ]
     },
     "metadata": {},
     "output_type": "display_data"
    }
   ],
   "source": [
    "%lprun -f rankBN.Ranker._check_common_ground rankBN.do_main(\"../../test/benzene.xyz\", \"benzene.mol2\")"
   ]
  },
  {
   "cell_type": "code",
   "execution_count": 4,
   "metadata": {},
   "outputs": [
    {
     "name": "stdout",
     "output_type": "stream",
     "text": [
      "23.3 µs ± 722 ns per loop (mean ± std. dev. of 7 runs, 10000 loops each)\n"
     ]
    }
   ],
   "source": [
    "deltaZ = (0,0,1,-1,2,-2, 0, 2)\n",
    "%timeit np.unique(deltaZ, return_counts=True)"
   ]
  },
  {
   "cell_type": "code",
   "execution_count": 15,
   "metadata": {},
   "outputs": [],
   "source": [
    "q = np.bincount(np.array(deltaZ)+2, minlength=5)\n",
    "if max(q - q[::-1]) != 0:\n",
    "    print (\"dang\")"
   ]
  },
  {
   "cell_type": "code",
   "execution_count": 23,
   "metadata": {},
   "outputs": [
    {
     "name": "stdout",
     "output_type": "stream",
     "text": [
      "4.2 µs ± 524 ns per loop (mean ± std. dev. of 7 runs, 100000 loops each)\n"
     ]
    }
   ],
   "source": [
    "%timeit np.bincount(np.array(deltaZ)+2, minlength=5)"
   ]
  },
  {
   "cell_type": "code",
   "execution_count": 22,
   "metadata": {},
   "outputs": [
    {
     "name": "stdout",
     "output_type": "stream",
     "text": [
      "2.88 µs ± 124 ns per loop (mean ± std. dev. of 7 runs, 100000 loops each)\n"
     ]
    }
   ],
   "source": [
    "%timeit np.bincount([_+2 for _ in deltaZ], minlength=5)"
   ]
  },
  {
   "cell_type": "code",
   "execution_count": 5,
   "metadata": {},
   "outputs": [],
   "source": [
    "q = np.bincount([_+2 for _ in deltaZ], minlength=5)"
   ]
  },
  {
   "cell_type": "code",
   "execution_count": 8,
   "metadata": {},
   "outputs": [
    {
     "name": "stdout",
     "output_type": "stream",
     "text": [
      "2.98 µs ± 144 ns per loop (mean ± std. dev. of 7 runs, 100000 loops each)\n"
     ]
    }
   ],
   "source": [
    "%timeit max(q - q[::-1])"
   ]
  },
  {
   "cell_type": "code",
   "execution_count": 9,
   "metadata": {},
   "outputs": [],
   "source": [
    "import igraph as ig"
   ]
  },
  {
   "cell_type": "code",
   "execution_count": 34,
   "metadata": {},
   "outputs": [
    {
     "data": {
      "text/plain": [
       "False"
      ]
     },
     "execution_count": 34,
     "metadata": {},
     "output_type": "execute_result"
    }
   ],
   "source": [
    "g = ig.Graph()\n",
    "g.add_vertex(0)\n",
    "g.add_vertex(1)\n",
    "g.add_vertex(2)\n",
    "g.are_connected(0, 1)"
   ]
  },
  {
   "cell_type": "code",
   "execution_count": 40,
   "metadata": {},
   "outputs": [],
   "source": [
    "g.add_edge(0, 1)\n",
    "g.add_edge(2, 1)"
   ]
  },
  {
   "cell_type": "code",
   "execution_count": 15,
   "metadata": {},
   "outputs": [
    {
     "data": {
      "text/plain": [
       "False"
      ]
     },
     "execution_count": 15,
     "metadata": {},
     "output_type": "execute_result"
    }
   ],
   "source": [
    "g.are_connected(0, 2)"
   ]
  },
  {
   "cell_type": "code",
   "execution_count": 16,
   "metadata": {},
   "outputs": [
    {
     "name": "stdout",
     "output_type": "stream",
     "text": [
      "Help on built-in function shortest_paths:\n",
      "\n",
      "shortest_paths(...) method of igraph.Graph instance\n",
      "    shortest_paths(source=None, target=None, weights=None, mode=OUT)\n",
      "    \n",
      "    Calculates shortest path lengths for given vertices in a graph.\n",
      "    \n",
      "    The algorithm used for the calculations is selected automatically:\n",
      "    a simple BFS is used for unweighted graphs, Dijkstra's algorithm is\n",
      "    used when all the weights are positive. Otherwise, the Bellman-Ford\n",
      "    algorithm is used if the number of requested source vertices is larger\n",
      "    than 100 and Johnson's algorithm is used otherwise.\n",
      "    \n",
      "    @param source: a list containing the source vertex IDs which should be\n",
      "      included in the result. If C{None}, all vertices will be considered.\n",
      "    @param target: a list containing the target vertex IDs which should be\n",
      "      included in the result. If C{None}, all vertices will be considered.\n",
      "    @param weights: a list containing the edge weights. It can also be\n",
      "      an attribute name (edge weights are retrieved from the given\n",
      "      attribute) or C{None} (all edges have equal weight).\n",
      "    @param mode: the type of shortest paths to be used for the\n",
      "      calculation in directed graphs. L{OUT} means only outgoing,\n",
      "      L{IN} means only incoming paths. L{ALL} means to consider\n",
      "      the directed graph as an undirected one.\n",
      "    @return: the shortest path lengths for given vertices in a matrix\n",
      "\n"
     ]
    }
   ],
   "source": [
    "help(g.shortest_paths)"
   ]
  },
  {
   "cell_type": "code",
   "execution_count": 36,
   "metadata": {},
   "outputs": [],
   "source": [
    "import math\n",
    "q = g.shortest_paths(0, 2)[0][0]"
   ]
  },
  {
   "cell_type": "code",
   "execution_count": 37,
   "metadata": {},
   "outputs": [
    {
     "name": "stdout",
     "output_type": "stream",
     "text": [
      "205 ns ± 42.5 ns per loop (mean ± std. dev. of 7 runs, 1000000 loops each)\n"
     ]
    }
   ],
   "source": [
    "%timeit math.isinf(q)"
   ]
  },
  {
   "cell_type": "code",
   "execution_count": 41,
   "metadata": {},
   "outputs": [
    {
     "name": "stdout",
     "output_type": "stream",
     "text": [
      "[0, 1, 2]\n"
     ]
    }
   ],
   "source": [
    "for c in g.components():\n",
    "    print (c)"
   ]
  },
  {
   "cell_type": "code",
   "execution_count": 42,
   "metadata": {},
   "outputs": [
    {
     "name": "stdout",
     "output_type": "stream",
     "text": [
      "Help on function outer in module numpy:\n",
      "\n",
      "outer(a, b, out=None)\n",
      "    Compute the outer product of two vectors.\n",
      "    \n",
      "    Given two vectors, ``a = [a0, a1, ..., aM]`` and\n",
      "    ``b = [b0, b1, ..., bN]``,\n",
      "    the outer product [1]_ is::\n",
      "    \n",
      "      [[a0*b0  a0*b1 ... a0*bN ]\n",
      "       [a1*b0    .\n",
      "       [ ...          .\n",
      "       [aM*b0            aM*bN ]]\n",
      "    \n",
      "    Parameters\n",
      "    ----------\n",
      "    a : (M,) array_like\n",
      "        First input vector.  Input is flattened if\n",
      "        not already 1-dimensional.\n",
      "    b : (N,) array_like\n",
      "        Second input vector.  Input is flattened if\n",
      "        not already 1-dimensional.\n",
      "    out : (M, N) ndarray, optional\n",
      "        A location where the result is stored\n",
      "    \n",
      "        .. versionadded:: 1.9.0\n",
      "    \n",
      "    Returns\n",
      "    -------\n",
      "    out : (M, N) ndarray\n",
      "        ``out[i, j] = a[i] * b[j]``\n",
      "    \n",
      "    See also\n",
      "    --------\n",
      "    inner\n",
      "    einsum : ``einsum('i,j->ij', a.ravel(), b.ravel())`` is the equivalent.\n",
      "    ufunc.outer : A generalization to N dimensions and other operations.\n",
      "                  ``np.multiply.outer(a.ravel(), b.ravel())`` is the equivalent.\n",
      "    \n",
      "    References\n",
      "    ----------\n",
      "    .. [1] : G. H. Golub and C. F. Van Loan, *Matrix Computations*, 3rd\n",
      "             ed., Baltimore, MD, Johns Hopkins University Press, 1996,\n",
      "             pg. 8.\n",
      "    \n",
      "    Examples\n",
      "    --------\n",
      "    Make a (*very* coarse) grid for computing a Mandelbrot set:\n",
      "    \n",
      "    >>> rl = np.outer(np.ones((5,)), np.linspace(-2, 2, 5))\n",
      "    >>> rl\n",
      "    array([[-2., -1.,  0.,  1.,  2.],\n",
      "           [-2., -1.,  0.,  1.,  2.],\n",
      "           [-2., -1.,  0.,  1.,  2.],\n",
      "           [-2., -1.,  0.,  1.,  2.],\n",
      "           [-2., -1.,  0.,  1.,  2.]])\n",
      "    >>> im = np.outer(1j*np.linspace(2, -2, 5), np.ones((5,)))\n",
      "    >>> im\n",
      "    array([[ 0.+2.j,  0.+2.j,  0.+2.j,  0.+2.j,  0.+2.j],\n",
      "           [ 0.+1.j,  0.+1.j,  0.+1.j,  0.+1.j,  0.+1.j],\n",
      "           [ 0.+0.j,  0.+0.j,  0.+0.j,  0.+0.j,  0.+0.j],\n",
      "           [ 0.-1.j,  0.-1.j,  0.-1.j,  0.-1.j,  0.-1.j],\n",
      "           [ 0.-2.j,  0.-2.j,  0.-2.j,  0.-2.j,  0.-2.j]])\n",
      "    >>> grid = rl + im\n",
      "    >>> grid\n",
      "    array([[-2.+2.j, -1.+2.j,  0.+2.j,  1.+2.j,  2.+2.j],\n",
      "           [-2.+1.j, -1.+1.j,  0.+1.j,  1.+1.j,  2.+1.j],\n",
      "           [-2.+0.j, -1.+0.j,  0.+0.j,  1.+0.j,  2.+0.j],\n",
      "           [-2.-1.j, -1.-1.j,  0.-1.j,  1.-1.j,  2.-1.j],\n",
      "           [-2.-2.j, -1.-2.j,  0.-2.j,  1.-2.j,  2.-2.j]])\n",
      "    \n",
      "    An example using a \"vector\" of letters:\n",
      "    \n",
      "    >>> x = np.array(['a', 'b', 'c'], dtype=object)\n",
      "    >>> np.outer(x, [1, 2, 3])\n",
      "    array([[a, aa, aaa],\n",
      "           [b, bb, bbb],\n",
      "           [c, cc, ccc]], dtype=object)\n",
      "\n"
     ]
    }
   ],
   "source": [
    "help(np.outer)"
   ]
  },
  {
   "cell_type": "code",
   "execution_count": 59,
   "metadata": {},
   "outputs": [],
   "source": [
    "tpl = '''calc=ccsd(t)\n",
    "mem=5GB\n",
    "core=frozen\n",
    "ccprog=ccsd\n",
    "basis=cc-pvdz\n",
    "unit=angs\n",
    "geom=xyz\n",
    "18\n",
    "\n",
    "%s          0.00000        0.70760        0.00010\n",
    "%s          0.00000       -0.70760        0.00000\n",
    "%s          1.22500        1.39440        0.00000\n",
    "%s          1.22500       -1.39440        0.00010\n",
    "%s         -1.22500        1.39430        0.00000\n",
    "%s         -1.22500       -1.39430        0.00000\n",
    "%s          2.43270        0.69590       -0.00010\n",
    "%s          2.43270       -0.69580        0.00000\n",
    "%s         -2.43270        0.69580        0.00000\n",
    "%s         -2.43270       -0.69580       -0.00010\n",
    "H          1.24890        2.48210       -0.00010\n",
    "H          1.24890       -2.48220        0.00010\n",
    "H         -1.24900        2.48210        0.00010\n",
    "H         -1.24890       -2.48220       -0.00010\n",
    "H          3.37320        1.23910       -0.00010\n",
    "H          3.37330       -1.23900       -0.00010\n",
    "H         -3.37320        1.23900        0.00000\n",
    "H         -3.37330       -1.23900       -0.00010'''"
   ]
  },
  {
   "cell_type": "code",
   "execution_count": 45,
   "metadata": {},
   "outputs": [],
   "source": [
    "lines = open('n.log').readlines()"
   ]
  },
  {
   "cell_type": "code",
   "execution_count": 58,
   "metadata": {},
   "outputs": [],
   "source": [
    "args = [[{'5': 'B', '6': 'C', '7': 'N'}[__] for __ in _.strip()[8:-1].replace(' ','').split(',')] for _ in lines if 'Found:' in _]"
   ]
  },
  {
   "cell_type": "code",
   "execution_count": 71,
   "metadata": {},
   "outputs": [
    {
     "name": "stdout",
     "output_type": "stream",
     "text": [
      "BBBBBNNNNN\n",
      "calc=ccsd(t)\n",
      "mem=5GB\n",
      "core=frozen\n",
      "ccprog=ccsd\n",
      "basis=cc-pvdz\n",
      "unit=angs\n",
      "geom=xyz\n",
      "18\n",
      "\n",
      "B          0.00000        0.70760        0.00010\n",
      "B          0.00000       -0.70760        0.00000\n",
      "B          1.22500        1.39440        0.00000\n",
      "B          1.22500       -1.39440        0.00010\n",
      "B         -1.22500        1.39430        0.00000\n",
      "N         -1.22500       -1.39430        0.00000\n",
      "N          2.43270        0.69590       -0.00010\n",
      "N          2.43270       -0.69580        0.00000\n",
      "N         -2.43270        0.69580        0.00000\n",
      "N         -2.43270       -0.69580       -0.00010\n",
      "H          1.24890        2.48210       -0.00010\n",
      "H          1.24890       -2.48220        0.00010\n",
      "H         -1.24900        2.48210        0.00010\n",
      "H         -1.24890       -2.48220       -0.00010\n",
      "H          3.37320        1.23910       -0.00010\n",
      "H          3.37330       -1.23900       -0.00010\n",
      "H         -3.37320        1.23900        0.00000\n",
      "H         -3.37330       -1.23900       -0.00010\n"
     ]
    }
   ],
   "source": [
    "import os\n",
    "print (''.join(args[0]))\n",
    "print ( tpl % (*args[0],))"
   ]
  },
  {
   "cell_type": "code",
   "execution_count": 72,
   "metadata": {},
   "outputs": [],
   "source": [
    "for arg in args:\n",
    "    label = ''.join(arg)\n",
    "    os.mkdir('naphtalene/validation/%s' % label)"
   ]
  },
  {
   "cell_type": "code",
   "execution_count": 74,
   "metadata": {},
   "outputs": [],
   "source": [
    "for arg in args:\n",
    "    label = ''.join(arg)\n",
    "    with open('naphtalene/validation/%s/MINP' % label, 'w') as fh:\n",
    "        fh.write(tpl % (*arg,))"
   ]
  },
  {
   "cell_type": "code",
   "execution_count": null,
   "metadata": {},
   "outputs": [],
   "source": []
  }
 ],
 "metadata": {
  "kernelspec": {
   "display_name": "Python [conda env:analysis]",
   "language": "python",
   "name": "conda-env-analysis-py"
  },
  "language_info": {
   "codemirror_mode": {
    "name": "ipython",
    "version": 3
   },
   "file_extension": ".py",
   "mimetype": "text/x-python",
   "name": "python",
   "nbconvert_exporter": "python",
   "pygments_lexer": "ipython3",
   "version": "3.6.8"
  }
 },
 "nbformat": 4,
 "nbformat_minor": 4
}
