{
 "cells": [
  {
   "cell_type": "code",
   "execution_count": 16,
   "metadata": {},
   "outputs": [
    {
     "name": "stdout",
     "output_type": "stream",
     "text": [
      "The line_profiler extension is already loaded. To reload it, use:\n",
      "  %reload_ext line_profiler\n"
     ]
    }
   ],
   "source": [
    "import rankBN\n",
    "import numpy as np\n",
    "import qml\n",
    "import line_profiler\n",
    "import numba\n",
    "%load_ext line_profiler"
   ]
  },
  {
   "cell_type": "code",
   "execution_count": 6,
   "metadata": {},
   "outputs": [
    {
     "name": "stderr",
     "output_type": "stream",
     "text": [
      "/home/guido/miniconda3/envs/analysis/lib/python3.6/site-packages/MDAnalysis/topology/guessers.py:72: UserWarning: Failed to guess the mass for the following atom types: C.ar\n",
      "  warnings.warn(\"Failed to guess the mass for the following atom types: {}\".format(atom_type))\n"
     ]
    },
    {
     "name": "stdout",
     "output_type": "stream",
     "text": [
      "Working on stoichiometry: [5 5 5 5 5 7 7 7 7 7]\n",
      "Found 66 molecules from 252 permutations.\n",
      "55 components found\n",
      "Group energy -2005.9177820267687\n",
      "Found: [5, 7, 5, 7, 7, 5, 7, 5, 7, 5]\n",
      "Group energy -1884.187380497132\n",
      "Found: [5, 7, 5, 7, 5, 7, 7, 5, 7, 5]\n",
      "Group energy -1884.187380497132\n",
      "Found: [5, 7, 5, 7, 5, 7, 5, 7, 5, 7]\n",
      "Group energy -1884.187380497132\n",
      "Found: [5, 7, 5, 7, 7, 5, 5, 7, 7, 5]\n",
      "Group energy -1884.1873804971317\n",
      "Found: [5, 5, 7, 7, 7, 5, 7, 5, 7, 5]\n",
      "Group energy -1838.4990439770554\n",
      "Found: [5, 7, 5, 7, 7, 5, 7, 7, 5, 5]\n",
      "Found: [5, 7, 5, 7, 7, 7, 5, 7, 5, 5]\n",
      "Group energy -1838.4990439770554\n",
      "Found: [7, 5, 5, 7, 7, 5, 7, 7, 5, 5]\n",
      "Group energy -1808.145315487572\n",
      "Found: [5, 5, 7, 5, 5, 7, 7, 5, 7, 7]\n",
      "Group energy -1808.145315487572\n",
      "Found: [5, 5, 7, 5, 5, 7, 5, 7, 7, 7]\n",
      "Found: [5, 5, 7, 5, 7, 5, 7, 5, 7, 7]\n",
      "Group energy -1762.4569789674956\n",
      "Found: [5, 5, 7, 5, 5, 7, 7, 7, 5, 7]\n",
      "Group energy -1762.4569789674956\n",
      "Found: [5, 5, 7, 7, 5, 7, 5, 7, 5, 7]\n",
      "Group energy -1762.4569789674956\n",
      "Found: [5, 5, 7, 5, 7, 5, 7, 7, 5, 7]\n",
      "Found: [5, 5, 7, 5, 7, 5, 7, 7, 7, 5]\n",
      "Group energy -1762.4569789674956\n",
      "Found: [5, 5, 7, 5, 7, 7, 5, 7, 5, 7]\n",
      "Group energy -1762.4569789674954\n",
      "Found: [5, 5, 7, 5, 7, 7, 7, 5, 7, 5]\n",
      "Group energy -1762.4569789674954\n",
      "Found: [5, 5, 7, 7, 5, 7, 5, 7, 7, 5]\n",
      "Group energy -1762.4569789674954\n",
      "Found: [5, 5, 7, 5, 7, 7, 5, 7, 7, 5]\n",
      "Group energy -1762.4569789674954\n",
      "Found: [5, 5, 5, 7, 7, 7, 5, 7, 7, 5]\n",
      "Group energy -1762.4569789674954\n",
      "Found: [5, 5, 5, 7, 7, 5, 7, 7, 7, 5]\n",
      "Group energy -1762.4569789674954\n",
      "Found: [7, 5, 5, 7, 7, 5, 5, 7, 5, 7]\n",
      "Group energy -1762.4569789674952\n",
      "Found: [5, 7, 7, 5, 5, 7, 7, 5, 5, 7]\n",
      "Group energy -1762.4569789674952\n",
      "Found: [5, 7, 5, 7, 5, 7, 7, 5, 5, 7]\n",
      "Found: [5, 5, 7, 7, 5, 7, 7, 5, 7, 5]\n",
      "Group energy -1762.4569789674952\n",
      "Found: [5, 7, 7, 5, 7, 5, 5, 7, 5, 7]\n",
      "Group energy -1762.4569789674952\n",
      "Found: [5, 7, 5, 7, 7, 5, 7, 5, 5, 7]\n",
      "Found: [5, 5, 7, 7, 7, 7, 5, 5, 7, 5]\n",
      "Group energy -1762.4569789674952\n",
      "Found: [5, 7, 5, 7, 7, 5, 5, 7, 5, 7]\n",
      "Found: [5, 5, 7, 7, 7, 5, 5, 7, 7, 5]\n",
      "Group energy -1762.456978967495\n",
      "Found: [5, 5, 5, 7, 7, 7, 7, 5, 7, 5]\n",
      "Group energy -1716.768642447419\n",
      "Found: [5, 7, 7, 5, 7, 5, 7, 7, 5, 5]\n",
      "Group energy -1716.768642447419\n",
      "Found: [5, 7, 5, 7, 5, 7, 7, 7, 5, 5]\n",
      "Group energy -1716.7686424474189\n",
      "Found: [5, 5, 7, 7, 7, 5, 7, 7, 5, 5]\n",
      "Found: [5, 5, 7, 7, 7, 7, 5, 7, 5, 5]\n",
      "Found: [5, 7, 7, 7, 7, 5, 5, 7, 5, 5]\n",
      "Group energy -1716.7686424474186\n",
      "Found: [5, 7, 5, 7, 7, 7, 7, 5, 5, 5]\n",
      "Group energy -1686.4149139579351\n",
      "Found: [5, 5, 7, 5, 7, 5, 5, 7, 7, 7]\n",
      "Group energy -1686.4149139579351\n",
      "Found: [5, 5, 5, 7, 5, 7, 5, 7, 7, 7]\n",
      "Group energy -1686.414913957935\n",
      "Found: [5, 5, 7, 5, 5, 5, 7, 7, 7, 7]\n",
      "Found: [5, 5, 7, 5, 7, 7, 5, 5, 7, 7]\n",
      "Found: [5, 5, 5, 7, 5, 7, 7, 5, 7, 7]\n",
      "Group energy -1686.414913957935\n",
      "Found: [5, 5, 5, 7, 7, 5, 7, 5, 7, 7]\n",
      "Group energy -1640.7265774378589\n",
      "Found: [5, 5, 7, 7, 5, 5, 7, 7, 5, 7]\n",
      "Group energy -1640.7265774378589\n",
      "Found: [5, 5, 5, 7, 5, 7, 7, 7, 7, 5]\n",
      "Found: [5, 5, 5, 7, 5, 7, 7, 7, 5, 7]\n",
      "Group energy -1640.7265774378589\n",
      "Found: [5, 5, 5, 7, 7, 5, 7, 7, 5, 7]\n",
      "Group energy -1640.7265774378586\n",
      "Found: [5, 5, 7, 5, 5, 7, 7, 7, 7, 5]\n",
      "Group energy -1640.7265774378584\n",
      "Found: [5, 5, 7, 7, 5, 7, 7, 5, 5, 7]\n",
      "Group energy -1640.7265774378584\n",
      "Found: [5, 5, 7, 5, 7, 7, 7, 5, 5, 7]\n",
      "Group energy -1640.7265774378584\n",
      "Found: [5, 5, 7, 7, 7, 5, 7, 5, 5, 7]\n",
      "Group energy -1640.7265774378584\n",
      "Found: [5, 5, 7, 7, 7, 5, 5, 7, 5, 7]\n",
      "Group energy -1640.7265774378584\n",
      "Found: [5, 5, 5, 7, 7, 7, 5, 7, 5, 7]\n",
      "Group energy -1595.0382409177823\n",
      "Found: [5, 7, 7, 5, 5, 7, 7, 7, 5, 5]\n",
      "Group energy -1595.0382409177823\n",
      "Found: [5, 5, 7, 7, 5, 7, 7, 7, 5, 5]\n",
      "Group energy -1595.0382409177823\n",
      "Found: [5, 5, 7, 5, 7, 7, 7, 7, 5, 5]\n",
      "Group energy -1595.0382409177823\n",
      "Found: [5, 5, 5, 7, 7, 7, 7, 7, 5, 5]\n",
      "Group energy -1595.0382409177819\n",
      "Found: [5, 5, 7, 7, 7, 7, 7, 5, 5, 5]\n",
      "Group energy -1564.6845124282984\n",
      "Found: [5, 5, 5, 5, 5, 7, 7, 7, 7, 7]\n",
      "Group energy -1564.6845124282984\n",
      "Found: [5, 5, 5, 7, 5, 5, 7, 7, 7, 7]\n",
      "Group energy -1564.6845124282984\n",
      "Found: [5, 5, 5, 5, 7, 5, 7, 7, 7, 7]\n",
      "Group energy -1564.6845124282984\n",
      "Found: [5, 5, 5, 7, 7, 5, 5, 7, 7, 7]\n",
      "Group energy -1564.6845124282981\n",
      "Found: [5, 5, 5, 7, 7, 7, 5, 5, 7, 7]\n",
      "Group energy -1518.9961759082216\n",
      "Found: [5, 5, 7, 7, 7, 7, 5, 5, 5, 7]\n",
      "Group energy -1518.9961759082216\n",
      "Found: [5, 5, 5, 7, 7, 7, 7, 5, 5, 7]\n",
      "Group energy -1518.9961759082216\n",
      "Found: [5, 5, 5, 5, 7, 7, 7, 7, 5, 7]\n"
     ]
    },
    {
     "data": {
      "text/plain": [
       "Timer unit: 1e-06 s\n",
       "\n",
       "Total time: 60.7299 s\n",
       "File: /mnt/c/Users/guido/workcopies/apdft/prototyping/networks/rankBN.py\n",
       "Function: _get_site_similarity_CM at line 222\n",
       "\n",
       "Line #      Hits         Time  Per Hit   % Time  Line Contents\n",
       "==============================================================\n",
       "   222                                           \tdef _get_site_similarity_CM(self, nuclear_charges):\n",
       "   223                                           \t\t\"\"\" Returns i, j, distance.\"\"\"\n",
       "   224     31116     239035.0      7.7      0.4  \t\tcharges = self._c.nuclear_charges.copy().astype(np.float)\n",
       "   225     31116     133983.0      4.3      0.2  \t\tcharges[self._includeonly] = nuclear_charges\n",
       "   226     31116     247403.0      8.0      0.4  \t\tatoms = np.where(self._c.nuclear_charges == 6)[0]\n",
       "   227     31116    4829657.0    155.2      8.0  \t\ta = qml.representations.generate_coulomb_matrix(charges, self._c.coordinates, size=self._c.natoms, sorting='unsorted')\n",
       "   228     31116     236370.0      7.6      0.4  \t\ts = np.zeros((self._c.natoms, self._c.natoms))\n",
       "   229     31116    1883813.0     60.5      3.1  \t\ts[np.tril_indices(self._c.natoms)] = a\n",
       "   230     31116     556854.0     17.9      0.9  \t\td = np.diag(s)\n",
       "   231     31116     524995.0     16.9      0.9  \t\ts += s.T\n",
       "   232     31116     428361.0     13.8      0.7  \t\ts[np.diag_indices(self._c.natoms)] = d\n",
       "   233     31116    2990241.0     96.1      4.9  \t\tsorted_elements = [np.sort(_) for _ in s[atoms]]\n",
       "   234     31116     108250.0      3.5      0.2  \t\tret = []\n",
       "   235    342276    1057660.0      3.1      1.7  \t\tfor i in range(len(atoms)):\n",
       "   236   1711380    5575164.0      3.3      9.2  \t\t\tfor j in range(i+1, len(atoms)):\n",
       "   237   1400220   34208199.0     24.4     56.3  \t\t\t\tdist = np.linalg.norm(sorted_elements[i] - sorted_elements[j])\n",
       "   238   1400220    5925569.0      4.2      9.8  \t\t\t\tret.append([atoms[i], atoms[j], dist])\n",
       "   239     31116    1376177.0     44.2      2.3  \t\tret = np.array(ret)\n",
       "   240     31116     408187.0     13.1      0.7  \t\treturn np.array(ret[:, 0], dtype=np.int), np.array(ret[:, 1], dtype=np.int), ret[:, 2]"
      ]
     },
     "metadata": {},
     "output_type": "display_data"
    }
   ],
   "source": [
    "%lprun -f rankBN.Ranker._get_site_similarity_CM rankBN.do_main(\"napthalene-molpro.xyz\", \"napthalene-molpro.mol2\", 2.2, \"CM\") "
   ]
  },
  {
   "cell_type": "code",
   "execution_count": 8,
   "metadata": {},
   "outputs": [
    {
     "name": "stderr",
     "output_type": "stream",
     "text": [
      "/home/guido/miniconda3/envs/analysis/lib/python3.6/site-packages/MDAnalysis/topology/guessers.py:72: UserWarning: Failed to guess the mass for the following atom types: C.ar\n",
      "  warnings.warn(\"Failed to guess the mass for the following atom types: {}\".format(atom_type))\n"
     ]
    }
   ],
   "source": [
    "nuclear_charges, coordinates = rankBN.Ranker.read_xyz(\"napthalene-molpro.xyz\")\n",
    "r = rankBN.Ranker(nuclear_charges, coordinates, \"napthalene-molpro.xyz\", \"napthalene-molpro.mol2\", explain=True, sim=2.2, simmode=\"CM\")"
   ]
  },
  {
   "cell_type": "code",
   "execution_count": 23,
   "metadata": {},
   "outputs": [],
   "source": [
    "TESTVECS = get_site_similarity_CM(r, (5,7,5,7,5,7,5,7,5,7))"
   ]
  },
  {
   "cell_type": "code",
   "execution_count": 206,
   "metadata": {},
   "outputs": [
    {
     "name": "stdout",
     "output_type": "stream",
     "text": [
      "602 µs ± 24.1 µs per loop (mean ± std. dev. of 7 runs, 1000 loops each)\n"
     ]
    },
    {
     "data": {
      "text/plain": [
       "Timer unit: 1e-06 s\n",
       "\n",
       "Total time: 0.010335 s\n",
       "File: <ipython-input-206-04c9493dba82>\n",
       "Function: get_site_similarity_CM_orig at line 2\n",
       "\n",
       "Line #      Hits         Time  Per Hit   % Time  Line Contents\n",
       "==============================================================\n",
       "     2                                           def get_site_similarity_CM_orig(self, nuclear_charges):\n",
       "     3                                               \"\"\" Returns i, j, distance.\"\"\"\n",
       "     4         1         78.0     78.0      0.8      charges = self._c.nuclear_charges.copy().astype(np.float)\n",
       "     5         1         17.0     17.0      0.2      charges[self._includeonly] = nuclear_charges\n",
       "     6         1          4.0      4.0      0.0      atoms = self._includeonly\n",
       "     7         1        303.0    303.0      2.9      a = qml.representations.generate_coulomb_matrix(charges, self._c.coordinates, size=self._c.natoms, sorting='unsorted')\n",
       "     8         1         26.0     26.0      0.3      s = np.zeros((self._c.natoms, self._c.natoms))\n",
       "     9         1        231.0    231.0      2.2      s[np.tril_indices(self._c.natoms)] = a\n",
       "    10         1         48.0     48.0      0.5      d = np.diag(s)\n",
       "    11         1         70.0     70.0      0.7      s += s.T\n",
       "    12         1         50.0     50.0      0.5      s[np.diag_indices(self._c.natoms)] = d\n",
       "    13         1       2160.0   2160.0     20.9      sorted_elements = [np.sort(_) for _ in s[atoms]]\n",
       "    14         1          6.0      6.0      0.1      ret = []\n",
       "    15        11         57.0      5.2      0.6      for i in range(len(atoms)):\n",
       "    16        55       1800.0     32.7     17.4          for j in range(i+1, len(atoms)):\n",
       "    17        45       4514.0    100.3     43.7              dist = np.linalg.norm(sorted_elements[i] - sorted_elements[j])\n",
       "    18        45        848.0     18.8      8.2              ret.append([atoms[i], atoms[j], dist])\n",
       "    19         1         99.0     99.0      1.0      ret = np.array(ret)\n",
       "    20         1         24.0     24.0      0.2      return np.array(ret[:, 0], dtype=np.int), np.array(ret[:, 1], dtype=np.int), ret[:, 2]"
      ]
     },
     "metadata": {},
     "output_type": "display_data"
    }
   ],
   "source": [
    "# Original implementation\n",
    "def get_site_similarity_CM_orig(self, nuclear_charges):\n",
    "    \"\"\" Returns i, j, distance.\"\"\"\n",
    "    charges = self._c.nuclear_charges.copy().astype(np.float)\n",
    "    charges[self._includeonly] = nuclear_charges\n",
    "    atoms = self._includeonly\n",
    "    a = qml.representations.generate_coulomb_matrix(charges, self._c.coordinates, size=self._c.natoms, sorting='unsorted')\n",
    "    s = np.zeros((self._c.natoms, self._c.natoms))\n",
    "    s[np.tril_indices(self._c.natoms)] = a\n",
    "    d = np.diag(s)\n",
    "    s += s.T\n",
    "    s[np.diag_indices(self._c.natoms)] = d\n",
    "    sorted_elements = [np.sort(_) for _ in s[atoms]]\n",
    "    ret = []\n",
    "    for i in range(len(atoms)):\n",
    "        for j in range(i+1, len(atoms)):\n",
    "            dist = np.linalg.norm(sorted_elements[i] - sorted_elements[j])\n",
    "            ret.append([atoms[i], atoms[j], dist])\n",
    "    ret = np.array(ret)\n",
    "    return np.array(ret[:, 0], dtype=np.int), np.array(ret[:, 1], dtype=np.int), ret[:, 2]\n",
    "\n",
    "%lprun -f get_site_similarity_CM_orig get_site_similarity_CM_orig(r, (5,7,5,7,5,7,5,7,5,7))\n",
    "%timeit get_site_similarity_CM_orig(r, (5,7,5,7,5,7,5,7,5,7))"
   ]
  },
  {
   "cell_type": "code",
   "execution_count": 97,
   "metadata": {},
   "outputs": [],
   "source": [
    "# Use numba for loops, early exit\n",
    "@numba.jit(nopython=True)\n",
    "def numba_exit_norm(A, B, n, limit):\n",
    "    delta = 0.\n",
    "    for i in range(n):\n",
    "        delta += (A[i] - B[i])**2\n",
    "        if delta > limit:\n",
    "            return limit + 1\n",
    "    return delta**0.5\n",
    "\n",
    "def get_site_similarity_CM(self, nuclear_charges):\n",
    "    \"\"\" Returns i, j, distance.\"\"\"\n",
    "    charges = self._c.nuclear_charges.copy().astype(np.float)\n",
    "    charges[self._includeonly] = nuclear_charges\n",
    "    atoms = self._includeonly\n",
    "    a = qml.representations.generate_coulomb_matrix(charges, self._c.coordinates, size=self._c.natoms, sorting='unsorted')\n",
    "    s = np.zeros((self._c.natoms, self._c.natoms))\n",
    "    s[np.tril_indices(self._c.natoms)] = a\n",
    "    d = np.diag(s)\n",
    "    s += s.T\n",
    "    s[np.diag_indices(self._c.natoms)] = d\n",
    "    sorted_elements = [np.sort(_) for _ in s[atoms]]\n",
    "    limit = self._similarity_parameter**2.\n",
    "    ret = []\n",
    "    for i in range(len(atoms)):\n",
    "        for j in range(i+1, len(atoms)):\n",
    "            dist = numba_exit_norm(sorted_elements[i], sorted_elements[j], self._c.natoms, limit)\n",
    "            ret.append([atoms[i], atoms[j], dist])\n",
    "    ret = np.array(ret)\n",
    "    return np.array(ret[:, 0], dtype=np.int), np.array(ret[:, 1], dtype=np.int), ret[:, 2]"
   ]
  },
  {
   "cell_type": "code",
   "execution_count": 77,
   "metadata": {},
   "outputs": [
    {
     "name": "stdout",
     "output_type": "stream",
     "text": [
      "250 µs ± 16.1 µs per loop (mean ± std. dev. of 7 runs, 1000 loops each)\n"
     ]
    },
    {
     "data": {
      "text/plain": [
       "Timer unit: 1e-06 s\n",
       "\n",
       "Total time: 0.002084 s\n",
       "File: <ipython-input-69-b613c9ffd911>\n",
       "Function: get_site_similarity_CM at line 11\n",
       "\n",
       "Line #      Hits         Time  Per Hit   % Time  Line Contents\n",
       "==============================================================\n",
       "    11                                           def get_site_similarity_CM(self, nuclear_charges):\n",
       "    12                                               \"\"\" Returns i, j, distance.\"\"\"\n",
       "    13         1         38.0     38.0      1.8      charges = self._c.nuclear_charges.copy().astype(np.float)\n",
       "    14         1         16.0     16.0      0.8      charges[self._includeonly] = nuclear_charges\n",
       "    15         1          6.0      6.0      0.3      atoms = self._includeonly\n",
       "    16         1        262.0    262.0     12.6      a = qml.representations.generate_coulomb_matrix(charges, self._c.coordinates, size=self._c.natoms, sorting='unsorted')\n",
       "    17         1         17.0     17.0      0.8      s = np.zeros((self._c.natoms, self._c.natoms))\n",
       "    18         1        109.0    109.0      5.2      s[np.tril_indices(self._c.natoms)] = a\n",
       "    19         1         24.0     24.0      1.2      d = np.diag(s)\n",
       "    20         1         27.0     27.0      1.3      s += s.T\n",
       "    21         1        262.0    262.0     12.6      s[np.diag_indices(self._c.natoms)] = d\n",
       "    22         1        363.0    363.0     17.4      sorted_elements = [np.sort(_) for _ in s[atoms]]\n",
       "    23         1         11.0     11.0      0.5      limit = self._similarity_parameter**2.\n",
       "    24         1          6.0      6.0      0.3      ret = []\n",
       "    25        11         44.0      4.0      2.1      for i in range(len(atoms)):\n",
       "    26        55        278.0      5.1     13.3          for j in range(i+1, len(atoms)):\n",
       "    27        45        294.0      6.5     14.1              dist = numba_exit_norm(sorted_elements[i], sorted_elements[j], self._c.natoms, limit)\n",
       "    28        45        251.0      5.6     12.0              ret.append([atoms[i], atoms[j], dist])\n",
       "    29         1         50.0     50.0      2.4      ret = np.array(ret)\n",
       "    30         1         26.0     26.0      1.2      return np.array(ret[:, 0], dtype=np.int), np.array(ret[:, 1], dtype=np.int), ret[:, 2]"
      ]
     },
     "metadata": {},
     "output_type": "display_data"
    }
   ],
   "source": [
    "numba_exit_norm(TESTVECS[0], TESTVECS[1], 18, 10)\n",
    "%lprun -f get_site_similarity_CM get_site_similarity_CM(r, (5,7,5,7,5,7,5,7,5,7))\n",
    "%timeit get_site_similarity_CM(r, (5,7,5,7,5,7,5,7,5,7))"
   ]
  },
  {
   "cell_type": "code",
   "execution_count": 155,
   "metadata": {},
   "outputs": [],
   "source": [
    "# skip recurrent output\n",
    "@numba.jit(nopython=True)\n",
    "def numba_exit_norm(A, B, n, limit):\n",
    "    delta = 0.\n",
    "    for i in range(n):\n",
    "        delta += (A[i] - B[i])**2\n",
    "        if delta > limit:\n",
    "            return limit + 1\n",
    "    return delta**0.5\n",
    "\n",
    "def get_site_similarity_CM(self, nuclear_charges):\n",
    "    \"\"\" Returns i, j, distance.\"\"\"\n",
    "    charges = self._c.nuclear_charges.copy().astype(np.float)\n",
    "    charges[self._includeonly] = nuclear_charges\n",
    "    atoms = self._includeonly\n",
    "    a = qml.representations.generate_coulomb_matrix(charges, self._c.coordinates, size=self._c.natoms, sorting='unsorted')\n",
    "    s = np.zeros((self._c.natoms, self._c.natoms))\n",
    "    s[np.tril_indices(self._c.natoms)] = a\n",
    "    d = np.diag(s)\n",
    "    s += s.T\n",
    "    s[np.diag_indices(self._c.natoms)] = d\n",
    "    sorted_elements = np.sort(s[atoms], axis=1)\n",
    "    \n",
    "    limit = self._similarity_parameter**2.\n",
    "    npairs = int(self._nmodifiedatoms * (self._nmodifiedatoms-1)/2)\n",
    "    ret = np.zeros(npairs)\n",
    "    atomi, atomj = self._cache_site_similarity_indices\n",
    "    \n",
    "    for i in range(npairs):\n",
    "        dist = numba_exit_norm(sorted_elements[atomi[i]], sorted_elements[atomj[i]], self._c.natoms, limit)\n",
    "        ret[i] = dist\n",
    "    return ret"
   ]
  },
  {
   "cell_type": "code",
   "execution_count": 156,
   "metadata": {},
   "outputs": [
    {
     "name": "stdout",
     "output_type": "stream",
     "text": [
      "401 µs ± 56.7 µs per loop (mean ± std. dev. of 7 runs, 1000 loops each)\n"
     ]
    },
    {
     "data": {
      "text/plain": [
       "Timer unit: 1e-06 s\n",
       "\n",
       "Total time: 0.483879 s\n",
       "File: <ipython-input-155-6baaf2341b43>\n",
       "Function: get_site_similarity_CM at line 11\n",
       "\n",
       "Line #      Hits         Time  Per Hit   % Time  Line Contents\n",
       "==============================================================\n",
       "    11                                           def get_site_similarity_CM(self, nuclear_charges):\n",
       "    12                                               \"\"\" Returns i, j, distance.\"\"\"\n",
       "    13         1         26.0     26.0      0.0      charges = self._c.nuclear_charges.copy().astype(np.float)\n",
       "    14         1         19.0     19.0      0.0      charges[self._includeonly] = nuclear_charges\n",
       "    15         1          4.0      4.0      0.0      atoms = self._includeonly\n",
       "    16         1        108.0    108.0      0.0      a = qml.representations.generate_coulomb_matrix(charges, self._c.coordinates, size=self._c.natoms, sorting='unsorted')\n",
       "    17         1         15.0     15.0      0.0      s = np.zeros((self._c.natoms, self._c.natoms))\n",
       "    18         1        141.0    141.0      0.0      s[np.tril_indices(self._c.natoms)] = a\n",
       "    19         1         35.0     35.0      0.0      d = np.diag(s)\n",
       "    20         1         34.0     34.0      0.0      s += s.T\n",
       "    21         1         26.0     26.0      0.0      s[np.diag_indices(self._c.natoms)] = d\n",
       "    22         1         53.0     53.0      0.0      sorted_elements = np.sort(s[atoms], axis=1)\n",
       "    23                                               \n",
       "    24         1          8.0      8.0      0.0      limit = self._similarity_parameter**2.\n",
       "    25         1          8.0      8.0      0.0      npairs = int(self._nmodifiedatoms * (self._nmodifiedatoms-1)/2)\n",
       "    26         1         12.0     12.0      0.0      ret = np.zeros(npairs)\n",
       "    27         1          5.0      5.0      0.0      atomi, atomj = self._cache_site_similarity_indices\n",
       "    28                                               \n",
       "    29        46        195.0      4.2      0.0      for i in range(npairs):\n",
       "    30        45     482987.0  10733.0     99.8          dist = numba_exit_norm(sorted_elements[atomi[i]], sorted_elements[atomj[i]], self._c.natoms, limit)\n",
       "    31        45        199.0      4.4      0.0          ret[i] = dist\n",
       "    32         1          4.0      4.0      0.0      return ret"
      ]
     },
     "metadata": {},
     "output_type": "display_data"
    }
   ],
   "source": [
    "numba_exit_norm(TESTVECS[0], TESTVECS[1], 18, 10)\n",
    "%lprun -f get_site_similarity_CM get_site_similarity_CM(r, (5,7,5,7,5,7,5,7,5,7))\n",
    "%timeit get_site_similarity_CM(r, (5,7,5,7,5,7,5,7,5,7))"
   ]
  },
  {
   "cell_type": "code",
   "execution_count": 167,
   "metadata": {},
   "outputs": [],
   "source": [
    "# numpyify\n",
    "@numba.jit(nopython=True)\n",
    "def numba_exit_norm(A, B, n, limit):\n",
    "    delta = 0.\n",
    "    for i in range(n):\n",
    "        delta += (A[i] - B[i])**2\n",
    "        if delta > limit:\n",
    "            return limit + 1\n",
    "    return delta**0.5\n",
    "\n",
    "def prepare_site_similarity_CM(self):\n",
    "    self._sitesimCM_squareform_outcache = np.zeros((self._c.natoms, self._c.natoms))\n",
    "    self._sitesimCM_squareform_mask = np.tril(np.ones((self._c.natoms, self._c.natoms),dtype=bool))\n",
    "\n",
    "def get_site_similarity_CM(self, nuclear_charges):\n",
    "    \"\"\" Returns i, j, distance.\"\"\"\n",
    "    charges = self._c.nuclear_charges.copy().astype(np.float)\n",
    "    charges[self._includeonly] = nuclear_charges\n",
    "    atoms = self._includeonly\n",
    "    a = qml.representations.generate_coulomb_matrix(charges, self._c.coordinates, size=self._c.natoms, sorting='unsorted')\n",
    "    \n",
    "    # to squareform\n",
    "    self._sitesimCM_squareform_outcache[self._sitesimCM_squareform_mask] = a\n",
    "    self._sitesimCM_squareform_outcache.T[self._sitesimCM_squareform_mask] = a\n",
    "    \n",
    "    sorted_elements = np.sort(self._sitesimCM_squareform_outcache[atoms], axis=1)\n",
    "    \n",
    "    limit = self._similarity_parameter**2.\n",
    "    npairs = int(self._nmodifiedatoms * (self._nmodifiedatoms-1)/2)\n",
    "    ret = np.zeros(npairs)\n",
    "    atomi, atomj = self._cache_site_similarity_indices\n",
    "    \n",
    "    for i in range(npairs):\n",
    "        dist = numba_exit_norm(sorted_elements[atomi[i]], sorted_elements[atomj[i]], self._c.natoms, limit)\n",
    "        ret[i] = dist\n",
    "    return ret"
   ]
  },
  {
   "cell_type": "code",
   "execution_count": 173,
   "metadata": {},
   "outputs": [
    {
     "name": "stdout",
     "output_type": "stream",
     "text": [
      "286 µs ± 22.2 µs per loop (mean ± std. dev. of 7 runs, 1000 loops each)\n"
     ]
    },
    {
     "data": {
      "text/plain": [
       "Timer unit: 1e-06 s\n",
       "\n",
       "Total time: 0.000884 s\n",
       "File: <ipython-input-167-407f81e32edb>\n",
       "Function: get_site_similarity_CM at line 15\n",
       "\n",
       "Line #      Hits         Time  Per Hit   % Time  Line Contents\n",
       "==============================================================\n",
       "    15                                           def get_site_similarity_CM(self, nuclear_charges):\n",
       "    16                                               \"\"\" Returns i, j, distance.\"\"\"\n",
       "    17         1         23.0     23.0      2.6      charges = self._c.nuclear_charges.copy().astype(np.float)\n",
       "    18         1         15.0     15.0      1.7      charges[self._includeonly] = nuclear_charges\n",
       "    19         1          4.0      4.0      0.5      atoms = self._includeonly\n",
       "    20         1        236.0    236.0     26.7      a = qml.representations.generate_coulomb_matrix(charges, self._c.coordinates, size=self._c.natoms, sorting='unsorted')\n",
       "    21                                               \n",
       "    22                                               # to squareform\n",
       "    23         1         12.0     12.0      1.4      self._sitesimCM_squareform_outcache[self._sitesimCM_squareform_mask] = a\n",
       "    24         1          9.0      9.0      1.0      self._sitesimCM_squareform_outcache.T[self._sitesimCM_squareform_mask] = a\n",
       "    25                                               \n",
       "    26         1         55.0     55.0      6.2      sorted_elements = np.sort(self._sitesimCM_squareform_outcache[atoms], axis=1)\n",
       "    27                                               \n",
       "    28         1          5.0      5.0      0.6      limit = self._similarity_parameter**2.\n",
       "    29         1          7.0      7.0      0.8      npairs = int(self._nmodifiedatoms * (self._nmodifiedatoms-1)/2)\n",
       "    30         1          7.0      7.0      0.8      ret = np.zeros(npairs)\n",
       "    31         1          3.0      3.0      0.3      atomi, atomj = self._cache_site_similarity_indices\n",
       "    32                                               \n",
       "    33        46        128.0      2.8     14.5      for i in range(npairs):\n",
       "    34        45        236.0      5.2     26.7          dist = numba_exit_norm(sorted_elements[atomi[i]], sorted_elements[atomj[i]], self._c.natoms, limit)\n",
       "    35        45        141.0      3.1     16.0          ret[i] = dist\n",
       "    36         1          3.0      3.0      0.3      return ret"
      ]
     },
     "metadata": {},
     "output_type": "display_data"
    }
   ],
   "source": [
    "numba_exit_norm(TESTVECS[0], TESTVECS[1], 18, 10)\n",
    "prepare_site_similarity_CM(r)\n",
    "%lprun -f get_site_similarity_CM get_site_similarity_CM(r, (5,7,5,7,5,7,5,7,5,7))\n",
    "%timeit get_site_similarity_CM(r, (5,7,5,7,5,7,5,7,5,7))"
   ]
  },
  {
   "cell_type": "code",
   "execution_count": 209,
   "metadata": {},
   "outputs": [],
   "source": [
    "# numpyify\n",
    "@numba.jit(nopython=True)\n",
    "def numba_exit_norm(A, B, n, limit):\n",
    "    delta = 0.\n",
    "    for i in range(n):\n",
    "        delta += (A[i] - B[i])**2\n",
    "        if delta > limit:\n",
    "            return limit + 1\n",
    "    return delta**0.5\n",
    "\n",
    "@numba.jit(nopython=True)\n",
    "def numba_loop(atomi, atomj, sorted_elements, natoms, limit):\n",
    "    npairs = len(atomi)\n",
    "    ret = np.zeros(npairs)\n",
    "    for i in range(npairs):\n",
    "        dist = numba_exit_norm(sorted_elements[atomi[i]], sorted_elements[atomj[i]], natoms, limit)\n",
    "        ret[i] = dist\n",
    "    return ret\n",
    "\n",
    "def prepare_site_similarity_CM(self):\n",
    "    self._sitesimCM_squareform_outcache = np.zeros((self._c.natoms, self._c.natoms))\n",
    "    self._sitesimCM_squareform_mask = np.tril(np.ones((self._c.natoms, self._c.natoms),dtype=bool))\n",
    "    self._sitesimCM_charges = self._c.nuclear_charges.copy().astype(np.float)\n",
    "\n",
    "def get_site_similarity_CM(self, nuclear_charges):\n",
    "    \"\"\" Returns i, j, distance.\"\"\"\n",
    "    charges = self._sitesimCM_charges\n",
    "    charges[self._includeonly] = nuclear_charges\n",
    "    a = qml.representations.generate_coulomb_matrix(charges, self._c.coordinates, size=self._c.natoms, sorting='unsorted')\n",
    "    \n",
    "    # to squareform\n",
    "    self._sitesimCM_squareform_outcache[self._sitesimCM_squareform_mask] = a\n",
    "    self._sitesimCM_squareform_outcache.T[self._sitesimCM_squareform_mask] = a\n",
    "    \n",
    "    sorted_elements = np.sort(self._sitesimCM_squareform_outcache[self._includeonly], axis=1, kind=\"stable\")\n",
    "    \n",
    "    limit = self._similarity_parameter**2.\n",
    "    atomi, atomj = self._cache_site_similarity_indices\n",
    "    \n",
    "    return numba_loop(atomi, atomj, sorted_elements, self._c.natoms, limit)"
   ]
  },
  {
   "cell_type": "code",
   "execution_count": 211,
   "metadata": {},
   "outputs": [
    {
     "name": "stdout",
     "output_type": "stream",
     "text": [
      "42.1 µs ± 5.49 µs per loop (mean ± std. dev. of 7 runs, 10000 loops each)\n"
     ]
    },
    {
     "data": {
      "text/plain": [
       "Timer unit: 1e-06 s\n",
       "\n",
       "Total time: 0.000442 s\n",
       "File: <ipython-input-209-a2e3d9186af7>\n",
       "Function: get_site_similarity_CM at line 25\n",
       "\n",
       "Line #      Hits         Time  Per Hit   % Time  Line Contents\n",
       "==============================================================\n",
       "    25                                           def get_site_similarity_CM(self, nuclear_charges):\n",
       "    26                                               \"\"\" Returns i, j, distance.\"\"\"\n",
       "    27         1          6.0      6.0      1.4      charges = self._sitesimCM_charges\n",
       "    28         1         18.0     18.0      4.1      charges[self._includeonly] = nuclear_charges\n",
       "    29         1        317.0    317.0     71.7      a = qml.representations.generate_coulomb_matrix(charges, self._c.coordinates, size=self._c.natoms, sorting='unsorted')\n",
       "    30                                               \n",
       "    31                                               # to squareform\n",
       "    32         1         13.0     13.0      2.9      self._sitesimCM_squareform_outcache[self._sitesimCM_squareform_mask] = a\n",
       "    33         1         10.0     10.0      2.3      self._sitesimCM_squareform_outcache.T[self._sitesimCM_squareform_mask] = a\n",
       "    34                                               \n",
       "    35         1         49.0     49.0     11.1      sorted_elements = np.sort(self._sitesimCM_squareform_outcache[self._includeonly], axis=1, kind=\"stable\")\n",
       "    36                                               \n",
       "    37         1          6.0      6.0      1.4      limit = self._similarity_parameter**2.\n",
       "    38         1          4.0      4.0      0.9      atomi, atomj = self._cache_site_similarity_indices\n",
       "    39                                               \n",
       "    40         1         19.0     19.0      4.3      return numba_loop(atomi, atomj, sorted_elements, self._c.natoms, limit)"
      ]
     },
     "metadata": {},
     "output_type": "display_data"
    }
   ],
   "source": [
    "numba_exit_norm(TESTVECS[0], TESTVECS[1], 18, 10)\n",
    "prepare_site_similarity_CM(r)\n",
    "%lprun -f get_site_similarity_CM get_site_similarity_CM(r, (5,7,5,7,5,7,5,7,5,7))\n",
    "%timeit get_site_similarity_CM(r, (5,7,5,7,5,7,5,7,5,7))"
   ]
  },
  {
   "cell_type": "code",
   "execution_count": null,
   "metadata": {},
   "outputs": [],
   "source": []
  }
 ],
 "metadata": {
  "kernelspec": {
   "display_name": "Python [conda env:analysis]",
   "language": "python",
   "name": "conda-env-analysis-py"
  },
  "language_info": {
   "codemirror_mode": {
    "name": "ipython",
    "version": 3
   },
   "file_extension": ".py",
   "mimetype": "text/x-python",
   "name": "python",
   "nbconvert_exporter": "python",
   "pygments_lexer": "ipython3",
   "version": "3.6.8"
  }
 },
 "nbformat": 4,
 "nbformat_minor": 4
}
