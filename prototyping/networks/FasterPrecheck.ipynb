{
 "cells": [
  {
   "cell_type": "code",
   "execution_count": 57,
   "metadata": {},
   "outputs": [
    {
     "name": "stdout",
     "output_type": "stream",
     "text": [
      "The line_profiler extension is already loaded. To reload it, use:\n",
      "  %reload_ext line_profiler\n"
     ]
    }
   ],
   "source": [
    "import rankBN\n",
    "import numpy as np\n",
    "import qml\n",
    "import math\n",
    "import igraph as ig\n",
    "import line_profiler\n",
    "import numba\n",
    "from numba.typed import List\n",
    "%load_ext line_profiler"
   ]
  },
  {
   "cell_type": "code",
   "execution_count": 2,
   "metadata": {},
   "outputs": [
    {
     "name": "stderr",
     "output_type": "stream",
     "text": [
      "/home/guido/miniconda3/envs/analysis/lib/python3.6/site-packages/MDAnalysis/topology/guessers.py:72: UserWarning: Failed to guess the mass for the following atom types: C.ar\n",
      "  warnings.warn(\"Failed to guess the mass for the following atom types: {}\".format(atom_type))\n"
     ]
    },
    {
     "name": "stdout",
     "output_type": "stream",
     "text": [
      "Working on stoichiometry: [5 5 5 5 5 7 7 7 7 7]\n",
      "Found 66 molecules from 252 permutations.\n",
      "55 components found\n",
      "Group energy -2005.9177820267687\n",
      "Found: [5, 7, 5, 7, 7, 5, 7, 5, 7, 5]\n",
      "Group energy -1884.187380497132\n",
      "Found: [5, 7, 5, 7, 5, 7, 7, 5, 7, 5]\n",
      "Group energy -1884.187380497132\n",
      "Found: [5, 7, 5, 7, 5, 7, 5, 7, 5, 7]\n",
      "Group energy -1884.187380497132\n",
      "Found: [5, 7, 5, 7, 7, 5, 5, 7, 7, 5]\n",
      "Group energy -1884.1873804971317\n",
      "Found: [5, 5, 7, 7, 7, 5, 7, 5, 7, 5]\n",
      "Group energy -1838.4990439770554\n",
      "Found: [5, 7, 5, 7, 7, 5, 7, 7, 5, 5]\n",
      "Found: [5, 7, 5, 7, 7, 7, 5, 7, 5, 5]\n",
      "Group energy -1838.4990439770554\n",
      "Found: [7, 5, 5, 7, 7, 5, 7, 7, 5, 5]\n",
      "Group energy -1808.145315487572\n",
      "Found: [5, 5, 7, 5, 5, 7, 7, 5, 7, 7]\n",
      "Group energy -1808.145315487572\n",
      "Found: [5, 5, 7, 5, 5, 7, 5, 7, 7, 7]\n",
      "Found: [5, 5, 7, 5, 7, 5, 7, 5, 7, 7]\n",
      "Group energy -1762.4569789674956\n",
      "Found: [5, 5, 7, 5, 5, 7, 7, 7, 5, 7]\n",
      "Group energy -1762.4569789674956\n",
      "Found: [5, 5, 7, 7, 5, 7, 5, 7, 5, 7]\n",
      "Group energy -1762.4569789674956\n",
      "Found: [5, 5, 7, 5, 7, 5, 7, 7, 5, 7]\n",
      "Found: [5, 5, 7, 5, 7, 5, 7, 7, 7, 5]\n",
      "Group energy -1762.4569789674956\n",
      "Found: [5, 5, 7, 5, 7, 7, 5, 7, 5, 7]\n",
      "Group energy -1762.4569789674954\n",
      "Found: [5, 5, 7, 5, 7, 7, 7, 5, 7, 5]\n",
      "Group energy -1762.4569789674954\n",
      "Found: [5, 5, 7, 7, 5, 7, 5, 7, 7, 5]\n",
      "Group energy -1762.4569789674954\n",
      "Found: [5, 5, 7, 5, 7, 7, 5, 7, 7, 5]\n",
      "Group energy -1762.4569789674954\n",
      "Found: [5, 5, 5, 7, 7, 7, 5, 7, 7, 5]\n",
      "Group energy -1762.4569789674954\n",
      "Found: [5, 5, 5, 7, 7, 5, 7, 7, 7, 5]\n",
      "Group energy -1762.4569789674954\n",
      "Found: [7, 5, 5, 7, 7, 5, 5, 7, 5, 7]\n",
      "Group energy -1762.4569789674952\n",
      "Found: [5, 7, 7, 5, 5, 7, 7, 5, 5, 7]\n",
      "Group energy -1762.4569789674952\n",
      "Found: [5, 7, 5, 7, 5, 7, 7, 5, 5, 7]\n",
      "Found: [5, 5, 7, 7, 5, 7, 7, 5, 7, 5]\n",
      "Group energy -1762.4569789674952\n",
      "Found: [5, 7, 7, 5, 7, 5, 5, 7, 5, 7]\n",
      "Group energy -1762.4569789674952\n",
      "Found: [5, 7, 5, 7, 7, 5, 7, 5, 5, 7]\n",
      "Found: [5, 5, 7, 7, 7, 7, 5, 5, 7, 5]\n",
      "Group energy -1762.4569789674952\n",
      "Found: [5, 7, 5, 7, 7, 5, 5, 7, 5, 7]\n",
      "Found: [5, 5, 7, 7, 7, 5, 5, 7, 7, 5]\n",
      "Group energy -1762.456978967495\n",
      "Found: [5, 5, 5, 7, 7, 7, 7, 5, 7, 5]\n",
      "Group energy -1716.768642447419\n",
      "Found: [5, 7, 7, 5, 7, 5, 7, 7, 5, 5]\n",
      "Group energy -1716.768642447419\n",
      "Found: [5, 7, 5, 7, 5, 7, 7, 7, 5, 5]\n",
      "Group energy -1716.7686424474189\n",
      "Found: [5, 5, 7, 7, 7, 5, 7, 7, 5, 5]\n",
      "Found: [5, 5, 7, 7, 7, 7, 5, 7, 5, 5]\n",
      "Found: [5, 7, 7, 7, 7, 5, 5, 7, 5, 5]\n",
      "Group energy -1716.7686424474186\n",
      "Found: [5, 7, 5, 7, 7, 7, 7, 5, 5, 5]\n",
      "Group energy -1686.4149139579351\n",
      "Found: [5, 5, 7, 5, 7, 5, 5, 7, 7, 7]\n",
      "Group energy -1686.4149139579351\n",
      "Found: [5, 5, 5, 7, 5, 7, 5, 7, 7, 7]\n",
      "Group energy -1686.414913957935\n",
      "Found: [5, 5, 7, 5, 5, 5, 7, 7, 7, 7]\n",
      "Found: [5, 5, 7, 5, 7, 7, 5, 5, 7, 7]\n",
      "Found: [5, 5, 5, 7, 5, 7, 7, 5, 7, 7]\n",
      "Group energy -1686.414913957935\n",
      "Found: [5, 5, 5, 7, 7, 5, 7, 5, 7, 7]\n",
      "Group energy -1640.7265774378589\n",
      "Found: [5, 5, 7, 7, 5, 5, 7, 7, 5, 7]\n",
      "Group energy -1640.7265774378589\n",
      "Found: [5, 5, 5, 7, 5, 7, 7, 7, 7, 5]\n",
      "Found: [5, 5, 5, 7, 5, 7, 7, 7, 5, 7]\n",
      "Group energy -1640.7265774378589\n",
      "Found: [5, 5, 5, 7, 7, 5, 7, 7, 5, 7]\n",
      "Group energy -1640.7265774378586\n",
      "Found: [5, 5, 7, 5, 5, 7, 7, 7, 7, 5]\n",
      "Group energy -1640.7265774378584\n",
      "Found: [5, 5, 7, 7, 5, 7, 7, 5, 5, 7]\n",
      "Group energy -1640.7265774378584\n",
      "Found: [5, 5, 7, 5, 7, 7, 7, 5, 5, 7]\n",
      "Group energy -1640.7265774378584\n",
      "Found: [5, 5, 7, 7, 7, 5, 7, 5, 5, 7]\n",
      "Group energy -1640.7265774378584\n",
      "Found: [5, 5, 7, 7, 7, 5, 5, 7, 5, 7]\n",
      "Group energy -1640.7265774378584\n",
      "Found: [5, 5, 5, 7, 7, 7, 5, 7, 5, 7]\n",
      "Group energy -1595.0382409177823\n",
      "Found: [5, 7, 7, 5, 5, 7, 7, 7, 5, 5]\n",
      "Group energy -1595.0382409177823\n",
      "Found: [5, 5, 7, 7, 5, 7, 7, 7, 5, 5]\n",
      "Group energy -1595.0382409177823\n",
      "Found: [5, 5, 7, 5, 7, 7, 7, 7, 5, 5]\n",
      "Group energy -1595.0382409177823\n",
      "Found: [5, 5, 5, 7, 7, 7, 7, 7, 5, 5]\n",
      "Group energy -1595.0382409177819\n",
      "Found: [5, 5, 7, 7, 7, 7, 7, 5, 5, 5]\n",
      "Group energy -1564.6845124282984\n",
      "Found: [5, 5, 5, 5, 5, 7, 7, 7, 7, 7]\n",
      "Group energy -1564.6845124282984\n",
      "Found: [5, 5, 5, 7, 5, 5, 7, 7, 7, 7]\n",
      "Group energy -1564.6845124282984\n",
      "Found: [5, 5, 5, 5, 7, 5, 7, 7, 7, 7]\n",
      "Group energy -1564.6845124282984\n",
      "Found: [5, 5, 5, 7, 7, 5, 5, 7, 7, 7]\n",
      "Group energy -1564.6845124282981\n",
      "Found: [5, 5, 5, 7, 7, 7, 5, 5, 7, 7]\n",
      "Group energy -1518.9961759082216\n",
      "Found: [5, 5, 7, 7, 7, 7, 5, 5, 5, 7]\n",
      "Group energy -1518.9961759082216\n",
      "Found: [5, 5, 5, 7, 7, 7, 7, 5, 5, 7]\n",
      "Group energy -1518.9961759082216\n",
      "Found: [5, 5, 5, 5, 7, 7, 7, 7, 5, 7]\n"
     ]
    },
    {
     "data": {
      "text/plain": [
       "Timer unit: 1e-06 s\n",
       "\n",
       "Total time: 8.58207 s\n",
       "File: /mnt/c/Users/guido/workcopies/apdft/prototyping/networks/rankBN.py\n",
       "Function: _get_site_similarity_CM at line 254\n",
       "\n",
       "Line #      Hits         Time  Per Hit   % Time  Line Contents\n",
       "==============================================================\n",
       "   254                                           \tdef _get_site_similarity_CM(self, nuclear_charges):\n",
       "   255                                           \t\t\"\"\" Returns i, j, distance.\"\"\"\n",
       "   256      4169      37070.0      8.9      0.4  \t\tcharges = self._sitesimCM_charges\n",
       "   257      4169      39727.0      9.5      0.5  \t\tcharges[self._includeonly] = nuclear_charges\n",
       "   258      4169    2168908.0    520.2     25.3  \t\ta = qml.representations.generate_coulomb_matrix(charges, self._c.coordinates, size=self._c.natoms, sorting='unsorted')\n",
       "   259                                           \n",
       "   260                                           \t\t# to squareform\n",
       "   261      4169      87487.0     21.0      1.0  \t\tself._sitesimCM_squareform_outcache[self._sitesimCM_squareform_mask] = a\n",
       "   262      4169      71079.0     17.0      0.8  \t\tself._sitesimCM_squareform_outcache.T[self._sitesimCM_squareform_mask] = a\n",
       "   263                                           \n",
       "   264      4169     304628.0     73.1      3.5  \t\tsorted_elements = np.sort(self._sitesimCM_squareform_outcache[self._includeonly], axis=1, kind=\"stable\")\n",
       "   265                                           \n",
       "   266      4169      38192.0      9.2      0.4  \t\tlimit = self._similarity_parameter**2.\n",
       "   267      4169      26820.0      6.4      0.3  \t\tatomi, atomj = self._cache_site_similarity_indices\n",
       "   268                                           \n",
       "   269      4169    5808162.0   1393.2     67.7  \t\treturn numba_loop(atomi, atomj, sorted_elements, self._c.natoms, limit)"
      ]
     },
     "metadata": {},
     "output_type": "display_data"
    }
   ],
   "source": [
    "%lprun -f rankBN.Ranker._get_site_similarity_CM rankBN.do_main(\"napthalene-molpro.xyz\", \"napthalene-molpro.mol2\", 2.2, \"CM\") "
   ]
  },
  {
   "cell_type": "code",
   "execution_count": 18,
   "metadata": {
    "collapsed": true,
    "jupyter": {
     "outputs_hidden": true
    }
   },
   "outputs": [
    {
     "name": "stdout",
     "output_type": "stream",
     "text": [
      "Working on stoichiometry: [5 5 5 5 5 7 7 7 7 7]\n",
      "Found 66 molecules from 252 permutations.\n",
      "55 components found\n",
      "Group energy -2005.9177820267687\n",
      "Found: [5, 7, 5, 7, 7, 5, 7, 5, 7, 5]\n",
      "Group energy -1884.187380497132\n",
      "Found: [5, 7, 5, 7, 5, 7, 7, 5, 7, 5]\n",
      "Group energy -1884.187380497132\n",
      "Found: [5, 7, 5, 7, 5, 7, 5, 7, 5, 7]\n",
      "Group energy -1884.187380497132\n",
      "Found: [5, 7, 5, 7, 7, 5, 5, 7, 7, 5]\n",
      "Group energy -1884.1873804971317\n",
      "Found: [5, 5, 7, 7, 7, 5, 7, 5, 7, 5]\n",
      "Group energy -1838.4990439770554\n",
      "Found: [5, 7, 5, 7, 7, 5, 7, 7, 5, 5]\n",
      "Found: [5, 7, 5, 7, 7, 7, 5, 7, 5, 5]\n",
      "Group energy -1838.4990439770554\n",
      "Found: [7, 5, 5, 7, 7, 5, 7, 7, 5, 5]\n",
      "Group energy -1808.145315487572\n",
      "Found: [5, 5, 7, 5, 5, 7, 7, 5, 7, 7]\n",
      "Group energy -1808.145315487572\n",
      "Found: [5, 5, 7, 5, 5, 7, 5, 7, 7, 7]\n",
      "Found: [5, 5, 7, 5, 7, 5, 7, 5, 7, 7]\n",
      "Group energy -1762.4569789674956\n",
      "Found: [5, 5, 7, 5, 5, 7, 7, 7, 5, 7]\n",
      "Group energy -1762.4569789674956\n",
      "Found: [5, 5, 7, 7, 5, 7, 5, 7, 5, 7]\n",
      "Group energy -1762.4569789674956\n",
      "Found: [5, 5, 7, 5, 7, 5, 7, 7, 5, 7]\n",
      "Found: [5, 5, 7, 5, 7, 5, 7, 7, 7, 5]\n",
      "Group energy -1762.4569789674956\n",
      "Found: [5, 5, 7, 5, 7, 7, 5, 7, 5, 7]\n",
      "Group energy -1762.4569789674954\n",
      "Found: [5, 5, 7, 5, 7, 7, 7, 5, 7, 5]\n",
      "Group energy -1762.4569789674954\n",
      "Found: [5, 5, 7, 7, 5, 7, 5, 7, 7, 5]\n",
      "Group energy -1762.4569789674954\n",
      "Found: [5, 5, 7, 5, 7, 7, 5, 7, 7, 5]\n",
      "Group energy -1762.4569789674954\n",
      "Found: [5, 5, 5, 7, 7, 7, 5, 7, 7, 5]\n",
      "Group energy -1762.4569789674954\n",
      "Found: [5, 5, 5, 7, 7, 5, 7, 7, 7, 5]\n",
      "Group energy -1762.4569789674954\n",
      "Found: [7, 5, 5, 7, 7, 5, 5, 7, 5, 7]\n",
      "Group energy -1762.4569789674952\n",
      "Found: [5, 7, 7, 5, 5, 7, 7, 5, 5, 7]\n",
      "Group energy -1762.4569789674952\n",
      "Found: [5, 7, 5, 7, 5, 7, 7, 5, 5, 7]\n",
      "Found: [5, 5, 7, 7, 5, 7, 7, 5, 7, 5]\n",
      "Group energy -1762.4569789674952\n",
      "Found: [5, 7, 7, 5, 7, 5, 5, 7, 5, 7]\n",
      "Group energy -1762.4569789674952\n",
      "Found: [5, 7, 5, 7, 7, 5, 7, 5, 5, 7]\n",
      "Found: [5, 5, 7, 7, 7, 7, 5, 5, 7, 5]\n",
      "Group energy -1762.4569789674952\n",
      "Found: [5, 7, 5, 7, 7, 5, 5, 7, 5, 7]\n",
      "Found: [5, 5, 7, 7, 7, 5, 5, 7, 7, 5]\n",
      "Group energy -1762.456978967495\n",
      "Found: [5, 5, 5, 7, 7, 7, 7, 5, 7, 5]\n",
      "Group energy -1716.768642447419\n",
      "Found: [5, 7, 7, 5, 7, 5, 7, 7, 5, 5]\n",
      "Group energy -1716.768642447419\n",
      "Found: [5, 7, 5, 7, 5, 7, 7, 7, 5, 5]\n",
      "Group energy -1716.7686424474189\n",
      "Found: [5, 5, 7, 7, 7, 5, 7, 7, 5, 5]\n",
      "Found: [5, 5, 7, 7, 7, 7, 5, 7, 5, 5]\n",
      "Found: [5, 7, 7, 7, 7, 5, 5, 7, 5, 5]\n",
      "Group energy -1716.7686424474186\n",
      "Found: [5, 7, 5, 7, 7, 7, 7, 5, 5, 5]\n",
      "Group energy -1686.4149139579351\n",
      "Found: [5, 5, 7, 5, 7, 5, 5, 7, 7, 7]\n",
      "Group energy -1686.4149139579351\n",
      "Found: [5, 5, 5, 7, 5, 7, 5, 7, 7, 7]\n",
      "Group energy -1686.414913957935\n",
      "Found: [5, 5, 7, 5, 5, 5, 7, 7, 7, 7]\n",
      "Found: [5, 5, 7, 5, 7, 7, 5, 5, 7, 7]\n",
      "Found: [5, 5, 5, 7, 5, 7, 7, 5, 7, 7]\n",
      "Group energy -1686.414913957935\n",
      "Found: [5, 5, 5, 7, 7, 5, 7, 5, 7, 7]\n",
      "Group energy -1640.7265774378589\n",
      "Found: [5, 5, 7, 7, 5, 5, 7, 7, 5, 7]\n",
      "Group energy -1640.7265774378589\n",
      "Found: [5, 5, 5, 7, 5, 7, 7, 7, 7, 5]\n",
      "Found: [5, 5, 5, 7, 5, 7, 7, 7, 5, 7]\n",
      "Group energy -1640.7265774378589\n",
      "Found: [5, 5, 5, 7, 7, 5, 7, 7, 5, 7]\n",
      "Group energy -1640.7265774378586\n",
      "Found: [5, 5, 7, 5, 5, 7, 7, 7, 7, 5]\n",
      "Group energy -1640.7265774378584\n",
      "Found: [5, 5, 7, 7, 5, 7, 7, 5, 5, 7]\n",
      "Group energy -1640.7265774378584\n",
      "Found: [5, 5, 7, 5, 7, 7, 7, 5, 5, 7]\n",
      "Group energy -1640.7265774378584\n",
      "Found: [5, 5, 7, 7, 7, 5, 7, 5, 5, 7]\n",
      "Group energy -1640.7265774378584\n",
      "Found: [5, 5, 7, 7, 7, 5, 5, 7, 5, 7]\n",
      "Group energy -1640.7265774378584\n",
      "Found: [5, 5, 5, 7, 7, 7, 5, 7, 5, 7]\n",
      "Group energy -1595.0382409177823\n",
      "Found: [5, 7, 7, 5, 5, 7, 7, 7, 5, 5]\n",
      "Group energy -1595.0382409177823\n",
      "Found: [5, 5, 7, 7, 5, 7, 7, 7, 5, 5]\n",
      "Group energy -1595.0382409177823\n",
      "Found: [5, 5, 7, 5, 7, 7, 7, 7, 5, 5]\n",
      "Group energy -1595.0382409177823\n",
      "Found: [5, 5, 5, 7, 7, 7, 7, 7, 5, 5]\n",
      "Group energy -1595.0382409177819\n",
      "Found: [5, 5, 7, 7, 7, 7, 7, 5, 5, 5]\n",
      "Group energy -1564.6845124282984\n",
      "Found: [5, 5, 5, 5, 5, 7, 7, 7, 7, 7]\n",
      "Group energy -1564.6845124282984\n",
      "Found: [5, 5, 5, 7, 5, 5, 7, 7, 7, 7]\n",
      "Group energy -1564.6845124282984\n",
      "Found: [5, 5, 5, 5, 7, 5, 7, 7, 7, 7]\n",
      "Group energy -1564.6845124282984\n",
      "Found: [5, 5, 5, 7, 7, 5, 5, 7, 7, 7]\n",
      "Group energy -1564.6845124282981\n",
      "Found: [5, 5, 5, 7, 7, 7, 5, 5, 7, 7]\n",
      "Group energy -1518.9961759082216\n",
      "Found: [5, 5, 7, 7, 7, 7, 5, 5, 5, 7]\n",
      "Group energy -1518.9961759082216\n",
      "Found: [5, 5, 5, 7, 7, 7, 7, 5, 5, 7]\n",
      "Group energy -1518.9961759082216\n",
      "Found: [5, 5, 5, 5, 7, 7, 7, 7, 5, 7]\n"
     ]
    }
   ],
   "source": [
    "nuclear_charges, coordinates = rankBN.Ranker.read_xyz(\"napthalene-molpro.xyz\")\n",
    "r = rankBN.Ranker(nuclear_charges, coordinates, \"napthalene-molpro.xyz\", \"napthalene-molpro.mol2\", explain=True, sim=2.2, simmode=\"CM\")\n",
    "r.rank()"
   ]
  },
  {
   "cell_type": "code",
   "execution_count": 31,
   "metadata": {},
   "outputs": [
    {
     "data": {
      "text/plain": [
       "Timer unit: 1e-06 s\n",
       "\n",
       "Total time: 3.82384 s\n",
       "File: <ipython-input-31-b04e1955197d>\n",
       "Function: precheck at line 30\n",
       "\n",
       "Line #      Hits         Time  Per Hit   % Time  Line Contents\n",
       "==============================================================\n",
       "    30                                           def precheck(self, target, opposite, reference):\n",
       "    31     31115     648771.0     20.9     17.0      deltaZ = [a-b for a,b in zip(opposite, target)]\n",
       "    32                                           \n",
       "    33                                               # at least of symmetry of all-carbon center\n",
       "    34     31115     500863.0     16.1     13.1      deltaZ = np.array(deltaZ)\n",
       "    35     49648     376247.0      7.6      9.8      for group in self._cache_precheck_similar:\n",
       "    36     45481    1679514.0     36.9     43.9          if deltaZ[group].sum() != 0:\n",
       "    37     26948     196658.0      7.3      5.1              return False\n",
       "    38                                                   \n",
       "    39                                               # matching deltaZ\n",
       "    40      4167     211895.0     50.9      5.5      changes = np.bincount([_ + 2 for _ in deltaZ], minlength=5)\n",
       "    41                                           \n",
       "    42                                               # ensure matching counts\n",
       "    43      4167     141457.0     33.9      3.7      if max(changes - changes[::-1]) != 0:\n",
       "    44                                                   return False\n",
       "    45                                           \n",
       "    46                                               # ignore identity operation\n",
       "    47      4167      42113.0     10.1      1.1      if changes[2] == self._nmodifiedatoms:\n",
       "    48                                                   return False\n",
       "    49                                           \n",
       "    50      4167      26325.0      6.3      0.7      return deltaZ, changes"
      ]
     },
     "metadata": {},
     "output_type": "display_data"
    }
   ],
   "source": [
    "# branch prediction\n",
    "def test(self):\n",
    "    nmolecules = len(self._molecules)\n",
    "    graph = ig.Graph(nmolecules)\n",
    "    for mol_i in range(nmolecules):\n",
    "        for mol_j in range(mol_i, nmolecules):\n",
    "            # short-circuit if other relations already exist\n",
    "            if not math.isinf(graph.shortest_paths(mol_i, mol_j)[0][0]):\n",
    "                continue\n",
    "\n",
    "            for origin in self._molecules[mol_i]:\n",
    "                for opposite in self._molecules[mol_j]:\n",
    "                    # skip odd numbers of mutated sites\n",
    "                    if (len(np.where(np.array(origin) != np.array(opposite))[0]) % 2) == 1:\n",
    "                        continue\n",
    "\n",
    "                    # check necessary requirements\n",
    "                    reference = (np.array(opposite) + origin) / 2\n",
    "                    check = precheck(self, origin, opposite, reference)\n",
    "                    if check == False:\n",
    "                        continue\n",
    "\n",
    "                    common_ground = self._identify_equivalent_sites(reference)\n",
    "                    if self._check_common_ground(*check, common_ground):\n",
    "                        graph.add_edge(mol_i, mol_j)\n",
    "                        break\n",
    "                else:\n",
    "                    continue\n",
    "                break\n",
    "                \n",
    "def precheck(self, target, opposite, reference):\n",
    "    deltaZ = [a-b for a,b in zip(opposite, target)]\n",
    "\n",
    "    # at least of symmetry of all-carbon center\n",
    "    deltaZ = np.array(deltaZ)\n",
    "    for group in self._cache_precheck_similar:\n",
    "        if sum(deltaZ[group]) != 0:\n",
    "            return False\n",
    "        \n",
    "    # matching deltaZ\n",
    "    changes = np.bincount([_ + 2 for _ in deltaZ], minlength=5)\n",
    "\n",
    "    # ensure matching counts\n",
    "    if max(changes - changes[::-1]) != 0:\n",
    "        return False\n",
    "\n",
    "    # ignore identity operation\n",
    "    if changes[2] == self._nmodifiedatoms:\n",
    "        return False\n",
    "\n",
    "    return deltaZ, changes\n",
    "r._precheck = precheck\n",
    "%lprun -f precheck test(r)"
   ]
  },
  {
   "cell_type": "code",
   "execution_count": 80,
   "metadata": {},
   "outputs": [
    {
     "name": "stdout",
     "output_type": "stream",
     "text": [
      "33.5 µs ± 13.6 µs per loop (mean ± std. dev. of 7 runs, 1 loop each)\n"
     ]
    }
   ],
   "source": [
    "@numba.jit(nopython=True)\n",
    "def precheck(cache, target, opposite, reference, nmod):\n",
    "    # at least of symmetry of all-carbon center\n",
    "    s = 0\n",
    "    for group in cache:\n",
    "        for i in group:\n",
    "            s += opposite[i] - target[i]\n",
    "        if s != 0:\n",
    "            return False\n",
    "        \n",
    "    deltaZ = np.array(opposite) - np.array(target)\n",
    "    \n",
    "    # matching deltaZ\n",
    "    changes = np.zeros(5)\n",
    "    for i in deltaZ:\n",
    "        changes[i +2] +=1 \n",
    "\n",
    "    # ensure matching counts\n",
    "    if max(changes - changes[::-1]) != 0:\n",
    "        return False\n",
    "\n",
    "    # ignore identity operation\n",
    "    if changes[2] == nmod:\n",
    "        return False\n",
    "\n",
    "    return True\n",
    "\n",
    "a = tuple([5, 5, 5, 5, 5, 7, 7, 7, 7, 7])\n",
    "%timeit precheck(cache, a, a,a, r._nmodifiedatoms)"
   ]
  },
  {
   "cell_type": "code",
   "execution_count": 61,
   "metadata": {},
   "outputs": [],
   "source": [
    "cache = List()\n",
    "for group in r._cache_precheck_similar:\n",
    "    group_list = List()\n",
    "    for element in group:\n",
    "        group_list.append(element)\n",
    "    cache.append(group_list)"
   ]
  },
  {
   "cell_type": "code",
   "execution_count": 82,
   "metadata": {},
   "outputs": [
    {
     "name": "stdout",
     "output_type": "stream",
     "text": [
      "8.53 µs ± 211 ns per loop (mean ± std. dev. of 7 runs, 100000 loops each)\n"
     ]
    }
   ],
   "source": [
    "%timeit precheck(cache, a, a,a, r._nmodifiedatoms)"
   ]
  },
  {
   "cell_type": "code",
   "execution_count": 90,
   "metadata": {},
   "outputs": [
    {
     "data": {
      "text/plain": [
       "333333.3333333333"
      ]
     },
     "execution_count": 90,
     "metadata": {},
     "output_type": "execute_result"
    }
   ],
   "source": [
    "1000*1000/3"
   ]
  },
  {
   "cell_type": "code",
   "execution_count": 91,
   "metadata": {},
   "outputs": [
    {
     "data": {
      "text/plain": [
       "1500.0015000015"
      ]
     },
     "execution_count": 91,
     "metadata": {},
     "output_type": "execute_result"
    }
   ],
   "source": [
    "500000000/333333"
   ]
  },
  {
   "cell_type": "code",
   "execution_count": 72,
   "metadata": {},
   "outputs": [
    {
     "data": {
      "text/plain": [
       "ListType[ListType[int64]]([[0, 3, 4, 7], [1, 2, 5, 6], [8, 9]])"
      ]
     },
     "execution_count": 72,
     "metadata": {},
     "output_type": "execute_result"
    }
   ],
   "source": [
    "cache"
   ]
  },
  {
   "cell_type": "code",
   "execution_count": 94,
   "metadata": {},
   "outputs": [
    {
     "name": "stdout",
     "output_type": "stream",
     "text": [
      "14.1 µs ± 6.6 µs per loop (mean ± std. dev. of 7 runs, 1 loop each)\n"
     ]
    }
   ],
   "source": [
    "@numba.jit(nopython=True)\n",
    "def precheck(target, opposite):\n",
    "    if opposite[0] - target[0] + opposite[3] - target[3] + opposite[4] - target[4] + opposite[7] - target[7] != 0:\n",
    "        return False\n",
    "    if opposite[1] - target[1] + opposite[2] - target[2] + opposite[5] - target[5] + opposite[6] - target[6] != 0:\n",
    "        return False\n",
    "    if opposite[8] - target[8] + opposite[9] - target[9] != 0:\n",
    "        return False\n",
    "        \n",
    "    deltaZ = np.array(opposite) - np.array(target)\n",
    "    \n",
    "    # matching deltaZ\n",
    "    changes = np.zeros(5, dtype=np.int32)\n",
    "    for i in deltaZ:\n",
    "        changes[i +2] +=1 \n",
    "\n",
    "    # ensure matching counts\n",
    "    if max(changes - changes[::-1]) != 0:\n",
    "        return False\n",
    "\n",
    "    # ignore identity operation\n",
    "    if changes[2] == 10:\n",
    "        return False\n",
    "\n",
    "    return True\n",
    "\n",
    "a = tuple([5, 5, 5, 5, 5, 7, 7, 7, 7, 7])\n",
    "%timeit precheck(a, a)"
   ]
  },
  {
   "cell_type": "code",
   "execution_count": 96,
   "metadata": {},
   "outputs": [
    {
     "name": "stdout",
     "output_type": "stream",
     "text": [
      "4.93 µs ± 365 ns per loop (mean ± std. dev. of 7 runs, 100000 loops each)\n"
     ]
    }
   ],
   "source": [
    "%timeit precheck(a, a)"
   ]
  },
  {
   "cell_type": "code",
   "execution_count": null,
   "metadata": {},
   "outputs": [],
   "source": []
  }
 ],
 "metadata": {
  "kernelspec": {
   "display_name": "Python [conda env:analysis]",
   "language": "python",
   "name": "conda-env-analysis-py"
  },
  "language_info": {
   "codemirror_mode": {
    "name": "ipython",
    "version": 3
   },
   "file_extension": ".py",
   "mimetype": "text/x-python",
   "name": "python",
   "nbconvert_exporter": "python",
   "pygments_lexer": "ipython3",
   "version": "3.6.8"
  }
 },
 "nbformat": 4,
 "nbformat_minor": 4
}
