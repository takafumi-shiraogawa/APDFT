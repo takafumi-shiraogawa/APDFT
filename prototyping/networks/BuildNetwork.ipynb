{
 "cells": [
  {
   "cell_type": "code",
   "execution_count": 2,
   "metadata": {},
   "outputs": [],
   "source": [
    "import numpy as np\n",
    "import qml\n",
    "import unittest\n",
    "import itertools as it\n",
    "import networkx as nx\n",
    "import matplotlib.pyplot as plt\n",
    "import collections"
   ]
  },
  {
   "cell_type": "code",
   "execution_count": 3,
   "metadata": {},
   "outputs": [],
   "source": [
    "class Networker():\n",
    "    def __init__(self, filename, nBN):\n",
    "        self._c = qml.Compound(filename)\n",
    "        self._atoms = np.where(self._c.nuclear_charges == 6)[0]\n",
    "        self._g = nx.Graph()\n",
    "        self._evaluated = []\n",
    "        self._add_all_permutations(nBN)\n",
    "    \n",
    "    def _add_all_permutations(self, nBN):\n",
    "        charges = np.zeros(len(self._atoms)) + 6\n",
    "        charges[:nBN] = 5\n",
    "        charges[nBN:2*nBN] = 7\n",
    "        for target in it.permutations(tuple(charges)):\n",
    "            self._add_node(tuple(target))\n",
    "    \n",
    "    def _format_label(self, n):\n",
    "        return ''.join([str(int(_)) for _ in n])\n",
    "    \n",
    "    def _add_node(self, n1):\n",
    "        self._g.add_node(n1)\n",
    "    \n",
    "    def _add_edge(self, n1, n2):\n",
    "        self._g.add_edge(n1, n2)\n",
    "    \n",
    "    def get_similarity(self, nuclear_charges):\n",
    "        \"\"\" Returns i, j, distance.\"\"\"\n",
    "        charges = self._c.nuclear_charges.copy().astype(np.float)\n",
    "        charges[self._atoms] = nuclear_charges\n",
    "        atoms = np.where(self._c.nuclear_charges == 6)[0]\n",
    "        a = qml.representations.generate_coulomb_matrix(charges, self._c.coordinates, size=self._c.natoms, sorting='unsorted')\n",
    "        s = np.zeros((self._c.natoms, self._c.natoms))\n",
    "        s[np.tril_indices(self._c.natoms)] = a\n",
    "        d = np.diag(s)\n",
    "        s += s.T\n",
    "        s[np.diag_indices(self._c.natoms)] = d\n",
    "        sorted_elements = [np.sort(_) for _ in s[atoms]]\n",
    "        ret = []\n",
    "        for i in range(len(atoms)):\n",
    "            for j in range(i+1, len(atoms)):\n",
    "                dist = np.linalg.norm(sorted_elements[i] - sorted_elements[j])\n",
    "                ret.append([atoms[i], atoms[j], dist])\n",
    "        return ret, atoms\n",
    "    \n",
    "    def identify_equivalent(self, nuclear_charges):\n",
    "        \"\"\" Returns groups of equivalent sites. \"\"\"\n",
    "        similarities, relevant = self.get_similarity(nuclear_charges)\n",
    "        groups = []\n",
    "        placed = []\n",
    "        for i, j, dist in similarities:\n",
    "            if dist > 3:\n",
    "                continue\n",
    "            for gidx, group in enumerate(groups):\n",
    "                if i in group:\n",
    "                    if j not in group:\n",
    "                        groups[gidx].append(j)\n",
    "                        placed.append(j)\n",
    "                    break\n",
    "                if j in group:\n",
    "                    if i not in group:\n",
    "                        groups[gidx].append(i)\n",
    "                        placed.append(i)\n",
    "                    break\n",
    "            else:\n",
    "                groups.append([i,j])\n",
    "                placed += [i, j]\n",
    "        for isolated in set(relevant) - set(placed):\n",
    "            groups.append([isolated])\n",
    "        return groups\n",
    "\n",
    "    def get_coordinates(self):\n",
    "        relevant = np.where(self._c.nuclear_charges == 6)[0]\n",
    "        coords = self._c.coordinates[relevant, :2]\n",
    "        coords -= np.mean(coords, axis=0)\n",
    "        return coords\n",
    "    \n",
    "    def find_relations(self):\n",
    "        for origin in self._g.nodes:\n",
    "            for opposite in references_from_target(self, origin):\n",
    "                self._add_node(tuple(opposite))\n",
    "                self._add_edge(tuple(origin), tuple(opposite))\n",
    "    \n",
    "    def get_labels(self):\n",
    "        return {_: self._format_label(_) for _ in self._g.nodes}\n",
    "    \n",
    "    def remove_spatial_symmetry_molecules(self):\n",
    "        # make connected components smaller\n",
    "        removed = []\n",
    "        for component in nx.connected.connected_components(self._g):\n",
    "            kept = []\n",
    "            for node in component:\n",
    "                if len(kept) == 0:\n",
    "                    kept.append(node)\n",
    "                    continue\n",
    "                \n",
    "                for k in kept:\n",
    "                    sim = self.get_molecule_similarity(k, node)\n",
    "                    if sim > 0.99999:\n",
    "                        removed.append((node, k))\n",
    "                        break\n",
    "                else:\n",
    "                    kept.append(node)\n",
    "        for node, kept in removed:\n",
    "            # transfer all connections from node to kept\n",
    "            for neighbor in self._g.neighbors(node):\n",
    "                self._add_edge(neighbor, kept)\n",
    "            \n",
    "            # delete node\n",
    "            self._g.remove_node(node)\n",
    "    \n",
    "    def get_molecule_similarity(self, c1, c2):\n",
    "        charges = self._c.nuclear_charges.copy()\n",
    "        charges[self._atoms] = c1\n",
    "        r1 = qml.fchl.generate_representation(self._c.coordinates, charges, self._c.natoms)\n",
    "        charges = self._c.nuclear_charges.copy()\n",
    "        charges[self._atoms] = c2\n",
    "        r2 = qml.fchl.generate_representation(self._c.coordinates, charges, self._c.natoms)\n",
    "        return qml.fchl.get_global_kernels(np.array([r1]), np.array([r2]), np.array([2])).flatten()[0]\n",
    "        "
   ]
  },
  {
   "cell_type": "code",
   "execution_count": 29,
   "metadata": {
    "collapsed": true,
    "jupyter": {
     "outputs_hidden": true
    }
   },
   "outputs": [
    {
     "name": "stderr",
     "output_type": "stream",
     "text": [
      "test_all_identical (__main__.TestNetworker) ... ok\n",
      "test_common_ground_same_group (__main__.TestNetworker) ... ok\n",
      "test_common_ground_separate_group (__main__.TestNetworker) ... ok\n",
      "test_fractional (__main__.TestNetworker) ... FAIL\n",
      "test_fractional_groups (__main__.TestNetworker) ... FAIL\n",
      "test_one_different (__main__.TestNetworker) ... FAIL\n",
      "\n",
      "======================================================================\n",
      "FAIL: test_fractional (__main__.TestNetworker)\n",
      "----------------------------------------------------------------------\n",
      "Traceback (most recent call last):\n",
      "  File \"<ipython-input-29-5c55b665dbba>\", line 15, in test_fractional\n",
      "    self._run_test(np.array([6,6,6,6,6,5.5]),[[0, 4], [1, 3], [2], [5]])\n",
      "  File \"<ipython-input-29-5c55b665dbba>\", line 6, in _run_test\n",
      "    self.assertEqual(actual, expected)\n",
      "AssertionError: Lists differ: [[0, 1, 2, 3, 4], [5]] != [[0, 4], [1, 3], [2], [5]]\n",
      "\n",
      "First differing element 0:\n",
      "[0, 1, 2, 3, 4]\n",
      "[0, 4]\n",
      "\n",
      "Second list contains 2 additional elements.\n",
      "First extra element 2:\n",
      "[2]\n",
      "\n",
      "- [[0, 1, 2, 3, 4], [5]]\n",
      "+ [[0, 4], [1, 3], [2], [5]]\n",
      "\n",
      "======================================================================\n",
      "FAIL: test_fractional_groups (__main__.TestNetworker)\n",
      "----------------------------------------------------------------------\n",
      "Traceback (most recent call last):\n",
      "  File \"<ipython-input-29-5c55b665dbba>\", line 18, in test_fractional_groups\n",
      "    self._run_test(np.array([6,6,6,6,5.9,5.9]),[[0, 3], [1, 2], [4, 5]])\n",
      "  File \"<ipython-input-29-5c55b665dbba>\", line 6, in _run_test\n",
      "    self.assertEqual(actual, expected)\n",
      "AssertionError: Lists differ: [[0, 1, 2, 3, 4, 5]] != [[0, 3], [1, 2], [4, 5]]\n",
      "\n",
      "First differing element 0:\n",
      "[0, 1, 2, 3, 4, 5]\n",
      "[0, 3]\n",
      "\n",
      "Second list contains 2 additional elements.\n",
      "First extra element 1:\n",
      "[1, 2]\n",
      "\n",
      "- [[0, 1, 2, 3, 4, 5]]\n",
      "?            ^^^\n",
      "\n",
      "+ [[0, 3], [1, 2], [4, 5]]\n",
      "?      +++++    +  ^\n",
      "\n",
      "\n",
      "======================================================================\n",
      "FAIL: test_one_different (__main__.TestNetworker)\n",
      "----------------------------------------------------------------------\n",
      "Traceback (most recent call last):\n",
      "  File \"<ipython-input-29-5c55b665dbba>\", line 12, in test_one_different\n",
      "    self._run_test(np.array([6,6,6,6,6,5]), [[0, 4], [1, 3], [2], [5]])\n",
      "  File \"<ipython-input-29-5c55b665dbba>\", line 6, in _run_test\n",
      "    self.assertEqual(actual, expected)\n",
      "AssertionError: Lists differ: [[0, 4], [1, 2, 3], [5]] != [[0, 4], [1, 3], [2], [5]]\n",
      "\n",
      "First differing element 1:\n",
      "[1, 2, 3]\n",
      "[1, 3]\n",
      "\n",
      "Second list contains 1 additional elements.\n",
      "First extra element 3:\n",
      "[5]\n",
      "\n",
      "- [[0, 4], [1, 2, 3], [5]]\n",
      "?              ---\n",
      "\n",
      "+ [[0, 4], [1, 3], [2], [5]]\n",
      "?                 +++++\n",
      "\n",
      "\n",
      "----------------------------------------------------------------------\n",
      "Ran 6 tests in 0.060s\n",
      "\n",
      "FAILED (failures=3)\n"
     ]
    },
    {
     "data": {
      "text/plain": [
       "<unittest.main.TestProgram at 0x7fef51814e80>"
      ]
     },
     "execution_count": 29,
     "metadata": {},
     "output_type": "execute_result"
    }
   ],
   "source": [
    "## Tests\n",
    "class TestNetworker(unittest.TestCase):\n",
    "    def _run_test(self, zs, expected):\n",
    "        n = Networker(\"../../test/benzene.xyz\", nBN=0)\n",
    "        actual = n.identify_equivalent(zs)\n",
    "        self.assertEqual(actual, expected)\n",
    "        \n",
    "    def test_all_identical(self):\n",
    "        self._run_test(np.array([6,6,6,6,6,6]), [[0, 1, 2, 3, 4, 5]])\n",
    "        \n",
    "    def test_one_different(self):\n",
    "        self._run_test(np.array([6,6,6,6,6,5]), [[0, 4], [1, 3], [2], [5]])\n",
    "        \n",
    "    def test_fractional(self):\n",
    "        self._run_test(np.array([6,6,6,6,6,5.5]),[[0, 4], [1, 3], [2], [5]])\n",
    "        \n",
    "    def test_fractional_groups(self):\n",
    "        self._run_test(np.array([6,6,6,6,5.9,5.9]),[[0, 3], [1, 2], [4, 5]])\n",
    "    \n",
    "    def test_common_ground_same_group(self):\n",
    "        result = check_common_ground(np.array([5,7,6,6,6,6]), np.array([7,5,6,6,6,6]), np.array([6,6,6,6,6,6]), [[0, 1], [2], [3], [4], [5]])\n",
    "        self.assertTrue(result)\n",
    "        \n",
    "    def test_common_ground_separate_group(self):\n",
    "        result = check_common_ground(np.array([5,7,5,7,6,6]), np.array([7,5,7,5,6,6]), np.array([6,6,6,6,6,6]), [[0, 1], [2, 3], [4], [5]])\n",
    "        self.assertTrue(result)\n",
    "        \n",
    "unittest.main(argv=[''], verbosity=2, exit=False)"
   ]
  },
  {
   "cell_type": "code",
   "execution_count": 4,
   "metadata": {},
   "outputs": [],
   "source": [
    "def targets_from_reference(reference):\n",
    "    pass\n",
    "def check_common_ground(target, opposite, reference, common_ground):\n",
    "    deltaZ = opposite - target\n",
    "    \n",
    "    # matching deltaZ\n",
    "    values, counts = np.unique(deltaZ, return_counts=True)\n",
    "    counts = dict(zip(values, counts))\n",
    "    \n",
    "    for value in values:\n",
    "        if value == 0:\n",
    "            continue\n",
    "        if -value not in counts:\n",
    "            return False\n",
    "        if counts[-value] != counts[value]:\n",
    "            return False\n",
    "    \n",
    "    # ignore id operation\n",
    "    if max(np.abs(deltaZ)) == 0:\n",
    "        return False\n",
    "    \n",
    "    # all changing atoms need to be in the same group\n",
    "    assigned = []\n",
    "    for value in values:\n",
    "        if value <= 0:\n",
    "            continue\n",
    "            \n",
    "        changed_pos = np.where(deltaZ == value)[0]\n",
    "        changed_neg = np.where(deltaZ == -value)[0]\n",
    "        for changed in changed_pos:\n",
    "            for group in common_ground:\n",
    "                if changed in group:\n",
    "                    break\n",
    "            else:\n",
    "                raise ValueError(\"should not happen\")\n",
    "            partners = set(changed_neg).intersection(set(group)) - set(assigned)\n",
    "            if len(partners) == 0:\n",
    "                return False\n",
    "            assigned.append(next(iter(partners)))\n",
    "            assigned.append(changed)\n",
    "    return True\n",
    "    \n",
    "def references_from_target(networker, target):\n",
    "    target = np.array(target)\n",
    "    \n",
    "    # get all possible opposite targets\n",
    "    candidates = set([_ for _ in it.permutations(target)])\n",
    "    #candidates = PERMUTATIONS\n",
    "    #candidates = [np.array(_) for _ in candidates]\n",
    "    \n",
    "    found = []\n",
    "    for opposite in candidates:\n",
    "        reference = (opposite + target) / 2\n",
    "        common_ground = networker.identify_equivalent(reference)\n",
    "        if check_common_ground(target, opposite, reference, common_ground):\n",
    "            #found.append((reference, opposite))\n",
    "            found.append(opposite)\n",
    "    return found"
   ]
  },
  {
   "cell_type": "code",
   "execution_count": 18,
   "metadata": {},
   "outputs": [],
   "source": [
    "n = Networker(\"../../test/benzene.xyz\", nBN=2)\n",
    "n.find_relations()\n",
    "n.remove_spatial_symmetry_molecules()"
   ]
  },
  {
   "cell_type": "code",
   "execution_count": 19,
   "metadata": {},
   "outputs": [
    {
     "data": {
      "image/png": "[encoded data removed]",
      "text/plain": [
       "<Figure size 432x288 with 1 Axes>"
      ]
     },
     "metadata": {},
     "output_type": "display_data"
    }
   ],
   "source": [
    "pos=nx.spring_layout(n._g)\n",
    "nx.draw(n._g, pos=pos)\n",
    "labels={_: str(get_energy(_))[3:6] for _ in n._g.nodes}\n",
    "_ = nx.draw_networkx_labels(n._g, pos=pos, labels=labels)"
   ]
  },
  {
   "cell_type": "code",
   "execution_count": 338,
   "metadata": {
    "collapsed": true,
    "jupyter": {
     "outputs_hidden": true
    }
   },
   "outputs": [
    {
     "data": {
      "text/plain": [
       "<matplotlib.collections.PathCollection at 0x7fba60d91710>"
      ]
     },
     "execution_count": 338,
     "metadata": {},
     "output_type": "execute_result"
    },
    {
     "data": {
      "image/png": "[encoded data removed]",
      "text/plain": [
       "<Figure size 432x288 with 1 Axes>"
      ]
     },
     "metadata": {
      "needs_background": "light"
     },
     "output_type": "display_data"
    }
   ],
   "source": [
    "coords = n.get_coordinates()\n",
    "lookup = {6: 'grey', 5:'red', 7:'blue'}\n",
    "zs = (6,5,6,7,5,7)\n",
    "plt.scatter(coords[:, 0], coords[:, 1], color=[lookup[_] for _ in zs])"
   ]
  },
  {
   "cell_type": "code",
   "execution_count": 339,
   "metadata": {
    "collapsed": true,
    "jupyter": {
     "outputs_hidden": true
    }
   },
   "outputs": [
    {
     "data": {
      "text/plain": [
       "<matplotlib.collections.PathCollection at 0x7fba60d69b00>"
      ]
     },
     "execution_count": 339,
     "metadata": {},
     "output_type": "execute_result"
    },
    {
     "data": {
      "image/png": "[encoded data removed]",
      "text/plain": [
       "<Figure size 432x288 with 1 Axes>"
      ]
     },
     "metadata": {
      "needs_background": "light"
     },
     "output_type": "display_data"
    }
   ],
   "source": [
    "coords = n.get_coordinates()\n",
    "lookup = {6: 'grey', 5:'red', 7:'blue'}\n",
    "zs = (6, 7, 6, 5, 7, 5)\n",
    "plt.scatter(coords[:, 0], coords[:, 1], color=[lookup[_] for _ in zs])"
   ]
  },
  {
   "cell_type": "code",
   "execution_count": 427,
   "metadata": {},
   "outputs": [],
   "source": [
    "# other distance metric?\n",
    "# other cutoff for similarity?\n",
    "# how many cases of alchemical symmetry in benyene?\n",
    "# kein qml sondern delta V aehnlichkeit\n",
    "# very loose cutoff: all nBN same energy - how good is that?\n",
    "\n",
    "# apparently any symmetry op as alchemical reflection \n"
   ]
  },
  {
   "cell_type": "code",
   "execution_count": 16,
   "metadata": {},
   "outputs": [],
   "source": [
    "def bond_count(mol):\n",
    "    a = list(mol)\n",
    "    b = a[1:]+a[:1]\n",
    "    bonds = {}\n",
    "    c = collections.Counter()\n",
    "    for z1, z2 in zip(a, b):\n",
    "        if z2 > z1:\n",
    "            z1, z2 = z2, z1\n",
    "        c.update([(z1, z2)])\n",
    "    # H needed, but always the same in same BN pair benzene\n",
    "    #for z in mol:\n",
    "    #    c.update([(z, 1)])\n",
    "    return c\n",
    "\n",
    "#https://www.physik.uzh.ch/groups/osterwalder/zz_publications_old/cm034805s.pdf\n",
    "def bond_energy(counts):\n",
    "    return counts[(7., 6.)]*305./4 + counts[(7., 7.)]*160./4 + counts[(7., 5.)]*115 + counts[(6., 6.)]*346./4 + counts[(6., 5.)]*356./4 \n",
    "def order(g):\n",
    "    pass\n",
    "    # find clusters\n",
    "    # establish inequalities for bonds\n",
    "    # assume all clusters same electronic energy\n",
    "    # sort clusters by inequalities"
   ]
  },
  {
   "cell_type": "code",
   "execution_count": 10,
   "metadata": {},
   "outputs": [
    {
     "data": {
      "text/plain": [
       "(202.77164394773592,\n",
       " 202.01519595134565,\n",
       " 201.49276981191562,\n",
       " 203.01930973521218)"
      ]
     },
     "execution_count": 10,
     "metadata": {},
     "output_type": "execute_result"
    }
   ],
   "source": [
    "def get_NN(n, mol):\n",
    "    def nuclei_nuclei(coordinates, charges):\n",
    "        angstrom = 1 / 0.52917721067\n",
    "        natoms = len(coordinates)\n",
    "        ret = 0.0\n",
    "        for i in range(natoms):\n",
    "            for j in range(i + 1, natoms):\n",
    "                d = np.linalg.norm((coordinates[i] - coordinates[j]) * angstrom)\n",
    "                ret += charges[i] * charges[j] / d\n",
    "        return ret\n",
    "    \n",
    "    charges = n._c.nuclear_charges.copy()\n",
    "    charges[:6] = mol\n",
    "    return nuclei_nuclei(n._c.coordinates, charges)\n",
    "\n",
    "get_NN(n, (5,5,5,7,7,7)), get_NN(n, (7,7,5,7,5,5)), get_NN(n, (7,5,7,5,7,5)), get_NN(n, (6,6,6,6,6,6)), "
   ]
  },
  {
   "cell_type": "code",
   "execution_count": 542,
   "metadata": {},
   "outputs": [
    {
     "data": {
      "text/plain": [
       "(Counter({(7, 7): 1, (6, 5): 2}), Counter({(5, 5): 1, (7, 6): 2}))"
      ]
     },
     "execution_count": 542,
     "metadata": {},
     "output_type": "execute_result"
    }
   ],
   "source": [
    "a = (7,7,5,6,5,6)\n",
    "b = (5,5,7,6,7,6)\n",
    "bond_count(a)-bond_count(b), bond_count(b)-bond_count(a)"
   ]
  },
  {
   "cell_type": "code",
   "execution_count": 482,
   "metadata": {},
   "outputs": [
    {
     "data": {
      "text/plain": [
       "array([[2., 2., 1., 1., 0., 0.],\n",
       "       [0., 2., 0., 1., 2., 1.]])"
      ]
     },
     "execution_count": 482,
     "metadata": {},
     "output_type": "execute_result"
    }
   ],
   "source": [
    "def lse(counters):\n",
    "    combined = sum(counters, collections.Counter())\n",
    "    nummols = len(counters)\n",
    "    numbonds = len(combined)\n",
    "    A = np.zeros((nummols, numbonds))\n",
    "    for molidx, counter in enumerate(counters):\n",
    "        A[molidx, :] = [counter[_] for _ in combined]\n",
    "    return A\n",
    "lse((bond_count((6,5,7,7,5,6)), bond_count((6,7,5,5,7,6))))"
   ]
  },
  {
   "cell_type": "code",
   "execution_count": 20,
   "metadata": {},
   "outputs": [
    {
     "data": {
      "image/png": "[encoded data removed]",
      "text/plain": [
       "<Figure size 432x288 with 1 Axes>"
      ]
     },
     "metadata": {},
     "output_type": "display_data"
    },
    {
     "data": {
      "image/png": "[encoded data removed]",
      "text/plain": [
       "<Figure size 432x288 with 1 Axes>"
      ]
     },
     "metadata": {},
     "output_type": "display_data"
    }
   ],
   "source": [
    "def visualise_order(n):\n",
    "    order = nx.DiGraph()\n",
    "    g = n._g\n",
    "    ordered = list(g.nodes)\n",
    "    ordered.sort(key=lambda _: get_energy(_))\n",
    "    \n",
    "    for component in nx.connected.connected_components(g):\n",
    "        component = list(component)\n",
    "        component.sort(key=lambda _: get_NN(n, _))\n",
    "        \n",
    "        order.add_edge('least', component[0])\n",
    "        for n1, n2 in zip(component[:-1], component[1:]):\n",
    "            order.add_edge(n1, n2)\n",
    "        order.add_edge(component[-1], 'greatest')\n",
    "    \n",
    "    #pos=nx.planar_layout(order)\n",
    "    pos = nx.nx_pydot.graphviz_layout(order, prog='dot', root='least')\n",
    "    format_label = lambda n: ''.join([str(int(_)) for _ in n])\n",
    "    labels = dict()\n",
    "    for node in g.nodes:\n",
    "        rank = ordered.index(node)\n",
    "        labels[node] = '%d: %s' % (rank, format_label(node))\n",
    "    \n",
    "    labels['least'] = \"lowest\"\n",
    "    labels['greatest'] = \"highest\"\n",
    "    nx.draw(order, pos=pos)\n",
    "    _ = nx.draw_networkx_labels(order, pos=pos, labels=labels)\n",
    "    plt.show()\n",
    "    \n",
    "    # real reference\n",
    "    real = nx.DiGraph()\n",
    "    real.add_edge('least', ordered[0])\n",
    "    for n1, n2 in zip(ordered[:-1], ordered[1:]):\n",
    "        real.add_edge(n1, n2)\n",
    "    real.add_edge(ordered[-1], 'greatest')\n",
    "    pos = nx.nx_pydot.graphviz_layout(real, prog='dot', root='least')\n",
    "    nx.draw(order, pos=pos)\n",
    "    _ = nx.draw_networkx_labels(real, pos=pos, labels=labels)\n",
    "    \n",
    "        \n",
    "visualise_order(n)"
   ]
  },
  {
   "cell_type": "code",
   "execution_count": 21,
   "metadata": {},
   "outputs": [
    {
     "name": "stdout",
     "output_type": "stream",
     "text": [
      "(7.0, 5.0, 7.0, 6.0, 5.0, 6.0) Counter({(7.0, 5.0): 2, (7.0, 6.0): 2, (6.0, 5.0): 2})\n",
      "(5.0, 6.0, 5.0, 7.0, 6.0, 7.0) Counter({(6.0, 5.0): 2, (7.0, 5.0): 2, (7.0, 6.0): 2})\n",
      "(7.0, 5.0, 6.0, 7.0, 5.0, 6.0) Counter({(7.0, 5.0): 2, (6.0, 5.0): 2, (7.0, 6.0): 2})\n",
      "(7.0, 5.0, 7.0, 5.0, 6.0, 6.0) Counter({(7.0, 5.0): 3, (6.0, 5.0): 1, (6.0, 6.0): 1, (7.0, 6.0): 1})\n",
      "(7.0, 6.0, 5.0, 7.0, 5.0, 6.0) Counter({(7.0, 6.0): 2, (6.0, 5.0): 2, (7.0, 5.0): 2})\n",
      ".... 567.75\n",
      "(6.0, 7.0, 7.0, 5.0, 5.0, 6.0) Counter({(7.0, 6.0): 1, (7.0, 7.0): 1, (7.0, 5.0): 1, (5.0, 5.0): 1, (6.0, 5.0): 1, (6.0, 6.0): 1})\n",
      "(7.0, 6.0, 7.0, 6.0, 5.0, 5.0) Counter({(7.0, 6.0): 3, (6.0, 5.0): 1, (5.0, 5.0): 1, (7.0, 5.0): 1})\n",
      "(7.0, 7.0, 5.0, 6.0, 5.0, 6.0) Counter({(6.0, 5.0): 3, (7.0, 7.0): 1, (7.0, 5.0): 1, (7.0, 6.0): 1})\n",
      "(6.0, 6.0, 5.0, 7.0, 7.0, 5.0) Counter({(6.0, 5.0): 2, (7.0, 5.0): 2, (6.0, 6.0): 1, (7.0, 7.0): 1})\n",
      "(7.0, 6.0, 6.0, 7.0, 5.0, 5.0) Counter({(7.0, 6.0): 2, (7.0, 5.0): 2, (6.0, 6.0): 1, (5.0, 5.0): 1})\n",
      ".... 468.25\n",
      "(7.0, 7.0, 6.0, 5.0, 5.0, 6.0) Counter({(7.0, 6.0): 2, (6.0, 5.0): 2, (7.0, 7.0): 1, (5.0, 5.0): 1})\n",
      ".... 370.5\n"
     ]
    }
   ],
   "source": [
    "for component in nx.connected.connected_components(n._g):\n",
    "    energies= []\n",
    "    for node in component:\n",
    "        energies.append(bond_energy(bond_count(node)))\n",
    "        print (node, bond_count(node))\n",
    "    print (\"....\", sum(energies) / len(energies))"
   ]
  },
  {
   "cell_type": "code",
   "execution_count": 7,
   "metadata": {},
   "outputs": [],
   "source": [
    "# CCSD/cc-pWCVDZ\n",
    "import glob\n",
    "refenergies = {}\n",
    "for folder in glob.glob('benzene/run-*'):\n",
    "    lines = open('%s/direct.out' % folder).readlines()\n",
    "    energy = float([_ for _ in lines if \"CCSD/cc-pWCVDZ energy\" in _][0].strip().split()[-1])\n",
    "    nuclear = float([_ for _ in lines if \"Nuclear energy\" in _][0].strip().split()[-1])\n",
    "    label = ['0HHLxBCN'.index(_) for _ in folder.split('-')[-1]]\n",
    "    refenergies[tuple(label)] = energy\n",
    "def get_energy(mol):\n",
    "    for shift in range(6):\n",
    "        if mol in refenergies:\n",
    "            return refenergies[mol]\n",
    "        mol = tuple(list(mol)[1:]+list(mol)[:1])\n",
    "    return get_energy(tuple(list(mol)[::-1]))"
   ]
  },
  {
   "cell_type": "code",
   "execution_count": 560,
   "metadata": {},
   "outputs": [
    {
     "data": {
      "text/plain": [
       "[((5.0, 6.0, 5.0, 7.0, 6.0, 7.0), -438.362),\n",
       " ((7.0, 5.0, 7.0, 5.0, 6.0, 6.0), -438.258),\n",
       " ((7.0, 5.0, 7.0, 6.0, 5.0, 6.0), -438.286),\n",
       " ((7.0, 5.0, 6.0, 7.0, 5.0, 6.0), -438.247),\n",
       " ((7.0, 7.0, 5.0, 6.0, 5.0, 6.0), -438.553),\n",
       " ((7.0, 7.0, 6.0, 5.0, 5.0, 6.0), -438.785),\n",
       " ((7.0, 6.0, 5.0, 7.0, 5.0, 6.0), -438.281),\n",
       " ((7.0, 6.0, 7.0, 6.0, 5.0, 5.0), -438.542),\n",
       " ((7.0, 6.0, 6.0, 7.0, 5.0, 5.0), -438.401),\n",
       " ((6.0, 7.0, 7.0, 5.0, 5.0, 6.0), -438.673),\n",
       " ((6.0, 6.0, 5.0, 7.0, 7.0, 5.0), -438.413)]"
      ]
     },
     "execution_count": 560,
     "metadata": {},
     "output_type": "execute_result"
    }
   ],
   "source": [
    "[(_, get_energy(_)) for _ in n._g.nodes]"
   ]
  },
  {
   "cell_type": "code",
   "execution_count": 578,
   "metadata": {},
   "outputs": [
    {
     "data": {
      "text/plain": [
       "2"
      ]
     },
     "execution_count": 578,
     "metadata": {},
     "output_type": "execute_result"
    }
   ],
   "source": [
    "bond_count(node)[(7.0, 5.0)]"
   ]
  },
  {
   "cell_type": "code",
   "execution_count": 30,
   "metadata": {},
   "outputs": [
    {
     "data": {
      "text/plain": [
       "2"
      ]
     },
     "execution_count": 30,
     "metadata": {},
     "output_type": "execute_result"
    }
   ],
   "source": [
    "5//2"
   ]
  },
  {
   "cell_type": "code",
   "execution_count": 24,
   "metadata": {},
   "outputs": [
    {
     "data": {
      "text/plain": [
       "[(5.0, 7.0, 6.0, 5.0, 6.0, 7.0),\n",
       " (6.0, 5.0, 6.0, 7.0, 5.0, 7.0),\n",
       " (5.0, 6.0, 7.0, 5.0, 7.0, 6.0),\n",
       " (5.0, 6.0, 7.0, 6.0, 5.0, 7.0),\n",
       " (7.0, 5.0, 7.0, 6.0, 5.0, 6.0),\n",
       " (6.0, 7.0, 5.0, 7.0, 6.0, 5.0)]"
      ]
     },
     "execution_count": 24,
     "metadata": {},
     "output_type": "execute_result"
    }
   ],
   "source": [
    "#, \n"
   ]
  },
  {
   "cell_type": "code",
   "execution_count": 25,
   "metadata": {},
   "outputs": [],
   "source": [
    "def get_match_permutations(mol):\n",
    "    result = []\n",
    "    for shift in range(6):\n",
    "        result.append(mol)\n",
    "        mol = tuple(list(mol)[1:]+list(mol)[:1])\n",
    "    mol = tuple(mol[::-1])\n",
    "    for shift in range(6):\n",
    "        result.append(mol)\n",
    "        mol = tuple(list(mol)[1:]+list(mol)[:1])\n",
    "    return result"
   ]
  },
  {
   "cell_type": "code",
   "execution_count": 33,
   "metadata": {},
   "outputs": [],
   "source": [
    "def find_bridge(n1, n2):\n",
    "    search = get_match_permutations(n1)\n",
    "    for origin in get_match_permutations(n2):\n",
    "        found = references_from_target(n, origin)\n",
    "        for e in found:\n",
    "            if e in search:\n",
    "                if origin in search:\n",
    "                    continue\n",
    "                print (origin, e, (np.array(origin) + np.array(e))/2)"
   ]
  },
  {
   "cell_type": "code",
   "execution_count": 28,
   "metadata": {},
   "outputs": [],
   "source": [
    "cluster= ((7.0, 5.0, 7.0, 6.0, 5.0, 6.0), \n",
    "(5.0, 6.0, 5.0, 7.0, 6.0, 7.0) ,\n",
    "(7.0, 5.0, 6.0, 7.0, 5.0, 6.0) ,\n",
    "(7.0, 5.0, 7.0, 5.0, 6.0, 6.0) ,\n",
    "(7.0, 6.0, 5.0, 7.0, 5.0, 6.0) )"
   ]
  },
  {
   "cell_type": "code",
   "execution_count": 34,
   "metadata": {},
   "outputs": [
    {
     "name": "stdout",
     "output_type": "stream",
     "text": [
      "(7.0, 6.0, 5.0, 7.0, 5.0, 6.0) (5.0, 6.0, 7.0, 5.0, 7.0, 6.0) [6. 6. 6. 6. 6. 6.]\n",
      "(6.0, 5.0, 7.0, 5.0, 6.0, 7.0) (6.0, 7.0, 5.0, 7.0, 6.0, 5.0) [6. 6. 6. 6. 6. 6.]\n",
      "(5.0, 7.0, 5.0, 6.0, 7.0, 6.0) (7.0, 5.0, 7.0, 6.0, 5.0, 6.0) [6. 6. 6. 6. 6. 6.]\n",
      "(7.0, 5.0, 6.0, 7.0, 6.0, 5.0) (5.0, 7.0, 6.0, 5.0, 6.0, 7.0) [6. 6. 6. 6. 6. 6.]\n",
      "(5.0, 6.0, 7.0, 6.0, 5.0, 7.0) (7.0, 6.0, 5.0, 6.0, 7.0, 5.0) [6. 6. 6. 6. 6. 6.]\n",
      "(6.0, 7.0, 6.0, 5.0, 7.0, 5.0) (6.0, 5.0, 6.0, 7.0, 5.0, 7.0) [6. 6. 6. 6. 6. 6.]\n",
      "(6.0, 5.0, 7.0, 5.0, 6.0, 7.0) (6.0, 7.0, 5.0, 7.0, 6.0, 5.0) [6. 6. 6. 6. 6. 6.]\n",
      "(5.0, 7.0, 5.0, 6.0, 7.0, 6.0) (7.0, 5.0, 7.0, 6.0, 5.0, 6.0) [6. 6. 6. 6. 6. 6.]\n",
      "(7.0, 5.0, 6.0, 7.0, 6.0, 5.0) (5.0, 7.0, 6.0, 5.0, 6.0, 7.0) [6. 6. 6. 6. 6. 6.]\n",
      "(5.0, 6.0, 7.0, 6.0, 5.0, 7.0) (7.0, 6.0, 5.0, 6.0, 7.0, 5.0) [6. 6. 6. 6. 6. 6.]\n",
      "(6.0, 7.0, 6.0, 5.0, 7.0, 5.0) (6.0, 5.0, 6.0, 7.0, 5.0, 7.0) [6. 6. 6. 6. 6. 6.]\n",
      "(7.0, 6.0, 5.0, 7.0, 5.0, 6.0) (5.0, 6.0, 7.0, 5.0, 7.0, 6.0) [6. 6. 6. 6. 6. 6.]\n",
      "(7.0, 5.0, 6.0, 7.0, 5.0, 6.0) (5.0, 7.0, 6.0, 7.0, 5.0, 6.0) [6. 6. 6. 7. 5. 6.]\n",
      "(7.0, 5.0, 6.0, 7.0, 5.0, 6.0) (7.0, 5.0, 6.0, 5.0, 7.0, 6.0) [7. 5. 6. 6. 6. 6.]\n",
      "(5.0, 6.0, 7.0, 5.0, 6.0, 7.0) (5.0, 6.0, 5.0, 7.0, 6.0, 7.0) [5. 6. 6. 6. 6. 7.]\n",
      "(5.0, 6.0, 7.0, 5.0, 6.0, 7.0) (7.0, 6.0, 7.0, 5.0, 6.0, 5.0) [6. 6. 7. 5. 6. 6.]\n",
      "(6.0, 7.0, 5.0, 6.0, 7.0, 5.0) (6.0, 5.0, 7.0, 6.0, 7.0, 5.0) [6. 6. 6. 6. 7. 5.]\n",
      "(6.0, 7.0, 5.0, 6.0, 7.0, 5.0) (6.0, 7.0, 5.0, 6.0, 5.0, 7.0) [6. 7. 5. 6. 6. 6.]\n",
      "(7.0, 5.0, 6.0, 7.0, 5.0, 6.0) (5.0, 7.0, 6.0, 7.0, 5.0, 6.0) [6. 6. 6. 7. 5. 6.]\n",
      "(7.0, 5.0, 6.0, 7.0, 5.0, 6.0) (7.0, 5.0, 6.0, 5.0, 7.0, 6.0) [7. 5. 6. 6. 6. 6.]\n",
      "(5.0, 6.0, 7.0, 5.0, 6.0, 7.0) (5.0, 6.0, 5.0, 7.0, 6.0, 7.0) [5. 6. 6. 6. 6. 7.]\n",
      "(5.0, 6.0, 7.0, 5.0, 6.0, 7.0) (7.0, 6.0, 7.0, 5.0, 6.0, 5.0) [6. 6. 7. 5. 6. 6.]\n",
      "(6.0, 7.0, 5.0, 6.0, 7.0, 5.0) (6.0, 5.0, 7.0, 6.0, 7.0, 5.0) [6. 6. 6. 6. 7. 5.]\n",
      "(6.0, 7.0, 5.0, 6.0, 7.0, 5.0) (6.0, 7.0, 5.0, 6.0, 5.0, 7.0) [6. 7. 5. 6. 6. 6.]\n",
      "(6.0, 5.0, 7.0, 6.0, 5.0, 7.0) (6.0, 5.0, 7.0, 6.0, 7.0, 5.0) [6. 5. 7. 6. 6. 6.]\n",
      "(6.0, 5.0, 7.0, 6.0, 5.0, 7.0) (6.0, 7.0, 5.0, 6.0, 5.0, 7.0) [6. 6. 6. 6. 5. 7.]\n",
      "(5.0, 7.0, 6.0, 5.0, 7.0, 6.0) (5.0, 7.0, 6.0, 7.0, 5.0, 6.0) [5. 7. 6. 6. 6. 6.]\n",
      "(5.0, 7.0, 6.0, 5.0, 7.0, 6.0) (7.0, 5.0, 6.0, 5.0, 7.0, 6.0) [6. 6. 6. 5. 7. 6.]\n",
      "(7.0, 6.0, 5.0, 7.0, 6.0, 5.0) (5.0, 6.0, 5.0, 7.0, 6.0, 7.0) [6. 6. 5. 7. 6. 6.]\n",
      "(7.0, 6.0, 5.0, 7.0, 6.0, 5.0) (7.0, 6.0, 7.0, 5.0, 6.0, 5.0) [7. 6. 6. 6. 6. 5.]\n",
      "(6.0, 5.0, 7.0, 6.0, 5.0, 7.0) (6.0, 5.0, 7.0, 6.0, 7.0, 5.0) [6. 5. 7. 6. 6. 6.]\n",
      "(6.0, 5.0, 7.0, 6.0, 5.0, 7.0) (6.0, 7.0, 5.0, 6.0, 5.0, 7.0) [6. 6. 6. 6. 5. 7.]\n",
      "(5.0, 7.0, 6.0, 5.0, 7.0, 6.0) (5.0, 7.0, 6.0, 7.0, 5.0, 6.0) [5. 7. 6. 6. 6. 6.]\n",
      "(5.0, 7.0, 6.0, 5.0, 7.0, 6.0) (7.0, 5.0, 6.0, 5.0, 7.0, 6.0) [6. 6. 6. 5. 7. 6.]\n",
      "(7.0, 6.0, 5.0, 7.0, 6.0, 5.0) (5.0, 6.0, 5.0, 7.0, 6.0, 7.0) [6. 6. 5. 7. 6. 6.]\n",
      "(7.0, 6.0, 5.0, 7.0, 6.0, 5.0) (7.0, 6.0, 7.0, 5.0, 6.0, 5.0) [7. 6. 6. 6. 6. 5.]\n",
      "(7.0, 5.0, 7.0, 5.0, 6.0, 6.0) (6.0, 5.0, 7.0, 6.0, 7.0, 5.0) [6.5 5.  7.  5.5 6.5 5.5]\n",
      "(5.0, 7.0, 5.0, 6.0, 6.0, 7.0) (5.0, 7.0, 6.0, 7.0, 5.0, 6.0) [5.  7.  5.5 6.5 5.5 6.5]\n",
      "(7.0, 5.0, 6.0, 6.0, 7.0, 5.0) (7.0, 6.0, 7.0, 5.0, 6.0, 5.0) [7.  5.5 6.5 5.5 6.5 5. ]\n",
      "(5.0, 6.0, 6.0, 7.0, 5.0, 7.0) (6.0, 7.0, 5.0, 6.0, 5.0, 7.0) [5.5 6.5 5.5 6.5 5.  7. ]\n",
      "(6.0, 6.0, 7.0, 5.0, 7.0, 5.0) (7.0, 5.0, 6.0, 5.0, 7.0, 6.0) [6.5 5.5 6.5 5.  7.  5.5]\n",
      "(6.0, 7.0, 5.0, 7.0, 5.0, 6.0) (5.0, 6.0, 5.0, 7.0, 6.0, 7.0) [5.5 6.5 5.  7.  5.5 6.5]\n",
      "(6.0, 6.0, 5.0, 7.0, 5.0, 7.0) (5.0, 7.0, 6.0, 7.0, 5.0, 6.0) [5.5 6.5 5.5 7.  5.  6.5]\n",
      "(6.0, 5.0, 7.0, 5.0, 7.0, 6.0) (7.0, 6.0, 7.0, 5.0, 6.0, 5.0) [6.5 5.5 7.  5.  6.5 5.5]\n",
      "(5.0, 7.0, 5.0, 7.0, 6.0, 6.0) (6.0, 7.0, 5.0, 6.0, 5.0, 7.0) [5.5 7.  5.  6.5 5.5 6.5]\n",
      "(7.0, 5.0, 7.0, 6.0, 6.0, 5.0) (7.0, 5.0, 6.0, 5.0, 7.0, 6.0) [7.  5.  6.5 5.5 6.5 5.5]\n",
      "(5.0, 7.0, 6.0, 6.0, 5.0, 7.0) (5.0, 6.0, 5.0, 7.0, 6.0, 7.0) [5.  6.5 5.5 6.5 5.5 7. ]\n",
      "(7.0, 6.0, 6.0, 5.0, 7.0, 5.0) (6.0, 5.0, 7.0, 6.0, 7.0, 5.0) [6.5 5.5 6.5 5.5 7.  5. ]\n",
      "(5.0, 6.0, 5.0, 7.0, 6.0, 7.0) (5.0, 6.0, 7.0, 5.0, 6.0, 7.0) [5. 6. 6. 6. 6. 7.]\n",
      "(5.0, 6.0, 5.0, 7.0, 6.0, 7.0) (7.0, 6.0, 5.0, 7.0, 6.0, 5.0) [6. 6. 5. 7. 6. 6.]\n",
      "(6.0, 5.0, 7.0, 6.0, 7.0, 5.0) (6.0, 7.0, 5.0, 6.0, 7.0, 5.0) [6. 6. 6. 6. 7. 5.]\n",
      "(6.0, 5.0, 7.0, 6.0, 7.0, 5.0) (6.0, 5.0, 7.0, 6.0, 5.0, 7.0) [6. 5. 7. 6. 6. 6.]\n",
      "(5.0, 7.0, 6.0, 7.0, 5.0, 6.0) (5.0, 7.0, 6.0, 5.0, 7.0, 6.0) [5. 7. 6. 6. 6. 6.]\n",
      "(5.0, 7.0, 6.0, 7.0, 5.0, 6.0) (7.0, 5.0, 6.0, 7.0, 5.0, 6.0) [6. 6. 6. 7. 5. 6.]\n",
      "(7.0, 6.0, 7.0, 5.0, 6.0, 5.0) (5.0, 6.0, 7.0, 5.0, 6.0, 7.0) [6. 6. 7. 5. 6. 6.]\n",
      "(7.0, 6.0, 7.0, 5.0, 6.0, 5.0) (7.0, 6.0, 5.0, 7.0, 6.0, 5.0) [7. 6. 6. 6. 6. 5.]\n",
      "(6.0, 7.0, 5.0, 6.0, 5.0, 7.0) (6.0, 7.0, 5.0, 6.0, 7.0, 5.0) [6. 7. 5. 6. 6. 6.]\n",
      "(6.0, 7.0, 5.0, 6.0, 5.0, 7.0) (6.0, 5.0, 7.0, 6.0, 5.0, 7.0) [6. 6. 6. 6. 5. 7.]\n",
      "(7.0, 5.0, 6.0, 5.0, 7.0, 6.0) (5.0, 7.0, 6.0, 5.0, 7.0, 6.0) [6. 6. 6. 5. 7. 6.]\n",
      "(7.0, 5.0, 6.0, 5.0, 7.0, 6.0) (7.0, 5.0, 6.0, 7.0, 5.0, 6.0) [7. 5. 6. 6. 6. 6.]\n",
      "(7.0, 6.0, 7.0, 5.0, 6.0, 5.0) (5.0, 6.0, 7.0, 5.0, 6.0, 7.0) [6. 6. 7. 5. 6. 6.]\n",
      "(7.0, 6.0, 7.0, 5.0, 6.0, 5.0) (7.0, 6.0, 5.0, 7.0, 6.0, 5.0) [7. 6. 6. 6. 6. 5.]\n",
      "(6.0, 7.0, 5.0, 6.0, 5.0, 7.0) (6.0, 7.0, 5.0, 6.0, 7.0, 5.0) [6. 7. 5. 6. 6. 6.]\n",
      "(6.0, 7.0, 5.0, 6.0, 5.0, 7.0) (6.0, 5.0, 7.0, 6.0, 5.0, 7.0) [6. 6. 6. 6. 5. 7.]\n",
      "(7.0, 5.0, 6.0, 5.0, 7.0, 6.0) (5.0, 7.0, 6.0, 5.0, 7.0, 6.0) [6. 6. 6. 5. 7. 6.]\n",
      "(7.0, 5.0, 6.0, 5.0, 7.0, 6.0) (7.0, 5.0, 6.0, 7.0, 5.0, 6.0) [7. 5. 6. 6. 6. 6.]\n",
      "(5.0, 6.0, 5.0, 7.0, 6.0, 7.0) (5.0, 6.0, 7.0, 5.0, 6.0, 7.0) [5. 6. 6. 6. 6. 7.]\n",
      "(5.0, 6.0, 5.0, 7.0, 6.0, 7.0) (7.0, 6.0, 5.0, 7.0, 6.0, 5.0) [6. 6. 5. 7. 6. 6.]\n",
      "(6.0, 5.0, 7.0, 6.0, 7.0, 5.0) (6.0, 7.0, 5.0, 6.0, 7.0, 5.0) [6. 6. 6. 6. 7. 5.]\n",
      "(6.0, 5.0, 7.0, 6.0, 7.0, 5.0) (6.0, 5.0, 7.0, 6.0, 5.0, 7.0) [6. 5. 7. 6. 6. 6.]\n",
      "(5.0, 7.0, 6.0, 7.0, 5.0, 6.0) (5.0, 7.0, 6.0, 5.0, 7.0, 6.0) [5. 7. 6. 6. 6. 6.]\n",
      "(5.0, 7.0, 6.0, 7.0, 5.0, 6.0) (7.0, 5.0, 6.0, 7.0, 5.0, 6.0) [6. 6. 6. 7. 5. 6.]\n",
      "(7.0, 6.0, 5.0, 7.0, 5.0, 6.0) (7.0, 6.0, 5.0, 7.0, 6.0, 5.0) [7.  6.  5.  7.  5.5 5.5]\n",
      "(7.0, 6.0, 5.0, 7.0, 5.0, 6.0) (7.0, 5.0, 6.0, 7.0, 5.0, 6.0) [7.  5.5 5.5 7.  5.  6. ]\n",
      "(6.0, 5.0, 7.0, 5.0, 6.0, 7.0) (6.0, 5.0, 7.0, 6.0, 5.0, 7.0) [6.  5.  7.  5.5 5.5 7. ]\n",
      "(6.0, 5.0, 7.0, 5.0, 6.0, 7.0) (5.0, 6.0, 7.0, 5.0, 6.0, 7.0) [5.5 5.5 7.  5.  6.  7. ]\n",
      "(5.0, 7.0, 5.0, 6.0, 7.0, 6.0) (5.0, 7.0, 6.0, 5.0, 7.0, 6.0) [5.  7.  5.5 5.5 7.  6. ]\n",
      "(5.0, 7.0, 5.0, 6.0, 7.0, 6.0) (6.0, 7.0, 5.0, 6.0, 7.0, 5.0) [5.5 7.  5.  6.  7.  5.5]\n",
      "(7.0, 5.0, 6.0, 7.0, 6.0, 5.0) (7.0, 6.0, 5.0, 7.0, 6.0, 5.0) [7.  5.5 5.5 7.  6.  5. ]\n",
      "(7.0, 5.0, 6.0, 7.0, 6.0, 5.0) (7.0, 5.0, 6.0, 7.0, 5.0, 6.0) [7.  5.  6.  7.  5.5 5.5]\n",
      "(5.0, 6.0, 7.0, 6.0, 5.0, 7.0) (6.0, 5.0, 7.0, 6.0, 5.0, 7.0) [5.5 5.5 7.  6.  5.  7. ]\n",
      "(5.0, 6.0, 7.0, 6.0, 5.0, 7.0) (5.0, 6.0, 7.0, 5.0, 6.0, 7.0) [5.  6.  7.  5.5 5.5 7. ]\n",
      "(6.0, 7.0, 6.0, 5.0, 7.0, 5.0) (5.0, 7.0, 6.0, 5.0, 7.0, 6.0) [5.5 7.  6.  5.  7.  5.5]\n",
      "(6.0, 7.0, 6.0, 5.0, 7.0, 5.0) (6.0, 7.0, 5.0, 6.0, 7.0, 5.0) [6.  7.  5.5 5.5 7.  5. ]\n",
      "(6.0, 5.0, 7.0, 5.0, 6.0, 7.0) (6.0, 5.0, 7.0, 6.0, 5.0, 7.0) [6.  5.  7.  5.5 5.5 7. ]\n",
      "(6.0, 5.0, 7.0, 5.0, 6.0, 7.0) (5.0, 6.0, 7.0, 5.0, 6.0, 7.0) [5.5 5.5 7.  5.  6.  7. ]\n",
      "(5.0, 7.0, 5.0, 6.0, 7.0, 6.0) (5.0, 7.0, 6.0, 5.0, 7.0, 6.0) [5.  7.  5.5 5.5 7.  6. ]\n",
      "(5.0, 7.0, 5.0, 6.0, 7.0, 6.0) (6.0, 7.0, 5.0, 6.0, 7.0, 5.0) [5.5 7.  5.  6.  7.  5.5]\n",
      "(7.0, 5.0, 6.0, 7.0, 6.0, 5.0) (7.0, 6.0, 5.0, 7.0, 6.0, 5.0) [7.  5.5 5.5 7.  6.  5. ]\n",
      "(7.0, 5.0, 6.0, 7.0, 6.0, 5.0) (7.0, 5.0, 6.0, 7.0, 5.0, 6.0) [7.  5.  6.  7.  5.5 5.5]\n",
      "(5.0, 6.0, 7.0, 6.0, 5.0, 7.0) (6.0, 5.0, 7.0, 6.0, 5.0, 7.0) [5.5 5.5 7.  6.  5.  7. ]\n",
      "(5.0, 6.0, 7.0, 6.0, 5.0, 7.0) (5.0, 6.0, 7.0, 5.0, 6.0, 7.0) [5.  6.  7.  5.5 5.5 7. ]\n",
      "(6.0, 7.0, 6.0, 5.0, 7.0, 5.0) (5.0, 7.0, 6.0, 5.0, 7.0, 6.0) [5.5 7.  6.  5.  7.  5.5]\n",
      "(6.0, 7.0, 6.0, 5.0, 7.0, 5.0) (6.0, 7.0, 5.0, 6.0, 7.0, 5.0) [6.  7.  5.5 5.5 7.  5. ]\n",
      "(7.0, 6.0, 5.0, 7.0, 5.0, 6.0) (7.0, 6.0, 5.0, 7.0, 6.0, 5.0) [7.  6.  5.  7.  5.5 5.5]\n",
      "(7.0, 6.0, 5.0, 7.0, 5.0, 6.0) (7.0, 5.0, 6.0, 7.0, 5.0, 6.0) [7.  5.5 5.5 7.  5.  6. ]\n",
      "(5.0, 6.0, 5.0, 7.0, 6.0, 7.0) (5.0, 7.0, 6.0, 6.0, 5.0, 7.0) [5.  6.5 5.5 6.5 5.5 7. ]\n",
      "(5.0, 6.0, 5.0, 7.0, 6.0, 7.0) (6.0, 7.0, 5.0, 7.0, 5.0, 6.0) [5.5 6.5 5.  7.  5.5 6.5]\n",
      "(6.0, 5.0, 7.0, 6.0, 7.0, 5.0) (7.0, 5.0, 7.0, 5.0, 6.0, 6.0) [6.5 5.  7.  5.5 6.5 5.5]\n",
      "(6.0, 5.0, 7.0, 6.0, 7.0, 5.0) (7.0, 6.0, 6.0, 5.0, 7.0, 5.0) [6.5 5.5 6.5 5.5 7.  5. ]\n",
      "(5.0, 7.0, 6.0, 7.0, 5.0, 6.0) (6.0, 6.0, 5.0, 7.0, 5.0, 7.0) [5.5 6.5 5.5 7.  5.  6.5]\n",
      "(5.0, 7.0, 6.0, 7.0, 5.0, 6.0) (5.0, 7.0, 5.0, 6.0, 6.0, 7.0) [5.  7.  5.5 6.5 5.5 6.5]\n",
      "(7.0, 6.0, 7.0, 5.0, 6.0, 5.0) (6.0, 5.0, 7.0, 5.0, 7.0, 6.0) [6.5 5.5 7.  5.  6.5 5.5]\n",
      "(7.0, 6.0, 7.0, 5.0, 6.0, 5.0) (7.0, 5.0, 6.0, 6.0, 7.0, 5.0) [7.  5.5 6.5 5.5 6.5 5. ]\n",
      "(6.0, 7.0, 5.0, 6.0, 5.0, 7.0) (5.0, 7.0, 5.0, 7.0, 6.0, 6.0) [5.5 7.  5.  6.5 5.5 6.5]\n",
      "(6.0, 7.0, 5.0, 6.0, 5.0, 7.0) (5.0, 6.0, 6.0, 7.0, 5.0, 7.0) [5.5 6.5 5.5 6.5 5.  7. ]\n",
      "(7.0, 5.0, 6.0, 5.0, 7.0, 6.0) (6.0, 6.0, 7.0, 5.0, 7.0, 5.0) [6.5 5.5 6.5 5.  7.  5.5]\n",
      "(7.0, 5.0, 6.0, 5.0, 7.0, 6.0) (7.0, 5.0, 7.0, 6.0, 6.0, 5.0) [7.  5.  6.5 5.5 6.5 5.5]\n",
      "(7.0, 6.0, 7.0, 5.0, 6.0, 5.0) (6.0, 5.0, 7.0, 5.0, 7.0, 6.0) [6.5 5.5 7.  5.  6.5 5.5]\n",
      "(7.0, 6.0, 7.0, 5.0, 6.0, 5.0) (7.0, 5.0, 6.0, 6.0, 7.0, 5.0) [7.  5.5 6.5 5.5 6.5 5. ]\n",
      "(6.0, 7.0, 5.0, 6.0, 5.0, 7.0) (5.0, 7.0, 5.0, 7.0, 6.0, 6.0) [5.5 7.  5.  6.5 5.5 6.5]\n",
      "(6.0, 7.0, 5.0, 6.0, 5.0, 7.0) (5.0, 6.0, 6.0, 7.0, 5.0, 7.0) [5.5 6.5 5.5 6.5 5.  7. ]\n",
      "(7.0, 5.0, 6.0, 5.0, 7.0, 6.0) (6.0, 6.0, 7.0, 5.0, 7.0, 5.0) [6.5 5.5 6.5 5.  7.  5.5]\n",
      "(7.0, 5.0, 6.0, 5.0, 7.0, 6.0) (7.0, 5.0, 7.0, 6.0, 6.0, 5.0) [7.  5.  6.5 5.5 6.5 5.5]\n",
      "(5.0, 6.0, 5.0, 7.0, 6.0, 7.0) (5.0, 7.0, 6.0, 6.0, 5.0, 7.0) [5.  6.5 5.5 6.5 5.5 7. ]\n",
      "(5.0, 6.0, 5.0, 7.0, 6.0, 7.0) (6.0, 7.0, 5.0, 7.0, 5.0, 6.0) [5.5 6.5 5.  7.  5.5 6.5]\n",
      "(6.0, 5.0, 7.0, 6.0, 7.0, 5.0) (7.0, 5.0, 7.0, 5.0, 6.0, 6.0) [6.5 5.  7.  5.5 6.5 5.5]\n",
      "(6.0, 5.0, 7.0, 6.0, 7.0, 5.0) (7.0, 6.0, 6.0, 5.0, 7.0, 5.0) [6.5 5.5 6.5 5.5 7.  5. ]\n",
      "(5.0, 7.0, 6.0, 7.0, 5.0, 6.0) (6.0, 6.0, 5.0, 7.0, 5.0, 7.0) [5.5 6.5 5.5 7.  5.  6.5]\n",
      "(5.0, 7.0, 6.0, 7.0, 5.0, 6.0) (5.0, 7.0, 5.0, 6.0, 6.0, 7.0) [5.  7.  5.5 6.5 5.5 6.5]\n",
      "(7.0, 5.0, 7.0, 6.0, 5.0, 6.0) (5.0, 7.0, 5.0, 6.0, 7.0, 6.0) [6. 6. 6. 6. 6. 6.]\n",
      "(5.0, 7.0, 6.0, 5.0, 6.0, 7.0) (7.0, 5.0, 6.0, 7.0, 6.0, 5.0) [6. 6. 6. 6. 6. 6.]\n",
      "(7.0, 6.0, 5.0, 6.0, 7.0, 5.0) (5.0, 6.0, 7.0, 6.0, 5.0, 7.0) [6. 6. 6. 6. 6. 6.]\n",
      "(6.0, 5.0, 6.0, 7.0, 5.0, 7.0) (6.0, 7.0, 6.0, 5.0, 7.0, 5.0) [6. 6. 6. 6. 6. 6.]\n",
      "(5.0, 6.0, 7.0, 5.0, 7.0, 6.0) (7.0, 6.0, 5.0, 7.0, 5.0, 6.0) [6. 6. 6. 6. 6. 6.]\n",
      "(6.0, 7.0, 5.0, 7.0, 6.0, 5.0) (6.0, 5.0, 7.0, 5.0, 6.0, 7.0) [6. 6. 6. 6. 6. 6.]\n",
      "(6.0, 5.0, 6.0, 7.0, 5.0, 7.0) (6.0, 7.0, 6.0, 5.0, 7.0, 5.0) [6. 6. 6. 6. 6. 6.]\n",
      "(5.0, 6.0, 7.0, 5.0, 7.0, 6.0) (7.0, 6.0, 5.0, 7.0, 5.0, 6.0) [6. 6. 6. 6. 6. 6.]\n",
      "(6.0, 7.0, 5.0, 7.0, 6.0, 5.0) (6.0, 5.0, 7.0, 5.0, 6.0, 7.0) [6. 6. 6. 6. 6. 6.]\n",
      "(7.0, 5.0, 7.0, 6.0, 5.0, 6.0) (5.0, 7.0, 5.0, 6.0, 7.0, 6.0) [6. 6. 6. 6. 6. 6.]\n",
      "(5.0, 7.0, 6.0, 5.0, 6.0, 7.0) (7.0, 5.0, 6.0, 7.0, 6.0, 5.0) [6. 6. 6. 6. 6. 6.]\n",
      "(7.0, 6.0, 5.0, 6.0, 7.0, 5.0) (5.0, 6.0, 7.0, 6.0, 5.0, 7.0) [6. 6. 6. 6. 6. 6.]\n",
      "(7.0, 5.0, 6.0, 7.0, 5.0, 6.0) (7.0, 6.0, 5.0, 7.0, 5.0, 6.0) [7.  5.5 5.5 7.  5.  6. ]\n",
      "(7.0, 5.0, 6.0, 7.0, 5.0, 6.0) (7.0, 5.0, 6.0, 7.0, 6.0, 5.0) [7.  5.  6.  7.  5.5 5.5]\n",
      "(5.0, 6.0, 7.0, 5.0, 6.0, 7.0) (6.0, 5.0, 7.0, 5.0, 6.0, 7.0) [5.5 5.5 7.  5.  6.  7. ]\n",
      "(5.0, 6.0, 7.0, 5.0, 6.0, 7.0) (5.0, 6.0, 7.0, 6.0, 5.0, 7.0) [5.  6.  7.  5.5 5.5 7. ]\n",
      "(6.0, 7.0, 5.0, 6.0, 7.0, 5.0) (6.0, 7.0, 6.0, 5.0, 7.0, 5.0) [6.  7.  5.5 5.5 7.  5. ]\n",
      "(6.0, 7.0, 5.0, 6.0, 7.0, 5.0) (5.0, 7.0, 5.0, 6.0, 7.0, 6.0) [5.5 7.  5.  6.  7.  5.5]\n",
      "(7.0, 5.0, 6.0, 7.0, 5.0, 6.0) (7.0, 6.0, 5.0, 7.0, 5.0, 6.0) [7.  5.5 5.5 7.  5.  6. ]\n",
      "(7.0, 5.0, 6.0, 7.0, 5.0, 6.0) (7.0, 5.0, 6.0, 7.0, 6.0, 5.0) [7.  5.  6.  7.  5.5 5.5]\n",
      "(5.0, 6.0, 7.0, 5.0, 6.0, 7.0) (6.0, 5.0, 7.0, 5.0, 6.0, 7.0) [5.5 5.5 7.  5.  6.  7. ]\n",
      "(5.0, 6.0, 7.0, 5.0, 6.0, 7.0) (5.0, 6.0, 7.0, 6.0, 5.0, 7.0) [5.  6.  7.  5.5 5.5 7. ]\n",
      "(6.0, 7.0, 5.0, 6.0, 7.0, 5.0) (6.0, 7.0, 6.0, 5.0, 7.0, 5.0) [6.  7.  5.5 5.5 7.  5. ]\n",
      "(6.0, 7.0, 5.0, 6.0, 7.0, 5.0) (5.0, 7.0, 5.0, 6.0, 7.0, 6.0) [5.5 7.  5.  6.  7.  5.5]\n",
      "(6.0, 5.0, 7.0, 6.0, 5.0, 7.0) (6.0, 5.0, 7.0, 5.0, 6.0, 7.0) [6.  5.  7.  5.5 5.5 7. ]\n",
      "(6.0, 5.0, 7.0, 6.0, 5.0, 7.0) (5.0, 6.0, 7.0, 6.0, 5.0, 7.0) [5.5 5.5 7.  6.  5.  7. ]\n",
      "(5.0, 7.0, 6.0, 5.0, 7.0, 6.0) (6.0, 7.0, 6.0, 5.0, 7.0, 5.0) [5.5 7.  6.  5.  7.  5.5]\n",
      "(5.0, 7.0, 6.0, 5.0, 7.0, 6.0) (5.0, 7.0, 5.0, 6.0, 7.0, 6.0) [5.  7.  5.5 5.5 7.  6. ]\n",
      "(7.0, 6.0, 5.0, 7.0, 6.0, 5.0) (7.0, 6.0, 5.0, 7.0, 5.0, 6.0) [7.  6.  5.  7.  5.5 5.5]\n",
      "(7.0, 6.0, 5.0, 7.0, 6.0, 5.0) (7.0, 5.0, 6.0, 7.0, 6.0, 5.0) [7.  5.5 5.5 7.  6.  5. ]\n",
      "(6.0, 5.0, 7.0, 6.0, 5.0, 7.0) (6.0, 5.0, 7.0, 5.0, 6.0, 7.0) [6.  5.  7.  5.5 5.5 7. ]\n",
      "(6.0, 5.0, 7.0, 6.0, 5.0, 7.0) (5.0, 6.0, 7.0, 6.0, 5.0, 7.0) [5.5 5.5 7.  6.  5.  7. ]\n",
      "(5.0, 7.0, 6.0, 5.0, 7.0, 6.0) (6.0, 7.0, 6.0, 5.0, 7.0, 5.0) [5.5 7.  6.  5.  7.  5.5]\n",
      "(5.0, 7.0, 6.0, 5.0, 7.0, 6.0) (5.0, 7.0, 5.0, 6.0, 7.0, 6.0) [5.  7.  5.5 5.5 7.  6. ]\n",
      "(7.0, 6.0, 5.0, 7.0, 6.0, 5.0) (7.0, 6.0, 5.0, 7.0, 5.0, 6.0) [7.  6.  5.  7.  5.5 5.5]\n",
      "(7.0, 6.0, 5.0, 7.0, 6.0, 5.0) (7.0, 5.0, 6.0, 7.0, 6.0, 5.0) [7.  5.5 5.5 7.  6.  5. ]\n"
     ]
    }
   ],
   "source": [
    "for a in cluster:\n",
    "    for b in cluster:\n",
    "        if a == b:\n",
    "            continue\n",
    "        find_bridge(a, b)"
   ]
  },
  {
   "cell_type": "code",
   "execution_count": null,
   "metadata": {},
   "outputs": [],
   "source": []
  }
 ],
 "metadata": {
  "kernelspec": {
   "display_name": "Python [conda env:qml-env]",
   "language": "python",
   "name": "conda-env-qml-env-py"
  },
  "language_info": {
   "codemirror_mode": {
    "name": "ipython",
    "version": 3
   },
   "file_extension": ".py",
   "mimetype": "text/x-python",
   "name": "python",
   "nbconvert_exporter": "python",
   "pygments_lexer": "ipython3",
   "version": "3.6.8"
  }
 },
 "nbformat": 4,
 "nbformat_minor": 4
}
