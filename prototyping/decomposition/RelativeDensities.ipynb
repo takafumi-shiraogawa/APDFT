{
 "cells": [
  {
   "cell_type": "code",
   "execution_count": 1,
   "metadata": {},
   "outputs": [
    {
     "name": "stdout",
     "output_type": "stream",
     "text": [
      "The history saving thread hit an unexpected error (DatabaseError('database disk image is malformed',)).History will not be written to the database.\n"
     ]
    }
   ],
   "source": [
    "import horton\n",
    "import numpy as np\n",
    "import matplotlib.pyplot as plt"
   ]
  },
  {
   "cell_type": "code",
   "execution_count": 91,
   "metadata": {},
   "outputs": [],
   "source": [
    "def do_run(targetdist, pseudo, zsuper, gridpoints):\n",
    "    horton.log.set_level(0)\n",
    "    pseudo = np.array(pseudo)*1.0\n",
    "    targetdist = float(targetdist)\n",
    "    mol = horton.IOData(title='test')\n",
    "    mol.coordinates = np.array([[-targetdist/2., 0.0, 0.0], [targetdist/2., 0.0, 0.0]]) * horton.angstrom\n",
    "    mol.numbers = np.array([7, 7])\n",
    "    mol.pseudo_numbers = pseudo\n",
    "    \n",
    "    basisset = 'STO-3G'\n",
    "    #basisset='6-31G(d)'\n",
    "    basisset = 'def2-TZVP'\n",
    "    obasis = horton.get_gobasis(mol.coordinates, mol.numbers, basisset)\n",
    "    for z in zsuper:\n",
    "        obasis2 = horton.get_gobasis(mol.coordinates, np.array([z]*2), basisset)\n",
    "        obasis = obasis.concatenate(obasis2)\n",
    "    \n",
    "    olp = obasis.compute_overlap()\n",
    "    kin = obasis.compute_kinetic()\n",
    "    na = obasis.compute_nuclear_attraction(mol.coordinates, mol.pseudo_numbers)\n",
    "    er = obasis.compute_electron_repulsion()\n",
    "    \n",
    "    orb_alpha = horton.Orbitals(obasis.nbasis)\n",
    "    orb_beta = horton.Orbitals(obasis.nbasis)\n",
    "\n",
    "    # Initial guess\n",
    "    one = kin + na\n",
    "    horton.guess_core_hamiltonian(olp, one, orb_alpha, orb_beta)\n",
    "    \n",
    "    external = {'nn': horton.compute_nucnuc(mol.coordinates, mol.pseudo_numbers)}\n",
    "    terms = [\n",
    "        horton.UTwoIndexTerm(kin, 'kin'),\n",
    "        horton.UDirectTerm(er, 'hartree'),\n",
    "        horton.UExchangeTerm(er, 'x_hf'),\n",
    "        horton.UTwoIndexTerm(na, 'ne'),\n",
    "    ]\n",
    "    ham = horton.UEffHam(terms, external)\n",
    "    \n",
    "    #LDA\n",
    "    #grid = horton.BeckeMolGrid(mol.coordinates, mol.numbers, mol.numbers, 'fine', mode='keep', random_rotate=False)\n",
    "    #terms = [\n",
    "    #    horton.UTwoIndexTerm(kin, 'kin'),\n",
    "    #    horton.UGridGroup(obasis, grid, [\n",
    "    #        horton.UBeckeHartree(lmax=8),\n",
    "    #        horton.ULibXCLDA('x'),\n",
    "    #        horton.ULibXCLDA('c_vwn'),\n",
    "    #    ]),\n",
    "    #    horton.UTwoIndexTerm(na, 'ne'),\n",
    "    #]\n",
    "    #ham = horton.UEffHam(terms, external)\n",
    "    \n",
    "    #PBE\n",
    "    #terms = [\n",
    "    #    horton.UTwoIndexTerm(kin, 'kin'),\n",
    "    #    horton.UDirectTerm(er, 'hartree'),\n",
    "    #    horton.UGridGroup(obasis, grid, [\n",
    "    #        horton.ULibXCGGA('x_pbe'),\n",
    "    #        horton.ULibXCGGA('c_pbe'),\n",
    "    #    ]),\n",
    "    #    horton.UTwoIndexTerm(na, 'ne'),\n",
    "    #]\n",
    "    #ham = horton.UEffHam(terms, external)\n",
    "    \n",
    "    \n",
    "    converged = False\n",
    "    for solver in (horton.CDIISSCFSolver, horton.EDIIS2SCFSolver,horton.ODASCFSolver,  horton.EDIISSCFSolver, ):\n",
    "        try:\n",
    "            occ_model = horton.AufbauOccModel(7, 7)\n",
    "        \n",
    "            occ_model.assign(orb_alpha, orb_beta)\n",
    "            dm_alpha = orb_alpha.to_dm()\n",
    "            dm_beta = orb_beta.to_dm()\n",
    "            scf_solver = solver(1e-7, maxiter=100)\n",
    "            scf_solver(ham, olp, occ_model, dm_alpha, dm_beta)\n",
    "            converged = True\n",
    "        except:\n",
    "            continue\n",
    "        if converged:\n",
    "            break\n",
    "    if not converged:\n",
    "        raise horton.NoSCFConvergence('no conv')\n",
    "    \n",
    "    rho_grid = obasis.compute_grid_density_dm(dm_alpha, gridpoints)\n",
    "    rho_grid += obasis.compute_grid_density_dm(dm_beta, gridpoints)\n",
    "    \n",
    "    return rho_grid\n",
    "def get_partial_derivative(targetdist, pseudo, zsuper, gridpoints, site):\n",
    "    pseudo = np.array(pseudo)\n",
    "    \n",
    "    delta = 0.05\n",
    "    if pseudo[site] - delta/2. < 0:\n",
    "        # forward finite differences only\n",
    "        rho = do_run(targetdist, pseudo, zsuper, gridpoints)    \n",
    "        \n",
    "        pseudonew = pseudo.copy()\n",
    "        pseudonew[site] += delta\n",
    "        rhoup = do_run(targetdist, pseudonew, zsuper, gridpoints)\n",
    "        \n",
    "        deriv = (rhoup - rho) / delta\n",
    "    else:\n",
    "        # central FD\n",
    "        pseudonew = pseudo.copy()\n",
    "        pseudonew[site] += delta/2.\n",
    "        rhoup = do_run(targetdist, pseudonew, zsuper, gridpoints)\n",
    "        \n",
    "        pseudonew = pseudo.copy()\n",
    "        pseudonew[site] -= delta/2.\n",
    "        rhodn = do_run(targetdist, pseudonew, zsuper, gridpoints)\n",
    "        \n",
    "        deriv = (rhoup - rhodn)/delta\n",
    "    return deriv"
   ]
  },
  {
   "cell_type": "code",
   "execution_count": 75,
   "metadata": {},
   "outputs": [],
   "source": [
    "def get_grid():\n",
    "    xs = np.linspace(-3, 3, 100)\n",
    "    ys = xs.copy()*0\n",
    "    zs = xs.copy()*0\n",
    "    return np.copy(np.column_stack((xs, ys, zs)))"
   ]
  },
  {
   "cell_type": "code",
   "execution_count": 76,
   "metadata": {},
   "outputs": [
    {
     "data": {
      "image/png": "[encoded data removed]",
      "text/plain": [
       "<Figure size 432x288 with 1 Axes>"
      ]
     },
     "metadata": {},
     "output_type": "display_data"
    }
   ],
   "source": [
    "def test_n2():\n",
    "    grid = get_grid()\n",
    "    rho = do_run(1.1, np.array([8., 6.]), [], grid)\n",
    "    plt.semilogy(grid[:, 0]/horton.angstrom, rho)\n",
    "test_n2()"
   ]
  },
  {
   "cell_type": "code",
   "execution_count": 92,
   "metadata": {},
   "outputs": [
    {
     "data": {
      "image/png": "[encoded data removed]",
      "text/plain": [
       "<Figure size 432x288 with 1 Axes>"
      ]
     },
     "metadata": {},
     "output_type": "display_data"
    }
   ],
   "source": [
    "def test_partial_n2_co():\n",
    "    grid = get_grid()\n",
    "    targetdist = 1.1\n",
    "    pseudo = np.array([7., 7.])\n",
    "    direction = np.array([1., -1.])\n",
    "    zsuper = []\n",
    "    \n",
    "    lvals = np.linspace(0, 1, 10)\n",
    "    \n",
    "    # references\n",
    "    baseline = do_run(1.1, np.array([7., 7.]), [], grid)\n",
    "    #plt.plot(grid[:, 0]/horton.angstrom, baseline, label='N2')\n",
    "    target = do_run(1.1, np.array([8., 6.]), [], grid)\n",
    "    #plt.plot(grid[:, 0]/horton.angstrom, target, lw=2, label='CO')\n",
    "    \n",
    "    intvals = []\n",
    "    for site in (0, 1):\n",
    "        r_lvals = []\n",
    "        r_ds = []\n",
    "        for lval in lvals:\n",
    "            try:\n",
    "                d = get_partial_derivative(targetdist, pseudo + direction * lval, zsuper, grid, site)\n",
    "                r_lvals.append(lval)\n",
    "                r_ds.append(d)\n",
    "            except:\n",
    "                pass\n",
    "        if r_lvals[0] != 0 or r_lvals[-1] != 1.:\n",
    "            print (r_lvals)\n",
    "            raise ValueError('initial or final failed')\n",
    "        intval = np.trapz(r_ds, r_lvals, axis=0) * direction[site]\n",
    "        intvals.append(intval)\n",
    "        plt.plot(grid[:, 0]/horton.angstrom, intval, label=site)\n",
    "    \n",
    "    #plt.plot(grid[:, 0]/horton.angstrom, baseline + intvals[0] + intvals[1], label='APDFT')\n",
    "    plt.legend()\n",
    "            \n",
    "test_partial_n2_co()"
   ]
  },
  {
   "cell_type": "code",
   "execution_count": 95,
   "metadata": {},
   "outputs": [
    {
     "name": "stdout",
     "output_type": "stream",
     "text": [
      "[-1  1]\n",
      "(0, 7.455833996972139e-06)\n",
      "(1, -1.948971548038081e-06)\n"
     ]
    }
   ],
   "source": [
    "def partion_charge_change(from_zs, to_zs):\n",
    "    \n",
    "    targetdist = 1.1\n",
    "    lvals = np.linspace(0, 1, 10)\n",
    "    \n",
    "    # get integration grid\n",
    "    coordinates = np.array([[-targetdist/2., 0.0, 0.0], [targetdist/2., 0.0, 0.0]]) * horton.angstrom\n",
    "    grid = horton.BeckeMolGrid(coordinates, np.array([7,7]), np.array([7,7]), 'fine', mode='keep', random_rotate=False)\n",
    "    \n",
    "    # options\n",
    "    pseudo = np.array(from_zs)\n",
    "    direction = np.array(to_zs) - np.array(from_zs)\n",
    "    zsuper = set(list(from_zs) + list(to_zs))\n",
    "    print (direction)\n",
    "    \n",
    "    # get changes\n",
    "    for site in (0, 1):\n",
    "        r_lvals = []\n",
    "        r_ds = []\n",
    "        for lval in lvals:\n",
    "            try:\n",
    "                d = get_partial_derivative(targetdist, pseudo + direction * lval, zsuper, grid.points, site)\n",
    "                r_lvals.append(lval)\n",
    "                r_ds.append(d)\n",
    "            except:\n",
    "                pass\n",
    "        if r_lvals[0] != 0 or r_lvals[-1] != 1.:\n",
    "            print (r_lvals)\n",
    "            raise ValueError('initial or final failed')\n",
    "        intval = np.trapz(r_ds, r_lvals, axis=0) * direction[site]\n",
    "        charge_change = np.sum(intval * grid.weights)\n",
    "        print (site, charge_change)\n",
    "partion_charge_change([8, 6], [7, 7])"
   ]
  },
  {
   "cell_type": "code",
   "execution_count": null,
   "metadata": {},
   "outputs": [],
   "source": []
  }
 ],
 "metadata": {
  "kernelspec": {
   "display_name": "Python [conda env:py27]",
   "language": "python",
   "name": "conda-env-py27-py"
  },
  "language_info": {
   "codemirror_mode": {
    "name": "ipython",
    "version": 2
   },
   "file_extension": ".py",
   "mimetype": "text/x-python",
   "name": "python",
   "nbconvert_exporter": "python",
   "pygments_lexer": "ipython2",
   "version": "2.7.15"
  }
 },
 "nbformat": 4,
 "nbformat_minor": 2
}
