{
 "cells": [
  {
   "cell_type": "code",
   "execution_count": 2,
   "metadata": {},
   "outputs": [],
   "source": [
    "import horton\n",
    "import numpy as np\n",
    "import matplotlib.pyplot as plt\n",
    "import pandas as pd"
   ]
  },
  {
   "cell_type": "code",
   "execution_count": 27,
   "metadata": {},
   "outputs": [],
   "source": [
    "def eval_vanishing_site(fromZs, site, lval, grid):\n",
    "    horton.log.set_level(0)\n",
    "    mol = horton.IOData.from_file('../../test/benzene.xyz')\n",
    "    mol.numbers = np.array(fromZs, dtype=int)\n",
    "    toZs = mol.numbers.copy()\n",
    "    toZs[site] = 0\n",
    "    mol.pseudo_numbers = np.array(toZs, dtype=float) * lval + (1.-lval)*np.array(fromZs, dtype=float)\n",
    "    \n",
    "    obasis = horton.get_gobasis(mol.coordinates, mol.numbers, 'STO-3G')\n",
    "    olp = obasis.compute_overlap()\n",
    "    kin = obasis.compute_kinetic()\n",
    "    na = obasis.compute_nuclear_attraction(mol.coordinates, mol.pseudo_numbers)\n",
    "    er = obasis.compute_electron_repulsion()\n",
    "    \n",
    "    orb_alpha = horton.Orbitals(obasis.nbasis)\n",
    "    orb_beta = horton.Orbitals(obasis.nbasis)\n",
    "    \n",
    "    one = kin + na\n",
    "    horton.guess_core_hamiltonian(olp, one, orb_alpha, orb_beta)\n",
    "    \n",
    "    external = {'nn': horton.compute_nucnuc(mol.coordinates, mol.pseudo_numbers)}\n",
    "    \n",
    "    terms = [horton.UTwoIndexTerm(kin, 'kin'), horton.UDirectTerm(er, 'hartree'), horton.UExchangeTerm(er, 'x_hf'), horton.UTwoIndexTerm(na, 'ne')]\n",
    "    ham = horton.UEffHam(terms, external)\n",
    "    occ_model = horton.AufbauOccModel(21, 21)\n",
    "    occ_model.assign(orb_alpha, orb_beta)\n",
    "    dm_alpha = orb_alpha.to_dm()\n",
    "    dm_beta = orb_beta.to_dm()\n",
    "    scf_solver = horton.EDIIS2SCFSolver(1e-5, maxiter=500)\n",
    "    scf_solver(ham, olp, occ_model, dm_alpha, dm_beta)\n",
    "    \n",
    "    fock_alpha = np.zeros(olp.shape)\n",
    "    fock_beta = np.zeros(olp.shape)\n",
    "    ham.reset(dm_alpha, dm_beta)\n",
    "    energy = ham.compute_energy()    \n",
    "    \n",
    "    # integration grid\n",
    "    rho_alpha = obasis.compute_grid_density_dm(dm_alpha, grid.points)\n",
    "    rho_beta = obasis.compute_grid_density_dm(dm_beta, grid.points)\n",
    "    rho_full = rho_alpha + rho_beta\n",
    "    \n",
    "    return energy, rho_full\n",
    "\n",
    "def get_grid():\n",
    "    mol = horton.IOData.from_file('../../test/benzene.xyz')\n",
    "    grid = horton.BeckeMolGrid(mol.coordinates, mol.numbers, mol.pseudo_numbers, random_rotate=False)\n",
    "    return grid\n",
    "def get_coordinates():\n",
    "    mol = horton.IOData.from_file('../../test/benzene.xyz')\n",
    "    return mol.coordinates"
   ]
  },
  {
   "cell_type": "code",
   "execution_count": 58,
   "metadata": {},
   "outputs": [],
   "source": [
    "def get_site_energy(site):\n",
    "    lvals = []\n",
    "    energies = []\n",
    "    rhos = []\n",
    "    grid = get_grid()\n",
    "    Zs = [6, 6, 6, 6, 6, 6, 1, 1, 1, 1, 1, 1]\n",
    "    for lval in np.linspace(0, 1, 10):\n",
    "        print (lval)\n",
    "        lvals.append(lval)\n",
    "        e, rho = eval_vanishing_site(Zs, site, lval, grid)\n",
    "        rhos.append(rho)\n",
    "        energies.append(e)\n",
    "    int_rho = np.trapz(rhos, lvals, axis=0)\n",
    "    ds = np.linalg.norm((get_coordinates()[site] - grid.points), axis=1)\n",
    "    \n",
    "    deltaE = grid.integrate(int_rho/ds)*(-Zs[site])\n",
    "    Zstarget = [_ for _ in Zs]\n",
    "    Zstarget[site] = 0\n",
    "    deltaNN = horton.compute_nucnuc(get_coordinates(), np.array(Zs, dtype=float))-horton.compute_nucnuc(get_coordinates(), np.array(Zstarget, dtype=float))\n",
    "    return deltaE, deltaNN/2\n",
    "#plt.plot(lvals, energies)"
   ]
  },
  {
   "cell_type": "code",
   "execution_count": 59,
   "metadata": {},
   "outputs": [
    {
     "name": "stdout",
     "output_type": "stream",
     "text": [
      "0.0\n",
      "0.1111111111111111\n",
      "0.2222222222222222\n",
      "0.3333333333333333\n",
      "0.4444444444444444\n",
      "0.5555555555555556\n",
      "0.6666666666666666\n",
      "0.7777777777777777\n",
      "0.8888888888888888\n",
      "1.0\n",
      "0.0\n",
      "0.1111111111111111\n",
      "0.2222222222222222\n",
      "0.3333333333333333\n",
      "0.4444444444444444\n",
      "0.5555555555555556\n",
      "0.6666666666666666\n",
      "0.7777777777777777\n",
      "0.8888888888888888\n",
      "1.0\n"
     ]
    },
    {
     "data": {
      "text/plain": [
       "((-101.69383631306903, 29.164676702870892),\n",
       " (-10.150147765831752, 4.671864381591959))"
      ]
     },
     "execution_count": 59,
     "metadata": {},
     "output_type": "execute_result"
    }
   ],
   "source": [
    "(get_site_energy(0) , get_site_energy(6))"
   ]
  }
 ],
 "metadata": {
  "kernelspec": {
   "display_name": "Python [conda env:py27]",
   "language": "python",
   "name": "conda-env-py27-py"
  },
  "language_info": {
   "codemirror_mode": {
    "name": "ipython",
    "version": 2
   },
   "file_extension": ".py",
   "mimetype": "text/x-python",
   "name": "python",
   "nbconvert_exporter": "python",
   "pygments_lexer": "ipython2",
   "version": "2.7.15"
  }
 },
 "nbformat": 4,
 "nbformat_minor": 2
}
