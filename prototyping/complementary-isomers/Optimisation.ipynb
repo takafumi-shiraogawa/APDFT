{
 "cells": [
  {
   "cell_type": "code",
   "execution_count": 1,
   "metadata": {},
   "outputs": [
    {
     "name": "stdout",
     "output_type": "stream",
     "text": [
      "The history saving thread hit an unexpected error (DatabaseError('database disk image is malformed',)).History will not be written to the database.\n"
     ]
    },
    {
     "name": "stderr",
     "output_type": "stream",
     "text": [
      "Numpy 1.16 has memory leak bug  https://github.com/numpy/numpy/issues/13808\n",
      "It is recommended to downgrade to numpy 1.15 or older\n"
     ]
    }
   ],
   "source": [
    "# dependencies\n",
    "from rdkit import Chem\n",
    "from rdkit.Chem import AllChem, ChemicalForceFields\n",
    "from rdkit.Chem import rdmolfiles\n",
    "\n",
    "import qml\n",
    "from qml.representations import generate_fchl_acsf\n",
    "from qml.kernels import get_atomic_local_kernel\n",
    "\n",
    "import ase\n",
    "from ase.visualize import view\n",
    "from ase.optimize import LBFGS\n",
    "\n",
    "import numpy as np\n",
    "\n",
    "import ipywidgets\n",
    "\n",
    "import matplotlib.pyplot as plt\n",
    "import pyscf\n",
    "import pyscf.gto\n",
    "import pyscf.qmmm\n",
    "import pyscf.scf\n",
    "import pyscf.dft\n",
    "import pyscf.lib"
   ]
  },
  {
   "cell_type": "code",
   "execution_count": 57,
   "metadata": {},
   "outputs": [],
   "source": [
    "c = qml.data.compound.Compound('../../dsgdb9nsd_050720.xyz')\n",
    "#c = qml.data.compound.Compound('../../test/benzene.xyz')"
   ]
  },
  {
   "cell_type": "code",
   "execution_count": 42,
   "metadata": {},
   "outputs": [
    {
     "name": "stdout",
     "output_type": "stream",
     "text": [
      "314 ms ± 59.5 ms per loop (mean ± std. dev. of 7 runs, 1 loop each)\n"
     ]
    }
   ],
   "source": [
    "def distance_sites(repA, repB, siteA, siteB, ZA, ZB):\n",
    "    sigma = 1 # empirical\n",
    "    sliceA = np.array([repA])[:,siteA:siteA+1,:]\n",
    "    sliceB = np.array([repB])[:,siteB:siteB+1,:]\n",
    "    \n",
    "    inv_2sigma2 = -1.0 / (2 * sigma**2)\n",
    "    inv_sigma2 = -1.0 / (sigma**2)\n",
    "    \n",
    "    q = get_atomic_local_kernel(sliceA, sliceB, np.array([ZA[siteA:siteA+1]]), np.array([ZB[siteB:siteB+1]]), sigma)[0][0]\n",
    "    \n",
    "    # revert transformation\n",
    "    return np.log(-q/inv_sigma2)/inv_2sigma2\n",
    "\n",
    "def distance_bn_nb(nuclear_charges, coordinates, idx_A, idx_B):\n",
    "    A = nuclear_charges.copy()\n",
    "    A[[idx_A, idx_B]] = (5, 7)\n",
    "    B = nuclear_charges.copy()\n",
    "    B[[idx_A, idx_B]] = (7, 5)\n",
    "    repA, gradA = generate_fchl_acsf(A, coordinates, gradients=True, pad=len(nuclear_charges), elements=range(1, 10))\n",
    "    repB, gradB = generate_fchl_acsf(B, coordinates, gradients=True, pad=len(nuclear_charges), elements=range(1, 10))\n",
    "    \n",
    "    delta = 0.01\n",
    "    \n",
    "    force = np.zeros((len(nuclear_charges), 3))\n",
    "    basedist = distance_sites(repA, repB, idx_A, idx_B, A, B)\n",
    "    for atomidx in range(len(nuclear_charges)):\n",
    "        for dimension in range(3):\n",
    "            repAprime = repA + delta * gradA[:, : , atomidx, dimension]\n",
    "            repBprime = repB + delta * gradB[:, : , atomidx, dimension]\n",
    "            graddist = distance_sites(repAprime, repBprime, idx_A, idx_B, A, B)\n",
    "            dist = (graddist - basedist) / delta\n",
    "            force[atomidx, dimension] = dist\n",
    "    \n",
    "    return basedist, force\n",
    "\n",
    "%timeit distance_bn_nb(c.nuclear_charges, c.coordinates, 0, 11)"
   ]
  },
  {
   "cell_type": "code",
   "execution_count": 66,
   "metadata": {},
   "outputs": [],
   "source": [
    "import ase.calculators\n",
    "class GapCalc(ase.calculators.calculator.Calculator):\n",
    "    implemented_properties = 'energy forces'.split()\n",
    "    \n",
    "    def __init__(self, pdbfile):\n",
    "        self._pdbfile = pdbfile\n",
    "        self._nevals = 0\n",
    "        self._damping = 1000\n",
    "    \n",
    "    def get_potential_energy(self, atoms=None, force_consistent=False):\n",
    "        ds, gradds = distance_bn_nb(c.nuclear_charges, atoms.get_positions(), 4, 2)\n",
    "        print (ds)\n",
    "        \n",
    "        # add UFF forces\n",
    "        self._ffmol = Chem.MolFromPDBFile(self._pdbfile, removeHs=False)\n",
    "        self._ffprop = ChemicalForceFields.MMFFGetMoleculeProperties(self._ffmol)\n",
    "        self._ff = ChemicalForceFields.MMFFGetMoleculeForceField(self._ffmol, self._ffprop)\n",
    "        conf = self._ffmol.GetConformer(0)\n",
    "        positions = atoms.get_positions()\n",
    "        for atom in range(len(positions)):\n",
    "            conf.SetAtomPosition(atom, positions[atom])\n",
    "        uffE = self._ff.CalcEnergy()\n",
    "        \n",
    "        return uffE/self._damping + ds\n",
    "\n",
    "    def get_forces(self, atoms=None):\n",
    "        self._nevals += 1\n",
    "        # QML forces\n",
    "        ds, gradds = distance_bn_nb(c.nuclear_charges, atoms.get_positions(), 4, 2)\n",
    "        \n",
    "        # add UFF forces\n",
    "        self._ffmol = Chem.MolFromPDBFile(self._pdbfile, removeHs=False)\n",
    "        self._ffprop = ChemicalForceFields.MMFFGetMoleculeProperties(self._ffmol)\n",
    "        self._ff = ChemicalForceFields.MMFFGetMoleculeForceField(self._ffmol, self._ffprop)\n",
    "        conf = self._ffmol.GetConformer(0)\n",
    "        positions = atoms.get_positions()\n",
    "        for atom in range(len(positions)):\n",
    "            conf.SetAtomPosition(atom, positions[atom])\n",
    "        uffgrad = np.array(self._ff.CalcGrad()).reshape(-1, 3)\n",
    "        \n",
    "        if self._nevals > 1000:\n",
    "            return uffgrad * 0\n",
    "        return - gradds - uffgrad/self._damping"
   ]
  },
  {
   "cell_type": "code",
   "execution_count": 44,
   "metadata": {},
   "outputs": [
    {
     "ename": "KeyboardInterrupt",
     "evalue": "",
     "output_type": "error",
     "traceback": [
      "\u001b[0;31m---------------------------------------------------------------------------\u001b[0m",
      "\u001b[0;31mKeyboardInterrupt\u001b[0m                         Traceback (most recent call last)",
      "\u001b[0;32m<ipython-input-44-b314ffcf029b>\u001b[0m in \u001b[0;36m<module>\u001b[0;34m\u001b[0m\n\u001b[1;32m     13\u001b[0m     \u001b[0mplt\u001b[0m\u001b[0;34m.\u001b[0m\u001b[0mplot\u001b[0m\u001b[0;34m(\u001b[0m\u001b[0mhist_ds\u001b[0m\u001b[0;34m)\u001b[0m\u001b[0;34m\u001b[0m\u001b[0;34m\u001b[0m\u001b[0m\n\u001b[1;32m     14\u001b[0m     \u001b[0;32mreturn\u001b[0m \u001b[0mcoordinates\u001b[0m\u001b[0;34m\u001b[0m\u001b[0;34m\u001b[0m\u001b[0m\n\u001b[0;32m---> 15\u001b[0;31m \u001b[0mcprime\u001b[0m \u001b[0;34m=\u001b[0m \u001b[0mdo_optimisation\u001b[0m\u001b[0;34m(\u001b[0m\u001b[0mc\u001b[0m\u001b[0;34m,\u001b[0m \u001b[0;36m2\u001b[0m\u001b[0;34m,\u001b[0m \u001b[0;36m5\u001b[0m\u001b[0;34m)\u001b[0m\u001b[0;34m\u001b[0m\u001b[0;34m\u001b[0m\u001b[0m\n\u001b[0m",
      "\u001b[0;32m<ipython-input-44-b314ffcf029b>\u001b[0m in \u001b[0;36mdo_optimisation\u001b[0;34m(c, idx_A, idx_B)\u001b[0m\n\u001b[1;32m      6\u001b[0m     \u001b[0mcoordinates\u001b[0m \u001b[0;34m=\u001b[0m \u001b[0mc\u001b[0m\u001b[0;34m.\u001b[0m\u001b[0mcoordinates\u001b[0m\u001b[0;34m.\u001b[0m\u001b[0mcopy\u001b[0m\u001b[0;34m(\u001b[0m\u001b[0;34m)\u001b[0m\u001b[0;34m\u001b[0m\u001b[0;34m\u001b[0m\u001b[0m\n\u001b[1;32m      7\u001b[0m     \u001b[0;32mwhile\u001b[0m \u001b[0mlen\u001b[0m\u001b[0;34m(\u001b[0m\u001b[0mhist_ds\u001b[0m\u001b[0;34m)\u001b[0m \u001b[0;34m<\u001b[0m \u001b[0mmaxstep\u001b[0m\u001b[0;34m:\u001b[0m\u001b[0;34m\u001b[0m\u001b[0;34m\u001b[0m\u001b[0m\n\u001b[0;32m----> 8\u001b[0;31m         \u001b[0mds\u001b[0m\u001b[0;34m,\u001b[0m \u001b[0mgradds\u001b[0m \u001b[0;34m=\u001b[0m \u001b[0mdistance_bn_nb\u001b[0m\u001b[0;34m(\u001b[0m\u001b[0mc\u001b[0m\u001b[0;34m.\u001b[0m\u001b[0mnuclear_charges\u001b[0m\u001b[0;34m,\u001b[0m \u001b[0mcoordinates\u001b[0m\u001b[0;34m,\u001b[0m \u001b[0midx_A\u001b[0m\u001b[0;34m,\u001b[0m \u001b[0midx_B\u001b[0m\u001b[0;34m)\u001b[0m\u001b[0;34m\u001b[0m\u001b[0;34m\u001b[0m\u001b[0m\n\u001b[0m\u001b[1;32m      9\u001b[0m         \u001b[0mhist_ds\u001b[0m\u001b[0;34m.\u001b[0m\u001b[0mappend\u001b[0m\u001b[0;34m(\u001b[0m\u001b[0mds\u001b[0m\u001b[0;34m)\u001b[0m\u001b[0;34m\u001b[0m\u001b[0;34m\u001b[0m\u001b[0m\n\u001b[1;32m     10\u001b[0m         \u001b[0mcoordinates\u001b[0m \u001b[0;34m-=\u001b[0m \u001b[0mstepsize\u001b[0m\u001b[0;34m*\u001b[0m\u001b[0mgradds\u001b[0m\u001b[0;34m\u001b[0m\u001b[0;34m\u001b[0m\u001b[0m\n",
      "\u001b[0;32m<ipython-input-42-ee6390c8fb0e>\u001b[0m in \u001b[0;36mdistance_bn_nb\u001b[0;34m(nuclear_charges, coordinates, idx_A, idx_B)\u001b[0m\n\u001b[1;32m     17\u001b[0m     \u001b[0mB\u001b[0m \u001b[0;34m=\u001b[0m \u001b[0mnuclear_charges\u001b[0m\u001b[0;34m.\u001b[0m\u001b[0mcopy\u001b[0m\u001b[0;34m(\u001b[0m\u001b[0;34m)\u001b[0m\u001b[0;34m\u001b[0m\u001b[0;34m\u001b[0m\u001b[0m\n\u001b[1;32m     18\u001b[0m     \u001b[0mB\u001b[0m\u001b[0;34m[\u001b[0m\u001b[0;34m[\u001b[0m\u001b[0midx_A\u001b[0m\u001b[0;34m,\u001b[0m \u001b[0midx_B\u001b[0m\u001b[0;34m]\u001b[0m\u001b[0;34m]\u001b[0m \u001b[0;34m=\u001b[0m \u001b[0;34m(\u001b[0m\u001b[0;36m7\u001b[0m\u001b[0;34m,\u001b[0m \u001b[0;36m5\u001b[0m\u001b[0;34m)\u001b[0m\u001b[0;34m\u001b[0m\u001b[0;34m\u001b[0m\u001b[0m\n\u001b[0;32m---> 19\u001b[0;31m     \u001b[0mrepA\u001b[0m\u001b[0;34m,\u001b[0m \u001b[0mgradA\u001b[0m \u001b[0;34m=\u001b[0m \u001b[0mgenerate_fchl_acsf\u001b[0m\u001b[0;34m(\u001b[0m\u001b[0mA\u001b[0m\u001b[0;34m,\u001b[0m \u001b[0mcoordinates\u001b[0m\u001b[0;34m,\u001b[0m \u001b[0mgradients\u001b[0m\u001b[0;34m=\u001b[0m\u001b[0;32mTrue\u001b[0m\u001b[0;34m,\u001b[0m \u001b[0mpad\u001b[0m\u001b[0;34m=\u001b[0m\u001b[0mlen\u001b[0m\u001b[0;34m(\u001b[0m\u001b[0mnuclear_charges\u001b[0m\u001b[0;34m)\u001b[0m\u001b[0;34m,\u001b[0m \u001b[0melements\u001b[0m\u001b[0;34m=\u001b[0m\u001b[0mrange\u001b[0m\u001b[0;34m(\u001b[0m\u001b[0;36m1\u001b[0m\u001b[0;34m,\u001b[0m \u001b[0;36m10\u001b[0m\u001b[0;34m)\u001b[0m\u001b[0;34m)\u001b[0m\u001b[0;34m\u001b[0m\u001b[0;34m\u001b[0m\u001b[0m\n\u001b[0m\u001b[1;32m     20\u001b[0m     \u001b[0mrepB\u001b[0m\u001b[0;34m,\u001b[0m \u001b[0mgradB\u001b[0m \u001b[0;34m=\u001b[0m \u001b[0mgenerate_fchl_acsf\u001b[0m\u001b[0;34m(\u001b[0m\u001b[0mB\u001b[0m\u001b[0;34m,\u001b[0m \u001b[0mcoordinates\u001b[0m\u001b[0;34m,\u001b[0m \u001b[0mgradients\u001b[0m\u001b[0;34m=\u001b[0m\u001b[0;32mTrue\u001b[0m\u001b[0;34m,\u001b[0m \u001b[0mpad\u001b[0m\u001b[0;34m=\u001b[0m\u001b[0mlen\u001b[0m\u001b[0;34m(\u001b[0m\u001b[0mnuclear_charges\u001b[0m\u001b[0;34m)\u001b[0m\u001b[0;34m,\u001b[0m \u001b[0melements\u001b[0m\u001b[0;34m=\u001b[0m\u001b[0mrange\u001b[0m\u001b[0;34m(\u001b[0m\u001b[0;36m1\u001b[0m\u001b[0;34m,\u001b[0m \u001b[0;36m10\u001b[0m\u001b[0;34m)\u001b[0m\u001b[0;34m)\u001b[0m\u001b[0;34m\u001b[0m\u001b[0;34m\u001b[0m\u001b[0m\n\u001b[1;32m     21\u001b[0m \u001b[0;34m\u001b[0m\u001b[0m\n",
      "\u001b[0;32m~/miniconda3/envs/qml-dev/lib/python3.6/site-packages/qml/representations/representations.py\u001b[0m in \u001b[0;36mgenerate_fchl_acsf\u001b[0;34m(nuclear_charges, coordinates, elements, nRs2, nRs3, nFourier, eta2, eta3, zeta, rcut, acut, two_body_decay, three_body_decay, three_body_weight, pad, gradients)\u001b[0m\n\u001b[1;32m    707\u001b[0m         (rep, grad) = fgenerate_fchl_acsf_and_gradients(coordinates, nuclear_charges, elements, Rs2, Rs3,\n\u001b[1;32m    708\u001b[0m                 \u001b[0mTs\u001b[0m\u001b[0;34m,\u001b[0m \u001b[0meta2\u001b[0m\u001b[0;34m,\u001b[0m \u001b[0meta3\u001b[0m\u001b[0;34m,\u001b[0m \u001b[0mzeta\u001b[0m\u001b[0;34m,\u001b[0m \u001b[0mrcut\u001b[0m\u001b[0;34m,\u001b[0m \u001b[0macut\u001b[0m\u001b[0;34m,\u001b[0m \u001b[0mnatoms\u001b[0m\u001b[0;34m,\u001b[0m \u001b[0mdescr_size\u001b[0m\u001b[0;34m,\u001b[0m\u001b[0;34m\u001b[0m\u001b[0;34m\u001b[0m\u001b[0m\n\u001b[0;32m--> 709\u001b[0;31m                 two_body_decay, three_body_decay, three_body_weight)\n\u001b[0m\u001b[1;32m    710\u001b[0m \u001b[0;34m\u001b[0m\u001b[0m\n\u001b[1;32m    711\u001b[0m \u001b[0;34m\u001b[0m\u001b[0m\n",
      "\u001b[0;31mKeyboardInterrupt\u001b[0m: "
     ]
    }
   ],
   "source": [
    "def do_optimisation(c, idx_A, idx_B):\n",
    "    stepsize = 0.001\n",
    "    maxstep = 200\n",
    "    \n",
    "    hist_ds = []\n",
    "    coordinates = c.coordinates.copy()\n",
    "    while len(hist_ds) < maxstep:\n",
    "        ds, gradds = distance_bn_nb(c.nuclear_charges, coordinates, idx_A, idx_B)\n",
    "        hist_ds.append(ds)\n",
    "        coordinates -= stepsize*gradds\n",
    "        #print ('step')\n",
    "    \n",
    "    plt.plot(hist_ds)\n",
    "    return coordinates\n",
    "äcprime = do_optimisation(c, 2, 5)"
   ]
  },
  {
   "cell_type": "code",
   "execution_count": 67,
   "metadata": {},
   "outputs": [
    {
     "name": "stdout",
     "output_type": "stream",
     "text": [
      "0.20655157542102706\n",
      "0.20655157542102706\n",
      "       Step     Time          Energy         fmax\n",
      "*Force-consistent energies used in optimization.\n",
      "LBFGS:    0 09:19:51        0.300633*       0.5787\n",
      "0.20655157542102706\n",
      "0.1996669761033748\n",
      "0.24227326686340464\n",
      "0.19942748664164384\n",
      "0.19942748664164384\n",
      "LBFGS:    1 09:19:55        0.287033*       0.6406\n",
      "0.19942748664164384\n",
      "0.17918845139288378\n",
      "0.14860944638108037\n",
      "0.14860944638108037\n",
      "LBFGS:    2 09:19:57        0.216197*       0.4963\n",
      "0.14860944638108037\n",
      "0.13117899543786152\n",
      "0.13117899543786152\n",
      "LBFGS:    3 09:19:59        0.199292*       0.4022\n",
      "0.13117899543786152\n",
      "0.11949344521901105\n",
      "0.10880653719488204\n",
      "0.11434840653022119\n",
      "0.11434840653022119\n",
      "LBFGS:    4 09:20:03        0.189415*       0.2827\n",
      "0.11434840653022119\n",
      "0.10443378109602137\n",
      "0.10278367478440686\n",
      "0.09979065653662764\n",
      "0.09979065653662764\n",
      "LBFGS:    5 09:20:06        0.180245*       0.2714\n",
      "0.09979065653662764\n",
      "0.09628275546679249\n",
      "0.09525252409795087\n",
      "0.09525252409795087\n",
      "LBFGS:    6 09:20:09        0.172955*       0.2640\n",
      "0.09525252409795087\n",
      "0.09263655148282876\n",
      "0.09045266074435326\n",
      "0.09045266074435326\n",
      "LBFGS:    7 09:20:12        0.167209*       0.2582\n",
      "0.09045266074435326\n",
      "0.08685518372106223\n",
      "0.08107100938552728\n",
      "0.08510501189719999\n",
      "0.08646022726196657\n",
      "0.08554357607162014\n",
      "0.08626789414897057\n",
      "0.08641972911691732\n",
      "0.08645169010792614\n",
      "0.08645842713539037\n",
      "0.0864598476701093\n",
      "0.08646014721667541\n",
      "0.08646021038261521\n",
      "0.08646022370257336\n",
      "0.086460226511388\n",
      "0.08646022710369043\n",
      "0.08646022722859048\n",
      "0.08646022725492841\n",
      "0.08646022726048247\n",
      "0.08646022726165357\n",
      "0.08646022726190049\n",
      "0.08646022726195265\n",
      "0.08646022726196356\n",
      "0.08646022726196147\n",
      "0.08646022726196333\n",
      "0.08646022726196356\n",
      "0.08646022726196356\n",
      "0.08646022726196356\n",
      "0.08646022726196356\n",
      "0.08646022726196356\n",
      "LBFGS:    8 09:20:30        0.166426*       0.2034\n"
     ]
    },
    {
     "data": {
      "text/plain": [
       "True"
      ]
     },
     "execution_count": 67,
     "metadata": {},
     "output_type": "execute_result"
    }
   ],
   "source": [
    "atm = ase.Atoms(numbers=c.nuclear_charges, positions=c.coordinates, calculator=GapCalc('../../dsgdb9nsd_050720.pdb'))\n",
    "atmref = ase.Atoms(numbers=c.nuclear_charges, positions=c.coordinates, calculator=GapCalc('../../dsgdb9nsd_050720.pdb'))\n",
    "dyn = LBFGS(atm, use_line_search=True,)\n",
    "dyn.run(fmax=0.25)"
   ]
  },
  {
   "cell_type": "code",
   "execution_count": 68,
   "metadata": {},
   "outputs": [
    {
     "data": {
      "text/plain": [
       "array([[-0.03189321,  0.13427755,  0.0167754 ],\n",
       "       [-0.0629335 , -0.05850615, -0.01872664],\n",
       "       [ 0.01969069, -0.05971492,  0.01913841],\n",
       "       [-0.005444  , -0.05217528, -0.02163958],\n",
       "       [ 0.04621834, -0.10826374, -0.02907813],\n",
       "       [ 0.01904115, -0.04848301,  0.00057136],\n",
       "       [-0.01314061, -0.05145481, -0.02981585],\n",
       "       [-0.01775651, -0.08523781, -0.06933683],\n",
       "       [-0.00822302,  0.08600102,  0.07717181],\n",
       "       [ 0.01415637, -0.125341  , -0.01009263],\n",
       "       [-0.04061174, -0.03715592, -0.02833843],\n",
       "       [ 0.04489624,  0.0421555 , -0.01921508],\n",
       "       [ 0.02366844, -0.08073166, -0.04307222],\n",
       "       [ 0.07050819,  0.06934328, -0.04292367],\n",
       "       [-0.09416186,  0.09133925, -0.06293956],\n",
       "       [-0.15441549,  0.01037028, -0.00768028],\n",
       "       [-0.02445943,  0.0080128 ,  0.01432407]])"
      ]
     },
     "execution_count": 68,
     "metadata": {},
     "output_type": "execute_result"
    }
   ],
   "source": [
    "atm.get_positions() - c.coordinates\n",
    "#distance_bn_nb(c.nuclear_charges, atm.get_positions(), 4, 2)"
   ]
  },
  {
   "cell_type": "code",
   "execution_count": 70,
   "metadata": {},
   "outputs": [
    {
     "data": {
      "text/html": [
       "<html>\n",
       "\n",
       " <head>\n",
       "\n",
       "  <title>ASE atomic visualization</title>\n",
       "\n",
       "  <link rel=\"stylesheet\" type=\"text/css\"\n",
       "\n",
       "   href=\"https://www.x3dom.org/x3dom/release/x3dom.css\">\n",
       "\n",
       "  </link>\n",
       "\n",
       "  <script type=\"text/javascript\"\n",
       "\n",
       "   src=\"https://www.x3dom.org/x3dom/release/x3dom.js\">\n",
       "\n",
       "  </script>\n",
       "\n",
       " </head>\n",
       "\n",
       " <body>\n",
       "\n",
       "  <X3D style=\"margin:0; padding:0; width:100%; height:100%; border:none;\">\n",
       "\n",
       "   <Scene>\n",
       "\n",
       "    <Transform translation=\"-0.02 1.45 0.19\">\n",
       "\n",
       "     <Shape>\n",
       "\n",
       "      <Appearance>\n",
       "\n",
       "       <Material diffuseColor=\"0.188 0.314 0.973\" specularColor=\"0.5 0.5 0.5\">\n",
       "\n",
       "       </Material>\n",
       "\n",
       "      </Appearance>\n",
       "\n",
       "      <Sphere radius=\"0.71\">\n",
       "\n",
       "      </Sphere>\n",
       "\n",
       "     </Shape>\n",
       "\n",
       "    </Transform>\n",
       "\n",
       "    <Transform translation=\"-0.02 0.01 -0.03\">\n",
       "\n",
       "     <Shape>\n",
       "\n",
       "      <Appearance>\n",
       "\n",
       "       <Material diffuseColor=\"0.565 0.565 0.565\" specularColor=\"0.5 0.5 0.5\">\n",
       "\n",
       "       </Material>\n",
       "\n",
       "      </Appearance>\n",
       "\n",
       "      <Sphere radius=\"0.76\">\n",
       "\n",
       "      </Sphere>\n",
       "\n",
       "     </Shape>\n",
       "\n",
       "    </Transform>\n",
       "\n",
       "    <Transform translation=\"1.32 -0.84 -0.13\">\n",
       "\n",
       "     <Shape>\n",
       "\n",
       "      <Appearance>\n",
       "\n",
       "       <Material diffuseColor=\"0.565 0.565 0.565\" specularColor=\"0.5 0.5 0.5\">\n",
       "\n",
       "       </Material>\n",
       "\n",
       "      </Appearance>\n",
       "\n",
       "      <Sphere radius=\"0.76\">\n",
       "\n",
       "      </Sphere>\n",
       "\n",
       "     </Shape>\n",
       "\n",
       "    </Transform>\n",
       "\n",
       "    <Transform translation=\"1.19 -1.92 -1.06\">\n",
       "\n",
       "     <Shape>\n",
       "\n",
       "      <Appearance>\n",
       "\n",
       "       <Material diffuseColor=\"1.000 0.051 0.051\" specularColor=\"0.5 0.5 0.5\">\n",
       "\n",
       "       </Material>\n",
       "\n",
       "      </Appearance>\n",
       "\n",
       "      <Sphere radius=\"0.66\">\n",
       "\n",
       "      </Sphere>\n",
       "\n",
       "     </Shape>\n",
       "\n",
       "    </Transform>\n",
       "\n",
       "    <Transform translation=\"0.13 -2.80 -0.75\">\n",
       "\n",
       "     <Shape>\n",
       "\n",
       "      <Appearance>\n",
       "\n",
       "       <Material diffuseColor=\"0.565 0.565 0.565\" specularColor=\"0.5 0.5 0.5\">\n",
       "\n",
       "       </Material>\n",
       "\n",
       "      </Appearance>\n",
       "\n",
       "      <Sphere radius=\"0.76\">\n",
       "\n",
       "      </Sphere>\n",
       "\n",
       "     </Shape>\n",
       "\n",
       "    </Transform>\n",
       "\n",
       "    <Transform translation=\"-1.18 -1.93 -0.87\">\n",
       "\n",
       "     <Shape>\n",
       "\n",
       "      <Appearance>\n",
       "\n",
       "       <Material diffuseColor=\"0.565 0.565 0.565\" specularColor=\"0.5 0.5 0.5\">\n",
       "\n",
       "       </Material>\n",
       "\n",
       "      </Appearance>\n",
       "\n",
       "      <Sphere radius=\"0.76\">\n",
       "\n",
       "      </Sphere>\n",
       "\n",
       "     </Shape>\n",
       "\n",
       "    </Transform>\n",
       "\n",
       "    <Transform translation=\"-1.17 -0.74 -0.04\">\n",
       "\n",
       "     <Shape>\n",
       "\n",
       "      <Appearance>\n",
       "\n",
       "       <Material diffuseColor=\"0.188 0.314 0.973\" specularColor=\"0.5 0.5 0.5\">\n",
       "\n",
       "       </Material>\n",
       "\n",
       "      </Appearance>\n",
       "\n",
       "      <Sphere radius=\"0.71\">\n",
       "\n",
       "      </Sphere>\n",
       "\n",
       "     </Shape>\n",
       "\n",
       "    </Transform>\n",
       "\n",
       "    <Transform translation=\"-2.30 -0.44 0.66\">\n",
       "\n",
       "     <Shape>\n",
       "\n",
       "      <Appearance>\n",
       "\n",
       "       <Material diffuseColor=\"0.565 0.565 0.565\" specularColor=\"0.5 0.5 0.5\">\n",
       "\n",
       "       </Material>\n",
       "\n",
       "      </Appearance>\n",
       "\n",
       "      <Sphere radius=\"0.76\">\n",
       "\n",
       "      </Sphere>\n",
       "\n",
       "     </Shape>\n",
       "\n",
       "    </Transform>\n",
       "\n",
       "    <Transform translation=\"-2.41 0.64 1.59\">\n",
       "\n",
       "     <Shape>\n",
       "\n",
       "      <Appearance>\n",
       "\n",
       "       <Material diffuseColor=\"1.000 0.051 0.051\" specularColor=\"0.5 0.5 0.5\">\n",
       "\n",
       "       </Material>\n",
       "\n",
       "      </Appearance>\n",
       "\n",
       "      <Sphere radius=\"0.66\">\n",
       "\n",
       "      </Sphere>\n",
       "\n",
       "     </Shape>\n",
       "\n",
       "    </Transform>\n",
       "\n",
       "    <Transform translation=\"0.98 1.56 0.17\">\n",
       "\n",
       "     <Shape>\n",
       "\n",
       "      <Appearance>\n",
       "\n",
       "       <Material diffuseColor=\"1.000 1.000 1.000\" specularColor=\"0.5 0.5 0.5\">\n",
       "\n",
       "       </Material>\n",
       "\n",
       "      </Appearance>\n",
       "\n",
       "      <Sphere radius=\"0.31\">\n",
       "\n",
       "      </Sphere>\n",
       "\n",
       "     </Shape>\n",
       "\n",
       "    </Transform>\n",
       "\n",
       "    <Transform translation=\"2.08 -0.19 -0.54\">\n",
       "\n",
       "     <Shape>\n",
       "\n",
       "      <Appearance>\n",
       "\n",
       "       <Material diffuseColor=\"1.000 1.000 1.000\" specularColor=\"0.5 0.5 0.5\">\n",
       "\n",
       "       </Material>\n",
       "\n",
       "      </Appearance>\n",
       "\n",
       "      <Sphere radius=\"0.31\">\n",
       "\n",
       "      </Sphere>\n",
       "\n",
       "     </Shape>\n",
       "\n",
       "    </Transform>\n",
       "\n",
       "    <Transform translation=\"1.61 -1.10 0.84\">\n",
       "\n",
       "     <Shape>\n",
       "\n",
       "      <Appearance>\n",
       "\n",
       "       <Material diffuseColor=\"1.000 1.000 1.000\" specularColor=\"0.5 0.5 0.5\">\n",
       "\n",
       "       </Material>\n",
       "\n",
       "      </Appearance>\n",
       "\n",
       "      <Sphere radius=\"0.31\">\n",
       "\n",
       "      </Sphere>\n",
       "\n",
       "     </Shape>\n",
       "\n",
       "    </Transform>\n",
       "\n",
       "    <Transform translation=\"0.12 -3.60 -1.47\">\n",
       "\n",
       "     <Shape>\n",
       "\n",
       "      <Appearance>\n",
       "\n",
       "       <Material diffuseColor=\"1.000 1.000 1.000\" specularColor=\"0.5 0.5 0.5\">\n",
       "\n",
       "       </Material>\n",
       "\n",
       "      </Appearance>\n",
       "\n",
       "      <Sphere radius=\"0.31\">\n",
       "\n",
       "      </Sphere>\n",
       "\n",
       "     </Shape>\n",
       "\n",
       "    </Transform>\n",
       "\n",
       "    <Transform translation=\"0.24 -3.02 0.26\">\n",
       "\n",
       "     <Shape>\n",
       "\n",
       "      <Appearance>\n",
       "\n",
       "       <Material diffuseColor=\"1.000 1.000 1.000\" specularColor=\"0.5 0.5 0.5\">\n",
       "\n",
       "       </Material>\n",
       "\n",
       "      </Appearance>\n",
       "\n",
       "      <Sphere radius=\"0.31\">\n",
       "\n",
       "      </Sphere>\n",
       "\n",
       "     </Shape>\n",
       "\n",
       "    </Transform>\n",
       "\n",
       "    <Transform translation=\"-1.42 -1.50 -1.98\">\n",
       "\n",
       "     <Shape>\n",
       "\n",
       "      <Appearance>\n",
       "\n",
       "       <Material diffuseColor=\"1.000 1.000 1.000\" specularColor=\"0.5 0.5 0.5\">\n",
       "\n",
       "       </Material>\n",
       "\n",
       "      </Appearance>\n",
       "\n",
       "      <Sphere radius=\"0.31\">\n",
       "\n",
       "      </Sphere>\n",
       "\n",
       "     </Shape>\n",
       "\n",
       "    </Transform>\n",
       "\n",
       "    <Transform translation=\"-2.22 -2.48 -0.58\">\n",
       "\n",
       "     <Shape>\n",
       "\n",
       "      <Appearance>\n",
       "\n",
       "       <Material diffuseColor=\"1.000 1.000 1.000\" specularColor=\"0.5 0.5 0.5\">\n",
       "\n",
       "       </Material>\n",
       "\n",
       "      </Appearance>\n",
       "\n",
       "      <Sphere radius=\"0.31\">\n",
       "\n",
       "      </Sphere>\n",
       "\n",
       "     </Shape>\n",
       "\n",
       "    </Transform>\n",
       "\n",
       "    <Transform translation=\"-3.12 -1.08 0.55\">\n",
       "\n",
       "     <Shape>\n",
       "\n",
       "      <Appearance>\n",
       "\n",
       "       <Material diffuseColor=\"1.000 1.000 1.000\" specularColor=\"0.5 0.5 0.5\">\n",
       "\n",
       "       </Material>\n",
       "\n",
       "      </Appearance>\n",
       "\n",
       "      <Sphere radius=\"0.31\">\n",
       "\n",
       "      </Sphere>\n",
       "\n",
       "     </Shape>\n",
       "\n",
       "    </Transform>\n",
       "\n",
       "   </Scene>\n",
       "\n",
       "  </X3D>\n",
       "\n",
       " </body>\n",
       "\n",
       "</html>\n",
       "\n"
      ],
      "text/plain": [
       "<IPython.core.display.HTML object>"
      ]
     },
     "execution_count": 70,
     "metadata": {},
     "output_type": "execute_result"
    }
   ],
   "source": [
    "view(atm, viewer='x3d')\n",
    "#import nglview\n",
    "#nglview.show_ase(atm)"
   ]
  },
  {
   "cell_type": "code",
   "execution_count": 52,
   "metadata": {},
   "outputs": [],
   "source": [
    "m = Chem.MolFromPDBFile('../../dsgdb9nsd_050720.pdb', removeHs=False)\n",
    "#m = Chem.MolFromPDBFile('../../benzene.pdb', removeHs=False)"
   ]
  },
  {
   "cell_type": "code",
   "execution_count": 63,
   "metadata": {},
   "outputs": [],
   "source": [
    "m = Chem.MolFromPDBFile('../../dsgdb9nsd_050720.pdb', removeHs=False)\n",
    "ffprop = ChemicalForceFields.MMFFGetMoleculeProperties(m)\n",
    "forcefield = ChemicalForceFields.MMFFGetMoleculeForceField(m, ffprop)"
   ]
  },
  {
   "cell_type": "code",
   "execution_count": 81,
   "metadata": {},
   "outputs": [
    {
     "data": {
      "text/plain": [
       "array([[-9.09209325e+01,  1.68600116e+01,  3.56993632e+00],\n",
       "       [ 2.10866099e+01,  8.28853018e+01,  1.62830173e+01],\n",
       "       [ 6.68977451e+00, -6.71020122e+00, -2.11993077e+01],\n",
       "       [ 6.52415747e+01, -2.01186408e+01, -7.07765738e+01],\n",
       "       [ 8.42463436e-01, -1.34776650e+01, -1.39986603e+01],\n",
       "       [-2.93208775e+00, -2.78113109e+01, -1.50210958e+01],\n",
       "       [-1.53506616e+01, -1.66590871e+01, -2.09248642e+00],\n",
       "       [-9.90759197e+00,  7.93036100e+01,  7.17728799e+01],\n",
       "       [-2.22757639e+01,  2.95503756e+01,  3.04735262e+01],\n",
       "       [ 1.03361490e+02,  4.83480373e+01,  2.26540782e+00],\n",
       "       [ 6.40050807e+01,  5.02526657e+01, -2.29172237e+01],\n",
       "       [ 2.10688236e+01, -1.96609884e+01,  8.34972811e+01],\n",
       "       [ 4.50862235e-03, -6.81456383e+01, -5.11523213e+01],\n",
       "       [ 2.69393770e-01, -3.88443034e+01,  7.92615583e+01],\n",
       "       [-1.26675065e+01,  1.51146422e+01, -8.40792931e+01],\n",
       "       [-6.92791941e+01, -4.58520786e+01,  1.84311840e+01],\n",
       "       [-5.92359807e+01, -6.50347302e+01, -2.43178287e+01]])"
      ]
     },
     "execution_count": 81,
     "metadata": {},
     "output_type": "execute_result"
    }
   ],
   "source": [
    "grad = np.array(forcefield.CalcGrad()).reshape(-1, 3)\n",
    "grad"
   ]
  },
  {
   "cell_type": "code",
   "execution_count": 68,
   "metadata": {},
   "outputs": [],
   "source": [
    "scales = []\n",
    "norms = []\n",
    "es = []\n",
    "for scale in np.linspace(0.5, 1.2, 10):\n",
    "    m = Chem.MolFromPDBFile('../../dsgdb9nsd_050720.pdb', removeHs=False)\n",
    "    ffprop = ChemicalForceFields.MMFFGetMoleculeProperties(m)\n",
    "    forcefield = ChemicalForceFields.MMFFGetMoleculeForceField(m, ffprop)\n",
    "    conf = m.GetConformer(0)\n",
    "    for atom in range(c.natoms):\n",
    "        conf.SetAtomPosition(atom, c.coordinates[atom]*scale)\n",
    "    grad = np.array(forcefield.CalcGrad()).reshape(-1, 3)\n",
    "    es.append(forcefield.CalcEnergy())\n",
    "    norms.append(np.linalg.norm(grad))\n",
    "    scales.append(scale)"
   ]
  },
  {
   "cell_type": "code",
   "execution_count": 72,
   "metadata": {},
   "outputs": [
    {
     "data": {
      "text/plain": [
       "[<matplotlib.lines.Line2D at 0x7f8021997240>]"
      ]
     },
     "execution_count": 72,
     "metadata": {},
     "output_type": "execute_result"
    },
    {
     "data": {
      "image/png": "[encoded data removed]",
      "text/plain": [
       "<Figure size 432x288 with 1 Axes>"
      ]
     },
     "metadata": {
      "needs_background": "light"
     },
     "output_type": "display_data"
    }
   ],
   "source": [
    "plt.plot(scales, norms)"
   ]
  },
  {
   "cell_type": "code",
   "execution_count": 34,
   "metadata": {},
   "outputs": [],
   "source": [
    "def ase_atoms_to_pyscf(ase_atoms):\n",
    "    return [ [ase_atoms.get_chemical_symbols()[i], ase_atoms.get_positions()[i]] for i in range(len(ase_atoms.get_positions()))]\n",
    "\n",
    "def get_hf_diff(atoms, A, B):\n",
    "    energies = []\n",
    "    for iA, iB in ((A, B), (B, A)):\n",
    "        atoms.numbers[iA] = 7\n",
    "        atoms.numbers[iB] = 5\n",
    "        pymol = pyscf.gto.Mole()\n",
    "        pymol.atom = ase_atoms_to_pyscf(atoms)\n",
    "        pymol.basis = '6-31G'\n",
    "        pymol.verbose = 0\n",
    "        pymol.build()\n",
    "        energies.append(pyscf.scf.RHF(pymol).kernel())\n",
    "    return energies[1] - energies[0]\n",
    "    "
   ]
  },
  {
   "cell_type": "code",
   "execution_count": 36,
   "metadata": {},
   "outputs": [
    {
     "data": {
      "text/plain": [
       "0.0144606513113672"
      ]
     },
     "execution_count": 36,
     "metadata": {},
     "output_type": "execute_result"
    }
   ],
   "source": [
    "get_hf_diff(atm, 4, 2)"
   ]
  },
  {
   "cell_type": "markdown",
   "metadata": {},
   "source": [
    "## Analysis"
   ]
  },
  {
   "cell_type": "code",
   "execution_count": 4,
   "metadata": {},
   "outputs": [],
   "source": [
    "import pandas as pd\n",
    "import matplotlib.pyplot as plt"
   ]
  },
  {
   "cell_type": "code",
   "execution_count": 5,
   "metadata": {},
   "outputs": [],
   "source": [
    "df = pd.read_csv('merged.log', sep=' ', names='step drep dener site1 site2 molid'.split())"
   ]
  },
  {
   "cell_type": "code",
   "execution_count": 48,
   "metadata": {},
   "outputs": [
    {
     "data": {
      "text/plain": [
       "(-5, 5)"
      ]
     },
     "execution_count": 48,
     "metadata": {},
     "output_type": "execute_result"
    },
    {
     "data": {
      "image/png": "[encoded data removed]",
      "text/plain": [
       "<Figure size 432x288 with 1 Axes>"
      ]
     },
     "metadata": {
      "needs_background": "light"
     },
     "output_type": "display_data"
    }
   ],
   "source": [
    "plt.scatter(df.drep, df.dener*630, s=2)\n",
    "plt.xlim(0, 0.01)\n",
    "plt.ylim(-5, 5)"
   ]
  },
  {
   "cell_type": "code",
   "execution_count": 51,
   "metadata": {},
   "outputs": [
    {
     "data": {
      "text/plain": [
       "<matplotlib.collections.PathCollection at 0x7f2434fa9a90>"
      ]
     },
     "execution_count": 51,
     "metadata": {},
     "output_type": "execute_result"
    },
    {
     "data": {
      "image/png": "[encoded data removed]",
      "text/plain": [
       "<Figure size 432x288 with 1 Axes>"
      ]
     },
     "metadata": {
      "needs_background": "light"
     },
     "output_type": "display_data"
    }
   ],
   "source": [
    "s = df.query('drep < 0.02 & step == \"init\"')\n",
    "plt.scatter(s.drep, s.dener*630, s=2)"
   ]
  },
  {
   "cell_type": "code",
   "execution_count": 52,
   "metadata": {},
   "outputs": [
    {
     "data": {
      "text/html": [
       "<div>\n",
       "<style scoped>\n",
       "    .dataframe tbody tr th:only-of-type {\n",
       "        vertical-align: middle;\n",
       "    }\n",
       "\n",
       "    .dataframe tbody tr th {\n",
       "        vertical-align: top;\n",
       "    }\n",
       "\n",
       "    .dataframe thead th {\n",
       "        text-align: right;\n",
       "    }\n",
       "</style>\n",
       "<table border=\"1\" class=\"dataframe\">\n",
       "  <thead>\n",
       "    <tr style=\"text-align: right;\">\n",
       "      <th></th>\n",
       "      <th>step</th>\n",
       "      <th>drep</th>\n",
       "      <th>dener</th>\n",
       "      <th>site1</th>\n",
       "      <th>site2</th>\n",
       "      <th>molid</th>\n",
       "    </tr>\n",
       "  </thead>\n",
       "  <tbody>\n",
       "    <tr>\n",
       "      <td>87343</td>\n",
       "      <td>init</td>\n",
       "      <td>-0.000000e+00</td>\n",
       "      <td>-1.468834e-10</td>\n",
       "      <td>5</td>\n",
       "      <td>7</td>\n",
       "      <td>17844</td>\n",
       "    </tr>\n",
       "    <tr>\n",
       "      <td>87307</td>\n",
       "      <td>init</td>\n",
       "      <td>-0.000000e+00</td>\n",
       "      <td>1.722356e-10</td>\n",
       "      <td>1</td>\n",
       "      <td>3</td>\n",
       "      <td>17844</td>\n",
       "    </tr>\n",
       "    <tr>\n",
       "      <td>63026</td>\n",
       "      <td>init</td>\n",
       "      <td>3.996803e-15</td>\n",
       "      <td>-4.235289e-09</td>\n",
       "      <td>4</td>\n",
       "      <td>5</td>\n",
       "      <td>41042</td>\n",
       "    </tr>\n",
       "    <tr>\n",
       "      <td>63440</td>\n",
       "      <td>init</td>\n",
       "      <td>7.327472e-15</td>\n",
       "      <td>-4.230060e-09</td>\n",
       "      <td>1</td>\n",
       "      <td>4</td>\n",
       "      <td>23715</td>\n",
       "    </tr>\n",
       "    <tr>\n",
       "      <td>5244</td>\n",
       "      <td>init</td>\n",
       "      <td>9.769963e-15</td>\n",
       "      <td>1.607532e-10</td>\n",
       "      <td>2</td>\n",
       "      <td>7</td>\n",
       "      <td>8565</td>\n",
       "    </tr>\n",
       "    <tr>\n",
       "      <td>...</td>\n",
       "      <td>...</td>\n",
       "      <td>...</td>\n",
       "      <td>...</td>\n",
       "      <td>...</td>\n",
       "      <td>...</td>\n",
       "      <td>...</td>\n",
       "    </tr>\n",
       "    <tr>\n",
       "      <td>24933</td>\n",
       "      <td>init</td>\n",
       "      <td>1.984346e-02</td>\n",
       "      <td>1.155531e-02</td>\n",
       "      <td>1</td>\n",
       "      <td>8</td>\n",
       "      <td>37831</td>\n",
       "    </tr>\n",
       "    <tr>\n",
       "      <td>103928</td>\n",
       "      <td>init</td>\n",
       "      <td>1.994027e-02</td>\n",
       "      <td>-5.446539e-04</td>\n",
       "      <td>4</td>\n",
       "      <td>5</td>\n",
       "      <td>14333</td>\n",
       "    </tr>\n",
       "    <tr>\n",
       "      <td>11648</td>\n",
       "      <td>init</td>\n",
       "      <td>1.995177e-02</td>\n",
       "      <td>-4.003199e-03</td>\n",
       "      <td>1</td>\n",
       "      <td>4</td>\n",
       "      <td>47305</td>\n",
       "    </tr>\n",
       "    <tr>\n",
       "      <td>13863</td>\n",
       "      <td>init</td>\n",
       "      <td>1.997820e-02</td>\n",
       "      <td>-3.361135e-03</td>\n",
       "      <td>2</td>\n",
       "      <td>8</td>\n",
       "      <td>127292</td>\n",
       "    </tr>\n",
       "    <tr>\n",
       "      <td>25755</td>\n",
       "      <td>init</td>\n",
       "      <td>1.999740e-02</td>\n",
       "      <td>4.414008e-03</td>\n",
       "      <td>5</td>\n",
       "      <td>7</td>\n",
       "      <td>46792</td>\n",
       "    </tr>\n",
       "  </tbody>\n",
       "</table>\n",
       "<p>2378 rows × 6 columns</p>\n",
       "</div>"
      ],
      "text/plain": [
       "        step          drep         dener  site1  site2   molid\n",
       "87343   init -0.000000e+00 -1.468834e-10      5      7   17844\n",
       "87307   init -0.000000e+00  1.722356e-10      1      3   17844\n",
       "63026   init  3.996803e-15 -4.235289e-09      4      5   41042\n",
       "63440   init  7.327472e-15 -4.230060e-09      1      4   23715\n",
       "5244    init  9.769963e-15  1.607532e-10      2      7    8565\n",
       "...      ...           ...           ...    ...    ...     ...\n",
       "24933   init  1.984346e-02  1.155531e-02      1      8   37831\n",
       "103928  init  1.994027e-02 -5.446539e-04      4      5   14333\n",
       "11648   init  1.995177e-02 -4.003199e-03      1      4   47305\n",
       "13863   init  1.997820e-02 -3.361135e-03      2      8  127292\n",
       "25755   init  1.999740e-02  4.414008e-03      5      7   46792\n",
       "\n",
       "[2378 rows x 6 columns]"
      ]
     },
     "execution_count": 52,
     "metadata": {},
     "output_type": "execute_result"
    }
   ],
   "source": [
    "s.sort_values('drep')"
   ]
  },
  {
   "cell_type": "code",
   "execution_count": 55,
   "metadata": {},
   "outputs": [],
   "source": [
    "# maybe FCHL is too restrictive on distances, add CM \n",
    "basepath = '/mnt/c/Users/guido/data/qm9/'\n",
    "fns = pd.read_csv(basepath + 'index', names=['fn']).fn.values\n"
   ]
  },
  {
   "cell_type": "code",
   "execution_count": 60,
   "metadata": {},
   "outputs": [
    {
     "data": {
      "text/plain": [
       "[[1, 2, 11.123569681203662],\n",
       " [1, 4, 12.89233078860838],\n",
       " [1, 5, 10.694346132285483],\n",
       " [1, 7, 14.169376876514287],\n",
       " [2, 4, 4.1594491965910505],\n",
       " [2, 5, 7.097405110091855],\n",
       " [2, 7, 10.290123610350832],\n",
       " [4, 5, 7.700039344164439],\n",
       " [4, 7, 10.145304503223088],\n",
       " [5, 7, 15.103001476400632]]"
      ]
     },
     "execution_count": 60,
     "metadata": {},
     "output_type": "execute_result"
    }
   ],
   "source": [
    "def get_site_similarity(c):\n",
    "    atoms = np.where(c.nuclear_charges == 6)[0]\n",
    "    a = qml.representations.generate_coulomb_matrix(c.nuclear_charges, c.coordinates, size=c.natoms, sorting='unsorted')\n",
    "    s = np.zeros((c.natoms, c.natoms))\n",
    "    s[np.tril_indices(c.natoms)] = a\n",
    "    d = np.diag(s)\n",
    "    s += s.T\n",
    "    s[np.diag_indices(c.natoms)] = d\n",
    "    sorted_elements = [np.sort(_) for _ in s[atoms]]\n",
    "    ret = []\n",
    "    for i in range(len(atoms)):\n",
    "            for j in range(i+1, len(atoms)):\n",
    "                dist = np.linalg.norm(sorted_elements[i] - sorted_elements[j])\n",
    "                ret.append([atoms[i], atoms[j], dist])\n",
    "    return ret\n",
    "get_site_similarity(c)"
   ]
  },
  {
   "cell_type": "code",
   "execution_count": 77,
   "metadata": {},
   "outputs": [],
   "source": [
    "import functools\n",
    "@functools.lru_cache(maxsize=3000)\n",
    "def get_similarities(molid):\n",
    "    fn = [_ for _ in fns if '%06d' % molid in _][0]\n",
    "    c = qml.data.compound.Compound(basepath + fn)\n",
    "    return get_site_similarity(c)\n",
    "    \n",
    "def get_cm_dist(row):\n",
    "    try:\n",
    "        sim = get_similarities(row['molid'])\n",
    "    except:\n",
    "        return None\n",
    "    for item in sim:\n",
    "        if item[0] == row['site1'] and item[1] == row['site2']:\n",
    "            return item[2]"
   ]
  },
  {
   "cell_type": "code",
   "execution_count": 78,
   "metadata": {},
   "outputs": [],
   "source": [
    "s = df.query('step==\"init\"').copy()\n",
    "cmdist = s.apply(get_cm_dist, axis=1)"
   ]
  },
  {
   "cell_type": "code",
   "execution_count": 79,
   "metadata": {},
   "outputs": [],
   "source": [
    "s['cmdist'] = cmdist"
   ]
  },
  {
   "cell_type": "code",
   "execution_count": 82,
   "metadata": {},
   "outputs": [
    {
     "data": {
      "text/plain": [
       "<matplotlib.collections.PathCollection at 0x7f2430aa35f8>"
      ]
     },
     "execution_count": 82,
     "metadata": {},
     "output_type": "execute_result"
    },
    {
     "data": {
      "image/png": "[encoded data removed]",
      "text/plain": [
       "<Figure size 432x288 with 1 Axes>"
      ]
     },
     "metadata": {
      "needs_background": "light"
     },
     "output_type": "display_data"
    }
   ],
   "source": [
    "plt.scatter(s.cmdist, s.dener, s=2)"
   ]
  },
  {
   "cell_type": "code",
   "execution_count": null,
   "metadata": {},
   "outputs": [],
   "source": []
  }
 ],
 "metadata": {
  "kernelspec": {
   "display_name": "Python [conda env:qml-dev]",
   "language": "python",
   "name": "conda-env-qml-dev-py"
  },
  "language_info": {
   "codemirror_mode": {
    "name": "ipython",
    "version": 3
   },
   "file_extension": ".py",
   "mimetype": "text/x-python",
   "name": "python",
   "nbconvert_exporter": "python",
   "pygments_lexer": "ipython3",
   "version": "3.6.9"
  }
 },
 "nbformat": 4,
 "nbformat_minor": 4
}
