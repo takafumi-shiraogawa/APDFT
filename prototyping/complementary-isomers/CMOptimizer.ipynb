{
 "cells": [
  {
   "cell_type": "markdown",
   "metadata": {},
   "source": [
    "Purpose:\n",
    "CM gradient optimisation of site similarity"
   ]
  },
  {
   "cell_type": "code",
   "execution_count": 6,
   "metadata": {},
   "outputs": [],
   "source": [
    "# dependencies\n",
    "from rdkit import Chem\n",
    "from rdkit.Chem import AllChem, ChemicalForceFields\n",
    "from rdkit.Chem import rdmolfiles\n",
    "\n",
    "import qml\n",
    "import ase\n",
    "import ase.calculators\n",
    "from ase.optimize import LBFGS\n",
    "\n",
    "import numpy as np\n",
    "\n",
    "import matplotlib.pyplot as plt\n",
    "import pyscf\n",
    "import pyscf.gto\n",
    "import pyscf.qmmm\n",
    "import pyscf.scf\n",
    "import pyscf.dft\n",
    "import pyscf.lib"
   ]
  },
  {
   "cell_type": "code",
   "execution_count": 80,
   "metadata": {},
   "outputs": [],
   "source": [
    "def _distance_bn_nb(charges, positions, idxA, idxB):\n",
    "    size = 30\n",
    "    q = charges.copy()\n",
    "    q[[idxA, idxB]] = (5, 7)\n",
    "    a = qml.representations.generate_coulomb_matrix(q, positions, size=size, sorting='row-norm')\n",
    "    q = charges.copy()\n",
    "    q[[idxA, idxB]] = (7, 5)\n",
    "    b = qml.representations.generate_coulomb_matrix(q, positions, size=size, sorting='row-norm')\n",
    "    return np.linalg.norm(a-b)\n",
    "\n",
    "def distance_bn_nb(charges, positions, idxA, idxB):\n",
    "    size = 30\n",
    "    q = charges.copy()\n",
    "    atomic = qml.representations.generate_atomic_coulomb_matrix(q, positions, sorting = 'row-norm', \n",
    "            interaction_cutoff=3, central_cutoff=3, interaction_decay=1, central_decay=1)\n",
    "    return np.linalg.norm(atomic[idxA] - atomic[idxB])\n",
    "\n",
    "class CMGapCalc(ase.calculators.calculator.Calculator):\n",
    "    implemented_properties = 'energy forces'.split()\n",
    "    \n",
    "    def __init__(self, pdbfile):\n",
    "        self._pdbfile = pdbfile\n",
    "        self._nevals = 0\n",
    "        self._damping = 50\n",
    "    \n",
    "    def _do_E(self, positions):\n",
    "        ds = distance_bn_nb(c.nuclear_charges, positions, 4, 2)\n",
    "        \n",
    "        # add UFFs\n",
    "        self._ffmol = Chem.MolFromPDBFile(self._pdbfile, removeHs=False)\n",
    "        self._ffprop = ChemicalForceFields.MMFFGetMoleculeProperties(self._ffmol)\n",
    "        self._ff = ChemicalForceFields.MMFFGetMoleculeForceField(self._ffmol, self._ffprop)\n",
    "        conf = self._ffmol.GetConformer(0)\n",
    "        for atom in range(len(positions)):\n",
    "            conf.SetAtomPosition(atom, positions[atom])\n",
    "        uffE = self._ff.CalcEnergy()\n",
    "        \n",
    "        return uffE/self._damping, ds\n",
    "    \n",
    "    def _do_Em(self, positions):\n",
    "        es = self._do_E(positions)\n",
    "        return es[0] + es[1]\n",
    "    \n",
    "    def get_potential_energy(self, atoms=None, force_consistent=False):\n",
    "        positions = atoms.get_positions()\n",
    "        return self._do_Em(positions)\n",
    "    \n",
    "    def get_forces(self, atoms=None):\n",
    "        gradient = np.zeros(atoms.get_positions().shape)\n",
    "        delta = 0.001\n",
    "        positions = atoms.get_positions()\n",
    "        for dim in range(3):\n",
    "            for atom in range(len(atoms.get_positions())):\n",
    "                fwd = positions.copy()\n",
    "                fwd[atom, dim] += delta\n",
    "                bwd = positions.copy()\n",
    "                bwd[atom, dim] -= delta\n",
    "                gradient[atom, dim] = (self._do_Em(fwd) - self._do_Em(bwd))/(2*delta)\n",
    "        return -gradient\n",
    "                "
   ]
  },
  {
   "cell_type": "code",
   "execution_count": 81,
   "metadata": {},
   "outputs": [
    {
     "name": "stdout",
     "output_type": "stream",
     "text": [
      "       Step     Time          Energy         fmax\n",
      "*Force-consistent energies used in optimization.\n",
      "LBFGS:    0 13:12:32       24.465848*     103.1243\n",
      "(1.740490347284067, 22.725357638055566)\n",
      "LBFGS:    1 13:12:32       15.570154*      36.6942\n",
      "(1.5279814452798925, 14.04217225693431)\n",
      "LBFGS:    2 13:12:32       14.004051*      32.4305\n",
      "(1.5073154944636724, 12.49673502788322)\n",
      "LBFGS:    3 13:12:33        8.756255*      30.3302\n",
      "(1.3284441588723328, 7.4278108551998585)\n",
      "LBFGS:    4 13:12:33        7.471236*      16.0422\n",
      "(1.3052220292964278, 6.1660142310564945)\n",
      "LBFGS:    5 13:12:33        6.616807*      18.7870\n",
      "(1.381850524702943, 5.234956055122412)\n",
      "LBFGS:    6 13:12:34        5.033591*      15.5345\n",
      "(1.6721129495957348, 3.3614782964699943)\n",
      "LBFGS:    7 13:12:34        3.491148*      14.5958\n",
      "(1.9923601184351987, 1.498787797221844)\n",
      "LBFGS:    8 13:12:35        3.134331*      10.1220\n",
      "(2.070590374447442, 1.0637405589166313)\n",
      "LBFGS:    9 13:12:40        3.015481*     658.9367\n",
      "(2.0507042767715418, 0.9647769678626974)\n",
      "LBFGS:   10 13:12:48        3.015472*     658.9369\n",
      "(2.0507027892886365, 0.9647689529779366)\n",
      "LBFGS:   11 13:12:49        3.774094*     658.9369\n",
      "(2.0507027810189844, 1.723391134619656)\n",
      "LBFGS:   12 13:12:51        3.684581*       6.1413\n",
      "(2.0522963690139435, 1.632284637057361)\n",
      "LBFGS:   13 13:12:51        3.400649*       7.3428\n",
      "(2.0962076288578344, 1.3044410296616449)\n",
      "LBFGS:   14 13:12:51        3.127459*       9.0917\n",
      "(2.3436979453187687, 0.7837611693559032)\n",
      "LBFGS:   15 13:12:52        2.773791*       4.5290\n",
      "(2.353812985947107, 0.41997787149614)\n",
      "LBFGS:   16 13:12:52        2.713009*       6.2770\n",
      "(2.3312946999922444, 0.381714475114145)\n",
      "LBFGS:   17 13:12:56        2.639381*    5191.5764\n",
      "(2.1951950085009444, 0.4441860805094816)\n",
      "LBFGS:   18 13:12:57        2.639381*    5191.5758\n",
      "(2.1951941480812756, 0.44418724514890373)\n"
     ]
    },
    {
     "ename": "RuntimeError",
     "evalue": "LineSearch failed!",
     "output_type": "error",
     "traceback": [
      "\u001b[0;31m---------------------------------------------------------------------------\u001b[0m",
      "\u001b[0;31mRuntimeError\u001b[0m                              Traceback (most recent call last)",
      "\u001b[0;32m<ipython-input-81-508bedb9160c>\u001b[0m in \u001b[0;36m<module>\u001b[0;34m\u001b[0m\n\u001b[1;32m     16\u001b[0m \u001b[0mdyn\u001b[0m \u001b[0;34m=\u001b[0m \u001b[0mLBFGS\u001b[0m\u001b[0;34m(\u001b[0m\u001b[0matm\u001b[0m\u001b[0;34m,\u001b[0m \u001b[0muse_line_search\u001b[0m\u001b[0;34m=\u001b[0m\u001b[0;32mTrue\u001b[0m\u001b[0;34m,\u001b[0m\u001b[0;34m)\u001b[0m\u001b[0;34m\u001b[0m\u001b[0;34m\u001b[0m\u001b[0m\n\u001b[1;32m     17\u001b[0m \u001b[0mdyn\u001b[0m\u001b[0;34m.\u001b[0m\u001b[0mattach\u001b[0m\u001b[0;34m(\u001b[0m\u001b[0mlogtraj\u001b[0m\u001b[0;34m,\u001b[0m \u001b[0minterval\u001b[0m\u001b[0;34m=\u001b[0m\u001b[0;36m1\u001b[0m\u001b[0;34m)\u001b[0m\u001b[0;34m\u001b[0m\u001b[0;34m\u001b[0m\u001b[0m\n\u001b[0;32m---> 18\u001b[0;31m \u001b[0mdyn\u001b[0m\u001b[0;34m.\u001b[0m\u001b[0mrun\u001b[0m\u001b[0;34m(\u001b[0m\u001b[0mfmax\u001b[0m\u001b[0;34m=\u001b[0m\u001b[0;36m0.25\u001b[0m\u001b[0;34m)\u001b[0m\u001b[0;34m\u001b[0m\u001b[0;34m\u001b[0m\u001b[0m\n\u001b[0m",
      "\u001b[0;32m~/miniconda3/envs/analysis/lib/python3.6/site-packages/ase/optimize/optimize.py\u001b[0m in \u001b[0;36mrun\u001b[0;34m(self, fmax, steps)\u001b[0m\n\u001b[1;32m    200\u001b[0m               generator.\"\"\"\n\u001b[1;32m    201\u001b[0m \u001b[0;34m\u001b[0m\u001b[0m\n\u001b[0;32m--> 202\u001b[0;31m         \u001b[0;32mfor\u001b[0m \u001b[0mconverged\u001b[0m \u001b[0;32min\u001b[0m \u001b[0mself\u001b[0m\u001b[0;34m.\u001b[0m\u001b[0mirun\u001b[0m\u001b[0;34m(\u001b[0m\u001b[0mfmax\u001b[0m\u001b[0;34m,\u001b[0m \u001b[0msteps\u001b[0m\u001b[0;34m)\u001b[0m\u001b[0;34m:\u001b[0m\u001b[0;34m\u001b[0m\u001b[0;34m\u001b[0m\u001b[0m\n\u001b[0m\u001b[1;32m    203\u001b[0m             \u001b[0;32mpass\u001b[0m\u001b[0;34m\u001b[0m\u001b[0;34m\u001b[0m\u001b[0m\n\u001b[1;32m    204\u001b[0m         \u001b[0;32mreturn\u001b[0m \u001b[0mconverged\u001b[0m\u001b[0;34m\u001b[0m\u001b[0;34m\u001b[0m\u001b[0m\n",
      "\u001b[0;32m~/miniconda3/envs/analysis/lib/python3.6/site-packages/ase/optimize/optimize.py\u001b[0m in \u001b[0;36mirun\u001b[0;34m(self, fmax, steps)\u001b[0m\n\u001b[1;32m    183\u001b[0m                 \u001b[0;32myield\u001b[0m \u001b[0;32mTrue\u001b[0m\u001b[0;34m\u001b[0m\u001b[0;34m\u001b[0m\u001b[0m\n\u001b[1;32m    184\u001b[0m                 \u001b[0;32mreturn\u001b[0m\u001b[0;34m\u001b[0m\u001b[0;34m\u001b[0m\u001b[0m\n\u001b[0;32m--> 185\u001b[0;31m             \u001b[0mself\u001b[0m\u001b[0;34m.\u001b[0m\u001b[0mstep\u001b[0m\u001b[0;34m(\u001b[0m\u001b[0mf\u001b[0m\u001b[0;34m)\u001b[0m\u001b[0;34m\u001b[0m\u001b[0;34m\u001b[0m\u001b[0m\n\u001b[0m\u001b[1;32m    186\u001b[0m             \u001b[0;32myield\u001b[0m \u001b[0;32mFalse\u001b[0m\u001b[0;34m\u001b[0m\u001b[0;34m\u001b[0m\u001b[0m\n\u001b[1;32m    187\u001b[0m             \u001b[0mself\u001b[0m\u001b[0;34m.\u001b[0m\u001b[0mnsteps\u001b[0m \u001b[0;34m+=\u001b[0m \u001b[0;36m1\u001b[0m\u001b[0;34m\u001b[0m\u001b[0;34m\u001b[0m\u001b[0m\n",
      "\u001b[0;32m~/miniconda3/envs/analysis/lib/python3.6/site-packages/ase/optimize/lbfgs.py\u001b[0m in \u001b[0;36mstep\u001b[0;34m(self, f)\u001b[0m\n\u001b[1;32m    142\u001b[0m         \u001b[0;32mif\u001b[0m \u001b[0mself\u001b[0m\u001b[0;34m.\u001b[0m\u001b[0muse_line_search\u001b[0m \u001b[0;32mis\u001b[0m \u001b[0;32mTrue\u001b[0m\u001b[0;34m:\u001b[0m\u001b[0;34m\u001b[0m\u001b[0;34m\u001b[0m\u001b[0m\n\u001b[1;32m    143\u001b[0m             \u001b[0me\u001b[0m \u001b[0;34m=\u001b[0m \u001b[0mself\u001b[0m\u001b[0;34m.\u001b[0m\u001b[0mfunc\u001b[0m\u001b[0;34m(\u001b[0m\u001b[0mr\u001b[0m\u001b[0;34m)\u001b[0m\u001b[0;34m\u001b[0m\u001b[0;34m\u001b[0m\u001b[0m\n\u001b[0;32m--> 144\u001b[0;31m             \u001b[0mself\u001b[0m\u001b[0;34m.\u001b[0m\u001b[0mline_search\u001b[0m\u001b[0;34m(\u001b[0m\u001b[0mr\u001b[0m\u001b[0;34m,\u001b[0m \u001b[0mg\u001b[0m\u001b[0;34m,\u001b[0m \u001b[0me\u001b[0m\u001b[0;34m)\u001b[0m\u001b[0;34m\u001b[0m\u001b[0;34m\u001b[0m\u001b[0m\n\u001b[0m\u001b[1;32m    145\u001b[0m             \u001b[0mdr\u001b[0m \u001b[0;34m=\u001b[0m \u001b[0;34m(\u001b[0m\u001b[0mself\u001b[0m\u001b[0;34m.\u001b[0m\u001b[0malpha_k\u001b[0m \u001b[0;34m*\u001b[0m \u001b[0mself\u001b[0m\u001b[0;34m.\u001b[0m\u001b[0mp\u001b[0m\u001b[0;34m)\u001b[0m\u001b[0;34m.\u001b[0m\u001b[0mreshape\u001b[0m\u001b[0;34m(\u001b[0m\u001b[0mlen\u001b[0m\u001b[0;34m(\u001b[0m\u001b[0mself\u001b[0m\u001b[0;34m.\u001b[0m\u001b[0matoms\u001b[0m\u001b[0;34m)\u001b[0m\u001b[0;34m,\u001b[0m \u001b[0;34m-\u001b[0m\u001b[0;36m1\u001b[0m\u001b[0;34m)\u001b[0m\u001b[0;34m\u001b[0m\u001b[0;34m\u001b[0m\u001b[0m\n\u001b[1;32m    146\u001b[0m         \u001b[0;32melse\u001b[0m\u001b[0;34m:\u001b[0m\u001b[0;34m\u001b[0m\u001b[0;34m\u001b[0m\u001b[0m\n",
      "\u001b[0;32m~/miniconda3/envs/analysis/lib/python3.6/site-packages/ase/optimize/lbfgs.py\u001b[0m in \u001b[0;36mline_search\u001b[0;34m(self, r, g, e)\u001b[0m\n\u001b[1;32m    236\u001b[0m                             c2=.46, stpmax=50.)\n\u001b[1;32m    237\u001b[0m         \u001b[0;32mif\u001b[0m \u001b[0mself\u001b[0m\u001b[0;34m.\u001b[0m\u001b[0malpha_k\u001b[0m \u001b[0;32mis\u001b[0m \u001b[0;32mNone\u001b[0m\u001b[0;34m:\u001b[0m\u001b[0;34m\u001b[0m\u001b[0;34m\u001b[0m\u001b[0m\n\u001b[0;32m--> 238\u001b[0;31m             \u001b[0;32mraise\u001b[0m \u001b[0mRuntimeError\u001b[0m\u001b[0;34m(\u001b[0m\u001b[0;34m'LineSearch failed!'\u001b[0m\u001b[0;34m)\u001b[0m\u001b[0;34m\u001b[0m\u001b[0;34m\u001b[0m\u001b[0m\n\u001b[0m\u001b[1;32m    239\u001b[0m \u001b[0;34m\u001b[0m\u001b[0m\n\u001b[1;32m    240\u001b[0m \u001b[0;34m\u001b[0m\u001b[0m\n",
      "\u001b[0;31mRuntimeError\u001b[0m: LineSearch failed!"
     ]
    }
   ],
   "source": [
    "c = qml.Compound('../../dsgdb9nsd_050720_2.xyz')\n",
    "atm = ase.Atoms(numbers=c.nuclear_charges, positions=c.coordinates, calculator=CMGapCalc('../../dsgdb9nsd_050720.pdb'))\n",
    "atmref = ase.Atoms(numbers=c.nuclear_charges, positions=c.coordinates, calculator=CMGapCalc('../../dsgdb9nsd_050720.pdb'))\n",
    "import os\n",
    "try:\n",
    "    os.unlink('log.xyz')\n",
    "except:\n",
    "    pass\n",
    "def logtraj(a=atm):\n",
    "    pos = atm.get_positions()\n",
    "    print (atm.calc._do_E(pos))\n",
    "    with open('log.xyz', 'a') as fh:\n",
    "        fh.write('%d\\n\\n' % len(pos))\n",
    "        for aidx in range(len(pos)):\n",
    "            fh.write('%s %f %f %f\\n' % (c.atomtypes[aidx], pos[aidx, 0], pos[aidx, 1], pos[aidx, 2]))\n",
    "dyn = LBFGS(atm, use_line_search=True,)\n",
    "dyn.attach(logtraj, interval=1)\n",
    "dyn.run(fmax=0.25)"
   ]
  },
  {
   "cell_type": "code",
   "execution_count": 70,
   "metadata": {},
   "outputs": [
    {
     "data": {
      "text/plain": [
       "array([[-0.00519709,  1.38351915,  0.55083979],\n",
       "       [ 0.01928775,  0.06300246, -0.11756584],\n",
       "       [ 1.50632371, -0.83750034, -0.23393918],\n",
       "       [ 1.35535077, -2.02147951, -1.02799277],\n",
       "       [ 0.22292707, -2.84167351, -0.71294744],\n",
       "       [-1.25139625, -1.8926082 , -0.64106735],\n",
       "       [-1.033549  , -0.83263039,  0.39223986],\n",
       "       [-2.26133058, -0.09573088,  0.64825078],\n",
       "       [-3.13442351, -0.78326454,  1.5293486 ],\n",
       "       [ 0.76626226,  1.92707087,  0.15985663],\n",
       "       [ 2.22633035, -0.18719491, -0.74450142],\n",
       "       [ 1.89281084, -1.03525653,  0.7829967 ],\n",
       "       [ 0.08562664, -3.55093445, -1.53499655],\n",
       "       [ 0.32442581, -3.40552033,  0.23108971],\n",
       "       [-1.52167343, -1.32278247, -1.61553396],\n",
       "       [-2.44296293, -2.33402891, -0.39500499],\n",
       "       [-2.81441818,  0.17929862, -0.25575288]])"
      ]
     },
     "execution_count": 70,
     "metadata": {},
     "output_type": "execute_result"
    }
   ],
   "source": [
    "atm.get_positions()"
   ]
  },
  {
   "cell_type": "code",
   "execution_count": 71,
   "metadata": {},
   "outputs": [],
   "source": [
    "def get_electronic_energy(nuclear_charges, coordinates):\n",
    "    mol = gto.Mole(verbose=0)\n",
    "    mol.build(atom=list(zip(nuclear_charges, coordinates)), basis='631G')\n",
    "    calc = pyscf.scf.RHF(mol)\n",
    "    total = calc.scf()\n",
    "    \n",
    "    return total-mol.energy_nuc()"
   ]
  },
  {
   "cell_type": "code",
   "execution_count": 79,
   "metadata": {},
   "outputs": [
    {
     "name": "stdout",
     "output_type": "stream",
     "text": [
      "0.7307480791357648\n"
     ]
    }
   ],
   "source": [
    "for atomobj in (atm, ):\n",
    "    q = c.nuclear_charges.copy()\n",
    "    q[[2, 4]] = (5, 7)\n",
    "    E1 = get_electronic_energy(q, atomobj.get_positions())\n",
    "    q = c.nuclear_charges.copy()\n",
    "    q[[2, 4]] = (7, 5)\n",
    "    E2 = get_electronic_energy(q, atomobj.get_positions())\n",
    "    print (abs(E1-E2))"
   ]
  },
  {
   "cell_type": "code",
   "execution_count": null,
   "metadata": {},
   "outputs": [],
   "source": [
    "# ref: 0.8064662384433632"
   ]
  }
 ],
 "metadata": {
  "kernelspec": {
   "display_name": "Python [conda env:analysis]",
   "language": "python",
   "name": "conda-env-analysis-py"
  },
  "language_info": {
   "codemirror_mode": {
    "name": "ipython",
    "version": 3
   },
   "file_extension": ".py",
   "mimetype": "text/x-python",
   "name": "python",
   "nbconvert_exporter": "python",
   "pygments_lexer": "ipython3",
   "version": "3.6.8"
  }
 },
 "nbformat": 4,
 "nbformat_minor": 4
}
