{
 "cells": [
  {
   "cell_type": "code",
   "execution_count": 75,
   "metadata": {},
   "outputs": [],
   "source": [
    "import numpy as np\n",
    "import psi4\n",
    "psi4.set_memory('2 GB')\n",
    "import scipy.spatial.transform as sst"
   ]
  },
  {
   "cell_type": "code",
   "execution_count": 2,
   "metadata": {},
   "outputs": [],
   "source": [
    "elements = 'CHHCHHCHHCHH'\n",
    "coords = np.array((-0.80582974850563949, -0.73660437274591195, 0.07486479611839635,-1.25002541558480607, -1.11272962173038881, 1.00207583520636812,-1.30963477283345409, -1.22704114377832951, -0.76427319948392614,-0.73948232221053856, 0.80621170581959434, -0.02721954739247012,-1.20426086103227648, 1.22328096314051415, -0.92640498379068181,-1.14465150378362801, 1.33759248518845486, 0.83994405089961199,0.80582974850607436, 0.73660437274574542, -0.07486479611840029,1.25002541558439595, 1.11272962173114265, -1.00207583520640320,1.30963477283304441, 1.22704114377908335, 0.76427319948389105,0.73948232221097354, -0.80621170581976120, 0.02721954739246620,1.14465150378406300, -1.33759248518862206, -0.83994405089961599,1.20426086103179153, -1.22328096314152246, 0.92640498379076364,)).reshape(-1, 3)"
   ]
  },
  {
   "cell_type": "code",
   "execution_count": 72,
   "metadata": {},
   "outputs": [],
   "source": [
    "def build_geo(alpha_left, alpha_right, phi):\n",
    "    geo = coords.copy()\n",
    "       \n",
    "    # alpha_left\n",
    "    axis = np.cross(geo[6]-geo[3], geo[0]-geo[3])\n",
    "    rot_full = sst.Rotation.from_rotvec(alpha_left * axis / np.linalg.norm(axis))\n",
    "    rot_half = sst.Rotation.from_rotvec(alpha_left * axis / np.linalg.norm(axis) / 2)\n",
    "    com = geo[3].copy()\n",
    "    geo -= com\n",
    "    geo[:3] = rot_full.apply(geo[:3])\n",
    "    geo[3:6] = rot_half.apply(geo[3:6])\n",
    "    geo += com\n",
    "    \n",
    "    # alpha_right\n",
    "    axis = np.cross(geo[6]-geo[3], geo[0]-geo[3])\n",
    "    rot_full = sst.Rotation.from_rotvec(-alpha_right * axis / np.linalg.norm(axis))\n",
    "    rot_half = sst.Rotation.from_rotvec(-alpha_right * axis / np.linalg.norm(axis) / 2)\n",
    "    com = geo[6].copy()\n",
    "    geo -= com\n",
    "    geo[9:] = rot_full.apply(geo[9:])\n",
    "    geo[6:9] = rot_half.apply(geo[6:9])\n",
    "    geo += com\n",
    "    \n",
    "    \n",
    "    # phi\n",
    "    axis = geo[3] - geo[6]\n",
    "    com = geo[6].copy()\n",
    "    rot = sst.Rotation.from_rotvec(phi * axis / np.linalg.norm(axis))\n",
    "    geo -= com\n",
    "    geo[6:] = rot.apply(geo[6:])\n",
    "    geo += com\n",
    "    \n",
    "    return geo\n",
    "\n",
    "def get_elements(modification):\n",
    "    up_elem = list(elements[:])\n",
    "    dn_elem = list(elements[:])\n",
    "    for idx, letter in enumerate(modification):\n",
    "        up_elem[idx*3] = letter\n",
    "        if letter == 'N':\n",
    "            dn_elem[idx*3] = 'B'\n",
    "        else:\n",
    "            dn_elem[idx*3] = 'N'\n",
    "    return up_elem, dn_elem\n",
    "\n",
    "def get_line(modification, alpha_left, alpha_right, phi):\n",
    "    geo = build_geo(2*np.pi/360*alpha_left, 2*np.pi/360*alpha_right, 2*np.pi/360*phi)\n",
    "    \n",
    "    this_elements = get_elements(modification)\n",
    "    energies = []\n",
    "    for direction in range(2):\n",
    "        molstr = ''\n",
    "        for elem, pos in zip(this_elements[direction], geo):\n",
    "            molstr += '%s %.15f %.15f %.15f\\n' % (elem, *pos)\n",
    "        mol = psi4.geometry(molstr)\n",
    "        mol.update_geometry()\n",
    "        energies.append(psi4.energy('HF/6-31G*', molecule=mol))\n",
    "    print (modification, alpha_left, alpha_right, phi, energies[0] - energies[1])"
   ]
  },
  {
   "cell_type": "code",
   "execution_count": 74,
   "metadata": {},
   "outputs": [
    {
     "name": "stdout",
     "output_type": "stream",
     "text": [
      "NBBN 10 10 10 0.13543411000125616\n",
      "BNBN 0 10 10 -0.005233591943238025\n"
     ]
    }
   ],
   "source": [
    "alpha = 10\n",
    "phi = 10\n",
    "get_line('NBBN', alpha, alpha, phi)\n",
    "get_line('BNBN', 0, alpha, phi)"
   ]
  }
 ],
 "metadata": {
  "kernelspec": {
   "display_name": "Python [conda env:p4env]",
   "language": "python",
   "name": "conda-env-p4env-py"
  },
  "language_info": {
   "codemirror_mode": {
    "name": "ipython",
    "version": 3
   },
   "file_extension": ".py",
   "mimetype": "text/x-python",
   "name": "python",
   "nbconvert_exporter": "python",
   "pygments_lexer": "ipython3",
   "version": "3.6.8"
  }
 },
 "nbformat": 4,
 "nbformat_minor": 4
}
