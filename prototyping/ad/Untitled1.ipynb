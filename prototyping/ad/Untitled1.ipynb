{
 "cells": [
  {
   "cell_type": "markdown",
   "metadata": {},
   "source": [
    "First, we have the general form of a Taylor expansion\n",
    "$$E(\\Delta\\lambda) = \\sum_n \\frac{1}{n!} \\left.\\frac{\\partial^n E}{\\partial \\lambda^n}\\right|_{\\lambda=0}\\Delta\\lambda^n$$\n",
    "For a combined alchemical and spatial expansion, this can be \n",
    "$$\\frac{\\partial E}{\\partial \\lambda} = \\sum_I \\frac{\\partial E}{\\partial R_I} + \\sum_I \\frac{\\partial E}{\\partial Z_I}$$\n",
    "where\n",
    "$$\\frac{\\partial E}{\\partial Z_I} = \\int_\\Omega dr \\Delta V\\rho$$\n",
    "and the other term is the forces. For second order, we have\n",
    "$$\\frac{\\partial^2 E}{\\partial \\lambda^2} = \\frac{\\partial}{\\partial \\lambda}\\left[\\sum_I \\frac{\\partial E}{\\partial R_I} + \\sum_I \\frac{\\partial E}{\\partial Z_I}\\right]$$"
   ]
  },
  {
   "cell_type": "markdown",
   "metadata": {},
   "source": [
    "$$=\\sum_J \\frac{\\partial}{\\partial R_I}\\left[\\sum_I \\frac{\\partial E}{\\partial R_I} + \\sum_I \\frac{\\partial E}{\\partial Z_I}\\right] + \\sum_J \\frac{\\partial}{\\partial Z_I}\\left[\\sum_I \\frac{\\partial E}{\\partial R_I} + \\sum_I \\frac{\\partial E}{\\partial Z_I}\\right]$$"
   ]
  },
  {
   "cell_type": "markdown",
   "metadata": {},
   "source": [
    "$$=$$"
   ]
  }
 ],
 "metadata": {
  "kernelspec": {
   "display_name": "Python [conda env:analysis]",
   "language": "python",
   "name": "conda-env-analysis-py"
  },
  "language_info": {
   "codemirror_mode": {
    "name": "ipython",
    "version": 3
   },
   "file_extension": ".py",
   "mimetype": "text/x-python",
   "name": "python",
   "nbconvert_exporter": "python",
   "pygments_lexer": "ipython3",
   "version": "3.6.10"
  }
 },
 "nbformat": 4,
 "nbformat_minor": 4
}
