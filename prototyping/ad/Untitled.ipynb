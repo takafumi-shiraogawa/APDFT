{
 "cells": [
  {
   "cell_type": "code",
   "execution_count": 2,
   "metadata": {},
   "outputs": [],
   "source": [
    "import autograd.numpy as np\n",
    "from autograd import grad, elementwise_grad, jacobian"
   ]
  },
  {
   "cell_type": "code",
   "execution_count": 40,
   "metadata": {},
   "outputs": [],
   "source": [
    "import numpy\n",
    "numpy = np\n",
    "import pyscf\n",
    "import pyscf.gto\n",
    "import pyscf.qmmm\n",
    "import pyscf.scf\n",
    "import functools\n",
    "\n",
    "def spc(lval):\n",
    "    deltaZ = np.array((0, 1))*lval\n",
    "    mol = pyscf.gto.M(atom=[[1, (0, 0, 0)], [1, (0, 0, 1)]] , basis='STO-3G', verbose=0)\n",
    "    \n",
    "\n",
    "    calc = pyscf.scf.RHF(mol)\n",
    "    calc.conv_tol = 1e-14\n",
    "    calc.conv_tol_grad = 1e-12\n",
    "\n",
    "    #return calc.kernel()\n",
    "    #return calc.make_rdm1()[0,0]\n",
    "    mf = pyscf.qmmm.mm_charge(calc, mol.atom_coords()/(1 / 0.52917721067), deltaZ)  \n",
    "    class NoSelfQMMM(mf.__class__):\n",
    "            def energy_nuc(self):\n",
    "                    return (1+deltaZ[0])*(1+deltaZ[1])/(1/0.52917721067)\n",
    "    mf = NoSelfQMMM()\n",
    "    hfe=mf.kernel(direct=False)\n",
    "    #return hfe\n",
    "    return mf.make_rdm1()[0,0]"
   ]
  },
  {
   "cell_type": "code",
   "execution_count": 41,
   "metadata": {},
   "outputs": [],
   "source": [
    "a, b = spc(0.1), spc(0.)"
   ]
  },
  {
   "cell_type": "code",
   "execution_count": 42,
   "metadata": {},
   "outputs": [
    {
     "data": {
      "text/plain": [
       "-0.5104570244043466"
      ]
     },
     "execution_count": 42,
     "metadata": {},
     "output_type": "execute_result"
    }
   ],
   "source": [
    "(a-b)/0.1/2"
   ]
  },
  {
   "cell_type": "code",
   "execution_count": 35,
   "metadata": {},
   "outputs": [
    {
     "data": {
      "text/plain": [
       "array([[0.33411635, 0.33411635],\n",
       "       [0.33411635, 0.33411635]])"
      ]
     },
     "execution_count": 35,
     "metadata": {},
     "output_type": "execute_result"
    }
   ],
   "source": [
    "spc(0.0)/2"
   ]
  },
  {
   "cell_type": "code",
   "execution_count": 31,
   "metadata": {},
   "outputs": [
    {
     "data": {
      "text/plain": [
       "0.10755823891434912"
      ]
     },
     "execution_count": 31,
     "metadata": {},
     "output_type": "execute_result"
    }
   ],
   "source": [
    "a-b"
   ]
  },
  {
   "cell_type": "code",
   "execution_count": null,
   "metadata": {},
   "outputs": [],
   "source": []
  }
 ],
 "metadata": {
  "kernelspec": {
   "display_name": "Python [conda env:ad3]",
   "language": "python",
   "name": "conda-env-ad3-py"
  },
  "language_info": {
   "codemirror_mode": {
    "name": "ipython",
    "version": 3
   },
   "file_extension": ".py",
   "mimetype": "text/x-python",
   "name": "python",
   "nbconvert_exporter": "python",
   "pygments_lexer": "ipython3",
   "version": "3.6.9"
  }
 },
 "nbformat": 4,
 "nbformat_minor": 4
}
