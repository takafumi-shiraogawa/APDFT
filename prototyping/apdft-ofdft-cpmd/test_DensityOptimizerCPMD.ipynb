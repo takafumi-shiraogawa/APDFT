{
 "cells": [
  {
   "cell_type": "code",
   "execution_count": 1,
   "metadata": {},
   "outputs": [],
   "source": [
    "import ase.units as au\n",
    "from matplotlib import pyplot as plt\n",
    "import numpy as np\n",
    "import os\n",
    "import shutil\n",
    "import sys\n",
    "import subprocess\n",
    "\n",
    "sys.path.insert(0, '/home/misa/git_repositories/APDFT/prototyping/apdft-ofdft-cpmd/')\n",
    "import profess_io as pio\n",
    "from density_calculators  import DensityOptimizer as DO\n",
    "from density_calculators  import DensityOptimizerCPMD as DOC\n",
    "from cpmd import initialize_atoms"
   ]
  },
  {
   "cell_type": "code",
   "execution_count": 2,
   "metadata": {},
   "outputs": [],
   "source": [
    "# initialize\n",
    "pos_file = '/home/misa/software/PROFESS-1/calculate_gradient/job.ion'\n",
    "vel_file = '/home/misa/git_repositories/PROFESS/test/MD_NVE/saved/vel_step0.dat'\n",
    "cell_param = [[3.9691, 0, 0], [0, 3.9691, 0], [0, 0, 3.9691]]\n",
    "atoms = initialize_atoms(pos_file, vel_file, cell_param, pos_type='FRAC')"
   ]
  },
  {
   "cell_type": "code",
   "execution_count": 3,
   "metadata": {},
   "outputs": [],
   "source": [
    "DOC_Test = DOC()\n",
    "dt = 0.1\n",
    "inpt_name = 'job'\n",
    "mu = 1\n",
    "wd = '/home/misa/software/PROFESS-1/calculate_gradient'\n",
    "DOC_Test.initialize(atoms, dt, inpt_name, mu, wd)\n",
    "DOC_Test.optimize(500)"
   ]
  },
  {
   "cell_type": "code",
   "execution_count": 4,
   "metadata": {},
   "outputs": [],
   "source": [
    "DO_Test = DO()\n",
    "dt = 0.1\n",
    "mu = 1\n",
    "wd = '/home/misa/software/PROFESS-1/calculate_gradient'\n",
    "DO_Test.initialize(atoms, dt, mu, wd)\n",
    "DO_Test.optimize(500)"
   ]
  },
  {
   "cell_type": "code",
   "execution_count": 5,
   "metadata": {},
   "outputs": [
    {
     "data": {
      "text/plain": [
       "True"
      ]
     },
     "execution_count": 5,
     "metadata": {},
     "output_type": "execute_result"
    }
   ],
   "source": [
    "np.array_equal(np.array(DOC_Test.energies), np.array(DO_Test.energies))"
   ]
  },
  {
   "cell_type": "code",
   "execution_count": null,
   "metadata": {},
   "outputs": [],
   "source": [
    "DOC_Test = DOC()\n",
    "dt = 0.1\n",
    "mu = 1\n",
    "wd = '/home/misa/software/PROFESS-1/calculate_gradient'\n",
    "DOC_Test.initialize(atoms, dt, mu, wd)\n",
    "DOC_Test.optimize_vv(500)"
   ]
  },
  {
   "cell_type": "code",
   "execution_count": 6,
   "metadata": {},
   "outputs": [
    {
     "data": {
      "text/plain": [
       "[<matplotlib.lines.Line2D at 0x7f4731f82048>]"
      ]
     },
     "execution_count": 6,
     "metadata": {},
     "output_type": "execute_result"
    },
    {
     "data": {
      "image/png": "[encoded data removed]",
      "text/plain": [
       "<Figure size 432x288 with 1 Axes>"
      ]
     },
     "metadata": {
      "needs_background": "light"
     },
     "output_type": "display_data"
    }
   ],
   "source": [
    "plt.plot(DOC_Test.energies)\n",
    "plt.plot(DO_Test.energies)"
   ]
  },
  {
   "cell_type": "code",
   "execution_count": null,
   "metadata": {},
   "outputs": [],
   "source": []
  }
 ],
 "metadata": {
  "kernelspec": {
   "display_name": "Python [conda env:atomic-energies]",
   "language": "python",
   "name": "conda-env-atomic-energies-py"
  },
  "language_info": {
   "codemirror_mode": {
    "name": "ipython",
    "version": 3
   },
   "file_extension": ".py",
   "mimetype": "text/x-python",
   "name": "python",
   "nbconvert_exporter": "python",
   "pygments_lexer": "ipython3",
   "version": "3.7.3"
  }
 },
 "nbformat": 4,
 "nbformat_minor": 4
}
