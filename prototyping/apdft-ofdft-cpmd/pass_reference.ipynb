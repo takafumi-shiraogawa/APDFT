{
 "cells": [
  {
   "cell_type": "code",
   "execution_count": 1,
   "metadata": {},
   "outputs": [],
   "source": [
    "from profess_calculator import PROFESS\n",
    "import profess_io as pio\n",
    "from cpmd import initialize_atoms\n",
    "from ase import units\n",
    "import os\n",
    "# import pixiedust\n",
    "import numpy as np"
   ]
  },
  {
   "cell_type": "code",
   "execution_count": 2,
   "metadata": {},
   "outputs": [
    {
     "name": "stdout",
     "output_type": "stream",
     "text": [
      "ID of calc.atoms is equal to ID of atoms: True\n",
      "ID of calc.atoms is equal to ID of atoms: False\n"
     ]
    }
   ],
   "source": [
    "# initialize\n",
    "pos_file = '/home/misa/git_repositories/PROFESS/test/MD_NVE/saved/ion_step0.dat'\n",
    "vel_file = '/home/misa/git_repositories/PROFESS/test/MD_NVE/saved/vel_step0.dat'\n",
    "cell_param = [[3.97, 0, 0], [0, 3.97, 0], [0, 0, 3.97]]\n",
    "atoms = initialize_atoms(pos_file, vel_file, cell_param, pos_type='FRAC')\n",
    "# set parameters for PROFESS calculation\n",
    "run_dir = '/home/misa/git_repositories/PROFESS/test/ase_singlepoint'\n",
    "inpt_name = 'sp'\n",
    "pp_names = ['al_HC.lda.recpot']\n",
    "# print('ID of atoms', id(atoms))\n",
    "calc = PROFESS(run_dir, inpt_name, pp_names, atoms)\n",
    "print('ID of calc.atoms is equal to ID of atoms:', id(calc.atoms)==id(atoms) )\n",
    "atoms.calc = calc\n",
    "print('ID of calc.atoms is equal to ID of atoms:', id(calc.atoms)==id(atoms) )"
   ]
  },
  {
   "cell_type": "markdown",
   "metadata": {},
   "source": [
    "every object in python has a unique id\n",
    "atoms = initialize_atoms(pos_file, vel_file, cell_param, pos_type='FRAC') -> atoms has an id\n",
    "PROFESS(...) the atoms object in PROFESS has the same id because it is a reference\n",
    "\n",
    "atoms.calc = PROFESS()\n",
    "\n",
    "now the ID of the atoms object has to change because otherwise an infinite generation of calculators, atom pairs is triggered:\n",
    "\n",
    "if atoms has a calculator, calc.atoms would also need a calculator (like calc.atoms.calc) but this would change atoms again to atoms.calc.atoms.calc, which would then change the atoms object in atoms.calc.atoms and so on\n",
    "\n",
    "This issue can be solved by adding an empty calculator to the atoms object in the first step\n",
    "\n",
    "Then calc.atoms is changed from None to calc.atoms = atoms\n",
    "\n",
    "This gives the desired behaviour (a change of atoms.positions also causes a change of atoms.calc.positions but it is still a little bit strange because now the object ID of atoms belongs to atoms which has calc as an attribute and to atoms.calc.atoms which is an attribute of calc (and also of itself)"
   ]
  },
  {
   "cell_type": "code",
   "execution_count": 3,
   "metadata": {},
   "outputs": [
    {
     "name": "stdout",
     "output_type": "stream",
     "text": [
      "ID of calc.atoms is equal to ID of atoms: True\n"
     ]
    }
   ],
   "source": [
    "# initialize\n",
    "pos_file = '/home/misa/git_repositories/PROFESS/test/MD_NVE/saved/ion_step0.dat'\n",
    "vel_file = '/home/misa/git_repositories/PROFESS/test/MD_NVE/saved/vel_step0.dat'\n",
    "cell_param = [[3.97, 0, 0], [0, 3.97, 0], [0, 0, 3.97]]\n",
    "atoms = initialize_atoms(pos_file, vel_file, cell_param, pos_type='FRAC')\n",
    "\n",
    "# set parameters for PROFESS calculation\n",
    "run_dir = '/home/misa/git_repositories/PROFESS/test/ase_singlepoint'\n",
    "inpt_name = 'sp'\n",
    "pp_names = ['al_HC.lda.recpot']\n",
    "\n",
    "# make empty calculator\n",
    "calc = PROFESS()\n",
    "# pass calculator to atoms object\n",
    "atoms.calc = calc\n",
    "atoms.calc.initialize(run_dir, inpt_name, pp_names, atoms)\n",
    "print('ID of calc.atoms is equal to ID of atoms:', id(calc.atoms)==id(atoms) )"
   ]
  },
  {
   "cell_type": "code",
   "execution_count": 29,
   "metadata": {},
   "outputs": [
    {
     "data": {
      "text/plain": [
       "array([[0.99253956, 0.89124982, 0.98606693],\n",
       "       [2.98958857, 3.26704632, 0.99976539],\n",
       "       [0.99244286, 2.89935623, 3.01363036],\n",
       "       [2.965429  , 0.88234755, 2.94053733]])"
      ]
     },
     "execution_count": 29,
     "metadata": {},
     "output_type": "execute_result"
    }
   ],
   "source": [
    "atoms.get_positions()"
   ]
  },
  {
   "cell_type": "code",
   "execution_count": 30,
   "metadata": {},
   "outputs": [
    {
     "data": {
      "text/plain": [
       "array([[0.99253956, 0.89124982, 0.98606693],\n",
       "       [2.98958857, 3.26704632, 0.99976539],\n",
       "       [0.99244286, 2.89935623, 3.01363036],\n",
       "       [2.965429  , 0.88234755, 2.94053733]])"
      ]
     },
     "execution_count": 30,
     "metadata": {},
     "output_type": "execute_result"
    }
   ],
   "source": [
    "atoms.calc.atoms.get_positions()"
   ]
  },
  {
   "cell_type": "code",
   "execution_count": 31,
   "metadata": {},
   "outputs": [
    {
     "data": {
      "text/plain": [
       "array([[1.98507913, 1.78249963, 1.97213386],\n",
       "       [5.97917713, 6.53409264, 1.99953077],\n",
       "       [1.98488572, 5.79871246, 6.02726072],\n",
       "       [5.930858  , 1.76469509, 5.88107466]])"
      ]
     },
     "execution_count": 31,
     "metadata": {},
     "output_type": "execute_result"
    }
   ],
   "source": [
    "atoms.set_positions(atoms.get_positions()*2)\n",
    "atoms.get_positions()"
   ]
  },
  {
   "cell_type": "code",
   "execution_count": 32,
   "metadata": {},
   "outputs": [
    {
     "data": {
      "text/plain": [
       "array([[1.98507913, 1.78249963, 1.97213386],\n",
       "       [5.97917713, 6.53409264, 1.99953077],\n",
       "       [1.98488572, 5.79871246, 6.02726072],\n",
       "       [5.930858  , 1.76469509, 5.88107466]])"
      ]
     },
     "execution_count": 32,
     "metadata": {},
     "output_type": "execute_result"
    }
   ],
   "source": [
    "calc.atoms.get_positions()"
   ]
  }
 ],
 "metadata": {
  "kernelspec": {
   "display_name": "Python [conda env:atomic-energies]",
   "language": "python",
   "name": "conda-env-atomic-energies-py"
  },
  "language_info": {
   "codemirror_mode": {
    "name": "ipython",
    "version": 3
   },
   "file_extension": ".py",
   "mimetype": "text/x-python",
   "name": "python",
   "nbconvert_exporter": "python",
   "pygments_lexer": "ipython3",
   "version": "3.7.3"
  }
 },
 "nbformat": 4,
 "nbformat_minor": 4
}
