{
 "cells": [
  {
   "cell_type": "markdown",
   "metadata": {},
   "source": [
    "#### read atom positions from .ion file"
   ]
  },
  {
   "cell_type": "code",
   "execution_count": null,
   "metadata": {},
   "outputs": [],
   "source": [
    "def parse_ion_file(file):\n",
    "    positions = []\n",
    "    with open(file, 'r') as f:\n",
    "        for line in f:\n",
    "            if not 'BLOCK POSITIONS' in line:\n",
    "                pass\n",
    "            else:\n",
    "                positions = parse_position_section(f)\n",
    "                break\n",
    "    return(positions)\n",
    "                \n",
    "def parse_position_section(fs):\n",
    "    pos = []\n",
    "    for line in fs:\n",
    "        if not 'END BLOCK POSITIONS' in line:\n",
    "            coords = line.split()[1:4]\n",
    "            coords = [float(c) for c in coords]\n",
    "            pos.append(coords)\n",
    "        else:\n",
    "            break\n",
    "    return(pos)"
   ]
  },
  {
   "cell_type": "code",
   "execution_count": null,
   "metadata": {},
   "outputs": [],
   "source": [
    "file = '/home/misa/git_repositories/PROFESS/test/MD_NVE/saved/ion_step0.dat'\n",
    "pos = parse_ion_file(file)\n",
    "pos"
   ]
  },
  {
   "cell_type": "code",
   "execution_count": null,
   "metadata": {},
   "outputs": [],
   "source": [
    "file = '/home/misa/git_repositories/PROFESS/test/MD_NVE/md_nve.ion'\n",
    "parse_ion_file(file)"
   ]
  },
  {
   "cell_type": "markdown",
   "metadata": {},
   "source": [
    "#### read velocities from PROFESS"
   ]
  },
  {
   "cell_type": "code",
   "execution_count": null,
   "metadata": {},
   "outputs": [],
   "source": [
    "def parse_velocity_file(file):\n",
    "    velocities = None\n",
    "    with open(file, 'r') as f:\n",
    "        for line in f:\n",
    "            if not 'ION VELOCITIES (a.u.)' in line:\n",
    "                pass\n",
    "            else:\n",
    "                velocities = parse_velocity_section(f)\n",
    "                break\n",
    "    return(velocities)\n",
    "                \n",
    "def parse_velocity_section(fs):\n",
    "    velocities = []\n",
    "    for line in fs:\n",
    "        velocities_atom = line.split()\n",
    "        velocities_atom = [float(v) for v in velocities_atom]\n",
    "        velocities.append(velocities_atom)\n",
    "    return(velocities)"
   ]
  },
  {
   "cell_type": "code",
   "execution_count": null,
   "metadata": {},
   "outputs": [],
   "source": [
    "file = '/home/misa/git_repositories/PROFESS/test/MD_NVE/saved/vel_step0.dat'\n",
    "vel = parse_velocity_file(file)\n",
    "vel"
   ]
  },
  {
   "cell_type": "markdown",
   "metadata": {},
   "source": [
    "#### read forces from PROFESS"
   ]
  },
  {
   "cell_type": "code",
   "execution_count": null,
   "metadata": {},
   "outputs": [],
   "source": [
    "def parse_force_file(file):\n",
    "    forces = []\n",
    "    with open(file, 'r') as f:\n",
    "        for line in f:\n",
    "            if not 'TOTAL-FORCE' in line:\n",
    "                pass\n",
    "            else:\n",
    "                f.readline()\n",
    "                f.readline()\n",
    "                forces = parse_force_section(f)\n",
    "                break\n",
    "    return(forces)\n",
    "\n",
    "def parse_force_section(f):\n",
    "    forces = []\n",
    "    for line in f:\n",
    "        if not '........' in line:\n",
    "            forces_atom = line.split()[2:5]\n",
    "            forces_atom = [float(for_a) for for_a in forces_atom]\n",
    "            forces.append(forces_atom)\n",
    "        else:\n",
    "            break\n",
    "    return(forces)"
   ]
  },
  {
   "cell_type": "code",
   "execution_count": null,
   "metadata": {},
   "outputs": [],
   "source": [
    "file = '/home/misa/git_repositories/PROFESS/test/MD_NVE/saved/force_step0.dat'\n",
    "parse_force_file(file)"
   ]
  },
  {
   "cell_type": "markdown",
   "metadata": {},
   "source": [
    "#### generate profess .ion from ase output"
   ]
  },
  {
   "cell_type": "code",
   "execution_count": 3,
   "metadata": {},
   "outputs": [],
   "source": [
    "import numpy as np"
   ]
  },
  {
   "cell_type": "code",
   "execution_count": 10,
   "metadata": {},
   "outputs": [],
   "source": [
    "def generate_cell_section(cell_par):\n",
    "    cell_section = []\n",
    "    cell_section.append('%BLOCK LATTICE_CART\\n')\n",
    "    for cell_vec in cell_par:\n",
    "        cell_vec_string = '\\t' + '\\t'.join(map(str, cell_vec))\n",
    "        cell_section.append(cell_vec_string+'\\n')\n",
    "    cell_section.append('%END BLOCK LATTICE_CART\\n')\n",
    "    return(cell_section)\n",
    "\n",
    "def generate_position_section(atom_types, positions, pos_type):\n",
    "    positions_section = []\n",
    "    positions_section.append(f'%BLOCK POSITIONS_{pos_type}\\n')\n",
    "    \n",
    "    for at, pos in zip(atom_types, positions):\n",
    "        atom_string = f'\\t{at}\\t' + '\\t'.join(map(str, pos))\n",
    "        positions_section.append(atom_string+'\\n')\n",
    "    positions_section.append(f'%END BLOCK POSITIONS_{pos_type}\\n')\n",
    "    return(positions_section)\n",
    "\n",
    "def generate_pp_section(elements, pp_names):\n",
    "    pp_section = []\n",
    "    pp_section.append('%BLOCK SPECIES_POT\\n')\n",
    "    for el, pp in zip(elements, pp_names):\n",
    "        pp_section.append(f'\\t{el}\\t{pp}\\n')\n",
    "    pp_section.append('%END BLOCK SPECIES_POT\\n')\n",
    "    return(pp_section)\n",
    "    \n",
    "def generate_ion_file(cell_par, atom_types, positions, pos_type, pp):\n",
    "    cell_section = generate_cell_section(cell_par)\n",
    "    position_section = generate_position_section(atom_types, positions, pos_type)\n",
    "    elements = set(atom_types)\n",
    "    pp_section= generate_pp_section(elements, pp)\n",
    "    ion_file = cell_section + position_section + pp_section\n",
    "    return(ion_file)\n",
    "\n",
    "def write_file(fname, fcontent):\n",
    "    with open(fname, 'w') as f:\n",
    "        f.writelines(fcontent)"
   ]
  },
  {
   "cell_type": "code",
   "execution_count": 11,
   "metadata": {},
   "outputs": [],
   "source": [
    "cell_params = np.array([[3.97, 0, 0], [0, 3.97, 0], [0, 0, 3.97]])\n",
    "# write_cell_section(cell_param)"
   ]
  },
  {
   "cell_type": "code",
   "execution_count": 12,
   "metadata": {},
   "outputs": [],
   "source": [
    "pos = np.array([[0.99670699, 0.95965284, 0.93381647],\n",
    "       [3.09466771, 3.01576909, 1.03638038],\n",
    "       [0.99267473, 3.08283329, 3.33323517],\n",
    "       [2.85587579, 0.88164602, 2.63676545]])\n",
    "atoms = ['Al', 'Al', 'Al', 'Al']\n",
    "# write_position_section(atom_types, positions, 'CART')"
   ]
  },
  {
   "cell_type": "code",
   "execution_count": 13,
   "metadata": {},
   "outputs": [],
   "source": [
    "# write_pp_section(set(atom_types), ['al_HC.lda.recpot'])"
   ]
  },
  {
   "cell_type": "code",
   "execution_count": 14,
   "metadata": {},
   "outputs": [],
   "source": [
    "ion_file = generate_ion_file(cell_params, atoms, pos, 'CART', ['al_HC.lda.recpot'])\n",
    "write_file('/home/misa/git_repositories/PROFESS/test/MD_NVE/test.ion', ion_file)"
   ]
  },
  {
   "cell_type": "code",
   "execution_count": 15,
   "metadata": {},
   "outputs": [
    {
     "data": {
      "text/plain": [
       "['%BLOCK LATTICE_CART\\n',\n",
       " '\\t3.97\\t0.0\\t0.0\\n',\n",
       " '\\t0.0\\t3.97\\t0.0\\n',\n",
       " '\\t0.0\\t0.0\\t3.97\\n',\n",
       " '%END BLOCK LATTICE_CART\\n',\n",
       " '%BLOCK POSITIONS_CART\\n',\n",
       " '\\tAl\\t0.99670699\\t0.95965284\\t0.93381647\\n',\n",
       " '\\tAl\\t3.09466771\\t3.01576909\\t1.03638038\\n',\n",
       " '\\tAl\\t0.99267473\\t3.08283329\\t3.33323517\\n',\n",
       " '\\tAl\\t2.85587579\\t0.88164602\\t2.63676545\\n',\n",
       " '%END BLOCK POSITIONS_CART\\n',\n",
       " '%BLOCK SPECIES_POT\\n',\n",
       " '\\tAl\\tal_HC.lda.recpot\\n',\n",
       " '%END BLOCK SPECIES_POT\\n']"
      ]
     },
     "execution_count": 15,
     "metadata": {},
     "output_type": "execute_result"
    }
   ],
   "source": [
    "ion_file"
   ]
  },
  {
   "cell_type": "markdown",
   "metadata": {},
   "source": [
    "#### write .ion file"
   ]
  },
  {
   "cell_type": "code",
   "execution_count": 3,
   "metadata": {},
   "outputs": [],
   "source": [
    "import profess_io as pio\n",
    "import numpy as np"
   ]
  },
  {
   "cell_type": "code",
   "execution_count": 9,
   "metadata": {},
   "outputs": [],
   "source": [
    "cell_params = np.array([[3.97, 0, 0], [0, 3.97, 0], [0, 0, 3.97]])\n",
    "pos = np.array([[0.99670699, 0.95965284, 0.93381647],\n",
    "       [3.09466771, 3.01576909, 1.03638038],\n",
    "       [0.99267473, 3.08283329, 3.33323517],\n",
    "       [2.85587579, 0.88164602, 2.63676545]])\n",
    "atoms = ['Al', 'Al', 'Al', 'Al']\n",
    "file = pio.generate_ion_file(cell_params, atoms, pos, 'CART', ['al_HC.lda.recpot'])\n",
    "pio.write_file('/home/misa/git_repositories/PROFESS/test/MD_NVE/test.ion', file)"
   ]
  },
  {
   "cell_type": "markdown",
   "metadata": {},
   "source": [
    "#### read .out file"
   ]
  },
  {
   "cell_type": "code",
   "execution_count": 2,
   "metadata": {},
   "outputs": [
    {
     "data": {
      "text/plain": [
       "-230.9273466291"
      ]
     },
     "execution_count": 2,
     "metadata": {},
     "output_type": "execute_result"
    }
   ],
   "source": [
    "import profess_io as pio\n",
    "pio.parse_out_file('/home/misa/git_repositories/PROFESS/test/ase_singlepoint/sp.out', 'TOTAL ENERGY')"
   ]
  },
  {
   "cell_type": "code",
   "execution_count": null,
   "metadata": {},
   "outputs": [],
   "source": []
  }
 ],
 "metadata": {
  "kernelspec": {
   "display_name": "Python [conda env:atomic-energies]",
   "language": "python",
   "name": "conda-env-atomic-energies-py"
  },
  "language_info": {
   "codemirror_mode": {
    "name": "ipython",
    "version": 3
   },
   "file_extension": ".py",
   "mimetype": "text/x-python",
   "name": "python",
   "nbconvert_exporter": "python",
   "pygments_lexer": "ipython3",
   "version": "3.7.3"
  }
 },
 "nbformat": 4,
 "nbformat_minor": 4
}
