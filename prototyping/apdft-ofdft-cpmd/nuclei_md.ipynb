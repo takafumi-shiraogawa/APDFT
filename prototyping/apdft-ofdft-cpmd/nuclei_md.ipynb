{
 "cells": [
  {
   "cell_type": "markdown",
   "metadata": {},
   "source": [
    "- Why jump the coordinates from step 0 to step 1 and back from 1 to 2?"
   ]
  },
  {
   "cell_type": "markdown",
   "metadata": {},
   "source": [
    "## NVE-MD"
   ]
  },
  {
   "cell_type": "code",
   "execution_count": 19,
   "metadata": {},
   "outputs": [],
   "source": [
    "from profess_calculator import PROFESS\n",
    "import profess_io as pio\n",
    "from cpmd import initialize_atoms_old\n",
    "from ase.md.verlet import VelocityVerlet\n",
    "from ase import units\n",
    "import os\n",
    "import pixiedust\n",
    "import numpy as np\n",
    "from matplotlib import pyplot as plt\n",
    "from ase.io.trajectory import Trajectory\n",
    "from ase.io.trajectory import TrajectoryReader"
   ]
  },
  {
   "cell_type": "code",
   "execution_count": 26,
   "metadata": {},
   "outputs": [],
   "source": [
    "# initialize\n",
    "log = '/home/misa/git_repositories/PROFESS/test/ase_singlepoint/Al4_NVE.log'\n",
    "traj_path= '/home/misa/git_repositories/PROFESS/test/ase_singlepoint/Al4_NVE.traj'\n",
    "pos_file = '/home/misa/git_repositories/PROFESS/test/MD_NVE/saved/ion_step0.dat'\n",
    "vel_file = '/home/misa/git_repositories/PROFESS/test/MD_NVE/saved/vel_step0.dat'\n",
    "cell_param = [[3.97, 0, 0], [0, 3.97, 0], [0, 0, 3.97]]\n",
    "atoms = initialize_atoms_old(pos_file, vel_file, cell_param, pos_type='FRAC')\n",
    "\n",
    "ekin_t0 = atoms.get_kinetic_energy()\n",
    "\n",
    "# set parameters for PROFESS calculation\n",
    "run_dir = '/home/misa/git_repositories/PROFESS/test/ase_singlepoint'\n",
    "inpt_name = 'sp'\n",
    "pp_names = ['al_HC.lda.recpot']\n",
    "\n",
    "# make empty calculator\n",
    "calc = PROFESS()\n",
    "# pass calculator to atoms object\n",
    "atoms.calc = calc\n",
    "# initialize calc object with correct parameters\n",
    "atoms.calc.initialize(run_dir, inpt_name, pp_names, atoms)"
   ]
  },
  {
   "cell_type": "code",
   "execution_count": 27,
   "metadata": {
    "pixiedust": {
     "displayParams": {}
    }
   },
   "outputs": [],
   "source": [
    "# %%pixie_debugger\n",
    "# remove old logfile\n",
    "try:\n",
    "    os.remove(log)\n",
    "except FileNotFoundError:\n",
    "    print('Already deleted')\n",
    "# atoms.set_calculator(PROFESS(run_dir, inpt_name, pp_names, atoms))\n",
    "# We want to run MD with constant energy using the VelocityVerlet algorithm.\n",
    "dyn = VelocityVerlet(atoms, 1*units.fs, logfile=log)  # 1 fs time step.\n",
    "\n",
    "traj = Trajectory(traj_path, 'w', dyn.atoms)\n",
    "dyn.attach(traj.write, interval=10)\n",
    "dyn.run(100)\n",
    "traj.close()"
   ]
  },
  {
   "cell_type": "code",
   "execution_count": 28,
   "metadata": {},
   "outputs": [],
   "source": [
    "read_traj = TrajectoryReader(traj_path)"
   ]
  },
  {
   "cell_type": "code",
   "execution_count": 32,
   "metadata": {},
   "outputs": [
    {
     "data": {
      "text/plain": [
       "array([[ 0.00059972,  0.06821242, -0.01302725],\n",
       "       [ 0.03544484, -0.17679931, -0.00235587],\n",
       "       [ 0.00284043,  0.05931032,  0.1056905 ],\n",
       "       [-0.03890141,  0.04908388, -0.09037879]])"
      ]
     },
     "execution_count": 32,
     "metadata": {},
     "output_type": "execute_result"
    }
   ],
   "source": [
    "read_traj[1].get_velocities()"
   ]
  },
  {
   "cell_type": "code",
   "execution_count": null,
   "metadata": {},
   "outputs": [],
   "source": [
    "print('E_pot(t0) = -231.36188 eV')\n",
    "print('E_kin(t0) = 1.28567 eV')\n",
    "print(f'E_tot(t0) = {1.28567 + -231.36188} eV')\n",
    "\n",
    "print('E_pot(t1) = -231.35305 eV')\n",
    "print('E_kin(t1) = 1.27680 eV')\n",
    "print(f'E_tot(t1) = {-231.35305 + 1.27680} eV')"
   ]
  },
  {
   "cell_type": "markdown",
   "metadata": {},
   "source": [
    "# Compare energies"
   ]
  },
  {
   "cell_type": "code",
   "execution_count": 4,
   "metadata": {},
   "outputs": [],
   "source": [
    "import numpy as np\n",
    "from matplotlib import pyplot as plt\n",
    "from ase import units\n",
    "\n",
    "import sys\n",
    "sys.path.insert(0, '/home/misa/git_repositories/APDFT/prototyping/apdft-ofdft-cpmd/')\n",
    "import profess_io as pio"
   ]
  },
  {
   "cell_type": "code",
   "execution_count": 5,
   "metadata": {},
   "outputs": [],
   "source": [
    "# load reference data\n",
    "ekin_ref = pio.parse_out_file('/home/misa/git_repositories/PROFESS/test/md_nve_ref/md_nve.out', 'NVE Kinetic energy')\n",
    "ekin_ref = np.array(ekin_ref)*units.Ha\n",
    "epot_ref = pio.parse_out_file('/home/misa/git_repositories/PROFESS/test/md_nve_ref/md_nve.out', 'NVE Potential energy')\n",
    "epot_ref = np.array(epot_ref)*units.Ha\n",
    "etotal_ref = epot_ref + ekin_ref\n",
    "\n",
    "e_ase = np.loadtxt('/home/misa/projects/APDFT-CPMD/data/nuclei_md/Al4_NVE_ase_log',skiprows=1)\n",
    "e_ase_nocopy = np.loadtxt('/home/misa/projects/APDFT-CPMD/data/nuclei_md/Al4_NVE_ase_log_nocopy',skiprows=1)\n",
    "e_ase_no_dens = np.loadtxt('/home/misa/projects/APDFT-CPMD/data/nuclei_md/Al4_NVE_ase_log_no_dens',skiprows=1)\n",
    "e_ase_final = np.loadtxt('/home/misa/projects/APDFT-CPMD/data/nuclei_md/Al4_NVE_ase_log_nocopy_new',skiprows=1)\n",
    "\n",
    "labels = ['ref', r'ase $\\rho$ prev step', r'ase $\\rho$ from scratch']\n",
    "\n",
    "# e_ase_1step_MD_ekin = np.loadtxt('/home/misa/projects/APDFT-CPMD/data/nuclei_md/Al4_NVE_ase_ekin_run1step')\n",
    "# e_ase_1step_MD_etot = np.loadtxt('/home/misa/projects/APDFT-CPMD/data/nuclei_md/Al4_NVE_ase_etot_run1step')"
   ]
  },
  {
   "cell_type": "code",
   "execution_count": 9,
   "metadata": {},
   "outputs": [
    {
     "data": {
      "text/plain": [
       "array([-230.0762, -230.0763, -230.0762, ..., -230.0811, -230.0811,\n",
       "       -230.0812])"
      ]
     },
     "execution_count": 9,
     "metadata": {},
     "output_type": "execute_result"
    }
   ],
   "source": [
    "e_ase_final[:,1]"
   ]
  },
  {
   "cell_type": "code",
   "execution_count": null,
   "metadata": {},
   "outputs": [],
   "source": [
    "e_ase_nocopy[0]"
   ]
  },
  {
   "cell_type": "markdown",
   "metadata": {},
   "source": [
    "#### # 1 step MD vs reference"
   ]
  },
  {
   "cell_type": "code",
   "execution_count": null,
   "metadata": {},
   "outputs": [],
   "source": [
    "plt.rcParams['figure.figsize'] = [5,5]\n",
    "plt.rcParams['font.size'] = 18\n",
    "\n",
    "fig, ax = plt.subplots(1,1)\n",
    "for etot,l in zip([etotal_ref, e_ase_1step_MD_etot], ['ref', '1 step']):\n",
    "    ax.plot(etot, label = l)\n",
    "ax.legend()\n",
    "ax.set_xlabel(r'# steps')\n",
    "ax.set_ylabel(r'$E_{\\rm{tot}}$ (eV)')\n",
    "# plt.savefig('/home/misa/projects/APDFT-CPMD/figures/nuclei_md/one_stepMD.png', bbox_inches='tight')"
   ]
  },
  {
   "cell_type": "markdown",
   "metadata": {},
   "source": [
    "1 step MD has way stronger drift because error cancelling in velocity verlet algorithm needs information about the previous step\n",
    "\n",
    "discuss code, name problems"
   ]
  },
  {
   "cell_type": "markdown",
   "metadata": {},
   "source": [
    "#### E_tot"
   ]
  },
  {
   "cell_type": "code",
   "execution_count": null,
   "metadata": {},
   "outputs": [],
   "source": [
    "plt.rcParams['figure.figsize'] = [5,5]\n",
    "plt.rcParams['font.size'] = 18.0\n",
    "fig, ax = plt.subplots(1,1)\n",
    "for etot,l in zip([etotal_ref, e_ase[:,1], e_ase_no_dens[:,1]], labels):\n",
    "    ax.plot(etot, label = l)\n",
    "ax.set_ylabel(r'$E_{\\rm{tot}}$ (eV)')\n",
    "ax.set_xlabel('# steps')\n",
    "ax.legend(bbox_to_anchor=(1.05, 1.0), loc='upper left', borderaxespad=0.0)\n",
    "ax.set_xlim(-100,2000)\n",
    "# plt.savefig('/home/misa/projects/APDFT-CPMD/figures/nuclei_md/etot_comparison.png', bbox_inches='tight')"
   ]
  },
  {
   "cell_type": "markdown",
   "metadata": {},
   "source": [
    "#### E_pot"
   ]
  },
  {
   "cell_type": "code",
   "execution_count": null,
   "metadata": {},
   "outputs": [],
   "source": [
    "plt.rcParams['figure.figsize'] = [5,5]\n",
    "plt.rcParams['font.size'] = 18.0\n",
    "fig, ax = plt.subplots(1,1)\n",
    "for etot,l in zip([epot_ref, e_ase[:,2], e_ase_no_dens[:,2]], labels):\n",
    "    ax.plot(etot, label = l)\n",
    "ax.set_ylabel(r'$E_{\\rm{pot}}$ (eV)')\n",
    "ax.set_xlabel('# steps')\n",
    "ax.legend(bbox_to_anchor=(1.05, 1.0), loc='upper left', borderaxespad=0.0)\n",
    "# plt.savefig('/home/misa/projects/APDFT-CPMD/figures/nuclei_md/epot_comparison.png', bbox_inches='tight')"
   ]
  },
  {
   "cell_type": "markdown",
   "metadata": {},
   "source": [
    "#### E_kin"
   ]
  },
  {
   "cell_type": "code",
   "execution_count": null,
   "metadata": {},
   "outputs": [],
   "source": [
    "plt.rcParams['figure.figsize'] = [5,5]\n",
    "plt.rcParams['font.size'] = 18.0\n",
    "fig, ax = plt.subplots(1,1)\n",
    "for etot,l in zip([ekin_ref, e_ase[:,3], e_ase_no_dens[:,3]], labels):\n",
    "    ax.plot(etot, label = l)\n",
    "ax.set_ylabel(r'$E_{\\rm{kin}}$ (eV)')\n",
    "ax.set_xlabel('# steps')\n",
    "ax.legend(bbox_to_anchor=(1.05, 1.0), loc='upper left', borderaxespad=0.0)\n",
    "# plt.savefig('/home/misa/projects/APDFT-CPMD/figures/nuclei_md/ekin_comparison.png', bbox_inches='tight')"
   ]
  },
  {
   "cell_type": "markdown",
   "metadata": {},
   "source": [
    "#### E_tot correct update of atom positions"
   ]
  },
  {
   "cell_type": "code",
   "execution_count": 10,
   "metadata": {},
   "outputs": [
    {
     "data": {
      "text/plain": [
       "<matplotlib.legend.Legend at 0x7f171b09df28>"
      ]
     },
     "execution_count": 10,
     "metadata": {},
     "output_type": "execute_result"
    },
    {
     "data": {
      "image/png": "[encoded data removed]",
      "text/plain": [
       "<Figure size 360x360 with 1 Axes>"
      ]
     },
     "metadata": {
      "needs_background": "light"
     },
     "output_type": "display_data"
    }
   ],
   "source": [
    "plt.rcParams['figure.figsize'] = [5,5]\n",
    "plt.rcParams['font.size'] = 18.0\n",
    "labels = ['ref', r'ase wrong update of positions', r'ase']\n",
    "fig, ax = plt.subplots(1,1)\n",
    "\n",
    "ax.plot(np.round(etotal_ref,4), label = \"PROFESS\")\n",
    "ax.plot(e_ase_final[:,1], label = \"ASE\")\n",
    "\n",
    "ax.set_ylabel(r'$E_{\\rm{tot}}$ (eV)')\n",
    "ax.set_xlabel('# steps')\n",
    "ax.legend(bbox_to_anchor=(1.05, 1.0), loc='upper left', borderaxespad=0.0)\n",
    "# ax.set_xlim(-5,100)\n",
    "# ax.set_ylim(-230.078, -230.075)\n",
    "# plt.savefig('/home/misa/projects/APDFT-CPMD/figures/nuclei_md/etot_update_atoms.png', bbox_inches='tight')"
   ]
  },
  {
   "cell_type": "markdown",
   "metadata": {},
   "source": [
    "#### multiple plots"
   ]
  },
  {
   "cell_type": "code",
   "execution_count": null,
   "metadata": {},
   "outputs": [],
   "source": [
    "plt.rcParams['figure.figsize'] = [16.5,8]\n",
    "plt.rcParams['font.size'] = 14.0\n",
    "\n",
    "import matplotlib.gridspec as gridspec\n",
    "gs = gridspec.GridSpec(2, 4)\n",
    "gs.update(wspace=0.5)\n",
    "ax1 = plt.subplot(gs[0, 0:1], )\n",
    "ax2 = plt.subplot(gs[1, 0:1])\n",
    "ax3 = plt.subplot(gs[1, 2:3])\n",
    "\n",
    "# fig, ax = plt.subplots(2,2)\n",
    "for etot,l in zip([etotal_ref, e_ase[:,1], e_ase_no_dens[:,1]], labels):\n",
    "    ax1.plot(etot, label = l)\n",
    "    ax1.set_ylabel(r'$E_{\\rm{tot}}$ (eV)')\n",
    "    ax1.legend(bbox_to_anchor=(1.05, 1.0), loc='upper left', borderaxespad=0.0)\n",
    "for ekin,l in zip([ekin_ref, e_ase[:,3], e_ase_no_dens[:,3]], labels):\n",
    "    ax2.plot(ekin,label = l)\n",
    "    ax2.set_ylabel(r'$E_{\\rm{kin}}$ (eV)')\n",
    "for epot,l in zip([epot_ref, e_ase[:,2], e_ase_no_dens[:,2]], labels):\n",
    "    ax3.plot(epot,label = l)\n",
    "    ax3.set_ylabel(r'$E_{\\rm{pot}}$ (eV)')\n",
    "#     ax[1,0].legend(bbox_to_anchor=(1.05, 1.0), loc='upper left', borderaxespad=0.0)\n",
    "    \n",
    "for i in [ax1, ax2, ax3]:\n",
    "    i.set_xlabel('# steps')"
   ]
  },
  {
   "cell_type": "markdown",
   "metadata": {},
   "source": [
    "#### compare positions"
   ]
  },
  {
   "cell_type": "code",
   "execution_count": null,
   "metadata": {},
   "outputs": [],
   "source": [
    "import numpy as np\n",
    "from matplotlib import pyplot as plt\n",
    "import profess_io as pio\n",
    "from ase import units"
   ]
  },
  {
   "cell_type": "code",
   "execution_count": null,
   "metadata": {},
   "outputs": [],
   "source": [
    "# monitor change of profess structures\n",
    "\n",
    "def get_coord_atom(structure_array, num_atom, name_coord):\n",
    "    coord = []\n",
    "    for s in structure_array:\n",
    "        coord.append(s[num_atom][name_coord])\n",
    "    return(coord)\n",
    "\n",
    "structure_array = []\n",
    "for pf in range(1, 21):\n",
    "    structure_array.append(pio.parse_ion_file(f'/home/misa/git_repositories/PROFESS/test/MD_NVE/saved/ion_step{pf}.dat'))"
   ]
  },
  {
   "cell_type": "code",
   "execution_count": null,
   "metadata": {},
   "outputs": [],
   "source": [
    "num_atom = 3\n",
    "num_coord = 2\n",
    "positions_ase = get_coord_atom(save_pos, num_atom, num_coord)\n",
    "positions_profess = get_coord_atom(structure_array, num_atom, num_coord)\n",
    "step = np.arange(1, 21)\n",
    "fig, ax = plt.subplots(1,1)\n",
    "plt.rcParams['font.size'] = 20\n",
    "ax.plot(step, positions_ase[:-1], '-o', label = 'ase')\n",
    "ax.plot(step[1::2], np.array(positions_profess)[1::2]*3.97, '-o', label = 'profess')\n",
    "# ax.plot(step[1:], np.array(positions_profess)[1:]*3.97, '-o', label = 'profess')\n",
    "\n",
    "\n",
    "ax.set_xlabel(r'step $n$')\n",
    "ax.set_ylabel(r'$R_{I, i}$ (Ang)')\n",
    "ax.legend()"
   ]
  },
  {
   "cell_type": "markdown",
   "metadata": {},
   "source": [
    "#### compare velocities"
   ]
  },
  {
   "cell_type": "code",
   "execution_count": null,
   "metadata": {},
   "outputs": [],
   "source": [
    "# velocities from Bohr/aut (PROFESS) -> Ang/ (Ang sqrt(aum/eV)) (ASE)\n",
    "# Bohr -> Ang = length_in_Bohr*units.Bohr\n",
    "# aut -> Ang sqrt(aum/eV)\n",
    "aut2fs = 2.41888433e-2 # go from aut -> fs\n",
    "aut2aset = aut2fs*units.fs # from aut -> aset (ase time unit)\n",
    "au_vel2ase_vel = units.Bohr/aut2aset # conversion of velocities in a.u. to native ase units\n",
    "\n",
    "# get velocities from profess\n",
    "vel_array = []\n",
    "for pf in range(1, 21):\n",
    "    vel_array.append(pio.parse_velocity_file(f'/home/misa/git_repositories/PROFESS/test/MD_NVE/saved/vel_step{pf}.dat'))\n",
    "\n",
    "num_atom = 0\n",
    "num_coord = 0\n",
    "velocities_ase = get_coord_atom(np.array(save_vel)/au_vel2ase_vel, num_atom, num_coord)\n",
    "velocities_profess = get_coord_atom(vel_array, num_atom, num_coord)\n",
    "\n",
    "step = np.arange(1, 21)\n",
    "\n",
    "plt.rcParams['font.size'] = 15\n",
    "fig, ax = plt.subplots(1,1)\n",
    "\n",
    "ax.plot(step, velocities_ase[:-1], '-o', label = 'ase')\n",
    "ax.plot(step, velocities_profess, '-o', label = 'profess')\n",
    "\n",
    "ax.ticklabel_format(axis=\"y\", style=\"sci\", scilimits=(0,0))\n",
    "ax.set_xlabel(r'step $n$')\n",
    "ax.set_ylabel(r'$v_{I,i}$ (a.u.)')\n",
    "ax.legend()"
   ]
  },
  {
   "cell_type": "markdown",
   "metadata": {},
   "source": [
    "files for ofdft:\n",
    "- job.inpt (stays the same during CPMD)\n",
    "- job.ion (structure: update position, lattice vectors?)\n",
    "- density (update from CPMD)\n",
    "- al.lda.recpot (pseudopotentials: stay the same during CPMD)\n",
    "\n",
    "Which code to do APDFT calculations? (must support crystal structures)\n",
    "Are local ofdft pseudopotentials compatible with other non-local pseudopotentials?\n",
    "\n",
    "How to do MD runs in OFDFT for comparison?\n",
    "\n",
    "How to run NVE, What is NVT coupled with Nose-Hoover?\n",
    "Why are the positions negative, so close togethcer and different from initial structure?\n",
    "\n",
    "\n",
    "\n",
    "- get forces, velocities from ofdft during python runtime\n",
    "- propagate nuclei\n",
    "\n",
    "\n",
    "            "
   ]
  }
 ],
 "metadata": {
  "kernelspec": {
   "display_name": "Python [conda env:atomic-energies]",
   "language": "python",
   "name": "conda-env-atomic-energies-py"
  },
  "language_info": {
   "codemirror_mode": {
    "name": "ipython",
    "version": 3
   },
   "file_extension": ".py",
   "mimetype": "text/x-python",
   "name": "python",
   "nbconvert_exporter": "python",
   "pygments_lexer": "ipython3",
   "version": "3.7.3"
  }
 },
 "nbformat": 4,
 "nbformat_minor": 4
}
