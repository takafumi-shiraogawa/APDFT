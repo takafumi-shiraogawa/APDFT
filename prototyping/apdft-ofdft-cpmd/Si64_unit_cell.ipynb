{
 "cells": [
  {
   "cell_type": "markdown",
   "metadata": {},
   "source": [
    "### Diamond structure from ase"
   ]
  },
  {
   "cell_type": "code",
   "execution_count": 1,
   "metadata": {},
   "outputs": [],
   "source": [
    "from ase.lattice.cubic import Diamond\n",
    "from ase.visualize import view\n",
    "import numpy as np\n",
    "import profess_io as pio"
   ]
  },
  {
   "cell_type": "code",
   "execution_count": 2,
   "metadata": {},
   "outputs": [],
   "source": [
    "atoms = Diamond(directions=[[1,0,0], [0,1,0], [0,0,1]],\n",
    "                          size=(2,2,2), symbol='Si',\n",
    "                          latticeconstant=2.0)\n",
    "new_positions = atoms.get_scaled_positions()"
   ]
  },
  {
   "cell_type": "code",
   "execution_count": 3,
   "metadata": {},
   "outputs": [],
   "source": [
    "cell_params = np.array([[10.85, 0, 0], [0, 10.85, 0], [0, 0, 10.85]])\n",
    "#cell_params = np.array([[5.425, 0, 0], [0, 5.425, 0], [0, 0, 5.425]])\n",
    "atoms = ['Si']*64\n",
    "#atoms = ['Si']*8\n",
    "pos = new_positions\n",
    "pos_type = 'FRAC'\n",
    "pp = ['si.lda.recpot']\n",
    "ion_file = pio.generate_ion_file(cell_params, atoms, pos, pos_type, pp)\n",
    "path = '/home/misa/projects/APDFT-CPMD/data/BOMD/Si64_hc_NPT/QMAS_5e4/hc.ion'\n",
    "#path = '/home/misa/projects/APDFT-CPMD/data/CellOpt/Si8_hc_ase/hc.ion'\n",
    "pio.write_file(path, ion_file)"
   ]
  },
  {
   "cell_type": "code",
   "execution_count": 97,
   "metadata": {
    "collapsed": true,
    "jupyter": {
     "outputs_hidden": true
    }
   },
   "outputs": [
    {
     "data": {
      "text/plain": [
       "array([[0.   , 0.   , 0.   ],\n",
       "       [0.   , 0.   , 0.125],\n",
       "       [0.25 , 0.25 , 0.   ],\n",
       "       [0.25 , 0.25 , 0.125],\n",
       "       [0.25 , 0.   , 0.25 ],\n",
       "       [0.25 , 0.   , 0.375],\n",
       "       [0.   , 0.25 , 0.25 ],\n",
       "       [0.   , 0.25 , 0.375],\n",
       "       [0.5  , 0.   , 0.   ],\n",
       "       [0.5  , 0.   , 0.125],\n",
       "       [0.75 , 0.25 , 0.   ],\n",
       "       [0.75 , 0.25 , 0.125],\n",
       "       [0.75 , 0.   , 0.25 ],\n",
       "       [0.75 , 0.   , 0.375],\n",
       "       [0.5  , 0.25 , 0.25 ],\n",
       "       [0.5  , 0.25 , 0.375],\n",
       "       [0.   , 0.5  , 0.   ],\n",
       "       [0.   , 0.5  , 0.125],\n",
       "       [0.25 , 0.75 , 0.   ],\n",
       "       [0.25 , 0.75 , 0.125],\n",
       "       [0.25 , 0.5  , 0.25 ],\n",
       "       [0.25 , 0.5  , 0.375],\n",
       "       [0.   , 0.75 , 0.25 ],\n",
       "       [0.   , 0.75 , 0.375],\n",
       "       [0.5  , 0.5  , 0.   ],\n",
       "       [0.5  , 0.5  , 0.125],\n",
       "       [0.75 , 0.75 , 0.   ],\n",
       "       [0.75 , 0.75 , 0.125],\n",
       "       [0.75 , 0.5  , 0.25 ],\n",
       "       [0.75 , 0.5  , 0.375],\n",
       "       [0.5  , 0.75 , 0.25 ],\n",
       "       [0.5  , 0.75 , 0.375],\n",
       "       [0.   , 0.   , 0.5  ],\n",
       "       [0.   , 0.   , 0.625],\n",
       "       [0.25 , 0.25 , 0.5  ],\n",
       "       [0.25 , 0.25 , 0.625],\n",
       "       [0.25 , 0.   , 0.75 ],\n",
       "       [0.25 , 0.   , 0.875],\n",
       "       [0.   , 0.25 , 0.75 ],\n",
       "       [0.   , 0.25 , 0.875],\n",
       "       [0.5  , 0.   , 0.5  ],\n",
       "       [0.5  , 0.   , 0.625],\n",
       "       [0.75 , 0.25 , 0.5  ],\n",
       "       [0.75 , 0.25 , 0.625],\n",
       "       [0.75 , 0.   , 0.75 ],\n",
       "       [0.75 , 0.   , 0.875],\n",
       "       [0.5  , 0.25 , 0.75 ],\n",
       "       [0.5  , 0.25 , 0.875],\n",
       "       [0.   , 0.5  , 0.5  ],\n",
       "       [0.   , 0.5  , 0.625],\n",
       "       [0.25 , 0.75 , 0.5  ],\n",
       "       [0.25 , 0.75 , 0.625],\n",
       "       [0.25 , 0.5  , 0.75 ],\n",
       "       [0.25 , 0.5  , 0.875],\n",
       "       [0.   , 0.75 , 0.75 ],\n",
       "       [0.   , 0.75 , 0.875],\n",
       "       [0.5  , 0.5  , 0.5  ],\n",
       "       [0.5  , 0.5  , 0.625],\n",
       "       [0.75 , 0.75 , 0.5  ],\n",
       "       [0.75 , 0.75 , 0.625],\n",
       "       [0.75 , 0.5  , 0.75 ],\n",
       "       [0.75 , 0.5  , 0.875],\n",
       "       [0.5  , 0.75 , 0.75 ],\n",
       "       [0.5  , 0.75 , 0.875]])"
      ]
     },
     "execution_count": 97,
     "metadata": {},
     "output_type": "execute_result"
    }
   ],
   "source": [
    "new_positions"
   ]
  },
  {
   "cell_type": "markdown",
   "metadata": {},
   "source": [
    "### Diamond from scratch"
   ]
  },
  {
   "cell_type": "code",
   "execution_count": 48,
   "metadata": {},
   "outputs": [],
   "source": [
    "new_positions = []\n",
    "for ix in ['x/2', 'x']:\n",
    "    for iy in ['y/2', 'y']:\n",
    "        for iz in ['z/2', 'z']:\n",
    "            new_positions.append([ix, iy, iz])"
   ]
  },
  {
   "cell_type": "code",
   "execution_count": null,
   "metadata": {},
   "outputs": [],
   "source": []
  },
  {
   "cell_type": "code",
   "execution_count": 49,
   "metadata": {},
   "outputs": [
    {
     "data": {
      "text/plain": [
       "[['x/2', 'y/2', 'z/2'],\n",
       " ['x/2', 'y/2', 'z'],\n",
       " ['x/2', 'y', 'z/2'],\n",
       " ['x/2', 'y', 'z'],\n",
       " ['x', 'y/2', 'z/2'],\n",
       " ['x', 'y/2', 'z'],\n",
       " ['x', 'y', 'z/2'],\n",
       " ['x', 'y', 'z']]"
      ]
     },
     "execution_count": 49,
     "metadata": {},
     "output_type": "execute_result"
    }
   ],
   "source": [
    "new_positions"
   ]
  },
  {
   "cell_type": "code",
   "execution_count": 50,
   "metadata": {},
   "outputs": [],
   "source": [
    "import profess_io as pio\n",
    "import numpy as np"
   ]
  },
  {
   "cell_type": "code",
   "execution_count": 52,
   "metadata": {},
   "outputs": [],
   "source": [
    "def generate_new_positions(x,y,z):\n",
    "    \n",
    "    if x != 0:\n",
    "        x_coords = [x/2, x]\n",
    "    else:\n",
    "        x_coords = [x, 0.5]\n",
    "        \n",
    "    if y != 0:\n",
    "        y_coords = [y/2, y]\n",
    "    else:\n",
    "        x_coords = [y, 0.5]\n",
    "        \n",
    "    if z != 0:\n",
    "        z_coords = [z/2, z]\n",
    "    else:\n",
    "        z_coords = [z, 0.5]\n",
    "\n",
    "    new_positions = []\n",
    "    for ix in x_coords:\n",
    "        for iy in y_coords:\n",
    "            for iz in z_coords:\n",
    "                new_positions.append([ix, iy, iz])\n",
    "    return(new_positions)"
   ]
  },
  {
   "cell_type": "code",
   "execution_count": 53,
   "metadata": {},
   "outputs": [
    {
     "data": {
      "text/plain": [
       "[[0.25, 0.5, 0.25],\n",
       " [0.25, 0.5, 0.5],\n",
       " [0.25, 1.0, 0.25],\n",
       " [0.25, 1.0, 0.5],\n",
       " [0.5, 0.5, 0.25],\n",
       " [0.5, 0.5, 0.5],\n",
       " [0.5, 1.0, 0.25],\n",
       " [0.5, 1.0, 0.5]]"
      ]
     },
     "execution_count": 53,
     "metadata": {},
     "output_type": "execute_result"
    }
   ],
   "source": [
    "x=0.50 \n",
    "y=1.00 \n",
    "z=0.50\n",
    "generate_new_positions(x,y,z)"
   ]
  },
  {
   "cell_type": "code",
   "execution_count": 54,
   "metadata": {},
   "outputs": [],
   "source": [
    "positions = pio.parse_ion_file('/home/misa/projects/APDFT-CPMD/data/BOMD/Si8_hc_NPT/QMAS5e4_cubic/hc.ion')\n",
    "new_positions = []\n",
    "for p in positions:\n",
    "    new_positions.extend(generate_new_positions(p[0],p[1],p[2]))"
   ]
  },
  {
   "cell_type": "code",
   "execution_count": 55,
   "metadata": {
    "collapsed": true,
    "jupyter": {
     "outputs_hidden": true
    }
   },
   "outputs": [
    {
     "data": {
      "text/plain": [
       "[[0.25, 0.5, 0.25],\n",
       " [0.25, 0.5, 0.5],\n",
       " [0.25, 1.0, 0.25],\n",
       " [0.25, 1.0, 0.5],\n",
       " [0.5, 0.5, 0.25],\n",
       " [0.5, 0.5, 0.5],\n",
       " [0.5, 1.0, 0.25],\n",
       " [0.5, 1.0, 0.5],\n",
       " [0.5, 0.25, 0.25],\n",
       " [0.5, 0.25, 0.5],\n",
       " [0.5, 0.5, 0.25],\n",
       " [0.5, 0.5, 0.5],\n",
       " [1.0, 0.25, 0.25],\n",
       " [1.0, 0.25, 0.5],\n",
       " [1.0, 0.5, 0.25],\n",
       " [1.0, 0.5, 0.5],\n",
       " [0.25, 0.25, 0.0],\n",
       " [0.25, 0.25, 0.5],\n",
       " [0.25, 0.5, 0.0],\n",
       " [0.25, 0.5, 0.5],\n",
       " [0.5, 0.25, 0.0],\n",
       " [0.5, 0.25, 0.5],\n",
       " [0.5, 0.5, 0.0],\n",
       " [0.5, 0.5, 0.5],\n",
       " [0.5, 0.5, 0.0],\n",
       " [0.5, 0.5, 0.5],\n",
       " [0.5, 1.0, 0.0],\n",
       " [0.5, 1.0, 0.5],\n",
       " [1.0, 0.5, 0.0],\n",
       " [1.0, 0.5, 0.5],\n",
       " [1.0, 1.0, 0.0],\n",
       " [1.0, 1.0, 0.5],\n",
       " [0.375, 0.125, 0.375],\n",
       " [0.375, 0.125, 0.75],\n",
       " [0.375, 0.25, 0.375],\n",
       " [0.375, 0.25, 0.75],\n",
       " [0.75, 0.125, 0.375],\n",
       " [0.75, 0.125, 0.75],\n",
       " [0.75, 0.25, 0.375],\n",
       " [0.75, 0.25, 0.75],\n",
       " [0.125, 0.125, 0.125],\n",
       " [0.125, 0.125, 0.25],\n",
       " [0.125, 0.25, 0.125],\n",
       " [0.125, 0.25, 0.25],\n",
       " [0.25, 0.125, 0.125],\n",
       " [0.25, 0.125, 0.25],\n",
       " [0.25, 0.25, 0.125],\n",
       " [0.25, 0.25, 0.25],\n",
       " [0.125, 0.375, 0.375],\n",
       " [0.125, 0.375, 0.75],\n",
       " [0.125, 0.75, 0.375],\n",
       " [0.125, 0.75, 0.75],\n",
       " [0.25, 0.375, 0.375],\n",
       " [0.25, 0.375, 0.75],\n",
       " [0.25, 0.75, 0.375],\n",
       " [0.25, 0.75, 0.75],\n",
       " [0.375, 0.375, 0.125],\n",
       " [0.375, 0.375, 0.25],\n",
       " [0.375, 0.75, 0.125],\n",
       " [0.375, 0.75, 0.25],\n",
       " [0.75, 0.375, 0.125],\n",
       " [0.75, 0.375, 0.25],\n",
       " [0.75, 0.75, 0.125],\n",
       " [0.75, 0.75, 0.25]]"
      ]
     },
     "execution_count": 55,
     "metadata": {},
     "output_type": "execute_result"
    }
   ],
   "source": [
    "new_positions"
   ]
  },
  {
   "cell_type": "code",
   "execution_count": 56,
   "metadata": {},
   "outputs": [],
   "source": [
    "cell_params = np.array([[10, 0, 0], [0, 10, 0], [0, 0, 10]])\n",
    "atoms = ['Si']*64\n",
    "pos = new_positions\n",
    "pos_type = 'FRAC'\n",
    "pp = ['si.lda.recpot']\n",
    "ion_file = pio.generate_ion_file(cell_params, atoms, pos, pos_type, pp)\n",
    "path = '/home/misa/projects/APDFT-CPMD/data/CellOpt/Si64_hc/hc.ion'\n",
    "pio.write_file(path, ion_file)"
   ]
  },
  {
   "cell_type": "code",
   "execution_count": 57,
   "metadata": {},
   "outputs": [],
   "source": [
    "pos_abs = []\n",
    "for p in new_positions:\n",
    "    pos_abs.append(np.array(p)*10)"
   ]
  },
  {
   "cell_type": "code",
   "execution_count": 63,
   "metadata": {},
   "outputs": [],
   "source": [
    "dist = []\n",
    "dist0_ind = []\n",
    "for i in range(64):\n",
    "    for j in range(i, 64):\n",
    "        if i != j:\n",
    "            dist.append(np.linalg.norm(pos_abs[i]-pos_abs[j]))\n",
    "            if np.linalg.norm(pos_abs[i]-pos_abs[j]) == 0:\n",
    "                dist0_ind.append((i,j))\n",
    "dist = np.array(dist)"
   ]
  },
  {
   "cell_type": "code",
   "execution_count": 65,
   "metadata": {},
   "outputs": [
    {
     "name": "stdout",
     "output_type": "stream",
     "text": [
      "[0.25, 0.5, 0.5]\n",
      "[0.25, 0.5, 0.5]\n",
      "[0.5, 0.5, 0.25]\n",
      "[0.5, 0.5, 0.25]\n",
      "[0.5, 0.5, 0.5]\n",
      "[0.5, 0.5, 0.5]\n",
      "[0.5, 0.5, 0.5]\n",
      "[0.5, 0.5, 0.5]\n",
      "[0.5, 0.5, 0.5]\n",
      "[0.5, 0.5, 0.5]\n",
      "[0.5, 1.0, 0.5]\n",
      "[0.5, 1.0, 0.5]\n",
      "[0.5, 0.25, 0.5]\n",
      "[0.5, 0.25, 0.5]\n",
      "[0.5, 0.5, 0.5]\n",
      "[0.5, 0.5, 0.5]\n",
      "[0.5, 0.5, 0.5]\n",
      "[0.5, 0.5, 0.5]\n",
      "[1.0, 0.5, 0.5]\n",
      "[1.0, 0.5, 0.5]\n",
      "[0.5, 0.5, 0.0]\n",
      "[0.5, 0.5, 0.0]\n",
      "[0.5, 0.5, 0.5]\n",
      "[0.5, 0.5, 0.5]\n"
     ]
    }
   ],
   "source": [
    "for i, j in dist0_ind:\n",
    "    print(new_positions[i])\n",
    "    print(new_positions[j])"
   ]
  },
  {
   "cell_type": "code",
   "execution_count": 66,
   "metadata": {},
   "outputs": [
    {
     "data": {
      "text/plain": [
       "[(1, 19),\n",
       " (4, 10),\n",
       " (5, 11),\n",
       " (5, 23),\n",
       " (5, 25),\n",
       " (7, 27),\n",
       " (9, 21),\n",
       " (11, 23),\n",
       " (11, 25),\n",
       " (15, 29),\n",
       " (22, 24),\n",
       " (23, 25)]"
      ]
     },
     "execution_count": 66,
     "metadata": {},
     "output_type": "execute_result"
    }
   ],
   "source": [
    "dist0_ind"
   ]
  },
  {
   "cell_type": "code",
   "execution_count": 67,
   "metadata": {},
   "outputs": [
    {
     "data": {
      "text/plain": [
       "[1.0, 0.5, 0.5]"
      ]
     },
     "execution_count": 67,
     "metadata": {},
     "output_type": "execute_result"
    }
   ],
   "source": [
    "new_positions[15]"
   ]
  },
  {
   "cell_type": "code",
   "execution_count": 69,
   "metadata": {},
   "outputs": [
    {
     "data": {
      "text/plain": [
       "[0.5, 1.0, 0.5]"
      ]
     },
     "execution_count": 69,
     "metadata": {},
     "output_type": "execute_result"
    }
   ],
   "source": [
    "new_positions[7]"
   ]
  }
 ],
 "metadata": {
  "kernelspec": {
   "display_name": "Python (atmoic-energies)",
   "language": "python",
   "name": "atomic-energies"
  },
  "language_info": {
   "codemirror_mode": {
    "name": "ipython",
    "version": 3
   },
   "file_extension": ".py",
   "mimetype": "text/x-python",
   "name": "python",
   "nbconvert_exporter": "python",
   "pygments_lexer": "ipython3",
   "version": "3.7.3"
  }
 },
 "nbformat": 4,
 "nbformat_minor": 4
}
