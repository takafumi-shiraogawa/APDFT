{
 "cells": [
  {
   "cell_type": "code",
   "execution_count": 1,
   "metadata": {},
   "outputs": [],
   "source": [
    "import numpy as np\n",
    "from matplotlib import pyplot as plt\n",
    "import ase.units as au"
   ]
  },
  {
   "cell_type": "code",
   "execution_count": 3,
   "metadata": {},
   "outputs": [
    {
     "data": {
      "text/plain": [
       "4.299398991850024"
      ]
     },
     "execution_count": 3,
     "metadata": {},
     "output_type": "execute_result"
    }
   ],
   "source": [
    "au.Ha*0.158"
   ]
  },
  {
   "cell_type": "code",
   "execution_count": 4,
   "metadata": {},
   "outputs": [
    {
     "data": {
      "text/plain": [
       "78.913019470665"
      ]
     },
     "execution_count": 4,
     "metadata": {},
     "output_type": "execute_result"
    }
   ],
   "source": [
    "au.Ha*2.9"
   ]
  },
  {
   "cell_type": "code",
   "execution_count": 5,
   "metadata": {},
   "outputs": [],
   "source": [
    "def get_minimum(x,y):\n",
    "    par = np.polyfit(x, y, deg = 2)\n",
    "    x_min = -par[1]/(2*par[0])\n",
    "    return(x_min)"
   ]
  },
  {
   "cell_type": "code",
   "execution_count": 6,
   "metadata": {},
   "outputs": [
    {
     "name": "stdout",
     "output_type": "stream",
     "text": [
      "a_new = 5.39914713245897\n"
     ]
    },
    {
     "data": {
      "text/plain": [
       "[<matplotlib.lines.Line2D at 0x7efdf18d8d30>]"
      ]
     },
     "execution_count": 6,
     "metadata": {},
     "output_type": "execute_result"
    },
    {
     "data": {
      "image/png": "[encoded data removed]",
      "text/plain": [
       "<Figure size 432x288 with 1 Axes>"
      ]
     },
     "metadata": {
      "needs_background": "light"
     },
     "output_type": "display_data"
    }
   ],
   "source": [
    "# results for wrong unit cell a_z = [1,1,1]\n",
    "#a = np.array([10, 10.8, 11, 11.5,12, 13, 14])\n",
    "#E_eV = np.array([-2.229477412777E+02, -2.316285953743E+02,-2.333458433320E+02,-2.371212332847E+02,  -2.400567923736E+02, -2.441634773719E+02,-2.462857321593E+02])*au.Ha/64\n",
    "\n",
    "a = np.array([5.40, 5.42, 5.45])\n",
    "E_eV = np.array([-3.223042494307E+01,-3.223020694434E+01,-3.222912669349E+01])*au.Ha/8*2\n",
    "print(f'a_new = {get_minimum(a[-3:], E_eV[-3:])}')\n",
    "\n",
    "plt.plot(a, E_eV, '-o')\n",
    "\n",
    "x = np.linspace(a[0], a[-1], 100)\n",
    "quad_par = np.polyfit(a[-3:], E_eV[-3:], deg = 2)\n",
    "y = np.polyval(quad_par, x)\n",
    "plt.plot(x, y, '--', label = 'quadratic fit')"
   ]
  },
  {
   "cell_type": "code",
   "execution_count": 7,
   "metadata": {},
   "outputs": [
    {
     "data": {
      "text/plain": [
       "array([-219.25863371, -219.2571507 , -219.24980192])"
      ]
     },
     "execution_count": 7,
     "metadata": {},
     "output_type": "execute_result"
    }
   ],
   "source": [
    "np.array([-3.223042494307E+01,-3.223020694434E+01,-3.222912669349E+01])*au.Ha/8*2"
   ]
  }
 ],
 "metadata": {
  "kernelspec": {
   "display_name": "Python [conda env:atomic-energies]",
   "language": "python",
   "name": "conda-env-atomic-energies-py"
  },
  "language_info": {
   "codemirror_mode": {
    "name": "ipython",
    "version": 3
   },
   "file_extension": ".py",
   "mimetype": "text/x-python",
   "name": "python",
   "nbconvert_exporter": "python",
   "pygments_lexer": "ipython3",
   "version": "3.7.3"
  }
 },
 "nbformat": 4,
 "nbformat_minor": 4
}
