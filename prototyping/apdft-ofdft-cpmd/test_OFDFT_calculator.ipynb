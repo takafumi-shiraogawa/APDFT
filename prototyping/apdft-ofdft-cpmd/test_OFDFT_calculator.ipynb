{
 "cells": [
  {
   "cell_type": "code",
   "execution_count": null,
   "metadata": {},
   "outputs": [],
   "source": [
    "from ase import units\n",
    "from ase import Atoms\n",
    "import numpy as np\n",
    "from profess_calculator import PROFESS\n",
    "import profess_io as pio\n",
    "from cpmd import initialize_atoms"
   ]
  },
  {
   "cell_type": "code",
   "execution_count": null,
   "metadata": {},
   "outputs": [],
   "source": [
    "pos_file = '/home/misa/git_repositories/PROFESS/test/MD_NVE/saved/ion_step0.dat'\n",
    "vel_file = '/home/misa/git_repositories/PROFESS/test/MD_NVE/saved/vel_step0.dat'\n",
    "cell_param = [[3.97, 0, 0], [0, 3.97, 0], [0, 0, 3.97]]\n",
    "atoms = initialize_atoms(pos_file, vel_file, cell_param, pos_type='FRAC')\n",
    "atoms.get_positions()"
   ]
  },
  {
   "cell_type": "code",
   "execution_count": null,
   "metadata": {},
   "outputs": [],
   "source": [
    "run_dir = '/home/misa/git_repositories/PROFESS/test/ase_singlepoint'\n",
    "inpt_name = 'sp'\n",
    "pp_names = ['al_HC.lda.recpot']\n",
    "prof_ob = PROFESS(run_dir, inpt_name, pp_names, atoms)\n",
    "prof_ob.get_forces()"
   ]
  },
  {
   "cell_type": "markdown",
   "metadata": {},
   "source": [
    "#### get potential energy from stdout"
   ]
  },
  {
   "cell_type": "code",
   "execution_count": 1,
   "metadata": {},
   "outputs": [],
   "source": [
    "from ase import units\n",
    "from ase import Atoms\n",
    "import numpy as np\n",
    "import profess_io as pio\n",
    "from cpmd import initialize_atoms\n",
    "from ase.calculators.general import Calculator\n",
    "import os\n",
    "import subprocess\n",
    "from profess_calculator import PROFESS2"
   ]
  },
  {
   "cell_type": "code",
   "execution_count": 2,
   "metadata": {},
   "outputs": [],
   "source": [
    "pos_file = '/home/misa/git_repositories/PROFESS/test/MD_NVE/saved/ion_step0.dat'\n",
    "vel_file = '/home/misa/git_repositories/PROFESS/test/MD_NVE/saved/vel_step0.dat'\n",
    "cell_param = [[3.97, 0, 0], [0, 3.97, 0], [0, 0, 3.97]]\n",
    "atoms = initialize_atoms(pos_file, vel_file, cell_param, pos_type='FRAC')"
   ]
  },
  {
   "cell_type": "code",
   "execution_count": 3,
   "metadata": {},
   "outputs": [],
   "source": [
    "run_dir = '/home/misa/git_repositories/PROFESS/test/ase_singlepoint'\n",
    "inpt_name = 'sp'\n",
    "pp_names = ['al_HC.lda.recpot']\n",
    "prof_ob = PROFESS2(run_dir, inpt_name, pp_names, atoms)\n"
   ]
  },
  {
   "cell_type": "code",
   "execution_count": null,
   "metadata": {},
   "outputs": [],
   "source": [
    "prof_ob.energy_zero"
   ]
  },
  {
   "cell_type": "code",
   "execution_count": 4,
   "metadata": {},
   "outputs": [],
   "source": [
    "forces= prof_ob.get_forces()"
   ]
  },
  {
   "cell_type": "code",
   "execution_count": 5,
   "metadata": {},
   "outputs": [
    {
     "name": "stdout",
     "output_type": "stream",
     "text": [
      "I am called\n"
     ]
    },
    {
     "data": {
      "text/plain": [
       "-231.361904387328"
      ]
     },
     "execution_count": 5,
     "metadata": {},
     "output_type": "execute_result"
    }
   ],
   "source": [
    "prof_ob.get_potential_energy()"
   ]
  }
 ],
 "metadata": {
  "kernelspec": {
   "display_name": "Python [conda env:atomic-energies]",
   "language": "python",
   "name": "conda-env-atomic-energies-py"
  },
  "language_info": {
   "codemirror_mode": {
    "name": "ipython",
    "version": 3
   },
   "file_extension": ".py",
   "mimetype": "text/x-python",
   "name": "python",
   "nbconvert_exporter": "python",
   "pygments_lexer": "ipython3",
   "version": "3.7.3"
  }
 },
 "nbformat": 4,
 "nbformat_minor": 2
}
