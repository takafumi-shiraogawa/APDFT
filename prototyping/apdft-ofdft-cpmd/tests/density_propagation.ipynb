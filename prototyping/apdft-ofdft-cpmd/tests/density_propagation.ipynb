{
 "cells": [
  {
   "cell_type": "code",
   "execution_count": 1,
   "metadata": {},
   "outputs": [],
   "source": [
    "import sys\n",
    "sys.path.insert(0, '/home/misa/git_repositories/APDFT/prototyping/apdft-ofdft-cpmd/')\n",
    "\n",
    "from profess_calculator import PROFESS_CPMD\n",
    "import profess_io as pio\n",
    "from cpmd import initialize_atoms\n",
    "from density_calculators import DensityOptimizerCPMD\n",
    "\n",
    "from ase.md.verlet import VelocityVerlet\n",
    "from ase import units\n",
    "from ase import Atoms\n",
    "from ase.io.trajectory import Trajectory\n",
    "\n",
    "import numpy as np\n",
    "from matplotlib import pyplot as plt\n",
    "\n",
    "import os\n",
    "#import pixiedust"
   ]
  },
  {
   "cell_type": "code",
   "execution_count": null,
   "metadata": {},
   "outputs": [],
   "source": []
  },
  {
   "cell_type": "code",
   "execution_count": null,
   "metadata": {},
   "outputs": [],
   "source": [
    "base_dir = '/home/misa/projects/APDFT-CPMD/data/CPMD/debug_density_propagation/'\n",
    "target_dirs = []\n",
    "for i in range(3):\n",
    "    target_dirs.append(base_dir+f'step{i+1}')"
   ]
  },
  {
   "cell_type": "code",
   "execution_count": null,
   "metadata": {},
   "outputs": [],
   "source": [
    "target_dirs"
   ]
  },
  {
   "cell_type": "markdown",
   "metadata": {},
   "source": [
    "### Make ion files for every step"
   ]
  },
  {
   "cell_type": "code",
   "execution_count": null,
   "metadata": {},
   "outputs": [],
   "source": [
    "traj = Trajectory('/home/misa/projects/APDFT-CPMD/data/CPMD/debug_Si8/Si8_debug.traj')\n",
    "pp_names = ['si.lda.recpot']"
   ]
  },
  {
   "cell_type": "code",
   "execution_count": null,
   "metadata": {},
   "outputs": [],
   "source": [
    "for i in range(3):\n",
    "    td=target_dirs[i]\n",
    "    atoms = traj[i]\n",
    "    ion_file = pio.generate_ion_file(atoms.get_cell(), atoms.get_chemical_symbols(), atoms.get_positions(), 'CART', pp_names)\n",
    "    pio.write_file(td+'/debug.ion', ion_file)"
   ]
  },
  {
   "cell_type": "code",
   "execution_count": null,
   "metadata": {},
   "outputs": [],
   "source": [
    "traj[2].get_positions()"
   ]
  },
  {
   "cell_type": "markdown",
   "metadata": {},
   "source": [
    "### Calculate dEdX at every step"
   ]
  },
  {
   "cell_type": "markdown",
   "metadata": {},
   "source": [
    "### Step 0 -> 1"
   ]
  },
  {
   "cell_type": "code",
   "execution_count": null,
   "metadata": {},
   "outputs": [],
   "source": [
    "# initialize atoms object from PROFESS files\n",
    "pos_file = '/home/misa/projects/APDFT-CPMD/data/CPMD/debug_density_propagation/step0/debug.ion'\n",
    "vel_file = '/home/misa/projects/APDFT-CPMD/data/BOMD/ase_NVE/Si8_hc/vel.restart_file'\n",
    "atoms = initialize_atoms(pos_file, vel_file, pos_type='CART')\n",
    "\n",
    "# set parameters for PROFESS calculation\n",
    "profess_path = '/home/misa/software/PROFESS-1/PROFESS' # on avl24\n",
    "#profess_path = '/home/misa/opt/PROFESS-1/PROFESS' # on avl51\n",
    "run_dir = '/home/misa/projects/APDFT-CPMD/data/CPMD/debug_density_propagation/step0'\n",
    "inpt_name = 'debug'\n",
    "\n",
    "mu = 380\n",
    "dt = 0.096 # time interval in fs\n",
    "t = 9.6 # total time in fs\n",
    "\n",
    "# create and initialize DensityOptimizer\n",
    "DensOpt = DensityOptimizerCPMD()\n",
    "DensOpt.initialize(atoms, dt*units.fs, inpt_name, mu, profess_path, run_dir)\n",
    "\n",
    "DensOpt.optimize_vv()"
   ]
  },
  {
   "cell_type": "markdown",
   "metadata": {},
   "source": [
    "### Step 1 -> 2"
   ]
  },
  {
   "cell_type": "code",
   "execution_count": null,
   "metadata": {},
   "outputs": [],
   "source": [
    "# initialize atoms object from PROFESS files\n",
    "pos_file = '/home/misa/projects/APDFT-CPMD/data/CPMD/debug_density_propagation/step1/debug.ion'\n",
    "vel_file = '/home/misa/projects/APDFT-CPMD/data/BOMD/ase_NVE/Si8_hc/vel.restart_file'\n",
    "atoms = initialize_atoms(pos_file, vel_file, pos_type='CART')\n",
    "\n",
    "# set parameters for PROFESS calculation\n",
    "profess_path = '/home/misa/software/PROFESS-1/PROFESS' # on avl24\n",
    "#profess_path = '/home/misa/opt/PROFESS-1/PROFESS' # on avl51\n",
    "run_dir = '/home/misa/projects/APDFT-CPMD/data/CPMD/debug_density_propagation/step1'\n",
    "inpt_name = 'debug'\n",
    "\n",
    "mu = 380\n",
    "dt = 0.096 # time interval in fs\n",
    "t = 9.6 # total time in fs\n",
    "\n",
    "# create and initialize DensityOptimizer\n",
    "DensOpt = DensityOptimizerCPMD()\n",
    "DensOpt.initialize(atoms, dt*units.fs, inpt_name, mu, profess_path, run_dir)\n",
    "DensOpt.step = 1\n",
    "DensOpt.optimize_vv()"
   ]
  },
  {
   "cell_type": "markdown",
   "metadata": {},
   "source": [
    "### Step 2 -> 3"
   ]
  },
  {
   "cell_type": "code",
   "execution_count": 2,
   "metadata": {},
   "outputs": [],
   "source": [
    "# initialize atoms object from PROFESS files\n",
    "pos_file = '/home/misa/projects/APDFT-CPMD/data/CPMD/debug_density_propagation/step2/debug.ion'\n",
    "vel_file = '/home/misa/projects/APDFT-CPMD/data/BOMD/ase_NVE/Si8_hc/vel.restart_file'\n",
    "atoms = initialize_atoms(pos_file, vel_file, pos_type='CART')\n",
    "\n",
    "# set parameters for PROFESS calculation\n",
    "profess_path = '/home/misa/software/PROFESS-1/PROFESS' # on avl24\n",
    "#profess_path = '/home/misa/opt/PROFESS-1/PROFESS' # on avl51\n",
    "run_dir = '/home/misa/projects/APDFT-CPMD/data/CPMD/debug_density_propagation/step2'\n",
    "inpt_name = 'debug'\n",
    "\n",
    "mu = 380\n",
    "dt = 0.096 # time interval in fs\n",
    "t = 9.6 # total time in fs\n",
    "\n",
    "# create and initialize DensityOptimizer\n",
    "DensOpt = DensityOptimizerCPMD()\n",
    "DensOpt.initialize(atoms, dt*units.fs, inpt_name, mu, profess_path, run_dir)\n",
    "DensOpt.step = 2\n",
    "DensOpt.optimize_vv()"
   ]
  },
  {
   "cell_type": "markdown",
   "metadata": {},
   "source": [
    "### Step 3 -> 4"
   ]
  },
  {
   "cell_type": "code",
   "execution_count": 3,
   "metadata": {},
   "outputs": [],
   "source": [
    "# initialize atoms object from PROFESS files\n",
    "pos_file = '/home/misa/projects/APDFT-CPMD/data/CPMD/debug_density_propagation/step3/debug.ion'\n",
    "vel_file = '/home/misa/projects/APDFT-CPMD/data/BOMD/ase_NVE/Si8_hc/vel.restart_file'\n",
    "atoms = initialize_atoms(pos_file, vel_file, pos_type='CART')\n",
    "\n",
    "# set parameters for PROFESS calculation\n",
    "profess_path = '/home/misa/software/PROFESS-1/PROFESS' # on avl24\n",
    "#profess_path = '/home/misa/opt/PROFESS-1/PROFESS' # on avl51\n",
    "run_dir = '/home/misa/projects/APDFT-CPMD/data/CPMD/debug_density_propagation/step3'\n",
    "inpt_name = 'debug'\n",
    "\n",
    "mu = 380\n",
    "dt = 0.096 # time interval in fs\n",
    "t = 9.6 # total time in fs\n",
    "\n",
    "# create and initialize DensityOptimizer\n",
    "DensOpt = DensityOptimizerCPMD()\n",
    "DensOpt.initialize(atoms, dt*units.fs, inpt_name, mu, profess_path, run_dir)\n",
    "DensOpt.step = 3\n",
    "DensOpt.optimize_vv()"
   ]
  },
  {
   "cell_type": "code",
   "execution_count": null,
   "metadata": {},
   "outputs": [],
   "source": []
  },
  {
   "cell_type": "code",
   "execution_count": null,
   "metadata": {},
   "outputs": [],
   "source": []
  },
  {
   "cell_type": "code",
   "execution_count": 17,
   "metadata": {},
   "outputs": [],
   "source": [
    "dEdX0 = np.loadtxt('/home/misa/projects/APDFT-CPMD/data/CPMD/debug_Si8/step0/dEdX', skiprows= 1)\n",
    "dEdX1 = np.loadtxt('/home/misa/projects/APDFT-CPMD/data/CPMD/debug_Si8/step1/dEdX', skiprows= 1)\n",
    "dEdX2 = np.loadtxt('/home/misa/projects/APDFT-CPMD/data/CPMD/debug_Si8/step2/dEdX', skiprows= 1)\n",
    "dEdX3 = np.loadtxt('/home/misa/projects/APDFT-CPMD/data/CPMD/debug_Si8/step3/dEdX', skiprows= 1)\n",
    "dEdX4 = np.loadtxt('/home/misa/projects/APDFT-CPMD/data/CPMD/debug_Si8/step4/dEdX', skiprows= 1)"
   ]
  },
  {
   "cell_type": "code",
   "execution_count": 14,
   "metadata": {},
   "outputs": [
    {
     "data": {
      "text/plain": [
       "[<matplotlib.lines.Line2D at 0x7fbba88df470>]"
      ]
     },
     "execution_count": 14,
     "metadata": {},
     "output_type": "execute_result"
    },
    {
     "data": {
      "image/png": "[encoded data removed]",
      "text/plain": [
       "<Figure size 432x288 with 1 Axes>"
      ]
     },
     "metadata": {
      "needs_background": "light"
     },
     "output_type": "display_data"
    }
   ],
   "source": [
    "fig, ax = plt.subplots(1,1)\n",
    "\n",
    "ax.plot(dEdX4)\n",
    "ax.plot(dEdX3)\n",
    "ax.plot(dEdX2)\n",
    "ax.plot(dEdX1)\n"
   ]
  },
  {
   "cell_type": "code",
   "execution_count": 27,
   "metadata": {},
   "outputs": [
    {
     "data": {
      "text/plain": [
       "[<matplotlib.lines.Line2D at 0x7fbba868b908>]"
      ]
     },
     "execution_count": 27,
     "metadata": {},
     "output_type": "execute_result"
    },
    {
     "data": {
      "image/png": "[encoded data removed]",
      "text/plain": [
       "<Figure size 432x288 with 1 Axes>"
      ]
     },
     "metadata": {
      "needs_background": "light"
     },
     "output_type": "display_data"
    }
   ],
   "source": [
    "fig, ax = plt.subplots(1,1)\n",
    "\n",
    "#ax.plot(dEdX3)\n",
    "#ax.plot(dEdX1-dEdX0)\n",
    "#ax.plot(dEdX1)\n",
    "ax.plot(dEdX0)"
   ]
  },
  {
   "cell_type": "code",
   "execution_count": 26,
   "metadata": {},
   "outputs": [
    {
     "data": {
      "text/plain": [
       "0.0"
      ]
     },
     "execution_count": 26,
     "metadata": {},
     "output_type": "execute_result"
    }
   ],
   "source": [
    "np.amin(dEdX1-dEdX0)"
   ]
  },
  {
   "cell_type": "code",
   "execution_count": null,
   "metadata": {},
   "outputs": [],
   "source": []
  }
 ],
 "metadata": {
  "kernelspec": {
   "display_name": "Python [conda env:atomic-energies]",
   "language": "python",
   "name": "conda-env-atomic-energies-py"
  },
  "language_info": {
   "codemirror_mode": {
    "name": "ipython",
    "version": 3
   },
   "file_extension": ".py",
   "mimetype": "text/x-python",
   "name": "python",
   "nbconvert_exporter": "python",
   "pygments_lexer": "ipython3",
   "version": "3.7.3"
  }
 },
 "nbformat": 4,
 "nbformat_minor": 4
}
