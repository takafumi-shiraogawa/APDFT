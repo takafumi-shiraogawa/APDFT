{
 "cells": [
  {
   "cell_type": "markdown",
   "metadata": {},
   "source": [
    "#### Why are some of the positions negative and so different from intial//final geometry?\n",
    "\n",
    "- Run MD for 1 step\n",
    "\n",
    "- compute absoulte coordinates for final.geom\n",
    "- add length of unit cell to negative values in MD-1 (this shifts the coordinate into the unit cell where everything is positive)\n",
    "\n",
    "- compare positions from final.geom and ion.1.dat $\\rightarrow$ they are identical (within numerical precision)\n"
   ]
  },
  {
   "cell_type": "code",
   "execution_count": 1,
   "metadata": {},
   "outputs": [],
   "source": [
    "from ase import Atoms\n",
    "import numpy as np\n",
    "from ase.calculators.general import Calculator\n",
    "from ase.md.verlet import VelocityVerlet\n",
    "from ase import units\n",
    "length = 3.97"
   ]
  },
  {
   "cell_type": "markdown",
   "metadata": {},
   "source": [
    "#### inital geometry file"
   ]
  },
  {
   "cell_type": "code",
   "execution_count": 2,
   "metadata": {},
   "outputs": [],
   "source": [
    "frac1_i =  np.array([0,0,0])\n",
    "frac2_i = np.array([0.5, 0.6, 0])\n",
    "frac3_i = np.array([0,  0.5, 0.5])\n",
    "frac4_i = np.array([0.5, 0, 0.5])\n",
    "\n",
    "fracs_i = [frac1_i,frac2_i,frac3_i,frac4_i]\n",
    "\n",
    "abs_i = []\n",
    "for f in fracs_i:\n",
    "    abs_i.append(length*f)\n",
    "abs_i = np.array(abs_i)"
   ]
  },
  {
   "cell_type": "code",
   "execution_count": 3,
   "metadata": {},
   "outputs": [
    {
     "data": {
      "text/plain": [
       "array([[0.   , 0.   , 0.   ],\n",
       "       [1.985, 2.382, 0.   ],\n",
       "       [0.   , 1.985, 1.985],\n",
       "       [1.985, 0.   , 1.985]])"
      ]
     },
     "execution_count": 3,
     "metadata": {},
     "output_type": "execute_result"
    }
   ],
   "source": [
    "abs_i"
   ]
  },
  {
   "cell_type": "markdown",
   "metadata": {},
   "source": [
    "#### final geometry file"
   ]
  },
  {
   "cell_type": "code",
   "execution_count": 4,
   "metadata": {},
   "outputs": [],
   "source": [
    "frac1 =  np.array([0.748809049954232,   0.724820103634806,   0.748922820058295])\n",
    "frac2 =    np.array([0.251440730256209,   0.324518387592636,   0.750709679690510])\n",
    "frac3 =    np.array([0.750092630352505,   0.223760753399931,   0.250954990569445])\n",
    "frac4 =    np.array([0.249657589437055,   0.726900738707145,   0.249412509681749])\n",
    "\n",
    "fracs = [frac1,frac2,frac3,frac4]\n",
    "\n",
    "abs_ = []\n",
    "for f in fracs:\n",
    "    abs_.append(length*f)\n",
    "abs_ = np.array(abs_)"
   ]
  },
  {
   "cell_type": "code",
   "execution_count": 5,
   "metadata": {},
   "outputs": [
    {
     "data": {
      "text/plain": [
       "array([[2.97277193, 2.87753581, 2.9732236 ],\n",
       "       [0.9982197 , 1.288338  , 2.98031743],\n",
       "       [2.97786774, 0.88833019, 0.99629131],\n",
       "       [0.99114063, 2.88579593, 0.99016766]])"
      ]
     },
     "execution_count": 5,
     "metadata": {},
     "output_type": "execute_result"
    }
   ],
   "source": [
    "abs_"
   ]
  },
  {
   "cell_type": "markdown",
   "metadata": {},
   "source": [
    "#### md file"
   ]
  },
  {
   "cell_type": "code",
   "execution_count": 6,
   "metadata": {},
   "outputs": [],
   "source": [
    "abs1_md =  np.array([-9.97228072E-01,   -1.09246419E+00,   -9.96776404E-01])\n",
    "abs2_md =  np.array([9.98219699E-01,    1.28833800E+00,   -9.89682572E-01])\n",
    "abs3_md =  np.array([-9.92132258E-01,    8.88330191E-01,    9.96291313E-01])\n",
    "abs4_md =  np.array([9.91140630E-01,   -1.08420407E+00,    9.90167663E-01])\n",
    "abs_md = [abs1_md, abs2_md, abs3_md, abs4_md]\n",
    "\n",
    "for atom in abs_md:\n",
    "    for i,c in enumerate(atom):\n",
    "        if c < 0:\n",
    "            atom[i] = c + length"
   ]
  },
  {
   "cell_type": "code",
   "execution_count": 7,
   "metadata": {},
   "outputs": [
    {
     "data": {
      "text/plain": [
       "[array([2.97277193, 2.87753581, 2.9732236 ]),\n",
       " array([0.9982197 , 1.288338  , 2.98031743]),\n",
       " array([2.97786774, 0.88833019, 0.99629131]),\n",
       " array([0.99114063, 2.88579593, 0.99016766])]"
      ]
     },
     "execution_count": 7,
     "metadata": {},
     "output_type": "execute_result"
    }
   ],
   "source": [
    "abs_md"
   ]
  },
  {
   "cell_type": "code",
   "execution_count": 20,
   "metadata": {},
   "outputs": [
    {
     "data": {
      "text/plain": [
       "True"
      ]
     },
     "execution_count": 20,
     "metadata": {},
     "output_type": "execute_result"
    }
   ],
   "source": [
    "np.allclose(abs_, abs_md)"
   ]
  },
  {
   "cell_type": "code",
   "execution_count": 21,
   "metadata": {},
   "outputs": [
    {
     "data": {
      "text/plain": [
       "array([[ 3.18300941e-10,  1.43017953e-09, -3.68569175e-10],\n",
       "       [ 1.17149845e-10, -1.25723498e-09,  3.71324305e-10],\n",
       "       [ 4.99444930e-10, -2.27384778e-12, -4.39303371e-10],\n",
       "       [ 6.51083631e-11,  2.66736544e-09,  4.36543579e-10]])"
      ]
     },
     "execution_count": 21,
     "metadata": {},
     "output_type": "execute_result"
    }
   ],
   "source": [
    "abs_ - abs_md"
   ]
  }
 ],
 "metadata": {
  "kernelspec": {
   "display_name": "Python [conda env:atomic-energies]",
   "language": "python",
   "name": "conda-env-atomic-energies-py"
  },
  "language_info": {
   "codemirror_mode": {
    "name": "ipython",
    "version": 3
   },
   "file_extension": ".py",
   "mimetype": "text/x-python",
   "name": "python",
   "nbconvert_exporter": "python",
   "pygments_lexer": "ipython3",
   "version": "3.7.3"
  }
 },
 "nbformat": 4,
 "nbformat_minor": 2
}
