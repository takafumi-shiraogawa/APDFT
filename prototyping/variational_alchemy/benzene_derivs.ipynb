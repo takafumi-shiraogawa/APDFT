{
 "cells": [
  {
   "cell_type": "code",
   "execution_count": 1,
   "metadata": {},
   "outputs": [],
   "source": [
    "from pyscf import gto,scf\n",
    "from pyscf.geomopt.berny_solver import optimize\n",
    "import numpy as np\n",
    "from alch_deriv import alch_deriv\n",
    "import matplotlib.pyplot as plt\n",
    "def DeltaV(mol,dL):\n",
    "    mol.set_rinv_orig_(mol.atom_coords()[dL[0][0]])\n",
    "    dV=mol.intor('int1e_rinv')*dL[1][0]\n",
    "    for i in range(1,len(dL[0])): \n",
    "        mol.set_rinv_orig_(mol.atom_coords()[dL[0][i]])\n",
    "        dV+=mol.intor('int1e_rinv')*dL[1][i]\n",
    "    return -dV.reshape((dV.shape[0],dV.shape[1]))\n",
    "#ao_div=mol0.aoslice_by_atom()[:,-2:]\n",
    "#pt=ao_div[1][0]\n",
    "def change_order(P0,pt):  # to rotate the idx of the carbon atoms\n",
    "    Pn=np.zeros_like(P0)\n",
    "    Pn[:-pt,:-pt]=P0[pt:,pt:]\n",
    "    Pn[-pt:,-pt:]=P0[:pt,:pt]\n",
    "    Pn[:-pt,-pt:]=P0[pt:,:pt]\n",
    "    Pn[-pt:,:-pt]=P0[:pt,pt:]\n",
    "    return Pn"
   ]
  },
  {
   "cell_type": "code",
   "execution_count": 2,
   "metadata": {},
   "outputs": [],
   "source": [
    "benz_atom=\"\"\"C 0.0 2.6196127020137916 0.0;\n",
    "H 0.0 4.652157753665769 0.0;\n",
    "C 2.268651148020338 1.309806351006896 0.0;\n",
    "H 4.028886797087305 2.326078876832885 0.0;\n",
    "C 2.2686511480203384 -1.3098063510068951 0.0;\n",
    "H 4.028886797087305 -2.3260788768328835 0.0;\n",
    "C 3.208100310526939e-16 -2.6196127020137916 0.0;\n",
    "H 5.697250102155325e-16 -4.652157753665769 0.0;\n",
    "C -2.2686511480203375 -1.309806351006897 0.0;\n",
    "H -4.028886797087303 -2.3260788768328866 0.0;\n",
    "C -2.2686511480203393 1.309806351006894 0.0;\n",
    "H -4.028886797087306 2.3260788768328813 0.0\n",
    "\"\"\"\n",
    "mol_benz = gto.M(atom=benz_atom, basis='6-31G',unit='bohr')"
   ]
  },
  {
   "cell_type": "code",
   "execution_count": 3,
   "metadata": {},
   "outputs": [],
   "source": [
    "#mf_benz=scf.RHF(mol_benz)\n",
    "#optimize(mf_benz)\n",
    "pass"
   ]
  },
  {
   "cell_type": "code",
   "execution_count": 4,
   "metadata": {},
   "outputs": [
    {
     "name": "stdout",
     "output_type": "stream",
     "text": [
      "converged SCF energy = -230.624474947016\n"
     ]
    },
    {
     "data": {
      "text/plain": [
       "-230.62447494701618"
      ]
     },
     "execution_count": 4,
     "metadata": {},
     "output_type": "execute_result"
    }
   ],
   "source": [
    "benz_atom_opt=\"\"\" C   0.000000   1.388317  0.000000;  \n",
    "   H  -0.000000   2.461627  -0.000000  ;\n",
    "   C   1.202318   0.694159   0.000000  ;\n",
    "   H   2.131832   1.230814  -0.000000  ;\n",
    "   C   1.202318  -0.694159  -0.000000  ;\n",
    "   H   2.131832  -1.230814  -0.000000  ;\n",
    "   C   0.000000  -1.388317   0.000000  ;\n",
    "   H   0.000000  -2.461627   0.000000  ;\n",
    "   C  -1.202318  -0.694159  -0.000000  ;\n",
    "   H  -2.131832  -1.230814  -0.000000  ;\n",
    "   C  -1.202318   0.694159   0.000000  ;\n",
    "   H  -2.131832   1.230814  -0.000000  \n",
    "\"\"\"\n",
    "mol_benz = gto.M(atom=benz_atom_opt, basis='6-31G') #angstroms not unir\n",
    "mf_benz=scf.RHF(mol_benz)\n",
    "mf_benz.scf()"
   ]
  },
  {
   "cell_type": "code",
   "execution_count": 5,
   "metadata": {},
   "outputs": [
    {
     "name": "stdout",
     "output_type": "stream",
     "text": [
      "[6 1 6 1 6 1 6 1 6 1 6 1]\n"
     ]
    }
   ],
   "source": [
    "P0=mf_benz.make_rdm1()\n",
    "print(mol_benz.atom_charges())"
   ]
  },
  {
   "cell_type": "code",
   "execution_count": 6,
   "metadata": {},
   "outputs": [
    {
     "name": "stdout",
     "output_type": "stream",
     "text": [
      "[[2, 4], [1, -1]]\n",
      "[[2], [1]]\n",
      "[[4], [-1]]\n"
     ]
    }
   ],
   "source": [
    "dP1,dP2,dP3=alch_deriv(mf_benz,dL=[[2,4],[1,-1]])[1],alch_deriv(mf_benz,dL=[[2],[1]])[1],alch_deriv(mf_benz,dL=[[4],[-1]])[1]"
   ]
  },
  {
   "cell_type": "code",
   "execution_count": 7,
   "metadata": {},
   "outputs": [
    {
     "data": {
      "text/plain": [
       "True"
      ]
     },
     "execution_count": 7,
     "metadata": {},
     "output_type": "execute_result"
    }
   ],
   "source": [
    "np.allclose(dP1,dP2+dP3)"
   ]
  },
  {
   "cell_type": "code",
   "execution_count": 8,
   "metadata": {},
   "outputs": [
    {
     "data": {
      "text/plain": [
       "0.002297111295432446"
      ]
     },
     "execution_count": 8,
     "metadata": {},
     "output_type": "execute_result"
    }
   ],
   "source": [
    "np.linalg.norm(dP1)"
   ]
  },
  {
   "cell_type": "code",
   "execution_count": 9,
   "metadata": {},
   "outputs": [
    {
     "data": {
      "text/plain": [
       "0.0017096521205838841"
      ]
     },
     "execution_count": 9,
     "metadata": {},
     "output_type": "execute_result"
    }
   ],
   "source": [
    "np.linalg.norm(dP2)"
   ]
  },
  {
   "cell_type": "code",
   "execution_count": 10,
   "metadata": {},
   "outputs": [
    {
     "data": {
      "text/plain": [
       "0.0017096521205836037"
      ]
     },
     "execution_count": 10,
     "metadata": {},
     "output_type": "execute_result"
    }
   ],
   "source": [
    "np.linalg.norm(dP3)"
   ]
  },
  {
   "cell_type": "code",
   "execution_count": 11,
   "metadata": {},
   "outputs": [
    {
     "data": {
      "text/plain": [
       "0.002297099217332035"
      ]
     },
     "execution_count": 11,
     "metadata": {},
     "output_type": "execute_result"
    }
   ],
   "source": [
    "np.linalg.norm(dP2+dP3)"
   ]
  },
  {
   "cell_type": "code",
   "execution_count": 12,
   "metadata": {},
   "outputs": [
    {
     "data": {
      "text/plain": [
       "6.720900829931674e-08"
      ]
     },
     "execution_count": 12,
     "metadata": {},
     "output_type": "execute_result"
    }
   ],
   "source": [
    "np.linalg.norm(dP1-dP2-dP3)"
   ]
  },
  {
   "cell_type": "code",
   "execution_count": 13,
   "metadata": {},
   "outputs": [],
   "source": [
    "#easy to get derivatives "
   ]
  },
  {
   "cell_type": "code",
   "execution_count": 14,
   "metadata": {},
   "outputs": [
    {
     "data": {
      "text/plain": [
       "-1.3001730133412313"
      ]
     },
     "execution_count": 14,
     "metadata": {},
     "output_type": "execute_result"
    }
   ],
   "source": [
    "dP2.dot(DeltaV(mol_benz,[[2],[1]])).trace()*1000"
   ]
  },
  {
   "cell_type": "code",
   "execution_count": 15,
   "metadata": {},
   "outputs": [
    {
     "data": {
      "text/plain": [
       "-24.532275644715583"
      ]
     },
     "execution_count": 15,
     "metadata": {},
     "output_type": "execute_result"
    }
   ],
   "source": [
    "np.einsum('ij,ij',P0,DeltaV(mol_benz,[[2],[1]]))"
   ]
  },
  {
   "cell_type": "code",
   "execution_count": 16,
   "metadata": {},
   "outputs": [
    {
     "data": {
      "text/plain": [
       "-24.53227564471558"
      ]
     },
     "execution_count": 16,
     "metadata": {},
     "output_type": "execute_result"
    }
   ],
   "source": [
    "P0.dot(DeltaV(mol_benz,[[2],[1]])).trace()"
   ]
  },
  {
   "cell_type": "code",
   "execution_count": 17,
   "metadata": {},
   "outputs": [
    {
     "data": {
      "text/plain": [
       "2.9596117223640306e-14"
      ]
     },
     "execution_count": 17,
     "metadata": {},
     "output_type": "execute_result"
    }
   ],
   "source": [
    "np.einsum('ij,ij',P0,DeltaV(mol_benz,[[2,4],[1,-1]]))"
   ]
  },
  {
   "cell_type": "markdown",
   "metadata": {},
   "source": [
    "## Build the alchemical Hessian Matrix\n",
    "$$ H_{\\alpha\\beta} = \\frac{\\partial^2 E_{electronic}}{\\partial Z_\\alpha \\partial Z_\\beta}= \\frac{\\partial}{\\partial Z_\\beta}\n",
    "\\sum_{ij} P_{ij}\\frac{\\partial V_{ij}}{\\partial Z_\\alpha}\n",
    "$$ \n",
    "$$=\\sum_{ij} \\frac{\\partial P_{ij}}{\\partial Z_\\beta}\\frac{\\partial V_{ij}}{\\partial Z_\\alpha}+\n",
    "\\sum_{ij} P_{ij}\\frac{\\partial^2 V_{ij}}{\\partial Z_\\alpha \\partial Z_\\beta}\n",
    "$$\n",
    "The second term is zero since $V$ contains only first order terms in nuclear charges.\n",
    "Therefore:\n",
    "$$ H_{\\alpha\\beta} = \\sum_{ij} \\frac{\\partial P_{ij}}{\\partial Z_\\beta}\\frac{\\partial V_{ij}}{\\partial Z_\\alpha}\n",
    "$$"
   ]
  },
  {
   "cell_type": "code",
   "execution_count": 18,
   "metadata": {},
   "outputs": [
    {
     "name": "stdout",
     "output_type": "stream",
     "text": [
      "[[0], [1]]\n",
      "[[0], [1]]\n",
      "[[0], [1]]\n",
      "[[0], [1]]\n",
      "[[0], [1]]\n",
      "[[0], [1]]\n",
      "[[2], [1]]\n",
      "[[2], [1]]\n",
      "[[2], [1]]\n",
      "[[2], [1]]\n",
      "[[2], [1]]\n",
      "[[2], [1]]\n",
      "[[4], [1]]\n",
      "[[4], [1]]\n",
      "[[4], [1]]\n",
      "[[4], [1]]\n",
      "[[4], [1]]\n",
      "[[4], [1]]\n",
      "[[6], [1]]\n",
      "[[6], [1]]\n",
      "[[6], [1]]\n",
      "[[6], [1]]\n",
      "[[6], [1]]\n",
      "[[6], [1]]\n",
      "[[8], [1]]\n",
      "[[8], [1]]\n",
      "[[8], [1]]\n",
      "[[8], [1]]\n",
      "[[8], [1]]\n",
      "[[8], [1]]\n",
      "[[10], [1]]\n",
      "[[10], [1]]\n",
      "[[10], [1]]\n",
      "[[10], [1]]\n",
      "[[10], [1]]\n",
      "[[10], [1]]\n"
     ]
    }
   ],
   "source": [
    "#alchemical hessian on the coordinates of the charges of the C atoms \n",
    "H_alch=np.zeros((6,6))\n",
    "for i in range(6):\n",
    "    for j in range(6):\n",
    "        H_alch[i,j]=np.einsum('ij,ij',  alch_deriv(mf_benz,dL=[[2*i],[1]])[1] ,DeltaV(mol_benz,[[2*j],[1]]) )*1000  #idx in molecule are 0,2,4,..."
   ]
  },
  {
   "cell_type": "code",
   "execution_count": 19,
   "metadata": {},
   "outputs": [
    {
     "data": {
      "text/plain": [
       "<matplotlib.image.AxesImage at 0x7fe4fe688450>"
      ]
     },
     "execution_count": 19,
     "metadata": {},
     "output_type": "execute_result"
    },
    {
     "data": {
      "image/png": "[encoded data removed]",
      "text/plain": [
       "<Figure size 288x288 with 1 Axes>"
      ]
     },
     "metadata": {
      "needs_background": "light"
     },
     "output_type": "display_data"
    }
   ],
   "source": [
    "plt.matshow(H_alch)"
   ]
  },
  {
   "cell_type": "code",
   "execution_count": 20,
   "metadata": {},
   "outputs": [
    {
     "data": {
      "text/plain": [
       "(array([-1.46, -1.19, -1.17, -1.41, -1.41, -1.17]),\n",
       " array([[-0.41, -0.41,  0.58, -0.58, -0.  ,  0.  ],\n",
       "        [-0.41,  0.41, -0.29, -0.29, -0.5 , -0.5 ],\n",
       "        [-0.41, -0.41, -0.29,  0.29, -0.5 ,  0.5 ],\n",
       "        [-0.41,  0.41,  0.58,  0.58,  0.  ,  0.  ],\n",
       "        [-0.41, -0.41, -0.29,  0.29,  0.5 , -0.5 ],\n",
       "        [-0.41,  0.41, -0.29, -0.29,  0.5 ,  0.5 ]]))"
      ]
     },
     "execution_count": 20,
     "metadata": {},
     "output_type": "execute_result"
    }
   ],
   "source": [
    "np.round(np.linalg.eig(H_alch)[0],decimals=2),np.round(np.linalg.eig(H_alch)[1],decimals=2)"
   ]
  },
  {
   "cell_type": "code",
   "execution_count": 21,
   "metadata": {},
   "outputs": [
    {
     "data": {
      "text/plain": [
       "array([[-1.3 , -0.09, -0.01,  0.04, -0.01, -0.09],\n",
       "       [-0.09, -1.3 , -0.09, -0.01,  0.04, -0.01],\n",
       "       [-0.01, -0.09, -1.3 , -0.09, -0.01,  0.04],\n",
       "       [ 0.04, -0.01, -0.09, -1.3 , -0.09, -0.01],\n",
       "       [-0.01,  0.04, -0.01, -0.09, -1.3 , -0.09],\n",
       "       [-0.09, -0.01,  0.04, -0.01, -0.09, -1.3 ]])"
      ]
     },
     "execution_count": 21,
     "metadata": {},
     "output_type": "execute_result"
    }
   ],
   "source": [
    "np.round(H_alch,decimals=2)"
   ]
  },
  {
   "cell_type": "code",
   "execution_count": 22,
   "metadata": {},
   "outputs": [
    {
     "data": {
      "text/plain": [
       "-2.5783547285682493"
      ]
     },
     "execution_count": 22,
     "metadata": {},
     "output_type": "execute_result"
    }
   ],
   "source": [
    "np.array([1,0,-1,0,0,0]).dot(H_alch.dot(np.array([1,0,-1,0,0,0])))"
   ]
  },
  {
   "cell_type": "code",
   "execution_count": 23,
   "metadata": {},
   "outputs": [
    {
     "data": {
      "text/plain": [
       "array([-1.28917725e+00, -3.05799227e-07,  1.28917748e+00,  1.21986334e-01,\n",
       "        4.26941859e-08, -1.21986552e-01])"
      ]
     },
     "execution_count": 23,
     "metadata": {},
     "output_type": "execute_result"
    }
   ],
   "source": [
    "H_alch@(np.array([1,0,-1,0,0,0]))"
   ]
  },
  {
   "cell_type": "code",
   "execution_count": 24,
   "metadata": {},
   "outputs": [
    {
     "data": {
      "text/plain": [
       "-2.5783547285682493"
      ]
     },
     "execution_count": 24,
     "metadata": {},
     "output_type": "execute_result"
    }
   ],
   "source": [
    "(np.array([1,0,-1,0,0,0]))@H_alch@(np.array([1,0,-1,0,0,0])) #H11-H13+H33-H31 #vai a vedere il termine più alto fuori diag"
   ]
  },
  {
   "cell_type": "code",
   "execution_count": 25,
   "metadata": {},
   "outputs": [],
   "source": [
    "def bmatrix(a):\n",
    "    \"\"\"Returns a LaTeX bmatrix\n",
    "\n",
    "    :a: numpy array\n",
    "    :returns: LaTeX bmatrix as a string\n",
    "    \"\"\"\n",
    "    if len(a.shape) > 2:\n",
    "        raise ValueError('bmatrix can at most display two dimensions')\n",
    "    lines = str(a).replace('[', '').replace(']', '').splitlines()\n",
    "    rv = [r'\\begin{bmatrix}']\n",
    "    rv += ['  ' + ' & '.join(l.split()) + r'\\\\' for l in lines]\n",
    "    rv +=  [r'\\end{bmatrix}']\n",
    "    return '\\n'.join(rv)"
   ]
  },
  {
   "cell_type": "code",
   "execution_count": 28,
   "metadata": {},
   "outputs": [
    {
     "name": "stdout",
     "output_type": "stream",
     "text": [
      "\\begin{bmatrix}\n",
      "  -1.3 & -0.09 & -0.01 & 0.04 & -0.01 & -0.09\\\\\n",
      "  -0.09 & -1.3 & -0.09 & -0.01 & 0.04 & -0.01\\\\\n",
      "  -0.01 & -0.09 & -1.3 & -0.09 & -0.01 & 0.04\\\\\n",
      "  0.04 & -0.01 & -0.09 & -1.3 & -0.09 & -0.01\\\\\n",
      "  -0.01 & 0.04 & -0.01 & -0.09 & -1.3 & -0.09\\\\\n",
      "  -0.09 & -0.01 & 0.04 & -0.01 & -0.09 & -1.3\\\\\n",
      "\\end{bmatrix}\n"
     ]
    }
   ],
   "source": [
    "print(bmatrix(np.round(H_alch,decimals=2)))"
   ]
  },
  {
   "cell_type": "code",
   "execution_count": null,
   "metadata": {},
   "outputs": [],
   "source": []
  }
 ],
 "metadata": {
  "kernelspec": {
   "display_name": "Python 3",
   "language": "python",
   "name": "python3"
  },
  "language_info": {
   "codemirror_mode": {
    "name": "ipython",
    "version": 3
   },
   "file_extension": ".py",
   "mimetype": "text/x-python",
   "name": "python",
   "nbconvert_exporter": "python",
   "pygments_lexer": "ipython3",
   "version": "3.7.3"
  }
 },
 "nbformat": 4,
 "nbformat_minor": 4
}
