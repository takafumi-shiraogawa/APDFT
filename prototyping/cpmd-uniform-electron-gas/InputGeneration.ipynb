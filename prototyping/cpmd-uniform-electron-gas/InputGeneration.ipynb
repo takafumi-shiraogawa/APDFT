{
 "cells": [
  {
   "cell_type": "code",
   "execution_count": 1,
   "metadata": {},
   "outputs": [],
   "source": [
    "import numpy as np\n",
    "template_first = '''&CPMD\n",
    "  OPTIMIZE WAVEFUNCTION gEOMETRY\n",
    "  kOHN-SHAM ENERGIES\n",
    "   10\n",
    "  PRINT ON FORCES\n",
    "  MIRROR\n",
    "  CENTER MOLECULE ON\n",
    "  ELECTROSTATIC POTENTIAL\n",
    "  MAXSTEP\n",
    "  1\n",
    "&END\n",
    "\n",
    "&DFT\n",
    "  FUNCTIONAL LDA\n",
    "&END\n",
    "\n",
    "&PROP\n",
    "  DIPOLE MOMENT\n",
    "&END\n",
    "\n",
    "&SYSTEM\n",
    "  ANGSTROM\n",
    "  SYMMETRY\n",
    "   ORTHORHOMBIC\n",
    "  pOISSON SOLVER TUCKERMAN\n",
    "  CUTOFF\n",
    "   %f\n",
    "  CELL ABSOLUT\n",
    "        %f 1.0 1.0 0.0 0.0 0.0\n",
    "  CHARGE\n",
    "   %f\n",
    "&END\n",
    "\n",
    "&ATOMS\n",
    "%s\n",
    "&END'''\n",
    "template_second= '''&CPMD\n",
    "  OPTIMIZE WAVEFUNCTION gEOMETRY\n",
    "  RESTART WAVEFUNCTION LATEST\n",
    "  kOHN-SHAM ENERGIES\n",
    "   10\n",
    "  PRINT ON FORCES\n",
    "  MIRROR\n",
    "  RHOOUT\n",
    "  CENTER MOLECULE OFF\n",
    "  eLECTROSTATIC POTENTIAL\n",
    "  mAXSTEP\n",
    "  1\n",
    "&END\n",
    "\n",
    "&DFT\n",
    "  FUNCTIONAL LDA\n",
    "&END\n",
    "\n",
    "&PROP\n",
    "  DIPOLE MOMENT\n",
    "&END\n",
    "\n",
    "&SYSTEM\n",
    "  ANGSTROM\n",
    "  SYMMETRY\n",
    "   ORTHORHOMBIC\n",
    "  pOISSON SOLVER TUCKERMAN\n",
    "  CUTOFF\n",
    "   %f\n",
    "  CELL ABSOLUT\n",
    "   %f 1.0 1.0 0.0 0.0 0.0\n",
    "  CHARGE\n",
    "   %s\n",
    "&END\n",
    "\n",
    "&ATOMS\n",
    "%s\n",
    "&END'''"
   ]
  },
  {
   "cell_type": "code",
   "execution_count": 6,
   "metadata": {},
   "outputs": [],
   "source": [
    "lookup = {1: 'H', 6: 'C', 7: 'N', 8: 'O'}\n",
    "rlookup = {'C': 6, 'O': 8, 'N': 7}\n",
    "def get_atoms_section(nuclear_charges, coordinates):\n",
    "    nuclear_charges = np.array(nuclear_charges)\n",
    "    coordinates = np.array(coordinates)\n",
    "    ret = []\n",
    "    for kind in set(nuclear_charges):\n",
    "        ret.append('*%s_SG_LDA\\n LMAX=S' % lookup[kind])\n",
    "        idxs = np.where(nuclear_charges == kind)[0]\n",
    "        ret.append(' %d' % len(idxs))\n",
    "        for atom in idxs:\n",
    "            ret.append(' %f %f %f' % (coordinates[atom, 0], coordinates[atom, 1], coordinates[atom, 2]))\n",
    "    return '\\n'.join(ret)\n",
    "#print(get_atoms_section((6, 8), [[3, 4, 4], [5, 4, 4]]))\n",
    "def get_PP_file(Z, lval):\n",
    "    element = lookup[Z]\n",
    "    fn = '/home/misa/software/PP_LIBRARY/%s_SG_LDA' % element\n",
    "    ret = []\n",
    "    for line in open(fn).readlines():\n",
    "        if 'ZV' in line:\n",
    "            ZV = float(line.strip().split()[-1])\n",
    "            ret.append('  ZV = %f' % (ZV*lval))\n",
    "            continue\n",
    "        if '#C' in line:\n",
    "            parts = np.array([float(_) for _ in line.split('#')[0].strip().split()])\n",
    "            parts[1:] *= lval\n",
    "            formatstring = '%4d' + (len(parts)-1)*' %15.9f' + ' #C'\n",
    "            ret.append(formatstring % (*parts,))\n",
    "            continue\n",
    "        ret.append(line[:-1])\n",
    "    return ZV*(1-lval), '\\n'.join(ret)\n",
    "def center_coordinates(coords, box_length):\n",
    "    cog = coords.mean(axis=0)\n",
    "    cob = np.array([box_length/2.,box_length/2.,box_length/2.])\n",
    "    return coords + (cob - cog)\n",
    "def get_second_input(nuclear_charges, box_length, coordinates, cutoff, lval):\n",
    "    coordinates = center_coordinates(np.array(coordinates), box_length)\n",
    "    atoms = get_atoms_section(nuclear_charges, coordinates)\n",
    "    files = {}\n",
    "    charge = 0.\n",
    "    for kind in set(nuclear_charges):\n",
    "        element = lookup[kind]\n",
    "        this_charge, files['%s_SG_LDA' % element] = get_PP_file(kind, lval)\n",
    "        count = len([_ for _ in nuclear_charges if _ == kind])\n",
    "        charge -= count*this_charge\n",
    "        \n",
    "    files['run.inp'] = template_second % (cutoff, box_length, charge, atoms)\n",
    "    return files\n",
    "def get_first_input(nuclear_charges, box_length, coordinates, cutoff):\n",
    "    coordinates = center_coordinates(np.array(coordinates), box_length)\n",
    "    atoms = get_atoms_section(nuclear_charges, coordinates)\n",
    "    files = {}\n",
    "    charge = 0.\n",
    "    for kind in set(nuclear_charges):\n",
    "        element = lookup[kind]\n",
    "        this_charge, files['%s_SG_LDA' % element] = get_PP_file(kind, 1.0)\n",
    "        count = len([_ for _ in nuclear_charges if _ == kind])\n",
    "        charge -= count*this_charge\n",
    "        \n",
    "    files['run.inp'] = template_first % (cutoff, box_length, charge, atoms)\n",
    "    return files\n",
    "def read_xyz(fn):\n",
    "    lines = open(fn).readlines()[2:]\n",
    "    elements = []\n",
    "    coords = []\n",
    "    for line in lines:\n",
    "        parts = line.strip().split()\n",
    "        elements.append(rlookup[parts[0]])\n",
    "        coords.append([float(_) for _ in parts[1:]])\n",
    "    return elements, coords"
   ]
  },
  {
   "cell_type": "code",
   "execution_count": 9,
   "metadata": {},
   "outputs": [
    {
     "data": {
      "text/plain": [
       "(0.5,\n",
       " ' &ATOM\\n  Z  =   1.00000000000000000\\n  ZV = 0.500000\\n  XC = 1100        .666667\\n  TYPE = NORMCONSERVING GOEDECKER\\n &END\\n &INFO\\n    >>>>>>>>>>>>>>>>>>>>>>>>>>>>>>>>>>>>>>>>>>>>>>>>>>>>>>>>>>>>\\n    >    HYDROGEN LDA-PSEUDOPOTENTIAL (GOEDECKER TYPE)         >\\n    >>>>>>>>>>>>>>>>>>>>>>>>>>>>>>>>>>>>>>>>>>>>>>>>>>>>>>>>>>>>\\n &END\\n &POTENTIAL\\n     GOEDECKER\\n   0                                    LMAX\\n       .2000                                 RC\\n   2    -2.033166300     0.338916100 #C\\n &END')"
      ]
     },
     "execution_count": 9,
     "metadata": {},
     "output_type": "execute_result"
    }
   ],
   "source": [
    "get_PP_file(1, 0.5)"
   ]
  },
  {
   "cell_type": "code",
   "execution_count": 49,
   "metadata": {},
   "outputs": [
    {
     "data": {
      "text/plain": [
       "([6, 8], [[3.0, 4.0, 4.0], [5.0, 4.0, 4.0]])"
      ]
     },
     "execution_count": 49,
     "metadata": {},
     "output_type": "execute_result"
    }
   ],
   "source": [
    "#get_first_input((6, 8), 10, [[3, 4, 4], [5, 4, 4]], 200)\n",
    "read_xyz('/mnt/c/Users/guido/workcopies/apdft/prototyping/cpmd-uniform-electron-gas/data/CO-2/inp.xyz')"
   ]
  },
  {
   "cell_type": "code",
   "execution_count": null,
   "metadata": {},
   "outputs": [],
   "source": [
    "# molecule/inp.xyzls\n",
    "\n",
    "# molecule/box-10/init/\n",
    "# molecule/box-10/lval-../"
   ]
  }
 ],
 "metadata": {
  "kernelspec": {
   "display_name": "Python (atmoic-energies)",
   "language": "python",
   "name": "atomic-energies"
  },
  "language_info": {
   "codemirror_mode": {
    "name": "ipython",
    "version": 3
   },
   "file_extension": ".py",
   "mimetype": "text/x-python",
   "name": "python",
   "nbconvert_exporter": "python",
   "pygments_lexer": "ipython3",
   "version": "3.7.3"
  }
 },
 "nbformat": 4,
 "nbformat_minor": 2
}
