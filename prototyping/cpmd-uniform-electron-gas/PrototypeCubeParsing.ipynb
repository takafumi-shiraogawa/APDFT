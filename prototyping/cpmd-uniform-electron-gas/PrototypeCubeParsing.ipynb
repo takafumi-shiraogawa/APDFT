{
 "cells": [
  {
   "cell_type": "code",
   "execution_count": 8,
   "metadata": {},
   "outputs": [],
   "source": [
    "import numpy as np\n",
    "import matplotlib.pyplot as plt\n",
    "import glob\n",
    "from math import ceil, floor, sqrt"
   ]
  },
  {
   "cell_type": "code",
   "execution_count": 9,
   "metadata": {},
   "outputs": [],
   "source": [
    "class CUBE(object):\n",
    "  def __init__(self, fname):\n",
    "    f = open(fname, 'r')\n",
    "    for i in range(2): f.readline() # echo comment\n",
    "    tkns = f.readline().split() # number of atoms included in the file followed by the position of the origin of the volumetric data\n",
    "    self.natoms = int(tkns[0])\n",
    "    self.origin = np.array([float(tkns[1]),float(tkns[2]),float(tkns[3])])\n",
    "    tkns = f.readline().split() #\n",
    "    self.NX = int(tkns[0])\n",
    "    self.X = np.array([float(tkns[1]),float(tkns[2]),float(tkns[3])])\n",
    "    tkns = f.readline().split() #\n",
    "    self.NY = int(tkns[0])\n",
    "    self.Y = np.array([float(tkns[1]),float(tkns[2]),float(tkns[3])])\n",
    "    tkns = f.readline().split() #\n",
    "    self.NZ = int(tkns[0])\n",
    "    self.Z = np.array([float(tkns[1]),float(tkns[2]),float(tkns[3])])\n",
    "    self.atoms = []\n",
    "    for i in range(self.natoms):\n",
    "      tkns = f.readline().split()\n",
    "      self.atoms.append([tkns[0], tkns[2], tkns[3], tkns[4]])\n",
    "    self.data = np.zeros((self.NX,self.NY,self.NZ))\n",
    "    i=0\n",
    "    for s in f:\n",
    "      for v in s.split():\n",
    "        self.data[i//(self.NY*self.NZ), (i//self.NZ)%self.NY, i%self.NZ] = float(v)\n",
    "        i+=1\n",
    "    if i != self.NX*self.NY*self.NZ: raise NameError(\"FSCK!\")\n"
   ]
  },
  {
   "cell_type": "code",
   "execution_count": 21,
   "metadata": {},
   "outputs": [],
   "source": [
    "def get_rhotilde(boxpath):\n",
    "    rdensities = {}\n",
    "    rlvals = []\n",
    "    \n",
    "    # read\n",
    "    for folder in glob.glob('%s/lval-*/' % boxpath):\n",
    "        basename = folder.strip('/').split('/')[-1]\n",
    "        mix = float(basename.split('-')[-1])\n",
    "        rlvals.append(float(mix))\n",
    "        cube = CUBE('%s/DENSITY.cube' % (folder))\n",
    "        rdensities[mix] = cube.data\n",
    "    if 0.0 not in rlvals or 1.0 not in rlvals:\n",
    "        raise ValueError('Endpoints missing')\n",
    "    \n",
    "    # sort\n",
    "    lvals = sorted(rlvals)\n",
    "    densities = [rdensities[_] for _ in lvals]\n",
    "       \n",
    "    dviews = [_.reshape(-1) for _ in densities]\n",
    "    rhotilde = np.trapz(np.array(dviews).T, np.array(lvals)).reshape(densities[0].shape)\n",
    "    return cube.NX, cube.NY, cube.NZ, cube.X, cube.Y, cube.Z, rhotilde\n",
    "def get_energies_cube(coords, zs, rhotilde, NX, NY, NZ, X, Y, Z):\n",
    "    energies = np.zeros(len(zs))\n",
    "    for x in np.arange(NX):\n",
    "        for y in np.arange(NY):\n",
    "            for z in np.arange(NZ):\n",
    "                ds = np.linalg.norm(np.array([x*X[0],y*Y[1],z*Z[2]]) - coords, axis=1)\n",
    "                for site in range(len(zs)):\n",
    "                    energies[site] += zs[site] * rhotilde[x, y, z] / ds[site]\n",
    "    return energies*X[0]*Y[1]*Z[2]\n",
    "def discover_calculations(basepath):\n",
    "    return glob.glob('%s/*/box-*/' % basepath)\n",
    "lookup = {1: 'H', 6: 'C', 7: 'N', 8: 'O'}\n",
    "rlookup = {'C': 6, 'O': 8, 'N': 7, 'B': 5, 'H': 1}\n",
    "def read_xyz(fn):\n",
    "    lines = open(fn).readlines()[2:]\n",
    "    elements = []\n",
    "    coords = []\n",
    "    for line in lines:\n",
    "        parts = line.strip().split()\n",
    "        elements.append(rlookup[parts[0]])\n",
    "        coords.append([float(_) for _ in parts[1:]])\n",
    "    return elements, coords"
   ]
  },
  {
   "cell_type": "code",
   "execution_count": 22,
   "metadata": {},
   "outputs": [],
   "source": [
    "def get_energies(boxpath):\n",
    "    NX, NY, NZ, X, Y, Z, rhotilde = get_rhotilde(boxpath)\n",
    "    zs, coords = read_xyz(boxpath + '../inp.xyz')\n",
    "    return get_energies_cube(coords, zs, rhotilde, NX, NY, NZ, X, Y, Z)"
   ]
  },
  {
   "cell_type": "code",
   "execution_count": 29,
   "metadata": {},
   "outputs": [
    {
     "ename": "FileNotFoundError",
     "evalue": "[Errno 2] No such file or directory: '/mnt/c/Users/guido/workcopies/apdft/prototyping/cpmd-uniform-electron-gas/data/NN-2/box-12/lval-0.000000//DENSITY.cube'",
     "output_type": "error",
     "traceback": [
      "\u001b[0;31m---------------------------------------------------------------------------\u001b[0m",
      "\u001b[0;31mFileNotFoundError\u001b[0m                         Traceback (most recent call last)",
      "\u001b[0;32m<ipython-input-29-1e3f04d16017>\u001b[0m in \u001b[0;36m<module>\u001b[0;34m\u001b[0m\n\u001b[1;32m      9\u001b[0m             \u001b[0;32mcontinue\u001b[0m\u001b[0;34m\u001b[0m\u001b[0;34m\u001b[0m\u001b[0m\n\u001b[1;32m     10\u001b[0m         \u001b[0mprint\u001b[0m \u001b[0;34m(\u001b[0m\u001b[0mboxpath\u001b[0m\u001b[0;34m,\u001b[0m \u001b[0menergies\u001b[0m\u001b[0;34m)\u001b[0m\u001b[0;34m\u001b[0m\u001b[0;34m\u001b[0m\u001b[0m\n\u001b[0;32m---> 11\u001b[0;31m \u001b[0mbuild_db\u001b[0m\u001b[0;34m(\u001b[0m\u001b[0;34m)\u001b[0m\u001b[0;34m\u001b[0m\u001b[0;34m\u001b[0m\u001b[0m\n\u001b[0m",
      "\u001b[0;32m<ipython-input-29-1e3f04d16017>\u001b[0m in \u001b[0;36mbuild_db\u001b[0;34m()\u001b[0m\n\u001b[1;32m      4\u001b[0m             \u001b[0;32mcontinue\u001b[0m\u001b[0;34m\u001b[0m\u001b[0;34m\u001b[0m\u001b[0m\n\u001b[1;32m      5\u001b[0m         \u001b[0;32mtry\u001b[0m\u001b[0;34m:\u001b[0m\u001b[0;34m\u001b[0m\u001b[0;34m\u001b[0m\u001b[0m\n\u001b[0;32m----> 6\u001b[0;31m             \u001b[0menergies\u001b[0m \u001b[0;34m=\u001b[0m \u001b[0mget_energies\u001b[0m\u001b[0;34m(\u001b[0m\u001b[0mboxpath\u001b[0m\u001b[0;34m)\u001b[0m\u001b[0;34m\u001b[0m\u001b[0;34m\u001b[0m\u001b[0m\n\u001b[0m\u001b[1;32m      7\u001b[0m         \u001b[0;32mexcept\u001b[0m\u001b[0;34m:\u001b[0m\u001b[0;34m\u001b[0m\u001b[0;34m\u001b[0m\u001b[0m\n\u001b[1;32m      8\u001b[0m             \u001b[0;32mraise\u001b[0m\u001b[0;34m\u001b[0m\u001b[0;34m\u001b[0m\u001b[0m\n",
      "\u001b[0;32m<ipython-input-22-38895725cb9a>\u001b[0m in \u001b[0;36mget_energies\u001b[0;34m(boxpath)\u001b[0m\n\u001b[1;32m      1\u001b[0m \u001b[0;32mdef\u001b[0m \u001b[0mget_energies\u001b[0m\u001b[0;34m(\u001b[0m\u001b[0mboxpath\u001b[0m\u001b[0;34m)\u001b[0m\u001b[0;34m:\u001b[0m\u001b[0;34m\u001b[0m\u001b[0;34m\u001b[0m\u001b[0m\n\u001b[0;32m----> 2\u001b[0;31m     \u001b[0mNX\u001b[0m\u001b[0;34m,\u001b[0m \u001b[0mNY\u001b[0m\u001b[0;34m,\u001b[0m \u001b[0mNZ\u001b[0m\u001b[0;34m,\u001b[0m \u001b[0mX\u001b[0m\u001b[0;34m,\u001b[0m \u001b[0mY\u001b[0m\u001b[0;34m,\u001b[0m \u001b[0mZ\u001b[0m\u001b[0;34m,\u001b[0m \u001b[0mrhotilde\u001b[0m \u001b[0;34m=\u001b[0m \u001b[0mget_rhotilde\u001b[0m\u001b[0;34m(\u001b[0m\u001b[0mboxpath\u001b[0m\u001b[0;34m)\u001b[0m\u001b[0;34m\u001b[0m\u001b[0;34m\u001b[0m\u001b[0m\n\u001b[0m\u001b[1;32m      3\u001b[0m     \u001b[0mzs\u001b[0m\u001b[0;34m,\u001b[0m \u001b[0mcoords\u001b[0m \u001b[0;34m=\u001b[0m \u001b[0mread_xyz\u001b[0m\u001b[0;34m(\u001b[0m\u001b[0mboxpath\u001b[0m \u001b[0;34m+\u001b[0m \u001b[0;34m'../inp.xyz'\u001b[0m\u001b[0;34m)\u001b[0m\u001b[0;34m\u001b[0m\u001b[0;34m\u001b[0m\u001b[0m\n\u001b[1;32m      4\u001b[0m     \u001b[0;32mreturn\u001b[0m \u001b[0mget_energies_cube\u001b[0m\u001b[0;34m(\u001b[0m\u001b[0mcoords\u001b[0m\u001b[0;34m,\u001b[0m \u001b[0mzs\u001b[0m\u001b[0;34m,\u001b[0m \u001b[0mrhotilde\u001b[0m\u001b[0;34m,\u001b[0m \u001b[0mNX\u001b[0m\u001b[0;34m,\u001b[0m \u001b[0mNY\u001b[0m\u001b[0;34m,\u001b[0m \u001b[0mNZ\u001b[0m\u001b[0;34m,\u001b[0m \u001b[0mX\u001b[0m\u001b[0;34m,\u001b[0m \u001b[0mY\u001b[0m\u001b[0;34m,\u001b[0m \u001b[0mZ\u001b[0m\u001b[0;34m)\u001b[0m\u001b[0;34m\u001b[0m\u001b[0;34m\u001b[0m\u001b[0m\n",
      "\u001b[0;32m<ipython-input-21-d64f56969935>\u001b[0m in \u001b[0;36mget_rhotilde\u001b[0;34m(boxpath)\u001b[0m\n\u001b[1;32m      8\u001b[0m         \u001b[0mmix\u001b[0m \u001b[0;34m=\u001b[0m \u001b[0mfloat\u001b[0m\u001b[0;34m(\u001b[0m\u001b[0mbasename\u001b[0m\u001b[0;34m.\u001b[0m\u001b[0msplit\u001b[0m\u001b[0;34m(\u001b[0m\u001b[0;34m'-'\u001b[0m\u001b[0;34m)\u001b[0m\u001b[0;34m[\u001b[0m\u001b[0;34m-\u001b[0m\u001b[0;36m1\u001b[0m\u001b[0;34m]\u001b[0m\u001b[0;34m)\u001b[0m\u001b[0;34m\u001b[0m\u001b[0;34m\u001b[0m\u001b[0m\n\u001b[1;32m      9\u001b[0m         \u001b[0mrlvals\u001b[0m\u001b[0;34m.\u001b[0m\u001b[0mappend\u001b[0m\u001b[0;34m(\u001b[0m\u001b[0mfloat\u001b[0m\u001b[0;34m(\u001b[0m\u001b[0mmix\u001b[0m\u001b[0;34m)\u001b[0m\u001b[0;34m)\u001b[0m\u001b[0;34m\u001b[0m\u001b[0;34m\u001b[0m\u001b[0m\n\u001b[0;32m---> 10\u001b[0;31m         \u001b[0mcube\u001b[0m \u001b[0;34m=\u001b[0m \u001b[0mCUBE\u001b[0m\u001b[0;34m(\u001b[0m\u001b[0;34m'%s/DENSITY.cube'\u001b[0m \u001b[0;34m%\u001b[0m \u001b[0;34m(\u001b[0m\u001b[0mfolder\u001b[0m\u001b[0;34m)\u001b[0m\u001b[0;34m)\u001b[0m\u001b[0;34m\u001b[0m\u001b[0;34m\u001b[0m\u001b[0m\n\u001b[0m\u001b[1;32m     11\u001b[0m         \u001b[0mrdensities\u001b[0m\u001b[0;34m[\u001b[0m\u001b[0mmix\u001b[0m\u001b[0;34m]\u001b[0m \u001b[0;34m=\u001b[0m \u001b[0mcube\u001b[0m\u001b[0;34m.\u001b[0m\u001b[0mdata\u001b[0m\u001b[0;34m\u001b[0m\u001b[0;34m\u001b[0m\u001b[0m\n\u001b[1;32m     12\u001b[0m     \u001b[0;32mif\u001b[0m \u001b[0;36m0.0\u001b[0m \u001b[0;32mnot\u001b[0m \u001b[0;32min\u001b[0m \u001b[0mrlvals\u001b[0m \u001b[0;32mor\u001b[0m \u001b[0;36m1.0\u001b[0m \u001b[0;32mnot\u001b[0m \u001b[0;32min\u001b[0m \u001b[0mrlvals\u001b[0m\u001b[0;34m:\u001b[0m\u001b[0;34m\u001b[0m\u001b[0;34m\u001b[0m\u001b[0m\n",
      "\u001b[0;32m<ipython-input-9-65278a36f6f2>\u001b[0m in \u001b[0;36m__init__\u001b[0;34m(self, fname)\u001b[0m\n\u001b[1;32m      1\u001b[0m \u001b[0;32mclass\u001b[0m \u001b[0mCUBE\u001b[0m\u001b[0;34m(\u001b[0m\u001b[0mobject\u001b[0m\u001b[0;34m)\u001b[0m\u001b[0;34m:\u001b[0m\u001b[0;34m\u001b[0m\u001b[0;34m\u001b[0m\u001b[0m\n\u001b[1;32m      2\u001b[0m   \u001b[0;32mdef\u001b[0m \u001b[0m__init__\u001b[0m\u001b[0;34m(\u001b[0m\u001b[0mself\u001b[0m\u001b[0;34m,\u001b[0m \u001b[0mfname\u001b[0m\u001b[0;34m)\u001b[0m\u001b[0;34m:\u001b[0m\u001b[0;34m\u001b[0m\u001b[0;34m\u001b[0m\u001b[0m\n\u001b[0;32m----> 3\u001b[0;31m     \u001b[0mf\u001b[0m \u001b[0;34m=\u001b[0m \u001b[0mopen\u001b[0m\u001b[0;34m(\u001b[0m\u001b[0mfname\u001b[0m\u001b[0;34m,\u001b[0m \u001b[0;34m'r'\u001b[0m\u001b[0;34m)\u001b[0m\u001b[0;34m\u001b[0m\u001b[0;34m\u001b[0m\u001b[0m\n\u001b[0m\u001b[1;32m      4\u001b[0m     \u001b[0;32mfor\u001b[0m \u001b[0mi\u001b[0m \u001b[0;32min\u001b[0m \u001b[0mrange\u001b[0m\u001b[0;34m(\u001b[0m\u001b[0;36m2\u001b[0m\u001b[0;34m)\u001b[0m\u001b[0;34m:\u001b[0m \u001b[0mf\u001b[0m\u001b[0;34m.\u001b[0m\u001b[0mreadline\u001b[0m\u001b[0;34m(\u001b[0m\u001b[0;34m)\u001b[0m \u001b[0;31m# echo comment\u001b[0m\u001b[0;34m\u001b[0m\u001b[0;34m\u001b[0m\u001b[0m\n\u001b[1;32m      5\u001b[0m     \u001b[0mtkns\u001b[0m \u001b[0;34m=\u001b[0m \u001b[0mf\u001b[0m\u001b[0;34m.\u001b[0m\u001b[0mreadline\u001b[0m\u001b[0;34m(\u001b[0m\u001b[0;34m)\u001b[0m\u001b[0;34m.\u001b[0m\u001b[0msplit\u001b[0m\u001b[0;34m(\u001b[0m\u001b[0;34m)\u001b[0m \u001b[0;31m# number of atoms included in the file followed by the position of the origin of the volumetric data\u001b[0m\u001b[0;34m\u001b[0m\u001b[0;34m\u001b[0m\u001b[0m\n",
      "\u001b[0;31mFileNotFoundError\u001b[0m: [Errno 2] No such file or directory: '/mnt/c/Users/guido/workcopies/apdft/prototyping/cpmd-uniform-electron-gas/data/NN-2/box-12/lval-0.000000//DENSITY.cube'"
     ]
    }
   ],
   "source": [
    "def build_db():\n",
    "    for boxpath in discover_calculations('/mnt/c/Users/guido/workcopies/apdft/prototyping/cpmd-uniform-electron-gas/data'):\n",
    "        if 'NN' not in boxpath:\n",
    "            continue\n",
    "        try:\n",
    "            energies = get_energies(boxpath)\n",
    "        except:\n",
    "            raise\n",
    "            continue\n",
    "        print (boxpath, energies)\n",
    "build_db()"
   ]
  },
  {
   "cell_type": "code",
   "execution_count": null,
   "metadata": {},
   "outputs": [],
   "source": []
  }
 ],
 "metadata": {
  "kernelspec": {
   "display_name": "Python [conda env:analysis]",
   "language": "python",
   "name": "conda-env-analysis-py"
  },
  "language_info": {
   "codemirror_mode": {
    "name": "ipython",
    "version": 3
   },
   "file_extension": ".py",
   "mimetype": "text/x-python",
   "name": "python",
   "nbconvert_exporter": "python",
   "pygments_lexer": "ipython3",
   "version": "3.6.8"
  }
 },
 "nbformat": 4,
 "nbformat_minor": 2
}
