{
 "cells": [
  {
   "cell_type": "code",
   "execution_count": 2,
   "metadata": {},
   "outputs": [],
   "source": [
    "import numpy as np\n",
    "import matplotlib.pyplot as plt\n",
    "import scipy.ndimage as snd\n",
    "import glob\n",
    "from math import ceil, floor, sqrt"
   ]
  },
  {
   "cell_type": "code",
   "execution_count": 100,
   "metadata": {},
   "outputs": [],
   "source": [
    "class CUBE(object):\n",
    "  def __init__(self, fname):\n",
    "    f = open(fname, 'r')\n",
    "    for i in range(2): f.readline() # echo comment\n",
    "    tkns = f.readline().split() # number of atoms included in the file followed by the position of the origin of the volumetric data\n",
    "    self.natoms = int(tkns[0])\n",
    "    self.origin = np.array([float(tkns[1]),float(tkns[2]),float(tkns[3])])\n",
    "    tkns = f.readline().split() #\n",
    "    self.NX = int(tkns[0])\n",
    "    self.X = np.array([float(tkns[1]),float(tkns[2]),float(tkns[3])])\n",
    "    tkns = f.readline().split() #\n",
    "    self.NY = int(tkns[0])\n",
    "    self.Y = np.array([float(tkns[1]),float(tkns[2]),float(tkns[3])])\n",
    "    tkns = f.readline().split() #\n",
    "    self.NZ = int(tkns[0])\n",
    "    self.Z = np.array([float(tkns[1]),float(tkns[2]),float(tkns[3])])\n",
    "    self.atoms = []\n",
    "    for i in range(self.natoms):\n",
    "      tkns = f.readline().split()\n",
    "      self.atoms.append([float(tkns[0]), float(tkns[2]), float(tkns[3]), float(tkns[4])])\n",
    "    self.atoms = np.array(self.atoms)\n",
    "    self.data = np.zeros((self.NX,self.NY,self.NZ))\n",
    "    i=0\n",
    "    for s in f:\n",
    "      for v in s.split():\n",
    "        self.data[i//(self.NY*self.NZ), (i//self.NZ)%self.NY, i%self.NZ] = float(v)\n",
    "        i+=1\n",
    "    if i != self.NX*self.NY*self.NZ: raise NameError(\"FSCK!\")"
   ]
  },
  {
   "cell_type": "code",
   "execution_count": 124,
   "metadata": {},
   "outputs": [],
   "source": [
    "cube = CUBE('empty.cube')"
   ]
  },
  {
   "cell_type": "code",
   "execution_count": 104,
   "metadata": {},
   "outputs": [],
   "source": [
    "def get_energies_fast(coords, zs, rhotilde, NX, NY, NZ, X, Y, Z):\n",
    "    dv = X[0]*Y[1]*Z[2]\n",
    "    X, Y, Z = np.mgrid[0:X[0]*(NX-1):complex(NX), 0:Y[1]*(NY-1):complex(NY), 0:Z[2]*(NZ-1):complex(NZ)]\n",
    "    positions = np.vstack([X.ravel(), Y.ravel(), Z.ravel()]).T \n",
    "    energies = np.zeros(len(zs))\n",
    "    for site in range(len(zs)):\n",
    "        energies[site] += np.sum(zs[site] * rhotilde.ravel() / np.linalg.norm(positions - coords[site], axis=1))\n",
    "    return energies*dv\n",
    "lookup = {1: 'H', 6: 'C', 7: 'N', 8: 'O'}\n",
    "rlookup = {'C': 6, 'O': 8, 'N': 7, 'B': 5, 'H': 1}\n",
    "def read_xyz(fn):\n",
    "    lines = open(fn).readlines()[2:]\n",
    "    elements = []\n",
    "    coords = []\n",
    "    for line in lines:\n",
    "        parts = line.strip().split()\n",
    "        elements.append(rlookup[parts[0]])\n",
    "        coords.append([float(_) for _ in parts[1:]])\n",
    "    return elements, coords"
   ]
  },
  {
   "cell_type": "code",
   "execution_count": 123,
   "metadata": {},
   "outputs": [
    {
     "data": {
      "text/plain": [
       "array([47.98593605, 47.98619494])"
      ]
     },
     "execution_count": 123,
     "metadata": {},
     "output_type": "execute_result"
    }
   ],
   "source": [
    "get_energies_fast(cube.atoms[:,1:], cube.atoms[:, 0], cube.data, cube.NX, cube.NY, cube.NZ, cube.X, cube.Y, cube.Z)"
   ]
  },
  {
   "cell_type": "code",
   "execution_count": 15,
   "metadata": {},
   "outputs": [],
   "source": [
    "def resample(rho, npoints, NX, NY, NZ, X, Y, Z):\n",
    "    Xs, Ys, Zs = np.mgrid[0:(NX-1):complex(npoints), 0:(NY-1):complex(npoints), 0:(NZ-1):complex(npoints)]\n",
    "    positions = np.vstack([Xs.ravel(), Ys.ravel(), Zs.ravel()])\n",
    "    newrho = snd.map_coordinates(rho, positions, mode='nearest', order=3)\n",
    "    return newrho.reshape(npoints, npoints, npoints), npoints, npoints, npoints, X*NX/npoints, Y*NY/npoints, Z*NZ/npoints    "
   ]
  },
  {
   "cell_type": "code",
   "execution_count": 129,
   "metadata": {},
   "outputs": [
    {
     "data": {
      "text/plain": [
       "<matplotlib.lines.Line2D at 0x7f1c9866ecc0>"
      ]
     },
     "execution_count": 129,
     "metadata": {},
     "output_type": "execute_result"
    },
    {
     "data": {
      "image/png": "[encoded data removed]",
      "text/plain": [
       "<Figure size 432x288 with 1 Axes>"
      ]
     },
     "metadata": {
      "needs_background": "light"
     },
     "output_type": "display_data"
    }
   ],
   "source": [
    "plt.plot(cube.data.mean(axis=0).mean(axis=1))\n",
    "plt.axhline(cube.data.mean())"
   ]
  },
  {
   "cell_type": "code",
   "execution_count": 133,
   "metadata": {},
   "outputs": [
    {
     "data": {
      "text/plain": [
       "1.02880658436214e-06"
      ]
     },
     "execution_count": 133,
     "metadata": {},
     "output_type": "execute_result"
    }
   ],
   "source": [
    "10**-3/27/9/4"
   ]
  },
  {
   "cell_type": "code",
   "execution_count": null,
   "metadata": {},
   "outputs": [],
   "source": []
  }
 ],
 "metadata": {
  "kernelspec": {
   "display_name": "Python [conda env:analysis]",
   "language": "python",
   "name": "conda-env-analysis-py"
  },
  "language_info": {
   "codemirror_mode": {
    "name": "ipython",
    "version": 3
   },
   "file_extension": ".py",
   "mimetype": "text/x-python",
   "name": "python",
   "nbconvert_exporter": "python",
   "pygments_lexer": "ipython3",
   "version": "3.6.8"
  }
 },
 "nbformat": 4,
 "nbformat_minor": 2
}
