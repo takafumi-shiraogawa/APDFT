{
 "cells": [
  {
   "cell_type": "code",
   "execution_count": 1,
   "metadata": {},
   "outputs": [
    {
     "name": "stdout",
     "output_type": "stream",
     "text": [
      "The history saving thread hit an unexpected error (DatabaseError('database disk image is malformed',)).History will not be written to the database.\n"
     ]
    }
   ],
   "source": [
    "import horton\n",
    "import numpy as np\n",
    "import pandas as pd\n",
    "import matplotlib.pyplot as plt\n",
    "import scipy.spatial as scs\n",
    "from scipy.interpolate import CubicSpline"
   ]
  },
  {
   "cell_type": "code",
   "execution_count": 2,
   "metadata": {},
   "outputs": [
    {
     "name": "stderr",
     "output_type": "stream",
     "text": [
      "/home/guido/miniconda3/envs/py27/lib/python2.7/site-packages/ipykernel_launcher.py:41: RuntimeWarning: divide by zero encountered in divide\n"
     ]
    }
   ],
   "source": [
    "def read_input():\n",
    "    lines = open('results').readlines()\n",
    "    results = []\n",
    "    coordinates = []\n",
    "    for line in lines:\n",
    "        parts = line.strip().split()\n",
    "        row = {}\n",
    "        if parts[0] == '#R':\n",
    "            q = parts[1].strip('/').split('/')\n",
    "            row['target'] = q[-2]\n",
    "            if row['target'] == 'NN-2':\n",
    "                row['target'] = 'N2-2'\n",
    "            row['box'] = int(q[-1].split('-')[-1])\n",
    "            row['energies'] = np.array([float(_) for _ in parts[2:]])\n",
    "            row['numatoms'] = len(row['energies'])\n",
    "            results.append(row)\n",
    "        if parts[0] == '#C':\n",
    "            numatoms = int(parts[1])\n",
    "            row['numatoms'] = numatoms\n",
    "            row['zs'] = [int(float(_)) for _ in parts[2:2+numatoms]]\n",
    "            row['coords'] = np.array([float(_) for _ in parts[-3*numatoms:]]).reshape(-1, 3)\n",
    "            coordinates.append(row)\n",
    "    return pd.DataFrame(results), pd.DataFrame(coordinates)\n",
    "r, c = read_input()\n",
    "def read_energies():\n",
    "    lines = open('results-energies').readlines()\n",
    "    energies = []\n",
    "    for line in lines:\n",
    "        parts = line.strip().split()\n",
    "        row = {}\n",
    "        row['energy'] = float(parts[-2])\n",
    "        parts = parts[0].split('/')\n",
    "        row['target'] = parts[0]\n",
    "        if row['target'] == 'NN-2':\n",
    "            row['target'] = 'N2-2'\n",
    "        row['box'] = int(parts[1].split('-')[-1])\n",
    "        energies.append(row)\n",
    "    return pd.DataFrame(energies)\n",
    "def get_nuc_nuc_energy():\n",
    "    def _get_e(row):\n",
    "        e = np.outer(row.zs, row.zs)/ scs.distance.squareform(scs.distance.pdist(row.coords))\n",
    "        np.fill_diagonal(e, 0)\n",
    "        return e.sum(axis=0)/2    \n",
    "    q = pd.merge(c, r, left_index=True, right_index=True)['coords zs target'.split()].drop_duplicates('target')\n",
    "    q['enn'] = q.apply(_get_e, axis=1)\n",
    "    return q['target enn zs'.split()]\n",
    "    \n",
    "energy_data = pd.merge(read_energies(), get_nuc_nuc_energy())\n",
    "\n",
    "# extrapolate for infinite box size (in df as 1000)\n",
    "# alchemical energies: extrapolation for 1/box size at 0 via linreg\n",
    "# total energies: already converged at box site 20\n",
    "rows = []\n",
    "for name, group in r.sort_values('box').groupby('target'):\n",
    "    extrapolated = []\n",
    "    for site in range(group.numatoms.values[0]):\n",
    "        es = np.array(group.energies.values.tolist())\n",
    "        #plt.plot(1/group.box, es[:, site], label=name)\n",
    "        try:\n",
    "            extrapolated.append(np.polyfit(1/group.box, es[:, site], 1)[1])\n",
    "        except:\n",
    "            extrapolated.append(es[-1, site])\n",
    "    row = {}\n",
    "    row['box'] = 1000\n",
    "    row['energies'] = extrapolated\n",
    "    row['numatoms'] = len(extrapolated)\n",
    "    row['target'] = name\n",
    "    rows.append(row)\n",
    "r = pd.concat((r,pd.DataFrame(rows)))\n",
    "q = energy_data.query('box == 20').copy()\n",
    "q.box = 1000\n",
    "energy_data = pd.concat((energy_data, q))"
   ]
  },
  {
   "cell_type": "code",
   "execution_count": 3,
   "metadata": {},
   "outputs": [],
   "source": [
    "targets = r[r.numatoms==12].target.unique()"
   ]
  },
  {
   "cell_type": "code",
   "execution_count": 26,
   "metadata": {},
   "outputs": [
    {
     "name": "stdout",
     "output_type": "stream",
     "text": [
      "('ethane', -75.43295419072507)\n"
     ]
    }
   ],
   "source": [
    "for tidx, target in enumerate(('ethane',)):\n",
    "        q = pd.merge(r[r.target.str.startswith(target)], energy_data[energy_data.target.str.startswith(target)])\n",
    "        q = q[q.box == 1000]\n",
    "        qq = c.iloc[r[r.target.str.startswith(target)].index[0]]\n",
    "\n",
    "        coords = qq.coords\n",
    "        zs = qq.zs\n",
    "        try:\n",
    "            print (target, do_mol(coords, zs))\n",
    "        except:\n",
    "            print (target, 'MISS')"
   ]
  },
  {
   "cell_type": "code",
   "execution_count": 5,
   "metadata": {},
   "outputs": [],
   "source": [
    "def do_mol(coords, zs, pseudo_numbers = None, outputfile=None):\n",
    "    horton.log.set_level(1)\n",
    "    mol = horton.IOData(title='test')\n",
    "    mol.coordinates = np.array(coords)\n",
    "    mol.numbers = np.array(zs)\n",
    "    if pseudo_numbers is not None:\n",
    "        mol.pseudo_numbers = np.array(pseudo_numbers)\n",
    "    else:\n",
    "        mol.pseudo_numbers = mol.numbers\n",
    "    \n",
    "    basisset = '6-31G'\n",
    "    obasis = horton.get_gobasis(mol.coordinates, mol.numbers, basisset)\n",
    "    \n",
    "    olp = obasis.compute_overlap()\n",
    "    kin = obasis.compute_kinetic()\n",
    "    na = obasis.compute_nuclear_attraction(mol.coordinates, mol.pseudo_numbers)\n",
    "    er = obasis.compute_electron_repulsion()\n",
    "    \n",
    "    orb_alpha = horton.Orbitals(obasis.nbasis)\n",
    "    orb_beta = horton.Orbitals(obasis.nbasis)\n",
    "\n",
    "    # Initial guess\n",
    "    one = kin + na\n",
    "    horton.guess_core_hamiltonian(olp, one, orb_alpha, orb_beta)\n",
    "    \n",
    "    grid = horton.BeckeMolGrid(mol.coordinates, mol.numbers, mol.numbers, 'fine', mode='keep', random_rotate=False)\n",
    "    terms = [\n",
    "        horton.UTwoIndexTerm(kin, 'kin'),\n",
    "        horton.UGridGroup(obasis, grid, [\n",
    "            horton.UBeckeHartree(lmax=8),\n",
    "            horton.ULibXCLDA('x'),\n",
    "            horton.ULibXCLDA('c_vwn'),\n",
    "        ]),\n",
    "        horton.UTwoIndexTerm(na, 'ne'),\n",
    "    ]\n",
    "    external = {'nn': horton.compute_nucnuc(mol.coordinates, mol.pseudo_numbers)}\n",
    "    ham = horton.UEffHam(terms, external)\n",
    "    \n",
    "    \n",
    "    #external = {'nn': horton.compute_nucnuc(mol.coordinates, mol.pseudo_numbers)}\n",
    "    #terms = [\n",
    "    #    horton.UTwoIndexTerm(kin, 'kin'),\n",
    "    #    horton.UDirectTerm(er, 'hartree'),\n",
    "    #    horton.UExchangeTerm(er, 'x_hf'),\n",
    "    #    horton.UTwoIndexTerm(na, 'ne'),\n",
    "    #]\n",
    "    #ham = horton.UEffHam(terms, external)\n",
    "    \n",
    "    \n",
    "    converged = False\n",
    "    for solver in (horton.EDIIS2SCFSolver,horton.CDIISSCFSolver,horton.ODASCFSolver,  horton.EDIISSCFSolver, ):\n",
    "        try:\n",
    "            occ_model = horton.AufbauOccModel(sum(zs)/2, sum(zs)/2)\n",
    "            print (sum(zs)/2, sum(zs)/2)\n",
    "        \n",
    "            occ_model.assign(orb_alpha, orb_beta)\n",
    "            dm_alpha = orb_alpha.to_dm()\n",
    "            dm_beta = orb_beta.to_dm()\n",
    "            scf_solver = solver(1e-7, maxiter=100)\n",
    "            scf_solver(ham, olp, occ_model, dm_alpha, dm_beta)\n",
    "            converged = True\n",
    "        except:\n",
    "            continue\n",
    "        if converged:\n",
    "            break\n",
    "    if outputfile is not None:\n",
    "        mol.obasis = obasis\n",
    "        mol.orb_alpha = orb_alpha\n",
    "        mol.orb_beta = orb_beta\n",
    "        mol.to_file(outputfile)\n",
    "    return mol, ham.cache['energy']\n",
    "#h = do_mol(coords, zs)"
   ]
  },
  {
   "cell_type": "code",
   "execution_count": 4,
   "metadata": {},
   "outputs": [
    {
     "ename": "NameError",
     "evalue": "name 'r' is not defined",
     "output_type": "error",
     "traceback": [
      "\u001b[0;31m---------------------------------------------------------------------------\u001b[0m",
      "\u001b[0;31mNameError\u001b[0m                                 Traceback (most recent call last)",
      "\u001b[0;32m<ipython-input-4-6fd5d4f58da2>\u001b[0m in \u001b[0;36m<module>\u001b[0;34m()\u001b[0m\n\u001b[0;32m----> 1\u001b[0;31m \u001b[0mtargets\u001b[0m \u001b[0;34m=\u001b[0m \u001b[0mr\u001b[0m\u001b[0;34m[\u001b[0m\u001b[0mr\u001b[0m\u001b[0;34m.\u001b[0m\u001b[0mnumatoms\u001b[0m\u001b[0;34m==\u001b[0m\u001b[0;36m12\u001b[0m\u001b[0;34m]\u001b[0m\u001b[0;34m.\u001b[0m\u001b[0mtarget\u001b[0m\u001b[0;34m.\u001b[0m\u001b[0munique\u001b[0m\u001b[0;34m(\u001b[0m\u001b[0;34m)\u001b[0m\u001b[0;34m\u001b[0m\u001b[0m\n\u001b[0m\u001b[1;32m      2\u001b[0m \u001b[0mtargets\u001b[0m\u001b[0;34m\u001b[0m\u001b[0m\n",
      "\u001b[0;31mNameError\u001b[0m: name 'r' is not defined"
     ]
    }
   ],
   "source": [
    "targets = r[r.numatoms==12].target.unique()\n",
    "targets"
   ]
  },
  {
   "cell_type": "code",
   "execution_count": 6,
   "metadata": {},
   "outputs": [
    {
     "name": "stdout",
     "output_type": "stream",
     "text": [
      "(21, 21)\n",
      "('6-6-6-6-6-6', -230.03931937408592)\n"
     ]
    }
   ],
   "source": [
    "#for tidx, target in enumerate('methane HCN acetylene ethylene ethane 5-7-6-7-5-6 5-7-7-5-6-6 7-5-7-5-7-5 5-6-6-7-6-6 5-7-7-7-5-5 5-7-5-7-6-6 5-7-6-5-7-6 5-7-6-6-7-5 6-6-6-6-6-6 5-7-5-6-7-6 5-7-6-6-6-6 5-7-6-5-6-7 5-6-7-6-6-6 5-7-6-7-6-5 5-7-5-7-7-5 5-6-7-7-6-5 5-7-7-6-6-5 5-7-7-6-5-6'.split()):\n",
    "for tidx, target in enumerate('6-6-6-6-6-6'.split()):\n",
    "        q = pd.merge(r[r.target.str.startswith(target)], energy_data[energy_data.target.str.startswith(target)])\n",
    "        q = q[q.box == 1000]\n",
    "        qq = c.iloc[r[r.target.str.startswith(target)].index[0]]\n",
    "\n",
    "        coords = qq.coords\n",
    "        zs = qq.zs\n",
    "        try:\n",
    "            mol, res = do_mol(coords, zs)\n",
    "            print (target, res)\n",
    "        except:\n",
    "            print (target, 'MISS')"
   ]
  },
  {
   "cell_type": "code",
   "execution_count": 22,
   "metadata": {},
   "outputs": [
    {
     "name": "stdout",
     "output_type": "stream",
     "text": [
      "('N2-2', 1.0, -121.1873101876561)\n",
      "('CO-2', 1.0, -124.77129163925542)\n",
      "('N2-2', 0.2, 15.760916285110689)\n",
      "('CO-2', 0.2, 15.483962350063369)\n"
     ]
    },
    {
     "name": "stderr",
     "output_type": "stream",
     "text": [
      "/home/guido/.local/lib/python2.7/site-packages/horton/quadprog.py:621: FutureWarning: `rcond` parameter will change to the default of machine precision times ``max(M, N)`` where M and N are the input matrix dimensions.\n",
      "To use the future default and silence this warning we advise to pass `rcond=None`, to keep using the old, explicitly pass `rcond=-1`.\n",
      "  lagrange = np.linalg.lstsq(r_free.T, -g_free)[0]\n"
     ]
    },
    {
     "name": "stdout",
     "output_type": "stream",
     "text": [
      "('N2-2', 0.4, -2.8361096046781)\n",
      "('CO-2', 0.4, -3.310316591994241)\n",
      "('N2-2', 0.6, -29.1218125313303)\n",
      "('CO-2', 0.6, -30.170982703586205)\n",
      "('N2-2', 0.8, -70.29445004681496)\n",
      "('CO-2', 0.8, -72.1798652037764)\n"
     ]
    }
   ],
   "source": [
    "for lval in (1.0, 0.2, 0.4, 0.6, 0.8):\n",
    "    for tidx, target in enumerate(('N2-2', 'CO-2')):\n",
    "            q = pd.merge(r[r.target.str.startswith(target)], energy_data[energy_data.target.str.startswith(target)])\n",
    "            q = q[q.box == 1000]\n",
    "            qq = c.iloc[r[r.target.str.startswith(target)].index[0]]\n",
    "\n",
    "            coords = qq.coords\n",
    "            zs = qq.zs\n",
    "            try:\n",
    "                print (target, lval, do_mol(coords, zs, np.array(zs)*lval)-q.enn.values.sum().sum()*lval)\n",
    "            except:\n",
    "                raise\n",
    "                print (target, 'MISS')"
   ]
  },
  {
   "cell_type": "code",
   "execution_count": 23,
   "metadata": {},
   "outputs": [
    {
     "data": {
      "text/plain": [
       "-121.18728617526448"
      ]
     },
     "execution_count": 23,
     "metadata": {},
     "output_type": "execute_result"
    }
   ],
   "source": [
    "-108.2224710958616 - (49/(2*1.88973))"
   ]
  },
  {
   "cell_type": "code",
   "execution_count": 13,
   "metadata": {},
   "outputs": [
    {
     "ename": "KeyError",
     "evalue": "'energy'",
     "output_type": "error",
     "traceback": [
      "\u001b[0;31m---------------------------------------------------------------------------\u001b[0m",
      "\u001b[0;31mKeyError\u001b[0m                                  Traceback (most recent call last)",
      "\u001b[0;32m<ipython-input-13-39c369a5694e>\u001b[0m in \u001b[0;36m<module>\u001b[0;34m()\u001b[0m\n\u001b[0;32m----> 1\u001b[0;31m \u001b[0mdo_mol\u001b[0m\u001b[0;34m(\u001b[0m\u001b[0mnp\u001b[0m\u001b[0;34m.\u001b[0m\u001b[0marray\u001b[0m\u001b[0;34m(\u001b[0m\u001b[0;34m[\u001b[0m\u001b[0;34m[\u001b[0m\u001b[0;36m0.\u001b[0m\u001b[0;34m,\u001b[0m \u001b[0;36m0.\u001b[0m\u001b[0;34m,\u001b[0m \u001b[0;36m0.\u001b[0m\u001b[0;34m,\u001b[0m\u001b[0;34m]\u001b[0m\u001b[0;34m,\u001b[0m \u001b[0;34m[\u001b[0m\u001b[0;36m0.74\u001b[0m\u001b[0;34m*\u001b[0m\u001b[0;36m1.88973\u001b[0m\u001b[0;34m,\u001b[0m \u001b[0;36m0.0\u001b[0m\u001b[0;34m,\u001b[0m \u001b[0;36m0.0\u001b[0m\u001b[0;34m]\u001b[0m\u001b[0;34m]\u001b[0m\u001b[0;34m)\u001b[0m\u001b[0;34m,\u001b[0m \u001b[0;34m[\u001b[0m\u001b[0;36m1.\u001b[0m\u001b[0;34m,\u001b[0m \u001b[0;36m1.\u001b[0m\u001b[0;34m]\u001b[0m\u001b[0;34m)\u001b[0m\u001b[0;34m\u001b[0m\u001b[0m\n\u001b[0m",
      "\u001b[0;32m<ipython-input-12-860ac4a4f659>\u001b[0m in \u001b[0;36mdo_mol\u001b[0;34m(coords, zs, pseudo_numbers, outputfile)\u001b[0m\n\u001b[1;32m     56\u001b[0m         \u001b[0mmol\u001b[0m\u001b[0;34m.\u001b[0m\u001b[0morb_beta\u001b[0m \u001b[0;34m=\u001b[0m \u001b[0morb_beta\u001b[0m\u001b[0;34m\u001b[0m\u001b[0m\n\u001b[1;32m     57\u001b[0m         \u001b[0mmol\u001b[0m\u001b[0;34m.\u001b[0m\u001b[0mto_file\u001b[0m\u001b[0;34m(\u001b[0m\u001b[0moutputfile\u001b[0m\u001b[0;34m)\u001b[0m\u001b[0;34m\u001b[0m\u001b[0m\n\u001b[0;32m---> 58\u001b[0;31m     \u001b[0;32mreturn\u001b[0m \u001b[0mham\u001b[0m\u001b[0;34m.\u001b[0m\u001b[0mcache\u001b[0m\u001b[0;34m[\u001b[0m\u001b[0;34m'energy'\u001b[0m\u001b[0;34m]\u001b[0m\u001b[0;34m\u001b[0m\u001b[0m\n\u001b[0m\u001b[1;32m     59\u001b[0m \u001b[0;31m#h = do_mol(coords, zs)\u001b[0m\u001b[0;34m\u001b[0m\u001b[0;34m\u001b[0m\u001b[0m\n",
      "\u001b[0;32m/home/guido/.local/lib/python2.7/site-packages/horton/cache.pyc\u001b[0m in \u001b[0;36m__getitem__\u001b[0;34m(self, key)\u001b[0m\n\u001b[1;32m    357\u001b[0m \u001b[0;34m\u001b[0m\u001b[0m\n\u001b[1;32m    358\u001b[0m     \u001b[0;32mdef\u001b[0m \u001b[0m__getitem__\u001b[0m\u001b[0;34m(\u001b[0m\u001b[0mself\u001b[0m\u001b[0;34m,\u001b[0m \u001b[0mkey\u001b[0m\u001b[0;34m)\u001b[0m\u001b[0;34m:\u001b[0m\u001b[0;34m\u001b[0m\u001b[0m\n\u001b[0;32m--> 359\u001b[0;31m         \u001b[0;32mreturn\u001b[0m \u001b[0mself\u001b[0m\u001b[0;34m.\u001b[0m\u001b[0mload\u001b[0m\u001b[0;34m(\u001b[0m\u001b[0mkey\u001b[0m\u001b[0;34m)\u001b[0m\u001b[0;34m\u001b[0m\u001b[0m\n\u001b[0m\u001b[1;32m    360\u001b[0m \u001b[0;34m\u001b[0m\u001b[0m\n\u001b[1;32m    361\u001b[0m     \u001b[0;32mdef\u001b[0m \u001b[0m__setitem__\u001b[0m\u001b[0;34m(\u001b[0m\u001b[0mself\u001b[0m\u001b[0;34m,\u001b[0m \u001b[0mkey\u001b[0m\u001b[0;34m,\u001b[0m \u001b[0mvalue\u001b[0m\u001b[0;34m)\u001b[0m\u001b[0;34m:\u001b[0m\u001b[0;34m\u001b[0m\u001b[0m\n",
      "\u001b[0;32m/home/guido/.local/lib/python2.7/site-packages/horton/cache.pyc\u001b[0m in \u001b[0;36mload\u001b[0;34m(self, *key, **kwargs)\u001b[0m\n\u001b[1;32m    314\u001b[0m             \u001b[0;31m# no optional arguments are given\u001b[0m\u001b[0;34m\u001b[0m\u001b[0;34m\u001b[0m\u001b[0m\n\u001b[1;32m    315\u001b[0m             \u001b[0;32mif\u001b[0m \u001b[0mitem\u001b[0m \u001b[0;32mis\u001b[0m \u001b[0mNone\u001b[0m \u001b[0;32mor\u001b[0m \u001b[0;32mnot\u001b[0m \u001b[0mitem\u001b[0m\u001b[0;34m.\u001b[0m\u001b[0mvalid\u001b[0m\u001b[0;34m:\u001b[0m\u001b[0;34m\u001b[0m\u001b[0m\n\u001b[0;32m--> 316\u001b[0;31m                 \u001b[0;32mraise\u001b[0m \u001b[0mKeyError\u001b[0m\u001b[0;34m(\u001b[0m\u001b[0mkey\u001b[0m\u001b[0;34m)\u001b[0m\u001b[0;34m\u001b[0m\u001b[0m\n\u001b[0m\u001b[1;32m    317\u001b[0m             \u001b[0;32melse\u001b[0m\u001b[0;34m:\u001b[0m\u001b[0;34m\u001b[0m\u001b[0m\n\u001b[1;32m    318\u001b[0m                 \u001b[0;32mreturn\u001b[0m \u001b[0mitem\u001b[0m\u001b[0;34m.\u001b[0m\u001b[0mvalue\u001b[0m\u001b[0;34m\u001b[0m\u001b[0m\n",
      "\u001b[0;31mKeyError\u001b[0m: 'energy'"
     ]
    }
   ],
   "source": [
    "do_mol(np.array([[0., 0., 0.,], [0.74*1.88973, 0.0, 0.0]]), [1., 1.])"
   ]
  },
  {
   "cell_type": "code",
   "execution_count": 53,
   "metadata": {},
   "outputs": [
    {
     "name": "stdout",
     "output_type": "stream",
     "text": [
      "(7, 7)\n",
      "('CO-2', -112.28660027443406)\n"
     ]
    }
   ],
   "source": [
    "for tidx, target in enumerate(('CO-2',)):\n",
    "        q = pd.merge(r[r.target.str.startswith(target)], energy_data[energy_data.target.str.startswith(target)])\n",
    "        q = q[q.box == 1000]\n",
    "        qq = c.iloc[r[r.target.str.startswith(target)].index[0]]\n",
    "\n",
    "        coords = qq.coords\n",
    "        zs = qq.zs\n",
    "        try:\n",
    "            mol, res = do_mol(coords*3, zs, outputfile='CO.molden')\n",
    "            print (target, res)\n",
    "        except:\n",
    "            raise\n",
    "            print (target, 'MISS')"
   ]
  },
  {
   "cell_type": "code",
   "execution_count": 54,
   "metadata": {},
   "outputs": [],
   "source": [
    "xs = np.linspace(12, 36, 100)\n",
    "xyz = np.column_stack(map(np.ndarray.ravel, np.meshgrid(xs, xs, xs)))\n",
    "rho_grid = mol.obasis.compute_grid_density_dm(mol.get_dm_full(), xyz)"
   ]
  },
  {
   "cell_type": "code",
   "execution_count": 56,
   "metadata": {},
   "outputs": [
    {
     "data": {
      "text/plain": [
       "[<matplotlib.lines.Line2D at 0x7f63b9f96410>]"
      ]
     },
     "execution_count": 56,
     "metadata": {},
     "output_type": "execute_result"
    },
    {
     "data": {
      "image/png": "[encoded data removed]",
      "text/plain": [
       "<Figure size 432x288 with 1 Axes>"
      ]
     },
     "metadata": {},
     "output_type": "display_data"
    }
   ],
   "source": [
    "hist, bins = np.histogram(xyz[:, 0], weights=rho_grid, bins=100, range=(12, 36))\n",
    "bins = (bins[:-1] + bins[1:])/2\n",
    "plt.plot(bins, hist)"
   ]
  },
  {
   "cell_type": "code",
   "execution_count": 37,
   "metadata": {},
   "outputs": [
    {
     "data": {
      "text/plain": [
       "array([[8.69274 , 7.558904, 7.558904],\n",
       "       [6.425069, 7.558904, 7.558904]])"
      ]
     },
     "execution_count": 37,
     "metadata": {},
     "output_type": "execute_result"
    }
   ],
   "source": [
    "mol.coordinates"
   ]
  },
  {
   "cell_type": "code",
   "execution_count": 9,
   "metadata": {},
   "outputs": [
    {
     "data": {
      "text/plain": [
       "142162.262601"
      ]
     },
     "execution_count": 9,
     "metadata": {},
     "output_type": "execute_result"
    }
   ],
   "source": [
    "-230.039319-6*(-0.47604-37.37412)*627"
   ]
  },
  {
   "cell_type": "code",
   "execution_count": null,
   "metadata": {},
   "outputs": [],
   "source": []
  }
 ],
 "metadata": {
  "kernelspec": {
   "display_name": "Python [conda env:py27]",
   "language": "python",
   "name": "conda-env-py27-py"
  },
  "language_info": {
   "codemirror_mode": {
    "name": "ipython",
    "version": 2
   },
   "file_extension": ".py",
   "mimetype": "text/x-python",
   "name": "python",
   "nbconvert_exporter": "python",
   "pygments_lexer": "ipython2",
   "version": "2.7.15"
  }
 },
 "nbformat": 4,
 "nbformat_minor": 2
}
