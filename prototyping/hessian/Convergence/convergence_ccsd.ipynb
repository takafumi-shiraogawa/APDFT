{
 "cells": [
  {
   "cell_type": "code",
   "execution_count": 1,
   "metadata": {},
   "outputs": [],
   "source": [
    "from pyscf import scf,gto,cc\n",
    "import numpy as np,numpy\n",
    "from FcMole import FcM"
   ]
  },
  {
   "cell_type": "code",
   "execution_count": 2,
   "metadata": {},
   "outputs": [],
   "source": [
    "def DeltaV(mol,dL): # dL=[[atmidxs],[atmFcs]]\n",
    "    mol.set_rinv_orig_(mol.atom_coords()[dL[0][0]])\n",
    "    dV=mol.intor('int1e_rinv')*dL[1][0]\n",
    "    for i in range(1,len(dL[0])): \n",
    "        mol.set_rinv_orig_(mol.atom_coords()[dL[0][i]])\n",
    "        dV+=mol.intor('int1e_rinv')*dL[1][i]\n",
    "    return -dV"
   ]
  },
  {
   "cell_type": "code",
   "execution_count": 3,
   "metadata": {},
   "outputs": [],
   "source": [
    "#coefficients accurate dL^-8\n",
    "d1=np.asarray([1/280,-4/105,1/5,-4/5,0,4/5,-1/5,4/105,-1/280])\n",
    "d2=np.asarray([-1/560,8/315,-1/5,8/5,-205/72,8/5,-1/5,8/315,-1/560])\n",
    "d3=np.asarray([-7/240,3/10,-169/120,61/30,0,-61/30,169/120,-3/10,7/240])\n",
    "d4=np.asarray([7/240,-2/5,169/60,-122/15,91/8,-122/15,169/60,-2/5,7/240])\n",
    "d5=np.asarray([1/6,-3/2,13/3,-29/6,0,29/6,-13/3,3/2,-1/6])\n",
    "d6=np.asarray([-1/4,3,-13,29,-75/2,29,-13,3,-1/4])\n",
    "coeffs=np.array([d1,d2,d3,d4,d5,d6])"
   ]
  },
  {
   "cell_type": "code",
   "execution_count": 10,
   "metadata": {},
   "outputs": [
    {
     "name": "stdout",
     "output_type": "stream",
     "text": [
      "converged SCF energy = -114.377014116702\n",
      "E(CCSD) = -114.4652400334409  E_corr = -0.08822591673875277\n",
      "converged SCF energy = -113.545536924897\n",
      "E(CCSD) = -113.6430803803882  E_corr = -0.09754345549124638\n",
      "converged SCF energy = -112.742145890619\n",
      "E(CCSD) = -112.849666107315  E_corr = -0.1075202166956961\n",
      "converged SCF energy = -111.967431228079\n",
      "E(CCSD) = -112.0851825845285  E_corr = -0.1177513564492804\n",
      "converged SCF energy = -111.221914650137\n",
      "E(CCSD) = -111.3497197542642  E_corr = -0.1278051041274061\n",
      "converged SCF energy = -110.506048710199\n",
      "E(CCSD) = -110.6432890073352  E_corr = -0.1372402971359631\n",
      "converged SCF energy = -109.820219990832\n",
      "E(CCSD) = -109.9658441993197  E_corr = -0.1456242084872498\n",
      "converged SCF energy = -109.164754557585\n",
      "E(CCSD) = -109.3173091948976  E_corr = -0.15255463731213\n",
      "converged SCF energy = -108.539924655925\n",
      "E(CCSD) = -108.697611274585  E_corr = -0.1576866186598762\n"
     ]
    }
   ],
   "source": [
    "dl=.1\n",
    "Ps=[]\n",
    "Es=[]\n",
    "for i in range(-4,5):\n",
    "    fm=FcM(fcs=[i*dl,-i*dl],atom=\"C 0 0 0;O 0 0 2.1\", unit=\"Bohr\" )\n",
    "    mf=scf.RHF(fm)\n",
    "    mf.scf(dm0=mf.init_guess_by_1e())\n",
    "    ccalc=cc.CCSD(mf)\n",
    "    ccalc.run()\n",
    "    Es.append(ccalc.e_tot-mf.energy_nuc())\n",
    "    Ps.append(np.einsum('pi,ij,qj->pq', mf.mo_coeff, ccalc.make_rdm1(), mf.mo_coeff))"
   ]
  },
  {
   "cell_type": "code",
   "execution_count": 11,
   "metadata": {},
   "outputs": [
    {
     "name": "stdout",
     "output_type": "stream",
     "text": [
      "converged SCF energy = -111.221914650137\n",
      "E(CCSD) = -111.349719744743  E_corr = -0.1278050946057308\n"
     ]
    }
   ],
   "source": [
    "mol0=gto.M(atom=\"C 0 0 0;O 0 0 2.1\", unit=\"Bohr\" )\n",
    "dV=DeltaV(mol0,[[0,1],[1,-1]])\n",
    "mf0=scf.RHF(mol0)\n",
    "mf0.scf()\n",
    "cc0=cc.CCSD(mf0)\n",
    "cc0.run()\n",
    "E0=cc0.e_tot\n",
    "P0=np.einsum('pi,ij,qj->pq', mf0.mo_coeff, cc0.make_rdm1(), mf0.mo_coeff.conj())"
   ]
  },
  {
   "cell_type": "code",
   "execution_count": 13,
   "metadata": {},
   "outputs": [
    {
     "name": "stdout",
     "output_type": "stream",
     "text": [
      "converged SCF energy = -105.444757226602\n",
      "E(CCSD) = -105.5894764428001  E_corr = -0.1447192161981249\n"
     ]
    }
   ],
   "source": [
    "molT=FcM(fcs=[1,-1],atom=\"C 0 0 0;O 0 0 2.1\", unit=\"Bohr\" )\n",
    "mfT=scf.RHF(molT)\n",
    "mfT.scf(dm0=mf.init_guess_by_1e())\n",
    "ccT=cc.CCSD(mfT)\n",
    "ccT.run()\n",
    "ET=ccT.e_tot\n",
    "PT=np.einsum('pi,ij,qj->pq', mfT.mo_coeff, ccT.make_rdm1(), mfT.mo_coeff)"
   ]
  },
  {
   "cell_type": "code",
   "execution_count": 14,
   "metadata": {},
   "outputs": [
    {
     "data": {
      "text/plain": [
       "(6.235764204299627, 6.355230016182793)"
      ]
     },
     "execution_count": 14,
     "metadata": {},
     "output_type": "execute_result"
    }
   ],
   "source": [
    "np.einsum('ij,ij',P0,dV),np.einsum('ij,ij',mf0.make_rdm1(),dV)"
   ]
  },
  {
   "cell_type": "code",
   "execution_count": 15,
   "metadata": {},
   "outputs": [
    {
     "name": "stdout",
     "output_type": "stream",
     "text": [
      "-104.6377650642529 6.235764204299627\n",
      "-105.60824588048727 -0.9704808162343683\n",
      "-105.58462078536466 0.023625095122604505\n",
      "-105.56339054697425 0.021230238390414463\n",
      "-105.59157979387707 -0.02818924690283286\n",
      "-105.5961648374193 -0.004585043542227945\n",
      "-105.59845390419638 -0.0022890667770754714\n"
     ]
    }
   ],
   "source": [
    "#dE/dZ^(n+1) = \\int dP/dZ^n * dV\n",
    "e=E0+np.einsum('ij,ij',P0,dV) +(mfT.energy_nuc()-mf0.energy_nuc())\n",
    "print(e,np.einsum('ij,ij',P0,dV) )\n",
    "for i in range (6):\n",
    "    dP=np.einsum('xij,x->ij',Ps,coeffs[i]/(dl)**(i+1))\n",
    "    e+=np.einsum('ij,ij',dP,dV)/np.math.factorial(i+2)\n",
    "    print(e,np.einsum('ij,ij',dP,dV)/np.math.factorial(i+2))"
   ]
  },
  {
   "cell_type": "code",
   "execution_count": 16,
   "metadata": {},
   "outputs": [
    {
     "name": "stdout",
     "output_type": "stream",
     "text": [
      "-104.61647932819768 6.2570499403548405\n",
      "-105.5921366483776 -0.9756573201799205\n",
      "-105.58823721172381 0.0038994366537981042\n",
      "-105.56377373457775 0.024463477146056487\n",
      "-105.5837680005125 -0.01999426593476035\n",
      "-105.59389541651461 -0.010127416002111048\n"
     ]
    }
   ],
   "source": [
    "#expanding energies\n",
    "e=E0+(mfT.energy_nuc()-mf0.energy_nuc())\n",
    "for i in range (6):\n",
    "    e+=np.sum(coeffs[i]*Es)/np.math.factorial(i+1)/dl**(i+1)\n",
    "    print(e,np.sum(coeffs[i]*Es)/np.math.factorial(i+1)/dl**(i+1))"
   ]
  },
  {
   "cell_type": "code",
   "execution_count": 19,
   "metadata": {},
   "outputs": [
    {
     "name": "stdout",
     "output_type": "stream",
     "text": [
      "converged SCF energy = -119.917957127279\n",
      "E(CCSD) = -119.9803459480259  E_corr = -0.06238882074723519\n"
     ]
    }
   ],
   "source": [
    "#to BF\n",
    "molT=FcM(fcs=[-1,1],atom=\"C 0 0 0;O 0 0 2.1\", unit=\"Bohr\" )\n",
    "mfT=scf.RHF(molT)\n",
    "mfT.scf(dm0=mf.init_guess_by_1e())\n",
    "ccT=cc.CCSD(mfT)\n",
    "ccT.run()\n",
    "ET=ccT.e_tot\n",
    "PT=np.einsum('pi,ij,qj->pq', mfT.mo_coeff, ccT.make_rdm1(), mfT.mo_coeff.conj())"
   ]
  },
  {
   "cell_type": "code",
   "execution_count": 20,
   "metadata": {},
   "outputs": [
    {
     "name": "stdout",
     "output_type": "stream",
     "text": [
      "-119.01405537761407\n",
      "-119.98453619384844 -0.9704808162343683\n",
      "-120.00816128897105 -0.023625095122604505\n",
      "-119.98693105058064 0.021230238390414463\n",
      "-119.95874180367781 0.02818924690283286\n",
      "-119.96332684722003 -0.004585043542227945\n",
      "-119.96103778044295 0.0022890667770754714\n"
     ]
    }
   ],
   "source": [
    "e=E0+np.einsum('ij,ij',P0,-dV) +(mfT.energy_nuc()-mf0.energy_nuc())\n",
    "print(e)\n",
    "for i in range (6):\n",
    "    dP=np.einsum('xij,x->ij',Ps,coeffs[i]/(-dl)**(i+1))    # -dl to invert the direction\n",
    "    e+=np.einsum('ij,ij',dP,-dV)/np.math.factorial(i+2)\n",
    "    print(e,np.einsum('ij,ij',dP,-dV)/np.math.factorial(i+2))"
   ]
  },
  {
   "cell_type": "code",
   "execution_count": 21,
   "metadata": {},
   "outputs": [
    {
     "name": "stdout",
     "output_type": "stream",
     "text": [
      "-117.60676968509786 -6.2570499403548405\n",
      "-118.58242700527778 -0.9756573201799205\n",
      "-118.58632644193158 -0.0038994366537981042\n",
      "-118.56186296478552 0.024463477146056487\n",
      "-118.54186869885076 0.01999426593476035\n",
      "-118.55199611485287 -0.010127416002111048\n"
     ]
    }
   ],
   "source": [
    "#expanding energies\n",
    "e=E0\n",
    "for i in range (6):\n",
    "    e+=np.sum(coeffs[i]*Es)/np.math.factorial(i+1)/(-dl)**(i+1)\n",
    "    print(e,np.sum(coeffs[i]*Es)/np.math.factorial(i+1)/(-dl)**(i+1))"
   ]
  },
  {
   "cell_type": "code",
   "execution_count": null,
   "metadata": {},
   "outputs": [],
   "source": []
  }
 ],
 "metadata": {
  "kernelspec": {
   "display_name": "Python 3",
   "language": "python",
   "name": "python3"
  },
  "language_info": {
   "codemirror_mode": {
    "name": "ipython",
    "version": 3
   },
   "file_extension": ".py",
   "mimetype": "text/x-python",
   "name": "python",
   "nbconvert_exporter": "python",
   "pygments_lexer": "ipython3",
   "version": "3.7.6"
  }
 },
 "nbformat": 4,
 "nbformat_minor": 4
}
