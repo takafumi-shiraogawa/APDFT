{
 "cells": [
  {
   "cell_type": "code",
   "execution_count": 5,
   "metadata": {},
   "outputs": [],
   "source": [
    "from pyscf import scf,gto,cc\n",
    "import numpy as np,numpy\n",
    "from FcMole import FcM"
   ]
  },
  {
   "cell_type": "code",
   "execution_count": 6,
   "metadata": {},
   "outputs": [],
   "source": [
    "def DeltaV(mol,dL): # dL=[[atmidxs],[atmFcs]]\n",
    "    mol.set_rinv_orig_(mol.atom_coords()[dL[0][0]])\n",
    "    dV=mol.intor('int1e_rinv')*dL[1][0]\n",
    "    for i in range(1,len(dL[0])): \n",
    "        mol.set_rinv_orig_(mol.atom_coords()[dL[0][i]])\n",
    "        dV+=mol.intor('int1e_rinv')*dL[1][i]\n",
    "    return -dV"
   ]
  },
  {
   "cell_type": "code",
   "execution_count": 7,
   "metadata": {},
   "outputs": [],
   "source": [
    "#coefficients accurate dL^-8\n",
    "d1=np.asarray([1/280,-4/105,1/5,-4/5,0,4/5,-1/5,4/105,-1/280])\n",
    "d2=np.asarray([-1/560,8/315,-1/5,8/5,-205/72,8/5,-1/5,8/315,-1/560])\n",
    "d3=np.asarray([-7/240,3/10,-169/120,61/30,0,-61/30,169/120,-3/10,7/240])\n",
    "d4=np.asarray([7/240,-2/5,169/60,-122/15,91/8,-122/15,169/60,-2/5,7/240])\n",
    "d5=np.asarray([1/6,-3/2,13/3,-29/6,0,29/6,-13/3,3/2,-1/6])\n",
    "d6=np.asarray([-1/4,3,-13,29,-75/2,29,-13,3,-1/4])\n",
    "coeffs=np.array([d1,d2,d3,d4,d5,d6])"
   ]
  },
  {
   "cell_type": "code",
   "execution_count": 8,
   "metadata": {},
   "outputs": [
    {
     "name": "stdout",
     "output_type": "stream",
     "text": [
      "converged SCF energy = -112.742145890619\n",
      "E(CCSD) = -112.849666107281  E_corr = -0.107520216661614\n",
      "converged SCF energy = -112.351169769144\n",
      "E(CCSD) = -112.4638002865437  E_corr = -0.1126305173996812\n",
      "converged SCF energy = -111.967431228079\n",
      "E(CCSD) = -112.0851825848047  E_corr = -0.1177513567254177\n",
      "converged SCF energy = -111.5909932961\n",
      "E(CCSD) = -111.7138212760532  E_corr = -0.1228279799533206\n",
      "converged SCF energy = -111.221914650137\n",
      "E(CCSD) = -111.3497197533591  E_corr = -0.1278051032223013\n",
      "converged SCF energy = -110.860249698717\n",
      "E(CCSD) = -110.9928772044254  E_corr = -0.1326275057079391\n",
      "converged SCF energy = -110.506048710199\n",
      "E(CCSD) = -110.6432890073989  E_corr = -0.1372402971997884\n",
      "converged SCF energy = -110.15935797469\n",
      "E(CCSD) = -110.3009477592215  E_corr = -0.1415897845311751\n",
      "converged SCF energy = -109.820219990832\n",
      "E(CCSD) = -109.9658441981601  E_corr = -0.1456242073277113\n"
     ]
    }
   ],
   "source": [
    "dl=.05\n",
    "Ps=[]\n",
    "Es=[]\n",
    "Es_hf=[]\n",
    "for i in range(-4,5):\n",
    "    fm=FcM(fcs=[i*dl,-i*dl],atom=\"C 0 0 0;O 0 0 2.1\", unit=\"Bohr\" )\n",
    "    mf=scf.RHF(fm)\n",
    "    mf.scf(dm0=mf.init_guess_by_1e())\n",
    "    ccalc=cc.CCSD(mf)\n",
    "    ccalc.run()\n",
    "    Es_hf.append(mf.e_tot-mf.energy_nuc())\n",
    "    Es.append(ccalc.e_tot-mf.energy_nuc())\n",
    "    Ps.append(np.einsum('pi,ij,qj->pq', mf.mo_coeff, ccalc.make_rdm1(), mf.mo_coeff))"
   ]
  },
  {
   "cell_type": "code",
   "execution_count": 9,
   "metadata": {},
   "outputs": [
    {
     "name": "stdout",
     "output_type": "stream",
     "text": [
      "converged SCF energy = -111.221914650137\n",
      "E(CCSD) = -111.3497197447145  E_corr = -0.12780509457712\n"
     ]
    }
   ],
   "source": [
    "mol0=gto.M(atom=\"C 0 0 0;O 0 0 2.1\", unit=\"Bohr\" )\n",
    "dV=DeltaV(mol0,[[0,1],[1,-1]])\n",
    "mf0=scf.RHF(mol0)\n",
    "mf0.scf()\n",
    "cc0=cc.CCSD(mf0)\n",
    "cc0.run()\n",
    "E0=cc0.e_tot\n",
    "P0_hf=mf0.make_rdm1()\n",
    "P0=np.einsum('pi,ij,qj->pq', mf0.mo_coeff, cc0.make_rdm1(), mf0.mo_coeff.conj())"
   ]
  },
  {
   "cell_type": "code",
   "execution_count": 10,
   "metadata": {},
   "outputs": [
    {
     "data": {
      "text/plain": [
       "6.235764203543833"
      ]
     },
     "execution_count": 10,
     "metadata": {},
     "output_type": "execute_result"
    }
   ],
   "source": [
    "np.einsum('ij,ij',P0,dV)"
   ]
  },
  {
   "cell_type": "code",
   "execution_count": 11,
   "metadata": {},
   "outputs": [
    {
     "data": {
      "text/plain": [
       "6.257050244681254"
      ]
     },
     "execution_count": 11,
     "metadata": {},
     "output_type": "execute_result"
    }
   ],
   "source": [
    "np.sum(d1*Es)/dl"
   ]
  },
  {
   "cell_type": "code",
   "execution_count": 12,
   "metadata": {},
   "outputs": [
    {
     "data": {
      "text/plain": [
       "6.257059763896393"
      ]
     },
     "execution_count": 12,
     "metadata": {},
     "output_type": "execute_result"
    }
   ],
   "source": [
    "(Es[5]-Es[3])/2/dl"
   ]
  },
  {
   "cell_type": "code",
   "execution_count": 13,
   "metadata": {},
   "outputs": [
    {
     "data": {
      "text/plain": [
       "6.355230016182917"
      ]
     },
     "execution_count": 13,
     "metadata": {},
     "output_type": "execute_result"
    }
   ],
   "source": [
    "np.einsum('ij,ij',P0_hf,dV)"
   ]
  },
  {
   "cell_type": "code",
   "execution_count": 14,
   "metadata": {},
   "outputs": [
    {
     "data": {
      "text/plain": [
       "6.355229384767897"
      ]
     },
     "execution_count": 14,
     "metadata": {},
     "output_type": "execute_result"
    }
   ],
   "source": [
    "np.sum(d1*Es_hf)/dl"
   ]
  },
  {
   "cell_type": "code",
   "execution_count": 15,
   "metadata": {},
   "outputs": [
    {
     "name": "stdout",
     "output_type": "stream",
     "text": [
      "converged SCF energy = -105.444757226602\n",
      "E(CCSD) = -105.5894764419116  E_corr = -0.1447192153099631\n"
     ]
    }
   ],
   "source": [
    "molT=FcM(fcs=[1,-1],atom=\"C 0 0 0;O 0 0 2.1\", unit=\"Bohr\" )\n",
    "mfT=scf.RHF(molT)\n",
    "mfT.scf(dm0=mf.init_guess_by_1e())\n",
    "ccT=cc.CCSD(mfT)\n",
    "ccT.run()\n",
    "ET=ccT.e_tot\n",
    "PT=np.einsum('pi,ij,qj->pq', mfT.mo_coeff, ccT.make_rdm1(), mfT.mo_coeff)"
   ]
  },
  {
   "cell_type": "code",
   "execution_count": 16,
   "metadata": {},
   "outputs": [
    {
     "data": {
      "text/plain": [
       "(6.235764203543833, 6.355230016182917)"
      ]
     },
     "execution_count": 16,
     "metadata": {},
     "output_type": "execute_result"
    }
   ],
   "source": [
    "np.einsum('ij,ij',P0,dV),np.einsum('ij,ij',mf0.make_rdm1(),dV)"
   ]
  },
  {
   "cell_type": "code",
   "execution_count": 17,
   "metadata": {},
   "outputs": [
    {
     "name": "stdout",
     "output_type": "stream",
     "text": [
      "-104.63776506498017 6.235764203543833\n",
      "-105.60824526942235 -0.9704802044421782\n",
      "-105.58461920742558 0.0236260619967833\n",
      "-105.56345184232883 0.021167365096740914\n",
      "-105.59160025245468 -0.028148410125853045\n",
      "-105.59377074557482 -0.0021704931201386372\n",
      "-105.59846271609632 -0.0046919705215124384\n"
     ]
    }
   ],
   "source": [
    "#dE/dZ^(n+1) = \\int dP/dZ^n * dV\n",
    "e=E0+np.einsum('ij,ij',P0,dV) +(mfT.energy_nuc()-mf0.energy_nuc())\n",
    "print(e,np.einsum('ij,ij',P0,dV) )\n",
    "for i in range (6):\n",
    "    dP=np.einsum('xij,x->ij',Ps,coeffs[i]/(dl)**(i+1))\n",
    "    e+=np.einsum('ij,ij',dP,dV)/np.math.factorial(i+2)\n",
    "    print(e,np.einsum('ij,ij',dP,dV)/np.math.factorial(i+2))"
   ]
  },
  {
   "cell_type": "code",
   "execution_count": 18,
   "metadata": {},
   "outputs": [
    {
     "name": "stdout",
     "output_type": "stream",
     "text": [
      "-104.61647902384276 6.257050244681254\n",
      "-105.59214878750562 -0.9756697636628673\n",
      "-105.5882954237981 0.0038533637075251655\n",
      "-105.56187460065398 0.0264208231441169\n",
      "-105.58009045223666 -0.01821585158268135\n",
      "-105.67299728638362 -0.09290683414696506\n"
     ]
    }
   ],
   "source": [
    "#expanding energies\n",
    "e=E0+(mfT.energy_nuc()-mf0.energy_nuc())\n",
    "for i in range (6):\n",
    "    e+=np.sum(coeffs[i]*Es)/np.math.factorial(i+1)/dl**(i+1)\n",
    "    print(e,np.sum(coeffs[i]*Es)/np.math.factorial(i+1)/dl**(i+1))"
   ]
  },
  {
   "cell_type": "code",
   "execution_count": 19,
   "metadata": {},
   "outputs": [],
   "source": [
    "import pyscf\n",
    "from pyscf import grad\n"
   ]
  },
  {
   "cell_type": "code",
   "execution_count": 20,
   "metadata": {},
   "outputs": [
    {
     "ename": "ImportError",
     "evalue": "cannot import name 'ccsd_grad' from 'pyscf.cc' (/home/giorgiod/miniconda3/lib/python3.7/site-packages/pyscf/cc/__init__.py)",
     "output_type": "error",
     "traceback": [
      "\u001b[0;31m---------------------------------------------------------------------------\u001b[0m",
      "\u001b[0;31mImportError\u001b[0m                               Traceback (most recent call last)",
      "\u001b[0;32m<ipython-input-20-f862463774eb>\u001b[0m in \u001b[0;36m<module>\u001b[0;34m\u001b[0m\n\u001b[0;32m----> 1\u001b[0;31m \u001b[0;32mfrom\u001b[0m \u001b[0mpyscf\u001b[0m\u001b[0;34m.\u001b[0m\u001b[0mcc\u001b[0m \u001b[0;32mimport\u001b[0m \u001b[0mccsd_grad\u001b[0m\u001b[0;34m\u001b[0m\u001b[0;34m\u001b[0m\u001b[0m\n\u001b[0m",
      "\u001b[0;31mImportError\u001b[0m: cannot import name 'ccsd_grad' from 'pyscf.cc' (/home/giorgiod/miniconda3/lib/python3.7/site-packages/pyscf/cc/__init__.py)"
     ]
    }
   ],
   "source": [
    "from pyscf.cc import ccsd_grad\n"
   ]
  },
  {
   "cell_type": "code",
   "execution_count": null,
   "metadata": {},
   "outputs": [],
   "source": [
    "pyscf.__version__\n"
   ]
  }
 ],
 "metadata": {
  "kernelspec": {
   "display_name": "Python 3",
   "language": "python",
   "name": "python3"
  },
  "language_info": {
   "codemirror_mode": {
    "name": "ipython",
    "version": 3
   },
   "file_extension": ".py",
   "mimetype": "text/x-python",
   "name": "python",
   "nbconvert_exporter": "python",
   "pygments_lexer": "ipython3",
   "version": "3.7.3"
  }
 },
 "nbformat": 4,
 "nbformat_minor": 4
}
