{
 "cells": [
  {
   "cell_type": "code",
   "execution_count": 1,
   "metadata": {},
   "outputs": [],
   "source": [
    "from pyscf import scf,gto\n",
    "import numpy as np,numpy\n",
    "from FcMole import FcM"
   ]
  },
  {
   "cell_type": "code",
   "execution_count": 2,
   "metadata": {},
   "outputs": [],
   "source": [
    "def DeltaV(mol,dL): # dL=[[atmidxs],[atmFcs]]\n",
    "    mol.set_rinv_orig_(mol.atom_coords()[dL[0][0]])\n",
    "    dV=mol.intor('int1e_rinv')*dL[1][0]\n",
    "    for i in range(1,len(dL[0])): \n",
    "        mol.set_rinv_orig_(mol.atom_coords()[dL[0][i]])\n",
    "        dV+=mol.intor('int1e_rinv')*dL[1][i]\n",
    "    return -dV"
   ]
  },
  {
   "cell_type": "code",
   "execution_count": 3,
   "metadata": {},
   "outputs": [],
   "source": [
    "#coefficients accurate dL^-8\n",
    "d1=np.asarray([1/280,-4/105,1/5,-4/5,0,4/5,-1/5,4/105,-1/280])\n",
    "d2=np.asarray([-1/560,8/315,-1/5,8/5,-205/72,8/5,-1/5,8/315,-1/560])\n",
    "d3=np.asarray([-7/240,3/10,-169/120,61/30,0,-61/30,169/120,-3/10,7/240])\n",
    "d4=np.asarray([7/240,-2/5,169/60,-122/15,91/8,-122/15,169/60,-2/5,7/240])\n",
    "d5=np.asarray([1/6,-3/2,13/3,-29/6,0,29/6,-13/3,3/2,-1/6])\n",
    "d6=np.asarray([-1/4,3,-13,29,-75/2,29,-13,3,-1/4])"
   ]
  },
  {
   "cell_type": "code",
   "execution_count": 4,
   "metadata": {},
   "outputs": [
    {
     "name": "stdout",
     "output_type": "stream",
     "text": [
      "converged SCF energy = -112.742145890619\n",
      "converged SCF energy = -112.351169769144\n",
      "converged SCF energy = -111.967431228079\n",
      "converged SCF energy = -111.590993296104\n",
      "converged SCF energy = -111.221914650137\n",
      "converged SCF energy = -110.860249698719\n",
      "converged SCF energy = -110.506048710203\n",
      "converged SCF energy = -110.15935797469\n",
      "converged SCF energy = -109.820219990832\n"
     ]
    }
   ],
   "source": [
    "dl=.05\n",
    "Ps=[]\n",
    "Es=[]\n",
    "for i in range(-4,5):\n",
    "    fm=FcM(fcs=[i*dl,-i*dl],atom=\"C 0 0 0;O 0 0 2.1\", unit=\"Bohr\" )\n",
    "    mf=scf.RHF(fm)\n",
    "    Es.append(mf.scf(dm0=mf.init_guess_by_1e()))\n",
    "    Ps.append(mf.make_rdm1())"
   ]
  },
  {
   "cell_type": "code",
   "execution_count": 5,
   "metadata": {},
   "outputs": [
    {
     "data": {
      "text/plain": [
       "array([ -0.25,   3.  , -13.  ,  29.  , -37.5 ,  29.  , -13.  ,   3.  ,\n",
       "        -0.25])"
      ]
     },
     "execution_count": 5,
     "metadata": {},
     "output_type": "execute_result"
    }
   ],
   "source": [
    "coeffs=np.array([d1,d2,d3,d4,d5,d6])\n",
    "coeffs[5]"
   ]
  },
  {
   "cell_type": "code",
   "execution_count": 6,
   "metadata": {},
   "outputs": [
    {
     "name": "stdout",
     "output_type": "stream",
     "text": [
      "converged SCF energy = -111.221914650137\n"
     ]
    }
   ],
   "source": [
    "mol0=gto.M(atom=\"C 0 0 0;O 0 0 2.1\", unit=\"Bohr\" )\n",
    "dV=DeltaV(mol0,[[0,1],[1,-1]])\n",
    "mf0=scf.RHF(mol0)\n",
    "E0=mf0.scf()\n",
    "P0=mf0.make_rdm1()"
   ]
  },
  {
   "cell_type": "code",
   "execution_count": 7,
   "metadata": {},
   "outputs": [
    {
     "data": {
      "text/plain": [
       "22.857142857142854"
      ]
     },
     "execution_count": 7,
     "metadata": {},
     "output_type": "execute_result"
    }
   ],
   "source": [
    "mf0.energy_nuc()"
   ]
  },
  {
   "cell_type": "code",
   "execution_count": 8,
   "metadata": {},
   "outputs": [
    {
     "name": "stdout",
     "output_type": "stream",
     "text": [
      "converged SCF energy = -105.444757226604\n"
     ]
    }
   ],
   "source": [
    "molT=FcM(fcs=[1,-1],atom=\"C 0 0 0;O 0 0 2.1\", unit=\"Bohr\" )\n",
    "dV=DeltaV(mol0,[[0,1],[1,-1]])\n",
    "mfT=scf.RHF(molT)\n",
    "ET=mfT.scf(dm0=mf.init_guess_by_1e())\n",
    "PT=mfT.make_rdm1()"
   ]
  },
  {
   "cell_type": "code",
   "execution_count": 9,
   "metadata": {},
   "outputs": [
    {
     "name": "stdout",
     "output_type": "stream",
     "text": [
      "-104.39049415776398\n",
      "-105.39711356625166 -1.0066194084876745\n",
      "-105.46687323553378 -0.0697596692821242\n",
      "-105.43921627227797 0.027656963255811517\n",
      "-105.44261387741494 -0.0033976051369680347\n",
      "-105.44451694221489 -0.0019030647999454245\n",
      "-105.44703462123475 -0.0025176790198576425\n"
     ]
    }
   ],
   "source": [
    "#dE/dZ^(n+1) = \\int dP/dZ^n * dV\n",
    "e=E0+np.einsum('ij,ij',P0,dV) +(mfT.energy_nuc()-mf0.energy_nuc())\n",
    "print(e)\n",
    "for i in range (6):\n",
    "    dP=np.einsum('xij,x->ij',Ps,coeffs[i]/(dl)**(i+1))\n",
    "    e+=np.einsum('ij,ij',dP,dV)/np.math.factorial(i+2)\n",
    "    print(e,np.einsum('ij,ij',dP,dV)/np.math.factorial(i+2))"
   ]
  },
  {
   "cell_type": "code",
   "execution_count": 10,
   "metadata": {},
   "outputs": [
    {
     "name": "stdout",
     "output_type": "stream",
     "text": [
      "-111.22191465013722\n",
      "-103.91430431293911 7.307610337198108\n",
      "-105.39711229982638 -1.4828079868872632\n",
      "-105.46684776448609 -0.0697354646597148\n",
      "-105.43920948238166 0.0276382821044289\n",
      "-105.44316652453043 -0.003957042148764836\n",
      "-105.44611574647362 -0.0029492219432035592\n"
     ]
    }
   ],
   "source": [
    "#expanding energies\n",
    "e=E0\n",
    "print(e)\n",
    "for i in range (6):\n",
    "    e+=np.sum(coeffs[i]*Es)/np.math.factorial(i+1)/dl**(i+1)\n",
    "    print(e,np.sum(coeffs[i]*Es)/np.math.factorial(i+1)/dl**(i+1))"
   ]
  },
  {
   "cell_type": "code",
   "execution_count": 12,
   "metadata": {},
   "outputs": [
    {
     "name": "stdout",
     "output_type": "stream",
     "text": [
      "converged SCF energy = -119.917957127279\n"
     ]
    }
   ],
   "source": [
    "#to BF\n",
    "molT=FcM(fcs=[-1,1],atom=\"C 0 0 0;O 0 0 2.1\", unit=\"Bohr\" )\n",
    "dV=DeltaV(mol0,[[0,1],[-1,1]])\n",
    "mfT=scf.RHF(molT)\n",
    "ET=mfT.scf(dm0=mf.init_guess_by_atom())\n",
    "PT=mfT.make_rdm1()"
   ]
  },
  {
   "cell_type": "code",
   "execution_count": 13,
   "metadata": {},
   "outputs": [
    {
     "name": "stdout",
     "output_type": "stream",
     "text": [
      "-119.00571609489157\n",
      "-120.01233550338145 -1.0066194084898887\n",
      "-119.94257583413706 0.06975966924438555\n",
      "-119.91491887071025 0.027656963426802777\n",
      "-119.91152126204544 0.003397608664805319\n",
      "-119.91342433184957 -0.0019030698041282085\n",
      "-119.91090676889591 0.0025175629536558003\n"
     ]
    }
   ],
   "source": [
    "e=E0+np.einsum('ij,ij',P0,dV) +(mfT.energy_nuc()-mf0.energy_nuc())\n",
    "print(e)\n",
    "for i in range (6):\n",
    "    dP=np.einsum('xij,x->ij',Ps,coeffs[i]/(-dl)**(i+1))    # -dl to invert the direction\n",
    "    e+=np.einsum('ij,ij',dP,dV)/np.math.factorial(i+2)\n",
    "    print(e,np.einsum('ij,ij',dP,dV)/np.math.factorial(i+2))"
   ]
  },
  {
   "cell_type": "code",
   "execution_count": 14,
   "metadata": {},
   "outputs": [
    {
     "name": "stdout",
     "output_type": "stream",
     "text": [
      "-111.22191465013731\n",
      "-118.52952498733599 -7.3076103371986845\n",
      "-120.01233297426869 -1.482807986932699\n",
      "-119.94259750960482 0.06973546466385963\n",
      "-119.91495922221573 0.027638287389090497\n",
      "-119.91100218357231 0.003957038643420673\n",
      "-119.91395164552105 -0.0029494619487498604\n"
     ]
    }
   ],
   "source": [
    "e=E0\n",
    "print(e)\n",
    "for i in range (6):\n",
    "    e+=np.sum(coeffs[i]*Es)/np.math.factorial(i+1)/(-dl)**(i+1)\n",
    "    print(e,np.sum(coeffs[i]*Es)/np.math.factorial(i+1)/(-dl)**(i+1))"
   ]
  },
  {
   "cell_type": "code",
   "execution_count": 15,
   "metadata": {},
   "outputs": [],
   "source": [
    "from alch_deriv import alch_deriv"
   ]
  },
  {
   "cell_type": "code",
   "execution_count": 18,
   "metadata": {},
   "outputs": [
    {
     "name": "stdout",
     "output_type": "stream",
     "text": [
      "Failed to parse charges\n"
     ]
    },
    {
     "ename": "RuntimeError",
     "evalue": "No active exception to reraise",
     "output_type": "error",
     "traceback": [
      "\u001b[0;31m---------------------------------------------------------------------------\u001b[0m",
      "\u001b[0;31mRuntimeError\u001b[0m                              Traceback (most recent call last)",
      "\u001b[0;32m<ipython-input-18-df88b14f1084>\u001b[0m in \u001b[0;36m<module>\u001b[0;34m\u001b[0m\n\u001b[0;32m----> 1\u001b[0;31m \u001b[0mpd1\u001b[0m\u001b[0;34m,\u001b[0m\u001b[0mmo1\u001b[0m\u001b[0;34m=\u001b[0m \u001b[0malch_deriv\u001b[0m\u001b[0;34m(\u001b[0m\u001b[0mmf0\u001b[0m\u001b[0;34m,\u001b[0m \u001b[0mdL\u001b[0m\u001b[0;34m=\u001b[0m\u001b[0;34m[\u001b[0m\u001b[0;36m1\u001b[0m\u001b[0;34m,\u001b[0m\u001b[0;34m-\u001b[0m\u001b[0;36m1\u001b[0m\u001b[0;34m]\u001b[0m\u001b[0;34m)\u001b[0m\u001b[0;34m\u001b[0m\u001b[0;34m\u001b[0m\u001b[0m\n\u001b[0m",
      "\u001b[0;32m/mnt/c/Users/zorzo/Documents/APDFT/prototyping/hessian/Convergence/alch_deriv.py\u001b[0m in \u001b[0;36malch_deriv\u001b[0;34m(mf, dL)\u001b[0m\n\u001b[1;32m     68\u001b[0m     \u001b[0;32mif\u001b[0m \u001b[0;32mnot\u001b[0m \u001b[0mparsed\u001b[0m\u001b[0;34m:\u001b[0m\u001b[0;34m\u001b[0m\u001b[0;34m\u001b[0m\u001b[0m\n\u001b[1;32m     69\u001b[0m         \u001b[0mprint\u001b[0m\u001b[0;34m(\u001b[0m\u001b[0;34m\"Failed to parse charges\"\u001b[0m\u001b[0;34m)\u001b[0m\u001b[0;34m\u001b[0m\u001b[0;34m\u001b[0m\u001b[0m\n\u001b[0;32m---> 70\u001b[0;31m         \u001b[0;32mraise\u001b[0m\u001b[0;34m\u001b[0m\u001b[0;34m\u001b[0m\u001b[0m\n\u001b[0m\u001b[1;32m     71\u001b[0m     \u001b[0mprint\u001b[0m\u001b[0;34m(\u001b[0m\u001b[0mdL\u001b[0m\u001b[0;34m)\u001b[0m\u001b[0;34m\u001b[0m\u001b[0;34m\u001b[0m\u001b[0m\n\u001b[1;32m     72\u001b[0m     \u001b[0mplo\u001b[0m\u001b[0;34m=\u001b[0m\u001b[0mmf\u001b[0m\u001b[0;34m.\u001b[0m\u001b[0mPolarizability\u001b[0m\u001b[0;34m(\u001b[0m\u001b[0;34m)\u001b[0m\u001b[0;34m\u001b[0m\u001b[0;34m\u001b[0m\u001b[0m\n",
      "\u001b[0;31mRuntimeError\u001b[0m: No active exception to reraise"
     ]
    }
   ],
   "source": [
    "pd1,mo1= alch_deriv(mf0, dL=[0,1],[1,-1])"
   ]
  },
  {
   "cell_type": "code",
   "execution_count": null,
   "metadata": {},
   "outputs": [],
   "source": []
  }
 ],
 "metadata": {
  "kernelspec": {
   "display_name": "Python 3",
   "language": "python",
   "name": "python3"
  },
  "language_info": {
   "codemirror_mode": {
    "name": "ipython",
    "version": 3
   },
   "file_extension": ".py",
   "mimetype": "text/x-python",
   "name": "python",
   "nbconvert_exporter": "python",
   "pygments_lexer": "ipython3",
   "version": "3.7.6"
  }
 },
 "nbformat": 4,
 "nbformat_minor": 4
}
