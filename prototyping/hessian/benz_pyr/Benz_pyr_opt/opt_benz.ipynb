{
 "cells": [
  {
   "cell_type": "code",
   "execution_count": null,
   "metadata": {},
   "outputs": [],
   "source": [
    "from pyscf import gto, scf,dft\n",
    "from pyscf.geomopt.berny_solver import optimize"
   ]
  },
  {
   "cell_type": "code",
   "execution_count": 6,
   "metadata": {},
   "outputs": [
    {
     "ename": "KeyError",
     "evalue": "'Invalid basis name MG3S'",
     "output_type": "error",
     "traceback": [
      "\u001b[0;31m---------------------------------------------------------------------------\u001b[0m",
      "\u001b[0;31mKeyError\u001b[0m                                  Traceback (most recent call last)",
      "\u001b[0;32m~/.local/lib/python3.6/site-packages/pyscf/gto/basis/__init__.py\u001b[0m in \u001b[0;36mload\u001b[0;34m(filename_or_basisname, symb, optimize)\u001b[0m\n\u001b[1;32m    419\u001b[0m         \u001b[0;32mtry\u001b[0m\u001b[0;34m:\u001b[0m\u001b[0;34m\u001b[0m\u001b[0;34m\u001b[0m\u001b[0m\n\u001b[0;32m--> 420\u001b[0;31m             \u001b[0;32mreturn\u001b[0m \u001b[0mparse_nwchem\u001b[0m\u001b[0;34m.\u001b[0m\u001b[0mparse\u001b[0m\u001b[0;34m(\u001b[0m\u001b[0mfilename_or_basisname\u001b[0m\u001b[0;34m,\u001b[0m \u001b[0msymb\u001b[0m\u001b[0;34m)\u001b[0m\u001b[0;34m\u001b[0m\u001b[0;34m\u001b[0m\u001b[0m\n\u001b[0m\u001b[1;32m    421\u001b[0m         \u001b[0;32mexcept\u001b[0m \u001b[0mKeyError\u001b[0m\u001b[0;34m:\u001b[0m\u001b[0;34m\u001b[0m\u001b[0;34m\u001b[0m\u001b[0m\n",
      "\u001b[0;32m~/.local/lib/python3.6/site-packages/pyscf/gto/basis/parse_nwchem.py\u001b[0m in \u001b[0;36mparse\u001b[0;34m(string, symb, optimize)\u001b[0m\n\u001b[1;32m     89\u001b[0m         \u001b[0;32mif\u001b[0m \u001b[0mstring\u001b[0m \u001b[0;32mis\u001b[0m \u001b[0;32mNone\u001b[0m\u001b[0;34m:\u001b[0m\u001b[0;34m\u001b[0m\u001b[0;34m\u001b[0m\u001b[0m\n\u001b[0;32m---> 90\u001b[0;31m             \u001b[0;32mraise\u001b[0m \u001b[0mKeyError\u001b[0m\u001b[0;34m(\u001b[0m\u001b[0;34m'Basis not found for %s'\u001b[0m \u001b[0;34m%\u001b[0m \u001b[0msymb\u001b[0m\u001b[0;34m)\u001b[0m\u001b[0;34m\u001b[0m\u001b[0;34m\u001b[0m\u001b[0m\n\u001b[0m\u001b[1;32m     91\u001b[0m \u001b[0;34m\u001b[0m\u001b[0m\n",
      "\u001b[0;31mKeyError\u001b[0m: 'Basis not found for C'",
      "\nDuring handling of the above exception, another exception occurred:\n",
      "\u001b[0;31mIndexError\u001b[0m                                Traceback (most recent call last)",
      "\u001b[0;32m~/.local/lib/python3.6/site-packages/pyscf/gto/basis/__init__.py\u001b[0m in \u001b[0;36mload\u001b[0;34m(filename_or_basisname, symb, optimize)\u001b[0m\n\u001b[1;32m    422\u001b[0m             \u001b[0;32mtry\u001b[0m\u001b[0;34m:\u001b[0m\u001b[0;34m\u001b[0m\u001b[0;34m\u001b[0m\u001b[0m\n\u001b[0;32m--> 423\u001b[0;31m                 \u001b[0;32mreturn\u001b[0m \u001b[0mparse_nwchem\u001b[0m\u001b[0;34m.\u001b[0m\u001b[0mparse\u001b[0m\u001b[0;34m(\u001b[0m\u001b[0mfilename_or_basisname\u001b[0m\u001b[0;34m)\u001b[0m\u001b[0;34m\u001b[0m\u001b[0;34m\u001b[0m\u001b[0m\n\u001b[0m\u001b[1;32m    424\u001b[0m             \u001b[0;32mexcept\u001b[0m \u001b[0mIndexError\u001b[0m\u001b[0;34m:\u001b[0m\u001b[0;34m\u001b[0m\u001b[0;34m\u001b[0m\u001b[0m\n",
      "\u001b[0;32m~/.local/lib/python3.6/site-packages/pyscf/gto/basis/parse_nwchem.py\u001b[0m in \u001b[0;36mparse\u001b[0;34m(string, symb, optimize)\u001b[0m\n\u001b[1;32m     96\u001b[0m             \u001b[0mbastxt\u001b[0m\u001b[0;34m.\u001b[0m\u001b[0mappend\u001b[0m\u001b[0;34m(\u001b[0m\u001b[0mx\u001b[0m\u001b[0;34m)\u001b[0m\u001b[0;34m\u001b[0m\u001b[0;34m\u001b[0m\u001b[0m\n\u001b[0;32m---> 97\u001b[0;31m     \u001b[0;32mreturn\u001b[0m \u001b[0m_parse\u001b[0m\u001b[0;34m(\u001b[0m\u001b[0mbastxt\u001b[0m\u001b[0;34m,\u001b[0m \u001b[0moptimize\u001b[0m\u001b[0;34m)\u001b[0m\u001b[0;34m\u001b[0m\u001b[0;34m\u001b[0m\u001b[0m\n\u001b[0m\u001b[1;32m     98\u001b[0m \u001b[0;34m\u001b[0m\u001b[0m\n",
      "\u001b[0;32m~/.local/lib/python3.6/site-packages/pyscf/gto/basis/parse_nwchem.py\u001b[0m in \u001b[0;36m_parse\u001b[0;34m(raw_basis, optimize)\u001b[0m\n\u001b[1;32m    224\u001b[0m         \u001b[0;32melif\u001b[0m \u001b[0mdat\u001b[0m\u001b[0;34m[\u001b[0m\u001b[0;36m0\u001b[0m\u001b[0;34m]\u001b[0m\u001b[0;34m.\u001b[0m\u001b[0misalpha\u001b[0m\u001b[0;34m(\u001b[0m\u001b[0;34m)\u001b[0m\u001b[0;34m:\u001b[0m\u001b[0;34m\u001b[0m\u001b[0;34m\u001b[0m\u001b[0m\n\u001b[0;32m--> 225\u001b[0;31m             \u001b[0mkey\u001b[0m \u001b[0;34m=\u001b[0m \u001b[0mdat\u001b[0m\u001b[0;34m.\u001b[0m\u001b[0msplit\u001b[0m\u001b[0;34m(\u001b[0m\u001b[0;34m)\u001b[0m\u001b[0;34m[\u001b[0m\u001b[0;36m1\u001b[0m\u001b[0;34m]\u001b[0m\u001b[0;34m\u001b[0m\u001b[0;34m\u001b[0m\u001b[0m\n\u001b[0m\u001b[1;32m    226\u001b[0m             \u001b[0;32mif\u001b[0m \u001b[0mkey\u001b[0m \u001b[0;34m==\u001b[0m \u001b[0;34m'SP'\u001b[0m\u001b[0;34m:\u001b[0m\u001b[0;34m\u001b[0m\u001b[0;34m\u001b[0m\u001b[0m\n",
      "\u001b[0;31mIndexError\u001b[0m: list index out of range",
      "\nDuring handling of the above exception, another exception occurred:\n",
      "\u001b[0;31mKeyError\u001b[0m                                  Traceback (most recent call last)",
      "\u001b[0;32m<ipython-input-6-b1004c4e19b2>\u001b[0m in \u001b[0;36m<module>\u001b[0;34m\u001b[0m\n\u001b[1;32m     13\u001b[0m \"\"\"\n\u001b[1;32m     14\u001b[0m \u001b[0;34m\u001b[0m\u001b[0m\n\u001b[0;32m---> 15\u001b[0;31m \u001b[0mmol\u001b[0m \u001b[0;34m=\u001b[0m \u001b[0mgto\u001b[0m\u001b[0;34m.\u001b[0m\u001b[0mM\u001b[0m\u001b[0;34m(\u001b[0m\u001b[0matom\u001b[0m\u001b[0;34m=\u001b[0m\u001b[0mbenz_atom\u001b[0m\u001b[0;34m,\u001b[0m \u001b[0mbasis\u001b[0m\u001b[0;34m=\u001b[0m\u001b[0;34m'MG3S'\u001b[0m\u001b[0;34m,\u001b[0m\u001b[0munit\u001b[0m\u001b[0;34m=\u001b[0m\u001b[0;34m'bohr'\u001b[0m\u001b[0;34m)\u001b[0m\u001b[0;34m\u001b[0m\u001b[0;34m\u001b[0m\u001b[0m\n\u001b[0m\u001b[1;32m     16\u001b[0m \u001b[0mmf\u001b[0m \u001b[0;34m=\u001b[0m \u001b[0mdft\u001b[0m\u001b[0;34m.\u001b[0m\u001b[0mRKS\u001b[0m\u001b[0;34m(\u001b[0m\u001b[0mmol\u001b[0m\u001b[0;34m)\u001b[0m\u001b[0;34m\u001b[0m\u001b[0;34m\u001b[0m\u001b[0m\n\u001b[1;32m     17\u001b[0m \u001b[0mmf\u001b[0m\u001b[0;34m.\u001b[0m\u001b[0mxc\u001b[0m \u001b[0;34m=\u001b[0m \u001b[0;34m'lda,vwn'\u001b[0m\u001b[0;34m\u001b[0m\u001b[0;34m\u001b[0m\u001b[0m\n",
      "\u001b[0;32m~/.local/lib/python3.6/site-packages/pyscf/gto/mole.py\u001b[0m in \u001b[0;36mM\u001b[0;34m(**kwargs)\u001b[0m\n\u001b[1;32m     91\u001b[0m     '''\n\u001b[1;32m     92\u001b[0m     \u001b[0mmol\u001b[0m \u001b[0;34m=\u001b[0m \u001b[0mMole\u001b[0m\u001b[0;34m(\u001b[0m\u001b[0;34m)\u001b[0m\u001b[0;34m\u001b[0m\u001b[0;34m\u001b[0m\u001b[0m\n\u001b[0;32m---> 93\u001b[0;31m     \u001b[0mmol\u001b[0m\u001b[0;34m.\u001b[0m\u001b[0mbuild\u001b[0m\u001b[0;34m(\u001b[0m\u001b[0;34m**\u001b[0m\u001b[0mkwargs\u001b[0m\u001b[0;34m)\u001b[0m\u001b[0;34m\u001b[0m\u001b[0;34m\u001b[0m\u001b[0m\n\u001b[0m\u001b[1;32m     94\u001b[0m     \u001b[0;32mreturn\u001b[0m \u001b[0mmol\u001b[0m\u001b[0;34m\u001b[0m\u001b[0;34m\u001b[0m\u001b[0m\n\u001b[1;32m     95\u001b[0m \u001b[0;34m\u001b[0m\u001b[0m\n",
      "\u001b[0;32m~/.local/lib/python3.6/site-packages/pyscf/gto/mole.py\u001b[0m in \u001b[0;36mbuild\u001b[0;34m(self, dump_input, parse_arg, verbose, output, max_memory, atom, basis, unit, nucmod, ecp, charge, spin, symmetry, symmetry_subgroup, cart)\u001b[0m\n\u001b[1;32m   2073\u001b[0m         \u001b[0;32melse\u001b[0m\u001b[0;34m:\u001b[0m\u001b[0;34m\u001b[0m\u001b[0;34m\u001b[0m\u001b[0m\n\u001b[1;32m   2074\u001b[0m             \u001b[0m_basis\u001b[0m \u001b[0;34m=\u001b[0m \u001b[0mself\u001b[0m\u001b[0;34m.\u001b[0m\u001b[0mbasis\u001b[0m\u001b[0;34m\u001b[0m\u001b[0;34m\u001b[0m\u001b[0m\n\u001b[0;32m-> 2075\u001b[0;31m         \u001b[0mself\u001b[0m\u001b[0;34m.\u001b[0m\u001b[0m_basis\u001b[0m \u001b[0;34m=\u001b[0m \u001b[0mself\u001b[0m\u001b[0;34m.\u001b[0m\u001b[0mformat_basis\u001b[0m\u001b[0;34m(\u001b[0m\u001b[0m_basis\u001b[0m\u001b[0;34m)\u001b[0m\u001b[0;34m\u001b[0m\u001b[0;34m\u001b[0m\u001b[0m\n\u001b[0m\u001b[1;32m   2076\u001b[0m \u001b[0;34m\u001b[0m\u001b[0m\n\u001b[1;32m   2077\u001b[0m \u001b[0;31m# TODO: Consider ECP info in point group symmetry initialization\u001b[0m\u001b[0;34m\u001b[0m\u001b[0;34m\u001b[0m\u001b[0;34m\u001b[0m\u001b[0m\n",
      "\u001b[0;32m~/.local/lib/python3.6/site-packages/pyscf/gto/mole.py\u001b[0m in \u001b[0;36mformat_basis\u001b[0;34m(self, basis_tab)\u001b[0m\n\u001b[1;32m   2164\u001b[0m     \u001b[0;34m@\u001b[0m\u001b[0mlib\u001b[0m\u001b[0;34m.\u001b[0m\u001b[0mwith_doc\u001b[0m\u001b[0;34m(\u001b[0m\u001b[0mformat_basis\u001b[0m\u001b[0;34m.\u001b[0m\u001b[0m__doc__\u001b[0m\u001b[0;34m)\u001b[0m\u001b[0;34m\u001b[0m\u001b[0;34m\u001b[0m\u001b[0m\n\u001b[1;32m   2165\u001b[0m     \u001b[0;32mdef\u001b[0m \u001b[0mformat_basis\u001b[0m\u001b[0;34m(\u001b[0m\u001b[0mself\u001b[0m\u001b[0;34m,\u001b[0m \u001b[0mbasis_tab\u001b[0m\u001b[0;34m)\u001b[0m\u001b[0;34m:\u001b[0m\u001b[0;34m\u001b[0m\u001b[0;34m\u001b[0m\u001b[0m\n\u001b[0;32m-> 2166\u001b[0;31m         \u001b[0;32mreturn\u001b[0m \u001b[0mformat_basis\u001b[0m\u001b[0;34m(\u001b[0m\u001b[0mbasis_tab\u001b[0m\u001b[0;34m)\u001b[0m\u001b[0;34m\u001b[0m\u001b[0;34m\u001b[0m\u001b[0m\n\u001b[0m\u001b[1;32m   2167\u001b[0m \u001b[0;34m\u001b[0m\u001b[0m\n\u001b[1;32m   2168\u001b[0m     \u001b[0;34m@\u001b[0m\u001b[0mlib\u001b[0m\u001b[0;34m.\u001b[0m\u001b[0mwith_doc\u001b[0m\u001b[0;34m(\u001b[0m\u001b[0mformat_ecp\u001b[0m\u001b[0;34m.\u001b[0m\u001b[0m__doc__\u001b[0m\u001b[0;34m)\u001b[0m\u001b[0;34m\u001b[0m\u001b[0;34m\u001b[0m\u001b[0m\n",
      "\u001b[0;32m~/.local/lib/python3.6/site-packages/pyscf/gto/mole.py\u001b[0m in \u001b[0;36mformat_basis\u001b[0;34m(basis_tab)\u001b[0m\n\u001b[1;32m    388\u001b[0m         \u001b[0matom_basis\u001b[0m \u001b[0;34m=\u001b[0m \u001b[0mbasis_tab\u001b[0m\u001b[0;34m[\u001b[0m\u001b[0matom\u001b[0m\u001b[0;34m]\u001b[0m\u001b[0;34m\u001b[0m\u001b[0;34m\u001b[0m\u001b[0m\n\u001b[1;32m    389\u001b[0m         \u001b[0;32mif\u001b[0m \u001b[0misinstance\u001b[0m\u001b[0;34m(\u001b[0m\u001b[0matom_basis\u001b[0m\u001b[0;34m,\u001b[0m \u001b[0;34m(\u001b[0m\u001b[0mstr\u001b[0m\u001b[0;34m,\u001b[0m \u001b[0municode\u001b[0m\u001b[0;34m)\u001b[0m\u001b[0;34m)\u001b[0m\u001b[0;34m:\u001b[0m\u001b[0;34m\u001b[0m\u001b[0;34m\u001b[0m\u001b[0m\n\u001b[0;32m--> 390\u001b[0;31m             \u001b[0mbset\u001b[0m \u001b[0;34m=\u001b[0m \u001b[0mconvert\u001b[0m\u001b[0;34m(\u001b[0m\u001b[0mstr\u001b[0m\u001b[0;34m(\u001b[0m\u001b[0matom_basis\u001b[0m\u001b[0;34m)\u001b[0m\u001b[0;34m,\u001b[0m \u001b[0mstdsymb\u001b[0m\u001b[0;34m)\u001b[0m\u001b[0;34m\u001b[0m\u001b[0;34m\u001b[0m\u001b[0m\n\u001b[0m\u001b[1;32m    391\u001b[0m         elif (any(isinstance(x, (str, unicode)) for x in atom_basis)\n\u001b[1;32m    392\u001b[0m               \u001b[0;31m# The first element is the basis of internal format\u001b[0m\u001b[0;34m\u001b[0m\u001b[0;34m\u001b[0m\u001b[0;34m\u001b[0m\u001b[0m\n",
      "\u001b[0;32m~/.local/lib/python3.6/site-packages/pyscf/gto/mole.py\u001b[0m in \u001b[0;36mconvert\u001b[0;34m(basis_name, symb)\u001b[0m\n\u001b[1;32m    376\u001b[0m             \u001b[0;32mreturn\u001b[0m \u001b[0muncontract\u001b[0m\u001b[0;34m(\u001b[0m\u001b[0mbasis\u001b[0m\u001b[0;34m.\u001b[0m\u001b[0mload\u001b[0m\u001b[0;34m(\u001b[0m\u001b[0mbasis_name\u001b[0m\u001b[0;34m[\u001b[0m\u001b[0;36m3\u001b[0m\u001b[0;34m:\u001b[0m\u001b[0;34m]\u001b[0m\u001b[0;34m,\u001b[0m \u001b[0msymb\u001b[0m\u001b[0;34m)\u001b[0m\u001b[0;34m)\u001b[0m\u001b[0;34m\u001b[0m\u001b[0;34m\u001b[0m\u001b[0m\n\u001b[1;32m    377\u001b[0m         \u001b[0;32melse\u001b[0m\u001b[0;34m:\u001b[0m\u001b[0;34m\u001b[0m\u001b[0;34m\u001b[0m\u001b[0m\n\u001b[0;32m--> 378\u001b[0;31m             \u001b[0;32mreturn\u001b[0m \u001b[0mbasis\u001b[0m\u001b[0;34m.\u001b[0m\u001b[0mload\u001b[0m\u001b[0;34m(\u001b[0m\u001b[0mbasis_name\u001b[0m\u001b[0;34m,\u001b[0m \u001b[0msymb\u001b[0m\u001b[0;34m)\u001b[0m\u001b[0;34m\u001b[0m\u001b[0;34m\u001b[0m\u001b[0m\n\u001b[0m\u001b[1;32m    379\u001b[0m \u001b[0;34m\u001b[0m\u001b[0m\n\u001b[1;32m    380\u001b[0m     \u001b[0mfmt_basis\u001b[0m \u001b[0;34m=\u001b[0m \u001b[0;34m{\u001b[0m\u001b[0;34m}\u001b[0m\u001b[0;34m\u001b[0m\u001b[0;34m\u001b[0m\u001b[0m\n",
      "\u001b[0;32m~/.local/lib/python3.6/site-packages/pyscf/gto/basis/__init__.py\u001b[0m in \u001b[0;36mload\u001b[0;34m(filename_or_basisname, symb, optimize)\u001b[0m\n\u001b[1;32m    423\u001b[0m                 \u001b[0;32mreturn\u001b[0m \u001b[0mparse_nwchem\u001b[0m\u001b[0;34m.\u001b[0m\u001b[0mparse\u001b[0m\u001b[0;34m(\u001b[0m\u001b[0mfilename_or_basisname\u001b[0m\u001b[0;34m)\u001b[0m\u001b[0;34m\u001b[0m\u001b[0;34m\u001b[0m\u001b[0m\n\u001b[1;32m    424\u001b[0m             \u001b[0;32mexcept\u001b[0m \u001b[0mIndexError\u001b[0m\u001b[0;34m:\u001b[0m\u001b[0;34m\u001b[0m\u001b[0;34m\u001b[0m\u001b[0m\n\u001b[0;32m--> 425\u001b[0;31m                 \u001b[0;32mraise\u001b[0m \u001b[0mKeyError\u001b[0m\u001b[0;34m(\u001b[0m\u001b[0;34m'Invalid basis name %s'\u001b[0m \u001b[0;34m%\u001b[0m \u001b[0mfilename_or_basisname\u001b[0m\u001b[0;34m)\u001b[0m\u001b[0;34m\u001b[0m\u001b[0;34m\u001b[0m\u001b[0m\n\u001b[0m\u001b[1;32m    426\u001b[0m         \u001b[0;32mexcept\u001b[0m \u001b[0mIndexError\u001b[0m\u001b[0;34m:\u001b[0m\u001b[0;34m\u001b[0m\u001b[0;34m\u001b[0m\u001b[0m\n\u001b[1;32m    427\u001b[0m             \u001b[0;32mraise\u001b[0m \u001b[0mKeyError\u001b[0m\u001b[0;34m(\u001b[0m\u001b[0;34m'Basis %s not found'\u001b[0m \u001b[0;34m%\u001b[0m \u001b[0mfilename_or_basisname\u001b[0m\u001b[0;34m)\u001b[0m\u001b[0;34m\u001b[0m\u001b[0;34m\u001b[0m\u001b[0m\n",
      "\u001b[0;31mKeyError\u001b[0m: 'Invalid basis name MG3S'"
     ]
    }
   ],
   "source": [
    "benz_atom=\"\"\"C 0.0 2.6196127020137916 0.0;\n",
    "H 0.0 4.652157753665769 0.0;\n",
    "C 2.268651148020338 1.309806351006896 0.0;\n",
    "H 4.028886797087305 2.326078876832885 0.0;\n",
    "C 2.2686511480203384 -1.3098063510068951 0.0;\n",
    "H 4.028886797087305 -2.3260788768328835 0.0;\n",
    "C 3.208100310526939e-16 -2.6196127020137916 0.0;\n",
    "H 5.697250102155325e-16 -4.652157753665769 0.0;\n",
    "C -2.2686511480203375 -1.309806351006897 0.0;\n",
    "H -4.028886797087303 -2.3260788768328866 0.0;\n",
    "C -2.2686511480203393 1.309806351006894 0.0;\n",
    "H -4.028886797087306 2.3260788768328813 0.0\n",
    "\"\"\"\n",
    "\n",
    "mol = gto.M(atom=benz_atom, basis='MG3S',unit='bohr')\n",
    "mf = dft.RKS(mol)\n",
    "mf.xc = 'lda,vwn'\n",
    "mf.kernel()"
   ]
  },
  {
   "cell_type": "code",
   "execution_count": 5,
   "metadata": {},
   "outputs": [],
   "source": [
    "atoms_coords=[[ 3.51767583, -0.25423489 , 4.04215521],\\\n",
    " [ 2.52061864, -0.11916074,  2.27612256],\\\n",
    " [-0.0966844 , -0.01131471,  2.25456475],\\\n",
    " [-1.13038502, -0.06283247,  4.00386424],\\\n",
    " [-1.38173535,  0.16255151, -0.02156913],\\\n",
    " [-3.41249094,  0.24616206, -0.03829955],\\\n",
    " [-0.04946481,  0.22899259, -2.27612247],\\\n",
    " [-1.04652182,  0.36406487, -4.0421554 ],\\\n",
    " [ 2.56783853,  0.12114771, -2.25456461],\\\n",
    " [ 3.60153856,  0.17266112, -4.00386438],\\\n",
    " [ 3.85288933, -0.05271966,  0.02156911],\\\n",
    " [ 5.88364489, -0.1363321 ,  0.03829968]]\n"
   ]
  },
  {
   "cell_type": "code",
   "execution_count": 8,
   "metadata": {},
   "outputs": [
    {
     "name": "stdout",
     "output_type": "stream",
     "text": [
      "0.0\n",
      "2.0325450516519776\n",
      "4.03956553836423\n",
      "4.652157644584728\n",
      "6.379012174736962\n",
      "8.057773862301435\n",
      "7.271769659756346\n",
      "9.30431474212046\n",
      "6.379011168232494\n",
      "8.057772918337966\n",
      "4.039565455097542\n",
      "4.652157538806984\n",
      "2.0325450516519776\n",
      "0.0\n",
      "2.6196127020137916\n",
      "4.039565807378785\n",
      "4.537302674206785\n",
      "6.379012442356926\n",
      "5.239224608118428\n",
      "7.2717696904777345\n",
      "4.537301411803676\n",
      "6.379011195945436\n",
      "2.6196127323426155\n",
      "4.039565775679956\n",
      "4.03956553836423\n",
      "2.6196127020137916\n",
      "0.0\n",
      "2.0325451426962364\n",
      "2.6196127282934105\n",
      "4.039566065310839\n",
      "4.537301397701544\n",
      "6.379011334127669\n",
      "5.239224782582062\n",
      "7.271769753170675\n",
      "4.5373027832457495\n",
      "6.379012354991674\n",
      "4.652157644584728\n",
      "4.039565807378785\n",
      "2.0325451426962364\n",
      "0.0\n",
      "4.039565415133329\n",
      "4.652157903044149\n",
      "6.379011165048003\n",
      "8.057773043619376\n",
      "7.271769922303632\n",
      "9.304314894147673\n",
      "6.379012464223263\n",
      "8.057773889450656\n",
      "6.379012174736962\n",
      "4.537302674206785\n",
      "2.6196127282934105\n",
      "4.039565415133329\n",
      "0.0\n",
      "2.032544931198552\n",
      "2.6196125613854835\n",
      "4.039565533503086\n",
      "4.5373028245790605\n",
      "6.379012190337434\n",
      "5.2392268632736805\n",
      "7.271771841753557\n",
      "8.057773862301435\n",
      "6.379012442356926\n",
      "4.039566065310839\n",
      "4.652157903044149\n",
      "2.032544931198552\n",
      "0.0\n",
      "4.039565689902837\n",
      "4.652157845234693\n",
      "6.3790124606896015\n",
      "8.05777367738658\n",
      "7.271771792809894\n",
      "9.304316772030093\n",
      "7.271769659756346\n",
      "5.239224608118428\n",
      "4.537301397701544\n",
      "6.379011165048003\n",
      "2.6196125613854835\n",
      "4.039565689902837\n",
      "0.0\n",
      "2.032545082368144\n",
      "2.6196129548170184\n",
      "4.039565688268253\n",
      "4.537302747511796\n",
      "6.379012676721086\n",
      "9.30431474212046\n",
      "7.2717696904777345\n",
      "6.379011334127669\n",
      "8.057773043619376\n",
      "4.039565533503086\n",
      "4.652157845234693\n",
      "2.032545082368144\n",
      "0.0\n",
      "4.039565610157535\n",
      "4.652157230130173\n",
      "6.379012137813063\n",
      "8.057773973987803\n",
      "6.379011168232494\n",
      "4.537301411803676\n",
      "5.239224782582062\n",
      "7.271769922303632\n",
      "4.5373028245790605\n",
      "6.3790124606896015\n",
      "2.6196129548170184\n",
      "4.039565610157535\n",
      "0.0\n",
      "2.032544973365628\n",
      "2.619612592016689\n",
      "4.039566105651855\n",
      "8.057772918337966\n",
      "6.379011195945436\n",
      "7.271769753170675\n",
      "9.304314894147673\n",
      "6.379012190337434\n",
      "8.05777367738658\n",
      "4.039565688268253\n",
      "4.652157230130173\n",
      "2.032544973365628\n",
      "0.0\n",
      "4.039565383551376\n",
      "4.652158251756674\n",
      "4.039565455097542\n",
      "2.6196127323426155\n",
      "4.5373027832457495\n",
      "6.379012464223263\n",
      "5.2392268632736805\n",
      "7.271771792809894\n",
      "4.537302747511796\n",
      "6.379012137813063\n",
      "2.619612592016689\n",
      "4.039565383551376\n",
      "0.0\n",
      "2.0325449802073736\n",
      "4.652157538806984\n",
      "4.039565775679956\n",
      "6.379012354991674\n",
      "8.057773889450656\n",
      "7.271771841753557\n",
      "9.304316772030093\n",
      "6.379012676721086\n",
      "8.057773973987803\n",
      "4.039566105651855\n",
      "4.652158251756674\n",
      "2.0325449802073736\n",
      "0.0\n"
     ]
    }
   ],
   "source": [
    "import numpy as np\n",
    "atoms_coords=np.asarray(atoms_coords)\n",
    "for x in atoms_coords:\n",
    "    for y in atoms_coords:\n",
    "        print (np.linalg.norm(x-y))"
   ]
  },
  {
   "cell_type": "code",
   "execution_count": 9,
   "metadata": {},
   "outputs": [],
   "source": [
    "ch_dist=2.0325450516519776\n",
    "cc_dist=2.6196127020137916"
   ]
  },
  {
   "cell_type": "code",
   "execution_count": 12,
   "metadata": {},
   "outputs": [],
   "source": [
    "ang=[]\n",
    "for i in range(6):\n",
    "    ang.append([np.sin(np.pi/3.*i),np.cos(np.pi/3.*i),0])\n",
    "    ang.append([np.sin(np.pi/3.*i),np.cos(np.pi/3.*i),0])\n",
    "ang=np.asarray(ang)"
   ]
  },
  {
   "cell_type": "code",
   "execution_count": 17,
   "metadata": {},
   "outputs": [],
   "source": [
    "#ang[0::2]/=cc_dist\n",
    "#ang[1::2]/=(cc_dist+ch_dist)"
   ]
  },
  {
   "cell_type": "code",
   "execution_count": 19,
   "metadata": {},
   "outputs": [
    {
     "data": {
      "text/plain": [
       "array([[ 0.00000000e+00,  2.61961270e+00,  0.00000000e+00],\n",
       "       [ 0.00000000e+00,  4.65215775e+00,  0.00000000e+00],\n",
       "       [ 2.26865115e+00,  1.30980635e+00,  0.00000000e+00],\n",
       "       [ 4.02888680e+00,  2.32607888e+00,  0.00000000e+00],\n",
       "       [ 2.26865115e+00, -1.30980635e+00,  0.00000000e+00],\n",
       "       [ 4.02888680e+00, -2.32607888e+00,  0.00000000e+00],\n",
       "       [ 3.20810031e-16, -2.61961270e+00,  0.00000000e+00],\n",
       "       [ 5.69725010e-16, -4.65215775e+00,  0.00000000e+00],\n",
       "       [-2.26865115e+00, -1.30980635e+00,  0.00000000e+00],\n",
       "       [-4.02888680e+00, -2.32607888e+00,  0.00000000e+00],\n",
       "       [-2.26865115e+00,  1.30980635e+00,  0.00000000e+00],\n",
       "       [-4.02888680e+00,  2.32607888e+00,  0.00000000e+00]])"
      ]
     },
     "execution_count": 19,
     "metadata": {},
     "output_type": "execute_result"
    }
   ],
   "source": [
    "ang"
   ]
  },
  {
   "cell_type": "code",
   "execution_count": 22,
   "metadata": {},
   "outputs": [
    {
     "data": {
      "text/plain": [
       "array([[ 0.00000000e+00,  2.61961270e+00,  0.00000000e+00],\n",
       "       [ 0.00000000e+00,  4.65215775e+00,  0.00000000e+00],\n",
       "       [ 2.26865115e+00,  1.30980635e+00,  0.00000000e+00],\n",
       "       [ 4.02888680e+00,  2.32607888e+00,  0.00000000e+00],\n",
       "       [ 2.26865115e+00, -1.30980635e+00,  0.00000000e+00],\n",
       "       [ 4.02888680e+00, -2.32607888e+00,  0.00000000e+00],\n",
       "       [ 3.20810031e-16, -2.61961270e+00,  0.00000000e+00],\n",
       "       [ 5.69725010e-16, -4.65215775e+00,  0.00000000e+00],\n",
       "       [-2.26865115e+00, -1.30980635e+00,  0.00000000e+00],\n",
       "       [-4.02888680e+00, -2.32607888e+00,  0.00000000e+00],\n",
       "       [-2.26865115e+00,  1.30980635e+00,  0.00000000e+00],\n",
       "       [-4.02888680e+00,  2.32607888e+00,  0.00000000e+00]])"
      ]
     },
     "execution_count": 22,
     "metadata": {},
     "output_type": "execute_result"
    }
   ],
   "source": [
    "mol.coords=ang\n",
    "mol.atoms"
   ]
  },
  {
   "cell_type": "code",
   "execution_count": 43,
   "metadata": {},
   "outputs": [],
   "source": [
    "string=''\n",
    "for i in range(6):\n",
    "    string+='C '+str(ang[2*i,0])+' '+str(ang[2*i,1])+' '+str(ang[2*i,2]) +';' \n",
    "    string +='H '+str(ang[2*i+1,0])+' '+str(ang[2*i+1,1])+' '+str(ang[2*i+1,2]) +';'"
   ]
  },
  {
   "cell_type": "code",
   "execution_count": 44,
   "metadata": {},
   "outputs": [
    {
     "data": {
      "text/plain": [
       "'C 0.0 2.6196127020137916 0.0;H 0.0 4.652157753665769 0.0;C 2.268651148020338 1.309806351006896 0.0;H 4.028886797087305 2.326078876832885 0.0;C 2.2686511480203384 -1.3098063510068951 0.0;H 4.028886797087305 -2.3260788768328835 0.0;C 3.208100310526939e-16 -2.6196127020137916 0.0;H 5.697250102155325e-16 -4.652157753665769 0.0;C -2.2686511480203375 -1.309806351006897 0.0;H -4.028886797087303 -2.3260788768328866 0.0;C -2.2686511480203393 1.309806351006894 0.0;H -4.028886797087306 2.3260788768328813 0.0;'"
      ]
     },
     "execution_count": 44,
     "metadata": {},
     "output_type": "execute_result"
    }
   ],
   "source": [
    "string"
   ]
  },
  {
   "cell_type": "code",
   "execution_count": 49,
   "metadata": {
    "scrolled": true
   },
   "outputs": [
    {
     "name": "stdout",
     "output_type": "stream",
     "text": [
      "[[ 0.00000000e+00  2.61961270e+00  0.00000000e+00]\n",
      " [ 0.00000000e+00  4.65215775e+00  0.00000000e+00]\n",
      " [ 2.26865115e+00  1.30980635e+00  0.00000000e+00]\n",
      " [ 4.02888680e+00  2.32607888e+00  0.00000000e+00]\n",
      " [ 2.26865115e+00 -1.30980635e+00  0.00000000e+00]\n",
      " [ 4.02888680e+00 -2.32607888e+00  0.00000000e+00]\n",
      " [ 3.20810031e-16 -2.61961270e+00  0.00000000e+00]\n",
      " [ 5.69725010e-16 -4.65215775e+00  0.00000000e+00]\n",
      " [-2.26865115e+00 -1.30980635e+00  0.00000000e+00]\n",
      " [-4.02888680e+00 -2.32607888e+00  0.00000000e+00]\n",
      " [-2.26865115e+00  1.30980635e+00  0.00000000e+00]\n",
      " [-4.02888680e+00  2.32607888e+00  0.00000000e+00]]\n"
     ]
    }
   ],
   "source": [
    "#mol = gto.M(atom=string, basis='6-31G*',unit='bohr')\n",
    "#mf = scf.RHF(mol)\n",
    "#mol_eq = optimize(mf)\n",
    "print(mol_eq.atom_coords())"
   ]
  },
  {
   "cell_type": "code",
   "execution_count": null,
   "metadata": {},
   "outputs": [],
   "source": []
  }
 ],
 "metadata": {
  "kernelspec": {
   "display_name": "Python 3",
   "language": "python",
   "name": "python3"
  },
  "language_info": {
   "codemirror_mode": {
    "name": "ipython",
    "version": 3
   },
   "file_extension": ".py",
   "mimetype": "text/x-python",
   "name": "python",
   "nbconvert_exporter": "python",
   "pygments_lexer": "ipython3",
   "version": "3.6.9"
  }
 },
 "nbformat": 4,
 "nbformat_minor": 2
}
