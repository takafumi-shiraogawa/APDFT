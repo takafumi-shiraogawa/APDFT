{
 "cells": [
  {
   "cell_type": "code",
   "execution_count": 8,
   "metadata": {},
   "outputs": [],
   "source": [
    "from pyscf import gto, scf\n",
    "import pyscf.cc\n",
    "import numpy as np\n",
    "angstrom = 1 / 0.52917721067\n",
    "\n",
    "benz_atom=\"\"\"C 0.0 2.6196127020137916 0.0;\n",
    "H 0.0 4.652157753665769 0.0;\n",
    "C 2.268651148020338 1.309806351006896 0.0;\n",
    "H 4.028886797087305 2.326078876832885 0.0;\n",
    "C 2.2686511480203384 -1.3098063510068951 0.0;\n",
    "H 4.028886797087305 -2.3260788768328835 0.0;\n",
    "C 3.208100310526939e-16 -2.6196127020137916 0.0;\n",
    "H 5.697250102155325e-16 -4.652157753665769 0.0;\n",
    "C -2.2686511480203375 -1.309806351006897 0.0;\n",
    "H -4.028886797087303 -2.3260788768328866 0.0;\n",
    "C -2.2686511480203393 1.309806351006894 0.0;\n",
    "H -4.028886797087306 2.3260788768328813 0.0\n",
    "\"\"\"\n",
    "mol = gto.M(atom=benz_atom, basis='def2-TZVP',unit='bohr')\n",
    "\n",
    "def DeltaV(mol,dL,on_atoms):\n",
    "    mol.set_rinv_orig_(mol.atom_coords()[on_atoms[0]])\n",
    "    dV=mol.intor('int1e_rinv')*dL[0]\n",
    "    for i in range(1,len(dL)):\n",
    "        mol.set_rinv_orig_(mol.atom_coords()[on_atoms[i]])\n",
    "        dV+=mol.intor('int1e_rinv')*dL[i]\n",
    "    return dV\n",
    "\n",
    "dV1=-DeltaV(mol,[1,-1],[0,1])\n",
    "\n",
    "dV2=-DeltaV(mol,[1,-1,1.,-1,],[0,1,4,5])\n",
    "\n",
    "dV3=-DeltaV(mol,[1,-1,1.,-1.,1.,-1.],[0,1,4,5,8,9])\n",
    "\n",
    "np.save('dV1',dV1)\n",
    "\n",
    "np.save('dV2',dV2)\n",
    "np.save('dV3',dV3)\n",
    "\n"
   ]
  },
  {
   "cell_type": "code",
   "execution_count": 4,
   "metadata": {},
   "outputs": [],
   "source": [
    "dmB=np.load('dmB.npy')"
   ]
  },
  {
   "cell_type": "code",
   "execution_count": 7,
   "metadata": {},
   "outputs": [
    {
     "data": {
      "text/plain": [
       "42.178676259773965"
      ]
     },
     "execution_count": 7,
     "metadata": {},
     "output_type": "execute_result"
    }
   ],
   "source": [
    "np.sum(np.matmul(dmB,dV3).trace())"
   ]
  }
 ],
 "metadata": {
  "kernelspec": {
   "display_name": "Python 3",
   "language": "python",
   "name": "python3"
  },
  "language_info": {
   "codemirror_mode": {
    "name": "ipython",
    "version": 3
   },
   "file_extension": ".py",
   "mimetype": "text/x-python",
   "name": "python",
   "nbconvert_exporter": "python",
   "pygments_lexer": "ipython3",
   "version": "3.6.9"
  }
 },
 "nbformat": 4,
 "nbformat_minor": 2
}
