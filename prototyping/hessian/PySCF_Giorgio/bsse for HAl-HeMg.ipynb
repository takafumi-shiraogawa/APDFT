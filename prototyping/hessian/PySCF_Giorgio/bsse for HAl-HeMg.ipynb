{
 "cells": [
  {
   "cell_type": "code",
   "execution_count": 1,
   "metadata": {},
   "outputs": [],
   "source": [
    "from pyscf import gto,scf"
   ]
  },
  {
   "cell_type": "markdown",
   "metadata": {},
   "source": [
    "Now with aug-ccpVQZ"
   ]
  },
  {
   "cell_type": "code",
   "execution_count": 20,
   "metadata": {},
   "outputs": [
    {
     "name": "stderr",
     "output_type": "stream",
     "text": [
      "Warning: <pyscf.gto.mole.Mole object at 0x7f32b729d588> must be initialized before calling SCF.\n",
      "Initialize <pyscf.gto.mole.Mole object at 0x7f32b729d588> in <pyscf.scf.hf.RHF object at 0x7f32b729d898>\n"
     ]
    },
    {
     "name": "stdout",
     "output_type": "stream",
     "text": [
      "converged SCF energy = -198.39937154153\n"
     ]
    },
    {
     "name": "stderr",
     "output_type": "stream",
     "text": [
      "Warning: <pyscf.gto.mole.Mole object at 0x7f32fc608278> must be initialized before calling SCF.\n",
      "Initialize <pyscf.gto.mole.Mole object at 0x7f32fc608278> in <pyscf.scf.hf.RHF object at 0x7f33050ab358>\n"
     ]
    },
    {
     "name": "stdout",
     "output_type": "stream",
     "text": [
      "converged SCF energy = -199.614234074609\n"
     ]
    },
    {
     "data": {
      "text/plain": [
       "-199.61423407460916"
      ]
     },
     "execution_count": 20,
     "metadata": {},
     "output_type": "execute_result"
    }
   ],
   "source": [
    "mol=gto.Mole(atom=\"Mg 0 0 0\")\n",
    "mol.basis = {'Mg': gto.basis.load('aug-ccpVQZ', 'Al')}\n",
    "hf=scf.RHF(mol)\n",
    "hf.scf()\n",
    "mol=gto.Mole(atom=\"Mg 0 0 0\",basis='aug-ccpVQZ')\n",
    "hf=scf.RHF(mol)\n",
    "hf.scf()"
   ]
  },
  {
   "cell_type": "code",
   "execution_count": 22,
   "metadata": {},
   "outputs": [
    {
     "name": "stderr",
     "output_type": "stream",
     "text": [
      "Warning: <pyscf.gto.mole.Mole object at 0x7f32b729d320> must be initialized before calling SCF.\n",
      "Initialize <pyscf.gto.mole.Mole object at 0x7f32b729d320> in <pyscf.scf.hf.RHF object at 0x7f32b729d3c8>\n"
     ]
    },
    {
     "name": "stdout",
     "output_type": "stream",
     "text": [
      "converged SCF energy = -2.85511900307655\n"
     ]
    },
    {
     "name": "stderr",
     "output_type": "stream",
     "text": [
      "Warning: <pyscf.gto.mole.Mole object at 0x7f3301f8f710> must be initialized before calling SCF.\n",
      "Initialize <pyscf.gto.mole.Mole object at 0x7f3301f8f710> in <pyscf.scf.hf.RHF object at 0x7f32c616a128>\n"
     ]
    },
    {
     "name": "stdout",
     "output_type": "stream",
     "text": [
      "converged SCF energy = -2.86152199563245\n"
     ]
    },
    {
     "data": {
      "text/plain": [
       "-2.861521995632451"
      ]
     },
     "execution_count": 22,
     "metadata": {},
     "output_type": "execute_result"
    }
   ],
   "source": [
    "mol=gto.Mole(atom=\"He 0 0 0\")\n",
    "mol.basis = {'He': gto.basis.load('aug-ccpVQZ', 'H')}\n",
    "hf=scf.RHF(mol)\n",
    "hf.scf()\n",
    "mol=gto.Mole(atom=\"He 0 0 0\",basis='aug-ccpVQZ')\n",
    "hf=scf.RHF(mol)\n",
    "hf.scf()"
   ]
  },
  {
   "cell_type": "code",
   "execution_count": 21,
   "metadata": {},
   "outputs": [
    {
     "name": "stderr",
     "output_type": "stream",
     "text": [
      "Warning: <pyscf.gto.mole.Mole object at 0x7f32b729deb8> must be initialized before calling SCF.\n",
      "Initialize <pyscf.gto.mole.Mole object at 0x7f32b729deb8> in <pyscf.scf.hf.RHF object at 0x7f32b729d3c8>\n"
     ]
    },
    {
     "name": "stdout",
     "output_type": "stream",
     "text": [
      "converged SCF energy = -199.594668227332\n"
     ]
    },
    {
     "name": "stderr",
     "output_type": "stream",
     "text": [
      "Warning: <pyscf.gto.mole.Mole object at 0x7f33050ab358> must be initialized before calling SCF.\n",
      "Initialize <pyscf.gto.mole.Mole object at 0x7f33050ab358> in <pyscf.scf.hf.RHF object at 0x7f3301f8f710>\n"
     ]
    },
    {
     "name": "stdout",
     "output_type": "stream",
     "text": [
      "converged SCF energy = -199.614487886512\n"
     ]
    },
    {
     "data": {
      "text/plain": [
       "-199.6144878865115"
      ]
     },
     "execution_count": 21,
     "metadata": {},
     "output_type": "execute_result"
    }
   ],
   "source": [
    "mol=gto.Mole(atom=\"Mg 0 0 0\")\n",
    "mol.basis = {'Mg': gto.basis.load('def2-QZVPP', 'Al')}\n",
    "hf=scf.RHF(mol)\n",
    "hf.scf()\n",
    "mol=gto.Mole(atom=\"Mg 0 0 0\",basis='def2-QZVPP')\n",
    "hf=scf.RHF(mol)\n",
    "hf.scf()"
   ]
  },
  {
   "cell_type": "code",
   "execution_count": 23,
   "metadata": {},
   "outputs": [
    {
     "name": "stdout",
     "output_type": "stream",
     "text": [
      "converged SCF energy = -2.84974513437116\n"
     ]
    },
    {
     "name": "stderr",
     "output_type": "stream",
     "text": [
      "Warning: <pyscf.gto.mole.Mole object at 0x7f32b729dbe0> must be initialized before calling SCF.\n",
      "Initialize <pyscf.gto.mole.Mole object at 0x7f32b729dbe0> in <pyscf.scf.hf.RHF object at 0x7f32b729d320>\n",
      "Warning: <pyscf.gto.mole.Mole object at 0x7f32c616a128> must be initialized before calling SCF.\n",
      "Initialize <pyscf.gto.mole.Mole object at 0x7f32c616a128> in <pyscf.scf.hf.RHF object at 0x7f3303ccb828>\n"
     ]
    },
    {
     "name": "stdout",
     "output_type": "stream",
     "text": [
      "converged SCF energy = -2.86162483917628\n"
     ]
    },
    {
     "data": {
      "text/plain": [
       "-2.8616248391762813"
      ]
     },
     "execution_count": 23,
     "metadata": {},
     "output_type": "execute_result"
    }
   ],
   "source": [
    "mol=gto.Mole(atom=\"He 0 0 0\")\n",
    "mol.basis = {'He': gto.basis.load('def2-QZVPP', 'H')}\n",
    "hf=scf.RHF(mol)\n",
    "hf.scf()\n",
    "mol=gto.Mole(atom=\"He 0 0 0\",basis='def2-QZVPP')\n",
    "hf=scf.RHF(mol)\n",
    "hf.scf()"
   ]
  },
  {
   "cell_type": "code",
   "execution_count": 24,
   "metadata": {},
   "outputs": [
    {
     "name": "stderr",
     "output_type": "stream",
     "text": [
      "Warning: <pyscf.gto.mole.Mole object at 0x7f32b729d898> must be initialized before calling SCF.\n",
      "Initialize <pyscf.gto.mole.Mole object at 0x7f32b729d898> in <pyscf.scf.hf.RHF object at 0x7f32b729d320>\n"
     ]
    },
    {
     "name": "stdout",
     "output_type": "stream",
     "text": [
      "converged SCF energy = -198.654837099311\n"
     ]
    },
    {
     "name": "stderr",
     "output_type": "stream",
     "text": [
      "Warning: <pyscf.gto.mole.Mole object at 0x7f32c616a128> must be initialized before calling SCF.\n",
      "Initialize <pyscf.gto.mole.Mole object at 0x7f32c616a128> in <pyscf.scf.hf.RHF object at 0x7f3301feabe0>\n"
     ]
    },
    {
     "name": "stdout",
     "output_type": "stream",
     "text": [
      "converged SCF energy = -199.606631134041\n"
     ]
    },
    {
     "data": {
      "text/plain": [
       "-199.60663113404075"
      ]
     },
     "execution_count": 24,
     "metadata": {},
     "output_type": "execute_result"
    }
   ],
   "source": [
    "mol=gto.Mole(atom=\"Mg 0 0 0\")\n",
    "mol.basis = {'Mg': gto.basis.load('def2-TZVP', 'Al')}\n",
    "hf=scf.RHF(mol)\n",
    "hf.scf()\n",
    "mol=gto.Mole(atom=\"Mg 0 0 0\",basis='def2-TZVP')\n",
    "hf=scf.RHF(mol)\n",
    "hf.scf()"
   ]
  }
 ],
 "metadata": {
  "kernelspec": {
   "display_name": "Python 3",
   "language": "python",
   "name": "python3"
  },
  "language_info": {
   "codemirror_mode": {
    "name": "ipython",
    "version": 3
   },
   "file_extension": ".py",
   "mimetype": "text/x-python",
   "name": "python",
   "nbconvert_exporter": "python",
   "pygments_lexer": "ipython3",
   "version": "3.6.8"
  }
 },
 "nbformat": 4,
 "nbformat_minor": 2
}
