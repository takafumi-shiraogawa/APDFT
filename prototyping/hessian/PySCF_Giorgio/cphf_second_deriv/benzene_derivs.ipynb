{
 "cells": [
  {
   "cell_type": "code",
   "execution_count": 1,
   "metadata": {},
   "outputs": [],
   "source": [
    "from pyscf import gto,scf\n",
    "from pyscf.geomopt.berny_solver import optimize\n",
    "import numpy as np\n",
    "from alch_deriv import alch_deriv\n",
    "from FcMole import FcM\n",
    "import matplotlib.pyplot as plt\n",
    "\n",
    "def DeltaV(mol,dL):\n",
    "    mol.set_rinv_orig_(mol.atom_coords()[dL[0][0]])\n",
    "    dV=mol.intor('int1e_rinv')*dL[1][0]\n",
    "    for i in range(1,len(dL[0])): \n",
    "        mol.set_rinv_orig_(mol.atom_coords()[dL[0][i]])\n",
    "        dV+=mol.intor('int1e_rinv')*dL[1][i]\n",
    "    return -dV\n",
    "#ao_div=mol0.aoslice_by_atom()[:,-2:]\n",
    "#pt=ao_div[1][0]\n",
    "def change_order(P0,pt):  # to rotate the idx of the carbon atoms\n",
    "    Pn=np.zeros_like(P0)\n",
    "    Pn[:-pt,:-pt]=P0[pt:,pt:]\n",
    "    Pn[-pt:,-pt:]=P0[:pt,:pt]\n",
    "    Pn[:-pt,-pt:]=P0[pt:,:pt]\n",
    "    Pn[-pt:,:-pt]=P0[:pt,pt:]\n",
    "    return Pn"
   ]
  },
  {
   "cell_type": "code",
   "execution_count": 2,
   "metadata": {},
   "outputs": [
    {
     "name": "stdout",
     "output_type": "stream",
     "text": [
      "converged SCF energy = -230.624474947017\n"
     ]
    }
   ],
   "source": [
    "benz_atom_opt=\"\"\" C   0.000000   1.388317  0.000000;  \n",
    "   H  -0.000000   2.461627  -0.000000  ;\n",
    "   C   1.202318   0.694159   0.000000  ;\n",
    "   H   2.131832   1.230814  -0.000000  ;\n",
    "   C   1.202318  -0.694159  -0.000000  ;\n",
    "   H   2.131832  -1.230814  -0.000000  ;\n",
    "   C   0.000000  -1.388317   0.000000  ;\n",
    "   H   0.000000  -2.461627   0.000000  ;\n",
    "   C  -1.202318  -0.694159  -0.000000  ;\n",
    "   H  -2.131832  -1.230814  -0.000000  ;\n",
    "   C  -1.202318   0.694159   0.000000  ;\n",
    "   H  -2.131832   1.230814  -0.000000  \n",
    "\"\"\"\n",
    "mol_benz = gto.M(atom=benz_atom_opt, basis='6-31G') #angstroms not atomic units\n",
    "mf_benz=scf.RHF(mol_benz)\n",
    "e_benz=mf_benz.scf()"
   ]
  },
  {
   "cell_type": "code",
   "execution_count": 3,
   "metadata": {},
   "outputs": [
    {
     "name": "stdout",
     "output_type": "stream",
     "text": [
      "[6 1 6 1 6 1 6 1 6 1 6 1]\n"
     ]
    }
   ],
   "source": [
    "P0=mf_benz.make_rdm1()\n",
    "print(mol_benz.atom_charges())"
   ]
  },
  {
   "cell_type": "code",
   "execution_count": 20,
   "metadata": {},
   "outputs": [
    {
     "data": {
      "text/plain": [
       "(-14.008873027359318, -2.118464138927363, 1.2605035701457585)"
      ]
     },
     "execution_count": 20,
     "metadata": {},
     "output_type": "execute_result"
    }
   ],
   "source": [
    "d1,d2,d3=alch_deriv(mf_benz,dL=[[1,0],[-1,1]])\n",
    "d1,d2,d3"
   ]
  },
  {
   "cell_type": "code",
   "execution_count": 21,
   "metadata": {},
   "outputs": [
    {
     "name": "stdout",
     "output_type": "stream",
     "text": [
      "converged SCF energy = -245.602645556279\n"
     ]
    }
   ],
   "source": [
    "fmol_benz = FcM(fcs=[[1,0],[-1,1]],atom=benz_atom_opt, basis='6-31G') #angstroms not atomic units\n",
    "fmf_benz=scf.RHF(fmol_benz)\n",
    "e_T=fmf_benz.scf()"
   ]
  },
  {
   "cell_type": "code",
   "execution_count": 22,
   "metadata": {},
   "outputs": [
    {
     "data": {
      "text/plain": [
       "-245.5978403811996"
      ]
     },
     "execution_count": 22,
     "metadata": {},
     "output_type": "execute_result"
    }
   ],
   "source": [
    "e_benz+d1+1/2*d2+1/6*d3+fmol_benz.energy_nuc()-mol_benz.energy_nuc()"
   ]
  },
  {
   "cell_type": "code",
   "execution_count": 23,
   "metadata": {},
   "outputs": [],
   "source": [
    "#Finite Difference Coefficients\n",
    "fdc1=np.asarray([1/12,-2/3,0,2/3,-1/12])\n",
    "fdc2=np.asarray([-1/12,4/3,-5/2,4/3,-1/12])\n",
    "fdc3=np.asarray([-1/2,1,0,-1,1/2])\n",
    "fdc4=np.asarray([1,-4,6,-4,1])\n",
    "coeffs=np.array([fdc1,fdc2,fdc3,fdc4])"
   ]
  },
  {
   "cell_type": "code",
   "execution_count": 24,
   "metadata": {},
   "outputs": [
    {
     "name": "stdout",
     "output_type": "stream",
     "text": [
      "converged SCF energy = -227.961951599782\n",
      "converged SCF energy = -229.277086032536\n",
      "converged SCF energy = -230.624474947017\n",
      "converged SCF energy = -232.002903518768\n",
      "converged SCF energy = -233.411089186009\n"
     ]
    }
   ],
   "source": [
    "dl=.1\n",
    "Ps=[]\n",
    "Es=[]\n",
    "for i in range(-2,3):\n",
    "    fm=FcM(fcs=[[1,0],[-1*dl*i,1*dl*i]],atom=benz_atom_opt, basis='6-31G')\n",
    "    mf=scf.RHF(fm)\n",
    "    Es.append(mf.scf(dm0=mf.init_guess_by_atom()))\n",
    "    Ps.append(mf.make_rdm1())"
   ]
  },
  {
   "cell_type": "code",
   "execution_count": 25,
   "metadata": {},
   "outputs": [],
   "source": [
    "dV=DeltaV(mol_benz,dL=[[1,0],[-1,1]])"
   ]
  },
  {
   "cell_type": "code",
   "execution_count": 26,
   "metadata": {},
   "outputs": [
    {
     "name": "stdout",
     "output_type": "stream",
     "text": [
      "APDFT1 -244.74869224009353 -14.008873027359318\n",
      "APDFT2 -245.80792647388927 -1.059234233795747\n",
      "APDFT3 -245.5978475031208 0.21007897076847779\n",
      "APDFT4 -245.56959662433795 0.02825087878282984\n",
      "APDFT5 -245.60874582599914 -0.03914920166118579\n"
     ]
    }
   ],
   "source": [
    "e=e_benz+np.einsum('ij,ij',mf_benz.make_rdm1(),dV) +(fmf_benz.energy_nuc()-mf_benz.energy_nuc())\n",
    "print(\"APDFT1\",e,np.einsum('ij,ij',mf_benz.make_rdm1(),dV))\n",
    "for i in range (4):\n",
    "    dP=np.einsum('xij,x->ij',Ps,coeffs[i]/(dl)**(i+1))\n",
    "    e+=np.einsum('ij,ij',dP,dV)/np.math.factorial(i+2)\n",
    "    print(\"APDFT{}\".format(i+2),e,np.einsum('ij,ij',dP,dV)/np.math.factorial(i+2))"
   ]
  },
  {
   "cell_type": "code",
   "execution_count": 27,
   "metadata": {},
   "outputs": [
    {
     "name": "stdout",
     "output_type": "stream",
     "text": [
      "-245.60264555627938\n",
      "-245.5978403811996 -1.0592320694636814 0.2100839283576264\n"
     ]
    }
   ],
   "source": [
    "print(e_T)\n",
    "print(e_benz+d1+1/2*d2+1/6*d3+fmol_benz.energy_nuc()-mol_benz.energy_nuc() ,1/2*d2,1/6*d3)"
   ]
  },
  {
   "cell_type": "code",
   "execution_count": 41,
   "metadata": {},
   "outputs": [
    {
     "name": "stdout",
     "output_type": "stream",
     "text": [
      "converged SCF energy = -230.76094180608\n",
      "converged SCF energy = -230.488318540228\n"
     ]
    }
   ],
   "source": [
    "fmol_benz_1 = FcM(fcs=[[1,0],[-.01,.01]],atom=benz_atom_opt, basis='6-31G') #angstroms not atomic units\n",
    "fmf_benz_1=scf.RHF(fmol_benz_1)\n",
    "e_T_1=fmf_benz_1.scf()\n",
    "d1_1,d2_1,d3_1=alch_deriv(fmf_benz_1,dL=[[1,0],[-1,1]])\n",
    "fmol_benz_2 = FcM(fcs=[[1,0],[.01,-.01]],atom=benz_atom_opt, basis='6-31G') #angstroms not atomic units\n",
    "fmf_benz_2=scf.RHF(fmol_benz_2)\n",
    "e_T_2=fmf_benz_2.scf()\n",
    "d1_2,d2_2,d3_2=alch_deriv(fmf_benz_2,dL=[[1,0],[-1,1]])"
   ]
  },
  {
   "cell_type": "code",
   "execution_count": 42,
   "metadata": {},
   "outputs": [
    {
     "name": "stdout",
     "output_type": "stream",
     "text": [
      "0.0282176920353099 -0.039837341927121774\n"
     ]
    }
   ],
   "source": [
    "d4=(d3_1-d3_2)/.02\n",
    "d5=(d3_1-2*d3+d3_2)/.01**2\n",
    "print(d4/24,d5/120)"
   ]
  },
  {
   "cell_type": "code",
   "execution_count": 43,
   "metadata": {},
   "outputs": [
    {
     "name": "stdout",
     "output_type": "stream",
     "text": [
      "-245.60264555627938\n",
      "-245.60946003109143 -1.0592320694636814 0.2100839283576264\n"
     ]
    }
   ],
   "source": [
    "print(e_T)\n",
    "print(e_benz+d1+1/2*d2+1/6*d3+d4/24+d5/120+fmol_benz.energy_nuc()-mol_benz.energy_nuc() ,1/2*d2,1/6*d3)"
   ]
  },
  {
   "cell_type": "code",
   "execution_count": null,
   "metadata": {},
   "outputs": [],
   "source": []
  }
 ],
 "metadata": {
  "kernelspec": {
   "display_name": "Python 3",
   "language": "python",
   "name": "python3"
  },
  "language_info": {
   "codemirror_mode": {
    "name": "ipython",
    "version": 3
   },
   "file_extension": ".py",
   "mimetype": "text/x-python",
   "name": "python",
   "nbconvert_exporter": "python",
   "pygments_lexer": "ipython3",
   "version": "3.7.6"
  }
 },
 "nbformat": 4,
 "nbformat_minor": 4
}
