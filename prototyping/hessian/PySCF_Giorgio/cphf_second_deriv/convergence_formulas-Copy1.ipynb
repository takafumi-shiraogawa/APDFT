{
 "cells": [
  {
   "cell_type": "code",
   "execution_count": 1,
   "metadata": {},
   "outputs": [],
   "source": [
    "from pyscf import scf,gto\n",
    "import numpy as np,numpy\n",
    "from FcMole import FcM\n",
    "from alch_deriv import alch_deriv"
   ]
  },
  {
   "cell_type": "code",
   "execution_count": 2,
   "metadata": {},
   "outputs": [],
   "source": [
    "def DeltaV(mol,dL): # dL=[[atmidxs],[atmFcs]]\n",
    "    mol.set_rinv_orig_(mol.atom_coords()[dL[0][0]])\n",
    "    dV=mol.intor('int1e_rinv')*dL[1][0]\n",
    "    for i in range(1,len(dL[0])): \n",
    "        mol.set_rinv_orig_(mol.atom_coords()[dL[0][i]])\n",
    "        dV+=mol.intor('int1e_rinv')*dL[1][i]\n",
    "    return -dV"
   ]
  },
  {
   "cell_type": "code",
   "execution_count": 3,
   "metadata": {},
   "outputs": [],
   "source": [
    "#coefficients accurate dL^-8\n",
    "d1=np.asarray([1/280,-4/105,1/5,-4/5,0,4/5,-1/5,4/105,-1/280])\n",
    "d2=np.asarray([-1/560,8/315,-1/5,8/5,-205/72,8/5,-1/5,8/315,-1/560])\n",
    "d3=np.asarray([-7/240,3/10,-169/120,61/30,0,-61/30,169/120,-3/10,7/240])\n",
    "d4=np.asarray([7/240,-2/5,169/60,-122/15,91/8,-122/15,169/60,-2/5,7/240])\n",
    "d5=np.asarray([1/6,-3/2,13/3,-29/6,0,29/6,-13/3,3/2,-1/6])\n",
    "d6=np.asarray([-1/4,3,-13,29,-75/2,29,-13,3,-1/4])"
   ]
  },
  {
   "cell_type": "code",
   "execution_count": 4,
   "metadata": {},
   "outputs": [
    {
     "name": "stdout",
     "output_type": "stream",
     "text": [
      "prima opzione\n",
      "converged SCF energy = -112.742145890619\n",
      "prima opzione\n",
      "converged SCF energy = -112.351169769144\n",
      "prima opzione\n",
      "converged SCF energy = -111.967431228079\n",
      "prima opzione\n",
      "converged SCF energy = -111.590993296104\n",
      "prima opzione\n",
      "converged SCF energy = -111.221914650137\n",
      "prima opzione\n",
      "converged SCF energy = -110.860249698719\n",
      "prima opzione\n",
      "converged SCF energy = -110.506048710203\n",
      "prima opzione\n",
      "converged SCF energy = -110.15935797469\n",
      "prima opzione\n",
      "converged SCF energy = -109.820219990832\n"
     ]
    }
   ],
   "source": [
    "dl=.05\n",
    "Ps=[]\n",
    "Es=[]\n",
    "for i in range(-4,5):\n",
    "    fm=FcM(fcs=[i*dl,-i*dl],atom=\"C 0 0 0;O 0 0 2.1\", unit=\"Bohr\" )\n",
    "    mf=scf.RHF(fm)\n",
    "    Es.append(mf.scf(dm0=mf.init_guess_by_atom()))\n",
    "    Ps.append(mf.make_rdm1())"
   ]
  },
  {
   "cell_type": "code",
   "execution_count": 5,
   "metadata": {},
   "outputs": [
    {
     "data": {
      "text/plain": [
       "array([ -0.25,   3.  , -13.  ,  29.  , -37.5 ,  29.  , -13.  ,   3.  ,\n",
       "        -0.25])"
      ]
     },
     "execution_count": 5,
     "metadata": {},
     "output_type": "execute_result"
    }
   ],
   "source": [
    "coeffs=np.array([d1,d2,d3,d4,d5,d6])\n",
    "coeffs[5]"
   ]
  },
  {
   "cell_type": "code",
   "execution_count": 6,
   "metadata": {},
   "outputs": [
    {
     "name": "stdout",
     "output_type": "stream",
     "text": [
      "converged SCF energy = -111.221914650137\n"
     ]
    }
   ],
   "source": [
    "mol0=gto.M(atom=\"C 0 0 0;O 0 0 2.1\", unit=\"Bohr\" )\n",
    "dV=DeltaV(mol0,[[0,1],[1,-1]])\n",
    "mf0=scf.RHF(mol0)\n",
    "E0=mf0.scf()\n",
    "P0=mf0.make_rdm1()"
   ]
  },
  {
   "cell_type": "code",
   "execution_count": 7,
   "metadata": {},
   "outputs": [
    {
     "data": {
      "text/plain": [
       "22.857142857142854"
      ]
     },
     "execution_count": 7,
     "metadata": {},
     "output_type": "execute_result"
    }
   ],
   "source": [
    "mf0.energy_nuc()"
   ]
  },
  {
   "cell_type": "code",
   "execution_count": 8,
   "metadata": {},
   "outputs": [
    {
     "name": "stdout",
     "output_type": "stream",
     "text": [
      "prima opzione\n",
      "converged SCF energy = -105.444757226604\n"
     ]
    }
   ],
   "source": [
    "molT=FcM(fcs=[1,-1],atom=\"C 0 0 0;O 0 0 2.1\", unit=\"Bohr\" )\n",
    "dV=DeltaV(mol0,[[0,1],[1,-1]])\n",
    "mfT=scf.RHF(molT)\n",
    "ET=mfT.scf(dm0=mf.init_guess_by_atom())\n",
    "PT=mfT.make_rdm1()"
   ]
  },
  {
   "cell_type": "code",
   "execution_count": 9,
   "metadata": {},
   "outputs": [
    {
     "name": "stdout",
     "output_type": "stream",
     "text": [
      "-104.39049415776398\n",
      "-105.39711356625223 -1.006619408488245\n",
      "-105.4668732355181 -0.06975966926586609\n",
      "-105.43921627219379 0.02765696332430982\n",
      "-105.44261387912347 -0.0033976069296815154\n",
      "-105.44451694630392 -0.0019030671804487417\n",
      "-105.44703456252344 -0.0025176162195264693\n"
     ]
    }
   ],
   "source": [
    "#dE/dZ^(n+1) = \\int dP/dZ^n * dV\n",
    "e=E0+np.einsum('ij,ij',P0,dV) +(mfT.energy_nuc()-mf0.energy_nuc())\n",
    "print(e)\n",
    "for i in range (6):\n",
    "    dP=np.einsum('xij,x->ij',Ps,coeffs[i]/(dl)**(i+1))\n",
    "    e+=np.einsum('ij,ij',dP,dV)/np.math.factorial(i+2)\n",
    "    print(e,np.einsum('ij,ij',dP,dV)/np.math.factorial(i+2))"
   ]
  },
  {
   "cell_type": "code",
   "execution_count": 10,
   "metadata": {},
   "outputs": [
    {
     "name": "stdout",
     "output_type": "stream",
     "text": [
      "-111.22191465013731\n",
      "-103.9143043129372 7.307610337200099\n",
      "-105.39711229992677 -1.4828079869895703\n",
      "-105.46684776481446 -0.06973546488768059\n",
      "-105.43920946755475 0.027638297259713337\n",
      "-105.44316650051383 -0.003957032959078787\n",
      "-105.4461164494212 -0.002949948907371435\n"
     ]
    }
   ],
   "source": [
    "#expanding energies\n",
    "e=E0\n",
    "print(e)\n",
    "for i in range (6):\n",
    "    e+=np.sum(coeffs[i]*Es)/np.math.factorial(i+1)/dl**(i+1)\n",
    "    print(e,np.sum(coeffs[i]*Es)/np.math.factorial(i+1)/dl**(i+1))"
   ]
  },
  {
   "cell_type": "code",
   "execution_count": 38,
   "metadata": {},
   "outputs": [],
   "source": [
    "d1,d2,d3= alch_deriv(mf0, dL=[[0,1],[1,-1]])"
   ]
  },
  {
   "cell_type": "code",
   "execution_count": 31,
   "metadata": {},
   "outputs": [
    {
     "name": "stdout",
     "output_type": "stream",
     "text": [
      "prima opzione\n",
      "converged SCF energy = -112.742145890619\n",
      "prima opzione\n",
      "converged SCF energy = -112.351169769144\n",
      "prima opzione\n",
      "converged SCF energy = -111.967431228079\n",
      "prima opzione\n",
      "converged SCF energy = -111.590993296104\n",
      "prima opzione\n",
      "converged SCF energy = -111.221914650137\n",
      "prima opzione\n",
      "converged SCF energy = -110.860249698719\n",
      "prima opzione\n",
      "converged SCF energy = -110.506048710203\n",
      "prima opzione\n",
      "converged SCF energy = -110.15935797469\n",
      "prima opzione\n",
      "converged SCF energy = -109.820219990832\n"
     ]
    }
   ],
   "source": [
    "dl=.05\n",
    "d3s=[]\n",
    "for i in range(-4,5):\n",
    "    fm=FcM(fcs=[i*dl,-i*dl],atom=\"C 0 0 0;O 0 0 2.1\", unit=\"Bohr\" )\n",
    "    mf=scf.RHF(fm)\n",
    "    mf.scf(dm0=mf.init_guess_by_atom())\n",
    "    d1,d2,d3= alch_deriv(mf, dL=[[0,1],[1,-1]])\n",
    "    d3s.append(d3)"
   ]
  },
  {
   "cell_type": "code",
   "execution_count": 32,
   "metadata": {},
   "outputs": [
    {
     "data": {
      "text/plain": [
       "array([0.55673685, 0.52175295, 0.4867074 , 0.45212503, 0.41841326,\n",
       "       0.38588167, 0.35476061, 0.32521817, 0.29737508])"
      ]
     },
     "execution_count": 32,
     "metadata": {},
     "output_type": "execute_result"
    }
   ],
   "source": [
    "d3s=np.asarray(d3s)\n",
    "d3s"
   ]
  },
  {
   "cell_type": "code",
   "execution_count": 59,
   "metadata": {},
   "outputs": [
    {
     "name": "stdout",
     "output_type": "stream",
     "text": [
      "-112.65048607870874         7.267471048569803\n",
      "-119.00571609489158 -6.355230016182839 0.9122410323869588\n",
      "-120.01233348044484 -1.0066173855532505 -0.09437635316629667\n",
      "-119.94259794894512 0.06973553149971197 -0.024640821666579882\n",
      "APDFT4 -119.91495955191239 0.02763839703273769 0.00299757536615175\n",
      "APDFT5 -119.9110036490729 0.003955902839495371 0.0069534782056450695\n",
      "APDFT6 -119.91395346219306 -0.0029498131201685027 0.004003665085477337\n",
      "APDFT7 -119.91646010168465 -0.0025066394915791816 0.0014970255938919763\n",
      "APDFT8 -119.91788708499166 -0.001426983307008487 7.00422868789019e-05\n",
      "APDFT9 -119.91818887871074 -0.000301793719069231 -0.00023175143219589245\n"
     ]
    }
   ],
   "source": [
    "e=E0+(mfT.energy_nuc()-mf0.energy_nuc())\n",
    "print(e,\"       \",e-ET)\n",
    "e+=d1\n",
    "print(e,d1,e-ET)\n",
    "e+=d2/2\n",
    "print(e,d2/2,e-ET)\n",
    "e+=d3/6\n",
    "print(e,d3/6,e-ET)\n",
    "for i in range (6):\n",
    "    e+=np.sum(coeffs[i]*d3s)/np.math.factorial(i+4)/(-dl)**(i+1)\n",
    "    print(\"APDFT{}\".format(i+4),e,np.sum(coeffs[i]*d3s)/np.math.factorial(i+4)/(-dl)**(i+1),e-ET)"
   ]
  },
  {
   "cell_type": "code",
   "execution_count": 61,
   "metadata": {},
   "outputs": [
    {
     "name": "stdout",
     "output_type": "stream",
     "text": [
      "-119.00571609489158 -6.355230016182839\n",
      "APDFT2 -120.01233550337983 -1.006619408488245 -0.09437837610128952\n",
      "APDFT3 -119.94257583411397 0.06975966926586609 -0.024618706835425996\n",
      "APDFT4 -119.91491887078966 0.02765696332430982 0.0030382564888782326\n",
      "APDFT5 -119.91152126385998 0.0033976069296815154 0.0064358634185595065\n",
      "APDFT6 -119.91342433104043 -0.0019030671804487417 0.004532796238109427\n",
      "APDFT7 -119.91090671482091 0.0025176162195264693 0.007050412457630273\n"
     ]
    }
   ],
   "source": [
    "e=E0+np.einsum('ij,ij',P0,dV) +(mfT.energy_nuc()-mf0.energy_nuc())\n",
    "print(e,np.einsum('ij,ij',P0,dV))\n",
    "for i in range (6):\n",
    "    dP=np.einsum('xij,x->ij',Ps,coeffs[i]/(-dl)**(i+1))    # -dl to invert the direction\n",
    "    e+=np.einsum('ij,ij',dP,dV)/np.math.factorial(i+2)\n",
    "    print(\"APDFT{}\".format(i+2),e,np.einsum('ij,ij',dP,dV)/np.math.factorial(i+2),e-ET)"
   ]
  },
  {
   "cell_type": "code",
   "execution_count": 52,
   "metadata": {},
   "outputs": [
    {
     "data": {
      "text/plain": [
       "-119.91795712727854"
      ]
     },
     "execution_count": 52,
     "metadata": {},
     "output_type": "execute_result"
    }
   ],
   "source": [
    "ET"
   ]
  },
  {
   "cell_type": "code",
   "execution_count": null,
   "metadata": {},
   "outputs": [],
   "source": []
  }
 ],
 "metadata": {
  "kernelspec": {
   "display_name": "Python 3",
   "language": "python",
   "name": "python3"
  },
  "language_info": {
   "codemirror_mode": {
    "name": "ipython",
    "version": 3
   },
   "file_extension": ".py",
   "mimetype": "text/x-python",
   "name": "python",
   "nbconvert_exporter": "python",
   "pygments_lexer": "ipython3",
   "version": "3.7.6"
  }
 },
 "nbformat": 4,
 "nbformat_minor": 4
}
