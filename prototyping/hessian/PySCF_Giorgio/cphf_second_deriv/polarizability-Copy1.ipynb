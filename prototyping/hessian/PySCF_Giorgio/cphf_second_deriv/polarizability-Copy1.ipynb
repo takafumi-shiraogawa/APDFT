{
 "cells": [
  {
   "cell_type": "markdown",
   "metadata": {},
   "source": [
    "Goal of this notebook is to understand how to call cphf.solve_nos1(fvind, mo_energy, mo_occ, h1,max_cycle=20, tol=1e-9, hermi=False)  (better the shape of the arrays passed as arguments)"
   ]
  },
  {
   "cell_type": "code",
   "execution_count": 1,
   "metadata": {},
   "outputs": [],
   "source": [
    "import pyscf\n",
    "from pyscf import gto, scf\n",
    "import numpy as np\n",
    "import matplotlib.pyplot as plt\n",
    "import inspect\n",
    "#from pyscf.geomopt.berny_solver import optimize\n",
    "#from pyscf.grad import rhf as grhf\n",
    "#from pyscf.hessian import rhf as hrhf\n",
    "from pyscf import lib\n",
    "import inspect\n",
    "from functools import reduce\n",
    "from pyscf.scf import cphf\n",
    "from pyscf.prop.polarizability.rhf import Polarizability\n",
    "angstrom = 1 / 0.52917721067\n",
    "#from pyscf.scf._response_functions import _gen_rhf_response "
   ]
  },
  {
   "cell_type": "code",
   "execution_count": 2,
   "metadata": {},
   "outputs": [],
   "source": [
    "def DeltaV(mol,dL):\n",
    "    mol.set_rinv_orig_(mol.atom_coords()[0])\n",
    "    dV=mol.intor('int1e_rinv')*dL[0]\n",
    "    mol.set_rinv_orig_(mol.atom_coords()[1])\n",
    "    dV+=mol.intor('int1e_rinv')*dL[1]\n",
    "    return -dV.reshape((1,dV.shape[0],dV.shape[1]))\n",
    "\n",
    "def fc(calc,deltaZ):\n",
    "    mf = pyscf.qmmm.mm_charge(calc, calc.mol.atom_coords(), deltaZ)  # now is add_mm_charge\n",
    "    class NoSelfQMMM(mf.__class__):\n",
    "        def energy_nuc(self):\n",
    "            q = self.mol.atom_charges().astype(np.float).copy()\n",
    "            q1 =q+ np.asarray(deltaZ) \n",
    "            return self.mol.energy_nuc(q1)\n",
    "    return(NoSelfQMMM(mf,mf.mm_mol))"
   ]
  },
  {
   "cell_type": "code",
   "execution_count": 19,
   "metadata": {},
   "outputs": [],
   "source": [
    "import time\n",
    "from functools import reduce\n",
    "import numpy\n",
    "from pyscf import lib\n",
    "from pyscf.lib import logger\n",
    "from pyscf.scf import cphf\n",
    "from pyscf.prop.nmr import rhf as rhf_nmr\n",
    "#from pyscf.scf import _gen_rhf_response\n",
    "\n",
    "def dipole(mf):\n",
    "    return mf.dip_moment(mf.mol, mf.make_rdm1())\n",
    "def polarizability(polobj, with_cphf=True):\n",
    "    log = logger.new_logger(polobj)\n",
    "    mf = polobj._scf\n",
    "    mol = mf.mol\n",
    "    mo_energy = mf.mo_energy\n",
    "    mo_coeff = mf.mo_coeff\n",
    "    mo_occ = mf.mo_occ\n",
    "    occidx = mo_occ > 0\n",
    "    orbo = mo_coeff[:, occidx]\n",
    "    orbv = mo_coeff[:,~occidx]\n",
    "\n",
    "    charges = mol.atom_charges()\n",
    "    coords  = mol.atom_coords()\n",
    "    charge_center = numpy.einsum('i,ix->x', charges, coords) / charges.sum()\n",
    "    int_r=DeltaV(mol,[.001,-.001])\n",
    "    h1 = lib.einsum('xpq,pi,qj->xij', int_r, mo_coeff.conj(), orbo) #going to molecular orbitals?\n",
    "    print(h1.shape, \"shape (1, n ao, nocc)\" )\n",
    "    #print(mo_energy, mo_occ,h1)\n",
    "    s1 = numpy.zeros_like(h1)\n",
    "    vind = polobj.gen_vind(mf, mo_coeff, mo_occ)\n",
    "    if with_cphf:\n",
    "        mo1,e1 = cphf.solve(vind, mo_energy, mo_occ, h1, s1, polobj.max_cycle_cphf, polobj.conv_tol,verbose=log)\n",
    "    else:\n",
    "        mo1 = rhf_nmr._solve_mo1_uncoupled(mo_energy, mo_occ, h1, s1)[0]\n",
    "    #e2 = numpy.einsum('xpi,ypi->xy', h1, mo1)\n",
    "    # *-1 from the definition of dipole moment. *2 for double occupancy\n",
    "    #e2 = (e2 + e2.T) * -2\n",
    "    #return e2\n",
    "    return mo1,e1\n",
    "\n",
    "def gen_vind(self, mf, mo_coeff, mo_occ):  #polarizability\n",
    "        '''Induced potential'''\n",
    "        vresp = mf.gen_response(hermi=1)\n",
    "        occidx = mo_occ > 0\n",
    "        orbo = mo_coeff[:, occidx]\n",
    "        nocc = orbo.shape[1]\n",
    "        nao, nmo = mo_coeff.shape\n",
    "        def vind(mo1):\n",
    "            dm1 = lib.einsum('xai,pa,qi->xpq', mo1.reshape(-1,nmo,nocc), mo_coeff,orbo.conj())\n",
    "            dm1 = (dm1 + dm1.transpose(0,2,1).conj()) * 2\n",
    "            v1mo = lib.einsum('xpq,pi,qj->xij', vresp(dm1), mo_coeff.conj(), orbo)\n",
    "            return v1mo.ravel()\n",
    "        return vind\n",
    "def hyper_polarizability(polobj, with_cphf=True):\n",
    "    log = logger.new_logger(polobj)\n",
    "    mf = polobj._scf\n",
    "    mol = mf.mol\n",
    "    mo_energy = mf.mo_energy\n",
    "    mo_coeff = mf.mo_coeff\n",
    "    mo_occ = mf.mo_occ\n",
    "    occidx = mo_occ > 0\n",
    "    orbo = mo_coeff[:, occidx]\n",
    "    #orbv = mo_coeff[:,~occidx]\n",
    "\n",
    "    charges = mol.atom_charges()\n",
    "    coords  = mol.atom_coords()\n",
    "    charge_center = numpy.einsum('i,ix->x', charges, coords) / charges.sum()\n",
    "    int_r=DeltaV(mol,[.001,-.001])\n",
    "    h1 = lib.einsum('xpq,pi,qj->xij', int_r, mo_coeff.conj(), orbo)\n",
    "    s1 = numpy.zeros_like(h1)\n",
    "    vind = polobj.gen_vind(mf, mo_coeff, mo_occ) #funct DM-> G(DM)\n",
    "    if with_cphf:\n",
    "        mo1, e1 = cphf.solve(vind, mo_energy, mo_occ, h1, s1,  polobj.max_cycle_cphf, polobj.conv_tol, verbose=log)\n",
    "    else:\n",
    "        mo1, e1 = rhf_nmr._solve_mo1_uncoupled(mo_energy, mo_occ, h1, s1)\n",
    "    mo1 = lib.einsum('xqi,pq->xpi', mo1, mo_coeff)\n",
    "\n",
    "    dm1 = lib.einsum('xpi,qi->xpq', mo1, orbo) * 2\n",
    "    dm1 = dm1 + dm1.transpose(0,2,1)\n",
    "    vresp = mf.gen_response(hermi=1) # (J-K/2)(dm)\n",
    "    h1ao = int_r + vresp(dm1) #Fock matrix\n",
    "    # *2 for double occupancy\n",
    "    e3  = lib.einsum('xpq,ypi,zqi->xyz', h1ao, mo1, mo1) * 2\n",
    "    e3 -= lib.einsum('pq,xpi,yqj,zij->xyz', mf.get_ovlp(), mo1, mo1, e1) * 2\n",
    "    e3 = (e3 + e3.transpose(1,2,0) + e3.transpose(2,0,1) +\n",
    "          e3.transpose(0,2,1) + e3.transpose(1,0,2) + e3.transpose(2,1,0))\n",
    "    e3 = -e3\n",
    "    log.debug('Static hyper polarizability tensor\\n%s', e3)\n",
    "    return e3"
   ]
  },
  {
   "cell_type": "code",
   "execution_count": 24,
   "metadata": {
    "scrolled": true
   },
   "outputs": [
    {
     "name": "stderr",
     "output_type": "stream",
     "text": [
      "Warning: <pyscf.gto.mole.Mole object at 0x7efff472be90> must be initialized before calling SCF.\n",
      "Initialize <pyscf.gto.mole.Mole object at 0x7efff472be90> in <pyscf.scf.hf.RHF object at 0x7effc8a83a10>\n"
     ]
    },
    {
     "name": "stdout",
     "output_type": "stream",
     "text": [
      "converged SCF energy = -112.078731735791\n"
     ]
    }
   ],
   "source": [
    "mol = gto.Mole(atom='H 0 0 0; H 0 0 1.2', unit=\"Bohr\",basis=\"STO-3G\")\n",
    "mol=gto.Mole(atom=\"C 0 0 0 ;O 0 0 2.\", unit=\"Bohr\", basis= \"3-21G\")\n",
    "mf = scf.RHF(mol)\n",
    "e=mf.scf()\n",
    "O=np.diag(mf.mo_occ)"
   ]
  },
  {
   "cell_type": "code",
   "execution_count": 25,
   "metadata": {},
   "outputs": [],
   "source": [
    "plo=Polarizability(mf) #polariz obj"
   ]
  },
  {
   "cell_type": "code",
   "execution_count": 26,
   "metadata": {
    "scrolled": true
   },
   "outputs": [
    {
     "name": "stdout",
     "output_type": "stream",
     "text": [
      "(1, 18, 7) shape (1, n ao, nocc)\n"
     ]
    }
   ],
   "source": [
    "pa,e1=polarizability(plo)"
   ]
  },
  {
   "cell_type": "code",
   "execution_count": 29,
   "metadata": {},
   "outputs": [
    {
     "data": {
      "text/plain": [
       "array([[[ 0.0056, -0.    , -0.0009, -0.0005, -0.    ,  0.    ,  0.0001],\n",
       "        [-0.    , -0.0043,  0.0004, -0.0004, -0.    ,  0.    ,  0.0005],\n",
       "        [-0.0009,  0.0004,  0.0001,  0.0002,  0.    , -0.    , -0.0001],\n",
       "        [-0.0005, -0.0004,  0.0002,  0.0001,  0.    , -0.    ,  0.0001],\n",
       "        [-0.    , -0.    ,  0.    ,  0.    ,  0.0001,  0.    ,  0.    ],\n",
       "        [ 0.    ,  0.    , -0.    , -0.    ,  0.    ,  0.0001,  0.    ],\n",
       "        [ 0.0001,  0.0005, -0.0001,  0.0001,  0.    ,  0.    , -0.0002]]])"
      ]
     },
     "execution_count": 29,
     "metadata": {},
     "output_type": "execute_result"
    }
   ],
   "source": [
    "np.round(e1,decimals=4)"
   ]
  },
  {
   "cell_type": "code",
   "execution_count": 7,
   "metadata": {},
   "outputs": [
    {
     "data": {
      "text/plain": [
       "array([[[0.        ],\n",
       "        [0.00057807]]])"
      ]
     },
     "execution_count": 7,
     "metadata": {},
     "output_type": "execute_result"
    }
   ],
   "source": [
    "pa"
   ]
  },
  {
   "cell_type": "code",
   "execution_count": 8,
   "metadata": {},
   "outputs": [
    {
     "name": "stdout",
     "output_type": "stream",
     "text": [
      "converged SCF energy = -1.1103355584584\n"
     ]
    },
    {
     "data": {
      "text/plain": [
       "-1.1103355584583992"
      ]
     },
     "execution_count": 8,
     "metadata": {},
     "output_type": "execute_result"
    }
   ],
   "source": [
    "hf1=fc(mf,[.001,-0.001])\n",
    "hf1.scf()"
   ]
  },
  {
   "cell_type": "code",
   "execution_count": 9,
   "metadata": {},
   "outputs": [
    {
     "data": {
      "text/plain": [
       "array([[ 0.53859761, -1.35712572],\n",
       "       [ 0.53702883,  1.35774726]])"
      ]
     },
     "execution_count": 9,
     "metadata": {},
     "output_type": "execute_result"
    }
   ],
   "source": [
    "C1= hf1.mo_coeff\n",
    "C1"
   ]
  },
  {
   "cell_type": "code",
   "execution_count": 10,
   "metadata": {},
   "outputs": [],
   "source": [
    "C=np.flip(mf.mo_coeff.copy(),axis=0)"
   ]
  },
  {
   "cell_type": "code",
   "execution_count": 11,
   "metadata": {},
   "outputs": [
    {
     "data": {
      "text/plain": [
       "array([[ 0.53781331, -1.35743672],\n",
       "       [ 0.53781331,  1.35743672]])"
      ]
     },
     "execution_count": 11,
     "metadata": {},
     "output_type": "execute_result"
    }
   ],
   "source": [
    "C"
   ]
  },
  {
   "cell_type": "code",
   "execution_count": 12,
   "metadata": {},
   "outputs": [
    {
     "data": {
      "text/plain": [
       "array([[ 0.0007843 ,  0.000311  ],\n",
       "       [-0.00078448,  0.00031055]])"
      ]
     },
     "execution_count": 12,
     "metadata": {},
     "output_type": "execute_result"
    }
   ],
   "source": [
    "C1-C"
   ]
  },
  {
   "cell_type": "code",
   "execution_count": 13,
   "metadata": {
    "scrolled": true
   },
   "outputs": [
    {
     "data": {
      "text/plain": [
       "array([[ 0.0007847,  0.0003109],\n",
       "       [-0.0007847,  0.0003109]])"
      ]
     },
     "execution_count": 13,
     "metadata": {},
     "output_type": "execute_result"
    }
   ],
   "source": [
    "nao=mol.nao\n",
    "nocc=mol.nelectron//2 #RHF\n",
    "U=np.zeros((nao,nao))\n",
    "U[:,:nocc]=pa[0,:,:nocc]\n",
    "U=U.T-U\n",
    "C@U"
   ]
  },
  {
   "cell_type": "code",
   "execution_count": 14,
   "metadata": {},
   "outputs": [
    {
     "data": {
      "text/plain": [
       "array([[[ 0.00168808,  0.        ],\n",
       "        [ 0.        , -0.00168808]]])"
      ]
     },
     "execution_count": 14,
     "metadata": {},
     "output_type": "execute_result"
    }
   ],
   "source": [
    "mo1=lib.einsum('xqi,pq->xpi', pa, mf.mo_coeff)\n",
    "dm1 = lib.einsum('xpi,qi->xpq', mo1, mf.mo_coeff[:,mf.mo_occ > 0]) * 2\n",
    "dm1 = dm1 + dm1.transpose(0,2,1)\n",
    "dm1"
   ]
  },
  {
   "cell_type": "code",
   "execution_count": 15,
   "metadata": {},
   "outputs": [
    {
     "data": {
      "text/plain": [
       "array([[ 0.00168808,  0.        ],\n",
       "       [ 0.        , -0.00168808]])"
      ]
     },
     "execution_count": 15,
     "metadata": {},
     "output_type": "execute_result"
    }
   ],
   "source": [
    "C@(U@O-O@U)@C.T"
   ]
  },
  {
   "cell_type": "code",
   "execution_count": 16,
   "metadata": {},
   "outputs": [
    {
     "data": {
      "text/plain": [
       "array([[ 3.96287780e-07, -1.05195689e-07],\n",
       "       [-2.16707694e-07,  3.48063087e-07]])"
      ]
     },
     "execution_count": 16,
     "metadata": {},
     "output_type": "execute_result"
    }
   ],
   "source": [
    "C@U-(C1-C)"
   ]
  },
  {
   "cell_type": "code",
   "execution_count": 17,
   "metadata": {},
   "outputs": [
    {
     "data": {
      "text/plain": [
       "(array([[ 0.53859801, -1.35712582],\n",
       "        [ 0.53702861,  1.35774761]]),\n",
       " array([[ 0.53859761, -1.35712572],\n",
       "        [ 0.53702883,  1.35774726]]))"
      ]
     },
     "execution_count": 17,
     "metadata": {},
     "output_type": "execute_result"
    }
   ],
   "source": [
    "C+C@U,C1"
   ]
  },
  {
   "cell_type": "code",
   "execution_count": 18,
   "metadata": {},
   "outputs": [
    {
     "data": {
      "text/plain": [
       "'            def vind(dm1):\\n                vj, vk = mf.get_jk(mol, dm1, hermi=hermi)\\n                return vj - .5 * vk\\n'"
      ]
     },
     "execution_count": 18,
     "metadata": {},
     "output_type": "execute_result"
    }
   ],
   "source": [
    "inspect.getsource(mf.gen_response(hermi=1))"
   ]
  }
 ],
 "metadata": {
  "kernelspec": {
   "display_name": "Python 3",
   "language": "python",
   "name": "python3"
  },
  "language_info": {
   "codemirror_mode": {
    "name": "ipython",
    "version": 3
   },
   "file_extension": ".py",
   "mimetype": "text/x-python",
   "name": "python",
   "nbconvert_exporter": "python",
   "pygments_lexer": "ipython3",
   "version": "3.7.6"
  }
 },
 "nbformat": 4,
 "nbformat_minor": 2
}
