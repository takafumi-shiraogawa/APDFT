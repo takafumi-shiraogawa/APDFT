{
 "cells": [
  {
   "cell_type": "code",
   "execution_count": 1,
   "metadata": {},
   "outputs": [],
   "source": [
    "from pyscf import gto,scf\n",
    "from pyscf.geomopt.berny_solver import optimize\n",
    "import numpy as np\n",
    "from alch_deriv import alch_deriv\n",
    "from FcMole import FcM\n",
    "import matplotlib.pyplot as plt\n",
    "\n",
    "def DeltaV(mol,dL):\n",
    "    mol.set_rinv_orig_(mol.atom_coords()[dL[0][0]])\n",
    "    dV=mol.intor('int1e_rinv')*dL[1][0]\n",
    "    for i in range(1,len(dL[0])): \n",
    "        mol.set_rinv_orig_(mol.atom_coords()[dL[0][i]])\n",
    "        dV+=mol.intor('int1e_rinv')*dL[1][i]\n",
    "    return -dV\n",
    "#ao_div=mol0.aoslice_by_atom()[:,-2:]\n",
    "#pt=ao_div[1][0]"
   ]
  },
  {
   "cell_type": "code",
   "execution_count": 2,
   "metadata": {},
   "outputs": [
    {
     "name": "stdout",
     "output_type": "stream",
     "text": [
      "converged SCF energy = -230.624474947017\n"
     ]
    }
   ],
   "source": [
    "benz_atom_opt=\"\"\" C   0.000000   1.388317  0.000000;  \n",
    "   H  -0.000000   2.461627  -0.000000  ;\n",
    "   C   1.202318   0.694159   0.000000  ;\n",
    "   H   2.131832   1.230814  -0.000000  ;\n",
    "   C   1.202318  -0.694159  -0.000000  ;\n",
    "   H   2.131832  -1.230814  -0.000000  ;\n",
    "   C   0.000000  -1.388317   0.000000  ;\n",
    "   H   0.000000  -2.461627   0.000000  ;\n",
    "   C  -1.202318  -0.694159  -0.000000  ;\n",
    "   H  -2.131832  -1.230814  -0.000000  ;\n",
    "   C  -1.202318   0.694159   0.000000  ;\n",
    "   H  -2.131832   1.230814  -0.000000  \n",
    "\"\"\"\n",
    "mol_benz = gto.M(atom=benz_atom_opt, basis='6-31G') #angstroms not atomic units\n",
    "mf_benz=scf.RHF(mol_benz)\n",
    "e_benz=mf_benz.scf()"
   ]
  },
  {
   "cell_type": "code",
   "execution_count": 3,
   "metadata": {},
   "outputs": [
    {
     "name": "stdout",
     "output_type": "stream",
     "text": [
      "[6 1 6 1 6 1 6 1 6 1 6 1]\n"
     ]
    }
   ],
   "source": [
    "P0=mf_benz.make_rdm1()\n",
    "print(mol_benz.atom_charges())"
   ]
  },
  {
   "cell_type": "code",
   "execution_count": 4,
   "metadata": {},
   "outputs": [
    {
     "data": {
      "text/plain": [
       "(2.3639230198983785e-06, -2.4301772918020585, -8.748296366229563e-08)"
      ]
     },
     "execution_count": 4,
     "metadata": {},
     "output_type": "execute_result"
    }
   ],
   "source": [
    "d1,d2,d3=alch_deriv(mf_benz,dL=[[0,2],[-1,1]])\n",
    "d1,d2,d3"
   ]
  },
  {
   "cell_type": "code",
   "execution_count": 5,
   "metadata": {},
   "outputs": [
    {
     "name": "stdout",
     "output_type": "stream",
     "text": [
      "converged SCF energy = -232.263844927307\n"
     ]
    }
   ],
   "source": [
    "fmol_benz = FcM(fcs=[[0,2],[-1,1]],atom=benz_atom_opt, basis='6-31G') #angstroms not atomic units\n",
    "fmf_benz=scf.RHF(fmol_benz)\n",
    "e_T=fmf_benz.scf()"
   ]
  },
  {
   "cell_type": "code",
   "execution_count": 6,
   "metadata": {},
   "outputs": [
    {
     "data": {
      "text/plain": [
       "-232.2207279745016"
      ]
     },
     "execution_count": 6,
     "metadata": {},
     "output_type": "execute_result"
    }
   ],
   "source": [
    "e_benz+d1+1/2*d2+1/6*d3+fmol_benz.energy_nuc()-mol_benz.energy_nuc()"
   ]
  },
  {
   "cell_type": "code",
   "execution_count": 7,
   "metadata": {},
   "outputs": [],
   "source": [
    "#Finite Difference Coefficients\n",
    "fdc1=np.asarray([1/12,-2/3,0,2/3,-1/12])\n",
    "fdc2=np.asarray([-1/12,4/3,-5/2,4/3,-1/12])\n",
    "fdc3=np.asarray([-1/2,1,0,-1,1/2])\n",
    "fdc4=np.asarray([1,-4,6,-4,1])\n",
    "coeffs=np.array([fdc1,fdc2,fdc3,fdc4])"
   ]
  },
  {
   "cell_type": "code",
   "execution_count": 10,
   "metadata": {},
   "outputs": [
    {
     "name": "stdout",
     "output_type": "stream",
     "text": [
      "converged SCF energy = -230.688387692685\n",
      "converged SCF energy = -230.640441397141\n",
      "converged SCF energy = -230.624474947017\n",
      "converged SCF energy = -230.640441358284\n",
      "converged SCF energy = -230.68838761513\n"
     ]
    }
   ],
   "source": [
    "dl=.1\n",
    "Ps=[]\n",
    "Es=[]\n",
    "for i in range(-2,3):\n",
    "    fm=FcM(fcs=[[0,2],[-1*dl*i,1*dl*i]],atom=benz_atom_opt, basis='6-31G')\n",
    "    mf=scf.RHF(fm)\n",
    "    Es.append(mf.scf(dm0=mf.init_guess_by_atom()))\n",
    "    Ps.append(mf.make_rdm1())"
   ]
  },
  {
   "cell_type": "code",
   "execution_count": 11,
   "metadata": {},
   "outputs": [],
   "source": [
    "dV=DeltaV(mol_benz,dL=[[0,2],[-1,1]])"
   ]
  },
  {
   "cell_type": "code",
   "execution_count": 12,
   "metadata": {},
   "outputs": [
    {
     "name": "stdout",
     "output_type": "stream",
     "text": [
      "APDFT1 -231.00563931402007 2.3639230198983785e-06\n",
      "APDFT2 -232.22072514356896 -1.2150858295488791\n",
      "APDFT3 -232.22072538973865 -2.461696933788483e-07\n",
      "APDFT4 -232.25998254151364 -0.03925715177499508\n",
      "APDFT5 -232.25997974453887 2.796974761023599e-06\n"
     ]
    }
   ],
   "source": [
    "e=e_benz+np.einsum('ij,ij',mf_benz.make_rdm1(),dV) +(fmf_benz.energy_nuc()-mf_benz.energy_nuc())\n",
    "print(\"APDFT1\",e,np.einsum('ij,ij',mf_benz.make_rdm1(),dV))\n",
    "for i in range (4):\n",
    "    dP=np.einsum('xij,x->ij',Ps,coeffs[i]/(dl)**(i+1))\n",
    "    e+=np.einsum('ij,ij',dP,dV)/np.math.factorial(i+2)\n",
    "    print(\"APDFT{}\".format(i+2),e,np.einsum('ij,ij',dP,dV)/np.math.factorial(i+2))"
   ]
  },
  {
   "cell_type": "code",
   "execution_count": 13,
   "metadata": {},
   "outputs": [
    {
     "name": "stdout",
     "output_type": "stream",
     "text": [
      "-232.26384492730736\n",
      "-232.2207279745016 -1.2150886459010293 -1.4580493943715939e-08\n"
     ]
    }
   ],
   "source": [
    "print(e_T)\n",
    "print(e_benz+d1+1/2*d2+1/6*d3+fmol_benz.energy_nuc()-mol_benz.energy_nuc() ,1/2*d2,1/6*d3)"
   ]
  },
  {
   "cell_type": "code",
   "execution_count": 16,
   "metadata": {},
   "outputs": [
    {
     "name": "stdout",
     "output_type": "stream",
     "text": [
      "converged SCF energy = -230.624634570724\n",
      "converged SCF energy = -230.624634574613\n"
     ]
    }
   ],
   "source": [
    "fmol_benz_1 = FcM(fcs=[[0,2],[-.01,.01]],atom=benz_atom_opt, basis='6-31G') #angstroms not atomic units\n",
    "fmf_benz_1=scf.RHF(fmol_benz_1)\n",
    "e_T_1=fmf_benz_1.scf()\n",
    "d1_1,d2_1,d3_1=alch_deriv(fmf_benz_1,dL=[[0,2],[-1,1]])\n",
    "fmol_benz_2 = FcM(fcs=[[0,2],[.01,-.01]],atom=benz_atom_opt, basis='6-31G') #angstroms not atomic units\n",
    "fmf_benz_2=scf.RHF(fmol_benz_2)\n",
    "e_T_2=fmf_benz_2.scf()\n",
    "d1_2,d2_2,d3_2=alch_deriv(fmf_benz_2,dL=[[0,2],[-1,1]])"
   ]
  },
  {
   "cell_type": "code",
   "execution_count": 17,
   "metadata": {},
   "outputs": [
    {
     "name": "stdout",
     "output_type": "stream",
     "text": [
      "-0.03893047503380307 1.095462354942095e-06\n"
     ]
    }
   ],
   "source": [
    "d4=(d3_1-d3_2)/.02\n",
    "d5=(d3_1-2*d3+d3_2)/.01**2\n",
    "print(d4/24,d5/120)"
   ]
  },
  {
   "cell_type": "code",
   "execution_count": 18,
   "metadata": {},
   "outputs": [
    {
     "name": "stdout",
     "output_type": "stream",
     "text": [
      "-232.26384492730736\n",
      "-232.25965735407306 -1.2150886459010293 -1.4580493943715939e-08\n"
     ]
    }
   ],
   "source": [
    "print(e_T)\n",
    "print(e_benz+d1+1/2*d2+1/6*d3+d4/24+d5/120+fmol_benz.energy_nuc()-mol_benz.energy_nuc() ,1/2*d2,1/6*d3)"
   ]
  },
  {
   "cell_type": "code",
   "execution_count": 19,
   "metadata": {},
   "outputs": [
    {
     "name": "stdout",
     "output_type": "stream",
     "text": [
      "converged SCF energy = -230.688387692685\n",
      "converged SCF energy = -230.640441397141\n",
      "converged SCF energy = -230.624474947017\n",
      "converged SCF energy = -230.640441358285\n",
      "converged SCF energy = -230.688387615129\n"
     ]
    }
   ],
   "source": [
    "d3s=[]\n",
    "for i in range(-2,3):\n",
    "    fm=FcM(fcs=[[0,2],[-1*dl*i,1*dl*i]],atom=benz_atom_opt, basis='6-31G')\n",
    "    mf=scf.RHF(fm)\n",
    "    mf.scf(dm0=mf.init_guess_by_atom())\n",
    "    d3s.append(alch_deriv(mf,dL=[[0,2],[-1,1]])[2])"
   ]
  },
  {
   "cell_type": "code",
   "execution_count": 24,
   "metadata": {},
   "outputs": [
    {
     "name": "stdout",
     "output_type": "stream",
     "text": [
      "APDFT4 contr. -0.03894617749615839\n",
      "APDFT5 contr. 1.3860221084275681e-08\n",
      "APDFT6 contr. -0.004134841429459715\n",
      "APDFT7 contr. -5.18123884294855e-08\n"
     ]
    }
   ],
   "source": [
    "d3s=np.asarray(d3s)\n",
    "for i in range (4):\n",
    "    print(\"APDFT{} contr.\".format(i+4),np.sum(d3s*coeffs[i])/(dl)**(i+1)/np.math.factorial(i+4))"
   ]
  },
  {
   "cell_type": "code",
   "execution_count": 25,
   "metadata": {},
   "outputs": [
    {
     "data": {
      "text/plain": [
       "(-232.2637921955025, -232.26384492730736)"
      ]
     },
     "execution_count": 25,
     "metadata": {},
     "output_type": "execute_result"
    }
   ],
   "source": [
    "-232.25965735407306-0.004134841429459715,e_T"
   ]
  }
 ],
 "metadata": {
  "kernelspec": {
   "display_name": "Python 3",
   "language": "python",
   "name": "python3"
  },
  "language_info": {
   "codemirror_mode": {
    "name": "ipython",
    "version": 3
   },
   "file_extension": ".py",
   "mimetype": "text/x-python",
   "name": "python",
   "nbconvert_exporter": "python",
   "pygments_lexer": "ipython3",
   "version": "3.7.6"
  }
 },
 "nbformat": 4,
 "nbformat_minor": 4
}
