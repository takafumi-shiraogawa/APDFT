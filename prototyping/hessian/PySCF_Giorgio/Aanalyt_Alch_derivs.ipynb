{
 "cells": [
  {
   "cell_type": "code",
   "execution_count": 9,
   "metadata": {},
   "outputs": [],
   "source": [
    "from pyscf import gto, scf\n",
    "import pyscf.qmmm\n",
    "import pyscf.dft\n",
    "import numpy as np\n",
    "angstrom = 1 / 0.52917721067\n",
    "from matplotlib import pyplot as plt\n",
    "from functools import reduce\n",
    "from numpy.linalg import inv \n",
    "# ancora il modo migliore per mettere cariche frazionali sulle molecole, se vai a toccare mol.charges si incazza \n",
    "#  quando deve calcolare l' initial guess \n",
    "\n",
    "def fc(calc,deltaZ):\n",
    "    mf = pyscf.qmmm.mm_charge(calc, calc.mol.atom_coords()/angstrom, deltaZ)\n",
    "    class NoSelfQMMM(mf.__class__):\n",
    "        def energy_nuc(self):\n",
    "            q = self.mol.atom_charges().astype(np.float)\n",
    "            for i in range (len(q)):\n",
    "                q[i] += deltaZ[i] \n",
    "            return self.mol.energy_nuc(q)\n",
    "    return(NoSelfQMMM(calc,calc.mol))\n",
    "\n",
    "def DeltaV(mol,dL):\n",
    "    mol.set_rinv_orig_(mol.atom_coords()[0])\n",
    "    dV=mol.intor('int1e_rinv')*dL[0]\n",
    "    mol.set_rinv_orig_(mol.atom_coords()[1]/angstrom)\n",
    "    dV+=mol.intor('int1e_rinv')*dL[1]\n",
    "    return dV"
   ]
  },
  {
   "cell_type": "code",
   "execution_count": 10,
   "metadata": {},
   "outputs": [
    {
     "name": "stdout",
     "output_type": "stream",
     "text": [
      "converged SCF energy = -111.200776611731\n",
      "converged SCF energy = -430.888202554681\n"
     ]
    },
    {
     "data": {
      "text/plain": [
       "-430.88820255468056"
      ]
     },
     "execution_count": 10,
     "metadata": {},
     "output_type": "execute_result"
    }
   ],
   "source": [
    "molCO=gto.Mole(atom=\"C 0 0 0 ; O 0 0 1.06\",basis=\"sto-3G\")# basis={'C': gto.basis.load(\"sto-3G \",'N'),'O': gto.basis.load(\"sto-3G \",'N')})\n",
    "molCO.build()\n",
    "hf=scf.RHF(molCO)\n",
    "hfnn=fc(hf,[1.,-1])\n",
    "hf.scf()\n",
    "hfnn.scf()"
   ]
  },
  {
   "cell_type": "code",
   "execution_count": 3,
   "metadata": {},
   "outputs": [
    {
     "data": {
      "text/plain": [
       "-105.42783812719127"
      ]
     },
     "execution_count": 3,
     "metadata": {},
     "output_type": "execute_result"
    },
    {
     "data": {
      "image/png": "[encoded data removed]",
      "text/plain": [
       "<Figure size 288x288 with 1 Axes>"
      ]
     },
     "metadata": {
      "needs_background": "light"
     },
     "output_type": "display_data"
    }
   ],
   "source": [
    "plt.matshow(hf.make_rdm1())\n",
    "hfnn.e_tot"
   ]
  },
  {
   "cell_type": "code",
   "execution_count": 4,
   "metadata": {},
   "outputs": [
    {
     "data": {
      "text/plain": [
       "<matplotlib.image.AxesImage at 0x7f27445e8da0>"
      ]
     },
     "execution_count": 4,
     "metadata": {},
     "output_type": "execute_result"
    },
    {
     "data": {
      "image/png": "[encoded data removed]",
      "text/plain": [
       "<Figure size 288x288 with 1 Axes>"
      ]
     },
     "metadata": {
      "needs_background": "light"
     },
     "output_type": "display_data"
    }
   ],
   "source": [
    "plt.matshow(hfnn.make_rdm1())"
   ]
  },
  {
   "cell_type": "code",
   "execution_count": 5,
   "metadata": {},
   "outputs": [
    {
     "name": "stdout",
     "output_type": "stream",
     "text": [
      "['CASCI', 'CASSCF', 'CCSD', 'CISD', 'DFMP2', 'DIIS', 'Gradients', 'MP2', 'QMMM', 'TDA', 'TDHF', '__class__', '__delattr__', '__dict__', '__dir__', '__doc__', '__eq__', '__format__', '__ge__', '__getattribute__', '__gt__', '__hash__', '__init__', '__init_subclass__', '__le__', '__lt__', '__module__', '__ne__', '__new__', '__reduce__', '__reduce_ex__', '__repr__', '__setattr__', '__sizeof__', '__str__', '__subclasshook__', '__weakref__', '_chkfile', '_eigh', '_eri', '_finalize', '_is_mem_enough', '_keys', '_t0', '_w0', 'analyze', 'apply', 'as_scanner', 'build', 'callback', 'canonicalize', 'check_convergence', 'check_sanity', 'chkfile', 'conv_check', 'conv_tol', 'conv_tol_grad', 'converged', 'convert_from_', 'damp', 'damp_factor', 'density_fit', 'diis', 'diis_file', 'diis_space', 'diis_space_rollback', 'diis_start_cycle', 'dip_moment', 'direct_scf', 'direct_scf_tol', 'dump_chk', 'dump_flags', 'e_tot', 'eig', 'energy_elec', 'energy_nuc', 'energy_tot', 'from_chk', 'get_fock', 'get_grad', 'get_hcore', 'get_init_guess', 'get_j', 'get_jk', 'get_k', 'get_occ', 'get_ovlp', 'get_veff', 'hf_energy', 'init_direct_scf', 'init_guess', 'init_guess_by_1e', 'init_guess_by_atom', 'init_guess_by_chkfile', 'init_guess_by_minao', 'kernel', 'level_shift', 'level_shift_factor', 'make_rdm1', 'max_cycle', 'max_memory', 'mo_coeff', 'mo_energy', 'mo_occ', 'mol', 'mulliken_meta', 'mulliken_pop', 'mulliken_pop_meta_lowdin_ao', 'newton', 'nuc_grad_method', 'opt', 'pop', 'post_kernel', 'pre_kernel', 'run', 'scf', 'set', 'sfx2c1e', 'spin_square', 'stability', 'stdout', 'update', 'update_', 'update_from_chk', 'update_from_chk_', 'verbose', 'view', 'x2c', 'x2c1e']\n"
     ]
    }
   ],
   "source": [
    "print(dir(hf))"
   ]
  },
  {
   "cell_type": "code",
   "execution_count": 16,
   "metadata": {},
   "outputs": [
    {
     "name": "stdout",
     "output_type": "stream",
     "text": [
      "COC* = P : True\n",
      "J-K/2 = H2 : True\n",
      "J= sum_ij(g_ijklm P_lm )  True\n",
      "K= sum_ik(g_ijklm P_jm )  True\n",
      "F= H1 +H2 : True\n",
      "numero di elettroni: 13.999999999999996\n",
      "FC=SCE : True\n",
      "eig(S-1 F) -> C,E  np.linalg.eig(np.linalg.inv(S).dot(F))\n",
      "C*FC = E :  True\n"
     ]
    },
    {
     "data": {
      "text/plain": [
       "6.598497947169522"
      ]
     },
     "execution_count": 16,
     "metadata": {},
     "output_type": "execute_result"
    }
   ],
   "source": [
    "S=hf.get_ovlp()\n",
    "C=hf.mo_coeff\n",
    "O1=hf.mo_occ\n",
    "O=np.diag(O1)\n",
    "P=hf.make_rdm1()\n",
    "F=hf.get_fock()\n",
    "h1=hf.get_hcore()\n",
    "h2=hf.get_veff()\n",
    "J,K=hf.get_jk()\n",
    "g_ijkl=hf.mol.intor('int2e_sph')\n",
    "E=np.diag(hf.mo_energy)\n",
    "print('COC* = P :', np.allclose(P,C.dot(O.dot(C.T)))) \n",
    "print( \"J-K/2 = H2 :\",np.allclose(h2,J-K/2))\n",
    "print(\"J= sum_ij(g_ijklm P_lm ) \",np.allclose(J,np.einsum('ijkl,kl->ij',g_ijkl,P)))\n",
    "print(\"K= sum_ik(g_ijklm P_jm ) \",np.allclose(K,np.einsum('ijkl,jl->ik',g_ijkl,P)))\n",
    "\n",
    "print( \"F= H1 +H2 :\",np.allclose(F,h1+h2))\n",
    "print (\"numero di elettroni:\", S.dot(P).trace())  # numero di elettroni\n",
    "print(\"FC=SCE :\",np.allclose(np.dot(F,C),S.dot(C.dot(E))))\n",
    "print(\"eig(S-1 F) -> C,E \",\"np.linalg.eig(np.linalg.inv(S).dot(F))\" )\n",
    "print(\"C*FC = E : \",np.allclose(C.T.dot(F.dot(C))/100,E/100))\n"
   ]
  },
  {
   "cell_type": "markdown",
   "metadata": {},
   "source": [
    "$$ J - K/2 =H_2$$\n",
    "$$H_1+ H_2 = F $$"
   ]
  },
  {
   "cell_type": "markdown",
   "metadata": {},
   "source": [
    "$$ V_{ij}^{\\alpha} = \\sum_{kl} (ij|kl)(\\gamma_{lk}^\\alpha+\\gamma_{lk}^\\beta)- \\sum_{kl} (il|kj) \\gamma_{lk}^{\\alpha} \\\\    V_{ij}^{\\beta}  = \\sum_{kl} (ij|kl)(\\gamma_{lk}^{\\alpha}+\\gamma_{lk}^{\\beta})  - \\sum_{kl} (il|kj)\\gamma_{lk}^\\beta $$\n",
    "\n",
    "Now getting the energies\n",
    "\n",
    "$$  E = \\sum_{ij}h_{ij} \\gamma_{ji} + \\frac{1}{2}\\sum_{ijkl} \\gamma_{ji}\\gamma_{lk} \\langle ik||jl\\rangle $$\n"
   ]
  },
  {
   "cell_type": "code",
   "execution_count": 7,
   "metadata": {},
   "outputs": [],
   "source": [
    "e_tot=hf.e_tot \n",
    "e_nn=hf.energy_nuc() \n",
    "e_ne,e_ee=hf.energy_elec()\n",
    "e_ne-=e_ee"
   ]
  },
  {
   "cell_type": "code",
   "execution_count": 8,
   "metadata": {},
   "outputs": [
    {
     "name": "stdout",
     "output_type": "stream",
     "text": [
      "-111.20077661173107 -111.20077661173106\n",
      "-199.44865984435546 -199.44865984435552\n",
      "64.28514160605836 64.28514160605836\n"
     ]
    }
   ],
   "source": [
    "print(e_tot,e_nn+e_ee+e_ne)\n",
    "print(e_ne,np.trace(P.dot(h1)))\n",
    "print(e_ee,np.trace(P.dot(h2))/2)"
   ]
  },
  {
   "cell_type": "markdown",
   "metadata": {},
   "source": [
    "Now is to get the alchemical derivatives:\n",
    "$$ $$"
   ]
  },
  {
   "cell_type": "code",
   "execution_count": 58,
   "metadata": {},
   "outputs": [
    {
     "name": "stdout",
     "output_type": "stream",
     "text": [
      "converged SCF energy = -111.164393070353\n",
      "converged SCF energy = -111.237233395315\n"
     ]
    }
   ],
   "source": [
    "hf0=fc(hf,[.005,-.005])\n",
    "hf0.scf()\n",
    "C0=hf0.mo_coeff\n",
    "P0=hf0.make_rdm1()\n",
    "\n",
    "hf1=fc(hf,[-.005,.005])\n",
    "hf1.scf()\n",
    "C1=hf1.mo_coeff\n",
    "P1=hf1.make_rdm1()"
   ]
  },
  {
   "cell_type": "code",
   "execution_count": 59,
   "metadata": {},
   "outputs": [],
   "source": [
    "dC=(C1-C0)/.01\n",
    "U=np.dot(np.linalg.inv(C),dC)\n",
    "dP=(P1-P0)/.01"
   ]
  },
  {
   "cell_type": "code",
   "execution_count": 60,
   "metadata": {},
   "outputs": [
    {
     "name": "stdout",
     "output_type": "stream",
     "text": [
      "True\n",
      "True\n"
     ]
    }
   ],
   "source": [
    "print(np.allclose(dC,C.dot(U)))\n",
    "print(np.allclose(dC.T,U.T.dot(C.T)))"
   ]
  },
  {
   "cell_type": "code",
   "execution_count": 61,
   "metadata": {},
   "outputs": [
    {
     "name": "stdout",
     "output_type": "stream",
     "text": [
      "True\n",
      "True\n",
      "True\n",
      "True\n"
     ]
    }
   ],
   "source": [
    "print(np.allclose(P,C.dot(O.dot(C.T))))                        #P = COC*\n",
    "print(np.allclose(P0,C0.dot(O.dot(C0.T))))\n",
    "print(np.allclose(P1,C1.dot(O.dot(C1.T))))\n",
    "print(np.allclose(P1-P0,C1.dot(O.dot(C1.T))-C0.dot(O.dot(C0.T))))  # P1-P0 = C_1 O C_1* - C_0 O C_0*"
   ]
  },
  {
   "cell_type": "code",
   "execution_count": 62,
   "metadata": {},
   "outputs": [
    {
     "name": "stdout",
     "output_type": "stream",
     "text": [
      "True\n",
      "True\n",
      "True\n",
      "True\n",
      "65.39770815429746\n",
      "5.1304619658192314e-14\n"
     ]
    }
   ],
   "source": [
    "print(np.allclose(P1-P0,(C1-C0).dot(O.dot(C1.T))+C0.dot(O.dot((C1-C0).T)))) \n",
    "print(np.allclose(dP,dC.dot(O.dot(C1.T))+C0.dot(O.dot(dC.T))))\n",
    "print(np.allclose(dP,dC.dot(O.dot(C1.T))+C0.dot(O.dot(dC.T))))\n",
    "print(np.allclose(dP,dC.dot(O.dot(C1.T))+C0.dot(O.dot(dC.T))))\n",
    "print(np.linalg.norm(dP-dC.dot(O.dot(C.T))-C.dot(O.dot(dC.T))))\n",
    "print(np.linalg.norm(dP-dC.dot(O.dot(C1.T))-C0.dot(O.dot(dC.T))))"
   ]
  },
  {
   "cell_type": "code",
   "execution_count": 84,
   "metadata": {},
   "outputs": [
    {
     "data": {
      "text/plain": [
       "<matplotlib.image.AxesImage at 0x7f97d06d80b8>"
      ]
     },
     "execution_count": 84,
     "metadata": {},
     "output_type": "execute_result"
    },
    {
     "data": {
      "image/png": "[encoded data removed]",
      "text/plain": [
       "<Figure size 288x288 with 1 Axes>"
      ]
     },
     "metadata": {
      "needs_background": "light"
     },
     "output_type": "display_data"
    },
    {
     "data": {
      "image/png": "[encoded data removed]",
      "text/plain": [
       "<Figure size 288x288 with 1 Axes>"
      ]
     },
     "metadata": {
      "needs_background": "light"
     },
     "output_type": "display_data"
    },
    {
     "data": {
      "image/png": "[encoded data removed]",
      "text/plain": [
       "<Figure size 288x288 with 1 Axes>"
      ]
     },
     "metadata": {
      "needs_background": "light"
     },
     "output_type": "display_data"
    }
   ],
   "source": [
    "plt.matshow(C0)\n",
    "plt.matshow(C)\n",
    "plt.matshow(C1)\n",
    "#C1[[7,8]]=C1[[8,7]]"
   ]
  },
  {
   "cell_type": "code",
   "execution_count": 83,
   "metadata": {
    "scrolled": true
   },
   "outputs": [
    {
     "data": {
      "text/plain": [
       "<matplotlib.image.AxesImage at 0x7f97d07bf940>"
      ]
     },
     "execution_count": 83,
     "metadata": {},
     "output_type": "execute_result"
    },
    {
     "data": {
      "image/png": "[encoded data removed]",
      "text/plain": [
       "<Figure size 288x288 with 1 Axes>"
      ]
     },
     "metadata": {
      "needs_background": "light"
     },
     "output_type": "display_data"
    },
    {
     "data": {
      "image/png": "[encoded data removed]",
      "text/plain": [
       "<Figure size 288x288 with 1 Axes>"
      ]
     },
     "metadata": {
      "needs_background": "light"
     },
     "output_type": "display_data"
    },
    {
     "data": {
      "image/png": "[encoded data removed]",
      "text/plain": [
       "<Figure size 288x288 with 1 Axes>"
      ]
     },
     "metadata": {
      "needs_background": "light"
     },
     "output_type": "display_data"
    }
   ],
   "source": [
    "plt.matshow((C-C0))\n",
    "plt.matshow((C1-C))\n",
    "plt.matshow(((C-C1)+(C-C0))/2)\n",
    "\n",
    "\n",
    "#print(np.linalg.norm((C-C0)))\n",
    "#print(np.linalg.norm((C1-C)))\n",
    "#print(np.linalg.norm(((C-C1)+(C-C0))/2))\n",
    "#print(np.linalg.norm(C0-C1))\n",
    "#\n",
    "#print(np.linalg.norm(P-P0))\n",
    "#print(np.linalg.norm((P1+P0)/2-P))\n",
    "#print(np.linalg.norm(P-P1))"
   ]
  },
  {
   "cell_type": "code",
   "execution_count": 65,
   "metadata": {},
   "outputs": [
    {
     "data": {
      "text/plain": [
       "True"
      ]
     },
     "execution_count": 65,
     "metadata": {},
     "output_type": "execute_result"
    }
   ],
   "source": [
    "np.allclose(F.dot(C),S.dot(C.dot(E)))\n"
   ]
  },
  {
   "cell_type": "code",
   "execution_count": 66,
   "metadata": {},
   "outputs": [
    {
     "data": {
      "text/plain": [
       "array([[ 2.33005955e-02, -3.99581909e-02,  0.00000000e+00,\n",
       "         0.00000000e+00, -1.25603871e-02, -1.39882938e-04,\n",
       "         1.53493258e-02,  0.00000000e+00,  0.00000000e+00,\n",
       "        -7.18820276e-03],\n",
       "       [-3.99581909e-02,  3.74645374e-01,  0.00000000e+00,\n",
       "         0.00000000e+00,  1.61808032e-01, -6.33131950e-03,\n",
       "        -9.04017871e-02,  0.00000000e+00,  0.00000000e+00,\n",
       "        -1.77021741e-02],\n",
       "       [ 0.00000000e+00,  0.00000000e+00,  2.37797807e-01,\n",
       "         0.00000000e+00,  0.00000000e+00,  0.00000000e+00,\n",
       "         0.00000000e+00, -9.10168174e-03,  0.00000000e+00,\n",
       "         0.00000000e+00],\n",
       "       [ 0.00000000e+00,  0.00000000e+00,  0.00000000e+00,\n",
       "         2.37797807e-01,  0.00000000e+00,  0.00000000e+00,\n",
       "         0.00000000e+00,  0.00000000e+00, -9.10168174e-03,\n",
       "         0.00000000e+00],\n",
       "       [-1.25603871e-02,  1.61808032e-01, -0.00000000e+00,\n",
       "        -0.00000000e+00,  3.49257959e-01, -4.41058445e-03,\n",
       "        -1.33673746e-01, -0.00000000e+00, -0.00000000e+00,\n",
       "         2.00985341e-02],\n",
       "       [-1.39882938e-04, -6.33131950e-03, -0.00000000e+00,\n",
       "        -0.00000000e+00, -4.41058445e-03, -1.63441107e-02,\n",
       "         2.33575434e-02, -0.00000000e+00, -0.00000000e+00,\n",
       "        -4.99420367e-03],\n",
       "       [ 1.53493258e-02, -9.04017871e-02, -0.00000000e+00,\n",
       "        -0.00000000e+00, -1.33673746e-01,  2.33575434e-02,\n",
       "        -1.39950339e-01, -0.00000000e+00, -0.00000000e+00,\n",
       "         4.44636481e-02],\n",
       "       [-0.00000000e+00, -0.00000000e+00, -9.10168174e-03,\n",
       "        -0.00000000e+00, -0.00000000e+00, -0.00000000e+00,\n",
       "        -0.00000000e+00, -1.51199947e-01, -0.00000000e+00,\n",
       "        -0.00000000e+00],\n",
       "       [-0.00000000e+00, -0.00000000e+00, -0.00000000e+00,\n",
       "        -9.10168174e-03, -0.00000000e+00, -0.00000000e+00,\n",
       "        -0.00000000e+00, -0.00000000e+00, -1.51199947e-01,\n",
       "        -0.00000000e+00],\n",
       "       [-7.18820276e-03, -1.77021741e-02, -0.00000000e+00,\n",
       "        -0.00000000e+00,  2.00985341e-02, -4.99420367e-03,\n",
       "         4.44636481e-02, -0.00000000e+00, -0.00000000e+00,\n",
       "        -1.84185808e-01]])"
      ]
     },
     "execution_count": 66,
     "metadata": {},
     "output_type": "execute_result"
    }
   ],
   "source": [
    "#building B matrix\n",
    "B=(hf1.get_hcore()-hf0.get_hcore())/.001\n",
    "inv(B)"
   ]
  },
  {
   "cell_type": "code",
   "execution_count": 67,
   "metadata": {},
   "outputs": [],
   "source": [
    "#Building A matrix\n",
    "e=hf.mo_energy\n",
    "A= np.zeros((10,10,10,10), float)\n",
    "i,k = np.ogrid[:10,:10]\n",
    "A[i,:,i,:]=e[i]\n",
    "A[:,i,:,i]-=e[i]\n",
    "A+=4*g_ijkl\n",
    "for a in range(10):\n",
    "    for i in range(10):\n",
    "        for b in range(10):\n",
    "            for j in range(10):\n",
    "                A[a][i][b][j]-=g_ijkl[a][j][b][i]+g_ijkl[a][b][i][j]"
   ]
  },
  {
   "cell_type": "code",
   "execution_count": 120,
   "metadata": {},
   "outputs": [
    {
     "data": {
      "text/plain": [
       "<matplotlib.image.AxesImage at 0x7f97d04af668>"
      ]
     },
     "execution_count": 120,
     "metadata": {},
     "output_type": "execute_result"
    },
    {
     "data": {
      "image/png": "[encoded data removed]",
      "text/plain": [
       "<Figure size 288x288 with 1 Axes>"
      ]
     },
     "metadata": {
      "needs_background": "light"
     },
     "output_type": "display_data"
    },
    {
     "data": {
      "image/png": "[encoded data removed]",
      "text/plain": [
       "<Figure size 288x288 with 1 Axes>"
      ]
     },
     "metadata": {
      "needs_background": "light"
     },
     "output_type": "display_data"
    }
   ],
   "source": [
    "U_1=np.einsum('ij,ijkl->kl',inv(B),A)\n",
    "plt.matshow(B)\n",
    "plt.matshow(C.dot(inv(U_1)))"
   ]
  },
  {
   "cell_type": "code",
   "execution_count": 144,
   "metadata": {},
   "outputs": [
    {
     "data": {
      "text/plain": [
       "array([-20.45987506, -11.10165069,  -1.5202348 ,  -0.71062586,\n",
       "        -0.59778186,  -0.59778186,  -0.45123894,   0.34425119,\n",
       "         0.34425119,   1.16976554])"
      ]
     },
     "execution_count": 144,
     "metadata": {},
     "output_type": "execute_result"
    }
   ],
   "source": [
    "nC=C.copy()\n",
    "e"
   ]
  },
  {
   "cell_type": "code",
   "execution_count": 143,
   "metadata": {},
   "outputs": [
    {
     "name": "stdout",
     "output_type": "stream",
     "text": [
      "[-20.45987593 -20.45987436  -1.07999347   5.30000947 -20.45987404\n",
      " -20.45987461 -20.45987498 -19.78947014 -74.96503006 -20.45987307]\n",
      "[-11.10165088 -11.10164928  -6.61018095  16.54990279 -11.10164513\n",
      " -11.10165267 -11.10164626  -5.30474049  28.50243162 -11.1017092 ]\n",
      "[ -1.52023486  -1.52023479  -0.4638319  168.41375222  -1.52023452\n",
      "  -1.5202346   -1.52023465  -0.79254365  -0.61807808  -1.52023475]\n",
      "[-0.71062601 -0.71062615  2.74582011 -0.49899991 -0.71062666 -0.71062564\n",
      " -0.71062585 -0.65452792 -0.66927478 -0.71062551]\n",
      "[-0.8563031  -0.25975942 -0.59778194 -0.59778194 -0.2969178   3.56585028\n",
      " -0.56326108 -0.59778165 -0.59778165 -0.72355758]\n",
      "[-4.43617757e-01 -9.08955937e-01 -5.97781940e-01 -5.97781940e-01\n",
      " -2.79666438e-02 -7.37923316e+00  2.96334517e+01 -5.97781649e-01\n",
      " -5.97781649e-01 -6.74157423e+00]\n",
      "[-0.45123914 -0.45123911 -0.70506842 -1.21310372 -0.45123891 -0.45124032\n",
      " -0.4512527  -0.65844047 -0.48850079 -0.45123888]\n",
      "[ 0.80380858  0.73404156  0.34425115  0.34425115  1.49364765 -7.44990864\n",
      "  1.19297749  0.3442513   0.3442513   0.97453377]\n",
      "[  1.02557588   1.32640386   0.34425115   0.34425115   1.41129783\n",
      " -27.06913644   2.02320529   0.3442513    0.3442513    1.0935347 ]\n",
      "[ 1.16976517  1.16976552  0.27140637  0.33356469  1.16976559  1.16976544\n",
      "  1.16976553 -0.56080262  0.84736698  1.16976563]\n"
     ]
    }
   ],
   "source": [
    "nC=C.copy()\n",
    "#(nC[2],nC[3])=(nC[3],nC[2])\n",
    "#(nC[8],nC[7])=(nC[7],nC[8])\n",
    "\n",
    "for i in range(10):\n",
    "    print(inv(S).dot(F.dot(nC.T[i]))/nC.T[i])"
   ]
  },
  {
   "cell_type": "code",
   "execution_count": null,
   "metadata": {},
   "outputs": [],
   "source": []
  }
 ],
 "metadata": {
  "kernelspec": {
   "display_name": "Python 3",
   "language": "python",
   "name": "python3"
  },
  "language_info": {
   "codemirror_mode": {
    "name": "ipython",
    "version": 3
   },
   "file_extension": ".py",
   "mimetype": "text/x-python",
   "name": "python",
   "nbconvert_exporter": "python",
   "pygments_lexer": "ipython3",
   "version": "3.6.8"
  }
 },
 "nbformat": 4,
 "nbformat_minor": 2
}
