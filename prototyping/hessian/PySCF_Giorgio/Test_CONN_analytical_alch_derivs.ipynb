{
 "cells": [
  {
   "cell_type": "markdown",
   "metadata": {},
   "source": [
    "$$ \\frac{\\partial C}{\\partial Z}= CU , \\frac{\\partial E}{\\partial Z} =0, \\frac{\\partial S}{\\partial Z} =0$$\n",
    "$$FC=SCE $$\n",
    "$$\\frac{\\partial F}{\\partial Z}C + FCU =SCUE $$\n",
    "\n",
    "$$C^\\dagger \\frac{\\partial F}{\\partial Z_\\alpha} C =C^\\dagger SCUE - C^\\dagger FCU $$\n",
    "$$C^\\dagger \\frac{\\partial F}{\\partial Z_\\alpha} C = UE -EU $$"
   ]
  },
  {
   "cell_type": "markdown",
   "metadata": {},
   "source": [
    "AS a first approx. dF= dV\n",
    "$$ C^\\dagger \\frac{\\partial F}{\\partial Z_\\alpha} C =C^\\dagger \\frac{\\partial V_{ne}}{\\partial Z_\\alpha} C = UE - EU $$\n",
    "Can decompose:\n",
    "$$ \\left( UE - EU \\right)_{ij} = \\sum_k U_{ik}\\delta_{kj} \\epsilon_j - \\epsilon_i \\delta_{ik} U_{kj} = U_{ij}(\\epsilon_j - \\epsilon_i)$$\n",
    "then:\n",
    "$$ U_{ij} \\approx \\left ( C^\\dagger \\frac{\\partial V_{ne}}{\\partial Z_\\alpha} C \\right)_{ij} / (\\epsilon_j - \\epsilon_i) $$\n",
    "where $(\\epsilon_j - \\epsilon_i) \\ne 0 $"
   ]
  },
  {
   "cell_type": "markdown",
   "metadata": {},
   "source": [
    "For the derivatives of the density matrix, using the skew symmetry of the response matrix $U=-U^\\dagger$:\n",
    "$$ P=COC^\\dagger$$\n",
    "$$\\frac{\\partial P}{\\partial Z_\\alpha}=CUOC^\\dagger + COU^\\dagger C^\\dagger = C(UO-OU)C^\\dagger $$"
   ]
  },
  {
   "cell_type": "markdown",
   "metadata": {},
   "source": [
    "Then use this expression to solve iteratively:\n",
    "$$ C^\\dagger \\frac{\\partial F}{\\partial Z_\\alpha} C =C^\\dagger  \\frac{\\partial \\left( V_{ne}+ V_{ee}(P) \\right ) }{\\partial Z_\\alpha} C = UE - EU $$\n",
    "Where:\n",
    "$$ \\frac{\\partial V_{ee}}{\\partial Z_\\alpha} = \\sum_{kl}\\left( g_{ikjl} - g_{ijkl}/2 \\right ) \\left( \\frac{\\partial P}{\\partial Z_\\alpha} \\right ) _{kl} $$\n",
    "And if $E$ is diagonal:\n",
    "$$ \\left( UE -EU   \\right)_{ij}= \\sum_k\\left( U_{ik}E_{kj} -E_{ik}U_{kj} \\right)= U_{ij}\\left( \\epsilon_j -\\epsilon_i  \\right) $$"
   ]
  },
  {
   "cell_type": "markdown",
   "metadata": {},
   "source": [
    "$$ C^\\dagger  \\left(dV+ \\sum_{kl}(G_{ikjl} dP_{kl}) \\right)C = U_{ij}\\left( \\epsilon_j -\\epsilon_i  \\right) $$\n",
    "$$ dP= C(UO-OU)C^\\dagger $$"
   ]
  },
  {
   "cell_type": "code",
   "execution_count": 30,
   "metadata": {},
   "outputs": [],
   "source": [
    "from pyscf import gto, scf\n",
    "import scipy\n",
    "import inspect\n",
    "import pyscf.qmmm\n",
    "import pyscf.dft\n",
    "import numpy as np\n",
    "angstrom = 1 / 0.52917721067\n",
    "from matplotlib import pyplot as plt\n",
    "from functools import reduce\n",
    "from numpy.linalg import inv \n",
    "# ancora il modo migliore per mettere cariche frazionali sulle molecole, se vai a toccare mol.charges si incazza \n",
    "#  quando deve calcolare l' initial guess \n",
    "def fc(calc,deltaZ):\n",
    "    mf = pyscf.qmmm.mm_charge(calc, calc.mol.atom_coords(), deltaZ)  # now is add_mm_charge\n",
    "    class NoSelfQMMM(mf.__class__):\n",
    "        def energy_nuc(self):\n",
    "            q = self.mol.atom_charges().astype(np.float).copy()\n",
    "            q1 =q+ np.asarray(deltaZ) \n",
    "            return self.mol.energy_nuc(q1)\n",
    "    return(NoSelfQMMM(mf,mf.mm_mol))\n",
    "\n",
    "def DeltaV(mol,dL):\n",
    "    mol.set_rinv_orig_(mol.atom_coords()[0])\n",
    "    dV=mol.intor('int1e_rinv')*dL[0]\n",
    "    mol.set_rinv_orig_(mol.atom_coords()[1])\n",
    "    dV+=mol.intor('int1e_rinv')*dL[1]\n",
    "    return -dV"
   ]
  },
  {
   "cell_type": "code",
   "execution_count": 31,
   "metadata": {},
   "outputs": [
    {
     "name": "stdout",
     "output_type": "stream",
     "text": [
      "converged SCF energy = -112.781687962358\n"
     ]
    },
    {
     "name": "stderr",
     "output_type": "stream",
     "text": [
      "Warning: <pyscf.gto.mole.Mole object at 0x7fc377254cc0> must be initialized before calling SCF.\n",
      "Initialize <pyscf.gto.mole.Mole object at 0x7fc377254cc0> in <pyscf.scf.hf.RHF object at 0x7fc377254828>\n"
     ]
    },
    {
     "data": {
      "text/plain": [
       "-112.78168796235815"
      ]
     },
     "execution_count": 31,
     "metadata": {},
     "output_type": "execute_result"
    }
   ],
   "source": [
    "co=gto.Mole(atom=\"C 0 0 0 ;O 0 0 2.1\", basis= \"cc-pvtz\",unit=\"Bohr\",maxit=100)\n",
    "hfco=scf.RHF(co)\n",
    "hfco.scf()"
   ]
  },
  {
   "cell_type": "code",
   "execution_count": 32,
   "metadata": {},
   "outputs": [
    {
     "name": "stdout",
     "output_type": "stream",
     "text": [
      "converged SCF energy = -112.780928838413\n",
      "converged SCF energy = -112.782447152102\n",
      "True\n"
     ]
    }
   ],
   "source": [
    "dL=.0001\n",
    "hf1=fc(hfco,[dL,-dL])\n",
    "hf1.scf()\n",
    "hf2=fc(hfco,[-dL,dL])\n",
    "hf2.scf()\n",
    "dV=DeltaV(co,[dL,-dL])\n",
    "print(np.allclose(dV,hf1.get_hcore()-hfco.get_hcore()))"
   ]
  },
  {
   "cell_type": "code",
   "execution_count": 33,
   "metadata": {},
   "outputs": [],
   "source": [
    "C=hfco.mo_coeff\n",
    "S=hfco.get_ovlp()\n",
    "e=hfco.mo_energy\n",
    "E=np.diag(e)\n",
    "O=np.diag(hfco.mo_occ)\n",
    "C1=hf1.mo_coeff\n",
    "P=hfco.make_rdm1()\n",
    "P1=hf1.make_rdm1()\n",
    "P2=hf2.make_rdm1()\n",
    "dP=(P1-P2)/2\n",
    "dC=(abs(C1)*C/abs(C)-C)"
   ]
  },
  {
   "cell_type": "code",
   "execution_count": 34,
   "metadata": {},
   "outputs": [
    {
     "name": "stdout",
     "output_type": "stream",
     "text": [
      "J-K/2 = H2 : True\n"
     ]
    }
   ],
   "source": [
    "h2=hfco.get_veff()\n",
    "J,K=hfco.get_jk()\n",
    "g_ijkl=hfco.mol.intor('int2e_sph')\n",
    "print( \"J-K/2 = H2 :\",np.allclose(h2,J-K/2))"
   ]
  },
  {
   "cell_type": "code",
   "execution_count": 35,
   "metadata": {},
   "outputs": [
    {
     "name": "stdout",
     "output_type": "stream",
     "text": [
      "True\n",
      "True\n"
     ]
    }
   ],
   "source": [
    "print(np.allclose(np.einsum('ijkl,kl->ij',g_ijkl,P ),J))\n",
    "print(np.allclose(np.einsum('ijkl,jl->ik',g_ijkl,P ),K))"
   ]
  },
  {
   "cell_type": "code",
   "execution_count": 37,
   "metadata": {},
   "outputs": [
    {
     "name": "stdout",
     "output_type": "stream",
     "text": [
      "0.00043012683954990065\n",
      "0.0004529633788788574\n",
      "8.659044715774155e-05\n"
     ]
    }
   ],
   "source": [
    "g_h2=g_ijkl-np.swapaxes(g_ijkl,1,2)/2\n",
    "U_app=C.T.dot(dV.dot(C))  # approximate value of U\n",
    "for i in range(co.nao):\n",
    "    for j in range(co.nao):\n",
    "        if e[i]!=e[j]:\n",
    "            U_app[i][j]/=(e[j]-e[i])\n",
    "dP_app=C.dot(U_app.dot(O)-O.dot(U_app)).dot(C.T)\n",
    "#plt.matshow(dP_app)\n",
    "#plt.matshow(dP)\n",
    "print(np.linalg.norm(dP))\n",
    "print(np.linalg.norm(dP_app))\n",
    "print(np.linalg.norm(dP_app-dP))"
   ]
  },
  {
   "cell_type": "code",
   "execution_count": 38,
   "metadata": {},
   "outputs": [
    {
     "data": {
      "text/plain": [
       "True"
      ]
     },
     "execution_count": 38,
     "metadata": {},
     "output_type": "execute_result"
    }
   ],
   "source": [
    "TM= (U_app.dot(O)-O.dot(U_app))\n",
    "np.allclose(TM,TM.T)"
   ]
  },
  {
   "cell_type": "code",
   "execution_count": 39,
   "metadata": {},
   "outputs": [
    {
     "name": "stdout",
     "output_type": "stream",
     "text": [
      "0.00043012683954990065\n",
      "0.0004175379613419781\n",
      "7.781482627594087e-05\n",
      "0.00043012683954990065\n",
      "0.0004498679968210256\n",
      "6.403909537850035e-05\n",
      "0.00043012683954990065\n",
      "0.00042000838895050633\n",
      "5.5603984570911964e-05\n",
      "0.00043012683954990065\n",
      "0.0004439638376225452\n",
      "4.724259398921266e-05\n",
      "0.00043012683954990065\n",
      "0.00042209886797917246\n",
      "4.0515193443143754e-05\n",
      "0.00043012683954990065\n",
      "0.0004398258778013983\n",
      "3.461776798246304e-05\n",
      "0.00043012683954990065\n",
      "0.0004238971508317851\n",
      "2.9623035101523726e-05\n",
      "0.00043012683954990065\n",
      "0.0004369786063358097\n",
      "2.5333975250271378e-05\n",
      "0.00043012683954990065\n",
      "0.00042537651169577466\n",
      "2.1671089492521405e-05\n",
      "0.00043012683954990065\n",
      "0.00043500601978396357\n",
      "1.8535982420168116e-05\n"
     ]
    }
   ],
   "source": [
    "g_h2=g_ijkl-np.swapaxes(g_ijkl,1,2)/2\n",
    "for i in range(10):\n",
    "    U_app=C.T.dot((dV+np.einsum('ijkl,kl->ij',g_h2,dP_app)).dot(C)) # approximate value of U\n",
    "    for i in range(co.nao):\n",
    "        for j in range(co.nao):\n",
    "            if e[i]!=e[j]:\n",
    "                U_app[i][j]/=(e[j]-e[i])\n",
    "    dP_app=C.dot(U_app.dot(O)-O.dot(U_app)).dot(C.T)\n",
    "    #plt.matshow(dP_app)\n",
    "    #plt.matshow(dP)\n",
    "    print(np.linalg.norm(dP))\n",
    "    print(np.linalg.norm(dP_app))\n",
    "    print(np.linalg.norm(dP_app-dP))"
   ]
  },
  {
   "cell_type": "code",
   "execution_count": 40,
   "metadata": {},
   "outputs": [
    {
     "name": "stdout",
     "output_type": "stream",
     "text": [
      "converged SCF energy = -108.474476524995\n",
      "true target energy:  -108.4744765249953\n",
      "CO energy =  -112.78168796235815\n",
      "APDFT1 energy = -105.66630780294982\n",
      "APDFT2 energy = -108.48008206006587\n",
      "APDFT2 energy approx.= -108.71895486294765\n"
     ]
    }
   ],
   "source": [
    "dEnn=(49-48)/2.1\n",
    "print(\"true target energy: \",fc(hfco,[1,-1]).scf())\n",
    "print(\"CO energy = \",hfco.e_tot)\n",
    "print(\"APDFT1 energy =\", hfco.e_tot+dEnn+np.trace(P.dot(dV/dL)))\n",
    "print(\"APDFT2 energy =\", hfco.e_tot+dEnn+np.trace((P+0.5*dP/dL).dot(dV/dL)))\n",
    "print(\"APDFT2 energy approx.=\", hfco.e_tot+dEnn+np.trace((P+0.5*dP_app/dL).dot(dV/dL)))"
   ]
  },
  {
   "cell_type": "code",
   "execution_count": 41,
   "metadata": {},
   "outputs": [
    {
     "data": {
      "text/plain": [
       "14.000000000000007"
      ]
     },
     "execution_count": 41,
     "metadata": {},
     "output_type": "execute_result"
    }
   ],
   "source": [
    "np.trace((P+dP_app).dot(S))"
   ]
  },
  {
   "cell_type": "markdown",
   "metadata": {},
   "source": [
    "#### Comments\n",
    "It works pretty well for minimal basis set, good results were obtained with few iterations. <br>\n",
    "For larger basis set an acceptable convergence can be obtained only after 20-30 iterations <br>\n",
    "dL affects the results for dP calculated numerically, but not analytically, thus is to be chosen a small dL ($10^{-3} / 10^{-4} $) in order to compare dP_approximated with a proper numerical dP.\n"
   ]
  },
  {
   "cell_type": "code",
   "execution_count": 47,
   "metadata": {},
   "outputs": [
    {
     "name": "stdout",
     "output_type": "stream",
     "text": [
      "converged SCF energy = -110.646619026948\n"
     ]
    },
    {
     "data": {
      "text/plain": [
       "-110.64661902694783"
      ]
     },
     "execution_count": 47,
     "metadata": {},
     "output_type": "execute_result"
    }
   ],
   "source": [
    "fc(hfco,[2,-2]).scf()"
   ]
  },
  {
   "cell_type": "code",
   "execution_count": 46,
   "metadata": {},
   "outputs": [
    {
     "name": "stdout",
     "output_type": "stream",
     "text": [
      "converged SCF energy = -140.922830206771\n",
      "converged SCF energy = -131.509976945528\n",
      "converged SCF energy = -123.651304401655\n",
      "converged SCF energy = -117.399142874555\n",
      "converged SCF energy = -112.781687962358\n",
      "converged SCF energy = -109.808160125786\n",
      "converged SCF energy = -108.474476524995\n",
      "converged SCF energy = -108.764544050183\n",
      "converged SCF energy = -110.646619026948\n",
      "converged SCF energy = -114.068327856904\n",
      "converged SCF energy = -118.955890001861\n"
     ]
    },
    {
     "data": {
      "text/plain": [
       "[<matplotlib.lines.Line2D at 0x7fc3755650f0>]"
      ]
     },
     "execution_count": 46,
     "metadata": {},
     "output_type": "execute_result"
    },
    {
     "data": {
      "image/png": "[encoded data removed]",
      "text/plain": [
       "<Figure size 432x288 with 1 Axes>"
      ]
     },
     "metadata": {
      "needs_background": "light"
     },
     "output_type": "display_data"
    }
   ],
   "source": [
    "xp=np.linspace(-2,3,11)\n",
    "yp=[]\n",
    "for dl in xp:\n",
    "    yp.append(fc(hfco,[dl,-dl]).kernel())\n",
    "plt.plot(xp,yp)"
   ]
  },
  {
   "cell_type": "code",
   "execution_count": null,
   "metadata": {},
   "outputs": [],
   "source": []
  }
 ],
 "metadata": {
  "kernelspec": {
   "display_name": "Python 3",
   "language": "python",
   "name": "python3"
  },
  "language_info": {
   "codemirror_mode": {
    "name": "ipython",
    "version": 3
   },
   "file_extension": ".py",
   "mimetype": "text/x-python",
   "name": "python",
   "nbconvert_exporter": "python",
   "pygments_lexer": "ipython3",
   "version": "3.7.6"
  }
 },
 "nbformat": 4,
 "nbformat_minor": 4
}
