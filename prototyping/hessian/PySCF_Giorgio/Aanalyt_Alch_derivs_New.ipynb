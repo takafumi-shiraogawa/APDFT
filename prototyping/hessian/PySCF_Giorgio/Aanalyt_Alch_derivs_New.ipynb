{
 "cells": [
  {
   "cell_type": "code",
   "execution_count": 1,
   "metadata": {},
   "outputs": [],
   "source": [
    "from pyscf import gto, scf\n",
    "import scipy\n",
    "import inspect\n",
    "import pyscf.qmmm\n",
    "import pyscf.dft\n",
    "import numpy as np\n",
    "angstrom = 1 / 0.52917721067\n",
    "from matplotlib import pyplot as plt\n",
    "from functools import reduce\n",
    "from numpy.linalg import inv \n",
    "# ancora il modo migliore per mettere cariche frazionali sulle molecole, se vai a toccare mol.charges si incazza \n",
    "#  quando deve calcolare l' initial guess \n",
    "def fc(calc,deltaZ):\n",
    "    mf = pyscf.qmmm.mm_charge(calc, calc.mol.atom_coords()/angstrom, deltaZ)  # now is add_mm_charge\n",
    "    class NoSelfQMMM(mf.__class__):\n",
    "        def energy_nuc(self):\n",
    "            q = self.mol.atom_charges().astype(np.float).copy()\n",
    "            q1 =q+ np.asarray(deltaZ) \n",
    "            return self.mol.energy_nuc(q1)\n",
    "    return(NoSelfQMMM(mf,mf.mm_mol))\n",
    "\n",
    "def DeltaV(mol,dL):\n",
    "    mol.set_rinv_orig_(mol.atom_coords()[0])\n",
    "    dV=mol.intor('int1e_rinv')*dL[0]\n",
    "    mol.set_rinv_orig_(mol.atom_coords()[1]/angstrom)\n",
    "    dV+=mol.intor('int1e_rinv')*dL[1]\n",
    "    return dV"
   ]
  },
  {
   "cell_type": "code",
   "execution_count": 2,
   "metadata": {},
   "outputs": [
    {
     "name": "stderr",
     "output_type": "stream",
     "text": [
      "Warning: <pyscf.gto.mole.Mole object at 0x7f39e05e2a90> must be initialized before calling SCF.\n",
      "Initialize <pyscf.gto.mole.Mole object at 0x7f39e05e2a90> in <pyscf.scf.hf.RHF object at 0x7f39e05e2cd0>\n"
     ]
    },
    {
     "name": "stdout",
     "output_type": "stream",
     "text": [
      "converged SCF energy = -1.11439653848583\n"
     ]
    },
    {
     "data": {
      "text/plain": [
       "'\\na=.005\\nmf = pyscf.qmmm.mm_charge(hf, hf.mol.atom_coords()/angstrom, [-a,a])\\nclass NoSelfQMMM(mf.__class__):\\n    def energy_nuc(self):\\n        q = self.mol.atom_charges().astype(np.float)\\n        q1 =q+ np.asarray([-a,a]) \\n        return self.mol.energy_nuc(q1)\\nNoSelfQMMM(mf,mf.mm_mol()).scf()'"
      ]
     },
     "execution_count": 2,
     "metadata": {},
     "output_type": "execute_result"
    }
   ],
   "source": [
    "molhh=gto.Mole(atom=\"H 0 0 0 ; H 0 0 .66\",basis=\"sto-3G\")\n",
    "hf=scf.RHF(molhh)\n",
    "hf.scf()\n",
    "\"\"\"\n",
    "a=.005\n",
    "mf = pyscf.qmmm.mm_charge(hf, hf.mol.atom_coords()/angstrom, [-a,a])\n",
    "class NoSelfQMMM(mf.__class__):\n",
    "    def energy_nuc(self):\n",
    "        q = self.mol.atom_charges().astype(np.float)\n",
    "        q1 =q+ np.asarray([-a,a]) \n",
    "        return self.mol.energy_nuc(q1)\n",
    "NoSelfQMMM(mf,mf.mm_mol()).scf()\"\"\""
   ]
  },
  {
   "cell_type": "code",
   "execution_count": 3,
   "metadata": {},
   "outputs": [
    {
     "name": "stderr",
     "output_type": "stream",
     "text": [
      "Warning: <pyscf.gto.mole.Mole object at 0x7f39e05f08d0> must be initialized before calling SCF.\n",
      "Initialize <pyscf.gto.mole.Mole object at 0x7f39e05f08d0> in <pyscf.scf.hf.RHF object at 0x7f39b336ae10>\n"
     ]
    },
    {
     "name": "stdout",
     "output_type": "stream",
     "text": [
      "converged SCF energy = -2.80778395753998\n"
     ]
    },
    {
     "data": {
      "text/plain": [
       "-2.807783957539976"
      ]
     },
     "execution_count": 3,
     "metadata": {},
     "output_type": "execute_result"
    }
   ],
   "source": [
    "scf.RHF(gto.Mole(atom=\"He 0 0 0\",basis=\"sto-3g\")).scf()"
   ]
  },
  {
   "cell_type": "code",
   "execution_count": 4,
   "metadata": {},
   "outputs": [
    {
     "name": "stdout",
     "output_type": "stream",
     "text": [
      "converged SCF energy = -2.63149932807124\n",
      "converged SCF energy = -2.11690580173753\n",
      "converged SCF energy = -1.6951557154718\n",
      "converged SCF energy = -1.37878758687923\n",
      "converged SCF energy = -1.18154401517\n",
      "converged SCF energy = -1.11439653848583\n",
      "converged SCF energy = -1.1815440150563\n",
      "converged SCF energy = -1.37878758666557\n",
      "converged SCF energy = -1.69515571517901\n",
      "converged SCF energy = -2.11690580138533\n",
      "converged SCF energy = -2.63149932767394\n"
     ]
    },
    {
     "data": {
      "text/plain": [
       "[<matplotlib.lines.Line2D at 0x7f39b1139750>]"
      ]
     },
     "execution_count": 4,
     "metadata": {},
     "output_type": "execute_result"
    },
    {
     "data": {
      "image/png": "[encoded data removed]",
      "text/plain": [
       "<Figure size 432x288 with 1 Axes>"
      ]
     },
     "metadata": {
      "needs_background": "light"
     },
     "output_type": "display_data"
    }
   ],
   "source": [
    "plt.plot(np.linspace(-1,1,11),[fc(hf,[a,-a]).scf() for a in np.linspace(-1,1,11)])"
   ]
  },
  {
   "cell_type": "code",
   "execution_count": 5,
   "metadata": {},
   "outputs": [
    {
     "name": "stdout",
     "output_type": "stream",
     "text": [
      "COC* = P : True\n",
      "J-K/2 = H2 : True\n",
      "J= sum_ij(g_ijkl P_kl )  True\n",
      "K= sum_ik(g_ijkl P_jl )  True\n",
      "F= H1 +H2 : True\n",
      "numero di elettroni: 2.0\n",
      "FC=SCE : True\n",
      "eig(S-1 F) -> C,E  (array([-0.61308703,  0.76077336]), array([[-0.70710678,  0.70710678],\n",
      "       [-0.70710678, -0.70710678]])) [[ 0.54037238 -1.31833743]\n",
      " [ 0.54037238  1.31833743]] [-0.61308703  0.76077336]\n",
      "C*FC = E :  True\n"
     ]
    }
   ],
   "source": [
    "S=hf.get_ovlp()\n",
    "C=hf.mo_coeff\n",
    "O1=hf.mo_occ\n",
    "O=np.diag(O1)\n",
    "P=hf.make_rdm1()\n",
    "F=hf.get_fock()\n",
    "h1=hf.get_hcore()\n",
    "h2=hf.get_veff()\n",
    "J,K=hf.get_jk()\n",
    "g_ijkl=hf.mol.intor('int2e_sph')\n",
    "E=np.diag(hf.mo_energy)\n",
    "print('COC* = P :', np.allclose(P,C.dot(O.dot(C.T)))) \n",
    "print( \"J-K/2 = H2 :\",np.allclose(h2,J-K/2))\n",
    "print(\"J= sum_ij(g_ijkl P_kl ) \",np.allclose(J,np.einsum('ijkl,kl->ij',g_ijkl,P)))\n",
    "print(\"K= sum_ik(g_ijkl P_jl ) \",np.allclose(K,np.einsum('ijkl,jl->ik',g_ijkl,P)))\n",
    "\n",
    "print( \"F= H1 +H2 :\",np.allclose(F,h1+h2))\n",
    "print (\"numero di elettroni:\", S.dot(P).trace())  # numero di elettroni\n",
    "print(\"FC=SCE :\",np.allclose(np.dot(F,C),S.dot(C.dot(E))))\n",
    "print(\"eig(S-1 F) -> C,E \",np.linalg.eig(np.linalg.inv(S).dot(F)),C,np.diag(E))\n",
    "print(\"C*FC = E : \",np.allclose(C.T.dot(F.dot(C))/100,E/100))"
   ]
  },
  {
   "cell_type": "markdown",
   "metadata": {},
   "source": [
    "$$ J - K/2 =H_2$$\n",
    "$$H_1+ H_2 = F $$"
   ]
  },
  {
   "cell_type": "markdown",
   "metadata": {},
   "source": [
    "$$ V_{ij}^{\\alpha} = \\sum_{kl} (ij|kl)(\\gamma_{lk}^\\alpha+\\gamma_{lk}^\\beta)- \\sum_{kl} (il|kj) \\gamma_{lk}^{\\alpha} \\\\    V_{ij}^{\\beta}  = \\sum_{kl} (ij|kl)(\\gamma_{lk}^{\\alpha}+\\gamma_{lk}^{\\beta})  - \\sum_{kl} (il|kj)\\gamma_{lk}^\\beta $$\n",
    "\n",
    "Now getting the energies\n",
    "\n",
    "$$  E = \\sum_{ij}h_{ij} \\gamma_{ji} + \\frac{1}{2}\\sum_{ijkl} \\gamma_{ji}\\gamma_{lk} \\langle ik||jl\\rangle $$\n"
   ]
  },
  {
   "cell_type": "code",
   "execution_count": 6,
   "metadata": {},
   "outputs": [],
   "source": [
    "e_tot=hf.e_tot \n",
    "e_nn=hf.energy_nuc() \n",
    "e_ne,e_ee=hf.energy_elec()\n",
    "e_ne-=e_ee"
   ]
  },
  {
   "cell_type": "code",
   "execution_count": 7,
   "metadata": {},
   "outputs": [
    {
     "name": "stdout",
     "output_type": "stream",
     "text": [
      "-1.114396538485826 -1.114396538485826\n",
      "-2.6061863152003397 -2.6061863152003397\n",
      "0.6900061238054227 0.6900061238054227\n"
     ]
    }
   ],
   "source": [
    "print(e_tot,e_nn+e_ee+e_ne)\n",
    "print(e_ne,np.trace(P.dot(h1)))\n",
    "print(e_ee,np.trace(P.dot(h2))/2)"
   ]
  },
  {
   "cell_type": "markdown",
   "metadata": {},
   "source": [
    "Now is to get the alchemical derivatives:\n",
    "$$ $$"
   ]
  },
  {
   "cell_type": "code",
   "execution_count": 8,
   "metadata": {},
   "outputs": [
    {
     "name": "stdout",
     "output_type": "stream",
     "text": [
      "converged SCF energy = -1.11443873633341\n",
      "converged SCF energy = -1.11443873633631\n"
     ]
    }
   ],
   "source": [
    "hf0=fc(hf,[.005,-.005])\n",
    "hf0.scf()\n",
    "C0=hf0.mo_coeff\n",
    "P0=hf0.make_rdm1()\n",
    "\n",
    "hf1=fc(hf,[-.005,.005])\n",
    "hf1.scf()\n",
    "C1=hf1.mo_coeff\n",
    "P1=hf1.make_rdm1()\n",
    "dV=hf1.get_hcore()-hf.get_hcore()"
   ]
  },
  {
   "cell_type": "code",
   "execution_count": 9,
   "metadata": {},
   "outputs": [
    {
     "data": {
      "text/plain": [
       "array([[-0.00396422, -0.00161794],\n",
       "       [ 0.00395934, -0.00162984]])"
      ]
     },
     "execution_count": 9,
     "metadata": {},
     "output_type": "execute_result"
    }
   ],
   "source": [
    "dC=(abs(C1)*C/abs(C)-C)  # avoid change sign\n",
    "dP=(P1-P)\n",
    "dF=(hf1.get_fock()-F)\n",
    "dC"
   ]
  },
  {
   "cell_type": "code",
   "execution_count": 10,
   "metadata": {},
   "outputs": [
    {
     "name": "stdout",
     "output_type": "stream",
     "text": [
      "[[ 0.54433171 -1.31670758]\n",
      " [ 0.53640816  1.31995537]]\n",
      "[[ 0.54037238 -1.31833743]\n",
      " [ 0.54037238  1.31833743]]\n",
      "[[ 0.53640816 -1.31995537]\n",
      " [ 0.54433171  1.31670758]]\n"
     ]
    }
   ],
   "source": [
    "print(C0)\n",
    "print(C)\n",
    "print(abs(C1)*C/abs(C))"
   ]
  },
  {
   "cell_type": "code",
   "execution_count": 11,
   "metadata": {},
   "outputs": [
    {
     "name": "stdout",
     "output_type": "stream",
     "text": [
      "[[0.59259403 0.58396794]\n",
      " [0.58396794 0.57546742]]\n",
      "[[0.58400461 0.58400461]\n",
      " [0.58400461 0.58400461]]\n",
      "[[0.57546742 0.58396794]\n",
      " [0.58396794 0.59259403]]\n"
     ]
    }
   ],
   "source": [
    "print(P0)\n",
    "print(P)\n",
    "print(P1)"
   ]
  },
  {
   "cell_type": "code",
   "execution_count": 12,
   "metadata": {},
   "outputs": [],
   "source": [
    "J1,K1=hf1.get_jk()"
   ]
  },
  {
   "cell_type": "code",
   "execution_count": 13,
   "metadata": {},
   "outputs": [
    {
     "data": {
      "text/plain": [
       "(array([[-8.53718548e-03, -3.66654087e-05],\n",
       "        [-3.66654087e-05,  8.58942014e-03]]),\n",
       " array([[-8.55290051e-03, -2.09697300e-05],\n",
       "        [-2.09697300e-05,  8.57374379e-03]]))"
      ]
     },
     "execution_count": 13,
     "metadata": {},
     "output_type": "execute_result"
    }
   ],
   "source": [
    "dP,dC.dot(O.dot(C.T))+C.dot(O.dot(dC.T))+0.5*dC.dot(O.dot(dC.T)) #last term is 2nd order will neglet"
   ]
  },
  {
   "cell_type": "code",
   "execution_count": 14,
   "metadata": {},
   "outputs": [
    {
     "name": "stdout",
     "output_type": "stream",
     "text": [
      "[[ 2.90091574e-03  4.38569015e-06]\n",
      " [ 4.38569015e-06 -2.89456664e-03]]\n",
      "[[ 2.90091574e-03  4.38569015e-06]\n",
      " [ 4.38569015e-06 -2.89456664e-03]]\n",
      "------------------------------------\n",
      "[[ 2.90091574e-03  4.38569015e-06]\n",
      " [ 4.38569015e-06 -2.89456664e-03]]\n",
      "[[ 2.89087616e-03 -3.80357809e-06]\n",
      " [-3.80357809e-06 -2.90460902e-03]]\n"
     ]
    },
    {
     "data": {
      "text/plain": [
       "(None, None)"
      ]
     },
     "execution_count": 14,
     "metadata": {},
     "output_type": "execute_result"
    }
   ],
   "source": [
    "#dF=dV+dC*h2\n",
    "print(dF),print(dV+(np.einsum('ijkl,kl->ij',g_ijkl,dP))\\\n",
    "                                  -0.5*np.einsum('ijkl,jl->ik',g_ijkl,dP))\n",
    "print(\"------------------------------------\")\n",
    "print(hf1.get_fock()-F),print(dV+(np.einsum('ijkl,kl->ij',g_ijkl,(dC.dot(O.dot(C.T))+C.dot(O.dot(dC.T))))\\\n",
    "                                  -0.5*np.einsum('ijkl,jl->ik',g_ijkl,(dC.dot(O.dot(C.T))+C.dot(O.dot(dC.T))))))\n"
   ]
  },
  {
   "cell_type": "code",
   "execution_count": 15,
   "metadata": {},
   "outputs": [
    {
     "data": {
      "text/plain": [
       "(array([[ 0.00070542, -0.00211254],\n",
       "        [-0.00069213, -0.00211834]]),\n",
       " array([[ 0.00070132, -0.00211411],\n",
       "        [-0.0006962 , -0.00211672]]))"
      ]
     },
     "execution_count": 15,
     "metadata": {},
     "output_type": "execute_result"
    }
   ],
   "source": [
    "#dF*C+F*dC=SdCE\n",
    "dF.dot(C)+F.dot(dC),S.dot(dC.dot(E))"
   ]
  },
  {
   "cell_type": "code",
   "execution_count": 16,
   "metadata": {},
   "outputs": [
    {
     "data": {
      "text/plain": [
       "(array([[-0.00396422, -0.00161794],\n",
       "        [ 0.00395934, -0.00162984]]),\n",
       " array([[-0.00396422, -0.00161794],\n",
       "        [ 0.00395934, -0.00162984]]))"
      ]
     },
     "execution_count": 16,
     "metadata": {},
     "output_type": "execute_result"
    }
   ],
   "source": [
    "U=np.linalg.inv(C).dot(dC)\n",
    "C.dot(U),dC"
   ]
  },
  {
   "cell_type": "code",
   "execution_count": 17,
   "metadata": {},
   "outputs": [
    {
     "data": {
      "text/plain": [
       "(array([[ 4.41521656e-06, -4.12866182e-03],\n",
       "        [-4.12866182e-03, -4.20994734e-06]]),\n",
       " array([[ 0.        , -0.00412863],\n",
       "        [-0.00412863,  0.        ]]))"
      ]
     },
     "execution_count": 17,
     "metadata": {},
     "output_type": "execute_result"
    }
   ],
   "source": [
    "C.T.dot(dF.dot(C)),U.dot(E)-E.dot(U)"
   ]
  },
  {
   "cell_type": "code",
   "execution_count": 18,
   "metadata": {},
   "outputs": [
    {
     "data": {
      "text/plain": [
       "array([[-7.26633597e-13, -3.68589661e-03],\n",
       "       [-3.68589661e-03,  4.11000227e-13]])"
      ]
     },
     "execution_count": 18,
     "metadata": {},
     "output_type": "execute_result"
    }
   ],
   "source": [
    "C.T.dot(dV.dot(C))"
   ]
  },
  {
   "cell_type": "code",
   "execution_count": 19,
   "metadata": {},
   "outputs": [
    {
     "name": "stdout",
     "output_type": "stream",
     "text": [
      "[[ 2.90091574e-03  4.38569015e-06]\n",
      " [ 4.38569015e-06 -2.89456664e-03]] [[ 2.58698215e-03 -6.81232848e-13]\n",
      " [-6.81232848e-13 -2.58698215e-03]]\n"
     ]
    }
   ],
   "source": [
    "print (dF,dV)"
   ]
  },
  {
   "cell_type": "code",
   "execution_count": 20,
   "metadata": {},
   "outputs": [
    {
     "data": {
      "text/plain": [
       "array([[ 3.03894013e-04, -3.80357741e-06],\n",
       "       [-3.80357741e-06, -3.17626874e-04]])"
      ]
     },
     "execution_count": 20,
     "metadata": {},
     "output_type": "execute_result"
    }
   ],
   "source": [
    "(np.einsum('ijkl,kl->ij',g_ijkl,(dC.dot(O.dot(C.T))+C.dot(O.dot(dC.T))))\\\n",
    "                                  -0.5*np.einsum('ijkl,jl->ik',g_ijkl,(dC.dot(O.dot(C.T))+C.dot(O.dot(dC.T)))))"
   ]
  },
  {
   "cell_type": "code",
   "execution_count": 21,
   "metadata": {},
   "outputs": [
    {
     "data": {
      "text/plain": [
       "array([[[[ 6.90006124e-01,  5.55111512e-17],\n",
       "         [ 0.00000000e+00,  6.77879609e-01]],\n",
       "\n",
       "        [[ 1.11022302e-16,  1.76847528e-01],\n",
       "         [ 1.76847528e-01,  0.00000000e+00]]],\n",
       "\n",
       "\n",
       "       [[[ 0.00000000e+00,  1.76847528e-01],\n",
       "         [ 1.76847528e-01, -2.22044605e-16]],\n",
       "\n",
       "        [[ 6.77879609e-01,  1.11022302e-16],\n",
       "         [ 3.33066907e-16,  7.12736018e-01]]]])"
      ]
     },
     "execution_count": 21,
     "metadata": {},
     "output_type": "execute_result"
    }
   ],
   "source": [
    "G_mo=np.zeros(g_ijkl.shape)\n",
    "for a in range(2):\n",
    "    for b in range(2):\n",
    "        for c in range(2):\n",
    "            for d in range(2):\n",
    "                for i in range(2):\n",
    "                    for j in range(2):\n",
    "                        for k in range(2):\n",
    "                            for l in range(2):\n",
    "                                G_mo[a][b][c][d]+= C[i][a]*C[j][b]*C[k][c]*C[l][d]*g_ijkl[i][j][k][l]\n",
    "G_mo"
   ]
  },
  {
   "cell_type": "code",
   "execution_count": 22,
   "metadata": {},
   "outputs": [
    {
     "data": {
      "text/plain": [
       "(array([[-2.19024700e-07,  2.12579104e-03],\n",
       "        [ 2.12579104e-03,  6.29563776e-07]]),\n",
       " array([[-6.17657763e-06, -4.87941109e-18],\n",
       "        [-4.66206934e-18, -6.27921263e-06]]))"
      ]
     },
     "execution_count": 22,
     "metadata": {},
     "output_type": "execute_result"
    }
   ],
   "source": [
    "C.T.dot(np.einsum('ijkl,kl->ij',g_ijkl,dP).dot(C)),\\\n",
    "np.einsum('ijkl,kl->ij',G_mo,U)"
   ]
  },
  {
   "cell_type": "markdown",
   "metadata": {},
   "source": [
    "\n",
    "# Density matrix purification\n",
    "\n",
    "$$ P+\\Delta P = (P+\\Delta P)S_N(P+\\Delta P)/2$$\n",
    "At the first order in $\\Delta P$\n",
    "$$(P-PS_NP)/2 + \\Delta P = PS_N \\Delta P$$\n",
    "$$ \\Delta P = (1-PS_N)^{-1} (PS_NP-P) /2 $$ \n",
    "<br>oppure :\n",
    "$$ \\Delta P = (PS_N \\Delta P + \\Delta PS_NP )/2 $$\n",
    "se $P=P^\\dagger$\n",
    "$$ \\Delta P =\\Delta PS_NP$$\n",
    "$$ \\Delta P = \\alpha (S_NP-1)^{-1} $$\n",
    "and from \n",
    "$$ tr(PS)=N_e$$\n",
    "$$ tr(\\Delta P S )=0 $$\n",
    "$$P_{purified} = 3P^2 -2P^3 $$\n"
   ]
  },
  {
   "cell_type": "code",
   "execution_count": 28,
   "metadata": {},
   "outputs": [
    {
     "name": "stdout",
     "output_type": "stream",
     "text": [
      "[[-8.53718548e-03 -3.66654087e-05]\n",
      " [-3.66654087e-05  8.58942014e-03]]\n",
      "-1.700029006457271e-16\n"
     ]
    }
   ],
   "source": [
    "print(dP)\n",
    "print((S.dot(dP).trace()))"
   ]
  },
  {
   "cell_type": "code",
   "execution_count": 29,
   "metadata": {},
   "outputs": [
    {
     "data": {
      "text/plain": [
       "(array([[0.58400461, 0.58400461],\n",
       "        [0.58400461, 0.58400461]]),\n",
       " array([[0.58400461, 0.58400461],\n",
       "        [0.58400461, 0.58400461]]))"
      ]
     },
     "execution_count": 29,
     "metadata": {},
     "output_type": "execute_result"
    }
   ],
   "source": [
    "P,3*P.dot(S.dot(P/2))-2*P.dot((S.dot(P.dot(S.dot(P/4)))))"
   ]
  },
  {
   "cell_type": "code",
   "execution_count": 30,
   "metadata": {},
   "outputs": [
    {
     "data": {
      "text/plain": [
       "array([[-0.00110857, -0.0028998 ],\n",
       "       [ 0.00232396, -0.00215862]])"
      ]
     },
     "execution_count": 30,
     "metadata": {},
     "output_type": "execute_result"
    }
   ],
   "source": [
    "dV+dC.dot(h2)"
   ]
  },
  {
   "cell_type": "code",
   "execution_count": 31,
   "metadata": {},
   "outputs": [
    {
     "data": {
      "text/plain": [
       "array([[ 2.58698215e-03, -6.81232848e-13],\n",
       "       [-6.81232848e-13, -2.58698215e-03]])"
      ]
     },
     "execution_count": 31,
     "metadata": {},
     "output_type": "execute_result"
    }
   ],
   "source": [
    "hf1.get_hcore()-hf.get_hcore()"
   ]
  },
  {
   "cell_type": "markdown",
   "metadata": {},
   "source": [
    "Prima approsimazione stupida è di fare dF==dV e scrivere\n",
    "$$ C^\\dagger \\frac{\\partial F}{\\partial Z_\\alpha} C =C^\\dagger \\frac{\\partial V_{ne}}{\\partial Z_\\alpha} C = UE - EU $$\n",
    "E poi posso anche scomporre:\n",
    "$$ \\left( UE - EU \\right)_{ij} = \\sum_k U_{ik}\\delta_{kj} \\epsilon_j - \\epsilon_i \\delta_{ik} U_{kj} = U_{ij}(\\epsilon_j - \\epsilon_i)$$\n",
    "e quindi:\n",
    "$$ U_{ij} \\approx \\left ( C^\\dagger \\frac{\\partial V_{ne}}{\\partial Z_\\alpha} C \\right)_{ij} / (\\epsilon_j - \\epsilon_i) $$\n",
    "ove $(\\epsilon_j - \\epsilon_i) \\ne 0 $"
   ]
  },
  {
   "cell_type": "code",
   "execution_count": 39,
   "metadata": {},
   "outputs": [
    {
     "name": "stdout",
     "output_type": "stream",
     "text": [
      "[[-0.61308703  0.        ]\n",
      " [ 0.          0.76077336]]\n",
      "[[ 0.         -0.00412863]\n",
      " [-0.00412863  0.        ]]\n"
     ]
    },
    {
     "data": {
      "text/plain": [
       "array([-0.61308703,  0.76077336])"
      ]
     },
     "execution_count": 39,
     "metadata": {},
     "output_type": "execute_result"
    }
   ],
   "source": [
    "print(E)\n",
    "e=np.diag(E)\n",
    "print(U.dot(E)-E.dot(U))"
   ]
  },
  {
   "cell_type": "code",
   "execution_count": 41,
   "metadata": {},
   "outputs": [
    {
     "name": "stdout",
     "output_type": "stream",
     "text": [
      "-0.004128631812990197\n"
     ]
    }
   ],
   "source": [
    "print (U[0,1]*(e[1]-e[0]))"
   ]
  },
  {
   "cell_type": "code",
   "execution_count": 45,
   "metadata": {},
   "outputs": [
    {
     "data": {
      "text/plain": [
       "array([[ 0.       ,  1.3738604],\n",
       "       [-1.3738604,  0.       ]])"
      ]
     },
     "execution_count": 45,
     "metadata": {},
     "output_type": "execute_result"
    }
   ],
   "source": [
    "E_E=np.zeros([2,2])\n",
    "E_E[0,1]=(e[1]-e[0])\n",
    "E_E[1,0]=(e[0]-e[1])\n",
    "E_E"
   ]
  },
  {
   "cell_type": "code",
   "execution_count": 47,
   "metadata": {},
   "outputs": [
    {
     "name": "stdout",
     "output_type": "stream",
     "text": [
      "[[-4.51541929e-06 -3.00513198e-03]\n",
      " [ 3.00513198e-03 -4.51541929e-06]]\n",
      "[[ 0.         -0.00412863]\n",
      " [-0.00412863  0.        ]]\n",
      "[[        nan -0.00300513]\n",
      " [ 0.00300513         nan]]\n"
     ]
    },
    {
     "name": "stderr",
     "output_type": "stream",
     "text": [
      "/home/giorgiod/miniconda3/lib/python3.7/site-packages/ipykernel_launcher.py:3: RuntimeWarning: invalid value encountered in true_divide\n",
      "  This is separate from the ipykernel package so we can avoid doing imports until\n"
     ]
    }
   ],
   "source": [
    "print(U)\n",
    "print((U.dot(E)-E.dot(U)))\n",
    "print((U.dot(E)-E.dot(U))/E_E)"
   ]
  },
  {
   "cell_type": "code",
   "execution_count": 63,
   "metadata": {},
   "outputs": [
    {
     "name": "stdout",
     "output_type": "stream",
     "text": [
      "[[       -inf -0.00268288]\n",
      " [ 0.00268288         inf]]\n",
      "[[-7.26633597e-13 -2.68287565e-03]\n",
      " [ 2.68287565e-03  4.11000227e-13]]\n"
     ]
    },
    {
     "name": "stderr",
     "output_type": "stream",
     "text": [
      "/home/giorgiod/miniconda3/lib/python3.7/site-packages/ipykernel_launcher.py:1: RuntimeWarning: divide by zero encountered in true_divide\n",
      "  \"\"\"Entry point for launching an IPython kernel.\n"
     ]
    }
   ],
   "source": [
    "print(C.T.dot(dV.dot(C))/E_E)\n",
    "U_app=C.T.dot(dV.dot(C))  # approximate value of U\n",
    "for i in range(2):\n",
    "    for j in range(2):\n",
    "        if e[i]!=e[j]:\n",
    "            U_app[i][j]/=(e[j]-e[i])\n",
    "print(U_app)"
   ]
  },
  {
   "cell_type": "code",
   "execution_count": 64,
   "metadata": {},
   "outputs": [
    {
     "name": "stdout",
     "output_type": "stream",
     "text": [
      "[[-0.00396422 -0.00161794]\n",
      " [ 0.00395934 -0.00162984]]\n",
      "[[-0.00353694 -0.00144975]\n",
      " [ 0.00353694 -0.00144975]]\n"
     ]
    }
   ],
   "source": [
    "print(dC)\n",
    "print(C.dot(U_app))"
   ]
  }
 ],
 "metadata": {
  "kernelspec": {
   "display_name": "Python 3",
   "language": "python",
   "name": "python3"
  },
  "language_info": {
   "codemirror_mode": {
    "name": "ipython",
    "version": 3
   },
   "file_extension": ".py",
   "mimetype": "text/x-python",
   "name": "python",
   "nbconvert_exporter": "python",
   "pygments_lexer": "ipython3",
   "version": "3.6.8"
  }
 },
 "nbformat": 4,
 "nbformat_minor": 2
}
