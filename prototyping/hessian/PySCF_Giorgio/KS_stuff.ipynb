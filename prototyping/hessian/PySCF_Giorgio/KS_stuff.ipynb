{
 "cells": [
  {
   "cell_type": "code",
   "execution_count": 49,
   "metadata": {},
   "outputs": [],
   "source": [
    "from pyscf import scf,gto\n",
    "import numpy as np"
   ]
  },
  {
   "cell_type": "code",
   "execution_count": 50,
   "metadata": {},
   "outputs": [
    {
     "data": {
      "text/plain": [
       "<pyscf.gto.mole.Mole at 0x7f5c5615cc18>"
      ]
     },
     "execution_count": 50,
     "metadata": {},
     "output_type": "execute_result"
    }
   ],
   "source": [
    "mol= gto.Mole(atom=\"C 0 0 0; O 0 0 1.2\")\n",
    "mol.build()"
   ]
  },
  {
   "cell_type": "code",
   "execution_count": 51,
   "metadata": {},
   "outputs": [],
   "source": [
    "ks=scf.RKS(mol)\n",
    "hf=scf.RHF(mol)\n",
    "ks.xc='b3lyp'"
   ]
  },
  {
   "cell_type": "code",
   "execution_count": 55,
   "metadata": {},
   "outputs": [
    {
     "name": "stdout",
     "output_type": "stream",
     "text": [
      "converged SCF energy = -111.719975504716\n",
      "converged SCF energy = -111.217981350627\n"
     ]
    },
    {
     "data": {
      "text/plain": [
       "<pyscf.scf.hf.RHF at 0x7f5c5616c9e8>"
      ]
     },
     "execution_count": 55,
     "metadata": {},
     "output_type": "execute_result"
    }
   ],
   "source": [
    "ks.run()\n",
    "hf.run()"
   ]
  },
  {
   "cell_type": "code",
   "execution_count": 53,
   "metadata": {},
   "outputs": [
    {
     "name": "stdout",
     "output_type": "stream",
     "text": [
      "['CASCI', 'CASSCF', 'CCSD', 'CISD', 'COSX', 'DDCOSMO', 'DDPCM', 'DFMP2', 'DIIS', 'EFG', 'Gradients', 'Hessian', 'MP2', 'NMR', 'NSR', 'Polarizability', 'QMMM', 'RotationalGTensor', 'SSC', 'SpinSpinCoupling', 'TDA', 'TDDFT', 'TDDFTNoHybrid', 'TDHF', '__call__', '__class__', '__delattr__', '__dict__', '__dir__', '__doc__', '__eq__', '__format__', '__ge__', '__getattribute__', '__gt__', '__hash__', '__init__', '__init_subclass__', '__le__', '__lt__', '__module__', '__ne__', '__new__', '__reduce__', '__reduce_ex__', '__repr__', '__setattr__', '__sizeof__', '__str__', '__subclasshook__', '__weakref__', '_chkfile', '_eigh', '_eri', '_finalize', '_is_mem_enough', '_keys', '_numint', '_t0', '_w0', 'analyze', 'apply', 'as_scanner', 'build', 'callback', 'canonicalize', 'check_convergence', 'check_sanity', 'chkfile', 'conv_check', 'conv_tol', 'conv_tol_grad', 'converged', 'convert_from_', 'dRPA', 'dTDA', 'damp', 'damp_factor', 'ddCOSMO', 'ddPCM', 'define_xc_', 'density_fit', 'diis', 'diis_file', 'diis_space', 'diis_space_rollback', 'diis_start_cycle', 'dip_moment', 'direct_scf', 'direct_scf_tol', 'dump_chk', 'dump_flags', 'dump_scf_summary', 'e_tot', 'eig', 'energy_elec', 'energy_nuc', 'energy_tot', 'from_chk', 'gen_response', 'get_fock', 'get_grad', 'get_hcore', 'get_init_guess', 'get_j', 'get_jk', 'get_k', 'get_occ', 'get_ovlp', 'get_veff', 'get_vsap', 'grids', 'hf_energy', 'init_direct_scf', 'init_guess', 'init_guess_by_1e', 'init_guess_by_atom', 'init_guess_by_chkfile', 'init_guess_by_huckel', 'init_guess_by_minao', 'init_guess_by_vsap', 'kernel', 'level_shift', 'level_shift_factor', 'make_rdm1', 'max_cycle', 'max_memory', 'mo_coeff', 'mo_energy', 'mo_occ', 'mol', 'mulliken_meta', 'mulliken_pop', 'mulliken_pop_meta_lowdin_ao', 'newton', 'nlc', 'nlcgrids', 'nuc_grad_method', 'omega', 'opt', 'pop', 'post_kernel', 'pre_kernel', 'reset', 'run', 'scf', 'scf_summary', 'set', 'sfx2c1e', 'small_rho_cutoff', 'spin_square', 'stability', 'stdout', 'to_ghf', 'to_gks', 'to_rhf', 'to_rks', 'to_uhf', 'to_uks', 'update', 'update_', 'update_from_chk', 'update_from_chk_', 'verbose', 'view', 'x2c', 'x2c1e', 'xc']\n"
     ]
    }
   ],
   "source": [
    "print( dir(ks))"
   ]
  },
  {
   "cell_type": "code",
   "execution_count": 72,
   "metadata": {},
   "outputs": [
    {
     "name": "stdout",
     "output_type": "stream",
     "text": [
      "(-132.88706394151583, 61.719902826387845)\n",
      "21.1670884368\n",
      "-111.71997550471583\n",
      "-111.71997550471583\n",
      "-194.60696676790369\n",
      "-132.88706394151583\n"
     ]
    }
   ],
   "source": [
    "J,K=ks.get_jk()\n",
    "P=ks.make_rdm1()\n",
    "print(ks.energy_elec())\n",
    "print(ks.energy_nuc())\n",
    "print(ks.energy_nuc()+ks.energy_elec()[0])\n",
    "print(ks.e_tot)\n",
    "h1=ks.get_hcore()\n",
    "print((h1@P).trace())\n",
    "print((h1@P).trace()+ks.energy_elec()[1])\n",
    "\n"
   ]
  },
  {
   "cell_type": "code",
   "execution_count": 44,
   "metadata": {},
   "outputs": [
    {
     "data": {
      "text/plain": [
       "(10, 10)"
      ]
     },
     "execution_count": 44,
     "metadata": {},
     "output_type": "execute_result"
    }
   ],
   "source": [
    "J.shape"
   ]
  },
  {
   "cell_type": "code",
   "execution_count": 56,
   "metadata": {},
   "outputs": [
    {
     "data": {
      "text/plain": [
       "array([[ True,  True,  True,  True,  True,  True,  True,  True,  True,\n",
       "         True],\n",
       "       [ True,  True,  True,  True,  True,  True,  True,  True,  True,\n",
       "         True],\n",
       "       [ True,  True,  True,  True,  True,  True,  True,  True,  True,\n",
       "         True],\n",
       "       [ True,  True,  True,  True,  True,  True,  True,  True,  True,\n",
       "         True],\n",
       "       [ True,  True,  True,  True,  True,  True,  True,  True,  True,\n",
       "         True],\n",
       "       [ True,  True,  True,  True,  True,  True,  True,  True,  True,\n",
       "         True],\n",
       "       [ True,  True,  True,  True,  True,  True,  True,  True,  True,\n",
       "         True],\n",
       "       [ True,  True,  True,  True,  True,  True,  True,  True,  True,\n",
       "         True],\n",
       "       [ True,  True,  True,  True,  True,  True,  True,  True,  True,\n",
       "         True],\n",
       "       [ True,  True,  True,  True,  True,  True,  True,  True,  True,\n",
       "         True]])"
      ]
     },
     "execution_count": 56,
     "metadata": {},
     "output_type": "execute_result"
    }
   ],
   "source": [
    "hf.get_hcore()==ks.get_hcore()"
   ]
  },
  {
   "cell_type": "code",
   "execution_count": 36,
   "metadata": {},
   "outputs": [
    {
     "data": {
      "text/plain": [
       "array([[-2.12894675e+01, -5.15430351e+00,  0.00000000e+00,\n",
       "         0.00000000e+00, -1.11786588e-01, -9.26319608e-05,\n",
       "        -8.04267327e-01,  0.00000000e+00,  0.00000000e+00,\n",
       "         1.34306402e+00],\n",
       "       [-5.15430351e+00, -8.18549900e+00,  0.00000000e+00,\n",
       "         0.00000000e+00, -1.19615847e+00, -1.28981594e+00,\n",
       "        -3.80655612e+00,  0.00000000e+00,  0.00000000e+00,\n",
       "         3.26878304e+00],\n",
       "       [ 0.00000000e+00,  0.00000000e+00, -6.85691698e+00,\n",
       "         0.00000000e+00,  0.00000000e+00,  0.00000000e+00,\n",
       "         0.00000000e+00, -1.78937630e+00,  0.00000000e+00,\n",
       "         0.00000000e+00],\n",
       "       [ 0.00000000e+00,  0.00000000e+00,  0.00000000e+00,\n",
       "        -6.85691698e+00,  0.00000000e+00,  0.00000000e+00,\n",
       "         0.00000000e+00,  0.00000000e+00, -1.78937630e+00,\n",
       "         0.00000000e+00],\n",
       "       [-1.11786588e-01, -1.19615847e+00,  0.00000000e+00,\n",
       "         0.00000000e+00, -7.69565987e+00, -2.17172724e+00,\n",
       "        -4.74211878e+00,  0.00000000e+00,  0.00000000e+00,\n",
       "         3.26042743e+00],\n",
       "       [-9.26319608e-05, -1.28981594e+00,  0.00000000e+00,\n",
       "         0.00000000e+00, -2.17172724e+00, -3.42611410e+01,\n",
       "        -7.97738203e+00,  0.00000000e+00,  0.00000000e+00,\n",
       "         5.92632871e-02],\n",
       "       [-8.04267327e-01, -3.80655612e+00,  0.00000000e+00,\n",
       "         0.00000000e+00, -4.74211878e+00, -7.97738203e+00,\n",
       "        -1.08829140e+01,  0.00000000e+00,  0.00000000e+00,\n",
       "         7.34795170e-01],\n",
       "       [ 0.00000000e+00,  0.00000000e+00, -1.78937630e+00,\n",
       "         0.00000000e+00,  0.00000000e+00,  0.00000000e+00,\n",
       "         0.00000000e+00, -8.94424536e+00,  0.00000000e+00,\n",
       "         0.00000000e+00],\n",
       "       [ 0.00000000e+00,  0.00000000e+00,  0.00000000e+00,\n",
       "        -1.78937630e+00,  0.00000000e+00,  0.00000000e+00,\n",
       "         0.00000000e+00,  0.00000000e+00, -8.94424536e+00,\n",
       "         0.00000000e+00],\n",
       "       [ 1.34306402e+00,  3.26878304e+00,  0.00000000e+00,\n",
       "         0.00000000e+00,  3.26042743e+00,  5.92632871e-02,\n",
       "         7.34795170e-01,  0.00000000e+00,  0.00000000e+00,\n",
       "        -9.37576168e+00]])"
      ]
     },
     "execution_count": 36,
     "metadata": {},
     "output_type": "execute_result"
    }
   ],
   "source": [
    "ks.get_hcore()"
   ]
  },
  {
   "cell_type": "code",
   "execution_count": null,
   "metadata": {},
   "outputs": [],
   "source": []
  }
 ],
 "metadata": {
  "kernelspec": {
   "display_name": "Python 3",
   "language": "python",
   "name": "python3"
  },
  "language_info": {
   "codemirror_mode": {
    "name": "ipython",
    "version": 3
   },
   "file_extension": ".py",
   "mimetype": "text/x-python",
   "name": "python",
   "nbconvert_exporter": "python",
   "pygments_lexer": "ipython3",
   "version": "3.6.9"
  }
 },
 "nbformat": 4,
 "nbformat_minor": 2
}
