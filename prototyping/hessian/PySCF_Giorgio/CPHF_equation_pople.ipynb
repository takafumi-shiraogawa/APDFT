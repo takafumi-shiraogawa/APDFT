{
 "cells": [
  {
   "cell_type": "code",
   "execution_count": 1,
   "metadata": {},
   "outputs": [],
   "source": [
    "from pyscf import gto, scf\n",
    "import scipy\n",
    "import inspect\n",
    "import pyscf.qmmm\n",
    "import pyscf.dft\n",
    "import numpy as np\n",
    "angstrom = 1 / 0.52917721067\n",
    "from matplotlib import pyplot as plt\n",
    "from functools import reduce\n",
    "from numpy.linalg import inv \n",
    "from pyscf.scf import cphf \n",
    "# ancora il modo migliore per mettere cariche frazionali sulle molecole, se vai a toccare mol.charges si incazza \n",
    "#  quando deve calcolare l' initial guess \n",
    "def fc(calc,deltaZ):\n",
    "    mf = pyscf.qmmm.mm_charge(calc, calc.mol.atom_coords()/angstrom, deltaZ)  # now is add_mm_charge\n",
    "    class NoSelfQMMM(mf.__class__):\n",
    "        def energy_nuc(self):\n",
    "            q = self.mol.atom_charges().astype(np.float).copy()\n",
    "            q1 =q+ np.asarray(deltaZ) \n",
    "            return self.mol.energy_nuc(q1)\n",
    "    return(NoSelfQMMM(mf,mf.mm_mol))\n",
    "\n",
    "def DeltaV(mol,dL):\n",
    "    mol.set_rinv_orig_(mol.atom_coords()[0])\n",
    "    dV=mol.intor('int1e_rinv')*dL[0]\n",
    "    mol.set_rinv_orig_(mol.atom_coords()[1])\n",
    "    dV+=mol.intor('int1e_rinv')*dL[1]\n",
    "    return -dV"
   ]
  },
  {
   "cell_type": "code",
   "execution_count": 2,
   "metadata": {},
   "outputs": [
    {
     "name": "stderr",
     "output_type": "stream",
     "text": [
      "Warning: <pyscf.gto.mole.Mole object at 0x7f03f38c79d0> must be initialized before calling SCF.\n",
      "Initialize <pyscf.gto.mole.Mole object at 0x7f03f38c79d0> in <pyscf.scf.hf.RHF object at 0x7f03f3eb96d0>\n",
      "<class 'pyscf.gto.mole.Mole'> does not have attributes  maxit units\n"
     ]
    },
    {
     "name": "stdout",
     "output_type": "stream",
     "text": [
      "converged SCF energy = -0.941480654707798\n",
      "converged SCF energy = -0.941480680076734\n",
      "converged SCF energy = -0.941480680076787\n"
     ]
    }
   ],
   "source": [
    "co=gto.Mole(atom=\"H 0 0 0 ;H 0 0 1.4\", basis= \"sto-3g\",units=\"Bohr\",maxit=100)\n",
    "hfco=scf.RHF(co)\n",
    "hfco.scf()\n",
    "dL=.0001\n",
    "\n",
    "hf1=fc(hfco,[dL,-dL])\n",
    "hf1.scf()\n",
    "hf2=fc(hfco,[-dL,dL])\n",
    "hf2.scf()\n",
    "dV=DeltaV(co,[dL,-dL])\n",
    "h2=hfco.get_veff()\n",
    "dh2=(hf1.get_veff()-hf2.get_veff())/2\n",
    "J,K=hfco.get_jk()\n",
    "g_ijkl=hfco.mol.intor('int2e_sph')\n",
    "g_h2=g_ijkl-np.swapaxes(g_ijkl,1,2)/2\n",
    "\n",
    "C=hfco.mo_coeff\n",
    "S=hfco.get_ovlp()\n",
    "e=hfco.mo_energy\n",
    "E=np.diag(e)\n",
    "O=np.diag(hfco.mo_occ)\n",
    "C1=hf1.mo_coeff\n",
    "P=hfco.make_rdm1()\n",
    "P1=hf1.make_rdm1()\n",
    "P2=hf2.make_rdm1() \n",
    "dP=(P1-P2)/2\n",
    "dC=(abs(C1)*C/abs(C)-C)"
   ]
  },
  {
   "cell_type": "code",
   "execution_count": 3,
   "metadata": {},
   "outputs": [
    {
     "name": "stdout",
     "output_type": "stream",
     "text": [
      "0.00035878765618787704\n",
      "0.00041455727621003555\n",
      "5.5769620022158494e-05\n",
      "0.00035878765618787704\n",
      "0.0003587876610188213\n",
      "4.8309442745540326e-12\n"
     ]
    },
    {
     "data": {
      "text/plain": [
       "array([[-2.71050543e-20,  1.21177980e-04],\n",
       "       [-1.21177980e-04, -3.21872520e-20]])"
      ]
     },
     "execution_count": 3,
     "metadata": {},
     "output_type": "execute_result"
    }
   ],
   "source": [
    "U_app= C.T.dot(dV.dot(C))  #+U np.diag(np.diagonal(S)**-0.5) approximate value of \n",
    "for i in range(co.nao):\n",
    "    for j in range(co.nao):\n",
    "        if e[i]!=e[j]:\n",
    "            U_app[i][j]/=(e[j]-e[i])\n",
    "dP_app=C.dot(U_app.dot(O)-O.dot(U_app)).dot(C.T)\n",
    "print(np.linalg.norm(dP))\n",
    "print(np.linalg.norm(dP_app))\n",
    "print(np.linalg.norm(dP_app-dP))\n",
    "dV_mo=C.T@dV@C\n",
    "\"\"\"\n",
    "for i in range(10):\n",
    "    U_app=dV_mo+C.T@np.einsum('ijkl,kl->ij',g_h2,dP_app)@C # approximate value of U\n",
    "    for i in range(co.nao):\n",
    "        for j in range(co.nao):\n",
    "            if e[i]!=e[j]:\n",
    "                U_app[i][j]/=(e[j]-e[i])\n",
    "    dP_app=C.dot(U_app.dot(O)-O.dot(U_app)).dot(C.T) \"\"\"\n",
    "for k in range(10):\n",
    "    U_app=dV_mo+C.T@np.einsum('ijkl,kl->ij',g_h2,dP_app)@C # approximate value of U\n",
    "    for i in range(co.nao):\n",
    "        for j in range(co.nao):\n",
    "            if e[i]!=e[j]:\n",
    "                U_app[i][j]/=(e[j]-e[i])\n",
    "    dP_app=C.dot(U_app.dot(O)-O.dot(U_app)).dot(C.T)\n",
    "\n",
    "U=U_app.copy()\n",
    "print(np.linalg.norm(dP))\n",
    "print(np.linalg.norm(dP_app))\n",
    "print(np.linalg.norm(dP_app-dP))\n",
    "U"
   ]
  },
  {
   "cell_type": "code",
   "execution_count": 4,
   "metadata": {},
   "outputs": [],
   "source": [
    "ERI_mo=g_ijkl.copy()\n",
    "ERI_mo=ERI_mo@C\n",
    "ERI_mo=(ERI_mo.swapaxes(2,3)@C).swapaxes(3,2)\n",
    "ERI_mo=(ERI_mo.swapaxes(1,3)@C).swapaxes(3,1)\n",
    "ERI_mo=(ERI_mo.swapaxes(0,3)@C).swapaxes(3,0)\n",
    "\n",
    "G_cphf=g_ijkl.copy()\n",
    "G_cphf=4*G_cphf -G_cphf.swapaxes(3,1)-G_cphf.swapaxes(1,2)\n",
    "G_cphf=G_cphf@C\n",
    "G_cphf=(G_cphf.swapaxes(2,3)@C).swapaxes(3,2)\n",
    "G_cphf=(G_cphf.swapaxes(1,3)@C).swapaxes(3,1)\n",
    "G_cphf=(G_cphf.swapaxes(0,3)@C).swapaxes(3,0)\n",
    "\"\"\"for i in range(2):\n",
    "    for a in range(2):\n",
    "        if e[i] !=e[a] :\n",
    "            G_cphf[a,i,a,i]/=(e[i]-e[a])\"\"\" \n",
    "pass"
   ]
  },
  {
   "cell_type": "code",
   "execution_count": 5,
   "metadata": {},
   "outputs": [
    {
     "name": "stdout",
     "output_type": "stream",
     "text": [
      "[[-6.25708481e-20 -1.19837973e-05]\n",
      " [-1.19837973e-05 -9.17701870e-20]]\n",
      "[[-3.19519636e-20 -1.19837973e-05]\n",
      " [-1.19837973e-05 -4.20420574e-20]]\n",
      "[[ 4.30004746e-17 -1.19837972e-05]\n",
      " [-1.19837972e-05  8.73138503e-17]]\n",
      "[[ 6.42626956e-17 -1.19837972e-05]\n",
      " [-1.19837972e-05  3.94073608e-17]]\n"
     ]
    }
   ],
   "source": [
    "print(np.einsum('ijkl,kl->ij',G_cphf,U@O/2))\n",
    "print(np.einsum('ijkl,kl->ij',G_cphf[:,:,1:,:1],U[1:,:1]))\n",
    "print(C.T@np.einsum('ijkl,kl->ij',g_h2,dP)@C)\n",
    "print(C.T@dh2@C)"
   ]
  },
  {
   "cell_type": "code",
   "execution_count": 6,
   "metadata": {},
   "outputs": [
    {
     "name": "stdout",
     "output_type": "stream",
     "text": [
      "0.00035878765618787704\n",
      "0.00035878766101882145\n",
      "4.830944466214461e-12\n"
     ]
    }
   ],
   "source": [
    "dV_mo=C.T@dV@C\n",
    "\"\"\"for i in range(co.nao):\n",
    "    for j in range(co.nao):\n",
    "        if e[i]!=e[j]:\n",
    "            dV_mo[i][j]/=(e[j]-e[i])\"\"\"\n",
    "U_app= dV_mo.copy()\n",
    "for i in range(co.nao):\n",
    "    for j in range(co.nao):\n",
    "        if e[i]!=e[j]:\n",
    "            U_app[i][j]/=(e[j]-e[i])\n",
    "            \n",
    "for k in range(10):\n",
    "   # print( np.einsum('ijkl,kl->ij',G_cphf,U_app@O), C.T@np.einsum('ijkl,kl->ij',g_h2,dP_app)@C)\n",
    "    U_app=dV_mo+np.einsum('ijkl,kl->ij',G_cphf[:,:,1:,:1],U_app[1:,:1]) # approximate value of U\n",
    "    for i in range(co.nao):\n",
    "        for j in range(co.nao):\n",
    "            if e[i]!=e[j]:\n",
    "                U_app[i][j]/=(e[j]-e[i])\n",
    "dP_app=C@(U_app@O-O@U_app)@C.T\n",
    "U=U_app.copy()\n",
    "print(np.linalg.norm(dP))\n",
    "print(np.linalg.norm(dP_app))\n",
    "print(np.linalg.norm(dP_app-dP))"
   ]
  },
  {
   "cell_type": "code",
   "execution_count": 7,
   "metadata": {},
   "outputs": [],
   "source": [
    "A=G_cphf.copy()\n",
    "for i in range(2):\n",
    "    for a in range(2):\n",
    "        if e[i] !=e[a] :\n",
    "            A[i,a,:,:]/=(e[a]-e[i])"
   ]
  },
  {
   "cell_type": "code",
   "execution_count": 8,
   "metadata": {},
   "outputs": [
    {
     "name": "stdout",
     "output_type": "stream",
     "text": [
      "[[-3.19519636e-20 -1.88357910e-05]\n",
      " [ 1.88357910e-05 -4.20420574e-20]]\n",
      "[[-3.19519636e-20 -1.88357910e-05]\n",
      " [ 1.88357910e-05 -4.20420574e-20]]\n"
     ]
    }
   ],
   "source": [
    "Uprova=np.einsum('ijkl,kl->ij',G_cphf[:,:,1:,:1],U[1:,:1])\n",
    "for i in range(co.nao):\n",
    "    for j in range(co.nao):\n",
    "        if e[i]!=e[j]:\n",
    "            Uprova[i][j]/=(e[j]-e[i])\n",
    "print(Uprova)\n",
    "print(np.einsum('ijkl,kl->ij',A[:,:,1:,:1],U[1:,:1]))\n"
   ]
  },
  {
   "cell_type": "markdown",
   "metadata": {},
   "source": [
    "The equation:\n",
    "$$ V_{mo}+ G_{mo} U = EU-UE \n",
    "$$\n",
    "If $U_0= V_{ai}/(\\epsilon_i -\\epsilon_a)$\n",
    "Can be reduced to:\n",
    "$$ U_0 + (G_{mo}U)_{ai}/(\\epsilon_i -\\epsilon_a)=U $$\n",
    "$$(1-A) U =U_0$$\n",
    "the inverse of $(1-A)$ is the infinite sum: $ \\sum_{n=0}^{inf.}A^n $, therefore:\n",
    "$$ U = \\sum_{n=0}^{inf.}A^n U_0 $$"
   ]
  },
  {
   "cell_type": "code",
   "execution_count": 9,
   "metadata": {},
   "outputs": [
    {
     "name": "stdout",
     "output_type": "stream",
     "text": [
      "5.5769620022158494e-05\n",
      "8.668772098835158e-06\n",
      "1.3474708123981396e-06\n",
      "2.0944454123846985e-07\n",
      "3.256091328891005e-08\n",
      "5.056186371823805e-09\n",
      "7.909801296413789e-10\n",
      "1.1789791793281737e-10\n",
      "2.33772287448227e-11\n",
      "1.4175531956518827e-12\n",
      "4.830944466214461e-12\n",
      "[array([[ 1.35525272e-20,  1.40013771e-04],\n",
      "       [-1.40013771e-04,  1.35525272e-20]]), array([[-3.69185467e-20, -2.17636085e-05],\n",
      "       [ 2.17636085e-05, -4.85770351e-20]]), array([[ 5.73858408e-21,  3.38291479e-06],\n",
      "       [-3.38291479e-06,  7.55076853e-21]]), array([[-8.92000099e-22, -5.25837085e-07],\n",
      "       [ 5.25837085e-07, -1.17368434e-21]]), array([[ 1.38651654e-22,  8.17356207e-08],\n",
      "       [-8.17356207e-08,  1.82436387e-22]]), array([[-2.15518824e-23, -1.27049078e-08],\n",
      "       [ 1.27049078e-08, -2.83577400e-23]]), array([[ 3.35000428e-24,  1.97483889e-09],\n",
      "       [-1.97483889e-09,  4.40790037e-24]]), array([[-5.20721506e-25, -3.06967095e-10],\n",
      "       [ 3.06967095e-10, -6.85159877e-25]]), array([[ 8.09404600e-26,  4.77146758e-11],\n",
      "       [-4.77146758e-11,  1.06500605e-25]]), array([[-1.25813088e-26, -7.41672422e-12],\n",
      "       [ 7.41672422e-12, -1.65543537e-26]]), array([[ 1.95562677e-27,  1.15284862e-12],\n",
      "       [-1.15284862e-12,  2.57319312e-27]])] [[-1.83994362e-20  1.21177980e-04]\n",
      " [-1.21177980e-04 -2.84895298e-20]]\n"
     ]
    },
    {
     "name": "stderr",
     "output_type": "stream",
     "text": [
      "/home/giorgiod/miniconda3/lib/python3.7/site-packages/ipykernel_launcher.py:11: DeprecationWarning: Calling np.sum(generator) is deprecated, and in the future will give a different result. Use np.sum(np.fromiter(generator)) or the python sum builtin instead.\n",
      "  # This is added back by InteractiveShellApp.init_path()\n",
      "/home/giorgiod/miniconda3/lib/python3.7/site-packages/ipykernel_launcher.py:15: DeprecationWarning: Calling np.sum(generator) is deprecated, and in the future will give a different result. Use np.sum(np.fromiter(generator)) or the python sum builtin instead.\n",
      "  from ipykernel import kernelapp as app\n"
     ]
    }
   ],
   "source": [
    "dV_mo=C.T@dV@C\n",
    "for i in range(co.nao):\n",
    "    for j in range(co.nao):\n",
    "        if e[i]!=e[j]:\n",
    "            dV_mo[i][j]/=(e[j]-e[i])\n",
    "U_0= dV_mo.copy()\n",
    "\n",
    "Us=[]\n",
    "Us.append(U_0)\n",
    "for k in range(10):\n",
    "    U=np.sum(u for u in Us)\n",
    "    dP_app=C@(U@O-O@U)@C.T\n",
    "    print(np.linalg.norm(dP_app-dP))\n",
    "    Us.append(np.einsum('ijkl,kl->ij',A[:,:,1:,:1],Us[k][1:,:1])) # approximate value of U\n",
    "    U=np.sum(u for u in Us)\n",
    "    dP_app=C@(U@O-O@U)@C.T\n",
    "    \n",
    "print(np.linalg.norm(dP_app-dP))\n",
    "print(Us,U)"
   ]
  },
  {
   "cell_type": "code",
   "execution_count": null,
   "metadata": {},
   "outputs": [],
   "source": []
  },
  {
   "cell_type": "code",
   "execution_count": 10,
   "metadata": {},
   "outputs": [
    {
     "name": "stderr",
     "output_type": "stream",
     "text": [
      "Warning: <pyscf.gto.mole.Mole object at 0x7f03f188c450> must be initialized before calling SCF.\n",
      "Initialize <pyscf.gto.mole.Mole object at 0x7f03f188c450> in <pyscf.scf.hf.RHF object at 0x7f03f188c710>\n"
     ]
    },
    {
     "name": "stdout",
     "output_type": "stream",
     "text": [
      "converged SCF energy = -1.02363963529605\n",
      "converged SCF energy = -1.02385244745375\n",
      "converged SCF energy = -1.02385244745983\n"
     ]
    }
   ],
   "source": [
    "co=gto.Mole(atom=\"H 0 0 0 ;H 0 0 1.4\", basis= \"def2-QZVPP\",units=\"Bohr\",maxit=100)\n",
    "hfco=scf.RHF(co)\n",
    "hfco.scf()\n",
    "dL=.01\n",
    "\n",
    "hf1=fc(hfco,[dL,-dL])\n",
    "hf1.scf()\n",
    "hf2=fc(hfco,[-dL,dL])\n",
    "hf2.scf()\n",
    "dV=DeltaV(co,[dL,-dL])\n",
    "h2=hfco.get_veff()\n",
    "dh2=(hf1.get_veff()-hf2.get_veff())/2\n",
    "J,K=hfco.get_jk()\n",
    "g_ijkl=hfco.mol.intor('int2e_sph')\n",
    "g_h2=g_ijkl-np.swapaxes(g_ijkl,1,2)/2\n",
    "\n",
    "C=hfco.mo_coeff\n",
    "S=hfco.get_ovlp()\n",
    "e=hfco.mo_energy\n",
    "E=np.diag(e)\n",
    "O=np.diag(hfco.mo_occ)\n",
    "C1=hf1.mo_coeff\n",
    "P=hfco.make_rdm1()\n",
    "P1=hf1.make_rdm1()\n",
    "P2=hf2.make_rdm1() \n",
    "dP=(P1-P2)/2\n",
    "dC=(abs(C1)*C/abs(C)-C)"
   ]
  },
  {
   "cell_type": "code",
   "execution_count": 11,
   "metadata": {},
   "outputs": [],
   "source": [
    "G_cphf=g_ijkl.copy()\n",
    "G_cphf=4*G_cphf -G_cphf.swapaxes(3,1)-G_cphf.swapaxes(1,2)\n",
    "G_cphf=G_cphf@C\n",
    "G_cphf=(G_cphf.swapaxes(2,3)@C).swapaxes(3,2)\n",
    "G_cphf=(G_cphf.swapaxes(1,3)@C).swapaxes(3,1)\n",
    "G_cphf=(G_cphf.swapaxes(0,3)@C).swapaxes(3,0)\n",
    "A=G_cphf.copy()\n",
    "for i in range(co.nao):\n",
    "    for a in range(co.nao):\n",
    "        if e[i] !=e[a] :\n",
    "            A[i,a,:,:]/=(e[a]-e[i])"
   ]
  },
  {
   "cell_type": "code",
   "execution_count": 12,
   "metadata": {
    "scrolled": true
   },
   "outputs": [
    {
     "name": "stderr",
     "output_type": "stream",
     "text": [
      "/home/giorgiod/miniconda3/lib/python3.7/site-packages/ipykernel_launcher.py:10: DeprecationWarning: Calling np.sum(generator) is deprecated, and in the future will give a different result. Use np.sum(np.fromiter(generator)) or the python sum builtin instead.\n",
      "  # Remove the CWD from sys.path while we load stuff.\n",
      "/home/giorgiod/miniconda3/lib/python3.7/site-packages/ipykernel_launcher.py:14: DeprecationWarning: Calling np.sum(generator) is deprecated, and in the future will give a different result. Use np.sum(np.fromiter(generator)) or the python sum builtin instead.\n",
      "  \n"
     ]
    },
    {
     "name": "stdout",
     "output_type": "stream",
     "text": [
      "0.000917074943842509\n",
      "0.0003001843627928657\n",
      "0.00010132662741828594\n",
      "3.381025522076639e-05\n",
      "1.125898142503332e-05\n",
      "4.1026849544015275e-06\n",
      "2.2869613553437234e-06\n",
      "2.008390549223877e-06\n",
      "1.978353451127869e-06\n",
      "1.975492974516599e-06\n",
      "0.012374362383678521\n",
      "0.01237578230448258\n",
      "1.975262072554131e-06\n"
     ]
    }
   ],
   "source": [
    "dV_mo=C.T@dV@C\n",
    "for i in range(co.nao):\n",
    "    for j in range(co.nao):\n",
    "        if e[i]!=e[j]:\n",
    "            dV_mo[i][j]/=(e[j]-e[i])\n",
    "U_0= dV_mo.copy()\n",
    "Us=[]\n",
    "Us.append(U_0)\n",
    "for k in range(10):\n",
    "    U=np.sum(u for u in Us)\n",
    "    dP_app=C@(U@O-O@U)@C.T\n",
    "    print(np.linalg.norm(dP_app-dP))\n",
    "    Us.append(np.einsum('ijkl,kl->ij',A[:,:,1:,:1],Us[k][1:,:1])) # insert n_occ\n",
    "    U=np.sum(u for u in Us)\n",
    "    dP_app=C@(U@O-O@U)@C.T\n",
    "    \n",
    "print(np.linalg.norm(dP))\n",
    "print(np.linalg.norm(dP_app))    \n",
    "print(np.linalg.norm(dP_app-dP))\n"
   ]
  },
  {
   "cell_type": "code",
   "execution_count": null,
   "metadata": {},
   "outputs": [],
   "source": []
  }
 ],
 "metadata": {
  "kernelspec": {
   "display_name": "Python 3",
   "language": "python",
   "name": "python3"
  },
  "language_info": {
   "codemirror_mode": {
    "name": "ipython",
    "version": 3
   },
   "file_extension": ".py",
   "mimetype": "text/x-python",
   "name": "python",
   "nbconvert_exporter": "python",
   "pygments_lexer": "ipython3",
   "version": "3.6.8"
  }
 },
 "nbformat": 4,
 "nbformat_minor": 4
}
