{
 "cells": [
  {
   "cell_type": "code",
   "execution_count": 1,
   "metadata": {},
   "outputs": [],
   "source": [
    "from pyscf import scf,gto\n",
    "from functools import reduce\n",
    "import numpy as np\n",
    "import inspect\n",
    "from FcMole import FcM\n",
    "import matplotlib.pyplot as plt\n",
    "from pyscf.grad import rhf as grhf  #### very important\n",
    "from pyscf.hessian.rhf import * # without those two mf.Gradients() and mf.Hessian() don't work\n",
    "from pyscf.hessian import rhf as hrhf\n",
    "def DeltaV(mol,dL):\n",
    "    mol.set_rinv_orig_(mol.atom_coords()[0])\n",
    "    dV=mol.intor('int1e_rinv')*dL[0]\n",
    "    mol.set_rinv_orig_(mol.atom_coords()[1])\n",
    "    dV+=mol.intor('int1e_rinv')*dL[1]\n",
    "    return -dV"
   ]
  },
  {
   "cell_type": "code",
   "execution_count": 2,
   "metadata": {},
   "outputs": [
    {
     "name": "stdout",
     "output_type": "stream",
     "text": [
      "converged SCF energy = -7.74106569060784\n"
     ]
    },
    {
     "name": "stderr",
     "output_type": "stream",
     "text": [
      "/home/giorgiod/miniconda3/lib/python3.7/site-packages/pyscf/lib/chkfile.py:71: H5pyDeprecationWarning: dataset.value has been deprecated. Use dataset[()] instead.\n",
      "  return val.value\n"
     ]
    }
   ],
   "source": [
    "mol=gto.M(atom=\"H 0 0 0; Li 0 0 1.8\",unit=\"Bohr\",basis=\"STO-3G\")\n",
    "mf=scf.RHF(mol)\n",
    "mf.scf(dm0=mf.init_guess_by_atom())\n",
    "P=mf.make_rdm1()\n",
    "hcore=mf.get_hcore()\n",
    "g=mf.Gradients()\n",
    "h=mf.Hessian()\n",
    "h.kernel()\n",
    "pass"
   ]
  },
  {
   "cell_type": "code",
   "execution_count": 3,
   "metadata": {},
   "outputs": [
    {
     "name": "stdout",
     "output_type": "stream",
     "text": [
      "converged SCF energy = -7.74424391363581\n"
     ]
    }
   ],
   "source": [
    "mol1=gto.M(atom=\"H 0 0 0; Li 0 0 1.81\",unit=\"Bohr\",basis=\"STO-3G\")\n",
    "mf1=scf.RHF(mol1)\n",
    "mf1.scf()\n",
    "hcore1=mf1.get_hcore()\n",
    "P1=mf1.make_rdm1()\n",
    "h1=mf1.Hessian()\n",
    "h1.kernel()\n",
    "pass"
   ]
  },
  {
   "cell_type": "code",
   "execution_count": 4,
   "metadata": {},
   "outputs": [],
   "source": [
    "mo_energy = mf.mo_energy\n",
    "mo_occ = mf.mo_occ\n",
    "mo_coeff = mf.mo_coeff\n",
    "C=mo_coeff\n",
    "atmlst = range(mol.natm)\n",
    "mocc = mo_coeff[:,mo_occ>0]"
   ]
  },
  {
   "cell_type": "code",
   "execution_count": 5,
   "metadata": {},
   "outputs": [
    {
     "data": {
      "text/plain": [
       "True"
      ]
     },
     "execution_count": 5,
     "metadata": {},
     "output_type": "execute_result"
    }
   ],
   "source": [
    "h1ao = h.make_h1(mo_coeff,mo_occ)\n",
    "np.allclose(h1ao[1][2],-h1ao[0][2])"
   ]
  },
  {
   "cell_type": "code",
   "execution_count": 6,
   "metadata": {},
   "outputs": [
    {
     "name": "stdout",
     "output_type": "stream",
     "text": [
      "def make_h1(hessobj, mo_coeff, mo_occ, chkfile=None, atmlst=None, verbose=None):\n",
      "    time0 = t1 = (time.clock(), time.time())\n",
      "    mol = hessobj.mol\n",
      "    if atmlst is None:\n",
      "        atmlst = range(mol.natm)\n",
      "\n",
      "    nao, nmo = mo_coeff.shape\n",
      "    mocc = mo_coeff[:,mo_occ>0]\n",
      "    dm0 = numpy.dot(mocc, mocc.T) * 2\n",
      "    hcore_deriv = hessobj.base.nuc_grad_method().hcore_generator(mol)\n",
      "\n",
      "    aoslices = mol.aoslice_by_atom()\n",
      "    h1ao = [None] * mol.natm\n",
      "    for i0, ia in enumerate(atmlst):\n",
      "        shl0, shl1, p0, p1 = aoslices[ia]\n",
      "        shls_slice = (shl0, shl1) + (0, mol.nbas)*3\n",
      "        vj1, vj2, vk1, vk2 = _get_jk(mol, 'int2e_ip1', 3, 's2kl',\n",
      "                                     ['ji->s2kl', -dm0[:,p0:p1],  # vj1\n",
      "                                      'lk->s1ij', -dm0         ,  # vj2\n",
      "                                      'li->s1kj', -dm0[:,p0:p1],  # vk1\n",
      "                                      'jk->s1il', -dm0         ], # vk2\n",
      "                                     shls_slice=shls_slice)\n",
      "        vhf = vj1 - vk1*.5\n",
      "        vhf[:,p0:p1] += vj2 - vk2*.5\n",
      "        h1 = vhf + vhf.transpose(0,2,1)\n",
      "        h1 += hcore_deriv(ia)\n",
      "\n",
      "        if chkfile is None:\n",
      "            h1ao[ia] = h1\n",
      "        else:\n",
      "            key = 'scf_f1ao/%d' % ia\n",
      "            lib.chkfile.save(chkfile, key, h1)\n",
      "    if chkfile is None:\n",
      "        return h1ao\n",
      "    else:\n",
      "        return chkfile\n",
      "\n"
     ]
    }
   ],
   "source": [
    "print(inspect.getsource(h.make_h1))   ##### takes into account also "
   ]
  },
  {
   "cell_type": "code",
   "execution_count": 7,
   "metadata": {},
   "outputs": [
    {
     "data": {
      "text/plain": [
       "array([[ 0.763,  1.321,  0.419, -0.   , -0.   , -0.002],\n",
       "       [ 1.321,  0.308,  0.067, -0.   , -0.   , -0.037],\n",
       "       [ 0.419,  0.067,  0.049, -0.   , -0.   ,  0.011],\n",
       "       [-0.   , -0.   , -0.   ,  0.059, -0.   , -0.   ],\n",
       "       [-0.   , -0.   , -0.   , -0.   ,  0.059, -0.   ],\n",
       "       [-0.002, -0.037,  0.011, -0.   , -0.   ,  0.037]])"
      ]
     },
     "execution_count": 7,
     "metadata": {},
     "output_type": "execute_result"
    }
   ],
   "source": [
    "np.round(h.base.nuc_grad_method().hcore_generator(mol)(1)[2],decimals=3) #truly the derivative of h1 in ao basis"
   ]
  },
  {
   "cell_type": "code",
   "execution_count": 8,
   "metadata": {},
   "outputs": [
    {
     "data": {
      "text/plain": [
       "array([[ 0.761,  1.315,  0.419,  0.   ,  0.   , -0.004],\n",
       "       [ 1.315,  0.306,  0.067,  0.   ,  0.   , -0.037],\n",
       "       [ 0.419,  0.067,  0.05 ,  0.   ,  0.   ,  0.011],\n",
       "       [ 0.   ,  0.   ,  0.   ,  0.059,  0.   ,  0.   ],\n",
       "       [ 0.   ,  0.   ,  0.   ,  0.   ,  0.059,  0.   ],\n",
       "       [-0.004, -0.037,  0.011,  0.   ,  0.   ,  0.037]])"
      ]
     },
     "execution_count": 8,
     "metadata": {},
     "output_type": "execute_result"
    }
   ],
   "source": [
    "np.round((hcore1-hcore)*100,decimals=3)"
   ]
  },
  {
   "cell_type": "code",
   "execution_count": 10,
   "metadata": {},
   "outputs": [
    {
     "name": "stdout",
     "output_type": "stream",
     "text": [
      "def hess_elec(hessobj, mo_energy=None, mo_coeff=None, mo_occ=None,\n",
      "              mo1=None, mo_e1=None, h1ao=None,\n",
      "              atmlst=None, max_memory=4000, verbose=None):\n",
      "    log = logger.new_logger(hessobj, verbose)\n",
      "    time0 = t1 = (time.clock(), time.time())\n",
      "\n",
      "    mol = hessobj.mol\n",
      "    mf = hessobj.base\n",
      "    if mo_energy is None: mo_energy = mf.mo_energy\n",
      "    if mo_occ is None:    mo_occ = mf.mo_occ\n",
      "    if mo_coeff is None:  mo_coeff = mf.mo_coeff\n",
      "    if atmlst is None: atmlst = range(mol.natm)\n",
      "\n",
      "    de2 = hessobj.partial_hess_elec(mo_energy, mo_coeff, mo_occ, atmlst,\n",
      "                                    max_memory, log)\n",
      "\n",
      "    if h1ao is None:\n",
      "        h1ao = hessobj.make_h1(mo_coeff, mo_occ, hessobj.chkfile, atmlst, log)\n",
      "        t1 = log.timer_debug1('making H1', *time0)\n",
      "    if mo1 is None or mo_e1 is None:\n",
      "        mo1, mo_e1 = hessobj.solve_mo1(mo_energy, mo_coeff, mo_occ, h1ao,\n",
      "                                       None, atmlst, max_memory, log)\n",
      "        t1 = log.timer_debug1('solving MO1', *t1)\n",
      "\n",
      "    if isinstance(h1ao, str):\n",
      "        h1ao = lib.chkfile.load(h1ao, 'scf_f1ao')\n",
      "        h1ao = dict([(int(k), h1ao[k]) for k in h1ao])\n",
      "    if isinstance(mo1, str):\n",
      "        mo1 = lib.chkfile.load(mo1, 'scf_mo1')\n",
      "        mo1 = dict([(int(k), mo1[k]) for k in mo1])\n",
      "\n",
      "    nao, nmo = mo_coeff.shape\n",
      "    mocc = mo_coeff[:,mo_occ>0]\n",
      "    s1a = -mol.intor('int1e_ipovlp', comp=3)\n",
      "\n",
      "    aoslices = mol.aoslice_by_atom()\n",
      "    for i0, ia in enumerate(atmlst):\n",
      "        shl0, shl1, p0, p1 = aoslices[ia]\n",
      "        s1ao = numpy.zeros((3,nao,nao))\n",
      "        s1ao[:,p0:p1] += s1a[:,p0:p1]\n",
      "        s1ao[:,:,p0:p1] += s1a[:,p0:p1].transpose(0,2,1)\n",
      "        s1oo = numpy.einsum('xpq,pi,qj->xij', s1ao, mocc, mocc)\n",
      "\n",
      "        for j0 in range(i0+1):\n",
      "            ja = atmlst[j0]\n",
      "            q0, q1 = aoslices[ja][2:]\n",
      "# *2 for double occupancy, *2 for +c.c.\n",
      "            dm1 = numpy.einsum('ypi,qi->ypq', mo1[ja], mocc)\n",
      "            de2[i0,j0] += numpy.einsum('xpq,ypq->xy', h1ao[ia], dm1) * 4\n",
      "            dm1 = numpy.einsum('ypi,qi,i->ypq', mo1[ja], mocc, mo_energy[mo_occ>0])\n",
      "            de2[i0,j0] -= numpy.einsum('xpq,ypq->xy', s1ao, dm1) * 4\n",
      "            de2[i0,j0] -= numpy.einsum('xpq,ypq->xy', s1oo, mo_e1[ja]) * 2\n",
      "\n",
      "        for j0 in range(i0):\n",
      "            de2[j0,i0] = de2[i0,j0].T\n",
      "\n",
      "    log.timer('RHF hessian', *time0)\n",
      "    return de2\n",
      "\n"
     ]
    }
   ],
   "source": [
    " print(inspect.getsource(h.hess_elec)) "
   ]
  },
  {
   "cell_type": "code",
   "execution_count": 13,
   "metadata": {},
   "outputs": [
    {
     "name": "stdout",
     "output_type": "stream",
     "text": [
      "def grad_elec(mf_grad, mo_energy=None, mo_coeff=None, mo_occ=None, atmlst=None):\n",
      "    '''\n",
      "    Electronic part of RHF/RKS gradients\n",
      "\n",
      "    Args:\n",
      "        mf_grad : grad.rhf.Gradients or grad.rks.Gradients object\n",
      "    '''\n",
      "    mf = mf_grad.base\n",
      "    mol = mf_grad.mol\n",
      "    if mo_energy is None: mo_energy = mf.mo_energy\n",
      "    if mo_occ is None:    mo_occ = mf.mo_occ\n",
      "    if mo_coeff is None:  mo_coeff = mf.mo_coeff\n",
      "    log = logger.Logger(mf_grad.stdout, mf_grad.verbose)\n",
      "\n",
      "    hcore_deriv = mf_grad.hcore_generator(mol)\n",
      "    s1 = mf_grad.get_ovlp(mol)\n",
      "    dm0 = mf.make_rdm1(mo_coeff, mo_occ)\n",
      "\n",
      "    t0 = (time.clock(), time.time())\n",
      "    log.debug('Computing Gradients of NR-HF Coulomb repulsion')\n",
      "    vhf = mf_grad.get_veff(mol, dm0)\n",
      "    log.timer('gradients of 2e part', *t0)\n",
      "\n",
      "    dme0 = mf_grad.make_rdm1e(mo_energy, mo_coeff, mo_occ)\n",
      "\n",
      "    if atmlst is None:\n",
      "        atmlst = range(mol.natm)\n",
      "    aoslices = mol.aoslice_by_atom()\n",
      "    de = numpy.zeros((len(atmlst),3))\n",
      "    for k, ia in enumerate(atmlst):\n",
      "        p0, p1 = aoslices [ia,2:]\n",
      "        h1ao = hcore_deriv(ia)\n",
      "        de[k] += numpy.einsum('xij,ij->x', h1ao, dm0)\n",
      "# nabla was applied on bra in vhf, *2 for the contributions of nabla|ket>\n",
      "        de[k] += numpy.einsum('xij,ij->x', vhf[:,p0:p1], dm0[p0:p1]) * 2\n",
      "        de[k] -= numpy.einsum('xij,ij->x', s1[:,p0:p1], dme0[p0:p1]) * 2\n",
      "\n",
      "        de[k] += mf_grad.extra_force(ia, locals())\n",
      "\n",
      "    if log.verbose >= logger.DEBUG:\n",
      "        log.debug('gradients of electronic part')\n",
      "        _write(log, mol, de, atmlst)\n",
      "    return de\n",
      "\n"
     ]
    }
   ],
   "source": [
    "print(inspect.getsource(g.grad_elec))"
   ]
  }
 ],
 "metadata": {
  "kernelspec": {
   "display_name": "Python 3",
   "language": "python",
   "name": "python3"
  },
  "language_info": {
   "codemirror_mode": {
    "name": "ipython",
    "version": 3
   },
   "file_extension": ".py",
   "mimetype": "text/x-python",
   "name": "python",
   "nbconvert_exporter": "python",
   "pygments_lexer": "ipython3",
   "version": "3.7.3"
  }
 },
 "nbformat": 4,
 "nbformat_minor": 4
}
