{
 "cells": [
  {
   "cell_type": "code",
   "execution_count": 120,
   "metadata": {},
   "outputs": [],
   "source": [
    "from pyscf.lib import krylov\n",
    "from pyscf import gto, scf\n",
    "import scipy\n",
    "import inspect\n",
    "import pyscf.qmmm\n",
    "import pyscf.dft\n",
    "import numpy as np\n",
    "angstrom = 1 / 0.52917721067\n",
    "from matplotlib import pyplot as plt\n",
    "from functools import reduce\n",
    "from numpy.linalg import inv \n",
    "from pyscf.scf import cphf \n",
    "\n",
    "def fc(calc,deltaZ):\n",
    "    mf = pyscf.qmmm.mm_charge(calc, calc.mol.atom_coords(), deltaZ)  # now is add_mm_charge\n",
    "    class NoSelfQMMM(mf.__class__):\n",
    "        def energy_nuc(self):\n",
    "            q = self.mol.atom_charges().astype(np.float).copy()\n",
    "            q1 =q+ np.asarray(deltaZ) \n",
    "            return self.mol.energy_nuc(q1)\n",
    "    return(NoSelfQMMM(mf,mf.mm_mol))\n",
    "\n",
    "def DeltaV(mol,dL):\n",
    "    mol.set_rinv_orig_(mol.atom_coords()[0])\n",
    "    dV=mol.intor('int1e_rinv')*dL[0]\n",
    "    mol.set_rinv_orig_(mol.atom_coords()[1])\n",
    "    dV+=mol.intor('int1e_rinv')*dL[1]\n",
    "    return -dV"
   ]
  },
  {
   "cell_type": "code",
   "execution_count": 121,
   "metadata": {},
   "outputs": [
    {
     "name": "stdout",
     "output_type": "stream",
     "text": [
      "converged SCF energy = -111.199724042754\n",
      "converged SCF energy = -111.192442208578\n"
     ]
    },
    {
     "name": "stderr",
     "output_type": "stream",
     "text": [
      "Warning: <pyscf.gto.mole.Mole object at 0x7f972f3bbda0> must be initialized before calling SCF.\n",
      "Initialize <pyscf.gto.mole.Mole object at 0x7f972f3bbda0> in <pyscf.scf.hf.RHF object at 0x7f972f3bbef0>\n"
     ]
    },
    {
     "name": "stdout",
     "output_type": "stream",
     "text": [
      "converged SCF energy = -111.207008805405\n"
     ]
    }
   ],
   "source": [
    "mol=gto.Mole(atom=\"C 0 0 0 ;O 0 0 2.\", unit=\"Bohr\", basis= \"sto-3g\")\n",
    "mf=scf.RHF(mol)\n",
    "mf.scf()\n",
    "dL=.001\n",
    "mf1=fc(mf,[dL,-dL])\n",
    "mf1.scf()\n",
    "mf2=fc(mf,[-dL,dL])\n",
    "mf2.scf()\n",
    "dV=DeltaV(mol,[dL,-dL])\n",
    "h2=mf.get_veff()\n",
    "dh2=(mf1.get_veff()-mf2.get_veff())/2\n",
    "J,K=mf.get_jk()\n",
    "g_ijkl=mf.mol.intor('int2e_sph')\n",
    "g_h2=g_ijkl-np.swapaxes(g_ijkl,1,2)/2\n",
    "nocc= mol.nelec[0]\n",
    "\n",
    "\n",
    "C=mf.mo_coeff\n",
    "nmo=C.shape[0]\n",
    "nvir=nmo-nocc\n",
    "S=mf.get_ovlp()\n",
    "e=mf.mo_energy\n",
    "E=np.diag(e)\n",
    "O=np.diag(mf.mo_occ)\n",
    "C1=mf1.mo_coeff\n",
    "P=mf.make_rdm1()\n",
    "P1=mf1.make_rdm1()\n",
    "P2=mf2.make_rdm1() \n",
    "dP=(P1-P2)/2\n",
    "dP2=(P1-2*P+P2)/dL**2\n",
    "dC=(abs(C1)*C/abs(C)-C)\n",
    "dV_mo=C.T@dV@C"
   ]
  },
  {
   "cell_type": "code",
   "execution_count": 122,
   "metadata": {},
   "outputs": [],
   "source": [
    "def test(u_): # check density matrices comparing to the one ontained by FD\n",
    "    ut=np.zeros((nmo,nmo))\n",
    "    ut[nocc:,:nocc]=u_.reshape(nvir,nocc)\n",
    "    ut[:nocc,nocc:]=-u_.reshape(nvir,nocc).T\n",
    "    dP_app=C@(ut@O-O@ut)@C.T    \n",
    "    print(np.linalg.norm(dP))\n",
    "    print(np.linalg.norm(dP_app))\n",
    "    print(np.linalg.norm(dP_app-dP))"
   ]
  },
  {
   "cell_type": "code",
   "execution_count": 123,
   "metadata": {},
   "outputs": [
    {
     "data": {
      "text/plain": [
       "(10, 7, 3)"
      ]
     },
     "execution_count": 123,
     "metadata": {},
     "output_type": "execute_result"
    }
   ],
   "source": [
    "nmo,nocc,nvir"
   ]
  },
  {
   "cell_type": "code",
   "execution_count": 124,
   "metadata": {},
   "outputs": [],
   "source": [
    "em1,em2=np.meshgrid(e,e)\n",
    "emeshvo=(em1-em2)[nocc:,:nocc]\n",
    "emeshf=emeshvo.flatten()\n",
    "G_cphf=g_ijkl.copy()\n",
    "G_cphf=4*G_cphf -G_cphf.swapaxes(3,1)-G_cphf.swapaxes(1,2)\n",
    "G_cphf=G_cphf@C\n",
    "G_cphf=(G_cphf.swapaxes(2,3)@C).swapaxes(3,2)\n",
    "G_cphf=(G_cphf.swapaxes(1,3)@C).swapaxes(3,1)\n",
    "G_cphf=(G_cphf.swapaxes(0,3)@C).swapaxes(3,0)\n",
    "\n",
    "G_cphfvovo=G_cphf.copy()[nocc:,:nocc,nocc:,:nocc]    #aibj"
   ]
  },
  {
   "cell_type": "code",
   "execution_count": 125,
   "metadata": {},
   "outputs": [],
   "source": [
    "U_0=dV_mo.copy()\n",
    "for i in range(mol.nao):\n",
    "    for a in range(mol.nao):\n",
    "        if e[i] !=e[a] :\n",
    "            U_0[i,a]/=(e[a]-e[i])"
   ]
  },
  {
   "cell_type": "code",
   "execution_count": 126,
   "metadata": {
    "scrolled": true
   },
   "outputs": [],
   "source": [
    "U_0vo=U_0[nocc:,:nocc]\n",
    "U_0f=U_0vo.flatten()"
   ]
  },
  {
   "cell_type": "code",
   "execution_count": 127,
   "metadata": {},
   "outputs": [],
   "source": [
    "dVvo=(dV_mo[nocc:,:nocc])\n",
    "dVf=dVvo.flatten()"
   ]
  },
  {
   "cell_type": "code",
   "execution_count": 128,
   "metadata": {},
   "outputs": [
    {
     "name": "stdout",
     "output_type": "stream",
     "text": [
      "[[ 6.09412400e-21  1.64229498e-20 -1.93372085e-19 -9.05402235e-19\n",
      "   5.52847144e-04 -8.45971617e-06 -7.04013080e-19]\n",
      " [-1.32721528e-20  4.44527460e-21  5.38668155e-21  2.04544456e-19\n",
      "   8.45971617e-06  5.52847144e-04  1.04041849e-19]\n",
      " [-2.60636670e-05 -2.90750246e-05  1.92854913e-04 -1.26016070e-04\n",
      "  -2.46495168e-19  5.08792645e-20 -1.64871398e-04]] \n",
      "\n",
      "[[ 6.09412400e-21  1.64229498e-20 -1.93372085e-19 -9.05402235e-19\n",
      "   5.52847144e-04 -8.45971617e-06 -7.04013080e-19]\n",
      " [-1.32721528e-20  4.44527460e-21  5.38668155e-21  2.04544456e-19\n",
      "   8.45971617e-06  5.52847144e-04  1.04041849e-19]\n",
      " [-2.60636670e-05 -2.90750246e-05  1.92854913e-04 -1.26016070e-04\n",
      "  -2.46495168e-19  5.08792645e-20 -1.64871398e-04]]\n"
     ]
    }
   ],
   "source": [
    "print(dVvo/emeshvo,'\\n')\n",
    "print(U_0vo)"
   ]
  },
  {
   "cell_type": "code",
   "execution_count": 129,
   "metadata": {},
   "outputs": [
    {
     "name": "stdout",
     "output_type": "stream",
     "text": [
      "[ 6.09412400e-21  1.64229498e-20 -1.93372085e-19 -9.05402235e-19\n",
      "  5.52847144e-04 -8.45971617e-06 -7.04013080e-19 -1.32721528e-20\n",
      "  4.44527460e-21  5.38668155e-21  2.04544456e-19  8.45971617e-06\n",
      "  5.52847144e-04  1.04041849e-19 -2.60636670e-05 -2.90750246e-05\n",
      "  1.92854913e-04 -1.26016070e-04 -2.46495168e-19  5.08792645e-20\n",
      " -1.64871398e-04] \n",
      "\n",
      "[ 6.09412400e-21  1.64229498e-20 -1.93372085e-19 -9.05402235e-19\n",
      "  5.52847144e-04 -8.45971617e-06 -7.04013080e-19 -1.32721528e-20\n",
      "  4.44527460e-21  5.38668155e-21  2.04544456e-19  8.45971617e-06\n",
      "  5.52847144e-04  1.04041849e-19 -2.60636670e-05 -2.90750246e-05\n",
      "  1.92854913e-04 -1.26016070e-04 -2.46495168e-19  5.08792645e-20\n",
      " -1.64871398e-04]\n"
     ]
    }
   ],
   "source": [
    "print(dVf/emeshf,'\\n')\n",
    "print(U_0f)"
   ]
  },
  {
   "cell_type": "code",
   "execution_count": 130,
   "metadata": {},
   "outputs": [],
   "source": [
    "def emul(_u):\n",
    "    return _u/emeshf"
   ]
  },
  {
   "cell_type": "code",
   "execution_count": 131,
   "metadata": {},
   "outputs": [
    {
     "data": {
      "text/plain": [
       "array([ 6.09412400e-21,  1.64229498e-20, -1.93372085e-19, -9.05402235e-19,\n",
       "        5.52847144e-04, -8.45971617e-06, -7.04013080e-19, -1.32721528e-20,\n",
       "        4.44527460e-21,  5.38668155e-21,  2.04544456e-19,  8.45971617e-06,\n",
       "        5.52847144e-04,  1.04041849e-19, -2.60636670e-05, -2.90750246e-05,\n",
       "        1.92854913e-04, -1.26016070e-04, -2.46495168e-19,  5.08792645e-20,\n",
       "       -1.64871398e-04])"
      ]
     },
     "execution_count": 131,
     "metadata": {},
     "output_type": "execute_result"
    }
   ],
   "source": [
    "emul(dVf)"
   ]
  },
  {
   "cell_type": "markdown",
   "metadata": {},
   "source": [
    "Now the inverse"
   ]
  },
  {
   "cell_type": "code",
   "execution_count": 132,
   "metadata": {},
   "outputs": [
    {
     "name": "stdout",
     "output_type": "stream",
     "text": [
      "[-1.26793162e-19 -1.87993046e-19  3.60980919e-19  9.56057883e-19\n",
      " -5.21887952e-04  7.98597586e-06  5.60669325e-19  2.76137837e-19\n",
      " -5.08849338e-20 -1.00556875e-20 -2.15988356e-19 -7.98597586e-06\n",
      " -5.21887952e-04 -8.28579393e-20  5.63855928e-04  3.56894680e-04\n",
      " -5.19696475e-04  2.37405875e-04  4.36785880e-19 -9.01573221e-20\n",
      "  2.67813078e-04] \n",
      "\n",
      "[-1.26793162e-19 -1.87993046e-19  3.60980919e-19  9.56057883e-19\n",
      " -5.21887952e-04  7.98597586e-06  5.60669325e-19  2.76137837e-19\n",
      " -5.08849338e-20 -1.00556875e-20 -2.15988356e-19 -7.98597586e-06\n",
      " -5.21887952e-04 -8.28579393e-20  5.63855928e-04  3.56894680e-04\n",
      " -5.19696475e-04  2.37405875e-04  4.36785880e-19 -9.01573221e-20\n",
      "  2.67813078e-04]\n"
     ]
    }
   ],
   "source": [
    "print(dVf,'\\n')\n",
    "print(U_0f*emeshf)"
   ]
  },
  {
   "cell_type": "code",
   "execution_count": 133,
   "metadata": {},
   "outputs": [],
   "source": [
    "def emul2(_u):\n",
    "    return _u*emeshf #from U gives dV"
   ]
  },
  {
   "cell_type": "code",
   "execution_count": 134,
   "metadata": {},
   "outputs": [
    {
     "name": "stdout",
     "output_type": "stream",
     "text": [
      "[-1.26793162e-19 -1.87993046e-19  3.60980919e-19  9.56057883e-19\n",
      " -5.21887952e-04  7.98597586e-06  5.60669325e-19  2.76137837e-19\n",
      " -5.08849338e-20 -1.00556875e-20 -2.15988356e-19 -7.98597586e-06\n",
      " -5.21887952e-04 -8.28579393e-20  5.63855928e-04  3.56894680e-04\n",
      " -5.19696475e-04  2.37405875e-04  4.36785880e-19 -9.01573221e-20\n",
      "  2.67813078e-04] \n",
      "\n",
      "[-1.26793162e-19 -1.87993046e-19  3.60980919e-19  9.56057883e-19\n",
      " -5.21887952e-04  7.98597586e-06  5.60669325e-19  2.76137837e-19\n",
      " -5.08849338e-20 -1.00556875e-20 -2.15988356e-19 -7.98597586e-06\n",
      " -5.21887952e-04 -8.28579393e-20  5.63855928e-04  3.56894680e-04\n",
      " -5.19696475e-04  2.37405875e-04  4.36785880e-19 -9.01573221e-20\n",
      "  2.67813078e-04]\n"
     ]
    }
   ],
   "source": [
    "print(dVf,'\\n')\n",
    "print(emul2(U_0f))"
   ]
  },
  {
   "cell_type": "code",
   "execution_count": 135,
   "metadata": {},
   "outputs": [],
   "source": [
    "def emul3(_u):\n",
    "    return _u*emeshf-_u #from U gives dV"
   ]
  },
  {
   "cell_type": "code",
   "execution_count": 136,
   "metadata": {},
   "outputs": [],
   "source": [
    "uk=krylov(emul3,dVf)"
   ]
  },
  {
   "cell_type": "code",
   "execution_count": 137,
   "metadata": {},
   "outputs": [
    {
     "name": "stdout",
     "output_type": "stream",
     "text": [
      "[ 6.09412400e-21  1.64229498e-20 -1.93372085e-19 -9.05402235e-19\n",
      "  5.52847144e-04 -8.45971617e-06 -7.04013080e-19 -1.32721528e-20\n",
      "  4.44527460e-21  5.38668155e-21  2.04544456e-19  8.45971617e-06\n",
      "  5.52847144e-04  1.04041849e-19 -2.60636670e-05 -2.90750246e-05\n",
      "  1.92854913e-04 -1.26016070e-04 -2.46495168e-19  5.08792645e-20\n",
      " -1.64871398e-04]\n",
      "[ 2.72464657e-18 -5.62164436e-19 -1.93310908e-19 -9.14132761e-19\n",
      "  5.52847144e-04 -8.45971617e-06 -6.83459859e-19 -5.93390053e-18\n",
      " -1.52163608e-19  5.38497736e-21  2.06516818e-19  8.45971617e-06\n",
      "  5.52847144e-04  1.01004412e-19 -2.60636670e-05 -2.90750246e-05\n",
      "  1.92854913e-04 -1.26016070e-04 -2.46181125e-19  5.08144425e-20\n",
      " -1.64871398e-04]\n"
     ]
    },
    {
     "data": {
      "text/plain": [
       "True"
      ]
     },
     "execution_count": 137,
     "metadata": {},
     "output_type": "execute_result"
    }
   ],
   "source": [
    "print(U_0f)\n",
    "print(uk)\n",
    "np.allclose(uk,U_0f)"
   ]
  },
  {
   "cell_type": "markdown",
   "metadata": {},
   "source": [
    "now add the electronic repulsion response other part !!!!"
   ]
  },
  {
   "cell_type": "code",
   "execution_count": 138,
   "metadata": {},
   "outputs": [],
   "source": [
    "def gmul(_u):\n",
    "    return np.einsum('ijkl,kl->ij',G_cphfvovo,_u.reshape(nvir,nocc)).flatten()"
   ]
  },
  {
   "cell_type": "code",
   "execution_count": 139,
   "metadata": {},
   "outputs": [],
   "source": [
    "def amul(_u):\n",
    "    return emul3(_u)-gmul(_u)"
   ]
  },
  {
   "cell_type": "code",
   "execution_count": 140,
   "metadata": {},
   "outputs": [
    {
     "data": {
      "text/plain": [
       "array([-1.76818447e-18,  4.06614542e-19, -1.47551421e-19, -5.94309241e-19,\n",
       "        3.42455672e-04, -5.24028715e-06, -3.68744799e-19,  3.67475149e-18,\n",
       "        1.16306379e-19, -1.72650045e-19, -4.56940262e-20,  5.24028715e-06,\n",
       "        3.42455672e-04,  5.36797317e-20, -3.15105216e-05, -2.58489606e-05,\n",
       "        2.46600960e-04, -1.77547344e-04, -3.53856764e-19, -4.91269305e-20,\n",
       "       -2.53085062e-04])"
      ]
     },
     "execution_count": 140,
     "metadata": {},
     "output_type": "execute_result"
    }
   ],
   "source": [
    "gmul(uk)"
   ]
  },
  {
   "cell_type": "code",
   "execution_count": 141,
   "metadata": {},
   "outputs": [
    {
     "data": {
      "text/plain": [
       "(array([-5.49202837e-17,  6.02846601e-18,  5.08418137e-19,  1.55958611e-18,\n",
       "        -8.64343624e-04,  1.32262630e-05,  9.13045734e-19,  1.19784832e-16,\n",
       "         1.62550618e-18,  1.62597539e-19, -1.72377041e-19, -1.32262630e-05,\n",
       "        -8.64343624e-04, -1.34118685e-19,  5.95366450e-04,  3.82743640e-04,\n",
       "        -7.66297436e-04,  4.14953219e-04,  7.90086164e-19, -4.09155281e-20,\n",
       "         5.20898139e-04]),\n",
       " array([[-1.26793162e-19, -1.87993046e-19,  3.60980919e-19,\n",
       "          9.56057883e-19, -5.21887952e-04,  7.98597586e-06,\n",
       "          5.60669325e-19],\n",
       "        [ 2.76137837e-19, -5.08849338e-20, -1.00556875e-20,\n",
       "         -2.15988356e-19, -7.98597586e-06, -5.21887952e-04,\n",
       "         -8.28579393e-20],\n",
       "        [ 5.63855928e-04,  3.56894680e-04, -5.19696475e-04,\n",
       "          2.37405875e-04,  4.36785880e-19, -9.01573221e-20,\n",
       "          2.67813078e-04]]))"
      ]
     },
     "execution_count": 141,
     "metadata": {},
     "output_type": "execute_result"
    }
   ],
   "source": [
    "(amul(uk)+uk),dVvo"
   ]
  },
  {
   "cell_type": "code",
   "execution_count": 142,
   "metadata": {},
   "outputs": [],
   "source": [
    "uk=krylov(amul,dVf)"
   ]
  },
  {
   "cell_type": "code",
   "execution_count": 143,
   "metadata": {},
   "outputs": [
    {
     "name": "stdout",
     "output_type": "stream",
     "text": [
      "[ 4.48937412e-18 -9.05562410e-19 -1.21695183e-19 -4.80771798e-19\n",
      "  3.36959549e-04 -5.15618498e-06 -4.48430231e-19 -6.07527315e-18\n",
      " -3.31178552e-19 -1.84653600e-20  1.20387196e-19  5.15618498e-06\n",
      "  3.36959549e-04  5.81862480e-20 -2.55809124e-05 -2.86400691e-05\n",
      "  1.42063580e-04 -6.58925086e-05 -8.72818632e-20 -1.08090017e-20\n",
      " -6.05167367e-05]\n",
      "[ 6.09412400e-21  1.64229498e-20 -1.93372085e-19 -9.05402235e-19\n",
      "  5.52847144e-04 -8.45971617e-06 -7.04013080e-19 -1.32721528e-20\n",
      "  4.44527460e-21  5.38668155e-21  2.04544456e-19  8.45971617e-06\n",
      "  5.52847144e-04  1.04041849e-19 -2.60636670e-05 -2.90750246e-05\n",
      "  1.92854913e-04 -1.26016070e-04 -2.46495168e-19  5.08792645e-20\n",
      " -1.64871398e-04]\n"
     ]
    }
   ],
   "source": [
    "print(uk)\n",
    "print(U_0f)"
   ]
  },
  {
   "cell_type": "code",
   "execution_count": 144,
   "metadata": {
    "scrolled": true
   },
   "outputs": [
    {
     "name": "stdout",
     "output_type": "stream",
     "text": [
      "0.001789276910303951\n",
      "0.002966157574886327\n",
      "0.0012701585584829094\n"
     ]
    }
   ],
   "source": [
    "test(U_0f)"
   ]
  },
  {
   "cell_type": "code",
   "execution_count": 145,
   "metadata": {},
   "outputs": [
    {
     "name": "stdout",
     "output_type": "stream",
     "text": [
      "0.001789276910303951\n",
      "0.0017892788637832555\n",
      "3.8623960143578005e-09\n"
     ]
    }
   ],
   "source": [
    "test(uk)"
   ]
  },
  {
   "cell_type": "code",
   "execution_count": null,
   "metadata": {},
   "outputs": [],
   "source": []
  }
 ],
 "metadata": {
  "kernelspec": {
   "display_name": "Python 3",
   "language": "python",
   "name": "python3"
  },
  "language_info": {
   "codemirror_mode": {
    "name": "ipython",
    "version": 3
   },
   "file_extension": ".py",
   "mimetype": "text/x-python",
   "name": "python",
   "nbconvert_exporter": "python",
   "pygments_lexer": "ipython3",
   "version": "3.7.4"
  }
 },
 "nbformat": 4,
 "nbformat_minor": 2
}
