{
 "cells": [
  {
   "cell_type": "markdown",
   "metadata": {},
   "source": [
    "Goal of this notebook is to understand how to call cphf.solve_nos1(fvind, mo_energy, mo_occ, h1,max_cycle=20, tol=1e-9, hermi=False)  (better the shape of the arrays passed as arguments)"
   ]
  },
  {
   "cell_type": "code",
   "execution_count": 1,
   "metadata": {},
   "outputs": [],
   "source": [
    "import pyscf\n",
    "import pyscf.qmmm\n",
    "from pyscf import gto, scf\n",
    "import numpy as np\n",
    "import matplotlib.pyplot as plt\n",
    "import inspect\n",
    "#from pyscf.geomopt.berny_solver import optimize\n",
    "#from pyscf.grad import rhf as grhf\n",
    "from pyscf.hessian import rhf as hrhf\n",
    "from pyscf import lib\n",
    "import inspect\n",
    "from functools import reduce\n",
    "from pyscf.scf import cphf\n",
    "from pyscf.prop.polarizability.rhf import Polarizability\n",
    "angstrom = 1 / 0.52917721067\n",
    "#from pyscf.scf._response_functions import _gen_rhf_response "
   ]
  },
  {
   "cell_type": "code",
   "execution_count": 2,
   "metadata": {},
   "outputs": [],
   "source": [
    "def DeltaV(mol,dL):\n",
    "    mol.set_rinv_orig_(mol.atom_coords()[0])\n",
    "    dV=mol.intor('int1e_rinv')*dL[0]\n",
    "    mol.set_rinv_orig_(mol.atom_coords()[1])\n",
    "    dV+=mol.intor('int1e_rinv')*dL[1]\n",
    "    return -dV.reshape((1,dV.shape[0],dV.shape[1]))\n",
    "\n",
    "def fc(calc,deltaZ):\n",
    "    mf = pyscf.qmmm.mm_charge(calc, calc.mol.atom_coords(), deltaZ)  # now is add_mm_charge\n",
    "    class NoSelfQMMM(mf.__class__):\n",
    "        def energy_nuc(self):\n",
    "            q = self.mol.atom_charges().astype(np.float).copy()\n",
    "            q1 =q+ np.asarray(deltaZ) \n",
    "            return self.mol.energy_nuc(q1)\n",
    "    return(NoSelfQMMM(mf,mf.mm_mol))"
   ]
  },
  {
   "cell_type": "code",
   "execution_count": 3,
   "metadata": {},
   "outputs": [],
   "source": [
    "import time\n",
    "from functools import reduce\n",
    "import numpy\n",
    "from pyscf import lib\n",
    "from pyscf.lib import logger\n",
    "from pyscf.scf import cphf\n",
    "from pyscf.prop.nmr import rhf as rhf_nmr\n",
    "#from pyscf.scf import _gen_rhf_response\n",
    "\n",
    "def dipole(mf):\n",
    "    return mf.dip_moment(mf.mol, mf.make_rdm1())\n",
    "\n",
    "\n",
    "def polarizability(polobj, with_cphf=False):\n",
    "    log = logger.new_logger(polobj)\n",
    "    mf = polobj._scf\n",
    "    mol = mf.mol\n",
    "    mo_energy = mf.mo_energy\n",
    "    mo_coeff = mf.mo_coeff\n",
    "    mo_occ = mf.mo_occ\n",
    "    occidx = mo_occ > 0\n",
    "    orbo = mo_coeff[:, occidx]\n",
    "    orbv = mo_coeff[:,~occidx]\n",
    "\n",
    "    charges = mol.atom_charges()\n",
    "    coords  = mol.atom_coords()\n",
    "    charge_center = numpy.einsum('i,ix->x', charges, coords) / charges.sum()\n",
    "    int_r=DeltaV(mol,[.001,-.001])\n",
    "    h1 = lib.einsum('xpq,pi,qj->xij', int_r, mo_coeff.conj(), orbo) #going to molecular orbitals?\n",
    "    print(h1.shape, \"shape (1, n ao, nocc)\" )\n",
    "    #print(mo_energy, mo_occ,h1)\n",
    "    s1 = numpy.zeros_like(h1)\n",
    "    vind = polobj.gen_vind(mf, mo_coeff, mo_occ)\n",
    "    if with_cphf:\n",
    "        mo1 = cphf.solve(vind, mo_energy, mo_occ, h1, s1, polobj.max_cycle_cphf, polobj.conv_tol,verbose=log)[0]\n",
    "    else:\n",
    "        mo1 = rhf_nmr._solve_mo1_uncoupled(mo_energy, mo_occ, h1, s1)[0]\n",
    "    #e2 = numpy.einsum('xpi,ypi->xy', h1, mo1)\n",
    "    # *-1 from the definition of dipole moment. *2 for double occupancy\n",
    "    #e2 = (e2 + e2.T) * -2\n",
    "    #return e2\n",
    "    return mo1\n",
    "\n",
    "def gen_vind(self, mf, mo_coeff, mo_occ):  #polarizability\n",
    "        '''Induced potential'''\n",
    "        vresp = mf.gen_response(hermi=1)\n",
    "        occidx = mo_occ > 0\n",
    "        orbo = mo_coeff[:, occidx]\n",
    "        nocc = orbo.shape[1]\n",
    "        nao, nmo = mo_coeff.shape\n",
    "        def vind(mo1):\n",
    "            dm1 = lib.einsum('xai,pa,qi->xpq', mo1.reshape(-1,nmo,nocc), mo_coeff,orbo.conj())\n",
    "            dm1 = (dm1 + dm1.transpose(0,2,1).conj()) * 2\n",
    "            v1mo = lib.einsum('xpq,pi,qj->xij', vresp(dm1), mo_coeff.conj(), orbo)\n",
    "            return v1mo.ravel()\n",
    "        return vind"
   ]
  },
  {
   "cell_type": "code",
   "execution_count": 4,
   "metadata": {
    "scrolled": true
   },
   "outputs": [
    {
     "name": "stderr",
     "output_type": "stream",
     "text": [
      "Warning: <pyscf.gto.mole.Mole object at 0x7f5f9ca58910> must be initialized before calling SCF.\n",
      "Initialize <pyscf.gto.mole.Mole object at 0x7f5f9ca58910> in <pyscf.scf.hf.RHF object at 0x7f5fc811eb50>\n"
     ]
    },
    {
     "name": "stdout",
     "output_type": "stream",
     "text": [
      "converged SCF energy = -1.11033388268018\n"
     ]
    }
   ],
   "source": [
    "mol = gto.Mole(atom='H 0 0 0; H 0 0 1.2', unit=\"Bohr\",basis=\"STO-3G\")\n",
    "#mol=gto.Mole(atom=\"C 0 0 0 ;O 0 0 2.\", unit=\"Bohr\", basis= \"3-21G\")\n",
    "mf = scf.RHF(mol)\n",
    "e=mf.scf()"
   ]
  },
  {
   "cell_type": "code",
   "execution_count": 5,
   "metadata": {},
   "outputs": [],
   "source": [
    "plo=Polarizability(mf) #polariz obj"
   ]
  },
  {
   "cell_type": "code",
   "execution_count": 6,
   "metadata": {
    "scrolled": true
   },
   "outputs": [
    {
     "name": "stdout",
     "output_type": "stream",
     "text": [
      "(1, 2, 1) shape (1, n ao, nocc)\n"
     ]
    }
   ],
   "source": [
    "pa=polarizability(plo)"
   ]
  },
  {
   "cell_type": "code",
   "execution_count": 7,
   "metadata": {},
   "outputs": [
    {
     "data": {
      "text/plain": [
       "array([[[-0.        ],\n",
       "        [ 0.00051448]]])"
      ]
     },
     "execution_count": 7,
     "metadata": {},
     "output_type": "execute_result"
    }
   ],
   "source": [
    "pa"
   ]
  },
  {
   "cell_type": "code",
   "execution_count": null,
   "metadata": {},
   "outputs": [],
   "source": []
  },
  {
   "cell_type": "code",
   "execution_count": 8,
   "metadata": {},
   "outputs": [
    {
     "data": {
      "text/plain": [
       "array([[[-0.00049905, -0.        ],\n",
       "        [-0.        ,  0.00049905]]])"
      ]
     },
     "execution_count": 8,
     "metadata": {},
     "output_type": "execute_result"
    }
   ],
   "source": [
    "DeltaV(mol,[.001,-.001])"
   ]
  },
  {
   "cell_type": "code",
   "execution_count": 9,
   "metadata": {},
   "outputs": [
    {
     "data": {
      "text/plain": [
       "-1.4163106156943293"
      ]
     },
     "execution_count": 9,
     "metadata": {},
     "output_type": "execute_result"
    }
   ],
   "source": [
    "mf.mo_energy[0]-mf.mo_energy[1]"
   ]
  },
  {
   "cell_type": "code",
   "execution_count": 10,
   "metadata": {},
   "outputs": [
    {
     "data": {
      "text/plain": [
       "array([[[-0.        ],\n",
       "        [ 0.00051448]]])"
      ]
     },
     "execution_count": 10,
     "metadata": {},
     "output_type": "execute_result"
    }
   ],
   "source": [
    "pa\n"
   ]
  },
  {
   "cell_type": "code",
   "execution_count": 11,
   "metadata": {},
   "outputs": [
    {
     "name": "stdout",
     "output_type": "stream",
     "text": [
      "converged SCF energy = -1.1103355584584\n"
     ]
    },
    {
     "data": {
      "text/plain": [
       "-1.1103355584583992"
      ]
     },
     "execution_count": 11,
     "metadata": {},
     "output_type": "execute_result"
    }
   ],
   "source": [
    "hf1=fc(mf,[.001,-0.001])\n",
    "hf1.scf()"
   ]
  },
  {
   "cell_type": "code",
   "execution_count": 12,
   "metadata": {},
   "outputs": [
    {
     "data": {
      "text/plain": [
       "array([[ 0.53859761, -1.35712572],\n",
       "       [ 0.53702883,  1.35774726]])"
      ]
     },
     "execution_count": 12,
     "metadata": {},
     "output_type": "execute_result"
    }
   ],
   "source": [
    "C1= hf1.mo_coeff\n",
    "C1"
   ]
  },
  {
   "cell_type": "code",
   "execution_count": 13,
   "metadata": {},
   "outputs": [],
   "source": [
    "C=np.flip(mf.mo_coeff.copy(),axis=0)"
   ]
  },
  {
   "cell_type": "code",
   "execution_count": 14,
   "metadata": {},
   "outputs": [
    {
     "data": {
      "text/plain": [
       "array([[ 0.53781331, -1.35743672],\n",
       "       [ 0.53781331,  1.35743672]])"
      ]
     },
     "execution_count": 14,
     "metadata": {},
     "output_type": "execute_result"
    }
   ],
   "source": [
    "C"
   ]
  },
  {
   "cell_type": "code",
   "execution_count": 15,
   "metadata": {},
   "outputs": [
    {
     "data": {
      "text/plain": [
       "array([[ 0.0007843 ,  0.000311  ],\n",
       "       [-0.00078448,  0.00031055]])"
      ]
     },
     "execution_count": 15,
     "metadata": {},
     "output_type": "execute_result"
    }
   ],
   "source": [
    "C1-C"
   ]
  },
  {
   "cell_type": "code",
   "execution_count": 16,
   "metadata": {},
   "outputs": [
    {
     "data": {
      "text/plain": [
       "array([[ 0.        ,  0.00051448],\n",
       "       [-0.00051448,  0.        ]])"
      ]
     },
     "execution_count": 16,
     "metadata": {},
     "output_type": "execute_result"
    }
   ],
   "source": [
    "nao=mol.nao\n",
    "nocc=mol.nelectron//2 #RHF\n",
    "U=np.zeros((nao,nao))\n",
    "U[:,:nocc]=pa[0,:,:nocc]\n",
    "U=U.T-U\n",
    "U"
   ]
  },
  {
   "cell_type": "code",
   "execution_count": 17,
   "metadata": {},
   "outputs": [
    {
     "data": {
      "text/plain": [
       "array([[-8.59249391e-05, -3.43054675e-05],\n",
       "       [ 8.61045192e-05, -3.38522087e-05]])"
      ]
     },
     "execution_count": 17,
     "metadata": {},
     "output_type": "execute_result"
    }
   ],
   "source": [
    "C@U-(C1-C)"
   ]
  },
  {
   "cell_type": "code",
   "execution_count": 18,
   "metadata": {},
   "outputs": [
    {
     "data": {
      "text/plain": [
       "(array([[ 0.53851169, -1.35716002],\n",
       "        [ 0.53711493,  1.35771341]]),\n",
       " array([[ 0.53859761, -1.35712572],\n",
       "        [ 0.53702883,  1.35774726]]))"
      ]
     },
     "execution_count": 18,
     "metadata": {},
     "output_type": "execute_result"
    }
   ],
   "source": [
    "C+C@U,C1"
   ]
  },
  {
   "cell_type": "code",
   "execution_count": 19,
   "metadata": {},
   "outputs": [
    {
     "name": "stderr",
     "output_type": "stream",
     "text": [
      "Warning: <pyscf.gto.mole.Mole object at 0x7f93a774e690> must be initialized before calling SCF.\n",
      "Initialize <pyscf.gto.mole.Mole object at 0x7f93a774e690> in <pyscf.scf.hf.RHF object at 0x7f93a7762c10>\n"
     ]
    },
    {
     "name": "stdout",
     "output_type": "stream",
     "text": [
      "converged SCF energy = -112.786331647844\n"
     ]
    }
   ],
   "source": [
    "mol=gto.Mole(atom=\"C 0 0 0 ;O 0 0 2.\", unit=\"Bohr\", basis= \"def2-QZVPP\")\n",
    "mf = scf.RHF(mol)\n",
    "e=mf.scf()\n",
    "C=mf.mo_coeff\n",
    "P=mf.make_rdm1()"
   ]
  },
  {
   "cell_type": "code",
   "execution_count": 40,
   "metadata": {},
   "outputs": [],
   "source": [
    "plo=Polarizability(mf)"
   ]
  },
  {
   "cell_type": "code",
   "execution_count": 41,
   "metadata": {},
   "outputs": [
    {
     "name": "stdout",
     "output_type": "stream",
     "text": [
      "(1, 114, 7) shape (1, n ao, nocc)\n",
      "converged SCF energy = -112.778763010131\n"
     ]
    }
   ],
   "source": [
    "pa=polarizability(plo)\n",
    "hf1=fc(mf,[.001,-0.001])\n",
    "hf1.scf()\n",
    "P1=hf1.make_rdm1()"
   ]
  },
  {
   "cell_type": "code",
   "execution_count": 42,
   "metadata": {},
   "outputs": [],
   "source": [
    "nao=mol.nao\n",
    "nocc=mol.nelectron//2 #RHF\n",
    "U=np.zeros((nao,nao))\n",
    "U[:,:nocc]=pa[0,:,:nocc]\n",
    "U=U-U.T\n",
    "O=np.diag(mf.mo_occ)"
   ]
  },
  {
   "cell_type": "code",
   "execution_count": 43,
   "metadata": {},
   "outputs": [],
   "source": [
    "dP_app=C@(U@O-O@U)@C.T  #COC+"
   ]
  },
  {
   "cell_type": "code",
   "execution_count": 44,
   "metadata": {},
   "outputs": [
    {
     "data": {
      "text/plain": [
       "0.0005164201220890785"
      ]
     },
     "execution_count": 44,
     "metadata": {},
     "output_type": "execute_result"
    }
   ],
   "source": [
    "np.max(P1-P)"
   ]
  },
  {
   "cell_type": "code",
   "execution_count": 45,
   "metadata": {},
   "outputs": [
    {
     "data": {
      "text/plain": [
       "0.0005190328507654721"
      ]
     },
     "execution_count": 45,
     "metadata": {},
     "output_type": "execute_result"
    }
   ],
   "source": [
    "np.max(dP_app)"
   ]
  },
  {
   "cell_type": "code",
   "execution_count": 46,
   "metadata": {},
   "outputs": [
    {
     "data": {
      "text/plain": [
       "0.00012764297856686369"
      ]
     },
     "execution_count": 46,
     "metadata": {},
     "output_type": "execute_result"
    }
   ],
   "source": [
    "np.max(dP_app-P1+P)"
   ]
  },
  {
   "cell_type": "code",
   "execution_count": 30,
   "metadata": {},
   "outputs": [
    {
     "data": {
      "text/plain": [
       "(1, 114, 114)"
      ]
     },
     "execution_count": 30,
     "metadata": {},
     "output_type": "execute_result"
    }
   ],
   "source": [
    "DeltaV(mol,[.001,-.001]).shape"
   ]
  },
  {
   "cell_type": "code",
   "execution_count": 32,
   "metadata": {},
   "outputs": [],
   "source": [
    "dE= np.trace(dP_app.dot(DeltaV(mol,[.001,-.001])[0]))"
   ]
  },
  {
   "cell_type": "code",
   "execution_count": 33,
   "metadata": {},
   "outputs": [
    {
     "data": {
      "text/plain": [
       "-0.004274134734058131"
      ]
     },
     "execution_count": 33,
     "metadata": {},
     "output_type": "execute_result"
    }
   ],
   "source": [
    "dE/.001/2 # without CPHF "
   ]
  },
  {
   "cell_type": "code",
   "execution_count": 35,
   "metadata": {},
   "outputs": [
    {
     "data": {
      "text/plain": [
       "-0.004274134734058131"
      ]
     },
     "execution_count": 35,
     "metadata": {},
     "output_type": "execute_result"
    }
   ],
   "source": [
    "dE/.001/2 # with CPHF "
   ]
  },
  {
   "cell_type": "code",
   "execution_count": 37,
   "metadata": {},
   "outputs": [
    {
     "name": "stdout",
     "output_type": "stream",
     "text": [
      "(1, 114, 7) shape (1, n ao, nocc)\n"
     ]
    }
   ],
   "source": [
    "pa2=polarizability(plo,with_cphf=False)\n",
    "U2=np.zeros((nao,nao))\n",
    "U2[:,:nocc]=pa[0,:,:nocc]\n",
    "U2=U2-U2.T\n",
    "dP_app2=C@(U2@O-O@U2)@C.T "
   ]
  },
  {
   "cell_type": "code",
   "execution_count": 38,
   "metadata": {},
   "outputs": [
    {
     "data": {
      "text/plain": [
       "-0.004274134734058131"
      ]
     },
     "execution_count": 38,
     "metadata": {},
     "output_type": "execute_result"
    }
   ],
   "source": [
    "dE2= np.trace(dP_app2.dot(DeltaV(mol,[.001,-.001])[0]))\n",
    "dE2/.001/2"
   ]
  },
  {
   "cell_type": "code",
   "execution_count": 39,
   "metadata": {},
   "outputs": [
    {
     "data": {
      "text/plain": [
       "0.0001276429811962465"
      ]
     },
     "execution_count": 39,
     "metadata": {},
     "output_type": "execute_result"
    }
   ],
   "source": [
    "np.max(dP_app2-P1+P)"
   ]
  }
 ],
 "metadata": {
  "kernelspec": {
   "display_name": "Python 3",
   "language": "python",
   "name": "python3"
  },
  "language_info": {
   "codemirror_mode": {
    "name": "ipython",
    "version": 3
   },
   "file_extension": ".py",
   "mimetype": "text/x-python",
   "name": "python",
   "nbconvert_exporter": "python",
   "pygments_lexer": "ipython3",
   "version": "3.7.6"
  }
 },
 "nbformat": 4,
 "nbformat_minor": 2
}
