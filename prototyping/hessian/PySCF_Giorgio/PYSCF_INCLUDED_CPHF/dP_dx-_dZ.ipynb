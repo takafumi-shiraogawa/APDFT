{
 "cells": [
  {
   "cell_type": "code",
   "execution_count": 1,
   "metadata": {},
   "outputs": [],
   "source": [
    "from pyscf import scf,gto\n",
    "from alch_deriv import alch_deriv\n",
    "import pyscf\n",
    "import numpy as np\n",
    "import inspect\n",
    "from FcMole import FcM\n",
    "from functools import reduce\n",
    "import matplotlib.pyplot as plt\n",
    "from pyscf.scf import cphf\n",
    "from pyscf.grad import rhf as grhf  #### very important\n",
    "from pyscf.hessian import rhf as hrhf # without those two mf.Gradients() and mf.Hessian() don't work\n",
    "def DeltaV(mol,dL):\n",
    "    mol.set_rinv_orig_(mol.atom_coords()[0])\n",
    "    dV=mol.intor('int1e_rinv')*dL[0]\n",
    "    mol.set_rinv_orig_(mol.atom_coords()[1])\n",
    "    dV+=mol.intor('int1e_rinv')*dL[1]\n",
    "    return -dV"
   ]
  },
  {
   "cell_type": "code",
   "execution_count": 2,
   "metadata": {},
   "outputs": [
    {
     "name": "stdout",
     "output_type": "stream",
     "text": [
      "converged SCF energy = -7.74106569060783\n"
     ]
    },
    {
     "name": "stderr",
     "output_type": "stream",
     "text": [
      "/home/giorgiod/miniconda3/lib/python3.7/site-packages/pyscf/lib/chkfile.py:71: H5pyDeprecationWarning: dataset.value has been deprecated. Use dataset[()] instead.\n",
      "  return val.value\n"
     ]
    }
   ],
   "source": [
    "mol=gto.M(atom=\"H 0 0 0; Li 0 0 1.8\",unit=\"Bohr\",basis=\"STO-3G\")\n",
    "mf=scf.RHF(mol)\n",
    "mf.scf(dm0=mf.init_guess_by_atom())\n",
    "P=mf.make_rdm1()\n",
    "hcore=mf.get_hcore()\n",
    "h=mf.Hessian()\n",
    "h.kernel()\n",
    "pass"
   ]
  },
  {
   "cell_type": "code",
   "execution_count": 102,
   "metadata": {},
   "outputs": [
    {
     "name": "stdout",
     "output_type": "stream",
     "text": [
      "converged SCF energy = -7.29896716736342\n"
     ]
    }
   ],
   "source": [
    "# mol with fract. charges\n",
    "fcs=[.1,-.1]\n",
    "fmol=FcM(fcs=fcs,atom=\"H 0 0 0; Li 0 0 1.8\",unit=\"Bohr\",basis=\"STO-3G\")\n",
    "fmf=scf.RHF(fmol)\n",
    "fmf.scf(dm0=fmf.init_guess_by_atom())\n",
    "fP=fmf.make_rdm1()\n",
    "fhcore=fmf.get_hcore()\n",
    "fh=fmf.Hessian()\n",
    "fh.kernel()\n",
    "pass"
   ]
  },
  {
   "cell_type": "code",
   "execution_count": 103,
   "metadata": {},
   "outputs": [
    {
     "name": "stdout",
     "output_type": "stream",
     "text": [
      "converged SCF energy = -7.7413864568394\n"
     ]
    }
   ],
   "source": [
    "# mol with streched bond  \n",
    "mol1=gto.M(atom=\"H 0 0 0; Li 0 0 1.801\",unit=\"Bohr\",basis=\"STO-3G\")\n",
    "mf1=scf.RHF(mol1)\n",
    "mf1.scf()\n",
    "hcore1=mf1.get_hcore()\n",
    "P1=mf1.make_rdm1()\n",
    "h1=mf1.Hessian()\n",
    "h1.kernel()\n",
    "dP_fd=P1-P"
   ]
  },
  {
   "cell_type": "code",
   "execution_count": 104,
   "metadata": {},
   "outputs": [],
   "source": [
    "mo_energy = mf.mo_energy\n",
    "mo_occ = mf.mo_occ\n",
    "mo_coeff = mf.mo_coeff\n",
    "C=mo_coeff\n",
    "atmlst = range(mol.natm)\n",
    "mocc = mo_coeff[:,mo_occ>0]"
   ]
  },
  {
   "cell_type": "code",
   "execution_count": 105,
   "metadata": {},
   "outputs": [],
   "source": [
    "fmo_energy = fmf.mo_energy\n",
    "fmo_occ = fmf.mo_occ\n",
    "fmo_coeff = fmf.mo_coeff\n",
    "fC=mo_coeff\n",
    "fatmlst = range(fmol.natm)\n",
    "fmocc = fmo_coeff[:,mo_occ>0]\n",
    "fh1ao = fh.make_h1(fmo_coeff, fmo_occ)\n",
    "fmo1_a0,fmo1_a1=fh.solve_mo1(fmo_energy,fmo_coeff,fmo_occ,fh1ao)[0]"
   ]
  },
  {
   "cell_type": "code",
   "execution_count": 106,
   "metadata": {},
   "outputs": [
    {
     "data": {
      "text/plain": [
       "(3, 6, 6)"
      ]
     },
     "execution_count": 106,
     "metadata": {},
     "output_type": "execute_result"
    }
   ],
   "source": [
    "h1ao = h.make_h1(mo_coeff,mo_occ)\n",
    "#h1ao[0][:]-=DeltaV(mol,[.01,-.01])\n",
    "#h1ao[1][:]-=DeltaV(mol,[.01,-.01])\n",
    "h1ao[0].shape"
   ]
  },
  {
   "cell_type": "code",
   "execution_count": 107,
   "metadata": {},
   "outputs": [],
   "source": [
    "mo1_a0,mo1_a1=h.solve_mo1(fmo_energy,fmo_coeff,fmo_occ,h1ao)[0]"
   ]
  },
  {
   "cell_type": "code",
   "execution_count": 108,
   "metadata": {},
   "outputs": [
    {
     "name": "stdout",
     "output_type": "stream",
     "text": [
      "[[ 0.0309  0.0363 -0.1188 -0.     -0.     -0.1399]\n",
      " [ 0.0363  0.0509 -0.1883 -0.      0.      0.2928]\n",
      " [-0.1188 -0.1883 -0.1065 -0.     -0.     -0.0034]\n",
      " [-0.     -0.     -0.      0.      0.      0.    ]\n",
      " [-0.      0.     -0.      0.      0.      0.    ]\n",
      " [-0.1399  0.2928 -0.0034  0.      0.      0.1914]]\n"
     ]
    }
   ],
   "source": [
    "dm1_0 = np.einsum('ypi,qi->ypq', mo1_a0, fmocc) #shape=(nocc,nocc)\n",
    "dm1_0[2]=(dm1_0[2]+dm1_0[2].T)*2\n",
    "print(np.round(dm1_0[2],decimals=4))"
   ]
  },
  {
   "cell_type": "code",
   "execution_count": 109,
   "metadata": {},
   "outputs": [
    {
     "name": "stdout",
     "output_type": "stream",
     "text": [
      "[[-0.0405  0.0091 -0.093  -0.     -0.     -0.1355]\n",
      " [ 0.0091  0.0624 -0.1816 -0.      0.      0.2657]\n",
      " [-0.093  -0.1816 -0.0708 -0.     -0.     -0.0317]\n",
      " [-0.     -0.     -0.      0.      0.      0.    ]\n",
      " [-0.      0.     -0.      0.      0.      0.    ]\n",
      " [-0.1355  0.2657 -0.0317  0.      0.      0.2028]]\n"
     ]
    }
   ],
   "source": [
    "fdm1_0 = np.einsum('ypi,qi->ypq', fmo1_a0, fmocc)\n",
    "fdm1_0[2]=(fdm1_0[2]+fdm1_0[2].T)*2\n",
    "print(np.round(fdm1_0[2],decimals=4))"
   ]
  },
  {
   "cell_type": "code",
   "execution_count": 110,
   "metadata": {},
   "outputs": [
    {
     "data": {
      "text/plain": [
       "array([[ True,  True,  True,  True],\n",
       "       [ True,  True,  True,  True]])"
      ]
     },
     "execution_count": 110,
     "metadata": {},
     "output_type": "execute_result"
    }
   ],
   "source": [
    "aoslices = mol.aoslice_by_atom()\n",
    "faoslices = fmol.aoslice_by_atom()\n",
    "aoslices==faoslices"
   ]
  },
  {
   "cell_type": "code",
   "execution_count": 111,
   "metadata": {},
   "outputs": [
    {
     "data": {
      "text/plain": [
       "\"def make_h1( mo_coeff, mo_occ, chkfile=None, atmlst=None, verbose=None):\\n  #  mol = hessobj.mol\\n    if atmlst is None:\\n        atmlst = range(mol.natm)\\n    nao, nmo = mo_coeff.shape\\n    mocc = mo_coeff[:,mo_occ>0]\\n    dm0 = numpy.dot(mocc, mocc.T) * 2\\n    hcore_deriv = hessobj.base.nuc_grad_method().hcore_generator(mol)   #dH/dx need to adj for new charges\\n    aoslices = mol.aoslice_by_atom()\\n    h1ao = [None] * mol.natm\\n    for i0, ia in enumerate(atmlst):\\n        shl0, shl1, p0, p1 = aoslices[ia]\\n        shls_slice = (shl0, shl1) + (0, mol.nbas)*3\\n        vj1, vj2, vk1, vk2 = _get_jk(mol, 'int2e_ip1', 3, 's2kl',\\n                                     ['ji->s2kl', -dm0[:,p0:p1],  # vj1\\n                                      'lk->s1ij', -dm0         ,  # vj2\\n                                      'li->s1kj', -dm0[:,p0:p1],  # vk1\\n                                      'jk->s1il', -dm0         ], # vk2\\n                                     shls_slice=shls_slice)\\n        vhf = vj1 - vk1*.5\\n        vhf[:,p0:p1] += vj2 - vk2*.5\\n        h1 = vhf + vhf.transpose(0,2,1)\\n        h1 += hcore_deriv(ia)\\n\""
      ]
     },
     "execution_count": 111,
     "metadata": {},
     "output_type": "execute_result"
    }
   ],
   "source": [
    "\"\"\"def make_h1( mo_coeff, mo_occ, chkfile=None, atmlst=None, verbose=None):\n",
    "  #  mol = hessobj.mol\n",
    "    if atmlst is None:\n",
    "        atmlst = range(mol.natm)\n",
    "    nao, nmo = mo_coeff.shape\n",
    "    mocc = mo_coeff[:,mo_occ>0]\n",
    "    dm0 = numpy.dot(mocc, mocc.T) * 2\n",
    "    hcore_deriv = hessobj.base.nuc_grad_method().hcore_generator(mol)   #dH/dx need to adj for new charges\n",
    "    aoslices = mol.aoslice_by_atom()\n",
    "    h1ao = [None] * mol.natm\n",
    "    for i0, ia in enumerate(atmlst):\n",
    "        shl0, shl1, p0, p1 = aoslices[ia]\n",
    "        shls_slice = (shl0, shl1) + (0, mol.nbas)*3\n",
    "        vj1, vj2, vk1, vk2 = _get_jk(mol, 'int2e_ip1', 3, 's2kl',\n",
    "                                     ['ji->s2kl', -dm0[:,p0:p1],  # vj1\n",
    "                                      'lk->s1ij', -dm0         ,  # vj2\n",
    "                                      'li->s1kj', -dm0[:,p0:p1],  # vk1\n",
    "                                      'jk->s1il', -dm0         ], # vk2\n",
    "                                     shls_slice=shls_slice)\n",
    "        vhf = vj1 - vk1*.5\n",
    "        vhf[:,p0:p1] += vj2 - vk2*.5\n",
    "        h1 = vhf + vhf.transpose(0,2,1)\n",
    "        h1 += hcore_deriv(ia)\n",
    "\"\"\""
   ]
  },
  {
   "cell_type": "code",
   "execution_count": 112,
   "metadata": {},
   "outputs": [],
   "source": [
    "\"\"\"def hcore_generator(mf, mol=None):    # on gradient module \n",
    "    aoslices = mol.aoslice_by_atom()\n",
    "    h1 = mf.get_hcore(mol)   # gradients method : -\\nabla_r (T+V_en)    is different between mol and fmol\n",
    "    def hcore_deriv(atm_id):\n",
    "        shl0, shl1, p0, p1 = aoslices[atm_id]\n",
    "        with mol.with_rinv_at_nucleus(atm_id):\n",
    "            vrinv = mol.intor('int1e_iprinv', comp=3) # <\\nabla_R 1/|R-r|>    this is equal \n",
    "            vrinv *= -mol.atom_charge(atm_id)        # atom charges should be updated \n",
    "        vrinv[:,p0:p1] += h1[:,p0:p1]\n",
    "        return vrinv + vrinv.transpose(0,2,1)\n",
    "    return hcore_deriv\n",
    "\"\"\"\n",
    "pass"
   ]
  },
  {
   "cell_type": "code",
   "execution_count": 113,
   "metadata": {},
   "outputs": [],
   "source": [
    "\"\"\"def get_hcore(mol):    # on gradient module \n",
    "    '''Part of the nuclear gradients of core Hamiltonian'''\n",
    "    h = mol.intor('int1e_ipkin', comp=3)\n",
    "    h+= mol.intor('int1e_ipnuc', comp=3)\n",
    "    return -h\"\"\"\n",
    "pass"
   ]
  },
  {
   "cell_type": "code",
   "execution_count": 114,
   "metadata": {},
   "outputs": [
    {
     "data": {
      "text/plain": [
       "False"
      ]
     },
     "execution_count": 114,
     "metadata": {},
     "output_type": "execute_result"
    }
   ],
   "source": [
    "(np.allclose(grhf.get_hcore(fmol),grhf.get_hcore(mol))) #false"
   ]
  },
  {
   "cell_type": "code",
   "execution_count": 115,
   "metadata": {},
   "outputs": [
    {
     "data": {
      "text/plain": [
       "False"
      ]
     },
     "execution_count": 115,
     "metadata": {},
     "output_type": "execute_result"
    }
   ],
   "source": [
    "np.allclose(-mol.intor('int1e_ipkin', comp=3)-mol.intor('int1e_ipnuc', comp=3),grhf.get_hcore(mol)) #true\n",
    "np.allclose(mol.intor('int1e_ipkin', comp=3),fmol.intor('int1e_ipkin', comp=3)) #true\n",
    "np.allclose(mol.intor('int1e_ipnuc', comp=3),fmol.intor('int1e_ipnuc', comp=3)) #False"
   ]
  },
  {
   "cell_type": "code",
   "execution_count": 116,
   "metadata": {},
   "outputs": [
    {
     "name": "stdout",
     "output_type": "stream",
     "text": [
      "[[0 1 0 1]\n",
      " [1 4 1 6]]\n",
      "(3, 6, 6)\n",
      "False\n",
      "(3, 6, 6)\n",
      "False\n"
     ]
    }
   ],
   "source": [
    "print(mol.aoslice_by_atom())\n",
    "for atm_id in [0,1]:\n",
    "    mol.with_rinv_at_nucleus(atm_id) \n",
    "    fmol.with_rinv_at_nucleus(atm_id)\n",
    "    print(mol.intor('int1e_iprinv', comp=3).shape )\n",
    "    print(np.allclose(mol.intor('int1e_iprinv', comp=3),fmol.intor('int1e_iprinv', comp=3)))"
   ]
  },
  {
   "cell_type": "markdown",
   "metadata": {},
   "source": [
    "the differnces are in \" mol.intor('int1e_ipnuc', comp=3) \" "
   ]
  },
  {
   "cell_type": "code",
   "execution_count": 117,
   "metadata": {},
   "outputs": [
    {
     "data": {
      "text/plain": [
       "(3, 6, 6)"
      ]
     },
     "execution_count": 117,
     "metadata": {},
     "output_type": "execute_result"
    }
   ],
   "source": [
    "np.allclose(grhf.get_hcore(mol),grhf.get_hcore(fmol))\n",
    "grhf.get_hcore(mol).shape"
   ]
  },
  {
   "cell_type": "markdown",
   "metadata": {},
   "source": [
    "The value of $ <\\chi | \\nabla T|\\mu >$ calculated with \"mol.intor('int1e_iprinv', comp=3)\" is identical for mol and fmol.\n",
    "The only thing to do is to update ,mol.intor('int1e_ipnuc', comp=3)"
   ]
  },
  {
   "cell_type": "code",
   "execution_count": 118,
   "metadata": {},
   "outputs": [],
   "source": [
    "#print(inspect.getsource(mol.intor))\n",
    "#print(inspect.getsource(mol._add_suffix))"
   ]
  },
  {
   "cell_type": "code",
   "execution_count": 119,
   "metadata": {},
   "outputs": [],
   "source": [
    "#environment \n",
    "NUC_FRAC_CHARGE=gto.mole.NUC_FRAC_CHARGE\n",
    "NUC_MOD_OF=gto.mole.NUC_MOD_OF\n",
    "PTR_FRAC_CHARGE=gto.mole.PTR_FRAC_CHARGE\n",
    "denv=mol._env.copy()\n",
    "datm=mol._atm.copy()\n",
    "datm[:,NUC_MOD_OF] = NUC_FRAC_CHARGE\n",
    "for i in range (mol.natm):\n",
    "    denv[datm[i,PTR_FRAC_CHARGE]]=fcs[i]\n",
    "dH1=-gto.moleintor.getints('int1e_ipnuc_sph',datm,mol._bas,denv, None,3,0,'s1')\n",
    "comp2=np.zeros((2,3,6,6))\n",
    "for atm_id in [0,1]:\n",
    "    shl0, shl1, p0, p1 = mol.aoslice_by_atom()[atm_id]\n",
    "    with mol.with_rinv_at_nucleus(atm_id):\n",
    "        vrinv = -mol.intor('int1e_iprinv', comp=3)\n",
    "    vrinv*=fcs[atm_id]\n",
    "    vrinv[:,p0:p1] += dH1[:,p0:p1] \n",
    "    vrinv += vrinv.transpose(0,2,1)\n",
    "    comp2[atm_id]=vrinv"
   ]
  },
  {
   "cell_type": "code",
   "execution_count": 120,
   "metadata": {},
   "outputs": [
    {
     "data": {
      "text/plain": [
       "True"
      ]
     },
     "execution_count": 120,
     "metadata": {},
     "output_type": "execute_result"
    }
   ],
   "source": [
    "np.allclose(-dH1,grhf.get_hcore(mol)-grhf.get_hcore(fmol))"
   ]
  },
  {
   "cell_type": "code",
   "execution_count": 121,
   "metadata": {},
   "outputs": [
    {
     "data": {
      "text/plain": [
       "True"
      ]
     },
     "execution_count": 121,
     "metadata": {},
     "output_type": "execute_result"
    }
   ],
   "source": [
    "np.allclose(fh.make_h1(fmo_coeff,fmo_occ),h.make_h1(fmo_coeff,fmo_occ)+comp2)"
   ]
  },
  {
   "cell_type": "code",
   "execution_count": 122,
   "metadata": {},
   "outputs": [
    {
     "data": {
      "text/plain": [
       "True"
      ]
     },
     "execution_count": 122,
     "metadata": {},
     "output_type": "execute_result"
    }
   ],
   "source": [
    "h.base.nuc_grad_method().hcore_generator(fmol)(1)\n",
    "np.allclose(fh.base.nuc_grad_method().hcore_generator(fmol)(1),h.base.nuc_grad_method().hcore_generator(mol)(1)+comp2[1])#true\n",
    "np.allclose(fh.base.nuc_grad_method().hcore_generator(fmol)(0),h.base.nuc_grad_method().hcore_generator(mol)(0)+comp2[0])"
   ]
  },
  {
   "cell_type": "code",
   "execution_count": 123,
   "metadata": {},
   "outputs": [
    {
     "data": {
      "text/plain": [
       "True"
      ]
     },
     "execution_count": 123,
     "metadata": {},
     "output_type": "execute_result"
    }
   ],
   "source": [
    "np.allclose(fh.make_h1(fmo_coeff,fmo_occ),h.make_h1(fmo_coeff,fmo_occ)+comp2)"
   ]
  },
  {
   "cell_type": "markdown",
   "metadata": {},
   "source": [
    "Here I can finish the work, adding to make_h1 the derivative \"comp2\""
   ]
  },
  {
   "cell_type": "code",
   "execution_count": 168,
   "metadata": {},
   "outputs": [],
   "source": [
    "pmo1_a0,pmo1_a1=h.solve_mo1(fmo_energy,fmo_coeff,fmo_occ,h1ao+comp2)[0]"
   ]
  },
  {
   "cell_type": "code",
   "execution_count": 169,
   "metadata": {},
   "outputs": [
    {
     "name": "stdout",
     "output_type": "stream",
     "text": [
      "[[-0.0718 -0.0236  0.0181  0.      0.     -0.0017]\n",
      " [-0.0236  0.0092  0.0103 -0.     -0.     -0.0245]\n",
      " [ 0.0181  0.0103  0.029   0.      0.     -0.0266]\n",
      " [ 0.     -0.      0.      0.      0.     -0.    ]\n",
      " [ 0.     -0.      0.      0.      0.     -0.    ]\n",
      " [-0.0017 -0.0245 -0.0266 -0.     -0.      0.019 ]]\n",
      "[[-0.0714 -0.0273  0.0257  0.      0.      0.0044]\n",
      " [-0.0273  0.0115  0.0067 -0.     -0.     -0.0271]\n",
      " [ 0.0257  0.0067  0.0357  0.      0.     -0.0283]\n",
      " [ 0.     -0.      0.      0.      0.     -0.    ]\n",
      " [ 0.     -0.      0.      0.      0.     -0.    ]\n",
      " [ 0.0044 -0.0271 -0.0283 -0.     -0.      0.0114]]\n"
     ]
    }
   ],
   "source": [
    "pdm1_0 = np.einsum('ypi,qi->ypq', pmo1_a0, fmocc) #shape=(nocc,nocc)\n",
    "pdm1_0[2]=(pdm1_0[2]+pdm1_0[2].T)*2\n",
    "print(np.round(pdm1_0[2]-dm1_0[2],decimals=4))\n",
    "print(np.round(fdm1_0[2]-dm1_0[2],decimals=4))\n"
   ]
  },
  {
   "cell_type": "code",
   "execution_count": 126,
   "metadata": {},
   "outputs": [],
   "source": [
    "U,dP,pe1= alch_deriv(mf,dL=[[0,1],[.1,-.1]])"
   ]
  },
  {
   "cell_type": "code",
   "execution_count": 127,
   "metadata": {},
   "outputs": [],
   "source": [
    "pmo_coeff=mo_coeff+mo_coeff@U\n",
    "pmocc=pmo_coeff[:,mo_occ>0]"
   ]
  },
  {
   "cell_type": "code",
   "execution_count": 146,
   "metadata": {},
   "outputs": [
    {
     "data": {
      "text/plain": [
       "(array([-2.15977917, -0.35857268,  0.03274593,  0.14237875,  0.15659232,\n",
       "         0.60740557]),\n",
       " array([-2.16300477, -0.33217758,  0.09389118,  0.17209773,  0.17209773,\n",
       "         0.57176033]),\n",
       " array([[[ 0.22125914, -0.04279833],\n",
       "         [-0.04279833, -0.01421357]]]))"
      ]
     },
     "execution_count": 146,
     "metadata": {},
     "output_type": "execute_result"
    }
   ],
   "source": [
    "pmo_energy=np.concatenate((mo_energy[:4]+pe1.flatten(),mo_energy[4:]))\n",
    "pmo_energy,fmo_energy,pe1"
   ]
  },
  {
   "cell_type": "code",
   "execution_count": 176,
   "metadata": {},
   "outputs": [],
   "source": [
    "pmo1_a0,pmo1_a1=h.solve_mo1(mo_energy,pmo_coeff,mo_occ,h1ao+comp2)[0]"
   ]
  },
  {
   "cell_type": "code",
   "execution_count": 179,
   "metadata": {},
   "outputs": [
    {
     "name": "stdout",
     "output_type": "stream",
     "text": [
      "[[ 0.016 -0.105 -0.138 -0.     0.    -0.168]\n",
      " [-0.105  0.076 -0.074  0.    -0.     0.186]\n",
      " [-0.138 -0.074 -0.122 -0.     0.     0.007]\n",
      " [-0.     0.    -0.     0.    -0.     0.   ]\n",
      " [ 0.    -0.     0.    -0.     0.    -0.   ]\n",
      " [-0.168  0.186  0.007  0.    -0.     0.205]]\n",
      "[[-0.041  0.009 -0.093 -0.    -0.    -0.135]\n",
      " [ 0.009  0.062 -0.182 -0.     0.     0.266]\n",
      " [-0.093 -0.182 -0.071 -0.    -0.    -0.032]\n",
      " [-0.    -0.    -0.     0.     0.     0.   ]\n",
      " [-0.     0.    -0.     0.     0.     0.   ]\n",
      " [-0.135  0.266 -0.032  0.     0.     0.203]]\n",
      "[[ 0.031  0.036 -0.119 -0.    -0.    -0.14 ]\n",
      " [ 0.036  0.051 -0.188 -0.     0.     0.293]\n",
      " [-0.119 -0.188 -0.106 -0.    -0.    -0.003]\n",
      " [-0.    -0.    -0.     0.     0.     0.   ]\n",
      " [-0.     0.    -0.     0.     0.     0.   ]\n",
      " [-0.14   0.293 -0.003  0.     0.     0.191]]\n"
     ]
    }
   ],
   "source": [
    "pdm1_0 = np.einsum('ypi,qi->ypq', pmo1_a0, pmocc) #shape=(nocc,nocc)\n",
    "pdm1_0[2]=(pdm1_0[2]+pdm1_0[2].T)*2\n",
    "print(np.round(pdm1_0[2],decimals=3))\n",
    "print(np.round(fdm1_0[2],decimals=3))\n",
    "print(np.round(dm1_0[2],decimals=3))"
   ]
  },
  {
   "cell_type": "code",
   "execution_count": 153,
   "metadata": {},
   "outputs": [],
   "source": [
    "\"\"\"\n",
    "def solve_mo1(mf, mo_energy, mo_coeff, mo_occ, h1ao_or_chkfile,\n",
    "              fx=None, atmlst=None, max_memory=4000, verbose=None):\n",
    "    '''Solve the first order equation\n",
    "\n",
    "    Kwargs:\n",
    "        fx : function(dm_mo) => v1_mo\n",
    "            A function to generate the induced potential.\n",
    "            See also the function gen_vind.\n",
    "    '''\n",
    "    mol = mf.mol\n",
    "    if atmlst is None: atmlst = range(mol.natm)\n",
    "    nao, nmo = mo_coeff.shape\n",
    "    mocc = mo_coeff[:,mo_occ>0]\n",
    "    nocc = mocc.shape[1]\n",
    "\n",
    "    if fx is None:\n",
    "        fx = gen_vind(mf, mo_coeff, mo_occ)\n",
    "    s1a = -mol.intor('int1e_ipovlp', comp=3)\n",
    "\n",
    "    def _ao2mo(mat):\n",
    "        return numpy.asarray([reduce(numpy.dot, (mo_coeff.T, x, mocc)) for x in mat])\n",
    "\n",
    "    mo1s = [None] * mol.natm\n",
    "    e1s = [None] * mol.natm\n",
    "    aoslices = mol.aoslice_by_atom()\n",
    "    for ia0, ia1 in lib.prange(0, len(atmlst), blksize):\n",
    "        s1vo = []\n",
    "        h1vo = []\n",
    "        for i0 in range(ia0, ia1):\n",
    "            ia = atmlst[i0]\n",
    "            shl0, shl1, p0, p1 = aoslices[ia]\n",
    "            s1ao = numpy.zeros((3,nao,nao))\n",
    "            s1ao[:,p0:p1] += s1a[:,p0:p1]\n",
    "            s1ao[:,:,p0:p1] += s1a[:,p0:p1].transpose(0,2,1)\n",
    "            s1vo.append(_ao2mo(s1ao))\n",
    "            if isinstance(h1ao_or_chkfile, str):\n",
    "                key = 'scf_f1ao/%d' % ia\n",
    "                h1ao = lib.chkfile.load(h1ao_or_chkfile, key)\n",
    "            else:\n",
    "                h1ao = h1ao_or_chkfile[ia]\n",
    "            h1vo.append(_ao2mo(h1ao))\n",
    "\n",
    "        h1vo = numpy.vstack(h1vo)\n",
    "        s1vo = numpy.vstack(s1vo)\n",
    "        mo1, e1 = cphf.solve(fx, mo_energy, mo_occ, h1vo, s1vo)\n",
    "        mo1 = numpy.einsum('pq,xqi->xpi', mo_coeff, mo1).reshape(-1,3,nao,nocc)    ###### imortant C@U\n",
    "        e1 = e1.reshape(-1,3,nocc,nocc) \n",
    "\n",
    "        for k in range(ia1-ia0):\n",
    "            ia = atmlst[k+ia0]\n",
    "            if isinstance(h1ao_or_chkfile, str):\n",
    "                key = 'scf_mo1/%d' % ia\n",
    "                lib.chkfile.save(h1ao_or_chkfile, key, mo1[k])\n",
    "            else:\n",
    "                mo1s[ia] = mo1[k]\n",
    "            e1s[ia] = e1[k].reshape(3,nocc,nocc)\n",
    "        mo1 = e1 = None\n",
    "\n",
    "    if isinstance(h1ao_or_chkfile, str):\n",
    "        return h1ao_or_chkfile, e1s\n",
    "    else:\n",
    "        return mo1s, e1s\n",
    "\"\"\"\n",
    "pass"
   ]
  },
  {
   "cell_type": "code",
   "execution_count": null,
   "metadata": {},
   "outputs": [],
   "source": [
    "\"\"\"from pyscf import lib\n",
    "import numpy\n",
    "h1ao_or_chkfile=h.make_h1(mo_coeff,mo_occ)\n",
    "nao, nmo = mo_coeff.shape\n",
    "mocc = mo_coeff[:,mo_occ>0]\n",
    "nocc = mocc.shape[1]\n",
    "\n",
    "fx = hrhf.gen_vind(mf, mo_coeff, mo_occ)\n",
    "s1a = -mol.intor('int1e_ipovlp', comp=3)\n",
    "blksize = max(2, int(4000*1e6/8 / (nmo*nocc*3*6)))\n",
    "def _ao2mo(mat):\n",
    "    return numpy.asarray([reduce(numpy.dot, (mo_coeff.T, x, mocc)) for x in mat])\n",
    "\n",
    "mo1s = [None] * mol.natm\n",
    "e1s = [None] * mol.natm\n",
    "aoslices = mol.aoslice_by_atom()\n",
    "for ia0, ia1 in lib.prange(0, len(atmlst), blksize):\n",
    "    s1vo = []\n",
    "    h1vo = []\n",
    "    for i0 in range(ia0, ia1):\n",
    "        ia = atmlst[i0]\n",
    "        shl0, shl1, p0, p1 = aoslices[ia]\n",
    "        s1ao = numpy.zeros((3,nao,nao))\n",
    "        s1ao[:,p0:p1] += s1a[:,p0:p1]\n",
    "        s1ao[:,:,p0:p1] += s1a[:,p0:p1].transpose(0,2,1)\n",
    "        s1vo.append(_ao2mo(s1ao))\n",
    "        if isinstance(h1ao_or_chkfile, str):\n",
    "            key = 'scf_f1ao/%d' % ia\n",
    "            h1ao = lib.chkfile.load(h1ao_or_chkfile, key)\n",
    "        else:\n",
    "            h1ao = h1ao_or_chkfile[ia]\n",
    "        h1vo.append(_ao2mo(h1ao))\n",
    "    h1vo = numpy.vstack(h1vo)\n",
    "    s1vo = numpy.vstack(s1vo)\n",
    "    mo1, e1 = cphf.solve(fx, mo_energy, mo_occ, h1vo, s1vo)\n",
    "    \"\"\"\n",
    "pass"
   ]
  },
  {
   "cell_type": "code",
   "execution_count": null,
   "metadata": {},
   "outputs": [],
   "source": []
  },
  {
   "cell_type": "code",
   "execution_count": null,
   "metadata": {},
   "outputs": [],
   "source": []
  }
 ],
 "metadata": {
  "kernelspec": {
   "display_name": "Python 3",
   "language": "python",
   "name": "python3"
  },
  "language_info": {
   "codemirror_mode": {
    "name": "ipython",
    "version": 3
   },
   "file_extension": ".py",
   "mimetype": "text/x-python",
   "name": "python",
   "nbconvert_exporter": "python",
   "pygments_lexer": "ipython3",
   "version": "3.7.6"
  }
 },
 "nbformat": 4,
 "nbformat_minor": 4
}
