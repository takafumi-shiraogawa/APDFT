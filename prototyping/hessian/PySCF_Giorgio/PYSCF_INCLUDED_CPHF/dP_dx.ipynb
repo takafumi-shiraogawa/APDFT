{
 "cells": [
  {
   "cell_type": "code",
   "execution_count": 1,
   "metadata": {},
   "outputs": [],
   "source": [
    "from pyscf import scf,gto\n",
    "import numpy as np\n",
    "import inspect\n",
    "from FcMole import FcM\n",
    "from functools import reduce\n",
    "import matplotlib.pyplot as plt\n",
    "from pyscf.scf import cphf\n",
    "from pyscf.grad import rhf as grhf  #### very important\n",
    "from pyscf.hessian import rhf as hrhf # without those two mf.Gradients() and mf.Hessian() don't work\n",
    "def DeltaV(mol,dL):\n",
    "    mol.set_rinv_orig_(mol.atom_coords()[0])\n",
    "    dV=mol.intor('int1e_rinv')*dL[0]\n",
    "    mol.set_rinv_orig_(mol.atom_coords()[1])\n",
    "    dV+=mol.intor('int1e_rinv')*dL[1]\n",
    "    return -dV"
   ]
  },
  {
   "cell_type": "code",
   "execution_count": 2,
   "metadata": {},
   "outputs": [
    {
     "name": "stdout",
     "output_type": "stream",
     "text": [
      "The history saving thread hit an unexpected error (OperationalError('disk I/O error')).History will not be written to the database.\n",
      "converged SCF energy = -7.74106569060784\n"
     ]
    },
    {
     "name": "stderr",
     "output_type": "stream",
     "text": [
      "/home/giorgiod/miniconda3/lib/python3.7/site-packages/pyscf/lib/chkfile.py:71: H5pyDeprecationWarning: dataset.value has been deprecated. Use dataset[()] instead.\n",
      "  return val.value\n"
     ]
    }
   ],
   "source": [
    "mol=gto.M(atom=\"H 0 0 0; Li 0 0 1.8\",unit=\"Bohr\",basis=\"STO-3G\")\n",
    "mf=scf.RHF(mol)\n",
    "mf.scf(dm0=mf.init_guess_by_atom())\n",
    "P=mf.make_rdm1()\n",
    "hcore=mf.get_hcore()\n",
    "h=mf.Hessian()\n",
    "h.kernel()\n",
    "pass"
   ]
  },
  {
   "cell_type": "code",
   "execution_count": 3,
   "metadata": {},
   "outputs": [
    {
     "name": "stdout",
     "output_type": "stream",
     "text": [
      "converged SCF energy = -7.7413864568394\n"
     ]
    }
   ],
   "source": [
    "mol1=gto.M(atom=\"H 0 0 0; Li 0 0 1.801\",unit=\"Bohr\",basis=\"STO-3G\")\n",
    "mf1=scf.RHF(mol1)\n",
    "mf1.scf()\n",
    "hcore1=mf1.get_hcore()\n",
    "P1=mf1.make_rdm1()\n",
    "h1=mf1.Hessian()\n",
    "h1.kernel()\n",
    "pass"
   ]
  },
  {
   "cell_type": "code",
   "execution_count": 4,
   "metadata": {},
   "outputs": [
    {
     "name": "stdout",
     "output_type": "stream",
     "text": [
      "[[-1.06937710e-05  3.16008435e-05  5.58477228e-05  0.00000000e+00\n",
      "   0.00000000e+00  8.98721281e-05]\n",
      " [ 3.16008435e-05 -7.80643728e-05  1.61159419e-04  0.00000000e+00\n",
      "   0.00000000e+00 -1.93316647e-04]\n",
      " [ 5.58477228e-05  1.61159419e-04  7.79286976e-05  0.00000000e+00\n",
      "   0.00000000e+00  2.88893842e-05]\n",
      " [ 0.00000000e+00  0.00000000e+00  0.00000000e+00  0.00000000e+00\n",
      "   0.00000000e+00  0.00000000e+00]\n",
      " [ 0.00000000e+00  0.00000000e+00  0.00000000e+00  0.00000000e+00\n",
      "   0.00000000e+00  0.00000000e+00]\n",
      " [ 8.98721281e-05 -1.93316647e-04  2.88893842e-05  0.00000000e+00\n",
      "   0.00000000e+00 -1.34563955e-04]]\n"
     ]
    }
   ],
   "source": [
    "dP_fd=P1-P\n",
    "print(dP_fd) #note px,py orbitals of Li are not populatedv"
   ]
  },
  {
   "cell_type": "code",
   "execution_count": 5,
   "metadata": {},
   "outputs": [],
   "source": [
    "mo_energy = mf.mo_energy\n",
    "mo_occ = mf.mo_occ\n",
    "mo_coeff = mf.mo_coeff\n",
    "C=mo_coeff\n",
    "atmlst = range(mol.natm)\n",
    "mocc = mo_coeff[:,mo_occ>0]"
   ]
  },
  {
   "cell_type": "code",
   "execution_count": 6,
   "metadata": {},
   "outputs": [],
   "source": [
    "h1ao = h.make_h1(mo_coeff, mo_occ,)"
   ]
  },
  {
   "cell_type": "code",
   "execution_count": 7,
   "metadata": {},
   "outputs": [
    {
     "data": {
      "text/plain": [
       "(3, 6, 6)"
      ]
     },
     "execution_count": 7,
     "metadata": {},
     "output_type": "execute_result"
    }
   ],
   "source": [
    "h1ao[1].shape"
   ]
  },
  {
   "cell_type": "code",
   "execution_count": 8,
   "metadata": {},
   "outputs": [],
   "source": [
    "mo1, mo_e1=h.solve_mo1(mo_energy,mo_coeff,mo_occ,h1ao)\n",
    "mo1_a0,mo1_a1=mo1[0],mo1[1]"
   ]
  },
  {
   "cell_type": "code",
   "execution_count": 9,
   "metadata": {},
   "outputs": [],
   "source": [
    "dm1_0 = np.einsum('ypi,qi->ypq', mo1_a0, mocc) #shape=(nocc,nocc)"
   ]
  },
  {
   "cell_type": "code",
   "execution_count": 10,
   "metadata": {},
   "outputs": [
    {
     "name": "stdout",
     "output_type": "stream",
     "text": [
      "[[ 0.00263533  0.01456258  0.00158421  0.          0.         -0.00106684]\n",
      " [-0.03033904  0.01951954 -0.02133932  0.          0.          0.02166091]\n",
      " [-0.02949064 -0.05931378 -0.01944546  0.          0.          0.01713226]\n",
      " [ 0.          0.          0.          0.          0.          0.        ]\n",
      " [ 0.          0.          0.          0.          0.          0.        ]\n",
      " [-0.04388821  0.07506171 -0.03164511  0.          0.          0.03368086]]\n"
     ]
    }
   ],
   "source": [
    "print(dm1_0[2])"
   ]
  },
  {
   "cell_type": "code",
   "execution_count": 11,
   "metadata": {},
   "outputs": [
    {
     "data": {
      "text/plain": [
       "array([[-0.01576236, -0.00349589],\n",
       "       [-0.00456256,  0.05589252],\n",
       "       [ 0.07337374,  0.04778517],\n",
       "       [ 0.        ,  0.        ],\n",
       "       [ 0.        ,  0.        ],\n",
       "       [-0.05313872,  0.08476794]])"
      ]
     },
     "execution_count": 11,
     "metadata": {},
     "output_type": "execute_result"
    }
   ],
   "source": [
    "mo1_a1[2]"
   ]
  },
  {
   "cell_type": "code",
   "execution_count": 12,
   "metadata": {},
   "outputs": [
    {
     "ename": "ValueError",
     "evalue": "could not broadcast input array from shape (6,2) into shape (2,2)",
     "output_type": "error",
     "traceback": [
      "\u001b[0;31m---------------------------------------------------------------------------\u001b[0m",
      "\u001b[0;31mValueError\u001b[0m                                Traceback (most recent call last)",
      "\u001b[0;32m<ipython-input-12-9270f1de4dfe>\u001b[0m in \u001b[0;36m<module>\u001b[0;34m\u001b[0m\n\u001b[1;32m      1\u001b[0m \u001b[0mU\u001b[0m\u001b[0;34m=\u001b[0m\u001b[0mnp\u001b[0m\u001b[0;34m.\u001b[0m\u001b[0mzeros\u001b[0m\u001b[0;34m(\u001b[0m\u001b[0;34m(\u001b[0m\u001b[0;36m6\u001b[0m\u001b[0;34m,\u001b[0m\u001b[0;36m6\u001b[0m\u001b[0;34m)\u001b[0m\u001b[0;34m)\u001b[0m\u001b[0;34m\u001b[0m\u001b[0;34m\u001b[0m\u001b[0m\n\u001b[0;32m----> 2\u001b[0;31m \u001b[0mU\u001b[0m\u001b[0;34m[\u001b[0m\u001b[0;34m:\u001b[0m\u001b[0;36m2\u001b[0m\u001b[0;34m,\u001b[0m\u001b[0;34m:\u001b[0m\u001b[0;36m2\u001b[0m\u001b[0;34m]\u001b[0m\u001b[0;34m=\u001b[0m\u001b[0mmo1_a1\u001b[0m\u001b[0;34m[\u001b[0m\u001b[0;36m2\u001b[0m\u001b[0;34m]\u001b[0m\u001b[0;34m\u001b[0m\u001b[0;34m\u001b[0m\u001b[0m\n\u001b[0m\u001b[1;32m      3\u001b[0m \u001b[0mO\u001b[0m\u001b[0;34m=\u001b[0m\u001b[0mnp\u001b[0m\u001b[0;34m.\u001b[0m\u001b[0mdiag\u001b[0m\u001b[0;34m(\u001b[0m\u001b[0mnp\u001b[0m\u001b[0;34m.\u001b[0m\u001b[0marray\u001b[0m\u001b[0;34m(\u001b[0m\u001b[0;34m[\u001b[0m\u001b[0;36m1\u001b[0m\u001b[0;34m,\u001b[0m\u001b[0;36m1\u001b[0m\u001b[0;34m,\u001b[0m\u001b[0;36m1\u001b[0m\u001b[0;34m,\u001b[0m\u001b[0;36m0\u001b[0m\u001b[0;34m,\u001b[0m\u001b[0;36m0\u001b[0m\u001b[0;34m,\u001b[0m\u001b[0;36m0\u001b[0m\u001b[0;34m]\u001b[0m\u001b[0;34m)\u001b[0m\u001b[0;34m)\u001b[0m\u001b[0;34m\u001b[0m\u001b[0;34m\u001b[0m\u001b[0m\n",
      "\u001b[0;31mValueError\u001b[0m: could not broadcast input array from shape (6,2) into shape (2,2)"
     ]
    }
   ],
   "source": [
    "U=np.zeros((6,6))\n",
    "U[:2,:2]=mo1_a1[2]\n",
    "O=np.diag(np.array([1,1,1,0,0,0]))"
   ]
  },
  {
   "cell_type": "markdown",
   "metadata": {},
   "source": [
    "The formula for the Hessian is a sum of 6 part, the first 3 are computed by ess_elec function:\n",
    "$$ \\frac{\\partial E}{\\partial x \\partial y}= \\sum_{\\mu\\nu} \\frac{\\partial P_{\\mu\\nu}}{\\partial y}\\frac{\\partial H_{\\mu\\nu}}{\\partial x}-\\frac{\\partial W_{\\mu\\nu}}{\\partial y} \\frac{\\partial S_{\\mu\\nu}}{\\partial x}\n",
    "+ \\sum_{\\mu\\nu\\lambda\\sigma} \\frac{\\partial P_{\\mu\\nu}}{\\partial y} P_{\\lambda \\sigma}(\\frac{\\partial}{\\partial x})(\\mu \\lambda || \\nu \\sigma) + ...\n",
    "$$ The remaining are computed by partial_hess_elec function"
   ]
  },
  {
   "cell_type": "code",
   "execution_count": null,
   "metadata": {},
   "outputs": [],
   "source": [
    "\"\"\"\n",
    "The function for electronic hessian \n",
    "ess_elec(hessobj, mo_energy=None, mo_coeff=None, mo_occ=None,mo1=None, mo_e1=None, h1ao=None,atmlst=None, max_memory=4000, verbose=None):\n",
    "\n",
    "    mol = hessobj.mol\n",
    "    mf = hessobj.base\n",
    "    if mo_energy is None: mo_energy = mf.mo_energy\n",
    "    if mo_occ is None:    mo_occ = mf.mo_occ\n",
    "    if mo_coeff is None:  mo_coeff = mf.mo_coeff\n",
    "    if atmlst is None: atmlst = range(mol.natm)\n",
    "    de2 = hessobj.partial_hess_elec(mo_energy, mo_coeff, mo_occ, atmlst, max_memory, log)\n",
    "    if h1ao is None:\n",
    "        h1ao = hessobj.make_h1(mo_coeff, mo_occ, hessobj.chkfile, atmlst, log)           #dH/dx + dVee/dx\n",
    "    if mo1 is None or mo_e1 is None:\n",
    "        mo1, mo_e1 = hessobj.solve_mo1(mo_energy, mo_coeff, mo_occ, h1ao, None, atmlst, max_memory, log)\n",
    "\n",
    "    nao, nmo = mo_coeff.shape\n",
    "    mocc = mo_coeff[:,mo_occ>0]\n",
    "    s1a = -mol.intor('int1e_ipovlp', comp=3)      ######   dS/dx   same as gradients\n",
    "\n",
    "    aoslices = mol.aoslice_by_atom()\n",
    "    for i0, ia in enumerate(atmlst):    #for every atom i \n",
    "        shl0, shl1, p0, p1 = aoslices[ia]\n",
    "        s1ao = numpy.zeros((3,nao,nao))\n",
    "        s1ao[:,p0:p1] += s1a[:,p0:p1]\n",
    "        s1ao[:,:,p0:p1] += s1a[:,p0:p1].transpose(0,2,1)\n",
    "        s1oo = numpy.einsum('xpq,pi,qj->xij', s1ao, mocc, mocc)\n",
    "\n",
    "        for j0 in range(i0+1):   #for every atom j != i   \n",
    "            ja = atmlst[j0]\n",
    "            q0, q1 = aoslices[ja][2:]\n",
    "# *2 for double occupancy, *2 for +c.c.\n",
    "            dm1 = numpy.einsum('ypi,qi->ypq', mo1[ja], mocc)                          #   dP/dy\n",
    "            de2[i0,j0] += numpy.einsum('xpq,ypq->xy', h1ao[ia], dm1) * 4              #   dP/dy*(dH/dx + d(||)/dx)\n",
    "            dm1 = numpy.einsum('ypi,qi,i->ypq', mo1[ja], mocc, mo_energy[mo_occ>0])   #   dW/dy \n",
    "            de2[i0,j0] -= numpy.einsum('xpq,ypq->xy', s1ao, dm1) * 4                  #  -dW/dy * dS/dx\n",
    "            de2[i0,j0] -= numpy.einsum('xpq,ypq->xy', s1oo, mo_e1[ja]) * 2\n",
    "\n",
    "        for j0 in range(i0):\n",
    "            de2[j0,i0] = de2[i0,j0].T \n",
    "    return de2\n",
    "\"\"\"\n",
    "pass"
   ]
  },
  {
   "cell_type": "code",
   "execution_count": null,
   "metadata": {},
   "outputs": [],
   "source": [
    "aoslices = mol.aoslice_by_atom()\n",
    "for i0, ia in enumerate(range(0, 4)):\n",
    "    print(i0, ia)\n",
    "atmlst"
   ]
  },
  {
   "cell_type": "code",
   "execution_count": null,
   "metadata": {},
   "outputs": [],
   "source": [
    "h1ao=h.make_h1(mo_coeff,mo_occ)"
   ]
  },
  {
   "cell_type": "code",
   "execution_count": null,
   "metadata": {},
   "outputs": [],
   "source": [
    "mo1, mo_e1=h.solve_mo1(mo_energy, mo_coeff,mo_occ,h1ao)"
   ]
  },
  {
   "cell_type": "code",
   "execution_count": null,
   "metadata": {},
   "outputs": [],
   "source": [
    "mo_e1[0].shape,mo1[0].shape"
   ]
  },
  {
   "cell_type": "code",
   "execution_count": null,
   "metadata": {},
   "outputs": [],
   "source": [
    "dm1 = np.einsum('ypi,qi->ypq', mo1[1], mocc)\n",
    "print(np.round(dm1[2]*4,decimals=4))  \n",
    "print(np.round((dm1[2]+(dm1[2]).T)*2,decimals=4))  \n",
    "print(np.round(dP_fd*1000,decimals=4))\n",
    "print(np.round(dm1[2]*4,decimals=4).diagonal())  #troppo uguali per essere un caso\n",
    "print(np.round(dP_fd*1000,decimals=4).diagonal())"
   ]
  },
  {
   "cell_type": "code",
   "execution_count": null,
   "metadata": {},
   "outputs": [],
   "source": [
    "np.einsum('xpq,ypq->xy', h1ao[1], dm1) * 4 #component of the hessian"
   ]
  },
  {
   "cell_type": "code",
   "execution_count": null,
   "metadata": {},
   "outputs": [],
   "source": [
    "\"\"\"\n",
    "def solve_mo1(mf, mo_energy, mo_coeff, mo_occ, h1ao_or_chkfile,\n",
    "              fx=None, atmlst=None, max_memory=4000, verbose=None):\n",
    "    '''Solve the first order equation\n",
    "\n",
    "    Kwargs:\n",
    "        fx : function(dm_mo) => v1_mo\n",
    "            A function to generate the induced potential.\n",
    "            See also the function gen_vind.\n",
    "    '''\n",
    "    mol = mf.mol\n",
    "    if atmlst is None: atmlst = range(mol.natm)\n",
    "\n",
    "    nao, nmo = mo_coeff.shape\n",
    "    mocc = mo_coeff[:,mo_occ>0]\n",
    "    nocc = mocc.shape[1]\n",
    "\n",
    "    if fx is None:\n",
    "        fx = gen_vind(mf, mo_coeff, mo_occ)\n",
    "    s1a = -mol.intor('int1e_ipovlp', comp=3)\n",
    "\n",
    "    def _ao2mo(mat):\n",
    "        return numpy.asarray([reduce(numpy.dot, (mo_coeff.T, x, mocc)) for x in mat])\n",
    "\n",
    "    mo1s = [None] * mol.natm\n",
    "    e1s = [None] * mol.natm\n",
    "    aoslices = mol.aoslice_by_atom()\n",
    "    for ia0, ia1 in lib.prange(0, len(atmlst), blksize):\n",
    "        s1vo = []\n",
    "        h1vo = []\n",
    "        for i0 in range(ia0, ia1):\n",
    "            ia = atmlst[i0]\n",
    "            shl0, shl1, p0, p1 = aoslices[ia]\n",
    "            s1ao = numpy.zeros((3,nao,nao))\n",
    "            s1ao[:,p0:p1] += s1a[:,p0:p1]\n",
    "            s1ao[:,:,p0:p1] += s1a[:,p0:p1].transpose(0,2,1)\n",
    "            s1vo.append(_ao2mo(s1ao))\n",
    "            if isinstance(h1ao_or_chkfile, str):\n",
    "                key = 'scf_f1ao/%d' % ia\n",
    "                h1ao = lib.chkfile.load(h1ao_or_chkfile, key)\n",
    "            else:\n",
    "                h1ao = h1ao_or_chkfile[ia]\n",
    "            h1vo.append(_ao2mo(h1ao))\n",
    "\n",
    "        h1vo = numpy.vstack(h1vo)\n",
    "        s1vo = numpy.vstack(s1vo)\n",
    "        mo1, e1 = cphf.solve(fx, mo_energy, mo_occ, h1vo, s1vo)\n",
    "        mo1 = numpy.einsum('pq,xqi->xpi', mo_coeff, mo1).reshape(-1,3,nao,nocc)    ###### imortant C@U\n",
    "        e1 = e1.reshape(-1,3,nocc,nocc) \n",
    "\n",
    "        for k in range(ia1-ia0):\n",
    "            ia = atmlst[k+ia0]\n",
    "            if isinstance(h1ao_or_chkfile, str):\n",
    "                key = 'scf_mo1/%d' % ia\n",
    "                lib.chkfile.save(h1ao_or_chkfile, key, mo1[k])\n",
    "            else:\n",
    "                mo1s[ia] = mo1[k]\n",
    "            e1s[ia] = e1[k].reshape(3,nocc,nocc)\n",
    "        mo1 = e1 = None\n",
    "\n",
    "    if isinstance(h1ao_or_chkfile, str):\n",
    "        return h1ao_or_chkfile, e1s\n",
    "    else:\n",
    "        return mo1s, e1s\n",
    "\"\"\"\n",
    "pass"
   ]
  },
  {
   "cell_type": "code",
   "execution_count": null,
   "metadata": {},
   "outputs": [],
   "source": [
    "fx = hrhf.gen_vind(mf, mo_coeff, mo_occ)"
   ]
  },
  {
   "cell_type": "code",
   "execution_count": null,
   "metadata": {},
   "outputs": [],
   "source": [
    "h1ao=h.make_h1(mo_coeff,mo_occ)\n",
    "print(hrhf.solve_mo1(mf, mo_energy, mo_coeff, mo_occ, h1ao)[0][0][2])\n",
    "print(hrhf.solve_mo1(mf, mo_energy, mo_coeff, mo_occ, h1ao)[0][1][2])"
   ]
  },
  {
   "cell_type": "code",
   "execution_count": null,
   "metadata": {},
   "outputs": [],
   "source": [
    "from pyscf import lib\n",
    "import numpy\n",
    "h1ao_or_chkfile=h.make_h1(mo_coeff,mo_occ)\n",
    "nao, nmo = mo_coeff.shape\n",
    "mocc = mo_coeff[:,mo_occ>0]\n",
    "nocc = mocc.shape[1]\n",
    "\n",
    "fx = hrhf.gen_vind(mf, mo_coeff, mo_occ)\n",
    "s1a = -mol.intor('int1e_ipovlp', comp=3)\n",
    "blksize = max(2, int(4000*1e6/8 / (nmo*nocc*3*6)))\n",
    "def _ao2mo(mat):\n",
    "    return numpy.asarray([reduce(numpy.dot, (mo_coeff.T, x, mocc)) for x in mat])\n",
    "\n",
    "mo1s = [None] * mol.natm\n",
    "e1s = [None] * mol.natm\n",
    "aoslices = mol.aoslice_by_atom()\n",
    "for ia0, ia1 in lib.prange(0, len(atmlst), blksize):\n",
    "    s1vo = []\n",
    "    h1vo = []\n",
    "    for i0 in range(ia0, ia1):\n",
    "        ia = atmlst[i0]\n",
    "        shl0, shl1, p0, p1 = aoslices[ia]\n",
    "        s1ao = numpy.zeros((3,nao,nao))\n",
    "        s1ao[:,p0:p1] += s1a[:,p0:p1]\n",
    "        s1ao[:,:,p0:p1] += s1a[:,p0:p1].transpose(0,2,1)\n",
    "        s1vo.append(_ao2mo(s1ao))\n",
    "        if isinstance(h1ao_or_chkfile, str):\n",
    "            key = 'scf_f1ao/%d' % ia\n",
    "            h1ao = lib.chkfile.load(h1ao_or_chkfile, key)\n",
    "        else:\n",
    "            h1ao = h1ao_or_chkfile[ia]\n",
    "        h1vo.append(_ao2mo(h1ao))\n",
    "    h1vo = numpy.vstack(h1vo)\n",
    "    s1vo = numpy.vstack(s1vo)\n",
    "    mo1, e1 = cphf.solve(fx, mo_energy, mo_occ, h1vo, s1vo)"
   ]
  },
  {
   "cell_type": "code",
   "execution_count": null,
   "metadata": {},
   "outputs": [],
   "source": [
    "mo1[5]\n",
    "mo1_2 = numpy.einsum('pq,xqi->xpi', mo_coeff, mo1).reshape(-1,3,nao,nocc)"
   ]
  },
  {
   "cell_type": "code",
   "execution_count": null,
   "metadata": {},
   "outputs": [],
   "source": [
    "print(np.round(C,decimals=2),'\\n'*2,mo1[5],'\\n'*2,mo1_2[1][2],'\\n'*2,C@mo1[5]@mocc.T)"
   ]
  },
  {
   "cell_type": "code",
   "execution_count": null,
   "metadata": {},
   "outputs": [],
   "source": [
    "dm1[2]"
   ]
  },
  {
   "cell_type": "code",
   "execution_count": null,
   "metadata": {},
   "outputs": [],
   "source": [
    "print(hrhf.solve_mo1(mf, mo_energy, mo_coeff, mo_occ, h1ao)[0][1][2])"
   ]
  },
  {
   "cell_type": "code",
   "execution_count": null,
   "metadata": {},
   "outputs": [],
   "source": [
    "U=np.zeros_like(C)\n",
    "U[:,:2]=mo1[1][2].copy()\n",
    "U=U+U.T"
   ]
  },
  {
   "cell_type": "code",
   "execution_count": null,
   "metadata": {},
   "outputs": [],
   "source": [
    "C@(U@O-O@U.T)@C.T"
   ]
  },
  {
   "cell_type": "code",
   "execution_count": null,
   "metadata": {},
   "outputs": [],
   "source": [
    "np.round(dP_fd*1000,decimals=3)"
   ]
  },
  {
   "cell_type": "code",
   "execution_count": null,
   "metadata": {},
   "outputs": [],
   "source": []
  }
 ],
 "metadata": {
  "kernelspec": {
   "display_name": "Python 3",
   "language": "python",
   "name": "python3"
  },
  "language_info": {
   "codemirror_mode": {
    "name": "ipython",
    "version": 3
   },
   "file_extension": ".py",
   "mimetype": "text/x-python",
   "name": "python",
   "nbconvert_exporter": "python",
   "pygments_lexer": "ipython3",
   "version": "3.7.6"
  }
 },
 "nbformat": 4,
 "nbformat_minor": 4
}
