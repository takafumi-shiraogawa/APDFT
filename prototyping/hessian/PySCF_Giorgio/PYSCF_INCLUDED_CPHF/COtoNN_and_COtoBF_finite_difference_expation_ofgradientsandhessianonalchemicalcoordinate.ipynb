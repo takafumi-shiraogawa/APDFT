{
 "cells": [
  {
   "cell_type": "code",
   "execution_count": 51,
   "metadata": {},
   "outputs": [],
   "source": [
    "from pyscf import scf,gto\n",
    "import numpy as np\n",
    "import inspect\n",
    "from FcMole import FcM\n",
    "import matplotlib.pyplot as plt\n",
    "from pyscf.geomopt.berny_solver import optimize\n",
    "PTR_COORD=gto.mole.PTR_COORD\n",
    "\n",
    "angstrom = 1 / 0.52917721067\n",
    "from pyscf.grad import rhf as grhf  #### very important\n",
    "from pyscf.hessian import rhf as hrhf # without those two mf.Gradients() and mf.Hessian() don't work\n",
    "def DeltaV(mol,dL):\n",
    "    mol.set_rinv_orig_(mol.atom_coords()[0])\n",
    "    dV=mol.intor('int1e_rinv')*dL[0]\n",
    "    mol.set_rinv_orig_(mol.atom_coords()[1])\n",
    "    dV+=mol.intor('int1e_rinv')*dL[1]\n",
    "    return -dV"
   ]
  },
  {
   "cell_type": "code",
   "execution_count": 5,
   "metadata": {},
   "outputs": [],
   "source": [
    "dlfd=.01"
   ]
  },
  {
   "cell_type": "code",
   "execution_count": 6,
   "metadata": {},
   "outputs": [],
   "source": [
    "#mol0=gto.M(atom=\"C 0 0 0; O 0 0 2.08436\",unit=\"Bohr\",basis=\"6-31G\")\n",
    "#mf0=scf.RHF(mol0)\n",
    "#mf0.scf()\n",
    "#optimize(mf0)"
   ]
  },
  {
   "cell_type": "code",
   "execution_count": 7,
   "metadata": {},
   "outputs": [],
   "source": [
    "co_min=(1.116831+0.013835)*angstrom"
   ]
  },
  {
   "cell_type": "code",
   "execution_count": 143,
   "metadata": {},
   "outputs": [
    {
     "name": "stdout",
     "output_type": "stream",
     "text": [
      "converged SCF energy = -112.667221942958\n"
     ]
    },
    {
     "data": {
      "text/plain": [
       "-112.66722194295751"
      ]
     },
     "execution_count": 143,
     "metadata": {},
     "output_type": "execute_result"
    }
   ],
   "source": [
    "mol0=gto.M(atom=\"C 0 0 0; O 0 0 {}\".format(co_min),unit=\"Bohr\",basis=\"6-31G\")\n",
    "mf0=scf.RHF(mol0)\n",
    "mf0.scf()"
   ]
  },
  {
   "cell_type": "code",
   "execution_count": 9,
   "metadata": {},
   "outputs": [],
   "source": [
    "gradients=[]\n",
    "hessians=[]"
   ]
  },
  {
   "cell_type": "code",
   "execution_count": 10,
   "metadata": {},
   "outputs": [
    {
     "name": "stdout",
     "output_type": "stream",
     "text": [
      "--------------- RHF gradients ---------------\n",
      "         x                y                z\n",
      "0 C    -0.0000000000     0.0000000000     0.0000143783\n",
      "1 O     0.0000000000    -0.0000000000    -0.0000143783\n",
      "----------------------------------------------\n"
     ]
    },
    {
     "name": "stderr",
     "output_type": "stream",
     "text": [
      "/home/giorgiod/miniconda3/lib/python3.7/site-packages/pyscf/lib/chkfile.py:71: H5pyDeprecationWarning: dataset.value has been deprecated. Use dataset[()] instead.\n",
      "  return val.value\n"
     ]
    }
   ],
   "source": [
    "g0=mf0.Gradients()\n",
    "gradients.append(g0.kernel())\n",
    "h0=mf0.Hessian()\n",
    "hessians.append(h0.kernel())"
   ]
  },
  {
   "cell_type": "code",
   "execution_count": 11,
   "metadata": {},
   "outputs": [],
   "source": [
    "def fdp(dL):\n",
    "    mol1=FcM(fcs=[dL,-dL],atom=\"C 0 0 0; O 0 0 {}\".format(co_min),unit=\"Bohr\",basis=\"6-31G\")\n",
    "    mf1=scf.RHF(mol1)\n",
    "    mf1.scf(dm0=mf1.init_guess_by_atom())\n",
    "    g1=mf1.Gradients()\n",
    "    grad=g1.grad()\n",
    "    h1=mf1.Hessian()\n",
    "    hess=h1.kernel()\n",
    "    return(grad,hess)"
   ]
  },
  {
   "cell_type": "code",
   "execution_count": 12,
   "metadata": {},
   "outputs": [
    {
     "name": "stdout",
     "output_type": "stream",
     "text": [
      "converged SCF energy = -112.820177240134\n",
      "--------------- RHF gradients ---------------\n",
      "         x                y                z\n",
      "0 C     0.0000000000    -0.0000000000     0.0037228753\n",
      "1 O    -0.0000000000     0.0000000000    -0.0037228753\n",
      "----------------------------------------------\n",
      "converged SCF energy = -112.7435111227\n",
      "--------------- RHF gradients ---------------\n",
      "         x                y                z\n",
      "0 C     0.0000000000     0.0000000000     0.0018623501\n",
      "1 O    -0.0000000000    -0.0000000000    -0.0018623501\n",
      "----------------------------------------------\n",
      "converged SCF energy = -112.591309798024\n",
      "--------------- RHF gradients ---------------\n",
      "         x                y                z\n",
      "0 C     0.0000000000    -0.0000000000    -0.0018209623\n",
      "1 O    -0.0000000000     0.0000000000     0.0018209623\n",
      "----------------------------------------------\n",
      "converged SCF energy = -112.515774791297\n",
      "--------------- RHF gradients ---------------\n",
      "         x                y                z\n",
      "0 C     0.0000000000    -0.0000000000    -0.0036434778\n",
      "1 O    -0.0000000000     0.0000000000     0.0036434778\n",
      "----------------------------------------------\n"
     ]
    }
   ],
   "source": [
    "for dL in [-2*dlfd,-dlfd,dlfd,2*dlfd]:\n",
    "    grad,hess=fdp(dL)\n",
    "    gradients.append(grad)\n",
    "    hessians.append(hess)"
   ]
  },
  {
   "cell_type": "code",
   "execution_count": 56,
   "metadata": {},
   "outputs": [
    {
     "name": "stdout",
     "output_type": "stream",
     "text": [
      "converged SCF energy = -106.983582668535\n",
      "--------------- RHF gradients ---------------\n",
      "         x                y                z\n",
      "0 C    -0.0000000000     0.0000000000    -0.1009626290\n",
      "1 O     0.0000000000    -0.0000000000     0.1009626290\n",
      "----------------------------------------------\n",
      "converged SCF energy = -122.180160017684\n",
      "--------------- RHF gradients ---------------\n",
      "         x                y                z\n",
      "0 C    -0.0000000000    -0.0000000000     0.2267143222\n",
      "1 O     0.0000000000     0.0000000000    -0.2267143222\n",
      "----------------------------------------------\n"
     ]
    }
   ],
   "source": [
    "#targets\n",
    "mol_nn=FcM(fcs=[1,-1],atom=\"C 0 0 0; O 0 0 {}\".format(co_min),unit=\"Bohr\",basis=\"6-31G\")\n",
    "mf_nn=scf.RHF(mol_nn)\n",
    "mf_nn.scf(dm0=mf_nn.init_guess_by_atom())\n",
    "g_nn=mf_nn.Gradients()\n",
    "grad_nn=g_nn.grad()\n",
    "h_nn=mf_nn.Hessian()\n",
    "hess_nn=h_nn.kernel()\n",
    "#targets\n",
    "mol_bf=FcM(fcs=[-1,1],atom=\"C 0 0 0; O 0 0  {}\".format(co_min),unit=\"Bohr\",basis=\"6-31G\")\n",
    "mf_bf=scf.RHF(mol_bf)\n",
    "mf_bf.scf(dm0=mf_bf.init_guess_by_atom())\n",
    "g_bf=mf_bf.Gradients()\n",
    "grad_bf=g_bf.grad()\n",
    "h_bf=mf_bf.Hessian()\n",
    "hess_bf=h_bf.kernel()"
   ]
  },
  {
   "cell_type": "code",
   "execution_count": 14,
   "metadata": {},
   "outputs": [],
   "source": [
    "gradients_a=np.asarray(gradients)\n",
    "hessians_a=np.asarray(hessians)"
   ]
  },
  {
   "cell_type": "code",
   "execution_count": 15,
   "metadata": {},
   "outputs": [
    {
     "data": {
      "text/plain": [
       "(5, 2, 2, 3, 3)"
      ]
     },
     "execution_count": 15,
     "metadata": {},
     "output_type": "execute_result"
    }
   ],
   "source": [
    "hessians_a.shape"
   ]
  },
  {
   "cell_type": "code",
   "execution_count": 16,
   "metadata": {},
   "outputs": [],
   "source": [
    "#approximating gradients and hessians for NN\n",
    "deriv_g1=np.zeros((2,3))\n",
    "deriv_g2=np.zeros((2,3))\n",
    "deriv_g3=np.zeros((2,3))\n",
    "deriv_g4=np.zeros((2,3))\n",
    "deriv_h1=np.zeros((2, 2, 3, 3))\n",
    "deriv_h2=np.zeros((2, 2, 3, 3))\n",
    "deriv_h3=np.zeros((2, 2, 3, 3))\n",
    "deriv_h4=np.zeros((2, 2, 3, 3))\n",
    "\n",
    "for i in range(5):\n",
    "    deriv_g1+=gradients_a[i,...]*np.array([0,1/12,-2/3,2/3,-1/12])[i]/dlfd\n",
    "    deriv_g2+=gradients_a[i,...]*np.array([-5/2,-1/12,4/3,4/3,-1/12])[i]/dlfd**2#  −1/12\t4/3\t−5/2\t4/3\t−1/12\n",
    "    deriv_g3+=gradients_a[i,...]*np.array([0,-1/2,1,-1,1/2])[i]/dlfd**3#    −1/2\t 1\t0\t−1\t1/2\n",
    "    deriv_g4+=gradients_a[i,...]*np.array([6,1,-4,-4,1])[i]/dlfd**4#  1\t−4\t6\t−4\t1\n",
    "    #electronic gradients \n",
    "\n",
    "    #hessians \n",
    "    deriv_h1+=hessians_a[i,...]*np.array([0,1/12,-2/3,2/3,-1/12])[i]/dlfd\n",
    "    deriv_h2+=hessians_a[i,...]*np.array([-5/2,-1/12,4/3,4/3,-1/12])[i]/dlfd**2#  −1/12\t4/3\t−5/2\t4/3\t−1/12\n",
    "    deriv_h3+=hessians_a[i,...]*np.array([0,-1/2,1,-1,1/2])[i]/dlfd**3#    −1/2\t 1\t0\t−1\t1/2\n",
    "    deriv_h4+=hessians_a[i,...]*np.array([6,1,-4,-4,1])[i]/dlfd**4#  1\t−4\t6\t−4\t1"
   ]
  },
  {
   "cell_type": "code",
   "execution_count": 17,
   "metadata": {},
   "outputs": [],
   "source": [
    "derivs_gs=np.asarray([deriv_g1,deriv_g2,deriv_g3,deriv_g4])\n",
    "derivs_h=np.asarray([deriv_h1,deriv_h2,deriv_h3,deriv_h4])"
   ]
  },
  {
   "cell_type": "code",
   "execution_count": 18,
   "metadata": {},
   "outputs": [
    {
     "data": {
      "text/plain": [
       "(-0.001094814882423023, 0.0010948145924469799)"
      ]
     },
     "execution_count": 18,
     "metadata": {},
     "output_type": "execute_result"
    }
   ],
   "source": [
    "derivs_h[0][1,1,2,2],derivs_h[0][1,0,2,2]"
   ]
  },
  {
   "cell_type": "code",
   "execution_count": 19,
   "metadata": {},
   "outputs": [
    {
     "data": {
      "text/plain": [
       "(None, None)"
      ]
     },
     "execution_count": 19,
     "metadata": {},
     "output_type": "execute_result"
    }
   ],
   "source": [
    "pred_nn=np.zeros((2,3))\n",
    "pred_bf=np.zeros((2,3))\n",
    "g_vl_nn=[]\n",
    "g_vl_bf=[]\n",
    "pred_nn=np.einsum('xij,x->ij',derivs_gs,np.asarray([1,0,0, 0]))+gradients[0]\n",
    "pred_bf=np.einsum('xij,x->ij',derivs_gs,np.asarray([-1,0,0,0]))+gradients[0]\n",
    "g_vl_nn.append(pred_nn[1,2]),g_vl_bf.append(pred_bf[1,2])\n",
    "pred_nn=np.einsum('xij,x->ij',derivs_gs,np.asarray([1,.5,0, 0]))+gradients[0]\n",
    "pred_bf=np.einsum('xij,x->ij',derivs_gs,np.asarray([-1,-.5,0,0]))+gradients[0]\n",
    "g_vl_nn.append(pred_nn[1,2]),g_vl_bf.append(pred_bf[1,2])\n",
    "pred_nn=np.einsum('xij,x->ij',derivs_gs,np.asarray([1,0.5,1/6, 0]))+gradients[0]\n",
    "pred_bf=np.einsum('xij,x->ij',derivs_gs,np.asarray([-1,0.5,-1/6,0]))+gradients[0]\n",
    "g_vl_nn.append(pred_nn[1,2]),g_vl_bf.append(pred_bf[1,2])"
   ]
  },
  {
   "cell_type": "code",
   "execution_count": 20,
   "metadata": {},
   "outputs": [
    {
     "data": {
      "text/plain": [
       "[0.1841535029403746, 0.12104615942504063, 0.09841323218893312]"
      ]
     },
     "execution_count": 20,
     "metadata": {},
     "output_type": "execute_result"
    }
   ],
   "source": [
    "g_vl_nn"
   ]
  },
  {
   "cell_type": "code",
   "execution_count": 21,
   "metadata": {},
   "outputs": [
    {
     "data": {
      "text/plain": [
       "(array([[-1.55954735e-17,  3.15287198e-17, -1.00962629e-01],\n",
       "        [ 1.55954735e-17, -3.15287198e-17,  1.00962629e-01]]),\n",
       " array([[-5.56531651e-16, -1.32646127e-16,  2.26714322e-01],\n",
       "        [ 5.56531651e-16,  1.32646127e-16, -2.26714322e-01]]))"
      ]
     },
     "execution_count": 21,
     "metadata": {},
     "output_type": "execute_result"
    }
   ],
   "source": [
    "grad_nn,grad_bf"
   ]
  },
  {
   "cell_type": "code",
   "execution_count": 22,
   "metadata": {},
   "outputs": [
    {
     "data": {
      "text/plain": [
       "(None, None)"
      ]
     },
     "execution_count": 22,
     "metadata": {},
     "output_type": "execute_result"
    }
   ],
   "source": [
    "pred_hess_nn=np.zeros((2,2,3,3))\n",
    "pred_hess_bf=np.zeros((2,2,3,3))\n",
    "h_vl_nn=[]\n",
    "h_vl_bf=[]\n",
    "pred_hess_nn=np.einsum('xijkl,x->ijkl',derivs_h,np.asarray([1,0,0, 0]))+hessians[0]\n",
    "pred_hess_bf=np.einsum('xijkl,x->ijkl',derivs_h,np.asarray([-1,0,0,0]))+hessians[0]\n",
    "h_vl_nn.append(pred_hess_nn[0,0,2,2]),h_vl_bf.append(pred_hess_bf[0,0,2,2])\n",
    "pred_hess_nn=np.einsum('xijkl,x->ijkl',derivs_h,np.asarray([1,0.5,0,0]))+hessians[0]\n",
    "pred_hess_bf=np.einsum('xijkl,x->ijkl',derivs_h,np.asarray([-1,0.5,0,0]))+hessians[0]\n",
    "h_vl_nn.append(pred_hess_nn[0,0,2,2]),h_vl_bf.append(pred_hess_bf[0,0,2,2])\n",
    "pred_hess_nn=np.einsum('xijkl,x->ijkl',derivs_h,np.asarray([1,0.5,1/6, 0]))+hessians[0]\n",
    "pred_hess_bf=np.einsum('xijkl,x->ijkl',derivs_h,np.asarray([-1,0.5,-1/6,0]))+hessians[0]\n",
    "h_vl_nn.append(pred_hess_nn[0,0,2,2]),h_vl_bf.append(pred_hess_bf[0,0,2,2])"
   ]
  },
  {
   "cell_type": "code",
   "execution_count": 23,
   "metadata": {},
   "outputs": [
    {
     "data": {
      "text/plain": [
       "(1.4701806810199773, 1.4895474965530386)"
      ]
     },
     "execution_count": 23,
     "metadata": {},
     "output_type": "execute_result"
    }
   ],
   "source": [
    "hess_nn[0,0,2,2],hess_bf[0,0,2,2]"
   ]
  },
  {
   "cell_type": "code",
   "execution_count": 24,
   "metadata": {},
   "outputs": [
    {
     "data": {
      "text/plain": [
       "([1.3549274217680551, 1.4744721420962907, 1.4647614751593132],\n",
       " [1.3571170510447192, 1.4766617713729548, 1.4863724383099324])"
      ]
     },
     "execution_count": 24,
     "metadata": {},
     "output_type": "execute_result"
    }
   ],
   "source": [
    "h_vl_nn,h_vl_bf"
   ]
  },
  {
   "cell_type": "code",
   "execution_count": null,
   "metadata": {},
   "outputs": [],
   "source": []
  },
  {
   "cell_type": "code",
   "execution_count": 25,
   "metadata": {},
   "outputs": [],
   "source": [
    "import matplotlib.pyplot as plt"
   ]
  },
  {
   "cell_type": "code",
   "execution_count": 189,
   "metadata": {},
   "outputs": [
    {
     "data": {
      "image/png": "[encoded data removed]",
      "text/plain": [
       "<Figure size 432x288 with 1 Axes>"
      ]
     },
     "metadata": {
      "needs_background": "light"
     },
     "output_type": "display_data"
    }
   ],
   "source": [
    "plt.plot([1,2,3],g_vl_nn)\n",
    "plt.axhline(grad_nn[1,2],color=\"red\",label=\"true target\")\n",
    "plt.axhline(gradients[0][1,2],color=\"black\",label=\"true reference\")\n",
    "plt.legend()\n",
    "plt.title(\"CO->NN gradient's norm at various alchemy level\")\n",
    "plt.savefig(\"grad_nn.png\")"
   ]
  },
  {
   "cell_type": "code",
   "execution_count": 190,
   "metadata": {},
   "outputs": [
    {
     "data": {
      "image/png": "[encoded data removed]",
      "text/plain": [
       "<Figure size 432x288 with 1 Axes>"
      ]
     },
     "metadata": {
      "needs_background": "light"
     },
     "output_type": "display_data"
    }
   ],
   "source": [
    "plt.plot([1,2,3],g_vl_bf)\n",
    "plt.axhline(grad_bf[1,2],color=\"red\",label=\"true target\")\n",
    "plt.axhline(gradients[0][1,2],color=\"black\",label=\"true reference\")\n",
    "plt.legend()\n",
    "plt.title(\"CO->BF gradient's norm at various alchemy level\")\n",
    "plt.savefig(\"grad_bf.png\")"
   ]
  },
  {
   "cell_type": "code",
   "execution_count": 191,
   "metadata": {},
   "outputs": [
    {
     "data": {
      "image/png": "[encoded data removed]",
      "text/plain": [
       "<Figure size 432x288 with 1 Axes>"
      ]
     },
     "metadata": {
      "needs_background": "light"
     },
     "output_type": "display_data"
    }
   ],
   "source": [
    "plt.plot([1,2,3],h_vl_nn)\n",
    "plt.axhline(hess_nn[0,0,2,2],color=\"red\",label=\"true target\")\n",
    "plt.axhline(hessians[0][0,0,2,2],color=\"black\",label=\"true reference\")\n",
    "plt.legend()\n",
    "plt.title(\"CO->NN hessian's norm at various alchemy level\")\n",
    "plt.savefig(\"hess_nn.png\")"
   ]
  },
  {
   "cell_type": "code",
   "execution_count": 192,
   "metadata": {},
   "outputs": [
    {
     "data": {
      "image/png": "[encoded data removed]",
      "text/plain": [
       "<Figure size 432x288 with 1 Axes>"
      ]
     },
     "metadata": {
      "needs_background": "light"
     },
     "output_type": "display_data"
    }
   ],
   "source": [
    "plt.plot([1,2,3],h_vl_bf)\n",
    "plt.axhline(hess_bf[0,0,2,2],color=\"red\",label=\"true target\")\n",
    "plt.axhline(hessians[0][0,0,2,2],color=\"black\",label=\"true reference\")\n",
    "plt.legend()\n",
    "plt.title(\"CO->BF hessian's norm at various alchemy level\")\n",
    "plt.savefig(\"hess_bf.png\")"
   ]
  },
  {
   "cell_type": "code",
   "execution_count": 154,
   "metadata": {},
   "outputs": [
    {
     "name": "stdout",
     "output_type": "stream",
     "text": [
      "converged SCF energy = -106.983582668535\n",
      "--------------- RHF gradients ---------------\n",
      "         x                y                z\n",
      "0 C    -0.0000000000     0.0000000000    -0.1009626290\n",
      "1 O     0.0000000000    -0.0000000000     0.1009626290\n",
      "----------------------------------------------\n",
      "2.1366490793669004\n",
      "converged SCF energy = -106.986738747751\n",
      "--------------- RHF gradients ---------------\n",
      "         x                y                z\n",
      "0 C     0.0000000000    -0.0000000000     0.0138263351\n",
      "1 O    -0.0000000000     0.0000000000    -0.0138263351\n",
      "----------------------------------------------\n",
      "2.1366490793669004 [[0.         0.         0.        ]\n",
      " [0.         0.         2.06797546]] -0.01382633508550235 1.8880621235678774\n",
      "converged SCF energy = -106.986789813765\n",
      "--------------- RHF gradients ---------------\n",
      "         x                y                z\n",
      "0 C     0.0000000000    -0.0000000000     0.0001801913\n",
      "1 O    -0.0000000000     0.0000000000    -0.0001801913\n",
      "----------------------------------------------\n",
      "2.0679754596690807 [[0.         0.         0.        ]\n",
      " [0.         0.         2.07529849]] -0.0001801913339036787 1.8390329336654965\n",
      "converged SCF energy = -106.986789822596\n",
      "--------------- RHF gradients ---------------\n",
      "         x                y                z\n",
      "0 C     0.0000000000    -0.0000000000     0.0000000314\n",
      "1 O    -0.0000000000     0.0000000000    -0.0000000314\n",
      "----------------------------------------------\n",
      "2.0752984894110122 [[0.         0.         0.        ]\n",
      " [0.         0.         2.07539647]] -3.143430760133015e-08 1.8383846007504268\n"
     ]
    }
   ],
   "source": [
    "i=0\n",
    "mol_nn=FcM(fcs=[1,-1],atom=\"C 0 0 0; O 0 0 {}\".format(co_min),unit=\"Bohr\",basis=\"6-31G\")\n",
    "mf_nn=scf.RHF(mol_nn)\n",
    "mf_nn.scf(dm0=mf_nn.init_guess_by_atom())\n",
    "g_nn=mf_nn.Gradients()\n",
    "g=g_nn.grad()\n",
    "h_nn=mf_nn.Hessian()\n",
    "h=h_nn.kernel()\n",
    "return_list=[]\n",
    "r0=mf_nn.mol.atom_coord(1)[2]\n",
    "print(r0)\n",
    "while (np.linalg.norm(g)>1e-4) and i<10:\n",
    "    mol_nn=FcM(fcs=[1,-1],atom=\"C 0 0 0; O 0 0 {}\".format(r0-g[1,2]/h[1,1,2,2]),unit=\"Bohr\",basis=\"6-31G\")\n",
    "    mf_nn=scf.RHF(mol_nn)\n",
    "    mf_nn.scf(dm0=mf_nn.init_guess_by_atom())\n",
    "    g_nn=mf_nn.Gradients()\n",
    "    g=g_nn.grad()\n",
    "    h_nn=mf_nn.Hessian()\n",
    "    h=h_nn.kernel()\n",
    "    print(r0,mf_nn.mol.atom_coords(),g[1,2],h[1,1,2,2])\n",
    "    r0=mf_nn.mol.atom_coord(1)[2]    \n",
    "    return_list.append([r0,g])\n",
    "    i+=1"
   ]
  },
  {
   "cell_type": "code",
   "execution_count": 155,
   "metadata": {},
   "outputs": [],
   "source": [
    "nn_min=2.07539647"
   ]
  },
  {
   "cell_type": "code",
   "execution_count": 156,
   "metadata": {},
   "outputs": [
    {
     "name": "stdout",
     "output_type": "stream",
     "text": [
      "converged SCF energy = -122.180160017684\n",
      "--------------- RHF gradients ---------------\n",
      "         x                y                z\n",
      "0 C     0.0000000000     0.0000000000     0.2267143222\n",
      "1 O    -0.0000000000    -0.0000000000    -0.2267143222\n",
      "----------------------------------------------\n",
      "2.1366490793669004\n",
      "converged SCF energy = -122.200191817239\n",
      "--------------- RHF gradients ---------------\n",
      "         x                y                z\n",
      "0 C    -0.0000000000    -0.0000000000     0.0527023597\n",
      "1 O     0.0000000000     0.0000000000    -0.0527023597\n",
      "----------------------------------------------\n",
      "2.1366490793669004 [[0.         0.         0.        ]\n",
      " [0.         0.         2.28885257]] -0.05270235972569104 0.8488695937846931\n",
      "converged SCF energy = -122.201951578903\n",
      "--------------- RHF gradients ---------------\n",
      "         x                y                z\n",
      "0 C    -0.0000000000    -0.0000000000     0.0058808628\n",
      "1 O     0.0000000000     0.0000000000    -0.0058808628\n",
      "----------------------------------------------\n",
      "2.288852565813629 [[0.         0.         0.        ]\n",
      " [0.         0.         2.35093791]] -0.005880862816066923 0.6656449563587747\n",
      "converged SCF energy = -122.201977860442\n",
      "--------------- RHF gradients ---------------\n",
      "         x                y                z\n",
      "0 C     0.0000000000    -0.0000000000     0.0001028064\n",
      "1 O    -0.0000000000     0.0000000000    -0.0001028064\n",
      "----------------------------------------------\n",
      "2.3509379086172477 [[0.         0.         0.        ]\n",
      " [0.         0.         2.35977274]] -0.0001028063724479722 0.6424848178756388\n",
      "converged SCF energy = -122.201977868666\n",
      "--------------- RHF gradients ---------------\n",
      "         x                y                z\n",
      "0 C    -0.0000000000     0.0000000000     0.0000000331\n",
      "1 O     0.0000000000    -0.0000000000    -0.0000000331\n",
      "----------------------------------------------\n",
      "2.3597727428030826 [[0.         0.         0.        ]\n",
      " [0.         0.         2.35993276]] -3.30610774312845e-08 0.6420715637619203\n"
     ]
    }
   ],
   "source": [
    "i=0\n",
    "mol_nn=FcM(fcs=[-1,1],atom=\"C 0 0 0; O 0 0 {}\".format(co_min),unit=\"Bohr\",basis=\"6-31G\")\n",
    "mf_nn=scf.RHF(mol_nn)\n",
    "mf_nn.scf(dm0=mf_nn.init_guess_by_atom())\n",
    "g_nn=mf_nn.Gradients()\n",
    "g=g_nn.grad()\n",
    "h_nn=mf_nn.Hessian()\n",
    "h=h_nn.kernel()\n",
    "return_list=[]\n",
    "r0=mf_nn.mol.atom_coord(1)[2]\n",
    "print(r0)\n",
    "while (np.linalg.norm(g)>1e-4) and i<10:\n",
    "    mol_nn=FcM(fcs=[-1,1],atom=\"C 0 0 0; O 0 0 {}\".format(r0-g[1,2]/h[1,1,2,2]),unit=\"Bohr\",basis=\"6-31G\")\n",
    "    mf_nn=scf.RHF(mol_nn)\n",
    "    mf_nn.scf(dm0=mf_nn.init_guess_by_atom())\n",
    "    g_nn=mf_nn.Gradients()\n",
    "    g=g_nn.grad()\n",
    "    h_nn=mf_nn.Hessian()\n",
    "    h=h_nn.kernel()\n",
    "    print(r0,mf_nn.mol.atom_coords(),g[1,2],h[1,1,2,2])\n",
    "    r0=mf_nn.mol.atom_coord(1)[2]    \n",
    "    return_list.append([r0,g])\n",
    "    i+=1"
   ]
  },
  {
   "cell_type": "code",
   "execution_count": 157,
   "metadata": {},
   "outputs": [],
   "source": [
    "bf_min=2.35993276"
   ]
  },
  {
   "cell_type": "code",
   "execution_count": 188,
   "metadata": {},
   "outputs": [
    {
     "data": {
      "image/png": "[encoded data removed]",
      "text/plain": [
       "<Figure size 432x288 with 1 Axes>"
      ]
     },
     "metadata": {
      "needs_background": "light"
     },
     "output_type": "display_data"
    }
   ],
   "source": [
    "plt.plot([nn_min-.05,bf_min+.05],[nn_min-.05,bf_min+.05],color=\"black\",lw=1)\n",
    "plt.scatter([nn_min,co_min,bf_min],[nn_min,co_min,bf_min],marker=\"x\",color=\"red\",label=\"true\")\n",
    "plt.scatter(co_min-g_vl_nn[0]/h_vl_nn[0],nn_min,color=\"purple\",label=\"APDFT1 from CO\")\n",
    "plt.scatter(co_min-g_vl_nn[1]/h_vl_nn[1],nn_min,color=\"yellow\",label=\"APDFT2 from CO\")\n",
    "plt.scatter(co_min-g_vl_nn[2]/h_vl_nn[2],nn_min,color=\"green\",label=\"APDFT3 from CO\")\n",
    "plt.scatter(co_min-g_vl_bf[0]/h_vl_bf[0],bf_min,color=\"purple\")\n",
    "plt.scatter(co_min-g_vl_bf[1]/h_vl_bf[1],bf_min,color=\"yellow\")\n",
    "plt.scatter(co_min-g_vl_bf[2]/h_vl_bf[2],bf_min,color=\"green\")\n",
    "plt.legend()\n",
    "plt.text(co_min+.01,co_min-.02,\"CO\",size=18)\n",
    "plt.text(nn_min+.01,nn_min-.02,\"NN\",size=18)\n",
    "plt.text(bf_min+.01,bf_min-.02,\"BF\",size=18)\n",
    "plt.savefig(\"CO_NN_BF.png\")"
   ]
  },
  {
   "cell_type": "code",
   "execution_count": null,
   "metadata": {},
   "outputs": [],
   "source": []
  }
 ],
 "metadata": {
  "kernelspec": {
   "display_name": "Python 3",
   "language": "python",
   "name": "python3"
  },
  "language_info": {
   "codemirror_mode": {
    "name": "ipython",
    "version": 3
   },
   "file_extension": ".py",
   "mimetype": "text/x-python",
   "name": "python",
   "nbconvert_exporter": "python",
   "pygments_lexer": "ipython3",
   "version": "3.7.6"
  }
 },
 "nbformat": 4,
 "nbformat_minor": 4
}
