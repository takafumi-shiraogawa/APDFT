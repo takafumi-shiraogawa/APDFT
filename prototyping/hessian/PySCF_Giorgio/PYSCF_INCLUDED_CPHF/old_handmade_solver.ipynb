{
 "cells": [
  {
   "cell_type": "code",
   "execution_count": 2,
   "metadata": {},
   "outputs": [],
   "source": [
    "from pyscf import gto, scf\n",
    "import scipy\n",
    "import inspect\n",
    "import pyscf.qmmm\n",
    "import pyscf.dft\n",
    "import numpy as np\n",
    "angstrom = 1 / 0.52917721067\n",
    "from matplotlib import pyplot as plt\n",
    "from functools import reduce\n",
    "from numpy.linalg import inv \n",
    "# ancora il modo migliore per mettere cariche frazionali sulle molecole, se vai a toccare mol.charges si incazza \n",
    "#  quando deve calcolare l' initial guess \n",
    "def fc(calc,deltaZ):\n",
    "    mf = pyscf.qmmm.mm_charge(calc, calc.mol.atom_coords(), deltaZ)  # now is add_mm_charge\n",
    "    class NoSelfQMMM(mf.__class__):\n",
    "        def energy_nuc(self):\n",
    "            q = self.mol.atom_charges().astype(np.float).copy()\n",
    "            q1 =q+ np.asarray(deltaZ) \n",
    "            return self.mol.energy_nuc(q1)\n",
    "    return(NoSelfQMMM(mf,mf.mm_mol))\n",
    "\n",
    "def DeltaV(mol,dL):\n",
    "    mol.set_rinv_orig_(mol.atom_coords()[0])\n",
    "    dV=mol.intor('int1e_rinv')*dL[0]\n",
    "    mol.set_rinv_orig_(mol.atom_coords()[1])\n",
    "    dV+=mol.intor('int1e_rinv')*dL[1]\n",
    "    return -dV"
   ]
  },
  {
   "cell_type": "code",
   "execution_count": 13,
   "metadata": {},
   "outputs": [
    {
     "name": "stdout",
     "output_type": "stream",
     "text": [
      "converged SCF energy = -1.11377437897079\n",
      "converged SCF energy = -1.11394322077261\n",
      "converged SCF energy = -1.11394322077261\n",
      "True\n"
     ]
    },
    {
     "name": "stderr",
     "output_type": "stream",
     "text": [
      "Warning: <pyscf.gto.mole.Mole object at 0x7f06fbb054e0> must be initialized before calling SCF.\n",
      "Initialize <pyscf.gto.mole.Mole object at 0x7f06fbb054e0> in <pyscf.scf.hf.RHF object at 0x7f06fbb05940>\n"
     ]
    }
   ],
   "source": [
    "co=gto.Mole(atom='H 0 0 0; H 0 0 1.2', unit=\"Bohr\",basis=\"3-21g\")\n",
    "hfco=scf.RHF(co)\n",
    "hfco.scf()\n",
    "\n",
    "dL=.01\n",
    "hf1=fc(hfco,[dL,-dL])\n",
    "hf1.scf()\n",
    "hf2=fc(hfco,[-dL,dL])\n",
    "hf2.scf()\n",
    "dV=DeltaV(co,[dL,-dL])\n",
    "print(np.allclose(dV,hf1.get_hcore()-hfco.get_hcore()))"
   ]
  },
  {
   "cell_type": "code",
   "execution_count": 14,
   "metadata": {},
   "outputs": [],
   "source": [
    "C=hfco.mo_coeff\n",
    "S=hfco.get_ovlp()\n",
    "e=hfco.mo_energy\n",
    "E=np.diag(e)\n",
    "O=np.diag(hfco.mo_occ)\n",
    "C1=hf1.mo_coeff\n",
    "P=hfco.make_rdm1()\n",
    "P1=hf1.make_rdm1()\n",
    "P2=hf2.make_rdm1()\n",
    "dP=(P1-P2)/2\n",
    "dC=(abs(C1)*C/abs(C)-C)"
   ]
  },
  {
   "cell_type": "code",
   "execution_count": 15,
   "metadata": {},
   "outputs": [
    {
     "name": "stdout",
     "output_type": "stream",
     "text": [
      "J-K/2 = H2 : True\n"
     ]
    }
   ],
   "source": [
    "h2=hfco.get_veff()\n",
    "J,K=hfco.get_jk()\n",
    "g_ijkl=hfco.mol.intor('int2e_sph')\n",
    "print( \"J-K/2 = H2 :\",np.allclose(h2,J-K/2))"
   ]
  },
  {
   "cell_type": "code",
   "execution_count": 16,
   "metadata": {},
   "outputs": [
    {
     "name": "stdout",
     "output_type": "stream",
     "text": [
      "0.013112700507594336\n",
      "0.011386593282550352\n",
      "0.0020933958012161456\n"
     ]
    }
   ],
   "source": [
    "U_app=C.T.dot(dV.dot(C))  # approximate value of U\n",
    "for i in range(co.nao):\n",
    "    for j in range(co.nao):\n",
    "        if e[i]!=e[j]:\n",
    "            U_app[i][j]/=(e[j]-e[i])\n",
    "dP_app=C.dot(U_app.dot(O)-O.dot(U_app)).dot(C.T)\n",
    "#plt.matshow(dP_app)\n",
    "#plt.matshow(dP)\n",
    "print(np.linalg.norm(dP))\n",
    "print(np.linalg.norm(dP_app))\n",
    "print(np.linalg.norm(dP_app-dP))"
   ]
  },
  {
   "cell_type": "code",
   "execution_count": 17,
   "metadata": {},
   "outputs": [
    {
     "name": "stdout",
     "output_type": "stream",
     "text": [
      "0.013112700507594336\n",
      "0.013113572371241264\n",
      "1.5943139887907726e-06\n"
     ]
    }
   ],
   "source": [
    "g_h2=g_ijkl-np.swapaxes(g_ijkl,1,2)/2\n",
    "for i in range(20):\n",
    "    U_app=C.T.dot((dV+np.einsum('ijkl,kl->ij',g_h2,dP_app)).dot(C)) # approximate value of U\n",
    "    for i in range(co.nao):\n",
    "        for j in range(co.nao):\n",
    "            if e[i]!=e[j]:\n",
    "                U_app[i][j]/=(e[j]-e[i])\n",
    "    dP_app=C.dot(U_app.dot(O)-O.dot(U_app)).dot(C.T)\n",
    "    #plt.matshow(dP_app)\n",
    "    #plt.matshow(dP)\n",
    "print(np.linalg.norm(dP))\n",
    "print(np.linalg.norm(dP_app))\n",
    "print(np.linalg.norm(dP_app-dP))"
   ]
  },
  {
   "cell_type": "code",
   "execution_count": 20,
   "metadata": {},
   "outputs": [
    {
     "name": "stdout",
     "output_type": "stream",
     "text": [
      "0.013112700507594336\n",
      "0.013113572371243063\n",
      "1.5943139925051544e-06\n",
      "0.013112700507594336\n",
      "0.01311357237124354\n",
      "1.5943139934895672e-06\n",
      "0.013112700507594336\n",
      "0.013113572371243665\n",
      "1.5943139937539878e-06\n",
      "0.013112700507594336\n",
      "0.013113572371243698\n",
      "1.5943139938199181e-06\n",
      "0.013112700507594336\n",
      "0.013113572371243708\n",
      "1.5943139938415666e-06\n",
      "0.013112700507594336\n",
      "0.013113572371243708\n",
      "1.5943139938454977e-06\n",
      "0.013112700507594336\n",
      "0.01311357237124371\n",
      "1.594313993845482e-06\n",
      "0.013112700507594336\n",
      "0.013113572371243713\n",
      "1.5943139938484096e-06\n",
      "0.013112700507594336\n",
      "0.013113572371243712\n",
      "1.5943139938471955e-06\n",
      "0.013112700507594336\n",
      "0.01311357237124371\n",
      "1.5943139938462532e-06\n"
     ]
    }
   ],
   "source": [
    "g_h2=g_ijkl-np.swapaxes(g_ijkl,1,2)/2\n",
    "for i in range(10):\n",
    "    U_app=C.T.dot((dV+np.einsum('ijkl,kl->ij',g_h2,dP_app)).dot(C)) # approximate value of U\n",
    "    for i in range(co.nao):\n",
    "        for j in range(co.nao):\n",
    "            if e[i]!=e[j]:\n",
    "                U_app[i][j]/=(e[j]-e[i])\n",
    "    dP_app=C.dot(U_app.dot(O)-O.dot(U_app)).dot(C.T)\n",
    "    #plt.matshow(dP_app)\n",
    "    #plt.matshow(dP)\n",
    "    print(np.linalg.norm(dP))\n",
    "    print(np.linalg.norm(dP_app))\n",
    "    print(np.linalg.norm(dP_app-dP))"
   ]
  },
  {
   "cell_type": "code",
   "execution_count": null,
   "metadata": {},
   "outputs": [],
   "source": []
  }
 ],
 "metadata": {
  "kernelspec": {
   "display_name": "Python 3",
   "language": "python",
   "name": "python3"
  },
  "language_info": {
   "codemirror_mode": {
    "name": "ipython",
    "version": 3
   },
   "file_extension": ".py",
   "mimetype": "text/x-python",
   "name": "python",
   "nbconvert_exporter": "python",
   "pygments_lexer": "ipython3",
   "version": "3.7.6"
  }
 },
 "nbformat": 4,
 "nbformat_minor": 2
}
