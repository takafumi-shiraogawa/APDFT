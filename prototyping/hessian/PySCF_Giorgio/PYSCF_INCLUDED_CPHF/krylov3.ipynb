{
 "cells": [
  {
   "cell_type": "code",
   "execution_count": 1,
   "metadata": {},
   "outputs": [],
   "source": [
    "from pyscf.lib import krylov\n",
    "from pyscf import gto, scf\n",
    "import scipy\n",
    "import inspect\n",
    "import pyscf.qmmm\n",
    "import pyscf.dft\n",
    "import numpy as np\n",
    "angstrom = 1 / 0.52917721067\n",
    "from matplotlib import pyplot as plt\n",
    "from functools import reduce\n",
    "from numpy.linalg import inv \n",
    "from pyscf.scf import cphf \n",
    "\n",
    "def fc(calc,deltaZ):\n",
    "    mf = pyscf.qmmm.mm_charge(calc, calc.mol.atom_coords(), deltaZ)  # now is add_mm_charge\n",
    "    class NoSelfQMMM(mf.__class__):\n",
    "        def energy_nuc(self):\n",
    "            q = self.mol.atom_charges().astype(np.float).copy()\n",
    "            q1 =q+ np.asarray(deltaZ) \n",
    "            return self.mol.energy_nuc(q1)\n",
    "    return(NoSelfQMMM(mf,mf.mm_mol))\n",
    "\n",
    "def DeltaV(mol,dL):\n",
    "    mol.set_rinv_orig_(mol.atom_coords()[0])\n",
    "    dV=mol.intor('int1e_rinv')*dL[0]\n",
    "    mol.set_rinv_orig_(mol.atom_coords()[1])\n",
    "    dV+=mol.intor('int1e_rinv')*dL[1]\n",
    "    return -dV"
   ]
  },
  {
   "cell_type": "code",
   "execution_count": 30,
   "metadata": {},
   "outputs": [
    {
     "name": "stderr",
     "output_type": "stream",
     "text": [
      "Warning: <pyscf.gto.mole.Mole object at 0x7fa310486750> must be initialized before calling SCF.\n",
      "Initialize <pyscf.gto.mole.Mole object at 0x7fa310486750> in <pyscf.scf.hf.RHF object at 0x7fa3104869d0>\n"
     ]
    },
    {
     "name": "stdout",
     "output_type": "stream",
     "text": [
      "converged SCF energy = -1.11033388268018\n",
      "converged SCF energy = -1.11050145845196\n",
      "converged SCF energy = -1.11050145845196\n"
     ]
    }
   ],
   "source": [
    "mol=gto.Mole(atom=\"H 0 0 0 ;H 0 0 1.2\", unit=\"Bohr\", basis= \"sto-3G\")\n",
    "mf=scf.RHF(mol)\n",
    "mf.scf()\n",
    "dL=.01\n",
    "mf1=fc(mf,[dL,-dL])\n",
    "mf1.scf()\n",
    "mf2=fc(mf,[-dL,dL])\n",
    "mf2.scf()\n",
    "dV=DeltaV(mol,[dL,-dL])\n",
    "h2=mf.get_veff()\n",
    "dh2=(mf1.get_veff()-mf2.get_veff())/2\n",
    "J,K=mf.get_jk()\n",
    "g_ijkl=mf.mol.intor('int2e_sph')\n",
    "g_h2=g_ijkl-np.swapaxes(g_ijkl,1,2)/2\n",
    "nocc= mol.nelec[0]\n",
    "\n",
    "\n",
    "C=mf.mo_coeff\n",
    "nmo=C.shape[0]\n",
    "nvir=nmo-nocc\n",
    "S=mf.get_ovlp()\n",
    "e=mf.mo_energy\n",
    "E=np.diag(e)\n",
    "O=np.diag(mf.mo_occ)\n",
    "C1=mf1.mo_coeff\n",
    "P=mf.make_rdm1()\n",
    "P1=mf1.make_rdm1()\n",
    "P2=mf2.make_rdm1() \n",
    "dP=(P1-P2)/2\n",
    "dP2=(P1-2*P+P2)/dL**2\n",
    "dC=(abs(C1)*C/abs(C)-C)\n",
    "dV_mo=C.T@dV@C"
   ]
  },
  {
   "cell_type": "code",
   "execution_count": 31,
   "metadata": {},
   "outputs": [],
   "source": [
    "def test(u_): # check density matrices comparing to the one ontained by FD\n",
    "    ut=np.zeros((nmo,nmo))\n",
    "    ut[nocc:,:nocc]=u_.reshape(nvir,nocc)\n",
    "    ut[:nocc,nocc:]=-u_.reshape(nvir,nocc).T\n",
    "    dP_app=C@(ut@O-O@ut)@C.T    \n",
    "    print(np.linalg.norm(dP))\n",
    "    print(np.linalg.norm(dP_app))\n",
    "    print(np.linalg.norm(dP_app-dP))"
   ]
  },
  {
   "cell_type": "code",
   "execution_count": 32,
   "metadata": {},
   "outputs": [],
   "source": [
    "em1,em2=np.meshgrid(e,e)\n",
    "emeshvo=(em1-em2)[nocc:,:nocc]\n",
    "emeshf=emeshvo.flatten()\n",
    "G_cphf=g_ijkl.copy()\n",
    "G_cphf=4*G_cphf -G_cphf.swapaxes(3,1)-G_cphf.swapaxes(1,2)\n",
    "G_cphf=G_cphf@C\n",
    "G_cphf=(G_cphf.swapaxes(2,3)@C).swapaxes(3,2)\n",
    "G_cphf=(G_cphf.swapaxes(1,3)@C).swapaxes(3,1)\n",
    "G_cphf=(G_cphf.swapaxes(0,3)@C).swapaxes(3,0)\n",
    "\n",
    "G_cphfvovo=G_cphf.copy()[nocc:,:nocc,nocc:,:nocc]    #aibj"
   ]
  },
  {
   "cell_type": "code",
   "execution_count": 33,
   "metadata": {},
   "outputs": [],
   "source": [
    "dVvo=(dV_mo[nocc:,:nocc])\n",
    "dVf=dVvo.flatten()"
   ]
  },
  {
   "cell_type": "code",
   "execution_count": 34,
   "metadata": {},
   "outputs": [],
   "source": [
    "def emul(_u):\n",
    "    return _u*emeshf -_u #from U gives dV"
   ]
  },
  {
   "cell_type": "code",
   "execution_count": 35,
   "metadata": {},
   "outputs": [],
   "source": [
    "def gmul(_u):\n",
    "    return np.einsum('ijkl,kl->ij',G_cphfvovo,_u.reshape(nvir,nocc)).flatten()"
   ]
  },
  {
   "cell_type": "code",
   "execution_count": 36,
   "metadata": {},
   "outputs": [],
   "source": [
    "def amul(_u):\n",
    "    _u=_u.flatten()\n",
    "    return emul(_u)-gmul(_u)"
   ]
  },
  {
   "cell_type": "code",
   "execution_count": 37,
   "metadata": {},
   "outputs": [],
   "source": [
    "uk=krylov(amul,dVf, max_cycle=100)"
   ]
  },
  {
   "cell_type": "code",
   "execution_count": 38,
   "metadata": {},
   "outputs": [
    {
     "data": {
      "text/plain": [
       "0.0"
      ]
     },
     "execution_count": 38,
     "metadata": {},
     "output_type": "execute_result"
    }
   ],
   "source": [
    "np.max(amul(uk)+uk-dVf)"
   ]
  },
  {
   "cell_type": "code",
   "execution_count": 39,
   "metadata": {},
   "outputs": [
    {
     "name": "stdout",
     "output_type": "stream",
     "text": [
      "0.023871933740730066\n",
      "0.023873114928908826\n",
      "1.1811881787601493e-06\n"
     ]
    }
   ],
   "source": [
    "test(uk)"
   ]
  },
  {
   "cell_type": "code",
   "execution_count": 40,
   "metadata": {},
   "outputs": [
    {
     "data": {
      "text/plain": [
       "array([0.00578073])"
      ]
     },
     "execution_count": 40,
     "metadata": {},
     "output_type": "execute_result"
    }
   ],
   "source": [
    "uk"
   ]
  },
  {
   "cell_type": "code",
   "execution_count": 41,
   "metadata": {},
   "outputs": [
    {
     "name": "stdout",
     "output_type": "stream",
     "text": [
      "0.023871933740730066\n",
      "0.023873114928908826\n",
      "1.1811881787601493e-06\n"
     ]
    }
   ],
   "source": [
    "u_cphf=cphf.solve_nos1(gmul, e, mf.mo_occ, dVvo)[0]\n",
    "test(u_cphf)"
   ]
  },
  {
   "cell_type": "code",
   "execution_count": 42,
   "metadata": {},
   "outputs": [
    {
     "data": {
      "text/plain": [
       "(1, 1)"
      ]
     },
     "execution_count": 42,
     "metadata": {},
     "output_type": "execute_result"
    }
   ],
   "source": [
    "u_cphf.shape"
   ]
  },
  {
   "cell_type": "code",
   "execution_count": 43,
   "metadata": {},
   "outputs": [
    {
     "data": {
      "text/plain": [
       "True"
      ]
     },
     "execution_count": 43,
     "metadata": {},
     "output_type": "execute_result"
    }
   ],
   "source": [
    "vresp=mf.gen_response(hermi=1)\n",
    "np.allclose(vresp(P),h2)"
   ]
  },
  {
   "cell_type": "code",
   "execution_count": 44,
   "metadata": {},
   "outputs": [],
   "source": [
    "from pyscf import lib\n",
    "def gen_vind( mf, mo_coeff, mo_occ):  #polarizability\n",
    "        '''Induced potential'''\n",
    "        vresp = mf.gen_response(hermi=1)\n",
    "        occidx = mo_occ > 0\n",
    "        orbo = mo_coeff[:, occidx]\n",
    "        nocc = orbo.shape[1]\n",
    "        nao, nmo = mo_coeff.shape\n",
    "        def vind(mo1):\n",
    "            dm1 = lib.einsum('xai,pa,qi->xpq', mo1.reshape(-1,nmo,nocc), mo_coeff,orbo.conj())\n",
    "            dm1 = (dm1 + dm1.transpose(0,2,1).conj()) * 2\n",
    "            v1mo = lib.einsum('xpq,pi,qj->xij', vresp(dm1), mo_coeff.conj(), orbo)\n",
    "            return v1mo.ravel()\n",
    "        return vind"
   ]
  },
  {
   "cell_type": "code",
   "execution_count": 45,
   "metadata": {},
   "outputs": [],
   "source": [
    "vind=gen_vind(mf, mf.mo_coeff,mf.mo_occ)"
   ]
  },
  {
   "cell_type": "code",
   "execution_count": 46,
   "metadata": {},
   "outputs": [
    {
     "data": {
      "text/plain": [
       "array([-0.00693429,  0.        ])"
      ]
     },
     "execution_count": 46,
     "metadata": {},
     "output_type": "execute_result"
    }
   ],
   "source": [
    "vind(dV[:,:nocc])"
   ]
  },
  {
   "cell_type": "code",
   "execution_count": 47,
   "metadata": {},
   "outputs": [
    {
     "data": {
      "text/plain": [
       "\"   CPHF.nos1 -code \\n\\ne_a = mo_energy[mo_occ==0]\\ne_i = mo_energy[mo_occ>0]\\ne_ai = 1 / lib.direct_sum('a-i->ai', e_a, e_i)\\nmo1base = h1 * -e_ai\\n\\ndef vind_vo(mo1):  #mo1 =dC \\n    v = fvind(mo1.reshape(h1.shape)).reshape(h1.shape)\\n    v *= e_ai\\n    return v.ravel()\\nmo1 = lib.krylov(vind_vo, mo1base.ravel(),\\n                 tol=tol, max_cycle=max_cycle, hermi=hermi, verbose=log)\\nlog.timer('krylov solver in CPHF', *t0)\\nreturn mo1.reshape(h1.shape), None\\n\""
      ]
     },
     "execution_count": 47,
     "metadata": {},
     "output_type": "execute_result"
    }
   ],
   "source": [
    "\"\"\"   CPHF.nos1 -code \n",
    "\n",
    "e_a = mo_energy[mo_occ==0]\n",
    "e_i = mo_energy[mo_occ>0]\n",
    "e_ai = 1 / lib.direct_sum('a-i->ai', e_a, e_i)\n",
    "mo1base = h1 * -e_ai\n",
    "\n",
    "def vind_vo(mo1):  #mo1 =dC \n",
    "    v = fvind(mo1.reshape(h1.shape)).reshape(h1.shape)\n",
    "    v *= e_ai\n",
    "    return v.ravel()\n",
    "mo1 = lib.krylov(vind_vo, mo1base.ravel(),\n",
    "                 tol=tol, max_cycle=max_cycle, hermi=hermi, verbose=log)\n",
    "log.timer('krylov solver in CPHF', *t0)\n",
    "return mo1.reshape(h1.shape), None\n",
    "\"\"\""
   ]
  }
 ],
 "metadata": {
  "kernelspec": {
   "display_name": "Python 3",
   "language": "python",
   "name": "python3"
  },
  "language_info": {
   "codemirror_mode": {
    "name": "ipython",
    "version": 3
   },
   "file_extension": ".py",
   "mimetype": "text/x-python",
   "name": "python",
   "nbconvert_exporter": "python",
   "pygments_lexer": "ipython3",
   "version": "3.7.6"
  }
 },
 "nbformat": 4,
 "nbformat_minor": 2
}
