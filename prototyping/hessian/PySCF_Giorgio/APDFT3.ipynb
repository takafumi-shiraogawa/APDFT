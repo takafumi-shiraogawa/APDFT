{
 "cells": [
  {
   "cell_type": "code",
   "execution_count": 1,
   "metadata": {},
   "outputs": [],
   "source": [
    "from pyscf import gto, scf\n",
    "import scipy\n",
    "import inspect\n",
    "import pyscf.qmmm\n",
    "import pyscf.dft\n",
    "import numpy as np\n",
    "angstrom = 1 / 0.52917721067\n",
    "from matplotlib import pyplot as plt\n",
    "from functools import reduce\n",
    "from numpy.linalg import inv \n",
    "from pyscf.scf import cphf \n",
    "# ancora il modo migliore per mettere cariche frazionali sulle molecole, se vai a toccare mol.charges si incazza \n",
    "#  quando deve calcolare l' initial guess \n",
    "def fc(calc,deltaZ):\n",
    "    mf = pyscf.qmmm.mm_charge(calc, calc.mol.atom_coords(), deltaZ)  # now is add_mm_charge\n",
    "    class NoSelfQMMM(mf.__class__):\n",
    "        def energy_nuc(self):\n",
    "            q = self.mol.atom_charges().astype(np.float).copy()\n",
    "            q1 =q+ np.asarray(deltaZ) \n",
    "            return self.mol.energy_nuc(q1)\n",
    "    return(NoSelfQMMM(mf,mf.mm_mol))\n",
    "\n",
    "def DeltaV(mol,dL):\n",
    "    mol.set_rinv_orig_(mol.atom_coords()[0])\n",
    "    dV=mol.intor('int1e_rinv')*dL[0]\n",
    "    mol.set_rinv_orig_(mol.atom_coords()[1])\n",
    "    dV+=mol.intor('int1e_rinv')*dL[1]\n",
    "    return -dV"
   ]
  },
  {
   "cell_type": "code",
   "execution_count": 2,
   "metadata": {},
   "outputs": [
    {
     "name": "stdout",
     "output_type": "stream",
     "text": [
      "converged SCF energy = -112.078731735567\n",
      "converged SCF energy = -111.344334857567\n"
     ]
    },
    {
     "name": "stderr",
     "output_type": "stream",
     "text": [
      "Warning: <pyscf.gto.mole.Mole object at 0x7f0bd2f319b0> must be initialized before calling SCF.\n",
      "Initialize <pyscf.gto.mole.Mole object at 0x7f0bd2f319b0> in <pyscf.scf.hf.RHF object at 0x7f0bd2f31b38>\n"
     ]
    },
    {
     "name": "stdout",
     "output_type": "stream",
     "text": [
      "converged SCF energy = -112.850979351666\n"
     ]
    }
   ],
   "source": [
    "co=gto.Mole(atom=\"C 0 0 0 ;O 0 0 {}\".format(2/angstrom), basis= \"3-21g\")\n",
    "hfco=scf.RHF(co)\n",
    "hfco.scf()\n",
    "dL=.1\n",
    "hf1=fc(hfco,[dL,-dL])\n",
    "hf1.scf()\n",
    "hf2=fc(hfco,[-dL,dL])\n",
    "hf2.scf()\n",
    "dV=DeltaV(co,[dL,-dL])\n",
    "h2=hfco.get_veff()\n",
    "dh2=(hf1.get_veff()-hf2.get_veff())/2\n",
    "J,K=hfco.get_jk()\n",
    "g_ijkl=hfco.mol.intor('int2e_sph')\n",
    "g_h2=g_ijkl-np.swapaxes(g_ijkl,1,2)/2\n",
    "nocc= co.nelec[0]\n",
    "\n",
    "C=hfco.mo_coeff\n",
    "S=hfco.get_ovlp()\n",
    "e=hfco.mo_energy\n",
    "E=np.diag(e)\n",
    "O=np.diag(hfco.mo_occ)\n",
    "C1=hf1.mo_coeff\n",
    "P=hfco.make_rdm1()\n",
    "P1=hf1.make_rdm1()\n",
    "P2=hf2.make_rdm1() \n",
    "dP=(P1-P2)/2\n",
    "dP2=(P1-2*P+P2)/dL**2\n",
    "dC=(abs(C1)*C/abs(C)-C)"
   ]
  },
  {
   "cell_type": "code",
   "execution_count": 3,
   "metadata": {},
   "outputs": [],
   "source": [
    "G_mo=g_ijkl.copy()\n",
    "G_mo=G_mo@C\n",
    "G_mo=(G_mo.swapaxes(2,3)@C).swapaxes(3,2)\n",
    "G_mo=(G_mo.swapaxes(1,3)@C).swapaxes(3,1)\n",
    "G_mo=(G_mo.swapaxes(0,3)@C).swapaxes(3,0)"
   ]
  },
  {
   "cell_type": "code",
   "execution_count": 4,
   "metadata": {},
   "outputs": [],
   "source": [
    "G_cphf=g_ijkl.copy()\n",
    "G_cphf=4*G_cphf -G_cphf.swapaxes(3,1)-G_cphf.swapaxes(1,2)\n",
    "G_cphf=G_cphf@C\n",
    "G_cphf=(G_cphf.swapaxes(2,3)@C).swapaxes(3,2)\n",
    "G_cphf=(G_cphf.swapaxes(1,3)@C).swapaxes(3,1)\n",
    "G_cphf=(G_cphf.swapaxes(0,3)@C).swapaxes(3,0)\n",
    "A=G_cphf.copy()\n",
    "for i in range(co.nao):\n",
    "    for a in range(co.nao):\n",
    "        if e[i] !=e[a] :\n",
    "            A[i,a,:,:]/=(e[a]-e[i])"
   ]
  },
  {
   "cell_type": "code",
   "execution_count": 5,
   "metadata": {},
   "outputs": [
    {
     "name": "stdout",
     "output_type": "stream",
     "text": [
      "0.00019504468611357273\n"
     ]
    },
    {
     "name": "stderr",
     "output_type": "stream",
     "text": [
      "/home/giorgiod/psi4conda/lib/python3.6/site-packages/ipykernel_launcher.py:10: DeprecationWarning: Calling np.sum(generator) is deprecated, and in the future will give a different result. Use np.sum(np.fromiter(generator)) or the python sum builtin instead.\n",
      "  # Remove the CWD from sys.path while we load stuff.\n",
      "/home/giorgiod/psi4conda/lib/python3.6/site-packages/ipykernel_launcher.py:14: DeprecationWarning: Calling np.sum(generator) is deprecated, and in the future will give a different result. Use np.sum(np.fromiter(generator)) or the python sum builtin instead.\n",
      "  \n"
     ]
    }
   ],
   "source": [
    "dV_mo=C.T@dV@C\n",
    "U_0= dV_mo.copy()\n",
    "for i in range(co.nao):\n",
    "    for j in range(co.nao):\n",
    "        if e[i]!=e[j]:\n",
    "            U_0[i][j]/=(e[j]-e[i])\n",
    "Us=[]\n",
    "Us.append(U_0)\n",
    "for k in range(60):\n",
    "    U=np.sum(u for u in Us)\n",
    "    dP_app=C@(U@O-O@U)@C.T\n",
    "#    print(np.linalg.norm(dP_app-dP))\n",
    "    Us.append(np.einsum('ijkl,kl->ij',A[:,:,nocc:,:nocc],Us[k][nocc:,:nocc])) # approximate value of U\n",
    "    U=np.sum(u for u in Us)\n",
    "    dP_app=C@(U@O-O@U)@C.T\n",
    "    \n",
    "print(np.linalg.norm(dP_app-dP))"
   ]
  },
  {
   "cell_type": "code",
   "execution_count": 48,
   "metadata": {},
   "outputs": [
    {
     "data": {
      "text/plain": [
       "24.000000011338358"
      ]
     },
     "execution_count": 48,
     "metadata": {},
     "output_type": "execute_result"
    }
   ],
   "source": [
    "co.energy_nuc()"
   ]
  },
  {
   "cell_type": "code",
   "execution_count": 49,
   "metadata": {},
   "outputs": [
    {
     "name": "stdout",
     "output_type": "stream",
     "text": [
      "converged SCF energy = -106.480338236127\n",
      "true target energy:  -106.48033823612667\n",
      "CO energy =  -112.07873173556735\n",
      "APDFT1 energy = -105.04530939648713\n",
      "APDFT2 energy = -106.43808472615233\n",
      "APDFT2 energy approx.= -106.43949971906136\n",
      "APDFT3 energy = -106.45801875695538\n",
      "2nd deriv = -2.785550659330378\n",
      "3rd deriv = -0.1196041848183238\n"
     ]
    }
   ],
   "source": [
    "dEnn=1/2.\n",
    "print(\"true target energy: \",fc(hfco,[1,-1]).scf())\n",
    "print(\"CO energy = \",hfco.e_tot)\n",
    "print(\"APDFT1 energy =\", hfco.e_tot+dEnn+np.trace(P.dot(dV/dL)))\n",
    "print(\"APDFT2 energy =\", hfco.e_tot+dEnn+np.trace((P+0.5*dP/dL).dot(dV/dL)))\n",
    "print(\"APDFT2 energy approx.=\", hfco.e_tot+dEnn+np.trace((P+ 0.5*dP_app/dL).dot(dV/dL)))\n",
    "print(\"APDFT3 energy =\", hfco.e_tot+dEnn+np.trace((P+0.5*dP/dL+(1/6)*dP2).dot(dV/dL)))\n",
    "print(\"2nd deriv =\", np.trace(dP.dot(dV/dL)/dL))\n",
    "print(\"3rd deriv =\", np.trace(dP2.dot(dV/dL)))"
   ]
  },
  {
   "cell_type": "markdown",
   "metadata": {},
   "source": [
    "APDFT2 predictions can also be obtained with:\n",
    "$$ \\frac {\\partial^2 E}{\\partial Z^2}= 4 \\sum_a \\sum_i U_{ia} \\Delta V^{mo}_{ai}\n",
    "$$"
   ]
  },
  {
   "cell_type": "code",
   "execution_count": 40,
   "metadata": {},
   "outputs": [
    {
     "data": {
      "text/plain": [
       "2.788380645148462"
      ]
     },
     "execution_count": 40,
     "metadata": {},
     "output_type": "execute_result"
    }
   ],
   "source": [
    "4*np.trace(U[:nocc,nocc:]@dV_mo[nocc:,:nocc])/dL**2"
   ]
  },
  {
   "cell_type": "code",
   "execution_count": 43,
   "metadata": {},
   "outputs": [
    {
     "name": "stdout",
     "output_type": "stream",
     "text": [
      "-35.776371990516125\n",
      "-35.976328283298585\n",
      "-34.69669661958481\n",
      "-52.567641041439245\n",
      "-52.584770646129336\n"
     ]
    }
   ],
   "source": [
    "B_aa= np.einsum('ijkl,kl->ij',4*G_mo- G_mo.swapaxes(1,3)-G_mo.swapaxes(1,3).swapaxes(1,2),U[:,:nocc]@U.T[:nocc,:])/dL**2\n",
    "print(-4*(B_aa[nocc:,:nocc]@U.T[:nocc,:nocc]).trace()/dL)\n",
    "B_aa-=2*dV_mo@U /dL**2\n",
    "print(-4*(B_aa[nocc:,:nocc]@U.T[:nocc,:nocc]).trace()/dL)\n",
    "B_aa-=2*np.einsum('ijkl,kl->ij',(4*G_mo-G_mo.swapaxes(1,2)-G_mo.swapaxes(1,3))[:,:,:,:nocc],U[:,:nocc])@U/dL**2\n",
    "print(-4*(B_aa[nocc:,:nocc]@U.T[:nocc,:nocc]).trace()/dL)\n",
    "B_aa+=0.5*np.einsum('ijkl,kl->ij',(4*G_mo -G_mo.swapaxes(1,3)-G_mo.swapaxes(1,2))[:,:,:nocc,:],(U@U.T)[:nocc,:])/dL**2\n",
    "print(-4*(B_aa[nocc:,:nocc]@U.T[:nocc,:nocc]).trace()/dL)\n",
    "C=np.ones((e.size,e.size))\n",
    "C[:,:]*=e\n",
    "C.T[:,:]-=e\n",
    "B_aa+=(U@U).T*C/dL**2\n",
    "print(-4*(B_aa[nocc:,:nocc]@U.T[:nocc,:nocc]).trace()/dL)\n"
   ]
  },
  {
   "cell_type": "code",
   "execution_count": 83,
   "metadata": {},
   "outputs": [
    {
     "name": "stdout",
     "output_type": "stream",
     "text": [
      "-3.3440056427774754\n",
      "-3.513559693576778\n",
      "-1.851310995411889\n",
      "-3.5215378555167285\n",
      "-3.5649071043072853\n"
     ]
    }
   ],
   "source": [
    "B_aa= np.einsum('ijkl,kl->ij',4*G_mo- G_mo.swapaxes(1,3)-G_mo.swapaxes(1,3).swapaxes(1,2),U[:,:nocc]@U.T[:nocc,:])/dL\n",
    "print(-4*(B_aa[nocc:,:nocc]@U.T[:nocc,:nocc]).trace()/dL)\n",
    "B_aa-=2*dV_mo@U /dL**2\n",
    "print(-4*(B_aa[nocc:,:nocc]@U.T[:nocc,:nocc]).trace()/dL)\n",
    "B_aa-=2*np.einsum('ijkl,kl->ij',(4*G_mo-G_mo.swapaxes(1,2)-G_mo.swapaxes(1,3))[:,:,:,:nocc],U[:,:nocc])@U/dL**2\n",
    "print(-4*(B_aa[nocc:,:nocc]@U.T[:nocc,:nocc]).trace()/dL)\n",
    "B_aa+=0.5*np.einsum('ijkl,kl->ij',(4*G_mo -G_mo.swapaxes(1,3)-G_mo.swapaxes(1,2))[:,:,:nocc,:],(U@U.T)[:nocc,:])/dL\n",
    "print(-4*(B_aa[nocc:,:nocc]@U.T[:nocc,:nocc]).trace()/dL)\n",
    "C=np.ones((e.size,e.size))\n",
    "C[:,:]*=e\n",
    "C.T[:,:]-=e\n",
    "B_aa+=(U@U).T*C/dL**2\n",
    "print(-4*(B_aa[nocc:,:nocc]@U.T[:nocc,:nocc]).trace()/dL)\n"
   ]
  },
  {
   "cell_type": "code",
   "execution_count": 84,
   "metadata": {},
   "outputs": [
    {
     "data": {
      "text/plain": [
       "-3.506186151588587"
      ]
     },
     "execution_count": 84,
     "metadata": {},
     "output_type": "execute_result"
    }
   ],
   "source": [
    "-4*(B_aa[nocc:,:nocc]@U.T[:nocc,:nocc]).trace()/dL+4*(U.T[:nocc,nocc:]@dV_mo[nocc:,nocc:]@U[nocc:,:nocc]).trace()/dL**3"
   ]
  },
  {
   "cell_type": "code",
   "execution_count": 85,
   "metadata": {},
   "outputs": [
    {
     "data": {
      "text/plain": [
       "0.05872095271869818"
      ]
     },
     "execution_count": 85,
     "metadata": {},
     "output_type": "execute_result"
    }
   ],
   "source": [
    "4*(U.T[:nocc,nocc:]@dV_mo[nocc:,nocc:]@U[nocc:,:nocc]).trace()/dL**3"
   ]
  },
  {
   "cell_type": "code",
   "execution_count": null,
   "metadata": {},
   "outputs": [],
   "source": []
  }
 ],
 "metadata": {
  "kernelspec": {
   "display_name": "Python 3",
   "language": "python",
   "name": "python3"
  },
  "language_info": {
   "codemirror_mode": {
    "name": "ipython",
    "version": 3
   },
   "file_extension": ".py",
   "mimetype": "text/x-python",
   "name": "python",
   "nbconvert_exporter": "python",
   "pygments_lexer": "ipython3",
   "version": "3.7.6"
  }
 },
 "nbformat": 4,
 "nbformat_minor": 4
}
