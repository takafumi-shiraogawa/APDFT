{
 "cells": [
  {
   "cell_type": "code",
   "execution_count": 1,
   "metadata": {},
   "outputs": [],
   "source": [
    "from pyscf import gto, scf\n",
    "import scipy\n",
    "import inspect\n",
    "import pyscf.qmmm\n",
    "import pyscf.dft\n",
    "import numpy as np\n",
    "angstrom = 1 / 0.52917721067\n",
    "from matplotlib import pyplot as plt\n",
    "from functools import reduce\n",
    "from numpy.linalg import inv \n",
    "from pyscf.scf import cphf \n",
    "# ancora il modo migliore per mettere cariche frazionali sulle molecole, se vai a toccare mol.charges si incazza \n",
    "#  quando deve calcolare l' initial guess \n",
    "def fc(calc,deltaZ):\n",
    "    mf = pyscf.qmmm.mm_charge(calc, calc.mol.atom_coords(), deltaZ)  # now is add_mm_charge\n",
    "    class NoSelfQMMM(mf.__class__):\n",
    "        def energy_nuc(self):\n",
    "            q = self.mol.atom_charges().astype(np.float).copy()\n",
    "            q1 =q+ np.asarray(deltaZ) \n",
    "            return self.mol.energy_nuc(q1)\n",
    "    return(NoSelfQMMM(mf,mf.mm_mol))\n",
    "\n",
    "def DeltaV(mol,dL):\n",
    "    mol.set_rinv_orig_(mol.atom_coords()[0])\n",
    "    dV=mol.intor('int1e_rinv')*dL[0]\n",
    "    mol.set_rinv_orig_(mol.atom_coords()[1])\n",
    "    dV+=mol.intor('int1e_rinv')*dL[1]\n",
    "    return -dV"
   ]
  },
  {
   "cell_type": "code",
   "execution_count": 2,
   "metadata": {},
   "outputs": [
    {
     "name": "stderr",
     "output_type": "stream",
     "text": [
      "Warning: <pyscf.gto.mole.Mole object at 0x7fbabc204150> must be initialized before calling SCF.\n",
      "Initialize <pyscf.gto.mole.Mole object at 0x7fbabc204150> in <pyscf.scf.hf.RHF object at 0x7fbabc241950>\n",
      "<class 'pyscf.gto.mole.Mole'> does not have attributes  maxit units\n"
     ]
    },
    {
     "name": "stdout",
     "output_type": "stream",
     "text": [
      "converged SCF energy = -0.941480654707798\n",
      "converged SCF energy = -0.941480680076734\n",
      "converged SCF energy = -0.941480680076787\n",
      "True\n"
     ]
    }
   ],
   "source": [
    "co=gto.Mole(atom=\"H 0 0 0 ;H 0 0 1.4\", basis= \"sto-3g\",units=\"Bohr\",maxit=100)\n",
    "hfco=scf.RHF(co)\n",
    "hfco.scf()\n",
    "dL=.0001\n",
    "hf1=fc(hfco,[dL,-dL])\n",
    "hf1.scf()\n",
    "hf2=fc(hfco,[-dL,dL])\n",
    "hf2.scf()\n",
    "dV=DeltaV(co,[dL,-dL])\n",
    "print(np.allclose(dV,hf1.get_hcore()-hfco.get_hcore()))"
   ]
  },
  {
   "cell_type": "code",
   "execution_count": 3,
   "metadata": {},
   "outputs": [],
   "source": [
    "C=hfco.mo_coeff\n",
    "S=hfco.get_ovlp()\n",
    "e=hfco.mo_energy\n",
    "E=np.diag(e)\n",
    "O=np.diag(hfco.mo_occ)\n",
    "C1=hf1.mo_coeff\n",
    "P=hfco.make_rdm1()\n",
    "P1=hf1.make_rdm1()\n",
    "P2=hf2.make_rdm1() \n",
    "dP=(P1-P2)/2\n",
    "dC=(abs(C1)*C/abs(C)-C)"
   ]
  },
  {
   "cell_type": "code",
   "execution_count": 4,
   "metadata": {},
   "outputs": [
    {
     "data": {
      "text/plain": [
       "True"
      ]
     },
     "execution_count": 4,
     "metadata": {},
     "output_type": "execute_result"
    }
   ],
   "source": [
    "h2=hfco.get_veff()\n",
    "dh2=hf1.get_veff()-h2\n",
    "J,K=hfco.get_jk()\n",
    "g_ijkl=hfco.mol.intor('int2e_sph')\n",
    "g_h2=g_ijkl-np.swapaxes(g_ijkl,1,2)/2\n",
    "np.allclose(h2,np.einsum('ijkl,kl->ij',g_h2,P))"
   ]
  },
  {
   "cell_type": "code",
   "execution_count": 5,
   "metadata": {},
   "outputs": [
    {
     "data": {
      "text/plain": [
       "(array([[1.00000000e+00, 2.22044605e-16],\n",
       "        [1.11022302e-16, 1.00000000e+00]]),\n",
       " array([[1., 0.],\n",
       "        [0., 1.]]),\n",
       " array([[1., 0.],\n",
       "        [0., 1.]]))"
      ]
     },
     "execution_count": 5,
     "metadata": {},
     "output_type": "execute_result"
    }
   ],
   "source": [
    "(C.T@S)@C, C@(C.T@S), (S@C)@C.T  # The inverse of C is C*S , and the inverse of C* is SC"
   ]
  },
  {
   "cell_type": "code",
   "execution_count": 6,
   "metadata": {},
   "outputs": [
    {
     "name": "stdout",
     "output_type": "stream",
     "text": [
      "0.00035878765618787704\n",
      "0.00041455727621003555\n",
      "5.5769620022158494e-05\n"
     ]
    }
   ],
   "source": [
    "U_app= C.T.dot(dV.dot(C))  #+U np.diag(np.diagonal(S)**-0.5) approximate value of \n",
    "for i in range(co.nao):\n",
    "    for j in range(co.nao):\n",
    "        if e[i]!=e[j]:\n",
    "            U_app[i][j]/=(e[j]-e[i])\n",
    "dP_app=C.dot(U_app.dot(O)-O.dot(U_app)).dot(C.T)\n",
    "print(np.linalg.norm(dP))\n",
    "print(np.linalg.norm(dP_app))\n",
    "print(np.linalg.norm(dP_app-dP))"
   ]
  },
  {
   "cell_type": "code",
   "execution_count": 13,
   "metadata": {},
   "outputs": [
    {
     "name": "stdout",
     "output_type": "stream",
     "text": [
      "0.00035878765618787704\n",
      "0.00035878766055962415\n",
      "4.3717471226277855e-12\n"
     ]
    }
   ],
   "source": [
    "for i in range(10):\n",
    "    U_app=C.T.dot((dV+np.einsum('ijkl,kl->ij',g_h2,dP_app)).dot(C)) # approximate value of U\n",
    "    for i in range(co.nao):\n",
    "        for j in range(co.nao):\n",
    "            if e[i]!=e[j]:\n",
    "                U_app[i][j]/=(e[j]-e[i])\n",
    "    dP_app=C.dot(U_app.dot(O)-O.dot(U_app)).dot(C.T)\n",
    "U=U_app.copy()\n",
    "print(np.linalg.norm(dP))\n",
    "print(np.linalg.norm(dP_app))\n",
    "print(np.linalg.norm(dP_app-dP))"
   ]
  },
  {
   "cell_type": "code",
   "execution_count": 56,
   "metadata": {},
   "outputs": [],
   "source": [
    "ERI_mo=g_ijkl.copy()\n",
    "ERI_mo=ERI_mo@C\n",
    "ERI_mo=(ERI_mo.swapaxes(2,3)@C).swapaxes(3,2)\n",
    "ERI_mo=(ERI_mo.swapaxes(1,3)@C).swapaxes(3,1)\n",
    "ERI_mo=(ERI_mo.swapaxes(0,3)@C).swapaxes(3,0)"
   ]
  },
  {
   "cell_type": "code",
   "execution_count": 8,
   "metadata": {},
   "outputs": [],
   "source": [
    "G_mo=g_h2.copy()\n",
    "G_mo=G_mo@C\n",
    "G_mo=(G_mo.swapaxes(2,3)@C).swapaxes(3,2)\n",
    "G_mo=(G_mo.swapaxes(1,3)@C).swapaxes(3,1)\n",
    "G_mo=(G_mo.swapaxes(0,3)@C).swapaxes(3,0)"
   ]
  },
  {
   "cell_type": "code",
   "execution_count": 57,
   "metadata": {},
   "outputs": [],
   "source": [
    "G_cphf=g_ijkl.copy()\n",
    "G_cphf=4*G_cphf -G_cphf.swapaxes(3,1) -G_cphf.swapaxes(1,2)\n",
    "G_cphf=G_cphf@C\n",
    "G_cphf=(G_cphf.swapaxes(2,3)@C).swapaxes(3,2)\n",
    "G_cphf=(G_cphf.swapaxes(1,3)@C).swapaxes(3,1)\n",
    "G_cphf=(G_cphf.swapaxes(0,3)@C).swapaxes(3,0)"
   ]
  },
  {
   "cell_type": "code",
   "execution_count": 37,
   "metadata": {},
   "outputs": [
    {
     "name": "stdout",
     "output_type": "stream",
     "text": [
      "[[5.64818726e-01 2.77555756e-16]\n",
      " [2.77555756e-16 9.17322079e-01]]\n",
      "[[5.64818726e-01 1.11022302e-16]\n",
      " [1.66533454e-16 9.17322079e-01]]\n",
      "True\n"
     ]
    }
   ],
   "source": [
    "print(C.T@h2@C)\n",
    "print((np.einsum('ijkl,kl->ij',G_mo,O)))\n",
    "print(np.allclose(S@C@(np.einsum('ijkl,kl->ij',G_mo,O)@C.T@S),h2))"
   ]
  },
  {
   "cell_type": "code",
   "execution_count": 73,
   "metadata": {},
   "outputs": [
    {
     "name": "stdout",
     "output_type": "stream",
     "text": [
      "True\n"
     ]
    }
   ],
   "source": [
    "print(np.allclose(G_mo,ERI_mo-ERI_mo.swapaxes(1,2)/2))\n"
   ]
  },
  {
   "cell_type": "code",
   "execution_count": 86,
   "metadata": {},
   "outputs": [
    {
     "name": "stdout",
     "output_type": "stream",
     "text": [
      "[[-2.49355400e-20 -1.19837973e-05]\n",
      " [-1.19837973e-05 -5.90084236e-20]]\n",
      "[[-4.34340453e-20 -1.19837973e-05]\n",
      " [-1.19837973e-05 -6.06901059e-20]]\n",
      "[[ 5.17619539e-09 -1.19837972e-05]\n",
      " [-1.19837972e-05 -4.72350141e-09]]\n"
     ]
    }
   ],
   "source": [
    "print(np.einsum('ijkl,kl->ij',2*ERI_mo-ERI_mo.swapaxes(3,1)*0.5 -ERI_mo.swapaxes(1,2)*0.5,U@O))\n",
    "print(np.einsum('ijkl,kl->ij',G_cphf,U@O)/2)\n",
    "\n",
    "print(C.T@dh2@C)\n",
    "\n",
    "#print((S@C@(np.einsum('ijkl,kl->ij',G_cphf,O))@C.T@S,dh2))"
   ]
  },
  {
   "cell_type": "code",
   "execution_count": 15,
   "metadata": {},
   "outputs": [
    {
     "name": "stdout",
     "output_type": "stream",
     "text": [
      "[[0.68895295 0.04288216]\n",
      " [0.04288216 0.68895295]] [[ 0.86918786 -0.43326972]\n",
      " [-0.43326972  0.86918786]]\n"
     ]
    }
   ],
   "source": [
    "print(h2,C@(np.einsum('ijkl,kl->ij',G_mo,O)@C.T))"
   ]
  },
  {
   "cell_type": "code",
   "execution_count": 16,
   "metadata": {
    "scrolled": true
   },
   "outputs": [
    {
     "name": "stdout",
     "output_type": "stream",
     "text": [
      "[[ 1.14478954e-05 -2.87991202e-18]\n",
      " [-2.90024081e-18 -1.14478954e-05]]\n"
     ]
    }
   ],
   "source": [
    "print(np.einsum('ijkl,kl->ij',g_h2,dP))"
   ]
  },
  {
   "cell_type": "code",
   "execution_count": 17,
   "metadata": {},
   "outputs": [
    {
     "name": "stdout",
     "output_type": "stream",
     "text": [
      "[[ 1.36776851e-05  1.85517783e-05]\n",
      " [-1.36776851e-05  1.85517783e-05]]\n"
     ]
    }
   ],
   "source": [
    "print(np.einsum('ijkl,kl->ij',G_cphf.swapaxes(0,1),C@U@C.T))"
   ]
  },
  {
   "cell_type": "code",
   "execution_count": 18,
   "metadata": {},
   "outputs": [
    {
     "name": "stdout",
     "output_type": "stream",
     "text": [
      "[[-6.33604275e-05 -1.47308930e-05]\n",
      " [ 1.60573055e-05 -6.92486954e-05]]\n"
     ]
    }
   ],
   "source": [
    "print((np.einsum('ijkl,kl->ij',G_mo,U@C.T)))"
   ]
  },
  {
   "cell_type": "code",
   "execution_count": 19,
   "metadata": {},
   "outputs": [
    {
     "data": {
      "text/plain": [
       "array([[ 5.17619539e-09, -1.19837972e-05],\n",
       "       [-1.19837972e-05, -4.72350141e-09]])"
      ]
     },
     "execution_count": 19,
     "metadata": {},
     "output_type": "execute_result"
    }
   ],
   "source": [
    "C.T@dh2@C"
   ]
  },
  {
   "cell_type": "code",
   "execution_count": 82,
   "metadata": {},
   "outputs": [
    {
     "name": "stdout",
     "output_type": "stream",
     "text": [
      "[[-1.01643954e-20  1.21177980e-04]\n",
      " [-1.21177980e-04 -6.77626358e-21]]\n",
      "[[-2.03287907e-20  0.00000000e+00]\n",
      " [-2.42355960e-04  0.00000000e+00]]\n",
      "[[-2.03287907e-20  2.42355960e-04]\n",
      " [ 0.00000000e+00  0.00000000e+00]]\n",
      "[[ 0.         -0.00024236]\n",
      " [-0.00024236  0.        ]]\n"
     ]
    }
   ],
   "source": [
    "print(U)\n",
    "print(U@O),print(O@U)\n",
    "print(U@O-O@U)"
   ]
  },
  {
   "cell_type": "code",
   "execution_count": 81,
   "metadata": {},
   "outputs": [
    {
     "name": "stdout",
     "output_type": "stream",
     "text": [
      "[[-6.33245384e-20 -1.08101465e-04]\n",
      " [-1.08101465e-04 -1.03902568e-19]]\n",
      "[[-5.04504688e-20 -1.08101465e-04]\n",
      " [-1.08101465e-04 -6.72672918e-20]]\n"
     ]
    }
   ],
   "source": [
    "print(np.einsum('ijkl,kl->ij',ERI_mo,U@O)*2)\n",
    "print(np.einsum('ijkl,kl->ij',ERI_mo,U@O-O@U))"
   ]
  },
  {
   "cell_type": "code",
   "execution_count": 20,
   "metadata": {},
   "outputs": [],
   "source": [
    "def fvind(x):\n",
    "    x = x.reshape(Xvo.shape)\n",
    "    if eris is None:\n",
    "        mo_coeff = mycc.mo_coeff\n",
    "        dm = reduce(numpy.dot, (mo_coeff[:,nocc:], x, mo_coeff[:,:nocc].T))\n",
    "        dm = (dm + dm.T) * 2\n",
    "        v = reduce(np.dot, (mo_coeff[:,nocc:].T, mycc._scf.get_veff(mol, dm), mo_coeff[:,:nocc]))\n",
    "    else:\n",
    "        v = numpy.zeros((nocc,nvir))\n",
    "        for p0, p1 in prange(0, nocc, blksize):\n",
    "            eris_ovov = _cp(eris.ovov[p0:p1])\n",
    "            v[p0:p1] += numpy.einsum('iajb,bj->ia', eris_ovov, x) * 4\n",
    "            v[p0:p1] -= numpy.einsum('ibja,bj->ia', eris_ovov, x)\n",
    "            eris_ovov = None\n",
    "            v[p0:p1] -= numpy.einsum('ijba,bj->ia', _cp(eris.oovv[p0:p1]), x)\n",
    "    return v.T"
   ]
  },
  {
   "cell_type": "code",
   "execution_count": 21,
   "metadata": {},
   "outputs": [
    {
     "data": {
      "text/plain": [
       "array([[ 0.0009162,  0.       ],\n",
       "       [ 0.       , -0.0009162]])"
      ]
     },
     "execution_count": 21,
     "metadata": {},
     "output_type": "execute_result"
    }
   ],
   "source": [
    "def fvind(x):\n",
    "    v = np.zeros((2,2))\n",
    "    v += np.einsum('iajb,bj->ia', g_h2, x) * 4\n",
    "    v -= np.einsum('ibja,bj->ia', g_h2, x)\n",
    "    v -= np.einsum('ijba,bj->ia', g_h2, x)\n",
    "    return v\n",
    "    #return (4*np.einsum('ijkl,kl->ij',G_mo,P)-np.einsum('ijkl,jl->ik',G_mo,P))\n",
    "dP2=cphf.solve(fvind,hfco.mo_energy,hfco.mo_occ,dV)\n",
    "dP2[0]"
   ]
  },
  {
   "cell_type": "code",
   "execution_count": 22,
   "metadata": {},
   "outputs": [
    {
     "data": {
      "text/plain": [
       "array([[ 2.53701185e-04,  1.11022302e-16],\n",
       "       [ 1.11022302e-16, -2.53701185e-04]])"
      ]
     },
     "execution_count": 22,
     "metadata": {},
     "output_type": "execute_result"
    }
   ],
   "source": [
    "dP"
   ]
  },
  {
   "cell_type": "code",
   "execution_count": 23,
   "metadata": {},
   "outputs": [
    {
     "data": {
      "text/plain": [
       "array([[ 2.53701188e-04, -8.13151629e-20],\n",
       "       [ 1.08420217e-19, -2.53701188e-04]])"
      ]
     },
     "execution_count": 23,
     "metadata": {},
     "output_type": "execute_result"
    }
   ],
   "source": [
    "dP_app"
   ]
  },
  {
   "cell_type": "code",
   "execution_count": 24,
   "metadata": {},
   "outputs": [
    {
     "data": {
      "text/plain": [
       "array([[2.82409363e-01, 3.81639165e-17],\n",
       "       [8.32667268e-17, 9.79386032e-01]])"
      ]
     },
     "execution_count": 24,
     "metadata": {},
     "output_type": "execute_result"
    }
   ],
   "source": [
    "B=np.zeros((2,2))\n",
    "for p in range(2):\n",
    "    for q in range(2):\n",
    "        B[p,q]=2*G_mo[p,q,0,0]-G_mo[p,0,q,0]\n",
    "B"
   ]
  },
  {
   "cell_type": "code",
   "execution_count": 25,
   "metadata": {},
   "outputs": [
    {
     "data": {
      "text/plain": [
       "array([[-3.38813179e-20, -1.19837973e-05],\n",
       "       [-1.19837973e-05, -3.72694497e-20]])"
      ]
     },
     "execution_count": 25,
     "metadata": {},
     "output_type": "execute_result"
    }
   ],
   "source": [
    "C.T.dot((np.einsum('ijkl,kl->ij',g_h2,dP_app)).dot(C))"
   ]
  },
  {
   "cell_type": "code",
   "execution_count": 26,
   "metadata": {},
   "outputs": [
    {
     "data": {
      "text/plain": [
       "array([[-6.43647028e-21,  1.68267741e-04],\n",
       "       [-1.68267741e-04, -4.59095349e-20]])"
      ]
     },
     "execution_count": 26,
     "metadata": {},
     "output_type": "execute_result"
    }
   ],
   "source": [
    "np.einsum('ijkl,jl->ik',G_mo,U_app*dL)+np.einsum('ijkl,kl->ij',G_mo,U_app.T)*dL\n",
    "B=np.zeros((2,2))\n",
    "for q in range(2):\n",
    "    for p in range(2):\n",
    "        for i in range (2):\n",
    "            for r in range(2):\n",
    "                B[q,p]+=G_mo[q,r,p,i]*4*(U_app[r,i])\n",
    "B"
   ]
  },
  {
   "cell_type": "code",
   "execution_count": 27,
   "metadata": {},
   "outputs": [
    {
     "data": {
      "text/plain": [
       "array([[1.13340783, 0.33026237],\n",
       "       [0.33026237, 1.13340783]])"
      ]
     },
     "execution_count": 27,
     "metadata": {},
     "output_type": "execute_result"
    }
   ],
   "source": [
    "J"
   ]
  },
  {
   "cell_type": "markdown",
   "metadata": {},
   "source": [
    "$$\n",
    "H^{(2)}_{ij}=\\sum_a^{n.occ.} \\sum_{kl} g^{(2)}_{ijkl} C^\\dagger_{ak} C_{la}$$\n",
    "\n",
    "$$\n",
    " \\sum_{ij} C^\\dagger_{ai} \\frac{\\partial H^{(2)}_{ij}}{\\partial Z}  C_{jb} =\n",
    " \\sum_{ij} \\left( \\frac{\\partial C^\\dagger_{ai} }{\\partial Z}  H^{(2)}_{ij}  C_{jb} +\n",
    "  C^\\dagger_{ai}  H^{(2)}_{ij} \\frac{\\partial C_{jb} }{\\partial Z} \\right)\n",
    "$$\n",
    "Che ha senso perchè gli integrali sono indipendenti da $Z$ e siccome l'operatore $V_{ee} $ è simmetrico in $r_1$ e $r_2$ posso applicare la derivata ai termini contratti all'interno, come ai termini contratti poi all'esterno !!! E quindi:\n",
    "\n",
    "$$\n",
    " \\sum_{ij} C^\\dagger_{ai} \\frac{\\partial H^{(2)}_{ij}}{\\partial Z}  C_{jb} =\n",
    " \\sum_{k} \\sum_{ij} \\left(  U^\\dagger_{ak} C^\\dagger_{ki}    H^{(2)}_{ij}  C_{jb} +\n",
    "  C^\\dagger_{ai}  H^{(2)}_{ij}  C_{jk} U_{kb}  \\right)\n",
    "$$\n"
   ]
  },
  {
   "cell_type": "code",
   "execution_count": 28,
   "metadata": {},
   "outputs": [
    {
     "name": "stdout",
     "output_type": "stream",
     "text": [
      "[[0.68895295 0.04288216]\n",
      " [0.04288216 0.68895295]]\n",
      "[[0.68895295 0.04288216]\n",
      " [0.04288216 0.68895295]]\n"
     ]
    }
   ],
   "source": [
    "j_c=g_h2.copy()\n",
    "for i in range(2):\n",
    "    for j in range(2):\n",
    "          for k in range(2):\n",
    "                for a in range(2):\n",
    "                    j_c[i,j,k,a]=np.sum (j_c[i,j,k,:]*C[:,a]) \n",
    "for i in range(2):\n",
    "    for j in range(2):\n",
    "          for k in range(2):\n",
    "                for a in range(2):\n",
    "                    j_c[i,j,a,k]=np.sum (j_c[i,j,:,k]*C.T[a,:])                    \n",
    "B=np.zeros((2,2))\n",
    "for i in range(2):\n",
    "    for j in range(2):\n",
    "           B[i,j]=np.sum(j_c[i,j,:1,:1])       \n",
    "#print(j_c )\n",
    "print(B*2)\n",
    "print(h2)"
   ]
  },
  {
   "cell_type": "code",
   "execution_count": 29,
   "metadata": {},
   "outputs": [
    {
     "name": "stdout",
     "output_type": "stream",
     "text": [
      "1.1296374521092043\n",
      "0.5648187260546021\n",
      "(-1.3194643767935126, 0.564818726054602)\n",
      "[[-6.77626358e-20 -4.27156443e-05]\n",
      " [-4.27156443e-05  6.77626358e-20]]\n",
      "\n"
     ]
    }
   ],
   "source": [
    "U=U_app\n",
    "print(np.trace(np.einsum('ijkl,kl->ij',g_h2,P)@P))\n",
    "print(np.trace(P@np.einsum('ijkl,kl->ij',g_h2,P))/2)\n",
    "print(hfco.energy_elec())\n",
    "print(C.T@h2@(C@U)+(U.T@C.T)@h2@C)\n",
    "print()\n",
    "\n",
    "\n",
    "#print(h2,np.einsum('ijkl,kl->ij',g_h2,P))\n",
    "      #np.einsum('ijkl,kl->ij',G_mo,U))\n",
    "#print(U_app.T@C.T@h2@C,C.T@h2@C@U_app )"
   ]
  },
  {
   "cell_type": "code",
   "execution_count": 30,
   "metadata": {},
   "outputs": [
    {
     "name": "stdout",
     "output_type": "stream",
     "text": [
      "['CASCI', 'CASSCF', 'CCSD', 'CISD', 'DFMP2', 'DIIS', 'Gradients', 'MP2', 'QMMM', 'TDA', 'TDHF', '__call__', '__class__', '__delattr__', '__dict__', '__dir__', '__doc__', '__eq__', '__format__', '__ge__', '__getattribute__', '__gt__', '__hash__', '__init__', '__init_subclass__', '__le__', '__lt__', '__module__', '__ne__', '__new__', '__reduce__', '__reduce_ex__', '__repr__', '__setattr__', '__sizeof__', '__str__', '__subclasshook__', '__weakref__', '_chkfile', '_eigh', '_eri', '_finalize', '_is_mem_enough', '_keys', '_t0', '_w0', 'analyze', 'apply', 'as_scanner', 'build', 'callback', 'canonicalize', 'check_convergence', 'check_sanity', 'chkfile', 'conv_check', 'conv_tol', 'conv_tol_grad', 'converged', 'convert_from_', 'damp', 'damp_factor', 'density_fit', 'diis', 'diis_file', 'diis_space', 'diis_space_rollback', 'diis_start_cycle', 'dip_moment', 'direct_scf', 'direct_scf_tol', 'dump_chk', 'dump_flags', 'dump_scf_summary', 'e_tot', 'eig', 'energy_elec', 'energy_nuc', 'energy_tot', 'from_chk', 'gen_response', 'get_fock', 'get_grad', 'get_hcore', 'get_init_guess', 'get_j', 'get_jk', 'get_k', 'get_occ', 'get_ovlp', 'get_veff', 'hf_energy', 'init_direct_scf', 'init_guess', 'init_guess_by_1e', 'init_guess_by_atom', 'init_guess_by_chkfile', 'init_guess_by_huckel', 'init_guess_by_minao', 'kernel', 'level_shift', 'level_shift_factor', 'make_rdm1', 'max_cycle', 'max_memory', 'mo_coeff', 'mo_energy', 'mo_occ', 'mol', 'mulliken_meta', 'mulliken_pop', 'mulliken_pop_meta_lowdin_ao', 'newton', 'nuc_grad_method', 'opt', 'pop', 'post_kernel', 'pre_kernel', 'reset', 'run', 'scf', 'scf_summary', 'set', 'sfx2c1e', 'spin_square', 'stability', 'stdout', 'to_ghf', 'to_gks', 'to_rhf', 'to_rks', 'to_uhf', 'to_uks', 'update', 'update_', 'update_from_chk', 'update_from_chk_', 'verbose', 'view', 'x2c', 'x2c1e']\n"
     ]
    }
   ],
   "source": [
    "print(dir(hfco))"
   ]
  },
  {
   "cell_type": "code",
   "execution_count": 31,
   "metadata": {},
   "outputs": [],
   "source": [
    "\"\"\"A=np.linspace(0,7,8)\n",
    "A=A.reshape(2,2,2)\n",
    "C1=np.zeros((2,2,2))\n",
    "B=np.asarray([[0,0],[1,1]])\n",
    "print(A,\"\\n\")\n",
    "print((A.swapaxes(1,2)@B).swapaxes(2,1))\n",
    "for i in range(2):\n",
    "    for j in range(2):\n",
    "          for k in range(2):\n",
    "                C1[i,j,k]=np.sum(A[i,:,k]*B[:,j])    \n",
    "print(C1)\n",
    "\"\"\"\n",
    "pass"
   ]
  },
  {
   "cell_type": "code",
   "execution_count": 34,
   "metadata": {},
   "outputs": [
    {
     "data": {
      "text/plain": [
       "(array([[ 2.53701185e-04,  1.11022302e-16],\n",
       "        [ 1.11022302e-16, -2.53701185e-04]]),\n",
       " (array([[ 0.0009162,  0.       ],\n",
       "         [ 0.       , -0.0009162]]),\n",
       "  None),\n",
       " array([[ 2.53701188e-04, -8.13151629e-20],\n",
       "        [ 1.08420217e-19, -2.53701188e-04]]))"
      ]
     },
     "execution_count": 34,
     "metadata": {},
     "output_type": "execute_result"
    }
   ],
   "source": [
    "dP,dP2,dP_app"
   ]
  },
  {
   "cell_type": "code",
   "execution_count": 35,
   "metadata": {},
   "outputs": [],
   "source": [
    "dP2=dP2[0]*2"
   ]
  },
  {
   "cell_type": "code",
   "execution_count": 36,
   "metadata": {},
   "outputs": [
    {
     "name": "stdout",
     "output_type": "stream",
     "text": [
      "converged SCF energy = -2.61666811317645\n",
      "true target energy:  -2.6166681131764524\n",
      "CO energy =  -0.9414806547077983\n",
      "APDFT1 energy = -0.4652901785173218\n",
      "APDFT2 energy = -2.6242027018583483\n",
      "APDFT2 energy approx.= -2.6242027281642133\n",
      "APDFT2 energy approx.= -16.05839685076696\n"
     ]
    }
   ],
   "source": [
    "dEnn=(49-48)/2.1\n",
    "print(\"true target energy: \",fc(hfco,[1,-1]).scf())\n",
    "print(\"CO energy = \",hfco.e_tot)\n",
    "print(\"APDFT1 energy =\", hfco.e_tot+dEnn+np.trace(P.dot(dV/dL)))\n",
    "print(\"APDFT2 energy =\", hfco.e_tot+dEnn+np.trace((P+0.5*dP/dL).dot(dV/dL)))\n",
    "print(\"APDFT2 energy approx.=\", hfco.e_tot+dEnn+np.trace((P+0.5*dP_app/dL).dot(dV/dL)))\n",
    "print(\"APDFT2 energy approx.=\", hfco.e_tot+dEnn+np.trace((P+0.5*dP2/dL).dot(dV/dL)))"
   ]
  },
  {
   "cell_type": "code",
   "execution_count": null,
   "metadata": {},
   "outputs": [],
   "source": []
  }
 ],
 "metadata": {
  "kernelspec": {
   "display_name": "Python 3",
   "language": "python",
   "name": "python3"
  },
  "language_info": {
   "codemirror_mode": {
    "name": "ipython",
    "version": 3
   },
   "file_extension": ".py",
   "mimetype": "text/x-python",
   "name": "python",
   "nbconvert_exporter": "python",
   "pygments_lexer": "ipython3",
   "version": "3.6.8"
  }
 },
 "nbformat": 4,
 "nbformat_minor": 4
}
