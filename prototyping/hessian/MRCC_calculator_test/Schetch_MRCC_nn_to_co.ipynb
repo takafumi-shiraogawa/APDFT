{
 "cells": [
  {
   "cell_type": "code",
   "execution_count": 1,
   "metadata": {},
   "outputs": [],
   "source": [
    "import numpy as np\n",
    "import sys \n",
    "import os\n",
    "sys.path.append('/home/giorgiod/Documents/APDFT/dep')\n",
    "sys.path.append('/home/giorgiod/Documents/APDFT/src')"
   ]
  },
  {
   "cell_type": "code",
   "execution_count": 2,
   "metadata": {
    "scrolled": true
   },
   "outputs": [],
   "source": [
    "from apdft import Calculator"
   ]
  },
  {
   "cell_type": "code",
   "execution_count": 4,
   "metadata": {},
   "outputs": [],
   "source": [
    "calc_path = '/home/giorgiod/MRCC_interface/Diatomics/from_nn_opt_ccsd_ccpvtz_77_to_68_A5_G5/A_2_G_0/'\n",
    "proj_path= '/home/giorgiod/MRCC_interface/Diatomics/from_nn_opt_ccsd_ccpvtz_77_to_68_A5_G5/'\n",
    "grid = Calculator.MrccCalculator.get_grid(None, None, calc_path)"
   ]
  },
  {
   "cell_type": "code",
   "execution_count": 5,
   "metadata": {},
   "outputs": [],
   "source": [
    "ccdensity = Calculator.MrccCalculator.density_on_grid(calc_path + 'DENSITY', grid[0])"
   ]
  },
  {
   "cell_type": "code",
   "execution_count": 6,
   "metadata": {},
   "outputs": [
    {
     "data": {
      "text/plain": [
       "13.999999244642954"
      ]
     },
     "execution_count": 6,
     "metadata": {},
     "output_type": "execute_result"
    }
   ],
   "source": [
    "(ccdensity * grid[1]).sum()"
   ]
  },
  {
   "cell_type": "code",
   "execution_count": 7,
   "metadata": {},
   "outputs": [
    {
     "name": "stdout",
     "output_type": "stream",
     "text": [
      "{\"filename\": \"/home/giorgiod/MRCC_interface/Diatomics/from_nn_opt_ccsd_ccpvtz_77_to_68_A5_G5/A_2_G_0//run.log\", \"level\": \"error\", \"event\": \"Unable to read energy from log file.\", \"timestamp\": \"2019-06-17 11:40\"}\n"
     ]
    },
    {
     "data": {
      "text/plain": [
       "0"
      ]
     },
     "execution_count": 7,
     "metadata": {},
     "output_type": "execute_result"
    }
   ],
   "source": [
    "Calculator.MrccCalculator.get_total_energy(calc_path)"
   ]
  },
  {
   "cell_type": "code",
   "execution_count": 8,
   "metadata": {},
   "outputs": [],
   "source": [
    "def parse_energy_cc(log_file):\n",
    "    \"\"\"Parse the couple cluster energy from an MRCC output file\"\"\"\n",
    "    with open(log_file,'r') as logf:\n",
    "        while True:\n",
    "            line=logf.readline()\n",
    "            if \"Final results:\" in line:\n",
    "                good_line=logf.readline()\n",
    "                if \"Total CCSD energy\" in good_line:\n",
    "                    for x in good_line.split(' '):\n",
    "                        try:\n",
    "                            float(x)\n",
    "                            return (float(x))\n",
    "                        except:\n",
    "                            pass    "
   ]
  },
  {
   "cell_type": "code",
   "execution_count": 9,
   "metadata": {},
   "outputs": [
    {
     "name": "stdout",
     "output_type": "stream",
     "text": [
      "-109.414100458755\n"
     ]
    }
   ],
   "source": [
    "gl=Calculator.MrccCalculator.parse_energy_cc_Mrcc(calc_path+'/run.log')\n",
    "print(gl)"
   ]
  },
  {
   "cell_type": "code",
   "execution_count": 10,
   "metadata": {},
   "outputs": [],
   "source": [
    "from apdft.physics import Coulomb"
   ]
  },
  {
   "cell_type": "code",
   "execution_count": 11,
   "metadata": {},
   "outputs": [],
   "source": [
    "def get_energy(proj_path,ao,go):\n",
    "    return (parse_energy_cc(\"{}A_{}_G_{}/run.log\".format(proj_path,ao,go)))"
   ]
  },
  {
   "cell_type": "code",
   "execution_count": 13,
   "metadata": {},
   "outputs": [
    {
     "data": {
      "text/plain": [
       "-109.412948761378"
      ]
     },
     "execution_count": 13,
     "metadata": {},
     "output_type": "execute_result"
    }
   ],
   "source": [
    "get_energy(proj_path,2,1)"
   ]
  },
  {
   "cell_type": "code",
   "execution_count": 14,
   "metadata": {},
   "outputs": [],
   "source": [
    "dX= 0.03779452267842504  # bohrs \n",
    "dXa=.02               # angstroms\n",
    "dL=0.05  ## delta Lambda = 0.05"
   ]
  },
  {
   "cell_type": "code",
   "execution_count": 15,
   "metadata": {},
   "outputs": [],
   "source": [
    "k= (get_energy(proj_path,0,1)+get_energy(proj_path,0,-1)-2*get_energy(proj_path,0,0))/dX**2"
   ]
  },
  {
   "cell_type": "code",
   "execution_count": 16,
   "metadata": {},
   "outputs": [],
   "source": [
    "#### constants #####\n",
    "angstorm=1.889726133921252\n",
    "N_mass=25532.936684486547\n",
    "centimeter=188972613.39212522\n",
    "light_speed= 137.03599975303575\n",
    "C_mass=21893.98614768941\n",
    "O_mass=29165.124304476205\n",
    "mu_nn=N_mass/2\n",
    "mu_co=C_mass*O_mass/(C_mass+O_mass)"
   ]
  },
  {
   "cell_type": "code",
   "execution_count": 17,
   "metadata": {},
   "outputs": [],
   "source": [
    "def to_cm(k,mu=mu_co):\n",
    "    return (k/mu)**0.5*centimeter/light_speed/(2*np.pi)"
   ]
  },
  {
   "cell_type": "code",
   "execution_count": 18,
   "metadata": {
    "scrolled": true
   },
   "outputs": [
    {
     "data": {
      "text/plain": [
       "2470.5159724368145"
      ]
     },
     "execution_count": 18,
     "metadata": {},
     "output_type": "execute_result"
    }
   ],
   "source": [
    "to_cm(k) ### ok good job"
   ]
  },
  {
   "cell_type": "code",
   "execution_count": 19,
   "metadata": {},
   "outputs": [],
   "source": [
    "def common_grid(go):\n",
    "    return (Calculator.MrccCalculator.get_grid(None, None, proj_path+'A_0_G_{}/'.format(go)))"
   ]
  },
  {
   "cell_type": "code",
   "execution_count": 20,
   "metadata": {},
   "outputs": [
    {
     "name": "stdout",
     "output_type": "stream",
     "text": [
      "<class 'tuple'>\n"
     ]
    },
    {
     "data": {
      "text/plain": [
       "((58032, 3), (58032,))"
      ]
     },
     "execution_count": 20,
     "metadata": {},
     "output_type": "execute_result"
    }
   ],
   "source": [
    "print (type(common_grid(1)))\n",
    "common_grid(1)[0].shape, common_grid(0)[1].shape #grid=(array[[x0,y0,z0],...,[xN,yN,zN]], array[w0,...wN])"
   ]
  },
  {
   "cell_type": "code",
   "execution_count": 21,
   "metadata": {},
   "outputs": [],
   "source": [
    "####### alchemy expantion ####  COMMON_GRID IS TO BE DEFINED FOR EACH GEOMETRY  \n",
    "def get_ccdensity(ao,go):\n",
    "    return Calculator.MrccCalculator.density_on_grid(\"{}A_{}_G_{}/DENSITY\".format(proj_path,ao,go),common_grid(go)[0])"
   ]
  },
  {
   "cell_type": "code",
   "execution_count": 22,
   "metadata": {},
   "outputs": [
    {
     "data": {
      "text/plain": [
       "array([ 4.15175089e-28,  3.92976564e-28,  3.56773138e-28, ...,\n",
       "       -3.26007264e-28, -3.58615935e-28, -3.85641660e-28])"
      ]
     },
     "execution_count": 22,
     "metadata": {},
     "output_type": "execute_result"
    }
   ],
   "source": [
    "get_ccdensity(-2,-2)-get_ccdensity(2,-2)"
   ]
  },
  {
   "cell_type": "code",
   "execution_count": 23,
   "metadata": {},
   "outputs": [
    {
     "data": {
      "text/plain": [
       "-109.379978610182"
      ]
     },
     "execution_count": 23,
     "metadata": {},
     "output_type": "execute_result"
    }
   ],
   "source": [
    "get_energy(proj_path,0,1)"
   ]
  },
  {
   "cell_type": "code",
   "execution_count": 24,
   "metadata": {},
   "outputs": [],
   "source": [
    "from apdft.physics import Coulomb"
   ]
  },
  {
   "cell_type": "code",
   "execution_count": 49,
   "metadata": {},
   "outputs": [
    {
     "data": {
      "text/plain": [
       "2.0666708154312436"
      ]
     },
     "execution_count": 49,
     "metadata": {},
     "output_type": "execute_result"
    }
   ],
   "source": [
    "### very poor code \n",
    "nn_minR=1.093635097483 # angstrom\n",
    "atoms=np.asarray([7.,7.])\n",
    "def coordinates(go): ### angstrom \n",
    "    return np.asarray([[0.,0.,0.],[ nn_minR+go*dXa,0.,0.]])\n",
    "target=np.asarray([6.,8.])"
   ]
  },
  {
   "cell_type": "code",
   "execution_count": 27,
   "metadata": {},
   "outputs": [
    {
     "name": "stdout",
     "output_type": "stream",
     "text": [
      "0.4838699963890157\n",
      "0.4838699963890157\n"
     ]
    }
   ],
   "source": [
    "print(Coulomb.nuclei_nuclei(coordinates(0),atoms)/49)\n",
    "print(Coulomb.nuclei_nuclei(coordinates(0),target)/48)"
   ]
  },
  {
   "cell_type": "code",
   "execution_count": 28,
   "metadata": {},
   "outputs": [
    {
     "data": {
      "text/plain": [
       "1.8897261254578281"
      ]
     },
     "execution_count": 28,
     "metadata": {},
     "output_type": "execute_result"
    }
   ],
   "source": [
    "from apdft.physics import angstrom\n",
    "angstrom\n"
   ]
  },
  {
   "cell_type": "code",
   "execution_count": 29,
   "metadata": {},
   "outputs": [],
   "source": [
    "def deltaV(go):\n",
    "    ds = []\n",
    "    for site in coordinates(go):\n",
    "        ds.append(np.linalg.norm((common_grid(go)[0] - site*angstrom),axis=1))\n",
    "                #  grid, coordinates in angstrom * 1.88 -> bohr (au) for Hamiltonian calcs.\n",
    "    deltaV = np.zeros(len(common_grid(go)[1]))\n",
    "    for atomidx in range(len(atoms)):\n",
    "        deltaV += (target[atomidx]-atoms[atomidx]) / ds[atomidx]\n",
    "    return (deltaV)"
   ]
  },
  {
   "cell_type": "markdown",
   "metadata": {},
   "source": [
    "$\\tilde{\\rho} = \\rho^0 +\\frac{1}{2}\\rho' +\\frac{1}{6}\\rho \" + \\frac{1}{24}\\rho ^{(3)}+ \\frac{1}{120}\\rho ^{(4)} $ \n",
    "\n",
    "## 5point coefficients <br>\n",
    "0  :      0    :  1    :  0   :     0  <br>\n",
    "1/12 :\t−2/3 :\t0 \t : 2/3 :\t−1/12    for first deriv <br>\n",
    "−1/12 :\t4/3 :\t−5/2 : 4/3 : −1/12  for second deriv <br>\n",
    "−1/2 :\t 1 \t:    0 \t:  −1    :  1/2   for third deriv <br>\n",
    " 1  :\t−4  :\t6 \t:  −4   : 1       for fourth deriv <br>\n",
    " \n",
    " "
   ]
  },
  {
   "cell_type": "code",
   "execution_count": 30,
   "metadata": {},
   "outputs": [
    {
     "name": "stdout",
     "output_type": "stream",
     "text": [
      "[ 1161.94444444 -4917.77777778  7834.33333333 -5571.11111111\n",
      "  1493.61111111] 1.0000000000013642\n",
      "[ 0.06410256 -0.12820513  0.          1.12820513 -0.06410256] 0.9999999999999998\n"
     ]
    }
   ],
   "source": [
    "coeff0=np.asarray([0,0,1,0,0])\n",
    "coeff1=np.asarray([1/12,-2/3,0,2/3,-1/12])\n",
    "coeff2=np.asarray([-1/12 , 4/3 , -5/2 , 4/3 , -1/12])\n",
    "coeff3=np.asarray([-1/2 , 1 , 0 , -1 , 1/2])\n",
    "coeff4=np.asarray([1 ,-4 , 6 ,-4 , 1])\n",
    "coeff_tilda=coeff0+1/2*coeff1/dL+1/6*coeff2/dL**2+1/24*coeff3/dL**3+1/120*coeff4/dL**4\n",
    "print (coeff_tilda, np.sum(coeff_tilda))\n",
    "coeff_taylor=coeff0+coeff1+1/2*coeff2+1/26*coeff3+1/24*coeff4\n",
    "print (coeff_taylor, np.sum(coeff_taylor))"
   ]
  },
  {
   "cell_type": "code",
   "execution_count": 31,
   "metadata": {},
   "outputs": [],
   "source": [
    "def rho_tilda(go):\n",
    "    rho_tilda=np.zeros(len(common_grid(go)[1]))\n",
    "    for x in range(5):\n",
    "        rho_tilda+=get_ccdensity(2-x,go)*coeff_tilda[x]    ### note error in defining alchemy order \n",
    "    return rho_tilda"
   ]
  },
  {
   "cell_type": "code",
   "execution_count": 32,
   "metadata": {},
   "outputs": [
    {
     "data": {
      "text/plain": [
       "23.709629823061768"
      ]
     },
     "execution_count": 32,
     "metadata": {},
     "output_type": "execute_result"
    }
   ],
   "source": [
    "Coulomb.nuclei_nuclei(coordinates(0),atoms)"
   ]
  },
  {
   "cell_type": "code",
   "execution_count": 33,
   "metadata": {},
   "outputs": [],
   "source": [
    "def alchem_predict(go):\n",
    "    energy=get_energy(proj_path,0,go)\n",
    "    energy+=np.sum(-deltaV(go)*rho_tilda(go)*common_grid(go)[1])\n",
    "    energy-=Coulomb.nuclei_nuclei(coordinates(go),atoms)\n",
    "    energy+=Coulomb.nuclei_nuclei(coordinates(go),target)\n",
    "    return (energy)"
   ]
  },
  {
   "cell_type": "code",
   "execution_count": 34,
   "metadata": {},
   "outputs": [],
   "source": [
    "import matplotlib.pyplot as plt"
   ]
  },
  {
   "cell_type": "code",
   "execution_count": 35,
   "metadata": {},
   "outputs": [
    {
     "name": "stdout",
     "output_type": "stream",
     "text": [
      "[-112.68679633512937, -112.68438757462025, -112.67912177812808, -112.67141184561547, -112.66163777391658]\n"
     ]
    },
    {
     "data": {
      "image/png": "[encoded data removed]",
      "text/plain": [
       "<Figure size 432x288 with 1 Axes>"
      ]
     },
     "metadata": {},
     "output_type": "display_data"
    },
    {
     "name": "stdout",
     "output_type": "stream",
     "text": [
      "[-109.376077194947, -109.379870740701, -109.381056423703, -109.379978610182, -109.376943331844]\n"
     ]
    },
    {
     "data": {
      "image/png": "[encoded data removed]",
      "text/plain": [
       "<Figure size 432x288 with 1 Axes>"
      ]
     },
     "metadata": {},
     "output_type": "display_data"
    }
   ],
   "source": [
    "alchem_points=[]\n",
    "for i in range(5):\n",
    "    alchem_points.append (alchem_predict(i-2))\n",
    "plt.plot(alchem_points)\n",
    "print (alchem_points)\n",
    "plt.show()\n",
    "ref_points=[]\n",
    "for i in range(5):\n",
    "    ref_points.append(get_energy(proj_path,0,i-2))\n",
    "plt.plot(ref_points)\n",
    "print(ref_points)\n",
    "plt.show()\n"
   ]
  },
  {
   "cell_type": "code",
   "execution_count": 36,
   "metadata": {},
   "outputs": [],
   "source": [
    "def FivePointDerivatives(points,h):\n",
    "   # the finite difference calculated derivatives\n",
    "    fd4=(points[4]-points[3]*4+points[2]*6-points[1]*4+points[0])/h**4\n",
    "    fd3=(points[4]-2*points[3]+2*points[1]-points[0])/(2*h**3)\n",
    "    fd1=(points[3]-points[1]-h**3*fd3/3.)/2/h\n",
    "    fd2=(points[3]-2*points[2]+points[1]-h**4/12.*fd4)/(h**2)\n",
    "    return [fd1,fd2,fd3,fd4]"
   ]
  },
  {
   "cell_type": "code",
   "execution_count": 38,
   "metadata": {},
   "outputs": [
    {
     "name": "stdout",
     "output_type": "stream",
     "text": [
      "[0.1734097633992564, 1.7091499230259137, -7.343448832642975, 16.125817239068496] 2565.7639269116316\n"
     ]
    }
   ],
   "source": [
    "derivs=FivePointDerivatives(alchem_points,dX)\n",
    "print (derivs,to_cm(derivs[1],mu_co))\n",
    "\n",
    "# co_energy=[]\n",
    "# for x in range(5):\n",
    "#     co_energy.append(get_energy(proj_path,0,x-2))\n",
    "# print(FivePointDerivatives(co_energy,dX))\n",
    "# print (to_cm(FivePointDerivatives(co_energy,dX)[1],mu_co),co_energy)"
   ]
  },
  {
   "cell_type": "code",
   "execution_count": 47,
   "metadata": {},
   "outputs": [],
   "source": [
    "def dx4f2(x,e,d1,d2,d3,d4):\n",
    "    a=d4/6.\n",
    "    b=d3/2.\n",
    "    c=d2\n",
    "    d=d1\n",
    "    D0=b**2-3*a*c\n",
    "    D1=2*b**3-9*a*b*c+27*a**2*d\n",
    "    C=((D1+(D1**2-4*D0**3)**0.5)/2.)**(1/3.)\n",
    "    dx=-(b+C+D0/C)/(3.*a)\n",
    "    p2d=d2+dx*d3+0.5*d4*dx**2\n",
    "    return x+dx, to_cm(p2d,mu_co), x\n",
    "def dx2f1(x,e,d1,d2,d3,d4):\n",
    "    dx=-d1/d2\n",
    "    p2d=d2+dx*d3\n",
    "    return (x+dx,to_cm(p2d,mu_co),x)"
   ]
  },
  {
   "cell_type": "code",
   "execution_count": 48,
   "metadata": {},
   "outputs": [
    {
     "name": "stdout",
     "output_type": "stream",
     "text": [
      "(1.981690356852099, 3034.975620822554, 2.0666708154312436)\n",
      "(1.965211159339607, 3074.5588092246144, 2.0666708154312436)\n"
     ]
    }
   ],
   "source": [
    "print(dx4f2(coordinates(0)[1][0]*angstrom,alchem_predict(0),*derivs))\n",
    "print(dx2f1(coordinates(0)[1][0]*angstrom,alchem_predict(0),*derivs))"
   ]
  }
 ],
 "metadata": {
  "kernelspec": {
   "display_name": "Python 3",
   "language": "python",
   "name": "python3"
  },
  "language_info": {
   "codemirror_mode": {
    "name": "ipython",
    "version": 3
   },
   "file_extension": ".py",
   "mimetype": "text/x-python",
   "name": "python",
   "nbconvert_exporter": "python",
   "pygments_lexer": "ipython3",
   "version": "3.6.8"
  }
 },
 "nbformat": 4,
 "nbformat_minor": 2
}
