{
 "cells": [
  {
   "cell_type": "code",
   "execution_count": 2,
   "metadata": {
    "scrolled": true
   },
   "outputs": [],
   "source": [
    "import numpy as np\n",
    "import numpy\n",
    "import pyscf\n",
    "import pyscf.gto\n",
    "import pyscf.qmmm\n",
    "import pyscf.scf\n",
    "import pyscf.dft\n",
    "import pyscf.lib\n",
    "from pyscf.cc import CCSD\n",
    "from pyscf.data import nist\n",
    "import matplotlib.pyplot as plt\n",
    "import basis_set_exchange as bse\n",
    "angstrom = 1 / 0.52917721067"
   ]
  },
  {
   "cell_type": "code",
   "execution_count": 2,
   "metadata": {},
   "outputs": [],
   "source": [
    "COmol = pyscf.gto.Mole(atom = 'C 0 0 0.; O 0 0 2.',basis='6-31G',unit='au')\n",
    "COmol.build()\n",
    "COHF = pyscf.scf.RHF(COmol)"
   ]
  },
  {
   "cell_type": "code",
   "execution_count": 3,
   "metadata": {},
   "outputs": [],
   "source": [
    "def Alch_calc(calc,deltaZ):\n",
    "    mf=pyscf.qmmm.mm_charge(calc,calc.mol.atom_coords()/angstrom,deltaZ)\n",
    "    includeonly = [0, 1]\n",
    "    class NoSelfQMMM(mf.__class__):\n",
    "        def energy_nuc(self):            \n",
    "            q = mf.mol.atom_charges().astype(np.float)\n",
    "            q[includeonly] -= deltaZ\n",
    "            return mf.mol.energy_nuc(q)\n",
    "    mf = NoSelfQMMM()\n",
    "    return mf"
   ]
  },
  {
   "cell_type": "code",
   "execution_count": 4,
   "metadata": {},
   "outputs": [],
   "source": [
    "def Alch_e_rdm1(calc,deltaZ):\n",
    "    mf=Alch_calc(calc,deltaZ)\n",
    "    e=mf.kernel()\n",
    "    dm1_ao=mf.make_rdm1()\n",
    "    return [e,dm1_ao]"
   ]
  },
  {
   "cell_type": "code",
   "execution_count": 13,
   "metadata": {},
   "outputs": [
    {
     "name": "stdout",
     "output_type": "stream",
     "text": [
      "converged SCF energy = -112.652239281562\n"
     ]
    }
   ],
   "source": [
    "COdm=Alch_e_rdm1(COHF,np.array((0.,0.)))[1]"
   ]
  },
  {
   "cell_type": "code",
   "execution_count": 9,
   "metadata": {},
   "outputs": [],
   "source": [
    "\"\"\"returns the delta V matrix in ao basis for the alchemical perturbation\"\"\"\n",
    "def DeltaV(mol,dL):\n",
    "    mol.set_rinv_orig_(mol.atom_coords()[0])\n",
    "    dV=mol.intor('int1e_rinv')*dL[0]\n",
    "    mol.set_rinv_orig_(mol.atom_coords()[1]/angstrom)\n",
    "    dV+=mol.intor('int1e_rinv')*dL[1]\n",
    "    return dV    "
   ]
  },
  {
   "cell_type": "code",
   "execution_count": 41,
   "metadata": {},
   "outputs": [
    {
     "name": "stdout",
     "output_type": "stream",
     "text": [
      "converged SCF energy = -105.911201761195\n",
      "converged SCF energy = -112.652239281562\n"
     ]
    },
    {
     "data": {
      "text/plain": [
       "6.741037520366547"
      ]
     },
     "execution_count": 41,
     "metadata": {},
     "output_type": "execute_result"
    }
   ],
   "source": [
    "# Target molecule NN@CO \n",
    "Alch_calc(COHF,np.array((-1.,1.))).kernel()-COHF.kernel()"
   ]
  },
  {
   "cell_type": "code",
   "execution_count": 42,
   "metadata": {},
   "outputs": [
    {
     "data": {
      "text/plain": [
       "6.723205319249292"
      ]
     },
     "execution_count": 42,
     "metadata": {},
     "output_type": "execute_result"
    }
   ],
   "source": [
    "np.einsum('ij,ji',COdm,DeltaV(COmol,np.array((1.,-1.))))"
   ]
  },
  {
   "cell_type": "code",
   "execution_count": 17,
   "metadata": {},
   "outputs": [
    {
     "name": "stdout",
     "output_type": "stream",
     "text": [
      "converged SCF energy = -114.233704023131\n",
      "converged SCF energy = -113.433786714567\n",
      "converged SCF energy = -112.652239281562\n",
      "converged SCF energy = -111.889199239812\n",
      "converged SCF energy = -111.144854160312\n"
     ]
    }
   ],
   "source": [
    "e_dm=[]\n",
    "for i in np.linspace(-.2,.2,5):\n",
    "    e_dm.append(Alch_e_rdm1(COHF,np.array((-i,i))))"
   ]
  },
  {
   "cell_type": "code",
   "execution_count": 18,
   "metadata": {},
   "outputs": [],
   "source": [
    "es=np.asarray([e_dm[x][0] for x in range(len(e_dm))])\n",
    "dms=np.asarray([e_dm[x][1] for x in range(len(e_dm))])\n",
    "dms_array=np.asarray(dms)"
   ]
  },
  {
   "cell_type": "code",
   "execution_count": 33,
   "metadata": {},
   "outputs": [],
   "source": [
    "coeff5p=np.asarray([[1/12,-2/3,0,2/3,-1/12],[-1/12,4/3,-5/2,4/3,-1/12],[-1/2,1,0,-1,1/2],[1,-4,6,-4,1]]) #f',f\",f^3,f^4\n",
    "def tayl_exp_5p(pts,dh,dL):\n",
    "    pred=pts[2]\n",
    "    for i in range(4):\n",
    "        pred+=np.sum(pts*coeff5p[i])/np.math.factorial(i+1)*(dL/dh)**(i+1)\n",
    "    return (pred)\n",
    "def rho_tilda(ptsIN,dh,dL):\n",
    "    pts=ptsIN.copy()\n",
    "    pred=pts[2]\n",
    "    for i in range(4):\n",
    "        deriv=np.zeros_like(pred)\n",
    "        for j in range(5):\n",
    "            deriv+=(pts[j]*coeff5p[i][j])\n",
    "        pred+=deriv/np.math.factorial(i+2)*(dL/dh)**(i)\n",
    "    return (pred)"
   ]
  },
  {
   "cell_type": "code",
   "execution_count": 34,
   "metadata": {},
   "outputs": [
    {
     "data": {
      "text/plain": [
       "(18, 18)"
      ]
     },
     "execution_count": 34,
     "metadata": {},
     "output_type": "execute_result"
    }
   ],
   "source": [
    "pts=dms\n",
    "deriv=np.zeros_like(pts[2])\n",
    "for j in range(5):\n",
    "    deriv+=(pts[j]*coeff5p[3][j])\n",
    "pts[1].shape"
   ]
  },
  {
   "cell_type": "code",
   "execution_count": 1,
   "metadata": {},
   "outputs": [
    {
     "ename": "NameError",
     "evalue": "name 'np' is not defined",
     "output_type": "error",
     "traceback": [
      "\u001b[0;31m---------------------------------------------------------------------------\u001b[0m",
      "\u001b[0;31mNameError\u001b[0m                                 Traceback (most recent call last)",
      "\u001b[0;32m<ipython-input-1-ee2b41618a9d>\u001b[0m in \u001b[0;36m<module>\u001b[0;34m\u001b[0m\n\u001b[0;32m----> 1\u001b[0;31m \u001b[0mnp\u001b[0m\u001b[0;34m.\u001b[0m\u001b[0meinsum\u001b[0m\u001b[0;34m(\u001b[0m\u001b[0;34m'ij,ji'\u001b[0m\u001b[0;34m,\u001b[0m\u001b[0mrho_tilda\u001b[0m\u001b[0;34m(\u001b[0m\u001b[0mpts\u001b[0m\u001b[0;34m,\u001b[0m\u001b[0;36m.1\u001b[0m\u001b[0;34m,\u001b[0m\u001b[0;36m1.\u001b[0m\u001b[0;34m)\u001b[0m\u001b[0;34m,\u001b[0m\u001b[0mDeltaV\u001b[0m\u001b[0;34m(\u001b[0m\u001b[0mCOmol\u001b[0m\u001b[0;34m,\u001b[0m\u001b[0mnp\u001b[0m\u001b[0;34m.\u001b[0m\u001b[0marray\u001b[0m\u001b[0;34m(\u001b[0m\u001b[0;34m(\u001b[0m\u001b[0;36m1.\u001b[0m\u001b[0;34m,\u001b[0m\u001b[0;34m-\u001b[0m\u001b[0;36m1.\u001b[0m\u001b[0;34m)\u001b[0m\u001b[0;34m)\u001b[0m\u001b[0;34m)\u001b[0m\u001b[0;34m)\u001b[0m\u001b[0;34m\u001b[0m\u001b[0;34m\u001b[0m\u001b[0m\n\u001b[0m",
      "\u001b[0;31mNameError\u001b[0m: name 'np' is not defined"
     ]
    }
   ],
   "source": [
    "np.einsum('ij,ji',rho_tilda(pts,.1,1.),DeltaV(COmol,np.array((1.,-1.))))"
   ]
  }
 ],
 "metadata": {
  "kernelspec": {
   "display_name": "Python 3",
   "language": "python",
   "name": "python3"
  },
  "language_info": {
   "codemirror_mode": {
    "name": "ipython",
    "version": 3
   },
   "file_extension": ".py",
   "mimetype": "text/x-python",
   "name": "python",
   "nbconvert_exporter": "python",
   "pygments_lexer": "ipython3",
   "version": "3.6.9"
  }
 },
 "nbformat": 4,
 "nbformat_minor": 2
}
