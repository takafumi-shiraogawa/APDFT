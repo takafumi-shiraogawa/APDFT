{
 "cells": [
  {
   "cell_type": "code",
   "execution_count": 1,
   "metadata": {
    "scrolled": true
   },
   "outputs": [],
   "source": [
    "import numpy as np\n",
    "import numpy\n",
    "import pyscf\n",
    "import pyscf.gto\n",
    "import pyscf.qmmm\n",
    "import pyscf.scf\n",
    "import pyscf.dft\n",
    "import pyscf.lib\n",
    "from pyscf.cc import CCSD\n",
    "from pyscf.data import nist\n",
    "import matplotlib.pyplot as plt\n",
    "import basis_set_exchange as bse\n",
    "angstrom = 1 / 0.52917721067"
   ]
  },
  {
   "cell_type": "code",
   "execution_count": 56,
   "metadata": {},
   "outputs": [],
   "source": [
    "COmol = pyscf.gto.Mole(atom = 'C 0 0 0.; O 0 0 2.',basis='6-31G',unit='au')\n",
    "COmol.build()\n",
    "COHF = pyscf.scf.RHF(COmol)\n",
    "NNmol = pyscf.gto.Mole(atom = 'N 0 0 0.; N 0 0 2.',basis='6-31G',unit='au')\n",
    "NNmol.build()\n",
    "NNHF = pyscf.scf.RHF(NNmol)"
   ]
  },
  {
   "cell_type": "code",
   "execution_count": 57,
   "metadata": {},
   "outputs": [
    {
     "name": "stdout",
     "output_type": "stream",
     "text": [
      "converged SCF energy = -108.864599611748\n"
     ]
    }
   ],
   "source": [
    "NNHF.scf()\n",
    "nnccsd=CCSD(NNHF)"
   ]
  },
  {
   "cell_type": "code",
   "execution_count": 4,
   "metadata": {},
   "outputs": [],
   "source": [
    "def Alch_calc(calc,deltaZ):\n",
    "    mf=pyscf.qmmm.mm_charge(calc,calc.mol.atom_coords()/angstrom,deltaZ)\n",
    "    includeonly = [0, 1]\n",
    "    class NoSelfQMMM(mf.__class__):\n",
    "        def energy_nuc(self):            \n",
    "            q = mf.mol.atom_charges().astype(np.float)\n",
    "            q[includeonly] -= deltaZ\n",
    "            return mf.mol.energy_nuc(q)\n",
    "    mf = NoSelfQMMM()\n",
    "    return mf"
   ]
  },
  {
   "cell_type": "code",
   "execution_count": 9,
   "metadata": {},
   "outputs": [],
   "source": [
    "def Alch_e_rdm1(calc,deltaZ):\n",
    "    mf=Alch_calc(calc,deltaZ)\n",
    "    mf.scf()\n",
    "    mycc=CCSD(mf)\n",
    "    mycc.run()\n",
    "    e=mycc.e_tot\n",
    "    dm1=mycc.make_rdm1()\n",
    "    dm1_ao = np.einsum('pi,ij,qj->pq', mf.mo_coeff, dm1, mf.mo_coeff.conj())\n",
    "    return [e,dm1_ao]"
   ]
  },
  {
   "cell_type": "code",
   "execution_count": 10,
   "metadata": {},
   "outputs": [
    {
     "name": "stdout",
     "output_type": "stream",
     "text": [
      "converged SCF energy = -112.652239281562\n",
      "E(CCSD) = -112.8512054563891  E_corr = -0.1989661748272975\n"
     ]
    }
   ],
   "source": [
    "COdm=Alch_e_rdm1(COHF,np.array((0.,0.)))[1]"
   ]
  },
  {
   "cell_type": "code",
   "execution_count": 46,
   "metadata": {},
   "outputs": [],
   "source": [
    "\"\"\"returns the delta V matrix in ao basis for the alchemical perturbation\"\"\"\n",
    "def DeltaV(mol,dL):\n",
    "    mol.set_rinv_orig_(mol.atom_coords()[0])\n",
    "    dV=mol.intor('int1e_rinv')*dL[0]\n",
    "    mol.set_rinv_orig_(mol.atom_coords()[1]/angstrom)\n",
    "    dV+=mol.intor('int1e_rinv')*dL[1]\n",
    "    return dV"
   ]
  },
  {
   "cell_type": "code",
   "execution_count": 12,
   "metadata": {},
   "outputs": [
    {
     "name": "stdout",
     "output_type": "stream",
     "text": [
      "converged SCF energy = -105.911201761195\n",
      "converged SCF energy = -112.652239281562\n"
     ]
    },
    {
     "data": {
      "text/plain": [
       "6.741037520366575"
      ]
     },
     "execution_count": 12,
     "metadata": {},
     "output_type": "execute_result"
    }
   ],
   "source": [
    "# Target molecule NN@CO \n",
    "Alch_calc(COHF,np.array((-1.,1.))).kernel()-COHF.kernel()"
   ]
  },
  {
   "cell_type": "code",
   "execution_count": 13,
   "metadata": {},
   "outputs": [
    {
     "data": {
      "text/plain": [
       "6.758646049736087"
      ]
     },
     "execution_count": 13,
     "metadata": {},
     "output_type": "execute_result"
    }
   ],
   "source": [
    "np.einsum('ij,ji',COdm,DeltaV(COmol,np.array((1.,-1.))))"
   ]
  },
  {
   "cell_type": "code",
   "execution_count": 36,
   "metadata": {},
   "outputs": [
    {
     "name": "stdout",
     "output_type": "stream",
     "text": [
      "converged SCF energy = -111.144854160313\n",
      "E(CCSD) = -111.3380738007273  E_corr = -0.1932196404147349\n",
      "converged SCF energy = -114.233704023131\n",
      "E(CCSD) = -114.4384906811646  E_corr = -0.2047866580339281\n",
      "converged SCF energy = -113.433786714567\n",
      "E(CCSD) = -113.6356613346309  E_corr = -0.2018746200637949\n",
      "converged SCF energy = -112.652239281562\n",
      "E(CCSD) = -112.8512054548212  E_corr = -0.1989661732594031\n",
      "converged SCF energy = -111.889199239812\n",
      "E(CCSD) = -112.0852751270358  E_corr = -0.1960758872234131\n",
      "converged SCF energy = -111.144854160313\n",
      "E(CCSD) = -111.3380738005284  E_corr = -0.1932196402157064\n"
     ]
    }
   ],
   "source": [
    "e_dm=[]\n",
    "for i in np.linspace(-.2,.2,5):\n",
    "    e_dm.append(Alch_e_rdm1(COHF,np.array((-i,i))))"
   ]
  },
  {
   "cell_type": "code",
   "execution_count": 49,
   "metadata": {},
   "outputs": [
    {
     "name": "stdout",
     "output_type": "stream",
     "text": [
      "converged SCF energy = -105.911201761195\n",
      "E(CCSD) = -106.0859430665793  E_corr = -0.1747413053840686\n"
     ]
    }
   ],
   "source": [
    "es=np.asarray([e_dm[x][0] for x in range(len(e_dm))])\n",
    "dms=np.asarray([e_dm[x][1] for x in range(len(e_dm))])\n",
    "dms_array=np.asarray(dms)\n",
    "e_CO=es[2]\n",
    "e_NN_at_CO=Alch_e_rdm1(COHF,np.array((-1,1)))[0]"
   ]
  },
  {
   "cell_type": "code",
   "execution_count": 20,
   "metadata": {},
   "outputs": [],
   "source": [
    "coeff5p=np.asarray([[1/12,-2/3,0,2/3,-1/12],[-1/12,4/3,-5/2,4/3,-1/12],[-1/2,1,0,-1,1/2],[1.,-4.,6.,-4.,1.]]) #f',f\",f^3,f^4\n",
    "def tayl_exp_5p(pts,dh,dL):\n",
    "    pred=pts[2]\n",
    "    for i in range(4):\n",
    "        pred+=np.sum(pts*coeff5p[i])/np.math.factorial(i+1)*(dL/dh)**(i+1)\n",
    "    return (pred)\n",
    "\n",
    "def rho_tilda(ptsIN,dh,dL):\n",
    "    pts=ptsIN.copy()\n",
    "    pred=pts[2]\n",
    "    for i in range(4):\n",
    "        deriv=np.zeros_like(pred)\n",
    "        for j in range(5):\n",
    "            deriv+=(pts[j]*coeff5p[i][j])\n",
    "        pred+=deriv/np.math.factorial(i+2)*(dL/dh)**(i)\n",
    "    return (pred)"
   ]
  },
  {
   "cell_type": "code",
   "execution_count": 21,
   "metadata": {},
   "outputs": [
    {
     "data": {
      "text/plain": [
       "(18, 18)"
      ]
     },
     "execution_count": 21,
     "metadata": {},
     "output_type": "execute_result"
    }
   ],
   "source": [
    "pts=dms\n",
    "deriv=np.zeros_like(pts[2])\n",
    "for j in range(5):\n",
    "    deriv+=(pts[j]*coeff5p[3][j])\n",
    "pts[1].shape"
   ]
  },
  {
   "cell_type": "code",
   "execution_count": 54,
   "metadata": {},
   "outputs": [],
   "source": [
    "dV_CO=DeltaV(COmol,np.array((1.,-1.)))"
   ]
  },
  {
   "cell_type": "code",
   "execution_count": 55,
   "metadata": {},
   "outputs": [
    {
     "name": "stdout",
     "output_type": "stream",
     "text": [
      "first order alchemy correction =  7.258646046157674\n",
      "second order alchemy correction =  6.83232074504474\n",
      "third order alchemy correction =  6.8023687828593635\n",
      "fourth order alchemy correction =  6.781077720240949\n",
      "fifth order alchemy correction =  6.773545410196495\n",
      "Target =  6.765262388241851\n",
      "\n",
      "Error due to alchemy =  -0.008283021954643921\n",
      "6.758646046157674 -0.426325301112934 -0.029951962185376168 -0.02129106261841431 -0.007532310044454283\n"
     ]
    }
   ],
   "source": [
    "#CO->NN \n",
    "dVNN=1/2\n",
    "dE1=np.einsum('ij,ji',dms[2],dV_CO)\n",
    "print ('first order alchemy correction = ',dVNN+dE1)\n",
    "dRho1=(dms[3]-dms[1])/2/.1\n",
    "dE2=np.einsum('ij,ji',dRho1,dV_CO)/2\n",
    "print ('second order alchemy correction = ',dVNN+dE1+dE2)\n",
    "dRho2=(dms[3]-2*dms[2]+dms[1])/.01\n",
    "dE3=np.einsum('ij,ji',dRho2,dV_CO)/6\n",
    "print ('third order alchemy correction = ', dVNN+dE1+dE2+dE3)\n",
    "dRho3=(dms[4]*0.5-dms[3]+dms[1]-dms[0]*0.5)/.001\n",
    "dE4=np.einsum('ij,ji',dRho3,dV_CO)/24\n",
    "print ('fourth order alchemy correction = ', dVNN+dE1+dE2+dE3+dE4)\n",
    "dRho4=(dms[4]-4*dms[3]+6*dms[2]-4*dms[1]+dms[0])/.0001\n",
    "dE5=np.einsum('ij,ji',dRho4,dV_CO)/120\n",
    "print ('fifth order alchemy correction = ', dVNN+dE1+dE2+dE3+dE4+dE5)\n",
    "print('Target = ',e_NN_at_CO-e_CO)\n",
    "print ('\\nError due to alchemy = ', e_NN_at_CO-e_CO-(dVNN+dE1+dE2+dE3+dE4+dE5) )\n",
    "print ('Error due to basis set = ', e_NN_at_CO-e_CO )\n",
    "print(dE1,dE2,dE3,dE4,dE5)"
   ]
  },
  {
   "cell_type": "code",
   "execution_count": null,
   "metadata": {},
   "outputs": [],
   "source": []
  }
 ],
 "metadata": {
  "kernelspec": {
   "display_name": "Python 3",
   "language": "python",
   "name": "python3"
  },
  "language_info": {
   "codemirror_mode": {
    "name": "ipython",
    "version": 3
   },
   "file_extension": ".py",
   "mimetype": "text/x-python",
   "name": "python",
   "nbconvert_exporter": "python",
   "pygments_lexer": "ipython3",
   "version": "3.6.9"
  }
 },
 "nbformat": 4,
 "nbformat_minor": 2
}
