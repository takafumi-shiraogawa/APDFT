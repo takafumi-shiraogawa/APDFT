{
 "cells": [
  {
   "cell_type": "markdown",
   "metadata": {},
   "source": [
    "# get $\\Delta \\rho $ for differents grids"
   ]
  },
  {
   "cell_type": "code",
   "execution_count": 23,
   "metadata": {},
   "outputs": [],
   "source": [
    "import numpy as np\n",
    "import sys \n",
    "import os\n",
    "import shutil\n",
    "import matplotlib.pyplot as plt\n",
    "import scipy.interpolate as sp\n",
    "import ipyvolume as ipv\n",
    "sys.path.append('/home/giorgiod/Documents/APDFT/dep')\n",
    "sys.path.append('/home/giorgiod/Documents/APDFT/src')"
   ]
  },
  {
   "cell_type": "code",
   "execution_count": 24,
   "metadata": {},
   "outputs": [],
   "source": [
    "from apdft import Calculator"
   ]
  },
  {
   "cell_type": "code",
   "execution_count": 25,
   "metadata": {},
   "outputs": [
    {
     "data": {
      "text/plain": [
       "['def2-QZVPP',\n",
       " 'LiNa_fixed_scf',\n",
       " '631G*',\n",
       " 'def2-TZVP',\n",
       " 'sto3G',\n",
       " 'sto6G',\n",
       " '321G',\n",
       " 'cc-pVTZ',\n",
       " 'aug-cc-pVQZ',\n",
       " 'LiNa-def2TZVP-rerun']"
      ]
     },
     "execution_count": 25,
     "metadata": {},
     "output_type": "execute_result"
    }
   ],
   "source": [
    "proj_path='/home/giorgiod/MRCC_interface/PES-BS-ALCHEMY/'\n",
    "os.listdir(proj_path)"
   ]
  },
  {
   "cell_type": "code",
   "execution_count": 26,
   "metadata": {},
   "outputs": [],
   "source": [
    "basisSets=[ 'def2-TZVP','def2-QZVPP','aug-ccpVQZ', 'sto3G', 'sto6G', '321G','631G*','cc-pVTZ']\n",
    "molecules=['NN','CO','BF','BeNe','LiNa','HeMg','HAl']\n",
    "alchemy=[-2,-1,0,1,2]\n",
    "points= np.linspace(1.30,3.20,20)\n",
    "def dirName(basis_set,molecule,point,alchemy=0):\n",
    "    return proj_path+basis_set+'/'+molecule+\"/A{}_Radius:{}\".format(alchemy,str(point)[0:3])+'/'"
   ]
  },
  {
   "cell_type": "code",
   "execution_count": 27,
   "metadata": {},
   "outputs": [],
   "source": [
    "def parse_energy_cc(log_file):\n",
    "    \"\"\"Parse the couple cluster energy from an MRCC output file\"\"\"\n",
    "    try:\n",
    "        with open(log_file,'r') as logf:\n",
    "            while True:\n",
    "                line=logf.readline()\n",
    "                if \"Final results:\" in line:\n",
    "                    good_line=logf.readline()\n",
    "                    if \"Total CCSD energy\" in good_line:\n",
    "                        for x in good_line.split(' '):\n",
    "                            try:\n",
    "                                float(x)\n",
    "                                return (float(x))\n",
    "                            except:\n",
    "                                pass    \n",
    "    except:\n",
    "        print('couldn\\'t parse energy return 0 for: '+log_file)\n",
    "        return 0"
   ]
  },
  {
   "cell_type": "code",
   "execution_count": 28,
   "metadata": {},
   "outputs": [],
   "source": [
    "def energy(bs,mol,pt,al=0):\n",
    "    return parse_energy_cc(dirName(bs,mol,pt,al)+'run.log')"
   ]
  },
  {
   "cell_type": "code",
   "execution_count": 29,
   "metadata": {},
   "outputs": [],
   "source": [
    "def get_grid(basis_set,molecule,point,alchemy=0):\n",
    "    return (Calculator.MrccCalculator.get_grid(None, None, dirName(basis_set,molecule,point,alchemy=0)))"
   ]
  },
  {
   "cell_type": "code",
   "execution_count": 30,
   "metadata": {},
   "outputs": [],
   "source": [
    "def get_ccdensity(basis_set,molecule,point,alchemy=0):\n",
    "    return Calculator.MrccCalculator.density_on_grid(dirName(basis_set,molecule,point,alchemy=0)+'DENSITY',get_grid(basis_set,molecule,point,alchemy=0)[0])"
   ]
  },
  {
   "cell_type": "code",
   "execution_count": 31,
   "metadata": {},
   "outputs": [],
   "source": [
    "def get_grid(basis_set,molecule,point,alchemy=0):\n",
    "    return (Calculator.MrccCalculator.get_grid(None, None, dirName(basis_set,molecule,point,alchemy=0)))\n",
    "def get_ccdensity(basis_set,molecule,point,alchemy=0):\n",
    "\n",
    "    return Calculator.MrccCalculator.density_on_grid(dirName(basis_set,molecule,point,alchemy=0)+'DENSITY',get_grid(basis_set,molecule,point,alchemy=0)[0])\n",
    "gnn,wnn=get_grid('sto3G','NN',2.3)[0],get_grid('sto3G','NN',2.3)[1]\n",
    "dnn=get_ccdensity('sto3G','NN',2.3)\n",
    "gbne,wbne=get_grid('sto3G','BeNe',2.3)[0],get_grid('sto3G','BeNe',2.3)[1]\n",
    "dbne=get_ccdensity('sto3G','BeNe',2.3)\n",
    "\n",
    "def Colour(a):\n",
    "    colour=[]\n",
    "    mina=min(a)\n",
    "    maxa=max(a)\n",
    "    for i in range (len(a)):\n",
    "        colour.append((((a[i]-mina)/(maxa-mina))**0.5*256,0,0))#((maxa-dw[i])/(maxa-mina))**0.5*256))\n",
    "        #colour.append((256,0,0))\n",
    "    return colour\n",
    "#ipv.quickscatter(gbne[:,0],gbne[:,1],gbne[:,2],size=0.05,color=Colour(dbne))\n",
    "#ipv.show()"
   ]
  },
  {
   "cell_type": "code",
   "execution_count": 32,
   "metadata": {},
   "outputs": [],
   "source": [
    "import numpy as np\n",
    "import scipy\n",
    "import scipy.ndimage as snd\n",
    "import matplotlib.pyplot as plt"
   ]
  },
  {
   "cell_type": "code",
   "execution_count": 33,
   "metadata": {},
   "outputs": [
    {
     "name": "stdout",
     "output_type": "stream",
     "text": [
      "13.999998443815755\n",
      "14.000487120251636\n",
      "13.999022401627077\n",
      "9.258590291895935\n",
      "0.0009760421886811385\n"
     ]
    }
   ],
   "source": [
    "a=scipy.interpolate.griddata(gbne[:],dbne[:],gnn[:],method='nearest')\n",
    "b=scipy.interpolate.griddata(gnn[:],a[:],gbne[:],method='nearest')\n",
    "print(np.sum(wbne*dbne))\n",
    "print(np.sum(wnn*a))\n",
    "print(np.sum(wbne*b))\n",
    "print(np.sum(wnn*abs(a-dnn))/np.sum(wnn*a)*14)\n",
    "print(np.sum(wbne*(dbne-b)))\n",
    "\n",
    "#ipv.quickscatter(gnn[:,0],gnn[:,1],gnn[:,2],size=0.05,color=Colour(abs(a-dnn)))\n",
    "#ipv.show()"
   ]
  },
  {
   "cell_type": "code",
   "execution_count": 34,
   "metadata": {},
   "outputs": [
    {
     "name": "stdout",
     "output_type": "stream",
     "text": [
      "14.000000000000002\n",
      "9.435371250944442\n"
     ]
    }
   ],
   "source": [
    "a=scipy.interpolate.griddata(gnn[:],dnn[:],gbne[:],method='nearest')\n",
    "a =a/np.sum(wbne*a)*14\n",
    "#b=scipy.interpolate.griddata(gnn[:],a[:],gbne[:],method='nearest')\n",
    "#print(np.sum(wbne*dbne))\n",
    "print(np.sum(wbne*a))\n",
    "#print(np.sum(wbne*b))\n",
    "print(np.sum(wbne*abs(a-dbne)))\n",
    "#print(np.sum(wbne*(dbne-b)))"
   ]
  },
  {
   "cell_type": "code",
   "execution_count": 35,
   "metadata": {},
   "outputs": [
    {
     "name": "stdout",
     "output_type": "stream",
     "text": [
      "grid points 1st grid= (90806, 3)\n",
      "grid points 2nd grid= (58072, 3)\n"
     ]
    },
    {
     "data": {
      "text/plain": [
       "\"\\na=scipy.interpolate.griddata(gbne[:gnn.shape[0]],dbne[:gnn.shape[0]],gnn,method='linear')\\nprint(np.sum(wbne*dbne))\\nprint(np.sum(wnn*a))\\nprint(np.sum(wnn*abs(a-dnn)))\\n## outputs nan\\ngrid points 1st grid= (90806, 3)\\ngrid points 2nd grid= (58072, 3)\\n13.999998443815755\\nnan\\nnan\\n\""
      ]
     },
     "execution_count": 35,
     "metadata": {},
     "output_type": "execute_result"
    }
   ],
   "source": [
    "# method='linear' didn't work , memory problem???\n",
    "print ('grid points 1st grid=', gbne.shape)\n",
    "print ('grid points 2nd grid=', gnn.shape)\n",
    "\"\"\"\n",
    "%time\n",
    "a=scipy.interpolate.griddata(gbne[:1000],dbne[:1000],gnn[:1000],method='linear')\n",
    "%time\n",
    "a=scipy.interpolate.griddata(gbne[:10000],dbne[:10000],gnn[:10000],method='linear')\n",
    "%time\n",
    "a=scipy.interpolate.griddata(gbne[:20000],dbne[:20000],gnn[:20000],method='linear')\n",
    "%time\n",
    "\"\"\"\n",
    "###seems not hard,though \n",
    "\"\"\"\n",
    "a=scipy.interpolate.griddata(gbne[:gnn.shape[0]],dbne[:gnn.shape[0]],gnn,method='linear')\n",
    "print(np.sum(wbne*dbne))\n",
    "print(np.sum(wnn*a))\n",
    "print(np.sum(wnn*abs(a-dnn)))\n",
    "## outputs nan\n",
    "grid points 1st grid= (90806, 3)\n",
    "grid points 2nd grid= (58072, 3)\n",
    "13.999998443815755\n",
    "nan\n",
    "nan\n",
    "\\\n",
    "\"\"\"\n",
    "##better use method='nearest'"
   ]
  },
  {
   "cell_type": "code",
   "execution_count": 36,
   "metadata": {},
   "outputs": [],
   "source": [
    "def delta_Rho(bs,dist,mol1,mol2):                                                                                                                                                                                                     \n",
    "    gg1=get_grid(bs,mol1,dist)\n",
    "    g1,w1=gg1[0],gg1[1]\n",
    "    gg2=get_grid(bs,mol2,dist)\n",
    "    g2,w2=gg2[0],gg2[1]    \n",
    "    d1=get_ccdensity(bs,mol1,dist)\n",
    "    d2=get_ccdensity(bs,mol2,dist)\n",
    "    p1_2=scipy.interpolate.griddata(g1[:],d1[:],g2[:],method='nearest')\n",
    "    #print(np.sum(w2*abs(p1_2-d2)))\n",
    "    p2_1=scipy.interpolate.griddata(g2[:],d2[:],g1[:],method='nearest')                         \n",
    "    #print(np.sum(w1*abs(p2_1-d1)))\n",
    "    return (np.sum(w1*abs(p2_1-d1))+np.sum(w2*abs(p1_2-d2)))/2"
   ]
  },
  {
   "cell_type": "code",
   "execution_count": 37,
   "metadata": {},
   "outputs": [
    {
     "name": "stdout",
     "output_type": "stream",
     "text": [
      "CPU times: user 215 ms, sys: 12.5 ms, total: 227 ms\n",
      "Wall time: 235 ms\n"
     ]
    },
    {
     "data": {
      "text/plain": [
       "3.0693181594717016"
      ]
     },
     "execution_count": 37,
     "metadata": {},
     "output_type": "execute_result"
    }
   ],
   "source": [
    "%time delta_Rho('aug-cc-pVQZ',3.0,'CO','NN')"
   ]
  },
  {
   "cell_type": "code",
   "execution_count": 38,
   "metadata": {},
   "outputs": [
    {
     "data": {
      "text/plain": [
       "['def2-TZVP',\n",
       " 'def2-QZVPP',\n",
       " 'aug-ccpVQZ',\n",
       " 'sto3G',\n",
       " 'sto6G',\n",
       " '321G',\n",
       " '631G*',\n",
       " 'cc-pVTZ']"
      ]
     },
     "execution_count": 38,
     "metadata": {},
     "output_type": "execute_result"
    }
   ],
   "source": [
    "import pandas as pd\n",
    "basisSets"
   ]
  },
  {
   "cell_type": "code",
   "execution_count": 39,
   "metadata": {},
   "outputs": [
    {
     "data": {
      "text/plain": [
       "\"\\nq=[]\\nfor x in range(6):\\n    m1=molecules[x]\\n    for y in range(x+1,7):\\n        m2=molecules[y]\\n        for d in points:\\n            dR=delta_Rho('sto3G',d,m1,m2)\\n            q.append({'Reference mol.':m1,'Target mol.':m2,'Atoms distance':d,'delta Rho':dR})\\n            q.append({'Reference mol.':m2,'Target mol.':m1,'Atoms distance':d,'delta Rho':dR})\\ndf_dRho_sto3G=pd.DataFrame(q)   \\n\""
      ]
     },
     "execution_count": 39,
     "metadata": {},
     "output_type": "execute_result"
    }
   ],
   "source": [
    "\"\"\"\n",
    "q=[]\n",
    "for x in range(6):\n",
    "    m1=molecules[x]\n",
    "    for y in range(x+1,7):\n",
    "        m2=molecules[y]\n",
    "        for d in points:\n",
    "            dR=delta_Rho('sto3G',d,m1,m2)\n",
    "            q.append({'Reference mol.':m1,'Target mol.':m2,'Atoms distance':d,'delta Rho':dR})\n",
    "            q.append({'Reference mol.':m2,'Target mol.':m1,'Atoms distance':d,'delta Rho':dR})\n",
    "df_dRho_sto3G=pd.DataFrame(q)   \n",
    "\"\"\""
   ]
  },
  {
   "cell_type": "code",
   "execution_count": 40,
   "metadata": {},
   "outputs": [],
   "source": [
    "\"\"\"\n",
    "q=[]\n",
    "for x in range(6):\n",
    "    m1=molecules[x]\n",
    "    for y in range(x+1,7):\n",
    "        m2=molecules[y]\n",
    "        for d in points:\n",
    "            dR=delta_Rho('sto6G',d,m1,m2)\n",
    "            q.append({'Reference mol.':m1,'Target mol.':m2,'Atoms distance':d,'delta Rho':dR})\n",
    "            q.append({'Reference mol.':m2,'Target mol.':m1,'Atoms distance':d,'delta Rho':dR})\n",
    "df_dRho_sto6G=pd.DataFrame(q)\n",
    "\n",
    "q=[]\n",
    "for x in range(6):\n",
    "    m1=molecules[x]\n",
    "    for y in range(x+1,7):\n",
    "        m2=molecules[y]\n",
    "        for d in points:\n",
    "            dR=delta_Rho('321G',d,m1,m2)\n",
    "            q.append({'Reference mol.':m1,'Target mol.':m2,'Atoms distance':d,'delta Rho':dR})\n",
    "            q.append({'Reference mol.':m2,'Target mol.':m1,'Atoms distance':d,'delta Rho':dR})\n",
    "df_dRho_321G=pd.DataFrame(q)\n",
    "q=[]\n",
    "for x in range(6):\n",
    "    m1=molecules[x]\n",
    "    for y in range(x+1,7):\n",
    "        m2=molecules[y]\n",
    "        for d in points:\n",
    "            dR=delta_Rho('631G*',d,m1,m2)\n",
    "            q.append({'Reference mol.':m1,'Target mol.':m2,'Atoms distance':d,'delta Rho':dR})\n",
    "            q.append({'Reference mol.':m2,'Target mol.':m1,'Atoms distance':d,'delta Rho':dR})\n",
    "df_dRho_631G=pd.DataFrame(q)\n",
    "\n",
    "q=[]\n",
    "for x in range(6):\n",
    "    m1=molecules[x]\n",
    "    for y in range(x+1,7):\n",
    "        m2=molecules[y]\n",
    "        for d in points:\n",
    "            dR=delta_Rho('cc-pVTZ',d,m1,m2)\n",
    "            q.append({'Reference mol.':m1,'Target mol.':m2,'Atoms distance':d,'delta Rho':dR})\n",
    "            q.append({'Reference mol.':m2,'Target mol.':m1,'Atoms distance':d,'delta Rho':dR})\n",
    "df_dRho_ccpvtz=pd.DataFrame(q)\n",
    "\n",
    "q=[]\n",
    "for x in range(6):\n",
    "    m1=molecules[x]\n",
    "    for y in range(x+1,7):\n",
    "        m2=molecules[y]\n",
    "        for d in points:\n",
    "            dR=delta_Rho('aug-cc-pVQZ',d,m1,m2)\n",
    "            q.append({'Reference mol.':m1,'Target mol.':m2,'Atoms distance':d,'delta Rho':dR})\n",
    "            q.append({'Reference mol.':m2,'Target mol.':m1,'Atoms distance':d,'delta Rho':dR})\n",
    "df_dRho_aug=pd.DataFrame(q)\n",
    "q=[]\n",
    "for x in range(6):\n",
    "    m1=molecules[x]\n",
    "    for y in range(x+1,7):\n",
    "        m2=molecules[y]\n",
    "        for d in points:\n",
    "            dR=delta_Rho('def2-TZVP',d,m1,m2)\n",
    "            q.append({'Reference mol.':m1,'Target mol.':m2,'Atoms distance':d,'delta Rho':dR})\n",
    "            q.append({'Reference mol.':m2,'Target mol.':m1,'Atoms distance':d,'delta Rho':dR})\n",
    "df_dRho_def2_tzvp=pd.DataFrame(q)\n",
    "\n",
    "q=[]\n",
    "for x in range(6):\n",
    "    m1=molecules[x]\n",
    "    for y in range(x+1,7):\n",
    "        m2=molecules[y]\n",
    "        for d in points:\n",
    "            dR=delta_Rho('def2-QZVPP',d,m1,m2)\n",
    "            q.append({'Reference mol.':m1,'Target mol.':m2,'Atoms distance':d,'delta Rho':dR})\n",
    "            q.append({'Reference mol.':m2,'Target mol.':m1,'Atoms distance':d,'delta Rho':dR})\n",
    "df_dRho_def2_qzvpp=pd.DataFrame(q)\n",
    "\"\"\"  \"\"\"   ### storing dataframes\n",
    "df_dRho_sto3G.to_pickle('./df_dRho_sto3G')  \n",
    "df_dRho_sto6G.to_pickle('./df_dRho_sto6G')\n",
    "df_dRho_321G.to_pickle('./df_dRho_sto321G')\n",
    "df_dRho_631G.to_pickle('./df_dRho_631G')\n",
    "df_dRho_ccpvtz.to_pickle('./df_dRho_ccpvtz')\n",
    "df_dRho_aug.to_pickle('./df_dRho_aug')\n",
    "df_dRho_def2_tzvp.to_pickle('./df_dRho_def2_tzvp')\n",
    "df_dRho_def2_qzvpp.to_pickle('./df_dRho_def2_qzvpp')\n",
    "\"\"\"   ### reading dataframes\n",
    "df_dRho_sto3G=pd.read_pickle('./df_dRho_sto3G')\n",
    "df_dRho_sto6G=pd.read_pickle('./df_dRho_sto6G')\n",
    "df_dRho_321G=pd.read_pickle('./df_dRho_sto321G')\n",
    "df_dRho_631G=pd.read_pickle('./df_dRho_631G')\n",
    "df_dRho_ccpvtz=pd.read_pickle('./df_dRho_ccpvtz')\n",
    "df_dRho_aug=pd.read_pickle('./df_dRho_aug')\n",
    "df_dRho_def2_tzvp=pd.read_pickle('./df_dRho_def2_tzvp')\n",
    "df_dRho_def2_qzvpp=pd.read_pickle('./df_dRho_def2_qzvpp')"
   ]
  },
  {
   "cell_type": "code",
   "execution_count": 41,
   "metadata": {},
   "outputs": [],
   "source": [
    "df_321G=pd.read_pickle('./321G_data')\n",
    "df_631G=pd.read_pickle('./631G_data')\n",
    "df_sto3G=pd.read_pickle('./sto3G_data')\n",
    "df_sto6G=pd.read_pickle('./sto6G_data')\n",
    "\n",
    "df_cc_pvtz=pd.read_pickle('./cc-pVTZ_data')\n",
    "df_aug_ccpvqz=pd.read_pickle('./aug-cc-pVQZ_data')\n",
    "df_def2_tzvp=pd.read_pickle('./def2_TZVP_data')\n",
    "df_def2_qzvpp=pd.read_pickle('./def2-QZVPP_data')"
   ]
  },
  {
   "cell_type": "code",
   "execution_count": 42,
   "metadata": {},
   "outputs": [],
   "source": [
    "basisSets=[ 'def2-TZVP','def2-QZVPP','aug-ccpVQZ', 'sto3G', 'sto6G', '321G','631G*','cc-pVTZ']\n",
    "molecules=['NN','CO','BF','BeNe','LiNa','HeMg','HAl']\n",
    "alchemy=[-2,-1,0,1,2]\n",
    "points= np.linspace(1.30,3.20,20)"
   ]
  },
  {
   "cell_type": "code",
   "execution_count": 43,
   "metadata": {},
   "outputs": [
    {
     "name": "stdout",
     "output_type": "stream",
     "text": [
      "      Alchemy exp.order  Atoms distance Basis Set     E.alch      E.ccsd  \\\n",
      "3541                  1             2.1     sto3G -105.59242 -107.655465   \n",
      "\n",
      "     Reference mol. Target mol.  abs.err.  \n",
      "3541             CO          NN  2.063044  \n"
     ]
    },
    {
     "data": {
      "text/plain": [
       "3541    2.063044\n",
       "Name: abs.err., dtype: float64"
      ]
     },
     "execution_count": 43,
     "metadata": {},
     "output_type": "execute_result"
    }
   ],
   "source": [
    "df_sto3G.dtypes\n",
    "print(df_sto3G[(df_sto3G['Reference mol.']=='CO')&(df_sto3G['Target mol.']=='NN')&(df_sto3G['Atoms distance']== 2.1) \\\n",
    "        & (df_sto3G['Alchemy exp.order']== 1)])\n",
    "df_sto3G[(df_sto3G['Reference mol.']=='CO')&(df_sto3G['Target mol.']=='NN')&(df_sto3G['Atoms distance']== 2.1) \\\n",
    "        & (df_sto3G['Alchemy exp.order']== 1)]['abs.err.']"
   ]
  },
  {
   "cell_type": "code",
   "execution_count": null,
   "metadata": {},
   "outputs": [],
   "source": [
    "\"\"\"\n",
    "fig= plt.figure(figsize=(14,8))\n",
    "axes= fig.add_axes([0.1,0.1,0.8,0.8])\n",
    "ao=4\n",
    "#for d in points:\n",
    "d=2.0\n",
    "for ref in molecules:\n",
    "    for targ in molecules:\n",
    "        if targ != ref:\n",
    "            ae=float(df_sto3G[(df_sto3G['Reference mol.']==ref)&(df_sto3G['Target mol.']==targ)&\\\n",
    "                        (df_sto3G['Atoms distance']==d) & (df_sto3G['Alchemy exp.order']== ao)]['abs.err.'])\n",
    "            #print ('ae=',ae)\n",
    "            if (ae<50):\n",
    "                plt.scatter(df_dRho_sto3G[(df_dRho_sto3G['Reference mol.']==ref)&(df_dRho_sto3G['Target mol.']==targ)&\\\n",
    "                        (df_dRho_sto3G['Atoms distance']==d)]['delta Rho'],ae,color=\"blue\")\n",
    "ao=3\n",
    "#for d in points:\n",
    "for ref in molecules:\n",
    "    for targ in molecules:\n",
    "        if targ != ref:\n",
    "            ae=float(df_sto3G[(df_sto3G['Reference mol.']==ref)&(df_sto3G['Target mol.']==targ)&\\\n",
    "                        (df_sto3G['Atoms distance']==d) & (df_sto3G['Alchemy exp.order']== ao)]['abs.err.'])\n",
    "            #print ('ae=',ae)\n",
    "            if (ae<50):\n",
    "                plt.scatter(df_dRho_sto3G[(df_dRho_sto3G['Reference mol.']==ref)&(df_dRho_sto3G['Target mol.']==targ)&\\\n",
    "                        (df_dRho_sto3G['Atoms distance']==d)]['delta Rho'],ae,color=\"green\")\n",
    "\n",
    "ao=2\n",
    "#for d in points:\n",
    "d=2.0\n",
    "for ref in molecules:\n",
    "    for targ in molecules:\n",
    "        if targ != ref:\n",
    "            ae=float(df_sto3G[(df_sto3G['Reference mol.']==ref)&(df_sto3G['Target mol.']==targ)&\\\n",
    "                        (df_sto3G['Atoms distance']==d) & (df_sto3G['Alchemy exp.order']== ao)]['abs.err.'])\n",
    "            #print ('ae=',ae)\n",
    "            if (ae<50):\n",
    "                plt.scatter(df_dRho_sto3G[(df_dRho_sto3G['Reference mol.']==ref)&(df_dRho_sto3G['Target mol.']==targ)&\\\n",
    "                        (df_dRho_sto3G['Atoms distance']==d)]['delta Rho'],ae,color=\"yellow\")\n",
    "\n",
    "ao=1\n",
    "#for d in points:\n",
    "d=2.0\n",
    "for ref in molecules:\n",
    "    for targ in molecules:\n",
    "        if targ != ref:\n",
    "            ae=float(df_sto3G[(df_sto3G['Reference mol.']==ref)&(df_sto3G['Target mol.']==targ)&\\\n",
    "                        (df_sto3G['Atoms distance']==d) & (df_sto3G['Alchemy exp.order']== ao)]['abs.err.'])\n",
    "            #print ('ae=',ae)\n",
    "            if (ae<50):\n",
    "                plt.scatter(df_dRho_sto3G[(df_dRho_sto3G['Reference mol.']==ref)&(df_dRho_sto3G['Target mol.']==targ)&\\\n",
    "                        (df_dRho_sto3G['Atoms distance']==d)]['delta Rho'],ae,color=\"red\")\n",
    "\n",
    "plt.title('sto3G d=2.0 Bohrs' )\n",
    "plt.xlabel('delta Rho')\n",
    "plt.ylabel('Abs.Error (Hartree)')\n",
    "\n",
    "plt.legend()\n",
    "#plt.set_size(12,16)\n",
    "plt.figure(figsize=[35,48])\n",
    "plt.savefig('sto3G_d_2.png')\n",
    "\"\"\""
   ]
  },
  {
   "cell_type": "code",
   "execution_count": 45,
   "metadata": {},
   "outputs": [
    {
     "data": {
      "text/plain": [
       "Series([], Name: delta Rho, dtype: float64)"
      ]
     },
     "execution_count": 45,
     "metadata": {},
     "output_type": "execute_result"
    }
   ],
   "source": [
    "df_dRho_sto3G[(df_dRho_sto3G['Reference mol.']==ref)&(df_dRho_sto3G['Target mol.']==targ)&\\\n",
    "                        (df_dRho_sto3G['Atoms distance']==d)]['delta Rho']"
   ]
  },
  {
   "cell_type": "code",
   "execution_count": 46,
   "metadata": {},
   "outputs": [
    {
     "name": "stderr",
     "output_type": "stream",
     "text": [
      "No handles with labels found to put in legend.\n"
     ]
    },
    {
     "data": {
      "image/png": "[encoded data removed]",
      "text/plain": [
       "<Figure size 1008x576 with 1 Axes>"
      ]
     },
     "metadata": {
      "needs_background": "light"
     },
     "output_type": "display_data"
    },
    {
     "data": {
      "text/plain": [
       "<Figure size 2520x3456 with 0 Axes>"
      ]
     },
     "metadata": {},
     "output_type": "display_data"
    }
   ],
   "source": [
    "fig= plt.figure(figsize=(14,8))\n",
    "axes= fig.add_axes([0.1,0.1,0.8,0.8])\n",
    "ao=4\n",
    "for d in points:\n",
    "    for ref in molecules:\n",
    "        for targ in molecules:\n",
    "            if targ != ref:\n",
    "                ae=float(df_def2_tzvp[(df_def2_tzvp['Reference mol.']==ref)&(df_def2_tzvp['Target mol.']==targ)&\\\n",
    "                            (df_def2_tzvp['Atoms distance']==d) & (df_def2_tzvp['Alchemy exp.order']== ao)]['abs.err.'])\n",
    "                #print ('ae=',ae)\n",
    "                if (ae<50):\n",
    "                    plt.scatter(df_dRho_def2_tzvp[(df_dRho_sto3G['Reference mol.']==ref)&\\\n",
    "        (df_dRho_def2_tzvp['Target mol.']==targ)&(df_dRho_def2_tzvp['Atoms distance']==d)]['delta Rho'],ae,color=\"blue\",s=.2)\n",
    "\n",
    "\n",
    "ao=3\n",
    "for d in points:\n",
    "    for ref in molecules:\n",
    "        for targ in molecules:\n",
    "            if targ != ref:\n",
    "                ae=float(df_def2_tzvp[(df_def2_tzvp['Reference mol.']==ref)&(df_def2_tzvp['Target mol.']==targ)&\\\n",
    "                            (df_def2_tzvp['Atoms distance']==d) & (df_def2_tzvp['Alchemy exp.order']== ao)]['abs.err.'])\n",
    "                #print ('ae=',ae)\n",
    "                if (ae<50):\n",
    "                    plt.scatter(df_dRho_def2_tzvp[(df_dRho_sto3G['Reference mol.']==ref)&\\\n",
    "        (df_dRho_def2_tzvp['Target mol.']==targ)&(df_dRho_def2_tzvp['Atoms distance']==d)]['delta Rho'],ae,color=\"green\",s=.2)\n",
    "\n",
    "ao=2\n",
    "for d in points:\n",
    "    for ref in molecules:\n",
    "        for targ in molecules:\n",
    "            if targ != ref:\n",
    "                ae=float(df_def2_tzvp[(df_def2_tzvp['Reference mol.']==ref)&(df_def2_tzvp['Target mol.']==targ)&\\\n",
    "                            (df_def2_tzvp['Atoms distance']==d) & (df_def2_tzvp['Alchemy exp.order']== ao)]['abs.err.'])\n",
    "                #print ('ae=',ae)\n",
    "                if (ae<50):\n",
    "                    plt.scatter(df_dRho_def2_tzvp[(df_dRho_sto3G['Reference mol.']==ref)&\\\n",
    "        (df_dRho_def2_tzvp['Target mol.']==targ)&(df_dRho_def2_tzvp['Atoms distance']==d)]['delta Rho'],ae,color=\"yellow\",s=.2)\n",
    "\n",
    "\n",
    "ao=1\n",
    "for d in points:\n",
    "    for ref in molecules:\n",
    "        for targ in molecules:\n",
    "            if targ != ref:\n",
    "                ae=float(df_def2_tzvp[(df_def2_tzvp['Reference mol.']==ref)&(df_def2_tzvp['Target mol.']==targ)&\\\n",
    "                            (df_def2_tzvp['Atoms distance']==d) & (df_def2_tzvp['Alchemy exp.order']== ao)]['abs.err.'])\n",
    "                #print ('ae=',ae)\n",
    "                if (ae<50):\n",
    "                    plt.scatter(df_dRho_def2_tzvp[(df_dRho_sto3G['Reference mol.']==ref)&\\\n",
    "        (df_dRho_def2_tzvp['Target mol.']==targ)&(df_dRho_def2_tzvp['Atoms distance']==d)]['delta Rho'],ae,color=\"red\",s=.2)\n",
    "\n",
    "\n",
    "plt.xlim(2,10)\n",
    "plt.ylim(0,10)\n",
    "plt.title('def2_tzvp ' )\n",
    "plt.xlabel('delta Rho')\n",
    "plt.ylabel('Abs.Error (Hartree)')\n",
    "plt.legend()\n",
    "#plt.set_size(12,16)\n",
    "plt.figure(figsize=[35,48])\n",
    "plt.savefig('def2-tzvp.png')"
   ]
  },
  {
   "cell_type": "code",
   "execution_count": 47,
   "metadata": {},
   "outputs": [
    {
     "data": {
      "text/html": [
       "<div>\n",
       "<style scoped>\n",
       "    .dataframe tbody tr th:only-of-type {\n",
       "        vertical-align: middle;\n",
       "    }\n",
       "\n",
       "    .dataframe tbody tr th {\n",
       "        vertical-align: top;\n",
       "    }\n",
       "\n",
       "    .dataframe thead th {\n",
       "        text-align: right;\n",
       "    }\n",
       "</style>\n",
       "<table border=\"1\" class=\"dataframe\">\n",
       "  <thead>\n",
       "    <tr style=\"text-align: right;\">\n",
       "      <th></th>\n",
       "      <th>Alchemy exp.order</th>\n",
       "      <th>Atoms distance</th>\n",
       "      <th>Basis Set</th>\n",
       "      <th>E.alch</th>\n",
       "      <th>E.ccsd</th>\n",
       "      <th>Reference mol.</th>\n",
       "      <th>Target mol.</th>\n",
       "      <th>abs.err.</th>\n",
       "    </tr>\n",
       "  </thead>\n",
       "  <tbody>\n",
       "    <tr>\n",
       "      <th>715</th>\n",
       "      <td>0</td>\n",
       "      <td>1.6</td>\n",
       "      <td>def2-TZVP</td>\n",
       "      <td>-165.452419</td>\n",
       "      <td>-168.404781</td>\n",
       "      <td>HeMg</td>\n",
       "      <td>LiNa</td>\n",
       "      <td>2.952361</td>\n",
       "    </tr>\n",
       "    <tr>\n",
       "      <th>716</th>\n",
       "      <td>1</td>\n",
       "      <td>1.6</td>\n",
       "      <td>def2-TZVP</td>\n",
       "      <td>-167.239605</td>\n",
       "      <td>-168.404781</td>\n",
       "      <td>HeMg</td>\n",
       "      <td>LiNa</td>\n",
       "      <td>1.165176</td>\n",
       "    </tr>\n",
       "    <tr>\n",
       "      <th>717</th>\n",
       "      <td>2</td>\n",
       "      <td>1.6</td>\n",
       "      <td>def2-TZVP</td>\n",
       "      <td>-167.394484</td>\n",
       "      <td>-168.404781</td>\n",
       "      <td>HeMg</td>\n",
       "      <td>LiNa</td>\n",
       "      <td>1.010297</td>\n",
       "    </tr>\n",
       "    <tr>\n",
       "      <th>718</th>\n",
       "      <td>3</td>\n",
       "      <td>1.6</td>\n",
       "      <td>def2-TZVP</td>\n",
       "      <td>-167.380638</td>\n",
       "      <td>-168.404781</td>\n",
       "      <td>HeMg</td>\n",
       "      <td>LiNa</td>\n",
       "      <td>1.024142</td>\n",
       "    </tr>\n",
       "    <tr>\n",
       "      <th>719</th>\n",
       "      <td>4</td>\n",
       "      <td>1.6</td>\n",
       "      <td>def2-TZVP</td>\n",
       "      <td>-167.399169</td>\n",
       "      <td>-168.404781</td>\n",
       "      <td>HeMg</td>\n",
       "      <td>LiNa</td>\n",
       "      <td>1.005612</td>\n",
       "    </tr>\n",
       "  </tbody>\n",
       "</table>\n",
       "</div>"
      ],
      "text/plain": [
       "     Alchemy exp.order  Atoms distance  Basis Set      E.alch      E.ccsd  \\\n",
       "715                  0             1.6  def2-TZVP -165.452419 -168.404781   \n",
       "716                  1             1.6  def2-TZVP -167.239605 -168.404781   \n",
       "717                  2             1.6  def2-TZVP -167.394484 -168.404781   \n",
       "718                  3             1.6  def2-TZVP -167.380638 -168.404781   \n",
       "719                  4             1.6  def2-TZVP -167.399169 -168.404781   \n",
       "\n",
       "    Reference mol. Target mol.  abs.err.  \n",
       "715           HeMg        LiNa  2.952361  \n",
       "716           HeMg        LiNa  1.165176  \n",
       "717           HeMg        LiNa  1.010297  \n",
       "718           HeMg        LiNa  1.024142  \n",
       "719           HeMg        LiNa  1.005612  "
      ]
     },
     "execution_count": 47,
     "metadata": {},
     "output_type": "execute_result"
    }
   ],
   "source": [
    "df_def2_tzvp[(df_def2_qzvpp['Reference mol.']==\"HeMg\")&(df_def2_qzvpp['Target mol.']==\"LiNa\")&\\\n",
    "                            (df_def2_qzvpp['Atoms distance']==1.6)]"
   ]
  },
  {
   "cell_type": "code",
   "execution_count": 48,
   "metadata": {},
   "outputs": [
    {
     "data": {
      "image/png": "[encoded data removed]",
      "text/plain": [
       "<Figure size 1008x576 with 1 Axes>"
      ]
     },
     "metadata": {
      "needs_background": "light"
     },
     "output_type": "display_data"
    }
   ],
   "source": [
    "fig= plt.figure(figsize=(14,8))\n",
    "axes= fig.add_axes([0.1,0.1,0.8,0.8])\n",
    "Colour={0:\"black\",1:\"blue\",2:\"green\",3:\"yellow\",4:\"red\"}\n",
    "df=df_def2_qzvpp\n",
    "dfR=df_dRho_def2_qzvpp\n",
    "for ao in range(5):\n",
    "    for d in points:\n",
    "        for ref in molecules:\n",
    "            for targ in molecules:\n",
    "                if targ != ref:\n",
    "                    ae=float(df[(df['Reference mol.']==ref)&(df['Target mol.']==targ)&\\\n",
    "                                (df['Atoms distance']==d) & (df['Alchemy exp.order']== ao)]['abs.err.'])\n",
    "                    #print ('ae=',ae)\n",
    "                    if (ae<50):\n",
    "                        plt.scatter(dfR[(dfR['Reference mol.']==ref)&\\\n",
    "            (dfR['Target mol.']==targ)&(dfR['Atoms distance']==d)]['delta Rho'],ae,\\\n",
    "                                    color=Colour[ao],s=.5)\n",
    "\n"
   ]
  },
  {
   "cell_type": "code",
   "execution_count": 49,
   "metadata": {},
   "outputs": [
    {
     "data": {
      "text/plain": [
       "(0, 10)"
      ]
     },
     "execution_count": 49,
     "metadata": {},
     "output_type": "execute_result"
    },
    {
     "data": {
      "image/png": "[encoded data removed]",
      "text/plain": [
       "<Figure size 432x288 with 1 Axes>"
      ]
     },
     "metadata": {
      "needs_background": "light"
     },
     "output_type": "display_data"
    }
   ],
   "source": [
    "q = pd.merge(df_def2_qzvpp, df_dRho_def2_qzvpp)\n",
    "q['drhobin'] = q['delta Rho'].astype(np.int)\n",
    "for name, group in q.groupby('Alchemy exp.order'):\n",
    "    subset = group.groupby('drhobin').mean().reset_index()\n",
    "    plt.plot(subset.drhobin, subset['abs.err.'], label=name)\n",
    "plt.legend()\n",
    "plt.ylim(0, 10)"
   ]
  },
  {
   "cell_type": "code",
   "execution_count": 50,
   "metadata": {},
   "outputs": [
    {
     "data": {
      "text/html": [
       "<div>\n",
       "<style scoped>\n",
       "    .dataframe tbody tr th:only-of-type {\n",
       "        vertical-align: middle;\n",
       "    }\n",
       "\n",
       "    .dataframe tbody tr th {\n",
       "        vertical-align: top;\n",
       "    }\n",
       "\n",
       "    .dataframe thead th {\n",
       "        text-align: right;\n",
       "    }\n",
       "</style>\n",
       "<table border=\"1\" class=\"dataframe\">\n",
       "  <thead>\n",
       "    <tr style=\"text-align: right;\">\n",
       "      <th></th>\n",
       "      <th>drhobin</th>\n",
       "      <th>Alchemy exp.order</th>\n",
       "      <th>Atoms distance</th>\n",
       "      <th>E.alch</th>\n",
       "      <th>E.ccsd</th>\n",
       "      <th>abs.err.</th>\n",
       "      <th>delta Rho</th>\n",
       "    </tr>\n",
       "  </thead>\n",
       "  <tbody>\n",
       "    <tr>\n",
       "      <th>0</th>\n",
       "      <td>2</td>\n",
       "      <td>4</td>\n",
       "      <td>1.645000</td>\n",
       "      <td>-116.743064</td>\n",
       "      <td>-116.756325</td>\n",
       "      <td>0.013260</td>\n",
       "      <td>2.810755</td>\n",
       "    </tr>\n",
       "    <tr>\n",
       "      <th>1</th>\n",
       "      <td>3</td>\n",
       "      <td>4</td>\n",
       "      <td>2.293182</td>\n",
       "      <td>-156.382766</td>\n",
       "      <td>-156.475401</td>\n",
       "      <td>0.140810</td>\n",
       "      <td>3.500851</td>\n",
       "    </tr>\n",
       "    <tr>\n",
       "      <th>2</th>\n",
       "      <td>4</td>\n",
       "      <td>4</td>\n",
       "      <td>2.941667</td>\n",
       "      <td>-202.766519</td>\n",
       "      <td>-202.907028</td>\n",
       "      <td>0.203728</td>\n",
       "      <td>4.089441</td>\n",
       "    </tr>\n",
       "    <tr>\n",
       "      <th>3</th>\n",
       "      <td>5</td>\n",
       "      <td>4</td>\n",
       "      <td>1.615000</td>\n",
       "      <td>-126.810271</td>\n",
       "      <td>-126.927339</td>\n",
       "      <td>0.152320</td>\n",
       "      <td>5.641035</td>\n",
       "    </tr>\n",
       "    <tr>\n",
       "      <th>4</th>\n",
       "      <td>6</td>\n",
       "      <td>4</td>\n",
       "      <td>2.408750</td>\n",
       "      <td>-160.100515</td>\n",
       "      <td>-160.631935</td>\n",
       "      <td>0.646598</td>\n",
       "      <td>6.464762</td>\n",
       "    </tr>\n",
       "    <tr>\n",
       "      <th>5</th>\n",
       "      <td>7</td>\n",
       "      <td>4</td>\n",
       "      <td>1.366667</td>\n",
       "      <td>-139.789417</td>\n",
       "      <td>-139.929023</td>\n",
       "      <td>0.575036</td>\n",
       "      <td>7.793553</td>\n",
       "    </tr>\n",
       "    <tr>\n",
       "      <th>6</th>\n",
       "      <td>8</td>\n",
       "      <td>4</td>\n",
       "      <td>2.258065</td>\n",
       "      <td>-158.204489</td>\n",
       "      <td>-160.079954</td>\n",
       "      <td>2.736427</td>\n",
       "      <td>8.652792</td>\n",
       "    </tr>\n",
       "    <tr>\n",
       "      <th>7</th>\n",
       "      <td>9</td>\n",
       "      <td>4</td>\n",
       "      <td>2.267568</td>\n",
       "      <td>-162.189890</td>\n",
       "      <td>-165.531256</td>\n",
       "      <td>5.926308</td>\n",
       "      <td>9.589832</td>\n",
       "    </tr>\n",
       "    <tr>\n",
       "      <th>8</th>\n",
       "      <td>10</td>\n",
       "      <td>4</td>\n",
       "      <td>2.141667</td>\n",
       "      <td>-139.050894</td>\n",
       "      <td>-156.150491</td>\n",
       "      <td>17.815371</td>\n",
       "      <td>10.479857</td>\n",
       "    </tr>\n",
       "    <tr>\n",
       "      <th>9</th>\n",
       "      <td>11</td>\n",
       "      <td>4</td>\n",
       "      <td>2.305405</td>\n",
       "      <td>-149.906893</td>\n",
       "      <td>-160.018679</td>\n",
       "      <td>18.941899</td>\n",
       "      <td>11.376102</td>\n",
       "    </tr>\n",
       "    <tr>\n",
       "      <th>10</th>\n",
       "      <td>12</td>\n",
       "      <td>4</td>\n",
       "      <td>2.365625</td>\n",
       "      <td>-115.828669</td>\n",
       "      <td>-166.419508</td>\n",
       "      <td>70.182313</td>\n",
       "      <td>12.624442</td>\n",
       "    </tr>\n",
       "    <tr>\n",
       "      <th>11</th>\n",
       "      <td>13</td>\n",
       "      <td>4</td>\n",
       "      <td>2.750000</td>\n",
       "      <td>-119.589599</td>\n",
       "      <td>-175.878005</td>\n",
       "      <td>78.593421</td>\n",
       "      <td>13.010198</td>\n",
       "    </tr>\n",
       "  </tbody>\n",
       "</table>\n",
       "</div>"
      ],
      "text/plain": [
       "    drhobin  Alchemy exp.order  Atoms distance      E.alch      E.ccsd  \\\n",
       "0         2                  4        1.645000 -116.743064 -116.756325   \n",
       "1         3                  4        2.293182 -156.382766 -156.475401   \n",
       "2         4                  4        2.941667 -202.766519 -202.907028   \n",
       "3         5                  4        1.615000 -126.810271 -126.927339   \n",
       "4         6                  4        2.408750 -160.100515 -160.631935   \n",
       "5         7                  4        1.366667 -139.789417 -139.929023   \n",
       "6         8                  4        2.258065 -158.204489 -160.079954   \n",
       "7         9                  4        2.267568 -162.189890 -165.531256   \n",
       "8        10                  4        2.141667 -139.050894 -156.150491   \n",
       "9        11                  4        2.305405 -149.906893 -160.018679   \n",
       "10       12                  4        2.365625 -115.828669 -166.419508   \n",
       "11       13                  4        2.750000 -119.589599 -175.878005   \n",
       "\n",
       "     abs.err.  delta Rho  \n",
       "0    0.013260   2.810755  \n",
       "1    0.140810   3.500851  \n",
       "2    0.203728   4.089441  \n",
       "3    0.152320   5.641035  \n",
       "4    0.646598   6.464762  \n",
       "5    0.575036   7.793553  \n",
       "6    2.736427   8.652792  \n",
       "7    5.926308   9.589832  \n",
       "8   17.815371  10.479857  \n",
       "9   18.941899  11.376102  \n",
       "10  70.182313  12.624442  \n",
       "11  78.593421  13.010198  "
      ]
     },
     "execution_count": 50,
     "metadata": {},
     "output_type": "execute_result"
    }
   ],
   "source": [
    "group.groupby('drhobin').mean().reset_index()"
   ]
  },
  {
   "cell_type": "code",
   "execution_count": null,
   "metadata": {},
   "outputs": [],
   "source": []
  }
 ],
 "metadata": {
  "kernelspec": {
   "display_name": "Python 3",
   "language": "python",
   "name": "python3"
  },
  "language_info": {
   "codemirror_mode": {
    "name": "ipython",
    "version": 3
   },
   "file_extension": ".py",
   "mimetype": "text/x-python",
   "name": "python",
   "nbconvert_exporter": "python",
   "pygments_lexer": "ipython3",
   "version": "3.6.8"
  }
 },
 "nbformat": 4,
 "nbformat_minor": 2
}
