{
 "cells": [
  {
   "cell_type": "code",
   "execution_count": 2,
   "metadata": {},
   "outputs": [],
   "source": [
    "import pandas as pd \n",
    "import numpy as np\n",
    "import matplotlib.pyplot as plt\n",
    "from bokeh.io import output_notebook, show \n",
    "from bokeh.plotting import figure\n",
    "from bokeh.models import HoverTool,ColumnDataSource"
   ]
  },
  {
   "cell_type": "code",
   "execution_count": 3,
   "metadata": {},
   "outputs": [],
   "source": [
    "dt_sto3G=pd.read_pickle(\"data_sto3G\")\n",
    "dt_sto6G=pd.read_pickle(\"data_sto6G\")"
   ]
  },
  {
   "cell_type": "markdown",
   "metadata": {},
   "source": [
    "With Minimal Basis Set it's impossible to predict one atom with the basis function of a atom of the previous period. There are no basis sets to place atoms"
   ]
  },
  {
   "cell_type": "code",
   "execution_count": 4,
   "metadata": {},
   "outputs": [],
   "source": [
    "# From the number of basis inside the sets # \n",
    "group1=['HAl','HeMg']  # you can only do HAl->HeMg and Vice-Versa\n",
    "group2=['BeNe','BF','CO','NN'] # You can only predict molecule only inside this group\n",
    "group3=['LiNa'] # From LiNa you can predict all the other molecules"
   ]
  },
  {
   "cell_type": "code",
   "execution_count": 5,
   "metadata": {},
   "outputs": [
    {
     "name": "stderr",
     "output_type": "stream",
     "text": [
      "/home/giorgiod/.local/lib/python3.6/site-packages/ipykernel_launcher.py:3: UserWarning: Boolean Series key will be reindexed to match DataFrame index.\n",
      "  This is separate from the ipykernel package so we can avoid doing imports until\n",
      "/home/giorgiod/.local/lib/python3.6/site-packages/ipykernel_launcher.py:6: UserWarning: Boolean Series key will be reindexed to match DataFrame index.\n",
      "  \n",
      "/home/giorgiod/.local/lib/python3.6/site-packages/ipykernel_launcher.py:11: UserWarning: Boolean Series key will be reindexed to match DataFrame index.\n",
      "  # This is added back by InteractiveShellApp.init_path()\n"
     ]
    }
   ],
   "source": [
    "dt_sto6G=pd.read_pickle(\"data_sto6G\")\n",
    "dt_sto6G_n=pd.DataFrame({'alchemy':[],'distance':[] ,'basis_set':[] ,'e_alch':[],'e_ccsd':[],'ref':[], 'target':[] ,'abs_err':[] ,'delta_rho': [],'e_at_ref_bs':[] ,'err_alch':[]})\n",
    "dt_sto6G_n=dt_sto6G[dt_sto6G.ref=='HAl'][dt_sto6G.target=='HAl']#,ref,target\n",
    "for ref in group1+group3:\n",
    "    for target in group1:\n",
    "        dt=dt_sto6G[dt_sto6G.ref==ref][dt_sto6G.target==target]\n",
    "        dt_sto6G_n=dt_sto6G_n.append(dt)\n",
    "dt_sto6G_n\n",
    "for ref in group2+group3:\n",
    "    for target in group2:\n",
    "        dt=dt_sto6G[dt_sto6G.ref==ref][dt_sto6G.target==target]\n",
    "        dt_sto6G_n=dt_sto6G_n.append(dt)"
   ]
  },
  {
   "cell_type": "code",
   "execution_count": 6,
   "metadata": {},
   "outputs": [
    {
     "name": "stderr",
     "output_type": "stream",
     "text": [
      "/home/giorgiod/.local/lib/python3.6/site-packages/ipykernel_launcher.py:3: UserWarning: Boolean Series key will be reindexed to match DataFrame index.\n",
      "  This is separate from the ipykernel package so we can avoid doing imports until\n",
      "/home/giorgiod/.local/lib/python3.6/site-packages/ipykernel_launcher.py:6: UserWarning: Boolean Series key will be reindexed to match DataFrame index.\n",
      "  \n",
      "/home/giorgiod/.local/lib/python3.6/site-packages/ipykernel_launcher.py:11: UserWarning: Boolean Series key will be reindexed to match DataFrame index.\n",
      "  # This is added back by InteractiveShellApp.init_path()\n"
     ]
    }
   ],
   "source": [
    "dt_sto3G=pd.read_pickle(\"data_sto3G\")\n",
    "dt_sto3G_n=pd.DataFrame({'alchemy':[],'distance':[] ,'basis_set':[] ,'e_alch':[],'e_ccsd':[],'ref':[], 'target':[] ,'abs_err':[] ,'delta_rho': [],'e_at_ref_bs':[] ,'err_alch':[]})\n",
    "dt_sto3G_n=dt_sto6G[dt_sto6G.ref=='HAl'][dt_sto6G.target=='HAl']#,ref,target\n",
    "for ref in group1+group3:\n",
    "    for target in group1:\n",
    "        dt=dt_sto3G[dt_sto3G.ref==ref][dt_sto3G.target==target]\n",
    "        dt_sto3G_n=dt_sto3G_n.append(dt)\n",
    "dt_sto3G_n\n",
    "for ref in group2+group3:\n",
    "    for target in group2:\n",
    "        dt=dt_sto3G[dt_sto3G.ref==ref][dt_sto3G.target==target]\n",
    "        dt_sto3G_n=dt_sto3G_n.append(dt)\n",
    "dt_sto3G_n['tot_err']=dt_sto3G_n.e_alch-dt_sto3G_n.e_ccsd"
   ]
  },
  {
   "cell_type": "code",
   "execution_count": 7,
   "metadata": {},
   "outputs": [],
   "source": [
    "dt_sto6G_n['tot_err']=dt_sto6G_n.e_alch-dt_sto6G_n.e_ccsd"
   ]
  },
  {
   "cell_type": "code",
   "execution_count": 8,
   "metadata": {},
   "outputs": [
    {
     "name": "stderr",
     "output_type": "stream",
     "text": [
      "/home/giorgiod/.local/lib/python3.6/site-packages/ipykernel_launcher.py:1: UserWarning: Boolean Series key will be reindexed to match DataFrame index.\n",
      "  \"\"\"Entry point for launching an IPython kernel.\n"
     ]
    }
   ],
   "source": [
    "dfp=dt_sto6G_n[dt_sto6G_n.distance<2.5][dt_sto6G_n.distance>1.5].copy()\n",
    "p = figure(plot_width=1800, plot_height=1000)\n",
    "alcolor={0:'purple',1:'blue',2:'green',3:'black',4:'red'}\n",
    "def alcol(ao):\n",
    "    return alcolor[ao]\n",
    "Alcol=[alcol(x) for x in list(dfp.alchemy)]\n",
    "dfp['alcol']=Alcol\n",
    "source = ColumnDataSource(dfp)\n",
    "p.scatter('delta_rho', 'err_alch', source=source,color='alcol')\n",
    "hover = HoverTool()\n",
    "hover.tooltips = [(\"Reference\",\"@ref\"), (\"Target\", \"@target\"),(\"Distance\",'@distance'),\\\n",
    "                  ('Alchemy','@alchemy'),('Alchemy error','@err_alch'),('Total error','@tot_err')]\n",
    "hover.mode = 'mouse'\n",
    "p.add_tools(hover)\n",
    "p.xaxis.axis_label = 'delta_Rho'\n",
    "p.yaxis.axis_label = 'Alchemy error'\n",
    "show(p)"
   ]
  },
  {
   "cell_type": "code",
   "execution_count": 8,
   "metadata": {},
   "outputs": [
    {
     "name": "stderr",
     "output_type": "stream",
     "text": [
      "/home/giorgiod/.local/lib/python3.6/site-packages/ipykernel_launcher.py:1: UserWarning: Boolean Series key will be reindexed to match DataFrame index.\n",
      "  \"\"\"Entry point for launching an IPython kernel.\n"
     ]
    }
   ],
   "source": [
    "dfp=dt_sto3G_n[dt_sto3G_n.distance<2.5][dt_sto3G_n.distance>1.5].copy()\n",
    "p = figure(plot_width=1800, plot_height=1000)\n",
    "alcolor={0:'purple',1:'blue',2:'green',3:'black',4:'red'}\n",
    "def alcol(ao):\n",
    "    return alcolor[ao]\n",
    "Alcol=[alcol(x) for x in list(dfp.alchemy)]\n",
    "dfp['alcol']=Alcol\n",
    "source = ColumnDataSource(dfp)\n",
    "p.scatter('delta_rho', 'err_alch', source=source,color='alcol')\n",
    "hover = HoverTool()\n",
    "hover.tooltips = [(\"Reference\",\"@ref\"), (\"Target\", \"@target\"),(\"Distance\",'@distance'),\\\n",
    "                  ('Alchemy','@alchemy'),('Alchemy error','@err_alch'),('Total error','@tot_err')]\n",
    "hover.mode = 'mouse'\n",
    "p.add_tools(hover)\n",
    "p.xaxis.axis_label = 'delta_Rho'\n",
    "p.yaxis.axis_label = 'Alchemy error'\n",
    "show(p)"
   ]
  },
  {
   "cell_type": "code",
   "execution_count": 12,
   "metadata": {},
   "outputs": [
    {
     "name": "stderr",
     "output_type": "stream",
     "text": [
      "/home/giorgiod/.local/lib/python3.6/site-packages/ipykernel_launcher.py:1: UserWarning: Boolean Series key will be reindexed to match DataFrame index.\n",
      "  \"\"\"Entry point for launching an IPython kernel.\n"
     ]
    }
   ],
   "source": [
    "dfp=dt_sto6G_n[dt_sto6G_n.distance<2.5][dt_sto6G_n.distance>1.5].copy()\n",
    "p = figure(plot_width=1800, plot_height=1000)\n",
    "alcolor={0:'purple',1:'blue',2:'green',3:'black',4:'red'}\n",
    "def alcol(ao):\n",
    "    return alcolor[ao]\n",
    "Alcol=[alcol(x) for x in list(dfp.alchemy)]\n",
    "dfp['alcol']=Alcol\n",
    "dfp['err_alch']=np.abs(dfp['err_alch'])\n",
    "source = ColumnDataSource(dfp)\n",
    "p.cross('delta_rho', 'err_alch', source=source,color='alcol',)\n",
    "hover = HoverTool()\n",
    "hover.tooltips = [(\"Reference\",\"@ref\"), (\"Target\", \"@target\"),(\"Distance\",'@distance'),\\\n",
    "                  ('Alchemy','@alchemy'),('Alchemy error','@err_alch'),('Total error','@tot_err')]\n",
    "hover.mode = 'mouse'\n",
    "p.add_tools(hover)\n",
    "p.xaxis.axis_label = 'delta_Rho'\n",
    "p.yaxis.axis_label = 'Alchemy error'\n",
    "show(p)"
   ]
  },
  {
   "cell_type": "markdown",
   "metadata": {},
   "source": [
    "Some  problems using as references NN and LiNa, Expecially at geometries different from the minimum, you can't get accurate alchemy derivatives. <br>\n",
    "This can be adressed as a problem for all atoms at minimal basis set.\n",
    "All in all such basis are optimized for molecule at their stable geometries.\n",
    "As a result, for out of equilibrium geometries Mulliken population response don't really match the qm-mm charges we placed on the nuclei, allready at HF level of theory. "
   ]
  },
  {
   "cell_type": "code",
   "execution_count": 10,
   "metadata": {},
   "outputs": [
    {
     "data": {
      "text/plain": [
       "-168.642259142414"
      ]
     },
     "execution_count": 10,
     "metadata": {},
     "output_type": "execute_result"
    }
   ],
   "source": [
    "#energy(bs,mol,pt,al=0)\n",
    "from pes_bs_utils import energy,energy_hf,parse_energy_cc\n",
    "energy('sto6G','LiNa','3.0',0)"
   ]
  },
  {
   "cell_type": "code",
   "execution_count": 11,
   "metadata": {},
   "outputs": [
    {
     "data": {
      "text/plain": [
       "'\\ncolors=[\\'red\\',\\'blue\\',\\'yellow\\',\\'green\\',\\'brown\\',\\'black\\']\\npts=np.linspace(1.3,3.2,20)\\nfor ao in range(-2,3):\\n    plt.plot(pts,[energy(\\'sto6G\\',\\'LiNa\\',x,ao)for x in pts],color=colors[ao],label=\"alchemy point {}\".format(ao))\\nplt.legend()\\nplt.title(\\'LiNa\\')\\nplt.show()\\nfor ao in range(-2,-1):\\n    plt.plot(pts,[energy(\\'sto6G\\',\\'NN\\',x,ao)for x in pts],color=colors[ao],label=\"alchemy point {}\".format(ao))\\nplt.legend()\\nplt.ylim(-108.6,-108.5)\\nplt.title(\\'NN\\')'"
      ]
     },
     "execution_count": 11,
     "metadata": {},
     "output_type": "execute_result"
    }
   ],
   "source": [
    "\"\"\"\n",
    "colors=['red','blue','yellow','green','brown','black']\n",
    "pts=np.linspace(1.3,3.2,20)\n",
    "for ao in range(-2,3):\n",
    "    plt.plot(pts,[energy('sto6G','LiNa',x,ao)for x in pts],color=colors[ao],label=\"alchemy point {}\".format(ao))\n",
    "plt.legend()\n",
    "plt.title('LiNa')\n",
    "plt.show()\n",
    "for ao in range(-2,-1):\n",
    "    plt.plot(pts,[energy('sto6G','NN',x,ao)for x in pts],color=colors[ao],label=\"alchemy point {}\".format(ao))\n",
    "plt.legend()\n",
    "plt.ylim(-108.6,-108.5)\n",
    "plt.title('NN')\"\"\""
   ]
  },
  {
   "cell_type": "code",
   "execution_count": 14,
   "metadata": {},
   "outputs": [],
   "source": [
    "p = figure(plot_width=1800, plot_height=1000)\n",
    "colors=['red','blue','yellow','green','brown','black']\n",
    "pts=np.linspace(1.3,3.2,20)\n",
    "for ao in range(-2,3):\n",
    "    p.line(pts,[energy_hf('sto6G','NN',x,ao)-energy_hf('sto6G','NN',x,0) for x in pts],color=colors[ao])#,label=\"alchemy point {}\".format(ao))\n",
    "show(p)"
   ]
  },
  {
   "cell_type": "code",
   "execution_count": null,
   "metadata": {},
   "outputs": [],
   "source": [
    "p = figure(plot_width=1800, plot_height=1000)\n",
    "for ao in range(-2,2):\n",
    "    p.line(pts,[energy('aug-cc-pVQZ','NN',x,ao)-energy('aug-cc-pVQZ','NN',x,0) for x in pts],color=colors[ao])#,label=\"alchemy point {}\".format(ao))\n",
    "show(p)"
   ]
  },
  {
   "cell_type": "code",
   "execution_count": null,
   "metadata": {},
   "outputs": [],
   "source": [
    "p = figure(plot_width=1800, plot_height=1000)\n",
    "for ao in range(-2,2):\n",
    "    p.line(pts,[energy('def2-QZVPP','NN',x,ao)-energy('def2-QZVPP','NN',x,0) for x in pts],color=colors[ao])#,label=\"alchemy point {}\".format(ao))\n",
    "show(p)"
   ]
  },
  {
   "cell_type": "code",
   "execution_count": null,
   "metadata": {},
   "outputs": [],
   "source": [
    "def alc_pred(ref_pts,dl):   # alchemical prediction using energies (no density grid error)\n",
    "    dh=0.05\n",
    "    coeff0=np.asarray([0,0,1,0,0])\n",
    "    coeff1=np.asarray([1/12,-2/3,0,2/3,-1/12])\n",
    "    coeff2=np.asarray([-1/12 , 4/3 , -5/2 , 4/3 , -1/12])\n",
    "    coeff3=np.asarray([-1/2 , 1 , 0 , -1 , 1/2])\n",
    "    coeff4=np.asarray([1 ,-4 , 6 ,-4 , 1])    \n",
    "    coeff_exp=coeff0+coeff1*(dl/dh)+coeff2*(dl/dh)**2/2+\\\n",
    "    coeff3*(dl/dh)**3/6+coeff4*(dl/dh)**4/24\n",
    "    return np.sum(ref_pts*coeff_exp)"
   ]
  },
  {
   "cell_type": "code",
   "execution_count": null,
   "metadata": {},
   "outputs": [],
   "source": [
    "#alc_pred(np.asarray([energy('sto6G','NN',3.2,ao)+(7+ao*0.05)**2/2+(7-ao*0.05)**2/2 for ao in [-2,-1,0,1,2]]),2)-9**2/2-5**2/2\n",
    "alc_pred(np.asarray([energy('sto6G','NN',2.2,ao) for ao in [-2,-1,0,1,2]]),0)\n",
    "#-10**2.4/2-4**2.4/2"
   ]
  },
  {
   "cell_type": "code",
   "execution_count": null,
   "metadata": {},
   "outputs": [],
   "source": [
    "fac={'HAl':1,'HeMg':2,'LiNa':3,'BeNe':4,'BF':5,'CO':6,'NN':7}\n",
    "def delta_lambda(mol1,mol2):\n",
    "    return abs(fac[mol1]-fac[mol2])"
   ]
  },
  {
   "cell_type": "code",
   "execution_count": null,
   "metadata": {},
   "outputs": [],
   "source": [
    "dfp=dt_sto6G_n.copy()\n",
    "DeltaLambda=[delta_lambda(dfp.ref[x],dfp.target[x]) for x in dfp.ref.index]\n",
    "dfp['dlambda']=DeltaLambda\n",
    "p = figure(plot_width=1800, plot_height=1000)\n",
    "alcolor={0:'purple',1:'blue',2:'green',3:'yellow',4:'red'}\n",
    "def alcol(ao):\n",
    "    return alcolor[ao]\n",
    "Alcol=[alcol(x) for x in list(dfp.alchemy)]\n",
    "dfp['alcol']=Alcol\n",
    "source = ColumnDataSource(dfp)\n",
    "p.scatter('dlambda', 'err_alch', source=source,color='alcol')\n",
    "hover = HoverTool()\n",
    "hover.tooltips = [(\"Reference\",\"@ref\"), (\"Target\", \"@target\"),(\"Distance\",'@distance'),\\\n",
    "                  ('Alchemy','@alchemy'),('Alchemy error','@err_alch'),('Total error','@tot_err')]\n",
    "hover.mode = 'mouse'\n",
    "p.add_tools(hover)\n",
    "p.xaxis.axis_label = 'delta_Rho'\n",
    "p.yaxis.axis_label = 'Alchemy error'\n",
    "show(p)"
   ]
  }
 ],
 "metadata": {
  "kernelspec": {
   "display_name": "Python 3",
   "language": "python",
   "name": "python3"
  },
  "language_info": {
   "codemirror_mode": {
    "name": "ipython",
    "version": 3
   },
   "file_extension": ".py",
   "mimetype": "text/x-python",
   "name": "python",
   "nbconvert_exporter": "python",
   "pygments_lexer": "ipython3",
   "version": "3.6.8"
  }
 },
 "nbformat": 4,
 "nbformat_minor": 2
}
