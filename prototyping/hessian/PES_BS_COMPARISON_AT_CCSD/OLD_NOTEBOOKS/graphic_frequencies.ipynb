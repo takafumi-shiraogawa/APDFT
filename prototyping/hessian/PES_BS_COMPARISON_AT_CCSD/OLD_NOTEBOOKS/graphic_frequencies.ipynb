{
 "cells": [
  {
   "cell_type": "code",
   "execution_count": 1,
   "metadata": {},
   "outputs": [
    {
     "ename": "ModuleNotFoundError",
     "evalue": "No module named 'pandas'",
     "output_type": "error",
     "traceback": [
      "\u001b[0;31m---------------------------------------------------------------------------\u001b[0m",
      "\u001b[0;31mModuleNotFoundError\u001b[0m                       Traceback (most recent call last)",
      "\u001b[0;32m<ipython-input-1-2fbbbbc56f9f>\u001b[0m in \u001b[0;36m<module>\u001b[0;34m\u001b[0m\n\u001b[0;32m----> 1\u001b[0;31m \u001b[0;32mimport\u001b[0m \u001b[0mpandas\u001b[0m \u001b[0;32mas\u001b[0m \u001b[0mpd\u001b[0m\u001b[0;34m\u001b[0m\u001b[0;34m\u001b[0m\u001b[0m\n\u001b[0m\u001b[1;32m      2\u001b[0m \u001b[0;32mimport\u001b[0m \u001b[0mnumpy\u001b[0m \u001b[0;32mas\u001b[0m \u001b[0mnp\u001b[0m\u001b[0;34m\u001b[0m\u001b[0;34m\u001b[0m\u001b[0m\n\u001b[1;32m      3\u001b[0m \u001b[0;32mimport\u001b[0m \u001b[0mmatplotlib\u001b[0m\u001b[0;34m.\u001b[0m\u001b[0mpyplot\u001b[0m \u001b[0;32mas\u001b[0m \u001b[0mplt\u001b[0m\u001b[0;34m\u001b[0m\u001b[0;34m\u001b[0m\u001b[0m\n\u001b[1;32m      4\u001b[0m \u001b[0;32mfrom\u001b[0m \u001b[0mpes_bs_utils\u001b[0m \u001b[0;32mimport\u001b[0m \u001b[0mparse_energy_cc\u001b[0m\u001b[0;34m,\u001b[0m \u001b[0mparse_energy_hf\u001b[0m\u001b[0;34m,\u001b[0m\u001b[0mparse_energy\u001b[0m\u001b[0;34m\u001b[0m\u001b[0;34m\u001b[0m\u001b[0m\n\u001b[1;32m      5\u001b[0m \u001b[0;32mfrom\u001b[0m \u001b[0mscipy\u001b[0m\u001b[0;34m.\u001b[0m\u001b[0minterpolate\u001b[0m \u001b[0;32mimport\u001b[0m \u001b[0mInterpolatedUnivariateSpline\u001b[0m \u001b[0;32mas\u001b[0m \u001b[0msp\u001b[0m\u001b[0;34m\u001b[0m\u001b[0;34m\u001b[0m\u001b[0m\n",
      "\u001b[0;31mModuleNotFoundError\u001b[0m: No module named 'pandas'"
     ]
    }
   ],
   "source": [
    "import pandas as pd \n",
    "import numpy as np\n",
    "import matplotlib.pyplot as plt\n",
    "from pes_bs_utils import parse_energy_cc, parse_energy_hf,parse_energy\n",
    "from scipy.interpolate import InterpolatedUnivariateSpline as sp\n",
    "df_sa_bsc=pd.read_pickle(\"./df_sa_bsc\")\n",
    "atoms_path=\"/home/giorgiod/MRCC_interface/Atoms/\"  \n",
    "basisSets=['sto-3G', 'sto-6G','3-21G','6-31G*','def2-TZVP','def2-QZVPP','cc-pvtz','aug-cc-pVQZ']\n",
    "atoms=\"H,He,Li,Be,B,C,N,O,F,Ne,Na,Mg,Al\"\n",
    "atoms=atoms.split(',')\n",
    "\n",
    "atoms_mol={'HAl':['H','Al'],'HeMg':['He','Mg'],'LiNa':['Li','Na'],\\\n",
    "           'BeNe':['Be','Ne'],'BF':['B','F'],'CO':['C','O'],'NN':['N','N']}\n",
    "\"\"\"def energy(bs,targ,ref,hf=False,mp2=False):\n",
    "    logfile=atoms_path+'{}/{}/{}_at_{}/run.log'.format(bs,targ,targ,ref)\n",
    "    if hf:\n",
    "            return parse_energy_hf(logfile)\n",
    "    return parse_energy_cc(logfile)\"\"\"\n",
    "def bsc(ref,target):\n",
    "    return float(df_sa_bsc.query(\"basis_set=='def2-QZVPP'&ref==@ref&target==@target\").bsc )\n",
    "    \"\"\"return \\\n",
    "    energy('def2-QZVPP',atoms_mol[target][0],atoms_mol[ref][0])\\\n",
    "    +energy('def2-QZVPP',atoms_mol[target][1],atoms_mol[ref][1]) \\\n",
    "    -energy('def2-QZVPP',atoms_mol[target][0],atoms_mol[target][0])\\\n",
    "    -energy('def2-QZVPP',atoms_mol[target][1],atoms_mol[target][1])\"\"\"\n",
    "bsc('NN','CO')"
   ]
  },
  {
   "cell_type": "code",
   "execution_count": null,
   "metadata": {},
   "outputs": [],
   "source": [
    "dt_qzvpp=pd.read_pickle('data_def2_qzvpp')\n",
    "hfmp2dft=pd.read_pickle('hfmp2dft_def2qzvpp')  #pes at hf, mp2 ,PBE and B3LYP\n",
    "#hfmp2dft.query(\"calc=='PBE' & mol=='CO' \").energy-\n"
   ]
  },
  {
   "cell_type": "code",
   "execution_count": null,
   "metadata": {},
   "outputs": [],
   "source": [
    "\"\"\"path_atoms_dft=\"/home/giorgiod/Desktop/MRCC_interface/DFT_BFCONN/Atoms/{}_{}/run.log\" #.format(atom,{PBE,B3LYP})\n",
    "path_atoms_ccsd=\"/home/giorgiod/Desktop/MRCC_interface/Atoms/def2-QZVPP/{}/{}_at_{}/run.log\" #.format(targ,targ,ref) \n",
    "parse_energy(path_atoms_ccsd.format(\"O\",\"O\",\"C\"),\"ccsd\")\"\"\""
   ]
  },
  {
   "cell_type": "markdown",
   "metadata": {},
   "source": [
    "Now we only consider alchemies from NN to CO :: from CO to NN and BF :: from BF to CO <br>\n",
    "2^nd and 4^th order alchemy VS HF and MP2, true CCSD of the target as a reference.\n",
    "\n"
   ]
  },
  {
   "cell_type": "code",
   "execution_count": null,
   "metadata": {},
   "outputs": [],
   "source": [
    "\"\"\"def atoms_energy(mol,calc,ref=\"ref\"):\n",
    "    a1,a2=atoms_mol[mol][0],atoms_mol[mol][1]\n",
    "    if ref != \"ref\":\n",
    "        r1,r2=atoms_mol[ref][0],atoms_mol[ref][1]\n",
    "    if calc==\"ccsd\" or calc==\"HF\" or calc==\"MP2\":\n",
    "        return parse_energy(path_atoms_ccsd.format(a1,a1,a1),calc)+parse_energy(path_atoms_ccsd.format(a2,a2,a2),calc)\n",
    "    if calc==\"PBE\" or calc==\"B3LYP\":\n",
    "        return parse_energy(path_atoms_dft.format(a1,calc),calc)+parse_energy(path_atoms_dft.format(a2,calc),calc)\n",
    "    if calc==\"alchemy\":\n",
    "        return parse_energy(path_atoms_ccsd.format(a1,a1,r1),\"ccsd\")+parse_energy(path_atoms_ccsd.format(a2,a2,r2),\"ccsd\")\"\"\""
   ]
  },
  {
   "cell_type": "code",
   "execution_count": null,
   "metadata": {},
   "outputs": [],
   "source": [
    "\"\"\"q=[]\n",
    "for mol in ['BF','CO','NN']:\n",
    "    for calc in ['ccsd',\"HF\",'MP2','PBE','B3LYP']:\n",
    "        ea=float(atoms_energy(mol,calc))\n",
    "        q.append({'mol':mol,'calc':calc,\"atoms_energy\":ea})        \n",
    "pd.DataFrame(q).to_pickle(\"data_freq_en_isol_atoms\")\"\"\""
   ]
  },
  {
   "cell_type": "code",
   "execution_count": null,
   "metadata": {},
   "outputs": [],
   "source": [
    "isol_atoms=pd.read_pickle(\"data_freq_en_isol_atoms\")\n",
    "isol_atoms\n",
    "def atoms_energy(mol,calc):\n",
    "    return float(isol_atoms.query(\"mol==@mol & calc==@calc\").atoms_energy)"
   ]
  },
  {
   "cell_type": "code",
   "execution_count": null,
   "metadata": {},
   "outputs": [],
   "source": [
    "# for masses reference  https://physics.nist.gov/cgi-bin/Compositions/stand_alone.pl\n",
    "m_B=10.806\n",
    "m_C=12.0096\n",
    "m_N=14.006\n",
    "m_O=15.999\n",
    "m_F=18.998\n",
    "\n",
    "# https://physics.nist.gov/cgi-bin/cuu/Value?u|search_for=physchem_in! ++ https://physics.nist.gov/cgi-bin/cuu/Value?me  \n",
    "dalton_to_au=  1.660e-27 / 9.109e-31\n",
    "\n",
    "mu_nn=12766.4683422\n",
    "mu_nn=m_N/2 *dalton_to_au\n",
    "mu_co=m_C*m_O/(m_C+m_O)*dalton_to_au\n",
    "mu_bf=m_B*m_F/(m_B+m_F)*dalton_to_au\n",
    "lightspeed=137.035999753\n",
    "planck=6.28318530718\n",
    "centimeter=188972613.392\n",
    "kcal_mol=627.509\n",
    "def to_cm(k,Mu):\n",
    "    return (k/Mu)**0.5*centimeter/planck/lightspeed\n",
    "print(mu_nn,mu_bf,mu_co)"
   ]
  },
  {
   "cell_type": "code",
   "execution_count": null,
   "metadata": {},
   "outputs": [],
   "source": [
    "def sppes(scan):\n",
    "    points=np.linspace(1.3,3.2,20)\n",
    "    target_pts=np.linspace (1.3,3.2,1901) # points 20 in 1.3-3.2 (1.9bohrs)\n",
    "    bspline=sp(points,scan)\n",
    "    return bspline(target_pts)"
   ]
  },
  {
   "cell_type": "code",
   "execution_count": null,
   "metadata": {},
   "outputs": [],
   "source": [
    "#frequencies !!! only for linspace of e-3 bohr  !!!\n",
    "def freq(spline,mol):\n",
    "    red_masses={'NN':mu_nn,'CO':mu_co,'BF':mu_bf}\n",
    "    Mu=red_masses[mol]\n",
    "    min_true=np.argmin(spline)\n",
    "    k_true=(spline[min_true-1]+spline[min_true+1]-2*spline[min_true])*1.e+6\n",
    "    return to_cm(k_true,Mu)"
   ]
  },
  {
   "cell_type": "code",
   "execution_count": null,
   "metadata": {},
   "outputs": [],
   "source": [
    "#This was for seminar _ cancel line for NC\n",
    "\n",
    "def Plot(ax,ref,target):\n",
    "    target_pts=np.linspace (1.3,3.2,1901)\n",
    "    spline_ccsd=sppes(dt_qzvpp.query(\"alchemy==0 &ref==@ref & target==@target\").e_ccsd)-atoms_energy(target,\"ccsd\")\n",
    "    spline_alch2=sppes(dt_qzvpp.query(\"alchemy==2 &ref==@ref & target==@target\").e_alch)-atoms_energy(target,\"ccsd\")-bsc(ref,target)\n",
    "    spline_alch4=sppes(dt_qzvpp.query(\"alchemy==4 &ref==@ref & target==@target\").e_alch)-atoms_energy(target,\"ccsd\")-bsc(ref,target)\n",
    "  #  spline_alch4_NC=sppes(dt_qzvpp.query(\"alchemy==4 &ref==@ref & target==@target\").e_alch)-atoms_energy(target,\"ccsd\")\n",
    "    spline_hf=sppes(hfmp2dft.query(\"calc=='HF' & mol==@target\").energy)-atoms_energy(target,\"HF\")\n",
    "    spline_mp2=sppes(hfmp2dft.query(\"calc=='MP2' & mol==@target\").energy)-atoms_energy(target,\"MP2\")\n",
    "    spline_pbe=sppes(hfmp2dft.query(\"calc=='PBE' & mol==@target\").energy)-atoms_energy(target,\"PBE\")\n",
    "    spline_b3lyp=sppes(hfmp2dft.query(\"calc=='B3LYP' & mol==@target\").energy)-atoms_energy(target,\"B3LYP\")\n",
    "    \n",
    "    ax[0].plot(target_pts,spline_ccsd*kcal_mol,label='CCSD',color='C0',lw=3.)\n",
    "    ax[0].plot(target_pts,spline_alch4*kcal_mol,label='APDFT5',color='C1',lw=3.,ls='-.' )\n",
    "    ax[0].plot(target_pts,spline_mp2*kcal_mol,label=\"MP2\",color='C2',lw=4.,ls=(0, (5, 7, 1, 7)))\n",
    "    ax[0].plot(target_pts,spline_pbe*kcal_mol,label='PBE',color='C3',lw=3.,ls=':')\n",
    "    ax[0].plot(target_pts,spline_b3lyp*kcal_mol,label='B3LYP',color='C4',lw=3.,ls= '--')\n",
    "#   ax[0].plot(target_pts,spline_alch4_NC*kcal_mol,label='Alchemy $4^{th}$ ',color='C5',lw=3.,ls='-.' )\n",
    "# [ '-' | '--' | '-.' | ':' | 'steps' | ...]\n",
    "\n",
    "    minim=min([min(spline_alch4),min(spline_mp2),min(spline_alch4),min(spline_pbe),min(spline_b3lyp)])\n",
    "    ax[0].set(xlim=(1.8,2.6),ylim=(minim*kcal_mol-5, minim*kcal_mol+60 ))\n",
    "\n",
    "    ax[1].bar(0,freq(spline_ccsd,target),color='C0',label='CCSD')\n",
    "    ax[1].bar(1,freq(spline_alch4,target),color='C1',label='APDFT5')\n",
    "    ax[1].bar(2,freq(spline_mp2,target),color='C2',label='MP2')    \n",
    "    ax[1].bar(3,freq(spline_pbe,target),color='C3',label='PBE')    \n",
    "    ax[1].bar(4,freq(spline_b3lyp,target),color='C4',label=\"B3LYP\")    \n",
    "    "
   ]
  },
  {
   "cell_type": "code",
   "execution_count": null,
   "metadata": {},
   "outputs": [],
   "source": [
    "# We can use bsc database need to store atoms energy for ccsd only once \n",
    "# atoms_energy(\"CO\",\"ccsd\")+bsc(\"NN\",\"CO\") = atoms_energy(\"CO\",\"alchemy\",ref=\"NN\")"
   ]
  },
  {
   "cell_type": "code",
   "execution_count": null,
   "metadata": {
    "scrolled": false
   },
   "outputs": [],
   "source": [
    "fig=plt.figure(figsize=(10,15))\n",
    "\n",
    "plt.tick_params(labelcolor='none', top=False, bottom=False, left=False, right=False)\n",
    "plt.axes().set_ylabel(\"$E_{\\mathrm{BD}}$ [kcal/mol]\",fontsize=30,labelpad=55)\n",
    "#plt.axes().set_xlabel(r'Bond length [Bohr]       $\\nu_{\\mathrm{harm}}$ [cm$^{-1}$]',fontsize=25,labelpad=20)\n",
    "plt.axes().set_frame_on(False)\n",
    "\n",
    "\n",
    "subplspec={'width_ratios' :[4,1], 'wspace':0,'hspace':0}\n",
    "axs=fig.subplots(4,2,gridspec_kw=subplspec)\n",
    "\n",
    "\n",
    "for ax in axs.T[:][1]: ax.yaxis.tick_right(),ax.xaxis.set_ticks([])\n",
    "Plot(axs[0],'CO','NN')\n",
    "Plot(axs[1],'NN','CO')\n",
    "Plot(axs[2],'BF','CO')\n",
    "Plot(axs[3],'CO','BF')\n",
    "axs[0][0].xaxis.set_ticks([]),axs[1][0].xaxis.set_ticks([]),axs[2][0].xaxis.set_ticks([])\n",
    "\n",
    "#axs[0][0].yaxis.set_ticks([]),axs[1][0].yaxis.set_ticks([]),axs[2][0].yaxis.set_ticks([])\n",
    "\n",
    "axs[0][1].set(ylim=(2050,2800)),axs[1][1].set(ylim=(2050,2500)),axs[2][1].set(ylim=(2050,2500)),axs[3][1].set(ylim=(1200,1600))\n",
    "\n",
    "for ax in axs:\n",
    "    for axg in ax:\n",
    "        axg.tick_params(labelsize=25)\n",
    "        axg.yaxis.set_ticks(axg.get_yticks()[1:-1])\n",
    "axs[3,0].set_xticks([1.9,2.1,2.3,2.5])\n",
    "axs[3,1].set_xticks([-0.2,0.9,2,3.1,4.2])\n",
    "axs[3,1].set_xticklabels(['CCSD','APDFT5','MP2','PBE','B3LYP'],rotation=90,fontsize=23,ha='center')#fontweight='demi')\n",
    "\n",
    "box_prop=dict(boxstyle='round', facecolor='white', alpha=1.)\n",
    "axs[0][0].text(2.0,-194, r'CO $\\rightarrow$ NN',fontsize=25,bbox=box_prop)\n",
    "axs[1][0].text(2.0,-220, r'NN $\\rightarrow$ CO',fontsize=25,bbox=box_prop)\n",
    "axs[2][0].text(2.0,-220, r'BF $\\rightarrow$ CO',fontsize=25,bbox=box_prop)\n",
    "axs[3][0].text(2.3,-140, r'CO $\\rightarrow$ BF',fontsize=25,bbox=box_prop)\n",
    "\n",
    "axs[3][0].text(2.2,-215,'Bond length [Bohr]',ha='center',fontsize=30)\n",
    "axs[2][1].set_ylabel(r'$\\nu_{\\mathrm{harm}}$ [cm$^{-1}$]',fontsize=30,labelpad=-230,position=[1,1.])\n",
    "#axs[2][1].tick_params(axis='y', which='both', labelleft=False,labelright=True)\n",
    "\n",
    "#axs[0][1].legend(ncol=3,bbox_to_anchor=(0.25,1.21,.8,.2),fontsize=20,markerscale=.05)\n",
    "axs[0][0].legend(ncol=3,fontsize=25,loc='lower left',bbox_to_anchor=(-0.08,1),frameon=False)\n",
    "plt.savefig('freq_graph.pdf',bbox_inches=\"tight\",dpi=300)"
   ]
  },
  {
   "cell_type": "code",
   "execution_count": null,
   "metadata": {},
   "outputs": [],
   "source": [
    "\"\"\"subplspec={'width_ratios' :[4,1], 'wspace':0,'hspace':0}\n",
    "fig,axs=plt.subplots(4,2,figsize=(10,15),gridspec_kw=subplspec)\n",
    "for ax in axs.T[:][1]: ax.yaxis.tick_right()\n",
    "Plot(axs[0],'CO','NN')\n",
    "Plot(axs[1],'BF','NN')\n",
    "Plot(axs[2],'NN','CO')\n",
    "Plot(axs[3],'BF','CO')\n",
    "Plot(axs[4],'CO','BF')\n",
    "Plot(axs[5],'NN','BF')\n",
    "plt.savefig('freq_2.png') \"\"\""
   ]
  },
  {
   "cell_type": "code",
   "execution_count": null,
   "metadata": {},
   "outputs": [],
   "source": [
    "\"\"\"def Plot(ax,ref,target):\n",
    "    target_pts=np.linspace (1.3,3.2,1901)\n",
    "    spline_ccsd=sppes(dt_qzvpp.query(\"alchemy==0 &ref==@ref & target==@target\").e_ccsd )\n",
    "    spline_alch2=sppes(dt_qzvpp.query(\"alchemy==2 &ref==@ref & target==@target\").e_alch )-bsc('NN','CO')\n",
    "    spline_alch4_noc=sppes(dt_qzvpp.query(\"alchemy==4 &ref==@ref & target==@target \").e_alch )\n",
    "    spline_alch4=sppes(dt_qzvpp.query(\"alchemy==4 &ref==@ref & target==@target\").e_alch )-bsc('NN','CO')\n",
    "    spline_hf=sppes(hfmp2dft.query(\"calc=='HF' & mol==@target\").energy)\n",
    "    spline_mp2=sppes(hfmp2dft.query(\"calc=='MP2' & mol==@target\").energy)\n",
    "    spline_pbe=sppes(hfmp2dft.query(\"calc=='PBE' & mol==@target\").energy)\n",
    "    spline_b3lyp=sppes(hfmp2dft.query(\"calc=='B3LYP' & mol==@target\").energy)\n",
    "    \"\"\""
   ]
  },
  {
   "cell_type": "code",
   "execution_count": null,
   "metadata": {},
   "outputs": [],
   "source": [
    "\"\"\"\n",
    "def Plot2(ax,ref,target):\n",
    "    target_pts=np.linspace (1.3,3.2,1901)\n",
    "    spline_ccsd=sppes(dt_qzvpp.query(\"alchemy==0 &ref==@ref & target==@target\").e_ccsd)\n",
    "    spline_alch2=sppes(dt_qzvpp.query(\"alchemy==2 &ref==@ref & target==@target\").e_alch)-bsc(ref,target)\n",
    "    spline_alch4_noc=sppes(dt_qzvpp.query(\"alchemy==4 &ref==@ref & target==@target\").e_alch)\n",
    "    spline_alch4=sppes(dt_qzvpp.query(\"alchemy==4 &ref==@ref & target==@target\").e_alch)-bsc(ref,target)\n",
    "    spline_hf=sppes(hfmp2dft.query(\"calc=='HF' & mol==@target\").energy)\n",
    "    spline_mp2=sppes(hfmp2dft.query(\"calc=='MP2' & mol==@target\").energy)\n",
    "    spline_pbe=sppes(hfmp2dft.query(\"calc=='PBE' & mol==@target\").energy)\n",
    "    spline_b3lyp=sppes(hfmp2dft.query(\"calc=='B3LYP' & mol==@target\").energy)\n",
    "    \n",
    "    ax[0].plot(target_pts,spline_ccsd,label='CCSD',color='C0')\n",
    "    ax[0].plot(target_pts,spline_alch2,label='Alchemy $2^{nd}$ order',color='C1')\n",
    "    ax[0].plot(target_pts,spline_alch4_noc,':',label='Alchemy $4^{nd}$ order no C',color='C2')\n",
    "    ax[0].plot(target_pts,spline_alch4,label='Alchemy $4^{th}$ order',color='C3')\n",
    "    ax[0].plot(target_pts,spline_hf,label=\"HF\",color='C4')\n",
    "    ax[0].plot(target_pts,spline_mp2,label=\"MP2\",color='C5')\n",
    "    ax[0].plot(target_pts,spline_pbe,label='PBE',color='C6')\n",
    "    ax[0].plot(target_pts,spline_b3lyp,label='B3LYP',color='C7')\n",
    "        \n",
    "    ax[0].set(xlim=(1.8,2.6),ylim=(min(spline_b3lyp)-.005, spline_alch4_noc[np.argmin(spline_ccsd)-300]))\n",
    "\n",
    "    ax[1].bar(0,freq(spline_ccsd,target),color='C0',label='CCSD')\n",
    "    ax[1].bar(1,freq(spline_alch2,target),color='C1',label='Alchemy $2^{nd}$ order')\n",
    "    ax[1].bar(2,freq(spline_alch4,target),color='C3',label='Alchemy $4^{th}$ order')\n",
    "    ax[1].bar(3,freq(spline_hf,target),color='C4',label='HF')\n",
    "    ax[1].bar(4,freq(spline_mp2,target),color='C5',label='MP2')    \n",
    "    ax[1].bar(5,freq(spline_pbe,target),color='C6',label='PBE')    \n",
    "    ax[1].bar(6,freq(spline_b3lyp,target),color='C7',label=\"B3LYP\")    \n",
    "\"\"\"    "
   ]
  }
 ],
 "metadata": {
  "kernelspec": {
   "display_name": "Python 3",
   "language": "python",
   "name": "python3"
  }
 },
 "nbformat": 4,
 "nbformat_minor": 2
}
