{
 "cells": [
  {
   "cell_type": "code",
   "execution_count": 1,
   "metadata": {},
   "outputs": [],
   "source": [
    "import pandas as pd\n",
    "import numpy as np\n",
    "import matplotlib.pyplot as plt"
   ]
  },
  {
   "cell_type": "code",
   "execution_count": 2,
   "metadata": {},
   "outputs": [],
   "source": [
    "#importing dataframe for energies \n",
    "df_321G=pd.read_pickle('./df_321G')\n",
    "df_631G=pd.read_pickle('./df_631G')\n",
    "df_sto3G=pd.read_pickle('./df_sto3G')\n",
    "df_sto6G=pd.read_pickle('./df_sto6G')\n",
    "df_ccpvtz=pd.read_pickle('./df_ccpvtz')\n",
    "df_aug=pd.read_pickle('./df_aug')\n",
    "df_def2_tzvp=pd.read_pickle('./df_def2_tzvp')\n",
    "df_def2_qzvpp=pd.read_pickle('./df_def2_qzvpp')"
   ]
  },
  {
   "cell_type": "code",
   "execution_count": 3,
   "metadata": {},
   "outputs": [],
   "source": [
    " ### reading dataframes for delta_rho\n",
    "dfR_sto3G=pd.read_pickle('./dfR_sto3G')\n",
    "dfR_sto6G=pd.read_pickle('./dfR_sto6G')\n",
    "dfR_321G=pd.read_pickle('./dfR_321G')\n",
    "dfR_631G=pd.read_pickle('./dfR_631G')\n",
    "dfR_ccpvtz=pd.read_pickle('./dfR_ccpvtz')\n",
    "dfR_aug=pd.read_pickle('./dfR_aug')\n",
    "dfR_def2_tzvp=pd.read_pickle('./dfR_def2_tzvp')\n",
    "dfR_def2_qzvpp=pd.read_pickle('./dfR_def2_qzvpp')\n"
   ]
  },
  {
   "cell_type": "code",
   "execution_count": 4,
   "metadata": {},
   "outputs": [
    {
     "data": {
      "text/plain": [
       "'\\n#give DECENT names\\nnew_data = df_321G.rename(columns = {\"Alchemy exp.order\": \"alchemy\", \\n                                  \"Atoms distance\":\"distance\", \\n                                  \"Basis Set\": \"basis_set\",\"E.alch\":\"e_alch\",\"E.ccsd\":\"e_ccsd\",\\n                                    \"Reference mol.\":\"ref\",\"Target mol.\":\"target\",\"abs.err.\":\"abs_err\"}) \\n#display(new_data[:10])\\n\\n\\nnew_data = dfR_321G.rename(columns = {  \"Atoms distance\":\"distance\",   \"Reference mol.\":\"ref\",\"Target mol.\":\"target\",\\n                                     \"delta Rho\":\"delta_rho\"}) \\n\\n#for df in [df_sto3G,df_sto6G,df_321G,df_631G,df_ccpvtz,df_aug,df_def2_tzvp,df_def2_qzvpp]\\n#for df in [df_dRho_sto3G,df_dRho_sto6G,df_dRho_321G,df_dRho_631G,df_dRho_ccpvtz,df_dRho_aug,df_dRho_def2_tzvp,df_dRho_def2_qzvpp]\\n\\n'"
      ]
     },
     "execution_count": 4,
     "metadata": {},
     "output_type": "execute_result"
    }
   ],
   "source": [
    "\"\"\"\n",
    "#give DECENT names\n",
    "new_data = df_321G.rename(columns = {\"Alchemy exp.order\": \"alchemy\", \n",
    "                                  \"Atoms distance\":\"distance\", \n",
    "                                  \"Basis Set\": \"basis_set\",\"E.alch\":\"e_alch\",\"E.ccsd\":\"e_ccsd\",\n",
    "                                    \"Reference mol.\":\"ref\",\"Target mol.\":\"target\",\"abs.err.\":\"abs_err\"}) \n",
    "#display(new_data[:10])\n",
    "\n",
    "\n",
    "new_data = dfR_321G.rename(columns = {  \"Atoms distance\":\"distance\",   \"Reference mol.\":\"ref\",\"Target mol.\":\"target\",\n",
    "                                     \"delta Rho\":\"delta_rho\"}) \n",
    "\n",
    "#for df in [df_sto3G,df_sto6G,df_321G,df_631G,df_ccpvtz,df_aug,df_def2_tzvp,df_def2_qzvpp]\n",
    "#for df in [df_dRho_sto3G,df_dRho_sto6G,df_dRho_321G,df_dRho_631G,df_dRho_ccpvtz,df_dRho_aug,df_dRho_def2_tzvp,df_dRho_def2_qzvpp]\n",
    "\n",
    "\"\"\""
   ]
  },
  {
   "cell_type": "code",
   "execution_count": 5,
   "metadata": {},
   "outputs": [
    {
     "ename": "IndentationError",
     "evalue": "unexpected indent (<ipython-input-5-921eed1f4b80>, line 4)",
     "output_type": "error",
     "traceback": [
      "\u001b[0;36m  File \u001b[0;32m\"<ipython-input-5-921eed1f4b80>\"\u001b[0;36m, line \u001b[0;32m4\u001b[0m\n\u001b[0;31m    \"Atoms distance\":\"distance\",\u001b[0m\n\u001b[0m    ^\u001b[0m\n\u001b[0;31mIndentationError\u001b[0m\u001b[0;31m:\u001b[0m unexpected indent\n"
     ]
    }
   ],
   "source": [
    "\"\"\"\n",
    "for df in ['df_sto3G','df_sto6G','df_321G','df_631G','df_cc_pvtz','df_aug_ccpvqz','df_def2_tzvp','df_def2_qzvpp']:\n",
    "    exec(\"\"\"%s=%s.rename(columns = {\"Alchemy exp.order\": \"alchemy\", \n",
    "                                  \"Atoms distance\":\"distance\", \n",
    "                                  \"Basis Set\": \"basis_set\",\"E.alch\":\"e_alch\",\"E.ccsd\":\"e_ccsd\",\n",
    "                                    \"Reference mol.\":\"ref\",\"Target mol.\":\"target\",\"abs.err.\":\"abs_err\"})\"\"\"%(df,df))\n",
    "\n",
    "for df in ['df_sto3G','df_sto6G','df_321G','df_631G','df_cc_pvtz','df_aug_ccpvqz','df_def2_tzvp','df_def2_qzvpp']:\n",
    "    exec(\"%s.to_pickle(\\\"./%s\\\")\"%(df,df))\n",
    "\"\"\""
   ]
  },
  {
   "cell_type": "code",
   "execution_count": null,
   "metadata": {},
   "outputs": [],
   "source": [
    "\"\"\"\n",
    "for dfr in [\"dfR_sto3G\",\"dfR_sto6G\",\"dfR_321G\",\"dfR_631G\",\"dfR_ccpvtz\",\"dfR_aug\",\"dfR_def2_tzvp\",\"dfR_def2_qzvpp\"]:\n",
    "    exec(\"\"\"%s=%s.rename(columns = {  \"Atoms distance\":\"distance\",   \"Reference mol.\":\"ref\",\"Target mol.\":\"target\",\n",
    "                                     \"delta Rho\":\"delta_rho\"}) \"\"\" % (dfr,dfr))\n",
    "for dfr in [\"dfR_sto3G\",\"dfR_sto6G\",\"dfR_321G\",\"dfR_631G\",\"dfR_ccpvtz\",\"dfR_aug\",\"dfR_def2_tzvp\",\"dfR_def2_qzvpp\"]:\n",
    "    exec(\"\"\"%s.to_pickle(\\'./%s\\')\"\"\"%(df,df))\n",
    "                         \"\"\""
   ]
  },
  {
   "cell_type": "code",
   "execution_count": null,
   "metadata": {},
   "outputs": [],
   "source": [
    "\"\"\"data_sto3G=pd.merge(df_sto3G,dfR_sto3G,on=['distance','ref','target'])\n",
    "data_sto6G=pd.merge(df_sto6G,dfR_sto6G,on=['distance','ref','target'])\n",
    "data_321G=pd.merge(df_321G,dfR_321G,on=['distance','ref','target'])\n",
    "data_631G=pd.merge(df_631G,dfR_631G,on=['distance','ref','target'])\n",
    "data_ccpvtz=pd.merge(df_ccpvtz,dfR_ccpvtz,on=['distance','ref','target'])\n",
    "data_aug=pd.merge(df_aug,dfR_aug,on=['distance','ref','target'])\n",
    "data_def2_tzvp=pd.merge(df_def2_tzvp,dfR_def2_tzvp,on=['distance','ref','target'])\n",
    "data_def2_qzvpp=pd.merge(df_def2_qzvpp,dfR_def2_tzvp,on=['distance','ref','target'])\n",
    "\"\"\""
   ]
  },
  {
   "cell_type": "code",
   "execution_count": null,
   "metadata": {},
   "outputs": [],
   "source": [
    "data_def2_tzvp[:4]"
   ]
  },
  {
   "cell_type": "code",
   "execution_count": 2,
   "metadata": {},
   "outputs": [],
   "source": [
    "data_sto3G=pd.read_pickle('./data_sto3G')\n",
    "data_sto6G=pd.read_pickle('./data_sto6G')\n",
    "data_321G=pd.read_pickle('./data_321G')\n",
    "data_631G=pd.read_pickle('./data_631G')\n",
    "data_ccpvtz=pd.read_pickle('./data_ccpvtz')\n",
    "data_aug=pd.read_pickle('./data_aug')\n",
    "data_def2_tzvp=pd.read_pickle('./data_def2_tzvp')\n",
    "data_def2_qzvpp=pd.read_pickle('./data_def2_qzvpp')"
   ]
  },
  {
   "cell_type": "code",
   "execution_count": null,
   "metadata": {},
   "outputs": [],
   "source": [
    "\"\"\"data_sto3G.to_pickle('./data_sto3G')\n",
    "data_sto6G.to_pickle('./data_sto6G')\n",
    "data_321G.to_pickle('./data_321G')\n",
    "data_631G.to_pickle('./data_631G')\n",
    "data_ccpvtz.to_pickle('./data_ccpvtz')\n",
    "data_aug.to_pickle('./data_aug')\n",
    "data_def2_tzvp.to_pickle('./data_def2_tzvp')\n",
    "data_def2_qzvpp.to_pickle('./data_def2_qzvpp')\n",
    "\"\"\""
   ]
  },
  {
   "cell_type": "code",
   "execution_count": null,
   "metadata": {},
   "outputs": [],
   "source": [
    "bse_sto3G=pd.read_pickle('./bse_sto3G')\n",
    "bse_sto6G=pd.read_pickle('./bse_sto6G')\n",
    "bse_321G=pd.read_pickle('./bse_321G')\n",
    "bse_631G=pd.read_pickle('./bse_631G')\n",
    "bse_def2_tzvp=pd.read_pickle('./bse_def2_tzvp')\n",
    "bse_def2_qzvpp=pd.read_pickle('./bse_def2_qzvpp')\n",
    "bse_ccpvtz=pd.read_pickle('./bse_ccpvtz')\n",
    "bse_aug=pd.read_pickle('./bse_aug')"
   ]
  },
  {
   "cell_type": "code",
   "execution_count": null,
   "metadata": {},
   "outputs": [],
   "source": [
    "\"\"\"data_sto3G=pd.merge(data_sto3G,bse_sto3G,on=['distance','ref','target'])\n",
    "data_sto6G=pd.merge(data_sto6G,bse_sto6G,on=['distance','ref','target'])\n",
    "data_321G=pd.merge(data_321G,bse_321G,on=['distance','ref','target'])\n",
    "data_631G=pd.merge(data_631G,bse_631G,on=['distance','ref','target'])\n",
    "data_ccpvtz=pd.merge(data_ccpvtz,bse_ccpvtz,on=['distance','ref','target'])\n",
    "data_aug=pd.merge(data_aug,bse_aug,on=['distance','ref','target'])\n",
    "data_def2_tzvp=pd.merge(data_def2_tzvp,bse_def2_tzvp,on=['distance','ref','target'])\n",
    "data_def2_qzvpp=pd.merge(data_def2_qzvpp,bse_def2_qzvpp,on=['distance','ref','target'])\n",
    "\"\"\""
   ]
  },
  {
   "cell_type": "code",
   "execution_count": 22,
   "metadata": {},
   "outputs": [
    {
     "name": "stderr",
     "output_type": "stream",
     "text": [
      "/home/giorgiod/.local/lib/python3.6/site-packages/ipykernel_launcher.py:1: UserWarning: Boolean Series key will be reindexed to match DataFrame index.\n",
      "  \"\"\"Entry point for launching an IPython kernel.\n",
      "/home/giorgiod/.local/lib/python3.6/site-packages/ipykernel_launcher.py:2: UserWarning: Boolean Series key will be reindexed to match DataFrame index.\n",
      "  \n",
      "/home/giorgiod/.local/lib/python3.6/site-packages/ipykernel_launcher.py:3: UserWarning: Boolean Series key will be reindexed to match DataFrame index.\n",
      "  This is separate from the ipykernel package so we can avoid doing imports until\n",
      "/home/giorgiod/.local/lib/python3.6/site-packages/ipykernel_launcher.py:4: UserWarning: Boolean Series key will be reindexed to match DataFrame index.\n",
      "  after removing the cwd from sys.path.\n"
     ]
    }
   ],
   "source": [
    "sto3g_err=data_sto3G[data_sto3G.ref=='CO'][data_sto3G.target=='BF'][data_sto3G.alchemy==4].err_alch\n",
    "sto6g_err=data_sto6G[data_sto6G.ref=='CO'][data_sto6G.target=='BF'][data_sto6G.alchemy==4].err_alch\n",
    "G631_err=data_631G[data_sto3G.ref=='CO'][data_sto3G.target=='BF'][data_sto3G.alchemy==4].err_alch\n",
    "G321_err=data_321G[data_sto3G.ref=='CO'][data_sto3G.target=='BF'][data_sto3G.alchemy==4].err_alch"
   ]
  },
  {
   "cell_type": "code",
   "execution_count": 17,
   "metadata": {},
   "outputs": [
    {
     "name": "stderr",
     "output_type": "stream",
     "text": [
      "/home/giorgiod/.local/lib/python3.6/site-packages/ipykernel_launcher.py:1: UserWarning: Boolean Series key will be reindexed to match DataFrame index.\n",
      "  \"\"\"Entry point for launching an IPython kernel.\n",
      "/home/giorgiod/.local/lib/python3.6/site-packages/ipykernel_launcher.py:2: UserWarning: Boolean Series key will be reindexed to match DataFrame index.\n",
      "  \n"
     ]
    }
   ],
   "source": [
    "dist=data_def2_qzvpp[data_def2_qzvpp.ref=='CO'][data_def2_qzvpp.target=='BF'][data_def2_qzvpp.alchemy==4].distance\n",
    "def2_err=data_def2_qzvpp[data_def2_qzvpp.ref=='CO'][data_def2_qzvpp.target=='BF'][data_def2_qzvpp.alchemy==4].err_alch"
   ]
  },
  {
   "cell_type": "code",
   "execution_count": 26,
   "metadata": {},
   "outputs": [
    {
     "data": {
      "image/png": "[encoded data removed]",
      "text/plain": [
       "<Figure size 432x288 with 1 Axes>"
      ]
     },
     "metadata": {
      "needs_background": "light"
     },
     "output_type": "display_data"
    }
   ],
   "source": [
    "plt.plot(dist,def2_err,label='def2',color='C0')\n",
    "plt.plot(dist,abs(sto3g_err),label='sto3G',color='C1')\n",
    "plt.plot(dist,abs(sto6g_err),label='sto6G',color='C2')\n",
    "plt.plot(dist,abs(G321_err),label='321G',color='C3')\n",
    "plt.plot(dist,abs(G631_err),label='631G',color='C4')\n",
    "plt.legend()\n",
    "plt.axvline(2.5)\n",
    "plt.title(\"Error in alchemy at 4th order from CO to BF\")\n",
    "plt.savefig(\"co_bf_error_distance.png\")"
   ]
  },
  {
   "cell_type": "code",
   "execution_count": null,
   "metadata": {},
   "outputs": [],
   "source": [
    "\"\"\"data_sto3G['err_alch']=data_sto3G.e_alch-data_sto3G.e_at_ref_bs\n",
    "data_sto6G['err_alch']=data_sto6G.e_alch-data_sto6G.e_at_ref_bs\n",
    "data_321G['err_alch']=data_321G.e_alch-data_321G.e_at_ref_bs\n",
    "data_631G['err_alch']=data_631G.e_alch-data_631G.e_at_ref_bs\n",
    "data_ccpvtz['err_alch']=data_ccpvtz.e_alch-data_ccpvtz.e_at_ref_bs\n",
    "data_aug['err_alch']=data_aug.e_alch-data_aug.e_at_ref_bs\n",
    "data_def2_tzvp['err_alch']=data_def2_tzvp.e_alch-data_def2_tzvp.e_at_ref_bs\n",
    "data_def2_qzvpp['err_alch']=data_def2_qzvpp.e_alch-data_def2_qzvpp.e_at_ref_bs\n",
    "\"\"\""
   ]
  },
  {
   "cell_type": "code",
   "execution_count": null,
   "metadata": {},
   "outputs": [],
   "source": [
    "data_def2_qzvpp[:20]"
   ]
  },
  {
   "cell_type": "code",
   "execution_count": 3,
   "metadata": {},
   "outputs": [],
   "source": [
    "from bokeh.io import output_notebook, show \n",
    "from bokeh.plotting import figure\n",
    "import ipyvolume.bokeh\n",
    "from bokeh.models import HoverTool,ColumnDataSource"
   ]
  },
  {
   "cell_type": "code",
   "execution_count": 4,
   "metadata": {},
   "outputs": [],
   "source": [
    "#dataFrame to be plotted\n",
    "dfp=data_def2_qzvpp.copy()\n",
    "\n",
    "# error only due to alchemy\n",
    "\n",
    "p = figure(plot_width=1800, plot_height=1000)\n",
    "alcolor={0:'purple',1:'blue',2:'green',3:'yellow',4:'red'}\n",
    "def alcol(ao):\n",
    "    return alcolor[ao]\n",
    "Alcol=[alcol(x) for x in list(dfp.alchemy)]\n",
    "dfp['alcol']=Alcol\n",
    "dfp['err_alch']=np.abs(dfp['err_alch'])\n",
    "source = ColumnDataSource(dfp)\n",
    "p.scatter('delta_rho', 'err_alch', source=source,color='alcol')\n",
    "hover = HoverTool()\n",
    "hover.tooltips = [(\"Reference\",\"@ref\"), (\"Target\", \"@target\"),(\"Distance\",'@distance'),\\\n",
    "                  ('Alchemy','@alchemy'),('Error alchemy','@err_alch')]\n",
    "hover.mode = 'mouse'\n",
    "p.add_tools(hover)\n",
    "p.xaxis.axis_label = 'delta_Rho'\n",
    "p.yaxis.axis_label = 'Error alchemy'\n",
    "show(p)\n",
    "\n",
    "# Total error \n",
    "\n",
    "p = figure(plot_width=1800, plot_height=1000)\n",
    "alcolor={0:'purple',1:'blue',2:'green',3:'yellow',4:'red'}\n",
    "def alcol(ao):\n",
    "    return alcolor[ao]\n",
    "Alcol=[alcol(x) for x in list(dfp.alchemy)]\n",
    "dfp['alcol']=Alcol\n",
    "source = ColumnDataSource(dfp)\n",
    "p.scatter('delta_rho', 'abs_err', source=source,color='alcol')\n",
    "hover = HoverTool()\n",
    "hover.tooltips = [(\"Reference\",\"@ref\"), (\"Target\", \"@target\"),(\"Distance\",'@distance'),\\\n",
    "                  ('Alchemy','@alchemy'),('Total error','@abs_err')]\n",
    "hover.mode = 'mouse'\n",
    "p.add_tools(hover)\n",
    "p.xaxis.axis_label = 'delta_Rho'\n",
    "p.yaxis.axis_label = 'Total error'\n",
    "show(p)\n"
   ]
  },
  {
   "cell_type": "code",
   "execution_count": 5,
   "metadata": {},
   "outputs": [
    {
     "name": "stderr",
     "output_type": "stream",
     "text": [
      "/home/giorgiod/.local/lib/python3.6/site-packages/ipykernel_launcher.py:1: UserWarning: Boolean Series key will be reindexed to match DataFrame index.\n",
      "  \"\"\"Entry point for launching an IPython kernel.\n"
     ]
    },
    {
     "data": {
      "text/html": [
       "<div>\n",
       "<style scoped>\n",
       "    .dataframe tbody tr th:only-of-type {\n",
       "        vertical-align: middle;\n",
       "    }\n",
       "\n",
       "    .dataframe tbody tr th {\n",
       "        vertical-align: top;\n",
       "    }\n",
       "\n",
       "    .dataframe thead th {\n",
       "        text-align: right;\n",
       "    }\n",
       "</style>\n",
       "<table border=\"1\" class=\"dataframe\">\n",
       "  <thead>\n",
       "    <tr style=\"text-align: right;\">\n",
       "      <th></th>\n",
       "      <th>alchemy</th>\n",
       "      <th>distance</th>\n",
       "      <th>basis_set</th>\n",
       "      <th>e_alch</th>\n",
       "      <th>e_ccsd</th>\n",
       "      <th>ref</th>\n",
       "      <th>target</th>\n",
       "      <th>abs_err</th>\n",
       "      <th>delta_rho</th>\n",
       "      <th>e_at_ref_bs</th>\n",
       "      <th>err_alch</th>\n",
       "    </tr>\n",
       "  </thead>\n",
       "  <tbody>\n",
       "    <tr>\n",
       "      <th>3490</th>\n",
       "      <td>0</td>\n",
       "      <td>3.1</td>\n",
       "      <td>def2-QZVPP</td>\n",
       "      <td>-120.962803</td>\n",
       "      <td>-124.464163</td>\n",
       "      <td>CO</td>\n",
       "      <td>BF</td>\n",
       "      <td>3.501360</td>\n",
       "      <td>3.181244</td>\n",
       "      <td>-124.447599</td>\n",
       "      <td>3.484796</td>\n",
       "    </tr>\n",
       "    <tr>\n",
       "      <th>3491</th>\n",
       "      <td>1</td>\n",
       "      <td>3.1</td>\n",
       "      <td>def2-QZVPP</td>\n",
       "      <td>-124.487761</td>\n",
       "      <td>-124.464163</td>\n",
       "      <td>CO</td>\n",
       "      <td>BF</td>\n",
       "      <td>0.023598</td>\n",
       "      <td>3.181244</td>\n",
       "      <td>-124.447599</td>\n",
       "      <td>-0.040162</td>\n",
       "    </tr>\n",
       "    <tr>\n",
       "      <th>3492</th>\n",
       "      <td>2</td>\n",
       "      <td>3.1</td>\n",
       "      <td>def2-QZVPP</td>\n",
       "      <td>-124.464155</td>\n",
       "      <td>-124.464163</td>\n",
       "      <td>CO</td>\n",
       "      <td>BF</td>\n",
       "      <td>0.000009</td>\n",
       "      <td>3.181244</td>\n",
       "      <td>-124.447599</td>\n",
       "      <td>-0.016555</td>\n",
       "    </tr>\n",
       "    <tr>\n",
       "      <th>3493</th>\n",
       "      <td>3</td>\n",
       "      <td>3.1</td>\n",
       "      <td>def2-QZVPP</td>\n",
       "      <td>-124.448751</td>\n",
       "      <td>-124.464163</td>\n",
       "      <td>CO</td>\n",
       "      <td>BF</td>\n",
       "      <td>0.015412</td>\n",
       "      <td>3.181244</td>\n",
       "      <td>-124.447599</td>\n",
       "      <td>-0.001152</td>\n",
       "    </tr>\n",
       "    <tr>\n",
       "      <th>3494</th>\n",
       "      <td>4</td>\n",
       "      <td>3.1</td>\n",
       "      <td>def2-QZVPP</td>\n",
       "      <td>-124.448015</td>\n",
       "      <td>-124.464163</td>\n",
       "      <td>CO</td>\n",
       "      <td>BF</td>\n",
       "      <td>0.016148</td>\n",
       "      <td>3.181244</td>\n",
       "      <td>-124.447599</td>\n",
       "      <td>-0.000416</td>\n",
       "    </tr>\n",
       "  </tbody>\n",
       "</table>\n",
       "</div>"
      ],
      "text/plain": [
       "      alchemy  distance   basis_set      e_alch      e_ccsd ref target  \\\n",
       "3490        0       3.1  def2-QZVPP -120.962803 -124.464163  CO     BF   \n",
       "3491        1       3.1  def2-QZVPP -124.487761 -124.464163  CO     BF   \n",
       "3492        2       3.1  def2-QZVPP -124.464155 -124.464163  CO     BF   \n",
       "3493        3       3.1  def2-QZVPP -124.448751 -124.464163  CO     BF   \n",
       "3494        4       3.1  def2-QZVPP -124.448015 -124.464163  CO     BF   \n",
       "\n",
       "       abs_err  delta_rho  e_at_ref_bs  err_alch  \n",
       "3490  3.501360   3.181244  -124.447599  3.484796  \n",
       "3491  0.023598   3.181244  -124.447599 -0.040162  \n",
       "3492  0.000009   3.181244  -124.447599 -0.016555  \n",
       "3493  0.015412   3.181244  -124.447599 -0.001152  \n",
       "3494  0.016148   3.181244  -124.447599 -0.000416  "
      ]
     },
     "execution_count": 5,
     "metadata": {},
     "output_type": "execute_result"
    }
   ],
   "source": [
    "data_def2_qzvpp[data_def2_qzvpp.ref=='CO'][data_def2_qzvpp.target=='BF'][data_def2_qzvpp.distance==3.1]"
   ]
  },
  {
   "cell_type": "code",
   "execution_count": 7,
   "metadata": {},
   "outputs": [
    {
     "name": "stderr",
     "output_type": "stream",
     "text": [
      "/home/giorgiod/.local/lib/python3.6/site-packages/ipykernel_launcher.py:1: UserWarning: Boolean Series key will be reindexed to match DataFrame index.\n",
      "  \"\"\"Entry point for launching an IPython kernel.\n"
     ]
    },
    {
     "data": {
      "text/html": [
       "<div>\n",
       "<style scoped>\n",
       "    .dataframe tbody tr th:only-of-type {\n",
       "        vertical-align: middle;\n",
       "    }\n",
       "\n",
       "    .dataframe tbody tr th {\n",
       "        vertical-align: top;\n",
       "    }\n",
       "\n",
       "    .dataframe thead th {\n",
       "        text-align: right;\n",
       "    }\n",
       "</style>\n",
       "<table border=\"1\" class=\"dataframe\">\n",
       "  <thead>\n",
       "    <tr style=\"text-align: right;\">\n",
       "      <th></th>\n",
       "      <th>alchemy</th>\n",
       "      <th>distance</th>\n",
       "      <th>basis_set</th>\n",
       "      <th>e_alch</th>\n",
       "      <th>e_ccsd</th>\n",
       "      <th>ref</th>\n",
       "      <th>target</th>\n",
       "      <th>abs_err</th>\n",
       "      <th>delta_rho</th>\n",
       "      <th>e_at_ref_bs</th>\n",
       "      <th>err_alch</th>\n",
       "    </tr>\n",
       "  </thead>\n",
       "  <tbody>\n",
       "    <tr>\n",
       "      <th>3490</th>\n",
       "      <td>0</td>\n",
       "      <td>3.1</td>\n",
       "      <td>631G*</td>\n",
       "      <td>-120.771536</td>\n",
       "      <td>-124.288642</td>\n",
       "      <td>CO</td>\n",
       "      <td>BF</td>\n",
       "      <td>3.517106</td>\n",
       "      <td>3.201346</td>\n",
       "      <td>-122.379792</td>\n",
       "      <td>1.608256</td>\n",
       "    </tr>\n",
       "    <tr>\n",
       "      <th>3491</th>\n",
       "      <td>1</td>\n",
       "      <td>3.1</td>\n",
       "      <td>631G*</td>\n",
       "      <td>-122.356940</td>\n",
       "      <td>-124.288642</td>\n",
       "      <td>CO</td>\n",
       "      <td>BF</td>\n",
       "      <td>1.931702</td>\n",
       "      <td>3.201346</td>\n",
       "      <td>-122.379792</td>\n",
       "      <td>0.022851</td>\n",
       "    </tr>\n",
       "    <tr>\n",
       "      <th>3492</th>\n",
       "      <td>2</td>\n",
       "      <td>3.1</td>\n",
       "      <td>631G*</td>\n",
       "      <td>-122.344616</td>\n",
       "      <td>-124.288642</td>\n",
       "      <td>CO</td>\n",
       "      <td>BF</td>\n",
       "      <td>1.944026</td>\n",
       "      <td>3.201346</td>\n",
       "      <td>-122.379792</td>\n",
       "      <td>0.035176</td>\n",
       "    </tr>\n",
       "    <tr>\n",
       "      <th>3493</th>\n",
       "      <td>3</td>\n",
       "      <td>3.1</td>\n",
       "      <td>631G*</td>\n",
       "      <td>-122.373764</td>\n",
       "      <td>-124.288642</td>\n",
       "      <td>CO</td>\n",
       "      <td>BF</td>\n",
       "      <td>1.914878</td>\n",
       "      <td>3.201346</td>\n",
       "      <td>-122.379792</td>\n",
       "      <td>0.006028</td>\n",
       "    </tr>\n",
       "    <tr>\n",
       "      <th>3494</th>\n",
       "      <td>4</td>\n",
       "      <td>3.1</td>\n",
       "      <td>631G*</td>\n",
       "      <td>-122.380394</td>\n",
       "      <td>-124.288642</td>\n",
       "      <td>CO</td>\n",
       "      <td>BF</td>\n",
       "      <td>1.908248</td>\n",
       "      <td>3.201346</td>\n",
       "      <td>-122.379792</td>\n",
       "      <td>-0.000603</td>\n",
       "    </tr>\n",
       "  </tbody>\n",
       "</table>\n",
       "</div>"
      ],
      "text/plain": [
       "      alchemy  distance basis_set      e_alch      e_ccsd ref target  \\\n",
       "3490        0       3.1     631G* -120.771536 -124.288642  CO     BF   \n",
       "3491        1       3.1     631G* -122.356940 -124.288642  CO     BF   \n",
       "3492        2       3.1     631G* -122.344616 -124.288642  CO     BF   \n",
       "3493        3       3.1     631G* -122.373764 -124.288642  CO     BF   \n",
       "3494        4       3.1     631G* -122.380394 -124.288642  CO     BF   \n",
       "\n",
       "       abs_err  delta_rho  e_at_ref_bs  err_alch  \n",
       "3490  3.517106   3.201346  -122.379792  1.608256  \n",
       "3491  1.931702   3.201346  -122.379792  0.022851  \n",
       "3492  1.944026   3.201346  -122.379792  0.035176  \n",
       "3493  1.914878   3.201346  -122.379792  0.006028  \n",
       "3494  1.908248   3.201346  -122.379792 -0.000603  "
      ]
     },
     "execution_count": 7,
     "metadata": {},
     "output_type": "execute_result"
    }
   ],
   "source": [
    "data_631G[data_def2_qzvpp.ref=='CO'][data_def2_qzvpp.target=='BF'][data_def2_qzvpp.distance==3.1]"
   ]
  }
 ],
 "metadata": {
  "kernelspec": {
   "display_name": "Python 3",
   "language": "python",
   "name": "python3"
  },
  "language_info": {
   "codemirror_mode": {
    "name": "ipython",
    "version": 3
   },
   "file_extension": ".py",
   "mimetype": "text/x-python",
   "name": "python",
   "nbconvert_exporter": "python",
   "pygments_lexer": "ipython3",
   "version": "3.7.4"
  }
 },
 "nbformat": 4,
 "nbformat_minor": 2
}
