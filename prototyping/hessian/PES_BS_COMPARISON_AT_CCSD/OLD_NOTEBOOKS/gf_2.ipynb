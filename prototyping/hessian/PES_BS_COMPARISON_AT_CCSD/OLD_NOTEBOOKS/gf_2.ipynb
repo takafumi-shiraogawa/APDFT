{
 "cells": [
  {
   "cell_type": "code",
   "execution_count": 1,
   "metadata": {},
   "outputs": [
    {
     "data": {
      "text/plain": [
       "0.01234583452800564"
      ]
     },
     "execution_count": 1,
     "metadata": {},
     "output_type": "execute_result"
    }
   ],
   "source": [
    "import pandas as pd \n",
    "import numpy as np\n",
    "import matplotlib.pyplot as plt\n",
    "from pes_bs_utils import parse_energy_cc, parse_energy_hf\n",
    "from scipy.interpolate import InterpolatedUnivariateSpline as sp\n",
    "\n",
    "atoms_path=\"/home/giorgiod/MRCC_interface/Atoms/\"\n",
    "basisSets=['sto-3G', 'sto-6G','3-21G','6-31G*','def2-TZVP','def2-QZVPP','cc-pvtz','aug-cc-pVQZ']\n",
    "atoms=\"H,He,Li,Be,B,C,N,O,F,Ne,Na,Mg,Al\"\n",
    "atoms=atoms.split(',')\n",
    "\n",
    "atoms_mol={'HAl':['H','Al'],'HeMg':['He','Mg'],'LiNa':['Li','Na'],\\\n",
    "           'BeNe':['Be','Ne'],'BF':['B','F'],'CO':['C','O'],'NN':['N','N']}\n",
    "def energy(bs,targ,ref,hf=False):\n",
    "    logfile=atoms_path+'{}/{}/{}_at_{}/run.log'.format(bs,targ,targ,ref)\n",
    "    if hf:\n",
    "            return parse_energy_hf(logfile)\n",
    "    return parse_energy_cc(logfile)\n",
    "def bsc(ref,target):\n",
    "    return \\\n",
    "    energy('def2-QZVPP',atoms_mol[target][0],atoms_mol[ref][0])\\\n",
    "    +energy('def2-QZVPP',atoms_mol[target][1],atoms_mol[ref][1]) \\\n",
    "    -energy('def2-QZVPP',atoms_mol[target][0],atoms_mol[target][0])\\\n",
    "    -energy('def2-QZVPP',atoms_mol[target][1],atoms_mol[target][1])\n",
    "bsc('NN','CO')"
   ]
  },
  {
   "cell_type": "code",
   "execution_count": 17,
   "metadata": {},
   "outputs": [
    {
     "data": {
      "text/html": [
       "<div>\n",
       "<style scoped>\n",
       "    .dataframe tbody tr th:only-of-type {\n",
       "        vertical-align: middle;\n",
       "    }\n",
       "\n",
       "    .dataframe tbody tr th {\n",
       "        vertical-align: top;\n",
       "    }\n",
       "\n",
       "    .dataframe thead th {\n",
       "        text-align: right;\n",
       "    }\n",
       "</style>\n",
       "<table border=\"1\" class=\"dataframe\">\n",
       "  <thead>\n",
       "    <tr style=\"text-align: right;\">\n",
       "      <th></th>\n",
       "      <th>calc</th>\n",
       "      <th>distance</th>\n",
       "      <th>energy</th>\n",
       "      <th>mol</th>\n",
       "    </tr>\n",
       "  </thead>\n",
       "  <tbody>\n",
       "    <tr>\n",
       "      <th>0</th>\n",
       "      <td>PBE</td>\n",
       "      <td>1.3</td>\n",
       "      <td>-123.006279</td>\n",
       "      <td>BF</td>\n",
       "    </tr>\n",
       "    <tr>\n",
       "      <th>1</th>\n",
       "      <td>PBE</td>\n",
       "      <td>1.4</td>\n",
       "      <td>-123.494394</td>\n",
       "      <td>BF</td>\n",
       "    </tr>\n",
       "    <tr>\n",
       "      <th>2</th>\n",
       "      <td>PBE</td>\n",
       "      <td>1.5</td>\n",
       "      <td>-123.842846</td>\n",
       "      <td>BF</td>\n",
       "    </tr>\n",
       "    <tr>\n",
       "      <th>3</th>\n",
       "      <td>PBE</td>\n",
       "      <td>1.6</td>\n",
       "      <td>-124.089114</td>\n",
       "      <td>BF</td>\n",
       "    </tr>\n",
       "    <tr>\n",
       "      <th>4</th>\n",
       "      <td>PBE</td>\n",
       "      <td>1.7</td>\n",
       "      <td>-124.260711</td>\n",
       "      <td>BF</td>\n",
       "    </tr>\n",
       "    <tr>\n",
       "      <th>5</th>\n",
       "      <td>PBE</td>\n",
       "      <td>1.8</td>\n",
       "      <td>-124.379879</td>\n",
       "      <td>BF</td>\n",
       "    </tr>\n",
       "    <tr>\n",
       "      <th>6</th>\n",
       "      <td>PBE</td>\n",
       "      <td>1.9</td>\n",
       "      <td>-124.461850</td>\n",
       "      <td>BF</td>\n",
       "    </tr>\n",
       "    <tr>\n",
       "      <th>7</th>\n",
       "      <td>PBE</td>\n",
       "      <td>2.0</td>\n",
       "      <td>-124.516687</td>\n",
       "      <td>BF</td>\n",
       "    </tr>\n",
       "    <tr>\n",
       "      <th>8</th>\n",
       "      <td>PBE</td>\n",
       "      <td>2.1</td>\n",
       "      <td>-124.551409</td>\n",
       "      <td>BF</td>\n",
       "    </tr>\n",
       "    <tr>\n",
       "      <th>9</th>\n",
       "      <td>PBE</td>\n",
       "      <td>2.2</td>\n",
       "      <td>-124.571673</td>\n",
       "      <td>BF</td>\n",
       "    </tr>\n",
       "  </tbody>\n",
       "</table>\n",
       "</div>"
      ],
      "text/plain": [
       "  calc  distance      energy mol\n",
       "0  PBE       1.3 -123.006279  BF\n",
       "1  PBE       1.4 -123.494394  BF\n",
       "2  PBE       1.5 -123.842846  BF\n",
       "3  PBE       1.6 -124.089114  BF\n",
       "4  PBE       1.7 -124.260711  BF\n",
       "5  PBE       1.8 -124.379879  BF\n",
       "6  PBE       1.9 -124.461850  BF\n",
       "7  PBE       2.0 -124.516687  BF\n",
       "8  PBE       2.1 -124.551409  BF\n",
       "9  PBE       2.2 -124.571673  BF"
      ]
     },
     "execution_count": 17,
     "metadata": {},
     "output_type": "execute_result"
    }
   ],
   "source": [
    "dt_qzvpp=pd.read_pickle('data_def2_qzvpp')\n",
    "hfmp2dft=pd.read_pickle('hfmp2dft_def2qzvpp')  #pes at hf, mp2 ,PBE and B3LYP\n",
    "hfmp2dft[:10]"
   ]
  },
  {
   "cell_type": "markdown",
   "metadata": {},
   "source": [
    "Now we only consider alchemies from NN to CO :: from CO to NN and BF :: from BF to CO <br>\n",
    "2^nd and 4^th order alchemy VS HF and MP2, true CCSD of the target as a reference.\n",
    "\n"
   ]
  },
  {
   "cell_type": "code",
   "execution_count": 3,
   "metadata": {},
   "outputs": [
    {
     "name": "stdout",
     "output_type": "stream",
     "text": [
      "12762.081457898783 12552.657457934376 12501.650854791682\n"
     ]
    }
   ],
   "source": [
    "# for masses reference  https://physics.nist.gov/cgi-bin/Compositions/stand_alone.pl\n",
    "m_B=10.806\n",
    "m_C=12.0096\n",
    "m_N=14.006\n",
    "m_O=15.999\n",
    "m_F=18.998\n",
    "\n",
    "# https://physics.nist.gov/cgi-bin/cuu/Value?u|search_for=physchem_in! ++ https://physics.nist.gov/cgi-bin/cuu/Value?me  \n",
    "dalton_to_au=  1.660e-27 / 9.109e-31\n",
    "\n",
    "\n",
    "mu_nn=12766.4683422\n",
    "mu_nn=m_N/2 *dalton_to_au\n",
    "mu_co=m_C*m_O/(m_C+m_O)*dalton_to_au\n",
    "mu_bf=m_B*m_F/(m_B+m_F)*dalton_to_au\n",
    "lightspeed=137.035999753\n",
    "planck=6.28318530718\n",
    "centimeter=188972613.392\n",
    "def to_cm(k,Mu):\n",
    "    return (k/Mu)**0.5*centimeter/planck/lightspeed\n",
    "print(mu_nn,mu_bf,mu_co)"
   ]
  },
  {
   "cell_type": "code",
   "execution_count": 4,
   "metadata": {},
   "outputs": [],
   "source": [
    "def sppes(scan):\n",
    "    points=np.linspace(1.3,3.2,20)\n",
    "    target_pts=np.linspace (1.3,3.2,1901) # points 20 in 1.3-3.2 (1.9bohrs)\n",
    "    bspline=sp(points,scan)\n",
    "    return bspline(target_pts)"
   ]
  },
  {
   "cell_type": "code",
   "execution_count": 22,
   "metadata": {},
   "outputs": [],
   "source": [
    "def Plot(ax,ref,target):\n",
    "    target_pts=np.linspace (1.3,3.2,1901)\n",
    "    spline_true=sppes(dt_qzvpp.query(\"alchemy==0 &ref==@ref & target==@target\").e_ccsd )\n",
    "    spline_alch2=sppes(dt_qzvpp.query(\"alchemy==2 &ref==@ref & target==@target\").e_alch )-bsc('NN','CO')\n",
    "    spline_alch2_noc=sppes(dt_qzvpp.query(\"alchemy==2 &ref==@ref & target==@target\").e_alch )\n",
    "    spline_alch4_noc=sppes(dt_qzvpp.query(\"alchemy==4 &ref==@ref & target==@target \").e_alch )\n",
    "    spline_alch4=sppes(dt_qzvpp.query(\"alchemy==4 &ref==@ref & target==@target\").e_alch )-bsc('NN','CO')\n",
    "    #\n",
    "    ax.plot(target_pts,spline_true,label='True CCSD',color='C0')\n",
    "    ax.plot(target_pts,spline_alch2,label='Alchemy $2^{nd}$ order',color='C1')\n",
    "    ax.plot(target_pts,spline_alch2_noc,':',label='Alchemy $2^{nd}$ order no C',color='C2')\n",
    "    ax.plot(target_pts,spline_alch4,label='Alchemy $4^{nd}$ order',color='C3')\n",
    "    #plt.show()\n",
    "    ax.xlim(1.8,2.4)\n",
    "    ax.ylim(min(spline_true)-.05,spline_alch2_noc[500]+0.05)\n",
    "    ax.legend()\n",
    "    ax.title(\"from {} to {}\".format(ref,target))"
   ]
  },
  {
   "cell_type": "code",
   "execution_count": 7,
   "metadata": {},
   "outputs": [],
   "source": [
    "#frequencies\n",
    "def freq(spline,Mu):\n",
    "    min_true=np.argmin(spline)\n",
    "    k_true=(spline[min_true-1]+spline[min_true+1]-2*spline[min_true])*1.e+6\n",
    "    return to_cm(k_true,Mu)"
   ]
  },
  {
   "cell_type": "code",
   "execution_count": 8,
   "metadata": {},
   "outputs": [
    {
     "data": {
      "text/plain": [
       "(2270.953695301357, 2234.1902600246212)"
      ]
     },
     "execution_count": 8,
     "metadata": {},
     "output_type": "execute_result"
    }
   ],
   "source": [
    "freq(spline_alch2,mu_co),freq(spline_true,mu_co)"
   ]
  },
  {
   "cell_type": "code",
   "execution_count": 23,
   "metadata": {},
   "outputs": [
    {
     "ename": "AttributeError",
     "evalue": "'AxesSubplot' object has no attribute 'xlim'",
     "output_type": "error",
     "traceback": [
      "\u001b[0;31m---------------------------------------------------------------------------\u001b[0m",
      "\u001b[0;31mAttributeError\u001b[0m                            Traceback (most recent call last)",
      "\u001b[0;32m<ipython-input-23-aed88042109d>\u001b[0m in \u001b[0;36m<module>\u001b[0;34m\u001b[0m\n\u001b[1;32m      3\u001b[0m \u001b[0;32mfor\u001b[0m \u001b[0max\u001b[0m \u001b[0;32min\u001b[0m \u001b[0maxs\u001b[0m\u001b[0;34m.\u001b[0m\u001b[0mT\u001b[0m\u001b[0;34m[\u001b[0m\u001b[0;34m:\u001b[0m\u001b[0;34m]\u001b[0m\u001b[0;34m[\u001b[0m\u001b[0;36m1\u001b[0m\u001b[0;34m]\u001b[0m\u001b[0;34m:\u001b[0m \u001b[0max\u001b[0m\u001b[0;34m.\u001b[0m\u001b[0myaxis\u001b[0m\u001b[0;34m.\u001b[0m\u001b[0mtick_right\u001b[0m\u001b[0;34m(\u001b[0m\u001b[0;34m)\u001b[0m\u001b[0;34m\u001b[0m\u001b[0;34m\u001b[0m\u001b[0m\n\u001b[1;32m      4\u001b[0m \u001b[0;34m\u001b[0m\u001b[0m\n\u001b[0;32m----> 5\u001b[0;31m \u001b[0mPlot\u001b[0m\u001b[0;34m(\u001b[0m\u001b[0maxs\u001b[0m\u001b[0;34m[\u001b[0m\u001b[0;36m0\u001b[0m\u001b[0;34m]\u001b[0m\u001b[0;34m[\u001b[0m\u001b[0;36m0\u001b[0m\u001b[0;34m]\u001b[0m\u001b[0;34m,\u001b[0m\u001b[0;34m'CO'\u001b[0m\u001b[0;34m,\u001b[0m\u001b[0;34m'NN'\u001b[0m\u001b[0;34m)\u001b[0m\u001b[0;34m\u001b[0m\u001b[0;34m\u001b[0m\u001b[0m\n\u001b[0m\u001b[1;32m      6\u001b[0m \u001b[0mPlot\u001b[0m\u001b[0;34m(\u001b[0m\u001b[0maxs\u001b[0m\u001b[0;34m[\u001b[0m\u001b[0;36m0\u001b[0m\u001b[0;34m]\u001b[0m\u001b[0;34m[\u001b[0m\u001b[0;36m1\u001b[0m\u001b[0;34m]\u001b[0m\u001b[0;34m,\u001b[0m\u001b[0;34m'CO'\u001b[0m\u001b[0;34m,\u001b[0m\u001b[0;34m'NN'\u001b[0m\u001b[0;34m)\u001b[0m\u001b[0;34m\u001b[0m\u001b[0;34m\u001b[0m\u001b[0m\n\u001b[1;32m      7\u001b[0m \u001b[0mPlot\u001b[0m\u001b[0;34m(\u001b[0m\u001b[0maxs\u001b[0m\u001b[0;34m[\u001b[0m\u001b[0;36m0\u001b[0m\u001b[0;34m]\u001b[0m\u001b[0;34m[\u001b[0m\u001b[0;36m2\u001b[0m\u001b[0;34m]\u001b[0m\u001b[0;34m,\u001b[0m\u001b[0;34m'CO'\u001b[0m\u001b[0;34m,\u001b[0m\u001b[0;34m'NN'\u001b[0m\u001b[0;34m)\u001b[0m\u001b[0;34m\u001b[0m\u001b[0;34m\u001b[0m\u001b[0m\n",
      "\u001b[0;32m<ipython-input-22-a16b794dbfe0>\u001b[0m in \u001b[0;36mPlot\u001b[0;34m(ax, ref, target)\u001b[0m\n\u001b[1;32m     12\u001b[0m     \u001b[0max\u001b[0m\u001b[0;34m.\u001b[0m\u001b[0mplot\u001b[0m\u001b[0;34m(\u001b[0m\u001b[0mtarget_pts\u001b[0m\u001b[0;34m,\u001b[0m\u001b[0mspline_alch4\u001b[0m\u001b[0;34m,\u001b[0m\u001b[0mlabel\u001b[0m\u001b[0;34m=\u001b[0m\u001b[0;34m'Alchemy $4^{nd}$ order'\u001b[0m\u001b[0;34m,\u001b[0m\u001b[0mcolor\u001b[0m\u001b[0;34m=\u001b[0m\u001b[0;34m'C3'\u001b[0m\u001b[0;34m)\u001b[0m\u001b[0;34m\u001b[0m\u001b[0;34m\u001b[0m\u001b[0m\n\u001b[1;32m     13\u001b[0m     \u001b[0;31m#plt.show()\u001b[0m\u001b[0;34m\u001b[0m\u001b[0;34m\u001b[0m\u001b[0;34m\u001b[0m\u001b[0m\n\u001b[0;32m---> 14\u001b[0;31m     \u001b[0max\u001b[0m\u001b[0;34m.\u001b[0m\u001b[0mxlim\u001b[0m\u001b[0;34m(\u001b[0m\u001b[0;36m1.8\u001b[0m\u001b[0;34m,\u001b[0m\u001b[0;36m2.4\u001b[0m\u001b[0;34m)\u001b[0m\u001b[0;34m\u001b[0m\u001b[0;34m\u001b[0m\u001b[0m\n\u001b[0m\u001b[1;32m     15\u001b[0m     \u001b[0max\u001b[0m\u001b[0;34m.\u001b[0m\u001b[0mylim\u001b[0m\u001b[0;34m(\u001b[0m\u001b[0mmin\u001b[0m\u001b[0;34m(\u001b[0m\u001b[0mspline_true\u001b[0m\u001b[0;34m)\u001b[0m\u001b[0;34m-\u001b[0m\u001b[0;36m.05\u001b[0m\u001b[0;34m,\u001b[0m\u001b[0mspline_alch2_noc\u001b[0m\u001b[0;34m[\u001b[0m\u001b[0;36m500\u001b[0m\u001b[0;34m]\u001b[0m\u001b[0;34m+\u001b[0m\u001b[0;36m0.05\u001b[0m\u001b[0;34m)\u001b[0m\u001b[0;34m\u001b[0m\u001b[0;34m\u001b[0m\u001b[0m\n\u001b[1;32m     16\u001b[0m     \u001b[0max\u001b[0m\u001b[0;34m.\u001b[0m\u001b[0mlegend\u001b[0m\u001b[0;34m(\u001b[0m\u001b[0;34m)\u001b[0m\u001b[0;34m\u001b[0m\u001b[0;34m\u001b[0m\u001b[0m\n",
      "\u001b[0;31mAttributeError\u001b[0m: 'AxesSubplot' object has no attribute 'xlim'"
     ]
    },
    {
     "data": {
      "image/png": "[encoded data removed]",
      "text/plain": [
       "<Figure size 720x1080 with 8 Axes>"
      ]
     },
     "metadata": {
      "needs_background": "light"
     },
     "output_type": "display_data"
    }
   ],
   "source": [
    "subplspec={'width_ratios' :[4,1], 'wspace':0}\n",
    "fig,axs=plt.subplots(4,2,figsize=(10,15),gridspec_kw=subplspec)\n",
    "for ax in axs.T[:][1]: ax.yaxis.tick_right()\n",
    "    \n",
    "Plot(axs[0][0],'CO','NN')\n",
    "Plot(axs[0][1],'CO','NN')\n",
    "Plot(axs[0][2],'CO','NN')\n",
    "Plot(axs[0][3],'CO','NN')\n",
    "axs[0][1].axhline(freq(spline_true,mu_co),color='C0')\n",
    "axs[0][1].axhline(freq(spline_alch2,mu_co),color='C1')\n",
    "axs[0][1].axhline(freq(spline_alch4,mu_co),color='C2')\n",
    "plt.savefig('freq_1.png')"
   ]
  }
 ],
 "metadata": {
  "kernelspec": {
   "display_name": "Python 3",
   "language": "python",
   "name": "python3"
  },
  "language_info": {
   "codemirror_mode": {
    "name": "ipython",
    "version": 3
   },
   "file_extension": ".py",
   "mimetype": "text/x-python",
   "name": "python",
   "nbconvert_exporter": "python",
   "pygments_lexer": "ipython3",
   "version": "3.7.4"
  }
 },
 "nbformat": 4,
 "nbformat_minor": 2
}
