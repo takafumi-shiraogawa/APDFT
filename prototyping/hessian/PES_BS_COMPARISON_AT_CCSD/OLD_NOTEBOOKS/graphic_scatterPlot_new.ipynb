{
 "cells": [
  {
   "cell_type": "code",
   "execution_count": 1,
   "metadata": {},
   "outputs": [],
   "source": [
    "import pandas as pd\n",
    "import matplotlib.pyplot as plt\n",
    "import numpy as np\n",
    "from scipy import stats\n",
    "from bokeh.io import output_notebook, show \n",
    "from bokeh.plotting import figure\n",
    "from bokeh.models import HoverTool,ColumnDataSource "
   ]
  },
  {
   "cell_type": "code",
   "execution_count": 2,
   "metadata": {},
   "outputs": [],
   "source": [
    "dt_qzvpp=pd.read_pickle('data_def2_qzvpp')\n",
    "dt_tzvp=pd.read_pickle('data_def2_tzvp')\n",
    "dt_sto3g=pd.read_pickle(\"data_sto3G\")\n",
    "dt_sto6g=pd.read_pickle(\"data_sto6G\")\n",
    "dt_321g=pd.read_pickle(\"data_321G\")\n",
    "dt_631g=pd.read_pickle(\"data_631G\")\n",
    "dt_aug=pd.read_pickle(\"data_aug\")\n",
    "dt_ccpvtz=pd.read_pickle(\"data_ccpvtz\")\n",
    "\n",
    "molecules=['HAl','HeMg','LiNa','BeNe','BF','CO','NN']\n"
   ]
  },
  {
   "cell_type": "code",
   "execution_count": 3,
   "metadata": {},
   "outputs": [
    {
     "data": {
      "text/plain": [
       "0"
      ]
     },
     "execution_count": 3,
     "metadata": {},
     "output_type": "execute_result"
    }
   ],
   "source": [
    "molecules.index('HAl')"
   ]
  },
  {
   "cell_type": "code",
   "execution_count": 4,
   "metadata": {},
   "outputs": [
    {
     "data": {
      "text/html": [
       "<div>\n",
       "<style scoped>\n",
       "    .dataframe tbody tr th:only-of-type {\n",
       "        vertical-align: middle;\n",
       "    }\n",
       "\n",
       "    .dataframe tbody tr th {\n",
       "        vertical-align: top;\n",
       "    }\n",
       "\n",
       "    .dataframe thead th {\n",
       "        text-align: right;\n",
       "    }\n",
       "</style>\n",
       "<table border=\"1\" class=\"dataframe\">\n",
       "  <thead>\n",
       "    <tr style=\"text-align: right;\">\n",
       "      <th></th>\n",
       "      <th>alchemy</th>\n",
       "      <th>distance</th>\n",
       "      <th>basis_set</th>\n",
       "      <th>e_alch</th>\n",
       "      <th>e_ccsd</th>\n",
       "      <th>ref</th>\n",
       "      <th>target</th>\n",
       "      <th>abs_err</th>\n",
       "      <th>delta_rho</th>\n",
       "      <th>e_at_ref_bs</th>\n",
       "      <th>err_alch</th>\n",
       "      <th>deltaZ</th>\n",
       "    </tr>\n",
       "  </thead>\n",
       "  <tbody>\n",
       "    <tr>\n",
       "      <td>0</td>\n",
       "      <td>0</td>\n",
       "      <td>1.3</td>\n",
       "      <td>sto3G</td>\n",
       "      <td>-195.799703</td>\n",
       "      <td>-198.025411</td>\n",
       "      <td>HAl</td>\n",
       "      <td>HeMg</td>\n",
       "      <td>2.225708</td>\n",
       "      <td>3.368281</td>\n",
       "      <td>-196.696725</td>\n",
       "      <td>0.897022</td>\n",
       "      <td>1</td>\n",
       "    </tr>\n",
       "    <tr>\n",
       "      <td>500</td>\n",
       "      <td>0</td>\n",
       "      <td>1.3</td>\n",
       "      <td>sto3G</td>\n",
       "      <td>-5.215354</td>\n",
       "      <td>-105.596187</td>\n",
       "      <td>HAl</td>\n",
       "      <td>NN</td>\n",
       "      <td>100.380833</td>\n",
       "      <td>12.312056</td>\n",
       "      <td>-61.824178</td>\n",
       "      <td>56.608824</td>\n",
       "      <td>6</td>\n",
       "    </tr>\n",
       "    <tr>\n",
       "      <td>1000</td>\n",
       "      <td>0</td>\n",
       "      <td>1.3</td>\n",
       "      <td>sto3G</td>\n",
       "      <td>-63.524548</td>\n",
       "      <td>-109.424064</td>\n",
       "      <td>HeMg</td>\n",
       "      <td>CO</td>\n",
       "      <td>45.899517</td>\n",
       "      <td>9.414647</td>\n",
       "      <td>-82.743289</td>\n",
       "      <td>19.218742</td>\n",
       "      <td>4</td>\n",
       "    </tr>\n",
       "    <tr>\n",
       "      <td>1500</td>\n",
       "      <td>0</td>\n",
       "      <td>1.3</td>\n",
       "      <td>sto3G</td>\n",
       "      <td>-109.911608</td>\n",
       "      <td>-120.538485</td>\n",
       "      <td>LiNa</td>\n",
       "      <td>BF</td>\n",
       "      <td>10.626877</td>\n",
       "      <td>6.789875</td>\n",
       "      <td>-113.782440</td>\n",
       "      <td>3.870832</td>\n",
       "      <td>2</td>\n",
       "    </tr>\n",
       "    <tr>\n",
       "      <td>2000</td>\n",
       "      <td>0</td>\n",
       "      <td>1.3</td>\n",
       "      <td>sto3G</td>\n",
       "      <td>-161.089708</td>\n",
       "      <td>-165.192451</td>\n",
       "      <td>BeNe</td>\n",
       "      <td>LiNa</td>\n",
       "      <td>4.102743</td>\n",
       "      <td>4.048074</td>\n",
       "      <td>-161.697052</td>\n",
       "      <td>0.607344</td>\n",
       "      <td>1</td>\n",
       "    </tr>\n",
       "    <tr>\n",
       "      <td>2500</td>\n",
       "      <td>0</td>\n",
       "      <td>1.3</td>\n",
       "      <td>sto3G</td>\n",
       "      <td>-169.840464</td>\n",
       "      <td>-198.025411</td>\n",
       "      <td>BF</td>\n",
       "      <td>HeMg</td>\n",
       "      <td>28.184947</td>\n",
       "      <td>7.969142</td>\n",
       "      <td>-180.896042</td>\n",
       "      <td>11.055578</td>\n",
       "      <td>3</td>\n",
       "    </tr>\n",
       "    <tr>\n",
       "      <td>3000</td>\n",
       "      <td>0</td>\n",
       "      <td>1.3</td>\n",
       "      <td>sto3G</td>\n",
       "      <td>-164.163661</td>\n",
       "      <td>-238.531958</td>\n",
       "      <td>CO</td>\n",
       "      <td>HAl</td>\n",
       "      <td>74.368296</td>\n",
       "      <td>11.211597</td>\n",
       "      <td>-195.119123</td>\n",
       "      <td>30.955462</td>\n",
       "      <td>5</td>\n",
       "    </tr>\n",
       "    <tr>\n",
       "      <td>3500</td>\n",
       "      <td>0</td>\n",
       "      <td>1.3</td>\n",
       "      <td>sto3G</td>\n",
       "      <td>-103.091530</td>\n",
       "      <td>-105.596187</td>\n",
       "      <td>CO</td>\n",
       "      <td>NN</td>\n",
       "      <td>2.504658</td>\n",
       "      <td>2.873520</td>\n",
       "      <td>-103.650876</td>\n",
       "      <td>0.559346</td>\n",
       "      <td>1</td>\n",
       "    </tr>\n",
       "    <tr>\n",
       "      <td>4000</td>\n",
       "      <td>0</td>\n",
       "      <td>1.3</td>\n",
       "      <td>sto3G</td>\n",
       "      <td>-108.673110</td>\n",
       "      <td>-120.538485</td>\n",
       "      <td>NN</td>\n",
       "      <td>BF</td>\n",
       "      <td>11.865375</td>\n",
       "      <td>5.476095</td>\n",
       "      <td>-110.598881</td>\n",
       "      <td>1.925770</td>\n",
       "      <td>2</td>\n",
       "    </tr>\n",
       "  </tbody>\n",
       "</table>\n",
       "</div>"
      ],
      "text/plain": [
       "      alchemy  distance basis_set      e_alch      e_ccsd   ref target  \\\n",
       "0           0       1.3     sto3G -195.799703 -198.025411   HAl   HeMg   \n",
       "500         0       1.3     sto3G   -5.215354 -105.596187   HAl     NN   \n",
       "1000        0       1.3     sto3G  -63.524548 -109.424064  HeMg     CO   \n",
       "1500        0       1.3     sto3G -109.911608 -120.538485  LiNa     BF   \n",
       "2000        0       1.3     sto3G -161.089708 -165.192451  BeNe   LiNa   \n",
       "2500        0       1.3     sto3G -169.840464 -198.025411    BF   HeMg   \n",
       "3000        0       1.3     sto3G -164.163661 -238.531958    CO    HAl   \n",
       "3500        0       1.3     sto3G -103.091530 -105.596187    CO     NN   \n",
       "4000        0       1.3     sto3G -108.673110 -120.538485    NN     BF   \n",
       "\n",
       "         abs_err  delta_rho  e_at_ref_bs   err_alch  deltaZ  \n",
       "0       2.225708   3.368281  -196.696725   0.897022       1  \n",
       "500   100.380833  12.312056   -61.824178  56.608824       6  \n",
       "1000   45.899517   9.414647   -82.743289  19.218742       4  \n",
       "1500   10.626877   6.789875  -113.782440   3.870832       2  \n",
       "2000    4.102743   4.048074  -161.697052   0.607344       1  \n",
       "2500   28.184947   7.969142  -180.896042  11.055578       3  \n",
       "3000   74.368296  11.211597  -195.119123  30.955462       5  \n",
       "3500    2.504658   2.873520  -103.650876   0.559346       1  \n",
       "4000   11.865375   5.476095  -110.598881   1.925770       2  "
      ]
     },
     "execution_count": 4,
     "metadata": {},
     "output_type": "execute_result"
    }
   ],
   "source": [
    "#insert deltaZ\n",
    "for dfp in [dt_qzvpp,dt_tzvp,dt_sto3g,dt_sto6g,dt_321g,dt_631g,dt_aug,dt_ccpvtz]:\n",
    "    dfp['deltaZ']=[molecules.index(x) for x in dfp.target]\n",
    "    dfp['deltaZ']-=[molecules.index(x) for x in dfp.ref]\n",
    "    dfp['deltaZ']=np.abs(dfp['deltaZ'])\n",
    "dt_sto3g[::500]"
   ]
  },
  {
   "cell_type": "code",
   "execution_count": 5,
   "metadata": {},
   "outputs": [
    {
     "data": {
      "text/html": [
       "<div>\n",
       "<style scoped>\n",
       "    .dataframe tbody tr th:only-of-type {\n",
       "        vertical-align: middle;\n",
       "    }\n",
       "\n",
       "    .dataframe tbody tr th {\n",
       "        vertical-align: top;\n",
       "    }\n",
       "\n",
       "    .dataframe thead th {\n",
       "        text-align: right;\n",
       "    }\n",
       "</style>\n",
       "<table border=\"1\" class=\"dataframe\">\n",
       "  <thead>\n",
       "    <tr style=\"text-align: right;\">\n",
       "      <th></th>\n",
       "      <th>alchemy</th>\n",
       "      <th>distance</th>\n",
       "      <th>basis_set</th>\n",
       "      <th>e_alch</th>\n",
       "      <th>e_ccsd</th>\n",
       "      <th>ref</th>\n",
       "      <th>target</th>\n",
       "      <th>abs_err</th>\n",
       "      <th>delta_rho</th>\n",
       "      <th>e_at_ref_bs</th>\n",
       "      <th>err_alch</th>\n",
       "      <th>deltaZ</th>\n",
       "    </tr>\n",
       "  </thead>\n",
       "  <tbody>\n",
       "    <tr>\n",
       "      <td>0</td>\n",
       "      <td>0</td>\n",
       "      <td>1.3</td>\n",
       "      <td>cc-pVTZ</td>\n",
       "      <td>-198.269808</td>\n",
       "      <td>-200.900670</td>\n",
       "      <td>HAl</td>\n",
       "      <td>HeMg</td>\n",
       "      <td>2.630862</td>\n",
       "      <td>3.762205</td>\n",
       "      <td>-199.870264</td>\n",
       "      <td>1.600456</td>\n",
       "      <td>1</td>\n",
       "    </tr>\n",
       "    <tr>\n",
       "      <td>1200</td>\n",
       "      <td>0</td>\n",
       "      <td>1.3</td>\n",
       "      <td>cc-pVTZ</td>\n",
       "      <td>-230.169017</td>\n",
       "      <td>-241.604043</td>\n",
       "      <td>LiNa</td>\n",
       "      <td>HAl</td>\n",
       "      <td>11.435026</td>\n",
       "      <td>6.151346</td>\n",
       "      <td>-236.049268</td>\n",
       "      <td>5.880252</td>\n",
       "      <td>2</td>\n",
       "    </tr>\n",
       "    <tr>\n",
       "      <td>2000</td>\n",
       "      <td>0</td>\n",
       "      <td>1.3</td>\n",
       "      <td>cc-pVTZ</td>\n",
       "      <td>-164.649994</td>\n",
       "      <td>-167.312407</td>\n",
       "      <td>BeNe</td>\n",
       "      <td>LiNa</td>\n",
       "      <td>2.662413</td>\n",
       "      <td>3.412572</td>\n",
       "      <td>-167.153130</td>\n",
       "      <td>2.503135</td>\n",
       "      <td>1</td>\n",
       "    </tr>\n",
       "    <tr>\n",
       "      <td>2800</td>\n",
       "      <td>0</td>\n",
       "      <td>1.3</td>\n",
       "      <td>cc-pVTZ</td>\n",
       "      <td>-108.688988</td>\n",
       "      <td>-111.680284</td>\n",
       "      <td>BF</td>\n",
       "      <td>CO</td>\n",
       "      <td>2.991297</td>\n",
       "      <td>2.573720</td>\n",
       "      <td>-111.333724</td>\n",
       "      <td>2.644736</td>\n",
       "      <td>1</td>\n",
       "    </tr>\n",
       "    <tr>\n",
       "      <td>4000</td>\n",
       "      <td>0</td>\n",
       "      <td>1.3</td>\n",
       "      <td>cc-pVTZ</td>\n",
       "      <td>-111.020513</td>\n",
       "      <td>-122.868873</td>\n",
       "      <td>NN</td>\n",
       "      <td>BF</td>\n",
       "      <td>11.848360</td>\n",
       "      <td>4.986413</td>\n",
       "      <td>-121.267661</td>\n",
       "      <td>10.247148</td>\n",
       "      <td>2</td>\n",
       "    </tr>\n",
       "  </tbody>\n",
       "</table>\n",
       "</div>"
      ],
      "text/plain": [
       "      alchemy  distance basis_set      e_alch      e_ccsd   ref target  \\\n",
       "0           0       1.3   cc-pVTZ -198.269808 -200.900670   HAl   HeMg   \n",
       "1200        0       1.3   cc-pVTZ -230.169017 -241.604043  LiNa    HAl   \n",
       "2000        0       1.3   cc-pVTZ -164.649994 -167.312407  BeNe   LiNa   \n",
       "2800        0       1.3   cc-pVTZ -108.688988 -111.680284    BF     CO   \n",
       "4000        0       1.3   cc-pVTZ -111.020513 -122.868873    NN     BF   \n",
       "\n",
       "        abs_err  delta_rho  e_at_ref_bs   err_alch  deltaZ  \n",
       "0      2.630862   3.762205  -199.870264   1.600456       1  \n",
       "1200  11.435026   6.151346  -236.049268   5.880252       2  \n",
       "2000   2.662413   3.412572  -167.153130   2.503135       1  \n",
       "2800   2.991297   2.573720  -111.333724   2.644736       1  \n",
       "4000  11.848360   4.986413  -121.267661  10.247148       2  "
      ]
     },
     "execution_count": 5,
     "metadata": {},
     "output_type": "execute_result"
    }
   ],
   "source": [
    "#reduce to delta Z = 1,2\n",
    "for dfp in [dt_qzvpp,dt_tzvp,dt_sto3g,dt_sto6g,dt_321g,dt_631g,dt_aug,dt_ccpvtz]:\n",
    "    dfp=dfp.query(\"deltaZ<2.5\")\n",
    "    \n",
    "dt_qzvpp=dt_qzvpp.query(\"deltaZ<2.5\")\n",
    "dt_tzvp=dt_tzvp.query(\"deltaZ<2.5\")\n",
    "dt_sto3g=dt_sto3g.query(\"deltaZ<2.5\")\n",
    "dt_sto6g=dt_sto6g.query(\"deltaZ<2.5\")\n",
    "dt_321g=dt_321g.query(\"deltaZ<2.5\")\n",
    "dt_631g=dt_631g.query(\"deltaZ<2.5\")\n",
    "dt_aug=dt_aug.query(\"deltaZ<2.5\")\n",
    "dt_ccpvtz=dt_ccpvtz.query(\"deltaZ<2.5\")\n",
    "dt_ccpvtz[::500]"
   ]
  },
  {
   "cell_type": "code",
   "execution_count": 6,
   "metadata": {},
   "outputs": [
    {
     "name": "stdout",
     "output_type": "stream",
     "text": [
      "dt_qzvpp\n",
      "BeNe HeMg -0.017347837850508085 -0.05476628310037768\n",
      "BeNe LiNa -0.21604671333849979 -0.24919809554977235\n",
      "BF LiNa -0.12290574625099282 -0.1899202845725796\n",
      "dt_tzvp\n",
      "BeNe LiNa -0.1127965847349941 -0.13165871507756322\n",
      "dt_sto3g\n",
      "dt_sto6g\n",
      "dt_321g\n",
      "dt_631g\n",
      "dt_aug\n",
      "BeNe HeMg -0.1134963264335056 -0.11246662365913096\n",
      "BeNe LiNa -0.23443615452548272 -0.27262386272217043\n",
      "BF LiNa -0.14084310524398802 -0.19141533116074072\n"
     ]
    }
   ],
   "source": [
    "#find the negative BSE (are due to change in the core electrons )\n",
    "dfs_names=[\"dt_qzvpp\",\"dt_tzvp\",\"dt_sto3g\",\"dt_sto6g\",\"dt_321g\",\"dt_631g\",\"dt_aug\",\"dt_ccpvtz\"]\n",
    "dfs_list=[dt_qzvpp,dt_tzvp,dt_sto3g,dt_sto6g,dt_321g,dt_631g,dt_aug,dt_ccpvtz]\n",
    "for x in range(7):\n",
    "    dfp=dfs_list[x]\n",
    "    print(dfs_names[x])\n",
    "    for ref in molecules:\n",
    "        for target in molecules:\n",
    "            dfp4=dfp.query(\"alchemy==4 & ref==@ref & target==@target \")\n",
    "            if (dfp4.e_at_ref_bs-dfp4.e_ccsd).median()<0:\n",
    "                print (ref,target, (dfp4.e_at_ref_bs-dfp4.e_ccsd).median(),(dfp4.e_alch-dfp4.e_ccsd).median())"
   ]
  },
  {
   "cell_type": "code",
   "execution_count": 7,
   "metadata": {},
   "outputs": [
    {
     "data": {
      "text/plain": [
       "[['HAl', 'LiNa', 0.2546876960874158, 3.9691029782345026],\n",
       " ['HeMg', 'BeNe', 0.9959166804261201, 4.1921136679799815],\n",
       " ['LiNa', 'HAl', 0.1695430775550193, 4.530245506623501],\n",
       " ['LiNa', 'BF', 0.13385588394240244, 4.277488074631506]]"
      ]
     },
     "execution_count": 7,
     "metadata": {},
     "output_type": "execute_result"
    }
   ],
   "source": [
    "# find the non converged points\n",
    "dfp=dt_aug.copy()\n",
    "q=[]\n",
    "for ref in molecules:\n",
    "    for target in molecules:\n",
    "        dfp4=dfp.query(\"alchemy==4 & delta_rho<7 & ref==@ref & target==@target \")\n",
    "        if np.isnan((dfp4.e_alch-dfp4.e_at_ref_bs).median()):continue  # delta_rho >7\n",
    "        if ((dfp4.e_alch-dfp4.e_at_ref_bs).median())<.1:continue     # accurate prediction\n",
    "        q.append([ref,target,(dfp4.e_alch-dfp4.e_at_ref_bs).median(),(dfp4.e_at_ref_bs-dfp4.e_ccsd).median()])\n",
    "q"
   ]
  },
  {
   "cell_type": "code",
   "execution_count": 8,
   "metadata": {},
   "outputs": [],
   "source": [
    "def plotsc(dfp,ax,title,xlims,ylims,legend=False):\n",
    "    for ref in molecules:\n",
    "        for target in molecules:\n",
    "            if target==ref: continue\n",
    "            dfp0=dfp.query(\"alchemy==0 &  ref==@ref & target==@target \")\n",
    "            dfp1=dfp.query(\"alchemy==1 &  ref==@ref & target==@target \")\n",
    "            dfp2=dfp.query(\"alchemy==2 &  ref==@ref & target==@target \")\n",
    "            dfp3=dfp.query(\"alchemy==3 &  ref==@ref & target==@target \")\n",
    "            dfp4=dfp.query(\"alchemy==4 &  ref==@ref & target==@target \")\n",
    "\n",
    "            #plt.scatter((dfp0.e_at_ref_bs-dfp0.e_ccsd).median(),(dfp0.e_alch-dfp0.e_ccsd).median(),color='C0 & distance<2.5',marker='o')\n",
    "            pts1=ax.scatter((dfp1.e_at_ref_bs-dfp1.e_ccsd).median(),(dfp1.e_alch-dfp1.e_ccsd).median(),color='C1',marker='|')\n",
    "            pts2=ax.scatter((dfp2.e_at_ref_bs-dfp2.e_ccsd).median(),(dfp2.e_alch-dfp2.e_ccsd).median(),color='C2',marker='x')\n",
    "            pts3=ax.scatter((dfp3.e_at_ref_bs-dfp3.e_ccsd).median(),(dfp3.e_alch-dfp3.e_ccsd).median(),color='C3',marker='^')\n",
    "            pts4=ax.scatter((dfp4.e_at_ref_bs-dfp4.e_ccsd).median(),(dfp4.e_alch-dfp4.e_ccsd).median(),color='C4',marker='s')\n",
    "    \n",
    "    ax.set_xlim(*xlims)\n",
    "    ax.set_ylim(*ylims)\n",
    "    \n",
    "    ax.tick_params(labelsize=20) \n",
    "    if legend:\n",
    "        ax.legend((pts1,pts2,pts3,pts4),('APDFT2','APDFT3','APDFT4','APDFT5'),\\\n",
    "                  fontsize=15,handletextpad=0.1,loc=[0.01,0.557],markerscale=2.)\n",
    "    \n",
    "    ax.plot(xlims,ylims) # diagonal line\n",
    "    \n",
    "    ax.set_title(title,fontsize=25,pad=12)\n",
    "    "
   ]
  },
  {
   "cell_type": "code",
   "execution_count": 9,
   "metadata": {
    "scrolled": false
   },
   "outputs": [
    {
     "name": "stderr",
     "output_type": "stream",
     "text": [
      "C:\\Users\\zorzo\\Anaconda3\\lib\\site-packages\\ipykernel_launcher.py:3: MatplotlibDeprecationWarning: Adding an axes using the same arguments as a previous axes currently reuses the earlier instance.  In a future version, a new instance will always be created and returned.  Meanwhile, this warning can be suppressed, and the future behavior ensured, by passing a unique label to each axes instance.\n",
      "  This is separate from the ipykernel package so we can avoid doing imports until\n",
      "C:\\Users\\zorzo\\Anaconda3\\lib\\site-packages\\ipykernel_launcher.py:4: MatplotlibDeprecationWarning: Adding an axes using the same arguments as a previous axes currently reuses the earlier instance.  In a future version, a new instance will always be created and returned.  Meanwhile, this warning can be suppressed, and the future behavior ensured, by passing a unique label to each axes instance.\n",
      "  after removing the cwd from sys.path.\n",
      "C:\\Users\\zorzo\\Anaconda3\\lib\\site-packages\\ipykernel_launcher.py:5: MatplotlibDeprecationWarning: Adding an axes using the same arguments as a previous axes currently reuses the earlier instance.  In a future version, a new instance will always be created and returned.  Meanwhile, this warning can be suppressed, and the future behavior ensured, by passing a unique label to each axes instance.\n",
      "  \"\"\"\n"
     ]
    },
    {
     "data": {
      "image/png": "[encoded data removed]",
      "text/plain": [
       "<Figure size 720x1440 with 9 Axes>"
      ]
     },
     "metadata": {
      "needs_background": "light"
     },
     "output_type": "display_data"
    }
   ],
   "source": [
    "fig=plt.figure(figsize=(10,20))\n",
    "plt.tick_params(labelcolor='none', top=False, bottom=False, left=False, right=False)\n",
    "plt.axes().set_ylabel(r'$\\Delta E_{\\mathrm{APDFT}}$ [Ha] ' ,fontsize=30,labelpad=25)\n",
    "plt.axes().set_xlabel(r'$\\Delta E_{\\mathrm{BS}}$ [Ha] ',fontsize=30,labelpad=25)\n",
    "plt.axes().set_frame_on(False)\n",
    "gkw={\"hspace\":.3}\n",
    "axs=fig.subplots(4,2,gridspec_kw=gkw)\n",
    "plotsc(dt_sto3g,axs[0][0],\"STO-3G\",[0,15],[0,15],legend=True)\n",
    "plotsc(dt_sto6g,axs[0][1],\"STO-6G\",[0,15],[0,15])\n",
    "plotsc(dt_321g,axs[1][0],\"3-21G\",[0,15],[0,15])\n",
    "plotsc(dt_631g,axs[1][1],\"6-31G*\",[0,10],[0,10])\n",
    "plotsc(dt_ccpvtz,axs[2][0],\"cc-pVTZ\",[0,8],[0,8])\n",
    "plotsc(dt_aug,axs[2][1],\"aug-cc-pVQZ\",[-.5,8],[-.5,8])\n",
    "plotsc(dt_tzvp,axs[3][0],\"def2-TZVP\",[-.5,8],[-.5,8])\n",
    "plotsc(dt_qzvpp,axs[3][1],\"def2-QZVPP\",[-.5,1.5],[-.5,1.5])\n",
    "#\n",
    "# setting ticks \n",
    "axs[0][0].set_yticks([3,6,9,12,15])\n",
    "axs[0][0].set_xticks([0,3,6,9,12,15])\n",
    "axs[0][1].set_yticks([3,6,9,12,15])\n",
    "axs[0][1].set_xticks([0,3,6,9,12,15])\n",
    "\n",
    "axs[1][0].set_yticks([3,6,9,12,15])\n",
    "axs[1][0].set_xticks([0,3,6,9,12,15])\n",
    "axs[1][1].set_yticks([2,4,6,8,10])\n",
    "axs[1][1].set_xticks([0,2,4,6,8,10])\n",
    "\n",
    "axs[2][0].set_xticks([0,2,4,6,8])\n",
    "axs[2][0].set_xticklabels([\"0\",\"2\",\"4\",\"6\",\"8\"])\n",
    "axs[2][0].set_yticks([2,4,6,8])\n",
    "\n",
    "axs[2][1].set_xticks([0,2,4,6,8])\n",
    "axs[2][1].set_yticks([0,2,4,6,8])\n",
    "axs[2][1].set_xticklabels([\"0\",\"2\",\"4\",\"6\",\"8\"])\n",
    "axs[2][1].set_yticklabels([\"0\",\"2\",\"4\",\"6\",\"8\"])\n",
    "\n",
    "axs[3][0].set_xticks([0,2,4,6,8])\n",
    "axs[3][0].set_yticks([0,2,4,6,8])\n",
    "axs[3][0].set_xticklabels([\"0\",\"2\",\"4\",\"6\",\"8\"])\n",
    "axs[3][0].set_yticklabels([\"0\",\"2\",\"4\",\"6\",\"8\"])\n",
    "\n",
    "axs[3][1].set_yticks([0,.5,1,1.5])\n",
    "axs[3][1].set_yticklabels([\"0\",\"0.5\",\"1\",\"1.5\"])\n",
    "axs[3][1].set_xticks([-.5,0,.5,1,1.5])\n",
    "axs[3][1].set_xticklabels([\"-0.5\",\"0\",\"0.5\",\"1\",\"1.5\"])\n",
    "\n",
    "# some remarkable point\n",
    "axs[3][1].text(-.24,1.35,r\"HeMg$ \\rightarrow $BeNe\" ,fontsize=18)\n",
    "#axs[3][1].arrow( .53, 1.42,.21 ,0.  ,length_includes_head=True,head_width=.035,color='black')\n",
    "axs[3][1].text(-.2,.6,r\"HAl$ \\rightarrow $LiNa\",fontsize=18)\n",
    "axs[3][1].arrow(.193, .58,0.,-.13 ,length_includes_head=True,head_width=.035,color='black')\n",
    "\n",
    "axs[2][1].text(-.2,5.06,r\"HeMg$ \\rightarrow $BeNe\",fontsize=18)\n",
    "#axs[2][1].arrow(3,5.2,1 ,0.  ,length_includes_head=True,head_width=.16,color='black')\n",
    "\n",
    "plt.savefig(\"Scatterplot_alchemy_vs_BasisSet.pdf\", bbox_inches='tight')"
   ]
  },
  {
   "cell_type": "code",
   "execution_count": 10,
   "metadata": {},
   "outputs": [
    {
     "data": {
      "text/plain": [
       "\"\\nremakabily error for def2-QZVPP:  # e_alch-e_at_ref_bs // err for ref bs\\n\\n[['HAl', 'LiNa', 0.2241467843737439, 0.19195201984700816],\\n ['HeMg','BeNe' 0.6320680405137438, 0.792689445766996]]\\n\\nfor aug-ccpVQZ\\n['HeMg', 'BeNe', 0.9959166804261201, 4.1921136679799815]\\n\\n \""
      ]
     },
     "execution_count": 10,
     "metadata": {},
     "output_type": "execute_result"
    }
   ],
   "source": [
    "\"\"\"\n",
    "remakabily error for def2-QZVPP:  # e_alch-e_at_ref_bs // err for ref bs\n",
    "\n",
    "[['HAl', 'LiNa', 0.2241467843737439, 0.19195201984700816],\n",
    " ['HeMg','BeNe' 0.6320680405137438, 0.792689445766996]]\n",
    "\n",
    "for aug-ccpVQZ\n",
    "['HeMg', 'BeNe', 0.9959166804261201, 4.1921136679799815]\n",
    "\n",
    " \"\"\""
   ]
  },
  {
   "cell_type": "code",
   "execution_count": 11,
   "metadata": {},
   "outputs": [
    {
     "data": {
      "text/plain": [
       "'p = figure(title=\"Def2-QZVPP\",plot_width=1800, plot_height=1000)\\nalcolor={0:\\'brown\\',1:\\'yellow\\',2:\\'green\\',3:\\'red\\',4:\\'purple\\'}\\ndef alcol(ao):\\n    return alcolor[ao]'"
      ]
     },
     "execution_count": 11,
     "metadata": {},
     "output_type": "execute_result"
    }
   ],
   "source": [
    "\"\"\"p = figure(title=\"Def2-QZVPP\",plot_width=1800, plot_height=1000)\n",
    "alcolor={0:'brown',1:'yellow',2:'green',3:'red',4:'purple'}\n",
    "def alcol(ao):\n",
    "    return alcolor[ao]\"\"\""
   ]
  },
  {
   "cell_type": "code",
   "execution_count": 12,
   "metadata": {},
   "outputs": [
    {
     "data": {
      "text/plain": [
       "'q=[]\\ndfp=dt_aug.copy()\\nfor ref in molecules:\\n    for target in molecules:\\n        dfp1=dfp.query(\"alchemy==1 &  ref==@ref & target==@target \")\\n        dfp2=dfp.query(\"alchemy==2 &  ref==@ref & target==@target \")\\n        dfp3=dfp.query(\"alchemy==3 &  ref==@ref & target==@target \")\\n        dfp4=dfp.query(\"alchemy==4 &  ref==@ref & target==@target \")\\n        if not np.isnan((dfp1.e_at_ref_bs-dfp1.e_ccsd).median() ) :\\n            #q.append({\"ref\":ref,\"target\":target,\"alchemy\":1,\"bse\":(dfp1.e_at_ref_bs-dfp1.e_ccsd).median(),\"ae\":(dfp1.e_alch-dfp1.e_ccsd).median()})\\n           # q.append({\"ref\":ref,\"target\":target,\"alchemy\":2,\"bse\":(dfp2.e_at_ref_bs-dfp2.e_ccsd).median(),\"ae\":(dfp2.e_alch-dfp2.e_ccsd).median()})\\n           # q.append({\"ref\":ref,\"target\":target,\"alchemy\":3,\"bse\":(dfp3.e_at_ref_bs-dfp3.e_ccsd).median(),\"ae\":(dfp3.e_alch-dfp3.e_ccsd).median()})\\n            q.append({\"ref\":ref,\"target\":target,\"alchemy\":4,\"bse\":(dfp4.e_at_ref_bs-dfp4.e_ccsd).median(),\"ae\":(dfp4.e_alch-dfp4.e_ccsd).median()})\\n            '"
      ]
     },
     "execution_count": 12,
     "metadata": {},
     "output_type": "execute_result"
    }
   ],
   "source": [
    "\"\"\"q=[]\n",
    "dfp=dt_aug.copy()\n",
    "for ref in molecules:\n",
    "    for target in molecules:\n",
    "        dfp1=dfp.query(\"alchemy==1 &  ref==@ref & target==@target \")\n",
    "        dfp2=dfp.query(\"alchemy==2 &  ref==@ref & target==@target \")\n",
    "        dfp3=dfp.query(\"alchemy==3 &  ref==@ref & target==@target \")\n",
    "        dfp4=dfp.query(\"alchemy==4 &  ref==@ref & target==@target \")\n",
    "        if not np.isnan((dfp1.e_at_ref_bs-dfp1.e_ccsd).median() ) :\n",
    "            #q.append({\"ref\":ref,\"target\":target,\"alchemy\":1,\"bse\":(dfp1.e_at_ref_bs-dfp1.e_ccsd).median(),\"ae\":(dfp1.e_alch-dfp1.e_ccsd).median()})\n",
    "           # q.append({\"ref\":ref,\"target\":target,\"alchemy\":2,\"bse\":(dfp2.e_at_ref_bs-dfp2.e_ccsd).median(),\"ae\":(dfp2.e_alch-dfp2.e_ccsd).median()})\n",
    "           # q.append({\"ref\":ref,\"target\":target,\"alchemy\":3,\"bse\":(dfp3.e_at_ref_bs-dfp3.e_ccsd).median(),\"ae\":(dfp3.e_alch-dfp3.e_ccsd).median()})\n",
    "            q.append({\"ref\":ref,\"target\":target,\"alchemy\":4,\"bse\":(dfp4.e_at_ref_bs-dfp4.e_ccsd).median(),\"ae\":(dfp4.e_alch-dfp4.e_ccsd).median()})\n",
    "            \"\"\""
   ]
  },
  {
   "cell_type": "code",
   "execution_count": 13,
   "metadata": {},
   "outputs": [
    {
     "data": {
      "text/plain": [
       "'dfp=pd.DataFrame(q)\\np = figure(title=\"aug-ccpvqz\",plot_width=1800, plot_height=1000)\\nAlcol=[alcol(x) for x in list(dfp.alchemy)]\\ndfp[\\'alcol\\']=Alcol\\ndrdV=[]\\nsource = ColumnDataSource(dfp)\\np.cross(\\'bse\\', \\'ae\\', source=source,color=\\'alcol\\', line_width=2)\\nhover = HoverTool()\\nhover.tooltips = [(\"Reference\",\"@ref\"), (\"Target\", \"@target\"),                  (\\'Alchemy\\',\\'@alchemy\\'),(\\'Alchemy error\\',\\'@ae\\')]#,(\\'Total error\\',\\'@tot_err\\')]\\nhover.mode = \\'mouse\\'\\np.add_tools(hover)\\np.line([-.5,2],[-.5,2])\\np.xaxis.axis_label = \\'basis set error\\'\\np.yaxis.axis_label = \\'Alchemy error\\'\\nshow(p)'"
      ]
     },
     "execution_count": 13,
     "metadata": {},
     "output_type": "execute_result"
    }
   ],
   "source": [
    "\"\"\"dfp=pd.DataFrame(q)\n",
    "p = figure(title=\"aug-ccpvqz\",plot_width=1800, plot_height=1000)\n",
    "Alcol=[alcol(x) for x in list(dfp.alchemy)]\n",
    "dfp['alcol']=Alcol\n",
    "drdV=[]\n",
    "source = ColumnDataSource(dfp)\n",
    "p.cross('bse', 'ae', source=source,color='alcol', line_width=2)\n",
    "hover = HoverTool()\n",
    "hover.tooltips = [(\"Reference\",\"@ref\"), (\"Target\", \"@target\"),\\\n",
    "                  ('Alchemy','@alchemy'),('Alchemy error','@ae')]#,('Total error','@tot_err')]\n",
    "hover.mode = 'mouse'\n",
    "p.add_tools(hover)\n",
    "p.line([-.5,2],[-.5,2])\n",
    "p.xaxis.axis_label = 'basis set error'\n",
    "p.yaxis.axis_label = 'Alchemy error'\n",
    "show(p)\"\"\""
   ]
  },
  {
   "cell_type": "code",
   "execution_count": 14,
   "metadata": {},
   "outputs": [
    {
     "data": {
      "text/plain": [
       "'p = figure(title=\"Def2-QZVPP\",plot_width=1800, plot_height=1000)\\nAlcol=[alcol(x) for x in list(dfp.alchemy)]\\ndfp[\\'alcol\\']=Alcol\\ndrdV=[]\\nsource = ColumnDataSource(dfp)\\np.cross(\\'delta_rho\\', \\'err_alch\\', source=source,color=\\'alcol\\')\\nhover = HoverTool()\\nhover.tooltips = [(\"Reference\",\"@ref\"), (\"Target\", \"@target\"),(\"Distance\",\\'@distance\\'),                  (\\'Alchemy\\',\\'@alchemy\\'),(\\'Alchemy error\\',\\'@err_alch\\'),(\\'delta_Rho\\',\\'@delta_rho\\')]#,(\\'Total error\\',\\'@tot_err\\')]\\nhover.mode = \\'mouse\\'\\np.add_tools(hover)\\np.xaxis.axis_label = \\'delta_Rho\\'\\np.yaxis.axis_label = \\'Alchemy error\\'\\nshow(p)'"
      ]
     },
     "execution_count": 14,
     "metadata": {},
     "output_type": "execute_result"
    }
   ],
   "source": [
    "\"\"\"p = figure(title=\"Def2-QZVPP\",plot_width=1800, plot_height=1000)\n",
    "Alcol=[alcol(x) for x in list(dfp.alchemy)]\n",
    "dfp['alcol']=Alcol\n",
    "drdV=[]\n",
    "source = ColumnDataSource(dfp)\n",
    "p.cross('delta_rho', 'err_alch', source=source,color='alcol')\n",
    "hover = HoverTool()\n",
    "hover.tooltips = [(\"Reference\",\"@ref\"), (\"Target\", \"@target\"),(\"Distance\",'@distance'),\\\n",
    "                  ('Alchemy','@alchemy'),('Alchemy error','@err_alch'),('delta_Rho','@delta_rho')]#,('Total error','@tot_err')]\n",
    "hover.mode = 'mouse'\n",
    "p.add_tools(hover)\n",
    "p.xaxis.axis_label = 'delta_Rho'\n",
    "p.yaxis.axis_label = 'Alchemy error'\n",
    "show(p)\"\"\""
   ]
  },
  {
   "cell_type": "code",
   "execution_count": null,
   "metadata": {},
   "outputs": [],
   "source": []
  }
 ],
 "metadata": {
  "kernelspec": {
   "display_name": "Python 3",
   "language": "python",
   "name": "python3"
  },
  "language_info": {
   "codemirror_mode": {
    "name": "ipython",
    "version": 3
   },
   "file_extension": ".py",
   "mimetype": "text/x-python",
   "name": "python",
   "nbconvert_exporter": "python",
   "pygments_lexer": "ipython3",
   "version": "3.7.4"
  }
 },
 "nbformat": 4,
 "nbformat_minor": 2
}
