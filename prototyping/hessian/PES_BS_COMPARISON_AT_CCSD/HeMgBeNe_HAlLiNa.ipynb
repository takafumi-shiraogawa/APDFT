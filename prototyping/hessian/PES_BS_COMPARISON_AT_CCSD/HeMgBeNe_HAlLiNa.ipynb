{
 "cells": [
  {
   "cell_type": "code",
   "execution_count": 13,
   "metadata": {},
   "outputs": [],
   "source": [
    "import pandas as pd \n",
    "import matplotlib.pyplot as plt \n",
    "import numpy as np\n",
    "import os"
   ]
  },
  {
   "cell_type": "code",
   "execution_count": 3,
   "metadata": {},
   "outputs": [],
   "source": [
    "ds=pd.read_pickle(\"data_def2_qzvpp\")"
   ]
  },
  {
   "cell_type": "code",
   "execution_count": 55,
   "metadata": {},
   "outputs": [],
   "source": [
    "dHMBN=ds.query(\"ref==\\\"HAl\\\" & distance==2.0 & alchemy==4\" )"
   ]
  },
  {
   "cell_type": "code",
   "execution_count": 56,
   "metadata": {},
   "outputs": [
    {
     "data": {
      "text/html": [
       "<div>\n",
       "<style scoped>\n",
       "    .dataframe tbody tr th:only-of-type {\n",
       "        vertical-align: middle;\n",
       "    }\n",
       "\n",
       "    .dataframe tbody tr th {\n",
       "        vertical-align: top;\n",
       "    }\n",
       "\n",
       "    .dataframe thead th {\n",
       "        text-align: right;\n",
       "    }\n",
       "</style>\n",
       "<table border=\"1\" class=\"dataframe\">\n",
       "  <thead>\n",
       "    <tr style=\"text-align: right;\">\n",
       "      <th></th>\n",
       "      <th>alchemy</th>\n",
       "      <th>distance</th>\n",
       "      <th>basis_set</th>\n",
       "      <th>e_alch</th>\n",
       "      <th>e_ccsd</th>\n",
       "      <th>ref</th>\n",
       "      <th>target</th>\n",
       "      <th>abs_err</th>\n",
       "      <th>delta_rho</th>\n",
       "      <th>e_at_ref_bs</th>\n",
       "      <th>err_alch</th>\n",
       "    </tr>\n",
       "  </thead>\n",
       "  <tbody>\n",
       "    <tr>\n",
       "      <th>39</th>\n",
       "      <td>4</td>\n",
       "      <td>2.0</td>\n",
       "      <td>def2-QZVPP</td>\n",
       "      <td>-202.200098</td>\n",
       "      <td>-202.229401</td>\n",
       "      <td>HAl</td>\n",
       "      <td>HeMg</td>\n",
       "      <td>0.029302</td>\n",
       "      <td>3.907316</td>\n",
       "      <td>-202.199688</td>\n",
       "      <td>-0.000410</td>\n",
       "    </tr>\n",
       "    <tr>\n",
       "      <th>139</th>\n",
       "      <td>4</td>\n",
       "      <td>2.0</td>\n",
       "      <td>def2-QZVPP</td>\n",
       "      <td>-168.552920</td>\n",
       "      <td>-168.941206</td>\n",
       "      <td>HAl</td>\n",
       "      <td>LiNa</td>\n",
       "      <td>0.388286</td>\n",
       "      <td>6.402477</td>\n",
       "      <td>-168.759058</td>\n",
       "      <td>0.206138</td>\n",
       "    </tr>\n",
       "    <tr>\n",
       "      <th>239</th>\n",
       "      <td>4</td>\n",
       "      <td>2.0</td>\n",
       "      <td>def2-QZVPP</td>\n",
       "      <td>-140.055445</td>\n",
       "      <td>-143.184559</td>\n",
       "      <td>HAl</td>\n",
       "      <td>BeNe</td>\n",
       "      <td>3.129113</td>\n",
       "      <td>8.709267</td>\n",
       "      <td>-141.948507</td>\n",
       "      <td>1.893062</td>\n",
       "    </tr>\n",
       "    <tr>\n",
       "      <th>339</th>\n",
       "      <td>4</td>\n",
       "      <td>2.0</td>\n",
       "      <td>def2-QZVPP</td>\n",
       "      <td>-112.486835</td>\n",
       "      <td>-124.460468</td>\n",
       "      <td>HAl</td>\n",
       "      <td>BF</td>\n",
       "      <td>11.973633</td>\n",
       "      <td>9.853446</td>\n",
       "      <td>-121.247719</td>\n",
       "      <td>8.760884</td>\n",
       "    </tr>\n",
       "    <tr>\n",
       "      <th>439</th>\n",
       "      <td>4</td>\n",
       "      <td>2.0</td>\n",
       "      <td>def2-QZVPP</td>\n",
       "      <td>-77.578615</td>\n",
       "      <td>-113.157722</td>\n",
       "      <td>HAl</td>\n",
       "      <td>CO</td>\n",
       "      <td>35.579107</td>\n",
       "      <td>11.275946</td>\n",
       "      <td>-106.328314</td>\n",
       "      <td>28.749699</td>\n",
       "    </tr>\n",
       "    <tr>\n",
       "      <th>539</th>\n",
       "      <td>4</td>\n",
       "      <td>2.0</td>\n",
       "      <td>def2-QZVPP</td>\n",
       "      <td>-21.803966</td>\n",
       "      <td>-109.380846</td>\n",
       "      <td>HAl</td>\n",
       "      <td>NN</td>\n",
       "      <td>87.576879</td>\n",
       "      <td>12.823985</td>\n",
       "      <td>-97.037572</td>\n",
       "      <td>75.233606</td>\n",
       "    </tr>\n",
       "  </tbody>\n",
       "</table>\n",
       "</div>"
      ],
      "text/plain": [
       "     alchemy  distance   basis_set      e_alch      e_ccsd  ref target  \\\n",
       "39         4       2.0  def2-QZVPP -202.200098 -202.229401  HAl   HeMg   \n",
       "139        4       2.0  def2-QZVPP -168.552920 -168.941206  HAl   LiNa   \n",
       "239        4       2.0  def2-QZVPP -140.055445 -143.184559  HAl   BeNe   \n",
       "339        4       2.0  def2-QZVPP -112.486835 -124.460468  HAl     BF   \n",
       "439        4       2.0  def2-QZVPP  -77.578615 -113.157722  HAl     CO   \n",
       "539        4       2.0  def2-QZVPP  -21.803966 -109.380846  HAl     NN   \n",
       "\n",
       "       abs_err  delta_rho  e_at_ref_bs   err_alch  \n",
       "39    0.029302   3.907316  -202.199688  -0.000410  \n",
       "139   0.388286   6.402477  -168.759058   0.206138  \n",
       "239   3.129113   8.709267  -141.948507   1.893062  \n",
       "339  11.973633   9.853446  -121.247719   8.760884  \n",
       "439  35.579107  11.275946  -106.328314  28.749699  \n",
       "539  87.576879  12.823985   -97.037572  75.233606  "
      ]
     },
     "execution_count": 56,
     "metadata": {},
     "output_type": "execute_result"
    }
   ],
   "source": [
    "dHMBN"
   ]
  },
  {
   "cell_type": "code",
   "execution_count": 11,
   "metadata": {},
   "outputs": [],
   "source": [
    "from pes_bs_utils import parse_energy_cc"
   ]
  },
  {
   "cell_type": "code",
   "execution_count": 50,
   "metadata": {},
   "outputs": [],
   "source": [
    "basepath='/home/giorgiod/Desktop/MRCC_interface/PES-BS-ALCHEMY/def2-QZVPP/HeMg/A{}_Radius:2.0/run.log'"
   ]
  },
  {
   "cell_type": "code",
   "execution_count": 38,
   "metadata": {},
   "outputs": [],
   "source": [
    "q=[]\n",
    "for x in np.linspace(13,32,20):\n",
    "    xs =str(x)\n",
    "    q.append(parse_energy_cc(basepath.format(xs[0],xs[1])) )"
   ]
  },
  {
   "cell_type": "code",
   "execution_count": 17,
   "metadata": {},
   "outputs": [
    {
     "data": {
      "text/plain": [
       "-139.093800084505"
      ]
     },
     "execution_count": 17,
     "metadata": {},
     "output_type": "execute_result"
    }
   ],
   "source": [
    "parse_energy_cc(basepath.format('2','3'))"
   ]
  },
  {
   "cell_type": "code",
   "execution_count": 43,
   "metadata": {},
   "outputs": [],
   "source": [
    "basepath2='/home/giorgiod/Desktop/MRCC_interface/Basis_set_error/def2-QZVPP/HeMg/HeMg_to_BeNe_distance_{}.{}/run.log'"
   ]
  },
  {
   "cell_type": "code",
   "execution_count": 44,
   "metadata": {},
   "outputs": [],
   "source": [
    "q2=[]\n",
    "for x in np.linspace(13,32,20):\n",
    "    xs =str(x)\n",
    "    q2.append(parse_energy_cc(basepath2.format(xs[0],xs[1])) )"
   ]
  },
  {
   "cell_type": "code",
   "execution_count": 54,
   "metadata": {},
   "outputs": [
    {
     "data": {
      "text/plain": [
       "(-205.939727756963,\n",
       " -204.076493714584,\n",
       " -202.229400523113,\n",
       " -200.39852391408,\n",
       " -198.583930437961)"
      ]
     },
     "execution_count": 54,
     "metadata": {},
     "output_type": "execute_result"
    }
   ],
   "source": [
    "parse_energy_cc(basepath.format('-2')),parse_energy_cc(basepath.format('-1')),parse_energy_cc(basepath.format('0')),parse_energy_cc(basepath.format('1')),parse_energy_cc(basepath.format('2'))"
   ]
  },
  {
   "cell_type": "code",
   "execution_count": 52,
   "metadata": {},
   "outputs": [
    {
     "data": {
      "text/plain": [
       "-204.076493714584"
      ]
     },
     "execution_count": 52,
     "metadata": {},
     "output_type": "execute_result"
    }
   ],
   "source": []
  }
 ],
 "metadata": {
  "kernelspec": {
   "display_name": "Python 3",
   "language": "python",
   "name": "python3"
  },
  "language_info": {
   "codemirror_mode": {
    "name": "ipython",
    "version": 3
   },
   "file_extension": ".py",
   "mimetype": "text/x-python",
   "name": "python",
   "nbconvert_exporter": "python",
   "pygments_lexer": "ipython3",
   "version": "3.6.8"
  }
 },
 "nbformat": 4,
 "nbformat_minor": 2
}
