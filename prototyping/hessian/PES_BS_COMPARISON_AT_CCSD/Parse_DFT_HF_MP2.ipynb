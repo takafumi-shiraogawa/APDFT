{
 "cells": [
  {
   "cell_type": "code",
   "execution_count": 3,
   "metadata": {},
   "outputs": [],
   "source": [
    "import numpy as np\n",
    "import pandas as pd \n",
    "import matplotlib.pyplot as plt\n",
    "import sys,os"
   ]
  },
  {
   "cell_type": "code",
   "execution_count": 4,
   "metadata": {},
   "outputs": [],
   "source": [
    "dt_qzvpp=pd.read_pickle('data_def2_qzvpp')"
   ]
  },
  {
   "cell_type": "code",
   "execution_count": 5,
   "metadata": {},
   "outputs": [],
   "source": [
    "dft_dir=\"/home/giorgiod/MRCC_interface/DFT_BFCONN/{}/{}__{}/run.log\"\n",
    "hf_mp2_dir=\"/home/giorgiod/MRCC_interface/PES-BS-ALCHEMY/def2-QZVPP/{}/A0_Radius:{}/run.log\"\n",
    "points=np.linspace(1.3,3.2,20)\n",
    "strpoints=[str(x)[:3] for x in points]\n",
    "molecules=['BF','CO','NN']\n",
    "calcs=['PBE','B3LYP','HF','MP2']"
   ]
  },
  {
   "cell_type": "code",
   "execution_count": 6,
   "metadata": {},
   "outputs": [],
   "source": [
    "def parse_energy(log_file,calc):\n",
    "    calc_str={\"HF\":\"FINAL HARTREE-FOCK ENERGY\",\"ccsd\" : \"Total CCSD energy\", \"MP2\":\"Total MP2 energy [au]\",\\\n",
    "             \"PBE\":\"FINAL KOHN-SHAM ENERGY\",\"B3LYP\":\"FINAL KOHN-SHAM ENERGY\"}\n",
    "    \"\"\"Parse the hartree Fock energy from an MRCC output file\"\"\"\n",
    "    try:\n",
    "        with open(log_file,'r') as logf:\n",
    "            while True:\n",
    "                line=logf.readline()\n",
    "                if calc_str[calc] in line:\n",
    "                    good_line=line\n",
    "                    for x in good_line.split(' '):\n",
    "                        try:\n",
    "                            float(x)\n",
    "                            return (float(x))\n",
    "                        except:\n",
    "                            pass    \n",
    "    except:\n",
    "        print('couldn\\'t parse energy return 0 for: '+log_file+'_calc__'+ calc)\n",
    "        return 0"
   ]
  },
  {
   "cell_type": "code",
   "execution_count": 7,
   "metadata": {},
   "outputs": [
    {
     "data": {
      "text/plain": [
       "-112.79182098214271"
      ]
     },
     "execution_count": 7,
     "metadata": {},
     "output_type": "execute_result"
    }
   ],
   "source": [
    "parse_energy(hf_mp2_dir.format(\"CO\",\"2.1\"),\"HF\")"
   ]
  },
  {
   "cell_type": "code",
   "execution_count": 8,
   "metadata": {},
   "outputs": [
    {
     "data": {
      "text/plain": [
       "['1.3',\n",
       " '1.4',\n",
       " '1.5',\n",
       " '1.6',\n",
       " '1.7',\n",
       " '1.8',\n",
       " '1.9',\n",
       " '2.0',\n",
       " '2.1',\n",
       " '2.2',\n",
       " '2.3',\n",
       " '2.4',\n",
       " '2.5',\n",
       " '2.6',\n",
       " '2.7',\n",
       " '2.8',\n",
       " '2.9',\n",
       " '3.0',\n",
       " '3.1',\n",
       " '3.2']"
      ]
     },
     "execution_count": 8,
     "metadata": {},
     "output_type": "execute_result"
    }
   ],
   "source": [
    "parse_energy(dft_dir.format(\"B3LYP\",\"NN\",\"3.2\"), \"B3LYP\")\n",
    "strpoints"
   ]
  },
  {
   "cell_type": "code",
   "execution_count": 9,
   "metadata": {},
   "outputs": [],
   "source": [
    "q=[]\n",
    "for calc in calcs:\n",
    "    for mol in molecules:\n",
    "        for point in strpoints:\n",
    "            if calc in ['PBE','B3LYP']:\n",
    "                log_file=dft_dir.format(calc,mol,point)\n",
    "            elif calc in ['HF','MP2']:\n",
    "                log_file=hf_mp2_dir.format(mol,point)\n",
    "            q.append({'calc':calc,'distance':float(point),'mol':mol,'energy':parse_energy(log_file,calc)})\n"
   ]
  },
  {
   "cell_type": "code",
   "execution_count": 10,
   "metadata": {},
   "outputs": [],
   "source": [
    "dtf=pd.DataFrame(q)"
   ]
  },
  {
   "cell_type": "code",
   "execution_count": 12,
   "metadata": {},
   "outputs": [],
   "source": [
    "dtf.to_pickle('hfmp2dft_def2qzvpp')"
   ]
  }
 ],
 "metadata": {
  "kernelspec": {
   "display_name": "Python 3",
   "language": "python",
   "name": "python3"
  },
  "language_info": {
   "codemirror_mode": {
    "name": "ipython",
    "version": 3
   },
   "file_extension": ".py",
   "mimetype": "text/x-python",
   "name": "python",
   "nbconvert_exporter": "python",
   "pygments_lexer": "ipython3",
   "version": "3.6.8"
  }
 },
 "nbformat": 4,
 "nbformat_minor": 2
}
