{
 "cells": [
  {
   "cell_type": "code",
   "execution_count": 1,
   "metadata": {},
   "outputs": [],
   "source": [
    "import numpy as np\n",
    "import pyscf\n",
    "from pyscf import qmmm,scf,dft,gto\n",
    "import matplotlib.pyplot as plt\n",
    "import basis_set_exchange as bse\n",
    "angstrom = 1 / 0.52917721067\n",
    "import ipyvolume as ipv\n",
    "import matplotlib.ticker as ticker\n",
    "import matplotlib.gridspec as gridspec\n",
    "from matplotlib import cm\n",
    "import pandas as pd"
   ]
  },
  {
   "cell_type": "code",
   "execution_count": 2,
   "metadata": {},
   "outputs": [
    {
     "data": {
      "text/html": [
       "<div>\n",
       "<style scoped>\n",
       "    .dataframe tbody tr th:only-of-type {\n",
       "        vertical-align: middle;\n",
       "    }\n",
       "\n",
       "    .dataframe tbody tr th {\n",
       "        vertical-align: top;\n",
       "    }\n",
       "\n",
       "    .dataframe thead th {\n",
       "        text-align: right;\n",
       "    }\n",
       "</style>\n",
       "<table border=\"1\" class=\"dataframe\">\n",
       "  <thead>\n",
       "    <tr style=\"text-align: right;\">\n",
       "      <th></th>\n",
       "      <th>alchemy</th>\n",
       "      <th>distance</th>\n",
       "      <th>basis_set</th>\n",
       "      <th>e_alch</th>\n",
       "      <th>e_ccsd</th>\n",
       "      <th>ref</th>\n",
       "      <th>target</th>\n",
       "      <th>abs_err</th>\n",
       "      <th>delta_rho</th>\n",
       "      <th>e_at_ref_bs</th>\n",
       "      <th>err_alch</th>\n",
       "    </tr>\n",
       "  </thead>\n",
       "  <tbody>\n",
       "    <tr>\n",
       "      <th>835</th>\n",
       "      <td>0</td>\n",
       "      <td>2.0</td>\n",
       "      <td>def2-QZVPP</td>\n",
       "      <td>-130.683336</td>\n",
       "      <td>-143.184559</td>\n",
       "      <td>HeMg</td>\n",
       "      <td>BeNe</td>\n",
       "      <td>12.501222</td>\n",
       "      <td>6.502722</td>\n",
       "      <td>-142.398013</td>\n",
       "      <td>11.714677</td>\n",
       "    </tr>\n",
       "    <tr>\n",
       "      <th>836</th>\n",
       "      <td>1</td>\n",
       "      <td>2.0</td>\n",
       "      <td>def2-QZVPP</td>\n",
       "      <td>-141.653621</td>\n",
       "      <td>-143.184559</td>\n",
       "      <td>HeMg</td>\n",
       "      <td>BeNe</td>\n",
       "      <td>1.530937</td>\n",
       "      <td>6.502722</td>\n",
       "      <td>-142.398013</td>\n",
       "      <td>0.744392</td>\n",
       "    </tr>\n",
       "    <tr>\n",
       "      <th>837</th>\n",
       "      <td>2</td>\n",
       "      <td>2.0</td>\n",
       "      <td>def2-QZVPP</td>\n",
       "      <td>-142.419144</td>\n",
       "      <td>-143.184559</td>\n",
       "      <td>HeMg</td>\n",
       "      <td>BeNe</td>\n",
       "      <td>0.765414</td>\n",
       "      <td>6.502722</td>\n",
       "      <td>-142.398013</td>\n",
       "      <td>-0.021131</td>\n",
       "    </tr>\n",
       "    <tr>\n",
       "      <th>838</th>\n",
       "      <td>3</td>\n",
       "      <td>2.0</td>\n",
       "      <td>def2-QZVPP</td>\n",
       "      <td>-141.433436</td>\n",
       "      <td>-143.184559</td>\n",
       "      <td>HeMg</td>\n",
       "      <td>BeNe</td>\n",
       "      <td>1.751122</td>\n",
       "      <td>6.502722</td>\n",
       "      <td>-142.398013</td>\n",
       "      <td>0.964577</td>\n",
       "    </tr>\n",
       "    <tr>\n",
       "      <th>839</th>\n",
       "      <td>4</td>\n",
       "      <td>2.0</td>\n",
       "      <td>def2-QZVPP</td>\n",
       "      <td>-139.399012</td>\n",
       "      <td>-143.184559</td>\n",
       "      <td>HeMg</td>\n",
       "      <td>BeNe</td>\n",
       "      <td>3.785547</td>\n",
       "      <td>6.502722</td>\n",
       "      <td>-142.398013</td>\n",
       "      <td>2.999001</td>\n",
       "    </tr>\n",
       "  </tbody>\n",
       "</table>\n",
       "</div>"
      ],
      "text/plain": [
       "     alchemy  distance   basis_set      e_alch      e_ccsd   ref target  \\\n",
       "835        0       2.0  def2-QZVPP -130.683336 -143.184559  HeMg   BeNe   \n",
       "836        1       2.0  def2-QZVPP -141.653621 -143.184559  HeMg   BeNe   \n",
       "837        2       2.0  def2-QZVPP -142.419144 -143.184559  HeMg   BeNe   \n",
       "838        3       2.0  def2-QZVPP -141.433436 -143.184559  HeMg   BeNe   \n",
       "839        4       2.0  def2-QZVPP -139.399012 -143.184559  HeMg   BeNe   \n",
       "\n",
       "       abs_err  delta_rho  e_at_ref_bs   err_alch  \n",
       "835  12.501222   6.502722  -142.398013  11.714677  \n",
       "836   1.530937   6.502722  -142.398013   0.744392  \n",
       "837   0.765414   6.502722  -142.398013  -0.021131  \n",
       "838   1.751122   6.502722  -142.398013   0.964577  \n",
       "839   3.785547   6.502722  -142.398013   2.999001  "
      ]
     },
     "execution_count": 2,
     "metadata": {},
     "output_type": "execute_result"
    }
   ],
   "source": [
    "df=pd.read_pickle('data_def2_qzvpp')\n",
    "df.query(\"ref=='HeMg'& target=='BeNe'& distance==2.0\")"
   ]
  },
  {
   "cell_type": "code",
   "execution_count": 3,
   "metadata": {},
   "outputs": [],
   "source": [
    "HAl=gto.Mole(atom='H 0 0 0 ; Al 2.0 0 0 ',unit='bohrs',basis='def2-QZVPP')\n",
    "HeMg=gto.Mole(atom='He 0 0 0 ; Mg 2.0 0 0 ',unit='bohrs',basis='def2-QZVPP')\n",
    "LiNa=gto.Mole(atom='Li 0 0 0 ; Na 2.0 0 0 ',unit='bohrs',basis='def2-QZVPP')"
   ]
  },
  {
   "cell_type": "code",
   "execution_count": 4,
   "metadata": {},
   "outputs": [
    {
     "name": "stderr",
     "output_type": "stream",
     "text": [
      "Warning: <pyscf.gto.mole.Mole object at 0x7ff4108c9e48> must be initialized before calling SCF.\n",
      "Initialize <pyscf.gto.mole.Mole object at 0x7ff4108c9e48> in <pyscf.scf.hf.RHF object at 0x7ff4108c9b38>\n",
      "Warning: <pyscf.gto.mole.Mole object at 0x7ff4108c9e80> must be initialized before calling SCF.\n",
      "Initialize <pyscf.gto.mole.Mole object at 0x7ff4108c9e80> in <pyscf.scf.hf.RHF object at 0x7ff4108c9b00>\n"
     ]
    }
   ],
   "source": [
    "hf_hal=scf.RHF(HAl)\n",
    "hf_lina=scf.RHF(LiNa)"
   ]
  },
  {
   "cell_type": "code",
   "execution_count": 5,
   "metadata": {},
   "outputs": [
    {
     "name": "stdout",
     "output_type": "stream",
     "text": [
      "converged SCF energy = -242.294200319184\n",
      "energy HAl = -242.29420031918374\n",
      "converged SCF energy = -168.904368726622\n",
      "energy LiNa = -168.90436872662173\n"
     ]
    }
   ],
   "source": [
    "Ehf_hal=hf_hal.scf()\n",
    "print(\"energy HAl =\" ,Ehf_hal)\n",
    "Ehf_lina=hf_lina.scf()\n",
    "print(\"energy LiNa =\" ,Ehf_lina)"
   ]
  },
  {
   "cell_type": "code",
   "execution_count": 6,
   "metadata": {},
   "outputs": [],
   "source": [
    "def dm_ccsd(mol,ao):\n",
    "    calc=scf.UHF(mol)\n",
    "    includeonly = [0, 1]\n",
    "    deltaZ=np.array((0.05,-0.05),dtype=float)*ao\n",
    "    mf = pyscf.qmmm.mm_charge(calc, mol.atom_coords(), deltaZ)\n",
    "    class NoSelfQMMM(mf.__class__):\n",
    "        def energy_nuc(self):\n",
    "            q = mol.atom_charges().astype(np.float)\n",
    "            q[includeonly] += deltaZ\n",
    "            return mol.energy_nuc(q)\n",
    "    mf = NoSelfQMMM()\n",
    "    hfe=mf.kernel()\n",
    "    mycc = pyscf.cc.CCSD(mf).set(frozen = 2,max_cycle=100).run()\n",
    "    dm1 = mycc.make_rdm1()\n",
    "    dm1_ao = np.einsum('pi,ij,qj->pq', mf.mo_coeff[0],dm1[0], mf.mo_coeff[0].conj())\n",
    "    dm1_ao += np.einsum('pi,ij,qj->pq', mf.mo_coeff[1],dm1[1], mf.mo_coeff[1].conj())\n",
    "    return dm1_ao"
   ]
  },
  {
   "cell_type": "code",
   "execution_count": 7,
   "metadata": {},
   "outputs": [
    {
     "name": "stdout",
     "output_type": "stream",
     "text": [
      "converged SCF energy = -168.700594107588\n"
     ]
    }
   ],
   "source": [
    "# E LiNa[HAl] \n",
    "calc=scf.RHF(HAl)\n",
    "mf = pyscf.qmmm.mm_charge(calc, calc.mol.atom_coords(), np.asarray([2.,-2.],dtype=float))\n",
    "class NoSelfQMMM(mf.__class__):\n",
    "    def energy_nuc(self):\n",
    "        q = self.mol.atom_charges().astype(np.float)\n",
    "        q += np.asarray([2.,-2.],dtype=float)\n",
    "        return self.mol.energy_nuc(q)\n",
    "mf = NoSelfQMMM()\n",
    "E_T_R=mf.kernel()"
   ]
  },
  {
   "cell_type": "code",
   "execution_count": 8,
   "metadata": {},
   "outputs": [],
   "source": [
    "def e_alc_path(mol,dl):\n",
    "    calc=scf.RHF(mol)\n",
    "    mf = pyscf.qmmm.mm_charge(calc, calc.mol.atom_coords(), np.asarray([dl,-dl],dtype=float))\n",
    "    class NoSelfQMMM(mf.__class__):\n",
    "        def energy_nuc(self):\n",
    "            q = self.mol.atom_charges().astype(np.float)\n",
    "            q += np.asarray([dl,-dl],dtype=float)\n",
    "            return self.mol.energy_nuc(q)\n",
    "    mf = NoSelfQMMM()\n",
    "    return mf.kernel(),mf.make_rdm1()"
   ]
  },
  {
   "cell_type": "code",
   "execution_count": 9,
   "metadata": {},
   "outputs": [
    {
     "name": "stdout",
     "output_type": "stream",
     "text": [
      "converged SCF energy = -233.734296996794\n",
      "converged SCF energy = -225.432930158949\n",
      "converged SCF energy = -217.394887377089\n",
      "converged SCF energy = -209.623993893621\n",
      "converged SCF energy = -202.123121360053\n",
      "converged SCF energy = -194.894204083358\n",
      "converged SCF energy = -187.938201718079\n",
      "converged SCF energy = -181.254992576284\n",
      "converged SCF energy = -174.843275819639\n",
      "converged SCF energy = -168.700594107588\n"
     ]
    }
   ],
   "source": [
    "q=[]\n",
    "for dl in np.linspace(.2,2.,10):\n",
    "    q.append(e_alc_path(HAl,dl)[0])"
   ]
  },
  {
   "cell_type": "code",
   "execution_count": 10,
   "metadata": {},
   "outputs": [
    {
     "data": {
      "image/png": "[encoded data removed]",
      "text/plain": [
       "<Figure size 432x288 with 1 Axes>"
      ]
     },
     "metadata": {
      "needs_background": "light"
     },
     "output_type": "display_data"
    },
    {
     "data": {
      "text/plain": [
       "[<matplotlib.lines.Line2D at 0x7ff40c86f080>]"
      ]
     },
     "execution_count": 10,
     "metadata": {},
     "output_type": "execute_result"
    },
    {
     "data": {
      "image/png": "[encoded data removed]",
      "text/plain": [
       "<Figure size 432x288 with 1 Axes>"
      ]
     },
     "metadata": {
      "needs_background": "light"
     },
     "output_type": "display_data"
    }
   ],
   "source": [
    "hch=np.linspace(.2,2.,10)+1.\n",
    "plt.plot(hch,np.abs(np.asarray(q))**-1)\n",
    "c1=2.2\n",
    "c2=2.2\n",
    "#plt.plot(hch,-hch**(c1)-(13-hch)**(c2))\n",
    "plt.show()\n",
    "plt.plot(hch,-np.asarray(q)-hch**(c1)-(13-hch)**(c2))\n",
    "\n",
    "### Z1**[2.2]+Z2**2.2 approx well the Total energy"
   ]
  },
  {
   "cell_type": "code",
   "execution_count": 11,
   "metadata": {},
   "outputs": [
    {
     "name": "stdout",
     "output_type": "stream",
     "text": [
      "converged SCF energy = -246.669359007545\n",
      "converged SCF energy = -244.473924318856\n",
      "converged SCF energy = -242.294200319184\n",
      "converged SCF energy = -240.130283420113\n",
      "converged SCF energy = -237.98226731176\n"
     ]
    }
   ],
   "source": [
    "deriv=[]\n",
    "for dl in [-.1,-.05,0.,.05,.1]:\n",
    "    deriv.append(e_alc_path(HAl,dl)[0])"
   ]
  },
  {
   "cell_type": "code",
   "execution_count": 12,
   "metadata": {},
   "outputs": [
    {
     "name": "stdout",
     "output_type": "stream",
     "text": [
      "-4.375158688361097\n",
      "-2.179723999672234\n",
      "0.0\n",
      "2.1639168990716087\n",
      "4.3119330074237325\n"
     ]
    },
    {
     "data": {
      "image/png": "[encoded data removed]",
      "text/plain": [
       "<Figure size 432x288 with 1 Axes>"
      ]
     },
     "metadata": {
      "needs_background": "light"
     },
     "output_type": "display_data"
    }
   ],
   "source": [
    "plt.plot(deriv)\n",
    "for x in deriv:\n",
    "    print(x-deriv[2])"
   ]
  },
  {
   "cell_type": "code",
   "execution_count": 13,
   "metadata": {},
   "outputs": [],
   "source": [
    "def alc_pred5(ref_pts,dl,o=4):   \n",
    "    dh=0.05\n",
    "    coeff0=np.asarray([0,0,1.,0,0])\n",
    "    coeff1=np.asarray([1/12,-2/3,0,2/3,-1/12])\n",
    "    coeff2=np.asarray([-1/12 , 4/3 , -5/2 , 4/3 , -1/12])\n",
    "    coeff3=np.asarray([-1/2 , 1 , 0 , -1 , 1/2])\n",
    "    coeff4=np.asarray([1 ,-4 , 6 ,-4 , 1])\n",
    "    coeff_list=[coeff1,coeff2,coeff3,coeff4]\n",
    "    coeff_exp=coeff0.copy()\n",
    "    for x in range(1,o+1):\n",
    "        coeff_exp+=coeff_list[x-1]*(float(dl)/dh)**x/np.math.factorial(x)\n",
    "    print (np.sum(ref_pts*coeff0),np.sum(ref_pts*coeff1),np.sum(ref_pts*coeff2),np.sum(ref_pts*coeff3),\\\n",
    "           np.sum(ref_pts*coeff4)) \n",
    "    return np.sum(ref_pts*coeff_exp)"
   ]
  },
  {
   "cell_type": "code",
   "execution_count": 14,
   "metadata": {},
   "outputs": [],
   "source": [
    "def alc_pred7(ref_pts,dl,o=6,dh=0.05):   \n",
    "    coeff0=np.asarray([0,0,0,1.,0,0,0],dtype=float)\n",
    "    coeff1=np.asarray([-1/60,3/20,-3/4, 0, 3/4,-3/20,1/60],dtype=float)\n",
    "    coeff2=np.asarray([1/90,-3/20,3/2,-49/18,3/2,-3/20,1/90],dtype=float)\n",
    "    coeff3=np.asarray([1/8, -1, 13/8, 0, -13/8, 1, -1/8],dtype=float)\n",
    "    coeff4=np.asarray([-1/6,2,-13/2,28/3,-13/2,2,-1/6],dtype=float)\n",
    "    coeff5=np.asarray([-1/2,2,-5/2,0,5/2 ,-2,1/2],dtype=float)\n",
    "    coeff6=np.asarray([1,-6,15,-20,15,-6,1],dtype=float)\n",
    "    \n",
    "    coeff_list=[coeff1,coeff2,coeff3,coeff4,coeff5,coeff6]\n",
    "    coeff_exp=coeff0.copy()\n",
    "    for x in range(1,o+1):\n",
    "        coeff_exp+=coeff_list[x-1]*(float(dl)/dh)**x/np.math.factorial(x)\n",
    "    \n",
    "   # print (np.sum(ref_pts*coeff0),np.sum(ref_pts*coeff1),abs(np.sum(ref_pts*coeff2))**(1/2.),abs(np.sum(ref_pts*coeff3))**(1/3.),\\\n",
    "  #         abs(np.sum(ref_pts*coeff4))**(1/4.),abs(np.sum(ref_pts*coeff5))**(1/5.),abs(np.sum(ref_pts*coeff6))**(1/6.)) \n",
    "    return np.sum(ref_pts*coeff_exp)"
   ]
  },
  {
   "cell_type": "code",
   "execution_count": 28,
   "metadata": {
    "scrolled": true
   },
   "outputs": [
    {
     "name": "stdout",
     "output_type": "stream",
     "text": [
      "converged SCF energy = -248.880405572223\n",
      "converged SCF energy = -246.669359007545\n",
      "converged SCF energy = -244.473924318857\n",
      "converged SCF energy = -242.294200319184\n",
      "converged SCF energy = -240.130283420113\n",
      "converged SCF energy = -237.98226731176\n",
      "converged SCF energy = -235.850242684843\n"
     ]
    }
   ],
   "source": [
    "dms=[]\n",
    "for dl in [-.15,-.1,-.05,0.,0.05,0.1,0.15]:\n",
    "    dms.append(e_alc_path(HAl,dl)[0])"
   ]
  },
  {
   "cell_type": "code",
   "execution_count": 29,
   "metadata": {},
   "outputs": [
    {
     "name": "stdout",
     "output_type": "stream",
     "text": [
      "-168.06661055990344\n",
      "-169.08128357876558\n",
      "-168.79024529550225\n",
      "-168.53511713445187\n",
      "-168.77458310127258\n"
     ]
    }
   ],
   "source": [
    "for o in range (2,7):\n",
    "    print((alc_pred7(dms,2.,dh=.05,o=o)))"
   ]
  },
  {
   "cell_type": "code",
   "execution_count": 26,
   "metadata": {},
   "outputs": [
    {
     "name": "stdout",
     "output_type": "stream",
     "text": [
      "converged SCF energy = -173.282502865262\n",
      "converged SCF energy = -171.738500571412\n",
      "converged SCF energy = -170.211216331715\n",
      "converged SCF energy = -168.700594107588\n",
      "converged SCF energy = -167.206574693957\n",
      "converged SCF energy = -165.729095995568\n",
      "converged SCF energy = -164.268093312437\n"
     ]
    }
   ],
   "source": [
    "dms=[]\n",
    "for dl in [1.85,1.9,1.95,2.0,2.05,2.1,2.15]:\n",
    "    dms.append(e_alc_path(HAl,dl)[0])"
   ]
  },
  {
   "cell_type": "code",
   "execution_count": 27,
   "metadata": {
    "scrolled": true
   },
   "outputs": [
    {
     "name": "stdout",
     "output_type": "stream",
     "text": [
      "-242.07546330995888\n",
      "-242.72314739754074\n",
      "-242.414699325338\n",
      "-242.1750158071518\n",
      "-242.2269767522812\n"
     ]
    }
   ],
   "source": [
    "for o in range (2,7):\n",
    "    print((alc_pred7(dms,-2.,dh=.05,o=o)))"
   ]
  },
  {
   "cell_type": "code",
   "execution_count": null,
   "metadata": {},
   "outputs": [],
   "source": []
  }
 ],
 "metadata": {
  "kernelspec": {
   "display_name": "Python 3",
   "language": "python",
   "name": "python3"
  },
  "language_info": {
   "codemirror_mode": {
    "name": "ipython",
    "version": 3
   },
   "file_extension": ".py",
   "mimetype": "text/x-python",
   "name": "python",
   "nbconvert_exporter": "python",
   "pygments_lexer": "ipython3",
   "version": "3.6.8"
  }
 },
 "nbformat": 4,
 "nbformat_minor": 2
}
