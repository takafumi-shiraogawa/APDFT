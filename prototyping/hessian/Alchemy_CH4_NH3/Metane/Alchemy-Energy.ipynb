{
 "cells": [
  {
   "cell_type": "code",
   "execution_count": null,
   "metadata": {},
   "outputs": [],
   "source": [
    "from horton import *\n",
    "import numpy as np\n",
    "from numpy.linalg import norm\n",
    "from numpy import dot,cross\n",
    "import scipy as sp\n",
    "Methane=IOData.from_file('Methane.xyz')\n",
    "#print Methane.numbers\n",
    "#Methane.coordinates*=angstrom\n",
    "log.set_level(0)\n",
    "CO=IOData.from_file('co.xyz')\n",
    "NN=IOData.from_file('nn.xyz')"
   ]
  },
  {
   "cell_type": "code",
   "execution_count": 2,
   "metadata": {},
   "outputs": [],
   "source": [
    "def uhf (mol,obasis,get_dms=False):\n",
    "    lf=DenseLinalgFactory(obasis.nbasis)\n",
    "    #orbital integrals\n",
    "    olp=obasis.compute_overlap(lf)\n",
    "    kin=obasis.compute_kinetic(lf)\n",
    "    na=obasis.compute_nuclear_attraction(mol.coordinates,mol.pseudo_numbers,lf)\n",
    "    er=obasis.compute_electron_repulsion(lf)\n",
    "    \n",
    "    exp_alpha=lf.create_expansion()\n",
    "    exp_beta=lf.create_expansion()\n",
    "\n",
    "    guess_core_hamiltonian(olp, kin, na, exp_alpha,exp_beta)\n",
    "    Num_elec=sum(mol.numbers)\n",
    "    occ_model=AufbauOccModel(int(Num_elec/2),int(Num_elec/2))\n",
    "    occ_model.assign(exp_alpha, exp_beta)\n",
    "    external = {'nn': compute_nucnuc(mol.coordinates, mol.pseudo_numbers)}\n",
    "    terms = [\n",
    "        UTwoIndexTerm(kin, 'kin'),\n",
    "        UDirectTerm(er, 'hartree'),\n",
    "        UExchangeTerm(er, 'x_hf'),\n",
    "        UTwoIndexTerm(na, 'ne'),\n",
    "    ]\n",
    "    ham = UEffHam(terms, external)\n",
    "    dm_alpha = exp_alpha.to_dm()\n",
    "    dm_beta = exp_beta.to_dm()\n",
    "    # - SCF solver\n",
    "    scf_solver = EDIIS2SCFSolver(1e-10,maxiter=200)\n",
    "    scf_solver(ham, lf, olp, occ_model, dm_alpha, dm_beta)\n",
    "    \n",
    "    grid=BeckeMolGrid(mol.coordinates,mol.numbers,mol.numbers, random_rotate=False,agspec='insane')\n",
    "    rho_alpha = obasis.compute_grid_density_dm(dm_alpha, grid.points)\n",
    "    rho_beta = obasis.compute_grid_density_dm(dm_beta, grid.points)\n",
    "    rho=rho_alpha+rho_beta\n",
    "    if get_dms:\n",
    "        return ham.cache['energy'],rho,dm_alpha,dm_beta,ham.cache['dm_full'] \n",
    "    return ham.cache['energy'],rho "
   ]
  },
  {
   "cell_type": "code",
   "execution_count": 7,
   "metadata": {},
   "outputs": [
    {
     "name": "stdout",
     "output_type": "stream",
     "text": [
      "\n"
     ]
    }
   ],
   "source": [
    "def E_DM(mol,obasis,da,db,df):\n",
    "    lf=DenseLinalgFactory(obasis.nbasis)\n",
    "    #orbital integrals\n",
    "    olp=obasis.compute_overlap(lf)\n",
    "    kin=obasis.compute_kinetic(lf)\n",
    "    na=obasis.compute_nuclear_attraction(mol.coordinates,mol.pseudo_numbers,lf)\n",
    "    er=obasis.compute_electron_repulsion(lf)\n",
    "    E0=compute_nucnuc(mol.coordinates, mol.pseudo_numbers)\n",
    "    ### single electron terms\n",
    "    E0+=df.contract_two('ab,ab',na)+df.contract_two('ab,ab',kin)\n",
    "    #### two electron operatprs +++++++++  Coulomb and Hartree Fock exchange \n",
    "    E0+=er.contract_two_to_two('abcd,ac->bd',df).contract_two('ab,ab',df)*0.5\n",
    "    E0-=er.contract_two_to_two('abcd,ab->cd',da).contract_two('ab,ab',da)*0.5\n",
    "    E0-=er.contract_two_to_two('abcd,ab->cd',db).contract_two('ab,ab',db)*0.5\n",
    "    return E0 "
   ]
  },
  {
   "cell_type": "code",
   "execution_count": 10,
   "metadata": {},
   "outputs": [],
   "source": [
    "basis_set='def2-TZVP'"
   ]
  },
  {
   "cell_type": "code",
   "execution_count": 11,
   "metadata": {},
   "outputs": [
    {
     "name": "stdout",
     "output_type": "stream",
     "text": [
      "co energy -112.7855220993662\n",
      "nn with co_DM -108.55331528953053\n",
      "nn true energy -108.97953010822461\n",
      "number of electrons with new basis set 13.9744565447\n",
      "nn with co_DM normalized -108.68104156924012\n"
     ]
    }
   ],
   "source": [
    "co_basis=get_gobasis(CO.coordinates,CO.numbers,basis_set)\n",
    "nn_basis=get_gobasis(NN.coordinates,NN.numbers,basis_set)\n",
    "en,r,da,db,df=uhf(CO,co_basis,get_dms=True)\n",
    "print 'co energy',en\n",
    "print 'nn with co_DM', E_DM(NN,nn_basis,da,db,df)\n",
    "print 'nn true energy', uhf(NN,nn_basis)[0]\n",
    "lf=DenseLinalgFactory(nn_basis.nbasis)\n",
    "olp=nn_basis.compute_overlap(lf)\n",
    "num_el=olp.contract_two('ab,ab',df) \n",
    "print 'number of electrons with new basis set',num_el\n",
    "df._array*=14/olp.contract_two('ab,ab',df)\n",
    "da._array*=7/olp.contract_two('ab,ab',da)\n",
    "db._array*=7/olp.contract_two('ab,ab',db)\n",
    "print 'nn with co_DM normalized', E_DM(NN,nn_basis,da,db,df)"
   ]
  },
  {
   "cell_type": "code",
   "execution_count": 13,
   "metadata": {},
   "outputs": [
    {
     "name": "stdout",
     "output_type": "stream",
     "text": [
      "nn energy -108.97953010822461\n",
      "co with nn_DM -112.33616840212746\n",
      "co true energy -112.7855220993662\n",
      "number of electrons with new basis set 13.9545719232\n",
      "co with nn_DM normalized -112.57862608763449\n"
     ]
    }
   ],
   "source": [
    "en,r,da,db,df=uhf(NN,nn_basis,get_dms=True)\n",
    "print 'nn energy',en\n",
    "print 'co with nn_DM', E_DM(CO,co_basis,da,db,df)\n",
    "print 'co true energy', uhf(CO,co_basis)[0]\n",
    "lf=DenseLinalgFactory(co_basis.nbasis)\n",
    "olp=co_basis.compute_overlap(lf)\n",
    "num_el=olp.contract_two('ab,ab',df) \n",
    "print 'number of electrons with new basis set',num_el\n",
    "df._array*=14/olp.contract_two('ab,ab',df)\n",
    "da._array*=7/olp.contract_two('ab,ab',da)\n",
    "db._array*=7/olp.contract_two('ab,ab',db)\n",
    "print 'co with nn_DM normalized', E_DM(CO,co_basis,da,db,df)"
   ]
  },
  {
   "cell_type": "code",
   "execution_count": 4,
   "metadata": {},
   "outputs": [
    {
     "name": "stdout",
     "output_type": "stream",
     "text": [
      "================================================================================\n",
      " _ __ _\n",
      "/ (..) \\ Welcome to HORTON 2.1.1!\n",
      "\\/ || \\/\n",
      " |_''_|  HORTON is written and maintained by by Toon Verstraelen (1).\n",
      "\n",
      "         This version contains contributions from Toon Verstraelen (1), Pawel Tecmer (2),\n",
      "         Farnaz Heidar-Zadeh (2), Cristina E. González-Espinoza (2), Matthew Chan (2),\n",
      "         Taewon D. Kim (2), Katharina Boguslawski (2), Stijn Fias (3),\n",
      "         Steven Vandenbrande (1), Diego Berrocal (2), and Paul W. Ayers (2)\n",
      "\n",
      "         (1) Center for Molecular Modeling (CMM), Ghent University, Ghent, Belgium.\n",
      "         (2) The Ayers Group, McMaster University, Hamilton, Ontario, Canada.\n",
      "         (3) General Chemistry (ALGC), Free University of Brussels, Brussels, Belgium.\n",
      "\n",
      "         More information about HORTON can be found on this website:\n",
      "         http://theochem.github.com/horton/\n",
      "\n",
      "         The purpose of this log file is to track the progress and quality of a\n",
      "         computation. Useful numerical output may be written to a checkpoint\n",
      "         file and is accessible through the Python scripting interface.\n",
      "\n",
      "================================================================================\n",
      "\n",
      "User:           giorgiod\n",
      "Machine info:   Linux pc-avl42 4.15.0-52-generic #56-Ubuntu SMP Tue Jun 4 22:49:08 UTC 2019 x86_64\n",
      "Time:           2019-06-28T15:39:55.334978\n",
      "Python version: 2.7.15+ (default, Nov 27 2018, 23:36:35) [GCC 7.3.0]\n",
      "HORTON version: 2.1.1\n",
      "Current Dir:    /home/giorgiod/Documents/APDFT/prototyping/hessian/Alchemy_CH4_NH3/Metane\n",
      "Command line:   /home/giorgiod/.local/lib/python2.7/site-packages/ipykernel_launcher.py -f\n",
      "                /run/user/1002/jupyter/kernel-7defd8b4-1354-44b8-99ce-7bbe358d8ed2.json\n",
      "HORTON module:  /home/giorgiod/.local/lib/python2.7/site-packages/horton/log.pyc\n",
      "\n",
      "Initialized: <horton.gbasis.cext.GOBasis object at 0x7efd54ba76d0>\n",
      "  Number of basis functions         : 17\n",
      "  Number of normalization constants : 38\n",
      "  Maximum shell type                : 1\n",
      "  Center     0 :  S6 S3 P3 S1 P1\n",
      "  Center     1 :  S3 S1\n",
      "  Center     2 :  S3 S1\n",
      "  Center     3 :  S3 S1\n",
      "  Center     4 :  S3 S1\n",
      "\n",
      "Initialized: <horton.gbasis.cext.GOBasis object at 0x7efd54ba7808>\n",
      "  Number of basis functions         : 9\n",
      "  Number of normalization constants : 22\n",
      "  Maximum shell type                : 1\n",
      "  Center     0 :  S6 S3 P3 S1 P1\n",
      "\n",
      "Initialized: <horton.gbasis.cext.GOBasis object at 0x7efd54ba77a0>\n",
      "  Number of basis functions         : 26\n",
      "  Number of normalization constants : 60\n",
      "  Maximum shell type                : 1\n",
      "  Center     0 :  S6 S3 P3 S1 P1\n",
      "  Center     1 :  S3 S1\n",
      "  Center     2 :  S3 S1\n",
      "  Center     3 :  S3 S1\n",
      "  Center     4 :  S3 S1\n",
      "  Center     5 :  S6 S3 P3 S1 P1\n",
      "\n"
     ]
    }
   ],
   "source": [
    "basis_set='6-31G'\n",
    "ch4_basis=get_gobasis(Methane.coordinates,Methane.numbers,basis_set)\n",
    "N_basis=get_gobasis(Methane.coordinates[0:1],np.array([7]),basis_set)\n",
    "alc_basis=GOBasis.concatenate(ch4_basis,N_basis)"
   ]
  },
  {
   "cell_type": "code",
   "execution_count": 6,
   "metadata": {},
   "outputs": [
    {
     "name": "stderr",
     "output_type": "stream",
     "text": [
      "/home/giorgiod/.local/lib/python2.7/site-packages/horton/quadprog.py:621: FutureWarning: `rcond` parameter will change to the default of machine precision times ``max(M, N)`` where M and N are the input matrix dimensions.\n",
      "To use the future default and silence this warning we advise to pass `rcond=None`, to keep using the old, explicitly pass `rcond=-1`.\n",
      "  lagrange = np.linalg.lstsq(r_free.T, -g_free)[0]\n"
     ]
    },
    {
     "data": {
      "text/plain": [
       "(-40.18152266777305,\n",
       " array([1.18246393e+02, 1.18246393e+02, 1.18246393e+02, ...,\n",
       "        2.23452526e-59, 2.59747995e-67, 4.30643180e-51]))"
      ]
     },
     "execution_count": 6,
     "metadata": {},
     "output_type": "execute_result"
    }
   ],
   "source": [
    "uhf(Methane,alc_basis)"
   ]
  },
  {
   "cell_type": "code",
   "execution_count": 7,
   "metadata": {},
   "outputs": [],
   "source": [
    "gridc=BeckeMolGrid(Methane.coordinates,Methane.numbers,Methane.numbers, random_rotate=False,agspec='insane')"
   ]
  },
  {
   "cell_type": "code",
   "execution_count": 8,
   "metadata": {},
   "outputs": [],
   "source": [
    "e0,rho0=uhf(Methane,alc_basis)"
   ]
  },
  {
   "cell_type": "code",
   "execution_count": 9,
   "metadata": {},
   "outputs": [],
   "source": [
    "h=0.05\n",
    "Methane.pseudo_numbers[0]+=h\n",
    "Methane.pseudo_numbers[4]-=h\n",
    "e1,rho1=uhf(Methane,alc_basis)"
   ]
  },
  {
   "cell_type": "code",
   "execution_count": 10,
   "metadata": {},
   "outputs": [],
   "source": [
    "Methane.pseudo_numbers[0]-=2*h\n",
    "Methane.pseudo_numbers[4]+=2*h\n",
    "e2,rho2=uhf(Methane,alc_basis)"
   ]
  },
  {
   "cell_type": "code",
   "execution_count": 11,
   "metadata": {},
   "outputs": [
    {
     "data": {
      "text/plain": [
       "array([5.95, 1.  , 1.  , 1.  , 1.05])"
      ]
     },
     "execution_count": 11,
     "metadata": {},
     "output_type": "execute_result"
    }
   ],
   "source": [
    "Methane.pseudo_numbers"
   ]
  },
  {
   "cell_type": "code",
   "execution_count": 12,
   "metadata": {},
   "outputs": [],
   "source": [
    "Ammonia=IOData()\n",
    "Ammonia.coordinates=Methane.coordinates[:-1]\n",
    "Ammonia.numbers=numbers=np.array([7,1,1,1])\n",
    "Ammonia.pseudo_numbers=np.array([7.,1.,1.,1.])\n",
    "nh3_basis=get_gobasis(Ammonia.coordinates,Ammonia.numbers,basis_set)\n",
    "C_basis=get_gobasis(Methane.coordinates[0:1],np.array([6]),basis_set)\n",
    "nh3c_basis=GOBasis.concatenate(nh3_basis,C_basis)"
   ]
  },
  {
   "cell_type": "code",
   "execution_count": 13,
   "metadata": {},
   "outputs": [
    {
     "data": {
      "text/plain": [
       "-2.435371246841294"
      ]
     },
     "execution_count": 13,
     "metadata": {},
     "output_type": "execute_result"
    }
   ],
   "source": [
    "DVNN=compute_nucnuc(Ammonia.coordinates,Ammonia.pseudo_numbers)\\\n",
    "-compute_nucnuc(Methane.coordinates, Methane.pseudo_numbers)\n",
    "DVNN"
   ]
  },
  {
   "cell_type": "code",
   "execution_count": 14,
   "metadata": {},
   "outputs": [
    {
     "data": {
      "text/plain": [
       "(-56.144426148514476, -56.15027240144965)"
      ]
     },
     "execution_count": 14,
     "metadata": {},
     "output_type": "execute_result"
    }
   ],
   "source": [
    "e_nh3,rho_nh3 = uhf(Ammonia,nh3_basis)\n",
    "e_nh3c,rho_nh3c = uhf(Ammonia,nh3c_basis)\n",
    "e_nh3,e_nh3c"
   ]
  },
  {
   "cell_type": "code",
   "execution_count": 15,
   "metadata": {},
   "outputs": [],
   "source": [
    "# alchemy second order in energy- first in density \n",
    "coordinates=Methane.coordinates\n",
    "V1=((gridc.points[:, 0]-coordinates[0][0])**2+(gridc.points[:, 1]-coordinates[0][1])**2+\\\n",
    "    (gridc.points[:, 2]-coordinates[0][2])**2)**-0.5\n",
    "V2=((gridc.points[:, 0]-coordinates[4][0])**2+(gridc.points[:, 1]-coordinates[4][1])**2+\\\n",
    "    (gridc.points[:, 2]-coordinates[4][2])**2)**-0.5\n",
    "DV=V2-V1"
   ]
  },
  {
   "cell_type": "code",
   "execution_count": 16,
   "metadata": {},
   "outputs": [
    {
     "data": {
      "text/plain": [
       "(-53.934433310891116, -56.36980455773241)"
      ]
     },
     "execution_count": 16,
     "metadata": {},
     "output_type": "execute_result"
    }
   ],
   "source": [
    "E_est=e0+gridc.integrate(rho0,DV)+0.5*gridc.integrate(rho1-rho2,DV)/2./h\n",
    "E_est,E_est+DVNN"
   ]
  },
  {
   "cell_type": "code",
   "execution_count": 20,
   "metadata": {},
   "outputs": [
    {
     "data": {
      "text/plain": [
       "(-56.15027240144965, -56.25127658764005)"
      ]
     },
     "execution_count": 20,
     "metadata": {},
     "output_type": "execute_result"
    }
   ],
   "source": [
    "E_est=e0+gridc.integrate(rho0,DV)+0.5*gridc.integrate(rho1-rho2,DV)/2/h\\\n",
    "+1/6.*gridc.integrate(rho1-2*rho0+rho2,DV)/h**2\n",
    "e_nh3c,E_est+DVNN"
   ]
  },
  {
   "cell_type": "markdown",
   "metadata": {},
   "source": [
    ".1 Hartree of error  -56.25561967818483 vs -56.15385511303025 "
   ]
  }
 ],
 "metadata": {
  "kernelspec": {
   "display_name": "Python 2",
   "language": "python",
   "name": "python2"
  },
  "language_info": {
   "codemirror_mode": {
    "name": "ipython",
    "version": 3
   },
   "file_extension": ".py",
   "mimetype": "text/x-python",
   "name": "python",
   "nbconvert_exporter": "python",
   "pygments_lexer": "ipython3",
   "version": "3.6.8"
  }
 },
 "nbformat": 4,
 "nbformat_minor": 2
}
